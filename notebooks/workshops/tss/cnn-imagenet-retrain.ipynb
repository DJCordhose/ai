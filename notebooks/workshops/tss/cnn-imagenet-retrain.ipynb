{
 "cells": [
  {
   "cell_type": "markdown",
   "metadata": {},
   "source": [
    "# Retrain a VGG16 Architecture\n",
    "* https://keras.io/applications/#vgg16\n",
    "* https://blog.keras.io/building-powerful-image-classification-models-using-very-little-data.html\n",
    "* https://github.com/fchollet/deep-learning-with-python-notebooks/blob/master/5.3-using-a-pretrained-convnet.ipynb"
   ]
  },
  {
   "cell_type": "code",
   "execution_count": 1,
   "metadata": {
    "collapsed": true
   },
   "outputs": [],
   "source": [
    "import warnings\n",
    "warnings.filterwarnings('ignore')"
   ]
  },
  {
   "cell_type": "code",
   "execution_count": 2,
   "metadata": {},
   "outputs": [
    {
     "name": "stdout",
     "output_type": "stream",
     "text": [
      "Populating the interactive namespace from numpy and matplotlib\n"
     ]
    }
   ],
   "source": [
    "%matplotlib inline\n",
    "%pylab inline"
   ]
  },
  {
   "cell_type": "code",
   "execution_count": 3,
   "metadata": {
    "collapsed": true
   },
   "outputs": [],
   "source": [
    "import matplotlib.pylab as plt\n",
    "import numpy as np"
   ]
  },
  {
   "cell_type": "code",
   "execution_count": 4,
   "metadata": {
    "collapsed": true
   },
   "outputs": [],
   "source": [
    "from distutils.version import StrictVersion"
   ]
  },
  {
   "cell_type": "code",
   "execution_count": 5,
   "metadata": {},
   "outputs": [
    {
     "name": "stdout",
     "output_type": "stream",
     "text": [
      "0.18.1\n"
     ]
    }
   ],
   "source": [
    "import sklearn\n",
    "print(sklearn.__version__)\n",
    "\n",
    "assert StrictVersion(sklearn.__version__ ) >= StrictVersion('0.18.1')"
   ]
  },
  {
   "cell_type": "code",
   "execution_count": 6,
   "metadata": {},
   "outputs": [
    {
     "name": "stdout",
     "output_type": "stream",
     "text": [
      "1.2.1\n"
     ]
    }
   ],
   "source": [
    "import tensorflow as tf\n",
    "tf.logging.set_verbosity(tf.logging.ERROR)\n",
    "print(tf.__version__)\n",
    "\n",
    "assert StrictVersion(tf.__version__) >= StrictVersion('1.1.0')"
   ]
  },
  {
   "cell_type": "code",
   "execution_count": 7,
   "metadata": {},
   "outputs": [
    {
     "name": "stderr",
     "output_type": "stream",
     "text": [
      "Using TensorFlow backend.\n"
     ]
    },
    {
     "name": "stdout",
     "output_type": "stream",
     "text": [
      "2.0.8\n"
     ]
    }
   ],
   "source": [
    "import keras\n",
    "print(keras.__version__)\n",
    "\n",
    "assert StrictVersion(keras.__version__) >= StrictVersion('2.0.0')"
   ]
  },
  {
   "cell_type": "code",
   "execution_count": 8,
   "metadata": {},
   "outputs": [
    {
     "name": "stdout",
     "output_type": "stream",
     "text": [
      "0.20.1\n"
     ]
    }
   ],
   "source": [
    "import pandas as pd\n",
    "print(pd.__version__)\n",
    "\n",
    "assert StrictVersion(pd.__version__) >= StrictVersion('0.20.0')"
   ]
  },
  {
   "cell_type": "markdown",
   "metadata": {},
   "source": [
    "## Preparation"
   ]
  },
  {
   "cell_type": "code",
   "execution_count": 9,
   "metadata": {
    "collapsed": true
   },
   "outputs": [],
   "source": [
    "# the larger the longer it takes, be sure to also adapt input layer size auf vgg network to this value\n",
    "\n",
    "INPUT_SHAPE = (64, 64)\n",
    "# INPUT_SHAPE = (128, 128)\n",
    "# INPUT_SHAPE = (256, 256)"
   ]
  },
  {
   "cell_type": "code",
   "execution_count": 10,
   "metadata": {
    "collapsed": true
   },
   "outputs": [],
   "source": [
    "EPOCHS = 50"
   ]
  },
  {
   "cell_type": "code",
   "execution_count": 11,
   "metadata": {
    "collapsed": true
   },
   "outputs": [],
   "source": [
    "# Depends on harware GPU architecture, set as high as possible (this works well on K80)\n",
    "BATCH_SIZE = 100"
   ]
  },
  {
   "cell_type": "code",
   "execution_count": 12,
   "metadata": {
    "collapsed": true
   },
   "outputs": [],
   "source": [
    "!rm -rf ./tf_log\n",
    "# https://keras.io/callbacks/#tensorboard\n",
    "tb_callback = keras.callbacks.TensorBoard(log_dir='./tf_log')\n",
    "# To start tensorboard\n",
    "# tensorboard --logdir=./tf_log\n",
    "# open http://localhost:6006"
   ]
  },
  {
   "cell_type": "code",
   "execution_count": 13,
   "metadata": {},
   "outputs": [
    {
     "name": "stdout",
     "output_type": "stream",
     "text": [
      "total 317M\r\n",
      "-rw-rw-r-- 1 ubuntu ubuntu  44K Oct  1 08:04 440px-Beagle_Upsy.jpg\r\n",
      "drwxrwxr-x 8 ubuntu ubuntu 4.0K Oct  1 08:10 augmented-signs\r\n",
      "-rw-rw-r-- 1 ubuntu ubuntu  17M Oct  1 08:10 augmented-signs.zip\r\n",
      "-rw-rw-r-- 1 ubuntu ubuntu 303K Sep 27 15:22 Black_New_York_stuy_town_squirrel_amanda_ernlund.jpeg\r\n",
      "-rw-rw-r-- 1 ubuntu ubuntu 844K Oct  1 08:04 cat-bonkers.png\r\n",
      "-rw-rw-r-- 1 ubuntu ubuntu 140K Sep 27 15:22 cnn-augmentation.ipynb\r\n",
      "-rw-rw-r-- 1 ubuntu ubuntu 1.6M Oct  1 08:04 cnn-comparing-all-models.ipynb\r\n",
      "-rw-rw-r-- 1 ubuntu ubuntu 484K Oct  1 09:57 cnn-imagenet-retrain.ipynb\r\n",
      "-rw-rw-r-- 1 ubuntu ubuntu 158K Oct  1 08:04 cnn-intro.ipynb\r\n",
      "-rw-rw-r-- 1 ubuntu ubuntu 1.3M Oct  1 08:04 cnn-prediction.ipynb\r\n",
      "-rw-rw-r-- 1 ubuntu ubuntu 158K Oct  1 08:04 cnn-standard-architectures.ipynb\r\n",
      "-rw-rw-r-- 1 ubuntu ubuntu 198K Oct  1 08:04 cnn-train-augmented.ipynb\r\n",
      "-rw-rw-r-- 1 ubuntu ubuntu 495K Sep 27 15:22 london.jpg\r\n",
      "drwxrwxr-x 3 ubuntu ubuntu 4.0K Sep 27 15:25 __MACOSX\r\n",
      "-rw-rw-r-- 1 ubuntu ubuntu 127K Sep 27 15:22 Michigan-MSU-raschka.jpg\r\n",
      "-rw-rw-r-- 1 ubuntu ubuntu 519K Oct  1 08:04 ml-intro.ipynb\r\n",
      "-rw-rw-r-- 1 ubuntu ubuntu 286K Oct  1 08:21 nn-intro.ipynb\r\n",
      "-rw-rw-r-- 1 ubuntu ubuntu   63 Sep 27 15:22 README.html\r\n",
      "-rw-rw-r-- 1 ubuntu ubuntu   36 Oct  1 08:04 sample_iris.json\r\n",
      "drwxrwxr-x 8 ubuntu ubuntu 4.0K Sep 27 15:25 speed-limit-signs\r\n",
      "-rw-rw-r-- 1 ubuntu ubuntu 344K Oct  1 08:04 speed-limit-signs.ipynb\r\n",
      "-rw-rw-r-- 1 ubuntu ubuntu 1.8M Oct  1 08:09 speed-limit-signs.zip\r\n",
      "-rw-rw-r-- 1 ubuntu ubuntu  88M Oct  1 09:56 vgg16-augmented-retrained-fine-tuned.hdf5\r\n",
      "-rw-rw-r-- 1 ubuntu ubuntu  59M Oct  1 08:52 vgg16-augmented-retrained.hdf5\r\n",
      "-rw-rw-r-- 1 ubuntu ubuntu  88M Oct  1 09:56 vgg16-retrained-fine-tuned.hdf5\r\n",
      "-rw-rw-r-- 1 ubuntu ubuntu  59M Oct  1 09:26 vgg16-retrained.hdf5\r\n",
      "-rw-rw-r-- 1 ubuntu ubuntu  14K Oct  1 08:11 workshop.ipynb\r\n"
     ]
    }
   ],
   "source": [
    "!ls -lh"
   ]
  },
  {
   "cell_type": "code",
   "execution_count": 14,
   "metadata": {
    "collapsed": true
   },
   "outputs": [],
   "source": [
    "import os\n",
    "import skimage.data\n",
    "import skimage.transform\n",
    "from keras.utils.np_utils import to_categorical\n",
    "import numpy as np\n",
    "\n",
    "def load_data(data_dir, type=\".ppm\"):\n",
    "    num_categories = 6\n",
    "\n",
    "    # Get all subdirectories of data_dir. Each represents a label.\n",
    "    directories = [d for d in os.listdir(data_dir) \n",
    "                   if os.path.isdir(os.path.join(data_dir, d))]\n",
    "    # Loop through the label directories and collect the data in\n",
    "    # two lists, labels and images.\n",
    "    labels = []\n",
    "    images = []\n",
    "    for d in directories:\n",
    "        label_dir = os.path.join(data_dir, d)\n",
    "        file_names = [os.path.join(label_dir, f) for f in os.listdir(label_dir) if f.endswith(type)]\n",
    "        # For each label, load it's images and add them to the images list.\n",
    "        # And add the label number (i.e. directory name) to the labels list.\n",
    "        for f in file_names:\n",
    "            images.append(skimage.data.imread(f))\n",
    "            labels.append(int(d))\n",
    "    images64 = [skimage.transform.resize(image, INPUT_SHAPE) for image in images]\n",
    "    y = np.array(labels)\n",
    "    y = to_categorical(y, num_categories)\n",
    "    X = np.array(images64)\n",
    "    return X, y"
   ]
  },
  {
   "cell_type": "code",
   "execution_count": 15,
   "metadata": {
    "collapsed": true
   },
   "outputs": [],
   "source": [
    "# Load datasets.\n",
    "ROOT_PATH = \"./\"\n",
    "original_dir = os.path.join(ROOT_PATH, \"speed-limit-signs\")\n",
    "original_images, original_labels = load_data(original_dir, type=\".ppm\")"
   ]
  },
  {
   "cell_type": "code",
   "execution_count": 16,
   "metadata": {
    "collapsed": true
   },
   "outputs": [],
   "source": [
    "X, y = original_images, original_labels"
   ]
  },
  {
   "cell_type": "markdown",
   "metadata": {},
   "source": [
    "### Uncomment next three cells if you want to train on augmented image set\n",
    "#### Otherwise Overfitting can not be avoided because image set is simply too small"
   ]
  },
  {
   "cell_type": "code",
   "execution_count": 17,
   "metadata": {
    "collapsed": true
   },
   "outputs": [],
   "source": [
    "# !curl -O https://raw.githubusercontent.com/DJCordhose/speed-limit-signs/master/data/augmented-signs.zip\n",
    "# from zipfile import ZipFile\n",
    "# zip = ZipFile('augmented-signs.zip')\n",
    "# zip.extractall('.')"
   ]
  },
  {
   "cell_type": "code",
   "execution_count": 18,
   "metadata": {
    "collapsed": true
   },
   "outputs": [],
   "source": [
    "data_dir = os.path.join(ROOT_PATH, \"augmented-signs\")\n",
    "augmented_images, augmented_labels = load_data(data_dir, type=\".png\")"
   ]
  },
  {
   "cell_type": "code",
   "execution_count": 19,
   "metadata": {
    "collapsed": true
   },
   "outputs": [],
   "source": [
    "# merge both data sets\n",
    "\n",
    "all_images = np.vstack((X, augmented_images))\n",
    "all_labels = np.vstack((y, augmented_labels))\n",
    "\n",
    "# shuffle\n",
    "# https://stackoverflow.com/a/4602224\n",
    "\n",
    "p = numpy.random.permutation(len(all_labels))\n",
    "shuffled_images = all_images[p]\n",
    "shuffled_labels = all_labels[p]\n",
    "X, y = shuffled_images, shuffled_labels"
   ]
  },
  {
   "cell_type": "markdown",
   "metadata": {},
   "source": [
    "### Split test and train data 80% to 20%"
   ]
  },
  {
   "cell_type": "code",
   "execution_count": 20,
   "metadata": {},
   "outputs": [
    {
     "data": {
      "text/plain": [
       "((3335, 64, 64, 3), (3335, 6))"
      ]
     },
     "execution_count": 20,
     "metadata": {},
     "output_type": "execute_result"
    }
   ],
   "source": [
    "from sklearn.model_selection import train_test_split\n",
    "X_train, X_test, y_train, y_test = train_test_split(X, y, test_size=0.2, random_state=42, stratify=y)\n",
    "X_train.shape, y_train.shape"
   ]
  },
  {
   "cell_type": "markdown",
   "metadata": {},
   "source": [
    "## First Step: Load VGG pretrained on imagenet and remove classifier\n",
    "### Hope: Feature Extraction will also work well for Speed Limit Signs"
   ]
  },
  {
   "cell_type": "markdown",
   "metadata": {},
   "source": [
    "![VGG architecture](https://djcordhose.github.io/ai/img/sketch/vgg-no-classifier.png)"
   ]
  },
  {
   "cell_type": "markdown",
   "metadata": {},
   "source": [
    "### Imagenet\n",
    "* Collection of labelled images from many categories\n",
    "* http://image-net.org/"
   ]
  },
  {
   "cell_type": "markdown",
   "metadata": {},
   "source": [
    "http://image-net.org/about-stats\n",
    "\n",
    "<table class=\"table-stats\" style=\"width: 500px\">\n",
    "<tbody><tr>\n",
    "<td width=\"25%\"><b>High level category</b></td>\n",
    "<td width=\"20%\"><b># synset (subcategories)</b></td>\n",
    "<td width=\"30%\"><b>Avg # images per synset</b></td>\n",
    "<td width=\"25%\"><b>Total # images</b></td>\n",
    "</tr>\n",
    "\n",
    "<tr><td>amphibian</td><td>94</td><td>591</td><td>56K</td></tr>\n",
    "\n",
    "<tr><td>animal</td><td>3822</td><td>732</td><td>2799K</td></tr>\n",
    "\n",
    "<tr><td>appliance</td><td>51</td><td>1164</td><td>59K</td></tr>\n",
    "\n",
    "<tr><td>bird</td><td>856</td><td>949</td><td>812K</td></tr>\n",
    "\n",
    "<tr><td>covering</td><td>946</td><td>819</td><td>774K</td></tr>\n",
    "\n",
    "<tr><td>device</td><td>2385</td><td>675</td><td>1610K</td></tr>\n",
    "\n",
    "<tr><td>fabric</td><td>262</td><td>690</td><td>181K</td></tr>\n",
    "\n",
    "<tr><td>fish</td><td>566</td><td>494</td><td>280K</td></tr>\n",
    "\n",
    "<tr><td>flower</td><td>462</td><td>735</td><td>339K</td></tr>\n",
    "\n",
    "<tr><td>food</td><td>1495</td><td>670</td><td>1001K</td></tr>\n",
    "\n",
    "<tr><td>fruit</td><td>309</td><td>607</td><td>188K</td></tr>\n",
    "\n",
    "<tr><td>fungus</td><td>303</td><td>453</td><td>137K</td></tr>\n",
    "\n",
    "<tr><td>furniture</td><td>187</td><td>1043</td><td>195K</td></tr>\n",
    "\n",
    "<tr><td>geological formation</td><td>151</td><td>838</td><td>127K</td></tr>\n",
    "\n",
    "<tr><td>invertebrate</td><td>728</td><td>573</td><td>417K</td></tr>\n",
    "\n",
    "<tr><td>mammal</td><td>1138</td><td>821</td><td>934K</td></tr>\n",
    "\n",
    "<tr><td>musical instrument</td><td>157</td><td>891</td><td>140K</td></tr>\n",
    "\n",
    "\n",
    "<tr><td>plant</td><td>1666</td><td>600</td><td>999K</td></tr>\n",
    "\n",
    "<tr><td>reptile</td><td>268</td><td>707</td><td>190K</td></tr>\n",
    "\n",
    "<tr><td>sport</td><td>166</td><td>1207</td><td>200K</td></tr>\n",
    "\n",
    "<tr><td>structure</td><td>1239</td><td>763</td><td>946K</td></tr>\n",
    "\n",
    "<tr><td>tool</td><td>316</td><td>551</td><td>174K</td></tr>\n",
    "\n",
    "<tr><td>tree</td><td>993</td><td>568</td><td>564K</td></tr>\n",
    "\n",
    "<tr><td>utensil</td><td>86</td><td>912</td><td>78K</td></tr>\n",
    "\n",
    "<tr><td>vegetable</td><td>176</td><td>764</td><td>135K</td></tr>\n",
    "\n",
    "<tr><td>vehicle</td><td>481</td><td>778</td><td>374K</td></tr>\n",
    "\n",
    "<tr><td>person</td><td>2035</td><td>468</td><td>952K</td></tr>\n",
    "\n",
    "</tbody></table>"
   ]
  },
  {
   "cell_type": "markdown",
   "metadata": {},
   "source": [
    "### Might be more suitable for cats and dogs, but is the best we have right now"
   ]
  },
  {
   "cell_type": "code",
   "execution_count": 21,
   "metadata": {
    "collapsed": true
   },
   "outputs": [],
   "source": [
    "from keras import applications\n",
    "# applications.VGG16?\n",
    "vgg_model = applications.VGG16(include_top=False, weights='imagenet', input_shape=(64, 64, 3))\n",
    "# vgg_model = applications.VGG16(include_top=False, weights='imagenet', input_shape=(128, 128, 3))\n",
    "# vgg_model = applications.VGG16(include_top=False, weights='imagenet', input_shape=(256, 256, 3))"
   ]
  },
  {
   "cell_type": "markdown",
   "metadata": {},
   "source": [
    "### All Convolutional Blocks are kept fully trained, we just removed the classifier part"
   ]
  },
  {
   "cell_type": "code",
   "execution_count": 22,
   "metadata": {},
   "outputs": [
    {
     "name": "stdout",
     "output_type": "stream",
     "text": [
      "_________________________________________________________________\n",
      "Layer (type)                 Output Shape              Param #   \n",
      "=================================================================\n",
      "input_1 (InputLayer)         (None, 64, 64, 3)         0         \n",
      "_________________________________________________________________\n",
      "block1_conv1 (Conv2D)        (None, 64, 64, 64)        1792      \n",
      "_________________________________________________________________\n",
      "block1_conv2 (Conv2D)        (None, 64, 64, 64)        36928     \n",
      "_________________________________________________________________\n",
      "block1_pool (MaxPooling2D)   (None, 32, 32, 64)        0         \n",
      "_________________________________________________________________\n",
      "block2_conv1 (Conv2D)        (None, 32, 32, 128)       73856     \n",
      "_________________________________________________________________\n",
      "block2_conv2 (Conv2D)        (None, 32, 32, 128)       147584    \n",
      "_________________________________________________________________\n",
      "block2_pool (MaxPooling2D)   (None, 16, 16, 128)       0         \n",
      "_________________________________________________________________\n",
      "block3_conv1 (Conv2D)        (None, 16, 16, 256)       295168    \n",
      "_________________________________________________________________\n",
      "block3_conv2 (Conv2D)        (None, 16, 16, 256)       590080    \n",
      "_________________________________________________________________\n",
      "block3_conv3 (Conv2D)        (None, 16, 16, 256)       590080    \n",
      "_________________________________________________________________\n",
      "block3_pool (MaxPooling2D)   (None, 8, 8, 256)         0         \n",
      "_________________________________________________________________\n",
      "block4_conv1 (Conv2D)        (None, 8, 8, 512)         1180160   \n",
      "_________________________________________________________________\n",
      "block4_conv2 (Conv2D)        (None, 8, 8, 512)         2359808   \n",
      "_________________________________________________________________\n",
      "block4_conv3 (Conv2D)        (None, 8, 8, 512)         2359808   \n",
      "_________________________________________________________________\n",
      "block4_pool (MaxPooling2D)   (None, 4, 4, 512)         0         \n",
      "_________________________________________________________________\n",
      "block5_conv1 (Conv2D)        (None, 4, 4, 512)         2359808   \n",
      "_________________________________________________________________\n",
      "block5_conv2 (Conv2D)        (None, 4, 4, 512)         2359808   \n",
      "_________________________________________________________________\n",
      "block5_conv3 (Conv2D)        (None, 4, 4, 512)         2359808   \n",
      "_________________________________________________________________\n",
      "block5_pool (MaxPooling2D)   (None, 2, 2, 512)         0         \n",
      "=================================================================\n",
      "Total params: 14,714,688\n",
      "Trainable params: 14,714,688\n",
      "Non-trainable params: 0\n",
      "_________________________________________________________________\n"
     ]
    }
   ],
   "source": [
    "vgg_model.summary()"
   ]
  },
  {
   "cell_type": "markdown",
   "metadata": {},
   "source": [
    "### Next step is to push all our signs through the net just once and record the output of bottleneck features\n",
    "#### Don't get confused: this is no training, yet, this just is recording the prediction in order not to repeat this expensive step over and over again when we train the classifier later"
   ]
  },
  {
   "cell_type": "code",
   "execution_count": 23,
   "metadata": {},
   "outputs": [
    {
     "name": "stdout",
     "output_type": "stream",
     "text": [
      "CPU times: user 7.03 s, sys: 1.34 s, total: 8.36 s\n",
      "Wall time: 7.86 s\n"
     ]
    }
   ],
   "source": [
    "# will take a while, but not really long depending on size and number of input images\n",
    "\n",
    "%time bottleneck_features_train = vgg_model.predict(X_train)"
   ]
  },
  {
   "cell_type": "code",
   "execution_count": 24,
   "metadata": {},
   "outputs": [
    {
     "data": {
      "text/plain": [
       "(3335, 2, 2, 512)"
      ]
     },
     "execution_count": 24,
     "metadata": {},
     "output_type": "execute_result"
    }
   ],
   "source": [
    "bottleneck_features_train.shape"
   ]
  },
  {
   "cell_type": "markdown",
   "metadata": {},
   "source": [
    "## What does this mean?\n",
    "* 303 predictions for 303 images or 3335 predictions for 3335 images when using augmented data set\n",
    "* 512 bottleneck feature per prediction\n",
    "* each bottleneck feature has a size of 2x2, just a blob more or less\n",
    "* bottleneck feature has larger size when we increase size of input images (might be a good idea)\n",
    "  * 4x4 when using 128x128 as input\n",
    "  * 8x8 when using 256x256 as input"
   ]
  },
  {
   "cell_type": "code",
   "execution_count": 25,
   "metadata": {
    "collapsed": true
   },
   "outputs": [],
   "source": [
    "first_bottleneck_feature = bottleneck_features_train[0,:,:, 0]"
   ]
  },
  {
   "cell_type": "code",
   "execution_count": 26,
   "metadata": {},
   "outputs": [
    {
     "data": {
      "text/plain": [
       "array([[ 0.        ,  0.        ],\n",
       "       [ 1.00562787,  0.80484837]], dtype=float32)"
      ]
     },
     "execution_count": 26,
     "metadata": {},
     "output_type": "execute_result"
    }
   ],
   "source": [
    "first_bottleneck_feature"
   ]
  },
  {
   "cell_type": "markdown",
   "metadata": {},
   "source": [
    "## Now we create a new classifier and train it with this output and the labels from ground truth\n",
    "### Classifier is copied from our first VGG style network"
   ]
  },
  {
   "cell_type": "code",
   "execution_count": 27,
   "metadata": {
    "collapsed": true
   },
   "outputs": [],
   "source": [
    "input_shape = bottleneck_features_train.shape[1:]"
   ]
  },
  {
   "cell_type": "code",
   "execution_count": 28,
   "metadata": {
    "collapsed": true
   },
   "outputs": [],
   "source": [
    "from keras.models import Model\n",
    "from keras.layers import Dense, Dropout, Flatten, Input\n",
    "\n",
    "# try and vary between .4 and .75\n",
    "drop_out = 0.50\n",
    "\n",
    "inputs = Input(shape=input_shape)\n",
    "\n",
    "x = Flatten()(inputs)\n",
    "\n",
    "# this is an additional dropout to compensate for the missing one after bottleneck features\n",
    "x = Dropout(drop_out)(x)\n",
    "\n",
    "x = Dense(256, activation='relu')(x)\n",
    "x = Dropout(drop_out)(x)\n",
    "\n",
    "# softmax activation, 6 categories\n",
    "predictions = Dense(6, activation='softmax')(x)"
   ]
  },
  {
   "cell_type": "code",
   "execution_count": 29,
   "metadata": {},
   "outputs": [
    {
     "name": "stdout",
     "output_type": "stream",
     "text": [
      "_________________________________________________________________\n",
      "Layer (type)                 Output Shape              Param #   \n",
      "=================================================================\n",
      "input_2 (InputLayer)         (None, 2, 2, 512)         0         \n",
      "_________________________________________________________________\n",
      "flatten_1 (Flatten)          (None, 2048)              0         \n",
      "_________________________________________________________________\n",
      "dropout_1 (Dropout)          (None, 2048)              0         \n",
      "_________________________________________________________________\n",
      "dense_1 (Dense)              (None, 256)               524544    \n",
      "_________________________________________________________________\n",
      "dropout_2 (Dropout)          (None, 256)               0         \n",
      "_________________________________________________________________\n",
      "dense_2 (Dense)              (None, 6)                 1542      \n",
      "=================================================================\n",
      "Total params: 526,086\n",
      "Trainable params: 526,086\n",
      "Non-trainable params: 0\n",
      "_________________________________________________________________\n"
     ]
    }
   ],
   "source": [
    "classifier_model = Model(input=inputs, output=predictions)\n",
    "classifier_model.summary()"
   ]
  },
  {
   "cell_type": "code",
   "execution_count": 30,
   "metadata": {
    "collapsed": true
   },
   "outputs": [],
   "source": [
    "classifier_model.compile(optimizer='adam',\n",
    "              loss='categorical_crossentropy',\n",
    "              metrics=['accuracy'])"
   ]
  },
  {
   "cell_type": "code",
   "execution_count": 31,
   "metadata": {
    "collapsed": true
   },
   "outputs": [],
   "source": [
    "!rm -rf tf_log\n",
    "# https://keras.io/callbacks/#tensorboard\n",
    "tb_callback = keras.callbacks.TensorBoard(log_dir='./tf_log')\n",
    "# To start tensorboard\n",
    "# tensorboard --logdir=/mnt/c/Users/olive/Development/ml/tf_log\n",
    "# open http://localhost:6006"
   ]
  },
  {
   "cell_type": "markdown",
   "metadata": {},
   "source": [
    "## This is a very simple architecture and should train pretty fast\n",
    "* it overfits by quite a bit"
   ]
  },
  {
   "cell_type": "code",
   "execution_count": 32,
   "metadata": {},
   "outputs": [
    {
     "name": "stdout",
     "output_type": "stream",
     "text": [
      "Train on 2668 samples, validate on 667 samples\n",
      "Epoch 1/500\n",
      "2668/2668 [==============================] - 0s - loss: 1.9313 - acc: 0.2631 - val_loss: 1.5613 - val_acc: 0.3808\n",
      "Epoch 2/500\n",
      "2668/2668 [==============================] - 0s - loss: 1.5772 - acc: 0.3388 - val_loss: 1.4332 - val_acc: 0.4438\n",
      "Epoch 3/500\n",
      "2668/2668 [==============================] - 0s - loss: 1.4668 - acc: 0.3842 - val_loss: 1.2979 - val_acc: 0.5367\n",
      "Epoch 4/500\n",
      "2668/2668 [==============================] - 0s - loss: 1.3743 - acc: 0.4460 - val_loss: 1.2098 - val_acc: 0.5412\n",
      "Epoch 5/500\n",
      "2668/2668 [==============================] - 0s - loss: 1.3106 - acc: 0.4588 - val_loss: 1.1373 - val_acc: 0.6012\n",
      "Epoch 6/500\n",
      "2668/2668 [==============================] - 0s - loss: 1.2661 - acc: 0.4925 - val_loss: 1.0884 - val_acc: 0.6087\n",
      "Epoch 7/500\n",
      "2668/2668 [==============================] - 0s - loss: 1.2029 - acc: 0.5097 - val_loss: 1.0473 - val_acc: 0.6192\n",
      "Epoch 8/500\n",
      "2668/2668 [==============================] - 0s - loss: 1.1595 - acc: 0.5277 - val_loss: 0.9929 - val_acc: 0.6432\n",
      "Epoch 9/500\n",
      "2668/2668 [==============================] - 0s - loss: 1.1214 - acc: 0.5588 - val_loss: 0.9836 - val_acc: 0.6342\n",
      "Epoch 10/500\n",
      "2668/2668 [==============================] - 0s - loss: 1.0987 - acc: 0.5667 - val_loss: 0.9488 - val_acc: 0.6522\n",
      "Epoch 11/500\n",
      "2668/2668 [==============================] - 0s - loss: 1.0737 - acc: 0.5772 - val_loss: 0.9073 - val_acc: 0.6837\n",
      "Epoch 12/500\n",
      "2668/2668 [==============================] - 0s - loss: 1.0563 - acc: 0.5753 - val_loss: 0.9015 - val_acc: 0.6747\n",
      "Epoch 13/500\n",
      "2668/2668 [==============================] - 0s - loss: 1.0037 - acc: 0.5933 - val_loss: 0.8568 - val_acc: 0.7091\n",
      "Epoch 14/500\n",
      "2668/2668 [==============================] - 0s - loss: 0.9666 - acc: 0.6147 - val_loss: 0.8590 - val_acc: 0.6897\n",
      "Epoch 15/500\n",
      "2668/2668 [==============================] - 0s - loss: 0.9726 - acc: 0.6173 - val_loss: 0.8313 - val_acc: 0.7166\n",
      "Epoch 16/500\n",
      "2668/2668 [==============================] - 0s - loss: 0.9065 - acc: 0.6451 - val_loss: 0.8082 - val_acc: 0.6852\n",
      "Epoch 17/500\n",
      "2668/2668 [==============================] - 0s - loss: 0.9164 - acc: 0.6421 - val_loss: 0.8006 - val_acc: 0.7166\n",
      "Epoch 18/500\n",
      "2668/2668 [==============================] - 0s - loss: 0.9330 - acc: 0.6364 - val_loss: 0.7842 - val_acc: 0.7151\n",
      "Epoch 19/500\n",
      "2668/2668 [==============================] - 0s - loss: 0.8751 - acc: 0.6615 - val_loss: 0.7639 - val_acc: 0.7151\n",
      "Epoch 20/500\n",
      "2668/2668 [==============================] - 0s - loss: 0.8550 - acc: 0.6623 - val_loss: 0.7529 - val_acc: 0.7316\n",
      "Epoch 21/500\n",
      "2668/2668 [==============================] - 0s - loss: 0.8536 - acc: 0.6642 - val_loss: 0.7481 - val_acc: 0.7211\n",
      "Epoch 22/500\n",
      "2668/2668 [==============================] - 0s - loss: 0.8495 - acc: 0.6758 - val_loss: 0.7315 - val_acc: 0.7466\n",
      "Epoch 23/500\n",
      "2668/2668 [==============================] - 0s - loss: 0.8167 - acc: 0.6769 - val_loss: 0.7213 - val_acc: 0.7511\n",
      "Epoch 24/500\n",
      "2668/2668 [==============================] - 0s - loss: 0.8052 - acc: 0.6949 - val_loss: 0.7193 - val_acc: 0.7466\n",
      "Epoch 25/500\n",
      "2668/2668 [==============================] - 0s - loss: 0.7895 - acc: 0.6979 - val_loss: 0.7020 - val_acc: 0.7436\n",
      "Epoch 26/500\n",
      "2668/2668 [==============================] - 0s - loss: 0.7852 - acc: 0.6934 - val_loss: 0.6860 - val_acc: 0.7451\n",
      "Epoch 27/500\n",
      "2668/2668 [==============================] - 0s - loss: 0.7583 - acc: 0.7080 - val_loss: 0.6751 - val_acc: 0.7691\n",
      "Epoch 28/500\n",
      "2668/2668 [==============================] - 0s - loss: 0.7584 - acc: 0.7009 - val_loss: 0.6640 - val_acc: 0.7616\n",
      "Epoch 29/500\n",
      "2668/2668 [==============================] - 0s - loss: 0.7340 - acc: 0.7155 - val_loss: 0.6643 - val_acc: 0.7646\n",
      "Epoch 30/500\n",
      "2668/2668 [==============================] - 0s - loss: 0.7375 - acc: 0.7144 - val_loss: 0.6574 - val_acc: 0.7736\n",
      "Epoch 31/500\n",
      "2668/2668 [==============================] - 0s - loss: 0.7439 - acc: 0.7050 - val_loss: 0.6569 - val_acc: 0.7676\n",
      "Epoch 32/500\n",
      "2668/2668 [==============================] - 0s - loss: 0.6879 - acc: 0.7354 - val_loss: 0.6299 - val_acc: 0.7796\n",
      "Epoch 33/500\n",
      "2668/2668 [==============================] - 0s - loss: 0.7195 - acc: 0.7268 - val_loss: 0.6813 - val_acc: 0.7481\n",
      "Epoch 34/500\n",
      "2668/2668 [==============================] - 0s - loss: 0.6878 - acc: 0.7354 - val_loss: 0.6233 - val_acc: 0.7766\n",
      "Epoch 35/500\n",
      "2668/2668 [==============================] - 0s - loss: 0.6733 - acc: 0.7496 - val_loss: 0.6158 - val_acc: 0.77360.74\n",
      "Epoch 36/500\n",
      "2668/2668 [==============================] - 0s - loss: 0.6905 - acc: 0.7223 - val_loss: 0.6416 - val_acc: 0.7841\n",
      "Epoch 37/500\n",
      "2668/2668 [==============================] - 0s - loss: 0.6609 - acc: 0.7504 - val_loss: 0.6151 - val_acc: 0.77510.74\n",
      "Epoch 38/500\n",
      "2668/2668 [==============================] - 0s - loss: 0.6599 - acc: 0.7455 - val_loss: 0.6182 - val_acc: 0.7871\n",
      "Epoch 39/500\n",
      "2668/2668 [==============================] - 0s - loss: 0.6517 - acc: 0.7545 - val_loss: 0.6096 - val_acc: 0.8066\n",
      "Epoch 40/500\n",
      "2668/2668 [==============================] - 0s - loss: 0.6665 - acc: 0.7455 - val_loss: 0.6061 - val_acc: 0.7916\n",
      "Epoch 41/500\n",
      "2668/2668 [==============================] - 0s - loss: 0.6447 - acc: 0.7579 - val_loss: 0.5925 - val_acc: 0.7946\n",
      "Epoch 42/500\n",
      "2668/2668 [==============================] - 0s - loss: 0.6477 - acc: 0.7541 - val_loss: 0.6073 - val_acc: 0.7871\n",
      "Epoch 43/500\n",
      "2668/2668 [==============================] - 0s - loss: 0.6454 - acc: 0.7459 - val_loss: 0.5997 - val_acc: 0.7886\n",
      "Epoch 44/500\n",
      "2668/2668 [==============================] - 0s - loss: 0.6139 - acc: 0.7631 - val_loss: 0.5697 - val_acc: 0.7931\n",
      "Epoch 45/500\n",
      "2668/2668 [==============================] - 0s - loss: 0.5915 - acc: 0.7781 - val_loss: 0.5601 - val_acc: 0.8006\n",
      "Epoch 46/500\n",
      "2668/2668 [==============================] - 0s - loss: 0.6074 - acc: 0.7762 - val_loss: 0.5760 - val_acc: 0.8066\n",
      "Epoch 47/500\n",
      "2668/2668 [==============================] - 0s - loss: 0.5941 - acc: 0.7717 - val_loss: 0.5672 - val_acc: 0.8051\n",
      "Epoch 48/500\n",
      "2668/2668 [==============================] - 0s - loss: 0.5830 - acc: 0.7830 - val_loss: 0.5488 - val_acc: 0.8096\n",
      "Epoch 49/500\n",
      "2668/2668 [==============================] - 0s - loss: 0.5888 - acc: 0.7725 - val_loss: 0.5589 - val_acc: 0.8006\n",
      "Epoch 50/500\n",
      "2668/2668 [==============================] - 0s - loss: 0.5962 - acc: 0.7747 - val_loss: 0.5640 - val_acc: 0.8066\n",
      "Epoch 51/500\n",
      "2668/2668 [==============================] - 0s - loss: 0.5572 - acc: 0.7886 - val_loss: 0.5446 - val_acc: 0.8261\n",
      "Epoch 52/500\n",
      "2668/2668 [==============================] - 0s - loss: 0.5707 - acc: 0.7740 - val_loss: 0.5570 - val_acc: 0.8156\n",
      "Epoch 53/500\n",
      "2668/2668 [==============================] - 0s - loss: 0.5722 - acc: 0.7631 - val_loss: 0.5637 - val_acc: 0.8021\n",
      "Epoch 54/500\n",
      "2668/2668 [==============================] - 0s - loss: 0.5496 - acc: 0.7950 - val_loss: 0.5424 - val_acc: 0.7931\n",
      "Epoch 55/500\n",
      "2668/2668 [==============================] - 0s - loss: 0.5640 - acc: 0.7894 - val_loss: 0.5475 - val_acc: 0.8081\n",
      "Epoch 56/500\n",
      "2668/2668 [==============================] - 0s - loss: 0.5547 - acc: 0.7976 - val_loss: 0.5548 - val_acc: 0.7856\n",
      "Epoch 57/500\n",
      "2668/2668 [==============================] - 0s - loss: 0.5329 - acc: 0.7987 - val_loss: 0.5383 - val_acc: 0.8066\n",
      "Epoch 58/500\n",
      "2668/2668 [==============================] - 0s - loss: 0.5366 - acc: 0.7954 - val_loss: 0.5436 - val_acc: 0.8141\n",
      "Epoch 59/500\n",
      "2668/2668 [==============================] - 0s - loss: 0.5059 - acc: 0.8055 - val_loss: 0.5276 - val_acc: 0.8291\n",
      "Epoch 60/500\n",
      "2668/2668 [==============================] - 0s - loss: 0.5041 - acc: 0.8186 - val_loss: 0.5294 - val_acc: 0.8201\n",
      "Epoch 61/500\n",
      "2668/2668 [==============================] - 0s - loss: 0.5084 - acc: 0.8058 - val_loss: 0.5104 - val_acc: 0.8261\n",
      "Epoch 62/500\n",
      "2668/2668 [==============================] - 0s - loss: 0.5176 - acc: 0.8043 - val_loss: 0.5101 - val_acc: 0.8291\n",
      "Epoch 63/500\n",
      "2668/2668 [==============================] - 0s - loss: 0.5012 - acc: 0.8208 - val_loss: 0.5073 - val_acc: 0.8396\n",
      "Epoch 64/500\n",
      "2668/2668 [==============================] - 0s - loss: 0.5150 - acc: 0.8058 - val_loss: 0.5018 - val_acc: 0.8156\n",
      "Epoch 65/500\n",
      "2668/2668 [==============================] - 0s - loss: 0.4987 - acc: 0.8130 - val_loss: 0.5124 - val_acc: 0.8351\n",
      "Epoch 66/500\n",
      "2668/2668 [==============================] - 0s - loss: 0.5013 - acc: 0.8088 - val_loss: 0.5054 - val_acc: 0.8321\n",
      "Epoch 67/500\n",
      "2668/2668 [==============================] - 0s - loss: 0.4937 - acc: 0.8126 - val_loss: 0.5063 - val_acc: 0.8306\n",
      "Epoch 68/500\n",
      "2668/2668 [==============================] - 0s - loss: 0.4558 - acc: 0.8310 - val_loss: 0.4895 - val_acc: 0.8231\n",
      "Epoch 69/500\n",
      "2668/2668 [==============================] - 0s - loss: 0.4691 - acc: 0.8283 - val_loss: 0.5029 - val_acc: 0.8156\n",
      "Epoch 70/500\n",
      "2668/2668 [==============================] - 0s - loss: 0.4634 - acc: 0.8268 - val_loss: 0.5117 - val_acc: 0.8201\n",
      "Epoch 71/500\n",
      "2668/2668 [==============================] - 0s - loss: 0.4389 - acc: 0.8392 - val_loss: 0.4875 - val_acc: 0.8366\n",
      "Epoch 72/500\n",
      "2668/2668 [==============================] - 0s - loss: 0.4729 - acc: 0.8201 - val_loss: 0.4909 - val_acc: 0.8291\n",
      "Epoch 73/500\n",
      "2668/2668 [==============================] - 0s - loss: 0.4605 - acc: 0.8238 - val_loss: 0.4796 - val_acc: 0.8441\n",
      "Epoch 74/500\n",
      "2668/2668 [==============================] - 0s - loss: 0.4427 - acc: 0.8336 - val_loss: 0.4853 - val_acc: 0.8336\n",
      "Epoch 75/500\n",
      "2668/2668 [==============================] - 0s - loss: 0.4400 - acc: 0.8396 - val_loss: 0.4937 - val_acc: 0.8261\n",
      "Epoch 76/500\n",
      "2668/2668 [==============================] - 0s - loss: 0.4518 - acc: 0.8332 - val_loss: 0.4833 - val_acc: 0.8351\n",
      "Epoch 77/500\n",
      "2668/2668 [==============================] - 0s - loss: 0.4405 - acc: 0.8411 - val_loss: 0.4807 - val_acc: 0.8366\n",
      "Epoch 78/500\n",
      "2668/2668 [==============================] - 0s - loss: 0.4442 - acc: 0.8328 - val_loss: 0.4898 - val_acc: 0.8066\n",
      "Epoch 79/500\n",
      "2668/2668 [==============================] - 0s - loss: 0.4227 - acc: 0.8411 - val_loss: 0.4726 - val_acc: 0.8411\n",
      "Epoch 80/500\n",
      "2668/2668 [==============================] - 0s - loss: 0.4207 - acc: 0.8396 - val_loss: 0.5007 - val_acc: 0.8291\n",
      "Epoch 81/500\n",
      "2668/2668 [==============================] - 0s - loss: 0.4313 - acc: 0.8385 - val_loss: 0.4958 - val_acc: 0.8396\n",
      "Epoch 82/500\n",
      "2668/2668 [==============================] - 0s - loss: 0.4470 - acc: 0.8336 - val_loss: 0.4608 - val_acc: 0.8591\n",
      "Epoch 83/500\n",
      "2668/2668 [==============================] - 0s - loss: 0.4272 - acc: 0.8403 - val_loss: 0.4699 - val_acc: 0.8396\n",
      "Epoch 84/500\n",
      "2668/2668 [==============================] - 0s - loss: 0.4483 - acc: 0.8321 - val_loss: 0.4527 - val_acc: 0.8411\n",
      "Epoch 85/500\n",
      "2668/2668 [==============================] - 0s - loss: 0.4146 - acc: 0.8478 - val_loss: 0.4711 - val_acc: 0.8561\n",
      "Epoch 86/500\n",
      "2668/2668 [==============================] - 0s - loss: 0.4132 - acc: 0.8486 - val_loss: 0.4737 - val_acc: 0.8411\n",
      "Epoch 87/500\n",
      "2668/2668 [==============================] - 0s - loss: 0.4181 - acc: 0.8504 - val_loss: 0.4764 - val_acc: 0.8261\n",
      "Epoch 88/500\n",
      "2668/2668 [==============================] - 0s - loss: 0.4014 - acc: 0.8534 - val_loss: 0.4710 - val_acc: 0.8426\n",
      "Epoch 89/500\n",
      "2668/2668 [==============================] - 0s - loss: 0.3951 - acc: 0.8553 - val_loss: 0.4632 - val_acc: 0.8231\n",
      "Epoch 90/500\n",
      "2668/2668 [==============================] - 0s - loss: 0.4056 - acc: 0.8534 - val_loss: 0.4615 - val_acc: 0.8306\n",
      "Epoch 91/500\n",
      "2668/2668 [==============================] - 0s - loss: 0.3894 - acc: 0.8594 - val_loss: 0.4454 - val_acc: 0.8486\n",
      "Epoch 92/500\n",
      "2668/2668 [==============================] - 0s - loss: 0.4104 - acc: 0.8493 - val_loss: 0.4572 - val_acc: 0.8396\n",
      "Epoch 93/500\n",
      "2668/2668 [==============================] - 0s - loss: 0.3762 - acc: 0.8591 - val_loss: 0.4711 - val_acc: 0.8396\n",
      "Epoch 94/500\n",
      "2668/2668 [==============================] - 0s - loss: 0.3900 - acc: 0.8651 - val_loss: 0.4596 - val_acc: 0.8531\n",
      "Epoch 95/500\n",
      "2668/2668 [==============================] - 0s - loss: 0.3715 - acc: 0.8583 - val_loss: 0.4593 - val_acc: 0.8441\n",
      "Epoch 96/500\n",
      "2668/2668 [==============================] - 0s - loss: 0.3784 - acc: 0.8591 - val_loss: 0.4763 - val_acc: 0.8351\n",
      "Epoch 97/500\n",
      "2668/2668 [==============================] - 0s - loss: 0.3915 - acc: 0.8557 - val_loss: 0.4621 - val_acc: 0.8456\n",
      "Epoch 98/500\n",
      "2668/2668 [==============================] - 0s - loss: 0.3892 - acc: 0.8538 - val_loss: 0.4654 - val_acc: 0.8336\n",
      "Epoch 99/500\n",
      "2668/2668 [==============================] - 0s - loss: 0.3902 - acc: 0.8534 - val_loss: 0.4590 - val_acc: 0.8336\n",
      "Epoch 100/500\n",
      "2668/2668 [==============================] - 0s - loss: 0.3732 - acc: 0.8602 - val_loss: 0.4571 - val_acc: 0.8591\n",
      "Epoch 101/500\n",
      "2668/2668 [==============================] - 0s - loss: 0.4147 - acc: 0.8403 - val_loss: 0.4680 - val_acc: 0.8471\n",
      "Epoch 102/500\n",
      "2668/2668 [==============================] - 0s - loss: 0.3664 - acc: 0.8729 - val_loss: 0.4693 - val_acc: 0.8456\n",
      "Epoch 103/500\n",
      "2668/2668 [==============================] - 0s - loss: 0.3672 - acc: 0.8606 - val_loss: 0.4464 - val_acc: 0.8546\n",
      "Epoch 104/500\n",
      "2668/2668 [==============================] - 0s - loss: 0.3441 - acc: 0.8726 - val_loss: 0.4656 - val_acc: 0.8516\n",
      "Epoch 105/500\n",
      "2668/2668 [==============================] - 0s - loss: 0.3490 - acc: 0.8714 - val_loss: 0.4662 - val_acc: 0.8381\n",
      "Epoch 106/500\n",
      "2668/2668 [==============================] - 0s - loss: 0.3921 - acc: 0.8572 - val_loss: 0.4589 - val_acc: 0.8396\n",
      "Epoch 107/500\n",
      "2668/2668 [==============================] - 0s - loss: 0.3628 - acc: 0.8729 - val_loss: 0.4405 - val_acc: 0.8666\n",
      "Epoch 108/500\n",
      "2668/2668 [==============================] - 0s - loss: 0.3545 - acc: 0.8729 - val_loss: 0.4538 - val_acc: 0.8396\n",
      "Epoch 109/500\n",
      "2668/2668 [==============================] - 0s - loss: 0.3383 - acc: 0.8759 - val_loss: 0.4775 - val_acc: 0.8381\n",
      "Epoch 110/500\n",
      "2668/2668 [==============================] - 0s - loss: 0.3675 - acc: 0.8591 - val_loss: 0.4671 - val_acc: 0.8336\n",
      "Epoch 111/500\n",
      "2668/2668 [==============================] - 0s - loss: 0.3423 - acc: 0.8797 - val_loss: 0.4582 - val_acc: 0.8396\n",
      "Epoch 112/500\n",
      "2668/2668 [==============================] - 0s - loss: 0.3298 - acc: 0.8808 - val_loss: 0.4703 - val_acc: 0.8351\n",
      "Epoch 113/500\n",
      "2668/2668 [==============================] - 0s - loss: 0.3793 - acc: 0.8643 - val_loss: 0.4592 - val_acc: 0.8486\n",
      "Epoch 114/500\n",
      "2668/2668 [==============================] - 0s - loss: 0.3319 - acc: 0.8819 - val_loss: 0.4537 - val_acc: 0.8441\n",
      "Epoch 115/500\n",
      "2668/2668 [==============================] - 0s - loss: 0.3291 - acc: 0.8782 - val_loss: 0.4589 - val_acc: 0.8426\n",
      "Epoch 116/500\n",
      "2668/2668 [==============================] - 0s - loss: 0.3545 - acc: 0.8744 - val_loss: 0.4630 - val_acc: 0.8411\n",
      "Epoch 117/500\n",
      "2668/2668 [==============================] - 0s - loss: 0.3323 - acc: 0.8741 - val_loss: 0.4496 - val_acc: 0.8606\n",
      "Epoch 118/500\n",
      "2668/2668 [==============================] - 0s - loss: 0.3498 - acc: 0.8729 - val_loss: 0.4611 - val_acc: 0.8501\n",
      "Epoch 119/500\n",
      "2668/2668 [==============================] - 0s - loss: 0.3491 - acc: 0.8662 - val_loss: 0.4557 - val_acc: 0.8456\n",
      "Epoch 120/500\n",
      "2668/2668 [==============================] - 0s - loss: 0.3566 - acc: 0.8696 - val_loss: 0.4530 - val_acc: 0.8381\n",
      "Epoch 121/500\n",
      "2668/2668 [==============================] - 0s - loss: 0.3331 - acc: 0.8793 - val_loss: 0.4549 - val_acc: 0.8441\n",
      "Epoch 122/500\n",
      "2668/2668 [==============================] - 0s - loss: 0.3617 - acc: 0.8624 - val_loss: 0.4668 - val_acc: 0.8591\n",
      "Epoch 123/500\n",
      "2668/2668 [==============================] - 0s - loss: 0.3297 - acc: 0.8789 - val_loss: 0.4799 - val_acc: 0.8486\n",
      "Epoch 124/500\n",
      "2668/2668 [==============================] - 0s - loss: 0.3434 - acc: 0.8722 - val_loss: 0.4656 - val_acc: 0.8396\n",
      "Epoch 125/500\n",
      "2668/2668 [==============================] - 0s - loss: 0.3217 - acc: 0.8842 - val_loss: 0.4568 - val_acc: 0.8591\n",
      "Epoch 126/500\n",
      "2668/2668 [==============================] - 0s - loss: 0.3320 - acc: 0.8744 - val_loss: 0.4713 - val_acc: 0.8561\n",
      "Epoch 127/500\n",
      "2668/2668 [==============================] - 0s - loss: 0.3189 - acc: 0.8771 - val_loss: 0.4580 - val_acc: 0.8561\n",
      "Epoch 128/500\n",
      "2668/2668 [==============================] - 0s - loss: 0.3003 - acc: 0.8864 - val_loss: 0.4511 - val_acc: 0.8441\n",
      "Epoch 129/500\n"
     ]
    },
    {
     "name": "stdout",
     "output_type": "stream",
     "text": [
      "2668/2668 [==============================] - 0s - loss: 0.3178 - acc: 0.8793 - val_loss: 0.4603 - val_acc: 0.8336\n",
      "Epoch 130/500\n",
      "2668/2668 [==============================] - 0s - loss: 0.3056 - acc: 0.8894 - val_loss: 0.4625 - val_acc: 0.8426\n",
      "Epoch 131/500\n",
      "2668/2668 [==============================] - 0s - loss: 0.3118 - acc: 0.8774 - val_loss: 0.4730 - val_acc: 0.8366\n",
      "Epoch 132/500\n",
      "2668/2668 [==============================] - 0s - loss: 0.3319 - acc: 0.8759 - val_loss: 0.4636 - val_acc: 0.8561\n",
      "Epoch 133/500\n",
      "2668/2668 [==============================] - 0s - loss: 0.3333 - acc: 0.8722 - val_loss: 0.4463 - val_acc: 0.8561\n",
      "Epoch 134/500\n",
      "2668/2668 [==============================] - 0s - loss: 0.2976 - acc: 0.8913 - val_loss: 0.4490 - val_acc: 0.8396\n",
      "Epoch 135/500\n",
      "2668/2668 [==============================] - 0s - loss: 0.3217 - acc: 0.8864 - val_loss: 0.4655 - val_acc: 0.8381\n",
      "Epoch 136/500\n",
      "2668/2668 [==============================] - 0s - loss: 0.3215 - acc: 0.8812 - val_loss: 0.4544 - val_acc: 0.8366\n",
      "Epoch 137/500\n",
      "2668/2668 [==============================] - 0s - loss: 0.2873 - acc: 0.8943 - val_loss: 0.4787 - val_acc: 0.8321\n",
      "Epoch 138/500\n",
      "2668/2668 [==============================] - 0s - loss: 0.3102 - acc: 0.8823 - val_loss: 0.4602 - val_acc: 0.8396\n",
      "Epoch 139/500\n",
      "2668/2668 [==============================] - 0s - loss: 0.3074 - acc: 0.8842 - val_loss: 0.4523 - val_acc: 0.8426\n",
      "Epoch 140/500\n",
      "2668/2668 [==============================] - 0s - loss: 0.3086 - acc: 0.8827 - val_loss: 0.4596 - val_acc: 0.8426\n",
      "Epoch 141/500\n",
      "2668/2668 [==============================] - 0s - loss: 0.3094 - acc: 0.8808 - val_loss: 0.4439 - val_acc: 0.8531\n",
      "Epoch 142/500\n",
      "2668/2668 [==============================] - 0s - loss: 0.3034 - acc: 0.8857 - val_loss: 0.4396 - val_acc: 0.8486\n",
      "Epoch 143/500\n",
      "2668/2668 [==============================] - 0s - loss: 0.2941 - acc: 0.8951 - val_loss: 0.4701 - val_acc: 0.8411\n",
      "Epoch 144/500\n",
      "2668/2668 [==============================] - 0s - loss: 0.3054 - acc: 0.8868 - val_loss: 0.4696 - val_acc: 0.8381\n",
      "Epoch 145/500\n",
      "2668/2668 [==============================] - 0s - loss: 0.2765 - acc: 0.8962 - val_loss: 0.4540 - val_acc: 0.8471\n",
      "Epoch 146/500\n",
      "2668/2668 [==============================] - 0s - loss: 0.3036 - acc: 0.8868 - val_loss: 0.4789 - val_acc: 0.8426\n",
      "Epoch 147/500\n",
      "2668/2668 [==============================] - 0s - loss: 0.2886 - acc: 0.8992 - val_loss: 0.4646 - val_acc: 0.8441\n",
      "Epoch 148/500\n",
      "2668/2668 [==============================] - 0s - loss: 0.2986 - acc: 0.8846 - val_loss: 0.4476 - val_acc: 0.8531\n",
      "Epoch 149/500\n",
      "2668/2668 [==============================] - 0s - loss: 0.2998 - acc: 0.8864 - val_loss: 0.4564 - val_acc: 0.8336\n",
      "Epoch 150/500\n",
      "2668/2668 [==============================] - 0s - loss: 0.2869 - acc: 0.8984 - val_loss: 0.4543 - val_acc: 0.8321\n",
      "Epoch 151/500\n",
      "2668/2668 [==============================] - 0s - loss: 0.2894 - acc: 0.8898 - val_loss: 0.4625 - val_acc: 0.8441\n",
      "Epoch 152/500\n",
      "2668/2668 [==============================] - 0s - loss: 0.2834 - acc: 0.8954 - val_loss: 0.4413 - val_acc: 0.8531\n",
      "Epoch 153/500\n",
      "2668/2668 [==============================] - 0s - loss: 0.2953 - acc: 0.8894 - val_loss: 0.4453 - val_acc: 0.8471\n",
      "Epoch 154/500\n",
      "2668/2668 [==============================] - 0s - loss: 0.2911 - acc: 0.8913 - val_loss: 0.4530 - val_acc: 0.8456\n",
      "Epoch 155/500\n",
      "2668/2668 [==============================] - 0s - loss: 0.2968 - acc: 0.8996 - val_loss: 0.4351 - val_acc: 0.8606\n",
      "Epoch 156/500\n",
      "2668/2668 [==============================] - 0s - loss: 0.2995 - acc: 0.8932 - val_loss: 0.4990 - val_acc: 0.8291\n",
      "Epoch 157/500\n",
      "2668/2668 [==============================] - 0s - loss: 0.2820 - acc: 0.8969 - val_loss: 0.4321 - val_acc: 0.8516\n",
      "Epoch 158/500\n",
      "2668/2668 [==============================] - 0s - loss: 0.2905 - acc: 0.8883 - val_loss: 0.4520 - val_acc: 0.8396\n",
      "Epoch 159/500\n",
      "2668/2668 [==============================] - 0s - loss: 0.2591 - acc: 0.9097 - val_loss: 0.4597 - val_acc: 0.8486\n",
      "Epoch 160/500\n",
      "2668/2668 [==============================] - 0s - loss: 0.2837 - acc: 0.8894 - val_loss: 0.4555 - val_acc: 0.8561\n",
      "Epoch 161/500\n",
      "2668/2668 [==============================] - 0s - loss: 0.2804 - acc: 0.8928 - val_loss: 0.4711 - val_acc: 0.8456\n",
      "Epoch 162/500\n",
      "2668/2668 [==============================] - 0s - loss: 0.2886 - acc: 0.8846 - val_loss: 0.4681 - val_acc: 0.8471\n",
      "Epoch 163/500\n",
      "2668/2668 [==============================] - 0s - loss: 0.2747 - acc: 0.8981 - val_loss: 0.4490 - val_acc: 0.8381\n",
      "Epoch 164/500\n",
      "2668/2668 [==============================] - 0s - loss: 0.2684 - acc: 0.8973 - val_loss: 0.4547 - val_acc: 0.8606\n",
      "Epoch 165/500\n",
      "2668/2668 [==============================] - 0s - loss: 0.2797 - acc: 0.8984 - val_loss: 0.4516 - val_acc: 0.8516\n",
      "Epoch 166/500\n",
      "2668/2668 [==============================] - 0s - loss: 0.2791 - acc: 0.8966 - val_loss: 0.4606 - val_acc: 0.8411\n",
      "Epoch 167/500\n",
      "2668/2668 [==============================] - 0s - loss: 0.3036 - acc: 0.8936 - val_loss: 0.4628 - val_acc: 0.8516\n",
      "Epoch 168/500\n",
      "2668/2668 [==============================] - 0s - loss: 0.2660 - acc: 0.9040 - val_loss: 0.4735 - val_acc: 0.8471\n",
      "Epoch 169/500\n",
      "2668/2668 [==============================] - 0s - loss: 0.2669 - acc: 0.8951 - val_loss: 0.4515 - val_acc: 0.8591\n",
      "Epoch 170/500\n",
      "2668/2668 [==============================] - 0s - loss: 0.2647 - acc: 0.9029 - val_loss: 0.4556 - val_acc: 0.8456\n",
      "Epoch 171/500\n",
      "2668/2668 [==============================] - 0s - loss: 0.2645 - acc: 0.9078 - val_loss: 0.4668 - val_acc: 0.8426\n",
      "Epoch 172/500\n",
      "2668/2668 [==============================] - 0s - loss: 0.2628 - acc: 0.9063 - val_loss: 0.4582 - val_acc: 0.8501\n",
      "Epoch 173/500\n",
      "2668/2668 [==============================] - 0s - loss: 0.2731 - acc: 0.8999 - val_loss: 0.4559 - val_acc: 0.8471\n",
      "Epoch 174/500\n",
      "2668/2668 [==============================] - 0s - loss: 0.2907 - acc: 0.8954 - val_loss: 0.4475 - val_acc: 0.8456\n",
      "Epoch 175/500\n",
      "2668/2668 [==============================] - 0s - loss: 0.2447 - acc: 0.9063 - val_loss: 0.4594 - val_acc: 0.8501\n",
      "Epoch 176/500\n",
      "2668/2668 [==============================] - 0s - loss: 0.2743 - acc: 0.8981 - val_loss: 0.4739 - val_acc: 0.8381\n",
      "Epoch 177/500\n",
      "2668/2668 [==============================] - 0s - loss: 0.2688 - acc: 0.9055 - val_loss: 0.4571 - val_acc: 0.8501\n",
      "Epoch 178/500\n",
      "2668/2668 [==============================] - 0s - loss: 0.2442 - acc: 0.9130 - val_loss: 0.4632 - val_acc: 0.8561\n",
      "Epoch 179/500\n",
      "2668/2668 [==============================] - 0s - loss: 0.2640 - acc: 0.9085 - val_loss: 0.4453 - val_acc: 0.8576\n",
      "Epoch 180/500\n",
      "2668/2668 [==============================] - 0s - loss: 0.2727 - acc: 0.8999 - val_loss: 0.4728 - val_acc: 0.8546\n",
      "Epoch 181/500\n",
      "2668/2668 [==============================] - 0s - loss: 0.2456 - acc: 0.9037 - val_loss: 0.4574 - val_acc: 0.8501\n",
      "Epoch 182/500\n",
      "2668/2668 [==============================] - 0s - loss: 0.2768 - acc: 0.9003 - val_loss: 0.4542 - val_acc: 0.8591\n",
      "Epoch 183/500\n",
      "2668/2668 [==============================] - 0s - loss: 0.2656 - acc: 0.9063 - val_loss: 0.4728 - val_acc: 0.8351\n",
      "Epoch 184/500\n",
      "2668/2668 [==============================] - 0s - loss: 0.2365 - acc: 0.9097 - val_loss: 0.4656 - val_acc: 0.8471\n",
      "Epoch 185/500\n",
      "2668/2668 [==============================] - 0s - loss: 0.2770 - acc: 0.8932 - val_loss: 0.4551 - val_acc: 0.8561\n",
      "Epoch 186/500\n",
      "2668/2668 [==============================] - 0s - loss: 0.2484 - acc: 0.9074 - val_loss: 0.4428 - val_acc: 0.8516\n",
      "Epoch 187/500\n",
      "2668/2668 [==============================] - 0s - loss: 0.2472 - acc: 0.9108 - val_loss: 0.4555 - val_acc: 0.8486\n",
      "Epoch 188/500\n",
      "2668/2668 [==============================] - 0s - loss: 0.2666 - acc: 0.9003 - val_loss: 0.4676 - val_acc: 0.8486\n",
      "Epoch 189/500\n",
      "2668/2668 [==============================] - 0s - loss: 0.2529 - acc: 0.9108 - val_loss: 0.4437 - val_acc: 0.8576\n",
      "Epoch 190/500\n",
      "2668/2668 [==============================] - 0s - loss: 0.2561 - acc: 0.9067 - val_loss: 0.4771 - val_acc: 0.8651\n",
      "Epoch 191/500\n",
      "2668/2668 [==============================] - 0s - loss: 0.2484 - acc: 0.9055 - val_loss: 0.4836 - val_acc: 0.8456\n",
      "Epoch 192/500\n",
      "2668/2668 [==============================] - 0s - loss: 0.2591 - acc: 0.9082 - val_loss: 0.4728 - val_acc: 0.8441\n",
      "Epoch 193/500\n",
      "2668/2668 [==============================] - 0s - loss: 0.2755 - acc: 0.9022 - val_loss: 0.4722 - val_acc: 0.8426\n",
      "Epoch 194/500\n",
      "2668/2668 [==============================] - 0s - loss: 0.2361 - acc: 0.9149 - val_loss: 0.4731 - val_acc: 0.8441\n",
      "Epoch 195/500\n",
      "2668/2668 [==============================] - 0s - loss: 0.2538 - acc: 0.9078 - val_loss: 0.4631 - val_acc: 0.8486\n",
      "Epoch 196/500\n",
      "2668/2668 [==============================] - 0s - loss: 0.2552 - acc: 0.9089 - val_loss: 0.4698 - val_acc: 0.8426\n",
      "Epoch 197/500\n",
      "2668/2668 [==============================] - 0s - loss: 0.2459 - acc: 0.9070 - val_loss: 0.4549 - val_acc: 0.8576\n",
      "Epoch 198/500\n",
      "2668/2668 [==============================] - 0s - loss: 0.2413 - acc: 0.9112 - val_loss: 0.4619 - val_acc: 0.8651\n",
      "Epoch 199/500\n",
      "2668/2668 [==============================] - 0s - loss: 0.2634 - acc: 0.9018 - val_loss: 0.4414 - val_acc: 0.8546\n",
      "Epoch 200/500\n",
      "2668/2668 [==============================] - 0s - loss: 0.2436 - acc: 0.9168 - val_loss: 0.4530 - val_acc: 0.8561\n",
      "Epoch 201/500\n",
      "2668/2668 [==============================] - 0s - loss: 0.2402 - acc: 0.9123 - val_loss: 0.4429 - val_acc: 0.8531\n",
      "Epoch 202/500\n",
      "2668/2668 [==============================] - 0s - loss: 0.2342 - acc: 0.9157 - val_loss: 0.4724 - val_acc: 0.8336\n",
      "Epoch 203/500\n",
      "2668/2668 [==============================] - 0s - loss: 0.2473 - acc: 0.9018 - val_loss: 0.4668 - val_acc: 0.8456\n",
      "Epoch 204/500\n",
      "2668/2668 [==============================] - 0s - loss: 0.2336 - acc: 0.9168 - val_loss: 0.4594 - val_acc: 0.8606\n",
      "Epoch 205/500\n",
      "2668/2668 [==============================] - 0s - loss: 0.2460 - acc: 0.9063 - val_loss: 0.4703 - val_acc: 0.8426\n",
      "Epoch 206/500\n",
      "2668/2668 [==============================] - 0s - loss: 0.2490 - acc: 0.9115 - val_loss: 0.4625 - val_acc: 0.8576\n",
      "Epoch 207/500\n",
      "2668/2668 [==============================] - 0s - loss: 0.2442 - acc: 0.9070 - val_loss: 0.4741 - val_acc: 0.8501\n",
      "Epoch 208/500\n",
      "2668/2668 [==============================] - 0s - loss: 0.2419 - acc: 0.9074 - val_loss: 0.4482 - val_acc: 0.8561\n",
      "Epoch 209/500\n",
      "2668/2668 [==============================] - 0s - loss: 0.2509 - acc: 0.9029 - val_loss: 0.4728 - val_acc: 0.8501\n",
      "Epoch 210/500\n",
      "2668/2668 [==============================] - 0s - loss: 0.2567 - acc: 0.9037 - val_loss: 0.4823 - val_acc: 0.8471\n",
      "Epoch 211/500\n",
      "2668/2668 [==============================] - 0s - loss: 0.2403 - acc: 0.9112 - val_loss: 0.4599 - val_acc: 0.8606\n",
      "Epoch 212/500\n",
      "2668/2668 [==============================] - 0s - loss: 0.2585 - acc: 0.9037 - val_loss: 0.4645 - val_acc: 0.8396\n",
      "Epoch 213/500\n",
      "2668/2668 [==============================] - 0s - loss: 0.2488 - acc: 0.9130 - val_loss: 0.4350 - val_acc: 0.8531\n",
      "Epoch 214/500\n",
      "2668/2668 [==============================] - 0s - loss: 0.2336 - acc: 0.9172 - val_loss: 0.4467 - val_acc: 0.8576\n",
      "Epoch 215/500\n",
      "2668/2668 [==============================] - 0s - loss: 0.2375 - acc: 0.9100 - val_loss: 0.4456 - val_acc: 0.8516\n",
      "Epoch 216/500\n",
      "2668/2668 [==============================] - 0s - loss: 0.2271 - acc: 0.9183 - val_loss: 0.4310 - val_acc: 0.8576\n",
      "Epoch 217/500\n",
      "2668/2668 [==============================] - 0s - loss: 0.2436 - acc: 0.9082 - val_loss: 0.4308 - val_acc: 0.8441\n",
      "Epoch 218/500\n",
      "2668/2668 [==============================] - 0s - loss: 0.2327 - acc: 0.9194 - val_loss: 0.4291 - val_acc: 0.8546\n",
      "Epoch 219/500\n",
      "2668/2668 [==============================] - 0s - loss: 0.2346 - acc: 0.9130 - val_loss: 0.4312 - val_acc: 0.8666\n",
      "Epoch 220/500\n",
      "2668/2668 [==============================] - 0s - loss: 0.2411 - acc: 0.9130 - val_loss: 0.4619 - val_acc: 0.8471\n",
      "Epoch 221/500\n",
      "2668/2668 [==============================] - 0s - loss: 0.2296 - acc: 0.9202 - val_loss: 0.4510 - val_acc: 0.8531\n",
      "Epoch 222/500\n",
      "2668/2668 [==============================] - 0s - loss: 0.2151 - acc: 0.9232 - val_loss: 0.4435 - val_acc: 0.8516\n",
      "Epoch 223/500\n",
      "2668/2668 [==============================] - 0s - loss: 0.2169 - acc: 0.9149 - val_loss: 0.4466 - val_acc: 0.8501\n",
      "Epoch 224/500\n",
      "2668/2668 [==============================] - 0s - loss: 0.2184 - acc: 0.9220 - val_loss: 0.4510 - val_acc: 0.8546\n",
      "Epoch 225/500\n",
      "2668/2668 [==============================] - 0s - loss: 0.2209 - acc: 0.9232 - val_loss: 0.4737 - val_acc: 0.8531\n",
      "Epoch 226/500\n",
      "2668/2668 [==============================] - 0s - loss: 0.2359 - acc: 0.9097 - val_loss: 0.4702 - val_acc: 0.8441\n",
      "Epoch 227/500\n",
      "2668/2668 [==============================] - 0s - loss: 0.2402 - acc: 0.9127 - val_loss: 0.4613 - val_acc: 0.8561\n",
      "Epoch 228/500\n",
      "2668/2668 [==============================] - 0s - loss: 0.2313 - acc: 0.9145 - val_loss: 0.4468 - val_acc: 0.8576\n",
      "Epoch 229/500\n",
      "2668/2668 [==============================] - 0s - loss: 0.2336 - acc: 0.9127 - val_loss: 0.4462 - val_acc: 0.8516\n",
      "Epoch 230/500\n",
      "2668/2668 [==============================] - 0s - loss: 0.2404 - acc: 0.9067 - val_loss: 0.4453 - val_acc: 0.8591\n",
      "Epoch 231/500\n",
      "2668/2668 [==============================] - 0s - loss: 0.2233 - acc: 0.9168 - val_loss: 0.4589 - val_acc: 0.8576\n",
      "Epoch 232/500\n",
      "2668/2668 [==============================] - 0s - loss: 0.2334 - acc: 0.9138 - val_loss: 0.4539 - val_acc: 0.8606\n",
      "Epoch 233/500\n",
      "2668/2668 [==============================] - 0s - loss: 0.2350 - acc: 0.9153 - val_loss: 0.4575 - val_acc: 0.8456\n",
      "Epoch 234/500\n",
      "2668/2668 [==============================] - 0s - loss: 0.2333 - acc: 0.9149 - val_loss: 0.4731 - val_acc: 0.8606\n",
      "Epoch 235/500\n",
      "2668/2668 [==============================] - 0s - loss: 0.2311 - acc: 0.9198 - val_loss: 0.4806 - val_acc: 0.8471\n",
      "Epoch 236/500\n",
      "2668/2668 [==============================] - 0s - loss: 0.2352 - acc: 0.9104 - val_loss: 0.5067 - val_acc: 0.8306\n",
      "Epoch 237/500\n",
      "2668/2668 [==============================] - 0s - loss: 0.2321 - acc: 0.9089 - val_loss: 0.4740 - val_acc: 0.8546\n",
      "Epoch 238/500\n",
      "2668/2668 [==============================] - 0s - loss: 0.2213 - acc: 0.9220 - val_loss: 0.4665 - val_acc: 0.8426\n",
      "Epoch 239/500\n",
      "2668/2668 [==============================] - 0s - loss: 0.2244 - acc: 0.9194 - val_loss: 0.4427 - val_acc: 0.8441\n",
      "Epoch 240/500\n",
      "2668/2668 [==============================] - 0s - loss: 0.2212 - acc: 0.9187 - val_loss: 0.4403 - val_acc: 0.8576\n",
      "Epoch 241/500\n",
      "2668/2668 [==============================] - 0s - loss: 0.2128 - acc: 0.9224 - val_loss: 0.4644 - val_acc: 0.8411\n",
      "Epoch 242/500\n",
      "2668/2668 [==============================] - 0s - loss: 0.2286 - acc: 0.9115 - val_loss: 0.4526 - val_acc: 0.8621\n",
      "Epoch 243/500\n",
      "2668/2668 [==============================] - 0s - loss: 0.2226 - acc: 0.9179 - val_loss: 0.4806 - val_acc: 0.8351\n",
      "Epoch 244/500\n",
      "2668/2668 [==============================] - 0s - loss: 0.2117 - acc: 0.9243 - val_loss: 0.4541 - val_acc: 0.8441\n",
      "Epoch 245/500\n",
      "2668/2668 [==============================] - 0s - loss: 0.2332 - acc: 0.9142 - val_loss: 0.4713 - val_acc: 0.8516\n",
      "Epoch 246/500\n",
      "2668/2668 [==============================] - 0s - loss: 0.2171 - acc: 0.9164 - val_loss: 0.4563 - val_acc: 0.8561\n",
      "Epoch 247/500\n",
      "2668/2668 [==============================] - 0s - loss: 0.2241 - acc: 0.9183 - val_loss: 0.4669 - val_acc: 0.8381\n",
      "Epoch 248/500\n",
      "2668/2668 [==============================] - 0s - loss: 0.2261 - acc: 0.9183 - val_loss: 0.4415 - val_acc: 0.8516\n",
      "Epoch 249/500\n",
      "2668/2668 [==============================] - 0s - loss: 0.2145 - acc: 0.9239 - val_loss: 0.4410 - val_acc: 0.8546\n",
      "Epoch 250/500\n",
      "2668/2668 [==============================] - 0s - loss: 0.2250 - acc: 0.9205 - val_loss: 0.4397 - val_acc: 0.8516\n",
      "Epoch 251/500\n",
      "2668/2668 [==============================] - 0s - loss: 0.2273 - acc: 0.9160 - val_loss: 0.4540 - val_acc: 0.8546\n",
      "Epoch 252/500\n",
      "2668/2668 [==============================] - 0s - loss: 0.2415 - acc: 0.9097 - val_loss: 0.4676 - val_acc: 0.8486\n",
      "Epoch 253/500\n",
      "2668/2668 [==============================] - 0s - loss: 0.2006 - acc: 0.9243 - val_loss: 0.4766 - val_acc: 0.8456\n",
      "Epoch 254/500\n",
      "2668/2668 [==============================] - 0s - loss: 0.2075 - acc: 0.9250 - val_loss: 0.4861 - val_acc: 0.8411\n",
      "Epoch 255/500\n",
      "2668/2668 [==============================] - 0s - loss: 0.2273 - acc: 0.9179 - val_loss: 0.4564 - val_acc: 0.8501\n",
      "Epoch 256/500\n",
      "2668/2668 [==============================] - 0s - loss: 0.2213 - acc: 0.9179 - val_loss: 0.4545 - val_acc: 0.8606\n",
      "Epoch 257/500\n"
     ]
    },
    {
     "name": "stdout",
     "output_type": "stream",
     "text": [
      "2668/2668 [==============================] - 0s - loss: 0.2212 - acc: 0.9205 - val_loss: 0.4561 - val_acc: 0.8561\n",
      "Epoch 258/500\n",
      "2668/2668 [==============================] - 0s - loss: 0.2230 - acc: 0.9190 - val_loss: 0.4524 - val_acc: 0.8531\n",
      "Epoch 259/500\n",
      "2668/2668 [==============================] - 0s - loss: 0.2145 - acc: 0.9190 - val_loss: 0.4659 - val_acc: 0.8486\n",
      "Epoch 260/500\n",
      "2668/2668 [==============================] - 0s - loss: 0.1977 - acc: 0.9262 - val_loss: 0.4559 - val_acc: 0.8561\n",
      "Epoch 261/500\n",
      "2668/2668 [==============================] - 0s - loss: 0.2191 - acc: 0.9243 - val_loss: 0.4554 - val_acc: 0.8501\n",
      "Epoch 262/500\n",
      "2668/2668 [==============================] - 0s - loss: 0.2101 - acc: 0.9239 - val_loss: 0.4529 - val_acc: 0.8546\n",
      "Epoch 263/500\n",
      "2668/2668 [==============================] - 0s - loss: 0.2253 - acc: 0.9149 - val_loss: 0.4514 - val_acc: 0.8516\n",
      "Epoch 264/500\n",
      "2668/2668 [==============================] - 0s - loss: 0.2021 - acc: 0.9265 - val_loss: 0.4513 - val_acc: 0.8606\n",
      "Epoch 265/500\n",
      "2668/2668 [==============================] - 0s - loss: 0.2100 - acc: 0.9277 - val_loss: 0.4515 - val_acc: 0.8516\n",
      "Epoch 266/500\n",
      "2668/2668 [==============================] - 0s - loss: 0.2086 - acc: 0.9224 - val_loss: 0.4460 - val_acc: 0.8471\n",
      "Epoch 267/500\n",
      "2668/2668 [==============================] - 0s - loss: 0.2110 - acc: 0.9262 - val_loss: 0.4588 - val_acc: 0.8471\n",
      "Epoch 268/500\n",
      "2668/2668 [==============================] - 0s - loss: 0.2188 - acc: 0.9239 - val_loss: 0.4524 - val_acc: 0.8591\n",
      "Epoch 269/500\n",
      "2668/2668 [==============================] - 0s - loss: 0.2179 - acc: 0.9187 - val_loss: 0.4941 - val_acc: 0.8366\n",
      "Epoch 270/500\n",
      "2668/2668 [==============================] - 0s - loss: 0.1846 - acc: 0.9325 - val_loss: 0.4721 - val_acc: 0.8426\n",
      "Epoch 271/500\n",
      "2668/2668 [==============================] - 0s - loss: 0.2034 - acc: 0.9303 - val_loss: 0.4950 - val_acc: 0.8366\n",
      "Epoch 272/500\n",
      "2668/2668 [==============================] - 0s - loss: 0.2010 - acc: 0.9292 - val_loss: 0.4770 - val_acc: 0.8591\n",
      "Epoch 273/500\n",
      "2668/2668 [==============================] - 0s - loss: 0.2068 - acc: 0.9235 - val_loss: 0.4666 - val_acc: 0.8531\n",
      "Epoch 274/500\n",
      "2668/2668 [==============================] - 0s - loss: 0.2089 - acc: 0.9198 - val_loss: 0.4692 - val_acc: 0.8591\n",
      "Epoch 275/500\n",
      "2668/2668 [==============================] - 0s - loss: 0.2259 - acc: 0.9202 - val_loss: 0.4676 - val_acc: 0.8471\n",
      "Epoch 276/500\n",
      "2668/2668 [==============================] - 0s - loss: 0.2150 - acc: 0.9209 - val_loss: 0.4523 - val_acc: 0.8531\n",
      "Epoch 277/500\n",
      "2668/2668 [==============================] - 0s - loss: 0.2120 - acc: 0.9243 - val_loss: 0.4520 - val_acc: 0.8531\n",
      "Epoch 278/500\n",
      "2668/2668 [==============================] - 0s - loss: 0.2012 - acc: 0.9235 - val_loss: 0.4674 - val_acc: 0.8576\n",
      "Epoch 279/500\n",
      "2668/2668 [==============================] - 0s - loss: 0.2034 - acc: 0.9232 - val_loss: 0.4671 - val_acc: 0.8591\n",
      "Epoch 280/500\n",
      "2668/2668 [==============================] - 0s - loss: 0.2185 - acc: 0.9153 - val_loss: 0.5021 - val_acc: 0.8471\n",
      "Epoch 281/500\n",
      "2668/2668 [==============================] - 0s - loss: 0.1969 - acc: 0.9280 - val_loss: 0.4823 - val_acc: 0.8486\n",
      "Epoch 282/500\n",
      "2668/2668 [==============================] - 0s - loss: 0.1933 - acc: 0.9303 - val_loss: 0.4704 - val_acc: 0.8516\n",
      "Epoch 283/500\n",
      "2668/2668 [==============================] - 0s - loss: 0.1820 - acc: 0.9280 - val_loss: 0.4626 - val_acc: 0.8636\n",
      "Epoch 284/500\n",
      "2668/2668 [==============================] - 0s - loss: 0.2146 - acc: 0.9187 - val_loss: 0.4675 - val_acc: 0.8561\n",
      "Epoch 285/500\n",
      "2668/2668 [==============================] - 0s - loss: 0.2109 - acc: 0.9228 - val_loss: 0.4597 - val_acc: 0.8561\n",
      "Epoch 286/500\n",
      "2668/2668 [==============================] - 0s - loss: 0.2072 - acc: 0.9265 - val_loss: 0.4704 - val_acc: 0.8591\n",
      "Epoch 287/500\n",
      "2668/2668 [==============================] - 0s - loss: 0.1871 - acc: 0.9325 - val_loss: 0.4763 - val_acc: 0.8591\n",
      "Epoch 288/500\n",
      "2668/2668 [==============================] - 0s - loss: 0.2014 - acc: 0.9247 - val_loss: 0.4642 - val_acc: 0.8621\n",
      "Epoch 289/500\n",
      "2668/2668 [==============================] - 0s - loss: 0.1826 - acc: 0.9363 - val_loss: 0.4995 - val_acc: 0.8426\n",
      "Epoch 290/500\n",
      "2668/2668 [==============================] - 0s - loss: 0.2199 - acc: 0.9160 - val_loss: 0.4911 - val_acc: 0.8321\n",
      "Epoch 291/500\n",
      "2668/2668 [==============================] - 0s - loss: 0.1996 - acc: 0.9198 - val_loss: 0.4775 - val_acc: 0.8516\n",
      "Epoch 292/500\n",
      "2668/2668 [==============================] - 0s - loss: 0.2055 - acc: 0.9250 - val_loss: 0.4840 - val_acc: 0.8621\n",
      "Epoch 293/500\n",
      "2668/2668 [==============================] - 0s - loss: 0.1978 - acc: 0.9273 - val_loss: 0.4948 - val_acc: 0.8486\n",
      "Epoch 294/500\n",
      "2668/2668 [==============================] - 0s - loss: 0.2023 - acc: 0.9228 - val_loss: 0.4772 - val_acc: 0.8531\n",
      "Epoch 295/500\n",
      "2668/2668 [==============================] - 0s - loss: 0.1912 - acc: 0.9228 - val_loss: 0.4689 - val_acc: 0.8501\n",
      "Epoch 296/500\n",
      "2668/2668 [==============================] - 0s - loss: 0.1872 - acc: 0.9284 - val_loss: 0.4942 - val_acc: 0.8561\n",
      "Epoch 297/500\n",
      "2668/2668 [==============================] - 0s - loss: 0.2163 - acc: 0.9164 - val_loss: 0.5162 - val_acc: 0.8366\n",
      "Epoch 298/500\n",
      "2668/2668 [==============================] - 0s - loss: 0.2081 - acc: 0.9258 - val_loss: 0.4809 - val_acc: 0.8486\n",
      "Epoch 299/500\n",
      "2668/2668 [==============================] - 0s - loss: 0.2046 - acc: 0.9205 - val_loss: 0.4974 - val_acc: 0.8486\n",
      "Epoch 300/500\n",
      "2668/2668 [==============================] - 0s - loss: 0.1885 - acc: 0.9273 - val_loss: 0.4747 - val_acc: 0.8486\n",
      "Epoch 301/500\n",
      "2668/2668 [==============================] - 0s - loss: 0.1904 - acc: 0.9269 - val_loss: 0.4863 - val_acc: 0.8456\n",
      "Epoch 302/500\n",
      "2668/2668 [==============================] - 0s - loss: 0.1975 - acc: 0.9269 - val_loss: 0.4718 - val_acc: 0.8576\n",
      "Epoch 303/500\n",
      "2668/2668 [==============================] - 0s - loss: 0.1907 - acc: 0.9310 - val_loss: 0.4823 - val_acc: 0.8606\n",
      "Epoch 304/500\n",
      "2668/2668 [==============================] - 0s - loss: 0.1786 - acc: 0.9333 - val_loss: 0.4723 - val_acc: 0.8561\n",
      "Epoch 305/500\n",
      "2668/2668 [==============================] - 0s - loss: 0.2125 - acc: 0.9254 - val_loss: 0.4823 - val_acc: 0.8396\n",
      "Epoch 306/500\n",
      "2668/2668 [==============================] - 0s - loss: 0.1930 - acc: 0.9310 - val_loss: 0.4961 - val_acc: 0.8591\n",
      "Epoch 307/500\n",
      "2668/2668 [==============================] - 0s - loss: 0.2006 - acc: 0.9318 - val_loss: 0.4686 - val_acc: 0.8441\n",
      "Epoch 308/500\n",
      "2668/2668 [==============================] - 0s - loss: 0.1999 - acc: 0.9265 - val_loss: 0.4868 - val_acc: 0.8546\n",
      "Epoch 309/500\n",
      "2668/2668 [==============================] - 0s - loss: 0.2065 - acc: 0.9247 - val_loss: 0.4697 - val_acc: 0.8561\n",
      "Epoch 310/500\n",
      "2668/2668 [==============================] - 0s - loss: 0.2028 - acc: 0.9235 - val_loss: 0.4711 - val_acc: 0.8441\n",
      "Epoch 311/500\n",
      "2668/2668 [==============================] - 0s - loss: 0.1983 - acc: 0.9258 - val_loss: 0.4564 - val_acc: 0.8546\n",
      "Epoch 312/500\n",
      "2668/2668 [==============================] - 0s - loss: 0.2009 - acc: 0.9243 - val_loss: 0.4633 - val_acc: 0.8591\n",
      "Epoch 313/500\n",
      "2668/2668 [==============================] - 0s - loss: 0.1932 - acc: 0.9288 - val_loss: 0.4952 - val_acc: 0.8456\n",
      "Epoch 314/500\n",
      "2668/2668 [==============================] - 0s - loss: 0.1953 - acc: 0.9295 - val_loss: 0.4824 - val_acc: 0.8486\n",
      "Epoch 315/500\n",
      "2668/2668 [==============================] - 0s - loss: 0.2026 - acc: 0.9239 - val_loss: 0.4832 - val_acc: 0.8531\n",
      "Epoch 316/500\n",
      "2668/2668 [==============================] - 0s - loss: 0.2030 - acc: 0.9254 - val_loss: 0.4862 - val_acc: 0.8486\n",
      "Epoch 317/500\n",
      "2668/2668 [==============================] - 0s - loss: 0.2013 - acc: 0.9262 - val_loss: 0.4693 - val_acc: 0.8486\n",
      "Epoch 318/500\n",
      "2668/2668 [==============================] - 0s - loss: 0.1892 - acc: 0.9292 - val_loss: 0.4803 - val_acc: 0.8396\n",
      "Epoch 319/500\n",
      "2668/2668 [==============================] - 0s - loss: 0.2101 - acc: 0.9288 - val_loss: 0.4982 - val_acc: 0.8441\n",
      "Epoch 320/500\n",
      "2668/2668 [==============================] - 0s - loss: 0.1994 - acc: 0.9307 - val_loss: 0.4794 - val_acc: 0.8501\n",
      "Epoch 321/500\n",
      "2668/2668 [==============================] - 0s - loss: 0.1892 - acc: 0.9322 - val_loss: 0.4429 - val_acc: 0.8441\n",
      "Epoch 322/500\n",
      "2668/2668 [==============================] - 0s - loss: 0.1896 - acc: 0.9314 - val_loss: 0.4778 - val_acc: 0.8471\n",
      "Epoch 323/500\n",
      "2668/2668 [==============================] - 0s - loss: 0.1862 - acc: 0.9333 - val_loss: 0.4574 - val_acc: 0.8516\n",
      "Epoch 324/500\n",
      "2668/2668 [==============================] - 0s - loss: 0.2068 - acc: 0.9273 - val_loss: 0.4596 - val_acc: 0.8531\n",
      "Epoch 325/500\n",
      "2668/2668 [==============================] - 0s - loss: 0.1984 - acc: 0.9310 - val_loss: 0.4811 - val_acc: 0.8486\n",
      "Epoch 326/500\n",
      "2668/2668 [==============================] - 0s - loss: 0.1837 - acc: 0.9318 - val_loss: 0.4651 - val_acc: 0.8651\n",
      "Epoch 327/500\n",
      "2668/2668 [==============================] - 0s - loss: 0.1686 - acc: 0.9415 - val_loss: 0.4923 - val_acc: 0.8456\n",
      "Epoch 328/500\n",
      "2668/2668 [==============================] - 0s - loss: 0.2169 - acc: 0.9239 - val_loss: 0.4756 - val_acc: 0.8426\n",
      "Epoch 329/500\n",
      "2668/2668 [==============================] - 0s - loss: 0.1935 - acc: 0.9299 - val_loss: 0.4697 - val_acc: 0.8456\n",
      "Epoch 330/500\n",
      "2668/2668 [==============================] - 0s - loss: 0.1944 - acc: 0.9295 - val_loss: 0.4705 - val_acc: 0.8546\n",
      "Epoch 331/500\n",
      "2668/2668 [==============================] - 0s - loss: 0.1936 - acc: 0.9250 - val_loss: 0.4589 - val_acc: 0.8501\n",
      "Epoch 332/500\n",
      "2668/2668 [==============================] - 0s - loss: 0.2002 - acc: 0.9307 - val_loss: 0.4657 - val_acc: 0.8441\n",
      "Epoch 333/500\n",
      "2668/2668 [==============================] - 0s - loss: 0.1817 - acc: 0.9352 - val_loss: 0.4822 - val_acc: 0.8501\n",
      "Epoch 334/500\n",
      "2668/2668 [==============================] - 0s - loss: 0.2022 - acc: 0.9292 - val_loss: 0.4941 - val_acc: 0.8471\n",
      "Epoch 335/500\n",
      "2668/2668 [==============================] - 0s - loss: 0.1870 - acc: 0.9258 - val_loss: 0.4802 - val_acc: 0.8366\n",
      "Epoch 336/500\n",
      "2668/2668 [==============================] - 0s - loss: 0.1742 - acc: 0.9404 - val_loss: 0.4938 - val_acc: 0.8306\n",
      "Epoch 337/500\n",
      "2668/2668 [==============================] - 0s - loss: 0.2077 - acc: 0.9224 - val_loss: 0.4800 - val_acc: 0.8456\n",
      "Epoch 338/500\n",
      "2668/2668 [==============================] - 0s - loss: 0.1764 - acc: 0.9359 - val_loss: 0.4989 - val_acc: 0.8396\n",
      "Epoch 339/500\n",
      "2668/2668 [==============================] - 0s - loss: 0.1969 - acc: 0.9235 - val_loss: 0.4943 - val_acc: 0.8426\n",
      "Epoch 340/500\n",
      "2668/2668 [==============================] - 0s - loss: 0.2007 - acc: 0.9262 - val_loss: 0.4933 - val_acc: 0.8351\n",
      "Epoch 341/500\n",
      "2668/2668 [==============================] - 0s - loss: 0.1704 - acc: 0.9307 - val_loss: 0.4960 - val_acc: 0.8516\n",
      "Epoch 342/500\n",
      "2668/2668 [==============================] - 0s - loss: 0.2123 - acc: 0.9243 - val_loss: 0.5032 - val_acc: 0.8456\n",
      "Epoch 343/500\n",
      "2668/2668 [==============================] - 0s - loss: 0.1812 - acc: 0.9299 - val_loss: 0.4668 - val_acc: 0.8576\n",
      "Epoch 344/500\n",
      "2668/2668 [==============================] - 0s - loss: 0.1750 - acc: 0.9378 - val_loss: 0.4735 - val_acc: 0.8321\n",
      "Epoch 345/500\n",
      "2668/2668 [==============================] - 0s - loss: 0.1885 - acc: 0.9254 - val_loss: 0.4881 - val_acc: 0.8486\n",
      "Epoch 346/500\n",
      "2668/2668 [==============================] - 0s - loss: 0.1813 - acc: 0.9303 - val_loss: 0.4856 - val_acc: 0.8426\n",
      "Epoch 347/500\n",
      "2668/2668 [==============================] - 0s - loss: 0.1781 - acc: 0.9370 - val_loss: 0.4757 - val_acc: 0.8546\n",
      "Epoch 348/500\n",
      "2668/2668 [==============================] - 0s - loss: 0.1716 - acc: 0.9438 - val_loss: 0.5113 - val_acc: 0.8426\n",
      "Epoch 349/500\n",
      "2668/2668 [==============================] - 0s - loss: 0.1854 - acc: 0.9303 - val_loss: 0.4755 - val_acc: 0.8516\n",
      "Epoch 350/500\n",
      "2668/2668 [==============================] - 0s - loss: 0.1716 - acc: 0.9385 - val_loss: 0.4816 - val_acc: 0.8426\n",
      "Epoch 351/500\n",
      "2668/2668 [==============================] - 0s - loss: 0.1932 - acc: 0.9314 - val_loss: 0.4928 - val_acc: 0.8501\n",
      "Epoch 352/500\n",
      "2668/2668 [==============================] - 0s - loss: 0.1954 - acc: 0.9269 - val_loss: 0.4943 - val_acc: 0.8381\n",
      "Epoch 353/500\n",
      "2668/2668 [==============================] - 0s - loss: 0.1721 - acc: 0.9359 - val_loss: 0.4874 - val_acc: 0.8591\n",
      "Epoch 354/500\n",
      "2668/2668 [==============================] - 0s - loss: 0.1701 - acc: 0.9374 - val_loss: 0.5045 - val_acc: 0.8426\n",
      "Epoch 355/500\n",
      "2668/2668 [==============================] - 0s - loss: 0.1817 - acc: 0.9314 - val_loss: 0.5080 - val_acc: 0.8456\n",
      "Epoch 356/500\n",
      "2668/2668 [==============================] - 0s - loss: 0.1734 - acc: 0.9397 - val_loss: 0.4667 - val_acc: 0.8531\n",
      "Epoch 357/500\n",
      "2668/2668 [==============================] - 0s - loss: 0.1839 - acc: 0.9325 - val_loss: 0.4843 - val_acc: 0.8426\n",
      "Epoch 358/500\n",
      "2668/2668 [==============================] - 0s - loss: 0.1764 - acc: 0.9352 - val_loss: 0.5245 - val_acc: 0.8351\n",
      "Epoch 359/500\n",
      "2668/2668 [==============================] - 0s - loss: 0.1822 - acc: 0.9310 - val_loss: 0.4955 - val_acc: 0.8411\n",
      "Epoch 360/500\n",
      "2668/2668 [==============================] - 0s - loss: 0.1881 - acc: 0.9355 - val_loss: 0.5252 - val_acc: 0.8471\n",
      "Epoch 361/500\n",
      "2668/2668 [==============================] - 0s - loss: 0.1870 - acc: 0.9344 - val_loss: 0.5127 - val_acc: 0.8351\n",
      "Epoch 362/500\n",
      "2668/2668 [==============================] - 0s - loss: 0.1805 - acc: 0.9352 - val_loss: 0.4983 - val_acc: 0.8426\n",
      "Epoch 363/500\n",
      "2668/2668 [==============================] - 0s - loss: 0.1884 - acc: 0.9310 - val_loss: 0.5095 - val_acc: 0.8336\n",
      "Epoch 364/500\n",
      "2668/2668 [==============================] - 0s - loss: 0.1595 - acc: 0.9389 - val_loss: 0.4840 - val_acc: 0.8366\n",
      "Epoch 365/500\n",
      "2668/2668 [==============================] - 0s - loss: 0.1726 - acc: 0.9434 - val_loss: 0.4867 - val_acc: 0.8411\n",
      "Epoch 366/500\n",
      "2668/2668 [==============================] - 0s - loss: 0.1800 - acc: 0.9348 - val_loss: 0.5002 - val_acc: 0.8381\n",
      "Epoch 367/500\n",
      "2668/2668 [==============================] - 0s - loss: 0.1721 - acc: 0.9355 - val_loss: 0.5057 - val_acc: 0.8426\n",
      "Epoch 368/500\n",
      "2668/2668 [==============================] - 0s - loss: 0.1979 - acc: 0.9250 - val_loss: 0.5016 - val_acc: 0.8396\n",
      "Epoch 369/500\n",
      "2668/2668 [==============================] - 0s - loss: 0.1817 - acc: 0.9318 - val_loss: 0.5061 - val_acc: 0.8396\n",
      "Epoch 370/500\n",
      "2668/2668 [==============================] - 0s - loss: 0.1711 - acc: 0.9404 - val_loss: 0.4863 - val_acc: 0.8501\n",
      "Epoch 371/500\n",
      "2668/2668 [==============================] - 0s - loss: 0.1635 - acc: 0.9415 - val_loss: 0.5327 - val_acc: 0.8321\n",
      "Epoch 372/500\n",
      "2668/2668 [==============================] - 0s - loss: 0.2025 - acc: 0.9247 - val_loss: 0.5031 - val_acc: 0.8366\n",
      "Epoch 373/500\n",
      "2668/2668 [==============================] - 0s - loss: 0.1718 - acc: 0.9340 - val_loss: 0.4917 - val_acc: 0.8456\n",
      "Epoch 374/500\n",
      "2668/2668 [==============================] - 0s - loss: 0.1739 - acc: 0.9412 - val_loss: 0.4938 - val_acc: 0.8501\n",
      "Epoch 375/500\n",
      "2668/2668 [==============================] - 0s - loss: 0.1904 - acc: 0.9292 - val_loss: 0.5191 - val_acc: 0.8426\n",
      "Epoch 376/500\n",
      "2668/2668 [==============================] - 0s - loss: 0.1840 - acc: 0.9344 - val_loss: 0.5221 - val_acc: 0.8441\n",
      "Epoch 377/500\n",
      "2668/2668 [==============================] - 0s - loss: 0.1630 - acc: 0.9363 - val_loss: 0.5082 - val_acc: 0.8501\n",
      "Epoch 378/500\n",
      "2668/2668 [==============================] - 0s - loss: 0.1618 - acc: 0.9412 - val_loss: 0.4899 - val_acc: 0.8576\n",
      "Epoch 379/500\n",
      "2668/2668 [==============================] - 0s - loss: 0.1667 - acc: 0.9397 - val_loss: 0.5077 - val_acc: 0.8471\n",
      "Epoch 380/500\n",
      "2668/2668 [==============================] - 0s - loss: 0.1599 - acc: 0.9442 - val_loss: 0.4955 - val_acc: 0.8441\n",
      "Epoch 381/500\n",
      "2668/2668 [==============================] - 0s - loss: 0.1832 - acc: 0.9329 - val_loss: 0.4845 - val_acc: 0.8486\n",
      "Epoch 382/500\n",
      "2668/2668 [==============================] - 0s - loss: 0.1943 - acc: 0.9280 - val_loss: 0.4805 - val_acc: 0.8531\n",
      "Epoch 383/500\n",
      "2668/2668 [==============================] - 0s - loss: 0.1815 - acc: 0.9400 - val_loss: 0.4836 - val_acc: 0.8411\n",
      "Epoch 384/500\n",
      "2668/2668 [==============================] - 0s - loss: 0.1796 - acc: 0.9363 - val_loss: 0.5226 - val_acc: 0.8486\n",
      "Epoch 385/500\n"
     ]
    },
    {
     "name": "stdout",
     "output_type": "stream",
     "text": [
      "2668/2668 [==============================] - 0s - loss: 0.1786 - acc: 0.9299 - val_loss: 0.4907 - val_acc: 0.8516\n",
      "Epoch 386/500\n",
      "2668/2668 [==============================] - 0s - loss: 0.2183 - acc: 0.9228 - val_loss: 0.5009 - val_acc: 0.8531\n",
      "Epoch 387/500\n",
      "2668/2668 [==============================] - 0s - loss: 0.1934 - acc: 0.9280 - val_loss: 0.4994 - val_acc: 0.8516\n",
      "Epoch 388/500\n",
      "2668/2668 [==============================] - 0s - loss: 0.1709 - acc: 0.9423 - val_loss: 0.5013 - val_acc: 0.8456\n",
      "Epoch 389/500\n",
      "2668/2668 [==============================] - 0s - loss: 0.1690 - acc: 0.9427 - val_loss: 0.4857 - val_acc: 0.8546\n",
      "Epoch 390/500\n",
      "2668/2668 [==============================] - 0s - loss: 0.1753 - acc: 0.9400 - val_loss: 0.4827 - val_acc: 0.8501\n",
      "Epoch 391/500\n",
      "2668/2668 [==============================] - 0s - loss: 0.1755 - acc: 0.9389 - val_loss: 0.4846 - val_acc: 0.8516\n",
      "Epoch 392/500\n",
      "2668/2668 [==============================] - 0s - loss: 0.1823 - acc: 0.9382 - val_loss: 0.5027 - val_acc: 0.8396\n",
      "Epoch 393/500\n",
      "2668/2668 [==============================] - 0s - loss: 0.1850 - acc: 0.9303 - val_loss: 0.4990 - val_acc: 0.8381\n",
      "Epoch 394/500\n",
      "2668/2668 [==============================] - 0s - loss: 0.1588 - acc: 0.9430 - val_loss: 0.4799 - val_acc: 0.8486\n",
      "Epoch 395/500\n",
      "2668/2668 [==============================] - 0s - loss: 0.1848 - acc: 0.9329 - val_loss: 0.4869 - val_acc: 0.8411\n",
      "Epoch 396/500\n",
      "2668/2668 [==============================] - 0s - loss: 0.1635 - acc: 0.9423 - val_loss: 0.4850 - val_acc: 0.8516\n",
      "Epoch 397/500\n",
      "2668/2668 [==============================] - 0s - loss: 0.1820 - acc: 0.9340 - val_loss: 0.4900 - val_acc: 0.8441\n",
      "Epoch 398/500\n",
      "2668/2668 [==============================] - 0s - loss: 0.1897 - acc: 0.9355 - val_loss: 0.4770 - val_acc: 0.8441\n",
      "Epoch 399/500\n",
      "2668/2668 [==============================] - 0s - loss: 0.1799 - acc: 0.9397 - val_loss: 0.4963 - val_acc: 0.8381\n",
      "Epoch 400/500\n",
      "2668/2668 [==============================] - 0s - loss: 0.1625 - acc: 0.9419 - val_loss: 0.5021 - val_acc: 0.8486\n",
      "Epoch 401/500\n",
      "2668/2668 [==============================] - 0s - loss: 0.1702 - acc: 0.9427 - val_loss: 0.4966 - val_acc: 0.8441\n",
      "Epoch 402/500\n",
      "2668/2668 [==============================] - 0s - loss: 0.1829 - acc: 0.9329 - val_loss: 0.4800 - val_acc: 0.8456\n",
      "Epoch 403/500\n",
      "2668/2668 [==============================] - 0s - loss: 0.1786 - acc: 0.9322 - val_loss: 0.4789 - val_acc: 0.8441\n",
      "Epoch 404/500\n",
      "2668/2668 [==============================] - 0s - loss: 0.1676 - acc: 0.9378 - val_loss: 0.5013 - val_acc: 0.8501\n",
      "Epoch 405/500\n",
      "2668/2668 [==============================] - 0s - loss: 0.1742 - acc: 0.9367 - val_loss: 0.4845 - val_acc: 0.8456\n",
      "Epoch 406/500\n",
      "2668/2668 [==============================] - 0s - loss: 0.1747 - acc: 0.9385 - val_loss: 0.4997 - val_acc: 0.8486\n",
      "Epoch 407/500\n",
      "2668/2668 [==============================] - 0s - loss: 0.1648 - acc: 0.9408 - val_loss: 0.4862 - val_acc: 0.8471\n",
      "Epoch 408/500\n",
      "2668/2668 [==============================] - 0s - loss: 0.1762 - acc: 0.9337 - val_loss: 0.4792 - val_acc: 0.8471\n",
      "Epoch 409/500\n",
      "2668/2668 [==============================] - 0s - loss: 0.1757 - acc: 0.9337 - val_loss: 0.4769 - val_acc: 0.8411\n",
      "Epoch 410/500\n",
      "2668/2668 [==============================] - 0s - loss: 0.1731 - acc: 0.9363 - val_loss: 0.4777 - val_acc: 0.8426\n",
      "Epoch 411/500\n",
      "2668/2668 [==============================] - 0s - loss: 0.1840 - acc: 0.9329 - val_loss: 0.4922 - val_acc: 0.8381\n",
      "Epoch 412/500\n",
      "2668/2668 [==============================] - 0s - loss: 0.1676 - acc: 0.9427 - val_loss: 0.4918 - val_acc: 0.8396\n",
      "Epoch 413/500\n",
      "2668/2668 [==============================] - 0s - loss: 0.1708 - acc: 0.9389 - val_loss: 0.5165 - val_acc: 0.8411\n",
      "Epoch 414/500\n",
      "2668/2668 [==============================] - 0s - loss: 0.1855 - acc: 0.9337 - val_loss: 0.5192 - val_acc: 0.8486\n",
      "Epoch 415/500\n",
      "2668/2668 [==============================] - 0s - loss: 0.1484 - acc: 0.9460 - val_loss: 0.4951 - val_acc: 0.8426\n",
      "Epoch 416/500\n",
      "2668/2668 [==============================] - 0s - loss: 0.1762 - acc: 0.9355 - val_loss: 0.4965 - val_acc: 0.8471\n",
      "Epoch 417/500\n",
      "2668/2668 [==============================] - 0s - loss: 0.1762 - acc: 0.9337 - val_loss: 0.5085 - val_acc: 0.8531\n",
      "Epoch 418/500\n",
      "2668/2668 [==============================] - 0s - loss: 0.1615 - acc: 0.9397 - val_loss: 0.5173 - val_acc: 0.8501\n",
      "Epoch 419/500\n",
      "2668/2668 [==============================] - 0s - loss: 0.1605 - acc: 0.9378 - val_loss: 0.4941 - val_acc: 0.8456\n",
      "Epoch 420/500\n",
      "2668/2668 [==============================] - 0s - loss: 0.1723 - acc: 0.9374 - val_loss: 0.5119 - val_acc: 0.8441\n",
      "Epoch 421/500\n",
      "2668/2668 [==============================] - 0s - loss: 0.1759 - acc: 0.9359 - val_loss: 0.5011 - val_acc: 0.8381\n",
      "Epoch 422/500\n",
      "2668/2668 [==============================] - 0s - loss: 0.1701 - acc: 0.9408 - val_loss: 0.4984 - val_acc: 0.8486\n",
      "Epoch 423/500\n",
      "2668/2668 [==============================] - 0s - loss: 0.1841 - acc: 0.9333 - val_loss: 0.5202 - val_acc: 0.8426\n",
      "Epoch 424/500\n",
      "2668/2668 [==============================] - 0s - loss: 0.1739 - acc: 0.9378 - val_loss: 0.5056 - val_acc: 0.8546\n",
      "Epoch 425/500\n",
      "2668/2668 [==============================] - 0s - loss: 0.1496 - acc: 0.9419 - val_loss: 0.5002 - val_acc: 0.8381\n",
      "Epoch 426/500\n",
      "2668/2668 [==============================] - 0s - loss: 0.1591 - acc: 0.9412 - val_loss: 0.4919 - val_acc: 0.8441\n",
      "Epoch 427/500\n",
      "2668/2668 [==============================] - 0s - loss: 0.1578 - acc: 0.9434 - val_loss: 0.5231 - val_acc: 0.8441\n",
      "Epoch 428/500\n",
      "2668/2668 [==============================] - 0s - loss: 0.1713 - acc: 0.9325 - val_loss: 0.5279 - val_acc: 0.8531\n",
      "Epoch 429/500\n",
      "2668/2668 [==============================] - 0s - loss: 0.1614 - acc: 0.9434 - val_loss: 0.5215 - val_acc: 0.8471\n",
      "Epoch 430/500\n",
      "2668/2668 [==============================] - 0s - loss: 0.1863 - acc: 0.9337 - val_loss: 0.4975 - val_acc: 0.8441\n",
      "Epoch 431/500\n",
      "2668/2668 [==============================] - 0s - loss: 0.1406 - acc: 0.9472 - val_loss: 0.5025 - val_acc: 0.8486\n",
      "Epoch 432/500\n",
      "2668/2668 [==============================] - 0s - loss: 0.1695 - acc: 0.9382 - val_loss: 0.4942 - val_acc: 0.8561\n",
      "Epoch 433/500\n",
      "2668/2668 [==============================] - 0s - loss: 0.1720 - acc: 0.9382 - val_loss: 0.4672 - val_acc: 0.8516\n",
      "Epoch 434/500\n",
      "2668/2668 [==============================] - 0s - loss: 0.1418 - acc: 0.9472 - val_loss: 0.5188 - val_acc: 0.8456\n",
      "Epoch 435/500\n",
      "2668/2668 [==============================] - 0s - loss: 0.1711 - acc: 0.9374 - val_loss: 0.4808 - val_acc: 0.8591\n",
      "Epoch 436/500\n",
      "2668/2668 [==============================] - 0s - loss: 0.1530 - acc: 0.9475 - val_loss: 0.4821 - val_acc: 0.8486\n",
      "Epoch 437/500\n",
      "2668/2668 [==============================] - 0s - loss: 0.1735 - acc: 0.9404 - val_loss: 0.5060 - val_acc: 0.8516\n",
      "Epoch 438/500\n",
      "2668/2668 [==============================] - 0s - loss: 0.1638 - acc: 0.9389 - val_loss: 0.4898 - val_acc: 0.8561\n",
      "Epoch 439/500\n",
      "2668/2668 [==============================] - 0s - loss: 0.1841 - acc: 0.9325 - val_loss: 0.5209 - val_acc: 0.8441\n",
      "Epoch 440/500\n",
      "2668/2668 [==============================] - 0s - loss: 0.1726 - acc: 0.9438 - val_loss: 0.5043 - val_acc: 0.8426\n",
      "Epoch 441/500\n",
      "2668/2668 [==============================] - 0s - loss: 0.1751 - acc: 0.9367 - val_loss: 0.5137 - val_acc: 0.8351\n",
      "Epoch 442/500\n",
      "2668/2668 [==============================] - 0s - loss: 0.1875 - acc: 0.9322 - val_loss: 0.5146 - val_acc: 0.8501\n",
      "Epoch 443/500\n",
      "2668/2668 [==============================] - 0s - loss: 0.1660 - acc: 0.9412 - val_loss: 0.4834 - val_acc: 0.8381\n",
      "Epoch 444/500\n",
      "2668/2668 [==============================] - 0s - loss: 0.1851 - acc: 0.9295 - val_loss: 0.5125 - val_acc: 0.8486\n",
      "Epoch 445/500\n",
      "2668/2668 [==============================] - 0s - loss: 0.1701 - acc: 0.9363 - val_loss: 0.5323 - val_acc: 0.8381\n",
      "Epoch 446/500\n",
      "2668/2668 [==============================] - 0s - loss: 0.1702 - acc: 0.9382 - val_loss: 0.4744 - val_acc: 0.8516\n",
      "Epoch 447/500\n",
      "2668/2668 [==============================] - 0s - loss: 0.1547 - acc: 0.9449 - val_loss: 0.4812 - val_acc: 0.8621\n",
      "Epoch 448/500\n",
      "2668/2668 [==============================] - 0s - loss: 0.1796 - acc: 0.9329 - val_loss: 0.5239 - val_acc: 0.8471\n",
      "Epoch 449/500\n",
      "2668/2668 [==============================] - 0s - loss: 0.1588 - acc: 0.9427 - val_loss: 0.5249 - val_acc: 0.8501\n",
      "Epoch 450/500\n",
      "2668/2668 [==============================] - 0s - loss: 0.1633 - acc: 0.9408 - val_loss: 0.5178 - val_acc: 0.8456\n",
      "Epoch 451/500\n",
      "2668/2668 [==============================] - 0s - loss: 0.1743 - acc: 0.9340 - val_loss: 0.5148 - val_acc: 0.8441\n",
      "Epoch 452/500\n",
      "2668/2668 [==============================] - 0s - loss: 0.1564 - acc: 0.9449 - val_loss: 0.5126 - val_acc: 0.8501\n",
      "Epoch 453/500\n",
      "2668/2668 [==============================] - 0s - loss: 0.1680 - acc: 0.9408 - val_loss: 0.5336 - val_acc: 0.8426\n",
      "Epoch 454/500\n",
      "2668/2668 [==============================] - 0s - loss: 0.1565 - acc: 0.9393 - val_loss: 0.5218 - val_acc: 0.8471\n",
      "Epoch 455/500\n",
      "2668/2668 [==============================] - 0s - loss: 0.1757 - acc: 0.9367 - val_loss: 0.5398 - val_acc: 0.8486\n",
      "Epoch 456/500\n",
      "2668/2668 [==============================] - 0s - loss: 0.1870 - acc: 0.9329 - val_loss: 0.5316 - val_acc: 0.8486\n",
      "Epoch 457/500\n",
      "2668/2668 [==============================] - 0s - loss: 0.1529 - acc: 0.9412 - val_loss: 0.5298 - val_acc: 0.8441\n",
      "Epoch 458/500\n",
      "2668/2668 [==============================] - 0s - loss: 0.1605 - acc: 0.9442 - val_loss: 0.5027 - val_acc: 0.8501\n",
      "Epoch 459/500\n",
      "2668/2668 [==============================] - 0s - loss: 0.1555 - acc: 0.9427 - val_loss: 0.4978 - val_acc: 0.8471\n",
      "Epoch 460/500\n",
      "2668/2668 [==============================] - 0s - loss: 0.1539 - acc: 0.9400 - val_loss: 0.5109 - val_acc: 0.8591\n",
      "Epoch 461/500\n",
      "2668/2668 [==============================] - 0s - loss: 0.1620 - acc: 0.9427 - val_loss: 0.5264 - val_acc: 0.8501\n",
      "Epoch 462/500\n",
      "2668/2668 [==============================] - 0s - loss: 0.1608 - acc: 0.9412 - val_loss: 0.5194 - val_acc: 0.8546\n",
      "Epoch 463/500\n",
      "2668/2668 [==============================] - 0s - loss: 0.2003 - acc: 0.9322 - val_loss: 0.5251 - val_acc: 0.8456\n",
      "Epoch 464/500\n",
      "2668/2668 [==============================] - 0s - loss: 0.1627 - acc: 0.9427 - val_loss: 0.5529 - val_acc: 0.8336\n",
      "Epoch 465/500\n",
      "2668/2668 [==============================] - 0s - loss: 0.1675 - acc: 0.9457 - val_loss: 0.5391 - val_acc: 0.8411\n",
      "Epoch 466/500\n",
      "2668/2668 [==============================] - 0s - loss: 0.1749 - acc: 0.9367 - val_loss: 0.5241 - val_acc: 0.8531\n",
      "Epoch 467/500\n",
      "2668/2668 [==============================] - 0s - loss: 0.1769 - acc: 0.9367 - val_loss: 0.5120 - val_acc: 0.8426\n",
      "Epoch 468/500\n",
      "2668/2668 [==============================] - 0s - loss: 0.1595 - acc: 0.9370 - val_loss: 0.5088 - val_acc: 0.8561\n",
      "Epoch 469/500\n",
      "2668/2668 [==============================] - 0s - loss: 0.1571 - acc: 0.9397 - val_loss: 0.5268 - val_acc: 0.8411\n",
      "Epoch 470/500\n",
      "2668/2668 [==============================] - 0s - loss: 0.1555 - acc: 0.9400 - val_loss: 0.5215 - val_acc: 0.8441\n",
      "Epoch 471/500\n",
      "2668/2668 [==============================] - 0s - loss: 0.1576 - acc: 0.9453 - val_loss: 0.5064 - val_acc: 0.8501\n",
      "Epoch 472/500\n",
      "2668/2668 [==============================] - 0s - loss: 0.1507 - acc: 0.9434 - val_loss: 0.5578 - val_acc: 0.8531\n",
      "Epoch 473/500\n",
      "2668/2668 [==============================] - 0s - loss: 0.1775 - acc: 0.9363 - val_loss: 0.5164 - val_acc: 0.8456\n",
      "Epoch 474/500\n",
      "2668/2668 [==============================] - 0s - loss: 0.1737 - acc: 0.9415 - val_loss: 0.5407 - val_acc: 0.8411\n",
      "Epoch 475/500\n",
      "2668/2668 [==============================] - 0s - loss: 0.1854 - acc: 0.9295 - val_loss: 0.5038 - val_acc: 0.8501\n",
      "Epoch 476/500\n",
      "2668/2668 [==============================] - 0s - loss: 0.1713 - acc: 0.9355 - val_loss: 0.5065 - val_acc: 0.8471\n",
      "Epoch 477/500\n",
      "2668/2668 [==============================] - 0s - loss: 0.1689 - acc: 0.9434 - val_loss: 0.4947 - val_acc: 0.8531\n",
      "Epoch 478/500\n",
      "2668/2668 [==============================] - 0s - loss: 0.1527 - acc: 0.9464 - val_loss: 0.5162 - val_acc: 0.8531\n",
      "Epoch 479/500\n",
      "2668/2668 [==============================] - 0s - loss: 0.1642 - acc: 0.9453 - val_loss: 0.5366 - val_acc: 0.8516\n",
      "Epoch 480/500\n",
      "2668/2668 [==============================] - 0s - loss: 0.1607 - acc: 0.9453 - val_loss: 0.5167 - val_acc: 0.8501\n",
      "Epoch 481/500\n",
      "2668/2668 [==============================] - 0s - loss: 0.1754 - acc: 0.9378 - val_loss: 0.5345 - val_acc: 0.8486\n",
      "Epoch 482/500\n",
      "2668/2668 [==============================] - 0s - loss: 0.1787 - acc: 0.9382 - val_loss: 0.5020 - val_acc: 0.8501\n",
      "Epoch 483/500\n",
      "2668/2668 [==============================] - 0s - loss: 0.1615 - acc: 0.9374 - val_loss: 0.4997 - val_acc: 0.8441\n",
      "Epoch 484/500\n",
      "2668/2668 [==============================] - 0s - loss: 0.1672 - acc: 0.9370 - val_loss: 0.5168 - val_acc: 0.8471\n",
      "Epoch 485/500\n",
      "2668/2668 [==============================] - 0s - loss: 0.1802 - acc: 0.9348 - val_loss: 0.5338 - val_acc: 0.8456\n",
      "Epoch 486/500\n",
      "2668/2668 [==============================] - 0s - loss: 0.1516 - acc: 0.9501 - val_loss: 0.5289 - val_acc: 0.8486\n",
      "Epoch 487/500\n",
      "2668/2668 [==============================] - 0s - loss: 0.1553 - acc: 0.9445 - val_loss: 0.5311 - val_acc: 0.8351\n",
      "Epoch 488/500\n",
      "2668/2668 [==============================] - 0s - loss: 0.1465 - acc: 0.9487 - val_loss: 0.5277 - val_acc: 0.8411\n",
      "Epoch 489/500\n",
      "2668/2668 [==============================] - 0s - loss: 0.1565 - acc: 0.9434 - val_loss: 0.5005 - val_acc: 0.8576\n",
      "Epoch 490/500\n",
      "2668/2668 [==============================] - 0s - loss: 0.1459 - acc: 0.9490 - val_loss: 0.4979 - val_acc: 0.8561\n",
      "Epoch 491/500\n",
      "2668/2668 [==============================] - 0s - loss: 0.1585 - acc: 0.9389 - val_loss: 0.5176 - val_acc: 0.8471\n",
      "Epoch 492/500\n",
      "2668/2668 [==============================] - 0s - loss: 0.1508 - acc: 0.9468 - val_loss: 0.5219 - val_acc: 0.8546\n",
      "Epoch 493/500\n",
      "2668/2668 [==============================] - 0s - loss: 0.1618 - acc: 0.9397 - val_loss: 0.4949 - val_acc: 0.8531\n",
      "Epoch 494/500\n",
      "2668/2668 [==============================] - 0s - loss: 0.1437 - acc: 0.9501 - val_loss: 0.5255 - val_acc: 0.8486\n",
      "Epoch 495/500\n",
      "2668/2668 [==============================] - 0s - loss: 0.1616 - acc: 0.9442 - val_loss: 0.5159 - val_acc: 0.8516\n",
      "Epoch 496/500\n",
      "2668/2668 [==============================] - 0s - loss: 0.1576 - acc: 0.9404 - val_loss: 0.5131 - val_acc: 0.8456\n",
      "Epoch 497/500\n",
      "2668/2668 [==============================] - 0s - loss: 0.1623 - acc: 0.9434 - val_loss: 0.5327 - val_acc: 0.8456\n",
      "Epoch 498/500\n",
      "2668/2668 [==============================] - 0s - loss: 0.1559 - acc: 0.9472 - val_loss: 0.5274 - val_acc: 0.8486\n",
      "Epoch 499/500\n",
      "2668/2668 [==============================] - 0s - loss: 0.1733 - acc: 0.9400 - val_loss: 0.5324 - val_acc: 0.8471\n",
      "Epoch 500/500\n",
      "2668/2668 [==============================] - 0s - loss: 0.1536 - acc: 0.9457 - val_loss: 0.5321 - val_acc: 0.8381\n",
      "CPU times: user 1min 50s, sys: 14.6 s, total: 2min 4s\n",
      "Wall time: 1min 18s\n"
     ]
    }
   ],
   "source": [
    "%time history = classifier_model.fit(bottleneck_features_train, y_train, epochs=500, batch_size=BATCH_SIZE, validation_split=0.2, callbacks=[tb_callback])\n",
    "# more epochs might be needed for original data\n",
    "# %time history = classifier_model.fit(bottleneck_features_train, y_train, epochs=2000, batch_size=BATCH_SIZE, validation_split=0.2, callbacks=[tb_callback])"
   ]
  },
  {
   "cell_type": "markdown",
   "metadata": {},
   "source": [
    "## Issue 1: We have two separate models now\n",
    "* How do we evaluate?\n",
    "* How to save model for later prediction use / deployment?"
   ]
  },
  {
   "cell_type": "code",
   "execution_count": 33,
   "metadata": {
    "collapsed": true
   },
   "outputs": [],
   "source": [
    "from keras import models\n",
    "\n",
    "combined_model = models.Sequential()\n",
    "combined_model.add(vgg_model)\n",
    "combined_model.add(classifier_model)"
   ]
  },
  {
   "cell_type": "code",
   "execution_count": 34,
   "metadata": {},
   "outputs": [
    {
     "name": "stdout",
     "output_type": "stream",
     "text": [
      "_________________________________________________________________\n",
      "Layer (type)                 Output Shape              Param #   \n",
      "=================================================================\n",
      "vgg16 (Model)                (None, 2, 2, 512)         14714688  \n",
      "_________________________________________________________________\n",
      "model_1 (Model)              (None, 6)                 526086    \n",
      "=================================================================\n",
      "Total params: 15,240,774\n",
      "Trainable params: 15,240,774\n",
      "Non-trainable params: 0\n",
      "_________________________________________________________________\n"
     ]
    }
   ],
   "source": [
    "combined_model.summary()"
   ]
  },
  {
   "cell_type": "code",
   "execution_count": 35,
   "metadata": {
    "collapsed": true
   },
   "outputs": [],
   "source": [
    "combined_model.compile(optimizer='adam',\n",
    "              loss='categorical_crossentropy',\n",
    "              metrics=['accuracy'])"
   ]
  },
  {
   "cell_type": "code",
   "execution_count": 36,
   "metadata": {},
   "outputs": [
    {
     "name": "stdout",
     "output_type": "stream",
     "text": [
      "3335/3335 [==============================] - 7s     \n"
     ]
    },
    {
     "data": {
      "text/plain": [
       "(0.11308885638558792, 0.96731634484953077)"
      ]
     },
     "execution_count": 36,
     "metadata": {},
     "output_type": "execute_result"
    }
   ],
   "source": [
    "train_loss, train_accuracy = combined_model.evaluate(X_train, y_train, batch_size=BATCH_SIZE)\n",
    "train_loss, train_accuracy"
   ]
  },
  {
   "cell_type": "code",
   "execution_count": 37,
   "metadata": {},
   "outputs": [
    {
     "name": "stdout",
     "output_type": "stream",
     "text": [
      "834/834 [==============================] - 2s     \n"
     ]
    },
    {
     "data": {
      "text/plain": [
       "(0.49626786088486086, 0.85731415182566473)"
      ]
     },
     "execution_count": 37,
     "metadata": {},
     "output_type": "execute_result"
    }
   ],
   "source": [
    "test_loss, test_accuracy = combined_model.evaluate(X_test, y_test, batch_size=BATCH_SIZE)\n",
    "test_loss, test_accuracy"
   ]
  },
  {
   "cell_type": "code",
   "execution_count": 38,
   "metadata": {},
   "outputs": [
    {
     "name": "stdout",
     "output_type": "stream",
     "text": [
      "379/379 [==============================] - 1s     \n"
     ]
    },
    {
     "data": {
      "text/plain": [
       "(0.50608633509726508, 0.85488126774891071)"
      ]
     },
     "execution_count": 38,
     "metadata": {},
     "output_type": "execute_result"
    }
   ],
   "source": [
    "# complete original non augmented speed limit signs\n",
    "original_loss, original_accuracy = combined_model.evaluate(original_images, original_labels, batch_size=BATCH_SIZE)\n",
    "original_loss, original_accuracy"
   ]
  },
  {
   "cell_type": "code",
   "execution_count": 39,
   "metadata": {
    "collapsed": true
   },
   "outputs": [],
   "source": [
    "# combined_model.save('vgg16-retrained.hdf5')\n",
    "combined_model.save('vgg16-augmented-retrained.hdf5')"
   ]
  },
  {
   "cell_type": "code",
   "execution_count": 40,
   "metadata": {},
   "outputs": [
    {
     "name": "stdout",
     "output_type": "stream",
     "text": [
      "-rw-rw-r-- 1 ubuntu ubuntu 59M Oct  1 10:00 vgg16-augmented-retrained.hdf5\r\n"
     ]
    }
   ],
   "source": [
    "# !ls -lh vgg16-retrained.hdf5\n",
    "!ls -lh vgg16-augmented-retrained.hdf5"
   ]
  },
  {
   "cell_type": "markdown",
   "metadata": {},
   "source": [
    "## Issue 2: Whatever we do, we overfit, much more than 85% on test not possible\n",
    "* for non augmented data it might even be as low as 70%\n",
    "* first thing we could try: maybe bottlebeck feature being 2x2 is too small, we could compensate by scaling images up to 128x128 or even 256x256\n",
    "  * this can indeed bring up test score to 90%\n",
    "  * however, this will make the model incompatible with the 64x64 input of the other models and make deployment harder, so we keep 64x64\n",
    "* maybe feature extracting from Imagenet is too different from what we have with speed limit signs? \n",
    "* or is the classifier too simply for the complex features?"
   ]
  },
  {
   "cell_type": "markdown",
   "metadata": {},
   "source": [
    "## Let us try some fine tuning"
   ]
  },
  {
   "cell_type": "markdown",
   "metadata": {},
   "source": [
    "### First we freeze all but the last convolutional block"
   ]
  },
  {
   "cell_type": "code",
   "execution_count": 41,
   "metadata": {},
   "outputs": [
    {
     "data": {
      "text/plain": [
       "19"
      ]
     },
     "execution_count": 41,
     "metadata": {},
     "output_type": "execute_result"
    }
   ],
   "source": [
    "len(vgg_model.layers)"
   ]
  },
  {
   "cell_type": "code",
   "execution_count": 42,
   "metadata": {},
   "outputs": [
    {
     "data": {
      "text/plain": [
       "[<keras.engine.topology.InputLayer at 0x7f85b65566d8>,\n",
       " <keras.layers.convolutional.Conv2D at 0x7f85b6556a58>,\n",
       " <keras.layers.convolutional.Conv2D at 0x7f85b6556c18>,\n",
       " <keras.layers.pooling.MaxPooling2D at 0x7f8568aaef98>,\n",
       " <keras.layers.convolutional.Conv2D at 0x7f85551a2be0>,\n",
       " <keras.layers.convolutional.Conv2D at 0x7f85551b6e80>,\n",
       " <keras.layers.pooling.MaxPooling2D at 0x7f85551c8518>,\n",
       " <keras.layers.convolutional.Conv2D at 0x7f85551717f0>,\n",
       " <keras.layers.convolutional.Conv2D at 0x7f8555171048>,\n",
       " <keras.layers.convolutional.Conv2D at 0x7f8555196668>,\n",
       " <keras.layers.pooling.MaxPooling2D at 0x7f8555141cf8>,\n",
       " <keras.layers.convolutional.Conv2D at 0x7f85550ea240>,\n",
       " <keras.layers.convolutional.Conv2D at 0x7f85550ead68>,\n",
       " <keras.layers.convolutional.Conv2D at 0x7f8555111630>,\n",
       " <keras.layers.pooling.MaxPooling2D at 0x7f85550a6320>,\n",
       " <keras.layers.convolutional.Conv2D at 0x7f85550cf940>,\n",
       " <keras.layers.convolutional.Conv2D at 0x7f85550cf240>,\n",
       " <keras.layers.convolutional.Conv2D at 0x7f85550777b8>,\n",
       " <keras.layers.pooling.MaxPooling2D at 0x7f855509de48>]"
      ]
     },
     "execution_count": 42,
     "metadata": {},
     "output_type": "execute_result"
    }
   ],
   "source": [
    "vgg_model.layers"
   ]
  },
  {
   "cell_type": "code",
   "execution_count": 43,
   "metadata": {
    "collapsed": true
   },
   "outputs": [],
   "source": [
    "first_conv_layer = vgg_model.layers[1]"
   ]
  },
  {
   "cell_type": "code",
   "execution_count": 44,
   "metadata": {},
   "outputs": [
    {
     "data": {
      "text/plain": [
       "True"
      ]
     },
     "execution_count": 44,
     "metadata": {},
     "output_type": "execute_result"
    }
   ],
   "source": [
    "first_conv_layer.trainable"
   ]
  },
  {
   "cell_type": "code",
   "execution_count": 45,
   "metadata": {
    "collapsed": true
   },
   "outputs": [],
   "source": [
    "# set the first 15 layers (up to the last conv block)\n",
    "# to non-trainable (weights will not be updated)\n",
    "# so, the general features are kept and we (hopefully) do not have overfitting\n",
    "non_trainable_layers = vgg_model.layers[:15]"
   ]
  },
  {
   "cell_type": "code",
   "execution_count": 46,
   "metadata": {},
   "outputs": [
    {
     "data": {
      "text/plain": [
       "[<keras.engine.topology.InputLayer at 0x7f85b65566d8>,\n",
       " <keras.layers.convolutional.Conv2D at 0x7f85b6556a58>,\n",
       " <keras.layers.convolutional.Conv2D at 0x7f85b6556c18>,\n",
       " <keras.layers.pooling.MaxPooling2D at 0x7f8568aaef98>,\n",
       " <keras.layers.convolutional.Conv2D at 0x7f85551a2be0>,\n",
       " <keras.layers.convolutional.Conv2D at 0x7f85551b6e80>,\n",
       " <keras.layers.pooling.MaxPooling2D at 0x7f85551c8518>,\n",
       " <keras.layers.convolutional.Conv2D at 0x7f85551717f0>,\n",
       " <keras.layers.convolutional.Conv2D at 0x7f8555171048>,\n",
       " <keras.layers.convolutional.Conv2D at 0x7f8555196668>,\n",
       " <keras.layers.pooling.MaxPooling2D at 0x7f8555141cf8>,\n",
       " <keras.layers.convolutional.Conv2D at 0x7f85550ea240>,\n",
       " <keras.layers.convolutional.Conv2D at 0x7f85550ead68>,\n",
       " <keras.layers.convolutional.Conv2D at 0x7f8555111630>,\n",
       " <keras.layers.pooling.MaxPooling2D at 0x7f85550a6320>]"
      ]
     },
     "execution_count": 46,
     "metadata": {},
     "output_type": "execute_result"
    }
   ],
   "source": [
    "non_trainable_layers"
   ]
  },
  {
   "cell_type": "code",
   "execution_count": 47,
   "metadata": {
    "collapsed": true
   },
   "outputs": [],
   "source": [
    "for layer in non_trainable_layers:\n",
    "    layer.trainable = False"
   ]
  },
  {
   "cell_type": "code",
   "execution_count": 48,
   "metadata": {},
   "outputs": [
    {
     "data": {
      "text/plain": [
       "False"
      ]
     },
     "execution_count": 48,
     "metadata": {},
     "output_type": "execute_result"
    }
   ],
   "source": [
    "first_conv_layer.trainable"
   ]
  },
  {
   "cell_type": "markdown",
   "metadata": {},
   "source": [
    "### We then tweak the complete model by very slowly re-retraining classifier and final convolutional block\n",
    "* slow learning prevents us from ruining previous good results\n",
    "* leave everthing else in place\n",
    "    * earlier layers hopefully already encode common feaure channels\n",
    "    * less risk of overfitting\n",
    "      * earlier layers are more general\n",
    "      * model has too much capacity for training and is likley to learn each and every detail\n",
    "    * a little bit faster\n",
    "\n",
    "#### This may still take quite a while"
   ]
  },
  {
   "cell_type": "code",
   "execution_count": 49,
   "metadata": {
    "collapsed": true
   },
   "outputs": [],
   "source": [
    "from keras import optimizers\n",
    "\n",
    "# compile the model with a SGD/momentum optimizer\n",
    "# and a very slow learning rate\n",
    "# make updates very small and non adaptive so we do not ruin previous learnings \n",
    "combined_model.compile(loss='categorical_crossentropy',\n",
    "              optimizer=optimizers.SGD(lr=1e-4, momentum=0.9),\n",
    "              metrics=['accuracy'])"
   ]
  },
  {
   "cell_type": "code",
   "execution_count": 50,
   "metadata": {
    "collapsed": true
   },
   "outputs": [],
   "source": [
    "!rm -r tf_log"
   ]
  },
  {
   "cell_type": "code",
   "execution_count": 51,
   "metadata": {},
   "outputs": [
    {
     "name": "stdout",
     "output_type": "stream",
     "text": [
      "Train on 2668 samples, validate on 667 samples\n",
      "Epoch 1/150\n",
      "2668/2668 [==============================] - 9s - loss: 0.1467 - acc: 0.9509 - val_loss: 0.5544 - val_acc: 0.8471\n",
      "Epoch 2/150\n",
      "2668/2668 [==============================] - 6s - loss: 0.1582 - acc: 0.9460 - val_loss: 0.5605 - val_acc: 0.8561\n",
      "Epoch 3/150\n",
      "2668/2668 [==============================] - 6s - loss: 0.1675 - acc: 0.9449 - val_loss: 0.5098 - val_acc: 0.8576\n",
      "Epoch 4/150\n",
      "2668/2668 [==============================] - 6s - loss: 0.1700 - acc: 0.9389 - val_loss: 0.5663 - val_acc: 0.8426\n",
      "Epoch 5/150\n",
      "2668/2668 [==============================] - 6s - loss: 0.1463 - acc: 0.9483 - val_loss: 0.5123 - val_acc: 0.8591\n",
      "Epoch 6/150\n",
      "2668/2668 [==============================] - 6s - loss: 0.1522 - acc: 0.9528 - val_loss: 0.4983 - val_acc: 0.8546\n",
      "Epoch 7/150\n",
      "2668/2668 [==============================] - 6s - loss: 0.1399 - acc: 0.9520 - val_loss: 0.5469 - val_acc: 0.8516\n",
      "Epoch 8/150\n",
      "2668/2668 [==============================] - 6s - loss: 0.1350 - acc: 0.9509 - val_loss: 0.5881 - val_acc: 0.8471\n",
      "Epoch 9/150\n",
      "2668/2668 [==============================] - 6s - loss: 0.1322 - acc: 0.9539 - val_loss: 0.5356 - val_acc: 0.8636\n",
      "Epoch 10/150\n",
      "2668/2668 [==============================] - 6s - loss: 0.1092 - acc: 0.9588 - val_loss: 0.5056 - val_acc: 0.8651\n",
      "Epoch 11/150\n",
      "2668/2668 [==============================] - 6s - loss: 0.1057 - acc: 0.9648 - val_loss: 0.5250 - val_acc: 0.8456\n",
      "Epoch 12/150\n",
      "2668/2668 [==============================] - 6s - loss: 0.1036 - acc: 0.9599 - val_loss: 0.5349 - val_acc: 0.8591\n",
      "Epoch 13/150\n",
      "2668/2668 [==============================] - 6s - loss: 0.0829 - acc: 0.9711 - val_loss: 0.5592 - val_acc: 0.8486\n",
      "Epoch 14/150\n",
      "2668/2668 [==============================] - 6s - loss: 0.1056 - acc: 0.9636 - val_loss: 0.4869 - val_acc: 0.8651\n",
      "Epoch 15/150\n",
      "2668/2668 [==============================] - 6s - loss: 0.0844 - acc: 0.9678 - val_loss: 0.5264 - val_acc: 0.8621\n",
      "Epoch 16/150\n",
      "2668/2668 [==============================] - 6s - loss: 0.0901 - acc: 0.9693 - val_loss: 0.4923 - val_acc: 0.8711\n",
      "Epoch 17/150\n",
      "2668/2668 [==============================] - 6s - loss: 0.0858 - acc: 0.9670 - val_loss: 0.5351 - val_acc: 0.8546\n",
      "Epoch 18/150\n",
      "2668/2668 [==============================] - 6s - loss: 0.0854 - acc: 0.9700 - val_loss: 0.5206 - val_acc: 0.8681\n",
      "Epoch 19/150\n",
      "2668/2668 [==============================] - 6s - loss: 0.0706 - acc: 0.9738 - val_loss: 0.5086 - val_acc: 0.8711\n",
      "Epoch 20/150\n",
      "2668/2668 [==============================] - 6s - loss: 0.0768 - acc: 0.9734 - val_loss: 0.5779 - val_acc: 0.8621\n",
      "Epoch 21/150\n",
      "2668/2668 [==============================] - 6s - loss: 0.0965 - acc: 0.9648 - val_loss: 0.5039 - val_acc: 0.8621\n",
      "Epoch 22/150\n",
      "2668/2668 [==============================] - 6s - loss: 0.0736 - acc: 0.9723 - val_loss: 0.4974 - val_acc: 0.8726\n",
      "Epoch 23/150\n",
      "2668/2668 [==============================] - 6s - loss: 0.0816 - acc: 0.9719 - val_loss: 0.5183 - val_acc: 0.8711\n",
      "Epoch 24/150\n",
      "2668/2668 [==============================] - 6s - loss: 0.0691 - acc: 0.9738 - val_loss: 0.4679 - val_acc: 0.8801\n",
      "Epoch 25/150\n",
      "2668/2668 [==============================] - 6s - loss: 0.0847 - acc: 0.9711 - val_loss: 0.5114 - val_acc: 0.8741\n",
      "Epoch 26/150\n",
      "2668/2668 [==============================] - 6s - loss: 0.0686 - acc: 0.9790 - val_loss: 0.5096 - val_acc: 0.8681\n",
      "Epoch 27/150\n",
      "2668/2668 [==============================] - 6s - loss: 0.0656 - acc: 0.9798 - val_loss: 0.5163 - val_acc: 0.8651\n",
      "Epoch 28/150\n",
      "2668/2668 [==============================] - 6s - loss: 0.0588 - acc: 0.9783 - val_loss: 0.5082 - val_acc: 0.8711\n",
      "Epoch 29/150\n",
      "2668/2668 [==============================] - 6s - loss: 0.0667 - acc: 0.9749 - val_loss: 0.4632 - val_acc: 0.8816\n",
      "Epoch 30/150\n",
      "2668/2668 [==============================] - 6s - loss: 0.0742 - acc: 0.9741 - val_loss: 0.4623 - val_acc: 0.8831\n",
      "Epoch 31/150\n",
      "2668/2668 [==============================] - 6s - loss: 0.0619 - acc: 0.9756 - val_loss: 0.4774 - val_acc: 0.8771\n",
      "Epoch 32/150\n",
      "2668/2668 [==============================] - 6s - loss: 0.0730 - acc: 0.9719 - val_loss: 0.4973 - val_acc: 0.8786\n",
      "Epoch 33/150\n",
      "2668/2668 [==============================] - 6s - loss: 0.0566 - acc: 0.9816 - val_loss: 0.4835 - val_acc: 0.8816\n",
      "Epoch 34/150\n",
      "2668/2668 [==============================] - 6s - loss: 0.0677 - acc: 0.9764 - val_loss: 0.5121 - val_acc: 0.8786\n",
      "Epoch 35/150\n",
      "2668/2668 [==============================] - 6s - loss: 0.0557 - acc: 0.9809 - val_loss: 0.5178 - val_acc: 0.8816\n",
      "Epoch 36/150\n",
      "2668/2668 [==============================] - 6s - loss: 0.0531 - acc: 0.9790 - val_loss: 0.5161 - val_acc: 0.8726\n",
      "Epoch 37/150\n",
      "2668/2668 [==============================] - 6s - loss: 0.0609 - acc: 0.9801 - val_loss: 0.4706 - val_acc: 0.8741\n",
      "Epoch 38/150\n",
      "2668/2668 [==============================] - 6s - loss: 0.0613 - acc: 0.9809 - val_loss: 0.5163 - val_acc: 0.8846\n",
      "Epoch 39/150\n",
      "2668/2668 [==============================] - 6s - loss: 0.0704 - acc: 0.9783 - val_loss: 0.5086 - val_acc: 0.8756\n",
      "Epoch 40/150\n",
      "2668/2668 [==============================] - 6s - loss: 0.0505 - acc: 0.9824 - val_loss: 0.4764 - val_acc: 0.8771\n",
      "Epoch 41/150\n",
      "2668/2668 [==============================] - 6s - loss: 0.0483 - acc: 0.9828 - val_loss: 0.4875 - val_acc: 0.8801\n",
      "Epoch 42/150\n",
      "2668/2668 [==============================] - 6s - loss: 0.0536 - acc: 0.9816 - val_loss: 0.5006 - val_acc: 0.8786\n",
      "Epoch 43/150\n",
      "2668/2668 [==============================] - 6s - loss: 0.0483 - acc: 0.9820 - val_loss: 0.4842 - val_acc: 0.8876\n",
      "Epoch 44/150\n",
      "2668/2668 [==============================] - 6s - loss: 0.0365 - acc: 0.9861 - val_loss: 0.5087 - val_acc: 0.8906\n",
      "Epoch 45/150\n",
      "2668/2668 [==============================] - 6s - loss: 0.0387 - acc: 0.9854 - val_loss: 0.4860 - val_acc: 0.8876\n",
      "Epoch 46/150\n",
      "2668/2668 [==============================] - 6s - loss: 0.0441 - acc: 0.9839 - val_loss: 0.4930 - val_acc: 0.8876\n",
      "Epoch 47/150\n",
      "2668/2668 [==============================] - 6s - loss: 0.0503 - acc: 0.9843 - val_loss: 0.4876 - val_acc: 0.8816\n",
      "Epoch 48/150\n",
      "2668/2668 [==============================] - 6s - loss: 0.0484 - acc: 0.9831 - val_loss: 0.4541 - val_acc: 0.8966\n",
      "Epoch 49/150\n",
      "2668/2668 [==============================] - 6s - loss: 0.0419 - acc: 0.9839 - val_loss: 0.4874 - val_acc: 0.8981\n",
      "Epoch 50/150\n",
      "2668/2668 [==============================] - 6s - loss: 0.0476 - acc: 0.9839 - val_loss: 0.4921 - val_acc: 0.8921\n",
      "Epoch 51/150\n",
      "2668/2668 [==============================] - 6s - loss: 0.0471 - acc: 0.9839 - val_loss: 0.5276 - val_acc: 0.8846\n",
      "Epoch 52/150\n",
      "2668/2668 [==============================] - 6s - loss: 0.0466 - acc: 0.9846 - val_loss: 0.5371 - val_acc: 0.8831\n",
      "Epoch 53/150\n",
      "2668/2668 [==============================] - 6s - loss: 0.0519 - acc: 0.9831 - val_loss: 0.5136 - val_acc: 0.8876\n",
      "Epoch 54/150\n",
      "2668/2668 [==============================] - 6s - loss: 0.0554 - acc: 0.9816 - val_loss: 0.4664 - val_acc: 0.8921\n",
      "Epoch 55/150\n",
      "2668/2668 [==============================] - 6s - loss: 0.0438 - acc: 0.9854 - val_loss: 0.4549 - val_acc: 0.8861\n",
      "Epoch 56/150\n",
      "2668/2668 [==============================] - 6s - loss: 0.0408 - acc: 0.9880 - val_loss: 0.5001 - val_acc: 0.8831\n",
      "Epoch 57/150\n",
      "2668/2668 [==============================] - 6s - loss: 0.0294 - acc: 0.9933 - val_loss: 0.4996 - val_acc: 0.8906\n",
      "Epoch 58/150\n",
      "2668/2668 [==============================] - 6s - loss: 0.0421 - acc: 0.9854 - val_loss: 0.4743 - val_acc: 0.8891\n",
      "Epoch 59/150\n",
      "2668/2668 [==============================] - 6s - loss: 0.0480 - acc: 0.9835 - val_loss: 0.5070 - val_acc: 0.8816\n",
      "Epoch 60/150\n",
      "2668/2668 [==============================] - 6s - loss: 0.0503 - acc: 0.9850 - val_loss: 0.4663 - val_acc: 0.8966\n",
      "Epoch 61/150\n",
      "2668/2668 [==============================] - 6s - loss: 0.0369 - acc: 0.9861 - val_loss: 0.4519 - val_acc: 0.8936\n",
      "Epoch 62/150\n",
      "2668/2668 [==============================] - 6s - loss: 0.0386 - acc: 0.9876 - val_loss: 0.4938 - val_acc: 0.8906\n",
      "Epoch 63/150\n",
      "2668/2668 [==============================] - 6s - loss: 0.0299 - acc: 0.9895 - val_loss: 0.4744 - val_acc: 0.8891\n",
      "Epoch 64/150\n",
      "2668/2668 [==============================] - 6s - loss: 0.0290 - acc: 0.9921 - val_loss: 0.4875 - val_acc: 0.8981\n",
      "Epoch 65/150\n",
      "2668/2668 [==============================] - 6s - loss: 0.0312 - acc: 0.9895 - val_loss: 0.4937 - val_acc: 0.8906\n",
      "Epoch 66/150\n",
      "2668/2668 [==============================] - 6s - loss: 0.0310 - acc: 0.9903 - val_loss: 0.5108 - val_acc: 0.8936\n",
      "Epoch 67/150\n",
      "2668/2668 [==============================] - 6s - loss: 0.0419 - acc: 0.9869 - val_loss: 0.5490 - val_acc: 0.8831\n",
      "Epoch 68/150\n",
      "2668/2668 [==============================] - 6s - loss: 0.0290 - acc: 0.9895 - val_loss: 0.5083 - val_acc: 0.8831\n",
      "Epoch 69/150\n",
      "2668/2668 [==============================] - 6s - loss: 0.0394 - acc: 0.9854 - val_loss: 0.5056 - val_acc: 0.8891\n",
      "Epoch 70/150\n",
      "2668/2668 [==============================] - 6s - loss: 0.0300 - acc: 0.9906 - val_loss: 0.5107 - val_acc: 0.8966\n",
      "Epoch 71/150\n",
      "2668/2668 [==============================] - 6s - loss: 0.0311 - acc: 0.9891 - val_loss: 0.5062 - val_acc: 0.8876\n",
      "Epoch 72/150\n",
      "2668/2668 [==============================] - 6s - loss: 0.0361 - acc: 0.9876 - val_loss: 0.5020 - val_acc: 0.8771\n",
      "Epoch 73/150\n",
      "2668/2668 [==============================] - 6s - loss: 0.0301 - acc: 0.9891 - val_loss: 0.4806 - val_acc: 0.8936\n",
      "Epoch 74/150\n",
      "2668/2668 [==============================] - 6s - loss: 0.0314 - acc: 0.9899 - val_loss: 0.4917 - val_acc: 0.8996\n",
      "Epoch 75/150\n",
      "2668/2668 [==============================] - 6s - loss: 0.0280 - acc: 0.9914 - val_loss: 0.5174 - val_acc: 0.8891\n",
      "Epoch 76/150\n",
      "2668/2668 [==============================] - 6s - loss: 0.0335 - acc: 0.9884 - val_loss: 0.5086 - val_acc: 0.8951\n",
      "Epoch 77/150\n",
      "2668/2668 [==============================] - 6s - loss: 0.0296 - acc: 0.9903 - val_loss: 0.5079 - val_acc: 0.8921\n",
      "Epoch 78/150\n",
      "2668/2668 [==============================] - 6s - loss: 0.0319 - acc: 0.9873 - val_loss: 0.5754 - val_acc: 0.8801\n",
      "Epoch 79/150\n",
      "2668/2668 [==============================] - 6s - loss: 0.0347 - acc: 0.9899 - val_loss: 0.4971 - val_acc: 0.8846\n",
      "Epoch 80/150\n",
      "2668/2668 [==============================] - 6s - loss: 0.0280 - acc: 0.9903 - val_loss: 0.4813 - val_acc: 0.8876\n",
      "Epoch 81/150\n",
      "2668/2668 [==============================] - 6s - loss: 0.0262 - acc: 0.9899 - val_loss: 0.4917 - val_acc: 0.8936\n",
      "Epoch 82/150\n",
      "2668/2668 [==============================] - 6s - loss: 0.0318 - acc: 0.9918 - val_loss: 0.5179 - val_acc: 0.8891\n",
      "Epoch 83/150\n",
      "2668/2668 [==============================] - 6s - loss: 0.0220 - acc: 0.9933 - val_loss: 0.4852 - val_acc: 0.9070\n",
      "Epoch 84/150\n",
      "2668/2668 [==============================] - 6s - loss: 0.0303 - acc: 0.9906 - val_loss: 0.4948 - val_acc: 0.8906\n",
      "Epoch 85/150\n",
      "2668/2668 [==============================] - 6s - loss: 0.0301 - acc: 0.9899 - val_loss: 0.5155 - val_acc: 0.8981\n",
      "Epoch 86/150\n",
      "2668/2668 [==============================] - 6s - loss: 0.0261 - acc: 0.9918 - val_loss: 0.5212 - val_acc: 0.8906\n",
      "Epoch 87/150\n",
      "2668/2668 [==============================] - 6s - loss: 0.0323 - acc: 0.9891 - val_loss: 0.5014 - val_acc: 0.8996\n",
      "Epoch 88/150\n",
      "2668/2668 [==============================] - 6s - loss: 0.0223 - acc: 0.9918 - val_loss: 0.5092 - val_acc: 0.8951\n",
      "Epoch 89/150\n",
      "2668/2668 [==============================] - 6s - loss: 0.0233 - acc: 0.9944 - val_loss: 0.4958 - val_acc: 0.9025\n",
      "Epoch 90/150\n",
      "2668/2668 [==============================] - 6s - loss: 0.0361 - acc: 0.9895 - val_loss: 0.5287 - val_acc: 0.8861\n",
      "Epoch 91/150\n",
      "2668/2668 [==============================] - 6s - loss: 0.0347 - acc: 0.9884 - val_loss: 0.4925 - val_acc: 0.8921\n",
      "Epoch 92/150\n",
      "2668/2668 [==============================] - 6s - loss: 0.0296 - acc: 0.9903 - val_loss: 0.5766 - val_acc: 0.8861\n",
      "Epoch 93/150\n",
      "2668/2668 [==============================] - 6s - loss: 0.0344 - acc: 0.9903 - val_loss: 0.5244 - val_acc: 0.8891\n",
      "Epoch 94/150\n",
      "2668/2668 [==============================] - 6s - loss: 0.0225 - acc: 0.9925 - val_loss: 0.5915 - val_acc: 0.8876\n",
      "Epoch 95/150\n",
      "2668/2668 [==============================] - 6s - loss: 0.0191 - acc: 0.9940 - val_loss: 0.5426 - val_acc: 0.8936\n",
      "Epoch 96/150\n",
      "2668/2668 [==============================] - 6s - loss: 0.0299 - acc: 0.9891 - val_loss: 0.5569 - val_acc: 0.8846\n",
      "Epoch 97/150\n",
      "2668/2668 [==============================] - 6s - loss: 0.0258 - acc: 0.9914 - val_loss: 0.5196 - val_acc: 0.8891\n",
      "Epoch 98/150\n",
      "2668/2668 [==============================] - 6s - loss: 0.0222 - acc: 0.9921 - val_loss: 0.5077 - val_acc: 0.9025\n",
      "Epoch 99/150\n",
      "2668/2668 [==============================] - 7s - loss: 0.0252 - acc: 0.9929 - val_loss: 0.5014 - val_acc: 0.8936\n",
      "Epoch 100/150\n",
      "2668/2668 [==============================] - 6s - loss: 0.0279 - acc: 0.9906 - val_loss: 0.5018 - val_acc: 0.8981\n",
      "Epoch 101/150\n",
      "2668/2668 [==============================] - 6s - loss: 0.0251 - acc: 0.9925 - val_loss: 0.4950 - val_acc: 0.8936\n",
      "Epoch 102/150\n",
      "2668/2668 [==============================] - 6s - loss: 0.0236 - acc: 0.9925 - val_loss: 0.5103 - val_acc: 0.8891\n",
      "Epoch 103/150\n",
      "2668/2668 [==============================] - 6s - loss: 0.0244 - acc: 0.9921 - val_loss: 0.4829 - val_acc: 0.9055\n",
      "Epoch 104/150\n",
      "2668/2668 [==============================] - 7s - loss: 0.0238 - acc: 0.9940 - val_loss: 0.5210 - val_acc: 0.8951\n",
      "Epoch 105/150\n",
      "2668/2668 [==============================] - 7s - loss: 0.0157 - acc: 0.9970 - val_loss: 0.5266 - val_acc: 0.9010\n",
      "Epoch 106/150\n",
      "2668/2668 [==============================] - 7s - loss: 0.0263 - acc: 0.9895 - val_loss: 0.5531 - val_acc: 0.8921\n",
      "Epoch 107/150\n",
      "2668/2668 [==============================] - 7s - loss: 0.0249 - acc: 0.9918 - val_loss: 0.5276 - val_acc: 0.8921\n",
      "Epoch 108/150\n",
      "2668/2668 [==============================] - 7s - loss: 0.0235 - acc: 0.9914 - val_loss: 0.4971 - val_acc: 0.9100\n",
      "Epoch 109/150\n",
      "2668/2668 [==============================] - 7s - loss: 0.0275 - acc: 0.9918 - val_loss: 0.4940 - val_acc: 0.8996\n",
      "Epoch 110/150\n",
      "2668/2668 [==============================] - 6s - loss: 0.0220 - acc: 0.9929 - val_loss: 0.4882 - val_acc: 0.8936\n",
      "Epoch 111/150\n",
      "2668/2668 [==============================] - 6s - loss: 0.0265 - acc: 0.9936 - val_loss: 0.4780 - val_acc: 0.8996\n",
      "Epoch 112/150\n",
      "2668/2668 [==============================] - 6s - loss: 0.0204 - acc: 0.9918 - val_loss: 0.4816 - val_acc: 0.9025\n",
      "Epoch 113/150\n",
      "2668/2668 [==============================] - 6s - loss: 0.0204 - acc: 0.9925 - val_loss: 0.4731 - val_acc: 0.8996\n",
      "Epoch 114/150\n",
      "2668/2668 [==============================] - 6s - loss: 0.0224 - acc: 0.9929 - val_loss: 0.5010 - val_acc: 0.8951\n",
      "Epoch 115/150\n",
      "2668/2668 [==============================] - 6s - loss: 0.0178 - acc: 0.9936 - val_loss: 0.4943 - val_acc: 0.8966\n",
      "Epoch 116/150\n",
      "2668/2668 [==============================] - 6s - loss: 0.0258 - acc: 0.9918 - val_loss: 0.5080 - val_acc: 0.8936\n",
      "Epoch 117/150\n",
      "2668/2668 [==============================] - 6s - loss: 0.0187 - acc: 0.9944 - val_loss: 0.5100 - val_acc: 0.8981\n",
      "Epoch 118/150\n",
      "2668/2668 [==============================] - 6s - loss: 0.0223 - acc: 0.9918 - val_loss: 0.4994 - val_acc: 0.9055\n",
      "Epoch 119/150\n",
      "2668/2668 [==============================] - 6s - loss: 0.0232 - acc: 0.9914 - val_loss: 0.4865 - val_acc: 0.8996\n",
      "Epoch 120/150\n",
      "2668/2668 [==============================] - 6s - loss: 0.0181 - acc: 0.9944 - val_loss: 0.4975 - val_acc: 0.8981\n",
      "Epoch 121/150\n",
      "2668/2668 [==============================] - 6s - loss: 0.0184 - acc: 0.9951 - val_loss: 0.4976 - val_acc: 0.9025\n",
      "Epoch 122/150\n",
      "2668/2668 [==============================] - 6s - loss: 0.0168 - acc: 0.9948 - val_loss: 0.5160 - val_acc: 0.8966\n",
      "Epoch 123/150\n",
      "2668/2668 [==============================] - 6s - loss: 0.0207 - acc: 0.9944 - val_loss: 0.4957 - val_acc: 0.8996\n",
      "Epoch 124/150\n",
      "2668/2668 [==============================] - 6s - loss: 0.0162 - acc: 0.9959 - val_loss: 0.4941 - val_acc: 0.9070\n",
      "Epoch 125/150\n",
      "2668/2668 [==============================] - 6s - loss: 0.0176 - acc: 0.9936 - val_loss: 0.5374 - val_acc: 0.8996\n",
      "Epoch 126/150\n",
      "2668/2668 [==============================] - 6s - loss: 0.0171 - acc: 0.9948 - val_loss: 0.4947 - val_acc: 0.9025\n",
      "Epoch 127/150\n",
      "2668/2668 [==============================] - 6s - loss: 0.0174 - acc: 0.9951 - val_loss: 0.4958 - val_acc: 0.8981\n",
      "Epoch 128/150\n",
      "2668/2668 [==============================] - 6s - loss: 0.0167 - acc: 0.9948 - val_loss: 0.4835 - val_acc: 0.8951\n",
      "Epoch 129/150\n"
     ]
    },
    {
     "name": "stdout",
     "output_type": "stream",
     "text": [
      "2668/2668 [==============================] - 6s - loss: 0.0218 - acc: 0.9936 - val_loss: 0.4493 - val_acc: 0.8981\n",
      "Epoch 130/150\n",
      "2668/2668 [==============================] - 6s - loss: 0.0248 - acc: 0.9929 - val_loss: 0.4862 - val_acc: 0.8951\n",
      "Epoch 131/150\n",
      "2668/2668 [==============================] - 6s - loss: 0.0196 - acc: 0.9929 - val_loss: 0.4992 - val_acc: 0.9025\n",
      "Epoch 132/150\n",
      "2668/2668 [==============================] - 6s - loss: 0.0159 - acc: 0.9936 - val_loss: 0.5076 - val_acc: 0.9025\n",
      "Epoch 133/150\n",
      "2668/2668 [==============================] - 6s - loss: 0.0255 - acc: 0.9925 - val_loss: 0.5199 - val_acc: 0.9040\n",
      "Epoch 134/150\n",
      "2668/2668 [==============================] - 6s - loss: 0.0128 - acc: 0.9959 - val_loss: 0.5309 - val_acc: 0.8951\n",
      "Epoch 135/150\n",
      "2668/2668 [==============================] - 6s - loss: 0.0163 - acc: 0.9970 - val_loss: 0.5430 - val_acc: 0.8966\n",
      "Epoch 136/150\n",
      "2668/2668 [==============================] - 6s - loss: 0.0151 - acc: 0.9948 - val_loss: 0.5435 - val_acc: 0.8981\n",
      "Epoch 137/150\n",
      "2668/2668 [==============================] - 6s - loss: 0.0193 - acc: 0.9918 - val_loss: 0.5547 - val_acc: 0.9010\n",
      "Epoch 138/150\n",
      "2668/2668 [==============================] - 6s - loss: 0.0191 - acc: 0.9951 - val_loss: 0.5317 - val_acc: 0.9010\n",
      "Epoch 139/150\n",
      "2668/2668 [==============================] - 6s - loss: 0.0176 - acc: 0.9940 - val_loss: 0.4968 - val_acc: 0.9070\n",
      "Epoch 140/150\n",
      "2668/2668 [==============================] - 6s - loss: 0.0138 - acc: 0.9966 - val_loss: 0.5141 - val_acc: 0.9085\n",
      "Epoch 141/150\n",
      "2668/2668 [==============================] - 6s - loss: 0.0157 - acc: 0.9955 - val_loss: 0.4865 - val_acc: 0.9040\n",
      "Epoch 142/150\n",
      "2668/2668 [==============================] - 6s - loss: 0.0179 - acc: 0.9936 - val_loss: 0.5198 - val_acc: 0.8981\n",
      "Epoch 143/150\n",
      "2668/2668 [==============================] - 6s - loss: 0.0235 - acc: 0.9918 - val_loss: 0.5158 - val_acc: 0.8981\n",
      "Epoch 144/150\n",
      "2668/2668 [==============================] - 6s - loss: 0.0166 - acc: 0.9936 - val_loss: 0.5325 - val_acc: 0.8981\n",
      "Epoch 145/150\n",
      "2668/2668 [==============================] - 6s - loss: 0.0187 - acc: 0.9921 - val_loss: 0.4894 - val_acc: 0.8981\n",
      "Epoch 146/150\n",
      "2668/2668 [==============================] - 6s - loss: 0.0170 - acc: 0.9936 - val_loss: 0.4978 - val_acc: 0.9025\n",
      "Epoch 147/150\n",
      "2668/2668 [==============================] - 6s - loss: 0.0197 - acc: 0.9936 - val_loss: 0.4851 - val_acc: 0.9055\n",
      "Epoch 148/150\n",
      "2668/2668 [==============================] - 6s - loss: 0.0130 - acc: 0.9963 - val_loss: 0.4931 - val_acc: 0.9055\n",
      "Epoch 149/150\n",
      "2668/2668 [==============================] - 6s - loss: 0.0183 - acc: 0.9944 - val_loss: 0.5061 - val_acc: 0.9025\n",
      "Epoch 150/150\n",
      "2668/2668 [==============================] - 6s - loss: 0.0124 - acc: 0.9966 - val_loss: 0.5104 - val_acc: 0.9010\n",
      "CPU times: user 3min 44s, sys: 34.4 s, total: 4min 18s\n",
      "Wall time: 17min 25s\n"
     ]
    },
    {
     "data": {
      "text/plain": [
       "<keras.callbacks.History at 0x7f8518cb8da0>"
      ]
     },
     "execution_count": 51,
     "metadata": {},
     "output_type": "execute_result"
    }
   ],
   "source": [
    "%time combined_model.fit(X_train, y_train, epochs=150, batch_size=BATCH_SIZE, validation_split=0.2, callbacks=[tb_callback])\n",
    "# non augmented data is cheap to retrain, so we can try a few more epochs\n",
    "# %time combined_model.fit(X_train, y_train, epochs=1000, batch_size=BATCH_SIZE, validation_split=0.2, callbacks=[tb_callback])"
   ]
  },
  {
   "cell_type": "markdown",
   "metadata": {},
   "source": [
    "## 90% for validation is quite a bit of improvement, might even increase when we train for a bit longer\n",
    "\n",
    "## Metrics for Augmented Data\n",
    "\n",
    "### Accuracy\n",
    "![Accuracy Fine Tuning](https://djcordhose.github.io/ai/img/tensorboard/cnn-acc-fine-tuning.png)\n",
    "### Validation Accuracy\n",
    "![Validation Accuracy Fine Tuning](https://djcordhose.github.io/ai/img/tensorboard/cnn-val-acc-fine-tuning.png)"
   ]
  },
  {
   "cell_type": "code",
   "execution_count": 52,
   "metadata": {},
   "outputs": [
    {
     "name": "stdout",
     "output_type": "stream",
     "text": [
      "3335/3335 [==============================] - 6s     \n"
     ]
    },
    {
     "data": {
      "text/plain": [
       "(0.10222922369810358, 0.98020990570445821)"
      ]
     },
     "execution_count": 52,
     "metadata": {},
     "output_type": "execute_result"
    }
   ],
   "source": [
    "train_loss, train_accuracy = combined_model.evaluate(X_train, y_train, batch_size=BATCH_SIZE)\n",
    "train_loss, train_accuracy"
   ]
  },
  {
   "cell_type": "code",
   "execution_count": 53,
   "metadata": {},
   "outputs": [
    {
     "name": "stdout",
     "output_type": "stream",
     "text": [
      "834/834 [==============================] - 1s     \n"
     ]
    },
    {
     "data": {
      "text/plain": [
       "(0.42116924984563742, 0.89928059569365681)"
      ]
     },
     "execution_count": 53,
     "metadata": {},
     "output_type": "execute_result"
    }
   ],
   "source": [
    "test_loss, test_accuracy = combined_model.evaluate(X_test, y_test, batch_size=BATCH_SIZE)\n",
    "test_loss, test_accuracy"
   ]
  },
  {
   "cell_type": "code",
   "execution_count": 54,
   "metadata": {},
   "outputs": [
    {
     "name": "stdout",
     "output_type": "stream",
     "text": [
      "379/379 [==============================] - 0s     \n"
     ]
    },
    {
     "data": {
      "text/plain": [
       "(0.45832276033694636, 0.90501321683143876)"
      ]
     },
     "execution_count": 54,
     "metadata": {},
     "output_type": "execute_result"
    }
   ],
   "source": [
    "# complete original non augmented speed limit signs\n",
    "original_loss, original_accuracy = combined_model.evaluate(original_images, original_labels, batch_size=BATCH_SIZE)\n",
    "original_loss, original_accuracy"
   ]
  },
  {
   "cell_type": "code",
   "execution_count": 55,
   "metadata": {
    "collapsed": true
   },
   "outputs": [],
   "source": [
    "combined_model.save('vgg16-augmented-retrained-fine-tuned.hdf5')\n",
    "# combined_model.save('vgg16-retrained-fine-tuned.hdf5')"
   ]
  },
  {
   "cell_type": "code",
   "execution_count": 56,
   "metadata": {},
   "outputs": [
    {
     "name": "stdout",
     "output_type": "stream",
     "text": [
      "-rw-rw-r-- 1 ubuntu ubuntu 88M Oct  1 10:22 vgg16-augmented-retrained-fine-tuned.hdf5\r\n"
     ]
    }
   ],
   "source": [
    "# !ls -lh vgg16-retrained-fine-tuned.hdf5\n",
    "!ls -lh vgg16-augmented-retrained-fine-tuned.hdf5"
   ]
  },
  {
   "cell_type": "markdown",
   "metadata": {
    "collapsed": true
   },
   "source": [
    "---\n",
    "\n",
    "# Hands-On: Experiment with all parameters\n",
    "  \n",
    "---"
   ]
  }
 ],
 "metadata": {
  "kernelspec": {
   "display_name": "Python 3",
   "language": "python",
   "name": "python3"
  },
  "language_info": {
   "codemirror_mode": {
    "name": "ipython",
    "version": 3
   },
   "file_extension": ".py",
   "mimetype": "text/x-python",
   "name": "python",
   "nbconvert_exporter": "python",
   "pygments_lexer": "ipython3",
   "version": "3.6.1"
  }
 },
 "nbformat": 4,
 "nbformat_minor": 2
}
