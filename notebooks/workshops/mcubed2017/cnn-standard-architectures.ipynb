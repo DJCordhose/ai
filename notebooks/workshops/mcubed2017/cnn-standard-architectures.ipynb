{
 "cells": [
  {
   "cell_type": "markdown",
   "metadata": {},
   "source": [
    "# Standard CNN Architectures\n",
    "* https://keras.io/applications/"
   ]
  },
  {
   "cell_type": "code",
   "execution_count": 1,
   "metadata": {
    "collapsed": true
   },
   "outputs": [],
   "source": [
    "import warnings\n",
    "warnings.filterwarnings('ignore')"
   ]
  },
  {
   "cell_type": "code",
   "execution_count": 2,
   "metadata": {},
   "outputs": [
    {
     "name": "stdout",
     "output_type": "stream",
     "text": [
      "Populating the interactive namespace from numpy and matplotlib\n"
     ]
    }
   ],
   "source": [
    "%matplotlib inline\n",
    "%pylab inline"
   ]
  },
  {
   "cell_type": "code",
   "execution_count": 3,
   "metadata": {
    "collapsed": true
   },
   "outputs": [],
   "source": [
    "import matplotlib.pylab as plt\n",
    "import numpy as np"
   ]
  },
  {
   "cell_type": "code",
   "execution_count": 4,
   "metadata": {
    "collapsed": true
   },
   "outputs": [],
   "source": [
    "from distutils.version import StrictVersion"
   ]
  },
  {
   "cell_type": "code",
   "execution_count": 5,
   "metadata": {},
   "outputs": [
    {
     "name": "stdout",
     "output_type": "stream",
     "text": [
      "0.18.1\n"
     ]
    }
   ],
   "source": [
    "import sklearn\n",
    "print(sklearn.__version__)\n",
    "\n",
    "assert StrictVersion(sklearn.__version__ ) >= StrictVersion('0.18.1')"
   ]
  },
  {
   "cell_type": "code",
   "execution_count": 6,
   "metadata": {},
   "outputs": [
    {
     "name": "stdout",
     "output_type": "stream",
     "text": [
      "1.2.1\n"
     ]
    }
   ],
   "source": [
    "import tensorflow as tf\n",
    "tf.logging.set_verbosity(tf.logging.ERROR)\n",
    "print(tf.__version__)\n",
    "\n",
    "assert StrictVersion(tf.__version__) >= StrictVersion('1.1.0')"
   ]
  },
  {
   "cell_type": "code",
   "execution_count": 7,
   "metadata": {},
   "outputs": [
    {
     "name": "stderr",
     "output_type": "stream",
     "text": [
      "Using TensorFlow backend.\n"
     ]
    },
    {
     "name": "stdout",
     "output_type": "stream",
     "text": [
      "2.0.6\n"
     ]
    }
   ],
   "source": [
    "import keras\n",
    "print(keras.__version__)\n",
    "\n",
    "assert StrictVersion(keras.__version__) >= StrictVersion('2.0.0')"
   ]
  },
  {
   "cell_type": "code",
   "execution_count": 8,
   "metadata": {},
   "outputs": [
    {
     "name": "stdout",
     "output_type": "stream",
     "text": [
      "0.20.1\n"
     ]
    }
   ],
   "source": [
    "import pandas as pd\n",
    "print(pd.__version__)\n",
    "\n",
    "assert StrictVersion(pd.__version__) >= StrictVersion('0.20.0')"
   ]
  },
  {
   "cell_type": "markdown",
   "metadata": {},
   "source": [
    "## Preparation"
   ]
  },
  {
   "cell_type": "code",
   "execution_count": 9,
   "metadata": {
    "collapsed": true
   },
   "outputs": [],
   "source": [
    "# for VGG, ResNet, and MobileNet\n",
    "INPUT_SHAPE = (224, 224)\n",
    "\n",
    "# for InceptionV3, InceptionResNetV2, Xception\n",
    "# INPUT_SHAPE = (299, 299)"
   ]
  },
  {
   "cell_type": "code",
   "execution_count": 19,
   "metadata": {
    "collapsed": true
   },
   "outputs": [],
   "source": [
    "EPOCHS = 50"
   ]
  },
  {
   "cell_type": "code",
   "execution_count": 36,
   "metadata": {
    "collapsed": true
   },
   "outputs": [],
   "source": [
    "# Depends on harware GPU architecture, set as high as possible (this works well on K80)\n",
    "BATCH_SIZE = 500"
   ]
  },
  {
   "cell_type": "code",
   "execution_count": 11,
   "metadata": {
    "collapsed": true
   },
   "outputs": [],
   "source": [
    "!rm -rf ./tf_log\n",
    "# https://keras.io/callbacks/#tensorboard\n",
    "tb_callback = keras.callbacks.TensorBoard(log_dir='./tf_log')\n",
    "# To start tensorboard\n",
    "# tensorboard --logdir=./tf_log\n",
    "# open http://localhost:6006"
   ]
  },
  {
   "cell_type": "code",
   "execution_count": 12,
   "metadata": {},
   "outputs": [
    {
     "name": "stdout",
     "output_type": "stream",
     "text": [
      "total 7.0M\r\n",
      "-rw-rw-r-- 1 ubuntu ubuntu 303K Sep 27 15:22 Black_New_York_stuy_town_squirrel_amanda_ernlund.jpeg\r\n",
      "-rw-rw-r-- 1 ubuntu ubuntu 140K Sep 27 15:22 cnn-augmentation.ipynb\r\n",
      "-rw-rw-r-- 1 ubuntu ubuntu 1.6M Sep 27 15:22 cnn-comparing-all-models.ipynb\r\n",
      "-rw-rw-r-- 1 ubuntu ubuntu 380K Sep 27 15:27 cnn-intro.ipynb\r\n",
      "-rw-rw-r-- 1 ubuntu ubuntu 1.3M Sep 27 15:22 cnn-prediction.ipynb\r\n",
      "-rw-rw-r-- 1 ubuntu ubuntu  38K Sep 27 15:29 cnn-standard-architectures.ipynb\r\n",
      "-rw-rw-r-- 1 ubuntu ubuntu 198K Sep 27 15:22 cnn-train-augmented.ipynb\r\n",
      "-rw-rw-r-- 1 ubuntu ubuntu  48K Sep 27 15:22 imagenet-pretrained.ipynb\r\n",
      "-rw-rw-r-- 1 ubuntu ubuntu 495K Sep 27 15:22 london.jpg\r\n",
      "drwxrwxr-x 3 ubuntu ubuntu 4.0K Sep 27 15:25 __MACOSX\r\n",
      "-rw-rw-r-- 1 ubuntu ubuntu 127K Sep 27 15:22 Michigan-MSU-raschka.jpg\r\n",
      "-rw-rw-r-- 1 ubuntu ubuntu 519K Sep 27 15:22 ml_intro.ipynb\r\n",
      "-rw-rw-r-- 1 ubuntu ubuntu 113K Sep 27 15:22 nn-intro.ipynb\r\n",
      "-rw-rw-r-- 1 ubuntu ubuntu   63 Sep 27 15:22 README.html\r\n",
      "drwxrwxr-x 8 ubuntu ubuntu 4.0K Sep 27 15:25 speed-limit-signs\r\n",
      "-rw-rw-r-- 1 ubuntu ubuntu 1.8M Sep 27 15:25 speed-limit-signs.zip\r\n",
      "-rw-rw-r-- 1 ubuntu ubuntu 7.8K Sep 27 15:22 workshop.ipynb\r\n"
     ]
    }
   ],
   "source": [
    "!ls -lh"
   ]
  },
  {
   "cell_type": "code",
   "execution_count": 13,
   "metadata": {
    "collapsed": true
   },
   "outputs": [],
   "source": [
    "import os\n",
    "import skimage.data\n",
    "import skimage.transform\n",
    "from keras.utils.np_utils import to_categorical\n",
    "import numpy as np\n",
    "\n",
    "def load_data(data_dir, type=\".ppm\"):\n",
    "    num_categories = 6\n",
    "\n",
    "    # Get all subdirectories of data_dir. Each represents a label.\n",
    "    directories = [d for d in os.listdir(data_dir) \n",
    "                   if os.path.isdir(os.path.join(data_dir, d))]\n",
    "    # Loop through the label directories and collect the data in\n",
    "    # two lists, labels and images.\n",
    "    labels = []\n",
    "    images = []\n",
    "    for d in directories:\n",
    "        label_dir = os.path.join(data_dir, d)\n",
    "        file_names = [os.path.join(label_dir, f) for f in os.listdir(label_dir) if f.endswith(type)]\n",
    "        # For each label, load it's images and add them to the images list.\n",
    "        # And add the label number (i.e. directory name) to the labels list.\n",
    "        for f in file_names:\n",
    "            images.append(skimage.data.imread(f))\n",
    "            labels.append(int(d))\n",
    "    images64 = [skimage.transform.resize(image, INPUT_SHAPE) for image in images]\n",
    "    y = np.array(labels)\n",
    "    y = to_categorical(y, num_categories)\n",
    "    X = np.array(images64)\n",
    "    return X, y"
   ]
  },
  {
   "cell_type": "code",
   "execution_count": 14,
   "metadata": {
    "collapsed": true
   },
   "outputs": [],
   "source": [
    "# Load datasets.\n",
    "ROOT_PATH = \"./\"\n",
    "original_dir = os.path.join(ROOT_PATH, \"speed-limit-signs\")\n",
    "X, y = load_data(original_dir, type=\".ppm\")"
   ]
  },
  {
   "cell_type": "code",
   "execution_count": 15,
   "metadata": {},
   "outputs": [
    {
     "data": {
      "text/plain": [
       "((303, 224, 224, 3), (303, 6))"
      ]
     },
     "execution_count": 15,
     "metadata": {},
     "output_type": "execute_result"
    }
   ],
   "source": [
    "from sklearn.model_selection import train_test_split\n",
    "X_train, X_test, y_train, y_test = train_test_split(X, y, test_size=0.2, random_state=42, stratify=y)\n",
    "X_train.shape, y_train.shape"
   ]
  },
  {
   "cell_type": "markdown",
   "metadata": {},
   "source": [
    "## VGG"
   ]
  },
  {
   "cell_type": "code",
   "execution_count": 32,
   "metadata": {
    "collapsed": true
   },
   "outputs": [],
   "source": [
    "from keras import applications\n",
    "# applications.VGG16?\n",
    "# model = applications.VGG16(include_top=False, weights='imagenet')\n",
    "model = applications.VGG16(classes=6, weights=None)"
   ]
  },
  {
   "cell_type": "code",
   "execution_count": 33,
   "metadata": {
    "collapsed": true
   },
   "outputs": [],
   "source": [
    "# lacks dropout as this only exists during training\n",
    "\n",
    "# model.summary()"
   ]
  },
  {
   "cell_type": "code",
   "execution_count": 34,
   "metadata": {
    "collapsed": true
   },
   "outputs": [],
   "source": [
    "model.compile(optimizer='adam',\n",
    "              loss='categorical_crossentropy',\n",
    "              metrics=['accuracy'])"
   ]
  },
  {
   "cell_type": "code",
   "execution_count": 35,
   "metadata": {
    "collapsed": true
   },
   "outputs": [],
   "source": [
    "# %time model.fit(X_train, y_train, epochs=EPOCHS, validation_split=0.3, callbacks=[tb_callback])"
   ]
  },
  {
   "cell_type": "markdown",
   "metadata": {},
   "source": [
    "## MobileNet"
   ]
  },
  {
   "cell_type": "code",
   "execution_count": 16,
   "metadata": {
    "collapsed": true
   },
   "outputs": [],
   "source": [
    "from keras.applications.mobilenet import MobileNet\n",
    "\n",
    "model = MobileNet(classes=6, weights=None)"
   ]
  },
  {
   "cell_type": "code",
   "execution_count": 21,
   "metadata": {},
   "outputs": [],
   "source": [
    "# model.summary()"
   ]
  },
  {
   "cell_type": "code",
   "execution_count": 22,
   "metadata": {
    "collapsed": true
   },
   "outputs": [],
   "source": [
    "model.compile(optimizer='adam',\n",
    "              loss='categorical_crossentropy',\n",
    "              metrics=['accuracy'])"
   ]
  },
  {
   "cell_type": "code",
   "execution_count": 23,
   "metadata": {},
   "outputs": [
    {
     "name": "stdout",
     "output_type": "stream",
     "text": [
      "Train on 212 samples, validate on 91 samples\n",
      "Epoch 1/50\n",
      "212/212 [==============================] - 5s - loss: 2.0239 - acc: 0.2170 - val_loss: 1.7894 - val_acc: 0.1429\n",
      "Epoch 2/50\n",
      "212/212 [==============================] - 3s - loss: 1.7915 - acc: 0.2642 - val_loss: 1.7966 - val_acc: 0.1429\n",
      "Epoch 3/50\n",
      "212/212 [==============================] - 3s - loss: 1.6676 - acc: 0.2877 - val_loss: 1.8036 - val_acc: 0.1429\n",
      "Epoch 4/50\n",
      "212/212 [==============================] - 3s - loss: 1.6491 - acc: 0.3821 - val_loss: 1.8192 - val_acc: 0.1429\n",
      "Epoch 5/50\n",
      "212/212 [==============================] - 3s - loss: 1.4930 - acc: 0.4104 - val_loss: 1.8490 - val_acc: 0.1429\n",
      "Epoch 6/50\n",
      "212/212 [==============================] - 3s - loss: 1.3754 - acc: 0.4623 - val_loss: 1.8935 - val_acc: 0.1429\n",
      "Epoch 7/50\n",
      "212/212 [==============================] - 3s - loss: 1.3231 - acc: 0.5189 - val_loss: 1.9417 - val_acc: 0.1429\n",
      "Epoch 8/50\n",
      "212/212 [==============================] - 3s - loss: 1.2213 - acc: 0.5849 - val_loss: 1.9832 - val_acc: 0.1429\n",
      "Epoch 9/50\n",
      "212/212 [==============================] - 3s - loss: 1.2044 - acc: 0.5755 - val_loss: 2.0530 - val_acc: 0.1429\n",
      "Epoch 10/50\n",
      "212/212 [==============================] - 3s - loss: 1.1640 - acc: 0.5943 - val_loss: 2.1169 - val_acc: 0.1429\n",
      "Epoch 11/50\n",
      "212/212 [==============================] - 3s - loss: 1.0064 - acc: 0.6368 - val_loss: 2.1921 - val_acc: 0.1429\n",
      "Epoch 12/50\n",
      "212/212 [==============================] - 3s - loss: 0.8319 - acc: 0.7075 - val_loss: 2.2794 - val_acc: 0.1429\n",
      "Epoch 13/50\n",
      "212/212 [==============================] - 3s - loss: 0.6816 - acc: 0.7736 - val_loss: 2.3517 - val_acc: 0.1429\n",
      "Epoch 14/50\n",
      "212/212 [==============================] - 3s - loss: 0.4551 - acc: 0.8726 - val_loss: 2.3827 - val_acc: 0.1429\n",
      "Epoch 15/50\n",
      "212/212 [==============================] - 3s - loss: 0.3819 - acc: 0.8726 - val_loss: 2.4428 - val_acc: 0.1429\n",
      "Epoch 16/50\n",
      "212/212 [==============================] - 3s - loss: 0.8007 - acc: 0.7689 - val_loss: 2.5319 - val_acc: 0.1429\n",
      "Epoch 17/50\n",
      "212/212 [==============================] - 3s - loss: 0.8920 - acc: 0.6745 - val_loss: 2.6616 - val_acc: 0.1429\n",
      "Epoch 18/50\n",
      "212/212 [==============================] - 3s - loss: 0.7286 - acc: 0.7217 - val_loss: 2.6421 - val_acc: 0.1429\n",
      "Epoch 19/50\n",
      "212/212 [==============================] - 3s - loss: 0.7033 - acc: 0.7689 - val_loss: 2.7176 - val_acc: 0.1429\n",
      "Epoch 20/50\n",
      "212/212 [==============================] - 3s - loss: 0.5436 - acc: 0.7972 - val_loss: 2.8624 - val_acc: 0.1429\n",
      "Epoch 21/50\n",
      "212/212 [==============================] - 3s - loss: 0.4424 - acc: 0.8726 - val_loss: 2.8009 - val_acc: 0.1429\n",
      "Epoch 22/50\n",
      "212/212 [==============================] - 3s - loss: 0.2267 - acc: 0.9387 - val_loss: 2.6940 - val_acc: 0.1429\n",
      "Epoch 23/50\n",
      "212/212 [==============================] - 3s - loss: 0.1768 - acc: 0.9481 - val_loss: 2.7648 - val_acc: 0.1429\n",
      "Epoch 24/50\n",
      "212/212 [==============================] - 3s - loss: 0.1886 - acc: 0.9481 - val_loss: 2.9470 - val_acc: 0.1429\n",
      "Epoch 25/50\n",
      "212/212 [==============================] - 3s - loss: 0.1278 - acc: 0.9481 - val_loss: 3.0111 - val_acc: 0.1429\n",
      "Epoch 26/50\n",
      "212/212 [==============================] - 3s - loss: 0.1963 - acc: 0.9340 - val_loss: 3.0306 - val_acc: 0.1429\n",
      "Epoch 27/50\n",
      "212/212 [==============================] - 3s - loss: 0.1895 - acc: 0.9387 - val_loss: 3.0450 - val_acc: 0.1429\n",
      "Epoch 28/50\n",
      "212/212 [==============================] - 3s - loss: 0.1706 - acc: 0.9528 - val_loss: 3.1459 - val_acc: 0.1429\n",
      "Epoch 29/50\n",
      "212/212 [==============================] - 3s - loss: 0.1855 - acc: 0.9198 - val_loss: 3.1959 - val_acc: 0.1429\n",
      "Epoch 30/50\n",
      "212/212 [==============================] - 3s - loss: 0.1251 - acc: 0.9575 - val_loss: 3.1976 - val_acc: 0.1429\n",
      "Epoch 31/50\n",
      "212/212 [==============================] - 3s - loss: 0.1074 - acc: 0.9623 - val_loss: 3.2370 - val_acc: 0.1319\n",
      "Epoch 32/50\n",
      "212/212 [==============================] - 3s - loss: 0.2552 - acc: 0.9198 - val_loss: 3.3903 - val_acc: 0.1429\n",
      "Epoch 33/50\n",
      "212/212 [==============================] - 3s - loss: 0.1966 - acc: 0.9387 - val_loss: 3.5283 - val_acc: 0.1319\n",
      "Epoch 34/50\n",
      "212/212 [==============================] - 3s - loss: 0.2450 - acc: 0.9057 - val_loss: 3.6292 - val_acc: 0.1319\n",
      "Epoch 35/50\n",
      "212/212 [==============================] - 3s - loss: 0.2014 - acc: 0.9340 - val_loss: 3.6297 - val_acc: 0.1429\n",
      "Epoch 36/50\n",
      "212/212 [==============================] - 3s - loss: 0.2022 - acc: 0.9292 - val_loss: 3.6709 - val_acc: 0.1429\n",
      "Epoch 37/50\n",
      "212/212 [==============================] - 3s - loss: 0.2456 - acc: 0.9104 - val_loss: 3.7780 - val_acc: 0.1319\n",
      "Epoch 38/50\n",
      "212/212 [==============================] - 3s - loss: 0.3094 - acc: 0.8868 - val_loss: 3.9304 - val_acc: 0.1319\n",
      "Epoch 39/50\n",
      "212/212 [==============================] - 3s - loss: 0.1441 - acc: 0.9575 - val_loss: 4.0396 - val_acc: 0.1319\n",
      "Epoch 40/50\n",
      "212/212 [==============================] - 3s - loss: 0.1356 - acc: 0.9575 - val_loss: 4.1069 - val_acc: 0.1319\n",
      "Epoch 41/50\n",
      "212/212 [==============================] - 3s - loss: 0.0836 - acc: 0.9623 - val_loss: 4.0885 - val_acc: 0.1319\n",
      "Epoch 42/50\n",
      "212/212 [==============================] - 3s - loss: 0.1456 - acc: 0.9387 - val_loss: 4.0428 - val_acc: 0.1319\n",
      "Epoch 43/50\n",
      "212/212 [==============================] - 3s - loss: 0.0722 - acc: 0.9811 - val_loss: 4.1255 - val_acc: 0.1429\n",
      "Epoch 44/50\n",
      "212/212 [==============================] - 3s - loss: 0.0822 - acc: 0.9670 - val_loss: 4.2057 - val_acc: 0.1429\n",
      "Epoch 45/50\n",
      "212/212 [==============================] - 3s - loss: 0.0754 - acc: 0.9670 - val_loss: 4.2410 - val_acc: 0.1429\n",
      "Epoch 46/50\n",
      "212/212 [==============================] - 3s - loss: 0.1312 - acc: 0.9481 - val_loss: 4.2371 - val_acc: 0.1429\n",
      "Epoch 47/50\n",
      "212/212 [==============================] - 3s - loss: 0.1098 - acc: 0.9575 - val_loss: 4.4122 - val_acc: 0.1429\n",
      "Epoch 48/50\n",
      "212/212 [==============================] - 3s - loss: 0.0848 - acc: 0.9670 - val_loss: 4.5599 - val_acc: 0.1429\n",
      "Epoch 49/50\n",
      "212/212 [==============================] - 3s - loss: 0.0842 - acc: 0.9670 - val_loss: 4.7424 - val_acc: 0.1429\n",
      "Epoch 50/50\n",
      "212/212 [==============================] - 3s - loss: 0.0714 - acc: 0.9811 - val_loss: 4.7697 - val_acc: 0.1429\n",
      "CPU times: user 2min 45s, sys: 26.9 s, total: 3min 12s\n",
      "Wall time: 3min 29s\n"
     ]
    },
    {
     "data": {
      "text/plain": [
       "<keras.callbacks.History at 0x7f21c0f5a0b8>"
      ]
     },
     "execution_count": 23,
     "metadata": {},
     "output_type": "execute_result"
    }
   ],
   "source": [
    "# %time model.fit(X_train, y_train, epochs=EPOCHS, validation_split=0.3, callbacks=[tb_callback])"
   ]
  },
  {
   "cell_type": "code",
   "execution_count": 24,
   "metadata": {},
   "outputs": [
    {
     "name": "stdout",
     "output_type": "stream",
     "text": [
      "303/303 [==============================] - 1s     \n"
     ]
    },
    {
     "data": {
      "text/plain": [
       "(5.0676892692893256, 0.1551155135183051)"
      ]
     },
     "execution_count": 24,
     "metadata": {},
     "output_type": "execute_result"
    }
   ],
   "source": [
    "# train_loss, train_accuracy = model.evaluate(X_train, y_train)\n",
    "# train_loss, train_accuracy"
   ]
  },
  {
   "cell_type": "code",
   "execution_count": 25,
   "metadata": {},
   "outputs": [
    {
     "name": "stdout",
     "output_type": "stream",
     "text": [
      "76/76 [==============================] - 0s     \n"
     ]
    },
    {
     "data": {
      "text/plain": [
       "(5.7207725926449422, 0.10526315867900848)"
      ]
     },
     "execution_count": 25,
     "metadata": {},
     "output_type": "execute_result"
    }
   ],
   "source": [
    "# test_loss, test_accuracy = model.evaluate(X_test, y_test)\n",
    "# test_loss, test_accuracy"
   ]
  },
  {
   "cell_type": "markdown",
   "metadata": {},
   "source": [
    "## ResNet"
   ]
  },
  {
   "cell_type": "code",
   "execution_count": 26,
   "metadata": {
    "collapsed": true
   },
   "outputs": [],
   "source": [
    "from keras.applications.resnet50 import ResNet50\n",
    "\n",
    "model = ResNet50(classes=6, weights=None)"
   ]
  },
  {
   "cell_type": "code",
   "execution_count": 27,
   "metadata": {
    "collapsed": true
   },
   "outputs": [],
   "source": [
    "# model.summary()"
   ]
  },
  {
   "cell_type": "code",
   "execution_count": 28,
   "metadata": {
    "collapsed": true
   },
   "outputs": [],
   "source": [
    "model.compile(optimizer='adam',\n",
    "              loss='categorical_crossentropy',\n",
    "              metrics=['accuracy'])"
   ]
  },
  {
   "cell_type": "code",
   "execution_count": 34,
   "metadata": {
    "collapsed": true
   },
   "outputs": [],
   "source": [
    "!rm -rf tf_log"
   ]
  },
  {
   "cell_type": "code",
   "execution_count": 35,
   "metadata": {},
   "outputs": [
    {
     "name": "stdout",
     "output_type": "stream",
     "text": [
      "Train on 212 samples, validate on 91 samples\n",
      "Epoch 1/100\n",
      "212/212 [==============================] - 8s - loss: 0.2553 - acc: 0.9151 - val_loss: 2.0141 - val_acc: 0.5275\n",
      "Epoch 2/100\n",
      "212/212 [==============================] - 8s - loss: 0.1925 - acc: 0.9292 - val_loss: 1.9396 - val_acc: 0.4945\n",
      "Epoch 3/100\n",
      "212/212 [==============================] - 8s - loss: 0.4397 - acc: 0.8774 - val_loss: 3.4947 - val_acc: 0.2857\n",
      "Epoch 4/100\n",
      "212/212 [==============================] - 8s - loss: 0.3725 - acc: 0.8821 - val_loss: 1.9129 - val_acc: 0.4835\n",
      "Epoch 5/100\n",
      "212/212 [==============================] - 8s - loss: 0.2597 - acc: 0.9151 - val_loss: 2.9327 - val_acc: 0.4066\n",
      "Epoch 6/100\n",
      "212/212 [==============================] - 8s - loss: 0.1937 - acc: 0.9198 - val_loss: 3.7274 - val_acc: 0.4505\n",
      "Epoch 7/100\n",
      "212/212 [==============================] - 8s - loss: 0.1454 - acc: 0.9575 - val_loss: 1.9565 - val_acc: 0.5495\n",
      "Epoch 8/100\n",
      "212/212 [==============================] - 8s - loss: 0.2035 - acc: 0.9434 - val_loss: 2.2637 - val_acc: 0.5275\n",
      "Epoch 9/100\n",
      "212/212 [==============================] - 8s - loss: 0.1064 - acc: 0.9670 - val_loss: 2.7995 - val_acc: 0.4066\n",
      "Epoch 10/100\n",
      "212/212 [==============================] - 8s - loss: 0.0299 - acc: 1.0000 - val_loss: 3.1908 - val_acc: 0.4725\n",
      "Epoch 11/100\n",
      "212/212 [==============================] - 8s - loss: 0.0470 - acc: 0.9906 - val_loss: 2.1298 - val_acc: 0.5714\n",
      "Epoch 12/100\n",
      "212/212 [==============================] - 8s - loss: 0.0820 - acc: 0.9764 - val_loss: 1.9998 - val_acc: 0.5714\n",
      "Epoch 13/100\n",
      "212/212 [==============================] - 8s - loss: 0.0649 - acc: 0.9906 - val_loss: 1.5752 - val_acc: 0.6703\n",
      "Epoch 14/100\n",
      "212/212 [==============================] - 8s - loss: 0.1933 - acc: 0.9434 - val_loss: 1.5428 - val_acc: 0.6484\n",
      "Epoch 15/100\n",
      "212/212 [==============================] - 8s - loss: 0.0831 - acc: 0.9623 - val_loss: 2.4123 - val_acc: 0.5604\n",
      "Epoch 16/100\n",
      "212/212 [==============================] - 8s - loss: 0.0512 - acc: 0.9811 - val_loss: 2.6824 - val_acc: 0.5385\n",
      "Epoch 17/100\n",
      "212/212 [==============================] - 8s - loss: 0.0191 - acc: 1.0000 - val_loss: 2.0795 - val_acc: 0.6044\n",
      "Epoch 18/100\n",
      "212/212 [==============================] - 8s - loss: 0.0380 - acc: 0.9858 - val_loss: 1.7400 - val_acc: 0.6703\n",
      "Epoch 19/100\n",
      "212/212 [==============================] - 8s - loss: 0.0092 - acc: 1.0000 - val_loss: 1.7605 - val_acc: 0.6374\n",
      "Epoch 20/100\n",
      "212/212 [==============================] - 8s - loss: 0.0522 - acc: 0.9858 - val_loss: 1.6279 - val_acc: 0.6813\n",
      "Epoch 21/100\n",
      "212/212 [==============================] - 8s - loss: 0.0730 - acc: 0.9623 - val_loss: 1.9982 - val_acc: 0.6593\n",
      "Epoch 22/100\n",
      "212/212 [==============================] - 8s - loss: 0.1264 - acc: 0.9670 - val_loss: 2.2331 - val_acc: 0.5495\n",
      "Epoch 23/100\n",
      "212/212 [==============================] - 8s - loss: 0.0809 - acc: 0.9764 - val_loss: 2.0914 - val_acc: 0.6044\n",
      "Epoch 24/100\n",
      "212/212 [==============================] - 8s - loss: 0.0414 - acc: 0.9858 - val_loss: 1.8933 - val_acc: 0.6374\n",
      "Epoch 25/100\n",
      "212/212 [==============================] - 8s - loss: 0.0739 - acc: 0.9811 - val_loss: 1.6593 - val_acc: 0.6044\n",
      "Epoch 26/100\n",
      "212/212 [==============================] - 8s - loss: 0.0571 - acc: 0.9811 - val_loss: 2.5536 - val_acc: 0.5165\n",
      "Epoch 27/100\n",
      "212/212 [==============================] - 8s - loss: 0.0920 - acc: 0.9858 - val_loss: 2.8156 - val_acc: 0.4066\n",
      "Epoch 28/100\n",
      "212/212 [==============================] - 8s - loss: 0.1423 - acc: 0.9575 - val_loss: 3.1664 - val_acc: 0.4176\n",
      "Epoch 29/100\n",
      "212/212 [==============================] - 8s - loss: 0.0806 - acc: 0.9717 - val_loss: 4.0057 - val_acc: 0.4615\n",
      "Epoch 30/100\n",
      "212/212 [==============================] - 8s - loss: 0.0979 - acc: 0.9764 - val_loss: 3.3068 - val_acc: 0.4396\n",
      "Epoch 31/100\n",
      "212/212 [==============================] - 8s - loss: 0.0974 - acc: 0.9528 - val_loss: 2.3128 - val_acc: 0.5165\n",
      "Epoch 32/100\n",
      "212/212 [==============================] - 8s - loss: 0.0727 - acc: 0.9670 - val_loss: 3.1262 - val_acc: 0.4396\n",
      "Epoch 33/100\n",
      "212/212 [==============================] - 8s - loss: 0.0398 - acc: 0.9764 - val_loss: 6.3366 - val_acc: 0.2747\n",
      "Epoch 34/100\n",
      "212/212 [==============================] - 8s - loss: 0.1138 - acc: 0.9670 - val_loss: 7.2039 - val_acc: 0.2527\n",
      "Epoch 35/100\n",
      "212/212 [==============================] - 8s - loss: 0.1181 - acc: 0.9670 - val_loss: 5.4624 - val_acc: 0.3297\n",
      "Epoch 36/100\n",
      "212/212 [==============================] - 8s - loss: 0.1107 - acc: 0.9670 - val_loss: 4.5996 - val_acc: 0.4286\n",
      "Epoch 37/100\n",
      "212/212 [==============================] - 8s - loss: 0.0631 - acc: 0.9764 - val_loss: 7.7041 - val_acc: 0.2418\n",
      "Epoch 38/100\n",
      "212/212 [==============================] - 8s - loss: 0.0369 - acc: 0.9953 - val_loss: 8.6701 - val_acc: 0.3297\n",
      "Epoch 39/100\n",
      "212/212 [==============================] - 8s - loss: 0.0393 - acc: 0.9858 - val_loss: 6.5642 - val_acc: 0.3297\n",
      "Epoch 40/100\n",
      "212/212 [==============================] - 8s - loss: 0.0761 - acc: 0.9811 - val_loss: 5.3131 - val_acc: 0.3956\n",
      "Epoch 41/100\n",
      "212/212 [==============================] - 8s - loss: 0.0693 - acc: 0.9670 - val_loss: 3.1552 - val_acc: 0.5275\n",
      "Epoch 42/100\n",
      "212/212 [==============================] - 8s - loss: 0.1638 - acc: 0.9623 - val_loss: 3.7707 - val_acc: 0.5604\n",
      "Epoch 43/100\n",
      "212/212 [==============================] - 8s - loss: 0.1317 - acc: 0.9764 - val_loss: 4.8070 - val_acc: 0.4066\n",
      "Epoch 44/100\n",
      "212/212 [==============================] - 8s - loss: 0.1746 - acc: 0.9340 - val_loss: 4.2275 - val_acc: 0.4615\n",
      "Epoch 45/100\n",
      "212/212 [==============================] - 8s - loss: 0.0603 - acc: 0.9764 - val_loss: 4.7497 - val_acc: 0.3956\n",
      "Epoch 46/100\n",
      "212/212 [==============================] - 8s - loss: 0.0668 - acc: 0.9858 - val_loss: 3.5568 - val_acc: 0.4615\n",
      "Epoch 47/100\n",
      "212/212 [==============================] - 8s - loss: 0.0948 - acc: 0.9717 - val_loss: 2.3082 - val_acc: 0.5824\n",
      "Epoch 48/100\n",
      "212/212 [==============================] - 8s - loss: 0.0618 - acc: 0.9764 - val_loss: 4.5133 - val_acc: 0.4505\n",
      "Epoch 49/100\n",
      "212/212 [==============================] - 8s - loss: 0.0555 - acc: 0.9858 - val_loss: 6.0208 - val_acc: 0.4176\n",
      "Epoch 50/100\n",
      "212/212 [==============================] - 8s - loss: 0.0420 - acc: 0.9858 - val_loss: 4.3643 - val_acc: 0.4396\n",
      "Epoch 51/100\n",
      "212/212 [==============================] - 8s - loss: 0.0685 - acc: 0.9575 - val_loss: 4.8200 - val_acc: 0.4396\n",
      "Epoch 52/100\n",
      "212/212 [==============================] - 8s - loss: 0.0592 - acc: 0.9764 - val_loss: 6.9605 - val_acc: 0.3407\n",
      "Epoch 53/100\n",
      "212/212 [==============================] - 8s - loss: 0.0704 - acc: 0.9811 - val_loss: 5.3993 - val_acc: 0.4396\n",
      "Epoch 54/100\n",
      "212/212 [==============================] - 8s - loss: 0.0788 - acc: 0.9623 - val_loss: 3.0801 - val_acc: 0.5275\n",
      "Epoch 55/100\n",
      "212/212 [==============================] - 8s - loss: 0.0517 - acc: 0.9717 - val_loss: 2.9114 - val_acc: 0.5495\n",
      "Epoch 56/100\n",
      "212/212 [==============================] - 8s - loss: 0.0153 - acc: 1.0000 - val_loss: 3.7430 - val_acc: 0.4725\n",
      "Epoch 57/100\n",
      "212/212 [==============================] - 8s - loss: 0.0114 - acc: 1.0000 - val_loss: 4.8871 - val_acc: 0.4176\n",
      "Epoch 58/100\n",
      "212/212 [==============================] - 8s - loss: 0.0123 - acc: 0.9953 - val_loss: 4.9633 - val_acc: 0.4725\n",
      "Epoch 59/100\n",
      "212/212 [==============================] - 8s - loss: 0.0051 - acc: 1.0000 - val_loss: 3.9265 - val_acc: 0.5824\n",
      "Epoch 60/100\n",
      "212/212 [==============================] - 8s - loss: 0.0065 - acc: 1.0000 - val_loss: 3.2554 - val_acc: 0.5495\n",
      "Epoch 61/100\n",
      "212/212 [==============================] - 8s - loss: 0.0031 - acc: 1.0000 - val_loss: 2.8074 - val_acc: 0.5714\n",
      "Epoch 62/100\n",
      "212/212 [==============================] - 8s - loss: 0.0037 - acc: 1.0000 - val_loss: 2.3437 - val_acc: 0.6374\n",
      "Epoch 63/100\n",
      "212/212 [==============================] - 8s - loss: 0.0032 - acc: 1.0000 - val_loss: 2.1073 - val_acc: 0.6593\n",
      "Epoch 64/100\n",
      "212/212 [==============================] - 8s - loss: 0.0151 - acc: 0.9906 - val_loss: 2.2993 - val_acc: 0.6374\n",
      "Epoch 65/100\n",
      "212/212 [==============================] - 8s - loss: 0.0094 - acc: 0.9953 - val_loss: 3.0219 - val_acc: 0.5934\n",
      "Epoch 66/100\n"
     ]
    },
    {
     "name": "stdout",
     "output_type": "stream",
     "text": [
      "212/212 [==============================] - 8s - loss: 0.0240 - acc: 0.9953 - val_loss: 2.5321 - val_acc: 0.6154\n",
      "Epoch 67/100\n",
      "212/212 [==============================] - 8s - loss: 0.0274 - acc: 0.9858 - val_loss: 2.0197 - val_acc: 0.7033\n",
      "Epoch 68/100\n",
      "212/212 [==============================] - 8s - loss: 0.0175 - acc: 0.9953 - val_loss: 1.9551 - val_acc: 0.6593\n",
      "Epoch 69/100\n",
      "212/212 [==============================] - 8s - loss: 0.0188 - acc: 0.9953 - val_loss: 3.2574 - val_acc: 0.5165\n",
      "Epoch 70/100\n",
      "212/212 [==============================] - 8s - loss: 0.1339 - acc: 0.9623 - val_loss: 2.7338 - val_acc: 0.5275\n",
      "Epoch 71/100\n",
      "212/212 [==============================] - 8s - loss: 0.1112 - acc: 0.9623 - val_loss: 2.6235 - val_acc: 0.5604\n",
      "Epoch 72/100\n",
      "212/212 [==============================] - 8s - loss: 0.0994 - acc: 0.9623 - val_loss: 2.3237 - val_acc: 0.6044\n",
      "Epoch 73/100\n",
      "212/212 [==============================] - 8s - loss: 0.0906 - acc: 0.9858 - val_loss: 2.7930 - val_acc: 0.5495\n",
      "Epoch 74/100\n",
      "212/212 [==============================] - 8s - loss: 0.0725 - acc: 0.9717 - val_loss: 3.2293 - val_acc: 0.5275\n",
      "Epoch 75/100\n",
      "212/212 [==============================] - 8s - loss: 0.0823 - acc: 0.9670 - val_loss: 3.3574 - val_acc: 0.4286\n",
      "Epoch 76/100\n",
      "212/212 [==============================] - 8s - loss: 0.0982 - acc: 0.9717 - val_loss: 4.6057 - val_acc: 0.5165\n",
      "Epoch 77/100\n",
      "212/212 [==============================] - 8s - loss: 0.0523 - acc: 0.9764 - val_loss: 6.6271 - val_acc: 0.3956\n",
      "Epoch 78/100\n",
      "212/212 [==============================] - 8s - loss: 0.1706 - acc: 0.9575 - val_loss: 7.2939 - val_acc: 0.3516\n",
      "Epoch 79/100\n",
      "212/212 [==============================] - 8s - loss: 0.1353 - acc: 0.9670 - val_loss: 7.6220 - val_acc: 0.3407\n",
      "Epoch 80/100\n",
      "212/212 [==============================] - 8s - loss: 0.1347 - acc: 0.9528 - val_loss: 5.5375 - val_acc: 0.4396\n",
      "Epoch 81/100\n",
      "212/212 [==============================] - 8s - loss: 0.0803 - acc: 0.9670 - val_loss: 3.3922 - val_acc: 0.4835\n",
      "Epoch 82/100\n",
      "212/212 [==============================] - 8s - loss: 0.1937 - acc: 0.9575 - val_loss: 3.6924 - val_acc: 0.4505\n",
      "Epoch 83/100\n",
      "212/212 [==============================] - 8s - loss: 0.1067 - acc: 0.9575 - val_loss: 2.6888 - val_acc: 0.6264\n",
      "Epoch 84/100\n",
      "212/212 [==============================] - 8s - loss: 0.0771 - acc: 0.9717 - val_loss: 5.3441 - val_acc: 0.4396\n",
      "Epoch 85/100\n",
      "212/212 [==============================] - 8s - loss: 0.0561 - acc: 0.9764 - val_loss: 5.3330 - val_acc: 0.4615\n",
      "Epoch 86/100\n",
      "212/212 [==============================] - 8s - loss: 0.0152 - acc: 0.9953 - val_loss: 5.0122 - val_acc: 0.5055\n",
      "Epoch 87/100\n",
      "212/212 [==============================] - 8s - loss: 0.0291 - acc: 0.9906 - val_loss: 4.8722 - val_acc: 0.5055\n",
      "Epoch 88/100\n",
      "212/212 [==============================] - 8s - loss: 0.0316 - acc: 0.9906 - val_loss: 3.0672 - val_acc: 0.5604\n",
      "Epoch 89/100\n",
      "212/212 [==============================] - 8s - loss: 0.0071 - acc: 1.0000 - val_loss: 2.0650 - val_acc: 0.6813\n",
      "Epoch 90/100\n",
      "212/212 [==============================] - 8s - loss: 0.0180 - acc: 0.9906 - val_loss: 1.7493 - val_acc: 0.7143\n",
      "Epoch 91/100\n",
      "212/212 [==============================] - 8s - loss: 0.0255 - acc: 0.9906 - val_loss: 1.6586 - val_acc: 0.7033\n",
      "Epoch 92/100\n",
      "212/212 [==============================] - 8s - loss: 0.0032 - acc: 1.0000 - val_loss: 2.2155 - val_acc: 0.6593\n",
      "Epoch 93/100\n",
      "212/212 [==============================] - 8s - loss: 0.1468 - acc: 0.9764 - val_loss: 2.2464 - val_acc: 0.6264\n",
      "Epoch 94/100\n",
      "212/212 [==============================] - 8s - loss: 0.0974 - acc: 0.9717 - val_loss: 6.5579 - val_acc: 0.4615\n",
      "Epoch 95/100\n",
      "212/212 [==============================] - 8s - loss: 0.0226 - acc: 0.9858 - val_loss: 5.4283 - val_acc: 0.4945\n",
      "Epoch 96/100\n",
      "212/212 [==============================] - 8s - loss: 0.0097 - acc: 1.0000 - val_loss: 4.1558 - val_acc: 0.5604\n",
      "Epoch 97/100\n",
      "212/212 [==============================] - 8s - loss: 0.0237 - acc: 0.9906 - val_loss: 1.9467 - val_acc: 0.6264\n",
      "Epoch 98/100\n",
      "212/212 [==============================] - 8s - loss: 0.0085 - acc: 1.0000 - val_loss: 1.8465 - val_acc: 0.6813\n",
      "Epoch 99/100\n",
      "212/212 [==============================] - 8s - loss: 0.0105 - acc: 0.9953 - val_loss: 2.8758 - val_acc: 0.6044\n",
      "Epoch 100/100\n",
      "212/212 [==============================] - 8s - loss: 0.0080 - acc: 1.0000 - val_loss: 7.8377 - val_acc: 0.3297\n",
      "CPU times: user 13min 49s, sys: 58.6 s, total: 14min 48s\n",
      "Wall time: 14min 51s\n"
     ]
    },
    {
     "data": {
      "text/plain": [
       "<keras.callbacks.History at 0x7f21bbcdb4e0>"
      ]
     },
     "execution_count": 35,
     "metadata": {},
     "output_type": "execute_result"
    }
   ],
   "source": [
    "# https://github.com/fchollet/keras/issues/6014\n",
    "# batch normalization seems to mess with accuracy when test data set is small, accuracy here is different from below\n",
    "%time model.fit(X_train, y_train, epochs=100, validation_split=0.3, callbacks=[tb_callback], batch_size=BATCH_SIZE)"
   ]
  },
  {
   "cell_type": "code",
   "execution_count": 41,
   "metadata": {},
   "outputs": [
    {
     "name": "stdout",
     "output_type": "stream",
     "text": [
      "303/303 [==============================] - 3s\n"
     ]
    },
    {
     "data": {
      "text/plain": [
       "(6.5429391860961914, 0.36303630471229553)"
      ]
     },
     "execution_count": 41,
     "metadata": {},
     "output_type": "execute_result"
    }
   ],
   "source": [
    "train_loss, train_accuracy = model.evaluate(X_train, y_train, batch_size=BATCH_SIZE)\n",
    "train_loss, train_accuracy"
   ]
  },
  {
   "cell_type": "code",
   "execution_count": 42,
   "metadata": {},
   "outputs": [
    {
     "name": "stdout",
     "output_type": "stream",
     "text": [
      "76/76 [==============================] - 0s\n"
     ]
    },
    {
     "data": {
      "text/plain": [
       "(6.9960803985595703, 0.26315790414810181)"
      ]
     },
     "execution_count": 42,
     "metadata": {},
     "output_type": "execute_result"
    }
   ],
   "source": [
    "test_loss, test_accuracy = model.evaluate(X_test, y_test, batch_size=BATCH_SIZE)\n",
    "test_loss, test_accuracy"
   ]
  },
  {
   "cell_type": "code",
   "execution_count": null,
   "metadata": {
    "collapsed": true
   },
   "outputs": [],
   "source": []
  }
 ],
 "metadata": {
  "kernelspec": {
   "display_name": "Python 3",
   "language": "python",
   "name": "python3"
  },
  "language_info": {
   "codemirror_mode": {
    "name": "ipython",
    "version": 3
   },
   "file_extension": ".py",
   "mimetype": "text/x-python",
   "name": "python",
   "nbconvert_exporter": "python",
   "pygments_lexer": "ipython3",
   "version": "3.6.1"
  }
 },
 "nbformat": 4,
 "nbformat_minor": 2
}
