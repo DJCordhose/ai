{
 "cells": [
  {
   "cell_type": "markdown",
   "metadata": {},
   "source": [
    "# Retrain a VGG16 Architecture\n",
    "* https://keras.io/applications/#vgg16\n",
    "* https://blog.keras.io/building-powerful-image-classification-models-using-very-little-data.html\n",
    "* https://github.com/fchollet/deep-learning-with-python-notebooks/blob/master/5.3-using-a-pretrained-convnet.ipynb"
   ]
  },
  {
   "cell_type": "code",
   "execution_count": 1,
   "metadata": {
    "collapsed": true
   },
   "outputs": [],
   "source": [
    "import warnings\n",
    "warnings.filterwarnings('ignore')"
   ]
  },
  {
   "cell_type": "code",
   "execution_count": 2,
   "metadata": {},
   "outputs": [
    {
     "name": "stdout",
     "output_type": "stream",
     "text": [
      "Populating the interactive namespace from numpy and matplotlib\n"
     ]
    }
   ],
   "source": [
    "%matplotlib inline\n",
    "%pylab inline"
   ]
  },
  {
   "cell_type": "code",
   "execution_count": 3,
   "metadata": {
    "collapsed": true
   },
   "outputs": [],
   "source": [
    "import matplotlib.pylab as plt\n",
    "import numpy as np"
   ]
  },
  {
   "cell_type": "code",
   "execution_count": 4,
   "metadata": {
    "collapsed": true
   },
   "outputs": [],
   "source": [
    "from distutils.version import StrictVersion"
   ]
  },
  {
   "cell_type": "code",
   "execution_count": 5,
   "metadata": {},
   "outputs": [
    {
     "name": "stdout",
     "output_type": "stream",
     "text": [
      "0.18.1\n"
     ]
    }
   ],
   "source": [
    "import sklearn\n",
    "print(sklearn.__version__)\n",
    "\n",
    "assert StrictVersion(sklearn.__version__ ) >= StrictVersion('0.18.1')"
   ]
  },
  {
   "cell_type": "code",
   "execution_count": 6,
   "metadata": {},
   "outputs": [
    {
     "name": "stdout",
     "output_type": "stream",
     "text": [
      "1.3.0\n"
     ]
    }
   ],
   "source": [
    "import tensorflow as tf\n",
    "tf.logging.set_verbosity(tf.logging.ERROR)\n",
    "print(tf.__version__)\n",
    "\n",
    "assert StrictVersion(tf.__version__) >= StrictVersion('1.1.0')"
   ]
  },
  {
   "cell_type": "code",
   "execution_count": 7,
   "metadata": {},
   "outputs": [
    {
     "name": "stderr",
     "output_type": "stream",
     "text": [
      "Using TensorFlow backend.\n"
     ]
    },
    {
     "name": "stdout",
     "output_type": "stream",
     "text": [
      "2.0.8\n"
     ]
    }
   ],
   "source": [
    "import keras\n",
    "print(keras.__version__)\n",
    "\n",
    "assert StrictVersion(keras.__version__) >= StrictVersion('2.0.0')"
   ]
  },
  {
   "cell_type": "code",
   "execution_count": 8,
   "metadata": {},
   "outputs": [
    {
     "name": "stdout",
     "output_type": "stream",
     "text": [
      "0.20.1\n"
     ]
    }
   ],
   "source": [
    "import pandas as pd\n",
    "print(pd.__version__)\n",
    "\n",
    "assert StrictVersion(pd.__version__) >= StrictVersion('0.20.0')"
   ]
  },
  {
   "cell_type": "markdown",
   "metadata": {},
   "source": [
    "## Preparation"
   ]
  },
  {
   "cell_type": "code",
   "execution_count": 9,
   "metadata": {
    "collapsed": true
   },
   "outputs": [],
   "source": [
    "INPUT_SHAPE = (64, 64)\n",
    "# INPUT_SHAPE = (128, 128)\n",
    "# INPUT_SHAPE = (256, 256)"
   ]
  },
  {
   "cell_type": "code",
   "execution_count": 10,
   "metadata": {
    "collapsed": true
   },
   "outputs": [],
   "source": [
    "EPOCHS = 50"
   ]
  },
  {
   "cell_type": "code",
   "execution_count": 11,
   "metadata": {
    "collapsed": true
   },
   "outputs": [],
   "source": [
    "# Depends on harware GPU architecture, set as high as possible (this works well on K80)\n",
    "BATCH_SIZE = 100"
   ]
  },
  {
   "cell_type": "code",
   "execution_count": 12,
   "metadata": {
    "collapsed": true
   },
   "outputs": [],
   "source": [
    "!rm -rf ./tf_log\n",
    "# https://keras.io/callbacks/#tensorboard\n",
    "tb_callback = keras.callbacks.TensorBoard(log_dir='./tf_log')\n",
    "# To start tensorboard\n",
    "# tensorboard --logdir=./tf_log\n",
    "# open http://localhost:6006"
   ]
  },
  {
   "cell_type": "code",
   "execution_count": 13,
   "metadata": {},
   "outputs": [
    {
     "name": "stdout",
     "output_type": "stream",
     "text": [
      "total 74G\r\n",
      "-rwxrwxrwx 1 root root  44K Sep 28 19:12 440px-Beagle_Upsy.jpg\r\n",
      "drwxrwxrwx 0 root root  512 Sep 30 12:14 augmented-signs\r\n",
      "-rwxrwxrwx 1 root root  17M Sep 30 12:13 augmented-signs.zip\r\n",
      "-rwxrwxrwx 1 root root 303K Sep 28 18:29 Black_New_York_stuy_town_squirrel_amanda_ernlund.jpeg\r\n",
      "-rwxrwxrwx 1 root root 844K Sep 28 20:07 cat-bonkers.png\r\n",
      "-rwxrwxrwx 1 root root 140K Sep 27 15:54 cnn-augmentation.ipynb\r\n",
      "-rwxrwxrwx 1 root root 1.6M Sep 27 15:54 cnn-comparing-all-models.ipynb\r\n",
      "-rwxrwxrwx 1 root root 102K Sep 30 13:50 cnn-imagenet-retrain.ipynb\r\n",
      "-rwxrwxrwx 1 root root 158K Sep 30 10:48 cnn-intro.ipynb\r\n",
      "-rwxrwxrwx 1 root root 1.3M Sep 28 21:22 cnn-prediction.ipynb\r\n",
      "-rwxrwxrwx 1 root root 158K Sep 30 09:38 cnn-standard-architectures.ipynb\r\n",
      "-rwxrwxrwx 1 root root 198K Sep 30 12:12 cnn-train-augmented.ipynb\r\n",
      "-rwxrwxrwx 1 root root 495K Sep 28 18:29 london.jpg\r\n",
      "drwxrwxrwx 0 root root  512 Sep 27 16:11 __MACOSX\r\n",
      "-rwxrwxrwx 1 root root 127K Sep 28 18:29 Michigan-MSU-raschka.jpg\r\n",
      "-rwxrwxrwx 1 root root 519K Sep 30 10:51 ml-intro.ipynb\r\n",
      "-rwxrwxrwx 1 root root 287K Sep 28 21:37 nn-intro.ipynb\r\n",
      "-rwxrwxrwx 1 root root  22K Sep 28 21:36 nn-iris.hdf5\r\n",
      "-rwxrwxrwx 1 root root   63 Sep 27 15:54 README.html\r\n",
      "-rwxrwxrwx 1 root root   36 Aug  3 21:15 sample_iris.json\r\n",
      "drwxrwxrwx 0 root root  512 Sep 27 16:11 speed-limit-signs\r\n",
      "-rwxrwxrwx 1 root root 344K Sep 30 11:50 speed-limit-signs.ipynb\r\n",
      "-rwxrwxrwx 1 root root 1.8M Sep 29 16:35 speed-limit-signs.zip\r\n",
      "drwxrwxrwx 0 root root  512 Sep 28 21:36 tf\r\n",
      "drwxrwxrwx 0 root root  512 Sep 28 20:43 tmp\r\n",
      "-rwxrwxrwx 1 root root  59M Sep 30 13:30 vgg16-auugmented-retrained.hdf5\r\n",
      "-rwxrwxrwx 1 root root  65M Sep 30 13:50 vgg16-retrained.hdf5\r\n",
      "-rwxrwxrwx 1 root root  14K Sep 30 13:41 workshop.ipynb\r\n"
     ]
    }
   ],
   "source": [
    "!ls -lh"
   ]
  },
  {
   "cell_type": "code",
   "execution_count": 14,
   "metadata": {
    "collapsed": true
   },
   "outputs": [],
   "source": [
    "import os\n",
    "import skimage.data\n",
    "import skimage.transform\n",
    "from keras.utils.np_utils import to_categorical\n",
    "import numpy as np\n",
    "\n",
    "def load_data(data_dir, type=\".ppm\"):\n",
    "    num_categories = 6\n",
    "\n",
    "    # Get all subdirectories of data_dir. Each represents a label.\n",
    "    directories = [d for d in os.listdir(data_dir) \n",
    "                   if os.path.isdir(os.path.join(data_dir, d))]\n",
    "    # Loop through the label directories and collect the data in\n",
    "    # two lists, labels and images.\n",
    "    labels = []\n",
    "    images = []\n",
    "    for d in directories:\n",
    "        label_dir = os.path.join(data_dir, d)\n",
    "        file_names = [os.path.join(label_dir, f) for f in os.listdir(label_dir) if f.endswith(type)]\n",
    "        # For each label, load it's images and add them to the images list.\n",
    "        # And add the label number (i.e. directory name) to the labels list.\n",
    "        for f in file_names:\n",
    "            images.append(skimage.data.imread(f))\n",
    "            labels.append(int(d))\n",
    "    images64 = [skimage.transform.resize(image, INPUT_SHAPE) for image in images]\n",
    "    y = np.array(labels)\n",
    "    y = to_categorical(y, num_categories)\n",
    "    X = np.array(images64)\n",
    "    return X, y"
   ]
  },
  {
   "cell_type": "code",
   "execution_count": 15,
   "metadata": {
    "collapsed": true
   },
   "outputs": [],
   "source": [
    "# Load datasets.\n",
    "ROOT_PATH = \"./\"\n",
    "original_dir = os.path.join(ROOT_PATH, \"speed-limit-signs\")\n",
    "X, y = load_data(original_dir, type=\".ppm\")"
   ]
  },
  {
   "cell_type": "markdown",
   "metadata": {},
   "source": [
    "### Uncomment next three cells if you want to train on augmented image set\n",
    "#### Otherwise Overfitting can not be avoided because image set is simply too small"
   ]
  },
  {
   "cell_type": "code",
   "execution_count": 16,
   "metadata": {
    "collapsed": true
   },
   "outputs": [],
   "source": [
    "# !curl -O https://raw.githubusercontent.com/DJCordhose/speed-limit-signs/master/data/augmented-signs.zip\n",
    "# from zipfile import ZipFile\n",
    "# zip = ZipFile('augmented-signs.zip')\n",
    "# zip.extractall('.')"
   ]
  },
  {
   "cell_type": "code",
   "execution_count": 17,
   "metadata": {
    "collapsed": true
   },
   "outputs": [],
   "source": [
    "# data_dir = os.path.join(ROOT_PATH, \"augmented-signs\")\n",
    "# augmented_images, augmented_labels = load_data(data_dir, type=\".png\")"
   ]
  },
  {
   "cell_type": "code",
   "execution_count": 18,
   "metadata": {
    "collapsed": true
   },
   "outputs": [],
   "source": [
    "# # merge both data sets\n",
    "\n",
    "# all_images = np.vstack((X, augmented_images))\n",
    "# all_labels = np.vstack((y, augmented_labels))\n",
    "\n",
    "# # shuffle\n",
    "# # https://stackoverflow.com/a/4602224\n",
    "\n",
    "# p = numpy.random.permutation(len(all_labels))\n",
    "# shuffled_images = all_images[p]\n",
    "# shuffled_labels = all_labels[p]\n",
    "# X, y = shuffled_images, shuffled_labels"
   ]
  },
  {
   "cell_type": "code",
   "execution_count": 19,
   "metadata": {},
   "outputs": [
    {
     "data": {
      "text/plain": [
       "((303, 64, 64, 3), (303, 6))"
      ]
     },
     "execution_count": 19,
     "metadata": {},
     "output_type": "execute_result"
    }
   ],
   "source": [
    "from sklearn.model_selection import train_test_split\n",
    "X_train, X_test, y_train, y_test = train_test_split(X, y, test_size=0.2, random_state=42, stratify=y)\n",
    "X_train.shape, y_train.shape"
   ]
  },
  {
   "cell_type": "markdown",
   "metadata": {},
   "source": [
    "## First Step: Load VGG pretrained on imagenet and remove classifier\n",
    "### Hope: Feature Extraction will also work well for Speed Limit Signs"
   ]
  },
  {
   "cell_type": "markdown",
   "metadata": {},
   "source": [
    "![VGG architecture](https://djcordhose.github.io/ai/img/sketch/vgg-no-classifier.png)"
   ]
  },
  {
   "cell_type": "markdown",
   "metadata": {},
   "source": [
    "### Imagenet\n",
    "* Collection of labelled images from many categories\n",
    "* http://image-net.org/"
   ]
  },
  {
   "cell_type": "markdown",
   "metadata": {},
   "source": [
    "http://image-net.org/about-stats\n",
    "\n",
    "<table class=\"table-stats\" style=\"width: 500px\">\n",
    "<tbody><tr>\n",
    "<td width=\"25%\"><b>High level category</b></td>\n",
    "<td width=\"20%\"><b># synset (subcategories)</b></td>\n",
    "<td width=\"30%\"><b>Avg # images per synset</b></td>\n",
    "<td width=\"25%\"><b>Total # images</b></td>\n",
    "</tr>\n",
    "\n",
    "<tr><td>amphibian</td><td>94</td><td>591</td><td>56K</td></tr>\n",
    "\n",
    "<tr><td>animal</td><td>3822</td><td>732</td><td>2799K</td></tr>\n",
    "\n",
    "<tr><td>appliance</td><td>51</td><td>1164</td><td>59K</td></tr>\n",
    "\n",
    "<tr><td>bird</td><td>856</td><td>949</td><td>812K</td></tr>\n",
    "\n",
    "<tr><td>covering</td><td>946</td><td>819</td><td>774K</td></tr>\n",
    "\n",
    "<tr><td>device</td><td>2385</td><td>675</td><td>1610K</td></tr>\n",
    "\n",
    "<tr><td>fabric</td><td>262</td><td>690</td><td>181K</td></tr>\n",
    "\n",
    "<tr><td>fish</td><td>566</td><td>494</td><td>280K</td></tr>\n",
    "\n",
    "<tr><td>flower</td><td>462</td><td>735</td><td>339K</td></tr>\n",
    "\n",
    "<tr><td>food</td><td>1495</td><td>670</td><td>1001K</td></tr>\n",
    "\n",
    "<tr><td>fruit</td><td>309</td><td>607</td><td>188K</td></tr>\n",
    "\n",
    "<tr><td>fungus</td><td>303</td><td>453</td><td>137K</td></tr>\n",
    "\n",
    "<tr><td>furniture</td><td>187</td><td>1043</td><td>195K</td></tr>\n",
    "\n",
    "<tr><td>geological formation</td><td>151</td><td>838</td><td>127K</td></tr>\n",
    "\n",
    "<tr><td>invertebrate</td><td>728</td><td>573</td><td>417K</td></tr>\n",
    "\n",
    "<tr><td>mammal</td><td>1138</td><td>821</td><td>934K</td></tr>\n",
    "\n",
    "<tr><td>musical instrument</td><td>157</td><td>891</td><td>140K</td></tr>\n",
    "\n",
    "\n",
    "<tr><td>plant</td><td>1666</td><td>600</td><td>999K</td></tr>\n",
    "\n",
    "<tr><td>reptile</td><td>268</td><td>707</td><td>190K</td></tr>\n",
    "\n",
    "<tr><td>sport</td><td>166</td><td>1207</td><td>200K</td></tr>\n",
    "\n",
    "<tr><td>structure</td><td>1239</td><td>763</td><td>946K</td></tr>\n",
    "\n",
    "<tr><td>tool</td><td>316</td><td>551</td><td>174K</td></tr>\n",
    "\n",
    "<tr><td>tree</td><td>993</td><td>568</td><td>564K</td></tr>\n",
    "\n",
    "<tr><td>utensil</td><td>86</td><td>912</td><td>78K</td></tr>\n",
    "\n",
    "<tr><td>vegetable</td><td>176</td><td>764</td><td>135K</td></tr>\n",
    "\n",
    "<tr><td>vehicle</td><td>481</td><td>778</td><td>374K</td></tr>\n",
    "\n",
    "<tr><td>person</td><td>2035</td><td>468</td><td>952K</td></tr>\n",
    "\n",
    "</tbody></table>"
   ]
  },
  {
   "cell_type": "markdown",
   "metadata": {},
   "source": [
    "### Might be more suitable for cats and dogs, but is the best we have right now"
   ]
  },
  {
   "cell_type": "code",
   "execution_count": 20,
   "metadata": {
    "collapsed": true
   },
   "outputs": [],
   "source": [
    "from keras import applications\n",
    "# applications.VGG16?\n",
    "vgg_model = applications.VGG16(include_top=False, weights='imagenet', input_shape=(64, 64, 3))\n",
    "# vgg_model = applications.VGG16(include_top=False, weights='imagenet', input_shape=(128, 128, 3))"
   ]
  },
  {
   "cell_type": "markdown",
   "metadata": {},
   "source": [
    "### All Convolutional Blocks are kept fully trained, we just removed the classifier part"
   ]
  },
  {
   "cell_type": "code",
   "execution_count": 21,
   "metadata": {},
   "outputs": [
    {
     "name": "stdout",
     "output_type": "stream",
     "text": [
      "_________________________________________________________________\n",
      "Layer (type)                 Output Shape              Param #   \n",
      "=================================================================\n",
      "input_1 (InputLayer)         (None, 64, 64, 3)         0         \n",
      "_________________________________________________________________\n",
      "block1_conv1 (Conv2D)        (None, 64, 64, 64)        1792      \n",
      "_________________________________________________________________\n",
      "block1_conv2 (Conv2D)        (None, 64, 64, 64)        36928     \n",
      "_________________________________________________________________\n",
      "block1_pool (MaxPooling2D)   (None, 32, 32, 64)        0         \n",
      "_________________________________________________________________\n",
      "block2_conv1 (Conv2D)        (None, 32, 32, 128)       73856     \n",
      "_________________________________________________________________\n",
      "block2_conv2 (Conv2D)        (None, 32, 32, 128)       147584    \n",
      "_________________________________________________________________\n",
      "block2_pool (MaxPooling2D)   (None, 16, 16, 128)       0         \n",
      "_________________________________________________________________\n",
      "block3_conv1 (Conv2D)        (None, 16, 16, 256)       295168    \n",
      "_________________________________________________________________\n",
      "block3_conv2 (Conv2D)        (None, 16, 16, 256)       590080    \n",
      "_________________________________________________________________\n",
      "block3_conv3 (Conv2D)        (None, 16, 16, 256)       590080    \n",
      "_________________________________________________________________\n",
      "block3_pool (MaxPooling2D)   (None, 8, 8, 256)         0         \n",
      "_________________________________________________________________\n",
      "block4_conv1 (Conv2D)        (None, 8, 8, 512)         1180160   \n",
      "_________________________________________________________________\n",
      "block4_conv2 (Conv2D)        (None, 8, 8, 512)         2359808   \n",
      "_________________________________________________________________\n",
      "block4_conv3 (Conv2D)        (None, 8, 8, 512)         2359808   \n",
      "_________________________________________________________________\n",
      "block4_pool (MaxPooling2D)   (None, 4, 4, 512)         0         \n",
      "_________________________________________________________________\n",
      "block5_conv1 (Conv2D)        (None, 4, 4, 512)         2359808   \n",
      "_________________________________________________________________\n",
      "block5_conv2 (Conv2D)        (None, 4, 4, 512)         2359808   \n",
      "_________________________________________________________________\n",
      "block5_conv3 (Conv2D)        (None, 4, 4, 512)         2359808   \n",
      "_________________________________________________________________\n",
      "block5_pool (MaxPooling2D)   (None, 2, 2, 512)         0         \n",
      "=================================================================\n",
      "Total params: 14,714,688\n",
      "Trainable params: 14,714,688\n",
      "Non-trainable params: 0\n",
      "_________________________________________________________________\n"
     ]
    }
   ],
   "source": [
    "vgg_model.summary()"
   ]
  },
  {
   "cell_type": "markdown",
   "metadata": {},
   "source": [
    "### Next step is to push all our signs through the net just once and record the output of bottleneck features\n",
    "#### Don't get confused: this is no training, yet, this just is recording the prediction in order not to repeat this expensive step over and over again when we train the classifier later"
   ]
  },
  {
   "cell_type": "code",
   "execution_count": 22,
   "metadata": {},
   "outputs": [
    {
     "name": "stdout",
     "output_type": "stream",
     "text": [
      "CPU times: user 1min 11s, sys: 9.16 s, total: 1min 20s\n",
      "Wall time: 23.6 s\n"
     ]
    }
   ],
   "source": [
    "# will take a while, but not really long depending on size and number of input images\n",
    "\n",
    "%time bottleneck_features_train = vgg_model.predict(X_train)"
   ]
  },
  {
   "cell_type": "code",
   "execution_count": 23,
   "metadata": {},
   "outputs": [
    {
     "data": {
      "text/plain": [
       "(303, 2, 2, 512)"
      ]
     },
     "execution_count": 23,
     "metadata": {},
     "output_type": "execute_result"
    }
   ],
   "source": [
    "bottleneck_features_train.shape"
   ]
  },
  {
   "cell_type": "markdown",
   "metadata": {},
   "source": [
    "## What does this mean?\n",
    "* 303 predictions for 303 images or 3335 predictions for 3335 images when using augmented data set\n",
    "* 512 bottleneck feature per prediction\n",
    "* each bottleneck feature has a size of 2x2, just a blob more or less\n",
    "* bottleneck feature has larger size when we increase size of input images (might be a good idea)\n",
    "  * 4x4 when using 128x128 as input"
   ]
  },
  {
   "cell_type": "code",
   "execution_count": 24,
   "metadata": {
    "collapsed": true
   },
   "outputs": [],
   "source": [
    "first_bottleneck_feature = bottleneck_features_train[0,:,:, 0]"
   ]
  },
  {
   "cell_type": "code",
   "execution_count": 25,
   "metadata": {},
   "outputs": [
    {
     "data": {
      "text/plain": [
       "array([[ 0.01627164,  0.2276783 ],\n",
       "       [ 0.        ,  0.        ]], dtype=float32)"
      ]
     },
     "execution_count": 25,
     "metadata": {},
     "output_type": "execute_result"
    }
   ],
   "source": [
    "first_bottleneck_feature"
   ]
  },
  {
   "cell_type": "markdown",
   "metadata": {},
   "source": [
    "## Now we create a new classifier and train it with this output and the labels from ground truth\n",
    "### Classifier is copied from our first VGG style network"
   ]
  },
  {
   "cell_type": "code",
   "execution_count": 26,
   "metadata": {
    "collapsed": true
   },
   "outputs": [],
   "source": [
    "input_shape = bottleneck_features_train.shape[1:]"
   ]
  },
  {
   "cell_type": "code",
   "execution_count": 27,
   "metadata": {
    "collapsed": true
   },
   "outputs": [],
   "source": [
    "from keras.models import Model\n",
    "from keras.layers import Dense, Dropout, Flatten, Input\n",
    "\n",
    "# try and vary between .4 and .75\n",
    "drop_out = 0.50\n",
    "\n",
    "inputs = Input(shape=input_shape)\n",
    "\n",
    "x = Flatten()(inputs)\n",
    "\n",
    "# this is an additional dropout to compensate for the missing one after bottleneck features\n",
    "x = Dropout(drop_out)(x)\n",
    "\n",
    "x = Dense(256, activation='relu')(x)\n",
    "x = Dropout(drop_out)(x)\n",
    "\n",
    "# softmax activation, 6 categories\n",
    "predictions = Dense(6, activation='softmax')(x)"
   ]
  },
  {
   "cell_type": "code",
   "execution_count": 28,
   "metadata": {},
   "outputs": [
    {
     "name": "stdout",
     "output_type": "stream",
     "text": [
      "_________________________________________________________________\n",
      "Layer (type)                 Output Shape              Param #   \n",
      "=================================================================\n",
      "input_2 (InputLayer)         (None, 2, 2, 512)         0         \n",
      "_________________________________________________________________\n",
      "flatten_1 (Flatten)          (None, 2048)              0         \n",
      "_________________________________________________________________\n",
      "dropout_1 (Dropout)          (None, 2048)              0         \n",
      "_________________________________________________________________\n",
      "dense_1 (Dense)              (None, 256)               524544    \n",
      "_________________________________________________________________\n",
      "dropout_2 (Dropout)          (None, 256)               0         \n",
      "_________________________________________________________________\n",
      "dense_2 (Dense)              (None, 6)                 1542      \n",
      "=================================================================\n",
      "Total params: 526,086\n",
      "Trainable params: 526,086\n",
      "Non-trainable params: 0\n",
      "_________________________________________________________________\n"
     ]
    }
   ],
   "source": [
    "classifier_model = Model(input=inputs, output=predictions)\n",
    "classifier_model.summary()"
   ]
  },
  {
   "cell_type": "code",
   "execution_count": 29,
   "metadata": {
    "collapsed": true
   },
   "outputs": [],
   "source": [
    "classifier_model.compile(optimizer='adam',\n",
    "              loss='categorical_crossentropy',\n",
    "              metrics=['accuracy'])"
   ]
  },
  {
   "cell_type": "code",
   "execution_count": 30,
   "metadata": {
    "collapsed": true
   },
   "outputs": [],
   "source": [
    "!rm -rf tf_log\n",
    "# https://keras.io/callbacks/#tensorboard\n",
    "tb_callback = keras.callbacks.TensorBoard(log_dir='./tf_log')\n",
    "# To start tensorboard\n",
    "# tensorboard --logdir=/mnt/c/Users/olive/Development/ml/tf_log\n",
    "# open http://localhost:6006"
   ]
  },
  {
   "cell_type": "markdown",
   "metadata": {},
   "source": [
    "## This is a very simple architecture and should train pretty fast\n",
    "* Depending on whether we used augmented data it either overfits quite a bit"
   ]
  },
  {
   "cell_type": "code",
   "execution_count": 31,
   "metadata": {},
   "outputs": [
    {
     "name": "stdout",
     "output_type": "stream",
     "text": [
      "Train on 242 samples, validate on 61 samples\n",
      "Epoch 1/500\n",
      "242/242 [==============================] - 0s - loss: 2.3052 - acc: 0.1777 - val_loss: 1.8253 - val_acc: 0.1967\n",
      "Epoch 2/500\n",
      "242/242 [==============================] - 0s - loss: 1.9942 - acc: 0.2521 - val_loss: 1.6149 - val_acc: 0.2295\n",
      "Epoch 3/500\n",
      "242/242 [==============================] - 0s - loss: 1.8625 - acc: 0.2975 - val_loss: 1.5362 - val_acc: 0.3279\n",
      "Epoch 4/500\n",
      "242/242 [==============================] - 0s - loss: 1.7044 - acc: 0.3264 - val_loss: 1.4821 - val_acc: 0.4426\n",
      "Epoch 5/500\n",
      "242/242 [==============================] - 0s - loss: 1.6068 - acc: 0.4091 - val_loss: 1.4879 - val_acc: 0.4098\n",
      "Epoch 6/500\n",
      "242/242 [==============================] - 0s - loss: 1.4906 - acc: 0.4132 - val_loss: 1.5074 - val_acc: 0.2295\n",
      "Epoch 7/500\n",
      "242/242 [==============================] - 0s - loss: 1.4711 - acc: 0.4421 - val_loss: 1.5089 - val_acc: 0.2295\n",
      "Epoch 8/500\n",
      "242/242 [==============================] - 0s - loss: 1.4265 - acc: 0.4132 - val_loss: 1.4601 - val_acc: 0.3443\n",
      "Epoch 9/500\n",
      "242/242 [==============================] - 0s - loss: 1.3037 - acc: 0.4917 - val_loss: 1.4327 - val_acc: 0.4426\n",
      "Epoch 10/500\n",
      "242/242 [==============================] - 0s - loss: 1.3032 - acc: 0.4917 - val_loss: 1.4065 - val_acc: 0.4426\n",
      "Epoch 11/500\n",
      "242/242 [==============================] - 0s - loss: 1.2930 - acc: 0.5000 - val_loss: 1.4059 - val_acc: 0.4098\n",
      "Epoch 12/500\n",
      "242/242 [==============================] - 0s - loss: 1.2533 - acc: 0.4917 - val_loss: 1.3783 - val_acc: 0.5246\n",
      "Epoch 13/500\n",
      "242/242 [==============================] - 0s - loss: 1.2595 - acc: 0.4917 - val_loss: 1.3461 - val_acc: 0.5246\n",
      "Epoch 14/500\n",
      "242/242 [==============================] - 0s - loss: 1.2354 - acc: 0.4959 - val_loss: 1.3260 - val_acc: 0.5738\n",
      "Epoch 15/500\n",
      "242/242 [==============================] - 0s - loss: 1.2031 - acc: 0.5496 - val_loss: 1.3068 - val_acc: 0.5410\n",
      "Epoch 16/500\n",
      "242/242 [==============================] - 0s - loss: 1.1386 - acc: 0.5165 - val_loss: 1.3023 - val_acc: 0.5410\n",
      "Epoch 17/500\n",
      "242/242 [==============================] - 0s - loss: 1.1257 - acc: 0.5537 - val_loss: 1.2905 - val_acc: 0.5410\n",
      "Epoch 18/500\n",
      "242/242 [==============================] - 0s - loss: 1.0994 - acc: 0.5992 - val_loss: 1.2431 - val_acc: 0.5246\n",
      "Epoch 19/500\n",
      "242/242 [==============================] - 0s - loss: 1.0948 - acc: 0.5868 - val_loss: 1.2358 - val_acc: 0.5246\n",
      "Epoch 20/500\n",
      "242/242 [==============================] - 0s - loss: 1.0588 - acc: 0.5744 - val_loss: 1.2215 - val_acc: 0.5082\n",
      "Epoch 21/500\n",
      "242/242 [==============================] - 0s - loss: 1.0825 - acc: 0.5868 - val_loss: 1.1945 - val_acc: 0.5902\n",
      "Epoch 22/500\n",
      "242/242 [==============================] - 0s - loss: 1.0042 - acc: 0.6240 - val_loss: 1.2247 - val_acc: 0.5574\n",
      "Epoch 23/500\n",
      "242/242 [==============================] - 0s - loss: 0.9295 - acc: 0.6612 - val_loss: 1.2126 - val_acc: 0.5574\n",
      "Epoch 24/500\n",
      "242/242 [==============================] - 0s - loss: 0.9788 - acc: 0.5868 - val_loss: 1.1510 - val_acc: 0.6557\n",
      "Epoch 25/500\n",
      "242/242 [==============================] - 0s - loss: 0.8928 - acc: 0.6529 - val_loss: 1.1349 - val_acc: 0.6230\n",
      "Epoch 26/500\n",
      "242/242 [==============================] - 0s - loss: 0.9350 - acc: 0.6446 - val_loss: 1.1772 - val_acc: 0.5574\n",
      "Epoch 27/500\n",
      "242/242 [==============================] - 0s - loss: 0.9452 - acc: 0.6240 - val_loss: 1.1839 - val_acc: 0.5410\n",
      "Epoch 28/500\n",
      "242/242 [==============================] - 0s - loss: 0.8228 - acc: 0.6901 - val_loss: 1.1221 - val_acc: 0.6393\n",
      "Epoch 29/500\n",
      "242/242 [==============================] - 0s - loss: 0.8828 - acc: 0.6612 - val_loss: 1.0965 - val_acc: 0.6721\n",
      "Epoch 30/500\n",
      "242/242 [==============================] - 0s - loss: 0.8814 - acc: 0.6446 - val_loss: 1.0824 - val_acc: 0.6721\n",
      "Epoch 31/500\n",
      "242/242 [==============================] - 0s - loss: 0.7808 - acc: 0.6694 - val_loss: 1.0778 - val_acc: 0.6721\n",
      "Epoch 32/500\n",
      "242/242 [==============================] - 0s - loss: 0.8395 - acc: 0.6860 - val_loss: 1.0890 - val_acc: 0.6557\n",
      "Epoch 33/500\n",
      "242/242 [==============================] - 0s - loss: 0.8219 - acc: 0.6860 - val_loss: 1.0903 - val_acc: 0.6557\n",
      "Epoch 34/500\n",
      "242/242 [==============================] - 0s - loss: 0.8213 - acc: 0.7190 - val_loss: 1.0886 - val_acc: 0.6557\n",
      "Epoch 35/500\n",
      "242/242 [==============================] - 0s - loss: 0.7539 - acc: 0.7107 - val_loss: 1.0395 - val_acc: 0.7049\n",
      "Epoch 36/500\n",
      "242/242 [==============================] - 0s - loss: 0.8442 - acc: 0.6694 - val_loss: 1.0392 - val_acc: 0.6885\n",
      "Epoch 37/500\n",
      "242/242 [==============================] - 0s - loss: 0.7510 - acc: 0.7066 - val_loss: 1.1019 - val_acc: 0.6230\n",
      "Epoch 38/500\n",
      "242/242 [==============================] - 0s - loss: 0.7496 - acc: 0.6942 - val_loss: 1.0617 - val_acc: 0.6393\n",
      "Epoch 39/500\n",
      "242/242 [==============================] - 0s - loss: 0.7608 - acc: 0.6942 - val_loss: 1.0071 - val_acc: 0.6885\n",
      "Epoch 40/500\n",
      "242/242 [==============================] - 0s - loss: 0.7622 - acc: 0.7149 - val_loss: 1.0020 - val_acc: 0.6557\n",
      "Epoch 41/500\n",
      "242/242 [==============================] - 0s - loss: 0.7218 - acc: 0.7149 - val_loss: 1.0150 - val_acc: 0.6885\n",
      "Epoch 42/500\n",
      "242/242 [==============================] - 0s - loss: 0.6953 - acc: 0.7562 - val_loss: 1.0462 - val_acc: 0.6066\n",
      "Epoch 43/500\n",
      "242/242 [==============================] - 0s - loss: 0.6993 - acc: 0.7521 - val_loss: 0.9760 - val_acc: 0.6066\n",
      "Epoch 44/500\n",
      "242/242 [==============================] - 0s - loss: 0.7003 - acc: 0.7438 - val_loss: 0.9165 - val_acc: 0.7541\n",
      "Epoch 45/500\n",
      "242/242 [==============================] - 0s - loss: 0.7056 - acc: 0.7231 - val_loss: 0.9205 - val_acc: 0.7541\n",
      "Epoch 46/500\n",
      "242/242 [==============================] - 0s - loss: 0.6358 - acc: 0.7727 - val_loss: 0.9375 - val_acc: 0.7541\n",
      "Epoch 47/500\n",
      "242/242 [==============================] - 0s - loss: 0.5885 - acc: 0.7810 - val_loss: 0.9575 - val_acc: 0.7049\n",
      "Epoch 48/500\n",
      "242/242 [==============================] - 0s - loss: 0.6195 - acc: 0.7686 - val_loss: 0.9577 - val_acc: 0.7213\n",
      "Epoch 49/500\n",
      "242/242 [==============================] - 0s - loss: 0.6391 - acc: 0.7479 - val_loss: 0.9256 - val_acc: 0.7541\n",
      "Epoch 50/500\n",
      "242/242 [==============================] - 0s - loss: 0.5504 - acc: 0.7810 - val_loss: 0.9358 - val_acc: 0.7377\n",
      "Epoch 51/500\n",
      "242/242 [==============================] - 0s - loss: 0.6224 - acc: 0.7562 - val_loss: 0.9568 - val_acc: 0.7377\n",
      "Epoch 52/500\n",
      "242/242 [==============================] - 0s - loss: 0.6322 - acc: 0.7603 - val_loss: 0.9380 - val_acc: 0.7541\n",
      "Epoch 53/500\n",
      "242/242 [==============================] - 0s - loss: 0.5727 - acc: 0.7769 - val_loss: 0.9565 - val_acc: 0.6885\n",
      "Epoch 54/500\n",
      "242/242 [==============================] - 0s - loss: 0.6034 - acc: 0.7810 - val_loss: 0.9227 - val_acc: 0.7049\n",
      "Epoch 55/500\n",
      "242/242 [==============================] - 0s - loss: 0.6065 - acc: 0.7769 - val_loss: 0.9496 - val_acc: 0.7213\n",
      "Epoch 56/500\n",
      "242/242 [==============================] - 0s - loss: 0.5910 - acc: 0.7810 - val_loss: 0.9125 - val_acc: 0.7705\n",
      "Epoch 57/500\n",
      "242/242 [==============================] - 0s - loss: 0.5592 - acc: 0.7810 - val_loss: 0.9070 - val_acc: 0.7869\n",
      "Epoch 58/500\n",
      "242/242 [==============================] - 0s - loss: 0.5148 - acc: 0.8223 - val_loss: 0.8954 - val_acc: 0.7541\n",
      "Epoch 59/500\n",
      "242/242 [==============================] - 0s - loss: 0.5793 - acc: 0.7686 - val_loss: 0.8960 - val_acc: 0.6721\n",
      "Epoch 60/500\n",
      "242/242 [==============================] - 0s - loss: 0.5094 - acc: 0.7934 - val_loss: 0.9174 - val_acc: 0.6721\n",
      "Epoch 61/500\n",
      "242/242 [==============================] - 0s - loss: 0.5313 - acc: 0.8058 - val_loss: 0.8828 - val_acc: 0.7541\n",
      "Epoch 62/500\n",
      "242/242 [==============================] - 0s - loss: 0.5244 - acc: 0.8099 - val_loss: 0.9111 - val_acc: 0.7541\n",
      "Epoch 63/500\n",
      "242/242 [==============================] - 0s - loss: 0.5187 - acc: 0.8058 - val_loss: 0.9507 - val_acc: 0.7377\n",
      "Epoch 64/500\n",
      "242/242 [==============================] - 0s - loss: 0.5267 - acc: 0.7975 - val_loss: 0.9113 - val_acc: 0.7541\n",
      "Epoch 65/500\n",
      "242/242 [==============================] - 0s - loss: 0.4956 - acc: 0.7934 - val_loss: 0.8897 - val_acc: 0.7705\n",
      "Epoch 66/500\n"
     ]
    },
    {
     "name": "stdout",
     "output_type": "stream",
     "text": [
      "242/242 [==============================] - 0s - loss: 0.5077 - acc: 0.7893 - val_loss: 0.8818 - val_acc: 0.7869\n",
      "Epoch 67/500\n",
      "242/242 [==============================] - 0s - loss: 0.5253 - acc: 0.8182 - val_loss: 0.8927 - val_acc: 0.7541\n",
      "Epoch 68/500\n",
      "242/242 [==============================] - 0s - loss: 0.4585 - acc: 0.8347 - val_loss: 0.9045 - val_acc: 0.7705\n",
      "Epoch 69/500\n",
      "242/242 [==============================] - 0s - loss: 0.5393 - acc: 0.7934 - val_loss: 0.8907 - val_acc: 0.7869\n",
      "Epoch 70/500\n",
      "242/242 [==============================] - 0s - loss: 0.4690 - acc: 0.8140 - val_loss: 0.8937 - val_acc: 0.7705\n",
      "Epoch 71/500\n",
      "242/242 [==============================] - 0s - loss: 0.4764 - acc: 0.8182 - val_loss: 0.9035 - val_acc: 0.7377\n",
      "Epoch 72/500\n",
      "242/242 [==============================] - 0s - loss: 0.4389 - acc: 0.8140 - val_loss: 0.9302 - val_acc: 0.7705\n",
      "Epoch 73/500\n",
      "242/242 [==============================] - 0s - loss: 0.4278 - acc: 0.8430 - val_loss: 0.9463 - val_acc: 0.7869\n",
      "Epoch 74/500\n",
      "242/242 [==============================] - 0s - loss: 0.4165 - acc: 0.8512 - val_loss: 0.8653 - val_acc: 0.8033\n",
      "Epoch 75/500\n",
      "242/242 [==============================] - 0s - loss: 0.5040 - acc: 0.8017 - val_loss: 0.8236 - val_acc: 0.7869\n",
      "Epoch 76/500\n",
      "242/242 [==============================] - 0s - loss: 0.4785 - acc: 0.8017 - val_loss: 0.8459 - val_acc: 0.7705\n",
      "Epoch 77/500\n",
      "242/242 [==============================] - 0s - loss: 0.3891 - acc: 0.8636 - val_loss: 0.8813 - val_acc: 0.7869\n",
      "Epoch 78/500\n",
      "242/242 [==============================] - 0s - loss: 0.4543 - acc: 0.8140 - val_loss: 0.9242 - val_acc: 0.7705\n",
      "Epoch 79/500\n",
      "242/242 [==============================] - 0s - loss: 0.4390 - acc: 0.8306 - val_loss: 0.9284 - val_acc: 0.7705\n",
      "Epoch 80/500\n",
      "242/242 [==============================] - 0s - loss: 0.4849 - acc: 0.8223 - val_loss: 0.8704 - val_acc: 0.7869\n",
      "Epoch 81/500\n",
      "242/242 [==============================] - 0s - loss: 0.4230 - acc: 0.8512 - val_loss: 0.8846 - val_acc: 0.7541\n",
      "Epoch 82/500\n",
      "242/242 [==============================] - 0s - loss: 0.4562 - acc: 0.8471 - val_loss: 0.8832 - val_acc: 0.7705\n",
      "Epoch 83/500\n",
      "242/242 [==============================] - 0s - loss: 0.4009 - acc: 0.8636 - val_loss: 0.9269 - val_acc: 0.7705\n",
      "Epoch 84/500\n",
      "242/242 [==============================] - 0s - loss: 0.4705 - acc: 0.8223 - val_loss: 0.9118 - val_acc: 0.7869\n",
      "Epoch 85/500\n",
      "242/242 [==============================] - 0s - loss: 0.4405 - acc: 0.8223 - val_loss: 0.8549 - val_acc: 0.8033\n",
      "Epoch 86/500\n",
      "242/242 [==============================] - 0s - loss: 0.3584 - acc: 0.8719 - val_loss: 0.8226 - val_acc: 0.7869\n",
      "Epoch 87/500\n",
      "242/242 [==============================] - 0s - loss: 0.4163 - acc: 0.8678 - val_loss: 0.8468 - val_acc: 0.7705\n",
      "Epoch 88/500\n",
      "242/242 [==============================] - 0s - loss: 0.3773 - acc: 0.8719 - val_loss: 0.8599 - val_acc: 0.7869\n",
      "Epoch 89/500\n",
      "242/242 [==============================] - 0s - loss: 0.4577 - acc: 0.8264 - val_loss: 0.8992 - val_acc: 0.8033\n",
      "Epoch 90/500\n",
      "242/242 [==============================] - 0s - loss: 0.4018 - acc: 0.8760 - val_loss: 0.9105 - val_acc: 0.7869\n",
      "Epoch 91/500\n",
      "242/242 [==============================] - 0s - loss: 0.4480 - acc: 0.8099 - val_loss: 0.9197 - val_acc: 0.7869\n",
      "Epoch 92/500\n",
      "242/242 [==============================] - 0s - loss: 0.4105 - acc: 0.8347 - val_loss: 0.9254 - val_acc: 0.7705\n",
      "Epoch 93/500\n",
      "242/242 [==============================] - 0s - loss: 0.3294 - acc: 0.8843 - val_loss: 0.9011 - val_acc: 0.7869\n",
      "Epoch 94/500\n",
      "242/242 [==============================] - 0s - loss: 0.3604 - acc: 0.8554 - val_loss: 0.8557 - val_acc: 0.8033\n",
      "Epoch 95/500\n",
      "242/242 [==============================] - 0s - loss: 0.3876 - acc: 0.8471 - val_loss: 0.8679 - val_acc: 0.7869\n",
      "Epoch 96/500\n",
      "242/242 [==============================] - 0s - loss: 0.3783 - acc: 0.8471 - val_loss: 0.9132 - val_acc: 0.7869\n",
      "Epoch 97/500\n",
      "242/242 [==============================] - 0s - loss: 0.3623 - acc: 0.8471 - val_loss: 0.9325 - val_acc: 0.7869\n",
      "Epoch 98/500\n",
      "242/242 [==============================] - 0s - loss: 0.3670 - acc: 0.8595 - val_loss: 0.9151 - val_acc: 0.7541\n",
      "Epoch 99/500\n",
      "242/242 [==============================] - 0s - loss: 0.3731 - acc: 0.8471 - val_loss: 0.8652 - val_acc: 0.7869\n",
      "Epoch 100/500\n",
      "242/242 [==============================] - 0s - loss: 0.3590 - acc: 0.8760 - val_loss: 0.8576 - val_acc: 0.7869\n",
      "Epoch 101/500\n",
      "242/242 [==============================] - 0s - loss: 0.3172 - acc: 0.8760 - val_loss: 0.8857 - val_acc: 0.7705\n",
      "Epoch 102/500\n",
      "242/242 [==============================] - 0s - loss: 0.3772 - acc: 0.8512 - val_loss: 0.9069 - val_acc: 0.7869\n",
      "Epoch 103/500\n",
      "242/242 [==============================] - 0s - loss: 0.3273 - acc: 0.8802 - val_loss: 0.9080 - val_acc: 0.7869\n",
      "Epoch 104/500\n",
      "242/242 [==============================] - 0s - loss: 0.3327 - acc: 0.8843 - val_loss: 0.9239 - val_acc: 0.7541\n",
      "Epoch 105/500\n",
      "242/242 [==============================] - 0s - loss: 0.3793 - acc: 0.8926 - val_loss: 0.9050 - val_acc: 0.7377\n",
      "Epoch 106/500\n",
      "242/242 [==============================] - 0s - loss: 0.3337 - acc: 0.8802 - val_loss: 0.8745 - val_acc: 0.7705\n",
      "Epoch 107/500\n",
      "242/242 [==============================] - 0s - loss: 0.3305 - acc: 0.8843 - val_loss: 0.8729 - val_acc: 0.8033\n",
      "Epoch 108/500\n",
      "242/242 [==============================] - 0s - loss: 0.3534 - acc: 0.8719 - val_loss: 0.8747 - val_acc: 0.7869\n",
      "Epoch 109/500\n",
      "242/242 [==============================] - 0s - loss: 0.3462 - acc: 0.8636 - val_loss: 0.9001 - val_acc: 0.7869\n",
      "Epoch 110/500\n",
      "242/242 [==============================] - 0s - loss: 0.3059 - acc: 0.9132 - val_loss: 0.9482 - val_acc: 0.7541\n",
      "Epoch 111/500\n",
      "242/242 [==============================] - 0s - loss: 0.2709 - acc: 0.9132 - val_loss: 1.0076 - val_acc: 0.7377\n",
      "Epoch 112/500\n",
      "242/242 [==============================] - 0s - loss: 0.3382 - acc: 0.8760 - val_loss: 0.9984 - val_acc: 0.7377\n",
      "Epoch 113/500\n",
      "242/242 [==============================] - 0s - loss: 0.3764 - acc: 0.8512 - val_loss: 0.9317 - val_acc: 0.7377\n",
      "Epoch 114/500\n",
      "242/242 [==============================] - 0s - loss: 0.2874 - acc: 0.9174 - val_loss: 0.8700 - val_acc: 0.8197\n",
      "Epoch 115/500\n",
      "242/242 [==============================] - 0s - loss: 0.3214 - acc: 0.8926 - val_loss: 0.8983 - val_acc: 0.8033\n",
      "Epoch 116/500\n",
      "242/242 [==============================] - 0s - loss: 0.3179 - acc: 0.9008 - val_loss: 0.9360 - val_acc: 0.8033\n",
      "Epoch 117/500\n",
      "242/242 [==============================] - 0s - loss: 0.3367 - acc: 0.8884 - val_loss: 0.9493 - val_acc: 0.8033\n",
      "Epoch 118/500\n",
      "242/242 [==============================] - 0s - loss: 0.2884 - acc: 0.9091 - val_loss: 0.9547 - val_acc: 0.7541\n",
      "Epoch 119/500\n",
      "242/242 [==============================] - 0s - loss: 0.3159 - acc: 0.8967 - val_loss: 0.9340 - val_acc: 0.7541\n",
      "Epoch 120/500\n",
      "242/242 [==============================] - 0s - loss: 0.3444 - acc: 0.8636 - val_loss: 0.8884 - val_acc: 0.8033\n",
      "Epoch 121/500\n",
      "242/242 [==============================] - 0s - loss: 0.3115 - acc: 0.8843 - val_loss: 0.8840 - val_acc: 0.8361\n",
      "Epoch 122/500\n",
      "242/242 [==============================] - 0s - loss: 0.2697 - acc: 0.9091 - val_loss: 0.8942 - val_acc: 0.8361\n",
      "Epoch 123/500\n",
      "242/242 [==============================] - 0s - loss: 0.2596 - acc: 0.9132 - val_loss: 0.9160 - val_acc: 0.8033\n",
      "Epoch 124/500\n",
      "242/242 [==============================] - 0s - loss: 0.3319 - acc: 0.8719 - val_loss: 0.9202 - val_acc: 0.7705\n",
      "Epoch 125/500\n",
      "242/242 [==============================] - 0s - loss: 0.2806 - acc: 0.8760 - val_loss: 0.9260 - val_acc: 0.7869\n",
      "Epoch 126/500\n",
      "242/242 [==============================] - 0s - loss: 0.3104 - acc: 0.8967 - val_loss: 0.8981 - val_acc: 0.8033\n",
      "Epoch 127/500\n",
      "242/242 [==============================] - 0s - loss: 0.2850 - acc: 0.9050 - val_loss: 0.8906 - val_acc: 0.8033\n",
      "Epoch 128/500\n",
      "242/242 [==============================] - 0s - loss: 0.2704 - acc: 0.9132 - val_loss: 0.8740 - val_acc: 0.8033\n",
      "Epoch 129/500\n",
      "242/242 [==============================] - 0s - loss: 0.2821 - acc: 0.8884 - val_loss: 0.8616 - val_acc: 0.8033\n",
      "Epoch 130/500\n",
      "242/242 [==============================] - 0s - loss: 0.2466 - acc: 0.9298 - val_loss: 0.8861 - val_acc: 0.8033\n",
      "Epoch 131/500\n"
     ]
    },
    {
     "name": "stdout",
     "output_type": "stream",
     "text": [
      "242/242 [==============================] - 0s - loss: 0.2508 - acc: 0.9256 - val_loss: 0.8786 - val_acc: 0.8033\n",
      "Epoch 132/500\n",
      "242/242 [==============================] - 0s - loss: 0.2786 - acc: 0.9008 - val_loss: 0.8837 - val_acc: 0.8033\n",
      "Epoch 133/500\n",
      "242/242 [==============================] - 0s - loss: 0.2364 - acc: 0.9256 - val_loss: 0.8795 - val_acc: 0.8033\n",
      "Epoch 134/500\n",
      "242/242 [==============================] - 0s - loss: 0.2598 - acc: 0.8884 - val_loss: 0.8725 - val_acc: 0.8197\n",
      "Epoch 135/500\n",
      "242/242 [==============================] - 0s - loss: 0.3028 - acc: 0.8843 - val_loss: 0.8605 - val_acc: 0.8033\n",
      "Epoch 136/500\n",
      "242/242 [==============================] - 0s - loss: 0.2289 - acc: 0.9174 - val_loss: 0.8860 - val_acc: 0.8033\n",
      "Epoch 137/500\n",
      "242/242 [==============================] - 0s - loss: 0.3300 - acc: 0.8760 - val_loss: 0.8851 - val_acc: 0.8033\n",
      "Epoch 138/500\n",
      "242/242 [==============================] - 0s - loss: 0.2637 - acc: 0.8884 - val_loss: 0.9041 - val_acc: 0.7541\n",
      "Epoch 139/500\n",
      "242/242 [==============================] - 0s - loss: 0.3037 - acc: 0.8884 - val_loss: 0.8949 - val_acc: 0.7377\n",
      "Epoch 140/500\n",
      "242/242 [==============================] - 0s - loss: 0.2986 - acc: 0.9008 - val_loss: 0.9079 - val_acc: 0.7541\n",
      "Epoch 141/500\n",
      "242/242 [==============================] - 0s - loss: 0.2918 - acc: 0.9008 - val_loss: 0.9073 - val_acc: 0.7541\n",
      "Epoch 142/500\n",
      "242/242 [==============================] - 0s - loss: 0.2799 - acc: 0.9091 - val_loss: 0.8865 - val_acc: 0.8197\n",
      "Epoch 143/500\n",
      "242/242 [==============================] - 0s - loss: 0.2680 - acc: 0.9050 - val_loss: 0.8920 - val_acc: 0.7869\n",
      "Epoch 144/500\n",
      "242/242 [==============================] - 0s - loss: 0.3040 - acc: 0.9050 - val_loss: 0.9290 - val_acc: 0.8197\n",
      "Epoch 145/500\n",
      "242/242 [==============================] - 0s - loss: 0.1859 - acc: 0.9339 - val_loss: 0.9728 - val_acc: 0.7541\n",
      "Epoch 146/500\n",
      "242/242 [==============================] - 0s - loss: 0.3542 - acc: 0.8636 - val_loss: 0.9373 - val_acc: 0.7541\n",
      "Epoch 147/500\n",
      "242/242 [==============================] - 0s - loss: 0.2543 - acc: 0.9215 - val_loss: 0.8973 - val_acc: 0.7869\n",
      "Epoch 148/500\n",
      "242/242 [==============================] - 0s - loss: 0.2921 - acc: 0.9008 - val_loss: 0.8657 - val_acc: 0.8197\n",
      "Epoch 149/500\n",
      "242/242 [==============================] - 0s - loss: 0.1937 - acc: 0.9421 - val_loss: 0.8789 - val_acc: 0.8197\n",
      "Epoch 150/500\n",
      "242/242 [==============================] - 0s - loss: 0.2630 - acc: 0.9174 - val_loss: 0.9084 - val_acc: 0.8197\n",
      "Epoch 151/500\n",
      "242/242 [==============================] - 0s - loss: 0.2562 - acc: 0.9298 - val_loss: 0.9137 - val_acc: 0.8033\n",
      "Epoch 152/500\n",
      "242/242 [==============================] - 0s - loss: 0.2371 - acc: 0.9132 - val_loss: 0.9437 - val_acc: 0.7705\n",
      "Epoch 153/500\n",
      "242/242 [==============================] - 0s - loss: 0.2138 - acc: 0.9050 - val_loss: 0.9738 - val_acc: 0.7213\n",
      "Epoch 154/500\n",
      "242/242 [==============================] - 0s - loss: 0.2250 - acc: 0.9256 - val_loss: 0.9591 - val_acc: 0.7541\n",
      "Epoch 155/500\n",
      "242/242 [==============================] - 0s - loss: 0.2293 - acc: 0.9091 - val_loss: 0.9537 - val_acc: 0.7705\n",
      "Epoch 156/500\n",
      "242/242 [==============================] - 0s - loss: 0.2423 - acc: 0.9174 - val_loss: 0.9663 - val_acc: 0.7705\n",
      "Epoch 157/500\n",
      "242/242 [==============================] - 0s - loss: 0.2247 - acc: 0.9174 - val_loss: 0.9464 - val_acc: 0.7705\n",
      "Epoch 158/500\n",
      "242/242 [==============================] - 0s - loss: 0.2250 - acc: 0.9298 - val_loss: 0.9669 - val_acc: 0.7377\n",
      "Epoch 159/500\n",
      "242/242 [==============================] - 0s - loss: 0.2571 - acc: 0.9008 - val_loss: 0.9530 - val_acc: 0.7377\n",
      "Epoch 160/500\n",
      "242/242 [==============================] - 0s - loss: 0.2537 - acc: 0.9174 - val_loss: 0.9182 - val_acc: 0.7869\n",
      "Epoch 161/500\n",
      "242/242 [==============================] - 0s - loss: 0.2568 - acc: 0.9008 - val_loss: 0.9360 - val_acc: 0.7869\n",
      "Epoch 162/500\n",
      "242/242 [==============================] - 0s - loss: 0.2246 - acc: 0.9174 - val_loss: 1.0019 - val_acc: 0.7705\n",
      "Epoch 163/500\n",
      "242/242 [==============================] - 0s - loss: 0.2738 - acc: 0.9008 - val_loss: 0.9948 - val_acc: 0.7705\n",
      "Epoch 164/500\n",
      "242/242 [==============================] - 0s - loss: 0.2062 - acc: 0.9339 - val_loss: 0.9218 - val_acc: 0.7705\n",
      "Epoch 165/500\n",
      "242/242 [==============================] - 0s - loss: 0.3008 - acc: 0.8884 - val_loss: 0.9432 - val_acc: 0.7213\n",
      "Epoch 166/500\n",
      "242/242 [==============================] - 0s - loss: 0.2448 - acc: 0.9008 - val_loss: 0.9331 - val_acc: 0.7213\n",
      "Epoch 167/500\n",
      "242/242 [==============================] - 0s - loss: 0.2164 - acc: 0.9298 - val_loss: 0.9265 - val_acc: 0.7705\n",
      "Epoch 168/500\n",
      "242/242 [==============================] - 0s - loss: 0.2420 - acc: 0.9215 - val_loss: 0.9788 - val_acc: 0.8033\n",
      "Epoch 169/500\n",
      "242/242 [==============================] - 0s - loss: 0.2192 - acc: 0.9256 - val_loss: 1.0136 - val_acc: 0.8033\n",
      "Epoch 170/500\n",
      "242/242 [==============================] - 0s - loss: 0.2511 - acc: 0.9132 - val_loss: 1.0418 - val_acc: 0.7377\n",
      "Epoch 171/500\n",
      "242/242 [==============================] - 0s - loss: 0.2344 - acc: 0.9339 - val_loss: 1.0131 - val_acc: 0.7377\n",
      "Epoch 172/500\n",
      "242/242 [==============================] - 0s - loss: 0.1962 - acc: 0.9298 - val_loss: 0.9942 - val_acc: 0.7869\n",
      "Epoch 173/500\n",
      "242/242 [==============================] - 0s - loss: 0.2376 - acc: 0.9256 - val_loss: 1.0222 - val_acc: 0.7869\n",
      "Epoch 174/500\n",
      "242/242 [==============================] - 0s - loss: 0.2878 - acc: 0.8967 - val_loss: 1.0114 - val_acc: 0.7869\n",
      "Epoch 175/500\n",
      "242/242 [==============================] - 0s - loss: 0.2146 - acc: 0.9339 - val_loss: 0.9901 - val_acc: 0.7869\n",
      "Epoch 176/500\n",
      "242/242 [==============================] - 0s - loss: 0.2094 - acc: 0.9256 - val_loss: 1.0074 - val_acc: 0.7705\n",
      "Epoch 177/500\n",
      "242/242 [==============================] - 0s - loss: 0.2167 - acc: 0.9339 - val_loss: 1.0213 - val_acc: 0.7541\n",
      "Epoch 178/500\n",
      "242/242 [==============================] - 0s - loss: 0.2067 - acc: 0.9339 - val_loss: 1.0261 - val_acc: 0.7541\n",
      "Epoch 179/500\n",
      "242/242 [==============================] - 0s - loss: 0.1991 - acc: 0.9091 - val_loss: 0.9504 - val_acc: 0.8033\n",
      "Epoch 180/500\n",
      "242/242 [==============================] - 0s - loss: 0.2248 - acc: 0.9215 - val_loss: 0.9474 - val_acc: 0.7869\n",
      "Epoch 181/500\n",
      "242/242 [==============================] - 0s - loss: 0.1857 - acc: 0.9339 - val_loss: 0.9834 - val_acc: 0.7705\n",
      "Epoch 182/500\n",
      "242/242 [==============================] - 0s - loss: 0.1866 - acc: 0.9256 - val_loss: 1.0105 - val_acc: 0.7705\n",
      "Epoch 183/500\n",
      "242/242 [==============================] - 0s - loss: 0.2106 - acc: 0.9298 - val_loss: 1.0073 - val_acc: 0.7869\n",
      "Epoch 184/500\n",
      "242/242 [==============================] - 0s - loss: 0.2037 - acc: 0.9380 - val_loss: 0.9631 - val_acc: 0.7869\n",
      "Epoch 185/500\n",
      "242/242 [==============================] - 0s - loss: 0.1993 - acc: 0.9380 - val_loss: 0.9719 - val_acc: 0.8033\n",
      "Epoch 186/500\n",
      "242/242 [==============================] - 0s - loss: 0.2196 - acc: 0.9215 - val_loss: 0.9871 - val_acc: 0.7869\n",
      "Epoch 187/500\n",
      "242/242 [==============================] - 0s - loss: 0.1862 - acc: 0.9339 - val_loss: 1.0285 - val_acc: 0.7541\n",
      "Epoch 188/500\n",
      "242/242 [==============================] - 0s - loss: 0.1969 - acc: 0.9298 - val_loss: 1.0695 - val_acc: 0.7541\n",
      "Epoch 189/500\n",
      "242/242 [==============================] - 0s - loss: 0.2063 - acc: 0.9132 - val_loss: 1.0561 - val_acc: 0.7541\n",
      "Epoch 190/500\n",
      "242/242 [==============================] - 0s - loss: 0.2638 - acc: 0.9008 - val_loss: 1.0305 - val_acc: 0.7705\n",
      "Epoch 191/500\n",
      "242/242 [==============================] - 0s - loss: 0.2001 - acc: 0.9132 - val_loss: 0.9600 - val_acc: 0.7705\n",
      "Epoch 192/500\n",
      "242/242 [==============================] - 0s - loss: 0.1973 - acc: 0.9339 - val_loss: 0.9097 - val_acc: 0.7705\n",
      "Epoch 193/500\n",
      "242/242 [==============================] - 0s - loss: 0.2164 - acc: 0.9298 - val_loss: 0.9530 - val_acc: 0.7705\n",
      "Epoch 194/500\n",
      "242/242 [==============================] - 0s - loss: 0.1790 - acc: 0.9339 - val_loss: 1.0188 - val_acc: 0.7705\n",
      "Epoch 195/500\n",
      "242/242 [==============================] - 0s - loss: 0.2095 - acc: 0.9339 - val_loss: 1.0112 - val_acc: 0.7541\n",
      "Epoch 196/500\n"
     ]
    },
    {
     "name": "stdout",
     "output_type": "stream",
     "text": [
      "242/242 [==============================] - 0s - loss: 0.1810 - acc: 0.9421 - val_loss: 0.9853 - val_acc: 0.7541\n",
      "Epoch 197/500\n",
      "242/242 [==============================] - 0s - loss: 0.1746 - acc: 0.9504 - val_loss: 0.9928 - val_acc: 0.7541\n",
      "Epoch 198/500\n",
      "242/242 [==============================] - 0s - loss: 0.2129 - acc: 0.9298 - val_loss: 1.0291 - val_acc: 0.7705\n",
      "Epoch 199/500\n",
      "242/242 [==============================] - 0s - loss: 0.2163 - acc: 0.9132 - val_loss: 0.9649 - val_acc: 0.7869\n",
      "Epoch 200/500\n",
      "242/242 [==============================] - 0s - loss: 0.2260 - acc: 0.9256 - val_loss: 0.9303 - val_acc: 0.7869\n",
      "Epoch 201/500\n",
      "242/242 [==============================] - 0s - loss: 0.1848 - acc: 0.9339 - val_loss: 0.9683 - val_acc: 0.7705\n",
      "Epoch 202/500\n",
      "242/242 [==============================] - 0s - loss: 0.1755 - acc: 0.9339 - val_loss: 1.0188 - val_acc: 0.7541\n",
      "Epoch 203/500\n",
      "242/242 [==============================] - 0s - loss: 0.1774 - acc: 0.9215 - val_loss: 1.0487 - val_acc: 0.7541\n",
      "Epoch 204/500\n",
      "242/242 [==============================] - 0s - loss: 0.2021 - acc: 0.9256 - val_loss: 1.0274 - val_acc: 0.7541\n",
      "Epoch 205/500\n",
      "242/242 [==============================] - 0s - loss: 0.1767 - acc: 0.9421 - val_loss: 0.9857 - val_acc: 0.7541\n",
      "Epoch 206/500\n",
      "242/242 [==============================] - 0s - loss: 0.1642 - acc: 0.9463 - val_loss: 1.0411 - val_acc: 0.7049\n",
      "Epoch 207/500\n",
      "242/242 [==============================] - 0s - loss: 0.2093 - acc: 0.9215 - val_loss: 1.1014 - val_acc: 0.7213\n",
      "Epoch 208/500\n",
      "242/242 [==============================] - 0s - loss: 0.1914 - acc: 0.9298 - val_loss: 1.0727 - val_acc: 0.7213\n",
      "Epoch 209/500\n",
      "242/242 [==============================] - 0s - loss: 0.2164 - acc: 0.9174 - val_loss: 1.0275 - val_acc: 0.7705\n",
      "Epoch 210/500\n",
      "242/242 [==============================] - 0s - loss: 0.1400 - acc: 0.9545 - val_loss: 1.0064 - val_acc: 0.7705\n",
      "Epoch 211/500\n",
      "242/242 [==============================] - 0s - loss: 0.1759 - acc: 0.9587 - val_loss: 1.0325 - val_acc: 0.7869\n",
      "Epoch 212/500\n",
      "242/242 [==============================] - 0s - loss: 0.1812 - acc: 0.9380 - val_loss: 1.0556 - val_acc: 0.7869\n",
      "Epoch 213/500\n",
      "242/242 [==============================] - 0s - loss: 0.1881 - acc: 0.9421 - val_loss: 1.0686 - val_acc: 0.7705\n",
      "Epoch 214/500\n",
      "242/242 [==============================] - 0s - loss: 0.1536 - acc: 0.9545 - val_loss: 1.0729 - val_acc: 0.7869\n",
      "Epoch 215/500\n",
      "242/242 [==============================] - 0s - loss: 0.1356 - acc: 0.9587 - val_loss: 1.0630 - val_acc: 0.7869\n",
      "Epoch 216/500\n",
      "242/242 [==============================] - 0s - loss: 0.2196 - acc: 0.9298 - val_loss: 1.0622 - val_acc: 0.7869\n",
      "Epoch 217/500\n",
      "242/242 [==============================] - 0s - loss: 0.1948 - acc: 0.9339 - val_loss: 1.1034 - val_acc: 0.7377\n",
      "Epoch 218/500\n",
      "242/242 [==============================] - 0s - loss: 0.1798 - acc: 0.9339 - val_loss: 1.0537 - val_acc: 0.7213\n",
      "Epoch 219/500\n",
      "242/242 [==============================] - 0s - loss: 0.2054 - acc: 0.9256 - val_loss: 1.0224 - val_acc: 0.8033\n",
      "Epoch 220/500\n",
      "242/242 [==============================] - 0s - loss: 0.2196 - acc: 0.9132 - val_loss: 1.0332 - val_acc: 0.8033\n",
      "Epoch 221/500\n",
      "242/242 [==============================] - 0s - loss: 0.1725 - acc: 0.9298 - val_loss: 1.0447 - val_acc: 0.7705\n",
      "Epoch 222/500\n",
      "242/242 [==============================] - 0s - loss: 0.1530 - acc: 0.9504 - val_loss: 1.0894 - val_acc: 0.7377\n",
      "Epoch 223/500\n",
      "242/242 [==============================] - 0s - loss: 0.1708 - acc: 0.9339 - val_loss: 1.0679 - val_acc: 0.7541\n",
      "Epoch 224/500\n",
      "242/242 [==============================] - 0s - loss: 0.2133 - acc: 0.9298 - val_loss: 1.0341 - val_acc: 0.7869\n",
      "Epoch 225/500\n",
      "242/242 [==============================] - 0s - loss: 0.1543 - acc: 0.9421 - val_loss: 1.0349 - val_acc: 0.7869\n",
      "Epoch 226/500\n",
      "242/242 [==============================] - 0s - loss: 0.1524 - acc: 0.9504 - val_loss: 1.0689 - val_acc: 0.7869\n",
      "Epoch 227/500\n",
      "242/242 [==============================] - 0s - loss: 0.1716 - acc: 0.9463 - val_loss: 1.1046 - val_acc: 0.7541\n",
      "Epoch 228/500\n",
      "242/242 [==============================] - 0s - loss: 0.2497 - acc: 0.9050 - val_loss: 1.0742 - val_acc: 0.7705\n",
      "Epoch 229/500\n",
      "242/242 [==============================] - 0s - loss: 0.1811 - acc: 0.9463 - val_loss: 1.0207 - val_acc: 0.7705\n",
      "Epoch 230/500\n",
      "242/242 [==============================] - 0s - loss: 0.1551 - acc: 0.9545 - val_loss: 0.9962 - val_acc: 0.8361\n",
      "Epoch 231/500\n",
      "242/242 [==============================] - 0s - loss: 0.1600 - acc: 0.9421 - val_loss: 0.9890 - val_acc: 0.8197\n",
      "Epoch 232/500\n",
      "242/242 [==============================] - 0s - loss: 0.1827 - acc: 0.9421 - val_loss: 1.0233 - val_acc: 0.8033\n",
      "Epoch 233/500\n",
      "242/242 [==============================] - 0s - loss: 0.2026 - acc: 0.9174 - val_loss: 1.0255 - val_acc: 0.7869\n",
      "Epoch 234/500\n",
      "242/242 [==============================] - 0s - loss: 0.2037 - acc: 0.9421 - val_loss: 1.0344 - val_acc: 0.7869\n",
      "Epoch 235/500\n",
      "242/242 [==============================] - 0s - loss: 0.1965 - acc: 0.9545 - val_loss: 1.0726 - val_acc: 0.7705\n",
      "Epoch 236/500\n",
      "242/242 [==============================] - 0s - loss: 0.1479 - acc: 0.9380 - val_loss: 1.1098 - val_acc: 0.7213\n",
      "Epoch 237/500\n",
      "242/242 [==============================] - 0s - loss: 0.1529 - acc: 0.9545 - val_loss: 1.1316 - val_acc: 0.7705\n",
      "Epoch 238/500\n",
      "242/242 [==============================] - 0s - loss: 0.2191 - acc: 0.9215 - val_loss: 1.0656 - val_acc: 0.7705\n",
      "Epoch 239/500\n",
      "242/242 [==============================] - 0s - loss: 0.1869 - acc: 0.9380 - val_loss: 1.0258 - val_acc: 0.7705\n",
      "Epoch 240/500\n",
      "242/242 [==============================] - 0s - loss: 0.1453 - acc: 0.9587 - val_loss: 1.0156 - val_acc: 0.8033\n",
      "Epoch 241/500\n",
      "242/242 [==============================] - 0s - loss: 0.1997 - acc: 0.9215 - val_loss: 1.0155 - val_acc: 0.8033\n",
      "Epoch 242/500\n",
      "242/242 [==============================] - 0s - loss: 0.1580 - acc: 0.9545 - val_loss: 1.0357 - val_acc: 0.7869\n",
      "Epoch 243/500\n",
      "242/242 [==============================] - 0s - loss: 0.1511 - acc: 0.9587 - val_loss: 1.0702 - val_acc: 0.7541\n",
      "Epoch 244/500\n",
      "242/242 [==============================] - 0s - loss: 0.1460 - acc: 0.9504 - val_loss: 1.0555 - val_acc: 0.7377\n",
      "Epoch 245/500\n",
      "242/242 [==============================] - 0s - loss: 0.1549 - acc: 0.9339 - val_loss: 1.0390 - val_acc: 0.7377\n",
      "Epoch 246/500\n",
      "242/242 [==============================] - 0s - loss: 0.1624 - acc: 0.9463 - val_loss: 0.9981 - val_acc: 0.7541\n",
      "Epoch 247/500\n",
      "242/242 [==============================] - 0s - loss: 0.1671 - acc: 0.9463 - val_loss: 1.0128 - val_acc: 0.7869\n",
      "Epoch 248/500\n",
      "242/242 [==============================] - 0s - loss: 0.2037 - acc: 0.9298 - val_loss: 1.0324 - val_acc: 0.7869\n",
      "Epoch 249/500\n",
      "242/242 [==============================] - 0s - loss: 0.1279 - acc: 0.9711 - val_loss: 1.0141 - val_acc: 0.8033\n",
      "Epoch 250/500\n",
      "242/242 [==============================] - 0s - loss: 0.1429 - acc: 0.9380 - val_loss: 1.0182 - val_acc: 0.7541\n",
      "Epoch 251/500\n",
      "242/242 [==============================] - 0s - loss: 0.1250 - acc: 0.9545 - val_loss: 1.0613 - val_acc: 0.7377\n",
      "Epoch 252/500\n",
      "242/242 [==============================] - 0s - loss: 0.1593 - acc: 0.9339 - val_loss: 1.0872 - val_acc: 0.7377\n",
      "Epoch 253/500\n",
      "242/242 [==============================] - 0s - loss: 0.1407 - acc: 0.9380 - val_loss: 1.0941 - val_acc: 0.7541\n",
      "Epoch 254/500\n",
      "242/242 [==============================] - 0s - loss: 0.1178 - acc: 0.9504 - val_loss: 1.1361 - val_acc: 0.7705\n",
      "Epoch 255/500\n",
      "242/242 [==============================] - 0s - loss: 0.1321 - acc: 0.9463 - val_loss: 1.1584 - val_acc: 0.7377\n",
      "Epoch 256/500\n",
      "242/242 [==============================] - 0s - loss: 0.1249 - acc: 0.9711 - val_loss: 1.1228 - val_acc: 0.7869\n",
      "Epoch 257/500\n",
      "242/242 [==============================] - 0s - loss: 0.1739 - acc: 0.9339 - val_loss: 1.0935 - val_acc: 0.7705\n",
      "Epoch 258/500\n",
      "242/242 [==============================] - 0s - loss: 0.1655 - acc: 0.9504 - val_loss: 1.0507 - val_acc: 0.7869\n",
      "Epoch 259/500\n",
      "242/242 [==============================] - 0s - loss: 0.1627 - acc: 0.9463 - val_loss: 1.0693 - val_acc: 0.7705\n",
      "Epoch 260/500\n",
      "242/242 [==============================] - 0s - loss: 0.1793 - acc: 0.9463 - val_loss: 1.0876 - val_acc: 0.7869\n",
      "Epoch 261/500\n"
     ]
    },
    {
     "name": "stdout",
     "output_type": "stream",
     "text": [
      "242/242 [==============================] - 0s - loss: 0.1414 - acc: 0.9463 - val_loss: 1.0791 - val_acc: 0.7869\n",
      "Epoch 262/500\n",
      "242/242 [==============================] - 0s - loss: 0.1527 - acc: 0.9380 - val_loss: 1.0670 - val_acc: 0.8033\n",
      "Epoch 263/500\n",
      "242/242 [==============================] - 0s - loss: 0.1599 - acc: 0.9504 - val_loss: 1.0721 - val_acc: 0.8033\n",
      "Epoch 264/500\n",
      "242/242 [==============================] - 0s - loss: 0.1263 - acc: 0.9669 - val_loss: 1.1440 - val_acc: 0.7705\n",
      "Epoch 265/500\n",
      "242/242 [==============================] - 0s - loss: 0.1434 - acc: 0.9463 - val_loss: 1.1635 - val_acc: 0.7377\n",
      "Epoch 266/500\n",
      "242/242 [==============================] - 0s - loss: 0.1534 - acc: 0.9380 - val_loss: 1.1157 - val_acc: 0.8033\n",
      "Epoch 267/500\n",
      "242/242 [==============================] - 0s - loss: 0.1234 - acc: 0.9711 - val_loss: 1.0598 - val_acc: 0.8033\n",
      "Epoch 268/500\n",
      "242/242 [==============================] - 0s - loss: 0.1248 - acc: 0.9752 - val_loss: 1.0649 - val_acc: 0.8033\n",
      "Epoch 269/500\n",
      "242/242 [==============================] - 0s - loss: 0.1594 - acc: 0.9380 - val_loss: 1.0979 - val_acc: 0.8033\n",
      "Epoch 270/500\n",
      "242/242 [==============================] - 0s - loss: 0.1511 - acc: 0.9587 - val_loss: 1.1192 - val_acc: 0.8033\n",
      "Epoch 271/500\n",
      "242/242 [==============================] - 0s - loss: 0.1645 - acc: 0.9587 - val_loss: 1.1031 - val_acc: 0.8033\n",
      "Epoch 272/500\n",
      "242/242 [==============================] - 0s - loss: 0.1756 - acc: 0.9463 - val_loss: 1.0527 - val_acc: 0.8033\n",
      "Epoch 273/500\n",
      "242/242 [==============================] - 0s - loss: 0.1596 - acc: 0.9421 - val_loss: 1.0350 - val_acc: 0.8033\n",
      "Epoch 274/500\n",
      "242/242 [==============================] - 0s - loss: 0.1037 - acc: 0.9752 - val_loss: 1.0775 - val_acc: 0.7705\n",
      "Epoch 275/500\n",
      "242/242 [==============================] - 0s - loss: 0.1440 - acc: 0.9545 - val_loss: 1.1149 - val_acc: 0.7869\n",
      "Epoch 276/500\n",
      "242/242 [==============================] - 0s - loss: 0.1601 - acc: 0.9504 - val_loss: 1.0969 - val_acc: 0.7869\n",
      "Epoch 277/500\n",
      "242/242 [==============================] - 0s - loss: 0.1181 - acc: 0.9669 - val_loss: 1.0298 - val_acc: 0.7705\n",
      "Epoch 278/500\n",
      "242/242 [==============================] - 0s - loss: 0.2130 - acc: 0.9215 - val_loss: 1.0166 - val_acc: 0.8197\n",
      "Epoch 279/500\n",
      "242/242 [==============================] - 0s - loss: 0.1103 - acc: 0.9669 - val_loss: 1.0587 - val_acc: 0.7705\n",
      "Epoch 280/500\n",
      "242/242 [==============================] - 0s - loss: 0.1366 - acc: 0.9463 - val_loss: 1.1111 - val_acc: 0.7705\n",
      "Epoch 281/500\n",
      "242/242 [==============================] - 0s - loss: 0.1641 - acc: 0.9380 - val_loss: 1.1289 - val_acc: 0.7541\n",
      "Epoch 282/500\n",
      "242/242 [==============================] - 0s - loss: 0.1321 - acc: 0.9587 - val_loss: 1.1306 - val_acc: 0.7705\n",
      "Epoch 283/500\n",
      "242/242 [==============================] - 0s - loss: 0.1272 - acc: 0.9669 - val_loss: 1.0702 - val_acc: 0.7541\n",
      "Epoch 284/500\n",
      "242/242 [==============================] - 0s - loss: 0.1375 - acc: 0.9587 - val_loss: 1.0822 - val_acc: 0.7377\n",
      "Epoch 285/500\n",
      "242/242 [==============================] - 0s - loss: 0.1384 - acc: 0.9628 - val_loss: 1.0807 - val_acc: 0.7705\n",
      "Epoch 286/500\n",
      "242/242 [==============================] - 0s - loss: 0.1659 - acc: 0.9421 - val_loss: 1.1063 - val_acc: 0.7869\n",
      "Epoch 287/500\n",
      "242/242 [==============================] - 0s - loss: 0.1475 - acc: 0.9545 - val_loss: 1.1361 - val_acc: 0.7705\n",
      "Epoch 288/500\n",
      "242/242 [==============================] - 0s - loss: 0.1374 - acc: 0.9545 - val_loss: 1.1064 - val_acc: 0.7705\n",
      "Epoch 289/500\n",
      "242/242 [==============================] - 0s - loss: 0.1007 - acc: 0.9835 - val_loss: 1.0954 - val_acc: 0.8033\n",
      "Epoch 290/500\n",
      "242/242 [==============================] - 0s - loss: 0.1279 - acc: 0.9545 - val_loss: 1.1319 - val_acc: 0.7705\n",
      "Epoch 291/500\n",
      "242/242 [==============================] - 0s - loss: 0.1722 - acc: 0.9463 - val_loss: 1.1755 - val_acc: 0.7705\n",
      "Epoch 292/500\n",
      "242/242 [==============================] - 0s - loss: 0.1410 - acc: 0.9380 - val_loss: 1.1942 - val_acc: 0.7541\n",
      "Epoch 293/500\n",
      "242/242 [==============================] - 0s - loss: 0.1327 - acc: 0.9587 - val_loss: 1.1703 - val_acc: 0.7541\n",
      "Epoch 294/500\n",
      "242/242 [==============================] - 0s - loss: 0.1226 - acc: 0.9545 - val_loss: 1.1291 - val_acc: 0.8033\n",
      "Epoch 295/500\n",
      "242/242 [==============================] - 0s - loss: 0.1477 - acc: 0.9504 - val_loss: 1.1370 - val_acc: 0.8033\n",
      "Epoch 296/500\n",
      "242/242 [==============================] - 0s - loss: 0.1407 - acc: 0.9587 - val_loss: 1.1582 - val_acc: 0.8033\n",
      "Epoch 297/500\n",
      "242/242 [==============================] - 0s - loss: 0.1779 - acc: 0.9339 - val_loss: 1.1326 - val_acc: 0.7869\n",
      "Epoch 298/500\n",
      "242/242 [==============================] - 0s - loss: 0.1516 - acc: 0.9628 - val_loss: 1.1059 - val_acc: 0.7705\n",
      "Epoch 299/500\n",
      "242/242 [==============================] - 0s - loss: 0.1151 - acc: 0.9628 - val_loss: 1.1166 - val_acc: 0.7705\n",
      "Epoch 300/500\n",
      "242/242 [==============================] - 0s - loss: 0.1122 - acc: 0.9587 - val_loss: 1.1709 - val_acc: 0.7541\n",
      "Epoch 301/500\n",
      "242/242 [==============================] - 0s - loss: 0.1174 - acc: 0.9628 - val_loss: 1.2078 - val_acc: 0.7541\n",
      "Epoch 302/500\n",
      "242/242 [==============================] - 0s - loss: 0.1074 - acc: 0.9669 - val_loss: 1.1873 - val_acc: 0.7869\n",
      "Epoch 303/500\n",
      "242/242 [==============================] - 0s - loss: 0.0976 - acc: 0.9628 - val_loss: 1.1639 - val_acc: 0.7541\n",
      "Epoch 304/500\n",
      "242/242 [==============================] - 0s - loss: 0.1060 - acc: 0.9711 - val_loss: 1.1369 - val_acc: 0.7705\n",
      "Epoch 305/500\n",
      "242/242 [==============================] - 0s - loss: 0.0882 - acc: 0.9711 - val_loss: 1.0874 - val_acc: 0.7705\n",
      "Epoch 306/500\n",
      "242/242 [==============================] - 0s - loss: 0.1452 - acc: 0.9504 - val_loss: 1.0734 - val_acc: 0.7541\n",
      "Epoch 307/500\n",
      "242/242 [==============================] - 0s - loss: 0.1427 - acc: 0.9504 - val_loss: 1.0564 - val_acc: 0.7869\n",
      "Epoch 308/500\n",
      "242/242 [==============================] - 0s - loss: 0.1579 - acc: 0.9421 - val_loss: 1.0570 - val_acc: 0.8033\n",
      "Epoch 309/500\n",
      "242/242 [==============================] - 0s - loss: 0.1113 - acc: 0.9628 - val_loss: 1.0876 - val_acc: 0.8033\n",
      "Epoch 310/500\n",
      "242/242 [==============================] - 0s - loss: 0.1009 - acc: 0.9793 - val_loss: 1.1206 - val_acc: 0.8033\n",
      "Epoch 311/500\n",
      "242/242 [==============================] - 0s - loss: 0.1069 - acc: 0.9711 - val_loss: 1.1341 - val_acc: 0.8033\n",
      "Epoch 312/500\n",
      "242/242 [==============================] - 0s - loss: 0.1375 - acc: 0.9587 - val_loss: 1.1336 - val_acc: 0.8033\n",
      "Epoch 313/500\n",
      "242/242 [==============================] - 0s - loss: 0.1253 - acc: 0.9463 - val_loss: 1.1510 - val_acc: 0.8033\n",
      "Epoch 314/500\n",
      "242/242 [==============================] - 0s - loss: 0.1187 - acc: 0.9669 - val_loss: 1.1699 - val_acc: 0.8033\n",
      "Epoch 315/500\n",
      "242/242 [==============================] - 0s - loss: 0.1179 - acc: 0.9628 - val_loss: 1.2142 - val_acc: 0.7541\n",
      "Epoch 316/500\n",
      "242/242 [==============================] - 0s - loss: 0.1424 - acc: 0.9628 - val_loss: 1.2310 - val_acc: 0.7377\n",
      "Epoch 317/500\n",
      "242/242 [==============================] - 0s - loss: 0.1315 - acc: 0.9545 - val_loss: 1.2364 - val_acc: 0.7377\n",
      "Epoch 318/500\n",
      "242/242 [==============================] - 0s - loss: 0.1490 - acc: 0.9504 - val_loss: 1.1619 - val_acc: 0.7541\n",
      "Epoch 319/500\n",
      "242/242 [==============================] - 0s - loss: 0.1575 - acc: 0.9545 - val_loss: 1.0402 - val_acc: 0.8197\n",
      "Epoch 320/500\n",
      "242/242 [==============================] - 0s - loss: 0.1554 - acc: 0.9463 - val_loss: 1.0365 - val_acc: 0.8525\n",
      "Epoch 321/500\n",
      "242/242 [==============================] - 0s - loss: 0.1381 - acc: 0.9463 - val_loss: 1.1072 - val_acc: 0.7869\n",
      "Epoch 322/500\n",
      "242/242 [==============================] - 0s - loss: 0.1063 - acc: 0.9752 - val_loss: 1.1604 - val_acc: 0.7869\n",
      "Epoch 323/500\n",
      "242/242 [==============================] - 0s - loss: 0.1290 - acc: 0.9587 - val_loss: 1.1823 - val_acc: 0.7705\n",
      "Epoch 324/500\n",
      "242/242 [==============================] - 0s - loss: 0.1375 - acc: 0.9628 - val_loss: 1.1169 - val_acc: 0.7705\n",
      "Epoch 325/500\n",
      "242/242 [==============================] - 0s - loss: 0.1237 - acc: 0.9504 - val_loss: 1.0372 - val_acc: 0.8033\n",
      "Epoch 326/500\n"
     ]
    },
    {
     "name": "stdout",
     "output_type": "stream",
     "text": [
      "242/242 [==============================] - 0s - loss: 0.1439 - acc: 0.9504 - val_loss: 1.0232 - val_acc: 0.8033\n",
      "Epoch 327/500\n",
      "242/242 [==============================] - 0s - loss: 0.1499 - acc: 0.9504 - val_loss: 1.0644 - val_acc: 0.8033\n",
      "Epoch 328/500\n",
      "242/242 [==============================] - 0s - loss: 0.1182 - acc: 0.9628 - val_loss: 1.1363 - val_acc: 0.8033\n",
      "Epoch 329/500\n",
      "242/242 [==============================] - 0s - loss: 0.0882 - acc: 0.9835 - val_loss: 1.1649 - val_acc: 0.8197\n",
      "Epoch 330/500\n",
      "242/242 [==============================] - 0s - loss: 0.1022 - acc: 0.9752 - val_loss: 1.1501 - val_acc: 0.7705\n",
      "Epoch 331/500\n",
      "242/242 [==============================] - 0s - loss: 0.1003 - acc: 0.9669 - val_loss: 1.1444 - val_acc: 0.7705\n",
      "Epoch 332/500\n",
      "242/242 [==============================] - 0s - loss: 0.0957 - acc: 0.9669 - val_loss: 1.1526 - val_acc: 0.8033\n",
      "Epoch 333/500\n",
      "242/242 [==============================] - 0s - loss: 0.1434 - acc: 0.9587 - val_loss: 1.2014 - val_acc: 0.7869\n",
      "Epoch 334/500\n",
      "242/242 [==============================] - 0s - loss: 0.1552 - acc: 0.9463 - val_loss: 1.2047 - val_acc: 0.7541\n",
      "Epoch 335/500\n",
      "242/242 [==============================] - 0s - loss: 0.1174 - acc: 0.9669 - val_loss: 1.1554 - val_acc: 0.7541\n",
      "Epoch 336/500\n",
      "242/242 [==============================] - 0s - loss: 0.1476 - acc: 0.9587 - val_loss: 1.0879 - val_acc: 0.8033\n",
      "Epoch 337/500\n",
      "242/242 [==============================] - 0s - loss: 0.1188 - acc: 0.9752 - val_loss: 1.0608 - val_acc: 0.8033\n",
      "Epoch 338/500\n",
      "242/242 [==============================] - 0s - loss: 0.1033 - acc: 0.9628 - val_loss: 1.0774 - val_acc: 0.8033\n",
      "Epoch 339/500\n",
      "242/242 [==============================] - 0s - loss: 0.1408 - acc: 0.9504 - val_loss: 1.1262 - val_acc: 0.7869\n",
      "Epoch 340/500\n",
      "242/242 [==============================] - 0s - loss: 0.0952 - acc: 0.9752 - val_loss: 1.1261 - val_acc: 0.7869\n",
      "Epoch 341/500\n",
      "242/242 [==============================] - 0s - loss: 0.1112 - acc: 0.9669 - val_loss: 1.1181 - val_acc: 0.8033\n",
      "Epoch 342/500\n",
      "242/242 [==============================] - 0s - loss: 0.1291 - acc: 0.9545 - val_loss: 1.1375 - val_acc: 0.7705\n",
      "Epoch 343/500\n",
      "242/242 [==============================] - ETA: 0s - loss: 0.1411 - acc: 0.950 - 0s - loss: 0.1822 - acc: 0.9380 - val_loss: 1.1462 - val_acc: 0.7705\n",
      "Epoch 344/500\n",
      "242/242 [==============================] - 0s - loss: 0.1458 - acc: 0.9587 - val_loss: 1.0943 - val_acc: 0.7705\n",
      "Epoch 345/500\n",
      "242/242 [==============================] - 0s - loss: 0.1308 - acc: 0.9711 - val_loss: 1.0348 - val_acc: 0.7541\n",
      "Epoch 346/500\n",
      "242/242 [==============================] - 0s - loss: 0.1289 - acc: 0.9545 - val_loss: 1.0239 - val_acc: 0.8361\n",
      "Epoch 347/500\n",
      "242/242 [==============================] - 0s - loss: 0.0878 - acc: 0.9711 - val_loss: 1.0672 - val_acc: 0.8033\n",
      "Epoch 348/500\n",
      "242/242 [==============================] - 0s - loss: 0.0915 - acc: 0.9752 - val_loss: 1.1417 - val_acc: 0.7869\n",
      "Epoch 349/500\n",
      "242/242 [==============================] - 0s - loss: 0.1260 - acc: 0.9587 - val_loss: 1.2102 - val_acc: 0.7541\n",
      "Epoch 350/500\n",
      "242/242 [==============================] - 0s - loss: 0.1129 - acc: 0.9628 - val_loss: 1.1686 - val_acc: 0.7541\n",
      "Epoch 351/500\n",
      "242/242 [==============================] - 0s - loss: 0.1310 - acc: 0.9628 - val_loss: 1.0954 - val_acc: 0.7869\n",
      "Epoch 352/500\n",
      "242/242 [==============================] - 0s - loss: 0.0859 - acc: 0.9669 - val_loss: 1.0697 - val_acc: 0.8361\n",
      "Epoch 353/500\n",
      "242/242 [==============================] - 0s - loss: 0.1420 - acc: 0.9545 - val_loss: 1.1014 - val_acc: 0.8361\n",
      "Epoch 354/500\n",
      "242/242 [==============================] - 0s - loss: 0.0964 - acc: 0.9752 - val_loss: 1.1918 - val_acc: 0.7869\n",
      "Epoch 355/500\n",
      "242/242 [==============================] - 0s - loss: 0.0813 - acc: 0.9752 - val_loss: 1.2584 - val_acc: 0.7541\n",
      "Epoch 356/500\n",
      "242/242 [==============================] - 0s - loss: 0.1059 - acc: 0.9628 - val_loss: 1.1858 - val_acc: 0.7869\n",
      "Epoch 357/500\n",
      "242/242 [==============================] - 0s - loss: 0.1063 - acc: 0.9628 - val_loss: 1.1461 - val_acc: 0.8361\n",
      "Epoch 358/500\n",
      "242/242 [==============================] - 0s - loss: 0.1052 - acc: 0.9628 - val_loss: 1.1665 - val_acc: 0.8197\n",
      "Epoch 359/500\n",
      "242/242 [==============================] - 0s - loss: 0.0985 - acc: 0.9793 - val_loss: 1.2194 - val_acc: 0.8033\n",
      "Epoch 360/500\n",
      "242/242 [==============================] - 0s - loss: 0.0593 - acc: 0.9917 - val_loss: 1.3186 - val_acc: 0.7541\n",
      "Epoch 361/500\n",
      "242/242 [==============================] - 0s - loss: 0.1186 - acc: 0.9587 - val_loss: 1.3205 - val_acc: 0.7869\n",
      "Epoch 362/500\n",
      "242/242 [==============================] - 0s - loss: 0.1370 - acc: 0.9298 - val_loss: 1.2291 - val_acc: 0.8033\n",
      "Epoch 363/500\n",
      "242/242 [==============================] - 0s - loss: 0.0990 - acc: 0.9669 - val_loss: 1.1711 - val_acc: 0.8033\n",
      "Epoch 364/500\n",
      "242/242 [==============================] - 0s - loss: 0.1589 - acc: 0.9380 - val_loss: 1.1739 - val_acc: 0.8033\n",
      "Epoch 365/500\n",
      "242/242 [==============================] - 0s - loss: 0.1234 - acc: 0.9587 - val_loss: 1.2674 - val_acc: 0.7705\n",
      "Epoch 366/500\n",
      "242/242 [==============================] - 0s - loss: 0.1145 - acc: 0.9504 - val_loss: 1.3169 - val_acc: 0.7705\n",
      "Epoch 367/500\n",
      "242/242 [==============================] - 0s - loss: 0.0785 - acc: 0.9876 - val_loss: 1.2915 - val_acc: 0.7869\n",
      "Epoch 368/500\n",
      "242/242 [==============================] - 0s - loss: 0.0946 - acc: 0.9669 - val_loss: 1.2121 - val_acc: 0.8033\n",
      "Epoch 369/500\n",
      "242/242 [==============================] - 0s - loss: 0.0985 - acc: 0.9711 - val_loss: 1.1396 - val_acc: 0.8033\n",
      "Epoch 370/500\n",
      "242/242 [==============================] - 0s - loss: 0.0979 - acc: 0.9793 - val_loss: 1.1204 - val_acc: 0.8197\n",
      "Epoch 371/500\n",
      "242/242 [==============================] - 0s - loss: 0.1334 - acc: 0.9463 - val_loss: 1.2073 - val_acc: 0.8033\n",
      "Epoch 372/500\n",
      "242/242 [==============================] - 0s - loss: 0.0694 - acc: 0.9835 - val_loss: 1.2953 - val_acc: 0.7869\n",
      "Epoch 373/500\n",
      "242/242 [==============================] - 0s - loss: 0.0983 - acc: 0.9752 - val_loss: 1.2905 - val_acc: 0.7869\n",
      "Epoch 374/500\n",
      "242/242 [==============================] - 0s - loss: 0.0950 - acc: 0.9752 - val_loss: 1.2521 - val_acc: 0.7869\n",
      "Epoch 375/500\n",
      "242/242 [==============================] - 0s - loss: 0.1122 - acc: 0.9463 - val_loss: 1.2206 - val_acc: 0.8033\n",
      "Epoch 376/500\n",
      "242/242 [==============================] - 0s - loss: 0.1159 - acc: 0.9669 - val_loss: 1.2401 - val_acc: 0.8033\n",
      "Epoch 377/500\n",
      "242/242 [==============================] - 0s - loss: 0.0926 - acc: 0.9711 - val_loss: 1.2844 - val_acc: 0.8033\n",
      "Epoch 378/500\n",
      "242/242 [==============================] - 0s - loss: 0.0771 - acc: 0.9793 - val_loss: 1.3126 - val_acc: 0.7705\n",
      "Epoch 379/500\n",
      "242/242 [==============================] - 0s - loss: 0.1349 - acc: 0.9463 - val_loss: 1.2715 - val_acc: 0.7705\n",
      "Epoch 380/500\n",
      "242/242 [==============================] - 0s - loss: 0.0772 - acc: 0.9587 - val_loss: 1.2446 - val_acc: 0.7705\n",
      "Epoch 381/500\n",
      "242/242 [==============================] - 0s - loss: 0.1043 - acc: 0.9545 - val_loss: 1.2439 - val_acc: 0.8033\n",
      "Epoch 382/500\n",
      "242/242 [==============================] - 0s - loss: 0.1252 - acc: 0.9628 - val_loss: 1.2362 - val_acc: 0.8033\n",
      "Epoch 383/500\n",
      "242/242 [==============================] - 0s - loss: 0.0891 - acc: 0.9711 - val_loss: 1.2784 - val_acc: 0.8033\n",
      "Epoch 384/500\n",
      "242/242 [==============================] - 0s - loss: 0.1100 - acc: 0.9628 - val_loss: 1.3067 - val_acc: 0.8033\n",
      "Epoch 385/500\n",
      "242/242 [==============================] - 0s - loss: 0.1276 - acc: 0.9463 - val_loss: 1.2640 - val_acc: 0.8033\n",
      "Epoch 386/500\n",
      "242/242 [==============================] - 0s - loss: 0.1262 - acc: 0.9545 - val_loss: 1.1955 - val_acc: 0.7869\n",
      "Epoch 387/500\n",
      "242/242 [==============================] - 0s - loss: 0.1038 - acc: 0.9628 - val_loss: 1.1356 - val_acc: 0.8033\n",
      "Epoch 388/500\n",
      "242/242 [==============================] - 0s - loss: 0.1305 - acc: 0.9669 - val_loss: 1.1189 - val_acc: 0.8033\n",
      "Epoch 389/500\n",
      "242/242 [==============================] - 0s - loss: 0.0714 - acc: 0.9752 - val_loss: 1.1246 - val_acc: 0.8033\n",
      "Epoch 390/500\n"
     ]
    },
    {
     "name": "stdout",
     "output_type": "stream",
     "text": [
      "242/242 [==============================] - 0s - loss: 0.0721 - acc: 0.9793 - val_loss: 1.1457 - val_acc: 0.8033\n",
      "Epoch 391/500\n",
      "242/242 [==============================] - 0s - loss: 0.0967 - acc: 0.9752 - val_loss: 1.1726 - val_acc: 0.8033\n",
      "Epoch 392/500\n",
      "242/242 [==============================] - 0s - loss: 0.1101 - acc: 0.9504 - val_loss: 1.1877 - val_acc: 0.8033\n",
      "Epoch 393/500\n",
      "242/242 [==============================] - 0s - loss: 0.1255 - acc: 0.9669 - val_loss: 1.1766 - val_acc: 0.7869\n",
      "Epoch 394/500\n",
      "242/242 [==============================] - 0s - loss: 0.0964 - acc: 0.9711 - val_loss: 1.1419 - val_acc: 0.7705\n",
      "Epoch 395/500\n",
      "242/242 [==============================] - 0s - loss: 0.0725 - acc: 0.9793 - val_loss: 1.1063 - val_acc: 0.7705\n",
      "Epoch 396/500\n",
      "242/242 [==============================] - 0s - loss: 0.1045 - acc: 0.9587 - val_loss: 1.1039 - val_acc: 0.8033\n",
      "Epoch 397/500\n",
      "242/242 [==============================] - 0s - loss: 0.1058 - acc: 0.9587 - val_loss: 1.1321 - val_acc: 0.8033\n",
      "Epoch 398/500\n",
      "242/242 [==============================] - 0s - loss: 0.1090 - acc: 0.9711 - val_loss: 1.1791 - val_acc: 0.8033\n",
      "Epoch 399/500\n",
      "242/242 [==============================] - 0s - loss: 0.0753 - acc: 0.9669 - val_loss: 1.2012 - val_acc: 0.8033\n",
      "Epoch 400/500\n",
      "242/242 [==============================] - 0s - loss: 0.0661 - acc: 0.9876 - val_loss: 1.2221 - val_acc: 0.8033\n",
      "Epoch 401/500\n",
      "242/242 [==============================] - 0s - loss: 0.0923 - acc: 0.9587 - val_loss: 1.2401 - val_acc: 0.7869\n",
      "Epoch 402/500\n",
      "242/242 [==============================] - 0s - loss: 0.0881 - acc: 0.9669 - val_loss: 1.2496 - val_acc: 0.7869\n",
      "Epoch 403/500\n",
      "242/242 [==============================] - 0s - loss: 0.0827 - acc: 0.9669 - val_loss: 1.2462 - val_acc: 0.7869\n",
      "Epoch 404/500\n",
      "242/242 [==============================] - 0s - loss: 0.1024 - acc: 0.9669 - val_loss: 1.2254 - val_acc: 0.8033\n",
      "Epoch 405/500\n",
      "242/242 [==============================] - 0s - loss: 0.1048 - acc: 0.9628 - val_loss: 1.2185 - val_acc: 0.7705\n",
      "Epoch 406/500\n",
      "242/242 [==============================] - 0s - loss: 0.0894 - acc: 0.9752 - val_loss: 1.2439 - val_acc: 0.7541\n",
      "Epoch 407/500\n",
      "242/242 [==============================] - 0s - loss: 0.1029 - acc: 0.9628 - val_loss: 1.2893 - val_acc: 0.7705\n",
      "Epoch 408/500\n",
      "242/242 [==============================] - 0s - loss: 0.0973 - acc: 0.9628 - val_loss: 1.2522 - val_acc: 0.8033\n",
      "Epoch 409/500\n",
      "242/242 [==============================] - 0s - loss: 0.0999 - acc: 0.9669 - val_loss: 1.2406 - val_acc: 0.8033\n",
      "Epoch 410/500\n",
      "242/242 [==============================] - 0s - loss: 0.0877 - acc: 0.9628 - val_loss: 1.2935 - val_acc: 0.7869\n",
      "Epoch 411/500\n",
      "242/242 [==============================] - 0s - loss: 0.1187 - acc: 0.9587 - val_loss: 1.3089 - val_acc: 0.8033\n",
      "Epoch 412/500\n",
      "242/242 [==============================] - 0s - loss: 0.1141 - acc: 0.9504 - val_loss: 1.2681 - val_acc: 0.8033\n",
      "Epoch 413/500\n",
      "242/242 [==============================] - 0s - loss: 0.0832 - acc: 0.9752 - val_loss: 1.1947 - val_acc: 0.8033\n",
      "Epoch 414/500\n",
      "242/242 [==============================] - 0s - loss: 0.1056 - acc: 0.9587 - val_loss: 1.1716 - val_acc: 0.8197\n",
      "Epoch 415/500\n",
      "242/242 [==============================] - 0s - loss: 0.0952 - acc: 0.9711 - val_loss: 1.2252 - val_acc: 0.7869\n",
      "Epoch 416/500\n",
      "242/242 [==============================] - 0s - loss: 0.1058 - acc: 0.9628 - val_loss: 1.2946 - val_acc: 0.7869\n",
      "Epoch 417/500\n",
      "242/242 [==============================] - 0s - loss: 0.0922 - acc: 0.9711 - val_loss: 1.3194 - val_acc: 0.8033\n",
      "Epoch 418/500\n",
      "242/242 [==============================] - 0s - loss: 0.0783 - acc: 0.9793 - val_loss: 1.3259 - val_acc: 0.7705\n",
      "Epoch 419/500\n",
      "242/242 [==============================] - 0s - loss: 0.0978 - acc: 0.9669 - val_loss: 1.3026 - val_acc: 0.8033\n",
      "Epoch 420/500\n",
      "242/242 [==============================] - 0s - loss: 0.1141 - acc: 0.9587 - val_loss: 1.2644 - val_acc: 0.8197\n",
      "Epoch 421/500\n",
      "242/242 [==============================] - 0s - loss: 0.1125 - acc: 0.9587 - val_loss: 1.2657 - val_acc: 0.8033\n",
      "Epoch 422/500\n",
      "242/242 [==============================] - 0s - loss: 0.1145 - acc: 0.9587 - val_loss: 1.3215 - val_acc: 0.7705\n",
      "Epoch 423/500\n",
      "242/242 [==============================] - 0s - loss: 0.1125 - acc: 0.9628 - val_loss: 1.3394 - val_acc: 0.7705\n",
      "Epoch 424/500\n",
      "242/242 [==============================] - 0s - loss: 0.0963 - acc: 0.9669 - val_loss: 1.2671 - val_acc: 0.7705\n",
      "Epoch 425/500\n",
      "242/242 [==============================] - 0s - loss: 0.0999 - acc: 0.9587 - val_loss: 1.2461 - val_acc: 0.7541\n",
      "Epoch 426/500\n",
      "242/242 [==============================] - ETA: 0s - loss: 0.0985 - acc: 0.970 - 0s - loss: 0.0983 - acc: 0.9669 - val_loss: 1.2881 - val_acc: 0.7541\n",
      "Epoch 427/500\n",
      "242/242 [==============================] - 0s - loss: 0.0871 - acc: 0.9711 - val_loss: 1.3189 - val_acc: 0.7377\n",
      "Epoch 428/500\n",
      "242/242 [==============================] - 0s - loss: 0.1311 - acc: 0.9463 - val_loss: 1.3292 - val_acc: 0.7541\n",
      "Epoch 429/500\n",
      "242/242 [==============================] - 0s - loss: 0.0906 - acc: 0.9669 - val_loss: 1.3262 - val_acc: 0.7541\n",
      "Epoch 430/500\n",
      "242/242 [==============================] - 0s - loss: 0.1163 - acc: 0.9669 - val_loss: 1.3337 - val_acc: 0.7705\n",
      "Epoch 431/500\n",
      "242/242 [==============================] - 0s - loss: 0.0572 - acc: 0.9876 - val_loss: 1.3151 - val_acc: 0.7705\n",
      "Epoch 432/500\n",
      "242/242 [==============================] - 0s - loss: 0.0838 - acc: 0.9669 - val_loss: 1.2802 - val_acc: 0.7541\n",
      "Epoch 433/500\n",
      "242/242 [==============================] - 0s - loss: 0.1156 - acc: 0.9545 - val_loss: 1.3256 - val_acc: 0.7705\n",
      "Epoch 434/500\n",
      "242/242 [==============================] - 0s - loss: 0.0671 - acc: 0.9793 - val_loss: 1.3796 - val_acc: 0.7705\n",
      "Epoch 435/500\n",
      "242/242 [==============================] - 0s - loss: 0.1000 - acc: 0.9545 - val_loss: 1.3592 - val_acc: 0.7705\n",
      "Epoch 436/500\n",
      "242/242 [==============================] - 0s - loss: 0.1064 - acc: 0.9669 - val_loss: 1.3051 - val_acc: 0.7705\n",
      "Epoch 437/500\n",
      "242/242 [==============================] - 0s - loss: 0.0828 - acc: 0.9669 - val_loss: 1.2807 - val_acc: 0.7541\n",
      "Epoch 438/500\n",
      "242/242 [==============================] - 0s - loss: 0.1022 - acc: 0.9669 - val_loss: 1.2653 - val_acc: 0.7541\n",
      "Epoch 439/500\n",
      "242/242 [==============================] - 0s - loss: 0.0624 - acc: 0.9835 - val_loss: 1.2836 - val_acc: 0.7541\n",
      "Epoch 440/500\n",
      "242/242 [==============================] - 0s - loss: 0.0916 - acc: 0.9628 - val_loss: 1.2922 - val_acc: 0.7869\n",
      "Epoch 441/500\n",
      "242/242 [==============================] - 0s - loss: 0.0657 - acc: 0.9835 - val_loss: 1.2497 - val_acc: 0.8033\n",
      "Epoch 442/500\n",
      "242/242 [==============================] - 0s - loss: 0.0802 - acc: 0.9752 - val_loss: 1.2024 - val_acc: 0.8033\n",
      "Epoch 443/500\n",
      "242/242 [==============================] - ETA: 0s - loss: 0.0932 - acc: 0.960 - 0s - loss: 0.1290 - acc: 0.9545 - val_loss: 1.1806 - val_acc: 0.8033\n",
      "Epoch 444/500\n",
      "242/242 [==============================] - 0s - loss: 0.1201 - acc: 0.9380 - val_loss: 1.1911 - val_acc: 0.8197\n",
      "Epoch 445/500\n",
      "242/242 [==============================] - 0s - loss: 0.0995 - acc: 0.9628 - val_loss: 1.2162 - val_acc: 0.7869\n",
      "Epoch 446/500\n",
      "242/242 [==============================] - 0s - loss: 0.1335 - acc: 0.9504 - val_loss: 1.2646 - val_acc: 0.7869\n",
      "Epoch 447/500\n",
      "242/242 [==============================] - 0s - loss: 0.0774 - acc: 0.9793 - val_loss: 1.3027 - val_acc: 0.7869\n",
      "Epoch 448/500\n",
      "242/242 [==============================] - 0s - loss: 0.0728 - acc: 0.9793 - val_loss: 1.3225 - val_acc: 0.7869\n",
      "Epoch 449/500\n",
      "242/242 [==============================] - 0s - loss: 0.0833 - acc: 0.9752 - val_loss: 1.2841 - val_acc: 0.7869\n",
      "Epoch 450/500\n",
      "242/242 [==============================] - 0s - loss: 0.0858 - acc: 0.9711 - val_loss: 1.2394 - val_acc: 0.7869\n",
      "Epoch 451/500\n",
      "242/242 [==============================] - 0s - loss: 0.0547 - acc: 0.9917 - val_loss: 1.2371 - val_acc: 0.7869\n",
      "Epoch 452/500\n",
      "242/242 [==============================] - 0s - loss: 0.1039 - acc: 0.9628 - val_loss: 1.2535 - val_acc: 0.7869\n",
      "Epoch 453/500\n",
      "242/242 [==============================] - 0s - loss: 0.0657 - acc: 0.9793 - val_loss: 1.2907 - val_acc: 0.7705\n",
      "Epoch 454/500\n"
     ]
    },
    {
     "name": "stdout",
     "output_type": "stream",
     "text": [
      "242/242 [==============================] - 0s - loss: 0.0837 - acc: 0.9793 - val_loss: 1.3403 - val_acc: 0.7377\n",
      "Epoch 455/500\n",
      "242/242 [==============================] - 0s - loss: 0.0577 - acc: 0.9793 - val_loss: 1.3432 - val_acc: 0.7377\n",
      "Epoch 456/500\n",
      "242/242 [==============================] - 0s - loss: 0.0693 - acc: 0.9752 - val_loss: 1.2992 - val_acc: 0.7869\n",
      "Epoch 457/500\n",
      "242/242 [==============================] - 0s - loss: 0.0764 - acc: 0.9587 - val_loss: 1.2554 - val_acc: 0.8197\n",
      "Epoch 458/500\n",
      "242/242 [==============================] - 0s - loss: 0.0875 - acc: 0.9711 - val_loss: 1.2353 - val_acc: 0.8197\n",
      "Epoch 459/500\n",
      "242/242 [==============================] - 0s - loss: 0.0846 - acc: 0.9711 - val_loss: 1.2509 - val_acc: 0.8033\n",
      "Epoch 460/500\n",
      "242/242 [==============================] - 0s - loss: 0.0585 - acc: 0.9835 - val_loss: 1.2964 - val_acc: 0.8033\n",
      "Epoch 461/500\n",
      "242/242 [==============================] - 0s - loss: 0.0731 - acc: 0.9545 - val_loss: 1.3730 - val_acc: 0.7869\n",
      "Epoch 462/500\n",
      "242/242 [==============================] - 0s - loss: 0.0970 - acc: 0.9669 - val_loss: 1.4126 - val_acc: 0.7377\n",
      "Epoch 463/500\n",
      "242/242 [==============================] - 0s - loss: 0.0843 - acc: 0.9752 - val_loss: 1.3962 - val_acc: 0.7377\n",
      "Epoch 464/500\n",
      "242/242 [==============================] - 0s - loss: 0.0835 - acc: 0.9793 - val_loss: 1.3365 - val_acc: 0.7541\n",
      "Epoch 465/500\n",
      "242/242 [==============================] - 0s - loss: 0.0750 - acc: 0.9793 - val_loss: 1.3102 - val_acc: 0.7705\n",
      "Epoch 466/500\n",
      "242/242 [==============================] - 0s - loss: 0.0681 - acc: 0.9793 - val_loss: 1.3331 - val_acc: 0.7705\n",
      "Epoch 467/500\n",
      "242/242 [==============================] - 0s - loss: 0.0725 - acc: 0.9876 - val_loss: 1.4014 - val_acc: 0.7541\n",
      "Epoch 468/500\n",
      "242/242 [==============================] - 0s - loss: 0.0699 - acc: 0.9793 - val_loss: 1.4778 - val_acc: 0.7541\n",
      "Epoch 469/500\n",
      "242/242 [==============================] - 0s - loss: 0.0737 - acc: 0.9793 - val_loss: 1.5065 - val_acc: 0.7541\n",
      "Epoch 470/500\n",
      "242/242 [==============================] - 0s - loss: 0.1040 - acc: 0.9628 - val_loss: 1.4444 - val_acc: 0.7541\n",
      "Epoch 471/500\n",
      "242/242 [==============================] - 0s - loss: 0.0793 - acc: 0.9711 - val_loss: 1.4052 - val_acc: 0.7377\n",
      "Epoch 472/500\n",
      "242/242 [==============================] - 0s - loss: 0.0759 - acc: 0.9793 - val_loss: 1.3663 - val_acc: 0.7377\n",
      "Epoch 473/500\n",
      "242/242 [==============================] - 0s - loss: 0.0944 - acc: 0.9711 - val_loss: 1.3907 - val_acc: 0.7377\n",
      "Epoch 474/500\n",
      "242/242 [==============================] - 0s - loss: 0.0565 - acc: 0.9752 - val_loss: 1.4212 - val_acc: 0.7377\n",
      "Epoch 475/500\n",
      "242/242 [==============================] - 0s - loss: 0.0595 - acc: 0.9876 - val_loss: 1.3674 - val_acc: 0.8033\n",
      "Epoch 476/500\n",
      "242/242 [==============================] - 0s - loss: 0.0748 - acc: 0.9669 - val_loss: 1.2974 - val_acc: 0.8033\n",
      "Epoch 477/500\n",
      "242/242 [==============================] - 0s - loss: 0.0911 - acc: 0.9545 - val_loss: 1.2664 - val_acc: 0.8033\n",
      "Epoch 478/500\n",
      "242/242 [==============================] - 0s - loss: 0.0766 - acc: 0.9835 - val_loss: 1.2823 - val_acc: 0.8033\n",
      "Epoch 479/500\n",
      "242/242 [==============================] - 0s - loss: 0.0706 - acc: 0.9752 - val_loss: 1.2909 - val_acc: 0.8033\n",
      "Epoch 480/500\n",
      "242/242 [==============================] - 0s - loss: 0.0891 - acc: 0.9711 - val_loss: 1.2882 - val_acc: 0.8033\n",
      "Epoch 481/500\n",
      "242/242 [==============================] - 0s - loss: 0.1198 - acc: 0.9628 - val_loss: 1.3375 - val_acc: 0.7541\n",
      "Epoch 482/500\n",
      "242/242 [==============================] - 0s - loss: 0.0858 - acc: 0.9835 - val_loss: 1.3930 - val_acc: 0.7541\n",
      "Epoch 483/500\n",
      "242/242 [==============================] - 0s - loss: 0.0689 - acc: 0.9752 - val_loss: 1.3882 - val_acc: 0.7541\n",
      "Epoch 484/500\n",
      "242/242 [==============================] - 0s - loss: 0.0947 - acc: 0.9628 - val_loss: 1.3708 - val_acc: 0.7377\n",
      "Epoch 485/500\n",
      "242/242 [==============================] - 0s - loss: 0.0888 - acc: 0.9752 - val_loss: 1.3481 - val_acc: 0.7869\n",
      "Epoch 486/500\n",
      "242/242 [==============================] - 0s - loss: 0.0588 - acc: 0.9835 - val_loss: 1.3592 - val_acc: 0.7869\n",
      "Epoch 487/500\n",
      "242/242 [==============================] - 0s - loss: 0.0615 - acc: 0.9752 - val_loss: 1.3351 - val_acc: 0.7869\n",
      "Epoch 488/500\n",
      "242/242 [==============================] - 0s - loss: 0.0879 - acc: 0.9669 - val_loss: 1.3127 - val_acc: 0.8033\n",
      "Epoch 489/500\n",
      "242/242 [==============================] - 0s - loss: 0.0584 - acc: 0.9793 - val_loss: 1.3263 - val_acc: 0.8033\n",
      "Epoch 490/500\n",
      "242/242 [==============================] - 0s - loss: 0.0683 - acc: 0.9835 - val_loss: 1.3810 - val_acc: 0.7541\n",
      "Epoch 491/500\n",
      "242/242 [==============================] - 0s - loss: 0.0703 - acc: 0.9752 - val_loss: 1.4599 - val_acc: 0.7377\n",
      "Epoch 492/500\n",
      "242/242 [==============================] - 0s - loss: 0.1041 - acc: 0.9752 - val_loss: 1.4821 - val_acc: 0.7541\n",
      "Epoch 493/500\n",
      "242/242 [==============================] - 0s - loss: 0.0852 - acc: 0.9752 - val_loss: 1.4838 - val_acc: 0.7377\n",
      "Epoch 494/500\n",
      "242/242 [==============================] - ETA: 0s - loss: 0.0580 - acc: 0.990 - 0s - loss: 0.0767 - acc: 0.9752 - val_loss: 1.3769 - val_acc: 0.7377\n",
      "Epoch 495/500\n",
      "242/242 [==============================] - 0s - loss: 0.0657 - acc: 0.9876 - val_loss: 1.2872 - val_acc: 0.7869\n",
      "Epoch 496/500\n",
      "242/242 [==============================] - 0s - loss: 0.1031 - acc: 0.9628 - val_loss: 1.2779 - val_acc: 0.8033\n",
      "Epoch 497/500\n",
      "242/242 [==============================] - 0s - loss: 0.0980 - acc: 0.9711 - val_loss: 1.3584 - val_acc: 0.7869\n",
      "Epoch 498/500\n",
      "242/242 [==============================] - 0s - loss: 0.0694 - acc: 0.9711 - val_loss: 1.3614 - val_acc: 0.7541\n",
      "Epoch 499/500\n",
      "242/242 [==============================] - 0s - loss: 0.0394 - acc: 0.9917 - val_loss: 1.3463 - val_acc: 0.7541\n",
      "Epoch 500/500\n",
      "242/242 [==============================] - 0s - loss: 0.0909 - acc: 0.9793 - val_loss: 1.3288 - val_acc: 0.7541\n",
      "CPU times: user 1min 3s, sys: 39.9 s, total: 1min 43s\n",
      "Wall time: 54.1 s\n"
     ]
    }
   ],
   "source": [
    "%time history = classifier_model.fit(bottleneck_features_train, y_train, epochs=500, batch_size=BATCH_SIZE, validation_split=0.2, callbacks=[tb_callback])"
   ]
  },
  {
   "cell_type": "markdown",
   "metadata": {},
   "source": [
    "## Open Issue 1: We have two separate models now\n",
    "* How do we evaluate?\n",
    "* How to save model for later prediction use / deployment?"
   ]
  },
  {
   "cell_type": "code",
   "execution_count": 32,
   "metadata": {
    "collapsed": true
   },
   "outputs": [],
   "source": [
    "from keras import models\n",
    "\n",
    "combined_model = models.Sequential()\n",
    "combined_model.add(vgg_model)\n",
    "combined_model.add(classifier_model)"
   ]
  },
  {
   "cell_type": "code",
   "execution_count": 33,
   "metadata": {},
   "outputs": [
    {
     "name": "stdout",
     "output_type": "stream",
     "text": [
      "_________________________________________________________________\n",
      "Layer (type)                 Output Shape              Param #   \n",
      "=================================================================\n",
      "vgg16 (Model)                (None, 2, 2, 512)         14714688  \n",
      "_________________________________________________________________\n",
      "model_1 (Model)              (None, 6)                 526086    \n",
      "=================================================================\n",
      "Total params: 15,240,774\n",
      "Trainable params: 15,240,774\n",
      "Non-trainable params: 0\n",
      "_________________________________________________________________\n"
     ]
    }
   ],
   "source": [
    "combined_model.summary()"
   ]
  },
  {
   "cell_type": "code",
   "execution_count": 62,
   "metadata": {
    "collapsed": true
   },
   "outputs": [],
   "source": [
    "combined_model.compile(optimizer='adam',\n",
    "              loss='categorical_crossentropy',\n",
    "              metrics=['accuracy'])"
   ]
  },
  {
   "cell_type": "code",
   "execution_count": 35,
   "metadata": {},
   "outputs": [
    {
     "name": "stdout",
     "output_type": "stream",
     "text": [
      "303/303 [==============================] - 25s    \n"
     ]
    },
    {
     "data": {
      "text/plain": [
       "(0.27357645196956965, 0.95049505442282545)"
      ]
     },
     "execution_count": 35,
     "metadata": {},
     "output_type": "execute_result"
    }
   ],
   "source": [
    "train_loss, train_accuracy = combined_model.evaluate(X_train, y_train, batch_size=BATCH_SIZE)\n",
    "train_loss, train_accuracy"
   ]
  },
  {
   "cell_type": "code",
   "execution_count": 36,
   "metadata": {},
   "outputs": [
    {
     "name": "stdout",
     "output_type": "stream",
     "text": [
      "76/76 [==============================] - 5s\n"
     ]
    },
    {
     "data": {
      "text/plain": [
       "(0.4798566997051239, 0.86842107772827148)"
      ]
     },
     "execution_count": 36,
     "metadata": {},
     "output_type": "execute_result"
    }
   ],
   "source": [
    "test_loss, test_accuracy = combined_model.evaluate(X_test, y_test, batch_size=BATCH_SIZE)\n",
    "test_loss, test_accuracy"
   ]
  },
  {
   "cell_type": "code",
   "execution_count": 37,
   "metadata": {
    "collapsed": true
   },
   "outputs": [],
   "source": [
    "combined_model.save('vgg16-retrained.hdf5')\n",
    "# combined_model.save('vgg16-augmented-retrained.hdf5')"
   ]
  },
  {
   "cell_type": "code",
   "execution_count": 39,
   "metadata": {},
   "outputs": [
    {
     "name": "stdout",
     "output_type": "stream",
     "text": [
      "-rwxrwxrwx 1 root root 59M Sep 30 13:53 vgg16-retrained.hdf5\n",
      "-rwxrwxrwx 1 root root 59M Sep 30 13:30 vgg16-auugmented-retrained.hdf5\n"
     ]
    }
   ],
   "source": [
    "!ls -lh vgg16-retrained.hdf5\n",
    "# !ls -lh vgg16-augmented-retrained.hdf5"
   ]
  },
  {
   "cell_type": "markdown",
   "metadata": {},
   "source": [
    "## Open Issue 2: Whatever we do, we overfit, much more than 80% on test not possible\n",
    "* first thing we could try: maybe bottlebeck feature being 2x2 is too small, we could compensate by scaling images up to 128x128 or even 256x256\n",
    "  * this can indeed bring up test score to 90%\n",
    "  * however, this will make the model incompatible with the 64x64 input of the other models and make deployment harder, so we keep 64x64\n",
    "* maybe feature extracting from Imagenet is too different from what we have with speed limit signs? \n",
    "* or is the classifier too simply for the complex features?"
   ]
  },
  {
   "cell_type": "markdown",
   "metadata": {},
   "source": [
    "## Let us try some fine tuning"
   ]
  },
  {
   "cell_type": "markdown",
   "metadata": {},
   "source": [
    "### First we freeze all but the last convolutional block"
   ]
  },
  {
   "cell_type": "code",
   "execution_count": 42,
   "metadata": {},
   "outputs": [
    {
     "data": {
      "text/plain": [
       "19"
      ]
     },
     "execution_count": 42,
     "metadata": {},
     "output_type": "execute_result"
    }
   ],
   "source": [
    "len(vgg_model.layers)"
   ]
  },
  {
   "cell_type": "code",
   "execution_count": 43,
   "metadata": {},
   "outputs": [
    {
     "data": {
      "text/plain": [
       "[<keras.engine.topology.InputLayer at 0x7fa5b0eed588>,\n",
       " <keras.layers.convolutional.Conv2D at 0x7fa5b0f50e48>,\n",
       " <keras.layers.convolutional.Conv2D at 0x7fa5b0f50e80>,\n",
       " <keras.layers.pooling.MaxPooling2D at 0x7fa5aa534d30>,\n",
       " <keras.layers.convolutional.Conv2D at 0x7fa5a8146828>,\n",
       " <keras.layers.convolutional.Conv2D at 0x7fa5a8146278>,\n",
       " <keras.layers.pooling.MaxPooling2D at 0x7fa5a816def0>,\n",
       " <keras.layers.convolutional.Conv2D at 0x7fa5a81182b0>,\n",
       " <keras.layers.convolutional.Conv2D at 0x7fa5a8118518>,\n",
       " <keras.layers.convolutional.Conv2D at 0x7fa5a812d668>,\n",
       " <keras.layers.pooling.MaxPooling2D at 0x7fa5a80d6048>,\n",
       " <keras.layers.convolutional.Conv2D at 0x7fa5a807d780>,\n",
       " <keras.layers.convolutional.Conv2D at 0x7fa5a807d0b8>,\n",
       " <keras.layers.convolutional.Conv2D at 0x7fa5a80a70b8>,\n",
       " <keras.layers.pooling.MaxPooling2D at 0x7fa5a8050d30>,\n",
       " <keras.layers.convolutional.Conv2D at 0x7fa5a7ffe320>,\n",
       " <keras.layers.convolutional.Conv2D at 0x7fa5a7ffe668>,\n",
       " <keras.layers.convolutional.Conv2D at 0x7fa5a8027fd0>,\n",
       " <keras.layers.pooling.MaxPooling2D at 0x7fa5a7fba2b0>]"
      ]
     },
     "execution_count": 43,
     "metadata": {},
     "output_type": "execute_result"
    }
   ],
   "source": [
    "vgg_model.layers"
   ]
  },
  {
   "cell_type": "code",
   "execution_count": 44,
   "metadata": {
    "collapsed": true
   },
   "outputs": [],
   "source": [
    "first_conv_layer = vgg_model.layers[1]"
   ]
  },
  {
   "cell_type": "code",
   "execution_count": 46,
   "metadata": {},
   "outputs": [
    {
     "data": {
      "text/plain": [
       "True"
      ]
     },
     "execution_count": 46,
     "metadata": {},
     "output_type": "execute_result"
    }
   ],
   "source": [
    "first_conv_layer.trainable"
   ]
  },
  {
   "cell_type": "code",
   "execution_count": 48,
   "metadata": {},
   "outputs": [],
   "source": [
    "# set the first 15 layers (up to the last conv block)\n",
    "# to non-trainable (weights will not be updated)\n",
    "# so, the general features are kept and we (hopefully) do not have overfitting\n",
    "non_trainable_layers = vgg_model.layers[:15]"
   ]
  },
  {
   "cell_type": "code",
   "execution_count": 49,
   "metadata": {},
   "outputs": [
    {
     "data": {
      "text/plain": [
       "[<keras.engine.topology.InputLayer at 0x7fa5b0eed588>,\n",
       " <keras.layers.convolutional.Conv2D at 0x7fa5b0f50e48>,\n",
       " <keras.layers.convolutional.Conv2D at 0x7fa5b0f50e80>,\n",
       " <keras.layers.pooling.MaxPooling2D at 0x7fa5aa534d30>,\n",
       " <keras.layers.convolutional.Conv2D at 0x7fa5a8146828>,\n",
       " <keras.layers.convolutional.Conv2D at 0x7fa5a8146278>,\n",
       " <keras.layers.pooling.MaxPooling2D at 0x7fa5a816def0>,\n",
       " <keras.layers.convolutional.Conv2D at 0x7fa5a81182b0>,\n",
       " <keras.layers.convolutional.Conv2D at 0x7fa5a8118518>,\n",
       " <keras.layers.convolutional.Conv2D at 0x7fa5a812d668>,\n",
       " <keras.layers.pooling.MaxPooling2D at 0x7fa5a80d6048>,\n",
       " <keras.layers.convolutional.Conv2D at 0x7fa5a807d780>,\n",
       " <keras.layers.convolutional.Conv2D at 0x7fa5a807d0b8>,\n",
       " <keras.layers.convolutional.Conv2D at 0x7fa5a80a70b8>,\n",
       " <keras.layers.pooling.MaxPooling2D at 0x7fa5a8050d30>]"
      ]
     },
     "execution_count": 49,
     "metadata": {},
     "output_type": "execute_result"
    }
   ],
   "source": [
    "non_trainable_layers"
   ]
  },
  {
   "cell_type": "code",
   "execution_count": 50,
   "metadata": {
    "collapsed": true
   },
   "outputs": [],
   "source": [
    "for layer in non_trainable_layers:\n",
    "    layer.trainable = False"
   ]
  },
  {
   "cell_type": "code",
   "execution_count": 51,
   "metadata": {},
   "outputs": [
    {
     "data": {
      "text/plain": [
       "False"
      ]
     },
     "execution_count": 51,
     "metadata": {},
     "output_type": "execute_result"
    }
   ],
   "source": [
    "first_conv_layer.trainable"
   ]
  },
  {
   "cell_type": "markdown",
   "metadata": {},
   "source": [
    "### We then tweak the complete model by very slowly re-retraining classifier and final convolutional block\n",
    "* leave everthing else in place\n",
    "* slow learning prevents us from ruining previous good results\n",
    "* earlier layers hopefully already encode common feaure channels\n",
    "* less risk of overfitting\n",
    "  * earlier layers are more general\n",
    "  * model has too much capacity for training and is likley to learn each and every detail\n",
    "* a little bit faster\n",
    "\n",
    "#### This may still take quite a while"
   ]
  },
  {
   "cell_type": "code",
   "execution_count": 63,
   "metadata": {},
   "outputs": [],
   "source": [
    "from keras import optimizers\n",
    "\n",
    "# compile the model with a SGD/momentum optimizer\n",
    "# and a very slow learning rate\n",
    "# make updates very small and non adaptive so we do not ruin previous learnings \n",
    "combined_model.compile(loss='categorical_crossentropy',\n",
    "              optimizer=optimizers.SGD(lr=1e-4, momentum=0.9),\n",
    "              metrics=['accuracy'])"
   ]
  },
  {
   "cell_type": "code",
   "execution_count": 56,
   "metadata": {
    "collapsed": true
   },
   "outputs": [],
   "source": [
    "!rm -r tf_log"
   ]
  },
  {
   "cell_type": "code",
   "execution_count": 57,
   "metadata": {},
   "outputs": [
    {
     "name": "stdout",
     "output_type": "stream",
     "text": [
      "Train on 242 samples, validate on 61 samples\n",
      "Epoch 1/100\n",
      "242/242 [==============================] - 28s - loss: 0.0176 - acc: 0.9979 - val_loss: 0.3353 - val_acc: 0.9208\n",
      "Epoch 2/100\n",
      "242/242 [==============================] - 28s - loss: 0.0230 - acc: 0.9917 - val_loss: 0.3276 - val_acc: 0.9235\n",
      "Epoch 3/100\n",
      "242/242 [==============================] - 28s - loss: 0.0268 - acc: 0.9910 - val_loss: 0.3271 - val_acc: 0.9344\n",
      "Epoch 4/100\n",
      "242/242 [==============================] - 28s - loss: 0.0218 - acc: 0.9945 - val_loss: 0.3358 - val_acc: 0.9344\n",
      "Epoch 5/100\n",
      "242/242 [==============================] - 27s - loss: 0.0292 - acc: 0.9897 - val_loss: 0.3470 - val_acc: 0.9344\n",
      "Epoch 6/100\n",
      "242/242 [==============================] - 27s - loss: 0.0218 - acc: 0.9945 - val_loss: 0.3516 - val_acc: 0.9317\n",
      "Epoch 7/100\n",
      "242/242 [==============================] - 28s - loss: 0.0199 - acc: 0.9931 - val_loss: 0.3537 - val_acc: 0.9290\n",
      "Epoch 8/100\n",
      "242/242 [==============================] - 28s - loss: 0.0143 - acc: 0.9945 - val_loss: 0.3549 - val_acc: 0.9290\n",
      "Epoch 9/100\n",
      "242/242 [==============================] - 30s - loss: 0.0130 - acc: 0.9986 - val_loss: 0.3555 - val_acc: 0.9180\n",
      "Epoch 10/100\n",
      "242/242 [==============================] - 30s - loss: 0.0212 - acc: 0.9952 - val_loss: 0.3584 - val_acc: 0.9180\n",
      "Epoch 11/100\n",
      "242/242 [==============================] - 30s - loss: 0.0130 - acc: 0.9959 - val_loss: 0.3632 - val_acc: 0.9290\n",
      "Epoch 12/100\n",
      "242/242 [==============================] - 26s - loss: 0.0191 - acc: 0.9917 - val_loss: 0.3628 - val_acc: 0.9290\n",
      "Epoch 13/100\n",
      "242/242 [==============================] - 29s - loss: 0.0145 - acc: 0.9959 - val_loss: 0.3631 - val_acc: 0.9317\n",
      "Epoch 14/100\n",
      "242/242 [==============================] - 28s - loss: 0.0210 - acc: 0.9924 - val_loss: 0.3647 - val_acc: 0.9344\n",
      "Epoch 15/100\n",
      "242/242 [==============================] - 28s - loss: 0.0120 - acc: 0.9972 - val_loss: 0.3653 - val_acc: 0.9344\n",
      "Epoch 16/100\n",
      "242/242 [==============================] - 29s - loss: 0.0292 - acc: 0.9883 - val_loss: 0.3638 - val_acc: 0.9344\n",
      "Epoch 17/100\n",
      "242/242 [==============================] - 27s - loss: 0.0329 - acc: 0.9890 - val_loss: 0.3643 - val_acc: 0.9344\n",
      "Epoch 18/100\n",
      "242/242 [==============================] - 30s - loss: 0.0189 - acc: 0.9966 - val_loss: 0.3618 - val_acc: 0.9235\n",
      "Epoch 19/100\n",
      "242/242 [==============================] - 29s - loss: 0.0213 - acc: 0.9931 - val_loss: 0.3567 - val_acc: 0.9235\n",
      "Epoch 20/100\n",
      "242/242 [==============================] - 29s - loss: 0.0188 - acc: 0.9959 - val_loss: 0.3469 - val_acc: 0.9235\n",
      "Epoch 21/100\n",
      "242/242 [==============================] - 29s - loss: 0.0203 - acc: 0.9897 - val_loss: 0.3377 - val_acc: 0.9235\n",
      "Epoch 22/100\n",
      "242/242 [==============================] - 28s - loss: 0.0197 - acc: 0.9945 - val_loss: 0.3392 - val_acc: 0.9235\n",
      "Epoch 23/100\n",
      "242/242 [==============================] - 29s - loss: 0.0083 - acc: 0.9972 - val_loss: 0.3463 - val_acc: 0.9235\n",
      "Epoch 24/100\n",
      "242/242 [==============================] - 30s - loss: 0.0185 - acc: 0.9938 - val_loss: 0.3512 - val_acc: 0.9235\n",
      "Epoch 25/100\n",
      "242/242 [==============================] - 34s - loss: 0.0141 - acc: 0.9952 - val_loss: 0.3539 - val_acc: 0.9235\n",
      "Epoch 26/100\n",
      "242/242 [==============================] - 28s - loss: 0.0203 - acc: 0.9952 - val_loss: 0.3521 - val_acc: 0.9208\n",
      "Epoch 27/100\n",
      "242/242 [==============================] - 29s - loss: 0.0160 - acc: 0.9952 - val_loss: 0.3516 - val_acc: 0.9180\n",
      "Epoch 28/100\n",
      "242/242 [==============================] - 27s - loss: 0.0117 - acc: 0.9972 - val_loss: 0.3543 - val_acc: 0.9180\n",
      "Epoch 29/100\n",
      "242/242 [==============================] - 28s - loss: 0.0105 - acc: 0.9986 - val_loss: 0.3563 - val_acc: 0.9180\n",
      "Epoch 30/100\n",
      "242/242 [==============================] - 32s - loss: 0.0111 - acc: 0.9986 - val_loss: 0.3544 - val_acc: 0.9180\n",
      "Epoch 31/100\n",
      "242/242 [==============================] - 29s - loss: 0.0169 - acc: 0.9959 - val_loss: 0.3518 - val_acc: 0.9235\n",
      "Epoch 32/100\n",
      "242/242 [==============================] - 31s - loss: 0.0175 - acc: 0.9938 - val_loss: 0.3512 - val_acc: 0.9235\n",
      "Epoch 33/100\n",
      "242/242 [==============================] - 29s - loss: 0.0173 - acc: 0.9959 - val_loss: 0.3489 - val_acc: 0.9235\n",
      "Epoch 34/100\n",
      "242/242 [==============================] - 29s - loss: 0.0213 - acc: 0.9931 - val_loss: 0.3515 - val_acc: 0.9235\n",
      "Epoch 35/100\n",
      "242/242 [==============================] - 30s - loss: 0.0151 - acc: 0.9945 - val_loss: 0.3501 - val_acc: 0.9235\n",
      "Epoch 36/100\n",
      "242/242 [==============================] - 27s - loss: 0.0175 - acc: 0.9959 - val_loss: 0.3425 - val_acc: 0.9235\n",
      "Epoch 37/100\n",
      "242/242 [==============================] - 27s - loss: 0.0120 - acc: 0.9959 - val_loss: 0.3419 - val_acc: 0.9235\n",
      "Epoch 38/100\n",
      "242/242 [==============================] - 27s - loss: 0.0156 - acc: 0.9945 - val_loss: 0.3462 - val_acc: 0.9235\n",
      "Epoch 39/100\n",
      "242/242 [==============================] - 27s - loss: 0.0074 - acc: 0.9986 - val_loss: 0.3512 - val_acc: 0.9235\n",
      "Epoch 40/100\n",
      "242/242 [==============================] - 27s - loss: 0.0138 - acc: 0.9959 - val_loss: 0.3536 - val_acc: 0.9235\n",
      "Epoch 41/100\n",
      "242/242 [==============================] - 27s - loss: 0.0140 - acc: 0.9959 - val_loss: 0.3558 - val_acc: 0.9235\n",
      "Epoch 42/100\n",
      "242/242 [==============================] - 27s - loss: 0.0113 - acc: 0.9959 - val_loss: 0.3552 - val_acc: 0.9235\n",
      "Epoch 43/100\n",
      "242/242 [==============================] - 27s - loss: 0.0091 - acc: 0.9972 - val_loss: 0.3512 - val_acc: 0.9235\n",
      "Epoch 44/100\n",
      "242/242 [==============================] - 26s - loss: 0.0089 - acc: 0.9986 - val_loss: 0.3469 - val_acc: 0.9235\n",
      "Epoch 45/100\n",
      "242/242 [==============================] - 28s - loss: 0.0153 - acc: 0.9917 - val_loss: 0.3432 - val_acc: 0.9344\n",
      "Epoch 46/100\n",
      "242/242 [==============================] - 27s - loss: 0.0145 - acc: 0.9938 - val_loss: 0.3444 - val_acc: 0.9344\n",
      "Epoch 47/100\n",
      "242/242 [==============================] - 27s - loss: 0.0095 - acc: 0.9972 - val_loss: 0.3500 - val_acc: 0.9344\n",
      "Epoch 48/100\n",
      "242/242 [==============================] - 27s - loss: 0.0198 - acc: 0.9924 - val_loss: 0.3556 - val_acc: 0.9344\n",
      "Epoch 49/100\n",
      "242/242 [==============================] - 27s - loss: 0.0192 - acc: 0.9945 - val_loss: 0.3577 - val_acc: 0.9344\n",
      "Epoch 50/100\n",
      "242/242 [==============================] - 26s - loss: 0.0074 - acc: 0.9993 - val_loss: 0.3591 - val_acc: 0.9344\n",
      "Epoch 51/100\n",
      "242/242 [==============================] - 27s - loss: 0.0077 - acc: 0.9993 - val_loss: 0.3584 - val_acc: 0.9344\n",
      "Epoch 52/100\n",
      "242/242 [==============================] - 27s - loss: 0.0097 - acc: 0.9986 - val_loss: 0.3559 - val_acc: 0.9344\n",
      "Epoch 53/100\n",
      "242/242 [==============================] - 27s - loss: 0.0116 - acc: 0.9966 - val_loss: 0.3507 - val_acc: 0.9235\n",
      "Epoch 54/100\n",
      "242/242 [==============================] - 27s - loss: 0.0066 - acc: 0.9986 - val_loss: 0.3477 - val_acc: 0.9344\n",
      "Epoch 55/100\n",
      "242/242 [==============================] - 27s - loss: 0.0137 - acc: 0.9959 - val_loss: 0.3452 - val_acc: 0.9344\n",
      "Epoch 56/100\n",
      "242/242 [==============================] - 28s - loss: 0.0135 - acc: 0.9931 - val_loss: 0.3441 - val_acc: 0.9344\n",
      "Epoch 57/100\n",
      "242/242 [==============================] - 27s - loss: 0.0138 - acc: 0.9945 - val_loss: 0.3468 - val_acc: 0.9344\n",
      "Epoch 58/100\n",
      "242/242 [==============================] - 27s - loss: 0.0137 - acc: 0.9972 - val_loss: 0.3568 - val_acc: 0.9372\n",
      "Epoch 59/100\n",
      "242/242 [==============================] - 27s - loss: 0.0073 - acc: 0.9986 - val_loss: 0.3660 - val_acc: 0.9317\n",
      "Epoch 60/100\n",
      "242/242 [==============================] - 27s - loss: 0.0081 - acc: 0.9986 - val_loss: 0.3726 - val_acc: 0.9290\n",
      "Epoch 61/100\n",
      "242/242 [==============================] - 27s - loss: 0.0114 - acc: 0.9952 - val_loss: 0.3777 - val_acc: 0.9180\n",
      "Epoch 62/100\n",
      "242/242 [==============================] - 27s - loss: 0.0113 - acc: 0.9966 - val_loss: 0.3798 - val_acc: 0.9180\n",
      "Epoch 63/100\n",
      "242/242 [==============================] - 27s - loss: 0.0123 - acc: 0.9979 - val_loss: 0.3771 - val_acc: 0.9180\n",
      "Epoch 64/100\n",
      "242/242 [==============================] - 27s - loss: 0.0088 - acc: 0.9986 - val_loss: 0.3692 - val_acc: 0.9180\n",
      "Epoch 65/100\n"
     ]
    },
    {
     "name": "stdout",
     "output_type": "stream",
     "text": [
      "242/242 [==============================] - 28s - loss: 0.0093 - acc: 0.9972 - val_loss: 0.3636 - val_acc: 0.9290\n",
      "Epoch 66/100\n",
      "242/242 [==============================] - 27s - loss: 0.0083 - acc: 0.9972 - val_loss: 0.3620 - val_acc: 0.9290\n",
      "Epoch 67/100\n",
      "242/242 [==============================] - 28s - loss: 0.0126 - acc: 0.9952 - val_loss: 0.3594 - val_acc: 0.9344\n",
      "Epoch 68/100\n",
      "242/242 [==============================] - 27s - loss: 0.0112 - acc: 0.9952 - val_loss: 0.3582 - val_acc: 0.9344\n",
      "Epoch 69/100\n",
      "242/242 [==============================] - 27s - loss: 0.0082 - acc: 0.9986 - val_loss: 0.3592 - val_acc: 0.9344\n",
      "Epoch 70/100\n",
      "242/242 [==============================] - 27s - loss: 0.0109 - acc: 0.9986 - val_loss: 0.3589 - val_acc: 0.9372\n",
      "Epoch 71/100\n",
      "242/242 [==============================] - 27s - loss: 0.0066 - acc: 0.9979 - val_loss: 0.3571 - val_acc: 0.9344\n",
      "Epoch 72/100\n",
      "242/242 [==============================] - 27s - loss: 0.0135 - acc: 0.9959 - val_loss: 0.3536 - val_acc: 0.9235\n",
      "Epoch 73/100\n",
      "242/242 [==============================] - 27s - loss: 0.0055 - acc: 1.0000 - val_loss: 0.3481 - val_acc: 0.9235\n",
      "Epoch 74/100\n",
      "242/242 [==============================] - 28s - loss: 0.0087 - acc: 1.0000 - val_loss: 0.3456 - val_acc: 0.9235\n",
      "Epoch 75/100\n",
      "242/242 [==============================] - 27s - loss: 0.0081 - acc: 0.9986 - val_loss: 0.3460 - val_acc: 0.9344\n",
      "Epoch 76/100\n",
      "242/242 [==============================] - 27s - loss: 0.0067 - acc: 1.0000 - val_loss: 0.3473 - val_acc: 0.9344\n",
      "Epoch 77/100\n",
      "242/242 [==============================] - 29s - loss: 0.0091 - acc: 0.9959 - val_loss: 0.3470 - val_acc: 0.9344\n",
      "Epoch 78/100\n",
      "242/242 [==============================] - 31s - loss: 0.0068 - acc: 1.0000 - val_loss: 0.3476 - val_acc: 0.9344\n",
      "Epoch 79/100\n",
      "242/242 [==============================] - 33s - loss: 0.0085 - acc: 0.9986 - val_loss: 0.3491 - val_acc: 0.9344\n",
      "Epoch 80/100\n",
      "242/242 [==============================] - 31s - loss: 0.0081 - acc: 0.9959 - val_loss: 0.3501 - val_acc: 0.9344\n",
      "Epoch 81/100\n",
      "242/242 [==============================] - 29s - loss: 0.0167 - acc: 0.9945 - val_loss: 0.3515 - val_acc: 0.9344\n",
      "Epoch 82/100\n",
      "242/242 [==============================] - 29s - loss: 0.0121 - acc: 0.9972 - val_loss: 0.3548 - val_acc: 0.9235\n",
      "Epoch 83/100\n",
      "242/242 [==============================] - 30s - loss: 0.0117 - acc: 0.9979 - val_loss: 0.3584 - val_acc: 0.9235\n",
      "Epoch 84/100\n",
      "242/242 [==============================] - 30s - loss: 0.0101 - acc: 0.9972 - val_loss: 0.3609 - val_acc: 0.9235\n",
      "Epoch 85/100\n",
      "242/242 [==============================] - 30s - loss: 0.0116 - acc: 0.9959 - val_loss: 0.3612 - val_acc: 0.9235\n",
      "Epoch 86/100\n",
      "242/242 [==============================] - 29s - loss: 0.0089 - acc: 0.9979 - val_loss: 0.3611 - val_acc: 0.9235\n",
      "Epoch 87/100\n",
      "242/242 [==============================] - 31s - loss: 0.0102 - acc: 0.9972 - val_loss: 0.3576 - val_acc: 0.9235\n",
      "Epoch 88/100\n",
      "242/242 [==============================] - 31s - loss: 0.0067 - acc: 1.0000 - val_loss: 0.3576 - val_acc: 0.9235\n",
      "Epoch 89/100\n",
      "242/242 [==============================] - 35s - loss: 0.0138 - acc: 0.9959 - val_loss: 0.3594 - val_acc: 0.9262\n",
      "Epoch 90/100\n",
      "242/242 [==============================] - 32s - loss: 0.0055 - acc: 0.9986 - val_loss: 0.3615 - val_acc: 0.9262\n",
      "Epoch 91/100\n",
      "242/242 [==============================] - 35s - loss: 0.0065 - acc: 0.9993 - val_loss: 0.3638 - val_acc: 0.9262\n",
      "Epoch 92/100\n",
      "242/242 [==============================] - 35s - loss: 0.0130 - acc: 0.9959 - val_loss: 0.3645 - val_acc: 0.9235\n",
      "Epoch 93/100\n",
      "242/242 [==============================] - 43s - loss: 0.0125 - acc: 0.9945 - val_loss: 0.3660 - val_acc: 0.9344\n",
      "Epoch 94/100\n",
      "242/242 [==============================] - 37s - loss: 0.0118 - acc: 0.9972 - val_loss: 0.3672 - val_acc: 0.9372\n",
      "Epoch 95/100\n",
      "242/242 [==============================] - 33s - loss: 0.0078 - acc: 0.9986 - val_loss: 0.3624 - val_acc: 0.9372\n",
      "Epoch 96/100\n",
      "242/242 [==============================] - 36s - loss: 0.0083 - acc: 0.9986 - val_loss: 0.3567 - val_acc: 0.9235\n",
      "Epoch 97/100\n",
      "242/242 [==============================] - 34s - loss: 0.0120 - acc: 0.9959 - val_loss: 0.3581 - val_acc: 0.9235\n",
      "Epoch 98/100\n",
      "242/242 [==============================] - 34s - loss: 0.0098 - acc: 0.9959 - val_loss: 0.3588 - val_acc: 0.9235\n",
      "Epoch 99/100\n",
      "242/242 [==============================] - 32s - loss: 0.0090 - acc: 0.9959 - val_loss: 0.3567 - val_acc: 0.9235\n",
      "Epoch 100/100\n",
      "242/242 [==============================] - 29s - loss: 0.0105 - acc: 0.9959 - val_loss: 0.3545 - val_acc: 0.9344\n",
      "CPU times: user 2h 10min 18s, sys: 19min 15s, total: 2h 29min 34s\n",
      "Wall time: 49min 8s\n"
     ]
    },
    {
     "data": {
      "text/plain": [
       "<keras.callbacks.History at 0x7fa5a6d38828>"
      ]
     },
     "execution_count": 57,
     "metadata": {},
     "output_type": "execute_result"
    }
   ],
   "source": [
    "%time combined_model.fit(X_train, y_train, epochs=100, batch_size=BATCH_SIZE, validation_split=0.2, callbacks=[tb_callback])"
   ]
  },
  {
   "cell_type": "code",
   "execution_count": 64,
   "metadata": {},
   "outputs": [
    {
     "name": "stdout",
     "output_type": "stream",
     "text": [
      "303/303 [==============================] - 32s    \n"
     ]
    },
    {
     "data": {
      "text/plain": [
       "(0.28273354007834844, 0.96039603507951543)"
      ]
     },
     "execution_count": 64,
     "metadata": {},
     "output_type": "execute_result"
    }
   ],
   "source": [
    "train_loss, train_accuracy = combined_model.evaluate(X_train, y_train, batch_size=BATCH_SIZE)\n",
    "train_loss, train_accuracy"
   ]
  },
  {
   "cell_type": "code",
   "execution_count": 65,
   "metadata": {},
   "outputs": [
    {
     "name": "stdout",
     "output_type": "stream",
     "text": [
      "76/76 [==============================] - 6s\n"
     ]
    },
    {
     "data": {
      "text/plain": [
       "(0.5479854941368103, 0.85526317358016968)"
      ]
     },
     "execution_count": 65,
     "metadata": {},
     "output_type": "execute_result"
    }
   ],
   "source": [
    "test_loss, test_accuracy = combined_model.evaluate(X_test, y_test, batch_size=BATCH_SIZE)\n",
    "test_loss, test_accuracy"
   ]
  },
  {
   "cell_type": "code",
   "execution_count": 66,
   "metadata": {
    "collapsed": true
   },
   "outputs": [],
   "source": [
    "combined_model.save('vgg16-retrained-fine-tuned.hdf5')"
   ]
  },
  {
   "cell_type": "code",
   "execution_count": 67,
   "metadata": {},
   "outputs": [
    {
     "name": "stdout",
     "output_type": "stream",
     "text": [
      "-rwxrwxrwx 1 root root 59M Sep 30 15:49 vgg16-retrained-fine-tuned.hdf5\r\n"
     ]
    }
   ],
   "source": [
    "!ls -lh vgg16-retrained-fine-tuned.hdf5"
   ]
  },
  {
   "cell_type": "code",
   "execution_count": null,
   "metadata": {
    "collapsed": true
   },
   "outputs": [],
   "source": []
  }
 ],
 "metadata": {
  "kernelspec": {
   "display_name": "Python 3",
   "language": "python",
   "name": "python3"
  },
  "language_info": {
   "codemirror_mode": {
    "name": "ipython",
    "version": 3
   },
   "file_extension": ".py",
   "mimetype": "text/x-python",
   "name": "python",
   "nbconvert_exporter": "python",
   "pygments_lexer": "ipython3",
   "version": "3.6.1"
  }
 },
 "nbformat": 4,
 "nbformat_minor": 2
}
