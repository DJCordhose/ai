{
 "cells": [
  {
   "cell_type": "markdown",
   "metadata": {},
   "source": [
    "# Introduction to Neural Networks with Keras"
   ]
  },
  {
   "cell_type": "code",
   "execution_count": 1,
   "metadata": {
    "collapsed": true
   },
   "outputs": [],
   "source": [
    "import warnings\n",
    "warnings.filterwarnings('ignore')"
   ]
  },
  {
   "cell_type": "code",
   "execution_count": 2,
   "metadata": {},
   "outputs": [
    {
     "name": "stdout",
     "output_type": "stream",
     "text": [
      "Populating the interactive namespace from numpy and matplotlib\n"
     ]
    }
   ],
   "source": [
    "%matplotlib inline\n",
    "%pylab inline"
   ]
  },
  {
   "cell_type": "code",
   "execution_count": 3,
   "metadata": {
    "collapsed": true
   },
   "outputs": [],
   "source": [
    "import matplotlib.pylab as plt\n",
    "import numpy as np"
   ]
  },
  {
   "cell_type": "code",
   "execution_count": 4,
   "metadata": {
    "collapsed": true
   },
   "outputs": [],
   "source": [
    "from distutils.version import StrictVersion"
   ]
  },
  {
   "cell_type": "code",
   "execution_count": 5,
   "metadata": {},
   "outputs": [
    {
     "name": "stdout",
     "output_type": "stream",
     "text": [
      "0.19.0\n"
     ]
    }
   ],
   "source": [
    "import sklearn\n",
    "print(sklearn.__version__)\n",
    "\n",
    "assert StrictVersion(sklearn.__version__ ) >= StrictVersion('0.18.1')"
   ]
  },
  {
   "cell_type": "code",
   "execution_count": 6,
   "metadata": {},
   "outputs": [
    {
     "name": "stdout",
     "output_type": "stream",
     "text": [
      "1.2.1\n"
     ]
    }
   ],
   "source": [
    "import tensorflow as tf\n",
    "tf.logging.set_verbosity(tf.logging.ERROR)\n",
    "print(tf.__version__)\n",
    "\n",
    "assert StrictVersion(tf.__version__) >= StrictVersion('1.1.0')"
   ]
  },
  {
   "cell_type": "code",
   "execution_count": 7,
   "metadata": {},
   "outputs": [
    {
     "name": "stderr",
     "output_type": "stream",
     "text": [
      "Using TensorFlow backend.\n"
     ]
    },
    {
     "name": "stdout",
     "output_type": "stream",
     "text": [
      "2.0.8\n"
     ]
    }
   ],
   "source": [
    "import keras\n",
    "print(keras.__version__)\n",
    "\n",
    "assert StrictVersion(keras.__version__) >= StrictVersion('2.0.0')"
   ]
  },
  {
   "cell_type": "code",
   "execution_count": 8,
   "metadata": {},
   "outputs": [
    {
     "name": "stdout",
     "output_type": "stream",
     "text": [
      "0.20.3\n"
     ]
    }
   ],
   "source": [
    "import pandas as pd\n",
    "print(pd.__version__)\n",
    "\n",
    "assert StrictVersion(pd.__version__) >= StrictVersion('0.20.0')"
   ]
  },
  {
   "cell_type": "markdown",
   "metadata": {},
   "source": [
    "## Solving Iris with Neural Networks"
   ]
  },
  {
   "cell_type": "code",
   "execution_count": 9,
   "metadata": {},
   "outputs": [
    {
     "data": {
      "text/plain": [
       "array([ 5.1,  3.5,  1.4,  0.2])"
      ]
     },
     "execution_count": 9,
     "metadata": {},
     "output_type": "execute_result"
    }
   ],
   "source": [
    "from sklearn.datasets import load_iris\n",
    "iris = load_iris()\n",
    "iris.data[0]"
   ]
  },
  {
   "cell_type": "code",
   "execution_count": 10,
   "metadata": {},
   "outputs": [
    {
     "name": "stdout",
     "output_type": "stream",
     "text": [
      "Iris Plants Database\n",
      "====================\n",
      "\n",
      "Notes\n",
      "-----\n",
      "Data Set Characteristics:\n",
      "    :Number of Instances: 150 (50 in each of three classes)\n",
      "    :Number of Attributes: 4 numeric, predictive attributes and the class\n",
      "    :Attribute Information:\n",
      "        - sepal length in cm\n",
      "        - sepal width in cm\n",
      "        - petal length in cm\n",
      "        - petal width in cm\n",
      "        - class:\n",
      "                - Iris-Setosa\n",
      "                - Iris-Versicolour\n",
      "                - Iris-Virginica\n",
      "    :Summary Statistics:\n",
      "\n",
      "    ============== ==== ==== ======= ===== ====================\n",
      "                    Min  Max   Mean    SD   Class Correlation\n",
      "    ============== ==== ==== ======= ===== ====================\n",
      "    sepal length:   4.3  7.9   5.84   0.83    0.7826\n",
      "    sepal width:    2.0  4.4   3.05   0.43   -0.4194\n",
      "    petal length:   1.0  6.9   3.76   1.76    0.9490  (high!)\n",
      "    petal width:    0.1  2.5   1.20  0.76     0.9565  (high!)\n",
      "    ============== ==== ==== ======= ===== ====================\n",
      "\n",
      "    :Missing Attribute Values: None\n",
      "    :Class Distribution: 33.3% for each of 3 classes.\n",
      "    :Creator: R.A. Fisher\n",
      "    :Donor: Michael Marshall (MARSHALL%PLU@io.arc.nasa.gov)\n",
      "    :Date: July, 1988\n",
      "\n",
      "This is a copy of UCI ML iris datasets.\n",
      "http://archive.ics.uci.edu/ml/datasets/Iris\n",
      "\n",
      "The famous Iris database, first used by Sir R.A Fisher\n",
      "\n",
      "This is perhaps the best known database to be found in the\n",
      "pattern recognition literature.  Fisher's paper is a classic in the field and\n",
      "is referenced frequently to this day.  (See Duda & Hart, for example.)  The\n",
      "data set contains 3 classes of 50 instances each, where each class refers to a\n",
      "type of iris plant.  One class is linearly separable from the other 2; the\n",
      "latter are NOT linearly separable from each other.\n",
      "\n",
      "References\n",
      "----------\n",
      "   - Fisher,R.A. \"The use of multiple measurements in taxonomic problems\"\n",
      "     Annual Eugenics, 7, Part II, 179-188 (1936); also in \"Contributions to\n",
      "     Mathematical Statistics\" (John Wiley, NY, 1950).\n",
      "   - Duda,R.O., & Hart,P.E. (1973) Pattern Classification and Scene Analysis.\n",
      "     (Q327.D83) John Wiley & Sons.  ISBN 0-471-22361-1.  See page 218.\n",
      "   - Dasarathy, B.V. (1980) \"Nosing Around the Neighborhood: A New System\n",
      "     Structure and Classification Rule for Recognition in Partially Exposed\n",
      "     Environments\".  IEEE Transactions on Pattern Analysis and Machine\n",
      "     Intelligence, Vol. PAMI-2, No. 1, 67-71.\n",
      "   - Gates, G.W. (1972) \"The Reduced Nearest Neighbor Rule\".  IEEE Transactions\n",
      "     on Information Theory, May 1972, 431-433.\n",
      "   - See also: 1988 MLC Proceedings, 54-64.  Cheeseman et al\"s AUTOCLASS II\n",
      "     conceptual clustering system finds 3 classes in the data.\n",
      "   - Many, many more ...\n",
      "\n"
     ]
    }
   ],
   "source": [
    "print(iris.DESCR)"
   ]
  },
  {
   "cell_type": "code",
   "execution_count": 11,
   "metadata": {},
   "outputs": [
    {
     "data": {
      "image/png": "[encoded data removed]",
      "text/plain": [
       "<matplotlib.figure.Figure at 0x7fc05d9406a0>"
      ]
     },
     "metadata": {},
     "output_type": "display_data"
    }
   ],
   "source": [
    "import matplotlib.pyplot as plt\n",
    "from matplotlib.colors import ListedColormap\n",
    "\n",
    "iris_df = pd.DataFrame(iris.data, columns=iris.feature_names)\n",
    "CMAP = ListedColormap(['#FF0000', '#00FF00', '#0000FF'])\n",
    "pd.plotting.scatter_matrix(iris_df, c=iris.target, edgecolor='black', figsize=(15, 15), cmap=CMAP)\n",
    "plt.show()"
   ]
  },
  {
   "cell_type": "markdown",
   "metadata": {},
   "source": [
    "## The artificial Neuron\n",
    "![The artificial Neuron](https://djcordhose.github.io/ai/img/sketch/neuron.jpg)"
   ]
  },
  {
   "cell_type": "markdown",
   "metadata": {},
   "source": [
    "## Our first Neural Network with Keras\n",
    "![From Neuron zu Net](https://djcordhose.github.io/ai/img/sketch/neuron_to_layers.jpg \"Neuron zu Netz\")"
   ]
  },
  {
   "cell_type": "code",
   "execution_count": 12,
   "metadata": {
    "collapsed": true
   },
   "outputs": [],
   "source": [
    "# keras.layers.Input?"
   ]
  },
  {
   "cell_type": "code",
   "execution_count": 13,
   "metadata": {
    "collapsed": true
   },
   "outputs": [],
   "source": [
    "from keras.layers import Input\n",
    "inputs = Input(shape=(4, ))"
   ]
  },
  {
   "cell_type": "code",
   "execution_count": 14,
   "metadata": {
    "collapsed": true
   },
   "outputs": [],
   "source": [
    "# keras.layers.Dense?"
   ]
  },
  {
   "cell_type": "code",
   "execution_count": 15,
   "metadata": {
    "collapsed": true
   },
   "outputs": [],
   "source": [
    "from keras.layers import Dense\n",
    "# just linear activation (like no activation function at all)\n",
    "fc = Dense(3)(inputs)"
   ]
  },
  {
   "cell_type": "code",
   "execution_count": 16,
   "metadata": {
    "collapsed": true
   },
   "outputs": [],
   "source": [
    "from keras.models import Model\n",
    "model = Model(input=inputs, output=fc)"
   ]
  },
  {
   "cell_type": "code",
   "execution_count": 17,
   "metadata": {},
   "outputs": [
    {
     "name": "stdout",
     "output_type": "stream",
     "text": [
      "_________________________________________________________________\n",
      "Layer (type)                 Output Shape              Param #   \n",
      "=================================================================\n",
      "input_1 (InputLayer)         (None, 4)                 0         \n",
      "_________________________________________________________________\n",
      "dense_1 (Dense)              (None, 3)                 15        \n",
      "=================================================================\n",
      "Total params: 15\n",
      "Trainable params: 15\n",
      "Non-trainable params: 0\n",
      "_________________________________________________________________\n"
     ]
    }
   ],
   "source": [
    "model.summary()"
   ]
  },
  {
   "cell_type": "code",
   "execution_count": 18,
   "metadata": {
    "collapsed": true
   },
   "outputs": [],
   "source": [
    "model.compile(optimizer='adam',\n",
    "              loss='categorical_crossentropy',\n",
    "              metrics=['accuracy'])"
   ]
  },
  {
   "cell_type": "code",
   "execution_count": 19,
   "metadata": {},
   "outputs": [
    {
     "data": {
      "text/plain": [
       "array([[ 5.7693758 ,  1.25018001,  3.50801897]], dtype=float32)"
      ]
     },
     "execution_count": 19,
     "metadata": {},
     "output_type": "execute_result"
    }
   ],
   "source": [
    "# this is just random stuff, no training has taken place so far\n",
    "model.predict(np.array([[ 5.1,  3.5,  1.4,  0.2]]))"
   ]
  },
  {
   "cell_type": "markdown",
   "metadata": {},
   "source": [
    "### This is the output of all 3 hidden neurons, but what we really want is a category for iris category\n",
    "* Softmax activation turns each output to a percantage between 0 and 1 all adding up to 1\n",
    "* interpretation is likelyhood of category"
   ]
  },
  {
   "cell_type": "markdown",
   "metadata": {},
   "source": [
    "![Fully Connected](https://djcordhose.github.io/ai/img/sketch/fc_nn.jpg \"Fully Connected\")"
   ]
  },
  {
   "cell_type": "code",
   "execution_count": 20,
   "metadata": {
    "collapsed": true
   },
   "outputs": [],
   "source": [
    "inputs = Input(shape=(4, ))\n",
    "fc = Dense(3)(inputs)\n",
    "predictions = Dense(3, activation='softmax')(fc)\n",
    "model = Model(input=inputs, output=predictions)"
   ]
  },
  {
   "cell_type": "code",
   "execution_count": 21,
   "metadata": {},
   "outputs": [
    {
     "name": "stdout",
     "output_type": "stream",
     "text": [
      "_________________________________________________________________\n",
      "Layer (type)                 Output Shape              Param #   \n",
      "=================================================================\n",
      "input_2 (InputLayer)         (None, 4)                 0         \n",
      "_________________________________________________________________\n",
      "dense_2 (Dense)              (None, 3)                 15        \n",
      "_________________________________________________________________\n",
      "dense_3 (Dense)              (None, 3)                 12        \n",
      "=================================================================\n",
      "Total params: 27\n",
      "Trainable params: 27\n",
      "Non-trainable params: 0\n",
      "_________________________________________________________________\n"
     ]
    }
   ],
   "source": [
    "model.summary()"
   ]
  },
  {
   "cell_type": "code",
   "execution_count": 22,
   "metadata": {
    "collapsed": true
   },
   "outputs": [],
   "source": [
    "model.compile(optimizer='adam',\n",
    "              loss='categorical_crossentropy',\n",
    "              metrics=['accuracy'])"
   ]
  },
  {
   "cell_type": "code",
   "execution_count": 23,
   "metadata": {},
   "outputs": [
    {
     "data": {
      "text/plain": [
       "array([[ 0.90537059,  0.00527649,  0.0893529 ]], dtype=float32)"
      ]
     },
     "execution_count": 23,
     "metadata": {},
     "output_type": "execute_result"
    }
   ],
   "source": [
    "model.predict(np.array([[ 5.1,  3.5,  1.4,  0.2]]))"
   ]
  },
  {
   "cell_type": "markdown",
   "metadata": {
    "collapsed": true
   },
   "source": [
    "## Now we have likelyhoods for categories, but still our model is totally random\n",
    "# Training\n",
    "* training is performed using Backpropagation\n",
    "* each pair of ground truth input and output is passed through network\n",
    "* difference between expected output (ground truth) and actual result is summed up and forms loss function\n",
    "* loss function is to be minimized\n",
    "* optimizer defines strategy to minimize loss"
   ]
  },
  {
   "cell_type": "markdown",
   "metadata": {
    "collapsed": true
   },
   "source": [
    "### Optimizers: Adam and RMSprop seem nice\n",
    "![Behavior of Optimizers at Saddle Points](http://cs231n.github.io/assets/nn3/opt1.gif)\n",
    "![Visualization of Optimizers](http://cs231n.github.io/assets/nn3/opt2.gif)\n",
    "http://cs231n.github.io/neural-networks-3/#ada"
   ]
  },
  {
   "cell_type": "code",
   "execution_count": 24,
   "metadata": {},
   "outputs": [
    {
     "data": {
      "text/plain": [
       "((150, 4), (150,))"
      ]
     },
     "execution_count": 24,
     "metadata": {},
     "output_type": "execute_result"
    }
   ],
   "source": [
    "X = np.array(iris.data)\n",
    "y = np.array(iris.target)\n",
    "X.shape, y.shape"
   ]
  },
  {
   "cell_type": "code",
   "execution_count": 25,
   "metadata": {},
   "outputs": [
    {
     "data": {
      "text/plain": [
       "2"
      ]
     },
     "execution_count": 25,
     "metadata": {},
     "output_type": "execute_result"
    }
   ],
   "source": [
    "y[100]"
   ]
  },
  {
   "cell_type": "code",
   "execution_count": 26,
   "metadata": {
    "collapsed": true
   },
   "outputs": [],
   "source": [
    "# tiny little pieces of feature engeneering\n",
    "from keras.utils.np_utils import to_categorical\n",
    "\n",
    "num_categories = 3\n",
    "\n",
    "y = to_categorical(y, num_categories)"
   ]
  },
  {
   "cell_type": "code",
   "execution_count": 27,
   "metadata": {},
   "outputs": [
    {
     "data": {
      "text/plain": [
       "array([ 0.,  0.,  1.])"
      ]
     },
     "execution_count": 27,
     "metadata": {},
     "output_type": "execute_result"
    }
   ],
   "source": [
    "y[100]"
   ]
  },
  {
   "cell_type": "code",
   "execution_count": 28,
   "metadata": {
    "collapsed": true
   },
   "outputs": [],
   "source": [
    "from sklearn.model_selection import train_test_split\n",
    "X_train, X_test, y_train, y_test = train_test_split(X, y, test_size=0.20, random_state=42, stratify=y)"
   ]
  },
  {
   "cell_type": "code",
   "execution_count": 29,
   "metadata": {},
   "outputs": [
    {
     "data": {
      "text/plain": [
       "((120, 4), (30, 4), (120, 3), (30, 3))"
      ]
     },
     "execution_count": 29,
     "metadata": {},
     "output_type": "execute_result"
    }
   ],
   "source": [
    "X_train.shape, X_test.shape, y_train.shape, y_test.shape"
   ]
  },
  {
   "cell_type": "code",
   "execution_count": 30,
   "metadata": {
    "collapsed": true
   },
   "outputs": [],
   "source": [
    "!rm -r tf_log\n",
    "tb_callback = keras.callbacks.TensorBoard(log_dir='./tf_log')\n",
    "\n",
    "# https://keras.io/callbacks/#tensorboard\n",
    "# To start tensorboard\n",
    "# tensorboard --logdir=/mnt/c/Users/olive/Development/ml/tf_log\n",
    "# open http://localhost:6006"
   ]
  },
  {
   "cell_type": "code",
   "execution_count": 36,
   "metadata": {},
   "outputs": [
    {
     "name": "stdout",
     "output_type": "stream",
     "text": [
      "Train on 96 samples, validate on 24 samples\n",
      "Epoch 1/500\n",
      "96/96 [==============================] - 0s - loss: 0.4120 - acc: 0.9062 - val_loss: 0.5058 - val_acc: 0.8333\n",
      "Epoch 2/500\n",
      "96/96 [==============================] - 0s - loss: 0.4112 - acc: 0.9062 - val_loss: 0.5047 - val_acc: 0.8333\n",
      "Epoch 3/500\n",
      "96/96 [==============================] - 0s - loss: 0.4105 - acc: 0.9062 - val_loss: 0.5040 - val_acc: 0.8333\n",
      "Epoch 4/500\n",
      "96/96 [==============================] - 0s - loss: 0.4098 - acc: 0.9062 - val_loss: 0.5032 - val_acc: 0.8333\n",
      "Epoch 5/500\n",
      "96/96 [==============================] - 0s - loss: 0.4091 - acc: 0.9062 - val_loss: 0.5020 - val_acc: 0.8333\n",
      "Epoch 6/500\n",
      "96/96 [==============================] - 0s - loss: 0.4084 - acc: 0.9062 - val_loss: 0.5009 - val_acc: 0.8333\n",
      "Epoch 7/500\n",
      "96/96 [==============================] - 0s - loss: 0.4077 - acc: 0.9062 - val_loss: 0.5003 - val_acc: 0.8333\n",
      "Epoch 8/500\n",
      "96/96 [==============================] - 0s - loss: 0.4069 - acc: 0.9062 - val_loss: 0.4994 - val_acc: 0.8333\n",
      "Epoch 9/500\n",
      "96/96 [==============================] - 0s - loss: 0.4065 - acc: 0.9062 - val_loss: 0.4991 - val_acc: 0.8333\n",
      "Epoch 10/500\n",
      "96/96 [==============================] - 0s - loss: 0.4055 - acc: 0.9062 - val_loss: 0.4979 - val_acc: 0.8333\n",
      "Epoch 11/500\n",
      "96/96 [==============================] - 0s - loss: 0.4048 - acc: 0.9062 - val_loss: 0.4971 - val_acc: 0.8333\n",
      "Epoch 12/500\n",
      "96/96 [==============================] - 0s - loss: 0.4047 - acc: 0.9062 - val_loss: 0.4969 - val_acc: 0.8333\n",
      "Epoch 13/500\n",
      "96/96 [==============================] - 0s - loss: 0.4034 - acc: 0.9062 - val_loss: 0.4957 - val_acc: 0.8333\n",
      "Epoch 14/500\n",
      "96/96 [==============================] - 0s - loss: 0.4027 - acc: 0.9062 - val_loss: 0.4943 - val_acc: 0.8333\n",
      "Epoch 15/500\n",
      "96/96 [==============================] - 0s - loss: 0.4020 - acc: 0.9062 - val_loss: 0.4934 - val_acc: 0.8333\n",
      "Epoch 16/500\n",
      "96/96 [==============================] - 0s - loss: 0.4013 - acc: 0.9062 - val_loss: 0.4927 - val_acc: 0.8333\n",
      "Epoch 17/500\n",
      "96/96 [==============================] - 0s - loss: 0.4007 - acc: 0.9062 - val_loss: 0.4917 - val_acc: 0.8333\n",
      "Epoch 18/500\n",
      "96/96 [==============================] - 0s - loss: 0.4001 - acc: 0.9062 - val_loss: 0.4903 - val_acc: 0.8750\n",
      "Epoch 19/500\n",
      "96/96 [==============================] - 0s - loss: 0.3993 - acc: 0.9062 - val_loss: 0.4898 - val_acc: 0.8750\n",
      "Epoch 20/500\n",
      "96/96 [==============================] - 0s - loss: 0.3985 - acc: 0.9062 - val_loss: 0.4892 - val_acc: 0.8750\n",
      "Epoch 21/500\n",
      "96/96 [==============================] - 0s - loss: 0.3978 - acc: 0.9062 - val_loss: 0.4884 - val_acc: 0.8750\n",
      "Epoch 22/500\n",
      "96/96 [==============================] - 0s - loss: 0.3972 - acc: 0.9062 - val_loss: 0.4873 - val_acc: 0.8750\n",
      "Epoch 23/500\n",
      "96/96 [==============================] - 0s - loss: 0.3965 - acc: 0.9062 - val_loss: 0.4869 - val_acc: 0.8750\n",
      "Epoch 24/500\n",
      "96/96 [==============================] - 0s - loss: 0.3957 - acc: 0.9062 - val_loss: 0.4859 - val_acc: 0.8750\n",
      "Epoch 25/500\n",
      "96/96 [==============================] - 0s - loss: 0.3950 - acc: 0.9062 - val_loss: 0.4849 - val_acc: 0.8750\n",
      "Epoch 26/500\n",
      "96/96 [==============================] - 0s - loss: 0.3943 - acc: 0.9062 - val_loss: 0.4841 - val_acc: 0.8750\n",
      "Epoch 27/500\n",
      "96/96 [==============================] - 0s - loss: 0.3937 - acc: 0.9062 - val_loss: 0.4837 - val_acc: 0.8750\n",
      "Epoch 28/500\n",
      "96/96 [==============================] - 0s - loss: 0.3930 - acc: 0.9062 - val_loss: 0.4832 - val_acc: 0.8750\n",
      "Epoch 29/500\n",
      "96/96 [==============================] - 0s - loss: 0.3923 - acc: 0.9062 - val_loss: 0.4820 - val_acc: 0.8750\n",
      "Epoch 30/500\n",
      "96/96 [==============================] - 0s - loss: 0.3916 - acc: 0.9062 - val_loss: 0.4813 - val_acc: 0.8750\n",
      "Epoch 31/500\n",
      "96/96 [==============================] - 0s - loss: 0.3909 - acc: 0.9062 - val_loss: 0.4805 - val_acc: 0.8750\n",
      "Epoch 32/500\n",
      "96/96 [==============================] - 0s - loss: 0.3902 - acc: 0.9062 - val_loss: 0.4797 - val_acc: 0.8750\n",
      "Epoch 33/500\n",
      "96/96 [==============================] - 0s - loss: 0.3895 - acc: 0.9062 - val_loss: 0.4789 - val_acc: 0.8750\n",
      "Epoch 34/500\n",
      "96/96 [==============================] - 0s - loss: 0.3888 - acc: 0.9062 - val_loss: 0.4781 - val_acc: 0.8750\n",
      "Epoch 35/500\n",
      "96/96 [==============================] - 0s - loss: 0.3882 - acc: 0.9062 - val_loss: 0.4774 - val_acc: 0.8750\n",
      "Epoch 36/500\n",
      "96/96 [==============================] - 0s - loss: 0.3875 - acc: 0.9062 - val_loss: 0.4764 - val_acc: 0.8750\n",
      "Epoch 37/500\n",
      "96/96 [==============================] - 0s - loss: 0.3870 - acc: 0.9167 - val_loss: 0.4750 - val_acc: 0.8750\n",
      "Epoch 38/500\n",
      "96/96 [==============================] - 0s - loss: 0.3863 - acc: 0.9167 - val_loss: 0.4739 - val_acc: 0.8750\n",
      "Epoch 39/500\n",
      "96/96 [==============================] - 0s - loss: 0.3857 - acc: 0.9271 - val_loss: 0.4727 - val_acc: 0.8750\n",
      "Epoch 40/500\n",
      "96/96 [==============================] - 0s - loss: 0.3849 - acc: 0.9271 - val_loss: 0.4721 - val_acc: 0.8750\n",
      "Epoch 41/500\n",
      "96/96 [==============================] - 0s - loss: 0.3844 - acc: 0.9167 - val_loss: 0.4720 - val_acc: 0.8750\n",
      "Epoch 42/500\n",
      "96/96 [==============================] - 0s - loss: 0.3836 - acc: 0.9167 - val_loss: 0.4708 - val_acc: 0.8750\n",
      "Epoch 43/500\n",
      "96/96 [==============================] - 0s - loss: 0.3827 - acc: 0.9271 - val_loss: 0.4700 - val_acc: 0.8750\n",
      "Epoch 44/500\n",
      "96/96 [==============================] - 0s - loss: 0.3821 - acc: 0.9271 - val_loss: 0.4695 - val_acc: 0.8750\n",
      "Epoch 45/500\n",
      "96/96 [==============================] - 0s - loss: 0.3813 - acc: 0.9271 - val_loss: 0.4687 - val_acc: 0.8750\n",
      "Epoch 46/500\n",
      "96/96 [==============================] - 0s - loss: 0.3806 - acc: 0.9271 - val_loss: 0.4680 - val_acc: 0.8750\n",
      "Epoch 47/500\n",
      "96/96 [==============================] - 0s - loss: 0.3801 - acc: 0.9167 - val_loss: 0.4676 - val_acc: 0.8750\n",
      "Epoch 48/500\n",
      "96/96 [==============================] - 0s - loss: 0.3793 - acc: 0.9167 - val_loss: 0.4667 - val_acc: 0.8750\n",
      "Epoch 49/500\n",
      "96/96 [==============================] - 0s - loss: 0.3787 - acc: 0.9167 - val_loss: 0.4660 - val_acc: 0.8750\n",
      "Epoch 50/500\n",
      "96/96 [==============================] - 0s - loss: 0.3780 - acc: 0.9167 - val_loss: 0.4653 - val_acc: 0.8750\n",
      "Epoch 51/500\n",
      "96/96 [==============================] - 0s - loss: 0.3775 - acc: 0.9271 - val_loss: 0.4638 - val_acc: 0.8750\n",
      "Epoch 52/500\n",
      "96/96 [==============================] - 0s - loss: 0.3767 - acc: 0.9271 - val_loss: 0.4633 - val_acc: 0.8750\n",
      "Epoch 53/500\n",
      "96/96 [==============================] - 0s - loss: 0.3760 - acc: 0.9271 - val_loss: 0.4625 - val_acc: 0.8750\n",
      "Epoch 54/500\n",
      "96/96 [==============================] - 0s - loss: 0.3763 - acc: 0.9271 - val_loss: 0.4607 - val_acc: 0.8750\n",
      "Epoch 55/500\n",
      "96/96 [==============================] - 0s - loss: 0.3746 - acc: 0.9271 - val_loss: 0.4600 - val_acc: 0.8750\n",
      "Epoch 56/500\n",
      "96/96 [==============================] - 0s - loss: 0.3740 - acc: 0.9271 - val_loss: 0.4594 - val_acc: 0.8750\n",
      "Epoch 57/500\n",
      "96/96 [==============================] - 0s - loss: 0.3733 - acc: 0.9271 - val_loss: 0.4588 - val_acc: 0.8750\n",
      "Epoch 58/500\n",
      "96/96 [==============================] - 0s - loss: 0.3726 - acc: 0.9271 - val_loss: 0.4581 - val_acc: 0.8750\n",
      "Epoch 59/500\n",
      "96/96 [==============================] - 0s - loss: 0.3721 - acc: 0.9271 - val_loss: 0.4572 - val_acc: 0.8750\n",
      "Epoch 60/500\n",
      "96/96 [==============================] - 0s - loss: 0.3714 - acc: 0.9271 - val_loss: 0.4565 - val_acc: 0.8750\n",
      "Epoch 61/500\n",
      "96/96 [==============================] - 0s - loss: 0.3706 - acc: 0.9271 - val_loss: 0.4559 - val_acc: 0.8750\n",
      "Epoch 62/500\n",
      "96/96 [==============================] - 0s - loss: 0.3700 - acc: 0.9271 - val_loss: 0.4550 - val_acc: 0.8750\n",
      "Epoch 63/500\n",
      "96/96 [==============================] - 0s - loss: 0.3693 - acc: 0.9271 - val_loss: 0.4542 - val_acc: 0.8750\n",
      "Epoch 64/500\n",
      "96/96 [==============================] - ETA: 0s - loss: 0.3975 - acc: 0.968 - 0s - loss: 0.3687 - acc: 0.9271 - val_loss: 0.4536 - val_acc: 0.8750\n",
      "Epoch 65/500\n",
      "96/96 [==============================] - 0s - loss: 0.3680 - acc: 0.9271 - val_loss: 0.4526 - val_acc: 0.8750\n",
      "Epoch 66/500\n",
      "96/96 [==============================] - 0s - loss: 0.3674 - acc: 0.9271 - val_loss: 0.4516 - val_acc: 0.8750\n",
      "Epoch 67/500\n"
     ]
    },
    {
     "name": "stdout",
     "output_type": "stream",
     "text": [
      "96/96 [==============================] - 0s - loss: 0.3667 - acc: 0.9271 - val_loss: 0.4510 - val_acc: 0.8750\n",
      "Epoch 68/500\n",
      "96/96 [==============================] - 0s - loss: 0.3661 - acc: 0.9271 - val_loss: 0.4500 - val_acc: 0.8750\n",
      "Epoch 69/500\n",
      "96/96 [==============================] - 0s - loss: 0.3653 - acc: 0.9271 - val_loss: 0.4493 - val_acc: 0.8750\n",
      "Epoch 70/500\n",
      "96/96 [==============================] - 0s - loss: 0.3650 - acc: 0.9271 - val_loss: 0.4489 - val_acc: 0.8750\n",
      "Epoch 71/500\n",
      "96/96 [==============================] - 0s - loss: 0.3646 - acc: 0.9271 - val_loss: 0.4475 - val_acc: 0.8750\n",
      "Epoch 72/500\n",
      "96/96 [==============================] - ETA: 0s - loss: 0.3566 - acc: 0.968 - 0s - loss: 0.3638 - acc: 0.9271 - val_loss: 0.4463 - val_acc: 0.8750\n",
      "Epoch 73/500\n",
      "96/96 [==============================] - 0s - loss: 0.3633 - acc: 0.9271 - val_loss: 0.4463 - val_acc: 0.8750\n",
      "Epoch 74/500\n",
      "96/96 [==============================] - 0s - loss: 0.3621 - acc: 0.9271 - val_loss: 0.4455 - val_acc: 0.8750\n",
      "Epoch 75/500\n",
      "96/96 [==============================] - 0s - loss: 0.3614 - acc: 0.9271 - val_loss: 0.4448 - val_acc: 0.8750\n",
      "Epoch 76/500\n",
      "96/96 [==============================] - ETA: 0s - loss: 0.3809 - acc: 0.906 - 0s - loss: 0.3608 - acc: 0.9271 - val_loss: 0.4440 - val_acc: 0.8750\n",
      "Epoch 77/500\n",
      "96/96 [==============================] - 0s - loss: 0.3601 - acc: 0.9271 - val_loss: 0.4431 - val_acc: 0.8750\n",
      "Epoch 78/500\n",
      "96/96 [==============================] - 0s - loss: 0.3595 - acc: 0.9271 - val_loss: 0.4424 - val_acc: 0.8750\n",
      "Epoch 79/500\n",
      "96/96 [==============================] - 0s - loss: 0.3589 - acc: 0.9271 - val_loss: 0.4417 - val_acc: 0.8750\n",
      "Epoch 80/500\n",
      "96/96 [==============================] - 0s - loss: 0.3584 - acc: 0.9375 - val_loss: 0.4404 - val_acc: 0.8750\n",
      "Epoch 81/500\n",
      "96/96 [==============================] - 0s - loss: 0.3581 - acc: 0.9375 - val_loss: 0.4402 - val_acc: 0.8750\n",
      "Epoch 82/500\n",
      "96/96 [==============================] - 0s - loss: 0.3572 - acc: 0.9271 - val_loss: 0.4388 - val_acc: 0.8750\n",
      "Epoch 83/500\n",
      "96/96 [==============================] - 0s - loss: 0.3564 - acc: 0.9375 - val_loss: 0.4378 - val_acc: 0.8750\n",
      "Epoch 84/500\n",
      "96/96 [==============================] - 0s - loss: 0.3556 - acc: 0.9375 - val_loss: 0.4370 - val_acc: 0.8750\n",
      "Epoch 85/500\n",
      "96/96 [==============================] - 0s - loss: 0.3551 - acc: 0.9375 - val_loss: 0.4366 - val_acc: 0.8750\n",
      "Epoch 86/500\n",
      "96/96 [==============================] - 0s - loss: 0.3544 - acc: 0.9375 - val_loss: 0.4357 - val_acc: 0.8750\n",
      "Epoch 87/500\n",
      "96/96 [==============================] - 0s - loss: 0.3540 - acc: 0.9375 - val_loss: 0.4354 - val_acc: 0.8750\n",
      "Epoch 88/500\n",
      "96/96 [==============================] - 0s - loss: 0.3532 - acc: 0.9375 - val_loss: 0.4342 - val_acc: 0.8750\n",
      "Epoch 89/500\n",
      "96/96 [==============================] - 0s - loss: 0.3525 - acc: 0.9375 - val_loss: 0.4332 - val_acc: 0.8750\n",
      "Epoch 90/500\n",
      "96/96 [==============================] - 0s - loss: 0.3518 - acc: 0.9375 - val_loss: 0.4324 - val_acc: 0.8750\n",
      "Epoch 91/500\n",
      "96/96 [==============================] - 0s - loss: 0.3512 - acc: 0.9375 - val_loss: 0.4318 - val_acc: 0.8750\n",
      "Epoch 92/500\n",
      "96/96 [==============================] - 0s - loss: 0.3504 - acc: 0.9375 - val_loss: 0.4311 - val_acc: 0.8750\n",
      "Epoch 93/500\n",
      "96/96 [==============================] - 0s - loss: 0.3499 - acc: 0.9375 - val_loss: 0.4306 - val_acc: 0.8750\n",
      "Epoch 94/500\n",
      "96/96 [==============================] - 0s - loss: 0.3492 - acc: 0.9375 - val_loss: 0.4298 - val_acc: 0.8750\n",
      "Epoch 95/500\n",
      "96/96 [==============================] - 0s - loss: 0.3487 - acc: 0.9375 - val_loss: 0.4294 - val_acc: 0.8750\n",
      "Epoch 96/500\n",
      "96/96 [==============================] - 0s - loss: 0.3480 - acc: 0.9479 - val_loss: 0.4282 - val_acc: 0.8750\n",
      "Epoch 97/500\n",
      "96/96 [==============================] - 0s - loss: 0.3474 - acc: 0.9375 - val_loss: 0.4273 - val_acc: 0.8750\n",
      "Epoch 98/500\n",
      "96/96 [==============================] - 0s - loss: 0.3471 - acc: 0.9375 - val_loss: 0.4269 - val_acc: 0.8750\n",
      "Epoch 99/500\n",
      "96/96 [==============================] - 0s - loss: 0.3462 - acc: 0.9375 - val_loss: 0.4257 - val_acc: 0.8750\n",
      "Epoch 100/500\n",
      "96/96 [==============================] - 0s - loss: 0.3454 - acc: 0.9375 - val_loss: 0.4251 - val_acc: 0.8750\n",
      "Epoch 101/500\n",
      "96/96 [==============================] - 0s - loss: 0.3452 - acc: 0.9375 - val_loss: 0.4237 - val_acc: 0.8750\n",
      "Epoch 102/500\n",
      "96/96 [==============================] - 0s - loss: 0.3442 - acc: 0.9375 - val_loss: 0.4231 - val_acc: 0.8750\n",
      "Epoch 103/500\n",
      "96/96 [==============================] - 0s - loss: 0.3435 - acc: 0.9375 - val_loss: 0.4226 - val_acc: 0.8750\n",
      "Epoch 104/500\n",
      "96/96 [==============================] - 0s - loss: 0.3430 - acc: 0.9375 - val_loss: 0.4220 - val_acc: 0.8750\n",
      "Epoch 105/500\n",
      "96/96 [==============================] - 0s - loss: 0.3422 - acc: 0.9479 - val_loss: 0.4213 - val_acc: 0.8750\n",
      "Epoch 106/500\n",
      "96/96 [==============================] - 0s - loss: 0.3421 - acc: 0.9479 - val_loss: 0.4209 - val_acc: 0.8750\n",
      "Epoch 107/500\n",
      "96/96 [==============================] - 0s - loss: 0.3409 - acc: 0.9479 - val_loss: 0.4199 - val_acc: 0.8750\n",
      "Epoch 108/500\n",
      "96/96 [==============================] - 0s - loss: 0.3404 - acc: 0.9479 - val_loss: 0.4192 - val_acc: 0.8750\n",
      "Epoch 109/500\n",
      "96/96 [==============================] - 0s - loss: 0.3397 - acc: 0.9479 - val_loss: 0.4180 - val_acc: 0.8750\n",
      "Epoch 110/500\n",
      "96/96 [==============================] - 0s - loss: 0.3393 - acc: 0.9479 - val_loss: 0.4168 - val_acc: 0.9167\n",
      "Epoch 111/500\n",
      "96/96 [==============================] - 0s - loss: 0.3385 - acc: 0.9375 - val_loss: 0.4160 - val_acc: 0.9167\n",
      "Epoch 112/500\n",
      "96/96 [==============================] - 0s - loss: 0.3380 - acc: 0.9375 - val_loss: 0.4154 - val_acc: 0.8750\n",
      "Epoch 113/500\n",
      "96/96 [==============================] - 0s - loss: 0.3375 - acc: 0.9375 - val_loss: 0.4143 - val_acc: 0.9167\n",
      "Epoch 114/500\n",
      "96/96 [==============================] - 0s - loss: 0.3366 - acc: 0.9375 - val_loss: 0.4137 - val_acc: 0.9167\n",
      "Epoch 115/500\n",
      "96/96 [==============================] - 0s - loss: 0.3360 - acc: 0.9375 - val_loss: 0.4130 - val_acc: 0.9167\n",
      "Epoch 116/500\n",
      "96/96 [==============================] - 0s - loss: 0.3353 - acc: 0.9479 - val_loss: 0.4124 - val_acc: 0.9167\n",
      "Epoch 117/500\n",
      "96/96 [==============================] - 0s - loss: 0.3348 - acc: 0.9479 - val_loss: 0.4117 - val_acc: 0.9167\n",
      "Epoch 118/500\n",
      "96/96 [==============================] - 0s - loss: 0.3342 - acc: 0.9479 - val_loss: 0.4112 - val_acc: 0.9167\n",
      "Epoch 119/500\n",
      "96/96 [==============================] - 0s - loss: 0.3334 - acc: 0.9479 - val_loss: 0.4105 - val_acc: 0.9167\n",
      "Epoch 120/500\n",
      "96/96 [==============================] - 0s - loss: 0.3329 - acc: 0.9479 - val_loss: 0.4097 - val_acc: 0.9167\n",
      "Epoch 121/500\n",
      "96/96 [==============================] - 0s - loss: 0.3323 - acc: 0.9479 - val_loss: 0.4091 - val_acc: 0.9167\n",
      "Epoch 122/500\n",
      "96/96 [==============================] - 0s - loss: 0.3316 - acc: 0.9479 - val_loss: 0.4085 - val_acc: 0.9167\n",
      "Epoch 123/500\n",
      "96/96 [==============================] - 0s - loss: 0.3311 - acc: 0.9479 - val_loss: 0.4077 - val_acc: 0.9167\n",
      "Epoch 124/500\n",
      "96/96 [==============================] - ETA: 0s - loss: 0.3088 - acc: 0.937 - 0s - loss: 0.3304 - acc: 0.9479 - val_loss: 0.4070 - val_acc: 0.9167\n",
      "Epoch 125/500\n",
      "96/96 [==============================] - 0s - loss: 0.3299 - acc: 0.9479 - val_loss: 0.4062 - val_acc: 0.9167\n",
      "Epoch 126/500\n",
      "96/96 [==============================] - 0s - loss: 0.3293 - acc: 0.9479 - val_loss: 0.4051 - val_acc: 0.9167\n",
      "Epoch 127/500\n",
      "96/96 [==============================] - 0s - loss: 0.3289 - acc: 0.9479 - val_loss: 0.4039 - val_acc: 0.9583\n",
      "Epoch 128/500\n",
      "96/96 [==============================] - 0s - loss: 0.3280 - acc: 0.9479 - val_loss: 0.4032 - val_acc: 0.9583\n",
      "Epoch 129/500\n",
      "96/96 [==============================] - 0s - loss: 0.3274 - acc: 0.9479 - val_loss: 0.4024 - val_acc: 0.9583\n",
      "Epoch 130/500\n",
      "96/96 [==============================] - 0s - loss: 0.3268 - acc: 0.9479 - val_loss: 0.4016 - val_acc: 0.9583\n",
      "Epoch 131/500\n",
      "96/96 [==============================] - 0s - loss: 0.3261 - acc: 0.9479 - val_loss: 0.4011 - val_acc: 0.9583\n",
      "Epoch 132/500\n",
      "96/96 [==============================] - 0s - loss: 0.3256 - acc: 0.9479 - val_loss: 0.4006 - val_acc: 0.9583\n",
      "Epoch 133/500\n",
      "96/96 [==============================] - 0s - loss: 0.3249 - acc: 0.9479 - val_loss: 0.3998 - val_acc: 0.9583\n",
      "Epoch 134/500\n",
      "96/96 [==============================] - 0s - loss: 0.3244 - acc: 0.9479 - val_loss: 0.3993 - val_acc: 0.9583\n",
      "Epoch 135/500\n",
      "96/96 [==============================] - 0s - loss: 0.3240 - acc: 0.9479 - val_loss: 0.3983 - val_acc: 0.9583\n",
      "Epoch 136/500\n",
      "96/96 [==============================] - 0s - loss: 0.3232 - acc: 0.9479 - val_loss: 0.3974 - val_acc: 0.9583\n",
      "Epoch 137/500\n",
      "96/96 [==============================] - 0s - loss: 0.3231 - acc: 0.9479 - val_loss: 0.3972 - val_acc: 0.9583\n",
      "Epoch 138/500\n",
      "96/96 [==============================] - 0s - loss: 0.3218 - acc: 0.9479 - val_loss: 0.3964 - val_acc: 0.9583\n",
      "Epoch 139/500\n",
      "96/96 [==============================] - 0s - loss: 0.3213 - acc: 0.9479 - val_loss: 0.3956 - val_acc: 0.9583\n",
      "Epoch 140/500\n",
      "96/96 [==============================] - 0s - loss: 0.3207 - acc: 0.9479 - val_loss: 0.3947 - val_acc: 0.9583\n",
      "Epoch 141/500\n",
      "96/96 [==============================] - 0s - loss: 0.3202 - acc: 0.9479 - val_loss: 0.3942 - val_acc: 0.9583\n",
      "Epoch 142/500\n",
      "96/96 [==============================] - 0s - loss: 0.3195 - acc: 0.9479 - val_loss: 0.3935 - val_acc: 0.9583\n",
      "Epoch 143/500\n",
      "96/96 [==============================] - 0s - loss: 0.3190 - acc: 0.9479 - val_loss: 0.3924 - val_acc: 0.9583\n",
      "Epoch 144/500\n",
      "96/96 [==============================] - 0s - loss: 0.3187 - acc: 0.9479 - val_loss: 0.3920 - val_acc: 0.9583\n",
      "Epoch 145/500\n",
      "96/96 [==============================] - 0s - loss: 0.3179 - acc: 0.9479 - val_loss: 0.3908 - val_acc: 0.9583\n",
      "Epoch 146/500\n",
      "96/96 [==============================] - 0s - loss: 0.3170 - acc: 0.9479 - val_loss: 0.3899 - val_acc: 0.9583\n",
      "Epoch 147/500\n",
      "96/96 [==============================] - 0s - loss: 0.3171 - acc: 0.9479 - val_loss: 0.3896 - val_acc: 0.9583\n",
      "Epoch 148/500\n",
      "96/96 [==============================] - 0s - loss: 0.3160 - acc: 0.9479 - val_loss: 0.3886 - val_acc: 0.9583\n",
      "Epoch 149/500\n",
      "96/96 [==============================] - 0s - loss: 0.3155 - acc: 0.9479 - val_loss: 0.3876 - val_acc: 0.9583\n",
      "Epoch 150/500\n",
      "96/96 [==============================] - 0s - loss: 0.3148 - acc: 0.9479 - val_loss: 0.3871 - val_acc: 0.9583\n",
      "Epoch 151/500\n",
      "96/96 [==============================] - 0s - loss: 0.3144 - acc: 0.9479 - val_loss: 0.3867 - val_acc: 0.9583\n",
      "Epoch 152/500\n",
      "96/96 [==============================] - 0s - loss: 0.3135 - acc: 0.9479 - val_loss: 0.3859 - val_acc: 0.9583\n",
      "Epoch 153/500\n",
      "96/96 [==============================] - 0s - loss: 0.3130 - acc: 0.9479 - val_loss: 0.3850 - val_acc: 0.9583\n",
      "Epoch 154/500\n",
      "96/96 [==============================] - 0s - loss: 0.3126 - acc: 0.9479 - val_loss: 0.3839 - val_acc: 0.9583\n",
      "Epoch 155/500\n",
      "96/96 [==============================] - 0s - loss: 0.3119 - acc: 0.9479 - val_loss: 0.3830 - val_acc: 0.9583\n",
      "Epoch 156/500\n",
      "96/96 [==============================] - ETA: 0s - loss: 0.3175 - acc: 0.937 - 0s - loss: 0.3112 - acc: 0.9479 - val_loss: 0.3824 - val_acc: 0.9583\n",
      "Epoch 157/500\n",
      "96/96 [==============================] - 0s - loss: 0.3107 - acc: 0.9479 - val_loss: 0.3816 - val_acc: 0.9583\n",
      "Epoch 158/500\n",
      "96/96 [==============================] - 0s - loss: 0.3102 - acc: 0.9479 - val_loss: 0.3809 - val_acc: 0.9583\n",
      "Epoch 159/500\n",
      "96/96 [==============================] - 0s - loss: 0.3094 - acc: 0.9479 - val_loss: 0.3805 - val_acc: 0.9583\n",
      "Epoch 160/500\n",
      "96/96 [==============================] - 0s - loss: 0.3088 - acc: 0.9479 - val_loss: 0.3801 - val_acc: 0.9583\n",
      "Epoch 161/500\n",
      "96/96 [==============================] - 0s - loss: 0.3082 - acc: 0.9479 - val_loss: 0.3796 - val_acc: 0.9583\n",
      "Epoch 162/500\n",
      "96/96 [==============================] - 0s - loss: 0.3076 - acc: 0.9479 - val_loss: 0.3790 - val_acc: 0.9583\n",
      "Epoch 163/500\n",
      "96/96 [==============================] - 0s - loss: 0.3073 - acc: 0.9479 - val_loss: 0.3780 - val_acc: 0.9583\n",
      "Epoch 164/500\n",
      "96/96 [==============================] - 0s - loss: 0.3065 - acc: 0.9479 - val_loss: 0.3773 - val_acc: 0.9583\n",
      "Epoch 165/500\n",
      "96/96 [==============================] - 0s - loss: 0.3059 - acc: 0.9479 - val_loss: 0.3766 - val_acc: 0.9583\n",
      "Epoch 166/500\n",
      "96/96 [==============================] - 0s - loss: 0.3053 - acc: 0.9479 - val_loss: 0.3758 - val_acc: 0.9583\n",
      "Epoch 167/500\n",
      "96/96 [==============================] - 0s - loss: 0.3048 - acc: 0.9479 - val_loss: 0.3753 - val_acc: 0.9583\n",
      "Epoch 168/500\n",
      "96/96 [==============================] - 0s - loss: 0.3042 - acc: 0.9479 - val_loss: 0.3746 - val_acc: 0.9583\n",
      "Epoch 169/500\n",
      "96/96 [==============================] - 0s - loss: 0.3035 - acc: 0.9479 - val_loss: 0.3738 - val_acc: 0.9583\n",
      "Epoch 170/500\n",
      "96/96 [==============================] - ETA: 0s - loss: 0.3322 - acc: 0.906 - 0s - loss: 0.3029 - acc: 0.9479 - val_loss: 0.3730 - val_acc: 0.9583\n",
      "Epoch 171/500\n",
      "96/96 [==============================] - 0s - loss: 0.3025 - acc: 0.9479 - val_loss: 0.3724 - val_acc: 0.9583\n",
      "Epoch 172/500\n",
      "96/96 [==============================] - 0s - loss: 0.3018 - acc: 0.9479 - val_loss: 0.3716 - val_acc: 0.9583\n",
      "Epoch 173/500\n",
      "96/96 [==============================] - 0s - loss: 0.3013 - acc: 0.9479 - val_loss: 0.3707 - val_acc: 0.9583\n",
      "Epoch 174/500\n",
      "96/96 [==============================] - 0s - loss: 0.3007 - acc: 0.9583 - val_loss: 0.3700 - val_acc: 0.9583\n",
      "Epoch 175/500\n",
      "96/96 [==============================] - 0s - loss: 0.3002 - acc: 0.9583 - val_loss: 0.3690 - val_acc: 0.9583\n",
      "Epoch 176/500\n",
      "96/96 [==============================] - 0s - loss: 0.3001 - acc: 0.9583 - val_loss: 0.3687 - val_acc: 0.9583\n",
      "Epoch 177/500\n",
      "96/96 [==============================] - 0s - loss: 0.2989 - acc: 0.9583 - val_loss: 0.3679 - val_acc: 0.9583\n",
      "Epoch 178/500\n",
      "96/96 [==============================] - 0s - loss: 0.2985 - acc: 0.9583 - val_loss: 0.3672 - val_acc: 0.9583\n",
      "Epoch 179/500\n",
      "96/96 [==============================] - 0s - loss: 0.2978 - acc: 0.9583 - val_loss: 0.3663 - val_acc: 0.9583\n",
      "Epoch 180/500\n",
      "96/96 [==============================] - 0s - loss: 0.2972 - acc: 0.9583 - val_loss: 0.3655 - val_acc: 0.9583\n",
      "Epoch 181/500\n",
      "96/96 [==============================] - 0s - loss: 0.2968 - acc: 0.9583 - val_loss: 0.3649 - val_acc: 0.9583\n",
      "Epoch 182/500\n",
      "96/96 [==============================] - 0s - loss: 0.2961 - acc: 0.9583 - val_loss: 0.3641 - val_acc: 0.9583\n",
      "Epoch 183/500\n",
      "96/96 [==============================] - 0s - loss: 0.2956 - acc: 0.9583 - val_loss: 0.3635 - val_acc: 0.9583\n",
      "Epoch 184/500\n",
      "96/96 [==============================] - 0s - loss: 0.2950 - acc: 0.9583 - val_loss: 0.3628 - val_acc: 0.9583\n",
      "Epoch 185/500\n",
      "96/96 [==============================] - 0s - loss: 0.2944 - acc: 0.9583 - val_loss: 0.3621 - val_acc: 0.9583\n",
      "Epoch 186/500\n",
      "96/96 [==============================] - 0s - loss: 0.2939 - acc: 0.9583 - val_loss: 0.3614 - val_acc: 0.9583\n",
      "Epoch 187/500\n",
      "96/96 [==============================] - 0s - loss: 0.2933 - acc: 0.9583 - val_loss: 0.3607 - val_acc: 0.9583\n",
      "Epoch 188/500\n",
      "96/96 [==============================] - 0s - loss: 0.2929 - acc: 0.9583 - val_loss: 0.3599 - val_acc: 0.9583\n",
      "Epoch 189/500\n",
      "96/96 [==============================] - 0s - loss: 0.2921 - acc: 0.9583 - val_loss: 0.3593 - val_acc: 0.9583\n",
      "Epoch 190/500\n",
      "96/96 [==============================] - 0s - loss: 0.2917 - acc: 0.9583 - val_loss: 0.3588 - val_acc: 0.9583\n",
      "Epoch 191/500\n",
      "96/96 [==============================] - 0s - loss: 0.2911 - acc: 0.9583 - val_loss: 0.3583 - val_acc: 0.9583\n",
      "Epoch 192/500\n",
      "96/96 [==============================] - 0s - loss: 0.2905 - acc: 0.9583 - val_loss: 0.3576 - val_acc: 0.9583\n",
      "Epoch 193/500\n",
      "96/96 [==============================] - 0s - loss: 0.2899 - acc: 0.9583 - val_loss: 0.3568 - val_acc: 0.9583\n",
      "Epoch 194/500\n",
      "96/96 [==============================] - 0s - loss: 0.2893 - acc: 0.9583 - val_loss: 0.3560 - val_acc: 0.9583\n",
      "Epoch 195/500\n",
      "96/96 [==============================] - 0s - loss: 0.2888 - acc: 0.9583 - val_loss: 0.3552 - val_acc: 0.9583\n",
      "Epoch 196/500\n",
      "96/96 [==============================] - 0s - loss: 0.2884 - acc: 0.9583 - val_loss: 0.3544 - val_acc: 0.9583\n",
      "Epoch 197/500\n"
     ]
    },
    {
     "name": "stdout",
     "output_type": "stream",
     "text": [
      "96/96 [==============================] - 0s - loss: 0.2877 - acc: 0.9583 - val_loss: 0.3538 - val_acc: 0.9583\n",
      "Epoch 198/500\n",
      "96/96 [==============================] - 0s - loss: 0.2872 - acc: 0.9583 - val_loss: 0.3530 - val_acc: 0.9583\n",
      "Epoch 199/500\n",
      "96/96 [==============================] - 0s - loss: 0.2867 - acc: 0.9583 - val_loss: 0.3522 - val_acc: 0.9583\n",
      "Epoch 200/500\n",
      "96/96 [==============================] - 0s - loss: 0.2860 - acc: 0.9583 - val_loss: 0.3517 - val_acc: 0.9583\n",
      "Epoch 201/500\n",
      "96/96 [==============================] - 0s - loss: 0.2854 - acc: 0.9583 - val_loss: 0.3510 - val_acc: 0.9583\n",
      "Epoch 202/500\n",
      "96/96 [==============================] - 0s - loss: 0.2849 - acc: 0.9583 - val_loss: 0.3505 - val_acc: 0.9583\n",
      "Epoch 203/500\n",
      "96/96 [==============================] - 0s - loss: 0.2844 - acc: 0.9583 - val_loss: 0.3500 - val_acc: 0.9583\n",
      "Epoch 204/500\n",
      "96/96 [==============================] - 0s - loss: 0.2839 - acc: 0.9583 - val_loss: 0.3495 - val_acc: 0.9583\n",
      "Epoch 205/500\n",
      "96/96 [==============================] - 0s - loss: 0.2833 - acc: 0.9583 - val_loss: 0.3488 - val_acc: 0.9583\n",
      "Epoch 206/500\n",
      "96/96 [==============================] - 0s - loss: 0.2827 - acc: 0.9583 - val_loss: 0.3480 - val_acc: 0.9583\n",
      "Epoch 207/500\n",
      "96/96 [==============================] - 0s - loss: 0.2822 - acc: 0.9583 - val_loss: 0.3472 - val_acc: 0.9583\n",
      "Epoch 208/500\n",
      "96/96 [==============================] - 0s - loss: 0.2816 - acc: 0.9583 - val_loss: 0.3465 - val_acc: 0.9583\n",
      "Epoch 209/500\n",
      "96/96 [==============================] - 0s - loss: 0.2811 - acc: 0.9583 - val_loss: 0.3455 - val_acc: 0.9583\n",
      "Epoch 210/500\n",
      "96/96 [==============================] - 0s - loss: 0.2807 - acc: 0.9583 - val_loss: 0.3447 - val_acc: 0.9583\n",
      "Epoch 211/500\n",
      "96/96 [==============================] - 0s - loss: 0.2800 - acc: 0.9583 - val_loss: 0.3440 - val_acc: 0.9583\n",
      "Epoch 212/500\n",
      "96/96 [==============================] - 0s - loss: 0.2796 - acc: 0.9583 - val_loss: 0.3436 - val_acc: 0.9583\n",
      "Epoch 213/500\n",
      "96/96 [==============================] - 0s - loss: 0.2789 - acc: 0.9583 - val_loss: 0.3428 - val_acc: 0.9583\n",
      "Epoch 214/500\n",
      "96/96 [==============================] - 0s - loss: 0.2783 - acc: 0.9583 - val_loss: 0.3422 - val_acc: 0.9583\n",
      "Epoch 215/500\n",
      "96/96 [==============================] - 0s - loss: 0.2778 - acc: 0.9583 - val_loss: 0.3414 - val_acc: 0.9583\n",
      "Epoch 216/500\n",
      "96/96 [==============================] - 0s - loss: 0.2772 - acc: 0.9583 - val_loss: 0.3408 - val_acc: 0.9583\n",
      "Epoch 217/500\n",
      "96/96 [==============================] - 0s - loss: 0.2767 - acc: 0.9583 - val_loss: 0.3402 - val_acc: 0.9583\n",
      "Epoch 218/500\n",
      "96/96 [==============================] - ETA: 0s - loss: 0.2429 - acc: 1.000 - 0s - loss: 0.2766 - acc: 0.9583 - val_loss: 0.3398 - val_acc: 0.9583\n",
      "Epoch 219/500\n",
      "96/96 [==============================] - 0s - loss: 0.2757 - acc: 0.9583 - val_loss: 0.3392 - val_acc: 0.9583\n",
      "Epoch 220/500\n",
      "96/96 [==============================] - 0s - loss: 0.2752 - acc: 0.9583 - val_loss: 0.3386 - val_acc: 0.9583\n",
      "Epoch 221/500\n",
      "96/96 [==============================] - 0s - loss: 0.2745 - acc: 0.9583 - val_loss: 0.3378 - val_acc: 0.9583\n",
      "Epoch 222/500\n",
      "96/96 [==============================] - 0s - loss: 0.2740 - acc: 0.9583 - val_loss: 0.3370 - val_acc: 0.9583\n",
      "Epoch 223/500\n",
      "96/96 [==============================] - 0s - loss: 0.2735 - acc: 0.9583 - val_loss: 0.3361 - val_acc: 0.9583\n",
      "Epoch 224/500\n",
      "96/96 [==============================] - 0s - loss: 0.2730 - acc: 0.9583 - val_loss: 0.3353 - val_acc: 0.9583\n",
      "Epoch 225/500\n",
      "96/96 [==============================] - 0s - loss: 0.2724 - acc: 0.9688 - val_loss: 0.3347 - val_acc: 0.9583\n",
      "Epoch 226/500\n",
      "96/96 [==============================] - 0s - loss: 0.2719 - acc: 0.9688 - val_loss: 0.3340 - val_acc: 0.9583\n",
      "Epoch 227/500\n",
      "96/96 [==============================] - 0s - loss: 0.2713 - acc: 0.9688 - val_loss: 0.3334 - val_acc: 0.9583\n",
      "Epoch 228/500\n",
      "96/96 [==============================] - 0s - loss: 0.2708 - acc: 0.9583 - val_loss: 0.3328 - val_acc: 0.9583\n",
      "Epoch 229/500\n",
      "96/96 [==============================] - 0s - loss: 0.2703 - acc: 0.9688 - val_loss: 0.3321 - val_acc: 0.9583\n",
      "Epoch 230/500\n",
      "96/96 [==============================] - 0s - loss: 0.2700 - acc: 0.9583 - val_loss: 0.3317 - val_acc: 0.9583\n",
      "Epoch 231/500\n",
      "96/96 [==============================] - ETA: 0s - loss: 0.2529 - acc: 0.937 - 0s - loss: 0.2692 - acc: 0.9583 - val_loss: 0.3310 - val_acc: 0.9583\n",
      "Epoch 232/500\n",
      "96/96 [==============================] - 0s - loss: 0.2689 - acc: 0.9583 - val_loss: 0.3305 - val_acc: 0.9583\n",
      "Epoch 233/500\n",
      "96/96 [==============================] - 0s - loss: 0.2681 - acc: 0.9583 - val_loss: 0.3297 - val_acc: 0.9583\n",
      "Epoch 234/500\n",
      "96/96 [==============================] - 0s - loss: 0.2676 - acc: 0.9583 - val_loss: 0.3290 - val_acc: 0.9583\n",
      "Epoch 235/500\n",
      "96/96 [==============================] - 0s - loss: 0.2671 - acc: 0.9688 - val_loss: 0.3283 - val_acc: 0.9583\n",
      "Epoch 236/500\n",
      "96/96 [==============================] - 0s - loss: 0.2666 - acc: 0.9688 - val_loss: 0.3275 - val_acc: 0.9583\n",
      "Epoch 237/500\n",
      "96/96 [==============================] - 0s - loss: 0.2661 - acc: 0.9688 - val_loss: 0.3270 - val_acc: 0.9583\n",
      "Epoch 238/500\n",
      "96/96 [==============================] - 0s - loss: 0.2656 - acc: 0.9688 - val_loss: 0.3263 - val_acc: 0.9583\n",
      "Epoch 239/500\n",
      "96/96 [==============================] - 0s - loss: 0.2651 - acc: 0.9688 - val_loss: 0.3256 - val_acc: 0.9583\n",
      "Epoch 240/500\n",
      "96/96 [==============================] - 0s - loss: 0.2645 - acc: 0.9688 - val_loss: 0.3250 - val_acc: 0.9583\n",
      "Epoch 241/500\n",
      "96/96 [==============================] - 0s - loss: 0.2640 - acc: 0.9688 - val_loss: 0.3243 - val_acc: 0.9583\n",
      "Epoch 242/500\n",
      "96/96 [==============================] - 0s - loss: 0.2635 - acc: 0.9688 - val_loss: 0.3237 - val_acc: 0.9583\n",
      "Epoch 243/500\n",
      "96/96 [==============================] - 0s - loss: 0.2630 - acc: 0.9688 - val_loss: 0.3232 - val_acc: 0.9583\n",
      "Epoch 244/500\n",
      "96/96 [==============================] - 0s - loss: 0.2625 - acc: 0.9688 - val_loss: 0.3225 - val_acc: 0.9583\n",
      "Epoch 245/500\n",
      "96/96 [==============================] - 0s - loss: 0.2619 - acc: 0.9688 - val_loss: 0.3219 - val_acc: 0.9583\n",
      "Epoch 246/500\n",
      "96/96 [==============================] - 0s - loss: 0.2614 - acc: 0.9688 - val_loss: 0.3213 - val_acc: 0.9583\n",
      "Epoch 247/500\n",
      "96/96 [==============================] - 0s - loss: 0.2609 - acc: 0.9688 - val_loss: 0.3205 - val_acc: 0.9583\n",
      "Epoch 248/500\n",
      "96/96 [==============================] - 0s - loss: 0.2603 - acc: 0.9688 - val_loss: 0.3199 - val_acc: 0.9583\n",
      "Epoch 249/500\n",
      "96/96 [==============================] - 0s - loss: 0.2600 - acc: 0.9688 - val_loss: 0.3194 - val_acc: 0.9583\n",
      "Epoch 250/500\n",
      "96/96 [==============================] - 0s - loss: 0.2593 - acc: 0.9688 - val_loss: 0.3187 - val_acc: 0.9583\n",
      "Epoch 251/500\n",
      "96/96 [==============================] - 0s - loss: 0.2590 - acc: 0.9688 - val_loss: 0.3179 - val_acc: 0.9583\n",
      "Epoch 252/500\n",
      "96/96 [==============================] - 0s - loss: 0.2583 - acc: 0.9688 - val_loss: 0.3172 - val_acc: 0.9583\n",
      "Epoch 253/500\n",
      "96/96 [==============================] - 0s - loss: 0.2579 - acc: 0.9688 - val_loss: 0.3167 - val_acc: 0.9583\n",
      "Epoch 254/500\n",
      "96/96 [==============================] - 0s - loss: 0.2576 - acc: 0.9688 - val_loss: 0.3160 - val_acc: 0.9583\n",
      "Epoch 255/500\n",
      "96/96 [==============================] - 0s - loss: 0.2568 - acc: 0.9688 - val_loss: 0.3154 - val_acc: 0.9583\n",
      "Epoch 256/500\n",
      "96/96 [==============================] - 0s - loss: 0.2563 - acc: 0.9688 - val_loss: 0.3148 - val_acc: 0.9583\n",
      "Epoch 257/500\n",
      "96/96 [==============================] - 0s - loss: 0.2558 - acc: 0.9688 - val_loss: 0.3142 - val_acc: 0.9583\n",
      "Epoch 258/500\n",
      "96/96 [==============================] - 0s - loss: 0.2556 - acc: 0.9688 - val_loss: 0.3135 - val_acc: 0.9583\n",
      "Epoch 259/500\n",
      "96/96 [==============================] - 0s - loss: 0.2548 - acc: 0.9688 - val_loss: 0.3130 - val_acc: 0.9583\n",
      "Epoch 260/500\n",
      "96/96 [==============================] - 0s - loss: 0.2542 - acc: 0.9688 - val_loss: 0.3124 - val_acc: 0.9583\n",
      "Epoch 261/500\n",
      "96/96 [==============================] - 0s - loss: 0.2539 - acc: 0.9688 - val_loss: 0.3117 - val_acc: 0.9583\n",
      "Epoch 262/500\n",
      "96/96 [==============================] - 0s - loss: 0.2532 - acc: 0.9688 - val_loss: 0.3111 - val_acc: 0.9583\n",
      "Epoch 263/500\n",
      "96/96 [==============================] - 0s - loss: 0.2529 - acc: 0.9688 - val_loss: 0.3104 - val_acc: 0.9583\n",
      "Epoch 264/500\n",
      "96/96 [==============================] - 0s - loss: 0.2522 - acc: 0.9688 - val_loss: 0.3098 - val_acc: 0.9583\n",
      "Epoch 265/500\n",
      "96/96 [==============================] - 0s - loss: 0.2517 - acc: 0.9688 - val_loss: 0.3092 - val_acc: 0.9583\n",
      "Epoch 266/500\n",
      "96/96 [==============================] - 0s - loss: 0.2513 - acc: 0.9688 - val_loss: 0.3086 - val_acc: 0.9583\n",
      "Epoch 267/500\n",
      "96/96 [==============================] - 0s - loss: 0.2508 - acc: 0.9688 - val_loss: 0.3080 - val_acc: 0.9583\n",
      "Epoch 268/500\n",
      "96/96 [==============================] - 0s - loss: 0.2502 - acc: 0.9688 - val_loss: 0.3074 - val_acc: 0.9583\n",
      "Epoch 269/500\n",
      "96/96 [==============================] - 0s - loss: 0.2499 - acc: 0.9688 - val_loss: 0.3069 - val_acc: 0.9583\n",
      "Epoch 270/500\n",
      "96/96 [==============================] - 0s - loss: 0.2493 - acc: 0.9688 - val_loss: 0.3063 - val_acc: 0.9583\n",
      "Epoch 271/500\n",
      "96/96 [==============================] - 0s - loss: 0.2488 - acc: 0.9688 - val_loss: 0.3057 - val_acc: 0.9583\n",
      "Epoch 272/500\n",
      "96/96 [==============================] - 0s - loss: 0.2483 - acc: 0.9688 - val_loss: 0.3050 - val_acc: 0.9583\n",
      "Epoch 273/500\n",
      "96/96 [==============================] - 0s - loss: 0.2478 - acc: 0.9688 - val_loss: 0.3044 - val_acc: 0.9583\n",
      "Epoch 274/500\n",
      "96/96 [==============================] - 0s - loss: 0.2475 - acc: 0.9688 - val_loss: 0.3037 - val_acc: 0.9583\n",
      "Epoch 275/500\n",
      "96/96 [==============================] - 0s - loss: 0.2468 - acc: 0.9688 - val_loss: 0.3030 - val_acc: 0.9583\n",
      "Epoch 276/500\n",
      "96/96 [==============================] - 0s - loss: 0.2464 - acc: 0.9688 - val_loss: 0.3024 - val_acc: 0.9583\n",
      "Epoch 277/500\n",
      "96/96 [==============================] - 0s - loss: 0.2458 - acc: 0.9688 - val_loss: 0.3018 - val_acc: 0.9583\n",
      "Epoch 278/500\n",
      "96/96 [==============================] - 0s - loss: 0.2454 - acc: 0.9688 - val_loss: 0.3012 - val_acc: 0.9583\n",
      "Epoch 279/500\n",
      "96/96 [==============================] - 0s - loss: 0.2450 - acc: 0.9688 - val_loss: 0.3006 - val_acc: 0.9583\n",
      "Epoch 280/500\n",
      "96/96 [==============================] - 0s - loss: 0.2445 - acc: 0.9688 - val_loss: 0.3001 - val_acc: 0.9583\n",
      "Epoch 281/500\n",
      "96/96 [==============================] - 0s - loss: 0.2439 - acc: 0.9688 - val_loss: 0.2995 - val_acc: 0.9583\n",
      "Epoch 282/500\n",
      "96/96 [==============================] - 0s - loss: 0.2435 - acc: 0.9688 - val_loss: 0.2989 - val_acc: 0.9583\n",
      "Epoch 283/500\n",
      "96/96 [==============================] - 0s - loss: 0.2430 - acc: 0.9688 - val_loss: 0.2983 - val_acc: 0.9583\n",
      "Epoch 284/500\n",
      "96/96 [==============================] - 0s - loss: 0.2425 - acc: 0.9688 - val_loss: 0.2977 - val_acc: 0.9583\n",
      "Epoch 285/500\n",
      "96/96 [==============================] - 0s - loss: 0.2421 - acc: 0.9688 - val_loss: 0.2971 - val_acc: 0.9583\n",
      "Epoch 286/500\n",
      "96/96 [==============================] - 0s - loss: 0.2415 - acc: 0.9688 - val_loss: 0.2965 - val_acc: 0.9583\n",
      "Epoch 287/500\n",
      "96/96 [==============================] - 0s - loss: 0.2411 - acc: 0.9688 - val_loss: 0.2959 - val_acc: 0.9583\n",
      "Epoch 288/500\n",
      "96/96 [==============================] - 0s - loss: 0.2408 - acc: 0.9688 - val_loss: 0.2954 - val_acc: 0.9583\n",
      "Epoch 289/500\n",
      "96/96 [==============================] - 0s - loss: 0.2402 - acc: 0.9688 - val_loss: 0.2947 - val_acc: 0.9583\n",
      "Epoch 290/500\n",
      "96/96 [==============================] - 0s - loss: 0.2397 - acc: 0.9688 - val_loss: 0.2941 - val_acc: 0.9583\n",
      "Epoch 291/500\n",
      "96/96 [==============================] - 0s - loss: 0.2392 - acc: 0.9688 - val_loss: 0.2935 - val_acc: 0.9583\n",
      "Epoch 292/500\n",
      "96/96 [==============================] - 0s - loss: 0.2390 - acc: 0.9688 - val_loss: 0.2929 - val_acc: 0.9583\n",
      "Epoch 293/500\n",
      "96/96 [==============================] - 0s - loss: 0.2382 - acc: 0.9688 - val_loss: 0.2923 - val_acc: 0.9583\n",
      "Epoch 294/500\n",
      "96/96 [==============================] - 0s - loss: 0.2378 - acc: 0.9688 - val_loss: 0.2917 - val_acc: 0.9583\n",
      "Epoch 295/500\n",
      "96/96 [==============================] - 0s - loss: 0.2373 - acc: 0.9688 - val_loss: 0.2911 - val_acc: 0.9583\n",
      "Epoch 296/500\n",
      "96/96 [==============================] - 0s - loss: 0.2369 - acc: 0.9688 - val_loss: 0.2906 - val_acc: 0.9583\n",
      "Epoch 297/500\n",
      "96/96 [==============================] - 0s - loss: 0.2364 - acc: 0.9688 - val_loss: 0.2900 - val_acc: 0.9583\n",
      "Epoch 298/500\n",
      "96/96 [==============================] - 0s - loss: 0.2360 - acc: 0.9688 - val_loss: 0.2895 - val_acc: 0.9583\n",
      "Epoch 299/500\n",
      "96/96 [==============================] - 0s - loss: 0.2358 - acc: 0.9688 - val_loss: 0.2889 - val_acc: 0.9583\n",
      "Epoch 300/500\n",
      "96/96 [==============================] - ETA: 0s - loss: 0.2240 - acc: 0.968 - 0s - loss: 0.2350 - acc: 0.9688 - val_loss: 0.2883 - val_acc: 0.9583\n",
      "Epoch 301/500\n",
      "96/96 [==============================] - 0s - loss: 0.2345 - acc: 0.9688 - val_loss: 0.2877 - val_acc: 0.9583\n",
      "Epoch 302/500\n",
      "96/96 [==============================] - 0s - loss: 0.2341 - acc: 0.9688 - val_loss: 0.2871 - val_acc: 0.9583\n",
      "Epoch 303/500\n",
      "96/96 [==============================] - 0s - loss: 0.2336 - acc: 0.9688 - val_loss: 0.2865 - val_acc: 0.9583\n",
      "Epoch 304/500\n",
      "96/96 [==============================] - 0s - loss: 0.2332 - acc: 0.9688 - val_loss: 0.2859 - val_acc: 0.9583\n",
      "Epoch 305/500\n",
      "96/96 [==============================] - 0s - loss: 0.2330 - acc: 0.9688 - val_loss: 0.2854 - val_acc: 0.9583\n",
      "Epoch 306/500\n",
      "96/96 [==============================] - 0s - loss: 0.2322 - acc: 0.9688 - val_loss: 0.2848 - val_acc: 0.9583\n",
      "Epoch 307/500\n",
      "96/96 [==============================] - 0s - loss: 0.2319 - acc: 0.9688 - val_loss: 0.2842 - val_acc: 0.9583\n",
      "Epoch 308/500\n",
      "96/96 [==============================] - 0s - loss: 0.2315 - acc: 0.9688 - val_loss: 0.2836 - val_acc: 0.9583\n",
      "Epoch 309/500\n",
      "96/96 [==============================] - 0s - loss: 0.2309 - acc: 0.9688 - val_loss: 0.2831 - val_acc: 0.9583\n",
      "Epoch 310/500\n",
      "96/96 [==============================] - 0s - loss: 0.2306 - acc: 0.9688 - val_loss: 0.2825 - val_acc: 0.9583\n",
      "Epoch 311/500\n",
      "96/96 [==============================] - 0s - loss: 0.2299 - acc: 0.9688 - val_loss: 0.2820 - val_acc: 0.9583\n",
      "Epoch 312/500\n",
      "96/96 [==============================] - 0s - loss: 0.2295 - acc: 0.9688 - val_loss: 0.2814 - val_acc: 0.9583\n",
      "Epoch 313/500\n",
      "96/96 [==============================] - 0s - loss: 0.2291 - acc: 0.9688 - val_loss: 0.2809 - val_acc: 0.9583\n",
      "Epoch 314/500\n",
      "96/96 [==============================] - 0s - loss: 0.2287 - acc: 0.9688 - val_loss: 0.2803 - val_acc: 0.9583\n",
      "Epoch 315/500\n",
      "96/96 [==============================] - 0s - loss: 0.2282 - acc: 0.9688 - val_loss: 0.2797 - val_acc: 0.9583\n",
      "Epoch 316/500\n",
      "96/96 [==============================] - 0s - loss: 0.2279 - acc: 0.9688 - val_loss: 0.2791 - val_acc: 0.9583\n",
      "Epoch 317/500\n",
      "96/96 [==============================] - 0s - loss: 0.2275 - acc: 0.9688 - val_loss: 0.2786 - val_acc: 0.9583\n",
      "Epoch 318/500\n",
      "96/96 [==============================] - 0s - loss: 0.2271 - acc: 0.9688 - val_loss: 0.2781 - val_acc: 0.9583\n",
      "Epoch 319/500\n",
      "96/96 [==============================] - 0s - loss: 0.2264 - acc: 0.9688 - val_loss: 0.2775 - val_acc: 0.9583\n",
      "Epoch 320/500\n",
      "96/96 [==============================] - 0s - loss: 0.2259 - acc: 0.9688 - val_loss: 0.2770 - val_acc: 0.9583\n",
      "Epoch 321/500\n",
      "96/96 [==============================] - 0s - loss: 0.2257 - acc: 0.9688 - val_loss: 0.2764 - val_acc: 0.9583\n",
      "Epoch 322/500\n",
      "96/96 [==============================] - 0s - loss: 0.2251 - acc: 0.9688 - val_loss: 0.2758 - val_acc: 0.9583\n",
      "Epoch 323/500\n",
      "96/96 [==============================] - 0s - loss: 0.2248 - acc: 0.9688 - val_loss: 0.2753 - val_acc: 0.9583\n",
      "Epoch 324/500\n",
      "96/96 [==============================] - 0s - loss: 0.2242 - acc: 0.9688 - val_loss: 0.2748 - val_acc: 0.9583\n",
      "Epoch 325/500\n",
      "96/96 [==============================] - 0s - loss: 0.2238 - acc: 0.9688 - val_loss: 0.2742 - val_acc: 0.9583\n",
      "Epoch 326/500\n",
      "96/96 [==============================] - 0s - loss: 0.2234 - acc: 0.9688 - val_loss: 0.2736 - val_acc: 0.9583\n",
      "Epoch 327/500\n"
     ]
    },
    {
     "name": "stdout",
     "output_type": "stream",
     "text": [
      "96/96 [==============================] - 0s - loss: 0.2230 - acc: 0.9688 - val_loss: 0.2731 - val_acc: 0.9583\n",
      "Epoch 328/500\n",
      "96/96 [==============================] - 0s - loss: 0.2224 - acc: 0.9688 - val_loss: 0.2726 - val_acc: 0.9583\n",
      "Epoch 329/500\n",
      "96/96 [==============================] - 0s - loss: 0.2221 - acc: 0.9688 - val_loss: 0.2720 - val_acc: 0.9583\n",
      "Epoch 330/500\n",
      "96/96 [==============================] - 0s - loss: 0.2218 - acc: 0.9688 - val_loss: 0.2715 - val_acc: 0.9583\n",
      "Epoch 331/500\n",
      "96/96 [==============================] - 0s - loss: 0.2212 - acc: 0.9688 - val_loss: 0.2709 - val_acc: 0.9583\n",
      "Epoch 332/500\n",
      "96/96 [==============================] - 0s - loss: 0.2208 - acc: 0.9688 - val_loss: 0.2704 - val_acc: 0.9583\n",
      "Epoch 333/500\n",
      "96/96 [==============================] - 0s - loss: 0.2204 - acc: 0.9688 - val_loss: 0.2699 - val_acc: 0.9583\n",
      "Epoch 334/500\n",
      "96/96 [==============================] - 0s - loss: 0.2199 - acc: 0.9688 - val_loss: 0.2693 - val_acc: 0.9583\n",
      "Epoch 335/500\n",
      "96/96 [==============================] - 0s - loss: 0.2194 - acc: 0.9688 - val_loss: 0.2688 - val_acc: 0.9583\n",
      "Epoch 336/500\n",
      "96/96 [==============================] - 0s - loss: 0.2192 - acc: 0.9688 - val_loss: 0.2683 - val_acc: 0.9583\n",
      "Epoch 337/500\n",
      "96/96 [==============================] - 0s - loss: 0.2186 - acc: 0.9688 - val_loss: 0.2678 - val_acc: 0.9583\n",
      "Epoch 338/500\n",
      "96/96 [==============================] - 0s - loss: 0.2182 - acc: 0.9688 - val_loss: 0.2672 - val_acc: 0.9583\n",
      "Epoch 339/500\n",
      "96/96 [==============================] - 0s - loss: 0.2178 - acc: 0.9688 - val_loss: 0.2667 - val_acc: 0.9583\n",
      "Epoch 340/500\n",
      "96/96 [==============================] - 0s - loss: 0.2173 - acc: 0.9688 - val_loss: 0.2662 - val_acc: 0.9583\n",
      "Epoch 341/500\n",
      "96/96 [==============================] - 0s - loss: 0.2169 - acc: 0.9688 - val_loss: 0.2656 - val_acc: 0.9583\n",
      "Epoch 342/500\n",
      "96/96 [==============================] - ETA: 0s - loss: 0.2213 - acc: 0.968 - 0s - loss: 0.2165 - acc: 0.9688 - val_loss: 0.2651 - val_acc: 0.9583\n",
      "Epoch 343/500\n",
      "96/96 [==============================] - 0s - loss: 0.2162 - acc: 0.9688 - val_loss: 0.2646 - val_acc: 0.9583\n",
      "Epoch 344/500\n",
      "96/96 [==============================] - 0s - loss: 0.2158 - acc: 0.9688 - val_loss: 0.2641 - val_acc: 0.9583\n",
      "Epoch 345/500\n",
      "96/96 [==============================] - 0s - loss: 0.2153 - acc: 0.9688 - val_loss: 0.2636 - val_acc: 0.9583\n",
      "Epoch 346/500\n",
      "96/96 [==============================] - 0s - loss: 0.2150 - acc: 0.9688 - val_loss: 0.2631 - val_acc: 0.9583\n",
      "Epoch 347/500\n",
      "96/96 [==============================] - 0s - loss: 0.2144 - acc: 0.9688 - val_loss: 0.2625 - val_acc: 0.9583\n",
      "Epoch 348/500\n",
      "96/96 [==============================] - 0s - loss: 0.2141 - acc: 0.9688 - val_loss: 0.2620 - val_acc: 0.9583\n",
      "Epoch 349/500\n",
      "96/96 [==============================] - 0s - loss: 0.2137 - acc: 0.9688 - val_loss: 0.2614 - val_acc: 0.9583\n",
      "Epoch 350/500\n",
      "96/96 [==============================] - 0s - loss: 0.2132 - acc: 0.9688 - val_loss: 0.2609 - val_acc: 0.9583\n",
      "Epoch 351/500\n",
      "96/96 [==============================] - 0s - loss: 0.2128 - acc: 0.9688 - val_loss: 0.2604 - val_acc: 0.9583\n",
      "Epoch 352/500\n",
      "96/96 [==============================] - 0s - loss: 0.2124 - acc: 0.9688 - val_loss: 0.2599 - val_acc: 0.9583\n",
      "Epoch 353/500\n",
      "96/96 [==============================] - 0s - loss: 0.2121 - acc: 0.9688 - val_loss: 0.2594 - val_acc: 0.9583\n",
      "Epoch 354/500\n",
      "96/96 [==============================] - 0s - loss: 0.2116 - acc: 0.9688 - val_loss: 0.2589 - val_acc: 0.9583\n",
      "Epoch 355/500\n",
      "96/96 [==============================] - 0s - loss: 0.2113 - acc: 0.9688 - val_loss: 0.2585 - val_acc: 0.9583\n",
      "Epoch 356/500\n",
      "96/96 [==============================] - 0s - loss: 0.2108 - acc: 0.9688 - val_loss: 0.2579 - val_acc: 0.9583\n",
      "Epoch 357/500\n",
      "96/96 [==============================] - 0s - loss: 0.2103 - acc: 0.9688 - val_loss: 0.2574 - val_acc: 0.9583\n",
      "Epoch 358/500\n",
      "96/96 [==============================] - 0s - loss: 0.2099 - acc: 0.9688 - val_loss: 0.2569 - val_acc: 0.9583\n",
      "Epoch 359/500\n",
      "96/96 [==============================] - 0s - loss: 0.2095 - acc: 0.9688 - val_loss: 0.2563 - val_acc: 0.9583\n",
      "Epoch 360/500\n",
      "96/96 [==============================] - 0s - loss: 0.2092 - acc: 0.9688 - val_loss: 0.2558 - val_acc: 0.9583\n",
      "Epoch 361/500\n",
      "96/96 [==============================] - 0s - loss: 0.2092 - acc: 0.9688 - val_loss: 0.2554 - val_acc: 0.9583\n",
      "Epoch 362/500\n",
      "96/96 [==============================] - 0s - loss: 0.2085 - acc: 0.9688 - val_loss: 0.2548 - val_acc: 0.9583\n",
      "Epoch 363/500\n",
      "96/96 [==============================] - 0s - loss: 0.2080 - acc: 0.9688 - val_loss: 0.2543 - val_acc: 0.9583\n",
      "Epoch 364/500\n",
      "96/96 [==============================] - 0s - loss: 0.2076 - acc: 0.9688 - val_loss: 0.2537 - val_acc: 0.9583\n",
      "Epoch 365/500\n",
      "96/96 [==============================] - 0s - loss: 0.2074 - acc: 0.9688 - val_loss: 0.2532 - val_acc: 0.9583\n",
      "Epoch 366/500\n",
      "96/96 [==============================] - 0s - loss: 0.2068 - acc: 0.9688 - val_loss: 0.2528 - val_acc: 0.9583\n",
      "Epoch 367/500\n",
      "96/96 [==============================] - 0s - loss: 0.2064 - acc: 0.9688 - val_loss: 0.2523 - val_acc: 0.9583\n",
      "Epoch 368/500\n",
      "96/96 [==============================] - 0s - loss: 0.2059 - acc: 0.9688 - val_loss: 0.2518 - val_acc: 0.9583\n",
      "Epoch 369/500\n",
      "96/96 [==============================] - 0s - loss: 0.2060 - acc: 0.9688 - val_loss: 0.2515 - val_acc: 0.9583\n",
      "Epoch 370/500\n",
      "96/96 [==============================] - 0s - loss: 0.2053 - acc: 0.9688 - val_loss: 0.2510 - val_acc: 0.9583\n",
      "Epoch 371/500\n",
      "96/96 [==============================] - 0s - loss: 0.2051 - acc: 0.9688 - val_loss: 0.2506 - val_acc: 0.9583\n",
      "Epoch 372/500\n",
      "96/96 [==============================] - 0s - loss: 0.2045 - acc: 0.9688 - val_loss: 0.2501 - val_acc: 0.9583\n",
      "Epoch 373/500\n",
      "96/96 [==============================] - 0s - loss: 0.2040 - acc: 0.9688 - val_loss: 0.2495 - val_acc: 0.9583\n",
      "Epoch 374/500\n",
      "96/96 [==============================] - 0s - loss: 0.2036 - acc: 0.9688 - val_loss: 0.2490 - val_acc: 0.9583\n",
      "Epoch 375/500\n",
      "96/96 [==============================] - 0s - loss: 0.2033 - acc: 0.9688 - val_loss: 0.2485 - val_acc: 0.9583\n",
      "Epoch 376/500\n",
      "96/96 [==============================] - 0s - loss: 0.2028 - acc: 0.9688 - val_loss: 0.2479 - val_acc: 0.9583\n",
      "Epoch 377/500\n",
      "96/96 [==============================] - 0s - loss: 0.2025 - acc: 0.9688 - val_loss: 0.2474 - val_acc: 0.9583\n",
      "Epoch 378/500\n",
      "96/96 [==============================] - 0s - loss: 0.2023 - acc: 0.9688 - val_loss: 0.2468 - val_acc: 0.9583\n",
      "Epoch 379/500\n",
      "96/96 [==============================] - 0s - loss: 0.2018 - acc: 0.9688 - val_loss: 0.2463 - val_acc: 0.9583\n",
      "Epoch 380/500\n",
      "96/96 [==============================] - 0s - loss: 0.2014 - acc: 0.9688 - val_loss: 0.2460 - val_acc: 0.9583\n",
      "Epoch 381/500\n",
      "96/96 [==============================] - 0s - loss: 0.2009 - acc: 0.9688 - val_loss: 0.2455 - val_acc: 0.9583\n",
      "Epoch 382/500\n",
      "96/96 [==============================] - 0s - loss: 0.2006 - acc: 0.9688 - val_loss: 0.2451 - val_acc: 0.9583\n",
      "Epoch 383/500\n",
      "96/96 [==============================] - 0s - loss: 0.2004 - acc: 0.9688 - val_loss: 0.2448 - val_acc: 0.9583\n",
      "Epoch 384/500\n",
      "96/96 [==============================] - 0s - loss: 0.2000 - acc: 0.9688 - val_loss: 0.2445 - val_acc: 0.9583\n",
      "Epoch 385/500\n",
      "96/96 [==============================] - 0s - loss: 0.1995 - acc: 0.9688 - val_loss: 0.2439 - val_acc: 0.9583\n",
      "Epoch 386/500\n",
      "96/96 [==============================] - 0s - loss: 0.1993 - acc: 0.9688 - val_loss: 0.2432 - val_acc: 0.9583\n",
      "Epoch 387/500\n",
      "96/96 [==============================] - 0s - loss: 0.1988 - acc: 0.9688 - val_loss: 0.2428 - val_acc: 0.9583\n",
      "Epoch 388/500\n",
      "96/96 [==============================] - 0s - loss: 0.1984 - acc: 0.9688 - val_loss: 0.2422 - val_acc: 0.9583\n",
      "Epoch 389/500\n",
      "96/96 [==============================] - 0s - loss: 0.1982 - acc: 0.9688 - val_loss: 0.2418 - val_acc: 0.9583\n",
      "Epoch 390/500\n",
      "96/96 [==============================] - 0s - loss: 0.1977 - acc: 0.9688 - val_loss: 0.2414 - val_acc: 0.9583\n",
      "Epoch 391/500\n",
      "96/96 [==============================] - 0s - loss: 0.1973 - acc: 0.9688 - val_loss: 0.2409 - val_acc: 0.9583\n",
      "Epoch 392/500\n",
      "96/96 [==============================] - 0s - loss: 0.1968 - acc: 0.9688 - val_loss: 0.2404 - val_acc: 0.9583\n",
      "Epoch 393/500\n",
      "96/96 [==============================] - 0s - loss: 0.1965 - acc: 0.9688 - val_loss: 0.2399 - val_acc: 0.9583\n",
      "Epoch 394/500\n",
      "96/96 [==============================] - 0s - loss: 0.1962 - acc: 0.9688 - val_loss: 0.2395 - val_acc: 0.9583\n",
      "Epoch 395/500\n",
      "96/96 [==============================] - 0s - loss: 0.1964 - acc: 0.9688 - val_loss: 0.2388 - val_acc: 0.9583\n",
      "Epoch 396/500\n",
      "96/96 [==============================] - 0s - loss: 0.1955 - acc: 0.9688 - val_loss: 0.2385 - val_acc: 0.9583\n",
      "Epoch 397/500\n",
      "96/96 [==============================] - 0s - loss: 0.1951 - acc: 0.9688 - val_loss: 0.2380 - val_acc: 0.9583\n",
      "Epoch 398/500\n",
      "96/96 [==============================] - ETA: 0s - loss: 0.1656 - acc: 1.000 - 0s - loss: 0.1947 - acc: 0.9688 - val_loss: 0.2376 - val_acc: 0.9583\n",
      "Epoch 399/500\n",
      "96/96 [==============================] - 0s - loss: 0.1943 - acc: 0.9688 - val_loss: 0.2372 - val_acc: 0.9583\n",
      "Epoch 400/500\n",
      "96/96 [==============================] - 0s - loss: 0.1940 - acc: 0.9688 - val_loss: 0.2368 - val_acc: 0.9583\n",
      "Epoch 401/500\n",
      "96/96 [==============================] - 0s - loss: 0.1937 - acc: 0.9688 - val_loss: 0.2363 - val_acc: 0.9583\n",
      "Epoch 402/500\n",
      "96/96 [==============================] - 0s - loss: 0.1933 - acc: 0.9688 - val_loss: 0.2359 - val_acc: 1.0000\n",
      "Epoch 403/500\n",
      "96/96 [==============================] - 0s - loss: 0.1932 - acc: 0.9688 - val_loss: 0.2353 - val_acc: 0.9583\n",
      "Epoch 404/500\n",
      "96/96 [==============================] - 0s - loss: 0.1925 - acc: 0.9688 - val_loss: 0.2350 - val_acc: 0.9583\n",
      "Epoch 405/500\n",
      "96/96 [==============================] - 0s - loss: 0.1924 - acc: 0.9688 - val_loss: 0.2344 - val_acc: 0.9583\n",
      "Epoch 406/500\n",
      "96/96 [==============================] - 0s - loss: 0.1922 - acc: 0.9688 - val_loss: 0.2342 - val_acc: 1.0000\n",
      "Epoch 407/500\n",
      "96/96 [==============================] - 0s - loss: 0.1916 - acc: 0.9688 - val_loss: 0.2338 - val_acc: 1.0000\n",
      "Epoch 408/500\n",
      "96/96 [==============================] - 0s - loss: 0.1912 - acc: 0.9688 - val_loss: 0.2334 - val_acc: 1.0000\n",
      "Epoch 409/500\n",
      "96/96 [==============================] - 0s - loss: 0.1908 - acc: 0.9688 - val_loss: 0.2329 - val_acc: 1.0000\n",
      "Epoch 410/500\n",
      "96/96 [==============================] - 0s - loss: 0.1905 - acc: 0.9688 - val_loss: 0.2325 - val_acc: 1.0000\n",
      "Epoch 411/500\n",
      "96/96 [==============================] - 0s - loss: 0.1901 - acc: 0.9688 - val_loss: 0.2319 - val_acc: 1.0000\n",
      "Epoch 412/500\n",
      "96/96 [==============================] - 0s - loss: 0.1897 - acc: 0.9688 - val_loss: 0.2315 - val_acc: 1.0000\n",
      "Epoch 413/500\n",
      "96/96 [==============================] - 0s - loss: 0.1893 - acc: 0.9688 - val_loss: 0.2311 - val_acc: 1.0000\n",
      "Epoch 414/500\n",
      "96/96 [==============================] - 0s - loss: 0.1890 - acc: 0.9688 - val_loss: 0.2306 - val_acc: 1.0000\n",
      "Epoch 415/500\n",
      "96/96 [==============================] - 0s - loss: 0.1887 - acc: 0.9688 - val_loss: 0.2301 - val_acc: 1.0000\n",
      "Epoch 416/500\n",
      "96/96 [==============================] - 0s - loss: 0.1886 - acc: 0.9688 - val_loss: 0.2298 - val_acc: 1.0000\n",
      "Epoch 417/500\n",
      "96/96 [==============================] - 0s - loss: 0.1880 - acc: 0.9688 - val_loss: 0.2293 - val_acc: 1.0000\n",
      "Epoch 418/500\n",
      "96/96 [==============================] - 0s - loss: 0.1877 - acc: 0.9688 - val_loss: 0.2288 - val_acc: 1.0000\n",
      "Epoch 419/500\n",
      "96/96 [==============================] - 0s - loss: 0.1873 - acc: 0.9688 - val_loss: 0.2284 - val_acc: 1.0000\n",
      "Epoch 420/500\n",
      "96/96 [==============================] - 0s - loss: 0.1870 - acc: 0.9688 - val_loss: 0.2279 - val_acc: 1.0000\n",
      "Epoch 421/500\n",
      "96/96 [==============================] - 0s - loss: 0.1867 - acc: 0.9688 - val_loss: 0.2274 - val_acc: 1.0000\n",
      "Epoch 422/500\n",
      "96/96 [==============================] - 0s - loss: 0.1863 - acc: 0.9688 - val_loss: 0.2270 - val_acc: 1.0000\n",
      "Epoch 423/500\n",
      "96/96 [==============================] - ETA: 0s - loss: 0.1632 - acc: 0.968 - 0s - loss: 0.1860 - acc: 0.9688 - val_loss: 0.2265 - val_acc: 1.0000\n",
      "Epoch 424/500\n",
      "96/96 [==============================] - 0s - loss: 0.1857 - acc: 0.9688 - val_loss: 0.2261 - val_acc: 1.0000\n",
      "Epoch 425/500\n",
      "96/96 [==============================] - 0s - loss: 0.1853 - acc: 0.9688 - val_loss: 0.2258 - val_acc: 1.0000\n",
      "Epoch 426/500\n",
      "96/96 [==============================] - 0s - loss: 0.1851 - acc: 0.9688 - val_loss: 0.2256 - val_acc: 1.0000\n",
      "Epoch 427/500\n",
      "96/96 [==============================] - 0s - loss: 0.1853 - acc: 0.9688 - val_loss: 0.2249 - val_acc: 1.0000\n",
      "Epoch 428/500\n",
      "96/96 [==============================] - 0s - loss: 0.1843 - acc: 0.9688 - val_loss: 0.2247 - val_acc: 1.0000\n",
      "Epoch 429/500\n",
      "96/96 [==============================] - 0s - loss: 0.1846 - acc: 0.9688 - val_loss: 0.2247 - val_acc: 1.0000\n",
      "Epoch 430/500\n",
      "96/96 [==============================] - 0s - loss: 0.1837 - acc: 0.9688 - val_loss: 0.2243 - val_acc: 1.0000\n",
      "Epoch 431/500\n",
      "96/96 [==============================] - 0s - loss: 0.1833 - acc: 0.9688 - val_loss: 0.2238 - val_acc: 1.0000\n",
      "Epoch 432/500\n",
      "96/96 [==============================] - 0s - loss: 0.1830 - acc: 0.9688 - val_loss: 0.2232 - val_acc: 1.0000\n",
      "Epoch 433/500\n",
      "96/96 [==============================] - 0s - loss: 0.1826 - acc: 0.9688 - val_loss: 0.2227 - val_acc: 1.0000\n",
      "Epoch 434/500\n",
      "96/96 [==============================] - 0s - loss: 0.1824 - acc: 0.9688 - val_loss: 0.2223 - val_acc: 1.0000\n",
      "Epoch 435/500\n",
      "96/96 [==============================] - 0s - loss: 0.1822 - acc: 0.9688 - val_loss: 0.2216 - val_acc: 1.0000\n",
      "Epoch 436/500\n",
      "96/96 [==============================] - 0s - loss: 0.1817 - acc: 0.9688 - val_loss: 0.2213 - val_acc: 1.0000\n",
      "Epoch 437/500\n",
      "96/96 [==============================] - 0s - loss: 0.1815 - acc: 0.9688 - val_loss: 0.2207 - val_acc: 1.0000\n",
      "Epoch 438/500\n",
      "96/96 [==============================] - 0s - loss: 0.1811 - acc: 0.9688 - val_loss: 0.2202 - val_acc: 1.0000\n",
      "Epoch 439/500\n",
      "96/96 [==============================] - 0s - loss: 0.1807 - acc: 0.9688 - val_loss: 0.2199 - val_acc: 1.0000\n",
      "Epoch 440/500\n",
      "96/96 [==============================] - 0s - loss: 0.1804 - acc: 0.9688 - val_loss: 0.2195 - val_acc: 1.0000\n",
      "Epoch 441/500\n",
      "96/96 [==============================] - 0s - loss: 0.1801 - acc: 0.9688 - val_loss: 0.2193 - val_acc: 1.0000\n",
      "Epoch 442/500\n",
      "96/96 [==============================] - 0s - loss: 0.1797 - acc: 0.9688 - val_loss: 0.2189 - val_acc: 1.0000\n",
      "Epoch 443/500\n",
      "96/96 [==============================] - 0s - loss: 0.1795 - acc: 0.9688 - val_loss: 0.2187 - val_acc: 1.0000\n",
      "Epoch 444/500\n",
      "96/96 [==============================] - 0s - loss: 0.1793 - acc: 0.9688 - val_loss: 0.2182 - val_acc: 1.0000\n",
      "Epoch 445/500\n",
      "96/96 [==============================] - 0s - loss: 0.1788 - acc: 0.9688 - val_loss: 0.2179 - val_acc: 1.0000\n",
      "Epoch 446/500\n",
      "96/96 [==============================] - 0s - loss: 0.1785 - acc: 0.9688 - val_loss: 0.2176 - val_acc: 1.0000\n",
      "Epoch 447/500\n",
      "96/96 [==============================] - 0s - loss: 0.1782 - acc: 0.9688 - val_loss: 0.2172 - val_acc: 1.0000\n",
      "Epoch 448/500\n",
      "96/96 [==============================] - ETA: 0s - loss: 0.1330 - acc: 1.000 - 0s - loss: 0.1780 - acc: 0.9688 - val_loss: 0.2168 - val_acc: 1.0000\n",
      "Epoch 449/500\n",
      "96/96 [==============================] - 0s - loss: 0.1782 - acc: 0.9688 - val_loss: 0.2160 - val_acc: 1.0000\n",
      "Epoch 450/500\n",
      "96/96 [==============================] - 0s - loss: 0.1772 - acc: 0.9688 - val_loss: 0.2156 - val_acc: 1.0000\n",
      "Epoch 451/500\n",
      "96/96 [==============================] - 0s - loss: 0.1770 - acc: 0.9688 - val_loss: 0.2154 - val_acc: 1.0000\n",
      "Epoch 452/500\n",
      "96/96 [==============================] - 0s - loss: 0.1767 - acc: 0.9688 - val_loss: 0.2151 - val_acc: 1.0000\n",
      "Epoch 453/500\n",
      "96/96 [==============================] - 0s - loss: 0.1765 - acc: 0.9688 - val_loss: 0.2145 - val_acc: 1.0000\n",
      "Epoch 454/500\n",
      "96/96 [==============================] - 0s - loss: 0.1761 - acc: 0.9688 - val_loss: 0.2143 - val_acc: 1.0000\n",
      "Epoch 455/500\n",
      "96/96 [==============================] - 0s - loss: 0.1757 - acc: 0.9688 - val_loss: 0.2139 - val_acc: 1.0000\n",
      "Epoch 456/500\n",
      "96/96 [==============================] - 0s - loss: 0.1755 - acc: 0.9688 - val_loss: 0.2133 - val_acc: 1.0000\n",
      "Epoch 457/500\n"
     ]
    },
    {
     "name": "stdout",
     "output_type": "stream",
     "text": [
      "96/96 [==============================] - 0s - loss: 0.1752 - acc: 0.9688 - val_loss: 0.2131 - val_acc: 1.0000\n",
      "Epoch 458/500\n",
      "96/96 [==============================] - 0s - loss: 0.1748 - acc: 0.9688 - val_loss: 0.2126 - val_acc: 1.0000\n",
      "Epoch 459/500\n",
      "96/96 [==============================] - 0s - loss: 0.1745 - acc: 0.9688 - val_loss: 0.2122 - val_acc: 1.0000\n",
      "Epoch 460/500\n",
      "96/96 [==============================] - 0s - loss: 0.1742 - acc: 0.9688 - val_loss: 0.2118 - val_acc: 1.0000\n",
      "Epoch 461/500\n",
      "96/96 [==============================] - 0s - loss: 0.1739 - acc: 0.9688 - val_loss: 0.2115 - val_acc: 1.0000\n",
      "Epoch 462/500\n",
      "96/96 [==============================] - 0s - loss: 0.1737 - acc: 0.9688 - val_loss: 0.2109 - val_acc: 1.0000\n",
      "Epoch 463/500\n",
      "96/96 [==============================] - 0s - loss: 0.1733 - acc: 0.9688 - val_loss: 0.2107 - val_acc: 1.0000\n",
      "Epoch 464/500\n",
      "96/96 [==============================] - 0s - loss: 0.1730 - acc: 0.9688 - val_loss: 0.2106 - val_acc: 1.0000\n",
      "Epoch 465/500\n",
      "96/96 [==============================] - 0s - loss: 0.1727 - acc: 0.9688 - val_loss: 0.2101 - val_acc: 1.0000\n",
      "Epoch 466/500\n",
      "96/96 [==============================] - ETA: 0s - loss: 0.2553 - acc: 0.906 - 0s - loss: 0.1726 - acc: 0.9688 - val_loss: 0.2101 - val_acc: 1.0000\n",
      "Epoch 467/500\n",
      "96/96 [==============================] - 0s - loss: 0.1721 - acc: 0.9688 - val_loss: 0.2096 - val_acc: 1.0000\n",
      "Epoch 468/500\n",
      "96/96 [==============================] - 0s - loss: 0.1718 - acc: 0.9688 - val_loss: 0.2092 - val_acc: 1.0000\n",
      "Epoch 469/500\n",
      "96/96 [==============================] - 0s - loss: 0.1715 - acc: 0.9688 - val_loss: 0.2088 - val_acc: 1.0000\n",
      "Epoch 470/500\n",
      "96/96 [==============================] - 0s - loss: 0.1712 - acc: 0.9688 - val_loss: 0.2082 - val_acc: 1.0000\n",
      "Epoch 471/500\n",
      "96/96 [==============================] - 0s - loss: 0.1709 - acc: 0.9688 - val_loss: 0.2077 - val_acc: 1.0000\n",
      "Epoch 472/500\n",
      "96/96 [==============================] - 0s - loss: 0.1706 - acc: 0.9688 - val_loss: 0.2073 - val_acc: 1.0000\n",
      "Epoch 473/500\n",
      "96/96 [==============================] - 0s - loss: 0.1703 - acc: 0.9688 - val_loss: 0.2068 - val_acc: 1.0000\n",
      "Epoch 474/500\n",
      "96/96 [==============================] - 0s - loss: 0.1700 - acc: 0.9688 - val_loss: 0.2066 - val_acc: 1.0000\n",
      "Epoch 475/500\n",
      "96/96 [==============================] - 0s - loss: 0.1697 - acc: 0.9688 - val_loss: 0.2063 - val_acc: 1.0000\n",
      "Epoch 476/500\n",
      "96/96 [==============================] - 0s - loss: 0.1695 - acc: 0.9688 - val_loss: 0.2058 - val_acc: 1.0000\n",
      "Epoch 477/500\n",
      "96/96 [==============================] - 0s - loss: 0.1692 - acc: 0.9688 - val_loss: 0.2056 - val_acc: 1.0000\n",
      "Epoch 478/500\n",
      "96/96 [==============================] - 0s - loss: 0.1690 - acc: 0.9688 - val_loss: 0.2051 - val_acc: 1.0000\n",
      "Epoch 479/500\n",
      "96/96 [==============================] - 0s - loss: 0.1686 - acc: 0.9688 - val_loss: 0.2048 - val_acc: 1.0000\n",
      "Epoch 480/500\n",
      "96/96 [==============================] - 0s - loss: 0.1684 - acc: 0.9688 - val_loss: 0.2046 - val_acc: 1.0000\n",
      "Epoch 481/500\n",
      "96/96 [==============================] - 0s - loss: 0.1681 - acc: 0.9688 - val_loss: 0.2042 - val_acc: 1.0000\n",
      "Epoch 482/500\n",
      "96/96 [==============================] - 0s - loss: 0.1678 - acc: 0.9688 - val_loss: 0.2041 - val_acc: 1.0000\n",
      "Epoch 483/500\n",
      "96/96 [==============================] - 0s - loss: 0.1674 - acc: 0.9688 - val_loss: 0.2037 - val_acc: 1.0000\n",
      "Epoch 484/500\n",
      "96/96 [==============================] - 0s - loss: 0.1671 - acc: 0.9688 - val_loss: 0.2033 - val_acc: 1.0000\n",
      "Epoch 485/500\n",
      "96/96 [==============================] - 0s - loss: 0.1669 - acc: 0.9688 - val_loss: 0.2029 - val_acc: 1.0000\n",
      "Epoch 486/500\n",
      "96/96 [==============================] - 0s - loss: 0.1668 - acc: 0.9688 - val_loss: 0.2027 - val_acc: 1.0000\n",
      "Epoch 487/500\n",
      "96/96 [==============================] - 0s - loss: 0.1665 - acc: 0.9688 - val_loss: 0.2020 - val_acc: 1.0000\n",
      "Epoch 488/500\n",
      "96/96 [==============================] - 0s - loss: 0.1660 - acc: 0.9688 - val_loss: 0.2017 - val_acc: 1.0000\n",
      "Epoch 489/500\n",
      "96/96 [==============================] - 0s - loss: 0.1658 - acc: 0.9688 - val_loss: 0.2015 - val_acc: 1.0000\n",
      "Epoch 490/500\n",
      "96/96 [==============================] - 0s - loss: 0.1655 - acc: 0.9688 - val_loss: 0.2011 - val_acc: 1.0000\n",
      "Epoch 491/500\n",
      "96/96 [==============================] - 0s - loss: 0.1652 - acc: 0.9688 - val_loss: 0.2008 - val_acc: 1.0000\n",
      "Epoch 492/500\n",
      "96/96 [==============================] - 0s - loss: 0.1650 - acc: 0.9688 - val_loss: 0.2006 - val_acc: 1.0000\n",
      "Epoch 493/500\n",
      "96/96 [==============================] - 0s - loss: 0.1646 - acc: 0.9688 - val_loss: 0.2002 - val_acc: 1.0000\n",
      "Epoch 494/500\n",
      "96/96 [==============================] - 0s - loss: 0.1644 - acc: 0.9688 - val_loss: 0.1997 - val_acc: 1.0000\n",
      "Epoch 495/500\n",
      "96/96 [==============================] - 0s - loss: 0.1643 - acc: 0.9688 - val_loss: 0.1991 - val_acc: 1.0000\n",
      "Epoch 496/500\n",
      "96/96 [==============================] - 0s - loss: 0.1639 - acc: 0.9688 - val_loss: 0.1985 - val_acc: 1.0000\n",
      "Epoch 497/500\n",
      "96/96 [==============================] - 0s - loss: 0.1637 - acc: 0.9688 - val_loss: 0.1980 - val_acc: 1.0000\n",
      "Epoch 498/500\n",
      "96/96 [==============================] - 0s - loss: 0.1633 - acc: 0.9688 - val_loss: 0.1978 - val_acc: 1.0000\n",
      "Epoch 499/500\n",
      "96/96 [==============================] - 0s - loss: 0.1632 - acc: 0.9688 - val_loss: 0.1980 - val_acc: 1.0000\n",
      "Epoch 500/500\n",
      "96/96 [==============================] - 0s - loss: 0.1629 - acc: 0.9688 - val_loss: 0.1980 - val_acc: 1.0000\n",
      "CPU times: user 8.03 s, sys: 4.75 s, total: 12.8 s\n",
      "Wall time: 11.5 s\n"
     ]
    },
    {
     "data": {
      "text/plain": [
       "<keras.callbacks.History at 0x7fc05cf01550>"
      ]
     },
     "execution_count": 36,
     "metadata": {},
     "output_type": "execute_result"
    }
   ],
   "source": [
    "%time model.fit(X_train, y_train, epochs=500, validation_split=0.2, callbacks=[tb_callback])\n",
    "# %time model.fit(X_train, y_train, epochs=500, validation_split=0.2)"
   ]
  },
  {
   "cell_type": "markdown",
   "metadata": {},
   "source": [
    "# Evaluation"
   ]
  },
  {
   "cell_type": "code",
   "execution_count": 32,
   "metadata": {},
   "outputs": [
    {
     "data": {
      "text/plain": [
       "array([[ 0.93480259,  0.06045231,  0.00474514]], dtype=float32)"
      ]
     },
     "execution_count": 32,
     "metadata": {},
     "output_type": "execute_result"
    }
   ],
   "source": [
    "model.predict(np.array([[ 5.1,  3.5,  1.4,  0.2]]))"
   ]
  },
  {
   "cell_type": "code",
   "execution_count": 33,
   "metadata": {},
   "outputs": [
    {
     "data": {
      "text/plain": [
       "(array([ 5.1,  3.5,  1.4,  0.2]), array([ 1.,  0.,  0.]))"
      ]
     },
     "execution_count": 33,
     "metadata": {},
     "output_type": "execute_result"
    }
   ],
   "source": [
    "X[0], y[0]"
   ]
  },
  {
   "cell_type": "code",
   "execution_count": 37,
   "metadata": {},
   "outputs": [
    {
     "name": "stdout",
     "output_type": "stream",
     "text": [
      "\r",
      " 32/120 [=======>......................] - ETA: 0s"
     ]
    },
    {
     "data": {
      "text/plain": [
       "(0.16963374316692353, 0.97499999999999998)"
      ]
     },
     "execution_count": 37,
     "metadata": {},
     "output_type": "execute_result"
    }
   ],
   "source": [
    "train_loss, train_accuracy = model.evaluate(X_train, y_train)\n",
    "train_loss, train_accuracy"
   ]
  },
  {
   "cell_type": "code",
   "execution_count": 38,
   "metadata": {},
   "outputs": [
    {
     "name": "stdout",
     "output_type": "stream",
     "text": [
      "30/30 [==============================] - 0s\n"
     ]
    },
    {
     "data": {
      "text/plain": [
       "(0.16105984151363373, 0.96666663885116577)"
      ]
     },
     "execution_count": 38,
     "metadata": {},
     "output_type": "execute_result"
    }
   ],
   "source": [
    "test_loss, test_accuracy = model.evaluate(X_test, y_test)\n",
    "test_loss, test_accuracy"
   ]
  },
  {
   "cell_type": "markdown",
   "metadata": {},
   "source": [
    "---\n",
    "\n",
    "# Hands-On\n",
    "## Execute this notebook and improve the training results\n",
    "* Are the results you see good?\n",
    "* What kind of decision boundary can our neurons draw?\n",
    "* Can you improve the results? Can you at least match Knn?\n",
    "    * What is the total mimimum of neurons you need for this problem?\n",
    "      * Play around with the number of neurons in the hidden layer\n",
    "    * Add another hidden layer\n",
    "      * More than one hidden layer is what people call deep neural networks\n",
    "      * hidden layers close to the input hopefully do the feature engeneering and extraction for us\n",
    "    * Increase the number of epochs for training  \n",
    "---"
   ]
  },
  {
   "cell_type": "markdown",
   "metadata": {},
   "source": [
    "# Stop Here"
   ]
  },
  {
   "cell_type": "markdown",
   "metadata": {},
   "source": [
    "## Save Model in Keras und TensorFlow Format"
   ]
  },
  {
   "cell_type": "code",
   "execution_count": 39,
   "metadata": {
    "collapsed": true
   },
   "outputs": [],
   "source": [
    "# Keras format\n",
    "model.save('nn-iris.hdf5')"
   ]
  },
  {
   "cell_type": "markdown",
   "metadata": {},
   "source": [
    "## Export as raw tf model\n",
    "\n",
    "* https://tensorflow.github.io/serving/serving_basic.html\n",
    "* https://github.com/tensorflow/serving/blob/master/tensorflow_serving/example/mnist_saved_model.py"
   ]
  },
  {
   "cell_type": "code",
   "execution_count": 40,
   "metadata": {
    "collapsed": true
   },
   "outputs": [],
   "source": [
    "import os\n",
    "from keras import backend as K"
   ]
  },
  {
   "cell_type": "code",
   "execution_count": 41,
   "metadata": {
    "collapsed": true
   },
   "outputs": [],
   "source": [
    "K.set_learning_phase(0)"
   ]
  },
  {
   "cell_type": "code",
   "execution_count": 42,
   "metadata": {
    "collapsed": true
   },
   "outputs": [],
   "source": [
    "sess = K.get_session()"
   ]
  },
  {
   "cell_type": "code",
   "execution_count": 43,
   "metadata": {},
   "outputs": [
    {
     "name": "stdout",
     "output_type": "stream",
     "text": [
      "rm: cannot remove 'tf': No such file or directory\r\n"
     ]
    }
   ],
   "source": [
    "!rm -r tf"
   ]
  },
  {
   "cell_type": "code",
   "execution_count": 44,
   "metadata": {
    "collapsed": true
   },
   "outputs": [],
   "source": [
    "tf.app.flags.DEFINE_integer('model_version', 1, 'version number of the model.')\n",
    "tf.app.flags.DEFINE_string('work_dir', '/tmp', 'Working directory.')\n",
    "FLAGS = tf.app.flags.FLAGS"
   ]
  },
  {
   "cell_type": "code",
   "execution_count": 45,
   "metadata": {
    "collapsed": true
   },
   "outputs": [],
   "source": [
    "export_path_base = 'tf'\n",
    "export_path = os.path.join(\n",
    "  tf.compat.as_bytes(export_path_base),\n",
    "  tf.compat.as_bytes(str(FLAGS.model_version)))"
   ]
  },
  {
   "cell_type": "code",
   "execution_count": 46,
   "metadata": {
    "collapsed": true
   },
   "outputs": [],
   "source": [
    "classification_inputs = tf.saved_model.utils.build_tensor_info(model.input)\n",
    "classification_outputs_scores = tf.saved_model.utils.build_tensor_info(model.output)"
   ]
  },
  {
   "cell_type": "code",
   "execution_count": 47,
   "metadata": {
    "collapsed": true
   },
   "outputs": [],
   "source": [
    "from tensorflow.python.saved_model.signature_def_utils_impl import build_signature_def, predict_signature_def"
   ]
  },
  {
   "cell_type": "code",
   "execution_count": 48,
   "metadata": {
    "collapsed": true
   },
   "outputs": [],
   "source": [
    "signature = predict_signature_def(inputs={'inputs': model.input},\n",
    "                                  outputs={'scores': model.output})"
   ]
  },
  {
   "cell_type": "code",
   "execution_count": 49,
   "metadata": {
    "collapsed": true
   },
   "outputs": [],
   "source": [
    "builder = tf.saved_model.builder.SavedModelBuilder(export_path)"
   ]
  },
  {
   "cell_type": "code",
   "execution_count": 50,
   "metadata": {
    "collapsed": true
   },
   "outputs": [],
   "source": [
    "builder.add_meta_graph_and_variables(\n",
    "      sess, \n",
    "     tags=[tf.saved_model.tag_constants.SERVING],\n",
    "      signature_def_map={\n",
    "          tf.saved_model.signature_constants.DEFAULT_SERVING_SIGNATURE_DEF_KEY: signature\n",
    "      })"
   ]
  },
  {
   "cell_type": "code",
   "execution_count": 51,
   "metadata": {},
   "outputs": [
    {
     "data": {
      "text/plain": [
       "b'tf/1/saved_model.pb'"
      ]
     },
     "execution_count": 51,
     "metadata": {},
     "output_type": "execute_result"
    }
   ],
   "source": [
    "builder.save()"
   ]
  },
  {
   "cell_type": "code",
   "execution_count": 52,
   "metadata": {},
   "outputs": [
    {
     "name": "stdout",
     "output_type": "stream",
     "text": [
      "tf:\r\n",
      "total 0\r\n",
      "drwxrwxrwx 0 root root 512 Sep 28 21:36 1\r\n",
      "\r\n",
      "tf/1:\r\n",
      "total 55M\r\n",
      "-rwxrwxrwx 1 root root 108K Sep 28 21:36 saved_model.pb\r\n",
      "drwxrwxrwx 0 root root  512 Sep 28 21:36 variables\r\n",
      "\r\n",
      "tf/1/variables:\r\n",
      "total 577K\r\n",
      "-rwxrwxrwx 1 root root 432 Sep 28 21:36 variables.data-00000-of-00001\r\n",
      "-rwxrwxrwx 1 root root 719 Sep 28 21:36 variables.index\r\n"
     ]
    }
   ],
   "source": [
    "!ls -lhR tf"
   ]
  },
  {
   "cell_type": "markdown",
   "metadata": {},
   "source": [
    "## This TensorFlow Modell can be uploaded to Google Cloud ML and called via REST interface"
   ]
  },
  {
   "cell_type": "code",
   "execution_count": 53,
   "metadata": {
    "collapsed": true
   },
   "outputs": [],
   "source": [
    "# cd tf\n",
    "# gsutil cp -R 1 gs://irisnn\n",
    "# create model and version at https://console.cloud.google.com/mlengine\n",
    "# gcloud ml-engine predict --model=irisnn --json-instances=./sample_iris.json\n",
    "# SCORES\n",
    "# [0.9954029321670532, 0.004596732556819916, 3.3544753819114703e-07]"
   ]
  },
  {
   "cell_type": "code",
   "execution_count": null,
   "metadata": {
    "collapsed": true
   },
   "outputs": [],
   "source": []
  }
 ],
 "metadata": {
  "kernelspec": {
   "display_name": "Python 3",
   "language": "python",
   "name": "python3"
  },
  "language_info": {
   "codemirror_mode": {
    "name": "ipython",
    "version": 3
   },
   "file_extension": ".py",
   "mimetype": "text/x-python",
   "name": "python",
   "nbconvert_exporter": "python",
   "pygments_lexer": "ipython3",
   "version": "3.6.1"
  }
 },
 "nbformat": 4,
 "nbformat_minor": 2
}
