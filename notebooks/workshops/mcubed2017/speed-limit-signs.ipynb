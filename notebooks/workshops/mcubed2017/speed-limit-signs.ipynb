{
 "cells": [
  {
   "cell_type": "markdown",
   "metadata": {},
   "source": [
    "# Real Life Example: Classifying Speed Limit Signs"
   ]
  },
  {
   "cell_type": "code",
   "execution_count": 1,
   "metadata": {
    "collapsed": true
   },
   "outputs": [],
   "source": [
    "import warnings\n",
    "warnings.filterwarnings('ignore')"
   ]
  },
  {
   "cell_type": "code",
   "execution_count": 2,
   "metadata": {},
   "outputs": [
    {
     "name": "stdout",
     "output_type": "stream",
     "text": [
      "Populating the interactive namespace from numpy and matplotlib\n"
     ]
    }
   ],
   "source": [
    "%matplotlib inline\n",
    "%pylab inline"
   ]
  },
  {
   "cell_type": "code",
   "execution_count": 3,
   "metadata": {
    "collapsed": true
   },
   "outputs": [],
   "source": [
    "import matplotlib.pylab as plt\n",
    "import numpy as np"
   ]
  },
  {
   "cell_type": "code",
   "execution_count": 4,
   "metadata": {
    "collapsed": true
   },
   "outputs": [],
   "source": [
    "from distutils.version import StrictVersion"
   ]
  },
  {
   "cell_type": "code",
   "execution_count": 5,
   "metadata": {},
   "outputs": [
    {
     "name": "stdout",
     "output_type": "stream",
     "text": [
      "0.18.1\n"
     ]
    }
   ],
   "source": [
    "import sklearn\n",
    "print(sklearn.__version__)\n",
    "\n",
    "assert StrictVersion(sklearn.__version__ ) >= StrictVersion('0.18.1')"
   ]
  },
  {
   "cell_type": "code",
   "execution_count": 6,
   "metadata": {},
   "outputs": [
    {
     "name": "stdout",
     "output_type": "stream",
     "text": [
      "1.2.1\n"
     ]
    }
   ],
   "source": [
    "import tensorflow as tf\n",
    "tf.logging.set_verbosity(tf.logging.ERROR)\n",
    "print(tf.__version__)\n",
    "\n",
    "assert StrictVersion(tf.__version__) >= StrictVersion('1.1.0')"
   ]
  },
  {
   "cell_type": "code",
   "execution_count": 7,
   "metadata": {},
   "outputs": [
    {
     "name": "stderr",
     "output_type": "stream",
     "text": [
      "Using TensorFlow backend.\n"
     ]
    },
    {
     "name": "stdout",
     "output_type": "stream",
     "text": [
      "2.0.8\n"
     ]
    }
   ],
   "source": [
    "import keras\n",
    "print(keras.__version__)\n",
    "\n",
    "assert StrictVersion(keras.__version__) >= StrictVersion('2.0.6')"
   ]
  },
  {
   "cell_type": "markdown",
   "metadata": {},
   "source": [
    "## Loading and Preparing Data"
   ]
  },
  {
   "cell_type": "code",
   "execution_count": 8,
   "metadata": {},
   "outputs": [
    {
     "name": "stdout",
     "output_type": "stream",
     "text": [
      "total 28\r\n",
      "drwxrwxr-x 2 ubuntu ubuntu 4096 Sep 27 15:25 0\r\n",
      "drwxrwxr-x 2 ubuntu ubuntu 4096 Sep 27 15:25 1\r\n",
      "drwxrwxr-x 2 ubuntu ubuntu 4096 Sep 27 15:25 2\r\n",
      "drwxrwxr-x 2 ubuntu ubuntu 4096 Sep 27 15:25 3\r\n",
      "drwxrwxr-x 2 ubuntu ubuntu 4096 Sep 27 15:25 4\r\n",
      "drwxrwxr-x 2 ubuntu ubuntu 4096 Sep 27 15:25 5\r\n",
      "-rw-rw-r-- 1 ubuntu ubuntu  380 Oct  1 08:09 README.md\r\n"
     ]
    }
   ],
   "source": [
    "!ls -l speed-limit-signs"
   ]
  },
  {
   "cell_type": "code",
   "execution_count": 9,
   "metadata": {},
   "outputs": [
    {
     "name": "stdout",
     "output_type": "stream",
     "text": [
      "Data extracted from http://benchmark.ini.rub.de/?section=gtsdb&subsection=dataset\r\n",
      "\r\n",
      "From http://benchmark.ini.rub.de/Dataset_GTSDB/FullIJCNN2013.zip just the samples for the speed limit signs \r\n",
      "\r\n",
      "## Format\r\n",
      "\r\n",
      "https://en.wikipedia.org/wiki/Netpbm_format\r\n",
      "\r\n",
      "Can be previewed on a Mac and be processed by http://scikit-image.org/\r\n",
      "\r\n",
      "## Labels\r\n",
      "- 0: 30\r\n",
      "- 1: 50\r\n",
      "- 2: 70\r\n",
      "- 3: 80\r\n",
      "- 4: 100\r\n",
      "- 5: 120"
     ]
    }
   ],
   "source": [
    "!cat speed-limit-signs/README.md"
   ]
  },
  {
   "cell_type": "markdown",
   "metadata": {},
   "source": [
    "# Big Kudos to [Waleed Abdulla](https://medium.com/@waleedka) for providing the initial idea and many of the functions used to prepare and display the images: https://medium.com/@waleedka/traffic-sign-recognition-with-tensorflow-629dffc391a6#.i728o84ib  "
   ]
  },
  {
   "cell_type": "code",
   "execution_count": 10,
   "metadata": {
    "collapsed": true
   },
   "outputs": [],
   "source": [
    "import os\n",
    "import skimage.data\n",
    "import skimage.transform\n",
    "from keras.utils.np_utils import to_categorical\n",
    "import numpy as np\n",
    "\n",
    "def load_data(data_dir, type=\".ppm\"):\n",
    "    num_categories = 6\n",
    "\n",
    "    # Get all subdirectories of data_dir. Each represents a label.\n",
    "    directories = [d for d in os.listdir(data_dir) \n",
    "                   if os.path.isdir(os.path.join(data_dir, d))]\n",
    "    # Loop through the label directories and collect the data in\n",
    "    # two lists, labels and images.\n",
    "    labels = []\n",
    "    images = []\n",
    "    for d in directories:\n",
    "        label_dir = os.path.join(data_dir, d)\n",
    "        file_names = [os.path.join(label_dir, f) for f in os.listdir(label_dir) if f.endswith(type)]\n",
    "        # For each label, load it's images and add them to the images list.\n",
    "        # And add the label number (i.e. directory name) to the labels list.\n",
    "        for f in file_names:\n",
    "            images.append(skimage.data.imread(f))\n",
    "            labels.append(int(d))\n",
    "    images64 = [skimage.transform.resize(image, (64, 64)) for image in images]\n",
    "    return images64, labels"
   ]
  },
  {
   "cell_type": "code",
   "execution_count": 11,
   "metadata": {
    "collapsed": true
   },
   "outputs": [],
   "source": [
    "# Load datasets.\n",
    "ROOT_PATH = \"./\"\n",
    "original_dir = os.path.join(ROOT_PATH, \"speed-limit-signs\")\n",
    "images, labels = load_data(original_dir, type=\".ppm\")"
   ]
  },
  {
   "cell_type": "code",
   "execution_count": 12,
   "metadata": {
    "collapsed": true
   },
   "outputs": [],
   "source": [
    "import matplotlib\n",
    "import matplotlib.pyplot as plt\n",
    "\n",
    "def display_images_and_labels(images, labels):\n",
    "    \"\"\"Display the first image of each label.\"\"\"\n",
    "    unique_labels = set(labels)\n",
    "    plt.figure(figsize=(15, 15))\n",
    "    i = 1\n",
    "    for label in unique_labels:\n",
    "        # Pick the first image for each label.\n",
    "        image = images[labels.index(label)]\n",
    "        plt.subplot(8, 8, i)  # A grid of 8 rows x 8 columns\n",
    "        plt.axis('off')\n",
    "        plt.title(\"Label {0} ({1})\".format(label, labels.count(label)))\n",
    "        i += 1\n",
    "        _ = plt.imshow(image)"
   ]
  },
  {
   "cell_type": "code",
   "execution_count": 13,
   "metadata": {},
   "outputs": [
    {
     "data": {
      "image/png": "[encoded data removed]",
      "text/plain": [
       "<matplotlib.figure.Figure at 0x7ff3a8f716d8>"
      ]
     },
     "metadata": {},
     "output_type": "display_data"
    }
   ],
   "source": [
    "display_images_and_labels(images, labels)"
   ]
  },
  {
   "cell_type": "code",
   "execution_count": 14,
   "metadata": {
    "collapsed": true
   },
   "outputs": [],
   "source": [
    "# again a little bit of feature engeneering\n",
    "\n",
    "y = np.array(labels)\n",
    "X = np.array(images)\n",
    "from keras.utils.np_utils import to_categorical\n",
    "\n",
    "num_categories = 6\n",
    "\n",
    "y = to_categorical(y, num_categories)"
   ]
  },
  {
   "cell_type": "markdown",
   "metadata": {},
   "source": [
    "## Let's start with creating a minimal model that overfits on a very small training set\n",
    "http://cs231n.github.io/neural-networks-3/#sanitycheck"
   ]
  },
  {
   "cell_type": "code",
   "execution_count": 15,
   "metadata": {
    "collapsed": true
   },
   "outputs": [],
   "source": [
    "from sklearn.model_selection import train_test_split\n",
    "X_train, X_test, y_train, y_test = train_test_split(X, y, test_size=0.9, random_state=42, stratify=y)"
   ]
  },
  {
   "cell_type": "code",
   "execution_count": 16,
   "metadata": {},
   "outputs": [
    {
     "data": {
      "text/plain": [
       "((37, 64, 64, 3), (37, 6))"
      ]
     },
     "execution_count": 16,
     "metadata": {},
     "output_type": "execute_result"
    }
   ],
   "source": [
    "X_train.shape, y_train.shape"
   ]
  },
  {
   "cell_type": "markdown",
   "metadata": {},
   "source": [
    "## This is how overfitting looks like in the Metrics\n",
    "### Accuracy\n",
    "![Accuracy Overfitting](https://djcordhose.github.io/ai/img/tensorboard/cnn-acc-overfitting.png \"Accuracy Overfitting\")\n",
    "### Validation Accuracy\n",
    "![Validation Accuracy Overfitting](https://djcordhose.github.io/ai/img/tensorboard/cnn-val-acc-overfitting.png \"Validation Accuracy Overfitting\")"
   ]
  },
  {
   "cell_type": "code",
   "execution_count": 17,
   "metadata": {
    "collapsed": true
   },
   "outputs": [],
   "source": [
    "# full architecture\n",
    "# %load https://djcordhose.github.io/ai/fragments/vgg_style_no_dropout.py\n",
    "\n",
    "# my sample minimized architecture\n",
    "# %load https://djcordhose.github.io/ai/fragments/vgg_style_no_dropout_overfitting.py"
   ]
  },
  {
   "cell_type": "code",
   "execution_count": 18,
   "metadata": {},
   "outputs": [
    {
     "name": "stdout",
     "output_type": "stream",
     "text": [
      "_________________________________________________________________\n",
      "Layer (type)                 Output Shape              Param #   \n",
      "=================================================================\n",
      "input_1 (InputLayer)         (None, 64, 64, 3)         0         \n",
      "_________________________________________________________________\n",
      "conv2d_1 (Conv2D)            (None, 64, 64, 64)        1792      \n",
      "_________________________________________________________________\n",
      "max_pooling2d_1 (MaxPooling2 (None, 32, 32, 64)        0         \n",
      "_________________________________________________________________\n",
      "max_pooling2d_2 (MaxPooling2 (None, 16, 16, 64)        0         \n",
      "_________________________________________________________________\n",
      "max_pooling2d_3 (MaxPooling2 (None, 8, 8, 64)          0         \n",
      "_________________________________________________________________\n",
      "flatten_1 (Flatten)          (None, 4096)              0         \n",
      "_________________________________________________________________\n",
      "dense_1 (Dense)              (None, 64)                262208    \n",
      "_________________________________________________________________\n",
      "dense_2 (Dense)              (None, 6)                 390       \n",
      "=================================================================\n",
      "Total params: 264,390\n",
      "Trainable params: 264,390\n",
      "Non-trainable params: 0\n",
      "_________________________________________________________________\n"
     ]
    }
   ],
   "source": [
    "model = Model(input=inputs, output=predictions)\n",
    "model.summary()"
   ]
  },
  {
   "cell_type": "code",
   "execution_count": 19,
   "metadata": {
    "collapsed": true
   },
   "outputs": [],
   "source": [
    "model.compile(optimizer='adam',\n",
    "              loss='categorical_crossentropy',\n",
    "              metrics=['accuracy'])"
   ]
  },
  {
   "cell_type": "code",
   "execution_count": 20,
   "metadata": {
    "collapsed": true
   },
   "outputs": [],
   "source": [
    "# Determines how many samples are using for training in one batch\n",
    "# Depends on harware GPU architecture, set as high as possible (this works well on K80)\n",
    "BATCH_SIZE = 500"
   ]
  },
  {
   "cell_type": "code",
   "execution_count": 21,
   "metadata": {},
   "outputs": [
    {
     "name": "stdout",
     "output_type": "stream",
     "text": [
      "Train on 29 samples, validate on 8 samples\n",
      "Epoch 1/100\n",
      "29/29 [==============================] - 3s - loss: 1.7860 - acc: 0.1724 - val_loss: 1.7473 - val_acc: 0.1250\n",
      "Epoch 2/100\n",
      "29/29 [==============================] - 0s - loss: 1.6542 - acc: 0.2414 - val_loss: 1.8353 - val_acc: 0.1250\n",
      "Epoch 3/100\n",
      "29/29 [==============================] - 0s - loss: 1.6456 - acc: 0.2414 - val_loss: 1.7074 - val_acc: 0.1250\n",
      "Epoch 4/100\n",
      "29/29 [==============================] - 0s - loss: 1.6047 - acc: 0.2414 - val_loss: 1.6178 - val_acc: 0.2500\n",
      "Epoch 5/100\n",
      "29/29 [==============================] - 0s - loss: 1.5856 - acc: 0.3448 - val_loss: 1.6116 - val_acc: 0.2500\n",
      "Epoch 6/100\n",
      "29/29 [==============================] - 0s - loss: 1.5599 - acc: 0.3793 - val_loss: 1.6550 - val_acc: 0.2500\n",
      "Epoch 7/100\n",
      "29/29 [==============================] - 0s - loss: 1.5202 - acc: 0.3448 - val_loss: 1.7536 - val_acc: 0.1250\n",
      "Epoch 8/100\n",
      "29/29 [==============================] - 0s - loss: 1.4941 - acc: 0.2414 - val_loss: 1.8083 - val_acc: 0.1250\n",
      "Epoch 9/100\n",
      "29/29 [==============================] - 0s - loss: 1.4720 - acc: 0.2414 - val_loss: 1.7727 - val_acc: 0.1250\n",
      "Epoch 10/100\n",
      "29/29 [==============================] - 0s - loss: 1.4365 - acc: 0.2759 - val_loss: 1.7011 - val_acc: 0.1250\n",
      "Epoch 11/100\n",
      "29/29 [==============================] - 0s - loss: 1.4058 - acc: 0.4828 - val_loss: 1.6494 - val_acc: 0.1250\n",
      "Epoch 12/100\n",
      "29/29 [==============================] - 0s - loss: 1.3778 - acc: 0.5517 - val_loss: 1.6351 - val_acc: 0.3750\n",
      "Epoch 13/100\n",
      "29/29 [==============================] - 0s - loss: 1.3436 - acc: 0.5862 - val_loss: 1.6606 - val_acc: 0.3750\n",
      "Epoch 14/100\n",
      "29/29 [==============================] - 0s - loss: 1.3139 - acc: 0.6207 - val_loss: 1.6695 - val_acc: 0.3750\n",
      "Epoch 15/100\n",
      "29/29 [==============================] - 0s - loss: 1.2886 - acc: 0.5517 - val_loss: 1.6163 - val_acc: 0.3750\n",
      "Epoch 16/100\n",
      "29/29 [==============================] - 0s - loss: 1.2563 - acc: 0.5517 - val_loss: 1.5506 - val_acc: 0.3750\n",
      "Epoch 17/100\n",
      "29/29 [==============================] - 0s - loss: 1.2261 - acc: 0.6207 - val_loss: 1.5317 - val_acc: 0.3750\n",
      "Epoch 18/100\n",
      "29/29 [==============================] - 0s - loss: 1.1973 - acc: 0.6897 - val_loss: 1.5708 - val_acc: 0.3750\n",
      "Epoch 19/100\n",
      "29/29 [==============================] - 0s - loss: 1.1642 - acc: 0.6552 - val_loss: 1.6221 - val_acc: 0.2500\n",
      "Epoch 20/100\n",
      "29/29 [==============================] - 0s - loss: 1.1359 - acc: 0.6897 - val_loss: 1.6025 - val_acc: 0.3750\n",
      "Epoch 21/100\n",
      "29/29 [==============================] - 0s - loss: 1.1037 - acc: 0.6897 - val_loss: 1.5390 - val_acc: 0.3750\n",
      "Epoch 22/100\n",
      "29/29 [==============================] - 0s - loss: 1.0709 - acc: 0.7931 - val_loss: 1.5016 - val_acc: 0.3750\n",
      "Epoch 23/100\n",
      "29/29 [==============================] - 0s - loss: 1.0397 - acc: 0.7931 - val_loss: 1.5255 - val_acc: 0.6250\n",
      "Epoch 24/100\n",
      "29/29 [==============================] - 0s - loss: 1.0078 - acc: 0.7586 - val_loss: 1.5580 - val_acc: 0.6250\n",
      "Epoch 25/100\n",
      "29/29 [==============================] - 0s - loss: 0.9788 - acc: 0.7931 - val_loss: 1.4956 - val_acc: 0.5000\n",
      "Epoch 26/100\n",
      "29/29 [==============================] - 0s - loss: 0.9448 - acc: 0.7931 - val_loss: 1.4869 - val_acc: 0.5000\n",
      "Epoch 27/100\n",
      "29/29 [==============================] - 0s - loss: 0.9144 - acc: 0.7931 - val_loss: 1.5509 - val_acc: 0.5000\n",
      "Epoch 28/100\n",
      "29/29 [==============================] - 0s - loss: 0.8817 - acc: 0.8621 - val_loss: 1.5645 - val_acc: 0.5000\n",
      "Epoch 29/100\n",
      "29/29 [==============================] - 0s - loss: 0.8512 - acc: 0.8621 - val_loss: 1.5056 - val_acc: 0.5000\n",
      "Epoch 30/100\n",
      "29/29 [==============================] - 0s - loss: 0.8205 - acc: 0.8621 - val_loss: 1.5111 - val_acc: 0.5000\n",
      "Epoch 31/100\n",
      "29/29 [==============================] - 0s - loss: 0.7901 - acc: 0.8966 - val_loss: 1.5708 - val_acc: 0.5000\n",
      "Epoch 32/100\n",
      "29/29 [==============================] - 0s - loss: 0.7613 - acc: 0.8276 - val_loss: 1.5815 - val_acc: 0.5000\n",
      "Epoch 33/100\n",
      "29/29 [==============================] - 0s - loss: 0.7323 - acc: 0.8276 - val_loss: 1.5396 - val_acc: 0.5000\n",
      "Epoch 34/100\n",
      "29/29 [==============================] - 0s - loss: 0.7038 - acc: 0.8276 - val_loss: 1.5515 - val_acc: 0.5000\n",
      "Epoch 35/100\n",
      "29/29 [==============================] - 0s - loss: 0.6764 - acc: 0.8276 - val_loss: 1.6329 - val_acc: 0.5000\n",
      "Epoch 36/100\n",
      "29/29 [==============================] - 0s - loss: 0.6489 - acc: 0.8276 - val_loss: 1.6899 - val_acc: 0.5000\n",
      "Epoch 37/100\n",
      "29/29 [==============================] - 0s - loss: 0.6228 - acc: 0.8276 - val_loss: 1.6933 - val_acc: 0.5000\n",
      "Epoch 38/100\n",
      "29/29 [==============================] - 0s - loss: 0.5971 - acc: 0.8966 - val_loss: 1.7185 - val_acc: 0.5000\n",
      "Epoch 39/100\n",
      "29/29 [==============================] - 0s - loss: 0.5721 - acc: 0.8966 - val_loss: 1.7845 - val_acc: 0.5000\n",
      "Epoch 40/100\n",
      "29/29 [==============================] - 0s - loss: 0.5471 - acc: 0.8966 - val_loss: 1.8448 - val_acc: 0.5000\n",
      "Epoch 41/100\n",
      "29/29 [==============================] - 0s - loss: 0.5229 - acc: 0.8966 - val_loss: 1.8789 - val_acc: 0.5000\n",
      "Epoch 42/100\n",
      "29/29 [==============================] - 0s - loss: 0.4987 - acc: 0.8966 - val_loss: 1.9114 - val_acc: 0.5000\n",
      "Epoch 43/100\n",
      "29/29 [==============================] - 0s - loss: 0.4746 - acc: 0.8966 - val_loss: 1.9800 - val_acc: 0.5000\n",
      "Epoch 44/100\n",
      "29/29 [==============================] - 0s - loss: 0.4509 - acc: 0.8966 - val_loss: 2.0781 - val_acc: 0.5000\n",
      "Epoch 45/100\n",
      "29/29 [==============================] - 0s - loss: 0.4277 - acc: 0.8966 - val_loss: 2.1741 - val_acc: 0.5000\n",
      "Epoch 46/100\n",
      "29/29 [==============================] - 0s - loss: 0.4060 - acc: 0.8966 - val_loss: 2.2035 - val_acc: 0.5000\n",
      "Epoch 47/100\n",
      "29/29 [==============================] - 0s - loss: 0.3856 - acc: 0.8621 - val_loss: 2.2525 - val_acc: 0.3750\n",
      "Epoch 48/100\n",
      "29/29 [==============================] - 0s - loss: 0.3655 - acc: 0.8966 - val_loss: 2.3531 - val_acc: 0.3750\n",
      "Epoch 49/100\n",
      "29/29 [==============================] - 0s - loss: 0.3458 - acc: 0.8966 - val_loss: 2.4157 - val_acc: 0.3750\n",
      "Epoch 50/100\n",
      "29/29 [==============================] - 0s - loss: 0.3271 - acc: 0.8966 - val_loss: 2.4287 - val_acc: 0.3750\n",
      "Epoch 51/100\n",
      "29/29 [==============================] - 0s - loss: 0.3093 - acc: 0.9310 - val_loss: 2.4971 - val_acc: 0.3750\n",
      "Epoch 52/100\n",
      "29/29 [==============================] - 0s - loss: 0.2923 - acc: 0.9310 - val_loss: 2.6036 - val_acc: 0.3750\n",
      "Epoch 53/100\n",
      "29/29 [==============================] - 0s - loss: 0.2760 - acc: 0.9310 - val_loss: 2.6911 - val_acc: 0.3750\n",
      "Epoch 54/100\n",
      "29/29 [==============================] - 0s - loss: 0.2608 - acc: 0.9310 - val_loss: 2.7609 - val_acc: 0.3750\n",
      "Epoch 55/100\n",
      "29/29 [==============================] - 0s - loss: 0.2463 - acc: 0.9310 - val_loss: 2.8088 - val_acc: 0.3750\n",
      "Epoch 56/100\n",
      "29/29 [==============================] - 0s - loss: 0.2323 - acc: 0.9310 - val_loss: 2.8386 - val_acc: 0.3750\n",
      "Epoch 57/100\n",
      "29/29 [==============================] - 0s - loss: 0.2193 - acc: 0.9310 - val_loss: 2.8719 - val_acc: 0.3750\n",
      "Epoch 58/100\n",
      "29/29 [==============================] - 0s - loss: 0.2074 - acc: 0.9655 - val_loss: 2.9438 - val_acc: 0.3750\n",
      "Epoch 59/100\n",
      "29/29 [==============================] - 0s - loss: 0.1962 - acc: 0.9655 - val_loss: 3.0297 - val_acc: 0.3750\n",
      "Epoch 60/100\n",
      "29/29 [==============================] - 0s - loss: 0.1855 - acc: 0.9655 - val_loss: 3.0864 - val_acc: 0.3750\n",
      "Epoch 61/100\n",
      "29/29 [==============================] - 0s - loss: 0.1757 - acc: 0.9655 - val_loss: 3.1221 - val_acc: 0.3750\n",
      "Epoch 62/100\n",
      "29/29 [==============================] - 0s - loss: 0.1666 - acc: 0.9655 - val_loss: 3.1810 - val_acc: 0.3750\n",
      "Epoch 63/100\n",
      "29/29 [==============================] - 0s - loss: 0.1580 - acc: 0.9655 - val_loss: 3.2575 - val_acc: 0.3750\n",
      "Epoch 64/100\n",
      "29/29 [==============================] - 0s - loss: 0.1498 - acc: 0.9655 - val_loss: 3.3388 - val_acc: 0.3750\n",
      "Epoch 65/100\n",
      "29/29 [==============================] - 0s - loss: 0.1420 - acc: 0.9655 - val_loss: 3.3992 - val_acc: 0.3750\n",
      "Epoch 66/100\n",
      "29/29 [==============================] - 0s - loss: 0.1354 - acc: 0.9655 - val_loss: 3.4219 - val_acc: 0.3750\n",
      "Epoch 67/100\n"
     ]
    },
    {
     "name": "stdout",
     "output_type": "stream",
     "text": [
      "29/29 [==============================] - 0s - loss: 0.1280 - acc: 1.0000 - val_loss: 3.4744 - val_acc: 0.3750\n",
      "Epoch 68/100\n",
      "29/29 [==============================] - 0s - loss: 0.1220 - acc: 1.0000 - val_loss: 3.5733 - val_acc: 0.3750\n",
      "Epoch 69/100\n",
      "29/29 [==============================] - 0s - loss: 0.1157 - acc: 1.0000 - val_loss: 3.6973 - val_acc: 0.3750\n",
      "Epoch 70/100\n",
      "29/29 [==============================] - 0s - loss: 0.1100 - acc: 1.0000 - val_loss: 3.8220 - val_acc: 0.3750\n",
      "Epoch 71/100\n",
      "29/29 [==============================] - 0s - loss: 0.1044 - acc: 1.0000 - val_loss: 3.9156 - val_acc: 0.3750\n",
      "Epoch 72/100\n",
      "29/29 [==============================] - 0s - loss: 0.0993 - acc: 1.0000 - val_loss: 3.9784 - val_acc: 0.3750\n",
      "Epoch 73/100\n",
      "29/29 [==============================] - 0s - loss: 0.0943 - acc: 1.0000 - val_loss: 4.0077 - val_acc: 0.3750\n",
      "Epoch 74/100\n",
      "29/29 [==============================] - 0s - loss: 0.0897 - acc: 1.0000 - val_loss: 4.0379 - val_acc: 0.2500\n",
      "Epoch 75/100\n",
      "29/29 [==============================] - 0s - loss: 0.0854 - acc: 1.0000 - val_loss: 4.0862 - val_acc: 0.2500\n",
      "Epoch 76/100\n",
      "29/29 [==============================] - 0s - loss: 0.0812 - acc: 1.0000 - val_loss: 4.0998 - val_acc: 0.2500\n",
      "Epoch 77/100\n",
      "29/29 [==============================] - 0s - loss: 0.0772 - acc: 1.0000 - val_loss: 4.1106 - val_acc: 0.2500\n",
      "Epoch 78/100\n",
      "29/29 [==============================] - 0s - loss: 0.0734 - acc: 1.0000 - val_loss: 4.1455 - val_acc: 0.2500\n",
      "Epoch 79/100\n",
      "29/29 [==============================] - 0s - loss: 0.0698 - acc: 1.0000 - val_loss: 4.2061 - val_acc: 0.2500\n",
      "Epoch 80/100\n",
      "29/29 [==============================] - 0s - loss: 0.0664 - acc: 1.0000 - val_loss: 4.2761 - val_acc: 0.2500\n",
      "Epoch 81/100\n",
      "29/29 [==============================] - 0s - loss: 0.0632 - acc: 1.0000 - val_loss: 4.3343 - val_acc: 0.2500\n",
      "Epoch 82/100\n",
      "29/29 [==============================] - 0s - loss: 0.0601 - acc: 1.0000 - val_loss: 4.3594 - val_acc: 0.2500\n",
      "Epoch 83/100\n",
      "29/29 [==============================] - 0s - loss: 0.0572 - acc: 1.0000 - val_loss: 4.3634 - val_acc: 0.2500\n",
      "Epoch 84/100\n",
      "29/29 [==============================] - 0s - loss: 0.0544 - acc: 1.0000 - val_loss: 4.3472 - val_acc: 0.2500\n",
      "Epoch 85/100\n",
      "29/29 [==============================] - 0s - loss: 0.0517 - acc: 1.0000 - val_loss: 4.3410 - val_acc: 0.2500\n",
      "Epoch 86/100\n",
      "29/29 [==============================] - 0s - loss: 0.0492 - acc: 1.0000 - val_loss: 4.3626 - val_acc: 0.2500\n",
      "Epoch 87/100\n",
      "29/29 [==============================] - 0s - loss: 0.0469 - acc: 1.0000 - val_loss: 4.3989 - val_acc: 0.2500\n",
      "Epoch 88/100\n",
      "29/29 [==============================] - 0s - loss: 0.0447 - acc: 1.0000 - val_loss: 4.4337 - val_acc: 0.2500\n",
      "Epoch 89/100\n",
      "29/29 [==============================] - 0s - loss: 0.0425 - acc: 1.0000 - val_loss: 4.4737 - val_acc: 0.2500\n",
      "Epoch 90/100\n",
      "29/29 [==============================] - 0s - loss: 0.0405 - acc: 1.0000 - val_loss: 4.5096 - val_acc: 0.2500\n",
      "Epoch 91/100\n",
      "29/29 [==============================] - 0s - loss: 0.0387 - acc: 1.0000 - val_loss: 4.5324 - val_acc: 0.2500\n",
      "Epoch 92/100\n",
      "29/29 [==============================] - 0s - loss: 0.0368 - acc: 1.0000 - val_loss: 4.5398 - val_acc: 0.2500\n",
      "Epoch 93/100\n",
      "29/29 [==============================] - 0s - loss: 0.0352 - acc: 1.0000 - val_loss: 4.5522 - val_acc: 0.2500\n",
      "Epoch 94/100\n",
      "29/29 [==============================] - 0s - loss: 0.0336 - acc: 1.0000 - val_loss: 4.5662 - val_acc: 0.2500\n",
      "Epoch 95/100\n",
      "29/29 [==============================] - 0s - loss: 0.0321 - acc: 1.0000 - val_loss: 4.5820 - val_acc: 0.2500\n",
      "Epoch 96/100\n",
      "29/29 [==============================] - 0s - loss: 0.0307 - acc: 1.0000 - val_loss: 4.6129 - val_acc: 0.2500\n",
      "Epoch 97/100\n",
      "29/29 [==============================] - 0s - loss: 0.0293 - acc: 1.0000 - val_loss: 4.6469 - val_acc: 0.2500\n",
      "Epoch 98/100\n",
      "29/29 [==============================] - 0s - loss: 0.0281 - acc: 1.0000 - val_loss: 4.6748 - val_acc: 0.2500\n",
      "Epoch 99/100\n",
      "29/29 [==============================] - 0s - loss: 0.0268 - acc: 1.0000 - val_loss: 4.6913 - val_acc: 0.2500\n",
      "Epoch 100/100\n",
      "29/29 [==============================] - 0s - loss: 0.0257 - acc: 1.0000 - val_loss: 4.6924 - val_acc: 0.2500\n",
      "CPU times: user 2.65 s, sys: 1.44 s, total: 4.09 s\n",
      "Wall time: 5.61 s\n"
     ]
    },
    {
     "data": {
      "text/plain": [
       "<keras.callbacks.History at 0x7ff39d853f60>"
      ]
     },
     "execution_count": 21,
     "metadata": {},
     "output_type": "execute_result"
    }
   ],
   "source": [
    "%time model.fit(X_train, y_train, epochs=100, validation_split=0.2, batch_size=BATCH_SIZE)"
   ]
  },
  {
   "cell_type": "markdown",
   "metadata": {},
   "source": [
    "---\n",
    "\n",
    "# Hands-On: Create a minimal model"
   ]
  },
  {
   "cell_type": "markdown",
   "metadata": {},
   "source": [
    "\n",
    "# Step #1: Simplify the given architecture until you can no longer overfit on the small training set\n",
    "* reduce number of epochs while training to 50 or even less to have quick experinemtation cycles\n",
    "* reduce number of layers\n",
    "* reduce number of feature channels\n",
    "* make sure your modell actualy has less parameters than the original one (was 4,788,358)\n",
    "* if you need a special challenge you can write your model from scratch (you can always reload the original one using the prepared %load)\n",
    "\n",
    "---"
   ]
  },
  {
   "cell_type": "markdown",
   "metadata": {},
   "source": [
    "## Now we see that the model at least has the basic capacity for the task, we have to get rid of the overfitting\n",
    "## How to avoid Overfitting using Dropouts\n",
    "* A Dropout Layers blacks out a certain percentage of input neurons\n",
    "* Which each update of weihts during training other neurons are chosen\n",
    "* Hope is to train different parts of the network with each iteration avoiding overfitting\n",
    "* Dropout rate typically between 40% and 75%\n",
    "* VGG adds Dropout after each convolutional block and after fc layer\n",
    "  * ```x = Dropout(0.5)(x)```\n",
    "* this only applies for training phase, in prediction there is no such layer  "
   ]
  },
  {
   "cell_type": "markdown",
   "metadata": {},
   "source": [
    "---\n",
    "\n",
    "# Step #2: Train on the complete training set and make sure to still avoid overfitting by optimizing for val-acc\n",
    "\n",
    "* train on the complete training set\n",
    "* add dropout of 50% as described above\n",
    "* gradually make your model more complex until you have minimized overfitting\n",
    "* 90% and more of validation accuracy are possible\n",
    "* again, reduce the number of epochs of your model to make it trainable on your hardware (100 might work well)\n",
    "* if it does not show signs of converging early on, it is likely not complex enough\n",
    "* you can also start with a pre-defined architecture and make this less compelx (again using the prepared %load)\n",
    "* save the trained model for later comparison\n",
    "\n",
    "---"
   ]
  },
  {
   "cell_type": "code",
   "execution_count": 22,
   "metadata": {
    "collapsed": true
   },
   "outputs": [],
   "source": [
    "X_train, X_test, y_train, y_test = train_test_split(X, y, test_size=0.2, random_state=42, stratify=y)"
   ]
  },
  {
   "cell_type": "code",
   "execution_count": 23,
   "metadata": {
    "collapsed": true
   },
   "outputs": [],
   "source": [
    "# https://keras.io/callbacks/#tensorboard\n",
    "tb_callback = keras.callbacks.TensorBoard(log_dir='./tf_log')\n",
    "# To start tensorboard\n",
    "# tensorboard --logdir=/mnt/c/Users/olive/Development/ml/tf_log\n",
    "# open http://localhost:6006"
   ]
  },
  {
   "cell_type": "code",
   "execution_count": 24,
   "metadata": {
    "collapsed": true
   },
   "outputs": [],
   "source": [
    "early_stopping_callback = keras.callbacks.EarlyStopping(monitor='val_loss', patience=50, verbose=1)"
   ]
  },
  {
   "cell_type": "code",
   "execution_count": 25,
   "metadata": {
    "collapsed": true
   },
   "outputs": [],
   "source": [
    "checkpoint_callback = keras.callbacks.ModelCheckpoint('./model-checkpoints/weights.epoch-{epoch:02d}-val_loss-{val_loss:.2f}.hdf5');"
   ]
  },
  {
   "cell_type": "code",
   "execution_count": 26,
   "metadata": {
    "collapsed": true
   },
   "outputs": [],
   "source": [
    "keras.layers.Dropout?"
   ]
  },
  {
   "cell_type": "code",
   "execution_count": 27,
   "metadata": {
    "collapsed": true
   },
   "outputs": [],
   "source": [
    "# full architecture with dropout\n",
    "# %load https://djcordhose.github.io/ai/fragments/vgg_style_dropout.py\n",
    "\n",
    "# my sample minimized architecture\n",
    "# %load https://djcordhose.github.io/ai/fragments/vgg_style_dropout_minmal.py"
   ]
  },
  {
   "cell_type": "code",
   "execution_count": 28,
   "metadata": {},
   "outputs": [
    {
     "name": "stdout",
     "output_type": "stream",
     "text": [
      "_________________________________________________________________\n",
      "Layer (type)                 Output Shape              Param #   \n",
      "=================================================================\n",
      "input_2 (InputLayer)         (None, 64, 64, 3)         0         \n",
      "_________________________________________________________________\n",
      "conv2d_2 (Conv2D)            (None, 64, 64, 64)        1792      \n",
      "_________________________________________________________________\n",
      "conv2d_3 (Conv2D)            (None, 64, 64, 64)        36928     \n",
      "_________________________________________________________________\n",
      "max_pooling2d_4 (MaxPooling2 (None, 32, 32, 64)        0         \n",
      "_________________________________________________________________\n",
      "dropout_1 (Dropout)          (None, 32, 32, 64)        0         \n",
      "_________________________________________________________________\n",
      "conv2d_4 (Conv2D)            (None, 32, 32, 128)       73856     \n",
      "_________________________________________________________________\n",
      "max_pooling2d_5 (MaxPooling2 (None, 16, 16, 128)       0         \n",
      "_________________________________________________________________\n",
      "max_pooling2d_6 (MaxPooling2 (None, 8, 8, 128)         0         \n",
      "_________________________________________________________________\n",
      "flatten_2 (Flatten)          (None, 8192)              0         \n",
      "_________________________________________________________________\n",
      "dense_3 (Dense)              (None, 256)               2097408   \n",
      "_________________________________________________________________\n",
      "dropout_2 (Dropout)          (None, 256)               0         \n",
      "_________________________________________________________________\n",
      "dense_4 (Dense)              (None, 6)                 1542      \n",
      "=================================================================\n",
      "Total params: 2,211,526\n",
      "Trainable params: 2,211,526\n",
      "Non-trainable params: 0\n",
      "_________________________________________________________________\n"
     ]
    }
   ],
   "source": [
    "model = Model(input=inputs, output=predictions)\n",
    "model.summary()"
   ]
  },
  {
   "cell_type": "code",
   "execution_count": 29,
   "metadata": {
    "collapsed": true
   },
   "outputs": [],
   "source": [
    "model.compile(optimizer='adam',\n",
    "              loss='categorical_crossentropy',\n",
    "              metrics=['accuracy'])"
   ]
  },
  {
   "cell_type": "code",
   "execution_count": 30,
   "metadata": {
    "collapsed": true
   },
   "outputs": [],
   "source": [
    "!rm -r tf_log"
   ]
  },
  {
   "cell_type": "code",
   "execution_count": 31,
   "metadata": {},
   "outputs": [
    {
     "name": "stdout",
     "output_type": "stream",
     "text": [
      "Train on 242 samples, validate on 61 samples\n",
      "Epoch 1/500\n",
      "242/242 [==============================] - 2s - loss: 1.7566 - acc: 0.2314 - val_loss: 1.8777 - val_acc: 0.0984\n",
      "Epoch 2/500\n",
      "242/242 [==============================] - 0s - loss: 2.7072 - acc: 0.2273 - val_loss: 1.6280 - val_acc: 0.2787\n",
      "Epoch 3/500\n",
      "242/242 [==============================] - 0s - loss: 2.4442 - acc: 0.2025 - val_loss: 1.7096 - val_acc: 0.3279\n",
      "Epoch 4/500\n",
      "242/242 [==============================] - 0s - loss: 1.9441 - acc: 0.1818 - val_loss: 1.7659 - val_acc: 0.2787\n",
      "Epoch 5/500\n",
      "242/242 [==============================] - 0s - loss: 1.8391 - acc: 0.1860 - val_loss: 1.7847 - val_acc: 0.2787\n",
      "Epoch 6/500\n",
      "242/242 [==============================] - 0s - loss: 1.8113 - acc: 0.1653 - val_loss: 1.7901 - val_acc: 0.2787\n",
      "Epoch 7/500\n",
      "242/242 [==============================] - 0s - loss: 1.7910 - acc: 0.1653 - val_loss: 1.7914 - val_acc: 0.2623\n",
      "Epoch 8/500\n",
      "242/242 [==============================] - 0s - loss: 1.7854 - acc: 0.2107 - val_loss: 1.7914 - val_acc: 0.1639\n",
      "Epoch 9/500\n",
      "242/242 [==============================] - 0s - loss: 1.7767 - acc: 0.2149 - val_loss: 1.7909 - val_acc: 0.1475\n",
      "Epoch 10/500\n",
      "242/242 [==============================] - 0s - loss: 1.7642 - acc: 0.2149 - val_loss: 1.7890 - val_acc: 0.1148\n",
      "Epoch 11/500\n",
      "242/242 [==============================] - 0s - loss: 1.7502 - acc: 0.2231 - val_loss: 1.7855 - val_acc: 0.0984\n",
      "Epoch 12/500\n",
      "242/242 [==============================] - 0s - loss: 1.7232 - acc: 0.2397 - val_loss: 1.7802 - val_acc: 0.0984\n",
      "Epoch 13/500\n",
      "242/242 [==============================] - 0s - loss: 1.6977 - acc: 0.2273 - val_loss: 1.7719 - val_acc: 0.0984\n",
      "Epoch 14/500\n",
      "242/242 [==============================] - 0s - loss: 1.7056 - acc: 0.2355 - val_loss: 1.7635 - val_acc: 0.0984\n",
      "Epoch 15/500\n",
      "242/242 [==============================] - 0s - loss: 1.6974 - acc: 0.2479 - val_loss: 1.7592 - val_acc: 0.0984\n",
      "Epoch 16/500\n",
      "242/242 [==============================] - 0s - loss: 1.6835 - acc: 0.2190 - val_loss: 1.7603 - val_acc: 0.1311\n",
      "Epoch 17/500\n",
      "242/242 [==============================] - 0s - loss: 1.6781 - acc: 0.2066 - val_loss: 1.7632 - val_acc: 0.1803\n",
      "Epoch 18/500\n",
      "242/242 [==============================] - 0s - loss: 1.6759 - acc: 0.2149 - val_loss: 1.7600 - val_acc: 0.3443\n",
      "Epoch 19/500\n",
      "242/242 [==============================] - 0s - loss: 1.6807 - acc: 0.2273 - val_loss: 1.7533 - val_acc: 0.3443\n",
      "Epoch 20/500\n",
      "242/242 [==============================] - 0s - loss: 1.6634 - acc: 0.2107 - val_loss: 1.7457 - val_acc: 0.3443\n",
      "Epoch 21/500\n",
      "242/242 [==============================] - 0s - loss: 1.6819 - acc: 0.2397 - val_loss: 1.7435 - val_acc: 0.3607\n",
      "Epoch 22/500\n",
      "242/242 [==============================] - 0s - loss: 1.6492 - acc: 0.2107 - val_loss: 1.7429 - val_acc: 0.3607\n",
      "Epoch 23/500\n",
      "242/242 [==============================] - 0s - loss: 1.6418 - acc: 0.2810 - val_loss: 1.7445 - val_acc: 0.3607\n",
      "Epoch 24/500\n",
      "242/242 [==============================] - 0s - loss: 1.6312 - acc: 0.2686 - val_loss: 1.7429 - val_acc: 0.2787\n",
      "Epoch 25/500\n",
      "242/242 [==============================] - 0s - loss: 1.6400 - acc: 0.2562 - val_loss: 1.7452 - val_acc: 0.2295\n",
      "Epoch 26/500\n",
      "242/242 [==============================] - 0s - loss: 1.6594 - acc: 0.2851 - val_loss: 1.7550 - val_acc: 0.2295\n",
      "Epoch 27/500\n",
      "242/242 [==============================] - 0s - loss: 1.6277 - acc: 0.3264 - val_loss: 1.7517 - val_acc: 0.2131\n",
      "Epoch 28/500\n",
      "242/242 [==============================] - 0s - loss: 1.6330 - acc: 0.2893 - val_loss: 1.7457 - val_acc: 0.2131\n",
      "Epoch 29/500\n",
      "242/242 [==============================] - 0s - loss: 1.6367 - acc: 0.2851 - val_loss: 1.7480 - val_acc: 0.2131\n",
      "Epoch 30/500\n",
      "242/242 [==============================] - 0s - loss: 1.6393 - acc: 0.2934 - val_loss: 1.7503 - val_acc: 0.2131\n",
      "Epoch 31/500\n",
      "242/242 [==============================] - 0s - loss: 1.6406 - acc: 0.3140 - val_loss: 1.7497 - val_acc: 0.2131\n",
      "Epoch 32/500\n",
      "242/242 [==============================] - 0s - loss: 1.6288 - acc: 0.3182 - val_loss: 1.7415 - val_acc: 0.2295\n",
      "Epoch 33/500\n",
      "242/242 [==============================] - 0s - loss: 1.6390 - acc: 0.3099 - val_loss: 1.7334 - val_acc: 0.2295\n",
      "Epoch 34/500\n",
      "242/242 [==============================] - 0s - loss: 1.6321 - acc: 0.3099 - val_loss: 1.7341 - val_acc: 0.2459\n",
      "Epoch 35/500\n",
      "242/242 [==============================] - 0s - loss: 1.6085 - acc: 0.2975 - val_loss: 1.7388 - val_acc: 0.2295\n",
      "Epoch 36/500\n",
      "242/242 [==============================] - 0s - loss: 1.6185 - acc: 0.3430 - val_loss: 1.7392 - val_acc: 0.2459\n",
      "Epoch 37/500\n",
      "242/242 [==============================] - 0s - loss: 1.6108 - acc: 0.3099 - val_loss: 1.7252 - val_acc: 0.2295\n",
      "Epoch 38/500\n",
      "242/242 [==============================] - 0s - loss: 1.6042 - acc: 0.3430 - val_loss: 1.7108 - val_acc: 0.2295\n",
      "Epoch 39/500\n",
      "242/242 [==============================] - 0s - loss: 1.6156 - acc: 0.3182 - val_loss: 1.7274 - val_acc: 0.2787\n",
      "Epoch 40/500\n",
      "242/242 [==============================] - 0s - loss: 1.6149 - acc: 0.3430 - val_loss: 1.7457 - val_acc: 0.2787\n",
      "Epoch 41/500\n",
      "242/242 [==============================] - 0s - loss: 1.6038 - acc: 0.3099 - val_loss: 1.7288 - val_acc: 0.2459\n",
      "Epoch 42/500\n",
      "242/242 [==============================] - 0s - loss: 1.6147 - acc: 0.3017 - val_loss: 1.7127 - val_acc: 0.2787\n",
      "Epoch 43/500\n",
      "242/242 [==============================] - 0s - loss: 1.6009 - acc: 0.3017 - val_loss: 1.7138 - val_acc: 0.2787\n",
      "Epoch 44/500\n",
      "242/242 [==============================] - 0s - loss: 1.5985 - acc: 0.3471 - val_loss: 1.7257 - val_acc: 0.2951\n",
      "Epoch 45/500\n",
      "242/242 [==============================] - 0s - loss: 1.6010 - acc: 0.3306 - val_loss: 1.7188 - val_acc: 0.3443\n",
      "Epoch 46/500\n",
      "242/242 [==============================] - 0s - loss: 1.5581 - acc: 0.3843 - val_loss: 1.6839 - val_acc: 0.3607\n",
      "Epoch 47/500\n",
      "242/242 [==============================] - 0s - loss: 1.5605 - acc: 0.3554 - val_loss: 1.6786 - val_acc: 0.3607\n",
      "Epoch 48/500\n",
      "242/242 [==============================] - 0s - loss: 1.5663 - acc: 0.3223 - val_loss: 1.7108 - val_acc: 0.3443\n",
      "Epoch 49/500\n",
      "242/242 [==============================] - 0s - loss: 1.5667 - acc: 0.3430 - val_loss: 1.7187 - val_acc: 0.2459\n",
      "Epoch 50/500\n",
      "242/242 [==============================] - 0s - loss: 1.5485 - acc: 0.3140 - val_loss: 1.6563 - val_acc: 0.3443\n",
      "Epoch 51/500\n",
      "242/242 [==============================] - 0s - loss: 1.5233 - acc: 0.3843 - val_loss: 1.6247 - val_acc: 0.3279\n",
      "Epoch 52/500\n",
      "242/242 [==============================] - 0s - loss: 1.5234 - acc: 0.4050 - val_loss: 1.6264 - val_acc: 0.3443\n",
      "Epoch 53/500\n",
      "242/242 [==============================] - 0s - loss: 1.5170 - acc: 0.3719 - val_loss: 1.6682 - val_acc: 0.2951\n",
      "Epoch 54/500\n",
      "242/242 [==============================] - 0s - loss: 1.5385 - acc: 0.3099 - val_loss: 1.6598 - val_acc: 0.3443\n",
      "Epoch 55/500\n",
      "242/242 [==============================] - 0s - loss: 1.5138 - acc: 0.3388 - val_loss: 1.6087 - val_acc: 0.3770\n",
      "Epoch 56/500\n",
      "242/242 [==============================] - 0s - loss: 1.4530 - acc: 0.3926 - val_loss: 1.5906 - val_acc: 0.3443\n",
      "Epoch 57/500\n",
      "242/242 [==============================] - 0s - loss: 1.4678 - acc: 0.3678 - val_loss: 1.5907 - val_acc: 0.3770\n",
      "Epoch 58/500\n",
      "242/242 [==============================] - 0s - loss: 1.4597 - acc: 0.3678 - val_loss: 1.5975 - val_acc: 0.4098\n",
      "Epoch 59/500\n",
      "242/242 [==============================] - 0s - loss: 1.4358 - acc: 0.3884 - val_loss: 1.6068 - val_acc: 0.4098\n",
      "Epoch 60/500\n",
      "242/242 [==============================] - 0s - loss: 1.4602 - acc: 0.3430 - val_loss: 1.5869 - val_acc: 0.3770\n",
      "Epoch 61/500\n",
      "242/242 [==============================] - 0s - loss: 1.4566 - acc: 0.3678 - val_loss: 1.5701 - val_acc: 0.3279\n",
      "Epoch 62/500\n",
      "242/242 [==============================] - 0s - loss: 1.4046 - acc: 0.4256 - val_loss: 1.5549 - val_acc: 0.3115\n",
      "Epoch 63/500\n",
      "242/242 [==============================] - 0s - loss: 1.4028 - acc: 0.4298 - val_loss: 1.5363 - val_acc: 0.3115\n",
      "Epoch 64/500\n",
      "242/242 [==============================] - 0s - loss: 1.3551 - acc: 0.4380 - val_loss: 1.5243 - val_acc: 0.3934\n",
      "Epoch 65/500\n",
      "242/242 [==============================] - 0s - loss: 1.3744 - acc: 0.4504 - val_loss: 1.5136 - val_acc: 0.4098\n",
      "Epoch 66/500\n"
     ]
    },
    {
     "name": "stdout",
     "output_type": "stream",
     "text": [
      "242/242 [==============================] - 0s - loss: 1.3866 - acc: 0.4298 - val_loss: 1.5092 - val_acc: 0.4098\n",
      "Epoch 67/500\n",
      "242/242 [==============================] - 0s - loss: 1.3544 - acc: 0.4463 - val_loss: 1.5112 - val_acc: 0.3607\n",
      "Epoch 68/500\n",
      "242/242 [==============================] - 0s - loss: 1.3426 - acc: 0.4587 - val_loss: 1.5094 - val_acc: 0.4262\n",
      "Epoch 69/500\n",
      "242/242 [==============================] - 0s - loss: 1.3628 - acc: 0.4380 - val_loss: 1.5145 - val_acc: 0.4098\n",
      "Epoch 70/500\n",
      "242/242 [==============================] - 0s - loss: 1.3330 - acc: 0.4711 - val_loss: 1.5027 - val_acc: 0.3934\n",
      "Epoch 71/500\n",
      "242/242 [==============================] - 0s - loss: 1.3339 - acc: 0.4050 - val_loss: 1.4998 - val_acc: 0.4262\n",
      "Epoch 72/500\n",
      "242/242 [==============================] - 0s - loss: 1.2524 - acc: 0.5000 - val_loss: 1.4846 - val_acc: 0.3934\n",
      "Epoch 73/500\n",
      "242/242 [==============================] - 0s - loss: 1.2782 - acc: 0.4876 - val_loss: 1.4499 - val_acc: 0.4426\n",
      "Epoch 74/500\n",
      "242/242 [==============================] - 0s - loss: 1.3100 - acc: 0.4463 - val_loss: 1.4085 - val_acc: 0.4426\n",
      "Epoch 75/500\n",
      "242/242 [==============================] - 0s - loss: 1.3108 - acc: 0.4504 - val_loss: 1.4131 - val_acc: 0.5246\n",
      "Epoch 76/500\n",
      "242/242 [==============================] - 0s - loss: 1.2606 - acc: 0.4628 - val_loss: 1.4386 - val_acc: 0.5082\n",
      "Epoch 77/500\n",
      "242/242 [==============================] - 0s - loss: 1.2257 - acc: 0.5000 - val_loss: 1.4440 - val_acc: 0.5082\n",
      "Epoch 78/500\n",
      "242/242 [==============================] - 0s - loss: 1.2195 - acc: 0.5331 - val_loss: 1.4235 - val_acc: 0.5246\n",
      "Epoch 79/500\n",
      "242/242 [==============================] - 0s - loss: 1.1640 - acc: 0.5496 - val_loss: 1.4040 - val_acc: 0.5246\n",
      "Epoch 80/500\n",
      "242/242 [==============================] - 0s - loss: 1.1804 - acc: 0.5207 - val_loss: 1.3818 - val_acc: 0.5738\n",
      "Epoch 81/500\n",
      "242/242 [==============================] - 0s - loss: 1.1353 - acc: 0.5289 - val_loss: 1.3764 - val_acc: 0.5410\n",
      "Epoch 82/500\n",
      "242/242 [==============================] - 0s - loss: 1.1352 - acc: 0.5661 - val_loss: 1.3490 - val_acc: 0.5246\n",
      "Epoch 83/500\n",
      "242/242 [==============================] - 0s - loss: 1.1571 - acc: 0.5372 - val_loss: 1.3140 - val_acc: 0.6066\n",
      "Epoch 84/500\n",
      "242/242 [==============================] - 0s - loss: 1.0645 - acc: 0.6116 - val_loss: 1.3042 - val_acc: 0.6393\n",
      "Epoch 85/500\n",
      "242/242 [==============================] - 0s - loss: 1.0690 - acc: 0.5909 - val_loss: 1.2975 - val_acc: 0.6393\n",
      "Epoch 86/500\n",
      "242/242 [==============================] - 0s - loss: 1.0527 - acc: 0.5744 - val_loss: 1.2993 - val_acc: 0.5902\n",
      "Epoch 87/500\n",
      "242/242 [==============================] - 0s - loss: 1.0257 - acc: 0.6281 - val_loss: 1.3284 - val_acc: 0.5738\n",
      "Epoch 88/500\n",
      "242/242 [==============================] - 0s - loss: 1.0246 - acc: 0.6322 - val_loss: 1.2865 - val_acc: 0.6557\n",
      "Epoch 89/500\n",
      "242/242 [==============================] - 0s - loss: 1.0130 - acc: 0.6364 - val_loss: 1.2661 - val_acc: 0.6393\n",
      "Epoch 90/500\n",
      "242/242 [==============================] - 0s - loss: 0.9997 - acc: 0.5661 - val_loss: 1.2479 - val_acc: 0.6393\n",
      "Epoch 91/500\n",
      "242/242 [==============================] - 0s - loss: 1.0042 - acc: 0.6322 - val_loss: 1.1993 - val_acc: 0.6393\n",
      "Epoch 92/500\n",
      "242/242 [==============================] - 0s - loss: 0.9258 - acc: 0.6653 - val_loss: 1.1848 - val_acc: 0.6066\n",
      "Epoch 93/500\n",
      "242/242 [==============================] - 0s - loss: 0.9043 - acc: 0.6570 - val_loss: 1.1678 - val_acc: 0.6393\n",
      "Epoch 94/500\n",
      "242/242 [==============================] - 0s - loss: 0.8662 - acc: 0.7066 - val_loss: 1.1536 - val_acc: 0.6557\n",
      "Epoch 95/500\n",
      "242/242 [==============================] - 0s - loss: 0.8781 - acc: 0.6818 - val_loss: 1.1195 - val_acc: 0.6393\n",
      "Epoch 96/500\n",
      "242/242 [==============================] - 0s - loss: 0.7857 - acc: 0.7479 - val_loss: 1.0520 - val_acc: 0.6393\n",
      "Epoch 97/500\n",
      "242/242 [==============================] - 0s - loss: 0.8084 - acc: 0.7231 - val_loss: 1.0739 - val_acc: 0.6393\n",
      "Epoch 98/500\n",
      "242/242 [==============================] - 0s - loss: 0.8175 - acc: 0.6860 - val_loss: 1.0050 - val_acc: 0.7213\n",
      "Epoch 99/500\n",
      "242/242 [==============================] - 0s - loss: 0.7582 - acc: 0.7397 - val_loss: 1.0143 - val_acc: 0.7213\n",
      "Epoch 100/500\n",
      "242/242 [==============================] - 0s - loss: 0.7223 - acc: 0.7769 - val_loss: 1.0211 - val_acc: 0.7377\n",
      "Epoch 101/500\n",
      "242/242 [==============================] - 0s - loss: 0.7147 - acc: 0.7645 - val_loss: 0.9477 - val_acc: 0.7541\n",
      "Epoch 102/500\n",
      "242/242 [==============================] - 0s - loss: 0.6949 - acc: 0.7603 - val_loss: 0.9377 - val_acc: 0.7377\n",
      "Epoch 103/500\n",
      "242/242 [==============================] - 0s - loss: 0.6768 - acc: 0.7190 - val_loss: 0.9064 - val_acc: 0.7213\n",
      "Epoch 104/500\n",
      "242/242 [==============================] - 0s - loss: 0.6937 - acc: 0.7562 - val_loss: 0.9111 - val_acc: 0.7049\n",
      "Epoch 105/500\n",
      "242/242 [==============================] - 0s - loss: 0.5907 - acc: 0.7934 - val_loss: 0.9344 - val_acc: 0.7541\n",
      "Epoch 106/500\n",
      "242/242 [==============================] - 0s - loss: 0.5703 - acc: 0.8140 - val_loss: 0.8922 - val_acc: 0.7705\n",
      "Epoch 107/500\n",
      "242/242 [==============================] - 0s - loss: 0.6179 - acc: 0.7893 - val_loss: 0.8952 - val_acc: 0.7705\n",
      "Epoch 108/500\n",
      "242/242 [==============================] - 0s - loss: 0.5622 - acc: 0.8099 - val_loss: 0.8486 - val_acc: 0.8033\n",
      "Epoch 109/500\n",
      "242/242 [==============================] - 0s - loss: 0.5089 - acc: 0.8388 - val_loss: 0.7936 - val_acc: 0.8033\n",
      "Epoch 110/500\n",
      "242/242 [==============================] - 0s - loss: 0.5145 - acc: 0.8430 - val_loss: 0.8017 - val_acc: 0.7705\n",
      "Epoch 111/500\n",
      "242/242 [==============================] - 0s - loss: 0.4904 - acc: 0.8306 - val_loss: 0.7665 - val_acc: 0.7705\n",
      "Epoch 112/500\n",
      "242/242 [==============================] - 0s - loss: 0.4895 - acc: 0.8388 - val_loss: 0.7746 - val_acc: 0.7869\n",
      "Epoch 113/500\n",
      "242/242 [==============================] - 0s - loss: 0.4758 - acc: 0.8430 - val_loss: 0.7903 - val_acc: 0.7869\n",
      "Epoch 114/500\n",
      "242/242 [==============================] - 0s - loss: 0.4756 - acc: 0.8306 - val_loss: 0.7138 - val_acc: 0.8525\n",
      "Epoch 115/500\n",
      "242/242 [==============================] - 0s - loss: 0.4269 - acc: 0.8678 - val_loss: 0.6764 - val_acc: 0.8689\n",
      "Epoch 116/500\n",
      "242/242 [==============================] - 0s - loss: 0.4917 - acc: 0.8595 - val_loss: 0.6653 - val_acc: 0.8525\n",
      "Epoch 117/500\n",
      "242/242 [==============================] - 0s - loss: 0.4167 - acc: 0.8678 - val_loss: 0.6916 - val_acc: 0.8033\n",
      "Epoch 118/500\n",
      "242/242 [==============================] - 0s - loss: 0.4360 - acc: 0.8843 - val_loss: 0.6693 - val_acc: 0.8689\n",
      "Epoch 119/500\n",
      "242/242 [==============================] - 0s - loss: 0.4204 - acc: 0.8678 - val_loss: 0.6634 - val_acc: 0.8361\n",
      "Epoch 120/500\n",
      "242/242 [==============================] - 0s - loss: 0.3601 - acc: 0.8678 - val_loss: 0.6416 - val_acc: 0.8361\n",
      "Epoch 121/500\n",
      "242/242 [==============================] - 0s - loss: 0.3630 - acc: 0.8926 - val_loss: 0.6578 - val_acc: 0.8197\n",
      "Epoch 122/500\n",
      "242/242 [==============================] - 0s - loss: 0.3320 - acc: 0.8719 - val_loss: 0.6398 - val_acc: 0.8033\n",
      "Epoch 123/500\n",
      "242/242 [==============================] - 0s - loss: 0.4339 - acc: 0.8678 - val_loss: 0.5674 - val_acc: 0.8689\n",
      "Epoch 124/500\n",
      "242/242 [==============================] - 0s - loss: 0.3252 - acc: 0.9008 - val_loss: 0.6097 - val_acc: 0.8361\n",
      "Epoch 125/500\n",
      "242/242 [==============================] - 0s - loss: 0.3628 - acc: 0.8802 - val_loss: 0.5793 - val_acc: 0.8852\n",
      "Epoch 126/500\n",
      "242/242 [==============================] - 0s - loss: 0.3632 - acc: 0.8719 - val_loss: 0.5700 - val_acc: 0.8852\n",
      "Epoch 127/500\n",
      "242/242 [==============================] - 0s - loss: 0.3227 - acc: 0.9050 - val_loss: 0.5709 - val_acc: 0.8852\n",
      "Epoch 128/500\n",
      "242/242 [==============================] - 0s - loss: 0.3382 - acc: 0.8802 - val_loss: 0.5372 - val_acc: 0.8852\n",
      "Epoch 129/500\n",
      "242/242 [==============================] - 0s - loss: 0.3181 - acc: 0.8843 - val_loss: 0.5661 - val_acc: 0.8689\n",
      "Epoch 130/500\n",
      "242/242 [==============================] - 0s - loss: 0.3578 - acc: 0.8884 - val_loss: 0.5327 - val_acc: 0.8852\n",
      "Epoch 131/500\n"
     ]
    },
    {
     "name": "stdout",
     "output_type": "stream",
     "text": [
      "242/242 [==============================] - 0s - loss: 0.3070 - acc: 0.9008 - val_loss: 0.5437 - val_acc: 0.8689\n",
      "Epoch 132/500\n",
      "242/242 [==============================] - 0s - loss: 0.3111 - acc: 0.9256 - val_loss: 0.6165 - val_acc: 0.8689\n",
      "Epoch 133/500\n",
      "242/242 [==============================] - 0s - loss: 0.3036 - acc: 0.9008 - val_loss: 0.6290 - val_acc: 0.8525\n",
      "Epoch 134/500\n",
      "242/242 [==============================] - 0s - loss: 0.2760 - acc: 0.9215 - val_loss: 0.5637 - val_acc: 0.8689\n",
      "Epoch 135/500\n",
      "242/242 [==============================] - 0s - loss: 0.3009 - acc: 0.9132 - val_loss: 0.4879 - val_acc: 0.8689\n",
      "Epoch 136/500\n",
      "242/242 [==============================] - 0s - loss: 0.2640 - acc: 0.9132 - val_loss: 0.4396 - val_acc: 0.8852\n",
      "Epoch 137/500\n",
      "242/242 [==============================] - 0s - loss: 0.2461 - acc: 0.9091 - val_loss: 0.4379 - val_acc: 0.8852\n",
      "Epoch 138/500\n",
      "242/242 [==============================] - 0s - loss: 0.1995 - acc: 0.9339 - val_loss: 0.4471 - val_acc: 0.8852\n",
      "Epoch 139/500\n",
      "242/242 [==============================] - 0s - loss: 0.2530 - acc: 0.9339 - val_loss: 0.4645 - val_acc: 0.8852\n",
      "Epoch 140/500\n",
      "242/242 [==============================] - 0s - loss: 0.2966 - acc: 0.9008 - val_loss: 0.4724 - val_acc: 0.8852\n",
      "Epoch 141/500\n",
      "242/242 [==============================] - 0s - loss: 0.2397 - acc: 0.9256 - val_loss: 0.4833 - val_acc: 0.8525\n",
      "Epoch 142/500\n",
      "242/242 [==============================] - 0s - loss: 0.1868 - acc: 0.9545 - val_loss: 0.5012 - val_acc: 0.8361\n",
      "Epoch 143/500\n",
      "242/242 [==============================] - 0s - loss: 0.2239 - acc: 0.9256 - val_loss: 0.4803 - val_acc: 0.8525\n",
      "Epoch 144/500\n",
      "242/242 [==============================] - 0s - loss: 0.1909 - acc: 0.9256 - val_loss: 0.4508 - val_acc: 0.9016\n",
      "Epoch 145/500\n",
      "242/242 [==============================] - 0s - loss: 0.1818 - acc: 0.9421 - val_loss: 0.4464 - val_acc: 0.8689\n",
      "Epoch 146/500\n",
      "242/242 [==============================] - 0s - loss: 0.1723 - acc: 0.9504 - val_loss: 0.4403 - val_acc: 0.8852\n",
      "Epoch 147/500\n",
      "242/242 [==============================] - 0s - loss: 0.1854 - acc: 0.9463 - val_loss: 0.4426 - val_acc: 0.8852\n",
      "Epoch 148/500\n",
      "242/242 [==============================] - 0s - loss: 0.1794 - acc: 0.9421 - val_loss: 0.4483 - val_acc: 0.8689\n",
      "Epoch 149/500\n",
      "242/242 [==============================] - 0s - loss: 0.2283 - acc: 0.9132 - val_loss: 0.4226 - val_acc: 0.8852\n",
      "Epoch 150/500\n",
      "242/242 [==============================] - 0s - loss: 0.1324 - acc: 0.9752 - val_loss: 0.3987 - val_acc: 0.8852\n",
      "Epoch 151/500\n",
      "242/242 [==============================] - 0s - loss: 0.1704 - acc: 0.9504 - val_loss: 0.3778 - val_acc: 0.8852\n",
      "Epoch 152/500\n",
      "242/242 [==============================] - 0s - loss: 0.1611 - acc: 0.9628 - val_loss: 0.3686 - val_acc: 0.8689\n",
      "Epoch 153/500\n",
      "242/242 [==============================] - 0s - loss: 0.2229 - acc: 0.9050 - val_loss: 0.4062 - val_acc: 0.8852\n",
      "Epoch 154/500\n",
      "242/242 [==============================] - 0s - loss: 0.1631 - acc: 0.9463 - val_loss: 0.4320 - val_acc: 0.8852\n",
      "Epoch 155/500\n",
      "242/242 [==============================] - 0s - loss: 0.1644 - acc: 0.9339 - val_loss: 0.4232 - val_acc: 0.8852\n",
      "Epoch 156/500\n",
      "242/242 [==============================] - 0s - loss: 0.1582 - acc: 0.9421 - val_loss: 0.4180 - val_acc: 0.8852\n",
      "Epoch 157/500\n",
      "242/242 [==============================] - 0s - loss: 0.1593 - acc: 0.9545 - val_loss: 0.3903 - val_acc: 0.8852\n",
      "Epoch 158/500\n",
      "242/242 [==============================] - 0s - loss: 0.2100 - acc: 0.9298 - val_loss: 0.3901 - val_acc: 0.8689\n",
      "Epoch 159/500\n",
      "242/242 [==============================] - 0s - loss: 0.1621 - acc: 0.9545 - val_loss: 0.3946 - val_acc: 0.8525\n",
      "Epoch 160/500\n",
      "242/242 [==============================] - 0s - loss: 0.1500 - acc: 0.9587 - val_loss: 0.3892 - val_acc: 0.8689\n",
      "Epoch 161/500\n",
      "242/242 [==============================] - 0s - loss: 0.1529 - acc: 0.9504 - val_loss: 0.3613 - val_acc: 0.9016\n",
      "Epoch 162/500\n",
      "242/242 [==============================] - 0s - loss: 0.1543 - acc: 0.9421 - val_loss: 0.3530 - val_acc: 0.9016\n",
      "Epoch 163/500\n",
      "242/242 [==============================] - 0s - loss: 0.1444 - acc: 0.9545 - val_loss: 0.3575 - val_acc: 0.9016\n",
      "Epoch 164/500\n",
      "242/242 [==============================] - 0s - loss: 0.1684 - acc: 0.9587 - val_loss: 0.3500 - val_acc: 0.9016\n",
      "Epoch 165/500\n",
      "242/242 [==============================] - 0s - loss: 0.1159 - acc: 0.9669 - val_loss: 0.3681 - val_acc: 0.8689\n",
      "Epoch 166/500\n",
      "242/242 [==============================] - 0s - loss: 0.0952 - acc: 0.9669 - val_loss: 0.3968 - val_acc: 0.8689\n",
      "Epoch 167/500\n",
      "242/242 [==============================] - 0s - loss: 0.1331 - acc: 0.9463 - val_loss: 0.4206 - val_acc: 0.8852\n",
      "Epoch 168/500\n",
      "242/242 [==============================] - 0s - loss: 0.1660 - acc: 0.9339 - val_loss: 0.4094 - val_acc: 0.8852\n",
      "Epoch 169/500\n",
      "242/242 [==============================] - 0s - loss: 0.1380 - acc: 0.9380 - val_loss: 0.3893 - val_acc: 0.8852\n",
      "Epoch 170/500\n",
      "242/242 [==============================] - 0s - loss: 0.1281 - acc: 0.9545 - val_loss: 0.3574 - val_acc: 0.8689\n",
      "Epoch 171/500\n",
      "242/242 [==============================] - 0s - loss: 0.1773 - acc: 0.9298 - val_loss: 0.3414 - val_acc: 0.9016\n",
      "Epoch 172/500\n",
      "242/242 [==============================] - 0s - loss: 0.0905 - acc: 0.9752 - val_loss: 0.3399 - val_acc: 0.9016\n",
      "Epoch 173/500\n",
      "242/242 [==============================] - 0s - loss: 0.1139 - acc: 0.9711 - val_loss: 0.3331 - val_acc: 0.9016\n",
      "Epoch 174/500\n",
      "242/242 [==============================] - 0s - loss: 0.1651 - acc: 0.9628 - val_loss: 0.3367 - val_acc: 0.9016\n",
      "Epoch 175/500\n",
      "242/242 [==============================] - 0s - loss: 0.1062 - acc: 0.9587 - val_loss: 0.3510 - val_acc: 0.8852\n",
      "Epoch 176/500\n",
      "242/242 [==============================] - 0s - loss: 0.1065 - acc: 0.9628 - val_loss: 0.3733 - val_acc: 0.9016\n",
      "Epoch 177/500\n",
      "242/242 [==============================] - 0s - loss: 0.0936 - acc: 0.9752 - val_loss: 0.3771 - val_acc: 0.8852\n",
      "Epoch 178/500\n",
      "242/242 [==============================] - 0s - loss: 0.1292 - acc: 0.9587 - val_loss: 0.3424 - val_acc: 0.9016\n",
      "Epoch 179/500\n",
      "242/242 [==============================] - 0s - loss: 0.1031 - acc: 0.9711 - val_loss: 0.3121 - val_acc: 0.9344\n",
      "Epoch 180/500\n",
      "242/242 [==============================] - 0s - loss: 0.0960 - acc: 0.9752 - val_loss: 0.3128 - val_acc: 0.9016\n",
      "Epoch 181/500\n",
      "242/242 [==============================] - 0s - loss: 0.1013 - acc: 0.9752 - val_loss: 0.3197 - val_acc: 0.9016\n",
      "Epoch 182/500\n",
      "242/242 [==============================] - 0s - loss: 0.1176 - acc: 0.9545 - val_loss: 0.3118 - val_acc: 0.9016\n",
      "Epoch 183/500\n",
      "242/242 [==============================] - 0s - loss: 0.0892 - acc: 0.9876 - val_loss: 0.3128 - val_acc: 0.9016\n",
      "Epoch 184/500\n",
      "242/242 [==============================] - 0s - loss: 0.0898 - acc: 0.9876 - val_loss: 0.3386 - val_acc: 0.8689\n",
      "Epoch 185/500\n",
      "242/242 [==============================] - 0s - loss: 0.1148 - acc: 0.9669 - val_loss: 0.3993 - val_acc: 0.8525\n",
      "Epoch 186/500\n",
      "242/242 [==============================] - 0s - loss: 0.0820 - acc: 0.9711 - val_loss: 0.4561 - val_acc: 0.8689\n",
      "Epoch 187/500\n",
      "242/242 [==============================] - 0s - loss: 0.0545 - acc: 0.9876 - val_loss: 0.4999 - val_acc: 0.8689\n",
      "Epoch 188/500\n",
      "242/242 [==============================] - 0s - loss: 0.0939 - acc: 0.9628 - val_loss: 0.4968 - val_acc: 0.8689\n",
      "Epoch 189/500\n",
      "242/242 [==============================] - 0s - loss: 0.0995 - acc: 0.9628 - val_loss: 0.4465 - val_acc: 0.8689\n",
      "Epoch 190/500\n",
      "242/242 [==============================] - 0s - loss: 0.0711 - acc: 0.9835 - val_loss: 0.3783 - val_acc: 0.8689\n",
      "Epoch 191/500\n",
      "242/242 [==============================] - 0s - loss: 0.1010 - acc: 0.9752 - val_loss: 0.3380 - val_acc: 0.8852\n",
      "Epoch 192/500\n",
      "242/242 [==============================] - 0s - loss: 0.1172 - acc: 0.9628 - val_loss: 0.3307 - val_acc: 0.9016\n",
      "Epoch 193/500\n",
      "242/242 [==============================] - 0s - loss: 0.0860 - acc: 0.9752 - val_loss: 0.3135 - val_acc: 0.9016\n",
      "Epoch 194/500\n",
      "242/242 [==============================] - 0s - loss: 0.0745 - acc: 0.9711 - val_loss: 0.3093 - val_acc: 0.9016\n",
      "Epoch 195/500\n",
      "242/242 [==============================] - 0s - loss: 0.0714 - acc: 0.9835 - val_loss: 0.2969 - val_acc: 0.9016\n",
      "Epoch 196/500\n"
     ]
    },
    {
     "name": "stdout",
     "output_type": "stream",
     "text": [
      "242/242 [==============================] - 0s - loss: 0.0743 - acc: 0.9752 - val_loss: 0.2871 - val_acc: 0.9016\n",
      "Epoch 197/500\n",
      "242/242 [==============================] - 0s - loss: 0.0661 - acc: 0.9752 - val_loss: 0.2832 - val_acc: 0.8689\n",
      "Epoch 198/500\n",
      "242/242 [==============================] - 0s - loss: 0.0863 - acc: 0.9669 - val_loss: 0.2641 - val_acc: 0.9344\n",
      "Epoch 199/500\n",
      "242/242 [==============================] - 0s - loss: 0.0902 - acc: 0.9793 - val_loss: 0.2629 - val_acc: 0.9180\n",
      "Epoch 200/500\n",
      "242/242 [==============================] - 0s - loss: 0.0875 - acc: 0.9711 - val_loss: 0.2774 - val_acc: 0.9344\n",
      "Epoch 201/500\n",
      "242/242 [==============================] - 0s - loss: 0.0739 - acc: 0.9711 - val_loss: 0.2884 - val_acc: 0.9180\n",
      "Epoch 202/500\n",
      "242/242 [==============================] - 0s - loss: 0.0787 - acc: 0.9711 - val_loss: 0.2913 - val_acc: 0.8852\n",
      "Epoch 203/500\n",
      "242/242 [==============================] - 0s - loss: 0.0452 - acc: 0.9959 - val_loss: 0.3097 - val_acc: 0.8852\n",
      "Epoch 204/500\n",
      "242/242 [==============================] - 0s - loss: 0.0722 - acc: 0.9876 - val_loss: 0.3201 - val_acc: 0.8852\n",
      "Epoch 205/500\n",
      "242/242 [==============================] - 0s - loss: 0.0882 - acc: 0.9711 - val_loss: 0.3043 - val_acc: 0.9016\n",
      "Epoch 206/500\n",
      "242/242 [==============================] - 0s - loss: 0.0934 - acc: 0.9669 - val_loss: 0.2896 - val_acc: 0.9016\n",
      "Epoch 207/500\n",
      "242/242 [==============================] - 0s - loss: 0.0814 - acc: 0.9669 - val_loss: 0.2908 - val_acc: 0.9016\n",
      "Epoch 208/500\n",
      "242/242 [==============================] - 0s - loss: 0.0932 - acc: 0.9793 - val_loss: 0.2767 - val_acc: 0.9016\n",
      "Epoch 209/500\n",
      "242/242 [==============================] - 0s - loss: 0.0788 - acc: 0.9835 - val_loss: 0.2590 - val_acc: 0.9180\n",
      "Epoch 210/500\n",
      "242/242 [==============================] - 0s - loss: 0.0564 - acc: 0.9876 - val_loss: 0.2442 - val_acc: 0.9344\n",
      "Epoch 211/500\n",
      "242/242 [==============================] - 0s - loss: 0.0412 - acc: 0.9959 - val_loss: 0.2336 - val_acc: 0.9344\n",
      "Epoch 212/500\n",
      "242/242 [==============================] - 0s - loss: 0.0434 - acc: 0.9917 - val_loss: 0.2251 - val_acc: 0.9344\n",
      "Epoch 213/500\n",
      "242/242 [==============================] - 0s - loss: 0.0468 - acc: 0.9876 - val_loss: 0.2200 - val_acc: 0.9344\n",
      "Epoch 214/500\n",
      "242/242 [==============================] - 0s - loss: 0.0605 - acc: 0.9793 - val_loss: 0.2199 - val_acc: 0.9344\n",
      "Epoch 215/500\n",
      "242/242 [==============================] - 0s - loss: 0.0482 - acc: 0.9917 - val_loss: 0.2242 - val_acc: 0.9344\n",
      "Epoch 216/500\n",
      "242/242 [==============================] - 0s - loss: 0.0663 - acc: 0.9711 - val_loss: 0.2371 - val_acc: 0.9180\n",
      "Epoch 217/500\n",
      "242/242 [==============================] - 0s - loss: 0.0513 - acc: 0.9876 - val_loss: 0.2490 - val_acc: 0.9180\n",
      "Epoch 218/500\n",
      "242/242 [==============================] - 0s - loss: 0.0662 - acc: 0.9876 - val_loss: 0.2597 - val_acc: 0.9180\n",
      "Epoch 219/500\n",
      "242/242 [==============================] - 0s - loss: 0.0579 - acc: 0.9793 - val_loss: 0.2580 - val_acc: 0.9180\n",
      "Epoch 220/500\n",
      "242/242 [==============================] - 0s - loss: 0.0914 - acc: 0.9628 - val_loss: 0.2582 - val_acc: 0.9180\n",
      "Epoch 221/500\n",
      "242/242 [==============================] - 0s - loss: 0.0429 - acc: 0.9876 - val_loss: 0.2665 - val_acc: 0.9180\n",
      "Epoch 222/500\n",
      "242/242 [==============================] - 0s - loss: 0.0386 - acc: 0.9917 - val_loss: 0.2723 - val_acc: 0.9180\n",
      "Epoch 223/500\n",
      "242/242 [==============================] - 0s - loss: 0.0440 - acc: 0.9917 - val_loss: 0.2731 - val_acc: 0.9180\n",
      "Epoch 224/500\n",
      "242/242 [==============================] - 0s - loss: 0.0550 - acc: 0.9876 - val_loss: 0.2635 - val_acc: 0.9180\n",
      "Epoch 225/500\n",
      "242/242 [==============================] - 0s - loss: 0.0488 - acc: 0.9835 - val_loss: 0.2534 - val_acc: 0.9180\n",
      "Epoch 226/500\n",
      "242/242 [==============================] - 0s - loss: 0.0386 - acc: 0.9917 - val_loss: 0.2558 - val_acc: 0.9180\n",
      "Epoch 227/500\n",
      "242/242 [==============================] - 0s - loss: 0.0600 - acc: 0.9917 - val_loss: 0.2651 - val_acc: 0.9180\n",
      "Epoch 228/500\n",
      "242/242 [==============================] - 0s - loss: 0.0724 - acc: 0.9752 - val_loss: 0.2690 - val_acc: 0.9180\n",
      "Epoch 229/500\n",
      "242/242 [==============================] - 0s - loss: 0.0731 - acc: 0.9793 - val_loss: 0.2611 - val_acc: 0.9180\n",
      "Epoch 230/500\n",
      "242/242 [==============================] - 0s - loss: 0.0440 - acc: 0.9876 - val_loss: 0.2556 - val_acc: 0.9016\n",
      "Epoch 231/500\n",
      "242/242 [==============================] - 0s - loss: 0.0483 - acc: 0.9876 - val_loss: 0.2580 - val_acc: 0.9180\n",
      "Epoch 232/500\n",
      "242/242 [==============================] - 0s - loss: 0.0295 - acc: 0.9917 - val_loss: 0.2664 - val_acc: 0.9180\n",
      "Epoch 233/500\n",
      "242/242 [==============================] - 0s - loss: 0.0564 - acc: 0.9876 - val_loss: 0.2654 - val_acc: 0.9180\n",
      "Epoch 234/500\n",
      "242/242 [==============================] - 0s - loss: 0.0805 - acc: 0.9711 - val_loss: 0.2627 - val_acc: 0.9180\n",
      "Epoch 235/500\n",
      "242/242 [==============================] - 0s - loss: 0.0556 - acc: 0.9793 - val_loss: 0.2580 - val_acc: 0.9016\n",
      "Epoch 236/500\n",
      "242/242 [==============================] - 0s - loss: 0.0397 - acc: 0.9835 - val_loss: 0.2629 - val_acc: 0.9016\n",
      "Epoch 237/500\n",
      "242/242 [==============================] - 0s - loss: 0.0466 - acc: 0.9917 - val_loss: 0.2691 - val_acc: 0.9016\n",
      "Epoch 238/500\n",
      "242/242 [==============================] - 0s - loss: 0.0823 - acc: 0.9752 - val_loss: 0.2919 - val_acc: 0.9180\n",
      "Epoch 239/500\n",
      "242/242 [==============================] - 0s - loss: 0.0401 - acc: 0.9835 - val_loss: 0.3202 - val_acc: 0.9016\n",
      "Epoch 240/500\n",
      "242/242 [==============================] - 0s - loss: 0.0424 - acc: 0.9876 - val_loss: 0.3321 - val_acc: 0.9016\n",
      "Epoch 241/500\n",
      "242/242 [==============================] - 0s - loss: 0.0907 - acc: 0.9628 - val_loss: 0.3131 - val_acc: 0.9180\n",
      "Epoch 242/500\n",
      "242/242 [==============================] - 0s - loss: 0.0357 - acc: 0.9959 - val_loss: 0.2914 - val_acc: 0.9180\n",
      "Epoch 243/500\n",
      "242/242 [==============================] - 0s - loss: 0.0321 - acc: 0.9876 - val_loss: 0.2721 - val_acc: 0.9180\n",
      "Epoch 244/500\n",
      "242/242 [==============================] - 0s - loss: 0.0473 - acc: 0.9876 - val_loss: 0.2517 - val_acc: 0.9180\n",
      "Epoch 245/500\n",
      "242/242 [==============================] - 0s - loss: 0.0349 - acc: 0.9917 - val_loss: 0.2374 - val_acc: 0.9344\n",
      "Epoch 246/500\n",
      "242/242 [==============================] - 0s - loss: 0.0369 - acc: 0.9917 - val_loss: 0.2318 - val_acc: 0.9508\n",
      "Epoch 247/500\n",
      "242/242 [==============================] - 0s - loss: 0.0238 - acc: 1.0000 - val_loss: 0.2371 - val_acc: 0.9344\n",
      "Epoch 248/500\n",
      "242/242 [==============================] - 0s - loss: 0.0705 - acc: 0.9876 - val_loss: 0.2393 - val_acc: 0.9508\n",
      "Epoch 249/500\n",
      "242/242 [==============================] - 0s - loss: 0.0418 - acc: 0.9835 - val_loss: 0.2414 - val_acc: 0.9344\n",
      "Epoch 250/500\n",
      "242/242 [==============================] - 0s - loss: 0.0244 - acc: 0.9959 - val_loss: 0.2369 - val_acc: 0.9344\n",
      "Epoch 251/500\n",
      "242/242 [==============================] - 0s - loss: 0.0477 - acc: 0.9793 - val_loss: 0.2378 - val_acc: 0.9344\n",
      "Epoch 252/500\n",
      "242/242 [==============================] - 0s - loss: 0.0393 - acc: 0.9835 - val_loss: 0.2387 - val_acc: 0.9344\n",
      "Epoch 253/500\n",
      "242/242 [==============================] - 0s - loss: 0.0286 - acc: 1.0000 - val_loss: 0.2517 - val_acc: 0.9180\n",
      "Epoch 254/500\n",
      "242/242 [==============================] - 0s - loss: 0.0356 - acc: 0.9876 - val_loss: 0.2771 - val_acc: 0.9180\n",
      "Epoch 255/500\n",
      "242/242 [==============================] - 0s - loss: 0.0377 - acc: 0.9876 - val_loss: 0.3010 - val_acc: 0.9016\n",
      "Epoch 256/500\n",
      "242/242 [==============================] - 0s - loss: 0.0476 - acc: 0.9835 - val_loss: 0.3133 - val_acc: 0.9016\n",
      "Epoch 257/500\n",
      "242/242 [==============================] - 0s - loss: 0.0429 - acc: 0.9876 - val_loss: 0.3141 - val_acc: 0.9016\n",
      "Epoch 258/500\n",
      "242/242 [==============================] - 0s - loss: 0.0362 - acc: 0.9793 - val_loss: 0.3219 - val_acc: 0.9016\n",
      "Epoch 259/500\n",
      "242/242 [==============================] - 0s - loss: 0.0499 - acc: 0.9876 - val_loss: 0.3244 - val_acc: 0.9016\n",
      "Epoch 260/500\n",
      "242/242 [==============================] - 0s - loss: 0.0340 - acc: 0.9876 - val_loss: 0.3257 - val_acc: 0.9016\n",
      "Epoch 261/500\n"
     ]
    },
    {
     "name": "stdout",
     "output_type": "stream",
     "text": [
      "242/242 [==============================] - 0s - loss: 0.0348 - acc: 0.9917 - val_loss: 0.3198 - val_acc: 0.9016\n",
      "Epoch 262/500\n",
      "242/242 [==============================] - 0s - loss: 0.0385 - acc: 0.9917 - val_loss: 0.3173 - val_acc: 0.8852\n",
      "Epoch 263/500\n",
      "242/242 [==============================] - 0s - loss: 0.0377 - acc: 0.9917 - val_loss: 0.2989 - val_acc: 0.8852\n",
      "Epoch 264/500\n",
      "242/242 [==============================] - 0s - loss: 0.0382 - acc: 0.9917 - val_loss: 0.2839 - val_acc: 0.8852\n",
      "Epoch 265/500\n",
      "242/242 [==============================] - 0s - loss: 0.0320 - acc: 0.9876 - val_loss: 0.2691 - val_acc: 0.8852\n",
      "Epoch 266/500\n",
      "242/242 [==============================] - 0s - loss: 0.0390 - acc: 0.9876 - val_loss: 0.2564 - val_acc: 0.9016\n",
      "Epoch 267/500\n",
      "242/242 [==============================] - 0s - loss: 0.0222 - acc: 1.0000 - val_loss: 0.2476 - val_acc: 0.9180\n",
      "Epoch 268/500\n",
      "242/242 [==============================] - 0s - loss: 0.0425 - acc: 0.9793 - val_loss: 0.2613 - val_acc: 0.9180\n",
      "Epoch 269/500\n",
      "242/242 [==============================] - 0s - loss: 0.0161 - acc: 0.9917 - val_loss: 0.2666 - val_acc: 0.9344\n",
      "Epoch 270/500\n",
      "242/242 [==============================] - 0s - loss: 0.0362 - acc: 0.9876 - val_loss: 0.2783 - val_acc: 0.9180\n",
      "Epoch 271/500\n",
      "242/242 [==============================] - 0s - loss: 0.0387 - acc: 0.9917 - val_loss: 0.2903 - val_acc: 0.9180\n",
      "Epoch 272/500\n",
      "242/242 [==============================] - 0s - loss: 0.0311 - acc: 0.9876 - val_loss: 0.2847 - val_acc: 0.9180\n",
      "Epoch 273/500\n",
      "242/242 [==============================] - 0s - loss: 0.0418 - acc: 0.9917 - val_loss: 0.2729 - val_acc: 0.9016\n",
      "Epoch 274/500\n",
      "242/242 [==============================] - 0s - loss: 0.0252 - acc: 0.9959 - val_loss: 0.2606 - val_acc: 0.9016\n",
      "Epoch 275/500\n",
      "242/242 [==============================] - 0s - loss: 0.0373 - acc: 0.9835 - val_loss: 0.2441 - val_acc: 0.9016\n",
      "Epoch 276/500\n",
      "242/242 [==============================] - 0s - loss: 0.0165 - acc: 0.9917 - val_loss: 0.2347 - val_acc: 0.9016\n",
      "Epoch 277/500\n",
      "242/242 [==============================] - 0s - loss: 0.0199 - acc: 0.9917 - val_loss: 0.2301 - val_acc: 0.9180\n",
      "Epoch 278/500\n",
      "242/242 [==============================] - 0s - loss: 0.0464 - acc: 0.9917 - val_loss: 0.2263 - val_acc: 0.9180\n",
      "Epoch 279/500\n",
      "242/242 [==============================] - 0s - loss: 0.0143 - acc: 1.0000 - val_loss: 0.2289 - val_acc: 0.9344\n",
      "Epoch 280/500\n",
      "242/242 [==============================] - 0s - loss: 0.0311 - acc: 0.9917 - val_loss: 0.2275 - val_acc: 0.9344\n",
      "Epoch 281/500\n",
      "242/242 [==============================] - 0s - loss: 0.0668 - acc: 0.9752 - val_loss: 0.2263 - val_acc: 0.9180\n",
      "Epoch 282/500\n",
      "242/242 [==============================] - 0s - loss: 0.0217 - acc: 0.9959 - val_loss: 0.2349 - val_acc: 0.9180\n",
      "Epoch 283/500\n",
      "242/242 [==============================] - 0s - loss: 0.0213 - acc: 0.9959 - val_loss: 0.2506 - val_acc: 0.9016\n",
      "Epoch 284/500\n",
      "242/242 [==============================] - 0s - loss: 0.0266 - acc: 0.9959 - val_loss: 0.2681 - val_acc: 0.9016\n",
      "Epoch 285/500\n",
      "242/242 [==============================] - 0s - loss: 0.0164 - acc: 0.9959 - val_loss: 0.2861 - val_acc: 0.9180\n",
      "Epoch 286/500\n",
      "242/242 [==============================] - 0s - loss: 0.0913 - acc: 0.9876 - val_loss: 0.2850 - val_acc: 0.9180\n",
      "Epoch 287/500\n",
      "242/242 [==============================] - 0s - loss: 0.0288 - acc: 0.9917 - val_loss: 0.2847 - val_acc: 0.9016\n",
      "Epoch 288/500\n",
      "242/242 [==============================] - 0s - loss: 0.0255 - acc: 0.9917 - val_loss: 0.2849 - val_acc: 0.9016\n",
      "Epoch 289/500\n",
      "242/242 [==============================] - 0s - loss: 0.0343 - acc: 0.9917 - val_loss: 0.2799 - val_acc: 0.9016\n",
      "Epoch 290/500\n",
      "242/242 [==============================] - 0s - loss: 0.0572 - acc: 0.9876 - val_loss: 0.2518 - val_acc: 0.9016\n",
      "Epoch 291/500\n",
      "242/242 [==============================] - 0s - loss: 0.0258 - acc: 0.9876 - val_loss: 0.2265 - val_acc: 0.9016\n",
      "Epoch 292/500\n",
      "242/242 [==============================] - 0s - loss: 0.0288 - acc: 0.9959 - val_loss: 0.2280 - val_acc: 0.9016\n",
      "Epoch 293/500\n",
      "242/242 [==============================] - 0s - loss: 0.0172 - acc: 1.0000 - val_loss: 0.2345 - val_acc: 0.9016\n",
      "Epoch 294/500\n",
      "242/242 [==============================] - 0s - loss: 0.0302 - acc: 0.9876 - val_loss: 0.2202 - val_acc: 0.9180\n",
      "Epoch 295/500\n",
      "242/242 [==============================] - 0s - loss: 0.0096 - acc: 1.0000 - val_loss: 0.2122 - val_acc: 0.9180\n",
      "Epoch 296/500\n",
      "242/242 [==============================] - 0s - loss: 0.0459 - acc: 0.9917 - val_loss: 0.2216 - val_acc: 0.9180\n",
      "Epoch 297/500\n",
      "242/242 [==============================] - 0s - loss: 0.0627 - acc: 0.9793 - val_loss: 0.2375 - val_acc: 0.9180\n",
      "Epoch 298/500\n",
      "242/242 [==============================] - 0s - loss: 0.0258 - acc: 0.9959 - val_loss: 0.2633 - val_acc: 0.9180\n",
      "Epoch 299/500\n",
      "242/242 [==============================] - 0s - loss: 0.0490 - acc: 0.9876 - val_loss: 0.2728 - val_acc: 0.9180\n",
      "Epoch 300/500\n",
      "242/242 [==============================] - 0s - loss: 0.0197 - acc: 0.9959 - val_loss: 0.2955 - val_acc: 0.9016\n",
      "Epoch 301/500\n",
      "242/242 [==============================] - 0s - loss: 0.0390 - acc: 0.9917 - val_loss: 0.3066 - val_acc: 0.9016\n",
      "Epoch 302/500\n",
      "242/242 [==============================] - 0s - loss: 0.0316 - acc: 0.9917 - val_loss: 0.3125 - val_acc: 0.9016\n",
      "Epoch 303/500\n",
      "242/242 [==============================] - 0s - loss: 0.0264 - acc: 0.9876 - val_loss: 0.3413 - val_acc: 0.9016\n",
      "Epoch 304/500\n",
      "242/242 [==============================] - 0s - loss: 0.0430 - acc: 0.9917 - val_loss: 0.3593 - val_acc: 0.9016\n",
      "Epoch 305/500\n",
      "242/242 [==============================] - 0s - loss: 0.0680 - acc: 0.9917 - val_loss: 0.3576 - val_acc: 0.8852\n",
      "Epoch 306/500\n",
      "242/242 [==============================] - 0s - loss: 0.0275 - acc: 1.0000 - val_loss: 0.3428 - val_acc: 0.8852\n",
      "Epoch 307/500\n",
      "242/242 [==============================] - 0s - loss: 0.0405 - acc: 0.9917 - val_loss: 0.3137 - val_acc: 0.8852\n",
      "Epoch 308/500\n",
      "242/242 [==============================] - 0s - loss: 0.0266 - acc: 0.9917 - val_loss: 0.2925 - val_acc: 0.8852\n",
      "Epoch 309/500\n",
      "242/242 [==============================] - 0s - loss: 0.0228 - acc: 0.9917 - val_loss: 0.2778 - val_acc: 0.9016\n",
      "Epoch 310/500\n",
      "242/242 [==============================] - 0s - loss: 0.0283 - acc: 0.9917 - val_loss: 0.2746 - val_acc: 0.9180\n",
      "Epoch 311/500\n",
      "242/242 [==============================] - 0s - loss: 0.0351 - acc: 0.9917 - val_loss: 0.2666 - val_acc: 0.9180\n",
      "Epoch 312/500\n",
      "242/242 [==============================] - 0s - loss: 0.0211 - acc: 0.9959 - val_loss: 0.2724 - val_acc: 0.9180\n",
      "Epoch 313/500\n",
      "242/242 [==============================] - 0s - loss: 0.0144 - acc: 1.0000 - val_loss: 0.2833 - val_acc: 0.9180\n",
      "Epoch 314/500\n",
      "242/242 [==============================] - 0s - loss: 0.0699 - acc: 0.9917 - val_loss: 0.2775 - val_acc: 0.9180\n",
      "Epoch 315/500\n",
      "242/242 [==============================] - 0s - loss: 0.0364 - acc: 0.9876 - val_loss: 0.2803 - val_acc: 0.9180\n",
      "Epoch 316/500\n",
      "242/242 [==============================] - 0s - loss: 0.0157 - acc: 1.0000 - val_loss: 0.2853 - val_acc: 0.9016\n",
      "Epoch 317/500\n",
      "242/242 [==============================] - 0s - loss: 0.0329 - acc: 0.9876 - val_loss: 0.2866 - val_acc: 0.9016\n",
      "Epoch 318/500\n",
      "242/242 [==============================] - 0s - loss: 0.0271 - acc: 0.9876 - val_loss: 0.2955 - val_acc: 0.9016\n",
      "Epoch 319/500\n",
      "242/242 [==============================] - 0s - loss: 0.0270 - acc: 0.9917 - val_loss: 0.3048 - val_acc: 0.9180\n",
      "Epoch 320/500\n",
      "242/242 [==============================] - 0s - loss: 0.0156 - acc: 0.9959 - val_loss: 0.3161 - val_acc: 0.9344\n",
      "Epoch 321/500\n",
      "242/242 [==============================] - 0s - loss: 0.0268 - acc: 0.9917 - val_loss: 0.3219 - val_acc: 0.9344\n",
      "Epoch 322/500\n",
      "242/242 [==============================] - 0s - loss: 0.0221 - acc: 0.9959 - val_loss: 0.3234 - val_acc: 0.9344\n",
      "Epoch 323/500\n",
      "242/242 [==============================] - 0s - loss: 0.0309 - acc: 0.9917 - val_loss: 0.3250 - val_acc: 0.9180\n",
      "Epoch 324/500\n",
      "242/242 [==============================] - 0s - loss: 0.0207 - acc: 0.9917 - val_loss: 0.3222 - val_acc: 0.9180\n",
      "Epoch 325/500\n",
      "242/242 [==============================] - 0s - loss: 0.0220 - acc: 0.9959 - val_loss: 0.3151 - val_acc: 0.9180\n",
      "Epoch 326/500\n"
     ]
    },
    {
     "name": "stdout",
     "output_type": "stream",
     "text": [
      "242/242 [==============================] - 0s - loss: 0.0228 - acc: 0.9917 - val_loss: 0.3080 - val_acc: 0.9344\n",
      "Epoch 327/500\n",
      "242/242 [==============================] - 0s - loss: 0.0497 - acc: 0.9917 - val_loss: 0.3110 - val_acc: 0.9180\n",
      "Epoch 328/500\n",
      "242/242 [==============================] - 0s - loss: 0.0211 - acc: 0.9917 - val_loss: 0.3236 - val_acc: 0.9016\n",
      "Epoch 329/500\n",
      "242/242 [==============================] - 0s - loss: 0.0106 - acc: 0.9959 - val_loss: 0.3352 - val_acc: 0.9016\n",
      "Epoch 330/500\n",
      "242/242 [==============================] - 0s - loss: 0.0266 - acc: 0.9917 - val_loss: 0.3393 - val_acc: 0.9180\n",
      "Epoch 331/500\n",
      "242/242 [==============================] - 0s - loss: 0.0150 - acc: 1.0000 - val_loss: 0.3439 - val_acc: 0.9180\n",
      "Epoch 332/500\n",
      "242/242 [==============================] - 0s - loss: 0.0141 - acc: 0.9959 - val_loss: 0.3514 - val_acc: 0.9180\n",
      "Epoch 333/500\n",
      "242/242 [==============================] - 0s - loss: 0.0212 - acc: 0.9917 - val_loss: 0.3488 - val_acc: 0.9180\n",
      "Epoch 334/500\n",
      "242/242 [==============================] - 0s - loss: 0.0262 - acc: 0.9917 - val_loss: 0.3434 - val_acc: 0.9016\n",
      "Epoch 335/500\n",
      "242/242 [==============================] - 0s - loss: 0.0143 - acc: 0.9959 - val_loss: 0.3358 - val_acc: 0.9016\n",
      "Epoch 336/500\n",
      "242/242 [==============================] - 0s - loss: 0.0115 - acc: 1.0000 - val_loss: 0.3341 - val_acc: 0.9180\n",
      "Epoch 337/500\n",
      "242/242 [==============================] - 0s - loss: 0.0317 - acc: 0.9835 - val_loss: 0.3431 - val_acc: 0.9180\n",
      "Epoch 338/500\n",
      "242/242 [==============================] - 0s - loss: 0.0270 - acc: 0.9917 - val_loss: 0.3384 - val_acc: 0.9180\n",
      "Epoch 339/500\n",
      "242/242 [==============================] - 0s - loss: 0.0098 - acc: 1.0000 - val_loss: 0.3320 - val_acc: 0.9180\n",
      "Epoch 340/500\n",
      "242/242 [==============================] - 0s - loss: 0.0147 - acc: 1.0000 - val_loss: 0.3245 - val_acc: 0.9180\n",
      "Epoch 341/500\n",
      "242/242 [==============================] - 0s - loss: 0.0583 - acc: 0.9876 - val_loss: 0.3213 - val_acc: 0.9016\n",
      "Epoch 342/500\n",
      "242/242 [==============================] - 0s - loss: 0.0199 - acc: 0.9917 - val_loss: 0.3133 - val_acc: 0.9180\n",
      "Epoch 343/500\n",
      "242/242 [==============================] - 0s - loss: 0.0268 - acc: 0.9959 - val_loss: 0.3129 - val_acc: 0.9180\n",
      "Epoch 344/500\n",
      "242/242 [==============================] - 0s - loss: 0.0347 - acc: 0.9917 - val_loss: 0.3008 - val_acc: 0.9180\n",
      "Epoch 345/500\n",
      "242/242 [==============================] - 0s - loss: 0.0140 - acc: 0.9959 - val_loss: 0.2946 - val_acc: 0.9344\n",
      "Epoch 346/500\n",
      "242/242 [==============================] - 0s - loss: 0.0251 - acc: 0.9876 - val_loss: 0.2878 - val_acc: 0.9344\n",
      "Epoch 347/500\n",
      "242/242 [==============================] - 0s - loss: 0.0175 - acc: 0.9959 - val_loss: 0.2858 - val_acc: 0.9344\n",
      "Epoch 348/500\n",
      "242/242 [==============================] - 0s - loss: 0.0119 - acc: 0.9959 - val_loss: 0.2883 - val_acc: 0.9180\n",
      "Epoch 349/500\n",
      "242/242 [==============================] - 0s - loss: 0.0160 - acc: 1.0000 - val_loss: 0.2912 - val_acc: 0.9344\n",
      "Epoch 350/500\n",
      "242/242 [==============================] - 0s - loss: 0.0187 - acc: 0.9959 - val_loss: 0.2796 - val_acc: 0.9344\n",
      "Epoch 351/500\n",
      "242/242 [==============================] - 0s - loss: 0.0218 - acc: 0.9959 - val_loss: 0.2689 - val_acc: 0.9344\n",
      "Epoch 352/500\n",
      "242/242 [==============================] - 0s - loss: 0.0132 - acc: 0.9959 - val_loss: 0.2636 - val_acc: 0.9344\n",
      "Epoch 353/500\n",
      "242/242 [==============================] - 0s - loss: 0.0194 - acc: 0.9959 - val_loss: 0.2589 - val_acc: 0.9180\n",
      "Epoch 354/500\n",
      "242/242 [==============================] - 0s - loss: 0.0170 - acc: 1.0000 - val_loss: 0.2578 - val_acc: 0.9016\n",
      "Epoch 355/500\n",
      "242/242 [==============================] - 0s - loss: 0.0283 - acc: 0.9917 - val_loss: 0.2634 - val_acc: 0.9016\n",
      "Epoch 356/500\n",
      "242/242 [==============================] - 0s - loss: 0.0142 - acc: 0.9959 - val_loss: 0.2674 - val_acc: 0.9016\n",
      "Epoch 357/500\n",
      "242/242 [==============================] - 0s - loss: 0.0152 - acc: 1.0000 - val_loss: 0.2725 - val_acc: 0.9016\n",
      "Epoch 358/500\n",
      "242/242 [==============================] - 0s - loss: 0.0174 - acc: 0.9917 - val_loss: 0.2801 - val_acc: 0.9016\n",
      "Epoch 359/500\n",
      "242/242 [==============================] - 0s - loss: 0.0203 - acc: 0.9959 - val_loss: 0.2955 - val_acc: 0.9016\n",
      "Epoch 360/500\n",
      "242/242 [==============================] - 0s - loss: 0.0081 - acc: 1.0000 - val_loss: 0.3116 - val_acc: 0.9016\n",
      "Epoch 361/500\n",
      "242/242 [==============================] - 0s - loss: 0.0123 - acc: 0.9959 - val_loss: 0.3334 - val_acc: 0.9016\n",
      "Epoch 362/500\n",
      "242/242 [==============================] - 0s - loss: 0.0210 - acc: 0.9917 - val_loss: 0.3467 - val_acc: 0.9016\n",
      "Epoch 363/500\n",
      "242/242 [==============================] - 0s - loss: 0.0225 - acc: 0.9917 - val_loss: 0.3364 - val_acc: 0.9016\n",
      "Epoch 364/500\n",
      "242/242 [==============================] - 0s - loss: 0.0160 - acc: 0.9959 - val_loss: 0.3349 - val_acc: 0.9180\n",
      "Epoch 365/500\n",
      "242/242 [==============================] - 0s - loss: 0.0088 - acc: 0.9959 - val_loss: 0.3379 - val_acc: 0.9180\n",
      "Epoch 366/500\n",
      "242/242 [==============================] - 0s - loss: 0.0244 - acc: 0.9959 - val_loss: 0.3478 - val_acc: 0.9180\n",
      "Epoch 367/500\n",
      "242/242 [==============================] - 0s - loss: 0.0127 - acc: 0.9917 - val_loss: 0.3662 - val_acc: 0.9016\n",
      "Epoch 368/500\n",
      "242/242 [==============================] - 0s - loss: 0.0181 - acc: 0.9959 - val_loss: 0.3635 - val_acc: 0.9180\n",
      "Epoch 369/500\n",
      "242/242 [==============================] - 0s - loss: 0.0163 - acc: 0.9959 - val_loss: 0.3632 - val_acc: 0.9344\n",
      "Epoch 370/500\n",
      "242/242 [==============================] - 0s - loss: 0.0142 - acc: 0.9959 - val_loss: 0.3504 - val_acc: 0.9180\n",
      "Epoch 371/500\n",
      "242/242 [==============================] - 0s - loss: 0.0145 - acc: 0.9959 - val_loss: 0.3389 - val_acc: 0.9180\n",
      "Epoch 372/500\n",
      "242/242 [==============================] - 0s - loss: 0.0239 - acc: 0.9917 - val_loss: 0.3364 - val_acc: 0.9180\n",
      "Epoch 373/500\n",
      "242/242 [==============================] - 0s - loss: 0.0121 - acc: 0.9959 - val_loss: 0.3488 - val_acc: 0.9180\n",
      "Epoch 374/500\n",
      "242/242 [==============================] - 0s - loss: 0.0066 - acc: 1.0000 - val_loss: 0.3559 - val_acc: 0.9016\n",
      "Epoch 375/500\n",
      "242/242 [==============================] - 0s - loss: 0.0203 - acc: 0.9876 - val_loss: 0.3600 - val_acc: 0.9016\n",
      "Epoch 376/500\n",
      "242/242 [==============================] - 0s - loss: 0.0115 - acc: 0.9959 - val_loss: 0.3518 - val_acc: 0.9180\n",
      "Epoch 377/500\n",
      "242/242 [==============================] - 0s - loss: 0.0340 - acc: 0.9793 - val_loss: 0.3147 - val_acc: 0.9180\n",
      "Epoch 378/500\n",
      "242/242 [==============================] - 0s - loss: 0.0165 - acc: 0.9959 - val_loss: 0.2877 - val_acc: 0.9180\n",
      "Epoch 379/500\n",
      "242/242 [==============================] - 0s - loss: 0.0066 - acc: 1.0000 - val_loss: 0.2711 - val_acc: 0.9180\n",
      "Epoch 380/500\n",
      "242/242 [==============================] - 0s - loss: 0.0175 - acc: 0.9917 - val_loss: 0.2628 - val_acc: 0.9180\n",
      "Epoch 381/500\n",
      "242/242 [==============================] - 0s - loss: 0.0138 - acc: 0.9959 - val_loss: 0.2586 - val_acc: 0.9344\n",
      "Epoch 382/500\n",
      "242/242 [==============================] - 0s - loss: 0.0129 - acc: 1.0000 - val_loss: 0.2581 - val_acc: 0.9344\n",
      "Epoch 383/500\n",
      "242/242 [==============================] - 0s - loss: 0.0151 - acc: 0.9959 - val_loss: 0.2600 - val_acc: 0.9344\n",
      "Epoch 384/500\n",
      "242/242 [==============================] - 0s - loss: 0.0231 - acc: 0.9876 - val_loss: 0.2679 - val_acc: 0.9344\n",
      "Epoch 385/500\n",
      "242/242 [==============================] - 0s - loss: 0.0129 - acc: 0.9959 - val_loss: 0.2797 - val_acc: 0.9344\n",
      "Epoch 386/500\n",
      "242/242 [==============================] - 0s - loss: 0.0406 - acc: 0.9793 - val_loss: 0.3009 - val_acc: 0.9180\n",
      "Epoch 387/500\n",
      "242/242 [==============================] - 0s - loss: 0.0443 - acc: 0.9876 - val_loss: 0.3041 - val_acc: 0.9180\n",
      "Epoch 388/500\n",
      "242/242 [==============================] - 0s - loss: 0.0393 - acc: 0.9876 - val_loss: 0.3041 - val_acc: 0.9180\n",
      "Epoch 389/500\n",
      "242/242 [==============================] - 0s - loss: 0.0312 - acc: 0.9917 - val_loss: 0.3028 - val_acc: 0.9180\n",
      "Epoch 390/500\n",
      "242/242 [==============================] - 0s - loss: 0.0139 - acc: 1.0000 - val_loss: 0.3014 - val_acc: 0.9180\n",
      "Epoch 391/500\n"
     ]
    },
    {
     "name": "stdout",
     "output_type": "stream",
     "text": [
      "242/242 [==============================] - 0s - loss: 0.0151 - acc: 0.9959 - val_loss: 0.3013 - val_acc: 0.9180\n",
      "Epoch 392/500\n",
      "242/242 [==============================] - 0s - loss: 0.0165 - acc: 0.9917 - val_loss: 0.3024 - val_acc: 0.9180\n",
      "Epoch 393/500\n",
      "242/242 [==============================] - 0s - loss: 0.0148 - acc: 1.0000 - val_loss: 0.3044 - val_acc: 0.9016\n",
      "Epoch 394/500\n",
      "242/242 [==============================] - 0s - loss: 0.0342 - acc: 0.9917 - val_loss: 0.2992 - val_acc: 0.9180\n",
      "Epoch 395/500\n",
      "242/242 [==============================] - 0s - loss: 0.0162 - acc: 0.9917 - val_loss: 0.3018 - val_acc: 0.9180\n",
      "Epoch 396/500\n",
      "242/242 [==============================] - 0s - loss: 0.0242 - acc: 0.9917 - val_loss: 0.3080 - val_acc: 0.9180\n",
      "Epoch 00395: early stopping\n",
      "CPU times: user 1min 46s, sys: 18.5 s, total: 2min 4s\n",
      "Wall time: 2min 59s\n"
     ]
    },
    {
     "data": {
      "text/plain": [
       "<keras.callbacks.History at 0x7ff39da36898>"
      ]
     },
     "execution_count": 31,
     "metadata": {},
     "output_type": "execute_result"
    }
   ],
   "source": [
    "%time model.fit(X_train, y_train, epochs=500, batch_size=BATCH_SIZE, validation_split=0.2, callbacks=[tb_callback, early_stopping_callback])\n",
    "# %time model.fit(X_train, y_train, epochs=500, batch_size=BATCH_SIZE, validation_split=0.2, callbacks=[tb_callback])\n",
    "# %time model.fit(X_train, y_train, epochs=500, batch_size=BATCH_SIZE, validation_split=0.2)"
   ]
  },
  {
   "cell_type": "code",
   "execution_count": 36,
   "metadata": {},
   "outputs": [
    {
     "name": "stdout",
     "output_type": "stream",
     "text": [
      "303/303 [==============================] - 0s\n"
     ]
    },
    {
     "data": {
      "text/plain": [
       "(0.066526636481285095, 0.98349833488464355)"
      ]
     },
     "execution_count": 36,
     "metadata": {},
     "output_type": "execute_result"
    }
   ],
   "source": [
    "train_loss, train_accuracy = model.evaluate(X_train, y_train, batch_size=BATCH_SIZE)\n",
    "train_loss, train_accuracy"
   ]
  },
  {
   "cell_type": "code",
   "execution_count": 37,
   "metadata": {},
   "outputs": [
    {
     "name": "stdout",
     "output_type": "stream",
     "text": [
      "76/76 [==============================] - 0s\n"
     ]
    },
    {
     "data": {
      "text/plain": [
       "(0.45080634951591492, 0.89473682641983032)"
      ]
     },
     "execution_count": 37,
     "metadata": {},
     "output_type": "execute_result"
    }
   ],
   "source": [
    "test_loss, test_accuracy = model.evaluate(X_test, y_test, batch_size=BATCH_SIZE)\n",
    "test_loss, test_accuracy"
   ]
  },
  {
   "cell_type": "markdown",
   "metadata": {},
   "source": [
    "## How Metrics might look like when training 500 epochs with given full model\n",
    "\n",
    "Training size makes this a little bit hard to interpret. Might look different for different random split.\n",
    "\n",
    "### Accuracy\n",
    "![Accuracy](https://djcordhose.github.io/ai/img/tensorboard/cnn-acc.png \"Accuracy\")\n",
    "### Validation Accuracy\n",
    "![Validation Accuracy](https://djcordhose.github.io/ai/img/tensorboard/cnn-val-acc.png \"Validation Accuracy\")"
   ]
  },
  {
   "cell_type": "code",
   "execution_count": 38,
   "metadata": {
    "collapsed": true
   },
   "outputs": [],
   "source": [
    "# model.save('conv-vgg.hdf5')\n",
    "model.save('conv-simple.hdf5')"
   ]
  },
  {
   "cell_type": "code",
   "execution_count": 39,
   "metadata": {},
   "outputs": [
    {
     "name": "stdout",
     "output_type": "stream",
     "text": [
      "total 972M\r\n",
      "-rw-rw-r-- 1 ubuntu ubuntu  44K Oct  1 08:04 440px-Beagle_Upsy.jpg\r\n",
      "drwxrwxr-x 8 ubuntu ubuntu 4.0K Oct  1 08:10 augmented-signs\r\n",
      "-rw-rw-r-- 1 ubuntu ubuntu  17M Oct  1 08:10 augmented-signs.zip\r\n",
      "-rw-rw-r-- 1 ubuntu ubuntu 303K Sep 27 15:22 Black_New_York_stuy_town_squirrel_amanda_ernlund.jpeg\r\n",
      "-rw-rw-r-- 1 ubuntu ubuntu 844K Oct  1 08:04 cat-bonkers.png\r\n",
      "-rw-rw-r-- 1 ubuntu ubuntu 140K Oct  1 13:50 cnn-augmentation.ipynb\r\n",
      "-rw-rw-r-- 1 ubuntu ubuntu 1.6M Oct  2 13:22 cnn-comparing-all-models.ipynb\r\n",
      "-rw-rw-r-- 1 ubuntu ubuntu 136K Oct  2 09:42 cnn-imagenet-retrain.ipynb\r\n",
      "-rw-rw-r-- 1 ubuntu ubuntu 158K Oct  2 08:41 cnn-intro.ipynb\r\n",
      "-rw-rw-r-- 1 ubuntu ubuntu 107K Oct  2 09:41 cnn-standard-architectures.ipynb\r\n",
      "-rw-rw-r-- 1 ubuntu ubuntu 199K Oct  2 07:51 cnn-train-augmented.ipynb\r\n",
      "-rw-rw-r-- 1 ubuntu ubuntu 3.1M Oct  2 13:07 conv-minimal.hdf5\r\n",
      "-rw-rw-r-- 1 ubuntu ubuntu  26M Oct  2 13:36 conv-simple.hdf5\r\n",
      "-rw-rw-r-- 1 ubuntu ubuntu  55M Oct  1 15:13 conv-vgg-augmented.hdf5\r\n",
      "-rw-rw-r-- 1 ubuntu ubuntu  55M Oct  1 14:54 conv-vgg.hdf5\r\n",
      "-rw-rw-r-- 1 ubuntu ubuntu 6.3M Oct  1 14:34 conv-vgg-simple.hdf5\r\n",
      "-rw-rw-r-- 1 ubuntu ubuntu 495K Sep 27 15:22 london.jpg\r\n",
      "drwxrwxr-x 3 ubuntu ubuntu 4.0K Sep 27 15:25 __MACOSX\r\n",
      "-rw-rw-r-- 1 ubuntu ubuntu 127K Sep 27 15:22 Michigan-MSU-raschka.jpg\r\n",
      "-rw-rw-r-- 1 ubuntu ubuntu 520K Oct  2 09:45 ml-intro.ipynb\r\n",
      "-rw-rw-r-- 1 ubuntu ubuntu 286K Oct  2 09:41 nn-intro.ipynb\r\n",
      "-rw------- 1 ubuntu ubuntu 3.3M Oct  1 15:29 nohup.out\r\n",
      "-rw-rw-r-- 1 ubuntu ubuntu   63 Sep 27 15:22 README.html\r\n",
      "-rw-rw-r-- 1 ubuntu ubuntu 271M Oct  2 09:22 resnet-augmented.hdf5\r\n",
      "-rw-rw-r-- 1 ubuntu ubuntu   36 Oct  1 08:04 sample_iris.json\r\n",
      "drwxrwxr-x 8 ubuntu ubuntu 4.0K Sep 27 15:25 speed-limit-signs\r\n",
      "-rw-rw-r-- 1 ubuntu ubuntu 169K Oct  2 13:33 speed-limit-signs.ipynb\r\n",
      "-rw-rw-r-- 1 ubuntu ubuntu 1.8M Oct  1 08:09 speed-limit-signs.zip\r\n",
      "drwxr-xr-x 2 ubuntu ubuntu 4.0K Oct  2 13:30 tf_log\r\n",
      "-rw-rw-r-- 1 ubuntu ubuntu  88M Oct  1 10:22 vgg16-augmented-retrained-fine-tuned.hdf5\r\n",
      "-rw-rw-r-- 1 ubuntu ubuntu  59M Oct  1 10:00 vgg16-augmented-retrained.hdf5\r\n",
      "-rw-rw-r-- 1 ubuntu ubuntu  88M Oct  1 09:56 vgg16-retrained-fine-tuned.hdf5\r\n",
      "-rw-rw-r-- 1 ubuntu ubuntu  59M Oct  1 09:26 vgg16-retrained.hdf5\r\n",
      "-rw-rw-r-- 1 ubuntu ubuntu  15K Oct  2 09:40 workshop.ipynb\r\n",
      "-rw-rw-r-- 1 ubuntu ubuntu 239M Oct  1 14:32 xception-augmented.hdf5\r\n"
     ]
    }
   ],
   "source": [
    "!ls -lh"
   ]
  },
  {
   "cell_type": "code",
   "execution_count": null,
   "metadata": {},
   "outputs": [],
   "source": [
    "# https://transfer.sh/\n",
    "# Saved for 14 days\n",
    "# !curl --upload-file conv-vgg.hdf5 https://transfer.sh\n",
    "!curl --upload-file conv-simple.hdf5 https://transfer.sh\n",
    "\n",
    "# pre-trained model\n",
    "# acc: 0.98- val_acc: 0.89\n",
    "# https://transfer.sh/DuZA7/conv-simple.hdf5"
   ]
  },
  {
   "cell_type": "markdown",
   "metadata": {},
   "source": [
    "# What images does it work well on?"
   ]
  },
  {
   "cell_type": "code",
   "execution_count": 45,
   "metadata": {
    "collapsed": true
   },
   "outputs": [],
   "source": [
    "import random\n",
    "\n",
    "# Pick 10 random images for test data set\n",
    "random.seed(42) # to make this deterministic\n",
    "sample_indexes = random.sample(range(len(X_test)), 10)\n",
    "sample_images = [X_test[i] for i in sample_indexes]\n",
    "sample_labels = [y_test[i] for i in sample_indexes]"
   ]
  },
  {
   "cell_type": "code",
   "execution_count": 46,
   "metadata": {},
   "outputs": [
    {
     "data": {
      "text/plain": [
       "array([1, 3, 5, 3, 3, 1, 4, 4, 0, 2])"
      ]
     },
     "execution_count": 46,
     "metadata": {},
     "output_type": "execute_result"
    }
   ],
   "source": [
    "ground_truth = np.argmax(sample_labels, axis=1)\n",
    "ground_truth"
   ]
  },
  {
   "cell_type": "code",
   "execution_count": 47,
   "metadata": {},
   "outputs": [
    {
     "data": {
      "text/plain": [
       "array([1, 3, 4, 3, 3, 1, 4, 4, 0, 2])"
      ]
     },
     "execution_count": 47,
     "metadata": {},
     "output_type": "execute_result"
    }
   ],
   "source": [
    "X_sample = np.array(sample_images)\n",
    "prediction = model.predict(X_sample)\n",
    "predicted_categories = np.argmax(prediction, axis=1)\n",
    "predicted_categories"
   ]
  },
  {
   "cell_type": "code",
   "execution_count": 48,
   "metadata": {
    "collapsed": true
   },
   "outputs": [],
   "source": [
    "# Display the predictions and the ground truth visually.\n",
    "def display_prediction (images, true_labels, predicted_labels):\n",
    "    fig = plt.figure(figsize=(10, 10))\n",
    "    for i in range(len(true_labels)):\n",
    "        truth = true_labels[i]\n",
    "        prediction = predicted_labels[i]\n",
    "        plt.subplot(5, 2,1+i)\n",
    "        plt.axis('off')\n",
    "        color='green' if truth == prediction else 'red'\n",
    "        plt.text(80, 10, \"Truth:        {0}\\nPrediction: {1}\".format(truth, prediction), \n",
    "                 fontsize=12, color=color)\n",
    "        plt.imshow(images[i])"
   ]
  },
  {
   "cell_type": "code",
   "execution_count": 49,
   "metadata": {},
   "outputs": [
    {
     "data": {
      "image/png": "[encoded data removed]",
      "text/plain": [
       "<matplotlib.figure.Figure at 0x7ff39db2e240>"
      ]
     },
     "metadata": {},
     "output_type": "display_data"
    }
   ],
   "source": [
    "display_prediction(sample_images, ground_truth, predicted_categories)"
   ]
  },
  {
   "cell_type": "code",
   "execution_count": null,
   "metadata": {
    "collapsed": true
   },
   "outputs": [],
   "source": []
  }
 ],
 "metadata": {
  "kernelspec": {
   "display_name": "Python 3",
   "language": "python",
   "name": "python3"
  },
  "language_info": {
   "codemirror_mode": {
    "name": "ipython",
    "version": 3
   },
   "file_extension": ".py",
   "mimetype": "text/x-python",
   "name": "python",
   "nbconvert_exporter": "python",
   "pygments_lexer": "ipython3",
   "version": "3.6.1"
  }
 },
 "nbformat": 4,
 "nbformat_minor": 2
}
