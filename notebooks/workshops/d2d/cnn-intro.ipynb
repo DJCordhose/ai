{
 "cells": [
  {
   "cell_type": "markdown",
   "metadata": {},
   "source": [
    "# Einführung in CNNs"
   ]
  },
  {
   "cell_type": "code",
   "execution_count": 1,
   "metadata": {
    "collapsed": true
   },
   "outputs": [],
   "source": [
    "import warnings\n",
    "warnings.filterwarnings('ignore')"
   ]
  },
  {
   "cell_type": "code",
   "execution_count": 2,
   "metadata": {},
   "outputs": [
    {
     "name": "stdout",
     "output_type": "stream",
     "text": [
      "Populating the interactive namespace from numpy and matplotlib\n"
     ]
    }
   ],
   "source": [
    "%matplotlib inline\n",
    "%pylab inline"
   ]
  },
  {
   "cell_type": "code",
   "execution_count": 3,
   "metadata": {
    "collapsed": true
   },
   "outputs": [],
   "source": [
    "import matplotlib.pylab as plt\n",
    "import numpy as np"
   ]
  },
  {
   "cell_type": "code",
   "execution_count": 4,
   "metadata": {
    "collapsed": true
   },
   "outputs": [],
   "source": [
    "from distutils.version import StrictVersion"
   ]
  },
  {
   "cell_type": "code",
   "execution_count": 5,
   "metadata": {},
   "outputs": [
    {
     "name": "stdout",
     "output_type": "stream",
     "text": [
      "0.18.1\n"
     ]
    }
   ],
   "source": [
    "import sklearn\n",
    "print(sklearn.__version__)\n",
    "\n",
    "assert StrictVersion(sklearn.__version__ ) >= StrictVersion('0.18.1')"
   ]
  },
  {
   "cell_type": "code",
   "execution_count": 6,
   "metadata": {},
   "outputs": [
    {
     "name": "stdout",
     "output_type": "stream",
     "text": [
      "1.2.1\n"
     ]
    }
   ],
   "source": [
    "import tensorflow as tf\n",
    "tf.logging.set_verbosity(tf.logging.ERROR)\n",
    "print(tf.__version__)\n",
    "\n",
    "assert StrictVersion(tf.__version__) >= StrictVersion('1.1.0')"
   ]
  },
  {
   "cell_type": "code",
   "execution_count": 7,
   "metadata": {},
   "outputs": [
    {
     "name": "stderr",
     "output_type": "stream",
     "text": [
      "Using TensorFlow backend.\n"
     ]
    },
    {
     "name": "stdout",
     "output_type": "stream",
     "text": [
      "2.0.6\n"
     ]
    }
   ],
   "source": [
    "import keras\n",
    "print(keras.__version__)\n",
    "\n",
    "assert StrictVersion(keras.__version__) >= StrictVersion('2.0.0')"
   ]
  },
  {
   "cell_type": "code",
   "execution_count": 8,
   "metadata": {},
   "outputs": [
    {
     "name": "stdout",
     "output_type": "stream",
     "text": [
      "0.20.1\n"
     ]
    }
   ],
   "source": [
    "import pandas as pd\n",
    "print(pd.__version__)\n",
    "\n",
    "assert StrictVersion(pd.__version__) >= StrictVersion('0.19.0')"
   ]
  },
  {
   "cell_type": "markdown",
   "metadata": {},
   "source": [
    "## Laden und Vorbereiten der Bild-Daten"
   ]
  },
  {
   "cell_type": "code",
   "execution_count": 9,
   "metadata": {},
   "outputs": [
    {
     "name": "stdout",
     "output_type": "stream",
     "text": [
      "  % Total    % Received % Xferd  Average Speed   Time    Time     Time  Current\n",
      "                                 Dload  Upload   Total   Spent    Left  Speed\n",
      "100 1810k  100 1810k    0     0  5236k      0 --:--:-- --:--:-- --:--:-- 5419k\n"
     ]
    }
   ],
   "source": [
    "!curl -O https://raw.githubusercontent.com/DJCordhose/speed-limit-signs/master/data/speed-limit-signs.zip\n",
    "from zipfile import ZipFile\n",
    "zip = ZipFile(r'speed-limit-signs.zip')\n",
    "zip.extractall('.')"
   ]
  },
  {
   "cell_type": "code",
   "execution_count": 10,
   "metadata": {},
   "outputs": [
    {
     "name": "stdout",
     "output_type": "stream",
     "text": [
      "total 28\r\n",
      "drwxrwxr-x 2 ubuntu ubuntu 4096 Aug 29 07:45 0\r\n",
      "drwxrwxr-x 2 ubuntu ubuntu 4096 Aug 29 07:45 1\r\n",
      "drwxrwxr-x 2 ubuntu ubuntu 4096 Aug 29 07:45 2\r\n",
      "drwxrwxr-x 2 ubuntu ubuntu 4096 Aug 29 07:45 3\r\n",
      "drwxrwxr-x 2 ubuntu ubuntu 4096 Aug 29 07:45 4\r\n",
      "drwxrwxr-x 2 ubuntu ubuntu 4096 Aug 29 07:45 5\r\n",
      "-rw-rw-r-- 1 ubuntu ubuntu  380 Aug 29 07:45 README.md\r\n"
     ]
    }
   ],
   "source": [
    "!ls -l speed-limit-signs"
   ]
  },
  {
   "cell_type": "code",
   "execution_count": 11,
   "metadata": {},
   "outputs": [
    {
     "name": "stdout",
     "output_type": "stream",
     "text": [
      "Data extracted from http://benchmark.ini.rub.de/?section=gtsdb&subsection=dataset\r\n",
      "\r\n",
      "From http://benchmark.ini.rub.de/Dataset_GTSDB/FullIJCNN2013.zip just the samples for the speed limit signs \r\n",
      "\r\n",
      "## Format\r\n",
      "\r\n",
      "https://en.wikipedia.org/wiki/Netpbm_format\r\n",
      "\r\n",
      "Can be previewed on a Mac and be processed by http://scikit-image.org/\r\n",
      "\r\n",
      "## Labels\r\n",
      "- 0: 30\r\n",
      "- 1: 50\r\n",
      "- 2: 70\r\n",
      "- 3: 80\r\n",
      "- 4: 100\r\n",
      "- 5: 120"
     ]
    }
   ],
   "source": [
    "!cat speed-limit-signs/README.md"
   ]
  },
  {
   "cell_type": "markdown",
   "metadata": {},
   "source": [
    "# Big Kudos to [Waleed Abdulla](https://medium.com/@waleedka) for providing the initial idea and many of the functions used to prepare and display the images: https://medium.com/@waleedka/traffic-sign-recognition-with-tensorflow-629dffc391a6#.i728o84ib  "
   ]
  },
  {
   "cell_type": "code",
   "execution_count": 12,
   "metadata": {
    "collapsed": true
   },
   "outputs": [],
   "source": [
    "import os\n",
    "import skimage.data\n",
    "import skimage.transform\n",
    "from keras.utils.np_utils import to_categorical\n",
    "import numpy as np\n",
    "\n",
    "def load_data(data_dir, type=\".ppm\"):\n",
    "    num_categories = 6\n",
    "\n",
    "    # Get all subdirectories of data_dir. Each represents a label.\n",
    "    directories = [d for d in os.listdir(data_dir) \n",
    "                   if os.path.isdir(os.path.join(data_dir, d))]\n",
    "    # Loop through the label directories and collect the data in\n",
    "    # two lists, labels and images.\n",
    "    labels = []\n",
    "    images = []\n",
    "    for d in directories:\n",
    "        label_dir = os.path.join(data_dir, d)\n",
    "        file_names = [os.path.join(label_dir, f) for f in os.listdir(label_dir) if f.endswith(type)]\n",
    "        # For each label, load it's images and add them to the images list.\n",
    "        # And add the label number (i.e. directory name) to the labels list.\n",
    "        for f in file_names:\n",
    "            images.append(skimage.data.imread(f))\n",
    "            labels.append(int(d))\n",
    "    images64 = [skimage.transform.resize(image, (64, 64)) for image in images]\n",
    "    return images64, labels"
   ]
  },
  {
   "cell_type": "code",
   "execution_count": 13,
   "metadata": {
    "collapsed": true
   },
   "outputs": [],
   "source": [
    "# Load datasets.\n",
    "ROOT_PATH = \"./\"\n",
    "original_dir = os.path.join(ROOT_PATH, \"speed-limit-signs\")\n",
    "images, labels = load_data(original_dir, type=\".ppm\")"
   ]
  },
  {
   "cell_type": "code",
   "execution_count": 14,
   "metadata": {
    "collapsed": true
   },
   "outputs": [],
   "source": [
    "import matplotlib\n",
    "import matplotlib.pyplot as plt\n",
    "\n",
    "def display_images_and_labels(images, labels):\n",
    "    \"\"\"Display the first image of each label.\"\"\"\n",
    "    unique_labels = set(labels)\n",
    "    plt.figure(figsize=(15, 15))\n",
    "    i = 1\n",
    "    for label in unique_labels:\n",
    "        # Pick the first image for each label.\n",
    "        image = images[labels.index(label)]\n",
    "        plt.subplot(8, 8, i)  # A grid of 8 rows x 8 columns\n",
    "        plt.axis('off')\n",
    "        plt.title(\"Label {0} ({1})\".format(label, labels.count(label)))\n",
    "        i += 1\n",
    "        _ = plt.imshow(image)"
   ]
  },
  {
   "cell_type": "code",
   "execution_count": 15,
   "metadata": {},
   "outputs": [
    {
     "data": {
      "image/png": "[encoded data removed]",
      "text/plain": [
       "<matplotlib.figure.Figure at 0x7f53e109c4e0>"
      ]
     },
     "metadata": {},
     "output_type": "display_data"
    }
   ],
   "source": [
    "display_images_and_labels(images, labels)"
   ]
  },
  {
   "cell_type": "markdown",
   "metadata": {},
   "source": [
    "## Modell-Architektur\n",
    "http://cs231n.github.io/neural-networks-1/#power\n",
    "\n",
    "### Layout of a typical CNN\n",
    "\n",
    "![Layout of a typical CNN](https://github.com/DJCordhose/speed-limit-signs/raw/master/img/convnet-layoyt.jpeg)\n",
    "http://cs231n.github.io/convolutional-networks/\n",
    "\n",
    "### Classic VGG like Architecture\n",
    "* we use a VGG like architecture\n",
    "* based on https://arxiv.org/abs/1409.1556\n",
    "* basic idea: sequential, deep, small convolutional filters, use dropouts to reduce overfitting\n",
    "* 16/19 layers are typical\n",
    "* we choose less layers, because we have limited resources\n",
    "\n",
    "### Convolutional Blocks: Cascading many Convolutional Layers having down sampling in between\n",
    "\n",
    "![Applying filters](http://cs231n.github.io/assets/cnn/cnn.jpeg)\n",
    "\n",
    "http://cs231n.github.io/convolutional-networks/#conv\n",
    "\n",
    "### Example of a Convolution\n",
    "#### Original Image\n",
    "![Dog](https://github.com/DJCordhose/speed-limit-signs/raw/master/img/conv/dog.png)\n",
    "#### Many convolutional filters applied over all channels\n",
    "![Dog after Convolutional Filters applied](https://github.com/DJCordhose/speed-limit-signs/raw/master/img/conv/dog-conv1.png)\n",
    "http://cs.stanford.edu/people/karpathy/convnetjs/demo/cifar10.html\n",
    "\n",
    "### Downlsampling Layer: Reduces data sizes and risk of overfitting\n",
    "![Pooling](http://cs231n.github.io/assets/cnn/pool.jpeg)\n",
    "![Max Pooling](http://cs231n.github.io/assets/cnn/maxpool.jpeg)\n",
    "http://cs231n.github.io/convolutional-networks/#pool"
   ]
  },
  {
   "cell_type": "code",
   "execution_count": 16,
   "metadata": {
    "collapsed": true
   },
   "outputs": [],
   "source": [
    "y = np.array(labels)\n",
    "X = np.array(images)\n",
    "from keras.utils.np_utils import to_categorical\n",
    "\n",
    "num_categories = 6\n",
    "\n",
    "y = to_categorical(y, num_categories)"
   ]
  },
  {
   "cell_type": "code",
   "execution_count": 17,
   "metadata": {
    "collapsed": true
   },
   "outputs": [],
   "source": [
    "from keras.models import Model\n",
    "from keras.layers import Dense, Dropout, Flatten, Input\n",
    "from keras.layers import Convolution2D, MaxPooling2D\n",
    "\n",
    "# input tensor for a 3-channel 64x64 image\n",
    "inputs = Input(shape=(64, 64, 3))\n",
    "\n",
    "# one block of convolutional layers\n",
    "x = Convolution2D(64, 3, activation='relu', padding='same')(inputs)\n",
    "x = Convolution2D(64, 3, activation='relu', padding='same')(x)\n",
    "x = Convolution2D(64, 3, activation='relu', padding='same')(x)\n",
    "x = MaxPooling2D(pool_size=(2, 2))(x)\n",
    "\n",
    "# one more block\n",
    "x = Convolution2D(128, 3, activation='relu', padding='same')(x)\n",
    "x = Convolution2D(128, 3, activation='relu', padding='same')(x)\n",
    "x = MaxPooling2D(pool_size=(2, 2))(x)\n",
    "\n",
    "# one more block\n",
    "x = Convolution2D(256, 3, activation='relu', padding='same')(x)\n",
    "x = MaxPooling2D(pool_size=(2, 2))(x)\n",
    "\n",
    "x = Flatten()(x)\n",
    "x = Dense(256, activation='relu')(x)\n",
    "\n",
    "# softmax activation, 6 categories\n",
    "predictions = Dense(6, activation='softmax')(x)"
   ]
  },
  {
   "cell_type": "code",
   "execution_count": 18,
   "metadata": {},
   "outputs": [
    {
     "name": "stdout",
     "output_type": "stream",
     "text": [
      "_________________________________________________________________\n",
      "Layer (type)                 Output Shape              Param #   \n",
      "=================================================================\n",
      "input_1 (InputLayer)         (None, 64, 64, 3)         0         \n",
      "_________________________________________________________________\n",
      "conv2d_1 (Conv2D)            (None, 64, 64, 64)        1792      \n",
      "_________________________________________________________________\n",
      "conv2d_2 (Conv2D)            (None, 64, 64, 64)        36928     \n",
      "_________________________________________________________________\n",
      "conv2d_3 (Conv2D)            (None, 64, 64, 64)        36928     \n",
      "_________________________________________________________________\n",
      "max_pooling2d_1 (MaxPooling2 (None, 32, 32, 64)        0         \n",
      "_________________________________________________________________\n",
      "conv2d_4 (Conv2D)            (None, 32, 32, 128)       73856     \n",
      "_________________________________________________________________\n",
      "conv2d_5 (Conv2D)            (None, 32, 32, 128)       147584    \n",
      "_________________________________________________________________\n",
      "max_pooling2d_2 (MaxPooling2 (None, 16, 16, 128)       0         \n",
      "_________________________________________________________________\n",
      "conv2d_6 (Conv2D)            (None, 16, 16, 256)       295168    \n",
      "_________________________________________________________________\n",
      "max_pooling2d_3 (MaxPooling2 (None, 8, 8, 256)         0         \n",
      "_________________________________________________________________\n",
      "flatten_1 (Flatten)          (None, 16384)             0         \n",
      "_________________________________________________________________\n",
      "dense_1 (Dense)              (None, 256)               4194560   \n",
      "_________________________________________________________________\n",
      "dense_2 (Dense)              (None, 6)                 1542      \n",
      "=================================================================\n",
      "Total params: 4,788,358\n",
      "Trainable params: 4,788,358\n",
      "Non-trainable params: 0\n",
      "_________________________________________________________________\n"
     ]
    }
   ],
   "source": [
    "model = Model(input=inputs, output=predictions)\n",
    "model.summary()"
   ]
  },
  {
   "cell_type": "code",
   "execution_count": 19,
   "metadata": {
    "collapsed": true
   },
   "outputs": [],
   "source": [
    "model.compile(optimizer='adam',\n",
    "              loss='categorical_crossentropy',\n",
    "              metrics=['accuracy'])"
   ]
  },
  {
   "cell_type": "markdown",
   "metadata": {},
   "source": [
    "### Optimizers: Adam and RMSprop seem nice\n",
    "![Behavior of Optimizers at Saddle Points](http://cs231n.github.io/assets/nn3/opt1.gif)\n",
    "![Visualization of Optimizers](http://cs231n.github.io/assets/nn3/opt2.gif)\n",
    "http://cs231n.github.io/neural-networks-3/#ada"
   ]
  },
  {
   "cell_type": "markdown",
   "metadata": {},
   "source": [
    "## Zuerst testen wir unser Modell, ob wir es überhaupt trainiert bekommen, indem wir auf einer kleinen Menge von Daten overfitten\n",
    "http://cs231n.github.io/neural-networks-3/#sanitycheck"
   ]
  },
  {
   "cell_type": "code",
   "execution_count": 20,
   "metadata": {
    "collapsed": true
   },
   "outputs": [],
   "source": [
    "from sklearn.model_selection import train_test_split\n",
    "X_train, X_test, y_train, y_test = train_test_split(X, y, test_size=0.9, random_state=42, stratify=y)"
   ]
  },
  {
   "cell_type": "code",
   "execution_count": 21,
   "metadata": {},
   "outputs": [
    {
     "data": {
      "text/plain": [
       "((37, 64, 64, 3), (37, 6))"
      ]
     },
     "execution_count": 21,
     "metadata": {},
     "output_type": "execute_result"
    }
   ],
   "source": [
    "X_train.shape, y_train.shape"
   ]
  },
  {
   "cell_type": "code",
   "execution_count": 22,
   "metadata": {},
   "outputs": [
    {
     "name": "stdout",
     "output_type": "stream",
     "text": [
      "Train on 25 samples, validate on 12 samples\n",
      "Epoch 1/100\n",
      "25/25 [==============================] - 5s - loss: 1.7939 - acc: 0.2000 - val_loss: 1.7835 - val_acc: 0.0833\n",
      "Epoch 2/100\n",
      "25/25 [==============================] - 0s - loss: 1.6448 - acc: 0.2800 - val_loss: 3.3576 - val_acc: 0.0833\n",
      "Epoch 3/100\n",
      "25/25 [==============================] - 0s - loss: 2.3333 - acc: 0.2800 - val_loss: 1.8305 - val_acc: 0.0833\n",
      "Epoch 4/100\n",
      "25/25 [==============================] - 0s - loss: 1.5742 - acc: 0.2800 - val_loss: 1.7597 - val_acc: 0.1667\n",
      "Epoch 5/100\n",
      "25/25 [==============================] - 0s - loss: 1.6860 - acc: 0.1600 - val_loss: 1.7621 - val_acc: 0.2500\n",
      "Epoch 6/100\n",
      "25/25 [==============================] - 0s - loss: 1.7263 - acc: 0.3200 - val_loss: 1.7662 - val_acc: 0.0833\n",
      "Epoch 7/100\n",
      "25/25 [==============================] - 0s - loss: 1.7369 - acc: 0.4000 - val_loss: 1.7669 - val_acc: 0.0833\n",
      "Epoch 8/100\n",
      "25/25 [==============================] - 0s - loss: 1.7287 - acc: 0.4000 - val_loss: 1.7671 - val_acc: 0.1667\n",
      "Epoch 9/100\n",
      "25/25 [==============================] - 0s - loss: 1.7023 - acc: 0.3600 - val_loss: 1.7846 - val_acc: 0.1667\n",
      "Epoch 10/100\n",
      "25/25 [==============================] - 0s - loss: 1.6539 - acc: 0.3600 - val_loss: 1.8607 - val_acc: 0.1667\n",
      "Epoch 11/100\n",
      "25/25 [==============================] - 0s - loss: 1.5816 - acc: 0.3200 - val_loss: 2.0693 - val_acc: 0.0833\n",
      "Epoch 12/100\n",
      "25/25 [==============================] - 0s - loss: 1.4925 - acc: 0.2800 - val_loss: 2.5427 - val_acc: 0.0833\n",
      "Epoch 13/100\n",
      "25/25 [==============================] - 0s - loss: 1.5599 - acc: 0.2800 - val_loss: 2.0402 - val_acc: 0.0833\n",
      "Epoch 14/100\n",
      "25/25 [==============================] - 0s - loss: 1.3872 - acc: 0.5200 - val_loss: 1.9315 - val_acc: 0.2500\n",
      "Epoch 15/100\n",
      "25/25 [==============================] - 0s - loss: 1.4106 - acc: 0.4800 - val_loss: 1.9122 - val_acc: 0.3333\n",
      "Epoch 16/100\n",
      "25/25 [==============================] - 0s - loss: 1.3272 - acc: 0.4800 - val_loss: 2.0284 - val_acc: 0.2500\n",
      "Epoch 17/100\n",
      "25/25 [==============================] - 0s - loss: 1.2340 - acc: 0.5200 - val_loss: 2.3948 - val_acc: 0.1667\n",
      "Epoch 18/100\n",
      "25/25 [==============================] - 0s - loss: 1.2006 - acc: 0.4800 - val_loss: 2.5559 - val_acc: 0.1667\n",
      "Epoch 19/100\n",
      "25/25 [==============================] - 0s - loss: 1.0513 - acc: 0.6800 - val_loss: 3.2244 - val_acc: 0.1667\n",
      "Epoch 20/100\n",
      "25/25 [==============================] - 0s - loss: 1.2049 - acc: 0.4400 - val_loss: 3.9251 - val_acc: 0.1667\n",
      "Epoch 21/100\n",
      "25/25 [==============================] - 0s - loss: 1.4885 - acc: 0.4800 - val_loss: 3.6502 - val_acc: 0.1667\n",
      "Epoch 22/100\n",
      "25/25 [==============================] - 0s - loss: 1.3963 - acc: 0.5600 - val_loss: 2.8843 - val_acc: 0.1667\n",
      "Epoch 23/100\n",
      "25/25 [==============================] - 0s - loss: 1.3588 - acc: 0.6000 - val_loss: 2.3018 - val_acc: 0.1667\n",
      "Epoch 24/100\n",
      "25/25 [==============================] - 0s - loss: 1.3602 - acc: 0.5200 - val_loss: 2.0005 - val_acc: 0.1667\n",
      "Epoch 25/100\n",
      "25/25 [==============================] - 0s - loss: 1.2505 - acc: 0.5200 - val_loss: 1.8624 - val_acc: 0.1667\n",
      "Epoch 26/100\n",
      "25/25 [==============================] - 0s - loss: 1.1696 - acc: 0.6000 - val_loss: 1.8214 - val_acc: 0.1667\n",
      "Epoch 27/100\n",
      "25/25 [==============================] - 0s - loss: 1.1205 - acc: 0.6000 - val_loss: 1.8859 - val_acc: 0.1667\n",
      "Epoch 28/100\n",
      "25/25 [==============================] - 0s - loss: 1.0952 - acc: 0.5600 - val_loss: 2.0910 - val_acc: 0.1667\n",
      "Epoch 29/100\n",
      "25/25 [==============================] - 0s - loss: 1.1004 - acc: 0.6400 - val_loss: 2.2755 - val_acc: 0.2500\n",
      "Epoch 30/100\n",
      "25/25 [==============================] - 0s - loss: 1.0906 - acc: 0.7200 - val_loss: 2.3721 - val_acc: 0.1667\n",
      "Epoch 31/100\n",
      "25/25 [==============================] - 0s - loss: 1.0204 - acc: 0.6800 - val_loss: 2.4663 - val_acc: 0.2500\n",
      "Epoch 32/100\n",
      "25/25 [==============================] - 0s - loss: 0.9112 - acc: 0.6800 - val_loss: 2.8647 - val_acc: 0.1667\n",
      "Epoch 33/100\n",
      "25/25 [==============================] - 0s - loss: 0.8633 - acc: 0.6800 - val_loss: 3.3479 - val_acc: 0.1667\n",
      "Epoch 34/100\n",
      "25/25 [==============================] - 0s - loss: 0.9036 - acc: 0.6400 - val_loss: 2.8440 - val_acc: 0.1667\n",
      "Epoch 35/100\n",
      "25/25 [==============================] - 0s - loss: 0.7748 - acc: 0.6800 - val_loss: 2.8467 - val_acc: 0.2500\n",
      "Epoch 36/100\n",
      "25/25 [==============================] - 0s - loss: 0.7728 - acc: 0.6800 - val_loss: 3.1592 - val_acc: 0.2500\n",
      "Epoch 37/100\n",
      "25/25 [==============================] - 0s - loss: 0.6787 - acc: 0.7200 - val_loss: 3.7691 - val_acc: 0.1667\n",
      "Epoch 38/100\n",
      "25/25 [==============================] - 0s - loss: 0.6627 - acc: 0.7600 - val_loss: 3.4339 - val_acc: 0.1667\n",
      "Epoch 39/100\n",
      "25/25 [==============================] - 0s - loss: 0.5465 - acc: 0.8000 - val_loss: 3.2356 - val_acc: 0.1667\n",
      "Epoch 40/100\n",
      "25/25 [==============================] - 0s - loss: 0.4815 - acc: 0.8400 - val_loss: 3.5014 - val_acc: 0.2500\n",
      "Epoch 41/100\n",
      "25/25 [==============================] - 0s - loss: 0.3898 - acc: 0.8800 - val_loss: 4.4677 - val_acc: 0.4167\n",
      "Epoch 42/100\n",
      "25/25 [==============================] - 0s - loss: 0.3453 - acc: 0.8800 - val_loss: 3.9964 - val_acc: 0.4167\n",
      "Epoch 43/100\n",
      "25/25 [==============================] - 0s - loss: 0.3087 - acc: 0.9200 - val_loss: 5.4598 - val_acc: 0.5000\n",
      "Epoch 44/100\n",
      "25/25 [==============================] - 0s - loss: 0.1890 - acc: 1.0000 - val_loss: 5.9266 - val_acc: 0.5000\n",
      "Epoch 45/100\n",
      "25/25 [==============================] - 0s - loss: 0.1396 - acc: 0.9200 - val_loss: 5.3065 - val_acc: 0.3333\n",
      "Epoch 46/100\n",
      "25/25 [==============================] - 0s - loss: 0.1671 - acc: 0.9600 - val_loss: 6.2139 - val_acc: 0.5000\n",
      "Epoch 47/100\n",
      "25/25 [==============================] - 0s - loss: 0.0502 - acc: 1.0000 - val_loss: 6.6485 - val_acc: 0.5833\n",
      "Epoch 48/100\n",
      "25/25 [==============================] - 0s - loss: 0.2482 - acc: 0.8800 - val_loss: 5.4104 - val_acc: 0.2500\n",
      "Epoch 49/100\n",
      "25/25 [==============================] - 0s - loss: 1.1237 - acc: 0.7200 - val_loss: 6.6237 - val_acc: 0.4167\n",
      "Epoch 50/100\n",
      "25/25 [==============================] - 0s - loss: 0.2440 - acc: 0.9200 - val_loss: 6.0674 - val_acc: 0.5000\n",
      "Epoch 51/100\n",
      "25/25 [==============================] - 0s - loss: 0.5804 - acc: 0.8800 - val_loss: 5.0033 - val_acc: 0.5000\n",
      "Epoch 52/100\n",
      "25/25 [==============================] - 0s - loss: 0.5887 - acc: 0.8000 - val_loss: 4.7360 - val_acc: 0.4167\n",
      "Epoch 53/100\n",
      "25/25 [==============================] - 0s - loss: 0.2502 - acc: 0.9600 - val_loss: 5.1834 - val_acc: 0.1667\n",
      "Epoch 54/100\n",
      "25/25 [==============================] - 0s - loss: 0.2329 - acc: 0.8800 - val_loss: 4.7484 - val_acc: 0.1667\n",
      "Epoch 55/100\n",
      "25/25 [==============================] - 0s - loss: 0.2167 - acc: 0.8800 - val_loss: 4.2533 - val_acc: 0.1667\n",
      "Epoch 56/100\n",
      "25/25 [==============================] - 0s - loss: 0.1392 - acc: 0.9600 - val_loss: 3.9485 - val_acc: 0.2500\n",
      "Epoch 57/100\n",
      "25/25 [==============================] - 0s - loss: 0.1141 - acc: 1.0000 - val_loss: 4.0801 - val_acc: 0.2500\n",
      "Epoch 58/100\n",
      "25/25 [==============================] - 0s - loss: 0.1225 - acc: 0.9600 - val_loss: 4.5466 - val_acc: 0.3333\n",
      "Epoch 59/100\n",
      "25/25 [==============================] - 0s - loss: 0.0964 - acc: 1.0000 - val_loss: 4.5499 - val_acc: 0.4167\n",
      "Epoch 60/100\n",
      "25/25 [==============================] - 0s - loss: 0.0313 - acc: 1.0000 - val_loss: 4.6166 - val_acc: 0.4167\n",
      "Epoch 61/100\n",
      "25/25 [==============================] - 0s - loss: 0.0175 - acc: 1.0000 - val_loss: 4.8115 - val_acc: 0.4167\n",
      "Epoch 62/100\n",
      "25/25 [==============================] - 0s - loss: 0.0355 - acc: 0.9600 - val_loss: 5.4527 - val_acc: 0.4167\n",
      "Epoch 63/100\n",
      "25/25 [==============================] - 0s - loss: 0.0254 - acc: 1.0000 - val_loss: 5.9608 - val_acc: 0.4167\n",
      "Epoch 64/100\n",
      "25/25 [==============================] - 0s - loss: 0.0788 - acc: 0.9600 - val_loss: 5.5377 - val_acc: 0.4167\n",
      "Epoch 65/100\n",
      "25/25 [==============================] - 0s - loss: 0.0228 - acc: 1.0000 - val_loss: 5.1601 - val_acc: 0.5000\n",
      "Epoch 66/100\n",
      "25/25 [==============================] - 0s - loss: 0.0077 - acc: 1.0000 - val_loss: 4.9383 - val_acc: 0.4167\n",
      "Epoch 67/100\n"
     ]
    },
    {
     "name": "stdout",
     "output_type": "stream",
     "text": [
      "25/25 [==============================] - 0s - loss: 0.0101 - acc: 1.0000 - val_loss: 4.8548 - val_acc: 0.4167\n",
      "Epoch 68/100\n",
      "25/25 [==============================] - 0s - loss: 0.0280 - acc: 1.0000 - val_loss: 4.9492 - val_acc: 0.4167\n",
      "Epoch 69/100\n",
      "25/25 [==============================] - 0s - loss: 0.0077 - acc: 1.0000 - val_loss: 5.0696 - val_acc: 0.4167\n",
      "Epoch 70/100\n",
      "25/25 [==============================] - 0s - loss: 0.0067 - acc: 1.0000 - val_loss: 5.1991 - val_acc: 0.5000\n",
      "Epoch 71/100\n",
      "25/25 [==============================] - 0s - loss: 0.0069 - acc: 1.0000 - val_loss: 5.3247 - val_acc: 0.5000\n",
      "Epoch 72/100\n",
      "25/25 [==============================] - 0s - loss: 0.0070 - acc: 1.0000 - val_loss: 5.4275 - val_acc: 0.5000\n",
      "Epoch 73/100\n",
      "25/25 [==============================] - 0s - loss: 0.0065 - acc: 1.0000 - val_loss: 5.4969 - val_acc: 0.5000\n",
      "Epoch 74/100\n",
      "25/25 [==============================] - 0s - loss: 0.0058 - acc: 1.0000 - val_loss: 5.5360 - val_acc: 0.5000\n",
      "Epoch 75/100\n",
      "25/25 [==============================] - 0s - loss: 0.0053 - acc: 1.0000 - val_loss: 5.5354 - val_acc: 0.5000\n",
      "Epoch 76/100\n",
      "25/25 [==============================] - 0s - loss: 0.0046 - acc: 1.0000 - val_loss: 5.4704 - val_acc: 0.5000\n",
      "Epoch 77/100\n",
      "25/25 [==============================] - 0s - loss: 0.0032 - acc: 1.0000 - val_loss: 5.3911 - val_acc: 0.5000\n",
      "Epoch 78/100\n",
      "25/25 [==============================] - 0s - loss: 0.0017 - acc: 1.0000 - val_loss: 5.3091 - val_acc: 0.5833\n",
      "Epoch 79/100\n",
      "25/25 [==============================] - 0s - loss: 9.0029e-04 - acc: 1.0000 - val_loss: 5.2400 - val_acc: 0.5833\n",
      "Epoch 80/100\n",
      "25/25 [==============================] - 0s - loss: 5.3777e-04 - acc: 1.0000 - val_loss: 5.1959 - val_acc: 0.5000\n",
      "Epoch 81/100\n",
      "25/25 [==============================] - 0s - loss: 4.1515e-04 - acc: 1.0000 - val_loss: 5.1821 - val_acc: 0.5000\n",
      "Epoch 82/100\n",
      "25/25 [==============================] - 0s - loss: 4.0815e-04 - acc: 1.0000 - val_loss: 5.1873 - val_acc: 0.5000\n",
      "Epoch 83/100\n",
      "25/25 [==============================] - 0s - loss: 4.6821e-04 - acc: 1.0000 - val_loss: 5.1908 - val_acc: 0.5000\n",
      "Epoch 84/100\n",
      "25/25 [==============================] - 0s - loss: 5.7065e-04 - acc: 1.0000 - val_loss: 5.1783 - val_acc: 0.5000\n",
      "Epoch 85/100\n",
      "25/25 [==============================] - 0s - loss: 6.7414e-04 - acc: 1.0000 - val_loss: 5.1411 - val_acc: 0.5000\n",
      "Epoch 86/100\n",
      "25/25 [==============================] - 0s - loss: 7.2683e-04 - acc: 1.0000 - val_loss: 5.0838 - val_acc: 0.5000\n",
      "Epoch 87/100\n",
      "25/25 [==============================] - 0s - loss: 6.8616e-04 - acc: 1.0000 - val_loss: 5.0115 - val_acc: 0.5000\n",
      "Epoch 88/100\n",
      "25/25 [==============================] - 0s - loss: 5.6136e-04 - acc: 1.0000 - val_loss: 4.9240 - val_acc: 0.5000\n",
      "Epoch 89/100\n",
      "25/25 [==============================] - 0s - loss: 4.0845e-04 - acc: 1.0000 - val_loss: 4.8310 - val_acc: 0.5000\n",
      "Epoch 90/100\n",
      "25/25 [==============================] - 0s - loss: 2.7675e-04 - acc: 1.0000 - val_loss: 4.7679 - val_acc: 0.5833\n",
      "Epoch 91/100\n",
      "25/25 [==============================] - 0s - loss: 1.8723e-04 - acc: 1.0000 - val_loss: 4.7564 - val_acc: 0.5833\n",
      "Epoch 92/100\n",
      "25/25 [==============================] - 0s - loss: 1.4674e-04 - acc: 1.0000 - val_loss: 4.7722 - val_acc: 0.5833\n",
      "Epoch 93/100\n",
      "25/25 [==============================] - 0s - loss: 1.6620e-04 - acc: 1.0000 - val_loss: 4.7947 - val_acc: 0.5833\n",
      "Epoch 94/100\n",
      "25/25 [==============================] - 0s - loss: 1.8731e-04 - acc: 1.0000 - val_loss: 4.8157 - val_acc: 0.5833\n",
      "Epoch 95/100\n",
      "25/25 [==============================] - 0s - loss: 1.3687e-04 - acc: 1.0000 - val_loss: 4.8395 - val_acc: 0.5833\n",
      "Epoch 96/100\n",
      "25/25 [==============================] - 0s - loss: 9.4228e-05 - acc: 1.0000 - val_loss: 4.8667 - val_acc: 0.5833\n",
      "Epoch 97/100\n",
      "25/25 [==============================] - 0s - loss: 7.3958e-05 - acc: 1.0000 - val_loss: 4.8957 - val_acc: 0.5833\n",
      "Epoch 98/100\n",
      "25/25 [==============================] - 0s - loss: 6.4666e-05 - acc: 1.0000 - val_loss: 4.9251 - val_acc: 0.5833\n",
      "Epoch 99/100\n",
      "25/25 [==============================] - 0s - loss: 5.9466e-05 - acc: 1.0000 - val_loss: 4.9544 - val_acc: 0.5833\n",
      "Epoch 100/100\n",
      "25/25 [==============================] - 0s - loss: 5.5564e-05 - acc: 1.0000 - val_loss: 4.9841 - val_acc: 0.5833\n",
      "CPU times: user 8.36 s, sys: 2.45 s, total: 10.8 s\n",
      "Wall time: 17.3 s\n"
     ]
    },
    {
     "data": {
      "text/plain": [
       "<keras.callbacks.History at 0x7f53dd865ef0>"
      ]
     },
     "execution_count": 22,
     "metadata": {},
     "output_type": "execute_result"
    }
   ],
   "source": [
    "%time model.fit(X_train, y_train, epochs=100, validation_split=0.3)"
   ]
  },
  {
   "cell_type": "markdown",
   "metadata": {},
   "source": [
    "## Verlauf der Metriken beim Overfitting\n",
    "### Accuracy\n",
    "![Accuracy Overfitting](https://djcordhose.github.io/ai/img/tensorboard/cnn-acc-overfitting.png \"Accuracy Overfitting\")\n",
    "### Validation Accuracy\n",
    "![Validation Accuracy Overfitting](https://djcordhose.github.io/ai/img/tensorboard/cnn-val-acc-overfitting.png \"Validation Accuracy Overfitting\")"
   ]
  },
  {
   "cell_type": "markdown",
   "metadata": {},
   "source": [
    "## Das sieht gut aus, nun versuchen wir es mit dem kompletten Datensatz ohne Overfitting und mit Dropout"
   ]
  },
  {
   "cell_type": "code",
   "execution_count": 40,
   "metadata": {
    "collapsed": true
   },
   "outputs": [],
   "source": [
    "from keras.models import Model\n",
    "from keras.layers import Dense, Dropout, Activation, Flatten, Input\n",
    "from keras.layers import Convolution2D, MaxPooling2D\n",
    "\n",
    "# this is important, try and vary between .4 and .75\n",
    "drop_out = 0.7\n",
    "\n",
    "# input tensor for a 3-channel 64x64 image\n",
    "inputs = Input(shape=(64, 64, 3))\n",
    "\n",
    "# one block of convolutional layers\n",
    "x = Convolution2D(64, 3, activation='relu', padding='same')(inputs)\n",
    "x = Convolution2D(64, 3, activation='relu', padding='same')(x)\n",
    "x = Convolution2D(64, 3, activation='relu', padding='same')(x)\n",
    "x = MaxPooling2D(pool_size=(2, 2))(x)\n",
    "x = Dropout(drop_out)(x)\n",
    "\n",
    "# one more block\n",
    "x = Convolution2D(128, 3, activation='relu', padding='same')(x)\n",
    "x = Convolution2D(128, 3, activation='relu', padding='same')(x)\n",
    "x = MaxPooling2D(pool_size=(2, 2))(x)\n",
    "x = Dropout(drop_out)(x)\n",
    "\n",
    "# one more block\n",
    "x = Convolution2D(256, 3, activation='relu', padding='same')(x)\n",
    "x = MaxPooling2D(pool_size=(2, 2))(x)\n",
    "x = Dropout(drop_out)(x)\n",
    "\n",
    "x = Flatten()(x)\n",
    "x = Dense(256, activation='relu')(x)\n",
    "x = Dropout(drop_out)(x)\n",
    "\n",
    "# softmax activation, 6 categories\n",
    "predictions = Dense(6, activation='softmax')(x)"
   ]
  },
  {
   "cell_type": "code",
   "execution_count": 41,
   "metadata": {},
   "outputs": [
    {
     "name": "stdout",
     "output_type": "stream",
     "text": [
      "_________________________________________________________________\n",
      "Layer (type)                 Output Shape              Param #   \n",
      "=================================================================\n",
      "input_4 (InputLayer)         (None, 64, 64, 3)         0         \n",
      "_________________________________________________________________\n",
      "conv2d_19 (Conv2D)           (None, 64, 64, 64)        1792      \n",
      "_________________________________________________________________\n",
      "conv2d_20 (Conv2D)           (None, 64, 64, 64)        36928     \n",
      "_________________________________________________________________\n",
      "conv2d_21 (Conv2D)           (None, 64, 64, 64)        36928     \n",
      "_________________________________________________________________\n",
      "max_pooling2d_10 (MaxPooling (None, 32, 32, 64)        0         \n",
      "_________________________________________________________________\n",
      "dropout_9 (Dropout)          (None, 32, 32, 64)        0         \n",
      "_________________________________________________________________\n",
      "conv2d_22 (Conv2D)           (None, 32, 32, 128)       73856     \n",
      "_________________________________________________________________\n",
      "conv2d_23 (Conv2D)           (None, 32, 32, 128)       147584    \n",
      "_________________________________________________________________\n",
      "max_pooling2d_11 (MaxPooling (None, 16, 16, 128)       0         \n",
      "_________________________________________________________________\n",
      "dropout_10 (Dropout)         (None, 16, 16, 128)       0         \n",
      "_________________________________________________________________\n",
      "conv2d_24 (Conv2D)           (None, 16, 16, 256)       295168    \n",
      "_________________________________________________________________\n",
      "max_pooling2d_12 (MaxPooling (None, 8, 8, 256)         0         \n",
      "_________________________________________________________________\n",
      "dropout_11 (Dropout)         (None, 8, 8, 256)         0         \n",
      "_________________________________________________________________\n",
      "flatten_4 (Flatten)          (None, 16384)             0         \n",
      "_________________________________________________________________\n",
      "dense_7 (Dense)              (None, 256)               4194560   \n",
      "_________________________________________________________________\n",
      "dropout_12 (Dropout)         (None, 256)               0         \n",
      "_________________________________________________________________\n",
      "dense_8 (Dense)              (None, 6)                 1542      \n",
      "=================================================================\n",
      "Total params: 4,788,358\n",
      "Trainable params: 4,788,358\n",
      "Non-trainable params: 0\n",
      "_________________________________________________________________\n"
     ]
    }
   ],
   "source": [
    "model = Model(input=inputs, output=predictions)\n",
    "model.summary()"
   ]
  },
  {
   "cell_type": "code",
   "execution_count": 42,
   "metadata": {
    "collapsed": true
   },
   "outputs": [],
   "source": [
    "model.compile(optimizer='adam',\n",
    "              loss='categorical_crossentropy',\n",
    "              metrics=['accuracy'])"
   ]
  },
  {
   "cell_type": "code",
   "execution_count": 43,
   "metadata": {
    "collapsed": true
   },
   "outputs": [],
   "source": [
    "X_train, X_test, y_train, y_test = train_test_split(X, y, test_size=0.2, random_state=42, stratify=y)"
   ]
  },
  {
   "cell_type": "markdown",
   "metadata": {},
   "source": [
    "## Training\n",
    "* Auf einem GPU basierten System geht das in ein paar Minuten\n",
    "* Azure Rechner sind relativ schnell, haben aber keine GPU\n",
    "* Hier dauert jede Epoche ca. 10 Sekunden, bei 500 Epochen = 5000 Sekunden = 1,5 Stunden\n",
    "* Das können wir nicht warten\n",
    "* Stattdessen trainieren wir mit diesem Notebook gemeinsam ein Modell auf einer K80 GPU\n",
    "* dieses Modell wird dann geteilt und jeder macht dann die Auswertung wieder in seinem Notebook\n",
    "* Während das Modell trainiert (dauert auf K80 GPU nur ein paar Minuten) sehen wir uns das TensorBoard an und verfolgen das Training\n",
    "  * Loss, Accuracy, Validation Loss, Validation Accuracy"
   ]
  },
  {
   "cell_type": "code",
   "execution_count": 44,
   "metadata": {},
   "outputs": [],
   "source": [
    "# https://keras.io/callbacks/#tensorboard\n",
    "tb_callback = keras.callbacks.TensorBoard(log_dir='./tf_log')\n",
    "# To start tensorboard\n",
    "# tensorboard --logdir=/mnt/c/Users/olive/Development/ml/tf_log\n",
    "# open http://localhost:6006"
   ]
  },
  {
   "cell_type": "code",
   "execution_count": 49,
   "metadata": {
    "collapsed": true
   },
   "outputs": [],
   "source": [
    "early_stopping_callback = keras.callbacks.EarlyStopping(monitor='val_loss', patience=100, verbose=1)"
   ]
  },
  {
   "cell_type": "code",
   "execution_count": 54,
   "metadata": {
    "collapsed": true
   },
   "outputs": [],
   "source": [
    "checkpoint_callback = keras.callbacks.ModelCheckpoint('./model-checkpoints/weights.epoch-{epoch:02d}-val_loss-{val_loss:.2f}.hdf5');"
   ]
  },
  {
   "cell_type": "code",
   "execution_count": 51,
   "metadata": {
    "collapsed": true
   },
   "outputs": [],
   "source": [
    "!rm -r tf_log"
   ]
  },
  {
   "cell_type": "code",
   "execution_count": 52,
   "metadata": {},
   "outputs": [
    {
     "name": "stdout",
     "output_type": "stream",
     "text": [
      "Train on 242 samples, validate on 61 samples\n",
      "Epoch 1/500\n",
      "242/242 [==============================] - 1s - loss: 1.1399 - acc: 0.5537 - val_loss: 1.8481 - val_acc: 0.3934\n",
      "Epoch 2/500\n",
      "242/242 [==============================] - 0s - loss: 1.1650 - acc: 0.5083 - val_loss: 1.9291 - val_acc: 0.4590\n",
      "Epoch 3/500\n",
      "242/242 [==============================] - 0s - loss: 1.1924 - acc: 0.5207 - val_loss: 1.8771 - val_acc: 0.4918\n",
      "Epoch 4/500\n",
      "242/242 [==============================] - 0s - loss: 1.1175 - acc: 0.5455 - val_loss: 1.9865 - val_acc: 0.4426\n",
      "Epoch 5/500\n",
      "242/242 [==============================] - 0s - loss: 1.1362 - acc: 0.4959 - val_loss: 2.1604 - val_acc: 0.4426\n",
      "Epoch 6/500\n",
      "242/242 [==============================] - 0s - loss: 1.0366 - acc: 0.5537 - val_loss: 2.2037 - val_acc: 0.4590\n",
      "Epoch 7/500\n",
      "242/242 [==============================] - 0s - loss: 1.2770 - acc: 0.5083 - val_loss: 1.7027 - val_acc: 0.4754\n",
      "Epoch 8/500\n",
      "242/242 [==============================] - 0s - loss: 1.1607 - acc: 0.5041 - val_loss: 1.5693 - val_acc: 0.5246\n",
      "Epoch 9/500\n",
      "242/242 [==============================] - 0s - loss: 1.1738 - acc: 0.5248 - val_loss: 1.6129 - val_acc: 0.5410\n",
      "Epoch 10/500\n",
      "242/242 [==============================] - 0s - loss: 1.1461 - acc: 0.5331 - val_loss: 1.7696 - val_acc: 0.4754\n",
      "Epoch 11/500\n",
      "242/242 [==============================] - 0s - loss: 1.1274 - acc: 0.4793 - val_loss: 1.8349 - val_acc: 0.4754\n",
      "Epoch 12/500\n",
      "242/242 [==============================] - 0s - loss: 1.0630 - acc: 0.5372 - val_loss: 2.0153 - val_acc: 0.3770\n",
      "Epoch 13/500\n",
      "242/242 [==============================] - 0s - loss: 1.0856 - acc: 0.5289 - val_loss: 2.0708 - val_acc: 0.3934\n",
      "Epoch 14/500\n",
      "242/242 [==============================] - 0s - loss: 1.0674 - acc: 0.5620 - val_loss: 2.0049 - val_acc: 0.4098\n",
      "Epoch 15/500\n",
      "242/242 [==============================] - 0s - loss: 1.1161 - acc: 0.5413 - val_loss: 1.9009 - val_acc: 0.4754\n",
      "Epoch 16/500\n",
      "242/242 [==============================] - 0s - loss: 1.0510 - acc: 0.5620 - val_loss: 1.8349 - val_acc: 0.5082\n",
      "Epoch 17/500\n",
      "242/242 [==============================] - 0s - loss: 1.0444 - acc: 0.5702 - val_loss: 1.7589 - val_acc: 0.5082\n",
      "Epoch 18/500\n",
      "242/242 [==============================] - 0s - loss: 1.0213 - acc: 0.5785 - val_loss: 1.7356 - val_acc: 0.5246\n",
      "Epoch 19/500\n",
      "242/242 [==============================] - 0s - loss: 0.9496 - acc: 0.6570 - val_loss: 1.8008 - val_acc: 0.4754\n",
      "Epoch 20/500\n",
      "242/242 [==============================] - 0s - loss: 0.9947 - acc: 0.6033 - val_loss: 1.8557 - val_acc: 0.4590\n",
      "Epoch 21/500\n",
      "242/242 [==============================] - 0s - loss: 0.9562 - acc: 0.6446 - val_loss: 1.9570 - val_acc: 0.4262\n",
      "Epoch 22/500\n",
      "242/242 [==============================] - 0s - loss: 0.9855 - acc: 0.5826 - val_loss: 2.0134 - val_acc: 0.4918\n",
      "Epoch 23/500\n",
      "242/242 [==============================] - 0s - loss: 0.9191 - acc: 0.5992 - val_loss: 2.0331 - val_acc: 0.4918\n",
      "Epoch 24/500\n",
      "242/242 [==============================] - 0s - loss: 0.9244 - acc: 0.6157 - val_loss: 2.1062 - val_acc: 0.4754\n",
      "Epoch 25/500\n",
      "242/242 [==============================] - 0s - loss: 0.9089 - acc: 0.5992 - val_loss: 2.1733 - val_acc: 0.4590\n",
      "Epoch 26/500\n",
      "242/242 [==============================] - 0s - loss: 0.9767 - acc: 0.6116 - val_loss: 2.2174 - val_acc: 0.4754\n",
      "Epoch 27/500\n",
      "242/242 [==============================] - 0s - loss: 0.8826 - acc: 0.6198 - val_loss: 2.1408 - val_acc: 0.5082\n",
      "Epoch 28/500\n",
      "242/242 [==============================] - 0s - loss: 0.8790 - acc: 0.6364 - val_loss: 2.1015 - val_acc: 0.5246\n",
      "Epoch 29/500\n",
      "242/242 [==============================] - 0s - loss: 0.9147 - acc: 0.6446 - val_loss: 2.0182 - val_acc: 0.5246\n",
      "Epoch 30/500\n",
      "242/242 [==============================] - 0s - loss: 0.8856 - acc: 0.6281 - val_loss: 2.0788 - val_acc: 0.5574\n",
      "Epoch 31/500\n",
      "242/242 [==============================] - 0s - loss: 0.8812 - acc: 0.6074 - val_loss: 2.1176 - val_acc: 0.5410\n",
      "Epoch 32/500\n",
      "242/242 [==============================] - 0s - loss: 0.9472 - acc: 0.6033 - val_loss: 2.1301 - val_acc: 0.5246\n",
      "Epoch 33/500\n",
      "242/242 [==============================] - 0s - loss: 0.8449 - acc: 0.6529 - val_loss: 2.3474 - val_acc: 0.4426\n",
      "Epoch 34/500\n",
      "242/242 [==============================] - 0s - loss: 0.8740 - acc: 0.6736 - val_loss: 2.2575 - val_acc: 0.4754\n",
      "Epoch 35/500\n",
      "242/242 [==============================] - 0s - loss: 0.7674 - acc: 0.6901 - val_loss: 2.0163 - val_acc: 0.5246\n",
      "Epoch 36/500\n",
      "242/242 [==============================] - 0s - loss: 0.8574 - acc: 0.6777 - val_loss: 2.4293 - val_acc: 0.4918\n",
      "Epoch 37/500\n",
      "242/242 [==============================] - 0s - loss: 1.0311 - acc: 0.6157 - val_loss: 2.1469 - val_acc: 0.4754\n",
      "Epoch 38/500\n",
      "242/242 [==============================] - 0s - loss: 0.9567 - acc: 0.6612 - val_loss: 2.0580 - val_acc: 0.4918\n",
      "Epoch 39/500\n",
      "242/242 [==============================] - 0s - loss: 1.0135 - acc: 0.5868 - val_loss: 1.9396 - val_acc: 0.5246\n",
      "Epoch 40/500\n",
      "242/242 [==============================] - 0s - loss: 0.8794 - acc: 0.6198 - val_loss: 2.1498 - val_acc: 0.5246\n",
      "Epoch 41/500\n",
      "242/242 [==============================] - 0s - loss: 0.9597 - acc: 0.6405 - val_loss: 2.2993 - val_acc: 0.5082\n",
      "Epoch 42/500\n",
      "242/242 [==============================] - 0s - loss: 0.8719 - acc: 0.6240 - val_loss: 2.2203 - val_acc: 0.5082\n",
      "Epoch 43/500\n",
      "242/242 [==============================] - 0s - loss: 0.9071 - acc: 0.6364 - val_loss: 2.0764 - val_acc: 0.5410\n",
      "Epoch 44/500\n",
      "242/242 [==============================] - 0s - loss: 0.9769 - acc: 0.6281 - val_loss: 2.0285 - val_acc: 0.5082\n",
      "Epoch 45/500\n",
      "242/242 [==============================] - 0s - loss: 0.9988 - acc: 0.6116 - val_loss: 2.0342 - val_acc: 0.5574\n",
      "Epoch 46/500\n",
      "242/242 [==============================] - 0s - loss: 0.8629 - acc: 0.6488 - val_loss: 2.1600 - val_acc: 0.5410\n",
      "Epoch 47/500\n",
      "242/242 [==============================] - 0s - loss: 0.9847 - acc: 0.6198 - val_loss: 1.9753 - val_acc: 0.4918\n",
      "Epoch 48/500\n",
      "242/242 [==============================] - 0s - loss: 0.8783 - acc: 0.6488 - val_loss: 2.0191 - val_acc: 0.3770\n",
      "Epoch 49/500\n",
      "242/242 [==============================] - 0s - loss: 0.9287 - acc: 0.6281 - val_loss: 1.8864 - val_acc: 0.4098\n",
      "Epoch 50/500\n",
      "242/242 [==============================] - 0s - loss: 0.8966 - acc: 0.6818 - val_loss: 1.7654 - val_acc: 0.4754\n",
      "Epoch 51/500\n",
      "242/242 [==============================] - 0s - loss: 0.8657 - acc: 0.6612 - val_loss: 1.8648 - val_acc: 0.4918\n",
      "Epoch 52/500\n",
      "242/242 [==============================] - 0s - loss: 0.8837 - acc: 0.6157 - val_loss: 1.9028 - val_acc: 0.4754\n",
      "Epoch 53/500\n",
      "242/242 [==============================] - 0s - loss: 0.8629 - acc: 0.6736 - val_loss: 1.8718 - val_acc: 0.4754\n",
      "Epoch 54/500\n",
      "242/242 [==============================] - 0s - loss: 0.7821 - acc: 0.6694 - val_loss: 1.9813 - val_acc: 0.4590\n",
      "Epoch 55/500\n",
      "242/242 [==============================] - 0s - loss: 0.8502 - acc: 0.6364 - val_loss: 2.0582 - val_acc: 0.4754\n",
      "Epoch 56/500\n",
      "242/242 [==============================] - 0s - loss: 0.8183 - acc: 0.7149 - val_loss: 2.2045 - val_acc: 0.5082\n",
      "Epoch 57/500\n",
      "242/242 [==============================] - 0s - loss: 0.8377 - acc: 0.6612 - val_loss: 2.3473 - val_acc: 0.5738\n",
      "Epoch 58/500\n",
      "242/242 [==============================] - 0s - loss: 0.8917 - acc: 0.7231 - val_loss: 2.2515 - val_acc: 0.5082\n",
      "Epoch 59/500\n",
      "242/242 [==============================] - 0s - loss: 0.7495 - acc: 0.7149 - val_loss: 2.1030 - val_acc: 0.4918\n",
      "Epoch 60/500\n",
      "242/242 [==============================] - 0s - loss: 0.8097 - acc: 0.7066 - val_loss: 2.0530 - val_acc: 0.4918\n",
      "Epoch 61/500\n",
      "242/242 [==============================] - 0s - loss: 0.8091 - acc: 0.6901 - val_loss: 2.0718 - val_acc: 0.4754\n",
      "Epoch 62/500\n",
      "242/242 [==============================] - 0s - loss: 0.7005 - acc: 0.7273 - val_loss: 2.0658 - val_acc: 0.4754\n",
      "Epoch 63/500\n",
      "242/242 [==============================] - 0s - loss: 0.8185 - acc: 0.6901 - val_loss: 1.9286 - val_acc: 0.4918\n",
      "Epoch 64/500\n",
      "242/242 [==============================] - 0s - loss: 0.7603 - acc: 0.7025 - val_loss: 1.8138 - val_acc: 0.5246\n",
      "Epoch 65/500\n",
      "242/242 [==============================] - 0s - loss: 0.7594 - acc: 0.7025 - val_loss: 1.7751 - val_acc: 0.5246\n",
      "Epoch 66/500\n"
     ]
    },
    {
     "name": "stdout",
     "output_type": "stream",
     "text": [
      "242/242 [==============================] - 0s - loss: 0.6630 - acc: 0.7603 - val_loss: 1.8482 - val_acc: 0.5246\n",
      "Epoch 67/500\n",
      "242/242 [==============================] - 0s - loss: 0.6585 - acc: 0.7603 - val_loss: 1.9853 - val_acc: 0.5902\n",
      "Epoch 68/500\n",
      "242/242 [==============================] - 0s - loss: 0.6643 - acc: 0.7397 - val_loss: 1.9533 - val_acc: 0.5902\n",
      "Epoch 69/500\n",
      "242/242 [==============================] - 0s - loss: 0.6805 - acc: 0.7355 - val_loss: 1.8779 - val_acc: 0.5902\n",
      "Epoch 70/500\n",
      "242/242 [==============================] - 0s - loss: 0.6655 - acc: 0.7438 - val_loss: 1.8835 - val_acc: 0.5738\n",
      "Epoch 71/500\n",
      "242/242 [==============================] - 0s - loss: 0.6672 - acc: 0.7603 - val_loss: 1.9669 - val_acc: 0.5902\n",
      "Epoch 72/500\n",
      "242/242 [==============================] - 0s - loss: 0.6879 - acc: 0.7107 - val_loss: 2.0078 - val_acc: 0.5410\n",
      "Epoch 73/500\n",
      "242/242 [==============================] - 0s - loss: 0.7238 - acc: 0.7107 - val_loss: 1.7524 - val_acc: 0.5410\n",
      "Epoch 74/500\n",
      "242/242 [==============================] - 0s - loss: 0.6376 - acc: 0.7603 - val_loss: 1.6599 - val_acc: 0.5246\n",
      "Epoch 75/500\n",
      "242/242 [==============================] - 0s - loss: 0.6122 - acc: 0.7934 - val_loss: 1.7117 - val_acc: 0.5410\n",
      "Epoch 76/500\n",
      "242/242 [==============================] - 0s - loss: 0.6209 - acc: 0.7769 - val_loss: 1.8659 - val_acc: 0.5082\n",
      "Epoch 77/500\n",
      "242/242 [==============================] - 0s - loss: 0.6147 - acc: 0.7810 - val_loss: 1.9167 - val_acc: 0.5246\n",
      "Epoch 78/500\n",
      "242/242 [==============================] - 0s - loss: 0.6062 - acc: 0.7934 - val_loss: 1.9883 - val_acc: 0.5738\n",
      "Epoch 79/500\n",
      "242/242 [==============================] - 0s - loss: 0.5574 - acc: 0.7769 - val_loss: 2.0635 - val_acc: 0.5574\n",
      "Epoch 80/500\n",
      "242/242 [==============================] - 0s - loss: 0.6465 - acc: 0.7645 - val_loss: 2.0038 - val_acc: 0.5082\n",
      "Epoch 81/500\n",
      "242/242 [==============================] - 0s - loss: 0.5869 - acc: 0.7810 - val_loss: 2.0189 - val_acc: 0.4754\n",
      "Epoch 82/500\n",
      "242/242 [==============================] - 0s - loss: 0.5172 - acc: 0.8058 - val_loss: 2.0489 - val_acc: 0.4918\n",
      "Epoch 83/500\n",
      "242/242 [==============================] - 0s - loss: 0.5638 - acc: 0.7893 - val_loss: 2.1778 - val_acc: 0.5246\n",
      "Epoch 84/500\n",
      "242/242 [==============================] - 0s - loss: 0.5871 - acc: 0.7686 - val_loss: 2.2709 - val_acc: 0.5410\n",
      "Epoch 85/500\n",
      "242/242 [==============================] - 0s - loss: 0.5515 - acc: 0.7562 - val_loss: 2.1105 - val_acc: 0.5246\n",
      "Epoch 86/500\n",
      "242/242 [==============================] - 0s - loss: 0.4946 - acc: 0.8099 - val_loss: 2.0532 - val_acc: 0.5410\n",
      "Epoch 87/500\n",
      "242/242 [==============================] - 0s - loss: 0.5339 - acc: 0.8223 - val_loss: 2.1360 - val_acc: 0.4754\n",
      "Epoch 88/500\n",
      "242/242 [==============================] - 0s - loss: 0.5377 - acc: 0.7934 - val_loss: 2.2908 - val_acc: 0.5246\n",
      "Epoch 89/500\n",
      "242/242 [==============================] - 0s - loss: 0.5741 - acc: 0.7769 - val_loss: 2.2413 - val_acc: 0.5246\n",
      "Epoch 90/500\n",
      "242/242 [==============================] - 0s - loss: 0.5421 - acc: 0.7893 - val_loss: 2.1797 - val_acc: 0.5902\n",
      "Epoch 91/500\n",
      "242/242 [==============================] - 0s - loss: 0.6201 - acc: 0.7686 - val_loss: 2.0873 - val_acc: 0.5902\n",
      "Epoch 92/500\n",
      "242/242 [==============================] - 0s - loss: 0.4695 - acc: 0.8182 - val_loss: 1.8516 - val_acc: 0.5902\n",
      "Epoch 93/500\n",
      "242/242 [==============================] - 0s - loss: 0.5138 - acc: 0.8264 - val_loss: 1.8117 - val_acc: 0.6066\n",
      "Epoch 94/500\n",
      "242/242 [==============================] - 0s - loss: 0.5531 - acc: 0.8140 - val_loss: 1.8809 - val_acc: 0.6066\n",
      "Epoch 95/500\n",
      "242/242 [==============================] - 0s - loss: 0.5110 - acc: 0.8058 - val_loss: 2.0241 - val_acc: 0.5902\n",
      "Epoch 96/500\n",
      "242/242 [==============================] - 0s - loss: 0.5286 - acc: 0.8140 - val_loss: 2.0678 - val_acc: 0.5902\n",
      "Epoch 97/500\n",
      "242/242 [==============================] - 0s - loss: 0.4523 - acc: 0.8306 - val_loss: 2.1462 - val_acc: 0.5738\n",
      "Epoch 98/500\n",
      "242/242 [==============================] - 0s - loss: 0.5038 - acc: 0.8264 - val_loss: 2.0905 - val_acc: 0.5738\n",
      "Epoch 99/500\n",
      "242/242 [==============================] - 0s - loss: 0.6250 - acc: 0.8017 - val_loss: 1.7533 - val_acc: 0.5410\n",
      "Epoch 100/500\n",
      "242/242 [==============================] - 0s - loss: 0.4054 - acc: 0.8471 - val_loss: 1.6308 - val_acc: 0.5574\n",
      "Epoch 101/500\n",
      "242/242 [==============================] - 0s - loss: 0.4746 - acc: 0.8264 - val_loss: 1.6487 - val_acc: 0.6066\n",
      "Epoch 102/500\n",
      "242/242 [==============================] - 0s - loss: 0.5577 - acc: 0.8099 - val_loss: 1.8301 - val_acc: 0.5410\n",
      "Epoch 103/500\n",
      "242/242 [==============================] - 0s - loss: 0.3918 - acc: 0.8926 - val_loss: 2.0447 - val_acc: 0.5738\n",
      "Epoch 104/500\n",
      "242/242 [==============================] - 0s - loss: 0.5260 - acc: 0.8430 - val_loss: 2.1282 - val_acc: 0.5410\n",
      "Epoch 105/500\n",
      "242/242 [==============================] - 0s - loss: 0.5186 - acc: 0.8223 - val_loss: 2.2109 - val_acc: 0.5574\n",
      "Epoch 106/500\n",
      "242/242 [==============================] - 0s - loss: 0.4690 - acc: 0.8430 - val_loss: 2.0630 - val_acc: 0.6066\n",
      "Epoch 107/500\n",
      "242/242 [==============================] - 0s - loss: 0.4325 - acc: 0.8223 - val_loss: 1.9274 - val_acc: 0.6066\n",
      "Epoch 108/500\n",
      "242/242 [==============================] - 0s - loss: 0.3774 - acc: 0.8636 - val_loss: 1.8551 - val_acc: 0.5738\n",
      "Epoch 109/500\n",
      "242/242 [==============================] - 0s - loss: 0.4533 - acc: 0.8347 - val_loss: 1.9684 - val_acc: 0.5902\n",
      "Epoch 00108: early stopping\n",
      "CPU times: user 56.7 s, sys: 10.4 s, total: 1min 7s\n",
      "Wall time: 1min 39s\n"
     ]
    },
    {
     "data": {
      "text/plain": [
       "<keras.callbacks.History at 0x7f5367e83208>"
      ]
     },
     "execution_count": 52,
     "metadata": {},
     "output_type": "execute_result"
    }
   ],
   "source": [
    "# Depends on harware GPU architecture, set as high as possible (this works well on K80)\n",
    "BATCH_SIZE = 500\n",
    "# %time model.fit(X_train, y_train, epochs=500, batch_size=BATCH_SIZE, validation_split=0.2, callbacks=[tb_callback, early_stopping_callback])\n",
    "%time model.fit(X_train, y_train, epochs=500, batch_size=BATCH_SIZE, validation_split=0.2, callbacks=[tb_callback])\n",
    "# %time model.fit(X_train, y_train, epochs=500, batch_size=BATCH_SIZE, validation_split=0.2)"
   ]
  },
  {
   "cell_type": "markdown",
   "metadata": {},
   "source": [
    "## Idealer Verlauf der Metriken beim vollen Training\n",
    "\n",
    "100% bei Training und über 95% bei Validation sind möglich, sind bei der Datenmenge aber mit Vorsicht zu genießen\n",
    "\n",
    "### Accuracy\n",
    "![Accuracy](https://djcordhose.github.io/ai/img/tensorboard/cnn-acc.png \"Accuracy\")\n",
    "### Validation Accuracy\n",
    "![Validation Accuracy](https://djcordhose.github.io/ai/img/tensorboard/cnn-val-acc.png \"Validation Accuracy\")"
   ]
  },
  {
   "cell_type": "markdown",
   "metadata": {},
   "source": [
    "# Sichern des Modells (falls in diesem Notebook trainiert wurde)\n",
    "* unser Modell ist 55 MB groß, das ist ein wirklich großes Modell"
   ]
  },
  {
   "cell_type": "code",
   "execution_count": 34,
   "metadata": {
    "collapsed": true
   },
   "outputs": [],
   "source": [
    "model.save('conv-vgg.hdf5')"
   ]
  },
  {
   "cell_type": "code",
   "execution_count": 35,
   "metadata": {},
   "outputs": [
    {
     "name": "stdout",
     "output_type": "stream",
     "text": [
      "total 57M\r\n",
      "-rw-rw-r-- 1 ubuntu ubuntu 186K Aug 29 08:09 cnn-intro.ipynb\r\n",
      "-rw-rw-r-- 1 ubuntu ubuntu  55M Aug 29 08:10 conv-vgg.hdf5\r\n",
      "drwxrwxr-x 3 ubuntu ubuntu 4.0K Aug 29 07:45 __MACOSX\r\n",
      "-rw------- 1 ubuntu ubuntu 4.2K Aug 29 08:09 nohup.out\r\n",
      "drwxrwxr-x 8 ubuntu ubuntu 4.0K Aug 29 07:45 speed-limit-signs\r\n",
      "-rw-rw-r-- 1 ubuntu ubuntu 1.8M Aug 29 07:45 speed-limit-signs.zip\r\n",
      "drwxr-xr-x 2 ubuntu ubuntu 4.0K Aug 29 08:01 tf_log\r\n"
     ]
    }
   ],
   "source": [
    "!ls -lh"
   ]
  },
  {
   "cell_type": "code",
   "execution_count": 36,
   "metadata": {},
   "outputs": [
    {
     "name": "stdout",
     "output_type": "stream",
     "text": [
      "https://transfer.sh/B1W8e/conv-vgg.hdf5"
     ]
    }
   ],
   "source": [
    "# https://transfer.sh/\n",
    "# Speichert eure Daten für 14 Tage\n",
    "!curl --upload-file conv-vgg.hdf5 https://transfer.sh/conv-vgg.hdf5\n",
    "\n",
    "# Vortrainiertes Modell\n",
    "# loss: 0.0310 - acc: 0.9917 - val_loss: 0.4075 - val_acc: 0.9508\n",
    "# https://transfer.sh/B1W8e/conv-vgg.hdf5"
   ]
  },
  {
   "cell_type": "markdown",
   "metadata": {},
   "source": [
    "# ODER Laden des trainierten Modells"
   ]
  },
  {
   "cell_type": "code",
   "execution_count": 59,
   "metadata": {},
   "outputs": [
    {
     "name": "stdout",
     "output_type": "stream",
     "text": [
      "total 2.0M\r\n",
      "-rw-rw-r-- 1 ubuntu ubuntu 131K Aug 29 08:29 cnn-intro.ipynb\r\n",
      "drwxrwxr-x 3 ubuntu ubuntu 4.0K Aug 29 07:45 __MACOSX\r\n",
      "-rw------- 1 ubuntu ubuntu 4.8K Aug 29 08:29 nohup.out\r\n",
      "drwxrwxr-x 8 ubuntu ubuntu 4.0K Aug 29 07:45 speed-limit-signs\r\n",
      "-rw-rw-r-- 1 ubuntu ubuntu 1.8M Aug 29 07:45 speed-limit-signs.zip\r\n",
      "drwxr-xr-x 2 ubuntu ubuntu 4.0K Aug 29 08:17 tf_log\r\n"
     ]
    }
   ],
   "source": [
    "!ls -lh"
   ]
  },
  {
   "cell_type": "code",
   "execution_count": 58,
   "metadata": {
    "collapsed": true
   },
   "outputs": [],
   "source": [
    "!rm conv-vgg.hdf5"
   ]
  },
  {
   "cell_type": "code",
   "execution_count": 60,
   "metadata": {},
   "outputs": [
    {
     "name": "stdout",
     "output_type": "stream",
     "text": [
      "  % Total    % Received % Xferd  Average Speed   Time    Time     Time  Current\n",
      "                                 Dload  Upload   Total   Spent    Left  Speed\n",
      "100 54.8M  100 54.8M    0     0  7649k      0  0:00:07  0:00:07 --:--:-- 10.3M\n"
     ]
    }
   ],
   "source": [
    "# anpassen an aktuelles Modell\n",
    "!curl -O https://transfer.sh/B1W8e/conv-vgg.hdf5"
   ]
  },
  {
   "cell_type": "code",
   "execution_count": 61,
   "metadata": {},
   "outputs": [
    {
     "name": "stdout",
     "output_type": "stream",
     "text": [
      "total 57M\r\n",
      "-rw-rw-r-- 1 ubuntu ubuntu 131K Aug 29 08:31 cnn-intro.ipynb\r\n",
      "-rw-rw-r-- 1 ubuntu ubuntu  55M Aug 29 08:30 conv-vgg.hdf5\r\n",
      "drwxrwxr-x 3 ubuntu ubuntu 4.0K Aug 29 07:45 __MACOSX\r\n",
      "-rw------- 1 ubuntu ubuntu 4.9K Aug 29 08:31 nohup.out\r\n",
      "drwxrwxr-x 8 ubuntu ubuntu 4.0K Aug 29 07:45 speed-limit-signs\r\n",
      "-rw-rw-r-- 1 ubuntu ubuntu 1.8M Aug 29 07:45 speed-limit-signs.zip\r\n",
      "drwxr-xr-x 2 ubuntu ubuntu 4.0K Aug 29 08:17 tf_log\r\n"
     ]
    }
   ],
   "source": [
    "!ls -lh"
   ]
  },
  {
   "cell_type": "code",
   "execution_count": 62,
   "metadata": {
    "collapsed": true
   },
   "outputs": [],
   "source": [
    "from keras.models import load_model\n",
    "model = load_model('conv-vgg.hdf5')"
   ]
  },
  {
   "cell_type": "markdown",
   "metadata": {},
   "source": [
    "# Bewertung"
   ]
  },
  {
   "cell_type": "code",
   "execution_count": 63,
   "metadata": {},
   "outputs": [
    {
     "name": "stdout",
     "output_type": "stream",
     "text": [
      "303/303 [==============================] - 2s\n"
     ]
    },
    {
     "data": {
      "text/plain": [
       "(0.082067638635635376, 0.99009901285171509)"
      ]
     },
     "execution_count": 63,
     "metadata": {},
     "output_type": "execute_result"
    }
   ],
   "source": [
    "train_loss, train_accuracy = model.evaluate(X_train, y_train, batch_size=BATCH_SIZE)\n",
    "train_loss, train_accuracy"
   ]
  },
  {
   "cell_type": "code",
   "execution_count": 64,
   "metadata": {},
   "outputs": [
    {
     "name": "stdout",
     "output_type": "stream",
     "text": [
      "76/76 [==============================] - 0s\n"
     ]
    },
    {
     "data": {
      "text/plain": [
       "(0.25680279731750488, 0.94736838340759277)"
      ]
     },
     "execution_count": 64,
     "metadata": {},
     "output_type": "execute_result"
    }
   ],
   "source": [
    "test_loss, test_accuracy = model.evaluate(X_test, y_test, batch_size=BATCH_SIZE)\n",
    "test_loss, test_accuracy"
   ]
  },
  {
   "cell_type": "markdown",
   "metadata": {},
   "source": [
    "# Ausprobieren auf ein paar Test-Daten"
   ]
  },
  {
   "cell_type": "code",
   "execution_count": 71,
   "metadata": {},
   "outputs": [
    {
     "data": {
      "text/plain": [
       "array([1, 0, 4, 0, 0, 5, 4, 0, 0, 0])"
      ]
     },
     "execution_count": 71,
     "metadata": {},
     "output_type": "execute_result"
    }
   ],
   "source": [
    "import random\n",
    "\n",
    "# Pick 10 random images for test data set\n",
    "random.seed(4) # to make this deterministic\n",
    "sample_indexes = random.sample(range(len(X_test)), 10)\n",
    "sample_images = [X_test[i] for i in sample_indexes]\n",
    "sample_labels = [y_test[i] for i in sample_indexes]\n",
    "\n",
    "ground_truth = np.argmax(sample_labels, axis=1)\n",
    "\n",
    "X_sample = np.array(sample_images)\n",
    "prediction = model.predict(X_sample)\n",
    "predicted_categories = np.argmax(prediction, axis=1)\n",
    "predicted_categories"
   ]
  },
  {
   "cell_type": "code",
   "execution_count": 72,
   "metadata": {
    "collapsed": true
   },
   "outputs": [],
   "source": [
    "# Display the predictions and the ground truth visually.\n",
    "def display_prediction (images, true_labels, predicted_labels):\n",
    "    fig = plt.figure(figsize=(10, 10))\n",
    "    for i in range(len(true_labels)):\n",
    "        truth = true_labels[i]\n",
    "        prediction = predicted_labels[i]\n",
    "        plt.subplot(5, 2,1+i)\n",
    "        plt.axis('off')\n",
    "        color='green' if truth == prediction else 'red'\n",
    "        plt.text(80, 10, \"Truth:        {0}\\nPrediction: {1}\".format(truth, prediction), \n",
    "                 fontsize=12, color=color)\n",
    "        plt.imshow(images[i])"
   ]
  },
  {
   "cell_type": "code",
   "execution_count": 73,
   "metadata": {},
   "outputs": [
    {
     "data": {
      "image/png": "[encoded data removed]",
      "text/plain": [
       "<matplotlib.figure.Figure at 0x7f5364378940>"
      ]
     },
     "metadata": {},
     "output_type": "display_data"
    }
   ],
   "source": [
    "display_prediction(sample_images, ground_truth, predicted_categories)"
   ]
  },
  {
   "cell_type": "code",
   "execution_count": null,
   "metadata": {
    "collapsed": true
   },
   "outputs": [],
   "source": []
  }
 ],
 "metadata": {
  "kernelspec": {
   "display_name": "Python 3",
   "language": "python",
   "name": "python3"
  },
  "language_info": {
   "codemirror_mode": {
    "name": "ipython",
    "version": 3
   },
   "file_extension": ".py",
   "mimetype": "text/x-python",
   "name": "python",
   "nbconvert_exporter": "python",
   "pygments_lexer": "ipython3",
   "version": "3.6.1"
  }
 },
 "nbformat": 4,
 "nbformat_minor": 2
}
