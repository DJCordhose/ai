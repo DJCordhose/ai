{
 "cells": [
  {
   "cell_type": "markdown",
   "metadata": {},
   "source": [
    "# Einführung in CNNs"
   ]
  },
  {
   "cell_type": "code",
   "execution_count": 1,
   "metadata": {
    "collapsed": true
   },
   "outputs": [],
   "source": [
    "import warnings\n",
    "warnings.filterwarnings('ignore')"
   ]
  },
  {
   "cell_type": "code",
   "execution_count": 2,
   "metadata": {},
   "outputs": [
    {
     "name": "stdout",
     "output_type": "stream",
     "text": [
      "Populating the interactive namespace from numpy and matplotlib\n"
     ]
    }
   ],
   "source": [
    "%matplotlib inline\n",
    "%pylab inline"
   ]
  },
  {
   "cell_type": "code",
   "execution_count": 3,
   "metadata": {
    "collapsed": true
   },
   "outputs": [],
   "source": [
    "import matplotlib.pylab as plt\n",
    "import numpy as np"
   ]
  },
  {
   "cell_type": "code",
   "execution_count": 4,
   "metadata": {
    "collapsed": true
   },
   "outputs": [],
   "source": [
    "from distutils.version import StrictVersion"
   ]
  },
  {
   "cell_type": "code",
   "execution_count": 5,
   "metadata": {},
   "outputs": [
    {
     "name": "stdout",
     "output_type": "stream",
     "text": [
      "0.18.1\n"
     ]
    }
   ],
   "source": [
    "import sklearn\n",
    "print(sklearn.__version__)\n",
    "\n",
    "assert StrictVersion(sklearn.__version__ ) >= StrictVersion('0.18.1')"
   ]
  },
  {
   "cell_type": "code",
   "execution_count": 6,
   "metadata": {},
   "outputs": [
    {
     "name": "stdout",
     "output_type": "stream",
     "text": [
      "1.2.1\n"
     ]
    }
   ],
   "source": [
    "import tensorflow as tf\n",
    "tf.logging.set_verbosity(tf.logging.ERROR)\n",
    "print(tf.__version__)\n",
    "\n",
    "assert StrictVersion(tf.__version__) >= StrictVersion('1.1.0')"
   ]
  },
  {
   "cell_type": "code",
   "execution_count": 7,
   "metadata": {},
   "outputs": [
    {
     "name": "stderr",
     "output_type": "stream",
     "text": [
      "Using TensorFlow backend.\n"
     ]
    },
    {
     "name": "stdout",
     "output_type": "stream",
     "text": [
      "2.0.5\n"
     ]
    }
   ],
   "source": [
    "import keras\n",
    "print(keras.__version__)\n",
    "\n",
    "assert StrictVersion(keras.__version__) >= StrictVersion('2.0.0')"
   ]
  },
  {
   "cell_type": "code",
   "execution_count": 8,
   "metadata": {},
   "outputs": [
    {
     "name": "stdout",
     "output_type": "stream",
     "text": [
      "0.19.2\n"
     ]
    }
   ],
   "source": [
    "import pandas as pd\n",
    "print(pd.__version__)\n",
    "\n",
    "assert StrictVersion(pd.__version__) >= StrictVersion('0.19.0')"
   ]
  },
  {
   "cell_type": "markdown",
   "metadata": {},
   "source": [
    "## Laden und Vorbereiten der Bild-Daten"
   ]
  },
  {
   "cell_type": "code",
   "execution_count": 9,
   "metadata": {},
   "outputs": [
    {
     "name": "stdout",
     "output_type": "stream",
     "text": [
      "  % Total    % Received % Xferd  Average Speed   Time    Time     Time  Current\n",
      "                                 Dload  Upload   Total   Spent    Left  Speed\n",
      "100 1810k  100 1810k    0     0  3622k      0 --:--:-- --:--:-- --:--:-- 3620k\n"
     ]
    }
   ],
   "source": [
    "!curl -O https://raw.githubusercontent.com/DJCordhose/speed-limit-signs/master/data/speed-limit-signs.zip\n",
    "from zipfile import ZipFile\n",
    "zip = ZipFile(r'speed-limit-signs.zip')\n",
    "zip.extractall('.')"
   ]
  },
  {
   "cell_type": "code",
   "execution_count": 10,
   "metadata": {},
   "outputs": [
    {
     "name": "stdout",
     "output_type": "stream",
     "text": [
      "total 0\r\n",
      "drwxr-xr-x 2 nbuser nbuser   0 Aug 27 09:55 0\r\n",
      "drwxr-xr-x 2 nbuser nbuser   0 Aug 27 09:55 1\r\n",
      "drwxr-xr-x 2 nbuser nbuser   0 Aug 27 09:55 2\r\n",
      "drwxr-xr-x 2 nbuser nbuser   0 Aug 27 09:55 3\r\n",
      "drwxr-xr-x 2 nbuser nbuser   0 Aug 27 09:55 4\r\n",
      "drwxr-xr-x 2 nbuser nbuser   0 Aug 27 09:55 5\r\n",
      "-rw-r--r-- 1 nbuser nbuser 380 Aug 27 09:55 README.md\r\n"
     ]
    }
   ],
   "source": [
    "!ls -l speed-limit-signs"
   ]
  },
  {
   "cell_type": "code",
   "execution_count": 11,
   "metadata": {},
   "outputs": [
    {
     "name": "stdout",
     "output_type": "stream",
     "text": [
      "Data extracted from http://benchmark.ini.rub.de/?section=gtsdb&subsection=dataset\r\n",
      "\r\n",
      "From http://benchmark.ini.rub.de/Dataset_GTSDB/FullIJCNN2013.zip just the samples for the speed limit signs \r\n",
      "\r\n",
      "## Format\r\n",
      "\r\n",
      "https://en.wikipedia.org/wiki/Netpbm_format\r\n",
      "\r\n",
      "Can be previewed on a Mac and be processed by http://scikit-image.org/\r\n",
      "\r\n",
      "## Labels\r\n",
      "- 0: 30\r\n",
      "- 1: 50\r\n",
      "- 2: 70\r\n",
      "- 3: 80\r\n",
      "- 4: 100\r\n",
      "- 5: 120"
     ]
    }
   ],
   "source": [
    "!cat speed-limit-signs/README.md"
   ]
  },
  {
   "cell_type": "markdown",
   "metadata": {},
   "source": [
    "# Big Kudos to [Waleed Abdulla](https://medium.com/@waleedka) for providing the initial idea and many of the functions used to prepare and display the images: https://medium.com/@waleedka/traffic-sign-recognition-with-tensorflow-629dffc391a6#.i728o84ib  "
   ]
  },
  {
   "cell_type": "code",
   "execution_count": 12,
   "metadata": {
    "collapsed": true
   },
   "outputs": [],
   "source": [
    "import os\n",
    "import skimage.data\n",
    "import skimage.transform\n",
    "from keras.utils.np_utils import to_categorical\n",
    "import numpy as np\n",
    "\n",
    "def load_data(data_dir, type=\".ppm\"):\n",
    "    num_categories = 6\n",
    "\n",
    "    # Get all subdirectories of data_dir. Each represents a label.\n",
    "    directories = [d for d in os.listdir(data_dir) \n",
    "                   if os.path.isdir(os.path.join(data_dir, d))]\n",
    "    # Loop through the label directories and collect the data in\n",
    "    # two lists, labels and images.\n",
    "    labels = []\n",
    "    images = []\n",
    "    for d in directories:\n",
    "        label_dir = os.path.join(data_dir, d)\n",
    "        file_names = [os.path.join(label_dir, f) for f in os.listdir(label_dir) if f.endswith(type)]\n",
    "        # For each label, load it's images and add them to the images list.\n",
    "        # And add the label number (i.e. directory name) to the labels list.\n",
    "        for f in file_names:\n",
    "            images.append(skimage.data.imread(f))\n",
    "            labels.append(int(d))\n",
    "    images64 = [skimage.transform.resize(image, (64, 64)) for image in images]\n",
    "    return images64, labels"
   ]
  },
  {
   "cell_type": "code",
   "execution_count": 13,
   "metadata": {
    "collapsed": true
   },
   "outputs": [],
   "source": [
    "# Load datasets.\n",
    "ROOT_PATH = \"./\"\n",
    "original_dir = os.path.join(ROOT_PATH, \"speed-limit-signs\")\n",
    "images, labels = load_data(original_dir, type=\".ppm\")"
   ]
  },
  {
   "cell_type": "code",
   "execution_count": 14,
   "metadata": {
    "collapsed": true
   },
   "outputs": [],
   "source": [
    "import matplotlib\n",
    "import matplotlib.pyplot as plt\n",
    "\n",
    "def display_images_and_labels(images, labels):\n",
    "    \"\"\"Display the first image of each label.\"\"\"\n",
    "    unique_labels = set(labels)\n",
    "    plt.figure(figsize=(15, 15))\n",
    "    i = 1\n",
    "    for label in unique_labels:\n",
    "        # Pick the first image for each label.\n",
    "        image = images[labels.index(label)]\n",
    "        plt.subplot(8, 8, i)  # A grid of 8 rows x 8 columns\n",
    "        plt.axis('off')\n",
    "        plt.title(\"Label {0} ({1})\".format(label, labels.count(label)))\n",
    "        i += 1\n",
    "        _ = plt.imshow(image)"
   ]
  },
  {
   "cell_type": "code",
   "execution_count": 15,
   "metadata": {},
   "outputs": [
    {
     "data": {
      "image/png": "[encoded data removed]",
      "text/plain": [
       "<matplotlib.figure.Figure at 0x7f0b7af805c0>"
      ]
     },
     "metadata": {},
     "output_type": "display_data"
    }
   ],
   "source": [
    "display_images_and_labels(images, labels)"
   ]
  },
  {
   "cell_type": "markdown",
   "metadata": {},
   "source": [
    "## Modell-Architektur\n",
    "http://cs231n.github.io/neural-networks-1/#power\n",
    "\n",
    "### Layout of a typical CNN\n",
    "\n",
    "![Layout of a typical CNN](https://github.com/DJCordhose/speed-limit-signs/raw/master/img/convnet-layoyt.jpeg)\n",
    "http://cs231n.github.io/convolutional-networks/\n",
    "\n",
    "### Classic VGG like Architecture\n",
    "* we use a VGG like architecture\n",
    "* based on https://arxiv.org/abs/1409.1556\n",
    "* basic idea: sequential, deep, small convolutional filters, use dropouts to reduce overfitting\n",
    "* 16/19 layers are typical\n",
    "* we choose less layers, because we have limited resources\n",
    "\n",
    "### Convolutional Blocks: Cascading many Convolutional Layers having down sampling in between\n",
    "\n",
    "![Applying filters](http://cs231n.github.io/assets/cnn/cnn.jpeg)\n",
    "\n",
    "http://cs231n.github.io/convolutional-networks/#conv\n",
    "\n",
    "### Example of a Convolution\n",
    "#### Original Image\n",
    "![Dog](https://github.com/DJCordhose/speed-limit-signs/raw/master/img/conv/dog.png)\n",
    "#### Many convolutional filters applied over all channels\n",
    "![Dog after Convolutional Filters applied](https://github.com/DJCordhose/speed-limit-signs/raw/master/img/conv/dog-conv1.png)\n",
    "http://cs.stanford.edu/people/karpathy/convnetjs/demo/cifar10.html\n",
    "\n",
    "### Downlsampling Layer: Reduces data sizes and risk of overfitting\n",
    "![Pooling](http://cs231n.github.io/assets/cnn/pool.jpeg)\n",
    "![Max Pooling](http://cs231n.github.io/assets/cnn/maxpool.jpeg)\n",
    "http://cs231n.github.io/convolutional-networks/#pool"
   ]
  },
  {
   "cell_type": "code",
   "execution_count": 16,
   "metadata": {
    "collapsed": true
   },
   "outputs": [],
   "source": [
    "y = np.array(labels)\n",
    "X = np.array(images)\n",
    "from keras.utils.np_utils import to_categorical\n",
    "\n",
    "num_categories = 6\n",
    "\n",
    "y = to_categorical(y, num_categories)"
   ]
  },
  {
   "cell_type": "code",
   "execution_count": 17,
   "metadata": {
    "collapsed": true
   },
   "outputs": [],
   "source": [
    "from keras.models import Model\n",
    "from keras.layers import Dense, Dropout, Flatten, Input\n",
    "from keras.layers import Convolution2D, MaxPooling2D\n",
    "\n",
    "# input tensor for a 3-channel 64x64 image\n",
    "inputs = Input(shape=(64, 64, 3))\n",
    "\n",
    "# one block of convolutional layers\n",
    "x = Convolution2D(64, 3, activation='relu', padding='same')(inputs)\n",
    "x = Convolution2D(64, 3, activation='relu', padding='same')(x)\n",
    "x = Convolution2D(64, 3, activation='relu', padding='same')(x)\n",
    "x = MaxPooling2D(pool_size=(2, 2))(x)\n",
    "\n",
    "# one more block\n",
    "x = Convolution2D(128, 3, activation='relu', padding='same')(x)\n",
    "x = Convolution2D(128, 3, activation='relu', padding='same')(x)\n",
    "x = MaxPooling2D(pool_size=(2, 2))(x)\n",
    "\n",
    "# one more block\n",
    "x = Convolution2D(256, 3, activation='relu', padding='same')(x)\n",
    "x = MaxPooling2D(pool_size=(2, 2))(x)\n",
    "\n",
    "x = Flatten()(x)\n",
    "x = Dense(256, activation='relu')(x)\n",
    "\n",
    "# softmax activation, 6 categories\n",
    "predictions = Dense(6, activation='softmax')(x)"
   ]
  },
  {
   "cell_type": "code",
   "execution_count": 18,
   "metadata": {},
   "outputs": [
    {
     "name": "stdout",
     "output_type": "stream",
     "text": [
      "_________________________________________________________________\n",
      "Layer (type)                 Output Shape              Param #   \n",
      "=================================================================\n",
      "input_1 (InputLayer)         (None, 64, 64, 3)         0         \n",
      "_________________________________________________________________\n",
      "conv2d_1 (Conv2D)            (None, 64, 64, 64)        1792      \n",
      "_________________________________________________________________\n",
      "conv2d_2 (Conv2D)            (None, 64, 64, 64)        36928     \n",
      "_________________________________________________________________\n",
      "conv2d_3 (Conv2D)            (None, 64, 64, 64)        36928     \n",
      "_________________________________________________________________\n",
      "max_pooling2d_1 (MaxPooling2 (None, 32, 32, 64)        0         \n",
      "_________________________________________________________________\n",
      "conv2d_4 (Conv2D)            (None, 32, 32, 128)       73856     \n",
      "_________________________________________________________________\n",
      "conv2d_5 (Conv2D)            (None, 32, 32, 128)       147584    \n",
      "_________________________________________________________________\n",
      "max_pooling2d_2 (MaxPooling2 (None, 16, 16, 128)       0         \n",
      "_________________________________________________________________\n",
      "conv2d_6 (Conv2D)            (None, 16, 16, 256)       295168    \n",
      "_________________________________________________________________\n",
      "max_pooling2d_3 (MaxPooling2 (None, 8, 8, 256)         0         \n",
      "_________________________________________________________________\n",
      "flatten_1 (Flatten)          (None, 16384)             0         \n",
      "_________________________________________________________________\n",
      "dense_1 (Dense)              (None, 256)               4194560   \n",
      "_________________________________________________________________\n",
      "dense_2 (Dense)              (None, 6)                 1542      \n",
      "=================================================================\n",
      "Total params: 4,788,358\n",
      "Trainable params: 4,788,358\n",
      "Non-trainable params: 0\n",
      "_________________________________________________________________\n"
     ]
    }
   ],
   "source": [
    "model = Model(input=inputs, output=predictions)\n",
    "model.summary()"
   ]
  },
  {
   "cell_type": "code",
   "execution_count": 20,
   "metadata": {
    "collapsed": true
   },
   "outputs": [],
   "source": [
    "model.compile(optimizer='adam',\n",
    "              loss='categorical_crossentropy',\n",
    "              metrics=['accuracy'])"
   ]
  },
  {
   "cell_type": "markdown",
   "metadata": {},
   "source": [
    "### Optimizers: Adam and RMSprop seem nice\n",
    "![Behavior of Optimizers at Saddle Points](http://cs231n.github.io/assets/nn3/opt1.gif)\n",
    "![Visualization of Optimizers](http://cs231n.github.io/assets/nn3/opt2.gif)\n",
    "http://cs231n.github.io/neural-networks-3/#ada"
   ]
  },
  {
   "cell_type": "markdown",
   "metadata": {},
   "source": [
    "## Zuerst testen wir unser Modell, ob wir es überhaupt trainiert bekommen, indem wir auf einer kleinen Menge von Daten overfitten\n",
    "http://cs231n.github.io/neural-networks-3/#sanitycheck"
   ]
  },
  {
   "cell_type": "code",
   "execution_count": 21,
   "metadata": {
    "collapsed": true
   },
   "outputs": [],
   "source": [
    "from sklearn.model_selection import train_test_split\n",
    "X_train, X_test, y_train, y_test = train_test_split(X, y, test_size=0.9, random_state=42, stratify=y)"
   ]
  },
  {
   "cell_type": "code",
   "execution_count": 22,
   "metadata": {},
   "outputs": [
    {
     "data": {
      "text/plain": [
       "((37, 64, 64, 3), (37, 6))"
      ]
     },
     "execution_count": 22,
     "metadata": {},
     "output_type": "execute_result"
    }
   ],
   "source": [
    "X_train.shape, y_train.shape"
   ]
  },
  {
   "cell_type": "code",
   "execution_count": null,
   "metadata": {},
   "outputs": [
    {
     "name": "stdout",
     "output_type": "stream",
     "text": [
      "Train on 25 samples, validate on 12 samples\n",
      "Epoch 1/100\n",
      "25/25 [==============================] - 1s - loss: 1.7859 - acc: 0.2400 - val_loss: 2.0287 - val_acc: 0.0833\n",
      "Epoch 2/100\n",
      "25/25 [==============================] - 1s - loss: 1.6198 - acc: 0.3200 - val_loss: 1.6475 - val_acc: 0.3333\n",
      "Epoch 3/100\n",
      "25/25 [==============================] - 1s - loss: 1.6486 - acc: 0.3200 - val_loss: 1.5723 - val_acc: 0.3333\n",
      "Epoch 4/100\n",
      "25/25 [==============================] - 1s - loss: 1.5473 - acc: 0.4000 - val_loss: 1.9032 - val_acc: 0.0833\n",
      "Epoch 5/100\n",
      "25/25 [==============================] - 1s - loss: 1.4834 - acc: 0.4400 - val_loss: 1.6523 - val_acc: 0.4167\n",
      "Epoch 6/100\n",
      "25/25 [==============================] - 1s - loss: 1.4000 - acc: 0.4000 - val_loss: 1.5336 - val_acc: 0.4167\n",
      "Epoch 7/100\n",
      "25/25 [==============================] - 1s - loss: 1.3392 - acc: 0.4800 - val_loss: 1.5474 - val_acc: 0.3333\n",
      "Epoch 8/100\n",
      "25/25 [==============================] - 1s - loss: 1.2413 - acc: 0.5600 - val_loss: 1.7735 - val_acc: 0.3333\n",
      "Epoch 9/100\n",
      "25/25 [==============================] - 1s - loss: 1.1925 - acc: 0.5600 - val_loss: 1.6497 - val_acc: 0.3333\n",
      "Epoch 10/100\n",
      "25/25 [==============================] - 1s - loss: 1.2405 - acc: 0.4400 - val_loss: 2.3779 - val_acc: 0.0833\n",
      "Epoch 11/100\n",
      "25/25 [==============================] - 1s - loss: 1.2180 - acc: 0.4800 - val_loss: 2.0111 - val_acc: 0.0833\n",
      "Epoch 12/100\n",
      "25/25 [==============================] - 1s - loss: 1.0498 - acc: 0.6400 - val_loss: 1.4849 - val_acc: 0.2500\n",
      "Epoch 14/100\n",
      "25/25 [==============================] - 1s - loss: 0.9440 - acc: 0.6400 - val_loss: 1.7533 - val_acc: 0.3333\n",
      "Epoch 15/100\n",
      "25/25 [==============================] - 1s - loss: 0.8432 - acc: 0.6800 - val_loss: 2.3749 - val_acc: 0.3333\n",
      "Epoch 16/100\n",
      "25/25 [==============================] - 1s - loss: 0.7443 - acc: 0.7200 - val_loss: 2.4932 - val_acc: 0.3333\n",
      "Epoch 17/100\n",
      "25/25 [==============================] - 1s - loss: 0.5574 - acc: 0.8400 - val_loss: 2.4217 - val_acc: 0.3333\n",
      "Epoch 18/100\n",
      "25/25 [==============================] - 1s - loss: 0.4308 - acc: 0.8000 - val_loss: 3.3307 - val_acc: 0.2500\n",
      "Epoch 19/100\n",
      "25/25 [==============================] - 1s - loss: 0.3940 - acc: 0.8400 - val_loss: 3.8343 - val_acc: 0.3333\n",
      "Epoch 20/100\n",
      "25/25 [==============================] - 1s - loss: 0.3924 - acc: 0.8800 - val_loss: 5.2391 - val_acc: 0.3333\n",
      "Epoch 21/100\n",
      "25/25 [==============================] - 1s - loss: 0.5408 - acc: 0.8000 - val_loss: 4.6811 - val_acc: 0.2500\n",
      "Epoch 22/100\n",
      "25/25 [==============================] - 1s - loss: 0.2307 - acc: 0.8800 - val_loss: 4.5550 - val_acc: 0.3333\n",
      "Epoch 23/100\n",
      "25/25 [==============================] - 1s - loss: 0.3923 - acc: 0.8000 - val_loss: 5.0208 - val_acc: 0.3333\n",
      "Epoch 24/100\n",
      "25/25 [==============================] - 1s - loss: 0.1169 - acc: 0.9600 - val_loss: 6.3605 - val_acc: 0.2500\n",
      "Epoch 25/100\n",
      "25/25 [==============================] - 1s - loss: 0.3081 - acc: 0.8400 - val_loss: 5.6544 - val_acc: 0.2500\n",
      "Epoch 26/100\n",
      "25/25 [==============================] - 1s - loss: 0.1652 - acc: 0.9600 - val_loss: 4.7023 - val_acc: 0.3333\n",
      "Epoch 27/100\n",
      "25/25 [==============================] - 1s - loss: 0.1106 - acc: 1.0000 - val_loss: 4.4364 - val_acc: 0.3333\n",
      "Epoch 28/100\n",
      "25/25 [==============================] - 1s - loss: 0.1471 - acc: 0.9600 - val_loss: 5.1173 - val_acc: 0.3333\n",
      "Epoch 29/100\n",
      "25/25 [==============================] - 1s - loss: 0.0517 - acc: 1.0000 - val_loss: 5.9836 - val_acc: 0.3333\n",
      "Epoch 30/100\n",
      "25/25 [==============================] - 1s - loss: 0.0465 - acc: 1.0000 - val_loss: 6.6342 - val_acc: 0.3333\n",
      "Epoch 31/100\n",
      "25/25 [==============================] - 1s - loss: 0.0597 - acc: 1.0000 - val_loss: 6.9837 - val_acc: 0.3333\n",
      "Epoch 32/100\n",
      "25/25 [==============================] - 1s - loss: 0.0297 - acc: 1.0000 - val_loss: 7.3239 - val_acc: 0.3333\n",
      "Epoch 33/100\n",
      "25/25 [==============================] - 1s - loss: 0.0092 - acc: 1.0000 - val_loss: 7.4852 - val_acc: 0.3333\n",
      "Epoch 34/100\n",
      "25/25 [==============================] - 1s - loss: 0.0093 - acc: 1.0000 - val_loss: 7.3053 - val_acc: 0.3333\n",
      "Epoch 35/100\n",
      "25/25 [==============================] - 1s - loss: 0.0122 - acc: 1.0000 - val_loss: 7.5752 - val_acc: 0.4167\n",
      "Epoch 36/100\n",
      "25/25 [==============================] - 1s - loss: 0.0033 - acc: 1.0000 - val_loss: 7.8228 - val_acc: 0.3333\n",
      "Epoch 37/100\n",
      "25/25 [==============================] - 1s - loss: 9.2429e-04 - acc: 1.0000 - val_loss: 8.1131 - val_acc: 0.3333\n",
      "Epoch 38/100\n",
      "25/25 [==============================] - 1s - loss: 5.2964e-04 - acc: 1.0000 - val_loss: 8.3937 - val_acc: 0.3333\n",
      "Epoch 39/100\n",
      "25/25 [==============================] - 1s - loss: 4.6933e-04 - acc: 1.0000 - val_loss: 8.6470 - val_acc: 0.3333\n",
      "Epoch 40/100\n",
      "25/25 [==============================] - 1s - loss: 4.9591e-04 - acc: 1.0000 - val_loss: 8.8661 - val_acc: 0.3333\n",
      "Epoch 41/100\n",
      "25/25 [==============================] - 1s - loss: 5.6498e-04 - acc: 1.0000 - val_loss: 8.9732 - val_acc: 0.3333\n",
      "Epoch 42/100\n",
      "25/25 [==============================] - 1s - loss: 6.3904e-04 - acc: 1.0000 - val_loss: 9.0410 - val_acc: 0.3333\n",
      "Epoch 43/100\n",
      "25/25 [==============================] - 1s - loss: 6.7400e-04 - acc: 1.0000 - val_loss: 9.0895 - val_acc: 0.3333\n",
      "Epoch 44/100\n",
      "25/25 [==============================] - 1s - loss: 6.4806e-04 - acc: 1.0000 - val_loss: 9.1268 - val_acc: 0.3333\n",
      "Epoch 45/100\n",
      "25/25 [==============================] - 1s - loss: 5.6291e-04 - acc: 1.0000 - val_loss: 9.1542 - val_acc: 0.3333\n",
      "Epoch 46/100\n",
      "25/25 [==============================] - 1s - loss: 4.4540e-04 - acc: 1.0000 - val_loss: 9.1677 - val_acc: 0.3333\n",
      "Epoch 47/100\n",
      "25/25 [==============================] - 1s - loss: 3.2698e-04 - acc: 1.0000 - val_loss: 9.1680 - val_acc: 0.3333\n",
      "Epoch 48/100\n",
      "25/25 [==============================] - 1s - loss: 2.2743e-04 - acc: 1.0000 - val_loss: 9.1552 - val_acc: 0.3333\n",
      "Epoch 49/100\n",
      "25/25 [==============================] - 1s - loss: 1.5191e-04 - acc: 1.0000 - val_loss: 9.1275 - val_acc: 0.3333\n",
      "Epoch 50/100\n",
      "25/25 [==============================] - 1s - loss: 1.0047e-04 - acc: 1.0000 - val_loss: 9.0892 - val_acc: 0.3333\n",
      "Epoch 51/100\n",
      "25/25 [==============================] - 1s - loss: 7.4149e-05 - acc: 1.0000 - val_loss: 9.0443 - val_acc: 0.3333\n",
      "Epoch 52/100\n",
      "25/25 [==============================] - 1s - loss: 7.6559e-05 - acc: 1.0000 - val_loss: 9.0020 - val_acc: 0.3333\n",
      "Epoch 53/100\n",
      "25/25 [==============================] - 1s - loss: 1.0234e-04 - acc: 1.0000 - val_loss: 8.9813 - val_acc: 0.3333\n",
      "Epoch 54/100\n",
      "25/25 [==============================] - 1s - loss: 1.0349e-04 - acc: 1.0000 - val_loss: 8.9901 - val_acc: 0.3333\n",
      "Epoch 55/100\n",
      "25/25 [==============================] - 1s - loss: 6.5825e-05 - acc: 1.0000 - val_loss: 9.0151 - val_acc: 0.3333\n",
      "Epoch 56/100\n",
      "25/25 [==============================] - 1s - loss: 3.3947e-05 - acc: 1.0000 - val_loss: 9.0425 - val_acc: 0.3333\n",
      "Epoch 57/100\n",
      "25/25 [==============================] - 1s - loss: 1.8482e-05 - acc: 1.0000 - val_loss: 9.0700 - val_acc: 0.3333\n",
      "Epoch 58/100\n",
      "25/25 [==============================] - 1s - loss: 1.1867e-05 - acc: 1.0000 - val_loss: 9.0927 - val_acc: 0.3333\n",
      "Epoch 59/100\n",
      "25/25 [==============================] - 1s - loss: 8.9293e-06 - acc: 1.0000 - val_loss: 9.1105 - val_acc: 0.3333\n",
      "Epoch 60/100\n",
      "25/25 [==============================] - 1s - loss: 7.4057e-06 - acc: 1.0000 - val_loss: 9.1239 - val_acc: 0.3333\n",
      "Epoch 61/100\n",
      "25/25 [==============================] - 1s - loss: 6.4520e-06 - acc: 1.0000 - val_loss: 9.1330 - val_acc: 0.3333\n",
      "Epoch 62/100\n",
      "25/25 [==============================] - 1s - loss: 5.7271e-06 - acc: 1.0000 - val_loss: 9.1382 - val_acc: 0.3333\n",
      "Epoch 63/100\n",
      "25/25 [==============================] - 1s - loss: 5.1286e-06 - acc: 1.0000 - val_loss: 9.1395 - val_acc: 0.3333\n",
      "Epoch 64/100\n",
      "25/25 [==============================] - 1s - loss: 4.6065e-06 - acc: 1.0000 - val_loss: 9.1372 - val_acc: 0.3333\n",
      "Epoch 65/100\n",
      "25/25 [==============================] - 1s - loss: 4.1248e-06 - acc: 1.0000 - val_loss: 9.1318 - val_acc: 0.3333\n",
      "Epoch 66/100\n",
      "25/25 [==============================] - 1s - loss: 3.7195e-06 - acc: 1.0000 - val_loss: 9.1211 - val_acc: 0.3333\n",
      "Epoch 67/100\n",
      "25/25 [==============================] - 1s - loss: 3.3475e-06 - acc: 1.0000 - val_loss: 9.1088 - val_acc: 0.3333\n",
      "Epoch 68/100\n",
      "25/25 [==============================] - 1s - loss: 2.9922e-06 - acc: 1.0000 - val_loss: 9.0950 - val_acc: 0.3333\n",
      "Epoch 69/100\n",
      "25/25 [==============================] - 1s - loss: 2.6251e-06 - acc: 1.0000 - val_loss: 9.0761 - val_acc: 0.3333\n",
      "Epoch 70/100\n",
      "25/25 [==============================] - 1s - loss: 2.2340e-06 - acc: 1.0000 - val_loss: 9.0461 - val_acc: 0.3333\n",
      "Epoch 71/100\n",
      "25/25 [==============================] - 1s - loss: 1.8049e-06 - acc: 1.0000 - val_loss: 8.9951 - val_acc: 0.3333\n",
      "Epoch 72/100\n",
      "25/25 [==============================] - 1s - loss: 1.3781e-06 - acc: 1.0000 - val_loss: 8.9163 - val_acc: 0.3333\n",
      "Epoch 73/100\n",
      "25/25 [==============================] - 1s - loss: 9.8468e-07 - acc: 1.0000 - val_loss: 8.8055 - val_acc: 0.3333\n",
      "Epoch 74/100\n",
      "25/25 [==============================] - 1s - loss: 6.9380e-07 - acc: 1.0000 - val_loss: 8.6627 - val_acc: 0.3333\n",
      "Epoch 75/100\n",
      "25/25 [==============================] - 1s - loss: 5.1499e-07 - acc: 1.0000 - val_loss: 8.4530 - val_acc: 0.3333\n",
      "Epoch 76/100\n",
      "25/25 [==============================] - 1s - loss: 4.5300e-07 - acc: 1.0000 - val_loss: 8.2132 - val_acc: 0.3333\n",
      "Epoch 77/100\n",
      "25/25 [==============================] - 1s - loss: 4.8876e-07 - acc: 1.0000 - val_loss: 8.0603 - val_acc: 0.3333\n",
      "Epoch 78/100\n",
      "25/25 [==============================] - 1s - loss: 5.6028e-07 - acc: 1.0000 - val_loss: 7.9907 - val_acc: 0.4167\n",
      "Epoch 79/100\n",
      "25/25 [==============================] - 1s - loss: 5.6505e-07 - acc: 1.0000 - val_loss: 7.9854 - val_acc: 0.4167\n",
      "Epoch 80/100\n",
      "25/25 [==============================] - 1s - loss: 4.8399e-07 - acc: 1.0000 - val_loss: 8.0190 - val_acc: 0.4167\n",
      "Epoch 81/100\n",
      "25/25 [==============================] - 1s - loss: 3.7670e-07 - acc: 1.0000 - val_loss: 8.0706 - val_acc: 0.4167\n",
      "Epoch 82/100\n",
      "25/25 [==============================] - 1s - loss: 2.9802e-07 - acc: 1.0000 - val_loss: 8.1295 - val_acc: 0.3333\n",
      "Epoch 83/100\n",
      "25/25 [==============================] - 1s - loss: 2.5034e-07 - acc: 1.0000 - val_loss: 8.1892 - val_acc: 0.3333\n",
      "Epoch 84/100\n",
      "25/25 [==============================] - 1s - loss: 2.1935e-07 - acc: 1.0000 - val_loss: 8.2461 - val_acc: 0.3333\n",
      "Epoch 85/100\n",
      "25/25 [==============================] - 1s - loss: 1.9550e-07 - acc: 1.0000 - val_loss: 8.2985 - val_acc: 0.3333\n",
      "Epoch 86/100\n",
      "25/25 [==============================] - 1s - loss: 1.8358e-07 - acc: 1.0000 - val_loss: 8.3453 - val_acc: 0.3333\n",
      "Epoch 87/100\n",
      "25/25 [==============================] - 1s - loss: 1.8120e-07 - acc: 1.0000 - val_loss: 8.3852 - val_acc: 0.3333\n",
      "Epoch 88/100\n",
      "25/25 [==============================] - 1s - loss: 1.8120e-07 - acc: 1.0000 - val_loss: 8.4020 - val_acc: 0.3333\n",
      "Epoch 89/100\n",
      "25/25 [==============================] - 1s - loss: 1.7881e-07 - acc: 1.0000 - val_loss: 8.4148 - val_acc: 0.3333\n",
      "Epoch 90/100\n",
      "25/25 [==============================] - 1s - loss: 1.7643e-07 - acc: 1.0000 - val_loss: 8.4239 - val_acc: 0.3333\n",
      "Epoch 91/100\n",
      "25/25 [==============================] - 1s - loss: 1.7405e-07 - acc: 1.0000 - val_loss: 8.4291 - val_acc: 0.3333\n",
      "Epoch 92/100\n",
      "25/25 [==============================] - 1s - loss: 1.7405e-07 - acc: 1.0000 - val_loss: 8.4305 - val_acc: 0.3333\n",
      "Epoch 93/100\n",
      "25/25 [==============================] - 1s - loss: 1.7166e-07 - acc: 1.0000 - val_loss: 8.4285 - val_acc: 0.3333\n",
      "Epoch 94/100\n",
      "25/25 [==============================] - 1s - loss: 1.7166e-07 - acc: 1.0000 - val_loss: 8.4234 - val_acc: 0.3333\n",
      "Epoch 95/100\n",
      "25/25 [==============================] - 1s - loss: 1.6689e-07 - acc: 1.0000 - val_loss: 8.4157 - val_acc: 0.3333\n",
      "Epoch 96/100\n",
      "25/25 [==============================] - 1s - loss: 1.6451e-07 - acc: 1.0000 - val_loss: 8.4057 - val_acc: 0.3333\n",
      "Epoch 97/100\n",
      "25/25 [==============================] - 1s - loss: 1.6212e-07 - acc: 1.0000 - val_loss: 8.3940 - val_acc: 0.3333\n",
      "Epoch 98/100\n",
      "25/25 [==============================] - 1s - loss: 1.5974e-07 - acc: 1.0000 - val_loss: 8.3808 - val_acc: 0.3333\n",
      "Epoch 99/100\n",
      "25/25 [==============================] - 1s - loss: 1.5736e-07 - acc: 1.0000 - val_loss: 8.3668 - val_acc: 0.3333\n",
      "Epoch 100/100\n",
      "25/25 [==============================] - 1s - loss: 1.5259e-07 - acc: 1.0000 - val_loss: 8.3522 - val_acc: 0.3333\n",
      "CPU times: user 12min 43s, sys: 32.3 s, total: 13min 15s\n",
      "Wall time: 1min 50s\n"
     ]
    },
    {
     "data": {
      "text/plain": [
       "<keras.callbacks.History at 0x7f0b7413c1d0>"
      ]
     },
     "execution_count": 23,
     "metadata": {},
     "output_type": "execute_result"
    }
   ],
   "source": [
    "%time model.fit(X_train, y_train, epochs=100, validation_split=0.3)"
   ]
  },
  {
   "cell_type": "markdown",
   "metadata": {},
   "source": [
    "## Verlauf der Metriken beim Overfitting\n",
    "### Accuracy\n",
    "![Accuracy Overfitting](https://djcordhose.github.io/ai/img/tensorboard/cnn-acc-overfitting.png \"Accuracy Overfitting\")\n",
    "### Validation Accuracy\n",
    "![Validation Accuracy Overfitting](https://djcordhose.github.io/ai/img/tensorboard/cnn-val-acc-overfitting.png \"Validation Accuracy Overfitting\")"
   ]
  },
  {
   "cell_type": "markdown",
   "metadata": {},
   "source": [
    "## Das sieht gut aus, nun versuchen wir es mit dem kompletten Datensatz ohne Overfitting und mit Dropout"
   ]
  },
  {
   "cell_type": "code",
   "execution_count": 26,
   "metadata": {
    "collapsed": true
   },
   "outputs": [],
   "source": [
    "from keras.models import Model\n",
    "from keras.layers import Dense, Dropout, Activation, Flatten, Input\n",
    "from keras.layers import Convolution2D, MaxPooling2D\n",
    "\n",
    "drop_out = 0.6\n",
    "\n",
    "# input tensor for a 3-channel 64x64 image\n",
    "inputs = Input(shape=(64, 64, 3))\n",
    "\n",
    "# one block of convolutional layers\n",
    "x = Convolution2D(64, 3, activation='relu', padding='same')(inputs)\n",
    "x = Convolution2D(64, 3, activation='relu', padding='same')(x)\n",
    "x = Convolution2D(64, 3, activation='relu', padding='same')(x)\n",
    "x = MaxPooling2D(pool_size=(2, 2))(x)\n",
    "x = Dropout(drop_out)(x)\n",
    "\n",
    "# one more block\n",
    "x = Convolution2D(128, 3, activation='relu', padding='same')(x)\n",
    "x = Convolution2D(128, 3, activation='relu', padding='same')(x)\n",
    "x = MaxPooling2D(pool_size=(2, 2))(x)\n",
    "x = Dropout(drop_out)(x)\n",
    "\n",
    "# one more block\n",
    "x = Convolution2D(256, 3, activation='relu', padding='same')(x)\n",
    "x = MaxPooling2D(pool_size=(2, 2))(x)\n",
    "x = Dropout(drop_out)(x)\n",
    "\n",
    "x = Flatten()(x)\n",
    "x = Dense(256, activation='relu')(x)\n",
    "x = Dropout(drop_out)(x)\n",
    "\n",
    "# softmax activation, 6 categories\n",
    "predictions = Dense(6, activation='softmax')(x)"
   ]
  },
  {
   "cell_type": "code",
   "execution_count": 27,
   "metadata": {},
   "outputs": [
    {
     "name": "stdout",
     "output_type": "stream",
     "text": [
      "_________________________________________________________________\n",
      "Layer (type)                 Output Shape              Param #   \n",
      "=================================================================\n",
      "input_2 (InputLayer)         (None, 64, 64, 3)         0         \n",
      "_________________________________________________________________\n",
      "conv2d_7 (Conv2D)            (None, 64, 64, 64)        1792      \n",
      "_________________________________________________________________\n",
      "conv2d_8 (Conv2D)            (None, 64, 64, 64)        36928     \n",
      "_________________________________________________________________\n",
      "conv2d_9 (Conv2D)            (None, 64, 64, 64)        36928     \n",
      "_________________________________________________________________\n",
      "max_pooling2d_4 (MaxPooling2 (None, 32, 32, 64)        0         \n",
      "_________________________________________________________________\n",
      "dropout_1 (Dropout)          (None, 32, 32, 64)        0         \n",
      "_________________________________________________________________\n",
      "conv2d_10 (Conv2D)           (None, 32, 32, 128)       73856     \n",
      "_________________________________________________________________\n",
      "conv2d_11 (Conv2D)           (None, 32, 32, 128)       147584    \n",
      "_________________________________________________________________\n",
      "max_pooling2d_5 (MaxPooling2 (None, 16, 16, 128)       0         \n",
      "_________________________________________________________________\n",
      "dropout_2 (Dropout)          (None, 16, 16, 128)       0         \n",
      "_________________________________________________________________\n",
      "conv2d_12 (Conv2D)           (None, 16, 16, 256)       295168    \n",
      "_________________________________________________________________\n",
      "max_pooling2d_6 (MaxPooling2 (None, 8, 8, 256)         0         \n",
      "_________________________________________________________________\n",
      "dropout_3 (Dropout)          (None, 8, 8, 256)         0         \n",
      "_________________________________________________________________\n",
      "flatten_2 (Flatten)          (None, 16384)             0         \n",
      "_________________________________________________________________\n",
      "dense_3 (Dense)              (None, 256)               4194560   \n",
      "_________________________________________________________________\n",
      "dropout_4 (Dropout)          (None, 256)               0         \n",
      "_________________________________________________________________\n",
      "dense_4 (Dense)              (None, 6)                 1542      \n",
      "=================================================================\n",
      "Total params: 4,788,358\n",
      "Trainable params: 4,788,358\n",
      "Non-trainable params: 0\n",
      "_________________________________________________________________\n"
     ]
    }
   ],
   "source": [
    "model = Model(input=inputs, output=predictions)\n",
    "model.summary()"
   ]
  },
  {
   "cell_type": "code",
   "execution_count": 30,
   "metadata": {
    "collapsed": true
   },
   "outputs": [],
   "source": [
    "model.compile(optimizer='adam',\n",
    "              loss='categorical_crossentropy',\n",
    "              metrics=['accuracy'])"
   ]
  },
  {
   "cell_type": "code",
   "execution_count": null,
   "metadata": {
    "collapsed": true
   },
   "outputs": [],
   "source": [
    "X_train, X_test, y_train, y_test = train_test_split(X, y, test_size=0.2, random_state=42, stratify=y)"
   ]
  },
  {
   "cell_type": "markdown",
   "metadata": {},
   "source": [
    "## Training\n",
    "* Auf einem GPU basierten System geht das in ein paar Minuten\n",
    "* Azure Rechner sind relativ schnell, haben aber keine GPU\n",
    "* Hier dauert jede Epoche ca. 10 Sekunden, bei 500 Epochen = 5000 Sekunden = 1,5 Stunden\n",
    "* Das können wir nicht warten\n",
    "* Stattdessen loaden wir ein mit diesem Notebook vortrainiertes Modell und machen dann die Auswerten"
   ]
  },
  {
   "cell_type": "code",
   "execution_count": 1,
   "metadata": {},
   "outputs": [],
   "source": [
    "# Depends on harware GPU architecture, set as high as possible (this works well on K80)\n",
    "# BATCH_SIZE = 500\n",
    "# %time model.fit(X_train, y_train, epochs=500, batch_size=BATCH_SIZE, validation_split=0.2)"
   ]
  },
  {
   "cell_type": "markdown",
   "metadata": {},
   "source": [
    "## Verlauf der Metriken beim vollen Training\n",
    "### Accuracy\n",
    "![Accuracy](https://djcordhose.github.io/ai/img/tensorboard/cnn-acc.png \"Accuracy\")\n",
    "### Validation Accuracy\n",
    "![Validation Accuracy](https://djcordhose.github.io/ai/img/tensorboard/cnn-val-acc.png \"Validation Accuracy\")"
   ]
  },
  {
   "cell_type": "markdown",
   "metadata": {},
   "source": [
    "# Bewertung"
   ]
  },
  {
   "cell_type": "code",
   "execution_count": null,
   "metadata": {
    "collapsed": true
   },
   "outputs": [],
   "source": [
    "train_loss, train_accuracy = model.evaluate(X_train, y_train, batch_size=BATCH_SIZE)\n",
    "train_loss, train_accuracy"
   ]
  },
  {
   "cell_type": "code",
   "execution_count": null,
   "metadata": {
    "collapsed": true
   },
   "outputs": [],
   "source": [
    "test_loss, test_accuracy = model.evaluate(X_test, y_test, batch_size=BATCH_SIZE)\n",
    "test_loss, test_accuracy"
   ]
  },
  {
   "cell_type": "markdown",
   "metadata": {},
   "source": [
    "# Sichern des Modells"
   ]
  },
  {
   "cell_type": "code",
   "execution_count": null,
   "metadata": {
    "collapsed": true
   },
   "outputs": [],
   "source": [
    "!rm -r models\n",
    "!mkdir models"
   ]
  },
  {
   "cell_type": "code",
   "execution_count": null,
   "metadata": {
    "collapsed": true
   },
   "outputs": [],
   "source": [
    "model.save('models/conv-vgg.hdf5')"
   ]
  },
  {
   "cell_type": "code",
   "execution_count": null,
   "metadata": {
    "collapsed": true
   },
   "outputs": [],
   "source": [
    "!ls -lh models"
   ]
  },
  {
   "cell_type": "code",
   "execution_count": null,
   "metadata": {
    "collapsed": true
   },
   "outputs": [],
   "source": [
    "# !curl --upload-file ./models/conv-vgg.hdf5 https://transfer.sh/conv-vgg.hdf5"
   ]
  },
  {
   "cell_type": "markdown",
   "metadata": {},
   "source": [
    "# Ausprobieren auf ein paar Test-Daten"
   ]
  },
  {
   "cell_type": "code",
   "execution_count": null,
   "metadata": {
    "collapsed": true
   },
   "outputs": [],
   "source": [
    "import random\n",
    "\n",
    "# Pick 10 random images for test data set\n",
    "random.seed(3) # to make this deterministic\n",
    "sample_indexes = random.sample(range(len(X_test)), 10)\n",
    "sample_images = [X_test[i] for i in sample_indexes]\n",
    "sample_labels = [y_test[i] for i in sample_indexes]\n",
    "\n",
    "ground_truth = np.argmax(sample_labels, axis=1)\n",
    "\n",
    "X_sample = np.array(sample_images)\n",
    "prediction = model.predict(X_sample)\n",
    "predicted_categories = np.argmax(prediction, axis=1)\n",
    "predicted_categories"
   ]
  },
  {
   "cell_type": "code",
   "execution_count": null,
   "metadata": {
    "collapsed": true
   },
   "outputs": [],
   "source": [
    "# Display the predictions and the ground truth visually.\n",
    "def display_prediction (images, true_labels, predicted_labels):\n",
    "    fig = plt.figure(figsize=(10, 10))\n",
    "    for i in range(len(true_labels)):\n",
    "        truth = true_labels[i]\n",
    "        prediction = predicted_labels[i]\n",
    "        plt.subplot(5, 2,1+i)\n",
    "        plt.axis('off')\n",
    "        color='green' if truth == prediction else 'red'\n",
    "        plt.text(80, 10, \"Truth:        {0}\\nPrediction: {1}\".format(truth, prediction), \n",
    "                 fontsize=12, color=color)\n",
    "        plt.imshow(images[i])"
   ]
  },
  {
   "cell_type": "code",
   "execution_count": null,
   "metadata": {
    "collapsed": true
   },
   "outputs": [],
   "source": [
    "display_prediction(sample_images, ground_truth, predicted_categories)"
   ]
  },
  {
   "cell_type": "code",
   "execution_count": null,
   "metadata": {
    "collapsed": true
   },
   "outputs": [],
   "source": []
  }
 ],
 "metadata": {
  "kernelspec": {
   "display_name": "Python 3",
   "language": "python",
   "name": "python3"
  },
  "language_info": {
   "codemirror_mode": {
    "name": "ipython",
    "version": 3
   },
   "file_extension": ".py",
   "mimetype": "text/x-python",
   "name": "python",
   "nbconvert_exporter": "python",
   "pygments_lexer": "ipython3",
   "version": "3.5.1"
  }
 },
 "nbformat": 4,
 "nbformat_minor": 2
}
