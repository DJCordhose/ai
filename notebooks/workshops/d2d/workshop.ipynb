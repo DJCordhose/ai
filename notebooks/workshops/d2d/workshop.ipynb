{
 "cells": [
  {
   "cell_type": "markdown",
   "metadata": {
    "collapsed": true
   },
   "source": [
    "# Deep Learning: Bilderkennung mit Keras und TensorFlow"
   ]
  },
  {
   "cell_type": "markdown",
   "metadata": {},
   "source": [
    "<h1 style=\"color:red\">Aktuelle Version für Data2Day Workshop</h1>"
   ]
  },
  {
   "cell_type": "markdown",
   "metadata": {},
   "source": [
    "https://www.data2day.de/veranstaltung-5842-deep-learning%3A-bilderkennung-mit-keras-und-tensorflow.html?id=5842"
   ]
  },
  {
   "cell_type": "markdown",
   "metadata": {},
   "source": [
    "## Notebook Grundlagen\n",
    "* Dies ist ein Jupyter Notebook\n",
    "* Du tippst hier deine Anweisungen, diese werden dann auf einem Server ausgefürt, auf dem alle Software installiert ist\n",
    "* Unser Notebook wird von https://notebooks.azure.com ausgeführt, dort ist bereits alles installiert was wir brauchen\n",
    "* Ein Notebook speichert auch die Ausgabe der Anweisungen, d.h. du kannst dir das Notebook ansehen, ohne es auszuführen\n",
    "* Das kann verwirren, wenn du einen Schritt weiter unten ausführen willst, musst du sicher gehen, vorher alle anderen Schritte ausgeführt hast\n",
    "* Am einfachsten geht im Menü-Punkt *Kernel*, *Restart & Run All* ausführst\n",
    "\n",
    "### Tipps\n",
    "* Füge deinen eigenen Notebokos Kommentare hinzu, entweder als Python Kommentare oder als Markdown wie hier"
   ]
  },
  {
   "cell_type": "markdown",
   "metadata": {},
   "source": [
    "## Ausführen von Zellen\n",
    "* Du kannst alles mit den Symbolen im Menü oben tun \n",
    "* Einfacher kannst du mit den Cursor-Tasten navigieren\n",
    "* Den Code in einer Zelle führst du mit Shift+Eingabe aus, damit gehtst du auch in die nächste Zeile"
   ]
  },
  {
   "cell_type": "markdown",
   "metadata": {},
   "source": [
    "## Abhängigkeiten importieren und Versionen checken"
   ]
  },
  {
   "cell_type": "code",
   "execution_count": 1,
   "metadata": {
    "collapsed": true
   },
   "outputs": [],
   "source": [
    "import warnings\n",
    "warnings.filterwarnings('ignore')"
   ]
  },
  {
   "cell_type": "code",
   "execution_count": 2,
   "metadata": {},
   "outputs": [
    {
     "name": "stdout",
     "output_type": "stream",
     "text": [
      "Populating the interactive namespace from numpy and matplotlib\n"
     ]
    }
   ],
   "source": [
    "%matplotlib inline\n",
    "%pylab inline"
   ]
  },
  {
   "cell_type": "code",
   "execution_count": 3,
   "metadata": {
    "collapsed": true
   },
   "outputs": [],
   "source": [
    "from distutils.version import StrictVersion"
   ]
  },
  {
   "cell_type": "code",
   "execution_count": 4,
   "metadata": {},
   "outputs": [
    {
     "name": "stdout",
     "output_type": "stream",
     "text": [
      "0.19.0\n"
     ]
    }
   ],
   "source": [
    "import sklearn\n",
    "print(sklearn.__version__)\n",
    "\n",
    "assert StrictVersion(sklearn.__version__ ) >= StrictVersion('0.18.1')"
   ]
  },
  {
   "cell_type": "code",
   "execution_count": 5,
   "metadata": {},
   "outputs": [
    {
     "name": "stdout",
     "output_type": "stream",
     "text": [
      "1.2.1\n"
     ]
    }
   ],
   "source": [
    "import tensorflow as tf\n",
    "tf.logging.set_verbosity(tf.logging.ERROR)\n",
    "print(tf.__version__)\n",
    "\n",
    "assert StrictVersion(tf.__version__) >= StrictVersion('1.1.0')"
   ]
  },
  {
   "cell_type": "code",
   "execution_count": 10,
   "metadata": {},
   "outputs": [
    {
     "name": "stdout",
     "output_type": "stream",
     "text": [
      "2.0.8\n"
     ]
    }
   ],
   "source": [
    "import keras\n",
    "print(keras.__version__)\n",
    "\n",
    "assert StrictVersion(keras.__version__) >= StrictVersion('2.0.6')"
   ]
  },
  {
   "cell_type": "code",
   "execution_count": 9,
   "metadata": {},
   "outputs": [
    {
     "name": "stdout",
     "output_type": "stream",
     "text": [
      "0.19.2\n"
     ]
    }
   ],
   "source": [
    "import pandas as pd\n",
    "print(pd.__version__)\n",
    "\n",
    "assert StrictVersion(pd.__version__) >= StrictVersion('0.20.0')"
   ]
  },
  {
   "cell_type": "markdown",
   "metadata": {},
   "source": [
    "# Unsere Aufgabe heute\n",
    "\n",
    "Solche Geschwindigkeitsbegrenzungen unterscheiden:\n",
    "![Speed Limit Signs](https://raw.githubusercontent.com/DJCordhose/ai/master/docs/img/conv/speed-limit-signs.png)\n",
    "* Wir haben ein realitätsnahes Beispiel\n",
    "  * https://twitter.com/art_sobolev/status/907857395757481985?s=03: *I don't think it's fine to only list experiments on toy datasets, and hide failures on more complicated cases.*\n",
    "* dafür müssen wir etwas tricksen, was Rechenpower angeht\n",
    "\n",
    "## Workshop-Teile\n",
    "\n",
    "* Einführung in ML (Talk)\n",
    "* [Einführung in Neuronale Netzwerke](nn-intro.ipynb)\n",
    "* [Einführung in Convolutional Neural Networks](cnn-intro.ipynb)\n",
    "* [Nutzung von Convolutional Neural Networks](cnn-prediction.ipynb)\n",
    "\n",
    "### Ausblick\n",
    "* [Data Augmentation](cnn-augmentation.ipynb)\n",
    "* [Training mit Augmentated Data](cnn-train-augmented.ipynb)\n",
    "* [Vergleich der Modelle](cnn-comparing-all-models.ipynb)"
   ]
  },
  {
   "cell_type": "markdown",
   "metadata": {
    "collapsed": true
   },
   "source": [
    "## Weiterführende Links\n",
    "* Grenzen von Deep Learning: http://hyperparameter.space/blog/when-not-to-use-deep-learning \n",
    "* Verkerhsschilder mit mxnet: https://www.oreilly.com/ideas/classifying-traffic-signs-with-mxnet-an-introduction-to-computer-vision-with-neural-networks\n",
    "* Low-Level Tensorflow: https://speakerdeck.com/rasbt/introduction-to-deep-learning-with-tensorflow-at-pydata-ann-arbor\n",
    "* Tensors: https://www.youtube.com/watch?v=f5liqUk0ZTw\n",
    "* Retraining von Pre-Trained Networks: https://blog.keras.io/building-powerful-image-classification-models-using-very-little-data.html\n",
    "* History of Deep Learning: https://devblogs.nvidia.com/parallelforall/deep-learning-nutshell-history-training/\n",
    "* The 9 Deep Learning Papers You Need To Know About: https://adeshpande3.github.io/adeshpande3.github.io/The-9-Deep-Learning-Papers-You-Need-To-Know-About.html\n",
    "* Why does Deep Learning Work: https://www.quantamagazine.org/new-theory-cracks-open-the-black-box-of-deep-learning-20170921/\n",
    "* Face Detection with Keras and OpenCV: https://github.com/oarriaga/face_classification"
   ]
  }
 ],
 "metadata": {
  "kernelspec": {
   "display_name": "Python 3",
   "language": "python",
   "name": "python3"
  },
  "language_info": {
   "codemirror_mode": {
    "name": "ipython",
    "version": 3
   },
   "file_extension": ".py",
   "mimetype": "text/x-python",
   "name": "python",
   "nbconvert_exporter": "python",
   "pygments_lexer": "ipython3",
   "version": "3.6.2"
  }
 },
 "nbformat": 4,
 "nbformat_minor": 2
}
