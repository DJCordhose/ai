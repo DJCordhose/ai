{
 "cells": [
  {
   "cell_type": "markdown",
   "metadata": {},
   "source": [
    "# Data Augmentation\n",
    "* https://keras.io/preprocessing/image/\n",
    "* https://datascience.stackexchange.com/questions/5224/how-to-prepare-augment-images-for-neural-network\n",
    "* http://machinelearningmastery.com/image-augmentation-deep-learning-keras/"
   ]
  },
  {
   "cell_type": "code",
   "execution_count": 1,
   "metadata": {
    "collapsed": true
   },
   "outputs": [],
   "source": [
    "import warnings\n",
    "warnings.filterwarnings('ignore')"
   ]
  },
  {
   "cell_type": "code",
   "execution_count": 2,
   "metadata": {},
   "outputs": [
    {
     "name": "stdout",
     "output_type": "stream",
     "text": [
      "Populating the interactive namespace from numpy and matplotlib\n"
     ]
    }
   ],
   "source": [
    "%matplotlib inline\n",
    "%pylab inline"
   ]
  },
  {
   "cell_type": "code",
   "execution_count": 3,
   "metadata": {
    "collapsed": true
   },
   "outputs": [],
   "source": [
    "import matplotlib.pylab as plt\n",
    "import numpy as np"
   ]
  },
  {
   "cell_type": "code",
   "execution_count": 4,
   "metadata": {
    "collapsed": true
   },
   "outputs": [],
   "source": [
    "from distutils.version import StrictVersion"
   ]
  },
  {
   "cell_type": "code",
   "execution_count": 5,
   "metadata": {},
   "outputs": [
    {
     "name": "stdout",
     "output_type": "stream",
     "text": [
      "0.19.0\n"
     ]
    }
   ],
   "source": [
    "import sklearn\n",
    "print(sklearn.__version__)\n",
    "\n",
    "assert StrictVersion(sklearn.__version__ ) >= StrictVersion('0.18.1')"
   ]
  },
  {
   "cell_type": "code",
   "execution_count": 6,
   "metadata": {},
   "outputs": [
    {
     "name": "stdout",
     "output_type": "stream",
     "text": [
      "1.2.1\n"
     ]
    }
   ],
   "source": [
    "import tensorflow as tf\n",
    "tf.logging.set_verbosity(tf.logging.ERROR)\n",
    "print(tf.__version__)\n",
    "\n",
    "assert StrictVersion(tf.__version__) >= StrictVersion('1.1.0')"
   ]
  },
  {
   "cell_type": "code",
   "execution_count": 7,
   "metadata": {},
   "outputs": [
    {
     "name": "stderr",
     "output_type": "stream",
     "text": [
      "Using TensorFlow backend.\n"
     ]
    },
    {
     "name": "stdout",
     "output_type": "stream",
     "text": [
      "2.0.8\n"
     ]
    }
   ],
   "source": [
    "import keras\n",
    "print(keras.__version__)\n",
    "\n",
    "assert StrictVersion(keras.__version__) >= StrictVersion('2.0.0')"
   ]
  },
  {
   "cell_type": "markdown",
   "metadata": {
    "collapsed": true
   },
   "source": [
    "## Originalen Datensatz laden"
   ]
  },
  {
   "cell_type": "code",
   "execution_count": 8,
   "metadata": {},
   "outputs": [
    {
     "name": "stdout",
     "output_type": "stream",
     "text": [
      "  % Total    % Received % Xferd  Average Speed   Time    Time     Time  Current\n",
      "                                 Dload  Upload   Total   Spent    Left  Speed\n",
      "100 1810k  100 1810k    0     0  3073k      0 --:--:-- --:--:-- --:--:-- 3255k\n"
     ]
    }
   ],
   "source": [
    "# !curl -O https://raw.githubusercontent.com/DJCordhose/speed-limit-signs/master/data/speed-limit-signs.zip"
   ]
  },
  {
   "cell_type": "code",
   "execution_count": 8,
   "metadata": {},
   "outputs": [
    {
     "name": "stdout",
     "output_type": "stream",
     "text": [
      "rm: cannot remove 'speed-limit-signs': No such file or directory\r\n"
     ]
    }
   ],
   "source": [
    "!rm -r speed-limit-signs\n",
    "# https://docs.python.org/3/library/zipfile.html\n",
    "from zipfile import ZipFile\n",
    "zip = ZipFile(r'speed-limit-signs.zip')\n",
    "zip.extractall('.')"
   ]
  },
  {
   "cell_type": "code",
   "execution_count": 9,
   "metadata": {},
   "outputs": [
    {
     "name": "stdout",
     "output_type": "stream",
     "text": [
      "total 2.8G\r\n",
      "-rwxrwxrwx 1 root root 140K Sep 25 18:06 cnn-augmentation.ipynb\r\n",
      "-rwxrwxrwx 1 root root 1.6M Sep 25 14:57 cnn-comparing-all-models.ipynb\r\n",
      "-rwxrwxrwx 1 root root 380K Sep 25 15:46 cnn-intro.ipynb\r\n",
      "-rwxrwxrwx 1 root root 1.3M Sep 25 14:57 cnn-prediction.ipynb\r\n",
      "-rwxrwxrwx 1 root root 198K Sep 25 14:57 cnn-train-augmented.ipynb\r\n",
      "drwxrwxrwx 0 root root  512 Sep 25 18:06 __MACOSX\r\n",
      "-rwxrwxrwx 1 root root 113K Sep 25 17:14 nn-intro.ipynb\r\n",
      "-rwxrwxrwx 1 root root   63 Sep 25 14:57 README.html\r\n",
      "-rwxrwxrwx 1 root root   36 Aug  3 21:15 sample_iris.json\r\n",
      "drwxrwxrwx 0 root root  512 Sep 25 18:06 speed-limit-signs\r\n",
      "-rwxrwxrwx 1 root root 1.8M Mar  5  2017 speed-limit-signs.zip\r\n",
      "-rwxrwxrwx 1 root root 6.9K Sep 25 18:05 workshop.ipynb\r\n"
     ]
    }
   ],
   "source": [
    "!ls -lh"
   ]
  },
  {
   "cell_type": "markdown",
   "metadata": {
    "collapsed": true
   },
   "source": [
    "## Wir erkunden Keras' ImageDataGenerator"
   ]
  },
  {
   "cell_type": "code",
   "execution_count": 10,
   "metadata": {
    "collapsed": true
   },
   "outputs": [],
   "source": [
    "from keras.preprocessing.image import ImageDataGenerator"
   ]
  },
  {
   "cell_type": "code",
   "execution_count": 11,
   "metadata": {
    "collapsed": true
   },
   "outputs": [],
   "source": [
    "# ImageDataGenerator?"
   ]
  },
  {
   "cell_type": "code",
   "execution_count": 12,
   "metadata": {
    "collapsed": true
   },
   "outputs": [],
   "source": [
    "train_dir = 'speed-limit-signs'\n",
    "generated_train_dir = 'generated'"
   ]
  },
  {
   "cell_type": "code",
   "execution_count": 13,
   "metadata": {
    "collapsed": true
   },
   "outputs": [],
   "source": [
    "datagen = ImageDataGenerator(\n",
    "    rescale=1./255,\n",
    "    rotation_range=15,\n",
    "    width_shift_range=0.2,\n",
    "    height_shift_range=0.2,\n",
    "    shear_range=0.2,\n",
    "    zoom_range=0.4,\n",
    "    horizontal_flip=False,\n",
    "    vertical_flip=False,    \n",
    "    fill_mode='nearest')\n",
    "\n",
    "# train_dir = 'speed-limit-signs/0'\n",
    "train_dir = 'speed-limit-signs/5'\n",
    "number_of_transformations = 10"
   ]
  },
  {
   "cell_type": "code",
   "execution_count": 14,
   "metadata": {},
   "outputs": [
    {
     "name": "stdout",
     "output_type": "stream",
     "text": [
      "rm: cannot remove 'generated': No such file or directory\n",
      "Found 0 images belonging to 0 classes.\n"
     ]
    },
    {
     "data": {
      "image/png": "[encoded data removed]",
      "text/plain": [
       "<matplotlib.figure.Figure at 0x7f12145d0ef0>"
      ]
     },
     "metadata": {},
     "output_type": "display_data"
    },
    {
     "data": {
      "image/png": "[encoded data removed]",
      "text/plain": [
       "<matplotlib.figure.Figure at 0x7f1214540588>"
      ]
     },
     "metadata": {},
     "output_type": "display_data"
    },
    {
     "data": {
      "image/png": "[encoded data removed]",
      "text/plain": [
       "<matplotlib.figure.Figure at 0x7f12144844e0>"
      ]
     },
     "metadata": {},
     "output_type": "display_data"
    },
    {
     "data": {
      "image/png": "[encoded data removed]",
      "text/plain": [
       "<matplotlib.figure.Figure at 0x7f12144642b0>"
      ]
     },
     "metadata": {},
     "output_type": "display_data"
    },
    {
     "data": {
      "image/png": "[encoded data removed]",
      "text/plain": [
       "<matplotlib.figure.Figure at 0x7f12143e0a90>"
      ]
     },
     "metadata": {},
     "output_type": "display_data"
    },
    {
     "data": {
      "image/png": "[encoded data removed]",
      "text/plain": [
       "<matplotlib.figure.Figure at 0x7f12143474e0>"
      ]
     },
     "metadata": {},
     "output_type": "display_data"
    },
    {
     "data": {
      "image/png": "[encoded data removed]",
      "text/plain": [
       "<matplotlib.figure.Figure at 0x7f12142c02e8>"
      ]
     },
     "metadata": {},
     "output_type": "display_data"
    },
    {
     "data": {
      "image/png": "[encoded data removed]",
      "text/plain": [
       "<matplotlib.figure.Figure at 0x7f12142a7cf8>"
      ]
     },
     "metadata": {},
     "output_type": "display_data"
    },
    {
     "data": {
      "image/png": "[encoded data removed]",
      "text/plain": [
       "<matplotlib.figure.Figure at 0x7f12142daac8>"
      ]
     },
     "metadata": {},
     "output_type": "display_data"
    },
    {
     "data": {
      "image/png": "[encoded data removed]",
      "text/plain": [
       "<matplotlib.figure.Figure at 0x7f121418c1d0>"
      ]
     },
     "metadata": {},
     "output_type": "display_data"
    }
   ],
   "source": [
    "!rm -r generated\n",
    "!mkdir generated\n",
    "\n",
    "import os\n",
    "from keras.preprocessing import image\n",
    "import matplotlib\n",
    "import matplotlib.pyplot as plt\n",
    "\n",
    "datagen.flow_from_directory(\n",
    "        train_dir,\n",
    "        target_size=(64, 64),\n",
    "        batch_size=32,\n",
    "        save_to_dir=generated_train_dir\n",
    ")\n",
    "\n",
    "fnames = [os.path.join(train_dir, fname) for fname in os.listdir(train_dir)]\n",
    "\n",
    "img_path = fnames[0] # We pick one image to \"augment\"\n",
    "\n",
    "img = image.load_img(img_path, target_size=(64, 64)) # Read the image and resize it\n",
    "\n",
    "x = image.img_to_array(img) # Convert it to a Numpy array with shape (64, 64, 3)\n",
    "\n",
    "x = x.reshape((1,) + x.shape) # Reshape it to (1, 64, 64, 3)\n",
    "\n",
    "# plt.figure(figsize=(15, 15))\n",
    "\n",
    "# The .flow() command below generates batches of randomly transformed images.\n",
    "# It will loop indefinitely, so we need to `break` the loop at some point!\n",
    "i = 1\n",
    "for batch in datagen.flow(x):\n",
    "    plt.figure(i)\n",
    "#     pillow image: http://pillow.readthedocs.io/en/3.4.x/reference/Image.html\n",
    "    img = image.array_to_img(batch[0])\n",
    "    fname = 'generated/augmented_{index}.png'.format(index=i)\n",
    "    img.save(fname)\n",
    "    plt.imshow(img)\n",
    "#     plt.subplot(8, 8, i)  # A grid of 8 rows x 8 columns\n",
    "    plt.axis('off')\n",
    "    if i % number_of_transformations == 0:\n",
    "        break\n",
    "    i += 1\n",
    "plt.show()"
   ]
  },
  {
   "cell_type": "code",
   "execution_count": 15,
   "metadata": {},
   "outputs": [
    {
     "name": "stdout",
     "output_type": "stream",
     "text": [
      "total 21M\r\n",
      "-rwxrwxrwx 1 root root 2.8K Sep 25 18:08 augmented_10.png\r\n",
      "-rwxrwxrwx 1 root root 2.4K Sep 25 18:08 augmented_1.png\r\n",
      "-rwxrwxrwx 1 root root 3.5K Sep 25 18:08 augmented_2.png\r\n",
      "-rwxrwxrwx 1 root root 3.5K Sep 25 18:08 augmented_3.png\r\n",
      "-rwxrwxrwx 1 root root 2.7K Sep 25 18:08 augmented_4.png\r\n",
      "-rwxrwxrwx 1 root root 3.2K Sep 25 18:08 augmented_5.png\r\n",
      "-rwxrwxrwx 1 root root 2.3K Sep 25 18:08 augmented_6.png\r\n",
      "-rwxrwxrwx 1 root root 3.4K Sep 25 18:08 augmented_7.png\r\n",
      "-rwxrwxrwx 1 root root 2.7K Sep 25 18:08 augmented_8.png\r\n",
      "-rwxrwxrwx 1 root root 3.3K Sep 25 18:08 augmented_9.png\r\n"
     ]
    }
   ],
   "source": [
    "!ls -lh generated/"
   ]
  },
  {
   "cell_type": "markdown",
   "metadata": {},
   "source": [
    "---\n",
    "\n",
    "# Hands-On\n",
    "## Experimentiere mit den Parametern von ImageDataGenerator\n",
    "* Ändere die Parameter beim erzeugen des ImageDataGenerator\n",
    "* Welche Parameter geben gute Ergebnisse? Kann man die Bilder noch erkennen?\n",
    "* Ändere die Anzahl der Transformationen in der Variablen *number_of_transformations*\n",
    "* Ändere die Kategorie des Schild auf dem die Transformation durchgeführt wird in der Variablen *train_dir*\n",
    "\n",
    "---"
   ]
  },
  {
   "cell_type": "markdown",
   "metadata": {},
   "source": [
    "## Transformation aller Schilder mit unserem handoptimierten ImageDataGenerator"
   ]
  },
  {
   "cell_type": "code",
   "execution_count": 16,
   "metadata": {
    "collapsed": true
   },
   "outputs": [],
   "source": [
    "def traverse(root_dir, \n",
    "             category_callback=lambda category_dir, category: print(category_dir, category),\n",
    "             image_callback=lambda path, directory, basename: print(path, directory, basename)):\n",
    "    directories = [d for d in os.listdir(root_dir) if os.path.isdir(os.path.join(root_dir, d))]\n",
    "    for d in directories:\n",
    "        label_dir = os.path.join(data_dir, d)\n",
    "        category_callback(label_dir, d)\n",
    "        file_names = [f for f in os.listdir(label_dir) if f.endswith(\".ppm\")]\n",
    "        for f in file_names:\n",
    "            path = os.path.join(label_dir, f)\n",
    "            basename = os.path.splitext(f)[0]\n",
    "            image_callback(path, d, basename)"
   ]
  },
  {
   "cell_type": "code",
   "execution_count": 17,
   "metadata": {
    "collapsed": true
   },
   "outputs": [],
   "source": [
    "# so können wir durch alle Ordner mit allen Schildern durchgehen\n",
    "ROOT_PATH = \"./\"\n",
    "data_dir = os.path.join(ROOT_PATH, \"speed-limit-signs\")\n",
    "# traverse(data_dir)"
   ]
  },
  {
   "cell_type": "code",
   "execution_count": 18,
   "metadata": {},
   "outputs": [
    {
     "name": "stdout",
     "output_type": "stream",
     "text": [
      "rm: cannot remove 'augmented-signs': No such file or directory\r\n"
     ]
    }
   ],
   "source": [
    "# oder eben alle Bilder in den Ordnern transformieren\n",
    "# Vorsicht: auf Azure Notebooks, kann das hier ewig dauern\n",
    "def augment_image(input_path, output_dir, output_name, number_of_transformations=10, plot=False):\n",
    "    img = image.load_img(input_path, target_size=(64, 64))\n",
    "    x = image.img_to_array(img)\n",
    "    x = x.reshape((1,) + x.shape) # Reshape it to (1, 64, 64, 3)\n",
    "    i = 1\n",
    "    for batch in datagen.flow(x):\n",
    "        if plot:\n",
    "            plt.figure(i)\n",
    "    #     pillow image: http://pillow.readthedocs.io/en/3.4.x/reference/Image.html\n",
    "        img = image.array_to_img(batch[0])\n",
    "        if plot:\n",
    "            plt.imshow(img)\n",
    "    #     plt.subplot(8, 8, i)  # A grid of 8 rows x 8 columns\n",
    "            plt.axis('off')\n",
    "        else:\n",
    "            output_path = '{dir}/{name}_{index}.png'.format(index=i, dir=output_dir, name=output_name)\n",
    "            img.save(output_path)\n",
    "\n",
    "        if i % number_of_transformations == 0:\n",
    "            break\n",
    "        i += 1\n",
    "    if plot:\n",
    "        plt.show()\n",
    "\n",
    "generated_train_dir = 'augmented-signs'\n",
    "!rm -r augmented-signs\n",
    "!mkdir augmented-signs\n",
    "\n",
    "traverse(data_dir, \n",
    "         category_callback=lambda category_dir, category: os.makedirs(os.path.join(generated_train_dir, category)) if not os.path.exists(os.path.join(generated_train_dir, category)) else None,\n",
    "         image_callback=lambda path, category, basename: augment_image(path, os.path.join(generated_train_dir, category), basename)\n",
    "        )        "
   ]
  },
  {
   "cell_type": "code",
   "execution_count": 19,
   "metadata": {},
   "outputs": [
    {
     "name": "stdout",
     "output_type": "stream",
     "text": [
      "total 449M\r\n",
      "drwxrwxrwx 0 root root 512 Sep 25 18:09 0\r\n",
      "drwxrwxrwx 0 root root 512 Sep 25 18:09 1\r\n",
      "drwxrwxrwx 0 root root 512 Sep 25 18:10 2\r\n",
      "drwxrwxrwx 0 root root 512 Sep 25 18:10 3\r\n",
      "drwxrwxrwx 0 root root 512 Sep 25 18:10 4\r\n",
      "drwxrwxrwx 0 root root 512 Sep 25 18:10 5\r\n"
     ]
    }
   ],
   "source": [
    "!ls -lh augmented-signs"
   ]
  },
  {
   "cell_type": "code",
   "execution_count": 20,
   "metadata": {},
   "outputs": [
    {
     "name": "stdout",
     "output_type": "stream",
     "text": [
      "total 2.6G\n",
      "-rwxrwxrwx 1 root root 4.5K Sep 25 18:09 00000_10.png\n",
      "-rwxrwxrwx 1 root root 5.8K Sep 25 18:09 00000_1.png\n",
      "-rwxrwxrwx 1 root root 4.2K Sep 25 18:09 00000_2.png\n",
      "-rwxrwxrwx 1 root root 6.6K Sep 25 18:09 00000_3.png\n",
      "-rwxrwxrwx 1 root root 4.6K Sep 25 18:09 00000_4.png\n",
      "-rwxrwxrwx 1 root root 5.3K Sep 25 18:09 00000_5.png\n",
      "-rwxrwxrwx 1 root root 6.6K Sep 25 18:09 00000_6.png\n",
      "-rwxrwxrwx 1 root root 5.4K Sep 25 18:09 00000_7.png\n",
      "-rwxrwxrwx 1 root root 5.5K Sep 25 18:09 00000_8.png\n",
      "-rwxrwxrwx 1 root root 5.7K Sep 25 18:09 00000_9.png\n",
      "-rwxrwxrwx 1 root root 5.6K Sep 25 18:09 00001_10.png\n",
      "-rwxrwxrwx 1 root root 4.9K Sep 25 18:09 00001_1.png\n",
      "-rwxrwxrwx 1 root root 4.7K Sep 25 18:09 00001_2.png\n",
      "-rwxrwxrwx 1 root root 5.4K Sep 25 18:09 00001_3.png\n",
      "-rwxrwxrwx 1 root root 4.8K Sep 25 18:09 00001_4.png\n",
      "-rwxrwxrwx 1 root root 4.2K Sep 25 18:09 00001_5.png\n",
      "-rwxrwxrwx 1 root root 3.7K Sep 25 18:09 00001_6.png\n",
      "-rwxrwxrwx 1 root root 5.2K Sep 25 18:09 00001_7.png\n",
      "-rwxrwxrwx 1 root root 4.7K Sep 25 18:09 00001_8.png\n",
      "-rwxrwxrwx 1 root root 5.0K Sep 25 18:09 00001_9.png\n",
      "-rwxrwxrwx 1 root root 5.2K Sep 25 18:09 00002_10.png\n",
      "-rwxrwxrwx 1 root root 5.7K Sep 25 18:09 00002_1.png\n",
      "-rwxrwxrwx 1 root root 5.6K Sep 25 18:09 00002_2.png\n",
      "-rwxrwxrwx 1 root root 5.7K Sep 25 18:09 00002_3.png\n",
      "-rwxrwxrwx 1 root root 6.4K Sep 25 18:09 00002_4.png\n",
      "-rwxrwxrwx 1 root root 5.6K Sep 25 18:09 00002_5.png\n",
      "-rwxrwxrwx 1 root root 5.4K Sep 25 18:09 00002_6.png\n",
      "-rwxrwxrwx 1 root root 6.0K Sep 25 18:09 00002_7.png\n",
      "-rwxrwxrwx 1 root root 6.6K Sep 25 18:09 00002_8.png\n",
      "-rwxrwxrwx 1 root root 6.0K Sep 25 18:09 00002_9.png\n",
      "-rwxrwxrwx 1 root root 5.3K Sep 25 18:09 00003_10.png\n",
      "-rwxrwxrwx 1 root root 4.9K Sep 25 18:09 00003_1.png\n",
      "-rwxrwxrwx 1 root root 6.0K Sep 25 18:09 00003_2.png\n",
      "-rwxrwxrwx 1 root root 5.3K Sep 25 18:09 00003_3.png\n",
      "-rwxrwxrwx 1 root root 5.2K Sep 25 18:09 00003_4.png\n",
      "-rwxrwxrwx 1 root root 4.3K Sep 25 18:09 00003_5.png\n",
      "-rwxrwxrwx 1 root root 3.8K Sep 25 18:09 00003_6.png\n",
      "-rwxrwxrwx 1 root root 4.7K Sep 25 18:09 00003_7.png\n",
      "-rwxrwxrwx 1 root root 5.7K Sep 25 18:09 00003_8.png\n",
      "-rwxrwxrwx 1 root root 6.0K Sep 25 18:09 00003_9.png\n",
      "-rwxrwxrwx 1 root root 5.5K Sep 25 18:09 00004_10.png\n",
      "-rwxrwxrwx 1 root root 4.6K Sep 25 18:09 00004_1.png\n",
      "-rwxrwxrwx 1 root root 5.4K Sep 25 18:09 00004_2.png\n",
      "-rwxrwxrwx 1 root root 3.7K Sep 25 18:09 00004_3.png\n",
      "-rwxrwxrwx 1 root root 4.0K Sep 25 18:09 00004_4.png\n",
      "-rwxrwxrwx 1 root root 4.1K Sep 25 18:09 00004_5.png\n",
      "-rwxrwxrwx 1 root root 3.8K Sep 25 18:09 00004_6.png\n",
      "-rwxrwxrwx 1 root root 4.8K Sep 25 18:09 00004_7.png\n",
      "-rwxrwxrwx 1 root root 5.6K Sep 25 18:09 00004_8.png\n",
      "-rwxrwxrwx 1 root root 5.3K Sep 25 18:09 00004_9.png\n",
      "-rwxrwxrwx 1 root root 5.3K Sep 25 18:09 00005_10.png\n",
      "-rwxrwxrwx 1 root root 5.8K Sep 25 18:09 00005_1.png\n",
      "-rwxrwxrwx 1 root root 5.6K Sep 25 18:09 00005_2.png\n",
      "-rwxrwxrwx 1 root root 3.9K Sep 25 18:09 00005_3.png\n",
      "-rwxrwxrwx 1 root root 4.9K Sep 25 18:09 00005_4.png\n",
      "-rwxrwxrwx 1 root root 5.1K Sep 25 18:09 00005_5.png\n",
      "-rwxrwxrwx 1 root root 5.4K Sep 25 18:09 00005_6.png\n",
      "-rwxrwxrwx 1 root root 5.0K Sep 25 18:09 00005_7.png\n",
      "-rwxrwxrwx 1 root root 6.0K Sep 25 18:09 00005_8.png\n",
      "-rwxrwxrwx 1 root root 5.3K Sep 25 18:09 00005_9.png\n",
      "-rwxrwxrwx 1 root root 3.2K Sep 25 18:09 00006_10.png\n",
      "-rwxrwxrwx 1 root root 4.2K Sep 25 18:09 00006_1.png\n",
      "-rwxrwxrwx 1 root root 3.1K Sep 25 18:09 00006_2.png\n",
      "-rwxrwxrwx 1 root root 2.7K Sep 25 18:09 00006_3.png\n",
      "-rwxrwxrwx 1 root root 3.6K Sep 25 18:09 00006_4.png\n",
      "-rwxrwxrwx 1 root root 3.3K Sep 25 18:09 00006_5.png\n",
      "-rwxrwxrwx 1 root root 3.0K Sep 25 18:09 00006_6.png\n",
      "-rwxrwxrwx 1 root root 3.9K Sep 25 18:09 00006_7.png\n",
      "-rwxrwxrwx 1 root root 4.3K Sep 25 18:09 00006_8.png\n",
      "-rwxrwxrwx 1 root root 4.8K Sep 25 18:09 00006_9.png\n",
      "-rwxrwxrwx 1 root root 4.9K Sep 25 18:09 00007_10.png\n",
      "-rwxrwxrwx 1 root root 3.7K Sep 25 18:09 00007_1.png\n",
      "-rwxrwxrwx 1 root root 3.3K Sep 25 18:09 00007_2.png\n",
      "-rwxrwxrwx 1 root root 5.7K Sep 25 18:09 00007_3.png\n",
      "-rwxrwxrwx 1 root root 4.7K Sep 25 18:09 00007_4.png\n",
      "-rwxrwxrwx 1 root root 4.2K Sep 25 18:09 00007_5.png\n",
      "-rwxrwxrwx 1 root root 4.6K Sep 25 18:09 00007_6.png\n",
      "-rwxrwxrwx 1 root root 3.3K Sep 25 18:09 00007_7.png\n",
      "-rwxrwxrwx 1 root root 2.7K Sep 25 18:09 00007_8.png\n",
      "-rwxrwxrwx 1 root root 3.0K Sep 25 18:09 00007_9.png\n",
      "-rwxrwxrwx 1 root root 4.7K Sep 25 18:09 00008_10.png\n",
      "-rwxrwxrwx 1 root root 4.5K Sep 25 18:09 00008_1.png\n",
      "-rwxrwxrwx 1 root root 5.7K Sep 25 18:09 00008_2.png\n",
      "-rwxrwxrwx 1 root root 4.3K Sep 25 18:09 00008_3.png\n",
      "-rwxrwxrwx 1 root root 4.3K Sep 25 18:09 00008_4.png\n",
      "-rwxrwxrwx 1 root root 5.4K Sep 25 18:09 00008_5.png\n",
      "-rwxrwxrwx 1 root root 3.1K Sep 25 18:09 00008_6.png\n",
      "-rwxrwxrwx 1 root root 5.3K Sep 25 18:09 00008_7.png\n",
      "-rwxrwxrwx 1 root root 4.8K Sep 25 18:09 00008_8.png\n",
      "-rwxrwxrwx 1 root root 5.5K Sep 25 18:09 00008_9.png\n",
      "-rwxrwxrwx 1 root root 6.2K Sep 25 18:09 00009_10.png\n",
      "-rwxrwxrwx 1 root root 6.7K Sep 25 18:09 00009_1.png\n",
      "-rwxrwxrwx 1 root root 5.9K Sep 25 18:09 00009_2.png\n",
      "-rwxrwxrwx 1 root root 4.6K Sep 25 18:09 00009_3.png\n",
      "-rwxrwxrwx 1 root root 6.3K Sep 25 18:09 00009_4.png\n",
      "-rwxrwxrwx 1 root root 6.4K Sep 25 18:09 00009_5.png\n",
      "-rwxrwxrwx 1 root root 6.2K Sep 25 18:09 00009_6.png\n",
      "-rwxrwxrwx 1 root root 4.1K Sep 25 18:09 00009_7.png\n",
      "-rwxrwxrwx 1 root root 5.4K Sep 25 18:09 00009_8.png\n",
      "-rwxrwxrwx 1 root root 6.3K Sep 25 18:09 00009_9.png\n",
      "-rwxrwxrwx 1 root root 2.8K Sep 25 18:09 00010_10.png\n",
      "-rwxrwxrwx 1 root root 1.9K Sep 25 18:09 00010_1.png\n",
      "-rwxrwxrwx 1 root root 2.1K Sep 25 18:09 00010_2.png\n",
      "-rwxrwxrwx 1 root root 3.2K Sep 25 18:09 00010_3.png\n",
      "-rwxrwxrwx 1 root root 3.1K Sep 25 18:09 00010_4.png\n",
      "-rwxrwxrwx 1 root root 2.2K Sep 25 18:09 00010_5.png\n",
      "-rwxrwxrwx 1 root root 2.2K Sep 25 18:09 00010_6.png\n",
      "-rwxrwxrwx 1 root root 2.9K Sep 25 18:09 00010_7.png\n",
      "-rwxrwxrwx 1 root root 2.7K Sep 25 18:09 00010_8.png\n",
      "-rwxrwxrwx 1 root root 1.8K Sep 25 18:09 00010_9.png\n",
      "-rwxrwxrwx 1 root root 3.8K Sep 25 18:09 00011_10.png\n",
      "-rwxrwxrwx 1 root root 4.3K Sep 25 18:09 00011_1.png\n",
      "-rwxrwxrwx 1 root root 4.2K Sep 25 18:09 00011_2.png\n",
      "-rwxrwxrwx 1 root root 3.3K Sep 25 18:09 00011_3.png\n",
      "-rwxrwxrwx 1 root root 4.9K Sep 25 18:09 00011_4.png\n",
      "-rwxrwxrwx 1 root root 4.3K Sep 25 18:09 00011_5.png\n",
      "-rwxrwxrwx 1 root root 5.0K Sep 25 18:09 00011_6.png\n",
      "-rwxrwxrwx 1 root root 4.9K Sep 25 18:09 00011_7.png\n",
      "-rwxrwxrwx 1 root root 3.4K Sep 25 18:09 00011_8.png\n",
      "-rwxrwxrwx 1 root root 4.1K Sep 25 18:09 00011_9.png\n",
      "-rwxrwxrwx 1 root root 3.7K Sep 25 18:09 00012_10.png\n",
      "-rwxrwxrwx 1 root root 4.6K Sep 25 18:09 00012_1.png\n",
      "-rwxrwxrwx 1 root root 3.3K Sep 25 18:09 00012_2.png\n",
      "-rwxrwxrwx 1 root root 4.5K Sep 25 18:09 00012_3.png\n",
      "-rwxrwxrwx 1 root root 4.6K Sep 25 18:09 00012_4.png\n",
      "-rwxrwxrwx 1 root root 3.5K Sep 25 18:09 00012_5.png\n",
      "-rwxrwxrwx 1 root root 3.9K Sep 25 18:09 00012_6.png\n",
      "-rwxrwxrwx 1 root root 5.3K Sep 25 18:09 00012_7.png\n",
      "-rwxrwxrwx 1 root root 5.0K Sep 25 18:09 00012_8.png\n",
      "-rwxrwxrwx 1 root root 3.6K Sep 25 18:09 00012_9.png\n",
      "-rwxrwxrwx 1 root root 3.9K Sep 25 18:09 00013_10.png\n",
      "-rwxrwxrwx 1 root root 3.7K Sep 25 18:09 00013_1.png\n",
      "-rwxrwxrwx 1 root root 2.5K Sep 25 18:09 00013_2.png\n",
      "-rwxrwxrwx 1 root root 4.2K Sep 25 18:09 00013_3.png\n",
      "-rwxrwxrwx 1 root root 4.0K Sep 25 18:09 00013_4.png\n",
      "-rwxrwxrwx 1 root root 2.9K Sep 25 18:09 00013_5.png\n",
      "-rwxrwxrwx 1 root root 3.4K Sep 25 18:09 00013_6.png\n",
      "-rwxrwxrwx 1 root root 4.2K Sep 25 18:09 00013_7.png\n",
      "-rwxrwxrwx 1 root root 3.6K Sep 25 18:09 00013_8.png\n",
      "-rwxrwxrwx 1 root root 3.6K Sep 25 18:09 00013_9.png\n",
      "-rwxrwxrwx 1 root root 3.8K Sep 25 18:09 00014_10.png\n",
      "-rwxrwxrwx 1 root root 3.0K Sep 25 18:09 00014_1.png\n",
      "-rwxrwxrwx 1 root root 3.7K Sep 25 18:09 00014_2.png\n",
      "-rwxrwxrwx 1 root root 3.8K Sep 25 18:09 00014_3.png\n",
      "-rwxrwxrwx 1 root root 4.3K Sep 25 18:09 00014_4.png\n",
      "-rwxrwxrwx 1 root root 4.6K Sep 25 18:09 00014_5.png\n",
      "-rwxrwxrwx 1 root root 2.2K Sep 25 18:09 00014_6.png\n",
      "-rwxrwxrwx 1 root root 5.4K Sep 25 18:09 00014_7.png\n",
      "-rwxrwxrwx 1 root root 3.7K Sep 25 18:09 00014_8.png\n",
      "-rwxrwxrwx 1 root root 3.4K Sep 25 18:09 00014_9.png\n",
      "-rwxrwxrwx 1 root root 6.1K Sep 25 18:09 00015_10.png\n",
      "-rwxrwxrwx 1 root root 6.1K Sep 25 18:09 00015_1.png\n",
      "-rwxrwxrwx 1 root root 7.0K Sep 25 18:09 00015_2.png\n",
      "-rwxrwxrwx 1 root root 6.1K Sep 25 18:09 00015_3.png\n",
      "-rwxrwxrwx 1 root root 6.3K Sep 25 18:09 00015_4.png\n",
      "-rwxrwxrwx 1 root root 6.2K Sep 25 18:09 00015_5.png\n",
      "-rwxrwxrwx 1 root root 6.2K Sep 25 18:09 00015_6.png\n",
      "-rwxrwxrwx 1 root root 6.8K Sep 25 18:09 00015_7.png\n",
      "-rwxrwxrwx 1 root root 5.9K Sep 25 18:09 00015_8.png\n",
      "-rwxrwxrwx 1 root root 6.0K Sep 25 18:09 00015_9.png\n",
      "-rwxrwxrwx 1 root root 7.5K Sep 25 18:09 00016_10.png\n",
      "-rwxrwxrwx 1 root root 6.5K Sep 25 18:09 00016_1.png\n",
      "-rwxrwxrwx 1 root root 6.2K Sep 25 18:09 00016_2.png\n",
      "-rwxrwxrwx 1 root root 6.3K Sep 25 18:09 00016_3.png\n",
      "-rwxrwxrwx 1 root root 6.1K Sep 25 18:09 00016_4.png\n",
      "-rwxrwxrwx 1 root root 5.5K Sep 25 18:09 00016_5.png\n",
      "-rwxrwxrwx 1 root root 7.8K Sep 25 18:09 00016_6.png\n",
      "-rwxrwxrwx 1 root root 5.7K Sep 25 18:09 00016_7.png\n",
      "-rwxrwxrwx 1 root root 6.2K Sep 25 18:09 00016_8.png\n",
      "-rwxrwxrwx 1 root root 7.0K Sep 25 18:09 00016_9.png\n",
      "-rwxrwxrwx 1 root root 2.9K Sep 25 18:09 00017_10.png\n",
      "-rwxrwxrwx 1 root root 3.1K Sep 25 18:09 00017_1.png\n",
      "-rwxrwxrwx 1 root root 3.6K Sep 25 18:09 00017_2.png\n",
      "-rwxrwxrwx 1 root root 3.7K Sep 25 18:09 00017_3.png\n",
      "-rwxrwxrwx 1 root root 3.3K Sep 25 18:09 00017_4.png\n",
      "-rwxrwxrwx 1 root root 3.3K Sep 25 18:09 00017_5.png\n",
      "-rwxrwxrwx 1 root root 4.9K Sep 25 18:09 00017_6.png\n",
      "-rwxrwxrwx 1 root root 3.4K Sep 25 18:09 00017_7.png\n",
      "-rwxrwxrwx 1 root root 3.8K Sep 25 18:09 00017_8.png\n",
      "-rwxrwxrwx 1 root root 3.9K Sep 25 18:09 00017_9.png\n",
      "-rwxrwxrwx 1 root root 2.2K Sep 25 18:09 00018_10.png\n",
      "-rwxrwxrwx 1 root root 2.4K Sep 25 18:09 00018_1.png\n",
      "-rwxrwxrwx 1 root root 1.9K Sep 25 18:09 00018_2.png\n",
      "-rwxrwxrwx 1 root root 2.0K Sep 25 18:09 00018_3.png\n",
      "-rwxrwxrwx 1 root root 1.9K Sep 25 18:09 00018_4.png\n",
      "-rwxrwxrwx 1 root root 3.7K Sep 25 18:09 00018_5.png\n",
      "-rwxrwxrwx 1 root root 2.7K Sep 25 18:09 00018_6.png\n",
      "-rwxrwxrwx 1 root root 1.9K Sep 25 18:09 00018_7.png\n",
      "-rwxrwxrwx 1 root root 1.9K Sep 25 18:09 00018_8.png\n",
      "-rwxrwxrwx 1 root root 2.3K Sep 25 18:09 00018_9.png\n",
      "-rwxrwxrwx 1 root root 4.5K Sep 25 18:09 00019_10.png\n",
      "-rwxrwxrwx 1 root root 3.5K Sep 25 18:09 00019_1.png\n",
      "-rwxrwxrwx 1 root root 3.8K Sep 25 18:09 00019_2.png\n",
      "-rwxrwxrwx 1 root root 4.9K Sep 25 18:09 00019_3.png\n",
      "-rwxrwxrwx 1 root root 3.9K Sep 25 18:09 00019_4.png\n",
      "-rwxrwxrwx 1 root root 5.0K Sep 25 18:09 00019_5.png\n",
      "-rwxrwxrwx 1 root root 3.6K Sep 25 18:09 00019_6.png\n",
      "-rwxrwxrwx 1 root root 4.1K Sep 25 18:09 00019_7.png\n",
      "-rwxrwxrwx 1 root root 3.7K Sep 25 18:09 00019_8.png\n",
      "-rwxrwxrwx 1 root root 3.9K Sep 25 18:09 00019_9.png\n",
      "-rwxrwxrwx 1 root root 2.8K Sep 25 18:09 00020_10.png\n",
      "-rwxrwxrwx 1 root root 3.0K Sep 25 18:09 00020_1.png\n",
      "-rwxrwxrwx 1 root root 2.7K Sep 25 18:09 00020_2.png\n",
      "-rwxrwxrwx 1 root root 1.7K Sep 25 18:09 00020_3.png\n",
      "-rwxrwxrwx 1 root root 2.5K Sep 25 18:09 00020_4.png\n",
      "-rwxrwxrwx 1 root root 2.6K Sep 25 18:09 00020_5.png\n",
      "-rwxrwxrwx 1 root root 2.2K Sep 25 18:09 00020_6.png\n",
      "-rwxrwxrwx 1 root root 3.5K Sep 25 18:09 00020_7.png\n",
      "-rwxrwxrwx 1 root root 2.5K Sep 25 18:09 00020_8.png\n",
      "-rwxrwxrwx 1 root root 3.0K Sep 25 18:09 00020_9.png\n",
      "-rwxrwxrwx 1 root root 5.7K Sep 25 18:09 00021_10.png\n",
      "-rwxrwxrwx 1 root root 5.8K Sep 25 18:09 00021_1.png\n",
      "-rwxrwxrwx 1 root root 5.9K Sep 25 18:09 00021_2.png\n",
      "-rwxrwxrwx 1 root root 6.1K Sep 25 18:09 00021_3.png\n",
      "-rwxrwxrwx 1 root root 5.4K Sep 25 18:09 00021_4.png\n",
      "-rwxrwxrwx 1 root root 6.4K Sep 25 18:09 00021_5.png\n",
      "-rwxrwxrwx 1 root root 6.6K Sep 25 18:09 00021_6.png\n",
      "-rwxrwxrwx 1 root root 6.0K Sep 25 18:09 00021_7.png\n",
      "-rwxrwxrwx 1 root root 5.5K Sep 25 18:09 00021_8.png\n",
      "-rwxrwxrwx 1 root root 5.4K Sep 25 18:09 00021_9.png\n",
      "-rwxrwxrwx 1 root root 7.1K Sep 25 18:09 00022_10.png\n",
      "-rwxrwxrwx 1 root root 5.4K Sep 25 18:09 00022_1.png\n",
      "-rwxrwxrwx 1 root root 5.7K Sep 25 18:09 00022_2.png\n",
      "-rwxrwxrwx 1 root root 7.3K Sep 25 18:09 00022_3.png\n",
      "-rwxrwxrwx 1 root root 6.3K Sep 25 18:09 00022_4.png\n",
      "-rwxrwxrwx 1 root root 5.9K Sep 25 18:09 00022_5.png\n",
      "-rwxrwxrwx 1 root root 6.6K Sep 25 18:09 00022_6.png\n",
      "-rwxrwxrwx 1 root root 6.3K Sep 25 18:09 00022_7.png\n",
      "-rwxrwxrwx 1 root root 6.4K Sep 25 18:09 00022_8.png\n",
      "-rwxrwxrwx 1 root root 6.0K Sep 25 18:09 00022_9.png\n",
      "-rwxrwxrwx 1 root root 3.2K Sep 25 18:09 00023_10.png\n",
      "-rwxrwxrwx 1 root root 2.9K Sep 25 18:09 00023_1.png\n",
      "-rwxrwxrwx 1 root root 2.4K Sep 25 18:09 00023_2.png\n",
      "-rwxrwxrwx 1 root root 1.4K Sep 25 18:09 00023_3.png\n",
      "-rwxrwxrwx 1 root root 3.7K Sep 25 18:09 00023_4.png\n",
      "-rwxrwxrwx 1 root root 2.2K Sep 25 18:09 00023_5.png\n",
      "-rwxrwxrwx 1 root root 3.9K Sep 25 18:09 00023_6.png\n",
      "-rwxrwxrwx 1 root root 3.3K Sep 25 18:09 00023_7.png\n",
      "-rwxrwxrwx 1 root root 2.2K Sep 25 18:09 00023_8.png\n",
      "-rwxrwxrwx 1 root root 2.4K Sep 25 18:09 00023_9.png\n",
      "-rwxrwxrwx 1 root root 6.5K Sep 25 18:09 00024_10.png\n",
      "-rwxrwxrwx 1 root root 6.5K Sep 25 18:09 00024_1.png\n",
      "-rwxrwxrwx 1 root root 6.4K Sep 25 18:09 00024_2.png\n",
      "-rwxrwxrwx 1 root root 6.8K Sep 25 18:09 00024_3.png\n",
      "-rwxrwxrwx 1 root root 6.4K Sep 25 18:09 00024_4.png\n",
      "-rwxrwxrwx 1 root root 6.2K Sep 25 18:09 00024_5.png\n",
      "-rwxrwxrwx 1 root root 6.8K Sep 25 18:09 00024_6.png\n",
      "-rwxrwxrwx 1 root root 7.0K Sep 25 18:09 00024_7.png\n",
      "-rwxrwxrwx 1 root root 6.5K Sep 25 18:09 00024_8.png\n",
      "-rwxrwxrwx 1 root root 6.6K Sep 25 18:09 00024_9.png\n",
      "-rwxrwxrwx 1 root root 7.1K Sep 25 18:09 00025_10.png\n",
      "-rwxrwxrwx 1 root root 5.9K Sep 25 18:09 00025_1.png\n",
      "-rwxrwxrwx 1 root root 5.4K Sep 25 18:09 00025_2.png\n",
      "-rwxrwxrwx 1 root root 7.7K Sep 25 18:09 00025_3.png\n",
      "-rwxrwxrwx 1 root root 6.8K Sep 25 18:09 00025_4.png\n",
      "-rwxrwxrwx 1 root root 6.3K Sep 25 18:09 00025_5.png\n",
      "-rwxrwxrwx 1 root root 7.1K Sep 25 18:09 00025_6.png\n",
      "-rwxrwxrwx 1 root root 6.0K Sep 25 18:09 00025_7.png\n",
      "-rwxrwxrwx 1 root root 7.2K Sep 25 18:09 00025_8.png\n",
      "-rwxrwxrwx 1 root root 5.7K Sep 25 18:09 00025_9.png\n",
      "-rwxrwxrwx 1 root root 4.9K Sep 25 18:09 00026_10.png\n",
      "-rwxrwxrwx 1 root root 4.1K Sep 25 18:09 00026_1.png\n",
      "-rwxrwxrwx 1 root root 5.6K Sep 25 18:09 00026_2.png\n",
      "-rwxrwxrwx 1 root root 5.6K Sep 25 18:09 00026_3.png\n",
      "-rwxrwxrwx 1 root root 5.5K Sep 25 18:09 00026_4.png\n",
      "-rwxrwxrwx 1 root root 5.2K Sep 25 18:09 00026_5.png\n",
      "-rwxrwxrwx 1 root root 4.2K Sep 25 18:09 00026_6.png\n",
      "-rwxrwxrwx 1 root root 6.5K Sep 25 18:09 00026_7.png\n",
      "-rwxrwxrwx 1 root root 5.5K Sep 25 18:09 00026_8.png\n",
      "-rwxrwxrwx 1 root root 6.2K Sep 25 18:09 00026_9.png\n",
      "-rwxrwxrwx 1 root root 4.8K Sep 25 18:09 00027_10.png\n",
      "-rwxrwxrwx 1 root root 5.0K Sep 25 18:09 00027_1.png\n",
      "-rwxrwxrwx 1 root root 5.0K Sep 25 18:09 00027_2.png\n",
      "-rwxrwxrwx 1 root root 4.3K Sep 25 18:09 00027_3.png\n",
      "-rwxrwxrwx 1 root root 5.9K Sep 25 18:09 00027_4.png\n",
      "-rwxrwxrwx 1 root root 5.0K Sep 25 18:09 00027_5.png\n",
      "-rwxrwxrwx 1 root root 4.4K Sep 25 18:09 00027_6.png\n",
      "-rwxrwxrwx 1 root root 5.5K Sep 25 18:09 00027_7.png\n",
      "-rwxrwxrwx 1 root root 6.2K Sep 25 18:09 00027_8.png\n",
      "-rwxrwxrwx 1 root root 4.7K Sep 25 18:09 00027_9.png\n",
      "-rwxrwxrwx 1 root root 5.0K Sep 25 18:09 00028_10.png\n",
      "-rwxrwxrwx 1 root root 6.1K Sep 25 18:09 00028_1.png\n",
      "-rwxrwxrwx 1 root root 5.4K Sep 25 18:09 00028_2.png\n",
      "-rwxrwxrwx 1 root root 5.9K Sep 25 18:09 00028_3.png\n",
      "-rwxrwxrwx 1 root root 5.5K Sep 25 18:09 00028_4.png\n",
      "-rwxrwxrwx 1 root root 5.2K Sep 25 18:09 00028_5.png\n",
      "-rwxrwxrwx 1 root root 5.7K Sep 25 18:09 00028_6.png\n",
      "-rwxrwxrwx 1 root root 6.2K Sep 25 18:09 00028_7.png\n",
      "-rwxrwxrwx 1 root root 5.5K Sep 25 18:09 00028_8.png\n",
      "-rwxrwxrwx 1 root root 5.7K Sep 25 18:09 00028_9.png\n",
      "-rwxrwxrwx 1 root root 7.5K Sep 25 18:09 00029_10.png\n",
      "-rwxrwxrwx 1 root root 8.0K Sep 25 18:09 00029_1.png\n",
      "-rwxrwxrwx 1 root root 7.4K Sep 25 18:09 00029_2.png\n",
      "-rwxrwxrwx 1 root root 7.8K Sep 25 18:09 00029_3.png\n",
      "-rwxrwxrwx 1 root root 7.5K Sep 25 18:09 00029_4.png\n",
      "-rwxrwxrwx 1 root root 7.0K Sep 25 18:09 00029_5.png\n",
      "-rwxrwxrwx 1 root root 6.8K Sep 25 18:09 00029_6.png\n",
      "-rwxrwxrwx 1 root root 5.4K Sep 25 18:09 00029_7.png\n",
      "-rwxrwxrwx 1 root root 8.1K Sep 25 18:09 00029_8.png\n",
      "-rwxrwxrwx 1 root root 7.3K Sep 25 18:09 00029_9.png\n",
      "-rwxrwxrwx 1 root root 6.5K Sep 25 18:09 00030_10.png\n",
      "-rwxrwxrwx 1 root root 7.7K Sep 25 18:09 00030_1.png\n",
      "-rwxrwxrwx 1 root root 6.5K Sep 25 18:09 00030_2.png\n",
      "-rwxrwxrwx 1 root root 7.5K Sep 25 18:09 00030_3.png\n",
      "-rwxrwxrwx 1 root root 7.5K Sep 25 18:09 00030_4.png\n",
      "-rwxrwxrwx 1 root root 7.5K Sep 25 18:09 00030_5.png\n",
      "-rwxrwxrwx 1 root root 7.1K Sep 25 18:09 00030_6.png\n",
      "-rwxrwxrwx 1 root root 6.8K Sep 25 18:09 00030_7.png\n",
      "-rwxrwxrwx 1 root root 6.3K Sep 25 18:09 00030_8.png\n",
      "-rwxrwxrwx 1 root root 6.0K Sep 25 18:09 00030_9.png\n",
      "-rwxrwxrwx 1 root root 6.1K Sep 25 18:09 00031_10.png\n",
      "-rwxrwxrwx 1 root root 7.7K Sep 25 18:09 00031_1.png\n",
      "-rwxrwxrwx 1 root root 7.4K Sep 25 18:09 00031_2.png\n",
      "-rwxrwxrwx 1 root root 6.9K Sep 25 18:09 00031_3.png\n",
      "-rwxrwxrwx 1 root root 6.3K Sep 25 18:09 00031_4.png\n",
      "-rwxrwxrwx 1 root root 6.6K Sep 25 18:09 00031_5.png\n",
      "-rwxrwxrwx 1 root root 6.2K Sep 25 18:09 00031_6.png\n",
      "-rwxrwxrwx 1 root root 6.6K Sep 25 18:09 00031_7.png\n",
      "-rwxrwxrwx 1 root root 6.1K Sep 25 18:09 00031_8.png\n",
      "-rwxrwxrwx 1 root root 6.8K Sep 25 18:09 00031_9.png\n",
      "-rwxrwxrwx 1 root root 6.7K Sep 25 18:09 00032_10.png\n",
      "-rwxrwxrwx 1 root root 6.8K Sep 25 18:09 00032_1.png\n",
      "-rwxrwxrwx 1 root root 6.1K Sep 25 18:09 00032_2.png\n",
      "-rwxrwxrwx 1 root root 7.2K Sep 25 18:09 00032_3.png\n",
      "-rwxrwxrwx 1 root root 6.1K Sep 25 18:09 00032_4.png\n",
      "-rwxrwxrwx 1 root root 5.8K Sep 25 18:09 00032_5.png\n",
      "-rwxrwxrwx 1 root root 6.6K Sep 25 18:09 00032_6.png\n",
      "-rwxrwxrwx 1 root root 5.9K Sep 25 18:09 00032_7.png\n",
      "-rwxrwxrwx 1 root root 6.3K Sep 25 18:09 00032_8.png\n",
      "-rwxrwxrwx 1 root root 6.4K Sep 25 18:09 00032_9.png\n",
      "-rwxrwxrwx 1 root root 2.7K Sep 25 18:09 00033_10.png\n",
      "-rwxrwxrwx 1 root root 3.6K Sep 25 18:09 00033_1.png\n",
      "-rwxrwxrwx 1 root root 4.2K Sep 25 18:09 00033_2.png\n",
      "-rwxrwxrwx 1 root root 4.4K Sep 25 18:09 00033_3.png\n",
      "-rwxrwxrwx 1 root root 4.4K Sep 25 18:09 00033_4.png\n",
      "-rwxrwxrwx 1 root root 4.4K Sep 25 18:09 00033_5.png\n",
      "-rwxrwxrwx 1 root root 4.7K Sep 25 18:09 00033_6.png\n",
      "-rwxrwxrwx 1 root root 4.9K Sep 25 18:09 00033_7.png\n",
      "-rwxrwxrwx 1 root root 5.2K Sep 25 18:09 00033_8.png\n",
      "-rwxrwxrwx 1 root root 3.5K Sep 25 18:09 00033_9.png\n",
      "-rwxrwxrwx 1 root root 4.4K Sep 25 18:09 00034_10.png\n",
      "-rwxrwxrwx 1 root root 3.7K Sep 25 18:09 00034_1.png\n",
      "-rwxrwxrwx 1 root root 2.8K Sep 25 18:09 00034_2.png\n",
      "-rwxrwxrwx 1 root root 3.5K Sep 25 18:09 00034_3.png\n",
      "-rwxrwxrwx 1 root root 4.0K Sep 25 18:09 00034_4.png\n",
      "-rwxrwxrwx 1 root root 4.8K Sep 25 18:09 00034_5.png\n",
      "-rwxrwxrwx 1 root root 3.9K Sep 25 18:09 00034_6.png\n",
      "-rwxrwxrwx 1 root root 5.0K Sep 25 18:09 00034_7.png\n",
      "-rwxrwxrwx 1 root root 5.2K Sep 25 18:09 00034_8.png\n",
      "-rwxrwxrwx 1 root root 3.7K Sep 25 18:09 00034_9.png\n",
      "-rwxrwxrwx 1 root root 3.4K Sep 25 18:09 00035_10.png\n",
      "-rwxrwxrwx 1 root root 4.0K Sep 25 18:09 00035_1.png\n",
      "-rwxrwxrwx 1 root root 3.8K Sep 25 18:09 00035_2.png\n",
      "-rwxrwxrwx 1 root root 4.5K Sep 25 18:09 00035_3.png\n",
      "-rwxrwxrwx 1 root root 4.8K Sep 25 18:09 00035_4.png\n",
      "-rwxrwxrwx 1 root root 5.8K Sep 25 18:09 00035_5.png\n",
      "-rwxrwxrwx 1 root root 5.8K Sep 25 18:09 00035_6.png\n",
      "-rwxrwxrwx 1 root root 4.5K Sep 25 18:09 00035_7.png\n",
      "-rwxrwxrwx 1 root root 5.4K Sep 25 18:09 00035_8.png\n",
      "-rwxrwxrwx 1 root root 4.4K Sep 25 18:09 00035_9.png\n",
      "-rwxrwxrwx 1 root root 7.4K Sep 25 18:09 00036_10.png\n",
      "-rwxrwxrwx 1 root root 6.9K Sep 25 18:09 00036_1.png\n",
      "-rwxrwxrwx 1 root root 7.0K Sep 25 18:09 00036_2.png\n",
      "-rwxrwxrwx 1 root root 6.6K Sep 25 18:09 00036_3.png\n",
      "-rwxrwxrwx 1 root root 6.0K Sep 25 18:09 00036_4.png\n",
      "-rwxrwxrwx 1 root root 6.5K Sep 25 18:09 00036_5.png\n",
      "-rwxrwxrwx 1 root root 8.0K Sep 25 18:09 00036_6.png\n",
      "-rwxrwxrwx 1 root root 8.0K Sep 25 18:09 00036_7.png\n",
      "-rwxrwxrwx 1 root root 6.0K Sep 25 18:09 00036_8.png\n",
      "-rwxrwxrwx 1 root root 8.1K Sep 25 18:09 00036_9.png\n",
      "-rwxrwxrwx 1 root root 3.9K Sep 25 18:09 00037_10.png\n",
      "-rwxrwxrwx 1 root root 3.8K Sep 25 18:09 00037_1.png\n",
      "-rwxrwxrwx 1 root root 2.6K Sep 25 18:09 00037_2.png\n",
      "-rwxrwxrwx 1 root root 3.8K Sep 25 18:09 00037_3.png\n",
      "-rwxrwxrwx 1 root root 4.6K Sep 25 18:09 00037_4.png\n",
      "-rwxrwxrwx 1 root root 5.1K Sep 25 18:09 00037_5.png\n",
      "-rwxrwxrwx 1 root root 4.0K Sep 25 18:09 00037_6.png\n",
      "-rwxrwxrwx 1 root root 3.5K Sep 25 18:09 00037_7.png\n",
      "-rwxrwxrwx 1 root root 4.8K Sep 25 18:09 00037_8.png\n",
      "-rwxrwxrwx 1 root root 2.2K Sep 25 18:09 00037_9.png\n",
      "-rwxrwxrwx 1 root root 2.6K Sep 25 18:09 00038_10.png\n",
      "-rwxrwxrwx 1 root root 2.3K Sep 25 18:09 00038_1.png\n",
      "-rwxrwxrwx 1 root root 2.6K Sep 25 18:09 00038_2.png\n",
      "-rwxrwxrwx 1 root root 2.8K Sep 25 18:09 00038_3.png\n",
      "-rwxrwxrwx 1 root root 2.6K Sep 25 18:09 00038_4.png\n",
      "-rwxrwxrwx 1 root root 2.5K Sep 25 18:09 00038_5.png\n",
      "-rwxrwxrwx 1 root root 2.6K Sep 25 18:09 00038_6.png\n",
      "-rwxrwxrwx 1 root root 3.2K Sep 25 18:09 00038_7.png\n",
      "-rwxrwxrwx 1 root root 3.4K Sep 25 18:09 00038_8.png\n",
      "-rwxrwxrwx 1 root root 3.8K Sep 25 18:09 00038_9.png\n",
      "-rwxrwxrwx 1 root root 5.2K Sep 25 18:09 00039_10.png\n",
      "-rwxrwxrwx 1 root root 4.4K Sep 25 18:09 00039_1.png\n",
      "-rwxrwxrwx 1 root root 6.3K Sep 25 18:09 00039_2.png\n",
      "-rwxrwxrwx 1 root root 4.7K Sep 25 18:09 00039_3.png\n",
      "-rwxrwxrwx 1 root root 3.9K Sep 25 18:09 00039_4.png\n",
      "-rwxrwxrwx 1 root root 5.9K Sep 25 18:09 00039_5.png\n",
      "-rwxrwxrwx 1 root root 3.6K Sep 25 18:09 00039_6.png\n",
      "-rwxrwxrwx 1 root root 5.5K Sep 25 18:09 00039_7.png\n",
      "-rwxrwxrwx 1 root root 4.6K Sep 25 18:09 00039_8.png\n",
      "-rwxrwxrwx 1 root root 4.4K Sep 25 18:09 00039_9.png\n",
      "-rwxrwxrwx 1 root root 5.5K Sep 25 18:09 00040_10.png\n",
      "-rwxrwxrwx 1 root root 4.8K Sep 25 18:09 00040_1.png\n",
      "-rwxrwxrwx 1 root root 5.2K Sep 25 18:09 00040_2.png\n",
      "-rwxrwxrwx 1 root root 5.4K Sep 25 18:09 00040_3.png\n",
      "-rwxrwxrwx 1 root root 6.1K Sep 25 18:09 00040_4.png\n",
      "-rwxrwxrwx 1 root root 6.1K Sep 25 18:09 00040_5.png\n",
      "-rwxrwxrwx 1 root root 5.0K Sep 25 18:09 00040_6.png\n",
      "-rwxrwxrwx 1 root root 5.5K Sep 25 18:09 00040_7.png\n",
      "-rwxrwxrwx 1 root root 4.9K Sep 25 18:09 00040_8.png\n",
      "-rwxrwxrwx 1 root root 6.1K Sep 25 18:09 00040_9.png\n",
      "-rwxrwxrwx 1 root root 6.5K Sep 25 18:09 00041_10.png\n",
      "-rwxrwxrwx 1 root root 4.7K Sep 25 18:09 00041_1.png\n",
      "-rwxrwxrwx 1 root root 5.6K Sep 25 18:09 00041_2.png\n",
      "-rwxrwxrwx 1 root root 4.9K Sep 25 18:09 00041_3.png\n",
      "-rwxrwxrwx 1 root root 5.3K Sep 25 18:09 00041_4.png\n",
      "-rwxrwxrwx 1 root root 4.5K Sep 25 18:09 00041_5.png\n",
      "-rwxrwxrwx 1 root root 6.3K Sep 25 18:09 00041_6.png\n",
      "-rwxrwxrwx 1 root root 5.1K Sep 25 18:09 00041_7.png\n",
      "-rwxrwxrwx 1 root root 5.4K Sep 25 18:09 00041_8.png\n",
      "-rwxrwxrwx 1 root root 4.8K Sep 25 18:09 00041_9.png\n",
      "-rwxrwxrwx 1 root root 4.1K Sep 25 18:09 00042_10.png\n",
      "-rwxrwxrwx 1 root root 4.1K Sep 25 18:09 00042_1.png\n",
      "-rwxrwxrwx 1 root root 3.7K Sep 25 18:09 00042_2.png\n",
      "-rwxrwxrwx 1 root root 3.4K Sep 25 18:09 00042_3.png\n",
      "-rwxrwxrwx 1 root root 3.3K Sep 25 18:09 00042_4.png\n",
      "-rwxrwxrwx 1 root root 3.4K Sep 25 18:09 00042_5.png\n",
      "-rwxrwxrwx 1 root root 3.6K Sep 25 18:09 00042_6.png\n",
      "-rwxrwxrwx 1 root root 2.2K Sep 25 18:09 00042_7.png\n",
      "-rwxrwxrwx 1 root root 2.6K Sep 25 18:09 00042_8.png\n",
      "-rwxrwxrwx 1 root root 3.6K Sep 25 18:09 00042_9.png\n",
      "-rwxrwxrwx 1 root root 3.3K Sep 25 18:09 00043_10.png\n",
      "-rwxrwxrwx 1 root root 3.8K Sep 25 18:09 00043_1.png\n",
      "-rwxrwxrwx 1 root root 3.6K Sep 25 18:09 00043_2.png\n",
      "-rwxrwxrwx 1 root root 2.7K Sep 25 18:09 00043_3.png\n",
      "-rwxrwxrwx 1 root root 2.8K Sep 25 18:09 00043_4.png\n",
      "-rwxrwxrwx 1 root root 3.5K Sep 25 18:09 00043_5.png\n",
      "-rwxrwxrwx 1 root root 3.8K Sep 25 18:09 00043_6.png\n",
      "-rwxrwxrwx 1 root root 2.9K Sep 25 18:09 00043_7.png\n",
      "-rwxrwxrwx 1 root root 4.0K Sep 25 18:09 00043_8.png\n",
      "-rwxrwxrwx 1 root root 3.6K Sep 25 18:09 00043_9.png\n",
      "-rwxrwxrwx 1 root root 3.6K Sep 25 18:09 00044_10.png\n",
      "-rwxrwxrwx 1 root root 4.6K Sep 25 18:09 00044_1.png\n",
      "-rwxrwxrwx 1 root root 3.6K Sep 25 18:09 00044_2.png\n",
      "-rwxrwxrwx 1 root root 4.8K Sep 25 18:09 00044_3.png\n",
      "-rwxrwxrwx 1 root root 4.6K Sep 25 18:09 00044_4.png\n",
      "-rwxrwxrwx 1 root root 3.8K Sep 25 18:09 00044_5.png\n",
      "-rwxrwxrwx 1 root root 3.3K Sep 25 18:09 00044_6.png\n",
      "-rwxrwxrwx 1 root root 3.5K Sep 25 18:09 00044_7.png\n",
      "-rwxrwxrwx 1 root root 3.6K Sep 25 18:09 00044_8.png\n",
      "-rwxrwxrwx 1 root root 3.9K Sep 25 18:09 00044_9.png\n",
      "-rwxrwxrwx 1 root root 3.0K Sep 25 18:09 00045_10.png\n",
      "-rwxrwxrwx 1 root root 3.4K Sep 25 18:09 00045_1.png\n",
      "-rwxrwxrwx 1 root root 4.3K Sep 25 18:09 00045_2.png\n",
      "-rwxrwxrwx 1 root root 2.7K Sep 25 18:09 00045_3.png\n",
      "-rwxrwxrwx 1 root root 3.7K Sep 25 18:09 00045_4.png\n",
      "-rwxrwxrwx 1 root root 4.0K Sep 25 18:09 00045_5.png\n",
      "-rwxrwxrwx 1 root root 2.3K Sep 25 18:09 00045_6.png\n",
      "-rwxrwxrwx 1 root root 3.8K Sep 25 18:09 00045_7.png\n",
      "-rwxrwxrwx 1 root root 3.2K Sep 25 18:09 00045_8.png\n",
      "-rwxrwxrwx 1 root root 3.8K Sep 25 18:09 00045_9.png\n",
      "-rwxrwxrwx 1 root root 5.5K Sep 25 18:09 00046_10.png\n",
      "-rwxrwxrwx 1 root root 5.8K Sep 25 18:09 00046_1.png\n",
      "-rwxrwxrwx 1 root root 5.1K Sep 25 18:09 00046_2.png\n",
      "-rwxrwxrwx 1 root root 4.7K Sep 25 18:09 00046_3.png\n",
      "-rwxrwxrwx 1 root root 4.9K Sep 25 18:09 00046_4.png\n",
      "-rwxrwxrwx 1 root root 5.7K Sep 25 18:09 00046_5.png\n",
      "-rwxrwxrwx 1 root root 5.1K Sep 25 18:09 00046_6.png\n",
      "-rwxrwxrwx 1 root root 5.1K Sep 25 18:09 00046_7.png\n",
      "-rwxrwxrwx 1 root root 5.2K Sep 25 18:09 00046_8.png\n",
      "-rwxrwxrwx 1 root root 6.2K Sep 25 18:09 00046_9.png\n",
      "-rwxrwxrwx 1 root root 4.0K Sep 25 18:09 00047_10.png\n",
      "-rwxrwxrwx 1 root root 2.9K Sep 25 18:09 00047_1.png\n",
      "-rwxrwxrwx 1 root root 3.3K Sep 25 18:09 00047_2.png\n",
      "-rwxrwxrwx 1 root root 2.8K Sep 25 18:09 00047_3.png\n",
      "-rwxrwxrwx 1 root root 2.9K Sep 25 18:09 00047_4.png\n",
      "-rwxrwxrwx 1 root root 3.5K Sep 25 18:09 00047_5.png\n",
      "-rwxrwxrwx 1 root root 2.5K Sep 25 18:09 00047_6.png\n",
      "-rwxrwxrwx 1 root root 2.2K Sep 25 18:09 00047_7.png\n",
      "-rwxrwxrwx 1 root root 2.9K Sep 25 18:09 00047_8.png\n",
      "-rwxrwxrwx 1 root root 2.8K Sep 25 18:09 00047_9.png\n",
      "-rwxrwxrwx 1 root root 5.4K Sep 25 18:09 00048_10.png\n",
      "-rwxrwxrwx 1 root root 5.0K Sep 25 18:09 00048_1.png\n",
      "-rwxrwxrwx 1 root root 5.0K Sep 25 18:09 00048_2.png\n",
      "-rwxrwxrwx 1 root root 5.8K Sep 25 18:09 00048_3.png\n",
      "-rwxrwxrwx 1 root root 3.5K Sep 25 18:09 00048_4.png\n",
      "-rwxrwxrwx 1 root root 5.1K Sep 25 18:09 00048_5.png\n",
      "-rwxrwxrwx 1 root root 4.2K Sep 25 18:09 00048_6.png\n",
      "-rwxrwxrwx 1 root root 4.4K Sep 25 18:09 00048_7.png\n",
      "-rwxrwxrwx 1 root root 5.2K Sep 25 18:09 00048_8.png\n",
      "-rwxrwxrwx 1 root root 4.9K Sep 25 18:09 00048_9.png\n",
      "-rwxrwxrwx 1 root root 5.1K Sep 25 18:09 00049_10.png\n",
      "-rwxrwxrwx 1 root root 4.4K Sep 25 18:09 00049_1.png\n",
      "-rwxrwxrwx 1 root root 5.5K Sep 25 18:09 00049_2.png\n",
      "-rwxrwxrwx 1 root root 4.6K Sep 25 18:09 00049_3.png\n",
      "-rwxrwxrwx 1 root root 3.7K Sep 25 18:09 00049_4.png\n",
      "-rwxrwxrwx 1 root root 3.9K Sep 25 18:09 00049_5.png\n",
      "-rwxrwxrwx 1 root root 4.6K Sep 25 18:09 00049_6.png\n",
      "-rwxrwxrwx 1 root root 4.3K Sep 25 18:09 00049_7.png\n",
      "-rwxrwxrwx 1 root root 5.0K Sep 25 18:09 00049_8.png\n",
      "-rwxrwxrwx 1 root root 5.2K Sep 25 18:09 00049_9.png\n",
      "-rwxrwxrwx 1 root root 5.0K Sep 25 18:09 00050_10.png\n",
      "-rwxrwxrwx 1 root root 6.6K Sep 25 18:09 00050_1.png\n",
      "-rwxrwxrwx 1 root root 6.6K Sep 25 18:09 00050_2.png\n",
      "-rwxrwxrwx 1 root root 7.1K Sep 25 18:09 00050_3.png\n",
      "-rwxrwxrwx 1 root root 6.6K Sep 25 18:09 00050_4.png\n",
      "-rwxrwxrwx 1 root root 6.6K Sep 25 18:09 00050_5.png\n",
      "-rwxrwxrwx 1 root root 6.9K Sep 25 18:09 00050_6.png\n",
      "-rwxrwxrwx 1 root root 6.6K Sep 25 18:09 00050_7.png\n",
      "-rwxrwxrwx 1 root root 5.3K Sep 25 18:09 00050_8.png\n",
      "-rwxrwxrwx 1 root root 6.5K Sep 25 18:09 00050_9.png\n",
      "-rwxrwxrwx 1 root root 4.7K Sep 25 18:09 00051_10.png\n",
      "-rwxrwxrwx 1 root root 5.5K Sep 25 18:09 00051_1.png\n",
      "-rwxrwxrwx 1 root root 3.5K Sep 25 18:09 00051_2.png\n",
      "-rwxrwxrwx 1 root root 5.8K Sep 25 18:09 00051_3.png\n",
      "-rwxrwxrwx 1 root root 3.8K Sep 25 18:09 00051_4.png\n",
      "-rwxrwxrwx 1 root root 4.6K Sep 25 18:09 00051_5.png\n",
      "-rwxrwxrwx 1 root root 4.5K Sep 25 18:09 00051_6.png\n",
      "-rwxrwxrwx 1 root root 4.6K Sep 25 18:09 00051_7.png\n",
      "-rwxrwxrwx 1 root root 4.9K Sep 25 18:09 00051_8.png\n",
      "-rwxrwxrwx 1 root root 4.5K Sep 25 18:09 00051_9.png\n",
      "-rwxrwxrwx 1 root root 4.8K Sep 25 18:09 00052_10.png\n",
      "-rwxrwxrwx 1 root root 5.0K Sep 25 18:09 00052_1.png\n",
      "-rwxrwxrwx 1 root root 4.8K Sep 25 18:09 00052_2.png\n",
      "-rwxrwxrwx 1 root root 5.5K Sep 25 18:09 00052_3.png\n",
      "-rwxrwxrwx 1 root root 5.1K Sep 25 18:09 00052_4.png\n",
      "-rwxrwxrwx 1 root root 5.5K Sep 25 18:09 00052_5.png\n",
      "-rwxrwxrwx 1 root root 6.0K Sep 25 18:09 00052_6.png\n",
      "-rwxrwxrwx 1 root root 4.0K Sep 25 18:09 00052_7.png\n",
      "-rwxrwxrwx 1 root root 4.2K Sep 25 18:09 00052_8.png\n",
      "-rwxrwxrwx 1 root root 5.7K Sep 25 18:09 00052_9.png\n",
      "-rwxrwxrwx 1 root root 6.4K Sep 25 18:09 00053_10.png\n",
      "-rwxrwxrwx 1 root root 7.7K Sep 25 18:09 00053_1.png\n",
      "-rwxrwxrwx 1 root root 6.4K Sep 25 18:09 00053_2.png\n",
      "-rwxrwxrwx 1 root root 6.5K Sep 25 18:09 00053_3.png\n",
      "-rwxrwxrwx 1 root root 6.9K Sep 25 18:09 00053_4.png\n",
      "-rwxrwxrwx 1 root root 7.1K Sep 25 18:09 00053_5.png\n",
      "-rwxrwxrwx 1 root root 7.5K Sep 25 18:09 00053_6.png\n",
      "-rwxrwxrwx 1 root root 6.2K Sep 25 18:09 00053_7.png\n",
      "-rwxrwxrwx 1 root root 6.9K Sep 25 18:09 00053_8.png\n",
      "-rwxrwxrwx 1 root root 7.1K Sep 25 18:09 00053_9.png\n",
      "-rwxrwxrwx 1 root root 2.7K Sep 25 18:09 00054_10.png\n",
      "-rwxrwxrwx 1 root root 4.3K Sep 25 18:09 00054_1.png\n",
      "-rwxrwxrwx 1 root root 3.9K Sep 25 18:09 00054_2.png\n",
      "-rwxrwxrwx 1 root root 4.2K Sep 25 18:09 00054_3.png\n",
      "-rwxrwxrwx 1 root root 3.7K Sep 25 18:09 00054_4.png\n",
      "-rwxrwxrwx 1 root root 2.8K Sep 25 18:09 00054_5.png\n",
      "-rwxrwxrwx 1 root root 3.2K Sep 25 18:09 00054_6.png\n",
      "-rwxrwxrwx 1 root root 2.8K Sep 25 18:09 00054_7.png\n",
      "-rwxrwxrwx 1 root root 2.0K Sep 25 18:09 00054_8.png\n",
      "-rwxrwxrwx 1 root root 2.4K Sep 25 18:09 00054_9.png\n",
      "-rwxrwxrwx 1 root root 4.7K Sep 25 18:09 00055_10.png\n",
      "-rwxrwxrwx 1 root root 4.7K Sep 25 18:09 00055_1.png\n",
      "-rwxrwxrwx 1 root root 4.5K Sep 25 18:09 00055_2.png\n",
      "-rwxrwxrwx 1 root root 3.2K Sep 25 18:09 00055_3.png\n",
      "-rwxrwxrwx 1 root root 3.7K Sep 25 18:09 00055_4.png\n",
      "-rwxrwxrwx 1 root root 3.5K Sep 25 18:09 00055_5.png\n",
      "-rwxrwxrwx 1 root root 4.9K Sep 25 18:09 00055_6.png\n",
      "-rwxrwxrwx 1 root root 3.4K Sep 25 18:09 00055_7.png\n",
      "-rwxrwxrwx 1 root root 3.3K Sep 25 18:09 00055_8.png\n",
      "-rwxrwxrwx 1 root root 3.9K Sep 25 18:09 00055_9.png\n",
      "-rwxrwxrwx 1 root root 4.0K Sep 25 18:09 00056_10.png\n",
      "-rwxrwxrwx 1 root root 5.8K Sep 25 18:09 00056_1.png\n",
      "-rwxrwxrwx 1 root root 4.2K Sep 25 18:09 00056_2.png\n",
      "-rwxrwxrwx 1 root root 3.9K Sep 25 18:09 00056_3.png\n",
      "-rwxrwxrwx 1 root root 4.0K Sep 25 18:09 00056_4.png\n",
      "-rwxrwxrwx 1 root root 3.9K Sep 25 18:09 00056_5.png\n",
      "-rwxrwxrwx 1 root root 4.4K Sep 25 18:09 00056_6.png\n",
      "-rwxrwxrwx 1 root root 3.4K Sep 25 18:09 00056_7.png\n",
      "-rwxrwxrwx 1 root root 4.7K Sep 25 18:09 00056_8.png\n",
      "-rwxrwxrwx 1 root root 4.3K Sep 25 18:09 00056_9.png\n",
      "-rwxrwxrwx 1 root root 6.5K Sep 25 18:09 00057_10.png\n",
      "-rwxrwxrwx 1 root root 4.9K Sep 25 18:09 00057_1.png\n",
      "-rwxrwxrwx 1 root root 5.7K Sep 25 18:09 00057_2.png\n",
      "-rwxrwxrwx 1 root root 5.9K Sep 25 18:09 00057_3.png\n",
      "-rwxrwxrwx 1 root root 5.0K Sep 25 18:09 00057_4.png\n",
      "-rwxrwxrwx 1 root root 6.1K Sep 25 18:09 00057_5.png\n",
      "-rwxrwxrwx 1 root root 5.5K Sep 25 18:09 00057_6.png\n",
      "-rwxrwxrwx 1 root root 4.3K Sep 25 18:09 00057_7.png\n",
      "-rwxrwxrwx 1 root root 5.4K Sep 25 18:09 00057_8.png\n",
      "-rwxrwxrwx 1 root root 6.0K Sep 25 18:09 00057_9.png\n"
     ]
    },
    {
     "name": "stdout",
     "output_type": "stream",
     "text": [
      "-rwxrwxrwx 1 root root 3.0K Sep 25 18:09 00058_10.png\r\n",
      "-rwxrwxrwx 1 root root 3.1K Sep 25 18:09 00058_1.png\r\n",
      "-rwxrwxrwx 1 root root 3.7K Sep 25 18:09 00058_2.png\r\n",
      "-rwxrwxrwx 1 root root 4.0K Sep 25 18:09 00058_3.png\r\n",
      "-rwxrwxrwx 1 root root 3.7K Sep 25 18:09 00058_4.png\r\n",
      "-rwxrwxrwx 1 root root 4.2K Sep 25 18:09 00058_5.png\r\n",
      "-rwxrwxrwx 1 root root 2.5K Sep 25 18:09 00058_6.png\r\n",
      "-rwxrwxrwx 1 root root 3.6K Sep 25 18:09 00058_7.png\r\n",
      "-rwxrwxrwx 1 root root 3.1K Sep 25 18:09 00058_8.png\r\n",
      "-rwxrwxrwx 1 root root 3.8K Sep 25 18:09 00058_9.png\r\n",
      "-rwxrwxrwx 1 root root 5.0K Sep 25 18:09 00059_10.png\r\n",
      "-rwxrwxrwx 1 root root 3.3K Sep 25 18:09 00059_1.png\r\n",
      "-rwxrwxrwx 1 root root 4.3K Sep 25 18:09 00059_2.png\r\n",
      "-rwxrwxrwx 1 root root 3.0K Sep 25 18:09 00059_3.png\r\n",
      "-rwxrwxrwx 1 root root 4.3K Sep 25 18:09 00059_4.png\r\n",
      "-rwxrwxrwx 1 root root 4.3K Sep 25 18:09 00059_5.png\r\n",
      "-rwxrwxrwx 1 root root 4.6K Sep 25 18:09 00059_6.png\r\n",
      "-rwxrwxrwx 1 root root 4.1K Sep 25 18:09 00059_7.png\r\n",
      "-rwxrwxrwx 1 root root 4.5K Sep 25 18:09 00059_8.png\r\n",
      "-rwxrwxrwx 1 root root 3.5K Sep 25 18:09 00059_9.png\r\n",
      "-rwxrwxrwx 1 root root 5.4K Sep 25 18:09 00060_10.png\r\n",
      "-rwxrwxrwx 1 root root 6.6K Sep 25 18:09 00060_1.png\r\n",
      "-rwxrwxrwx 1 root root 5.8K Sep 25 18:09 00060_2.png\r\n",
      "-rwxrwxrwx 1 root root 5.1K Sep 25 18:09 00060_3.png\r\n",
      "-rwxrwxrwx 1 root root 4.0K Sep 25 18:09 00060_4.png\r\n",
      "-rwxrwxrwx 1 root root 5.8K Sep 25 18:09 00060_5.png\r\n",
      "-rwxrwxrwx 1 root root 4.8K Sep 25 18:09 00060_6.png\r\n",
      "-rwxrwxrwx 1 root root 5.1K Sep 25 18:09 00060_7.png\r\n",
      "-rwxrwxrwx 1 root root 4.8K Sep 25 18:09 00060_8.png\r\n",
      "-rwxrwxrwx 1 root root 6.5K Sep 25 18:09 00060_9.png\r\n",
      "-rwxrwxrwx 1 root root 4.0K Sep 25 18:09 00061_10.png\r\n",
      "-rwxrwxrwx 1 root root 5.3K Sep 25 18:09 00061_1.png\r\n",
      "-rwxrwxrwx 1 root root 6.7K Sep 25 18:09 00061_2.png\r\n",
      "-rwxrwxrwx 1 root root 5.5K Sep 25 18:09 00061_3.png\r\n",
      "-rwxrwxrwx 1 root root 5.5K Sep 25 18:09 00061_4.png\r\n",
      "-rwxrwxrwx 1 root root 5.4K Sep 25 18:09 00061_5.png\r\n",
      "-rwxrwxrwx 1 root root 5.3K Sep 25 18:09 00061_6.png\r\n",
      "-rwxrwxrwx 1 root root 6.1K Sep 25 18:09 00061_7.png\r\n",
      "-rwxrwxrwx 1 root root 5.8K Sep 25 18:09 00061_8.png\r\n",
      "-rwxrwxrwx 1 root root 6.8K Sep 25 18:09 00061_9.png\r\n",
      "-rwxrwxrwx 1 root root 3.4K Sep 25 18:09 00062_10.png\r\n",
      "-rwxrwxrwx 1 root root 5.4K Sep 25 18:09 00062_1.png\r\n",
      "-rwxrwxrwx 1 root root 3.0K Sep 25 18:09 00062_2.png\r\n",
      "-rwxrwxrwx 1 root root 4.1K Sep 25 18:09 00062_3.png\r\n",
      "-rwxrwxrwx 1 root root 5.9K Sep 25 18:09 00062_4.png\r\n",
      "-rwxrwxrwx 1 root root 6.1K Sep 25 18:09 00062_5.png\r\n",
      "-rwxrwxrwx 1 root root 4.1K Sep 25 18:09 00062_6.png\r\n",
      "-rwxrwxrwx 1 root root 2.8K Sep 25 18:09 00062_7.png\r\n",
      "-rwxrwxrwx 1 root root 4.0K Sep 25 18:09 00062_8.png\r\n",
      "-rwxrwxrwx 1 root root 4.1K Sep 25 18:09 00062_9.png\r\n",
      "-rwxrwxrwx 1 root root 3.7K Sep 25 18:09 00063_10.png\r\n",
      "-rwxrwxrwx 1 root root 3.8K Sep 25 18:09 00063_1.png\r\n",
      "-rwxrwxrwx 1 root root 2.7K Sep 25 18:09 00063_2.png\r\n",
      "-rwxrwxrwx 1 root root 3.0K Sep 25 18:09 00063_3.png\r\n",
      "-rwxrwxrwx 1 root root 3.4K Sep 25 18:09 00063_4.png\r\n",
      "-rwxrwxrwx 1 root root 3.4K Sep 25 18:09 00063_5.png\r\n",
      "-rwxrwxrwx 1 root root 3.8K Sep 25 18:09 00063_6.png\r\n",
      "-rwxrwxrwx 1 root root 1.7K Sep 25 18:09 00063_7.png\r\n",
      "-rwxrwxrwx 1 root root 2.7K Sep 25 18:09 00063_8.png\r\n",
      "-rwxrwxrwx 1 root root 3.1K Sep 25 18:09 00063_9.png\r\n",
      "-rwxrwxrwx 1 root root 2.9K Sep 25 18:09 00064_10.png\r\n",
      "-rwxrwxrwx 1 root root 3.3K Sep 25 18:09 00064_1.png\r\n",
      "-rwxrwxrwx 1 root root 5.0K Sep 25 18:09 00064_2.png\r\n",
      "-rwxrwxrwx 1 root root 3.6K Sep 25 18:09 00064_3.png\r\n",
      "-rwxrwxrwx 1 root root 2.8K Sep 25 18:09 00064_4.png\r\n",
      "-rwxrwxrwx 1 root root 5.3K Sep 25 18:09 00064_5.png\r\n",
      "-rwxrwxrwx 1 root root 4.2K Sep 25 18:09 00064_6.png\r\n",
      "-rwxrwxrwx 1 root root 4.2K Sep 25 18:09 00064_7.png\r\n",
      "-rwxrwxrwx 1 root root 3.9K Sep 25 18:09 00064_8.png\r\n",
      "-rwxrwxrwx 1 root root 4.2K Sep 25 18:09 00064_9.png\r\n",
      "-rwxrwxrwx 1 root root 5.4K Sep 25 18:09 00065_10.png\r\n",
      "-rwxrwxrwx 1 root root 5.6K Sep 25 18:09 00065_1.png\r\n",
      "-rwxrwxrwx 1 root root 4.3K Sep 25 18:09 00065_2.png\r\n",
      "-rwxrwxrwx 1 root root 4.7K Sep 25 18:09 00065_3.png\r\n",
      "-rwxrwxrwx 1 root root 5.1K Sep 25 18:09 00065_4.png\r\n",
      "-rwxrwxrwx 1 root root 4.5K Sep 25 18:09 00065_5.png\r\n",
      "-rwxrwxrwx 1 root root 4.9K Sep 25 18:09 00065_6.png\r\n",
      "-rwxrwxrwx 1 root root 5.4K Sep 25 18:09 00065_7.png\r\n",
      "-rwxrwxrwx 1 root root 5.1K Sep 25 18:09 00065_8.png\r\n",
      "-rwxrwxrwx 1 root root 5.2K Sep 25 18:09 00065_9.png\r\n",
      "-rwxrwxrwx 1 root root 3.9K Sep 25 18:09 00066_10.png\r\n",
      "-rwxrwxrwx 1 root root 4.1K Sep 25 18:09 00066_1.png\r\n",
      "-rwxrwxrwx 1 root root 3.4K Sep 25 18:09 00066_2.png\r\n",
      "-rwxrwxrwx 1 root root 3.6K Sep 25 18:09 00066_3.png\r\n",
      "-rwxrwxrwx 1 root root 3.8K Sep 25 18:09 00066_4.png\r\n",
      "-rwxrwxrwx 1 root root 3.7K Sep 25 18:09 00066_5.png\r\n",
      "-rwxrwxrwx 1 root root 3.2K Sep 25 18:09 00066_6.png\r\n",
      "-rwxrwxrwx 1 root root 4.0K Sep 25 18:09 00066_7.png\r\n",
      "-rwxrwxrwx 1 root root 3.3K Sep 25 18:09 00066_8.png\r\n",
      "-rwxrwxrwx 1 root root 3.3K Sep 25 18:09 00066_9.png\r\n",
      "-rwxrwxrwx 1 root root 2.6K Sep 25 18:09 00067_10.png\r\n",
      "-rwxrwxrwx 1 root root 3.5K Sep 25 18:09 00067_1.png\r\n",
      "-rwxrwxrwx 1 root root 3.7K Sep 25 18:09 00067_2.png\r\n",
      "-rwxrwxrwx 1 root root 3.9K Sep 25 18:09 00067_3.png\r\n",
      "-rwxrwxrwx 1 root root 3.6K Sep 25 18:09 00067_4.png\r\n",
      "-rwxrwxrwx 1 root root 3.6K Sep 25 18:09 00067_5.png\r\n",
      "-rwxrwxrwx 1 root root 2.6K Sep 25 18:09 00067_6.png\r\n",
      "-rwxrwxrwx 1 root root 3.5K Sep 25 18:09 00067_7.png\r\n",
      "-rwxrwxrwx 1 root root 3.6K Sep 25 18:09 00067_8.png\r\n",
      "-rwxrwxrwx 1 root root 2.5K Sep 25 18:09 00067_9.png\r\n",
      "-rwxrwxrwx 1 root root 5.6K Sep 25 18:09 00068_10.png\r\n",
      "-rwxrwxrwx 1 root root 5.8K Sep 25 18:09 00068_1.png\r\n",
      "-rwxrwxrwx 1 root root 6.1K Sep 25 18:09 00068_2.png\r\n",
      "-rwxrwxrwx 1 root root 5.6K Sep 25 18:09 00068_3.png\r\n",
      "-rwxrwxrwx 1 root root 7.2K Sep 25 18:09 00068_4.png\r\n",
      "-rwxrwxrwx 1 root root 6.5K Sep 25 18:09 00068_5.png\r\n",
      "-rwxrwxrwx 1 root root 5.5K Sep 25 18:09 00068_6.png\r\n",
      "-rwxrwxrwx 1 root root 6.9K Sep 25 18:09 00068_7.png\r\n",
      "-rwxrwxrwx 1 root root 6.9K Sep 25 18:09 00068_8.png\r\n",
      "-rwxrwxrwx 1 root root 5.8K Sep 25 18:09 00068_9.png\r\n",
      "-rwxrwxrwx 1 root root 6.0K Sep 25 18:09 00069_10.png\r\n",
      "-rwxrwxrwx 1 root root 6.5K Sep 25 18:09 00069_1.png\r\n",
      "-rwxrwxrwx 1 root root 6.1K Sep 25 18:09 00069_2.png\r\n",
      "-rwxrwxrwx 1 root root 6.0K Sep 25 18:09 00069_3.png\r\n",
      "-rwxrwxrwx 1 root root 5.8K Sep 25 18:09 00069_4.png\r\n",
      "-rwxrwxrwx 1 root root 6.8K Sep 25 18:09 00069_5.png\r\n",
      "-rwxrwxrwx 1 root root 4.7K Sep 25 18:09 00069_6.png\r\n",
      "-rwxrwxrwx 1 root root 5.1K Sep 25 18:09 00069_7.png\r\n",
      "-rwxrwxrwx 1 root root 5.7K Sep 25 18:09 00069_8.png\r\n",
      "-rwxrwxrwx 1 root root 6.7K Sep 25 18:09 00069_9.png\r\n",
      "-rwxrwxrwx 1 root root 3.4K Sep 25 18:09 00070_10.png\r\n",
      "-rwxrwxrwx 1 root root 4.6K Sep 25 18:09 00070_1.png\r\n",
      "-rwxrwxrwx 1 root root 4.3K Sep 25 18:09 00070_2.png\r\n",
      "-rwxrwxrwx 1 root root 3.6K Sep 25 18:09 00070_3.png\r\n",
      "-rwxrwxrwx 1 root root 3.4K Sep 25 18:09 00070_4.png\r\n",
      "-rwxrwxrwx 1 root root 2.8K Sep 25 18:09 00070_5.png\r\n",
      "-rwxrwxrwx 1 root root 2.8K Sep 25 18:09 00070_6.png\r\n",
      "-rwxrwxrwx 1 root root 3.6K Sep 25 18:09 00070_7.png\r\n",
      "-rwxrwxrwx 1 root root 3.9K Sep 25 18:09 00070_8.png\r\n",
      "-rwxrwxrwx 1 root root 3.9K Sep 25 18:09 00070_9.png\r\n",
      "-rwxrwxrwx 1 root root 3.6K Sep 25 18:09 00071_10.png\r\n",
      "-rwxrwxrwx 1 root root 4.5K Sep 25 18:09 00071_1.png\r\n",
      "-rwxrwxrwx 1 root root 2.8K Sep 25 18:09 00071_2.png\r\n",
      "-rwxrwxrwx 1 root root 4.1K Sep 25 18:09 00071_3.png\r\n",
      "-rwxrwxrwx 1 root root 4.8K Sep 25 18:09 00071_4.png\r\n",
      "-rwxrwxrwx 1 root root 3.8K Sep 25 18:09 00071_5.png\r\n",
      "-rwxrwxrwx 1 root root 4.0K Sep 25 18:09 00071_6.png\r\n",
      "-rwxrwxrwx 1 root root 4.1K Sep 25 18:09 00071_7.png\r\n",
      "-rwxrwxrwx 1 root root 4.2K Sep 25 18:09 00071_8.png\r\n",
      "-rwxrwxrwx 1 root root 4.0K Sep 25 18:09 00071_9.png\r\n",
      "-rwxrwxrwx 1 root root 2.7K Sep 25 18:09 00072_10.png\r\n",
      "-rwxrwxrwx 1 root root 2.7K Sep 25 18:09 00072_1.png\r\n",
      "-rwxrwxrwx 1 root root 2.9K Sep 25 18:09 00072_2.png\r\n",
      "-rwxrwxrwx 1 root root 3.0K Sep 25 18:09 00072_3.png\r\n",
      "-rwxrwxrwx 1 root root 2.8K Sep 25 18:09 00072_4.png\r\n",
      "-rwxrwxrwx 1 root root 3.5K Sep 25 18:09 00072_5.png\r\n",
      "-rwxrwxrwx 1 root root 2.1K Sep 25 18:09 00072_6.png\r\n",
      "-rwxrwxrwx 1 root root 2.6K Sep 25 18:09 00072_7.png\r\n",
      "-rwxrwxrwx 1 root root 3.3K Sep 25 18:09 00072_8.png\r\n",
      "-rwxrwxrwx 1 root root 3.1K Sep 25 18:09 00072_9.png\r\n",
      "-rwxrwxrwx 1 root root 4.8K Sep 25 18:09 00073_10.png\r\n",
      "-rwxrwxrwx 1 root root 5.6K Sep 25 18:09 00073_1.png\r\n",
      "-rwxrwxrwx 1 root root 6.8K Sep 25 18:09 00073_2.png\r\n",
      "-rwxrwxrwx 1 root root 3.0K Sep 25 18:09 00073_3.png\r\n",
      "-rwxrwxrwx 1 root root 4.6K Sep 25 18:09 00073_4.png\r\n",
      "-rwxrwxrwx 1 root root 5.4K Sep 25 18:09 00073_5.png\r\n",
      "-rwxrwxrwx 1 root root 6.4K Sep 25 18:09 00073_6.png\r\n",
      "-rwxrwxrwx 1 root root 5.9K Sep 25 18:09 00073_7.png\r\n",
      "-rwxrwxrwx 1 root root 4.8K Sep 25 18:09 00073_8.png\r\n",
      "-rwxrwxrwx 1 root root 4.7K Sep 25 18:09 00073_9.png\r\n",
      "-rwxrwxrwx 1 root root 6.0K Sep 25 18:09 00074_10.png\r\n",
      "-rwxrwxrwx 1 root root 4.4K Sep 25 18:09 00074_1.png\r\n",
      "-rwxrwxrwx 1 root root 5.5K Sep 25 18:09 00074_2.png\r\n",
      "-rwxrwxrwx 1 root root 5.8K Sep 25 18:09 00074_3.png\r\n",
      "-rwxrwxrwx 1 root root 5.8K Sep 25 18:09 00074_4.png\r\n",
      "-rwxrwxrwx 1 root root 4.8K Sep 25 18:09 00074_5.png\r\n",
      "-rwxrwxrwx 1 root root 6.2K Sep 25 18:09 00074_6.png\r\n",
      "-rwxrwxrwx 1 root root 4.7K Sep 25 18:09 00074_7.png\r\n",
      "-rwxrwxrwx 1 root root 5.1K Sep 25 18:09 00074_8.png\r\n",
      "-rwxrwxrwx 1 root root 6.3K Sep 25 18:09 00074_9.png\r\n",
      "-rwxrwxrwx 1 root root 7.2K Sep 25 18:09 00075_10.png\r\n",
      "-rwxrwxrwx 1 root root 7.4K Sep 25 18:09 00075_1.png\r\n",
      "-rwxrwxrwx 1 root root 5.7K Sep 25 18:09 00075_2.png\r\n",
      "-rwxrwxrwx 1 root root 8.0K Sep 25 18:09 00075_3.png\r\n",
      "-rwxrwxrwx 1 root root 7.8K Sep 25 18:09 00075_4.png\r\n",
      "-rwxrwxrwx 1 root root 5.5K Sep 25 18:09 00075_5.png\r\n",
      "-rwxrwxrwx 1 root root 7.5K Sep 25 18:09 00075_6.png\r\n",
      "-rwxrwxrwx 1 root root 6.6K Sep 25 18:09 00075_7.png\r\n",
      "-rwxrwxrwx 1 root root 7.7K Sep 25 18:09 00075_8.png\r\n",
      "-rwxrwxrwx 1 root root 7.3K Sep 25 18:09 00075_9.png\r\n",
      "-rwxrwxrwx 1 root root 6.6K Sep 25 18:09 00076_10.png\r\n",
      "-rwxrwxrwx 1 root root 6.3K Sep 25 18:09 00076_1.png\r\n",
      "-rwxrwxrwx 1 root root 8.0K Sep 25 18:09 00076_2.png\r\n",
      "-rwxrwxrwx 1 root root 7.1K Sep 25 18:09 00076_3.png\r\n",
      "-rwxrwxrwx 1 root root 7.8K Sep 25 18:09 00076_4.png\r\n",
      "-rwxrwxrwx 1 root root 7.3K Sep 25 18:09 00076_5.png\r\n",
      "-rwxrwxrwx 1 root root 6.5K Sep 25 18:09 00076_6.png\r\n",
      "-rwxrwxrwx 1 root root 7.1K Sep 25 18:09 00076_7.png\r\n",
      "-rwxrwxrwx 1 root root 6.3K Sep 25 18:09 00076_8.png\r\n",
      "-rwxrwxrwx 1 root root 6.9K Sep 25 18:09 00076_9.png\r\n",
      "-rwxrwxrwx 1 root root 5.4K Sep 25 18:09 00077_10.png\r\n",
      "-rwxrwxrwx 1 root root 3.2K Sep 25 18:09 00077_1.png\r\n",
      "-rwxrwxrwx 1 root root 3.2K Sep 25 18:09 00077_2.png\r\n",
      "-rwxrwxrwx 1 root root 4.4K Sep 25 18:09 00077_3.png\r\n",
      "-rwxrwxrwx 1 root root 4.1K Sep 25 18:09 00077_4.png\r\n",
      "-rwxrwxrwx 1 root root 5.6K Sep 25 18:09 00077_5.png\r\n",
      "-rwxrwxrwx 1 root root 4.6K Sep 25 18:09 00077_6.png\r\n",
      "-rwxrwxrwx 1 root root 4.6K Sep 25 18:09 00077_7.png\r\n",
      "-rwxrwxrwx 1 root root 3.6K Sep 25 18:09 00077_8.png\r\n",
      "-rwxrwxrwx 1 root root 3.6K Sep 25 18:09 00077_9.png\r\n",
      "-rwxrwxrwx 1 root root 6.6K Sep 25 18:09 00078_10.png\r\n",
      "-rwxrwxrwx 1 root root 7.2K Sep 25 18:09 00078_1.png\r\n",
      "-rwxrwxrwx 1 root root 7.1K Sep 25 18:09 00078_2.png\r\n",
      "-rwxrwxrwx 1 root root 6.6K Sep 25 18:09 00078_3.png\r\n",
      "-rwxrwxrwx 1 root root 6.7K Sep 25 18:09 00078_4.png\r\n",
      "-rwxrwxrwx 1 root root 6.5K Sep 25 18:09 00078_5.png\r\n",
      "-rwxrwxrwx 1 root root 6.7K Sep 25 18:09 00078_6.png\r\n",
      "-rwxrwxrwx 1 root root 5.7K Sep 25 18:09 00078_7.png\r\n",
      "-rwxrwxrwx 1 root root 6.9K Sep 25 18:09 00078_8.png\r\n",
      "-rwxrwxrwx 1 root root 5.6K Sep 25 18:09 00078_9.png\r\n"
     ]
    }
   ],
   "source": [
    "!ls -lh augmented-signs/0"
   ]
  },
  {
   "cell_type": "code",
   "execution_count": 21,
   "metadata": {
    "collapsed": true
   },
   "outputs": [],
   "source": [
    "!rm augmented-signs.zip\n",
    "!zip -r augmented-signs.zip augmented-signs >/dev/null"
   ]
  },
  {
   "cell_type": "code",
   "execution_count": 22,
   "metadata": {},
   "outputs": [
    {
     "name": "stdout",
     "output_type": "stream",
     "text": [
      "total 9.5G\r\n",
      "drwxrwxrwx 0 root root  512 Aug 30 13:16 augmented-signs\r\n",
      "-rwxrwxrwx 1 root root  17M Aug 30 13:16 augmented-signs.zip\r\n",
      "-rwxrwxrwx 1 root root  12K Aug 30 13:15 cnn-augmention.ipynb\r\n",
      "-rwxrwxrwx 1 root root  32K Aug 30 10:01 CNN-Full.ipynb\r\n",
      "-rwxrwxrwx 1 root root 121K Aug 30 10:01 CNN.ipynb\r\n",
      "-rwxrwxrwx 1 root root 110K Aug 30 10:01 CNN-Mixed.ipynb\r\n",
      "-rwxrwxrwx 1 root root  98K Aug 30 10:01 CNN-Original.ipynb\r\n",
      "-rwxrwxrwx 1 root root  25K Aug 30 13:15 cnn-train-augmented.ipynb\r\n",
      "drwxrwxrwx 0 root root  512 Aug 30 13:15 generated\r\n",
      "drwxrwxrwx 0 root root  512 Aug 30 10:27 __MACOSX\r\n",
      "-rwxrwxrwx 1 root root   36 Aug  3 21:15 sample_iris.json\r\n",
      "drwxrwxrwx 0 root root  512 Aug 30 13:15 speed-limit-signs\r\n",
      "-rwxrwxrwx 1 root root 1.8M Aug 30 13:15 speed-limit-signs.zip\r\n"
     ]
    }
   ],
   "source": [
    "!ls -lh"
   ]
  },
  {
   "cell_type": "code",
   "execution_count": 23,
   "metadata": {},
   "outputs": [
    {
     "name": "stdout",
     "output_type": "stream",
     "text": [
      "https://transfer.sh/1dtQq/augmented-signs.zip"
     ]
    }
   ],
   "source": [
    "!curl --upload-file augmented-signs.zip https://transfer.sh/augmented-signs.zip"
   ]
  },
  {
   "cell_type": "code",
   "execution_count": null,
   "metadata": {
    "collapsed": true
   },
   "outputs": [],
   "source": []
  }
 ],
 "metadata": {
  "kernelspec": {
   "display_name": "Python 3",
   "language": "python",
   "name": "python3"
  },
  "language_info": {
   "codemirror_mode": {
    "name": "ipython",
    "version": 3
   },
   "file_extension": ".py",
   "mimetype": "text/x-python",
   "name": "python",
   "nbconvert_exporter": "python",
   "pygments_lexer": "ipython3",
   "version": "3.6.2"
  }
 },
 "nbformat": 4,
 "nbformat_minor": 1
}
