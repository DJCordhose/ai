{
 "cells": [
  {
   "cell_type": "markdown",
   "metadata": {},
   "source": [
    "# Generating Sample Data from Distributions\n",
    "Then treating data as if they were samples of real data"
   ]
  },
  {
   "cell_type": "code",
   "execution_count": 1,
   "metadata": {
    "collapsed": true
   },
   "outputs": [],
   "source": [
    "import warnings\n",
    "warnings.filterwarnings('ignore')"
   ]
  },
  {
   "cell_type": "code",
   "execution_count": 2,
   "metadata": {},
   "outputs": [
    {
     "name": "stdout",
     "output_type": "stream",
     "text": [
      "Populating the interactive namespace from numpy and matplotlib\n"
     ]
    }
   ],
   "source": [
    "%matplotlib inline\n",
    "%pylab inline"
   ]
  },
  {
   "cell_type": "code",
   "execution_count": 3,
   "metadata": {},
   "outputs": [
    {
     "name": "stdout",
     "output_type": "stream",
     "text": [
      "0.20.3\n"
     ]
    }
   ],
   "source": [
    "import pandas as pd\n",
    "print(pd.__version__)"
   ]
  },
  {
   "cell_type": "markdown",
   "metadata": {},
   "source": [
    "# Plot randomly generated classification dataset\n",
    "\n",
    "http://scikit-learn.org/stable/auto_examples/datasets/plot_random_dataset.html\n",
    "\n",
    "http://scikit-learn.org/stable/datasets/index.html#sample-generators\n",
    "\n",
    "http://scikit-learn.org/stable/modules/generated/sklearn.datasets.make_classification.html\n",
    "\n",
    "Plot several randomly generated 2D classification datasets.\n",
    "This example illustrates the :func:`datasets.make_classification`\n",
    ":func:`datasets.make_blobs` and :func:`datasets.make_gaussian_quantiles`\n",
    "functions.\n",
    "\n",
    "For ``make_classification``, three binary and two multi-class classification\n",
    "datasets are generated, with different numbers of informative features and\n",
    "clusters per class.  \n"
   ]
  },
  {
   "cell_type": "code",
   "execution_count": 4,
   "metadata": {
    "collapsed": true
   },
   "outputs": [],
   "source": [
    "import numpy as np\n",
    "\n",
    "from sklearn.datasets import make_classification\n",
    "from sklearn.datasets import make_blobs\n",
    "\n",
    "# http://scikit-learn.org/stable/modules/generated/sklearn.datasets.make_blobs.html#sklearn.datasets.make_blobs\n",
    "\n",
    "# https://www.welt.de/motor/news/article156991316/Unfallstatistik-2015.html\n",
    "# http://www.openculture.com/2017/12/why-incompetent-people-think-theyre-amazing.html\n",
    "# 0: young drivers with fast cars: red\n",
    "# 1: reasonable drivers: green\n",
    "# 2: a little bit older, more kilometers, general noise: yellow\n",
    "# 3: really old drivers: red\n",
    "# 4: young drivers: red\n",
    "# 5: another green just to have a counter part to all the red ones: green\n",
    "# 6: people who do not drive a lot: green\n",
    "# 7: people who drive a lot: yellow\n",
    "# 8: young people with slow cars: yellow\n",
    "\n",
    "centers = [(200, 35, 50), (160, 50, 25), (170, 55, 30), (170, 75, 20), (170, 30, 30), (190, 45, 40), (160, 40, 15), (180, 50, 45), (140, 25, 15)]\n",
    "cluster_std = [4, 9, 18, 8, 9, 5, 8, 12, 5]\n",
    "\n",
    "# X, y = make_blobs(n_samples=300, n_features=3, centers=centers, random_state=13, cluster_std = cluster_std)\n",
    "# X, y = make_blobs(n_samples=300, n_features=3, centers=centers, random_state=42, cluster_std = cluster_std)\n",
    "X, y = make_blobs(n_samples=1500, n_features=3, centers=centers, random_state=42, cluster_std = cluster_std)\n",
    "\n",
    "# http://scikit-learn.org/stable/modules/generated/sklearn.datasets.make_classification.html\n",
    "# X, y = make_classification(n_features=3, n_redundant=0, n_informative=3,\n",
    "#                              n_clusters_per_class=2, n_classes=3, random_state=42)\n",
    "\n",
    "feature_names = ['max speed', 'age' ,'thousand km per year']\n",
    "df = pd.DataFrame(X, columns=feature_names)\n",
    "df = df.round()\n",
    "# https://pandas.pydata.org/pandas-docs/stable/generated/pandas.Series.clip.html\n",
    "\n",
    "df['max speed'] = df['max speed'].clip(90,400)\n",
    "df['age'] = df['age'].clip(18,90)\n",
    "df['thousand km per year'] = df['thousand km per year'].clip(5,500)\n",
    "\n",
    "# merges clusters into one group\n",
    "for group in np.nditer(y, op_flags=['readwrite']):\n",
    "    if group == 3 or group == 4:\n",
    "        group[...] = 0\n",
    "    if group == 5 or group == 6:\n",
    "        group[...] = 1\n",
    "    if group == 7 or group == 8:\n",
    "        group[...] = 2"
   ]
  },
  {
   "cell_type": "code",
   "execution_count": 5,
   "metadata": {
    "collapsed": true
   },
   "outputs": [],
   "source": [
    "df['group'] = y"
   ]
  },
  {
   "cell_type": "code",
   "execution_count": 6,
   "metadata": {},
   "outputs": [
    {
     "data": {
      "text/html": [
       "<div>\n",
       "<style>\n",
       "    .dataframe thead tr:only-child th {\n",
       "        text-align: right;\n",
       "    }\n",
       "\n",
       "    .dataframe thead th {\n",
       "        text-align: left;\n",
       "    }\n",
       "\n",
       "    .dataframe tbody tr th {\n",
       "        vertical-align: top;\n",
       "    }\n",
       "</style>\n",
       "<table border=\"1\" class=\"dataframe\">\n",
       "  <thead>\n",
       "    <tr style=\"text-align: right;\">\n",
       "      <th></th>\n",
       "      <th>max speed</th>\n",
       "      <th>age</th>\n",
       "      <th>thousand km per year</th>\n",
       "      <th>group</th>\n",
       "    </tr>\n",
       "  </thead>\n",
       "  <tbody>\n",
       "    <tr>\n",
       "      <th>count</th>\n",
       "      <td>1500.000000</td>\n",
       "      <td>1500.000000</td>\n",
       "      <td>1500.000000</td>\n",
       "      <td>1500.000000</td>\n",
       "    </tr>\n",
       "    <tr>\n",
       "      <th>mean</th>\n",
       "      <td>171.386000</td>\n",
       "      <td>44.969333</td>\n",
       "      <td>30.511333</td>\n",
       "      <td>0.998667</td>\n",
       "    </tr>\n",
       "    <tr>\n",
       "      <th>std</th>\n",
       "      <td>19.269126</td>\n",
       "      <td>16.935040</td>\n",
       "      <td>15.112317</td>\n",
       "      <td>0.816768</td>\n",
       "    </tr>\n",
       "    <tr>\n",
       "      <th>min</th>\n",
       "      <td>118.000000</td>\n",
       "      <td>18.000000</td>\n",
       "      <td>5.000000</td>\n",
       "      <td>0.000000</td>\n",
       "    </tr>\n",
       "    <tr>\n",
       "      <th>25%</th>\n",
       "      <td>158.000000</td>\n",
       "      <td>32.000000</td>\n",
       "      <td>18.000000</td>\n",
       "      <td>0.000000</td>\n",
       "    </tr>\n",
       "    <tr>\n",
       "      <th>50%</th>\n",
       "      <td>170.000000</td>\n",
       "      <td>42.000000</td>\n",
       "      <td>29.000000</td>\n",
       "      <td>1.000000</td>\n",
       "    </tr>\n",
       "    <tr>\n",
       "      <th>75%</th>\n",
       "      <td>187.000000</td>\n",
       "      <td>55.000000</td>\n",
       "      <td>42.000000</td>\n",
       "      <td>2.000000</td>\n",
       "    </tr>\n",
       "    <tr>\n",
       "      <th>max</th>\n",
       "      <td>216.000000</td>\n",
       "      <td>90.000000</td>\n",
       "      <td>84.000000</td>\n",
       "      <td>2.000000</td>\n",
       "    </tr>\n",
       "  </tbody>\n",
       "</table>\n",
       "</div>"
      ],
      "text/plain": [
       "         max speed          age  thousand km per year        group\n",
       "count  1500.000000  1500.000000           1500.000000  1500.000000\n",
       "mean    171.386000    44.969333             30.511333     0.998667\n",
       "std      19.269126    16.935040             15.112317     0.816768\n",
       "min     118.000000    18.000000              5.000000     0.000000\n",
       "25%     158.000000    32.000000             18.000000     0.000000\n",
       "50%     170.000000    42.000000             29.000000     1.000000\n",
       "75%     187.000000    55.000000             42.000000     2.000000\n",
       "max     216.000000    90.000000             84.000000     2.000000"
      ]
     },
     "execution_count": 6,
     "metadata": {},
     "output_type": "execute_result"
    }
   ],
   "source": [
    "df.describe()"
   ]
  },
  {
   "cell_type": "code",
   "execution_count": 7,
   "metadata": {
    "collapsed": true
   },
   "outputs": [],
   "source": [
    "# df.to_csv('./insurance-customers-300-2.csv', sep=';', index=False)\n",
    "# df.to_csv('./insurance-customers-300.csv', sep=';', index=False)\n",
    "df.to_csv('./insurance-customers-1500.csv', sep=';', index=False)"
   ]
  },
  {
   "cell_type": "code",
   "execution_count": null,
   "metadata": {
    "collapsed": true
   },
   "outputs": [],
   "source": []
  }
 ],
 "metadata": {
  "kernelspec": {
   "display_name": "Python 3",
   "language": "python",
   "name": "python3"
  },
  "language_info": {
   "codemirror_mode": {
    "name": "ipython",
    "version": 3
   },
   "file_extension": ".py",
   "mimetype": "text/x-python",
   "name": "python",
   "nbconvert_exporter": "python",
   "pygments_lexer": "ipython3",
   "version": "3.6.3"
  }
 },
 "nbformat": 4,
 "nbformat_minor": 1
}
