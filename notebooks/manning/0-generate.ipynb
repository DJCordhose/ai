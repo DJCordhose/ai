{
 "cells": [
  {
   "cell_type": "markdown",
   "metadata": {},
   "source": [
    "# Generating Sample Data from Distributions\n",
    "Then treating data as if they were samples of real data"
   ]
  },
  {
   "cell_type": "code",
   "execution_count": 1,
   "metadata": {},
   "outputs": [],
   "source": [
    "import warnings\n",
    "warnings.filterwarnings('ignore')"
   ]
  },
  {
   "cell_type": "code",
   "execution_count": 2,
   "metadata": {},
   "outputs": [
    {
     "name": "stdout",
     "output_type": "stream",
     "text": [
      "Populating the interactive namespace from numpy and matplotlib\n"
     ]
    }
   ],
   "source": [
    "%matplotlib inline\n",
    "%pylab inline"
   ]
  },
  {
   "cell_type": "code",
   "execution_count": 3,
   "metadata": {},
   "outputs": [
    {
     "name": "stdout",
     "output_type": "stream",
     "text": [
      "0.23.4\n"
     ]
    }
   ],
   "source": [
    "import pandas as pd\n",
    "print(pd.__version__)"
   ]
  },
  {
   "cell_type": "markdown",
   "metadata": {},
   "source": [
    "# Plot randomly generated classification dataset\n",
    "\n",
    "http://scikit-learn.org/stable/auto_examples/datasets/plot_random_dataset.html\n",
    "\n",
    "http://scikit-learn.org/stable/datasets/index.html#sample-generators\n",
    "\n",
    "http://scikit-learn.org/stable/modules/generated/sklearn.datasets.make_classification.html\n",
    "\n",
    "Plot several randomly generated 2D classification datasets.\n",
    "This example illustrates the :func:`datasets.make_classification`\n",
    ":func:`datasets.make_blobs` and :func:`datasets.make_gaussian_quantiles`\n",
    "functions.\n",
    "\n",
    "For ``make_classification``, three binary and two multi-class classification\n",
    "datasets are generated, with different numbers of informative features and\n",
    "clusters per class.  \n"
   ]
  },
  {
   "cell_type": "code",
   "execution_count": 12,
   "metadata": {},
   "outputs": [],
   "source": [
    "import numpy as np\n",
    "\n",
    "from sklearn.datasets import make_classification\n",
    "from sklearn.datasets import make_blobs\n",
    "\n",
    "# http://scikit-learn.org/stable/modules/generated/sklearn.datasets.make_blobs.html#sklearn.datasets.make_blobs\n",
    "\n",
    "# https://www.welt.de/motor/news/article156991316/Unfallstatistik-2015.html\n",
    "# http://www.openculture.com/2017/12/why-incompetent-people-think-theyre-amazing.html\n",
    "# 0: young drivers with fast cars: red\n",
    "# 1: reasonable drivers: green\n",
    "# 2: a little bit older, more kilometers, general noise: yellow\n",
    "# 3: really old drivers: red\n",
    "# 4: young drivers: red\n",
    "# 5: another green just to have a counter part to all the red ones: green\n",
    "# 6: people who do not drive a lot: green\n",
    "# 7: people who drive a lot: yellow\n",
    "# 8: young people with slow cars: yellow\n",
    "\n",
    "centers = [(150, 35, 50), (110, 50, 25), (120, 55, 30), (120, 75, 20), (120, 30, 30), \n",
    "           (140, 45, 40), (110, 40, 15), (130, 50, 45), (100, 25, 15)]\n",
    "cluster_std = [4, 9, 18, 8, 9, 5, 8, 12, 5]\n",
    "\n",
    "# X, y = make_blobs(n_samples=300, n_features=3, centers=centers, random_state=13, cluster_std = cluster_std)\n",
    "# X, y = make_blobs(n_samples=300, n_features=3, centers=centers, random_state=42, cluster_std = cluster_std)\n",
    "X, y = make_blobs(n_samples=1500, n_features=3, centers=centers, random_state=42, cluster_std = cluster_std)\n",
    "\n",
    "# http://scikit-learn.org/stable/modules/generated/sklearn.datasets.make_classification.html\n",
    "# X, y = make_classification(n_features=3, n_redundant=0, n_informative=3,\n",
    "#                              n_clusters_per_class=2, n_classes=3, random_state=42)\n",
    "\n",
    "feature_names = ['speed', 'age' ,'miles']\n",
    "df = pd.DataFrame(X, columns=feature_names)\n",
    "df = df.round()\n",
    "# https://pandas.pydata.org/pandas-docs/stable/generated/pandas.Series.clip.html\n",
    "\n",
    "df['speed'] = df['speed'].clip(60,200)\n",
    "df['age'] = df['age'].clip(16,100)\n",
    "df['miles'] = df['miles'].clip(1,500)\n",
    "\n",
    "# merges clusters into one group\n",
    "for group in np.nditer(y, op_flags=['readwrite']):\n",
    "    if group == 3 or group == 4:\n",
    "        group[...] = 0\n",
    "    if group == 5 or group == 6:\n",
    "        group[...] = 1\n",
    "    if group == 7 or group == 8:\n",
    "        group[...] = 2"
   ]
  },
  {
   "cell_type": "code",
   "execution_count": 13,
   "metadata": {},
   "outputs": [],
   "source": [
    "df['group'] = y"
   ]
  },
  {
   "cell_type": "code",
   "execution_count": 14,
   "metadata": {},
   "outputs": [
    {
     "data": {
      "text/html": [
       "<div>\n",
       "<style scoped>\n",
       "    .dataframe tbody tr th:only-of-type {\n",
       "        vertical-align: middle;\n",
       "    }\n",
       "\n",
       "    .dataframe tbody tr th {\n",
       "        vertical-align: top;\n",
       "    }\n",
       "\n",
       "    .dataframe thead th {\n",
       "        text-align: right;\n",
       "    }\n",
       "</style>\n",
       "<table border=\"1\" class=\"dataframe\">\n",
       "  <thead>\n",
       "    <tr style=\"text-align: right;\">\n",
       "      <th></th>\n",
       "      <th>speed</th>\n",
       "      <th>age</th>\n",
       "      <th>miles</th>\n",
       "      <th>group</th>\n",
       "    </tr>\n",
       "  </thead>\n",
       "  <tbody>\n",
       "    <tr>\n",
       "      <th>count</th>\n",
       "      <td>1500.000000</td>\n",
       "      <td>1500.000000</td>\n",
       "      <td>1500.000000</td>\n",
       "      <td>1500.000000</td>\n",
       "    </tr>\n",
       "    <tr>\n",
       "      <th>mean</th>\n",
       "      <td>122.492667</td>\n",
       "      <td>44.980667</td>\n",
       "      <td>30.434000</td>\n",
       "      <td>0.998667</td>\n",
       "    </tr>\n",
       "    <tr>\n",
       "      <th>std</th>\n",
       "      <td>17.604333</td>\n",
       "      <td>17.130400</td>\n",
       "      <td>15.250815</td>\n",
       "      <td>0.816768</td>\n",
       "    </tr>\n",
       "    <tr>\n",
       "      <th>min</th>\n",
       "      <td>68.000000</td>\n",
       "      <td>16.000000</td>\n",
       "      <td>1.000000</td>\n",
       "      <td>0.000000</td>\n",
       "    </tr>\n",
       "    <tr>\n",
       "      <th>25%</th>\n",
       "      <td>108.000000</td>\n",
       "      <td>32.000000</td>\n",
       "      <td>18.000000</td>\n",
       "      <td>0.000000</td>\n",
       "    </tr>\n",
       "    <tr>\n",
       "      <th>50%</th>\n",
       "      <td>120.000000</td>\n",
       "      <td>42.000000</td>\n",
       "      <td>29.000000</td>\n",
       "      <td>1.000000</td>\n",
       "    </tr>\n",
       "    <tr>\n",
       "      <th>75%</th>\n",
       "      <td>137.000000</td>\n",
       "      <td>55.000000</td>\n",
       "      <td>42.000000</td>\n",
       "      <td>2.000000</td>\n",
       "    </tr>\n",
       "    <tr>\n",
       "      <th>max</th>\n",
       "      <td>166.000000</td>\n",
       "      <td>100.000000</td>\n",
       "      <td>84.000000</td>\n",
       "      <td>2.000000</td>\n",
       "    </tr>\n",
       "  </tbody>\n",
       "</table>\n",
       "</div>"
      ],
      "text/plain": [
       "             speed          age        miles        group\n",
       "count  1500.000000  1500.000000  1500.000000  1500.000000\n",
       "mean    122.492667    44.980667    30.434000     0.998667\n",
       "std      17.604333    17.130400    15.250815     0.816768\n",
       "min      68.000000    16.000000     1.000000     0.000000\n",
       "25%     108.000000    32.000000    18.000000     0.000000\n",
       "50%     120.000000    42.000000    29.000000     1.000000\n",
       "75%     137.000000    55.000000    42.000000     2.000000\n",
       "max     166.000000   100.000000    84.000000     2.000000"
      ]
     },
     "execution_count": 14,
     "metadata": {},
     "output_type": "execute_result"
    }
   ],
   "source": [
    "df.describe()"
   ]
  },
  {
   "cell_type": "code",
   "execution_count": 16,
   "metadata": {},
   "outputs": [],
   "source": [
    "# df.to_csv('./insurance-customers-300-2.csv', sep=';', index=False)\n",
    "# df.to_csv('./insurance-customers-300.csv', sep=';', index=False)\n",
    "df.to_csv('./insurance-customers-1500.csv', sep=';', index=False)"
   ]
  },
  {
   "cell_type": "code",
   "execution_count": 22,
   "metadata": {},
   "outputs": [
    {
     "name": "stderr",
     "output_type": "stream",
     "text": [
      "  % Total    % Received % Xferd  Average Speed   Time    Time     Time  Current\n",
      "                                 Dload  Upload   Total   Spent    Left  Speed\n",
      "\n",
      "  0     0    0     0    0     0      0      0 --:--:-- --:--:-- --:--:--     0\n",
      "100  5376  100  5376    0     0  19131      0 --:--:-- --:--:-- --:--:-- 19131\n"
     ]
    }
   ],
   "source": [
    "# check\n",
    "# !curl -O https://raw.githubusercontent.com/DJCordhose/data-viz/master/data/insurance-customers-1500.csv\n",
    "!curl -O https://raw.githubusercontent.com/DJCordhose/data-viz/master/data/insurance-customers-300.csv    "
   ]
  },
  {
   "cell_type": "code",
   "execution_count": 23,
   "metadata": {},
   "outputs": [
    {
     "name": "stdout",
     "output_type": "stream",
     "text": [
      "total 6901\n",
      "-rw-r--r-- 1 olive 197609   15401 Sep 23 09:23 0-generate.ipynb\n",
      "drwxr-xr-x 1 olive 197609       0 Sep 23 09:01 data\n",
      "drwxr-xr-x 1 olive 197609       0 Aug  8 12:01 figures\n",
      "-rw-r--r-- 1 olive 197609  179704 Aug 14 13:23 insurance.hdf5\n",
      "-rw-r--r-- 1 olive 197609   26783 Sep 23 09:22 insurance-customers-1500.csv\n",
      "-rw-r--r-- 1 olive 197609    5376 Sep 23 09:24 insurance-customers-300.csv\n",
      "-rw-r--r-- 1 olive 197609  179704 Aug 13 19:06 insurance-simple.hdf5\n",
      "drwxr-xr-x 1 olive 197609       0 Aug 13 18:59 model\n",
      "-rw-r--r-- 1 olive 197609    5484 Aug 14 13:28 production preparation.ipynb\n",
      "-rw-r--r-- 1 olive 197609      88 Aug  9 17:14 sample_insurance.json\n",
      "drwxr-xr-x 1 olive 197609       0 Aug 14 13:27 tf\n",
      "drwxr-xr-x 1 olive 197609       0 Aug 14 09:36 tfjs\n",
      "-rw-r--r-- 1 olive 197609  634721 Aug 16 11:37 U3-M1-example.ipynb\n",
      "-rw-r--r-- 1 olive 197609 3620457 Aug  9 10:31 U3-M2-nn-intro.ipynb\n",
      "-rw-r--r-- 1 olive 197609 2002487 Aug  9 12:14 U3-M3-nn-no-bullshit.ipynb\n",
      "-rw-r--r-- 1 olive 197609  338311 Aug 14 09:39 U3-M3-nn-simplified.ipynb\n",
      "-rw-r--r-- 1 olive 197609    8054 Sep 12 10:25 U4-M1-Preparing TensorFlow models.ipynb\n",
      "-rw-r--r-- 1 olive 197609   19871 Aug 14 12:26 U4-M2-Serving TensorFlow models.ipynb\n",
      "-rw-r--r-- 1 olive 197609    9641 Aug 14 09:39 U4-M3-Deploying to the Browser using TensorFlow.js.ipynb\n"
     ]
    }
   ],
   "source": [
    "!ls -l"
   ]
  },
  {
   "cell_type": "code",
   "execution_count": 24,
   "metadata": {},
   "outputs": [],
   "source": [
    "customers = pd.read_csv('./insurance-customers-300.csv', sep=';')\n",
    "# customers = pd.read_csv('./insurance-customers-1500.csv', sep=';')"
   ]
  },
  {
   "cell_type": "code",
   "execution_count": 25,
   "metadata": {},
   "outputs": [
    {
     "data": {
      "text/html": [
       "<div>\n",
       "<style scoped>\n",
       "    .dataframe tbody tr th:only-of-type {\n",
       "        vertical-align: middle;\n",
       "    }\n",
       "\n",
       "    .dataframe tbody tr th {\n",
       "        vertical-align: top;\n",
       "    }\n",
       "\n",
       "    .dataframe thead th {\n",
       "        text-align: right;\n",
       "    }\n",
       "</style>\n",
       "<table border=\"1\" class=\"dataframe\">\n",
       "  <thead>\n",
       "    <tr style=\"text-align: right;\">\n",
       "      <th></th>\n",
       "      <th>speed</th>\n",
       "      <th>age</th>\n",
       "      <th>miles</th>\n",
       "      <th>group</th>\n",
       "    </tr>\n",
       "  </thead>\n",
       "  <tbody>\n",
       "    <tr>\n",
       "      <th>count</th>\n",
       "      <td>300.000000</td>\n",
       "      <td>300.000000</td>\n",
       "      <td>300.000000</td>\n",
       "      <td>300.000000</td>\n",
       "    </tr>\n",
       "    <tr>\n",
       "      <th>mean</th>\n",
       "      <td>122.963333</td>\n",
       "      <td>44.000000</td>\n",
       "      <td>31.133333</td>\n",
       "      <td>1.000000</td>\n",
       "    </tr>\n",
       "    <tr>\n",
       "      <th>std</th>\n",
       "      <td>17.135170</td>\n",
       "      <td>16.312992</td>\n",
       "      <td>15.568885</td>\n",
       "      <td>0.817861</td>\n",
       "    </tr>\n",
       "    <tr>\n",
       "      <th>min</th>\n",
       "      <td>85.000000</td>\n",
       "      <td>16.000000</td>\n",
       "      <td>1.000000</td>\n",
       "      <td>0.000000</td>\n",
       "    </tr>\n",
       "    <tr>\n",
       "      <th>25%</th>\n",
       "      <td>109.750000</td>\n",
       "      <td>33.000000</td>\n",
       "      <td>18.000000</td>\n",
       "      <td>0.000000</td>\n",
       "    </tr>\n",
       "    <tr>\n",
       "      <th>50%</th>\n",
       "      <td>121.000000</td>\n",
       "      <td>42.000000</td>\n",
       "      <td>30.000000</td>\n",
       "      <td>1.000000</td>\n",
       "    </tr>\n",
       "    <tr>\n",
       "      <th>75%</th>\n",
       "      <td>137.000000</td>\n",
       "      <td>52.000000</td>\n",
       "      <td>43.000000</td>\n",
       "      <td>2.000000</td>\n",
       "    </tr>\n",
       "    <tr>\n",
       "      <th>max</th>\n",
       "      <td>161.000000</td>\n",
       "      <td>97.000000</td>\n",
       "      <td>99.000000</td>\n",
       "      <td>2.000000</td>\n",
       "    </tr>\n",
       "  </tbody>\n",
       "</table>\n",
       "</div>"
      ],
      "text/plain": [
       "            speed         age       miles       group\n",
       "count  300.000000  300.000000  300.000000  300.000000\n",
       "mean   122.963333   44.000000   31.133333    1.000000\n",
       "std     17.135170   16.312992   15.568885    0.817861\n",
       "min     85.000000   16.000000    1.000000    0.000000\n",
       "25%    109.750000   33.000000   18.000000    0.000000\n",
       "50%    121.000000   42.000000   30.000000    1.000000\n",
       "75%    137.000000   52.000000   43.000000    2.000000\n",
       "max    161.000000   97.000000   99.000000    2.000000"
      ]
     },
     "execution_count": 25,
     "metadata": {},
     "output_type": "execute_result"
    }
   ],
   "source": [
    "customers.describe()"
   ]
  },
  {
   "cell_type": "code",
   "execution_count": null,
   "metadata": {},
   "outputs": [],
   "source": []
  }
 ],
 "metadata": {
  "kernelspec": {
   "display_name": "Python 3",
   "language": "python",
   "name": "python3"
  },
  "language_info": {
   "codemirror_mode": {
    "name": "ipython",
    "version": 3
   },
   "file_extension": ".py",
   "mimetype": "text/x-python",
   "name": "python",
   "nbconvert_exporter": "python",
   "pygments_lexer": "ipython3",
   "version": "3.6.6"
  }
 },
 "nbformat": 4,
 "nbformat_minor": 1
}
