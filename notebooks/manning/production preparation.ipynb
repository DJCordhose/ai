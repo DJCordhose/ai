{
 "cells": [
  {
   "cell_type": "markdown",
   "metadata": {},
   "source": [
    "# Preparing a TensorFlow model"
   ]
  },
  {
   "cell_type": "code",
   "execution_count": 1,
   "metadata": {},
   "outputs": [],
   "source": [
    "import warnings\n",
    "warnings.filterwarnings('ignore')"
   ]
  },
  {
   "cell_type": "code",
   "execution_count": 2,
   "metadata": {},
   "outputs": [
    {
     "name": "stdout",
     "output_type": "stream",
     "text": [
      "1.10.0\n"
     ]
    }
   ],
   "source": [
    "import tensorflow as tf\n",
    "tf.logging.set_verbosity(tf.logging.ERROR)\n",
    "print(tf.__version__)"
   ]
  },
  {
   "cell_type": "code",
   "execution_count": 3,
   "metadata": {},
   "outputs": [
    {
     "name": "stderr",
     "output_type": "stream",
     "text": [
      "  % Total    % Received % Xferd  Average Speed   Time    Time     Time  Current\n",
      "                                 Dload  Upload   Total   Spent    Left  Speed\n",
      "\n",
      "  0     0    0     0    0     0      0      0 --:--:-- --:--:-- --:--:--     0\n",
      "100  175k  100  175k    0     0   487k      0 --:--:-- --:--:-- --:--:--  487k\n"
     ]
    }
   ],
   "source": [
    "!curl -O https://raw.githubusercontent.com/DJCordhose/ai/master/notebooks/manning/model/insurance.hdf5"
   ]
  },
  {
   "cell_type": "code",
   "execution_count": 4,
   "metadata": {},
   "outputs": [],
   "source": [
    "model = tf.keras.models.load_model('insurance.hdf5')"
   ]
  },
  {
   "cell_type": "code",
   "execution_count": 5,
   "metadata": {},
   "outputs": [],
   "source": [
    "!rm -rf tf"
   ]
  },
  {
   "cell_type": "code",
   "execution_count": 6,
   "metadata": {},
   "outputs": [],
   "source": [
    "tf.keras.backend.set_learning_phase?"
   ]
  },
  {
   "cell_type": "code",
   "execution_count": 7,
   "metadata": {},
   "outputs": [
    {
     "data": {
      "text/plain": [
       "b'tf\\\\1\\\\saved_model.pb'"
      ]
     },
     "execution_count": 7,
     "metadata": {},
     "output_type": "execute_result"
    }
   ],
   "source": [
    "import os\n",
    "\n",
    "export_path_base = 'tf'\n",
    "version = 1\n",
    "export_path = os.path.join(\n",
    "      tf.compat.as_bytes(export_path_base),\n",
    "      tf.compat.as_bytes(str(version)))\n",
    "\n",
    "tf.keras.backend.set_learning_phase(0)\n",
    "sess = tf.keras.backend.get_session()\n",
    "\n",
    "classification_inputs = tf.saved_model.utils.build_tensor_info(model.input)\n",
    "classification_outputs_scores = tf.saved_model.utils.build_tensor_info(model.output)\n",
    "\n",
    "signature =  tf.saved_model.signature_def_utils.build_signature_def(\n",
    "    inputs={'inputs': classification_inputs},\n",
    "    outputs={'scores': classification_outputs_scores},\n",
    "    method_name=tf.saved_model.signature_constants.PREDICT_METHOD_NAME)\n",
    "\n",
    "builder = tf.saved_model.builder.SavedModelBuilder(export_path)\n",
    "builder.add_meta_graph_and_variables(\n",
    "      sess, [tf.saved_model.tag_constants.SERVING],\n",
    "      signature_def_map={\n",
    "           tf.saved_model.signature_constants.DEFAULT_SERVING_SIGNATURE_DEF_KEY: signature\n",
    "      })\n",
    "builder.save()"
   ]
  },
  {
   "cell_type": "code",
   "execution_count": 8,
   "metadata": {},
   "outputs": [
    {
     "name": "stdout",
     "output_type": "stream",
     "text": [
      "total 6885\n",
      "-rw-r--r-- 1 olive 197609    9293 Aug  8 10:59 0-generate.ipynb\n",
      "drwxr-xr-x 1 olive 197609       0 Aug  8 10:58 data\n",
      "drwxr-xr-x 1 olive 197609       0 Aug  8 12:01 figures\n",
      "-rw-r--r-- 1 olive 197609  179704 Aug 14 13:23 insurance.hdf5\n",
      "-rw-r--r-- 1 olive 197609   26822 Aug 14 09:34 insurance-customers-1500.csv\n",
      "-rw-r--r-- 1 olive 197609  179704 Aug 13 19:06 insurance-simple.hdf5\n",
      "drwxr-xr-x 1 olive 197609       0 Aug 13 18:59 model\n",
      "-rw-r--r-- 1 olive 197609    3810 Aug 14 13:27 production preparation.ipynb\n",
      "-rw-r--r-- 1 olive 197609      88 Aug  9 17:14 sample_insurance.json\n",
      "drwxr-xr-x 1 olive 197609       0 Aug 14 13:27 tf\n",
      "drwxr-xr-x 1 olive 197609       0 Aug 14 09:36 tfjs\n",
      "-rw-r--r-- 1 olive 197609  634707 Aug  9 13:01 U3-M1-example.ipynb\n",
      "-rw-r--r-- 1 olive 197609 3620457 Aug  9 10:31 U3-M2-nn-intro.ipynb\n",
      "-rw-r--r-- 1 olive 197609 2002487 Aug  9 12:14 U3-M3-nn-no-bullshit.ipynb\n",
      "-rw-r--r-- 1 olive 197609  338311 Aug 14 09:39 U3-M3-nn-simplified.ipynb\n",
      "-rw-r--r-- 1 olive 197609    8054 Aug 14 13:22 U4-M1-Preparing TensorFlow models.ipynb\n",
      "-rw-r--r-- 1 olive 197609   19871 Aug 14 12:26 U4-M2-Serving TensorFlow models.ipynb\n",
      "-rw-r--r-- 1 olive 197609    9641 Aug 14 09:39 U4-M3-Deploying to the Browser using TensorFlow.js.ipynb\n"
     ]
    }
   ],
   "source": [
    "!ls -l"
   ]
  },
  {
   "cell_type": "code",
   "execution_count": null,
   "metadata": {},
   "outputs": [],
   "source": []
  }
 ],
 "metadata": {
  "kernelspec": {
   "display_name": "Python 3",
   "language": "python",
   "name": "python3"
  },
  "language_info": {
   "codemirror_mode": {
    "name": "ipython",
    "version": 3
   },
   "file_extension": ".py",
   "mimetype": "text/x-python",
   "name": "python",
   "nbconvert_exporter": "python",
   "pygments_lexer": "ipython3",
   "version": "3.6.6"
  }
 },
 "nbformat": 4,
 "nbformat_minor": 1
}
