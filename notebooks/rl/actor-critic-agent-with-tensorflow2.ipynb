{
  "nbformat": 4,
  "nbformat_minor": 0,
  "metadata": {
    "colab": {
      "name": "actor-critic-agent-with-tensorflow2.ipynb",
      "version": "0.3.2",
      "provenance": [],
      "include_colab_link": true
    },
    "kernelspec": {
      "name": "python3",
      "display_name": "Python 3"
    },
    "accelerator": "GPU"
  },
  "cells": [
    {
      "cell_type": "markdown",
      "metadata": {
        "id": "view-in-github",
        "colab_type": "text"
      },
      "source": [
        "<a href=\"https://colab.research.google.com/github/DJCordhose/ai/blob/master/notebooks/rl/actor-critic-agent-with-tensorflow2.ipynb\" target=\"_parent\"><img src=\"https://colab.research.google.com/assets/colab-badge.svg\" alt=\"Open In Colab\"/></a>"
      ]
    },
    {
      "metadata": {
        "id": "6J4MJARQUTKt",
        "colab_type": "text"
      },
      "cell_type": "markdown",
      "source": [
        "# Deep Reinforcement Learning with TensorFlow 2.0\n",
        "\n",
        "## Based on Code by Roman Ring: http://inoryy.com/post/tensorflow2-deep-reinforcement-learning/\n",
        "\n",
        "## Notebook forked from: https://github.com/inoryy/tensorflow2-deep-reinforcement-learning/blob/master/actor-critic-agent-with-tensorflow2.ipynb\n",
        "\n",
        "changes:\n",
        "* GPU support enabled\n",
        "* removed parts used for TF 2.0 experiments only (to concentrate on Reinforcement Learning)\n",
        "* applying to Berater environment (wip)\n",
        "  * TODO: increase capacity of network (look for Olli comment below)"
      ]
    },
    {
      "metadata": {
        "id": "7wOCpRv_UPs1",
        "colab_type": "text"
      },
      "cell_type": "markdown",
      "source": [
        "# Setup"
      ]
    },
    {
      "metadata": {
        "id": "kAbw7rSqUl3C",
        "colab_type": "code",
        "colab": {}
      },
      "cell_type": "code",
      "source": [
        "!pip install tf-nightly-2.0-preview >/dev/null"
      ],
      "execution_count": 0,
      "outputs": []
    },
    {
      "metadata": {
        "id": "BGOvHiTZUPs3",
        "colab_type": "code",
        "colab": {}
      },
      "cell_type": "code",
      "source": [
        "import gym\n",
        "import logging\n",
        "import numpy as np\n",
        "import tensorflow as tf\n",
        "import tensorflow.keras.layers as kl\n",
        "import tensorflow.keras.losses as kls\n",
        "import tensorflow.keras.optimizers as ko"
      ],
      "execution_count": 0,
      "outputs": []
    },
    {
      "metadata": {
        "id": "ldnJkKUzUPs5",
        "colab_type": "code",
        "colab": {}
      },
      "cell_type": "code",
      "source": [
        "import matplotlib\n",
        "import matplotlib.pyplot as plt\n",
        "%matplotlib inline  "
      ],
      "execution_count": 0,
      "outputs": []
    },
    {
      "metadata": {
        "id": "gySqQGJUUPs8",
        "colab_type": "code",
        "outputId": "4b5ad263-590e-490a-d8bd-82e7f3797965",
        "colab": {
          "base_uri": "https://localhost:8080/",
          "height": 51
        }
      },
      "cell_type": "code",
      "source": [
        "print(\"TensorFlow Ver: \", tf.__version__)\n",
        "print(\"Eager Execution:\", tf.executing_eagerly())"
      ],
      "execution_count": 4,
      "outputs": [
        {
          "output_type": "stream",
          "text": [
            "TensorFlow Ver:  2.0.0-dev20190203\n",
            "Eager Execution: True\n"
          ],
          "name": "stdout"
        }
      ]
    },
    {
      "metadata": {
        "id": "FIoJl7CWUPtA",
        "colab_type": "code",
        "outputId": "6afcb91c-29c1-4da0-ecb1-b911297f932f",
        "colab": {
          "base_uri": "https://localhost:8080/",
          "height": 34
        }
      },
      "cell_type": "code",
      "source": [
        "# eager by default!\n",
        "print(\"1 + 2 + 3 + 4 + 5 =\", tf.reduce_sum([1, 2, 3, 4, 5]))"
      ],
      "execution_count": 5,
      "outputs": [
        {
          "output_type": "stream",
          "text": [
            "1 + 2 + 3 + 4 + 5 = tf.Tensor(15, shape=(), dtype=int32)\n"
          ],
          "name": "stdout"
        }
      ]
    },
    {
      "metadata": {
        "id": "DZmTIluGUPtD",
        "colab_type": "text"
      },
      "cell_type": "markdown",
      "source": [
        "# Advantage Actor-Critic with TensorFlow 2.0"
      ]
    },
    {
      "metadata": {
        "id": "cHnjWGg-UPtD",
        "colab_type": "text"
      },
      "cell_type": "markdown",
      "source": [
        "## Policy & Value Model Class"
      ]
    },
    {
      "metadata": {
        "id": "q4aKKqZHUPtE",
        "colab_type": "code",
        "colab": {}
      },
      "cell_type": "code",
      "source": [
        "class ProbabilityDistribution(tf.keras.Model):\n",
        "    def call(self, logits):\n",
        "        # sample a random categorical action from given logits\n",
        "        return tf.squeeze(tf.random.categorical(logits, 1), axis=-1)\n",
        "\n",
        "class Model(tf.keras.Model):\n",
        "    def __init__(self, num_actions):\n",
        "        super().__init__('mlp_policy')\n",
        "        # no tf.get_variable(), just simple Keras API\n",
        "        self.hidden1 = kl.Dense(128, activation='relu')\n",
        "        self.hidden2 = kl.Dense(128, activation='relu')\n",
        "        self.value = kl.Dense(1, name='value')\n",
        "        # logits are unnormalized log probabilities\n",
        "        self.logits = kl.Dense(num_actions, name='policy_logits')\n",
        "        self.dist = ProbabilityDistribution()\n",
        "\n",
        "    def call(self, inputs):\n",
        "        # inputs is a numpy array, convert to Tensor\n",
        "        x = tf.convert_to_tensor(inputs)\n",
        "        # separate hidden layers from the same input tensor\n",
        "        hidden_logs = self.hidden1(x)\n",
        "        hidden_vals = self.hidden2(x)\n",
        "        return self.logits(hidden_logs), self.value(hidden_vals)\n",
        "\n",
        "    def action_value(self, obs):\n",
        "        # executes call() under the hood\n",
        "        logits, value = self.predict(obs)\n",
        "        action = self.dist.predict(logits)\n",
        "        # a simpler option, will become clear later why we don't use it\n",
        "        # action = tf.random.categorical(logits, 1)\n",
        "        return np.squeeze(action, axis=-1), np.squeeze(value, axis=-1)"
      ],
      "execution_count": 0,
      "outputs": []
    },
    {
      "metadata": {
        "id": "H-h433rUUPtG",
        "colab_type": "text"
      },
      "cell_type": "markdown",
      "source": [
        "## Advantage Actor-Critic Agent Class"
      ]
    },
    {
      "metadata": {
        "id": "UGNdq61jUPtH",
        "colab_type": "code",
        "colab": {}
      },
      "cell_type": "code",
      "source": [
        "class A2CAgent:\n",
        "    def __init__(self, model):\n",
        "        # hyperparameters for loss terms, gamma is the discount coefficient\n",
        "        self.params = {\n",
        "            'gamma': 0.99,\n",
        "            'value': 0.5,\n",
        "            'entropy': 0.0001\n",
        "        }\n",
        "        self.model = model\n",
        "        self.model.compile(\n",
        "            optimizer=ko.RMSprop(lr=0.0007),\n",
        "            # define separate losses for policy logits and value estimate\n",
        "            loss=[self._logits_loss, self._value_loss]\n",
        "        )\n",
        "    \n",
        "    def train(self, env, batch_sz=32, updates=1000):\n",
        "        # storage helpers for a single batch of data\n",
        "        actions = np.empty((batch_sz,), dtype=np.int32)\n",
        "        rewards, dones, values = np.empty((3, batch_sz))\n",
        "        observations = np.empty((batch_sz,) + env.observation_space.shape)\n",
        "        # training loop: collect samples, send to optimizer, repeat updates times\n",
        "        ep_rews = [0.0]\n",
        "        next_obs = env.reset()\n",
        "        for update in range(updates):\n",
        "            for step in range(batch_sz):\n",
        "                observations[step] = next_obs.copy()\n",
        "                actions[step], values[step] = self.model.action_value(next_obs[None, :])\n",
        "                next_obs, rewards[step], dones[step], _ = env.step(actions[step])\n",
        "\n",
        "                ep_rews[-1] += rewards[step]\n",
        "                if dones[step]:\n",
        "                    ep_rews.append(0.0)\n",
        "                    next_obs = env.reset()\n",
        "                    logging.info(\"Episode: %03d, Reward: %03d\" % (len(ep_rews)-1, ep_rews[-2]))\n",
        "\n",
        "            _, next_value = self.model.action_value(next_obs[None, :])\n",
        "            returns, advs = self._returns_advantages(rewards, dones, values, next_value)\n",
        "            # a trick to input actions and advantages through same API\n",
        "            acts_and_advs = np.concatenate([actions[:, None], advs[:, None]], axis=-1)\n",
        "            # performs a full training step on the collected batch\n",
        "            # note: no need to mess around with gradients, Keras API handles it\n",
        "            losses = self.model.train_on_batch(observations, [acts_and_advs, returns])\n",
        "            logging.debug(\"[%d/%d] Losses: %s\" % (update+1, updates, losses))\n",
        "        return ep_rews\n",
        "\n",
        "    def test(self, env, render=False):\n",
        "        obs, done, ep_reward = env.reset(), False, 0\n",
        "        while not done:\n",
        "            action, _ = self.model.action_value(obs[None, :])\n",
        "            obs, reward, done, _ = env.step(action)\n",
        "            ep_reward += reward\n",
        "            if render:\n",
        "                env.render()\n",
        "        return ep_reward\n",
        "\n",
        "    def _returns_advantages(self, rewards, dones, values, next_value):\n",
        "        # next_value is the bootstrap value estimate of a future state (the critic)\n",
        "        returns = np.append(np.zeros_like(rewards), next_value, axis=-1)\n",
        "        # returns are calculated as discounted sum of future rewards\n",
        "        for t in reversed(range(rewards.shape[0])):\n",
        "            returns[t] = rewards[t] + self.params['gamma'] * returns[t+1] * (1-dones[t])\n",
        "        returns = returns[:-1]\n",
        "        # advantages are returns - baseline, value estimates in our case\n",
        "        advantages = returns - values\n",
        "        return returns, advantages\n",
        "    \n",
        "    def _value_loss(self, returns, value):\n",
        "        # value loss is typically MSE between value estimates and returns\n",
        "        return self.params['value']*kls.mean_squared_error(returns, value)\n",
        "\n",
        "    def _logits_loss(self, acts_and_advs, logits):\n",
        "        # a trick to input actions and advantages through same API\n",
        "        actions, advantages = tf.split(acts_and_advs, 2, axis=-1)\n",
        "        # sparse categorical CE loss obj that supports sample_weight arg on call()\n",
        "        # from_logits argument ensures transformation into normalized probabilities\n",
        "        weighted_sparse_ce = kls.SparseCategoricalCrossentropy(from_logits=True)\n",
        "        # policy loss is defined by policy gradients, weighted by advantages\n",
        "        # note: we only calculate the loss on the actions we've actually taken\n",
        "        actions = tf.cast(actions, tf.int32)\n",
        "        policy_loss = weighted_sparse_ce(actions, logits, sample_weight=advantages)\n",
        "        # entropy loss can be calculated via CE over itself\n",
        "        entropy_loss = kls.categorical_crossentropy(logits, logits, from_logits=True)\n",
        "        # here signs are flipped because optimizer minimizes\n",
        "        return policy_loss - self.params['entropy']*entropy_loss"
      ],
      "execution_count": 0,
      "outputs": []
    },
    {
      "metadata": {
        "id": "wlmic8RRUPtI",
        "colab_type": "code",
        "outputId": "30959a8c-c5e2-4970-f794-009b95509ff6",
        "colab": {
          "base_uri": "https://localhost:8080/",
          "height": 34
        }
      },
      "cell_type": "code",
      "source": [
        "env = gym.make('CartPole-v0')\n",
        "model = Model(num_actions=env.action_space.n)\n",
        "model.action_value(env.reset()[None, :])"
      ],
      "execution_count": 8,
      "outputs": [
        {
          "output_type": "execute_result",
          "data": {
            "text/plain": [
              "(array(1), array([0.0023059], dtype=float32))"
            ]
          },
          "metadata": {
            "tags": []
          },
          "execution_count": 8
        }
      ]
    },
    {
      "metadata": {
        "id": "8mTDcU74UPtL",
        "colab_type": "text"
      },
      "cell_type": "markdown",
      "source": [
        "# Training A2C Agent & Results"
      ]
    },
    {
      "metadata": {
        "id": "R8l4XOrXUPtL",
        "colab_type": "code",
        "colab": {}
      },
      "cell_type": "code",
      "source": [
        "env = gym.make('CartPole-v0')\n",
        "model = Model(num_actions=env.action_space.n)\n",
        "agent = A2CAgent(model)"
      ],
      "execution_count": 0,
      "outputs": []
    },
    {
      "metadata": {
        "id": "Djcv0MHpUPtO",
        "colab_type": "text"
      },
      "cell_type": "markdown",
      "source": [
        "## Testing with Random Weights"
      ]
    },
    {
      "metadata": {
        "id": "L2IEFa_8UPtO",
        "colab_type": "code",
        "outputId": "cf440e3d-b2bf-4369-92a8-7dead0f35539",
        "colab": {
          "base_uri": "https://localhost:8080/",
          "height": 34
        }
      },
      "cell_type": "code",
      "source": [
        "rewards_sum = agent.test(env)\n",
        "print(\"Total Episode Reward: %d out of 200\" % agent.test(env))"
      ],
      "execution_count": 10,
      "outputs": [
        {
          "output_type": "stream",
          "text": [
            "Total Episode Reward: 16 out of 200\n"
          ],
          "name": "stdout"
        }
      ]
    },
    {
      "metadata": {
        "id": "bclsiW9CUPtQ",
        "colab_type": "code",
        "outputId": "c9617bc7-5baa-492a-f249-acc2e77c621e",
        "colab": {
          "base_uri": "https://localhost:8080/",
          "height": 51
        }
      },
      "cell_type": "code",
      "source": [
        "%%time\n",
        "# set to logging.WARNING to disable logs or logging.DEBUG to see losses as well\n",
        "logging.getLogger().setLevel(logging.WARNING)\n",
        "\n",
        "rewards_history = agent.train(env)"
      ],
      "execution_count": 11,
      "outputs": [
        {
          "output_type": "stream",
          "text": [
            "CPU times: user 1min 9s, sys: 3.11 s, total: 1min 12s\n",
            "Wall time: 1min 5s\n"
          ],
          "name": "stdout"
        }
      ]
    },
    {
      "metadata": {
        "id": "iotRFHtaUPtT",
        "colab_type": "text"
      },
      "cell_type": "markdown",
      "source": [
        "## Testing with Trained Model"
      ]
    },
    {
      "metadata": {
        "id": "6LRPR0G0UPtU",
        "colab_type": "code",
        "outputId": "780202d7-780d-49bc-e380-7a0dbca88525",
        "colab": {
          "base_uri": "https://localhost:8080/",
          "height": 34
        }
      },
      "cell_type": "code",
      "source": [
        "print(\"Total Episode Reward: %d out of 200\" % agent.test(env))"
      ],
      "execution_count": 12,
      "outputs": [
        {
          "output_type": "stream",
          "text": [
            "Total Episode Reward: 167 out of 200\n"
          ],
          "name": "stdout"
        }
      ]
    },
    {
      "metadata": {
        "id": "kdoYyGzYUPtY",
        "colab_type": "text"
      },
      "cell_type": "markdown",
      "source": [
        "## Training Rewards History"
      ]
    },
    {
      "metadata": {
        "id": "jUZaerdDUPtY",
        "colab_type": "code",
        "outputId": "0b8d928d-1d50-4de4-fc59-ecd925f8a9f4",
        "colab": {
          "base_uri": "https://localhost:8080/",
          "height": 279
        }
      },
      "cell_type": "code",
      "source": [
        "plt.plot(rewards_history[::5])\n",
        "plt.yscale('log')\n",
        "plt.xlabel('Episode')\n",
        "plt.ylabel('Total Reward')\n",
        "plt.show()"
      ],
      "execution_count": 13,
      "outputs": [
        {
          "output_type": "display_data",
          "data": {
            "image/png": "[encoded data removed]",
            "text/plain": [
              "<Figure size 432x288 with 1 Axes>"
            ]
          },
          "metadata": {
            "tags": []
          }
        }
      ]
    },
    {
      "metadata": {
        "id": "GxaI8XQ9zMVS",
        "colab_type": "text"
      },
      "cell_type": "markdown",
      "source": [
        "# Applying to our Berater Environment"
      ]
    },
    {
      "metadata": {
        "id": "944CDMYOvVIO",
        "colab_type": "code",
        "colab": {}
      },
      "cell_type": "code",
      "source": [
        "import numpy as np\n",
        "import random\n",
        "\n",
        "import gym\n",
        "from gym.utils import seeding\n",
        "from gym import spaces\n",
        "\n",
        "def state_name_to_int(state):\n",
        "    state_name_map = {\n",
        "        'S': 0,\n",
        "        'A': 1,\n",
        "        'B': 2,\n",
        "        'C': 3,\n",
        "        'D': 4,\n",
        "        'E': 5,\n",
        "        'F': 6,\n",
        "        'G': 7,\n",
        "        'H': 8,\n",
        "        'K': 9,\n",
        "        'L': 10,\n",
        "        'M': 11,\n",
        "        'N': 12,\n",
        "        'O': 13\n",
        "    }\n",
        "    return state_name_map[state]\n",
        "\n",
        "def int_to_state_name(state_as_int):\n",
        "    state_map = {\n",
        "        0: 'S',\n",
        "        1: 'A',\n",
        "        2: 'B',\n",
        "        3: 'C',\n",
        "        4: 'D',\n",
        "        5: 'E',\n",
        "        6: 'F',\n",
        "        7: 'G',\n",
        "        8: 'H',\n",
        "        9: 'K',\n",
        "        10: 'L',\n",
        "        11: 'M',\n",
        "        12: 'N',\n",
        "        13: 'O'\n",
        "    }\n",
        "    return state_map[state_as_int]\n",
        "    \n",
        "class BeraterEnv(gym.Env):\n",
        "    \"\"\"\n",
        "    The Berater Problem\n",
        "\n",
        "    Actions: \n",
        "    There are 4 discrete deterministic actions, each choosing one direction\n",
        "    \"\"\"\n",
        "    metadata = {'render.modes': ['ansi']}\n",
        "    \n",
        "    showStep = False\n",
        "    showDone = True\n",
        "    envEpisodeModulo = 100\n",
        "\n",
        "    def __init__(self):\n",
        "#         self.map = {\n",
        "#             'S': [('A', 100), ('B', 400), ('C', 200 )],\n",
        "#             'A': [('B', 250), ('C', 400), ('S', 100 )],\n",
        "#             'B': [('A', 250), ('C', 250), ('S', 400 )],\n",
        "#             'C': [('A', 400), ('B', 250), ('S', 200 )]\n",
        "#         }\n",
        "        self.map = {\n",
        "            'S': [('A', 300), ('B', 100), ('C', 200 )],\n",
        "            'A': [('S', 300), ('B', 100), ('E', 100 ), ('D', 100 )],\n",
        "            'B': [('S', 100), ('A', 100), ('C', 50 ), ('K', 200 )],\n",
        "            'C': [('S', 200), ('B', 50), ('M', 100 ), ('L', 200 )],\n",
        "            'D': [('A', 100), ('F', 50)],\n",
        "            'E': [('A', 100), ('F', 100), ('H', 100)],\n",
        "            'F': [('D', 50), ('E', 100), ('G', 200)],\n",
        "            'G': [('F', 200), ('O', 300)],\n",
        "            'H': [('E', 100), ('K', 300)],\n",
        "            'K': [('B', 200), ('H', 300)],\n",
        "            'L': [('C', 200), ('M', 50)],\n",
        "            'M': [('C', 100), ('L', 50), ('N', 100)],\n",
        "            'N': [('M', 100), ('O', 100)],\n",
        "            'O': [('N', 100), ('G', 300)]\n",
        "        }\n",
        "        max_paths = 4\n",
        "        self.action_space = spaces.Discrete(max_paths)\n",
        "      \n",
        "        positions = len(self.map)\n",
        "        # observations: position, reward of all 4 local paths, rest reward of all locations\n",
        "        # non existing path is -1000 and no position change\n",
        "        # look at what #getObservation returns if you are confused\n",
        "        low = np.append(np.append([0], np.full(max_paths, -1000)), np.full(positions, 0))\n",
        "        high = np.append(np.append([positions - 1], np.full(max_paths, 1000)), np.full(positions, 1000))\n",
        "        self.observation_space = spaces.Box(low=low,\n",
        "                                             high=high,\n",
        "                                             dtype=np.float32)\n",
        "        self.reward_range = (-1, 1)\n",
        "\n",
        "        self.totalReward = 0\n",
        "        self.stepCount = 0\n",
        "        self.isDone = False\n",
        "\n",
        "        self.envReward = 0\n",
        "        self.envEpisodeCount = 0\n",
        "        self.envStepCount = 0\n",
        "\n",
        "        self.reset()\n",
        "        self.optimum = self.calculate_customers_reward()\n",
        "\n",
        "    def seed(self, seed=None):\n",
        "        self.np_random, seed = seeding.np_random(seed)\n",
        "        return [seed]\n",
        "\n",
        "    def iterate_path(self, state, action):\n",
        "        paths = self.map[state]\n",
        "        if action < len(paths):\n",
        "          return paths[action]\n",
        "        else:\n",
        "          # sorry, no such action, stay where you are and pay a high penalty\n",
        "          return (state, 1000)\n",
        "      \n",
        "    def step(self, action):\n",
        "        destination, cost = self.iterate_path(self.state, action)\n",
        "        lastState = self.state\n",
        "        customerReward = self.customer_reward[destination]\n",
        "        reward = (customerReward - cost) / self.optimum\n",
        "\n",
        "        self.state = destination\n",
        "        self.customer_visited(destination)\n",
        "        done = destination == 'S' and self.all_customers_visited()\n",
        "\n",
        "        stateAsInt = state_name_to_int(self.state)\n",
        "        self.totalReward += reward\n",
        "        self.stepCount += 1\n",
        "        self.envReward += reward\n",
        "        self.envStepCount += 1\n",
        "\n",
        "        if self.showStep:\n",
        "            print( \"Episode: \" + (\"%4.0f  \" % self.envEpisodeCount) + \n",
        "                   \" Step: \" + (\"%4.0f  \" % self.stepCount) + \n",
        "                   lastState + ' --' + str(action) + '-> ' + self.state + \n",
        "                   ' R=' + (\"% 2.2f\" % reward) + ' totalR=' + (\"% 3.2f\" % self.totalReward) + \n",
        "                   ' cost=' + (\"%4.0f\" % cost) + ' customerR=' + (\"%4.0f\" % customerReward) + ' optimum=' + (\"%4.0f\" % self.optimum)      \n",
        "                   )\n",
        "\n",
        "        if done and not self.isDone:\n",
        "            self.envEpisodeCount += 1\n",
        "            if BeraterEnv.showDone:\n",
        "                episodes = BeraterEnv.envEpisodeModulo\n",
        "                if (self.envEpisodeCount % BeraterEnv.envEpisodeModulo != 0):\n",
        "                    episodes = self.envEpisodeCount % BeraterEnv.envEpisodeModulo\n",
        "                print( \"Done: \" + \n",
        "                        (\"episodes=%6.0f  \" % self.envEpisodeCount) + \n",
        "                        (\"avgSteps=%6.2f  \" % (self.envStepCount/episodes)) + \n",
        "                        (\"avgTotalReward=% 3.2f\" % (self.envReward/episodes) )\n",
        "                        )\n",
        "                if (self.envEpisodeCount%BeraterEnv.envEpisodeModulo) == 0:\n",
        "                    self.envReward = 0\n",
        "                    self.envStepCount = 0\n",
        "\n",
        "        self.isDone = done\n",
        "        observation = self.getObservation(stateAsInt)\n",
        "        info = {\"from\": self.state, \"to\": destination}\n",
        "\n",
        "        return observation, reward, done, info\n",
        "\n",
        "    def getObservation(self, position):\n",
        "        result = np.array([ position, \n",
        "                               self.getPathObservation(position, 0),\n",
        "                               self.getPathObservation(position, 1),\n",
        "                               self.getPathObservation(position, 2),\n",
        "                               self.getPathObservation(position, 3)\n",
        "                              ],\n",
        "                             dtype=np.float32)\n",
        "        all_rest_rewards = list(self.customer_reward.values())\n",
        "        result = np.append(result, all_rest_rewards)\n",
        "        return result\n",
        "\n",
        "    def getPathObservation(self, position, path):\n",
        "        source = int_to_state_name(position)\n",
        "        paths = self.map[self.state]\n",
        "        if path < len(paths):\n",
        "          target, cost = paths[path]\n",
        "          reward = self.customer_reward[target] \n",
        "          result = reward - cost\n",
        "        else:\n",
        "          result = -1000\n",
        "\n",
        "        return result\n",
        "\n",
        "    def customer_visited(self, customer):\n",
        "        self.customer_reward[customer] = 0\n",
        "\n",
        "    def all_customers_visited(self):\n",
        "        return self.calculate_customers_reward() == 0\n",
        "\n",
        "    def calculate_customers_reward(self):\n",
        "        sum = 0\n",
        "        for value in self.customer_reward.values():\n",
        "            sum += value\n",
        "        return sum\n",
        "\n",
        "      \n",
        "    def modulate_reward(self):\n",
        "      number_of_customers = len(self.map) - 1\n",
        "      number_per_consultant = int(number_of_customers/2)\n",
        "#       number_per_consultant = int(number_of_customers/1.5)\n",
        "      self.customer_reward = {\n",
        "          'S': 0\n",
        "      }\n",
        "      for customer_nr in range(1, number_of_customers + 1):\n",
        "        self.customer_reward[int_to_state_name(customer_nr)] = 0\n",
        "      \n",
        "      # every consultant only visits a few random customers\n",
        "      samples = random.sample(range(1, number_of_customers + 1), k=number_per_consultant)\n",
        "      key_list = list(self.customer_reward.keys())\n",
        "      for sample in samples:\n",
        "        self.customer_reward[key_list[sample]] = 1000\n",
        "\n",
        "      \n",
        "    def reset(self):\n",
        "        self.totalReward = 0\n",
        "        self.stepCount = 0\n",
        "        self.isDone = False\n",
        "\n",
        "        self.modulate_reward()\n",
        "        self.state = 'S'\n",
        "        return self.getObservation(state_name_to_int(self.state))\n",
        "      \n",
        "    def render(self):\n",
        "      print(self.customer_reward)"
      ],
      "execution_count": 0,
      "outputs": []
    },
    {
      "metadata": {
        "id": "HzCNPhlryKRW",
        "colab_type": "code",
        "colab": {
          "base_uri": "https://localhost:8080/",
          "height": 68
        },
        "outputId": "aeaece13-3fad-4db3-d888-50d3d3851ace"
      },
      "cell_type": "code",
      "source": [
        "env = BeraterEnv()\n",
        "print(env.reset())\n",
        "print(env.customer_reward)"
      ],
      "execution_count": 17,
      "outputs": [
        {
          "output_type": "stream",
          "text": [
            "[    0.  -300.   900.   800. -1000.     0.     0.  1000.  1000.     0.\n",
            "     0.     0.  1000.     0.     0.  1000.  1000.  1000.     0.]\n",
            "{'S': 0, 'A': 0, 'B': 1000, 'C': 1000, 'D': 0, 'E': 0, 'F': 0, 'G': 1000, 'H': 0, 'K': 0, 'L': 1000, 'M': 1000, 'N': 1000, 'O': 0}\n"
          ],
          "name": "stdout"
        }
      ]
    },
    {
      "metadata": {
        "id": "PU42ltPrzB1P",
        "colab_type": "code",
        "colab": {}
      },
      "cell_type": "code",
      "source": [
        "from copy import deepcopy\n",
        "import json\n",
        "\n",
        "class Baseline():\n",
        "\n",
        "  def __init__(self, env, verbose=1):\n",
        "    self.env = env\n",
        "    self.verbose = verbose\n",
        "    self.reset()\n",
        "\n",
        "  def reset(self):\n",
        "    self.map = self.env.map\n",
        "    self.rewards = self.env.customer_reward.copy()\n",
        "    \n",
        "  def as_string(self, state):\n",
        "    # reward/cost does not hurt, but is useless, path obsucres same state\n",
        "    new_state = {\n",
        "        'rewards': state['rewards'],\n",
        "        'position': state['position']\n",
        "    }\n",
        "    return json.dumps(new_state, sort_keys=True)\n",
        "  \n",
        "  def is_goal(self, state):\n",
        "    if state['position'] != 'S': return False\n",
        "    for reward in state['rewards'].values():\n",
        "      if reward != 0: return False\n",
        "    return True\n",
        "    \n",
        "\n",
        "  def expand(self, state):\n",
        "    states = []\n",
        "    for position, cost in self.map[state['position']]:\n",
        "      new_state = deepcopy(state)\n",
        "      new_state['position'] = position\n",
        "      new_state['rewards'][position] = 0\n",
        "      reward = state['rewards'][position]\n",
        "      new_state['reward'] += reward\n",
        "      new_state['cost'] += cost\n",
        "      new_state['path'].append(position)\n",
        "      states.append(new_state)\n",
        "    return states\n",
        "\n",
        "  def search(self, root, max_depth = 25):\n",
        "      closed = set()\n",
        "      open = [root]\n",
        "\n",
        "      while open:\n",
        "          state = open.pop(0)\n",
        "          if self.as_string(state) in closed: continue  \n",
        "\n",
        "          closed.add(self.as_string(state))\n",
        "\n",
        "          depth = len(state['path'])\n",
        "          if depth > max_depth:\n",
        "            if self.verbose > 0:\n",
        "              print(\"Visited:\", len(closed))\n",
        "              print(\"Reached max depth, without reaching goal\")\n",
        "            return None\n",
        "\n",
        "          if self.is_goal(state):\n",
        "            scaled_reward = (state['reward'] - state['cost']) / 6000\n",
        "            state['scaled_reward'] = scaled_reward\n",
        "            if self.verbose > 0:\n",
        "              print(\"Scaled reward:\", scaled_reward)            \n",
        "              print(\"Perfect path\", state['path'])\n",
        "            return state\n",
        "\n",
        "          expanded = self.expand(state)\n",
        "          open += expanded\n",
        "          # make this best first\n",
        "          open.sort(key=lambda state: state['cost'])\n",
        "        \n",
        "  def find_optimum(self):\n",
        "    initial_state = {\n",
        "        'rewards': self.rewards.copy(),\n",
        "        'position': 'S',\n",
        "        'reward': 0,\n",
        "        'cost': 0,\n",
        "        'path': ['S']\n",
        "    }\n",
        "    return self.search(initial_state)\n",
        "  \n",
        "  def benchmark(self, model, sample_runs=100):\n",
        "    self.verbose = 0\n",
        "    BeraterEnv.showStep = False\n",
        "    BeraterEnv.showDone = False\n",
        "\n",
        "    perfect_rewards = []\n",
        "    model_rewards = []\n",
        "    for run in range(sample_runs):\n",
        "      observation = self.env.reset()\n",
        "      self.reset()\n",
        "      \n",
        "      optimum_state = self.find_optimum()\n",
        "      perfect_rewards.append(optimum_state['scaled_reward'])\n",
        "      \n",
        "      state = np.zeros((1, 2*128))\n",
        "      dones = np.zeros((1))\n",
        "\n",
        "      for t in range(1000):\n",
        "        actions, _, state, _ = model.step(observation, S=state, M=dones)\n",
        "        observation, reward, done, info = self.env.step(actions[0])\n",
        "        if done:\n",
        "          break\n",
        "      model_rewards.append(env.totalReward)\n",
        "    return perfect_rewards, model_rewards\n",
        "  \n",
        "  def score(self, model, sample_runs=100):\n",
        "    perfect_rewards, model_rewards = self.benchmark(model, sample_runs=100)\n",
        "    \n",
        "    perfect_score_mean, perfect_score_std = np.array(perfect_rewards).mean(), np.array(perfect_rewards).std()\n",
        "    test_score_mean, test_score_std = np.array(model_rewards).mean(), np.array(model_rewards).std()\n",
        "    \n",
        "    return perfect_score_mean, perfect_score_std, test_score_mean, test_score_std"
      ],
      "execution_count": 0,
      "outputs": []
    },
    {
      "metadata": {
        "id": "MpSF9bH-4VJr",
        "colab_type": "code",
        "colab": {}
      },
      "cell_type": "code",
      "source": [
        "class ProbabilityDistribution(tf.keras.Model):\n",
        "    def call(self, logits):\n",
        "        # sample a random categorical action from given logits\n",
        "        return tf.squeeze(tf.random.categorical(logits, 1), axis=-1)\n",
        "\n",
        "class Model(tf.keras.Model):\n",
        "    def __init__(self, num_actions):\n",
        "        super().__init__('mlp_policy')\n",
        "        # Olli: add core here\n",
        "        x = \n",
        "        self.core = kl.Dense(128, activation='relu')\n",
        "        self.hidden1 = kl.Dense(128, activation='relu')\n",
        "        self.hidden2 = kl.Dense(128, activation='relu')\n",
        "        self.value = kl.Dense(1, name='value')\n",
        "        # logits are unnormalized log probabilities\n",
        "        self.logits = kl.Dense(num_actions, name='policy_logits')\n",
        "        self.dist = ProbabilityDistribution()\n",
        "\n",
        "    def call(self, inputs):\n",
        "        # inputs is a numpy array, convert to Tensor\n",
        "        x = tf.convert_to_tensor(inputs)\n",
        "        # separate hidden layers from the same input tensor\n",
        "        hidden_logs = self.hidden1(x)\n",
        "        hidden_vals = self.hidden2(x)\n",
        "        return self.logits(hidden_logs), self.value(hidden_vals)\n",
        "\n",
        "    def action_value(self, obs):\n",
        "        # executes call() under the hood\n",
        "        logits, value = self.predict(obs)\n",
        "        action = self.dist.predict(logits)\n",
        "        # a simpler option, will become clear later why we don't use it\n",
        "        # action = tf.random.categorical(logits, 1)\n",
        "        return np.squeeze(action, axis=-1), np.squeeze(value, axis=-1)\n",
        "      \n",
        "class A2CAgent:\n",
        "    def __init__(self, model):\n",
        "        # hyperparameters for loss terms, gamma is the discount coefficient\n",
        "        self.params = {\n",
        "            'gamma': 1.0,# changeed\n",
        "            'value': 0.5,\n",
        "            'entropy': 0.05 # changeed\n",
        "        }\n",
        "        self.model = model\n",
        "        self.model.compile(\n",
        "            optimizer=ko.Adam(), # changeed\n",
        "            # define separate losses for policy logits and value estimate\n",
        "            loss=[self._logits_loss, self._value_loss]\n",
        "        )\n",
        "    \n",
        "    def train(self, env, batch_sz=32, updates=1000):\n",
        "        # storage helpers for a single batch of data\n",
        "        actions = np.empty((batch_sz,), dtype=np.int32)\n",
        "        rewards, dones, values = np.empty((3, batch_sz))\n",
        "        observations = np.empty((batch_sz,) + env.observation_space.shape)\n",
        "        # training loop: collect samples, send to optimizer, repeat updates times\n",
        "        ep_rews = [0.0]\n",
        "        next_obs = env.reset()\n",
        "        for update in range(updates):\n",
        "            for step in range(batch_sz):\n",
        "                observations[step] = next_obs.copy()\n",
        "                actions[step], values[step] = self.model.action_value(next_obs[None, :])\n",
        "                next_obs, rewards[step], dones[step], _ = env.step(actions[step])\n",
        "\n",
        "                ep_rews[-1] += rewards[step]\n",
        "                if dones[step]:\n",
        "                    ep_rews.append(0.0)\n",
        "                    next_obs = env.reset()\n",
        "                    logging.info(\"Episode: %03d, Reward: %03d\" % (len(ep_rews)-1, ep_rews[-2]))\n",
        "\n",
        "            _, next_value = self.model.action_value(next_obs[None, :])\n",
        "            returns, advs = self._returns_advantages(rewards, dones, values, next_value)\n",
        "            # a trick to input actions and advantages through same API\n",
        "            acts_and_advs = np.concatenate([actions[:, None], advs[:, None]], axis=-1)\n",
        "            # performs a full training step on the collected batch\n",
        "            # note: no need to mess around with gradients, Keras API handles it\n",
        "            losses = self.model.train_on_batch(observations, [acts_and_advs, returns])\n",
        "            logging.debug(\"[%d/%d] Losses: %s\" % (update+1, updates, losses))\n",
        "        return ep_rews\n",
        "\n",
        "    def test(self, env, render=False):\n",
        "        obs, done, ep_reward = env.reset(), False, 0\n",
        "        while not done:\n",
        "            action, _ = self.model.action_value(obs[None, :])\n",
        "            obs, reward, done, _ = env.step(action)\n",
        "            ep_reward += reward\n",
        "            if render:\n",
        "                env.render()\n",
        "        return ep_reward\n",
        "\n",
        "    def _returns_advantages(self, rewards, dones, values, next_value):\n",
        "        # next_value is the bootstrap value estimate of a future state (the critic)\n",
        "        returns = np.append(np.zeros_like(rewards), next_value, axis=-1)\n",
        "        # returns are calculated as discounted sum of future rewards\n",
        "        for t in reversed(range(rewards.shape[0])):\n",
        "            returns[t] = rewards[t] + self.params['gamma'] * returns[t+1] * (1-dones[t])\n",
        "        returns = returns[:-1]\n",
        "        # advantages are returns - baseline, value estimates in our case\n",
        "        advantages = returns - values\n",
        "        return returns, advantages\n",
        "    \n",
        "    def _value_loss(self, returns, value):\n",
        "        # value loss is typically MSE between value estimates and returns\n",
        "        return self.params['value']*kls.mean_squared_error(returns, value)\n",
        "\n",
        "    def _logits_loss(self, acts_and_advs, logits):\n",
        "        # a trick to input actions and advantages through same API\n",
        "        actions, advantages = tf.split(acts_and_advs, 2, axis=-1)\n",
        "        # sparse categorical CE loss obj that supports sample_weight arg on call()\n",
        "        # from_logits argument ensures transformation into normalized probabilities\n",
        "        weighted_sparse_ce = kls.SparseCategoricalCrossentropy(from_logits=True)\n",
        "        # policy loss is defined by policy gradients, weighted by advantages\n",
        "        # note: we only calculate the loss on the actions we've actually taken\n",
        "        actions = tf.cast(actions, tf.int32)\n",
        "        policy_loss = weighted_sparse_ce(actions, logits, sample_weight=advantages)\n",
        "        # entropy loss can be calculated via CE over itself\n",
        "        entropy_loss = kls.categorical_crossentropy(logits, logits, from_logits=True)\n",
        "        # here signs are flipped because optimizer minimizes\n",
        "        return policy_loss - self.params['entropy']*entropy_loss      "
      ],
      "execution_count": 0,
      "outputs": []
    },
    {
      "metadata": {
        "id": "yYl1-wq4y1DX",
        "colab_type": "code",
        "colab": {}
      },
      "cell_type": "code",
      "source": [
        "model = Model(num_actions=env.action_space.n)\n",
        "agent = A2CAgent(model)"
      ],
      "execution_count": 0,
      "outputs": []
    },
    {
      "metadata": {
        "id": "uPKkpj-21woE",
        "colab_type": "code",
        "colab": {
          "base_uri": "https://localhost:8080/",
          "height": 1649
        },
        "outputId": "e2143f28-0283-4a48-e037-4b555ea2c4df"
      },
      "cell_type": "code",
      "source": [
        "%%time\n",
        "# set to logging.WARNING to disable logs or logging.DEBUG to see losses as well\n",
        "logging.getLogger().setLevel(logging.WARNING)\n",
        "\n",
        "rewards_history = agent.train(env, updates=10000)\n",
        "rewards_history"
      ],
      "execution_count": 61,
      "outputs": [
        {
          "output_type": "stream",
          "text": [
            "Done: episodes=    57  avgSteps=8125.60  avgTotalReward=-564.18\n",
            "Done: episodes=    58  avgSteps=8068.48  avgTotalReward=-562.91\n",
            "Done: episodes=    59  avgSteps=8230.92  avgTotalReward=-581.64\n",
            "Done: episodes=    60  avgSteps=8279.12  avgTotalReward=-586.61\n",
            "Done: episodes=    61  avgSteps=8286.16  avgTotalReward=-591.65\n",
            "Done: episodes=    62  avgSteps=8313.02  avgTotalReward=-594.24\n",
            "Done: episodes=    63  avgSteps=8195.81  avgTotalReward=-585.90\n",
            "Done: episodes=    64  avgSteps=8079.73  avgTotalReward=-578.41\n",
            "Done: episodes=    65  avgSteps=8011.48  avgTotalReward=-573.51\n",
            "Done: episodes=    66  avgSteps=7929.38  avgTotalReward=-568.32\n",
            "Done: episodes=    67  avgSteps=7850.70  avgTotalReward=-564.81\n",
            "Done: episodes=    68  avgSteps=7815.82  avgTotalReward=-562.66\n",
            "Done: episodes=    69  avgSteps=7888.99  avgTotalReward=-564.58\n",
            "Done: episodes=    70  avgSteps=7801.69  avgTotalReward=-559.07\n",
            "Done: episodes=    71  avgSteps=7900.90  avgTotalReward=-565.67\n",
            "Done: episodes=    72  avgSteps=7841.64  avgTotalReward=-560.19\n",
            "Done: episodes=    73  avgSteps=8102.60  avgTotalReward=-579.12\n",
            "Done: episodes=    74  avgSteps=8017.92  avgTotalReward=-574.23\n",
            "Done: episodes=    75  avgSteps=7948.24  avgTotalReward=-570.41\n",
            "Done: episodes=    76  avgSteps=7861.25  avgTotalReward=-564.88\n",
            "Done: episodes=    77  avgSteps=7872.73  avgTotalReward=-567.90\n",
            "Done: episodes=    78  avgSteps=7855.33  avgTotalReward=-567.22\n",
            "Done: episodes=    79  avgSteps=7785.92  avgTotalReward=-562.67\n",
            "Done: episodes=    80  avgSteps=7723.12  avgTotalReward=-558.76\n",
            "Done: episodes=    81  avgSteps=7783.58  avgTotalReward=-563.76\n",
            "Done: episodes=    82  avgSteps=7704.39  avgTotalReward=-558.38\n",
            "Done: episodes=    83  avgSteps=7732.60  avgTotalReward=-561.76\n",
            "Done: episodes=    84  avgSteps=7652.63  avgTotalReward=-555.87\n",
            "Done: episodes=    85  avgSteps=7600.91  avgTotalReward=-551.62\n",
            "Done: episodes=    86  avgSteps=7516.44  avgTotalReward=-545.54\n",
            "Done: episodes=    87  avgSteps=7491.01  avgTotalReward=-543.54\n",
            "Done: episodes=    88  avgSteps=7459.20  avgTotalReward=-542.47\n",
            "Done: episodes=    89  avgSteps=7429.36  avgTotalReward=-540.51\n",
            "Done: episodes=    90  avgSteps=7364.20  avgTotalReward=-535.80\n",
            "Done: episodes=    91  avgSteps=7297.41  avgTotalReward=-531.33\n",
            "Done: episodes=    92  avgSteps=7230.25  avgTotalReward=-526.79\n",
            "Done: episodes=    93  avgSteps=7182.80  avgTotalReward=-524.29\n",
            "Done: episodes=    94  avgSteps=7156.19  avgTotalReward=-522.77\n",
            "Done: episodes=    95  avgSteps=7087.71  avgTotalReward=-517.99\n",
            "Done: episodes=    96  avgSteps=7070.61  avgTotalReward=-516.08\n",
            "Done: episodes=    97  avgSteps=7069.90  avgTotalReward=-517.39\n",
            "Done: episodes=    98  avgSteps=7131.46  avgTotalReward=-523.45\n",
            "Done: episodes=    99  avgSteps=7118.79  avgTotalReward=-526.10\n",
            "Done: episodes=   100  avgSteps=7056.58  avgTotalReward=-521.46\n",
            "Done: episodes=   101  avgSteps=533.00  avgTotalReward=-83.88\n",
            "Done: episodes=   102  avgSteps=1756.50  avgTotalReward=-165.95\n",
            "Done: episodes=   103  avgSteps=1379.33  avgTotalReward=-118.96\n",
            "Done: episodes=   104  avgSteps=1365.75  avgTotalReward=-101.27\n",
            "Done: episodes=   105  avgSteps=1776.80  avgTotalReward=-145.95\n",
            "Done: episodes=   106  avgSteps=2019.83  avgTotalReward=-176.13\n",
            "Done: episodes=   107  avgSteps=1800.29  avgTotalReward=-157.72\n",
            "Done: episodes=   108  avgSteps=1603.00  avgTotalReward=-139.33\n",
            "Done: episodes=   109  avgSteps=1632.67  avgTotalReward=-138.51\n",
            "Done: episodes=   110  avgSteps=2558.40  avgTotalReward=-185.23\n",
            "Done: episodes=   111  avgSteps=2358.45  avgTotalReward=-168.87\n",
            "Done: episodes=   112  avgSteps=2257.58  avgTotalReward=-158.67\n",
            "Done: episodes=   113  avgSteps=2155.85  avgTotalReward=-157.52\n",
            "Done: episodes=   114  avgSteps=2083.00  avgTotalReward=-152.54\n",
            "Done: episodes=   115  avgSteps=2020.13  avgTotalReward=-148.40\n",
            "Done: episodes=   116  avgSteps=1919.44  avgTotalReward=-139.40\n",
            "Done: episodes=   117  avgSteps=1906.76  avgTotalReward=-139.27\n",
            "Done: episodes=   118  avgSteps=1818.78  avgTotalReward=-131.78\n",
            "Done: episodes=   119  avgSteps=1742.84  avgTotalReward=-125.18\n",
            "Done: episodes=   120  avgSteps=1678.75  avgTotalReward=-119.62\n",
            "Done: episodes=   121  avgSteps=1633.81  avgTotalReward=-116.02\n",
            "Done: episodes=   122  avgSteps=1692.55  avgTotalReward=-121.86\n",
            "Done: episodes=   123  avgSteps=1628.00  avgTotalReward=-117.95\n",
            "Done: episodes=   124  avgSteps=1578.29  avgTotalReward=-113.79\n",
            "Done: episodes=   125  avgSteps=1610.44  avgTotalReward=-119.77\n",
            "Done: episodes=   126  avgSteps=1551.88  avgTotalReward=-115.35\n",
            "Done: episodes=   127  avgSteps=1709.93  avgTotalReward=-130.80\n",
            "Done: episodes=   128  avgSteps=1650.25  avgTotalReward=-126.18\n",
            "Done: episodes=   129  avgSteps=1594.00  avgTotalReward=-121.81\n",
            "Done: episodes=   130  avgSteps=1550.93  avgTotalReward=-118.55\n",
            "Done: episodes=   131  avgSteps=1530.65  avgTotalReward=-118.50\n",
            "Done: episodes=   132  avgSteps=1483.41  avgTotalReward=-114.78\n",
            "Done: episodes=   133  avgSteps=1495.30  avgTotalReward=-114.71\n",
            "Done: episodes=   134  avgSteps=1486.29  avgTotalReward=-114.68\n",
            "Done: episodes=   135  avgSteps=1467.66  avgTotalReward=-112.84\n",
            "Done: episodes=   136  avgSteps=1460.39  avgTotalReward=-113.16\n",
            "Done: episodes=   137  avgSteps=1453.97  avgTotalReward=-111.34\n",
            "Done: episodes=   138  avgSteps=1480.13  avgTotalReward=-114.81\n",
            "Done: episodes=   139  avgSteps=1450.33  avgTotalReward=-113.00\n",
            "Done: episodes=   140  avgSteps=1450.80  avgTotalReward=-114.16\n",
            "Done: episodes=   141  avgSteps=1416.12  avgTotalReward=-111.37\n",
            "Done: episodes=   142  avgSteps=1388.67  avgTotalReward=-109.48\n",
            "Done: episodes=   143  avgSteps=1364.16  avgTotalReward=-107.38\n",
            "Done: episodes=   144  avgSteps=1403.32  avgTotalReward=-107.30\n",
            "Done: episodes=   145  avgSteps=1389.89  avgTotalReward=-105.49\n",
            "Done: episodes=   146  avgSteps=1359.93  avgTotalReward=-103.18\n",
            "Done: episodes=   147  avgSteps=1360.87  avgTotalReward=-103.52\n",
            "Done: episodes=   148  avgSteps=1356.52  avgTotalReward=-103.81\n",
            "Done: episodes=   149  avgSteps=1338.20  avgTotalReward=-101.95\n",
            "Done: episodes=   150  avgSteps=1323.76  avgTotalReward=-100.60\n",
            "CPU times: user 12min 1s, sys: 33.2 s, total: 12min 34s\n",
            "Wall time: 11min 26s\n"
          ],
          "name": "stdout"
        }
      ]
    },
    {
      "metadata": {
        "id": "Wr5bPJKH3uU0",
        "colab_type": "code",
        "colab": {
          "base_uri": "https://localhost:8080/",
          "height": 279
        },
        "outputId": "b426845d-d51d-4a60-cf26-0a1ac7f78ff2"
      },
      "cell_type": "code",
      "source": [
        "# plt.plot(rewards_history)\n",
        "plt.plot(rewards_history[::5])\n",
        "# plt.yscale('log')\n",
        "plt.xlabel('Episode')\n",
        "plt.ylabel('Total Reward')\n",
        "plt.show()"
      ],
      "execution_count": 72,
      "outputs": [
        {
          "output_type": "display_data",
          "data": {
            "image/png": "[encoded data removed]",
            "text/plain": [
              "<Figure size 432x288 with 1 Axes>"
            ]
          },
          "metadata": {
            "tags": []
          }
        }
      ]
    },
    {
      "metadata": {
        "id": "lrqJnS38267t",
        "colab_type": "code",
        "colab": {}
      },
      "cell_type": "code",
      "source": [
        ""
      ],
      "execution_count": 0,
      "outputs": []
    }
  ]
}