{
  "nbformat": 4,
  "nbformat_minor": 0,
  "metadata": {
    "colab": {
      "name": "Untitled5.ipynb",
      "version": "0.3.2",
      "provenance": [],
      "include_colab_link": true
    },
    "kernelspec": {
      "name": "python3",
      "display_name": "Python 3"
    }
  },
  "cells": [
    {
      "cell_type": "markdown",
      "metadata": {
        "id": "view-in-github",
        "colab_type": "text"
      },
      "source": [
        "<a href=\"https://colab.research.google.com/github/DJCordhose/ai/blob/master/notebooks/rl/berater-search-baseline.ipynb\" target=\"_parent\"><img src=\"https://colab.research.google.com/assets/colab-badge.svg\" alt=\"Open In Colab\"/></a>"
      ]
    },
    {
      "metadata": {
        "id": "34qHHgMuPOy-",
        "colab_type": "code",
        "colab": {}
      },
      "cell_type": "code",
      "source": [
        "static_map = {\n",
        "            'S': [('A', 300), ('B', 100), ('C', 200 )],\n",
        "            'A': [('S', 300), ('B', 100), ('E', 100 ), ('D', 100 )],\n",
        "            'B': [('S', 100), ('A', 100), ('C', 50 ), ('K', 200 )],\n",
        "            'C': [('S', 200), ('B', 50), ('M', 100 ), ('L', 200 )],\n",
        "            'D': [('A', 100), ('F', 50)],\n",
        "            'E': [('A', 100), ('F', 100), ('H', 100)],\n",
        "            'F': [('D', 50), ('E', 100), ('G', 200)],\n",
        "            'G': [('F', 200), ('O', 300)],\n",
        "            'H': [('E', 100), ('K', 300)],\n",
        "            'K': [('B', 200), ('H', 300)],\n",
        "            'L': [('C', 200), ('M', 50)],\n",
        "            'M': [('C', 100), ('L', 50), ('N', 100)],\n",
        "            'N': [('M', 100), ('O', 100)],\n",
        "            'O': [('N', 100), ('G', 300)]\n",
        "        }"
      ],
      "execution_count": 0,
      "outputs": []
    },
    {
      "metadata": {
        "id": "qpgHX738PQ6-",
        "colab_type": "code",
        "colab": {}
      },
      "cell_type": "code",
      "source": [
        "state = {\n",
        "    'rewards': {'S': 0, 'A': 0, 'B': 1000, 'C': 1000, 'D': 0, 'E': 1000, 'F': 0, 'G': 1000, 'H': 1000, 'K': 0, 'L': 0, 'M': 1000, 'N': 0, 'O': 0},\n",
        "    'position': 'S',\n",
        "    'reward': 0,\n",
        "    'cost': 0,\n",
        "    'path': ['S']\n",
        "}   "
      ],
      "execution_count": 0,
      "outputs": []
    },
    {
      "metadata": {
        "id": "JWMV_f8tPawg",
        "colab_type": "code",
        "colab": {}
      },
      "cell_type": "code",
      "source": [
        "from copy import deepcopy\n",
        "import json\n",
        "\n",
        "def as_string(state):\n",
        "  # reward/cost does not hurt, but is useless, path obsucres same state\n",
        "  new_state = {\n",
        "      'rewards': state['rewards'],\n",
        "      'position': state['position']\n",
        "  }\n",
        "  return json.dumps(new_state, sort_keys=True)\n",
        "  \n",
        "def is_goal(state):\n",
        "  if state['position'] != 'S': return False\n",
        "  for reward in state['rewards'].values():\n",
        "    if reward != 0: return False\n",
        "  return True\n",
        "    \n",
        "\n",
        "def expand(state):\n",
        "  states = []\n",
        "  for position, cost in static_map[state['position']]:\n",
        "    new_state = deepcopy(state)\n",
        "    new_state['position'] = position\n",
        "    new_state['rewards'][position] = 0\n",
        "    reward = state['rewards'][position]\n",
        "    new_state['reward'] += reward\n",
        "    new_state['cost'] += cost\n",
        "    new_state['path'].append(position)\n",
        "    states.append(new_state)\n",
        "  return states"
      ],
      "execution_count": 0,
      "outputs": []
    },
    {
      "metadata": {
        "id": "VH0xP8nrbDOL",
        "colab_type": "code",
        "colab": {}
      },
      "cell_type": "code",
      "source": [
        "def search(root, max_depth = 15):\n",
        "    closed = set()\n",
        "\n",
        "    open = []\n",
        "    open.append(root)\n",
        "    \n",
        "    while open:\n",
        "        state = open.pop(0)\n",
        "        if as_string(state) in closed: continue  \n",
        "\n",
        "        closed.add(as_string(state))\n",
        "        \n",
        "        depth = len(state['path'])\n",
        "        if depth > max_depth:\n",
        "          print(\"Visited:\", len(closed))\n",
        "          print(\"Reached max depth, without reaching goal\")\n",
        "          return None\n",
        "        \n",
        "        if is_goal(state):\n",
        "            print(\"Visited:\", len(closed))\n",
        "            print(\"Open:\", len(open))\n",
        "            print(\"Scaled reward:\", (state['reward'] - state['cost']) / 6000)            \n",
        "            print(\"Perfect path\", state['path'])\n",
        "            return state\n",
        "\n",
        "        expanded = expand(state)\n",
        "        open += expanded\n",
        "        # make this Dijkstra\n",
        "        open.sort(key=lambda state: state['cost'])"
      ],
      "execution_count": 0,
      "outputs": []
    },
    {
      "metadata": {
        "id": "gf8xPyt7fGpM",
        "colab_type": "code",
        "outputId": "5949dd6a-8c56-4623-9ca4-2a7d9eed3a40",
        "colab": {
          "base_uri": "https://localhost:8080/",
          "height": 656
        }
      },
      "cell_type": "code",
      "source": [
        "%time search(state)"
      ],
      "execution_count": 43,
      "outputs": [
        {
          "output_type": "stream",
          "text": [
            "Visited: 381\n",
            "Open: 115\n",
            "Scaled reward: 0.7416666666666667\n",
            "Perfect path ['S', 'B', 'C', 'M', 'N', 'O', 'G', 'F', 'E', 'H', 'E', 'A', 'B', 'S']\n",
            "CPU times: user 80.5 ms, sys: 2.52 ms, total: 83.1 ms\n",
            "Wall time: 85.6 ms\n"
          ],
          "name": "stdout"
        },
        {
          "output_type": "execute_result",
          "data": {
            "text/plain": [
              "{'cost': 1550,\n",
              " 'path': ['S',\n",
              "  'B',\n",
              "  'C',\n",
              "  'M',\n",
              "  'N',\n",
              "  'O',\n",
              "  'G',\n",
              "  'F',\n",
              "  'E',\n",
              "  'H',\n",
              "  'E',\n",
              "  'A',\n",
              "  'B',\n",
              "  'S'],\n",
              " 'position': 'S',\n",
              " 'reward': 6000,\n",
              " 'rewards': {'A': 0,\n",
              "  'B': 0,\n",
              "  'C': 0,\n",
              "  'D': 0,\n",
              "  'E': 0,\n",
              "  'F': 0,\n",
              "  'G': 0,\n",
              "  'H': 0,\n",
              "  'K': 0,\n",
              "  'L': 0,\n",
              "  'M': 0,\n",
              "  'N': 0,\n",
              "  'O': 0,\n",
              "  'S': 0}}"
            ]
          },
          "metadata": {
            "tags": []
          },
          "execution_count": 43
        }
      ]
    },
    {
      "metadata": {
        "id": "wch7Z4SJh_8u",
        "colab_type": "code",
        "colab": {}
      },
      "cell_type": "code",
      "source": [
        ""
      ],
      "execution_count": 0,
      "outputs": []
    }
  ]
}