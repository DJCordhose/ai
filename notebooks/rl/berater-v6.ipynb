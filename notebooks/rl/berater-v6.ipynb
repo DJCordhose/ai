{
  "nbformat": 4,
  "nbformat_minor": 0,
  "metadata": {
    "colab": {
      "name": "berater-v6.ipynb",
      "version": "0.3.2",
      "provenance": [],
      "include_colab_link": true
    },
    "kernelspec": {
      "display_name": "Python 3",
      "language": "python",
      "name": "python3"
    },
    "accelerator": "GPU"
  },
  "cells": [
    {
      "cell_type": "markdown",
      "metadata": {
        "id": "view-in-github",
        "colab_type": "text"
      },
      "source": [
        "<a href=\"https://colab.research.google.com/github/DJCordhose/ai/blob/master/notebooks/rl/berater-v6.ipynb\" target=\"_parent\"><img src=\"https://colab.research.google.com/assets/colab-badge.svg\" alt=\"Open In Colab\"/></a>"
      ]
    },
    {
      "metadata": {
        "colab_type": "text",
        "id": "eU7ylMh1kQ2y"
      },
      "cell_type": "markdown",
      "source": [
        "# Berater Environment v6\n",
        "\n",
        "## Changes from v5\n",
        "  1. use complex customer graph \n",
        "  \n",
        "## next steps\n",
        "1. per episode set certain rewards to 0 to simulate different customers per consultant\n",
        "  1. make sure things generalize well\n",
        "  \n"
      ]
    },
    {
      "metadata": {
        "colab_type": "text",
        "id": "zpzHtN3-kQ26"
      },
      "cell_type": "markdown",
      "source": [
        "## Installation (required for colab)"
      ]
    },
    {
      "metadata": {
        "colab_type": "code",
        "id": "0E567zPTkQ28",
        "colab": {}
      },
      "cell_type": "code",
      "source": [
        "!pip install git+https://github.com/openai/baselines >/dev/null\n",
        "!pip install gym >/dev/null"
      ],
      "execution_count": 0,
      "outputs": []
    },
    {
      "metadata": {
        "id": "w3OdHyWEEEwy",
        "colab_type": "text"
      },
      "cell_type": "markdown",
      "source": [
        "## Environment"
      ]
    },
    {
      "metadata": {
        "colab_type": "code",
        "id": "-S4sZG5ZkQ3T",
        "colab": {}
      },
      "cell_type": "code",
      "source": [
        "import numpy\n",
        "import gym\n",
        "from gym.utils import seeding\n",
        "from gym import spaces\n",
        "\n",
        "def state_name_to_int(state):\n",
        "    state_name_map = {\n",
        "        'S': 0,\n",
        "        'A': 1,\n",
        "        'B': 2,\n",
        "        'C': 3,\n",
        "        'D': 4,\n",
        "        'E': 5,\n",
        "        'F': 6,\n",
        "        'G': 7,\n",
        "        'H': 8,\n",
        "        'K': 9,\n",
        "        'L': 10,\n",
        "        'M': 11,\n",
        "        'N': 12,\n",
        "        'O': 13\n",
        "    }\n",
        "    return state_name_map[state]\n",
        "\n",
        "def int_to_state_name(state_as_int):\n",
        "    state_map = {\n",
        "        0: 'S',\n",
        "        1: 'A',\n",
        "        2: 'B',\n",
        "        3: 'C',\n",
        "        4: 'D',\n",
        "        5: 'E',\n",
        "        6: 'F',\n",
        "        7: 'G',\n",
        "        8: 'H',\n",
        "        9: 'K',\n",
        "        10: 'L',\n",
        "        11: 'M',\n",
        "        12: 'N',\n",
        "        13: 'O'\n",
        "    }\n",
        "    return state_map[state_as_int]\n",
        "    \n",
        "class BeraterEnv(gym.Env):\n",
        "    \"\"\"\n",
        "    The Berater Problem\n",
        "\n",
        "    Actions: \n",
        "    There are 4 discrete deterministic actions, each choosing one direction\n",
        "    \"\"\"\n",
        "    metadata = {'render.modes': ['ansi']}\n",
        "    \n",
        "    showStep = False\n",
        "    showDone = True\n",
        "    envEpisodeModulo = 100\n",
        "\n",
        "    def __init__(self):\n",
        "#         self.map = {\n",
        "#             'S': [('A', 100), ('B', 400), ('C', 200 )],\n",
        "#             'A': [('B', 250), ('C', 400), ('S', 100 )],\n",
        "#             'B': [('A', 250), ('C', 250), ('S', 400 )],\n",
        "#             'C': [('A', 400), ('B', 250), ('S', 200 )]\n",
        "#         }\n",
        "        self.map = {\n",
        "            'S': [('A', 300), ('B', 100), ('C', 200 )],\n",
        "            'A': [('S', 300), ('B', 100), ('E', 100 ), ('D', 100 )],\n",
        "            'B': [('S', 100), ('A', 100), ('C', 50 ), ('K', 200 )],\n",
        "            'C': [('S', 200), ('B', 50), ('M', 100 ), ('L', 200 )],\n",
        "            'D': [('A', 100), ('F', 50)],\n",
        "            'E': [('A', 100), ('F', 100), ('H', 100)],\n",
        "            'F': [('D', 50), ('E', 100), ('G', 200)],\n",
        "            'G': [('F', 200), ('O', 300)],\n",
        "            'H': [('E', 100), ('K', 300)],\n",
        "            'K': [('B', 200), ('H', 300)],\n",
        "            'L': [('C', 200), ('M', 50)],\n",
        "            'M': [('C', 100), ('L', 50), ('N', 100)],\n",
        "            'N': [('M', 100), ('O', 100)],\n",
        "            'O': [('N', 100), ('G', 300)]\n",
        "        }\n",
        "        self.action_space = spaces.Discrete(4)\n",
        "        # position, and up to 4 paths from that position, non existing path is -1000 and no position change\n",
        "        self.observation_space = spaces.Box(low=numpy.array([0,-1000,-1000,-1000,-1000]),\n",
        "                                             high=numpy.array([13,1000,1000,1000,1000]),\n",
        "                                             dtype=numpy.float32)\n",
        "        self.reward_range = (-1, 1)\n",
        "\n",
        "        self.totalReward = 0\n",
        "        self.stepCount = 0\n",
        "        self.isDone = False\n",
        "\n",
        "        self.envReward = 0\n",
        "        self.envEpisodeCount = 0\n",
        "        self.envStepCount = 0\n",
        "\n",
        "        self.reset()\n",
        "        self.optimum = self.calculate_customers_reward()\n",
        "\n",
        "    def seed(self, seed=None):\n",
        "        self.np_random, seed = seeding.np_random(seed)\n",
        "        return [seed]\n",
        "\n",
        "    def iterate_path(self, state, action):\n",
        "        paths = self.map[state]\n",
        "        if action < len(paths):\n",
        "          return paths[action]\n",
        "        else:\n",
        "          # sorry, no such action, stay where you are and pay a high penalty\n",
        "          return (state, 1000)\n",
        "      \n",
        "    def step(self, action):\n",
        "        destination, cost = self.iterate_path(self.state, action)\n",
        "        lastState = self.state\n",
        "        customerReward = self.customer_reward[destination]\n",
        "        reward = (customerReward - cost) / self.optimum\n",
        "\n",
        "        self.state = destination\n",
        "        self.customer_visited(destination)\n",
        "        done = destination == 'S' and self.all_customers_visited()\n",
        "\n",
        "        stateAsInt = state_name_to_int(self.state)\n",
        "        self.totalReward += reward\n",
        "        self.stepCount += 1\n",
        "        self.envReward += reward\n",
        "        self.envStepCount += 1\n",
        "\n",
        "        if self.showStep:\n",
        "            print( \"Episode: \" + (\"%4.0f  \" % self.envEpisodeCount) + \n",
        "                   \" Step: \" + (\"%4.0f  \" % self.stepCount) + \n",
        "                   lastState + ' --' + str(action) + '-> ' + self.state + \n",
        "                   ' R=' + (\"% 2.2f\" % reward) + ' totalR=' + (\"% 3.2f\" % self.totalReward) + \n",
        "                   ' cost=' + (\"%4.0f\" % cost) + ' customerR=' + (\"%4.0f\" % customerReward) + ' optimum=' + (\"%4.0f\" % self.optimum)      \n",
        "                   )\n",
        "\n",
        "        if done and not self.isDone:\n",
        "            self.envEpisodeCount += 1\n",
        "            if BeraterEnv.showDone:\n",
        "                episodes = BeraterEnv.envEpisodeModulo\n",
        "                if (self.envEpisodeCount % BeraterEnv.envEpisodeModulo != 0):\n",
        "                    episodes = self.envEpisodeCount % BeraterEnv.envEpisodeModulo\n",
        "                print( \"Done: \" + \n",
        "                        (\"episodes=%6.0f  \" % self.envEpisodeCount) + \n",
        "                        (\"avgSteps=%6.2f  \" % (self.envStepCount/episodes)) + \n",
        "                        (\"avgTotalReward=% 3.2f\" % (self.envReward/episodes) )\n",
        "                        )\n",
        "                if (self.envEpisodeCount%BeraterEnv.envEpisodeModulo) == 0:\n",
        "                    self.envReward = 0\n",
        "                    self.envStepCount = 0\n",
        "\n",
        "        self.isDone = done\n",
        "        observation = self.getObservation(stateAsInt)\n",
        "        info = {\"from\": self.state, \"to\": destination}\n",
        "\n",
        "        return observation, reward, done, info\n",
        "\n",
        "    def getObservation(self, position):\n",
        "        result = numpy.array([ position, \n",
        "                               self.getPathObservation(position, 0),\n",
        "                               self.getPathObservation(position, 1),\n",
        "                               self.getPathObservation(position, 2),\n",
        "                               self.getPathObservation(position, 3)\n",
        "                              ],\n",
        "                             dtype=numpy.float32)\n",
        "        return result\n",
        "\n",
        "    def getPathObservation(self, position, path):\n",
        "        source = int_to_state_name(position)\n",
        "        paths = self.map[self.state]\n",
        "        if path < len(paths):\n",
        "          target, cost = paths[path]\n",
        "          reward = self.customer_reward[target] \n",
        "          result = reward - cost\n",
        "        else:\n",
        "          result = -1000\n",
        "\n",
        "        return result\n",
        "\n",
        "    def customer_visited(self, customer):\n",
        "        self.customer_reward[customer] = 0\n",
        "\n",
        "    def all_customers_visited(self):\n",
        "        return self.calculate_customers_reward() == 0\n",
        "\n",
        "    def calculate_customers_reward(self):\n",
        "        sum = 0\n",
        "        for value in self.customer_reward.values():\n",
        "            sum += value\n",
        "        return sum\n",
        "\n",
        "    def reset(self):\n",
        "        self.totalReward = 0\n",
        "        self.stepCount = 0\n",
        "        self.isDone = False\n",
        "        reward_per_customer = 1000\n",
        "        self.customer_reward = {\n",
        "            'S': 0,\n",
        "            'A': reward_per_customer,\n",
        "            'B': reward_per_customer,\n",
        "            'C': reward_per_customer,\n",
        "            'D': reward_per_customer,\n",
        "            'E': reward_per_customer,\n",
        "            'F': reward_per_customer,\n",
        "            'G': reward_per_customer,\n",
        "            'H': reward_per_customer,\n",
        "            'K': reward_per_customer,\n",
        "            'L': reward_per_customer,\n",
        "            'M': reward_per_customer,\n",
        "            'N': reward_per_customer,\n",
        "            'O': reward_per_customer\n",
        "        }\n",
        "\n",
        "        self.state = 'S'\n",
        "        return self.getObservation(state_name_to_int(self.state))"
      ],
      "execution_count": 0,
      "outputs": []
    },
    {
      "metadata": {
        "colab_type": "text",
        "id": "Usj9iWTskQ3t"
      },
      "cell_type": "markdown",
      "source": [
        "# Try out Environment"
      ]
    },
    {
      "metadata": {
        "colab_type": "code",
        "id": "oTtUfeONkQ3w",
        "outputId": "0d5c2c51-0420-4e89-8170-d300c4204e26",
        "colab": {
          "base_uri": "https://localhost:8080/",
          "height": 3471
        }
      },
      "cell_type": "code",
      "source": [
        "BeraterEnv.showStep = True\n",
        "BeraterEnv.showDone = True\n",
        "\n",
        "env = BeraterEnv()\n",
        "print(env)\n",
        "observation = env.reset()\n",
        "print(observation)\n",
        "\n",
        "for t in range(1000):\n",
        "    action = env.action_space.sample()\n",
        "    observation, reward, done, info = env.step(action)\n",
        "    if done:\n",
        "        print(\"Episode finished after {} timesteps\".format(t+1))\n",
        "        break\n",
        "env.close()\n",
        "print(observation)"
      ],
      "execution_count": 3,
      "outputs": [
        {
          "output_type": "stream",
          "text": [
            "<BeraterEnv instance>\n",
            "[    0.   700.   900.   800. -1000.]\n",
            "Episode:    0   Step:    1  S --0-> A R= 0.05 totalR= 0.05 cost= 300 customerR=1000 optimum=13000\n",
            "Episode:    0   Step:    2  A --3-> D R= 0.07 totalR= 0.12 cost= 100 customerR=1000 optimum=13000\n",
            "Episode:    0   Step:    3  D --1-> F R= 0.07 totalR= 0.20 cost=  50 customerR=1000 optimum=13000\n",
            "Episode:    0   Step:    4  F --0-> D R=-0.00 totalR= 0.19 cost=  50 customerR=   0 optimum=13000\n",
            "Episode:    0   Step:    5  D --3-> D R=-0.08 totalR= 0.12 cost=1000 customerR=   0 optimum=13000\n",
            "Episode:    0   Step:    6  D --3-> D R=-0.08 totalR= 0.04 cost=1000 customerR=   0 optimum=13000\n",
            "Episode:    0   Step:    7  D --3-> D R=-0.08 totalR=-0.04 cost=1000 customerR=   0 optimum=13000\n",
            "Episode:    0   Step:    8  D --3-> D R=-0.08 totalR=-0.12 cost=1000 customerR=   0 optimum=13000\n",
            "Episode:    0   Step:    9  D --1-> F R=-0.00 totalR=-0.12 cost=  50 customerR=   0 optimum=13000\n",
            "Episode:    0   Step:   10  F --3-> F R=-0.08 totalR=-0.20 cost=1000 customerR=   0 optimum=13000\n",
            "Episode:    0   Step:   11  F --1-> E R= 0.07 totalR=-0.13 cost= 100 customerR=1000 optimum=13000\n",
            "Episode:    0   Step:   12  E --2-> H R= 0.07 totalR=-0.06 cost= 100 customerR=1000 optimum=13000\n",
            "Episode:    0   Step:   13  H --0-> E R=-0.01 totalR=-0.07 cost= 100 customerR=   0 optimum=13000\n",
            "Episode:    0   Step:   14  E --3-> E R=-0.08 totalR=-0.14 cost=1000 customerR=   0 optimum=13000\n",
            "Episode:    0   Step:   15  E --2-> H R=-0.01 totalR=-0.15 cost= 100 customerR=   0 optimum=13000\n",
            "Episode:    0   Step:   16  H --0-> E R=-0.01 totalR=-0.16 cost= 100 customerR=   0 optimum=13000\n",
            "Episode:    0   Step:   17  E --0-> A R=-0.01 totalR=-0.17 cost= 100 customerR=   0 optimum=13000\n",
            "Episode:    0   Step:   18  A --0-> S R=-0.02 totalR=-0.19 cost= 300 customerR=   0 optimum=13000\n",
            "Episode:    0   Step:   19  S --2-> C R= 0.06 totalR=-0.13 cost= 200 customerR=1000 optimum=13000\n",
            "Episode:    0   Step:   20  C --1-> B R= 0.07 totalR=-0.05 cost=  50 customerR=1000 optimum=13000\n",
            "Episode:    0   Step:   21  B --2-> C R=-0.00 totalR=-0.06 cost=  50 customerR=   0 optimum=13000\n",
            "Episode:    0   Step:   22  C --3-> L R= 0.06 totalR= 0.00 cost= 200 customerR=1000 optimum=13000\n",
            "Episode:    0   Step:   23  L --3-> L R=-0.08 totalR=-0.07 cost=1000 customerR=   0 optimum=13000\n",
            "Episode:    0   Step:   24  L --2-> L R=-0.08 totalR=-0.15 cost=1000 customerR=   0 optimum=13000\n",
            "Episode:    0   Step:   25  L --0-> C R=-0.02 totalR=-0.17 cost= 200 customerR=   0 optimum=13000\n",
            "Episode:    0   Step:   26  C --1-> B R=-0.00 totalR=-0.17 cost=  50 customerR=   0 optimum=13000\n",
            "Episode:    0   Step:   27  B --1-> A R=-0.01 totalR=-0.18 cost= 100 customerR=   0 optimum=13000\n",
            "Episode:    0   Step:   28  A --1-> B R=-0.01 totalR=-0.18 cost= 100 customerR=   0 optimum=13000\n",
            "Episode:    0   Step:   29  B --1-> A R=-0.01 totalR=-0.19 cost= 100 customerR=   0 optimum=13000\n",
            "Episode:    0   Step:   30  A --0-> S R=-0.02 totalR=-0.22 cost= 300 customerR=   0 optimum=13000\n",
            "Episode:    0   Step:   31  S --1-> B R=-0.01 totalR=-0.22 cost= 100 customerR=   0 optimum=13000\n",
            "Episode:    0   Step:   32  B --0-> S R=-0.01 totalR=-0.23 cost= 100 customerR=   0 optimum=13000\n",
            "Episode:    0   Step:   33  S --3-> S R=-0.08 totalR=-0.31 cost=1000 customerR=   0 optimum=13000\n",
            "Episode:    0   Step:   34  S --0-> A R=-0.02 totalR=-0.33 cost= 300 customerR=   0 optimum=13000\n",
            "Episode:    0   Step:   35  A --3-> D R=-0.01 totalR=-0.34 cost= 100 customerR=   0 optimum=13000\n",
            "Episode:    0   Step:   36  D --1-> F R=-0.00 totalR=-0.34 cost=  50 customerR=   0 optimum=13000\n",
            "Episode:    0   Step:   37  F --2-> G R= 0.06 totalR=-0.28 cost= 200 customerR=1000 optimum=13000\n",
            "Episode:    0   Step:   38  G --3-> G R=-0.08 totalR=-0.36 cost=1000 customerR=   0 optimum=13000\n",
            "Episode:    0   Step:   39  G --3-> G R=-0.08 totalR=-0.43 cost=1000 customerR=   0 optimum=13000\n",
            "Episode:    0   Step:   40  G --0-> F R=-0.02 totalR=-0.45 cost= 200 customerR=   0 optimum=13000\n",
            "Episode:    0   Step:   41  F --2-> G R=-0.02 totalR=-0.47 cost= 200 customerR=   0 optimum=13000\n",
            "Episode:    0   Step:   42  G --3-> G R=-0.08 totalR=-0.54 cost=1000 customerR=   0 optimum=13000\n",
            "Episode:    0   Step:   43  G --0-> F R=-0.02 totalR=-0.56 cost= 200 customerR=   0 optimum=13000\n",
            "Episode:    0   Step:   44  F --1-> E R=-0.01 totalR=-0.57 cost= 100 customerR=   0 optimum=13000\n",
            "Episode:    0   Step:   45  E --3-> E R=-0.08 totalR=-0.64 cost=1000 customerR=   0 optimum=13000\n",
            "Episode:    0   Step:   46  E --1-> F R=-0.01 totalR=-0.65 cost= 100 customerR=   0 optimum=13000\n",
            "Episode:    0   Step:   47  F --3-> F R=-0.08 totalR=-0.73 cost=1000 customerR=   0 optimum=13000\n",
            "Episode:    0   Step:   48  F --3-> F R=-0.08 totalR=-0.80 cost=1000 customerR=   0 optimum=13000\n",
            "Episode:    0   Step:   49  F --2-> G R=-0.02 totalR=-0.82 cost= 200 customerR=   0 optimum=13000\n",
            "Episode:    0   Step:   50  G --3-> G R=-0.08 totalR=-0.90 cost=1000 customerR=   0 optimum=13000\n",
            "Episode:    0   Step:   51  G --0-> F R=-0.02 totalR=-0.91 cost= 200 customerR=   0 optimum=13000\n",
            "Episode:    0   Step:   52  F --1-> E R=-0.01 totalR=-0.92 cost= 100 customerR=   0 optimum=13000\n",
            "Episode:    0   Step:   53  E --1-> F R=-0.01 totalR=-0.93 cost= 100 customerR=   0 optimum=13000\n",
            "Episode:    0   Step:   54  F --1-> E R=-0.01 totalR=-0.93 cost= 100 customerR=   0 optimum=13000\n",
            "Episode:    0   Step:   55  E --3-> E R=-0.08 totalR=-1.01 cost=1000 customerR=   0 optimum=13000\n",
            "Episode:    0   Step:   56  E --0-> A R=-0.01 totalR=-1.02 cost= 100 customerR=   0 optimum=13000\n",
            "Episode:    0   Step:   57  A --3-> D R=-0.01 totalR=-1.03 cost= 100 customerR=   0 optimum=13000\n",
            "Episode:    0   Step:   58  D --2-> D R=-0.08 totalR=-1.10 cost=1000 customerR=   0 optimum=13000\n",
            "Episode:    0   Step:   59  D --0-> A R=-0.01 totalR=-1.11 cost= 100 customerR=   0 optimum=13000\n",
            "Episode:    0   Step:   60  A --3-> D R=-0.01 totalR=-1.12 cost= 100 customerR=   0 optimum=13000\n",
            "Episode:    0   Step:   61  D --3-> D R=-0.08 totalR=-1.20 cost=1000 customerR=   0 optimum=13000\n",
            "Episode:    0   Step:   62  D --2-> D R=-0.08 totalR=-1.27 cost=1000 customerR=   0 optimum=13000\n",
            "Episode:    0   Step:   63  D --3-> D R=-0.08 totalR=-1.35 cost=1000 customerR=   0 optimum=13000\n",
            "Episode:    0   Step:   64  D --2-> D R=-0.08 totalR=-1.43 cost=1000 customerR=   0 optimum=13000\n",
            "Episode:    0   Step:   65  D --3-> D R=-0.08 totalR=-1.50 cost=1000 customerR=   0 optimum=13000\n",
            "Episode:    0   Step:   66  D --0-> A R=-0.01 totalR=-1.51 cost= 100 customerR=   0 optimum=13000\n",
            "Episode:    0   Step:   67  A --2-> E R=-0.01 totalR=-1.52 cost= 100 customerR=   0 optimum=13000\n",
            "Episode:    0   Step:   68  E --0-> A R=-0.01 totalR=-1.53 cost= 100 customerR=   0 optimum=13000\n",
            "Episode:    0   Step:   69  A --0-> S R=-0.02 totalR=-1.55 cost= 300 customerR=   0 optimum=13000\n",
            "Episode:    0   Step:   70  S --0-> A R=-0.02 totalR=-1.57 cost= 300 customerR=   0 optimum=13000\n",
            "Episode:    0   Step:   71  A --1-> B R=-0.01 totalR=-1.58 cost= 100 customerR=   0 optimum=13000\n",
            "Episode:    0   Step:   72  B --1-> A R=-0.01 totalR=-1.59 cost= 100 customerR=   0 optimum=13000\n",
            "Episode:    0   Step:   73  A --2-> E R=-0.01 totalR=-1.60 cost= 100 customerR=   0 optimum=13000\n",
            "Episode:    0   Step:   74  E --0-> A R=-0.01 totalR=-1.60 cost= 100 customerR=   0 optimum=13000\n",
            "Episode:    0   Step:   75  A --0-> S R=-0.02 totalR=-1.63 cost= 300 customerR=   0 optimum=13000\n",
            "Episode:    0   Step:   76  S --1-> B R=-0.01 totalR=-1.63 cost= 100 customerR=   0 optimum=13000\n",
            "Episode:    0   Step:   77  B --3-> K R= 0.06 totalR=-1.57 cost= 200 customerR=1000 optimum=13000\n",
            "Episode:    0   Step:   78  K --0-> B R=-0.02 totalR=-1.59 cost= 200 customerR=   0 optimum=13000\n",
            "Episode:    0   Step:   79  B --1-> A R=-0.01 totalR=-1.60 cost= 100 customerR=   0 optimum=13000\n",
            "Episode:    0   Step:   80  A --2-> E R=-0.01 totalR=-1.60 cost= 100 customerR=   0 optimum=13000\n",
            "Episode:    0   Step:   81  E --2-> H R=-0.01 totalR=-1.61 cost= 100 customerR=   0 optimum=13000\n",
            "Episode:    0   Step:   82  H --3-> H R=-0.08 totalR=-1.69 cost=1000 customerR=   0 optimum=13000\n",
            "Episode:    0   Step:   83  H --0-> E R=-0.01 totalR=-1.70 cost= 100 customerR=   0 optimum=13000\n",
            "Episode:    0   Step:   84  E --1-> F R=-0.01 totalR=-1.70 cost= 100 customerR=   0 optimum=13000\n",
            "Episode:    0   Step:   85  F --1-> E R=-0.01 totalR=-1.71 cost= 100 customerR=   0 optimum=13000\n",
            "Episode:    0   Step:   86  E --3-> E R=-0.08 totalR=-1.79 cost=1000 customerR=   0 optimum=13000\n",
            "Episode:    0   Step:   87  E --1-> F R=-0.01 totalR=-1.80 cost= 100 customerR=   0 optimum=13000\n",
            "Episode:    0   Step:   88  F --1-> E R=-0.01 totalR=-1.80 cost= 100 customerR=   0 optimum=13000\n",
            "Episode:    0   Step:   89  E --3-> E R=-0.08 totalR=-1.88 cost=1000 customerR=   0 optimum=13000\n",
            "Episode:    0   Step:   90  E --2-> H R=-0.01 totalR=-1.89 cost= 100 customerR=   0 optimum=13000\n",
            "Episode:    0   Step:   91  H --3-> H R=-0.08 totalR=-1.97 cost=1000 customerR=   0 optimum=13000\n",
            "Episode:    0   Step:   92  H --3-> H R=-0.08 totalR=-2.04 cost=1000 customerR=   0 optimum=13000\n",
            "Episode:    0   Step:   93  H --2-> H R=-0.08 totalR=-2.12 cost=1000 customerR=   0 optimum=13000\n",
            "Episode:    0   Step:   94  H --2-> H R=-0.08 totalR=-2.20 cost=1000 customerR=   0 optimum=13000\n",
            "Episode:    0   Step:   95  H --3-> H R=-0.08 totalR=-2.27 cost=1000 customerR=   0 optimum=13000\n",
            "Episode:    0   Step:   96  H --0-> E R=-0.01 totalR=-2.28 cost= 100 customerR=   0 optimum=13000\n",
            "Episode:    0   Step:   97  E --2-> H R=-0.01 totalR=-2.29 cost= 100 customerR=   0 optimum=13000\n",
            "Episode:    0   Step:   98  H --3-> H R=-0.08 totalR=-2.37 cost=1000 customerR=   0 optimum=13000\n",
            "Episode:    0   Step:   99  H --1-> K R=-0.02 totalR=-2.39 cost= 300 customerR=   0 optimum=13000\n",
            "Episode:    0   Step:  100  K --0-> B R=-0.02 totalR=-2.40 cost= 200 customerR=   0 optimum=13000\n",
            "Episode:    0   Step:  101  B --1-> A R=-0.01 totalR=-2.41 cost= 100 customerR=   0 optimum=13000\n",
            "Episode:    0   Step:  102  A --2-> E R=-0.01 totalR=-2.42 cost= 100 customerR=   0 optimum=13000\n",
            "Episode:    0   Step:  103  E --0-> A R=-0.01 totalR=-2.43 cost= 100 customerR=   0 optimum=13000\n",
            "Episode:    0   Step:  104  A --3-> D R=-0.01 totalR=-2.43 cost= 100 customerR=   0 optimum=13000\n",
            "Episode:    0   Step:  105  D --0-> A R=-0.01 totalR=-2.44 cost= 100 customerR=   0 optimum=13000\n",
            "Episode:    0   Step:  106  A --2-> E R=-0.01 totalR=-2.45 cost= 100 customerR=   0 optimum=13000\n",
            "Episode:    0   Step:  107  E --0-> A R=-0.01 totalR=-2.46 cost= 100 customerR=   0 optimum=13000\n",
            "Episode:    0   Step:  108  A --3-> D R=-0.01 totalR=-2.47 cost= 100 customerR=   0 optimum=13000\n",
            "Episode:    0   Step:  109  D --3-> D R=-0.08 totalR=-2.54 cost=1000 customerR=   0 optimum=13000\n",
            "Episode:    0   Step:  110  D --0-> A R=-0.01 totalR=-2.55 cost= 100 customerR=   0 optimum=13000\n",
            "Episode:    0   Step:  111  A --3-> D R=-0.01 totalR=-2.56 cost= 100 customerR=   0 optimum=13000\n",
            "Episode:    0   Step:  112  D --0-> A R=-0.01 totalR=-2.57 cost= 100 customerR=   0 optimum=13000\n",
            "Episode:    0   Step:  113  A --0-> S R=-0.02 totalR=-2.59 cost= 300 customerR=   0 optimum=13000\n",
            "Episode:    0   Step:  114  S --0-> A R=-0.02 totalR=-2.61 cost= 300 customerR=   0 optimum=13000\n",
            "Episode:    0   Step:  115  A --0-> S R=-0.02 totalR=-2.63 cost= 300 customerR=   0 optimum=13000\n",
            "Episode:    0   Step:  116  S --2-> C R=-0.02 totalR=-2.65 cost= 200 customerR=   0 optimum=13000\n",
            "Episode:    0   Step:  117  C --3-> L R=-0.02 totalR=-2.67 cost= 200 customerR=   0 optimum=13000\n",
            "Episode:    0   Step:  118  L --0-> C R=-0.02 totalR=-2.68 cost= 200 customerR=   0 optimum=13000\n",
            "Episode:    0   Step:  119  C --3-> L R=-0.02 totalR=-2.70 cost= 200 customerR=   0 optimum=13000\n",
            "Episode:    0   Step:  120  L --2-> L R=-0.08 totalR=-2.77 cost=1000 customerR=   0 optimum=13000\n",
            "Episode:    0   Step:  121  L --3-> L R=-0.08 totalR=-2.85 cost=1000 customerR=   0 optimum=13000\n",
            "Episode:    0   Step:  122  L --3-> L R=-0.08 totalR=-2.93 cost=1000 customerR=   0 optimum=13000\n",
            "Episode:    0   Step:  123  L --1-> M R= 0.07 totalR=-2.85 cost=  50 customerR=1000 optimum=13000\n",
            "Episode:    0   Step:  124  M --1-> L R=-0.00 totalR=-2.86 cost=  50 customerR=   0 optimum=13000\n",
            "Episode:    0   Step:  125  L --1-> M R=-0.00 totalR=-2.86 cost=  50 customerR=   0 optimum=13000\n",
            "Episode:    0   Step:  126  M --0-> C R=-0.01 totalR=-2.87 cost= 100 customerR=   0 optimum=13000\n",
            "Episode:    0   Step:  127  C --1-> B R=-0.00 totalR=-2.87 cost=  50 customerR=   0 optimum=13000\n",
            "Episode:    0   Step:  128  B --1-> A R=-0.01 totalR=-2.88 cost= 100 customerR=   0 optimum=13000\n",
            "Episode:    0   Step:  129  A --1-> B R=-0.01 totalR=-2.89 cost= 100 customerR=   0 optimum=13000\n",
            "Episode:    0   Step:  130  B --3-> K R=-0.02 totalR=-2.90 cost= 200 customerR=   0 optimum=13000\n",
            "Episode:    0   Step:  131  K --0-> B R=-0.02 totalR=-2.92 cost= 200 customerR=   0 optimum=13000\n",
            "Episode:    0   Step:  132  B --3-> K R=-0.02 totalR=-2.93 cost= 200 customerR=   0 optimum=13000\n",
            "Episode:    0   Step:  133  K --1-> H R=-0.02 totalR=-2.96 cost= 300 customerR=   0 optimum=13000\n",
            "Episode:    0   Step:  134  H --2-> H R=-0.08 totalR=-3.03 cost=1000 customerR=   0 optimum=13000\n",
            "Episode:    0   Step:  135  H --0-> E R=-0.01 totalR=-3.04 cost= 100 customerR=   0 optimum=13000\n",
            "Episode:    0   Step:  136  E --1-> F R=-0.01 totalR=-3.05 cost= 100 customerR=   0 optimum=13000\n",
            "Episode:    0   Step:  137  F --2-> G R=-0.02 totalR=-3.07 cost= 200 customerR=   0 optimum=13000\n",
            "Episode:    0   Step:  138  G --0-> F R=-0.02 totalR=-3.08 cost= 200 customerR=   0 optimum=13000\n",
            "Episode:    0   Step:  139  F --2-> G R=-0.02 totalR=-3.10 cost= 200 customerR=   0 optimum=13000\n",
            "Episode:    0   Step:  140  G --0-> F R=-0.02 totalR=-3.11 cost= 200 customerR=   0 optimum=13000\n",
            "Episode:    0   Step:  141  F --1-> E R=-0.01 totalR=-3.12 cost= 100 customerR=   0 optimum=13000\n",
            "Episode:    0   Step:  142  E --3-> E R=-0.08 totalR=-3.20 cost=1000 customerR=   0 optimum=13000\n",
            "Episode:    0   Step:  143  E --2-> H R=-0.01 totalR=-3.20 cost= 100 customerR=   0 optimum=13000\n",
            "Episode:    0   Step:  144  H --2-> H R=-0.08 totalR=-3.28 cost=1000 customerR=   0 optimum=13000\n",
            "Episode:    0   Step:  145  H --1-> K R=-0.02 totalR=-3.30 cost= 300 customerR=   0 optimum=13000\n",
            "Episode:    0   Step:  146  K --0-> B R=-0.02 totalR=-3.32 cost= 200 customerR=   0 optimum=13000\n",
            "Episode:    0   Step:  147  B --3-> K R=-0.02 totalR=-3.33 cost= 200 customerR=   0 optimum=13000\n",
            "Episode:    0   Step:  148  K --1-> H R=-0.02 totalR=-3.36 cost= 300 customerR=   0 optimum=13000\n",
            "Episode:    0   Step:  149  H --1-> K R=-0.02 totalR=-3.38 cost= 300 customerR=   0 optimum=13000\n",
            "Episode:    0   Step:  150  K --3-> K R=-0.08 totalR=-3.46 cost=1000 customerR=   0 optimum=13000\n",
            "Episode:    0   Step:  151  K --0-> B R=-0.02 totalR=-3.47 cost= 200 customerR=   0 optimum=13000\n",
            "Episode:    0   Step:  152  B --2-> C R=-0.00 totalR=-3.48 cost=  50 customerR=   0 optimum=13000\n",
            "Episode:    0   Step:  153  C --2-> M R=-0.01 totalR=-3.48 cost= 100 customerR=   0 optimum=13000\n",
            "Episode:    0   Step:  154  M --3-> M R=-0.08 totalR=-3.56 cost=1000 customerR=   0 optimum=13000\n",
            "Episode:    0   Step:  155  M --2-> N R= 0.07 totalR=-3.49 cost= 100 customerR=1000 optimum=13000\n",
            "Episode:    0   Step:  156  N --3-> N R=-0.08 totalR=-3.57 cost=1000 customerR=   0 optimum=13000\n",
            "Episode:    0   Step:  157  N --3-> N R=-0.08 totalR=-3.65 cost=1000 customerR=   0 optimum=13000\n",
            "Episode:    0   Step:  158  N --3-> N R=-0.08 totalR=-3.72 cost=1000 customerR=   0 optimum=13000\n",
            "Episode:    0   Step:  159  N --2-> N R=-0.08 totalR=-3.80 cost=1000 customerR=   0 optimum=13000\n",
            "Episode:    0   Step:  160  N --1-> O R= 0.07 totalR=-3.73 cost= 100 customerR=1000 optimum=13000\n",
            "Episode:    0   Step:  161  O --2-> O R=-0.08 totalR=-3.81 cost=1000 customerR=   0 optimum=13000\n",
            "Episode:    0   Step:  162  O --2-> O R=-0.08 totalR=-3.88 cost=1000 customerR=   0 optimum=13000\n",
            "Episode:    0   Step:  163  O --3-> O R=-0.08 totalR=-3.96 cost=1000 customerR=   0 optimum=13000\n",
            "Episode:    0   Step:  164  O --2-> O R=-0.08 totalR=-4.04 cost=1000 customerR=   0 optimum=13000\n",
            "Episode:    0   Step:  165  O --3-> O R=-0.08 totalR=-4.12 cost=1000 customerR=   0 optimum=13000\n",
            "Episode:    0   Step:  166  O --3-> O R=-0.08 totalR=-4.19 cost=1000 customerR=   0 optimum=13000\n",
            "Episode:    0   Step:  167  O --2-> O R=-0.08 totalR=-4.27 cost=1000 customerR=   0 optimum=13000\n",
            "Episode:    0   Step:  168  O --2-> O R=-0.08 totalR=-4.35 cost=1000 customerR=   0 optimum=13000\n",
            "Episode:    0   Step:  169  O --3-> O R=-0.08 totalR=-4.42 cost=1000 customerR=   0 optimum=13000\n",
            "Episode:    0   Step:  170  O --0-> N R=-0.01 totalR=-4.43 cost= 100 customerR=   0 optimum=13000\n",
            "Episode:    0   Step:  171  N --1-> O R=-0.01 totalR=-4.44 cost= 100 customerR=   0 optimum=13000\n",
            "Episode:    0   Step:  172  O --2-> O R=-0.08 totalR=-4.52 cost=1000 customerR=   0 optimum=13000\n",
            "Episode:    0   Step:  173  O --3-> O R=-0.08 totalR=-4.59 cost=1000 customerR=   0 optimum=13000\n",
            "Episode:    0   Step:  174  O --2-> O R=-0.08 totalR=-4.67 cost=1000 customerR=   0 optimum=13000\n",
            "Episode:    0   Step:  175  O --1-> G R=-0.02 totalR=-4.69 cost= 300 customerR=   0 optimum=13000\n",
            "Episode:    0   Step:  176  G --2-> G R=-0.08 totalR=-4.77 cost=1000 customerR=   0 optimum=13000\n",
            "Episode:    0   Step:  177  G --1-> O R=-0.02 totalR=-4.79 cost= 300 customerR=   0 optimum=13000\n",
            "Episode:    0   Step:  178  O --0-> N R=-0.01 totalR=-4.80 cost= 100 customerR=   0 optimum=13000\n",
            "Episode:    0   Step:  179  N --2-> N R=-0.08 totalR=-4.88 cost=1000 customerR=   0 optimum=13000\n",
            "Episode:    0   Step:  180  N --2-> N R=-0.08 totalR=-4.95 cost=1000 customerR=   0 optimum=13000\n",
            "Episode:    0   Step:  181  N --3-> N R=-0.08 totalR=-5.03 cost=1000 customerR=   0 optimum=13000\n",
            "Episode:    0   Step:  182  N --0-> M R=-0.01 totalR=-5.04 cost= 100 customerR=   0 optimum=13000\n",
            "Episode:    0   Step:  183  M --3-> M R=-0.08 totalR=-5.12 cost=1000 customerR=   0 optimum=13000\n",
            "Episode:    0   Step:  184  M --2-> N R=-0.01 totalR=-5.12 cost= 100 customerR=   0 optimum=13000\n",
            "Episode:    0   Step:  185  N --3-> N R=-0.08 totalR=-5.20 cost=1000 customerR=   0 optimum=13000\n",
            "Episode:    0   Step:  186  N --0-> M R=-0.01 totalR=-5.21 cost= 100 customerR=   0 optimum=13000\n",
            "Episode:    0   Step:  187  M --0-> C R=-0.01 totalR=-5.22 cost= 100 customerR=   0 optimum=13000\n",
            "Episode:    0   Step:  188  C --2-> M R=-0.01 totalR=-5.22 cost= 100 customerR=   0 optimum=13000\n",
            "Episode:    0   Step:  189  M --0-> C R=-0.01 totalR=-5.23 cost= 100 customerR=   0 optimum=13000\n",
            "Episode:    0   Step:  190  C --2-> M R=-0.01 totalR=-5.24 cost= 100 customerR=   0 optimum=13000\n",
            "Episode:    0   Step:  191  M --3-> M R=-0.08 totalR=-5.32 cost=1000 customerR=   0 optimum=13000\n",
            "Episode:    0   Step:  192  M --2-> N R=-0.01 totalR=-5.32 cost= 100 customerR=   0 optimum=13000\n",
            "Episode:    0   Step:  193  N --2-> N R=-0.08 totalR=-5.40 cost=1000 customerR=   0 optimum=13000\n",
            "Episode:    0   Step:  194  N --3-> N R=-0.08 totalR=-5.48 cost=1000 customerR=   0 optimum=13000\n",
            "Episode:    0   Step:  195  N --0-> M R=-0.01 totalR=-5.48 cost= 100 customerR=   0 optimum=13000\n",
            "Episode:    0   Step:  196  M --0-> C R=-0.01 totalR=-5.49 cost= 100 customerR=   0 optimum=13000\n",
            "Episode:    0   Step:  197  C --0-> S R=-0.02 totalR=-5.51 cost= 200 customerR=   0 optimum=13000\n",
            "Done: episodes=     1  avgSteps=197.00  avgTotalReward=-5.51\n",
            "Episode finished after 197 timesteps\n",
            "[    0.  -300.  -100.  -200. -1000.]\n"
          ],
          "name": "stdout"
        }
      ]
    },
    {
      "metadata": {
        "colab_type": "text",
        "id": "4GlYjZ3xkQ38"
      },
      "cell_type": "markdown",
      "source": [
        "# Train model\n",
        "\n",
        "* random has reward of -5.51\n",
        "* total cost when travelling all paths (back and forth): 5000\n",
        "* additional pernalty for liiegal moves 1000\n",
        "* all rewards: 13000\n",
        "* perfect score???\n",
        "* estimate: half the travel cost and no illegal moves: (13000 - 2500) / 13000 = .80\n"
      ]
    },
    {
      "metadata": {
        "id": "Qvi-T-YuEO0A",
        "colab_type": "code",
        "outputId": "bd90f4df-c774-416f-a64d-c657c3ef3139",
        "colab": {
          "base_uri": "https://localhost:8080/",
          "height": 34
        }
      },
      "cell_type": "code",
      "source": [
        "import tensorflow as tf\n",
        "tf.logging.set_verbosity(tf.logging.ERROR)\n",
        "print(tf.__version__)"
      ],
      "execution_count": 4,
      "outputs": [
        {
          "output_type": "stream",
          "text": [
            "1.12.0\n"
          ],
          "name": "stdout"
        }
      ]
    },
    {
      "metadata": {
        "id": "-rAaTCL0r-ql",
        "colab_type": "code",
        "colab": {}
      },
      "cell_type": "code",
      "source": [
        "!rm -r logs\n",
        "!mkdir logs\n",
        "!mkdir logs/berater"
      ],
      "execution_count": 0,
      "outputs": []
    },
    {
      "metadata": {
        "colab_type": "code",
        "id": "NzbylmYAkQ3-",
        "outputId": "eff4d2d2-3eed-492b-bbdd-c590136e41c9",
        "colab": {
          "base_uri": "https://localhost:8080/",
          "height": 1309
        }
      },
      "cell_type": "code",
      "source": [
        "# https://github.com/openai/baselines/blob/master/baselines/deepq/experiments/train_pong.py\n",
        "# log_dir = logger.get_dir()\n",
        "log_dir = '/content/logs/berater/'\n",
        "\n",
        "import gym\n",
        "from baselines import bench\n",
        "from baselines import logger\n",
        "\n",
        "from baselines.common.vec_env.dummy_vec_env import DummyVecEnv\n",
        "from baselines.common.vec_env.vec_monitor import VecMonitor\n",
        "from baselines.ppo2 import ppo2\n",
        "\n",
        "BeraterEnv.showStep = False\n",
        "BeraterEnv.showDone = False\n",
        "\n",
        "env = BeraterEnv()\n",
        "\n",
        "wrapped_env = DummyVecEnv([lambda: BeraterEnv()])\n",
        "monitored_env = VecMonitor(wrapped_env, log_dir)\n",
        "\n",
        "# https://github.com/openai/baselines/blob/master/baselines/ppo2/ppo2.py\n",
        "model = ppo2.learn(network='mlp', env=monitored_env, total_timesteps=150000)\n",
        "\n",
        "# monitored_env = bench.Monitor(env, log_dir)\n",
        "# https://en.wikipedia.org/wiki/Q-learning#Influence_of_variables\n",
        "# %time model = deepq.learn(\\\n",
        "#         monitored_env,\\\n",
        "#         seed=42,\\\n",
        "#         network='mlp',\\\n",
        "#         lr=1e-3,\\\n",
        "#         gamma=0.99,\\\n",
        "#         total_timesteps=30000,\\\n",
        "#         buffer_size=50000,\\\n",
        "#         exploration_fraction=0.5,\\\n",
        "#         exploration_final_eps=0.02,\\\n",
        "#         print_freq=1000)\n",
        "\n",
        "model.save('berater-ppo-v6.pkl')\n",
        "monitored_env.close()"
      ],
      "execution_count": 6,
      "outputs": [
        {
          "output_type": "stream",
          "text": [
            "Logging to /tmp/openai-2019-01-03-11-42-54-618865\n",
            "--------------------------------------\n",
            "| approxkl           | 0.0008961776  |\n",
            "| clipfrac           | 0.0           |\n",
            "| eplenmean          | 134           |\n",
            "| eprewmean          | -3.5052223    |\n",
            "| explained_variance | -3.14         |\n",
            "| fps                | 473           |\n",
            "| nupdates           | 1             |\n",
            "| policy_entropy     | 1.3854092     |\n",
            "| policy_loss        | -0.0039864834 |\n",
            "| serial_timesteps   | 2048          |\n",
            "| time_elapsed       | 4.32          |\n",
            "| total_timesteps    | 2048          |\n",
            "| value_loss         | 0.13796656    |\n",
            "--------------------------------------\n",
            "--------------------------------------\n",
            "| approxkl           | 0.00066269375 |\n",
            "| clipfrac           | 0.0           |\n",
            "| eplenmean          | 128           |\n",
            "| eprewmean          | -1.1288865    |\n",
            "| explained_variance | -0.0832       |\n",
            "| fps                | 501           |\n",
            "| nupdates           | 10            |\n",
            "| policy_entropy     | 1.1806759     |\n",
            "| policy_loss        | -0.0038700835 |\n",
            "| serial_timesteps   | 20480         |\n",
            "| time_elapsed       | 40.5          |\n",
            "| total_timesteps    | 20480         |\n",
            "| value_loss         | 0.028150184   |\n",
            "--------------------------------------\n",
            "--------------------------------------\n",
            "| approxkl           | 0.00061270216 |\n",
            "| clipfrac           | 0.0007324219  |\n",
            "| eplenmean          | 36.2          |\n",
            "| eprewmean          | 0.5741921     |\n",
            "| explained_variance | 0.364         |\n",
            "| fps                | 461           |\n",
            "| nupdates           | 20            |\n",
            "| policy_entropy     | 0.9146788     |\n",
            "| policy_loss        | -0.0031393853 |\n",
            "| serial_timesteps   | 40960         |\n",
            "| time_elapsed       | 82.7          |\n",
            "| total_timesteps    | 40960         |\n",
            "| value_loss         | 0.0127601875  |\n",
            "--------------------------------------\n",
            "--------------------------------------\n",
            "| approxkl           | 0.0005067946  |\n",
            "| clipfrac           | 0.0           |\n",
            "| eplenmean          | 26            |\n",
            "| eprewmean          | 0.7328461     |\n",
            "| explained_variance | 0.66          |\n",
            "| fps                | 509           |\n",
            "| nupdates           | 30            |\n",
            "| policy_entropy     | 0.6833499     |\n",
            "| policy_loss        | -0.0016387015 |\n",
            "| serial_timesteps   | 61440         |\n",
            "| time_elapsed       | 123           |\n",
            "| total_timesteps    | 61440         |\n",
            "| value_loss         | 0.010324567   |\n",
            "--------------------------------------\n",
            "--------------------------------------\n",
            "| approxkl           | 0.00013729218 |\n",
            "| clipfrac           | 0.0           |\n",
            "| eplenmean          | 21.1          |\n",
            "| eprewmean          | 0.7752693     |\n",
            "| explained_variance | 0.687         |\n",
            "| fps                | 502           |\n",
            "| nupdates           | 40            |\n",
            "| policy_entropy     | 0.4920636     |\n",
            "| policy_loss        | -0.0004988579 |\n",
            "| serial_timesteps   | 81920         |\n",
            "| time_elapsed       | 163           |\n",
            "| total_timesteps    | 81920         |\n",
            "| value_loss         | 0.010660268   |\n",
            "--------------------------------------\n"
          ],
          "name": "stdout"
        }
      ]
    },
    {
      "metadata": {
        "id": "0cfzto7W8Mpd",
        "colab_type": "text"
      },
      "cell_type": "markdown",
      "source": [
        "### Visualizing Results\n",
        "\n",
        "https://github.com/openai/baselines/blob/master/docs/viz/viz.ipynb"
      ]
    },
    {
      "metadata": {
        "id": "yBzvtyVcvhkn",
        "colab_type": "code",
        "outputId": "270c1dda-bf5e-4e49-d72a-9cb6c337a6da",
        "colab": {
          "base_uri": "https://localhost:8080/",
          "height": 51
        }
      },
      "cell_type": "code",
      "source": [
        "!ls -l $log_dir"
      ],
      "execution_count": 7,
      "outputs": [
        {
          "output_type": "stream",
          "text": [
            "total 72\n",
            "-rw-r--r-- 1 root root 70457 Jan  3 11:46 monitor.csv\n"
          ],
          "name": "stdout"
        }
      ]
    },
    {
      "metadata": {
        "id": "2ZWB88EVsRei",
        "colab_type": "code",
        "outputId": "aec92de6-396c-467b-e91f-bbe11c2f26c5",
        "colab": {
          "base_uri": "https://localhost:8080/",
          "height": 71
        }
      },
      "cell_type": "code",
      "source": [
        "from baselines.common import plot_util as pu\n",
        "results = pu.load_results(log_dir)"
      ],
      "execution_count": 12,
      "outputs": [
        {
          "output_type": "stream",
          "text": [
            "/usr/local/lib/python3.6/dist-packages/baselines/bench/monitor.py:164: UserWarning: Pandas doesn't allow columns to be created via a new attribute name - see https://pandas.pydata.org/pandas-docs/stable/indexing.html#attribute-access\n",
            "  df.headers = headers # HACK to preserve backwards compatibility\n"
          ],
          "name": "stderr"
        }
      ]
    },
    {
      "metadata": {
        "id": "M1G3TPcfsVzb",
        "colab_type": "code",
        "colab": {}
      },
      "cell_type": "code",
      "source": [
        "import matplotlib.pyplot as plt\n",
        "import numpy as np\n",
        "r = results[0]\n",
        "# plt.ylim(-1, 1)\n",
        "# plt.plot(np.cumsum(r.monitor.l), r.monitor.r)"
      ],
      "execution_count": 0,
      "outputs": []
    },
    {
      "metadata": {
        "id": "mZc2jIUr8wKQ",
        "colab_type": "code",
        "outputId": "2139ae51-86a9-40de-faa9-a7ba25a62e59",
        "colab": {
          "base_uri": "https://localhost:8080/",
          "height": 364
        }
      },
      "cell_type": "code",
      "source": [
        "plt.plot(np.cumsum(r.monitor.l), pu.smooth(r.monitor.r, radius=100))"
      ],
      "execution_count": 14,
      "outputs": [
        {
          "output_type": "execute_result",
          "data": {
            "text/plain": [
              "[<matplotlib.lines.Line2D at 0x7f14089faa20>]"
            ]
          },
          "metadata": {
            "tags": []
          },
          "execution_count": 14
        },
        {
          "output_type": "display_data",
          "data": {
            "image/png": "[encoded data removed]",
            "text/plain": [
              "<matplotlib.figure.Figure at 0x7f1475bb4c18>"
            ]
          },
          "metadata": {
            "tags": []
          }
        }
      ]
    },
    {
      "metadata": {
        "colab_type": "text",
        "id": "TtBh4c6-kQ4K"
      },
      "cell_type": "markdown",
      "source": [
        "# Enjoy model"
      ]
    },
    {
      "metadata": {
        "colab_type": "code",
        "id": "ucP0gNhhkQ4O",
        "outputId": "5388cb10-53e5-40fb-d98f-111630e1cb47",
        "colab": {
          "base_uri": "https://localhost:8080/",
          "height": 326
        }
      },
      "cell_type": "code",
      "source": [
        "import numpy as np \n",
        "\n",
        "observation = env.reset()\n",
        "state = np.zeros((1, 2*128))\n",
        "dones = np.zeros((1))\n",
        "\n",
        "BeraterEnv.showStep = True\n",
        "BeraterEnv.showDone = False\n",
        "\n",
        "for t in range(1000):\n",
        "    actions, _, state, _ = model.step(observation, S=state, M=dones)\n",
        "    observation, reward, done, info = env.step(actions[0])\n",
        "    if done:\n",
        "        print(\"Episode finished after {} timesteps\".format(t+1))\n",
        "        break\n",
        "env.close()"
      ],
      "execution_count": 11,
      "outputs": [
        {
          "output_type": "stream",
          "text": [
            "Episode:    0   Step:    1  S --1-> B R= 0.07 totalR= 0.07 cost= 100 customerR=1000 optimum=13000\n",
            "Episode:    0   Step:    2  B --3-> K R= 0.06 totalR= 0.13 cost= 200 customerR=1000 optimum=13000\n",
            "Episode:    0   Step:    3  K --1-> H R= 0.05 totalR= 0.18 cost= 300 customerR=1000 optimum=13000\n",
            "Episode:    0   Step:    4  H --0-> E R= 0.07 totalR= 0.25 cost= 100 customerR=1000 optimum=13000\n",
            "Episode:    0   Step:    5  E --0-> A R= 0.07 totalR= 0.32 cost= 100 customerR=1000 optimum=13000\n",
            "Episode:    0   Step:    6  A --3-> D R= 0.07 totalR= 0.39 cost= 100 customerR=1000 optimum=13000\n",
            "Episode:    0   Step:    7  D --1-> F R= 0.07 totalR= 0.47 cost=  50 customerR=1000 optimum=13000\n",
            "Episode:    0   Step:    8  F --2-> G R= 0.06 totalR= 0.53 cost= 200 customerR=1000 optimum=13000\n",
            "Episode:    0   Step:    9  G --1-> O R= 0.05 totalR= 0.58 cost= 300 customerR=1000 optimum=13000\n",
            "Episode:    0   Step:   10  O --0-> N R= 0.07 totalR= 0.65 cost= 100 customerR=1000 optimum=13000\n",
            "Episode:    0   Step:   11  N --0-> M R= 0.07 totalR= 0.72 cost= 100 customerR=1000 optimum=13000\n",
            "Episode:    0   Step:   12  M --0-> C R= 0.07 totalR= 0.79 cost= 100 customerR=1000 optimum=13000\n",
            "Episode:    0   Step:   13  C --3-> L R= 0.06 totalR= 0.85 cost= 200 customerR=1000 optimum=13000\n",
            "Episode:    0   Step:   14  L --0-> C R=-0.02 totalR= 0.83 cost= 200 customerR=   0 optimum=13000\n",
            "Episode:    0   Step:   15  C --1-> B R=-0.00 totalR= 0.83 cost=  50 customerR=   0 optimum=13000\n",
            "Episode:    0   Step:   16  B --0-> S R=-0.01 totalR= 0.82 cost= 100 customerR=   0 optimum=13000\n",
            "Episode finished after 16 timesteps\n"
          ],
          "name": "stdout"
        }
      ]
    },
    {
      "metadata": {
        "colab_type": "code",
        "id": "5fY1da_0l15E",
        "colab": {}
      },
      "cell_type": "code",
      "source": [
        ""
      ],
      "execution_count": 0,
      "outputs": []
    }
  ]
}