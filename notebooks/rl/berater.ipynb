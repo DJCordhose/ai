{
 "cells": [
  {
   "cell_type": "markdown",
   "metadata": {
    "colab_type": "text",
    "id": "view-in-github"
   },
   "source": [
    "<a href=\"https://colab.research.google.com/github/DJCordhose/ai/blob/master/notebooks/rl/berater.ipynb\" target=\"_parent\"><img src=\"https://colab.research.google.com/assets/colab-badge.svg\" alt=\"Open In Colab\"/></a>"
   ]
  },
  {
   "cell_type": "markdown",
   "metadata": {
    "colab_type": "text",
    "id": "U-rD0xa3tHXe"
   },
   "source": [
    "## Installation (required for colab)"
   ]
  },
  {
   "cell_type": "code",
   "execution_count": 1,
   "metadata": {
    "colab": {
     "base_uri": "https://localhost:8080/",
     "height": 663
    },
    "colab_type": "code",
    "id": "vuS694BptHBx",
    "outputId": "2885b9b2-1e94-43e9-c719-b04753264ef0"
   },
   "outputs": [
    {
     "name": "stdout",
     "output_type": "stream",
     "text": [
      "Obtaining berater from git+https://github.com/openai/baselines#egg=berater\n",
      "  Cloning https://github.com/openai/baselines to c:\\users\\olive\\development\\ai\\notebooks\\rl\\src\\berater\n",
      "Requirement already satisfied: gym in c:\\users\\olive\\development\\rl\\gym (from baselines) (0.10.8)\n",
      "Requirement already satisfied: scipy in c:\\programdata\\anaconda3\\lib\\site-packages (from baselines) (1.1.0)\n",
      "Requirement already satisfied: tqdm in c:\\programdata\\anaconda3\\lib\\site-packages (from baselines) (4.26.0)\n",
      "Requirement already satisfied: joblib in c:\\programdata\\anaconda3\\lib\\site-packages (from baselines) (0.12.5)\n",
      "Requirement already satisfied: dill in c:\\programdata\\anaconda3\\lib\\site-packages (from baselines) (0.2.8.2)\n",
      "Requirement already satisfied: progressbar2 in c:\\programdata\\anaconda3\\lib\\site-packages (from baselines) (3.38.0)\n",
      "Requirement already satisfied: cloudpickle in c:\\programdata\\anaconda3\\lib\\site-packages (from baselines) (0.6.1)\n",
      "Requirement already satisfied: click in c:\\programdata\\anaconda3\\lib\\site-packages (from baselines) (7.0)\n",
      "Requirement already satisfied: opencv-python in c:\\programdata\\anaconda3\\lib\\site-packages (from baselines) (3.4.0.12)\n",
      "Requirement already satisfied: numpy>=1.10.4 in c:\\programdata\\anaconda3\\lib\\site-packages (from gym->baselines) (1.15.3)\n",
      "Requirement already satisfied: requests>=2.0 in c:\\programdata\\anaconda3\\lib\\site-packages (from gym->baselines) (2.19.1)\n",
      "Requirement already satisfied: six in c:\\programdata\\anaconda3\\lib\\site-packages (from gym->baselines) (1.11.0)\n",
      "Requirement already satisfied: pyglet>=1.2.0 in c:\\programdata\\anaconda3\\lib\\site-packages (from gym->baselines) (1.3.2)\n",
      "Requirement already satisfied: pyreadline>=1.7.1 in c:\\programdata\\anaconda3\\lib\\site-packages (from dill->baselines) (2.1)\n",
      "Requirement already satisfied: python-utils>=2.3.0 in c:\\programdata\\anaconda3\\lib\\site-packages (from progressbar2->baselines) (2.3.0)\n",
      "Requirement already satisfied: chardet<3.1.0,>=3.0.2 in c:\\programdata\\anaconda3\\lib\\site-packages (from requests>=2.0->gym->baselines) (3.0.4)\n",
      "Requirement already satisfied: certifi>=2017.4.17 in c:\\programdata\\anaconda3\\lib\\site-packages (from requests>=2.0->gym->baselines) (2018.10.15)\n",
      "Requirement already satisfied: urllib3<1.24,>=1.21.1 in c:\\programdata\\anaconda3\\lib\\site-packages (from requests>=2.0->gym->baselines) (1.23)\n",
      "Requirement already satisfied: idna<2.8,>=2.5 in c:\\programdata\\anaconda3\\lib\\site-packages (from requests>=2.0->gym->baselines) (2.7)\n",
      "Requirement already satisfied: future in c:\\programdata\\anaconda3\\lib\\site-packages (from pyglet>=1.2.0->gym->baselines) (0.16.0)\n",
      "Installing collected packages: baselines\n",
      "  Found existing installation: baselines 0.1.5\n",
      "    Uninstalling baselines-0.1.5:\n"
     ]
    },
    {
     "name": "stderr",
     "output_type": "stream",
     "text": [
      "  Running setup.py (path:C:\\Users\\olive\\Development\\ai\\notebooks\\rl\\src\\berater\\setup.py) egg_info for package berater produced metadata for project name baselines. Fix your #egg=berater fragments.\n",
      "tensorflow 1.10.0 has requirement numpy<=1.14.5,>=1.13.3, but you'll have numpy 1.15.3 which is incompatible.\n",
      "tensorflow 1.10.0 has requirement setuptools<=39.1.0, but you'll have setuptools 40.4.3 which is incompatible.\n",
      "tensorflow-tensorboard 1.5.1 has requirement bleach==1.5.0, but you'll have bleach 3.0.2 which is incompatible.\n",
      "tensorflow-tensorboard 1.5.1 has requirement html5lib==0.9999999, but you'll have html5lib 1.0.1 which is incompatible.\n",
      "tensorflow-gpu 1.10.0 has requirement numpy<=1.14.5,>=1.13.3, but you'll have numpy 1.15.3 which is incompatible.\n",
      "tensorflow-gpu 1.10.0 has requirement setuptools<=39.1.0, but you'll have setuptools 40.4.3 which is incompatible.\n",
      "spacy 2.0.16 has requirement regex==2018.01.10, but you'll have regex 2018.8.29 which is incompatible.\n",
      "Could not install packages due to an EnvironmentError: [WinError 5] Access is denied: 'c:\\\\programdata\\\\anaconda3\\\\lib\\\\site-packages\\\\baselines.egg-link'\n",
      "Consider using the `--user` option or check the permissions.\n",
      "\n",
      "You are using pip version 10.0.1, however version 18.1 is available.\n",
      "You should consider upgrading via the 'python -m pip install --upgrade pip' command.\n"
     ]
    }
   ],
   "source": [
    "# !pip install -e git+https://github.com/openai/baselines#egg=berater"
   ]
  },
  {
   "cell_type": "markdown",
   "metadata": {
    "colab_type": "text",
    "id": "71KwHWAdKxRq"
   },
   "source": [
    "### important for colab: restart runtime after installation"
   ]
  },
  {
   "cell_type": "markdown",
   "metadata": {
    "colab_type": "text",
    "id": "DDd6HFeatBwV"
   },
   "source": [
    "## Definting our Environment, version using cnt"
   ]
  },
  {
   "cell_type": "code",
   "execution_count": 0,
   "metadata": {
    "colab": {},
    "colab_type": "code",
    "id": "AFSOvMlHsycx"
   },
   "outputs": [],
   "source": [
    "cnt = 0"
   ]
  },
  {
   "cell_type": "code",
   "execution_count": 0,
   "metadata": {
    "colab": {},
    "colab_type": "code",
    "id": "sRTaKO5qsyc5"
   },
   "outputs": [],
   "source": [
    "import gym\n",
    "from gym.utils import seeding\n",
    "from gym import spaces\n",
    "\n",
    "def state_name_to_int(state):\n",
    "    state_name_map = {\n",
    "        'S/Z': 0,\n",
    "        'A': 1,\n",
    "        'B': 2,\n",
    "        'C': 3,\n",
    "    }\n",
    "    return state_name_map[state]\n",
    "\n",
    "def int_to_state_name(state_as_int):\n",
    "    state_map = {\n",
    "        0: 'S/Z',\n",
    "        1: 'A',\n",
    "        2: 'B',\n",
    "        3: 'C'\n",
    "    }\n",
    "    return state_map[state_as_int]\n",
    "    \n",
    "class BeraterEnv(gym.Env):\n",
    "    \"\"\"\n",
    "    The Berater Problem\n",
    "\n",
    "    Actions: \n",
    "    There are 3 discrete deterministic actions:\n",
    "    - 0: First Direction\n",
    "    - 1: Second Direction\n",
    "    - 2: Third Direction / Go home\n",
    "    \"\"\"\n",
    "    metadata = {'render.modes': ['ansi']}\n",
    "    \n",
    "    num_envs = 1\n",
    "\n",
    "    def __init__(self):\n",
    "        self.map = {\n",
    "            'S/Z': [('A', 100), ('B', 400), ('C', 200 )],\n",
    "            'A': [('B', 250), ('C', 400), ('S/Z', 100 )],\n",
    "            'B': [('A', 250), ('C', 250), ('S/Z', 400 )],\n",
    "            'C': [('A', 400), ('B', 250), ('S/Z', 200 )]\n",
    "        }\n",
    "        self.action_space = spaces.Discrete(3)\n",
    "        self.observation_space = spaces.Discrete(1)\n",
    "\n",
    "        self.reset()\n",
    "        self.optimum = self.calculate_customers_reward()\n",
    "\n",
    "    def seed(self, seed=None):\n",
    "        self.np_random, seed = seeding.np_random(seed)\n",
    "        return [seed]\n",
    "\n",
    "    def step(self, action):\n",
    "        paths = self.map[self.state]\n",
    "        destination, cost = paths[action]\n",
    "\n",
    "        info = {\"from\": self.state, \"to\": destination}\n",
    "\n",
    "        self.state = destination\n",
    "        reward = (-cost + self.customer_reward[destination]) / self.optimum\n",
    "        self.customer_visited(destination)\n",
    "        done = destination == 'S/Z' and self.all_customers_visited()\n",
    "        return state_name_to_int(self.state), reward, done, info\n",
    "\n",
    "    def customer_visited(self, customer):\n",
    "        self.customer_reward[customer] = 0\n",
    "\n",
    "    def all_customers_visited(self):\n",
    "        return self.calculate_customers_reward() == 0\n",
    "\n",
    "    def calculate_customers_reward(self):\n",
    "        sum = 0\n",
    "        for value in self.customer_reward.values():\n",
    "            sum += value\n",
    "        return sum\n",
    "\n",
    "    def reset(self):\n",
    "        # print(\"Reset\")\n",
    "        reward_per_customer = 1000\n",
    "        self.customer_reward = {\n",
    "            'S/Z': 0,\n",
    "            'A': reward_per_customer,\n",
    "            'B': reward_per_customer,\n",
    "            'C': reward_per_customer,\n",
    "        }\n",
    "\n",
    "        self.state = 'S/Z'\n",
    "        return state_name_to_int(self.state)\n",
    "\n",
    "    def render(self, mode='human'):\n",
    "        print(self.state)\n",
    "        print(self.customer_reward)\n",
    "\n",
    "from gym.envs.registration import register\n",
    "cnt += 1\n",
    "id = \"Berater-v{}\".format(cnt)\n",
    "register(\n",
    "    id=id,\n",
    "    entry_point=BeraterEnv\n",
    ")        \n",
    "env = gym.make(id)"
   ]
  },
  {
   "cell_type": "markdown",
   "metadata": {
    "colab_type": "text",
    "id": "6gFy5UVGsyc_"
   },
   "source": [
    "## Try out Environment"
   ]
  },
  {
   "cell_type": "code",
   "execution_count": 3,
   "metadata": {
    "colab": {
     "base_uri": "https://localhost:8080/",
     "height": 442
    },
    "colab_type": "code",
    "id": "YEWtaKx9sydB",
    "outputId": "68151cb5-986b-4a3d-8015-2986731c965b"
   },
   "outputs": [
    {
     "name": "stdout",
     "output_type": "stream",
     "text": [
      "S/Z\n",
      "{'S/Z': 0, 'A': 1000, 'B': 1000, 'C': 1000}\n",
      "Action: 0\n",
      "0.3\n",
      "A\n",
      "{'S/Z': 0, 'A': 0, 'B': 1000, 'C': 1000}\n",
      "Action: 1\n",
      "0.2\n",
      "C\n",
      "{'S/Z': 0, 'A': 0, 'B': 1000, 'C': 0}\n",
      "Action: 0\n",
      "-0.13333333333333333\n",
      "A\n",
      "{'S/Z': 0, 'A': 0, 'B': 1000, 'C': 0}\n",
      "Action: 1\n",
      "-0.13333333333333333\n",
      "C\n",
      "{'S/Z': 0, 'A': 0, 'B': 1000, 'C': 0}\n",
      "Action: 1\n",
      "0.25\n",
      "B\n",
      "{'S/Z': 0, 'A': 0, 'B': 0, 'C': 0}\n",
      "Action: 2\n",
      "-0.13333333333333333\n",
      "Episode finished after 6 timesteps\n"
     ]
    }
   ],
   "source": [
    "# Run a demo of the environment\n",
    "observation = env.reset()\n",
    "for t in range(1000):\n",
    "    env.render()\n",
    "    action = env.action_space.sample()\n",
    "    print(\"Action: {}\".format(action))\n",
    "    observation, reward, done, info = env.step(action)\n",
    "    print(reward)\n",
    "    if done:\n",
    "        print(\"Episode finished after {} timesteps\".format(t+1))\n",
    "        break\n",
    "env.close()"
   ]
  },
  {
   "cell_type": "markdown",
   "metadata": {
    "colab_type": "text",
    "id": "ZprYdtWusydM"
   },
   "source": [
    "## Train PPO2 using MLP Neural Network Architecture"
   ]
  },
  {
   "cell_type": "code",
   "execution_count": 4,
   "metadata": {
    "colab": {
     "base_uri": "https://localhost:8080/",
     "height": 289
    },
    "colab_type": "code",
    "id": "cBdqgiF5sydP",
    "outputId": "4152e397-bb4d-4be8-ca05-68350c79915d"
   },
   "outputs": [
    {
     "name": "stdout",
     "output_type": "stream",
     "text": [
      "Logging to /tmp/openai-2018-11-08-16-33-12-360900\n",
      "---------------------------------------\n",
      "| approxkl           | 4.212758e-05   |\n",
      "| clipfrac           | 0.0            |\n",
      "| eplenmean          | nan            |\n",
      "| eprewmean          | nan            |\n",
      "| explained_variance | -1             |\n",
      "| fps                | 404            |\n",
      "| nupdates           | 1              |\n",
      "| policy_entropy     | 1.0985694      |\n",
      "| policy_loss        | -0.00033217986 |\n",
      "| serial_timesteps   | 2048           |\n",
      "| time_elapsed       | 5.06           |\n",
      "| total_timesteps    | 2048           |\n",
      "| value_loss         | 0.06086097     |\n",
      "---------------------------------------\n"
     ]
    }
   ],
   "source": [
    "from baselines.common.vec_env.dummy_vec_env import DummyVecEnv\n",
    "from baselines.ppo2 import ppo2\n",
    "\n",
    "wrapped_env = DummyVecEnv([lambda: gym.make(id)])\n",
    "\n",
    "model = ppo2.learn(network='mlp', env=wrapped_env, total_timesteps=20000)"
   ]
  },
  {
   "cell_type": "markdown",
   "metadata": {
    "colab_type": "text",
    "id": "Ko4tq1ujsydW"
   },
   "source": [
    "## Use trained model to do actual planning"
   ]
  },
  {
   "cell_type": "code",
   "execution_count": 5,
   "metadata": {
    "colab": {
     "base_uri": "https://localhost:8080/",
     "height": 442
    },
    "colab_type": "code",
    "id": "zaalguI3sydY",
    "outputId": "d0474451-bcc8-458e-8fbe-43f44d435ef9"
   },
   "outputs": [
    {
     "name": "stdout",
     "output_type": "stream",
     "text": [
      "S/Z\n",
      "{'S/Z': 0, 'A': 1000, 'B': 1000, 'C': 1000}\n",
      "Action: [0]\n",
      "[0.3]\n",
      "A\n",
      "{'S/Z': 0, 'A': 0, 'B': 1000, 'C': 1000}\n",
      "Action: [2]\n",
      "[-0.03333334]\n",
      "S/Z\n",
      "{'S/Z': 0, 'A': 0, 'B': 1000, 'C': 1000}\n",
      "Action: [2]\n",
      "[0.26666668]\n",
      "C\n",
      "{'S/Z': 0, 'A': 0, 'B': 1000, 'C': 0}\n",
      "Action: [0]\n",
      "[-0.13333334]\n",
      "A\n",
      "{'S/Z': 0, 'A': 0, 'B': 1000, 'C': 0}\n",
      "Action: [0]\n",
      "[0.25]\n",
      "B\n",
      "{'S/Z': 0, 'A': 0, 'B': 0, 'C': 0}\n",
      "Action: [2]\n",
      "[-0.13333334]\n",
      "Episode finished after 6 timesteps\n"
     ]
    }
   ],
   "source": [
    "observation = wrapped_env.reset()\n",
    "\n",
    "import numpy as np \n",
    "\n",
    "state = np.zeros((1, 2*128))\n",
    "dones = np.zeros((1))\n",
    "\n",
    "for t in range(1000):\n",
    "    wrapped_env.render()\n",
    "    actions, _, state, _ = model.step(observation, S=state, M=dones)\n",
    "    print(\"Action: {}\".format(actions))\n",
    "    observation, reward, done, info = wrapped_env.step(actions)\n",
    "    print(reward)\n",
    "    if done:\n",
    "        print(\"Episode finished after {} timesteps\".format(t+1))\n",
    "        break\n",
    "wrapped_env.close()"
   ]
  },
  {
   "cell_type": "code",
   "execution_count": 0,
   "metadata": {
    "colab": {},
    "colab_type": "code",
    "id": "F69gaxxNsydf"
   },
   "outputs": [],
   "source": []
  }
 ],
 "metadata": {
  "accelerator": "GPU",
  "colab": {
   "include_colab_link": true,
   "name": "berater.ipynb",
   "provenance": [],
   "version": "0.3.2"
  },
  "kernelspec": {
   "display_name": "Python 3",
   "language": "python",
   "name": "python3"
  },
  "language_info": {
   "codemirror_mode": {
    "name": "ipython",
    "version": 3
   },
   "file_extension": ".py",
   "mimetype": "text/x-python",
   "name": "python",
   "nbconvert_exporter": "python",
   "pygments_lexer": "ipython3",
   "version": "3.6.7"
  }
 },
 "nbformat": 4,
 "nbformat_minor": 1
}
