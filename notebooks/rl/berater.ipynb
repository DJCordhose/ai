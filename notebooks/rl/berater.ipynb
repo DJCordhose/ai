{
  "nbformat": 4,
  "nbformat_minor": 0,
  "metadata": {
    "colab": {
      "name": "berater.ipynb",
      "version": "0.3.2",
      "provenance": [],
      "include_colab_link": true
    },
    "kernelspec": {
      "name": "python3",
      "display_name": "Python 3"
    },
    "accelerator": "GPU"
  },
  "cells": [
    {
      "cell_type": "markdown",
      "metadata": {
        "id": "view-in-github",
        "colab_type": "text"
      },
      "source": [
        "<a href=\"https://colab.research.google.com/github/DJCordhose/ai/blob/master/notebooks/rl/berater.ipynb\" target=\"_parent\"><img src=\"https://colab.research.google.com/assets/colab-badge.svg\" alt=\"Open In Colab\"/></a>"
      ]
    },
    {
      "metadata": {
        "id": "U-rD0xa3tHXe",
        "colab_type": "text"
      },
      "cell_type": "markdown",
      "source": [
        "## Installation (required for colab)"
      ]
    },
    {
      "metadata": {
        "id": "vuS694BptHBx",
        "colab_type": "code",
        "outputId": "2885b9b2-1e94-43e9-c719-b04753264ef0",
        "colab": {
          "base_uri": "https://localhost:8080/",
          "height": 663
        }
      },
      "cell_type": "code",
      "source": [
        "!pip install -e git+https://github.com/openai/baselines#egg=berater"
      ],
      "execution_count": 1,
      "outputs": [
        {
          "output_type": "stream",
          "text": [
            "Obtaining berater from git+https://github.com/openai/baselines#egg=berater\n",
            "  Cloning https://github.com/openai/baselines to ./src/berater\n",
            "\u001b[33m  Running setup.py (path:/content/src/berater/setup.py) egg_info for package berater produced metadata for project name baselines. Fix your #egg=berater fragments.\u001b[0m\n",
            "Collecting gym (from baselines)\n",
            "\u001b[?25l  Downloading https://files.pythonhosted.org/packages/d4/22/4ff09745ade385ffe707fb5f053548f0f6a6e7d5e98a2b9d6c07f5b931a7/gym-0.10.9.tar.gz (1.5MB)\n",
            "\u001b[K    100% |████████████████████████████████| 1.5MB 7.9MB/s \n",
            "\u001b[?25hRequirement already satisfied: scipy in /usr/local/lib/python3.6/dist-packages (from baselines) (0.19.1)\n",
            "Requirement already satisfied: tqdm in /usr/local/lib/python3.6/dist-packages (from baselines) (4.28.1)\n",
            "Requirement already satisfied: joblib in /usr/local/lib/python3.6/dist-packages (from baselines) (0.13.0)\n",
            "Requirement already satisfied: dill in /usr/local/lib/python3.6/dist-packages (from baselines) (0.2.8.2)\n",
            "Collecting progressbar2 (from baselines)\n",
            "  Downloading https://files.pythonhosted.org/packages/4f/6f/acb2dd76f2c77527584bd3a4c2509782bb35c481c610521fc3656de5a9e0/progressbar2-3.38.0-py2.py3-none-any.whl\n",
            "Collecting cloudpickle (from baselines)\n",
            "  Downloading https://files.pythonhosted.org/packages/fc/87/7b7ef3038b4783911e3fdecb5c566e3a817ce3e890e164fc174c088edb1e/cloudpickle-0.6.1-py2.py3-none-any.whl\n",
            "Collecting click (from baselines)\n",
            "\u001b[?25l  Downloading https://files.pythonhosted.org/packages/fa/37/45185cb5abbc30d7257104c434fe0b07e5a195a6847506c074527aa599ec/Click-7.0-py2.py3-none-any.whl (81kB)\n",
            "\u001b[K    100% |████████████████████████████████| 81kB 12.2MB/s \n",
            "\u001b[?25hRequirement already satisfied: opencv-python in /usr/local/lib/python3.6/dist-packages (from baselines) (3.4.3.18)\n",
            "Requirement already satisfied: numpy>=1.10.4 in /usr/local/lib/python3.6/dist-packages (from gym->baselines) (1.14.6)\n",
            "Requirement already satisfied: requests>=2.0 in /usr/local/lib/python3.6/dist-packages (from gym->baselines) (2.18.4)\n",
            "Requirement already satisfied: six in /usr/local/lib/python3.6/dist-packages (from gym->baselines) (1.11.0)\n",
            "Collecting pyglet>=1.2.0 (from gym->baselines)\n",
            "\u001b[?25l  Downloading https://files.pythonhosted.org/packages/1c/fc/dad5eaaab68f0c21e2f906a94ddb98175662cc5a654eee404d59554ce0fa/pyglet-1.3.2-py2.py3-none-any.whl (1.0MB)\n",
            "\u001b[K    100% |████████████████████████████████| 1.0MB 10.0MB/s \n",
            "\u001b[?25hCollecting python-utils>=2.3.0 (from progressbar2->baselines)\n",
            "  Downloading https://files.pythonhosted.org/packages/eb/a0/19119d8b7c05be49baf6c593f11c432d571b70d805f2fe94c0585e55e4c8/python_utils-2.3.0-py2.py3-none-any.whl\n",
            "Requirement already satisfied: chardet<3.1.0,>=3.0.2 in /usr/local/lib/python3.6/dist-packages (from requests>=2.0->gym->baselines) (3.0.4)\n",
            "Requirement already satisfied: certifi>=2017.4.17 in /usr/local/lib/python3.6/dist-packages (from requests>=2.0->gym->baselines) (2018.10.15)\n",
            "Requirement already satisfied: urllib3<1.23,>=1.21.1 in /usr/local/lib/python3.6/dist-packages (from requests>=2.0->gym->baselines) (1.22)\n",
            "Requirement already satisfied: idna<2.7,>=2.5 in /usr/local/lib/python3.6/dist-packages (from requests>=2.0->gym->baselines) (2.6)\n",
            "Requirement already satisfied: future in /usr/local/lib/python3.6/dist-packages (from pyglet>=1.2.0->gym->baselines) (0.16.0)\n",
            "Building wheels for collected packages: gym\n",
            "  Running setup.py bdist_wheel for gym ... \u001b[?25l-\b \b\\\b \b|\b \b/\b \bdone\n",
            "\u001b[?25h  Stored in directory: /root/.cache/pip/wheels/6c/3a/0e/b86dee98876bb56cdb482cc1f72201035e46d1baf69d10d028\n",
            "Successfully built gym\n",
            "Installing collected packages: pyglet, gym, python-utils, progressbar2, cloudpickle, click, baselines\n",
            "  Running setup.py develop for baselines\n",
            "Successfully installed baselines click-7.0 cloudpickle-0.6.1 gym-0.10.9 progressbar2-3.38.0 pyglet-1.3.2 python-utils-2.3.0\n"
          ],
          "name": "stdout"
        }
      ]
    },
    {
      "metadata": {
        "id": "71KwHWAdKxRq",
        "colab_type": "text"
      },
      "cell_type": "markdown",
      "source": [
        "### important for colab: restart runtime after installation"
      ]
    },
    {
      "metadata": {
        "id": "DDd6HFeatBwV",
        "colab_type": "text"
      },
      "cell_type": "markdown",
      "source": [
        "## Definting our Environment, version using cnt"
      ]
    },
    {
      "metadata": {
        "id": "AFSOvMlHsycx",
        "colab_type": "code",
        "colab": {}
      },
      "cell_type": "code",
      "source": [
        "cnt = 0"
      ],
      "execution_count": 0,
      "outputs": []
    },
    {
      "metadata": {
        "id": "sRTaKO5qsyc5",
        "colab_type": "code",
        "colab": {}
      },
      "cell_type": "code",
      "source": [
        "import gym\n",
        "from gym.utils import seeding\n",
        "from gym import spaces\n",
        "\n",
        "def state_name_to_int(state):\n",
        "    state_name_map = {\n",
        "        'S/Z': 0,\n",
        "        'A': 1,\n",
        "        'B': 2,\n",
        "        'C': 3,\n",
        "    }\n",
        "    return state_name_map[state]\n",
        "\n",
        "def int_to_state_name(state_as_int):\n",
        "    state_map = {\n",
        "        0: 'S/Z',\n",
        "        1: 'A',\n",
        "        2: 'B',\n",
        "        3: 'C'\n",
        "    }\n",
        "    return state_map[state_as_int]\n",
        "    \n",
        "class BeraterEnv(gym.Env):\n",
        "    \"\"\"\n",
        "    The Berater Problem\n",
        "\n",
        "    Actions: \n",
        "    There are 3 discrete deterministic actions:\n",
        "    - 0: First Direction\n",
        "    - 1: Second Direction\n",
        "    - 2: Third Direction / Go home\n",
        "    \"\"\"\n",
        "    metadata = {'render.modes': ['ansi']}\n",
        "    \n",
        "    num_envs = 1\n",
        "\n",
        "    def __init__(self):\n",
        "        self.map = {\n",
        "            'S/Z': [('A', 100), ('B', 400), ('C', 200 )],\n",
        "            'A': [('B', 250), ('C', 400), ('S/Z', 100 )],\n",
        "            'B': [('A', 250), ('C', 250), ('S/Z', 400 )],\n",
        "            'C': [('A', 400), ('B', 250), ('S/Z', 200 )]\n",
        "        }\n",
        "        self.action_space = spaces.Discrete(3)\n",
        "        self.observation_space = spaces.Discrete(1)\n",
        "\n",
        "        self.reset()\n",
        "        self.optimum = self.calculate_customers_reward()\n",
        "\n",
        "    def seed(self, seed=None):\n",
        "        self.np_random, seed = seeding.np_random(seed)\n",
        "        return [seed]\n",
        "\n",
        "    def step(self, action):\n",
        "        paths = self.map[self.state]\n",
        "        destination, cost = paths[action]\n",
        "\n",
        "        info = {\"from\": self.state, \"to\": destination}\n",
        "\n",
        "        self.state = destination\n",
        "        reward = (-cost + self.customer_reward[destination]) / self.optimum\n",
        "        self.customer_visited(destination)\n",
        "        done = destination == 'S/Z' and self.all_customers_visited()\n",
        "        return state_name_to_int(self.state), reward, done, info\n",
        "\n",
        "    def customer_visited(self, customer):\n",
        "        self.customer_reward[customer] = 0\n",
        "\n",
        "    def all_customers_visited(self):\n",
        "        return self.calculate_customers_reward() == 0\n",
        "\n",
        "    def calculate_customers_reward(self):\n",
        "        sum = 0\n",
        "        for value in self.customer_reward.values():\n",
        "            sum += value\n",
        "        return sum\n",
        "\n",
        "    def reset(self):\n",
        "        # print(\"Reset\")\n",
        "        reward_per_customer = 1000\n",
        "        self.customer_reward = {\n",
        "            'S/Z': 0,\n",
        "            'A': reward_per_customer,\n",
        "            'B': reward_per_customer,\n",
        "            'C': reward_per_customer,\n",
        "        }\n",
        "\n",
        "        self.state = 'S/Z'\n",
        "        return state_name_to_int(self.state)\n",
        "\n",
        "    def render(self, mode='human'):\n",
        "        print(self.state)\n",
        "        print(self.customer_reward)\n",
        "\n",
        "from gym.envs.registration import register\n",
        "cnt += 1\n",
        "id = \"Berater-v{}\".format(cnt)\n",
        "register(\n",
        "    id=id,\n",
        "    entry_point=BeraterEnv\n",
        ")        \n",
        "env = gym.make(id)"
      ],
      "execution_count": 0,
      "outputs": []
    },
    {
      "metadata": {
        "id": "6gFy5UVGsyc_",
        "colab_type": "text"
      },
      "cell_type": "markdown",
      "source": [
        "## Try out Environment"
      ]
    },
    {
      "metadata": {
        "id": "YEWtaKx9sydB",
        "colab_type": "code",
        "outputId": "68151cb5-986b-4a3d-8015-2986731c965b",
        "colab": {
          "base_uri": "https://localhost:8080/",
          "height": 442
        }
      },
      "cell_type": "code",
      "source": [
        "# Run a demo of the environment\n",
        "observation = env.reset()\n",
        "for t in range(1000):\n",
        "    env.render()\n",
        "    action = env.action_space.sample()\n",
        "    print(\"Action: {}\".format(action))\n",
        "    observation, reward, done, info = env.step(action)\n",
        "    print(reward)\n",
        "    if done:\n",
        "        print(\"Episode finished after {} timesteps\".format(t+1))\n",
        "        break\n",
        "env.close()"
      ],
      "execution_count": 3,
      "outputs": [
        {
          "output_type": "stream",
          "text": [
            "S/Z\n",
            "{'S/Z': 0, 'A': 1000, 'B': 1000, 'C': 1000}\n",
            "Action: 0\n",
            "0.3\n",
            "A\n",
            "{'S/Z': 0, 'A': 0, 'B': 1000, 'C': 1000}\n",
            "Action: 1\n",
            "0.2\n",
            "C\n",
            "{'S/Z': 0, 'A': 0, 'B': 1000, 'C': 0}\n",
            "Action: 0\n",
            "-0.13333333333333333\n",
            "A\n",
            "{'S/Z': 0, 'A': 0, 'B': 1000, 'C': 0}\n",
            "Action: 1\n",
            "-0.13333333333333333\n",
            "C\n",
            "{'S/Z': 0, 'A': 0, 'B': 1000, 'C': 0}\n",
            "Action: 1\n",
            "0.25\n",
            "B\n",
            "{'S/Z': 0, 'A': 0, 'B': 0, 'C': 0}\n",
            "Action: 2\n",
            "-0.13333333333333333\n",
            "Episode finished after 6 timesteps\n"
          ],
          "name": "stdout"
        }
      ]
    },
    {
      "metadata": {
        "id": "ZprYdtWusydM",
        "colab_type": "text"
      },
      "cell_type": "markdown",
      "source": [
        "## Train PPO2 using MLP Neural Network Architecture"
      ]
    },
    {
      "metadata": {
        "id": "cBdqgiF5sydP",
        "colab_type": "code",
        "outputId": "4152e397-bb4d-4be8-ca05-68350c79915d",
        "colab": {
          "base_uri": "https://localhost:8080/",
          "height": 289
        }
      },
      "cell_type": "code",
      "source": [
        "from baselines.common.vec_env.dummy_vec_env import DummyVecEnv\n",
        "from baselines.ppo2 import ppo2\n",
        "\n",
        "wrapped_env = DummyVecEnv([lambda: gym.make(id)])\n",
        "\n",
        "model = ppo2.learn(network='mlp', env=wrapped_env, total_timesteps=20000)"
      ],
      "execution_count": 4,
      "outputs": [
        {
          "output_type": "stream",
          "text": [
            "Logging to /tmp/openai-2018-11-08-16-33-12-360900\n",
            "---------------------------------------\n",
            "| approxkl           | 4.212758e-05   |\n",
            "| clipfrac           | 0.0            |\n",
            "| eplenmean          | nan            |\n",
            "| eprewmean          | nan            |\n",
            "| explained_variance | -1             |\n",
            "| fps                | 404            |\n",
            "| nupdates           | 1              |\n",
            "| policy_entropy     | 1.0985694      |\n",
            "| policy_loss        | -0.00033217986 |\n",
            "| serial_timesteps   | 2048           |\n",
            "| time_elapsed       | 5.06           |\n",
            "| total_timesteps    | 2048           |\n",
            "| value_loss         | 0.06086097     |\n",
            "---------------------------------------\n"
          ],
          "name": "stdout"
        }
      ]
    },
    {
      "metadata": {
        "id": "Ko4tq1ujsydW",
        "colab_type": "text"
      },
      "cell_type": "markdown",
      "source": [
        "## Use trained model to do actual planning"
      ]
    },
    {
      "metadata": {
        "id": "zaalguI3sydY",
        "colab_type": "code",
        "outputId": "d0474451-bcc8-458e-8fbe-43f44d435ef9",
        "colab": {
          "base_uri": "https://localhost:8080/",
          "height": 442
        }
      },
      "cell_type": "code",
      "source": [
        "observation = wrapped_env.reset()\n",
        "\n",
        "import numpy as np \n",
        "\n",
        "state = np.zeros((1, 2*128))\n",
        "dones = np.zeros((1))\n",
        "\n",
        "for t in range(1000):\n",
        "    wrapped_env.render()\n",
        "    actions, _, state, _ = model.step(observation, S=state, M=dones)\n",
        "    print(\"Action: {}\".format(actions))\n",
        "    observation, reward, done, info = wrapped_env.step(actions)\n",
        "    print(reward)\n",
        "    if done:\n",
        "        print(\"Episode finished after {} timesteps\".format(t+1))\n",
        "        break\n",
        "wrapped_env.close()"
      ],
      "execution_count": 5,
      "outputs": [
        {
          "output_type": "stream",
          "text": [
            "S/Z\n",
            "{'S/Z': 0, 'A': 1000, 'B': 1000, 'C': 1000}\n",
            "Action: [0]\n",
            "[0.3]\n",
            "A\n",
            "{'S/Z': 0, 'A': 0, 'B': 1000, 'C': 1000}\n",
            "Action: [2]\n",
            "[-0.03333334]\n",
            "S/Z\n",
            "{'S/Z': 0, 'A': 0, 'B': 1000, 'C': 1000}\n",
            "Action: [2]\n",
            "[0.26666668]\n",
            "C\n",
            "{'S/Z': 0, 'A': 0, 'B': 1000, 'C': 0}\n",
            "Action: [0]\n",
            "[-0.13333334]\n",
            "A\n",
            "{'S/Z': 0, 'A': 0, 'B': 1000, 'C': 0}\n",
            "Action: [0]\n",
            "[0.25]\n",
            "B\n",
            "{'S/Z': 0, 'A': 0, 'B': 0, 'C': 0}\n",
            "Action: [2]\n",
            "[-0.13333334]\n",
            "Episode finished after 6 timesteps\n"
          ],
          "name": "stdout"
        }
      ]
    },
    {
      "metadata": {
        "id": "F69gaxxNsydf",
        "colab_type": "code",
        "colab": {}
      },
      "cell_type": "code",
      "source": [
        ""
      ],
      "execution_count": 0,
      "outputs": []
    }
  ]
}