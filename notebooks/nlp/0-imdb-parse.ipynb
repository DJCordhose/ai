{
 "cells": [
  {
   "cell_type": "markdown",
   "metadata": {},
   "source": [
    "# Parsing the imdb database"
   ]
  },
  {
   "cell_type": "code",
   "execution_count": 1,
   "metadata": {},
   "outputs": [],
   "source": [
    "# Based on\n",
    "# https://github.com/fchollet/deep-learning-with-python-notebooks/blob/master/6.1-using-word-embeddings.ipynb\n",
    "# https://machinelearningmastery.com/develop-word-embeddings-python-gensim/"
   ]
  },
  {
   "cell_type": "code",
   "execution_count": 2,
   "metadata": {},
   "outputs": [],
   "source": [
    "import warnings\n",
    "warnings.filterwarnings('ignore')"
   ]
  },
  {
   "cell_type": "code",
   "execution_count": 3,
   "metadata": {},
   "outputs": [
    {
     "name": "stdout",
     "output_type": "stream",
     "text": [
      "Populating the interactive namespace from numpy and matplotlib\n"
     ]
    }
   ],
   "source": [
    "%matplotlib inline\n",
    "%pylab inline"
   ]
  },
  {
   "cell_type": "code",
   "execution_count": 4,
   "metadata": {},
   "outputs": [
    {
     "name": "stdout",
     "output_type": "stream",
     "text": [
      "1.8.0\n"
     ]
    }
   ],
   "source": [
    "import tensorflow as tf\n",
    "tf.logging.set_verbosity(tf.logging.ERROR)\n",
    "print(tf.__version__)"
   ]
  },
  {
   "cell_type": "markdown",
   "metadata": {},
   "source": [
    "### Download data:\n",
    "* original imdb database from http://ai.stanford.edu/~amaas/data/sentiment/"
   ]
  },
  {
   "cell_type": "code",
   "execution_count": 5,
   "metadata": {},
   "outputs": [],
   "source": [
    "# !ls -l C:/Users/olive/Development/data/aclImdb"
   ]
  },
  {
   "cell_type": "code",
   "execution_count": 6,
   "metadata": {},
   "outputs": [],
   "source": [
    "# !ls -l C:/Users/olive/Development/data/aclImdb/train"
   ]
  },
  {
   "cell_type": "markdown",
   "metadata": {},
   "source": [
    "### Load Database"
   ]
  },
  {
   "cell_type": "code",
   "execution_count": 7,
   "metadata": {},
   "outputs": [],
   "source": [
    "import os\n",
    "\n",
    "imdb_dir = 'C:/Users/olive/Development/data/aclImdb'\n",
    "train_dir = os.path.join(imdb_dir, 'train')\n",
    "\n",
    "labels = []\n",
    "texts = []\n",
    "\n",
    "for label_type in ['neg', 'pos']:\n",
    "    dir_name = os.path.join(train_dir, label_type)\n",
    "    for fname in os.listdir(dir_name):\n",
    "        if fname[-4:] == '.txt':\n",
    "            f = open(os.path.join(dir_name, fname), encoding='UTF-8')\n",
    "            texts.append(f.read())\n",
    "            f.close()\n",
    "            if label_type == 'neg':\n",
    "                labels.append(0)\n",
    "            else:\n",
    "                labels.append(1)"
   ]
  },
  {
   "cell_type": "code",
   "execution_count": 8,
   "metadata": {},
   "outputs": [
    {
     "data": {
      "text/plain": [
       "25000"
      ]
     },
     "execution_count": 8,
     "metadata": {},
     "output_type": "execute_result"
    }
   ],
   "source": [
    "len(texts)"
   ]
  },
  {
   "cell_type": "code",
   "execution_count": 9,
   "metadata": {},
   "outputs": [
    {
     "data": {
      "text/plain": [
       "\"Story of a man who has unnatural feelings for a pig. Starts out with a opening scene that is a terrific example of absurd comedy. A formal orchestra audience is turned into an insane, violent mob by the crazy chantings of it's singers. Unfortunately it stays absurd the WHOLE time with no general narrative eventually making it just too off putting. Even those from the era should be turned off. The cryptic dialogue would make Shakespeare seem easy to a third grader. On a technical level it's better than you might think with some good cinematography by future great Vilmos Zsigmond. Future stars Sally Kirkland and Frederic Forrest can be seen briefly.\""
      ]
     },
     "execution_count": 9,
     "metadata": {},
     "output_type": "execute_result"
    }
   ],
   "source": [
    "texts[0]"
   ]
  },
  {
   "cell_type": "code",
   "execution_count": 10,
   "metadata": {},
   "outputs": [
    {
     "data": {
      "text/plain": [
       "0"
      ]
     },
     "execution_count": 10,
     "metadata": {},
     "output_type": "execute_result"
    }
   ],
   "source": [
    "# 0: neg, 1: pos\n",
    "labels[0]"
   ]
  },
  {
   "cell_type": "code",
   "execution_count": 11,
   "metadata": {},
   "outputs": [
    {
     "data": {
      "text/plain": [
       "\"Kate Beckinsale steals the show! Bravo! Too bad Knightly ins't as good looking as Jeremy Northam. Mark Strong did a fabulous job. Bernard Hepton was perfect as Emmas father. I love the end scene (which is an addition to the novel-but well written) when the harvest is in and Knightly dines with his workers and high society friends. Emma must show that she accepts this now. She is a changed woman. That is too much too quick, but OK. I'll buy into it. Samantha Bond plays Emma's ex-governess and confidant. She is wonderful. just as I would have imagined her. I believe that when the UK does a Jane Austen its the best. American versions of English literature are done for money and not for quality. See this one!\""
      ]
     },
     "execution_count": 11,
     "metadata": {},
     "output_type": "execute_result"
    }
   ],
   "source": [
    "texts[15000]"
   ]
  },
  {
   "cell_type": "code",
   "execution_count": 12,
   "metadata": {},
   "outputs": [
    {
     "data": {
      "text/plain": [
       "1"
      ]
     },
     "execution_count": 12,
     "metadata": {},
     "output_type": "execute_result"
    }
   ],
   "source": [
    "labels[15000]"
   ]
  },
  {
   "cell_type": "markdown",
   "metadata": {},
   "source": [
    "### Transform each review into exactly 500 words having a vocabulary of 10000 words"
   ]
  },
  {
   "cell_type": "code",
   "execution_count": 13,
   "metadata": {},
   "outputs": [
    {
     "name": "stderr",
     "output_type": "stream",
     "text": [
      "Using TensorFlow backend.\n"
     ]
    }
   ],
   "source": [
    "from keras.preprocessing.text import Tokenizer\n",
    "from keras.preprocessing.sequence import pad_sequences\n",
    "import numpy as np\n",
    "\n",
    "maxlen = 500  # We will cut reviews after 500 words\n",
    "max_words = 10000  # We will only consider the top 10,000 words in the dataset\n",
    "\n",
    "tokenizer = Tokenizer(num_words=max_words)\n",
    "tokenizer.fit_on_texts(texts)"
   ]
  },
  {
   "cell_type": "code",
   "execution_count": 19,
   "metadata": {},
   "outputs": [],
   "source": [
    "# Tokenizer?"
   ]
  },
  {
   "cell_type": "code",
   "execution_count": 22,
   "metadata": {},
   "outputs": [
    {
     "data": {
      "text/plain": [
       "{'the': 1,\n",
       " 'and': 2,\n",
       " 'a': 3,\n",
       " 'of': 4,\n",
       " 'to': 5,\n",
       " 'is': 6,\n",
       " 'br': 7,\n",
       " 'in': 8,\n",
       " 'it': 9,\n",
       " 'i': 10,\n",
       " 'this': 11,\n",
       " 'that': 12,\n",
       " 'was': 13,\n",
       " 'as': 14,\n",
       " 'for': 15,\n",
       " 'with': 16,\n",
       " 'movie': 17,\n",
       " 'but': 18,\n",
       " 'film': 19,\n",
       " 'on': 20,\n",
       " 'not': 21,\n",
       " 'you': 22,\n",
       " 'are': 23,\n",
       " 'his': 24,\n",
       " 'have': 25,\n",
       " 'he': 26,\n",
       " 'be': 27,\n",
       " 'one': 28,\n",
       " 'all': 29,\n",
       " 'at': 30,\n",
       " 'by': 31,\n",
       " 'an': 32,\n",
       " 'they': 33,\n",
       " 'who': 34,\n",
       " 'so': 35,\n",
       " 'from': 36,\n",
       " 'like': 37,\n",
       " 'her': 38,\n",
       " 'or': 39,\n",
       " 'just': 40,\n",
       " 'about': 41,\n",
       " \"it's\": 42,\n",
       " 'out': 43,\n",
       " 'has': 44,\n",
       " 'if': 45,\n",
       " 'some': 46,\n",
       " 'there': 47,\n",
       " 'what': 48,\n",
       " 'good': 49,\n",
       " 'more': 50,\n",
       " 'when': 51,\n",
       " 'very': 52,\n",
       " 'up': 53,\n",
       " 'no': 54,\n",
       " 'time': 55,\n",
       " 'she': 56,\n",
       " 'even': 57,\n",
       " 'my': 58,\n",
       " 'would': 59,\n",
       " 'which': 60,\n",
       " 'only': 61,\n",
       " 'story': 62,\n",
       " 'really': 63,\n",
       " 'see': 64,\n",
       " 'their': 65,\n",
       " 'had': 66,\n",
       " 'can': 67,\n",
       " 'were': 68,\n",
       " 'me': 69,\n",
       " 'well': 70,\n",
       " 'than': 71,\n",
       " 'we': 72,\n",
       " 'much': 73,\n",
       " 'been': 74,\n",
       " 'bad': 75,\n",
       " 'get': 76,\n",
       " 'will': 77,\n",
       " 'do': 78,\n",
       " 'also': 79,\n",
       " 'into': 80,\n",
       " 'people': 81,\n",
       " 'other': 82,\n",
       " 'first': 83,\n",
       " 'great': 84,\n",
       " 'because': 85,\n",
       " 'how': 86,\n",
       " 'him': 87,\n",
       " 'most': 88,\n",
       " \"don't\": 89,\n",
       " 'made': 90,\n",
       " 'its': 91,\n",
       " 'then': 92,\n",
       " 'way': 93,\n",
       " 'make': 94,\n",
       " 'them': 95,\n",
       " 'too': 96,\n",
       " 'could': 97,\n",
       " 'any': 98,\n",
       " 'movies': 99,\n",
       " 'after': 100,\n",
       " 'think': 101,\n",
       " 'characters': 102,\n",
       " 'watch': 103,\n",
       " 'two': 104,\n",
       " 'films': 105,\n",
       " 'character': 106,\n",
       " 'seen': 107,\n",
       " 'many': 108,\n",
       " 'being': 109,\n",
       " 'life': 110,\n",
       " 'plot': 111,\n",
       " 'never': 112,\n",
       " 'acting': 113,\n",
       " 'little': 114,\n",
       " 'best': 115,\n",
       " 'love': 116,\n",
       " 'over': 117,\n",
       " 'where': 118,\n",
       " 'did': 119,\n",
       " 'show': 120,\n",
       " 'know': 121,\n",
       " 'off': 122,\n",
       " 'ever': 123,\n",
       " 'does': 124,\n",
       " 'better': 125,\n",
       " 'your': 126,\n",
       " 'end': 127,\n",
       " 'still': 128,\n",
       " 'man': 129,\n",
       " 'here': 130,\n",
       " 'these': 131,\n",
       " 'say': 132,\n",
       " 'scene': 133,\n",
       " 'while': 134,\n",
       " 'why': 135,\n",
       " 'scenes': 136,\n",
       " 'go': 137,\n",
       " 'such': 138,\n",
       " 'something': 139,\n",
       " 'through': 140,\n",
       " 'should': 141,\n",
       " 'back': 142,\n",
       " \"i'm\": 143,\n",
       " 'real': 144,\n",
       " 'those': 145,\n",
       " 'watching': 146,\n",
       " 'now': 147,\n",
       " 'though': 148,\n",
       " \"doesn't\": 149,\n",
       " 'years': 150,\n",
       " 'old': 151,\n",
       " 'thing': 152,\n",
       " 'actors': 153,\n",
       " 'work': 154,\n",
       " '10': 155,\n",
       " 'before': 156,\n",
       " 'another': 157,\n",
       " \"didn't\": 158,\n",
       " 'new': 159,\n",
       " 'funny': 160,\n",
       " 'nothing': 161,\n",
       " 'actually': 162,\n",
       " 'makes': 163,\n",
       " 'director': 164,\n",
       " 'look': 165,\n",
       " 'find': 166,\n",
       " 'going': 167,\n",
       " 'few': 168,\n",
       " 'same': 169,\n",
       " 'part': 170,\n",
       " 'again': 171,\n",
       " 'every': 172,\n",
       " 'lot': 173,\n",
       " 'cast': 174,\n",
       " 'us': 175,\n",
       " 'quite': 176,\n",
       " 'down': 177,\n",
       " 'want': 178,\n",
       " 'world': 179,\n",
       " 'things': 180,\n",
       " 'pretty': 181,\n",
       " 'young': 182,\n",
       " 'seems': 183,\n",
       " 'around': 184,\n",
       " 'got': 185,\n",
       " 'horror': 186,\n",
       " 'however': 187,\n",
       " \"can't\": 188,\n",
       " 'fact': 189,\n",
       " 'take': 190,\n",
       " 'big': 191,\n",
       " 'enough': 192,\n",
       " 'long': 193,\n",
       " 'thought': 194,\n",
       " \"that's\": 195,\n",
       " 'both': 196,\n",
       " 'between': 197,\n",
       " 'series': 198,\n",
       " 'give': 199,\n",
       " 'may': 200,\n",
       " 'original': 201,\n",
       " 'action': 202,\n",
       " 'own': 203,\n",
       " \"i've\": 204,\n",
       " 'right': 205,\n",
       " 'without': 206,\n",
       " 'always': 207,\n",
       " 'times': 208,\n",
       " 'comedy': 209,\n",
       " 'point': 210,\n",
       " 'gets': 211,\n",
       " 'must': 212,\n",
       " 'come': 213,\n",
       " 'role': 214,\n",
       " \"isn't\": 215,\n",
       " 'saw': 216,\n",
       " 'almost': 217,\n",
       " 'interesting': 218,\n",
       " 'least': 219,\n",
       " 'family': 220,\n",
       " 'done': 221,\n",
       " \"there's\": 222,\n",
       " 'whole': 223,\n",
       " 'bit': 224,\n",
       " 'music': 225,\n",
       " 'script': 226,\n",
       " 'far': 227,\n",
       " 'making': 228,\n",
       " 'anything': 229,\n",
       " 'guy': 230,\n",
       " 'minutes': 231,\n",
       " 'feel': 232,\n",
       " 'last': 233,\n",
       " 'since': 234,\n",
       " 'might': 235,\n",
       " 'performance': 236,\n",
       " \"he's\": 237,\n",
       " '2': 238,\n",
       " 'probably': 239,\n",
       " 'kind': 240,\n",
       " 'am': 241,\n",
       " 'away': 242,\n",
       " 'yet': 243,\n",
       " 'rather': 244,\n",
       " 'tv': 245,\n",
       " 'worst': 246,\n",
       " 'girl': 247,\n",
       " 'day': 248,\n",
       " 'sure': 249,\n",
       " 'fun': 250,\n",
       " 'hard': 251,\n",
       " 'woman': 252,\n",
       " 'played': 253,\n",
       " 'each': 254,\n",
       " 'found': 255,\n",
       " 'anyone': 256,\n",
       " 'having': 257,\n",
       " 'although': 258,\n",
       " 'especially': 259,\n",
       " 'our': 260,\n",
       " 'course': 261,\n",
       " 'believe': 262,\n",
       " 'comes': 263,\n",
       " 'looking': 264,\n",
       " 'screen': 265,\n",
       " 'trying': 266,\n",
       " 'set': 267,\n",
       " 'goes': 268,\n",
       " 'looks': 269,\n",
       " 'place': 270,\n",
       " 'book': 271,\n",
       " 'different': 272,\n",
       " 'put': 273,\n",
       " 'ending': 274,\n",
       " 'money': 275,\n",
       " 'maybe': 276,\n",
       " 'once': 277,\n",
       " 'sense': 278,\n",
       " 'reason': 279,\n",
       " 'true': 280,\n",
       " 'actor': 281,\n",
       " 'everything': 282,\n",
       " \"wasn't\": 283,\n",
       " 'shows': 284,\n",
       " 'dvd': 285,\n",
       " 'three': 286,\n",
       " 'worth': 287,\n",
       " 'year': 288,\n",
       " 'job': 289,\n",
       " 'main': 290,\n",
       " 'someone': 291,\n",
       " 'together': 292,\n",
       " 'watched': 293,\n",
       " 'play': 294,\n",
       " 'plays': 295,\n",
       " 'american': 296,\n",
       " '1': 297,\n",
       " 'said': 298,\n",
       " 'effects': 299,\n",
       " 'later': 300,\n",
       " 'takes': 301,\n",
       " 'instead': 302,\n",
       " 'seem': 303,\n",
       " 'beautiful': 304,\n",
       " 'john': 305,\n",
       " 'himself': 306,\n",
       " 'version': 307,\n",
       " 'audience': 308,\n",
       " 'high': 309,\n",
       " 'house': 310,\n",
       " 'night': 311,\n",
       " 'during': 312,\n",
       " 'everyone': 313,\n",
       " 'left': 314,\n",
       " 'special': 315,\n",
       " 'seeing': 316,\n",
       " 'half': 317,\n",
       " 'excellent': 318,\n",
       " 'wife': 319,\n",
       " 'star': 320,\n",
       " 'shot': 321,\n",
       " 'war': 322,\n",
       " 'idea': 323,\n",
       " 'nice': 324,\n",
       " 'black': 325,\n",
       " 'less': 326,\n",
       " 'mind': 327,\n",
       " 'simply': 328,\n",
       " 'read': 329,\n",
       " 'second': 330,\n",
       " 'else': 331,\n",
       " \"you're\": 332,\n",
       " 'father': 333,\n",
       " 'fan': 334,\n",
       " 'help': 335,\n",
       " 'poor': 336,\n",
       " 'completely': 337,\n",
       " 'death': 338,\n",
       " '3': 339,\n",
       " 'used': 340,\n",
       " 'home': 341,\n",
       " 'either': 342,\n",
       " 'short': 343,\n",
       " 'line': 344,\n",
       " 'given': 345,\n",
       " 'men': 346,\n",
       " 'top': 347,\n",
       " 'dead': 348,\n",
       " 'budget': 349,\n",
       " 'try': 350,\n",
       " 'performances': 351,\n",
       " 'wrong': 352,\n",
       " 'classic': 353,\n",
       " 'boring': 354,\n",
       " 'enjoy': 355,\n",
       " 'need': 356,\n",
       " 'rest': 357,\n",
       " 'use': 358,\n",
       " 'hollywood': 359,\n",
       " 'kids': 360,\n",
       " 'low': 361,\n",
       " 'production': 362,\n",
       " 'until': 363,\n",
       " 'along': 364,\n",
       " 'full': 365,\n",
       " 'friends': 366,\n",
       " 'camera': 367,\n",
       " 'truly': 368,\n",
       " 'women': 369,\n",
       " 'awful': 370,\n",
       " 'video': 371,\n",
       " 'next': 372,\n",
       " 'tell': 373,\n",
       " 'remember': 374,\n",
       " 'couple': 375,\n",
       " 'stupid': 376,\n",
       " 'start': 377,\n",
       " 'stars': 378,\n",
       " 'perhaps': 379,\n",
       " 'mean': 380,\n",
       " 'sex': 381,\n",
       " 'came': 382,\n",
       " 'recommend': 383,\n",
       " 'let': 384,\n",
       " 'moments': 385,\n",
       " 'wonderful': 386,\n",
       " 'episode': 387,\n",
       " 'understand': 388,\n",
       " 'small': 389,\n",
       " 'face': 390,\n",
       " 'terrible': 391,\n",
       " 'playing': 392,\n",
       " 'school': 393,\n",
       " 'getting': 394,\n",
       " 'written': 395,\n",
       " 'often': 396,\n",
       " 'doing': 397,\n",
       " 'keep': 398,\n",
       " 'early': 399,\n",
       " 'name': 400,\n",
       " 'perfect': 401,\n",
       " 'style': 402,\n",
       " 'human': 403,\n",
       " 'definitely': 404,\n",
       " 'gives': 405,\n",
       " 'others': 406,\n",
       " 'itself': 407,\n",
       " 'lines': 408,\n",
       " 'live': 409,\n",
       " 'become': 410,\n",
       " 'dialogue': 411,\n",
       " 'person': 412,\n",
       " 'lost': 413,\n",
       " 'finally': 414,\n",
       " 'piece': 415,\n",
       " 'head': 416,\n",
       " 'felt': 417,\n",
       " 'case': 418,\n",
       " 'yes': 419,\n",
       " 'liked': 420,\n",
       " 'supposed': 421,\n",
       " 'title': 422,\n",
       " \"couldn't\": 423,\n",
       " 'absolutely': 424,\n",
       " 'white': 425,\n",
       " 'against': 426,\n",
       " 'boy': 427,\n",
       " 'picture': 428,\n",
       " 'sort': 429,\n",
       " 'worse': 430,\n",
       " 'certainly': 431,\n",
       " 'went': 432,\n",
       " 'entire': 433,\n",
       " 'waste': 434,\n",
       " 'cinema': 435,\n",
       " 'problem': 436,\n",
       " 'hope': 437,\n",
       " 'entertaining': 438,\n",
       " \"she's\": 439,\n",
       " 'mr': 440,\n",
       " 'overall': 441,\n",
       " 'evil': 442,\n",
       " 'called': 443,\n",
       " 'loved': 444,\n",
       " 'based': 445,\n",
       " 'oh': 446,\n",
       " 'several': 447,\n",
       " 'fans': 448,\n",
       " 'mother': 449,\n",
       " 'drama': 450,\n",
       " 'beginning': 451,\n",
       " 'killer': 452,\n",
       " 'lives': 453,\n",
       " '5': 454,\n",
       " 'direction': 455,\n",
       " 'care': 456,\n",
       " 'becomes': 457,\n",
       " 'already': 458,\n",
       " 'example': 459,\n",
       " 'laugh': 460,\n",
       " 'friend': 461,\n",
       " 'dark': 462,\n",
       " 'under': 463,\n",
       " 'despite': 464,\n",
       " 'seemed': 465,\n",
       " 'throughout': 466,\n",
       " '4': 467,\n",
       " 'turn': 468,\n",
       " 'unfortunately': 469,\n",
       " 'wanted': 470,\n",
       " \"i'd\": 471,\n",
       " '\\x96': 472,\n",
       " 'children': 473,\n",
       " 'final': 474,\n",
       " 'fine': 475,\n",
       " 'history': 476,\n",
       " 'amazing': 477,\n",
       " 'sound': 478,\n",
       " 'guess': 479,\n",
       " 'heart': 480,\n",
       " 'totally': 481,\n",
       " 'humor': 482,\n",
       " 'lead': 483,\n",
       " 'writing': 484,\n",
       " 'michael': 485,\n",
       " 'quality': 486,\n",
       " \"you'll\": 487,\n",
       " 'close': 488,\n",
       " 'son': 489,\n",
       " 'guys': 490,\n",
       " 'wants': 491,\n",
       " 'works': 492,\n",
       " 'behind': 493,\n",
       " 'tries': 494,\n",
       " 'art': 495,\n",
       " 'side': 496,\n",
       " 'game': 497,\n",
       " 'past': 498,\n",
       " 'able': 499,\n",
       " 'b': 500,\n",
       " 'days': 501,\n",
       " 'turns': 502,\n",
       " 'child': 503,\n",
       " \"they're\": 504,\n",
       " 'hand': 505,\n",
       " 'flick': 506,\n",
       " 'enjoyed': 507,\n",
       " 'act': 508,\n",
       " 'genre': 509,\n",
       " 'town': 510,\n",
       " 'favorite': 511,\n",
       " 'soon': 512,\n",
       " 'kill': 513,\n",
       " 'starts': 514,\n",
       " 'sometimes': 515,\n",
       " 'car': 516,\n",
       " 'gave': 517,\n",
       " 'run': 518,\n",
       " 'late': 519,\n",
       " 'actress': 520,\n",
       " 'etc': 521,\n",
       " 'eyes': 522,\n",
       " 'directed': 523,\n",
       " 'horrible': 524,\n",
       " \"won't\": 525,\n",
       " 'brilliant': 526,\n",
       " 'viewer': 527,\n",
       " 'parts': 528,\n",
       " 'themselves': 529,\n",
       " 'self': 530,\n",
       " 'hour': 531,\n",
       " 'expect': 532,\n",
       " 'thinking': 533,\n",
       " 'stories': 534,\n",
       " 'stuff': 535,\n",
       " 'girls': 536,\n",
       " 'obviously': 537,\n",
       " 'blood': 538,\n",
       " 'decent': 539,\n",
       " 'city': 540,\n",
       " 'voice': 541,\n",
       " 'highly': 542,\n",
       " 'myself': 543,\n",
       " 'feeling': 544,\n",
       " 'fight': 545,\n",
       " 'except': 546,\n",
       " 'slow': 547,\n",
       " 'matter': 548,\n",
       " 'type': 549,\n",
       " 'kid': 550,\n",
       " 'anyway': 551,\n",
       " 'roles': 552,\n",
       " 'heard': 553,\n",
       " 'killed': 554,\n",
       " 'says': 555,\n",
       " 'god': 556,\n",
       " 'age': 557,\n",
       " 'moment': 558,\n",
       " 'took': 559,\n",
       " 'leave': 560,\n",
       " 'writer': 561,\n",
       " 'strong': 562,\n",
       " 'cannot': 563,\n",
       " 'violence': 564,\n",
       " 'police': 565,\n",
       " 'hit': 566,\n",
       " 'happens': 567,\n",
       " 'stop': 568,\n",
       " 'particularly': 569,\n",
       " 'known': 570,\n",
       " 'involved': 571,\n",
       " 'happened': 572,\n",
       " 'extremely': 573,\n",
       " 'daughter': 574,\n",
       " 'obvious': 575,\n",
       " 'told': 576,\n",
       " 'chance': 577,\n",
       " 'living': 578,\n",
       " 'coming': 579,\n",
       " 'lack': 580,\n",
       " 'experience': 581,\n",
       " 'alone': 582,\n",
       " 'including': 583,\n",
       " \"wouldn't\": 584,\n",
       " 'murder': 585,\n",
       " 'attempt': 586,\n",
       " 's': 587,\n",
       " 'james': 588,\n",
       " 'please': 589,\n",
       " 'happen': 590,\n",
       " 'wonder': 591,\n",
       " 'crap': 592,\n",
       " 'brother': 593,\n",
       " 'ago': 594,\n",
       " \"film's\": 595,\n",
       " 'gore': 596,\n",
       " 'complete': 597,\n",
       " 'none': 598,\n",
       " 'interest': 599,\n",
       " 'score': 600,\n",
       " 'group': 601,\n",
       " 'cut': 602,\n",
       " 'simple': 603,\n",
       " 'save': 604,\n",
       " 'looked': 605,\n",
       " 'ok': 606,\n",
       " 'hell': 607,\n",
       " 'career': 608,\n",
       " 'number': 609,\n",
       " 'song': 610,\n",
       " 'possible': 611,\n",
       " 'seriously': 612,\n",
       " 'annoying': 613,\n",
       " 'exactly': 614,\n",
       " 'sad': 615,\n",
       " 'shown': 616,\n",
       " 'running': 617,\n",
       " 'serious': 618,\n",
       " 'musical': 619,\n",
       " 'yourself': 620,\n",
       " 'taken': 621,\n",
       " 'whose': 622,\n",
       " 'released': 623,\n",
       " 'cinematography': 624,\n",
       " 'david': 625,\n",
       " 'scary': 626,\n",
       " 'ends': 627,\n",
       " 'english': 628,\n",
       " 'hero': 629,\n",
       " 'usually': 630,\n",
       " 'hours': 631,\n",
       " 'reality': 632,\n",
       " 'opening': 633,\n",
       " \"i'll\": 634,\n",
       " 'across': 635,\n",
       " 'light': 636,\n",
       " 'jokes': 637,\n",
       " 'today': 638,\n",
       " 'hilarious': 639,\n",
       " 'somewhat': 640,\n",
       " 'usual': 641,\n",
       " 'body': 642,\n",
       " 'ridiculous': 643,\n",
       " 'cool': 644,\n",
       " 'started': 645,\n",
       " 'level': 646,\n",
       " 'view': 647,\n",
       " 'relationship': 648,\n",
       " 'change': 649,\n",
       " 'opinion': 650,\n",
       " 'happy': 651,\n",
       " 'middle': 652,\n",
       " 'taking': 653,\n",
       " 'wish': 654,\n",
       " 'finds': 655,\n",
       " 'husband': 656,\n",
       " 'order': 657,\n",
       " 'saying': 658,\n",
       " 'shots': 659,\n",
       " 'talking': 660,\n",
       " 'ones': 661,\n",
       " 'documentary': 662,\n",
       " 'huge': 663,\n",
       " 'novel': 664,\n",
       " 'mostly': 665,\n",
       " 'female': 666,\n",
       " 'robert': 667,\n",
       " 'power': 668,\n",
       " 'episodes': 669,\n",
       " 'room': 670,\n",
       " 'important': 671,\n",
       " 'rating': 672,\n",
       " 'talent': 673,\n",
       " 'five': 674,\n",
       " 'major': 675,\n",
       " 'turned': 676,\n",
       " 'strange': 677,\n",
       " 'word': 678,\n",
       " 'modern': 679,\n",
       " 'call': 680,\n",
       " 'apparently': 681,\n",
       " 'disappointed': 682,\n",
       " 'single': 683,\n",
       " 'events': 684,\n",
       " 'due': 685,\n",
       " 'four': 686,\n",
       " 'songs': 687,\n",
       " 'basically': 688,\n",
       " 'attention': 689,\n",
       " '7': 690,\n",
       " 'knows': 691,\n",
       " 'clearly': 692,\n",
       " 'supporting': 693,\n",
       " 'knew': 694,\n",
       " 'non': 695,\n",
       " 'comic': 696,\n",
       " 'television': 697,\n",
       " 'british': 698,\n",
       " 'fast': 699,\n",
       " 'earth': 700,\n",
       " 'country': 701,\n",
       " 'future': 702,\n",
       " 'class': 703,\n",
       " 'cheap': 704,\n",
       " 'thriller': 705,\n",
       " 'silly': 706,\n",
       " '8': 707,\n",
       " 'king': 708,\n",
       " 'problems': 709,\n",
       " \"aren't\": 710,\n",
       " 'easily': 711,\n",
       " 'words': 712,\n",
       " 'tells': 713,\n",
       " 'jack': 714,\n",
       " 'miss': 715,\n",
       " 'local': 716,\n",
       " 'sequence': 717,\n",
       " 'entertainment': 718,\n",
       " 'bring': 719,\n",
       " 'paul': 720,\n",
       " 'beyond': 721,\n",
       " 'upon': 722,\n",
       " 'whether': 723,\n",
       " 'predictable': 724,\n",
       " 'moving': 725,\n",
       " 'romantic': 726,\n",
       " 'straight': 727,\n",
       " 'similar': 728,\n",
       " 'sets': 729,\n",
       " 'review': 730,\n",
       " 'oscar': 731,\n",
       " 'falls': 732,\n",
       " 'mystery': 733,\n",
       " 'enjoyable': 734,\n",
       " 'appears': 735,\n",
       " 'talk': 736,\n",
       " 'rock': 737,\n",
       " 'needs': 738,\n",
       " 'george': 739,\n",
       " 'giving': 740,\n",
       " 'eye': 741,\n",
       " 'richard': 742,\n",
       " 'within': 743,\n",
       " 'ten': 744,\n",
       " 'animation': 745,\n",
       " 'message': 746,\n",
       " 'near': 747,\n",
       " 'theater': 748,\n",
       " 'above': 749,\n",
       " 'dull': 750,\n",
       " 'sequel': 751,\n",
       " 'nearly': 752,\n",
       " 'theme': 753,\n",
       " 'points': 754,\n",
       " 'stand': 755,\n",
       " \"'\": 756,\n",
       " 'mention': 757,\n",
       " 'bunch': 758,\n",
       " 'add': 759,\n",
       " 'lady': 760,\n",
       " 'herself': 761,\n",
       " 'feels': 762,\n",
       " 'release': 763,\n",
       " 'red': 764,\n",
       " 'team': 765,\n",
       " 'storyline': 766,\n",
       " 'surprised': 767,\n",
       " 'ways': 768,\n",
       " 'using': 769,\n",
       " 'named': 770,\n",
       " \"haven't\": 771,\n",
       " 'easy': 772,\n",
       " 'lots': 773,\n",
       " 'fantastic': 774,\n",
       " 'begins': 775,\n",
       " 'actual': 776,\n",
       " 'working': 777,\n",
       " 'effort': 778,\n",
       " 'york': 779,\n",
       " 'die': 780,\n",
       " 'hate': 781,\n",
       " 'french': 782,\n",
       " 'tale': 783,\n",
       " 'minute': 784,\n",
       " 'stay': 785,\n",
       " '9': 786,\n",
       " 'clear': 787,\n",
       " 'elements': 788,\n",
       " 'feature': 789,\n",
       " 'among': 790,\n",
       " 'follow': 791,\n",
       " 'comments': 792,\n",
       " 're': 793,\n",
       " 'viewers': 794,\n",
       " 'avoid': 795,\n",
       " 'sister': 796,\n",
       " 'typical': 797,\n",
       " 'showing': 798,\n",
       " 'editing': 799,\n",
       " 'tried': 800,\n",
       " \"what's\": 801,\n",
       " 'famous': 802,\n",
       " 'sorry': 803,\n",
       " 'dialog': 804,\n",
       " 'fall': 805,\n",
       " 'check': 806,\n",
       " 'period': 807,\n",
       " 'form': 808,\n",
       " 'season': 809,\n",
       " 'certain': 810,\n",
       " 'filmed': 811,\n",
       " 'weak': 812,\n",
       " 'soundtrack': 813,\n",
       " 'means': 814,\n",
       " 'material': 815,\n",
       " 'buy': 816,\n",
       " 'realistic': 817,\n",
       " 'somehow': 818,\n",
       " 'figure': 819,\n",
       " 'crime': 820,\n",
       " 'gone': 821,\n",
       " 'doubt': 822,\n",
       " 'peter': 823,\n",
       " 'tom': 824,\n",
       " 'viewing': 825,\n",
       " 'kept': 826,\n",
       " 't': 827,\n",
       " 'general': 828,\n",
       " 'leads': 829,\n",
       " 'greatest': 830,\n",
       " 'space': 831,\n",
       " 'lame': 832,\n",
       " 'suspense': 833,\n",
       " 'dance': 834,\n",
       " 'brought': 835,\n",
       " 'imagine': 836,\n",
       " 'third': 837,\n",
       " 'atmosphere': 838,\n",
       " 'hear': 839,\n",
       " 'particular': 840,\n",
       " 'whatever': 841,\n",
       " 'sequences': 842,\n",
       " 'parents': 843,\n",
       " 'lee': 844,\n",
       " 'move': 845,\n",
       " 'indeed': 846,\n",
       " 'eventually': 847,\n",
       " 'rent': 848,\n",
       " 'learn': 849,\n",
       " 'de': 850,\n",
       " 'note': 851,\n",
       " 'forget': 852,\n",
       " 'deal': 853,\n",
       " 'reviews': 854,\n",
       " 'wait': 855,\n",
       " 'average': 856,\n",
       " 'japanese': 857,\n",
       " 'poorly': 858,\n",
       " 'sexual': 859,\n",
       " 'okay': 860,\n",
       " 'premise': 861,\n",
       " 'surprise': 862,\n",
       " 'zombie': 863,\n",
       " 'believable': 864,\n",
       " 'stage': 865,\n",
       " 'sit': 866,\n",
       " 'possibly': 867,\n",
       " \"who's\": 868,\n",
       " 'decided': 869,\n",
       " 'expected': 870,\n",
       " \"you've\": 871,\n",
       " 'subject': 872,\n",
       " 'nature': 873,\n",
       " 'became': 874,\n",
       " 'difficult': 875,\n",
       " 'free': 876,\n",
       " 'screenplay': 877,\n",
       " 'killing': 878,\n",
       " 'truth': 879,\n",
       " 'romance': 880,\n",
       " 'dr': 881,\n",
       " 'nor': 882,\n",
       " 'reading': 883,\n",
       " 'needed': 884,\n",
       " 'question': 885,\n",
       " 'leaves': 886,\n",
       " 'street': 887,\n",
       " '20': 888,\n",
       " 'meets': 889,\n",
       " 'hot': 890,\n",
       " 'unless': 891,\n",
       " 'begin': 892,\n",
       " 'baby': 893,\n",
       " 'credits': 894,\n",
       " 'otherwise': 895,\n",
       " 'imdb': 896,\n",
       " 'superb': 897,\n",
       " 'write': 898,\n",
       " 'shame': 899,\n",
       " \"let's\": 900,\n",
       " 'situation': 901,\n",
       " 'dramatic': 902,\n",
       " 'memorable': 903,\n",
       " 'directors': 904,\n",
       " 'earlier': 905,\n",
       " 'badly': 906,\n",
       " 'meet': 907,\n",
       " 'open': 908,\n",
       " 'disney': 909,\n",
       " 'dog': 910,\n",
       " 'joe': 911,\n",
       " 'male': 912,\n",
       " 'weird': 913,\n",
       " 'forced': 914,\n",
       " 'acted': 915,\n",
       " 'laughs': 916,\n",
       " 'sci': 917,\n",
       " 'emotional': 918,\n",
       " 'older': 919,\n",
       " 'realize': 920,\n",
       " 'fi': 921,\n",
       " 'dream': 922,\n",
       " 'society': 923,\n",
       " 'writers': 924,\n",
       " 'interested': 925,\n",
       " 'footage': 926,\n",
       " 'comment': 927,\n",
       " 'forward': 928,\n",
       " 'crazy': 929,\n",
       " 'deep': 930,\n",
       " 'whom': 931,\n",
       " 'plus': 932,\n",
       " 'beauty': 933,\n",
       " 'america': 934,\n",
       " 'sounds': 935,\n",
       " 'fantasy': 936,\n",
       " 'directing': 937,\n",
       " 'keeps': 938,\n",
       " 'development': 939,\n",
       " 'ask': 940,\n",
       " 'features': 941,\n",
       " 'air': 942,\n",
       " 'quickly': 943,\n",
       " 'mess': 944,\n",
       " 'creepy': 945,\n",
       " 'towards': 946,\n",
       " 'perfectly': 947,\n",
       " 'mark': 948,\n",
       " 'worked': 949,\n",
       " 'box': 950,\n",
       " 'cheesy': 951,\n",
       " 'unique': 952,\n",
       " 'hands': 953,\n",
       " 'setting': 954,\n",
       " 'plenty': 955,\n",
       " 'previous': 956,\n",
       " 'brings': 957,\n",
       " 'result': 958,\n",
       " 'total': 959,\n",
       " 'e': 960,\n",
       " 'effect': 961,\n",
       " 'incredibly': 962,\n",
       " 'personal': 963,\n",
       " 'monster': 964,\n",
       " 'rate': 965,\n",
       " 'fire': 966,\n",
       " 'business': 967,\n",
       " 'leading': 968,\n",
       " 'apart': 969,\n",
       " 'casting': 970,\n",
       " 'admit': 971,\n",
       " 'background': 972,\n",
       " 'powerful': 973,\n",
       " 'appear': 974,\n",
       " 'joke': 975,\n",
       " 'girlfriend': 976,\n",
       " 'telling': 977,\n",
       " 'meant': 978,\n",
       " 'hardly': 979,\n",
       " 'present': 980,\n",
       " 'christmas': 981,\n",
       " 'battle': 982,\n",
       " 'potential': 983,\n",
       " 'create': 984,\n",
       " 'break': 985,\n",
       " 'bill': 986,\n",
       " 'pay': 987,\n",
       " 'masterpiece': 988,\n",
       " 'gay': 989,\n",
       " 'return': 990,\n",
       " 'political': 991,\n",
       " 'dumb': 992,\n",
       " 'fails': 993,\n",
       " 'fighting': 994,\n",
       " 'various': 995,\n",
       " 'era': 996,\n",
       " 'portrayed': 997,\n",
       " 'co': 998,\n",
       " 'cop': 999,\n",
       " 'secret': 1000,\n",
       " ...}"
      ]
     },
     "execution_count": 22,
     "metadata": {},
     "output_type": "execute_result"
    }
   ],
   "source": [
    "tokenizer.word_index"
   ]
  },
  {
   "cell_type": "code",
   "execution_count": 17,
   "metadata": {},
   "outputs": [],
   "source": [
    "# tokenizer.texts_to_matrix?"
   ]
  },
  {
   "cell_type": "code",
   "execution_count": 71,
   "metadata": {},
   "outputs": [
    {
     "data": {
      "text/plain": [
       "array([[0., 1., 1., ..., 0., 0., 0.],\n",
       "       [0., 1., 0., ..., 0., 0., 0.],\n",
       "       [0., 1., 1., ..., 0., 0., 0.],\n",
       "       ...,\n",
       "       [0., 1., 1., ..., 0., 0., 0.],\n",
       "       [0., 1., 1., ..., 0., 0., 0.],\n",
       "       [0., 1., 1., ..., 0., 0., 0.]])"
      ]
     },
     "execution_count": 71,
     "metadata": {},
     "output_type": "execute_result"
    }
   ],
   "source": [
    "binary_martix = tokenizer.texts_to_matrix(texts, mode='binary')\n",
    "binary_martix"
   ]
  },
  {
   "cell_type": "code",
   "execution_count": 74,
   "metadata": {},
   "outputs": [
    {
     "data": {
      "text/plain": [
       "25000"
      ]
     },
     "execution_count": 74,
     "metadata": {},
     "output_type": "execute_result"
    }
   ],
   "source": [
    "len(binary_martix)"
   ]
  },
  {
   "cell_type": "code",
   "execution_count": 75,
   "metadata": {},
   "outputs": [
    {
     "data": {
      "text/plain": [
       "10000"
      ]
     },
     "execution_count": 75,
     "metadata": {},
     "output_type": "execute_result"
    }
   ],
   "source": [
    "len(binary_martix[0])"
   ]
  },
  {
   "cell_type": "code",
   "execution_count": 72,
   "metadata": {
    "scrolled": true
   },
   "outputs": [
    {
     "data": {
      "text/plain": [
       "array([[ 0.,  4.,  1., ...,  0.,  0.,  0.],\n",
       "       [ 0., 53.,  0., ...,  0.,  0.,  0.],\n",
       "       [ 0., 10.,  3., ...,  0.,  0.,  0.],\n",
       "       ...,\n",
       "       [ 0., 23.,  7., ...,  0.,  0.,  0.],\n",
       "       [ 0.,  9.,  4., ...,  0.,  0.,  0.],\n",
       "       [ 0.,  9.,  7., ...,  0.,  0.,  0.]])"
      ]
     },
     "execution_count": 72,
     "metadata": {},
     "output_type": "execute_result"
    }
   ],
   "source": [
    "count_matrix = tokenizer.texts_to_matrix(texts, mode='count')\n",
    "count_matrix"
   ]
  },
  {
   "cell_type": "code",
   "execution_count": 77,
   "metadata": {},
   "outputs": [
    {
     "data": {
      "text/plain": [
       "25000"
      ]
     },
     "execution_count": 77,
     "metadata": {},
     "output_type": "execute_result"
    }
   ],
   "source": [
    "len(count_matrix)"
   ]
  },
  {
   "cell_type": "code",
   "execution_count": 79,
   "metadata": {},
   "outputs": [
    {
     "data": {
      "text/plain": [
       "10000"
      ]
     },
     "execution_count": 79,
     "metadata": {},
     "output_type": "execute_result"
    }
   ],
   "source": [
    "len(binary_martix[0])"
   ]
  },
  {
   "cell_type": "code",
   "execution_count": 81,
   "metadata": {},
   "outputs": [
    {
     "data": {
      "text/plain": [
       "array([[0.        , 1.66394589, 0.71027668, ..., 0.        , 0.        ,\n",
       "        0.        ],\n",
       "       [0.        , 3.4657488 , 0.        , ..., 0.        , 0.        ,\n",
       "        0.        ],\n",
       "       [0.        , 2.30286883, 1.49059538, ..., 0.        , 0.        ,\n",
       "        0.        ],\n",
       "       ...,\n",
       "       [0.        , 2.88365037, 2.09241129, ..., 0.        , 0.        ,\n",
       "        0.        ],\n",
       "       [0.        , 2.2294017 , 1.69492924, ..., 0.        , 0.        ,\n",
       "        0.        ],\n",
       "       [0.        , 2.2294017 , 2.09241129, ..., 0.        , 0.        ,\n",
       "        0.        ]])"
      ]
     },
     "execution_count": 81,
     "metadata": {},
     "output_type": "execute_result"
    }
   ],
   "source": [
    "tfidf_matrix = tokenizer.texts_to_matrix(texts, mode='tfidf')\n",
    "tfidf_matrix"
   ]
  },
  {
   "cell_type": "code",
   "execution_count": 18,
   "metadata": {},
   "outputs": [],
   "source": [
    "# tokenizer.texts_to_sequences?"
   ]
  },
  {
   "cell_type": "code",
   "execution_count": 24,
   "metadata": {},
   "outputs": [],
   "source": [
    "sequences = tokenizer.texts_to_sequences(texts)"
   ]
  },
  {
   "cell_type": "code",
   "execution_count": 25,
   "metadata": {},
   "outputs": [
    {
     "data": {
      "text/plain": [
       "25000"
      ]
     },
     "execution_count": 25,
     "metadata": {},
     "output_type": "execute_result"
    }
   ],
   "source": [
    "len(sequences)"
   ]
  },
  {
   "cell_type": "code",
   "execution_count": 26,
   "metadata": {},
   "outputs": [
    {
     "data": {
      "text/plain": [
       "104"
      ]
     },
     "execution_count": 26,
     "metadata": {},
     "output_type": "execute_result"
    }
   ],
   "source": [
    "len(sequences[0])"
   ]
  },
  {
   "cell_type": "code",
   "execution_count": 27,
   "metadata": {},
   "outputs": [
    {
     "data": {
      "text/plain": [
       "[62,\n",
       " 4,\n",
       " 3,\n",
       " 129,\n",
       " 34,\n",
       " 44,\n",
       " 7576,\n",
       " 1414,\n",
       " 15,\n",
       " 3,\n",
       " 4252,\n",
       " 514,\n",
       " 43,\n",
       " 16,\n",
       " 3,\n",
       " 633,\n",
       " 133,\n",
       " 12,\n",
       " 6,\n",
       " 3,\n",
       " 1301,\n",
       " 459,\n",
       " 4,\n",
       " 1751,\n",
       " 209,\n",
       " 3,\n",
       " 7693,\n",
       " 308,\n",
       " 6,\n",
       " 676,\n",
       " 80,\n",
       " 32,\n",
       " 2137,\n",
       " 1110,\n",
       " 3008,\n",
       " 31,\n",
       " 1,\n",
       " 929,\n",
       " 4,\n",
       " 42,\n",
       " 5120,\n",
       " 469,\n",
       " 9,\n",
       " 2665,\n",
       " 1751,\n",
       " 1,\n",
       " 223,\n",
       " 55,\n",
       " 16,\n",
       " 54,\n",
       " 828,\n",
       " 1318,\n",
       " 847,\n",
       " 228,\n",
       " 9,\n",
       " 40,\n",
       " 96,\n",
       " 122,\n",
       " 1484,\n",
       " 57,\n",
       " 145,\n",
       " 36,\n",
       " 1,\n",
       " 996,\n",
       " 141,\n",
       " 27,\n",
       " 676,\n",
       " 122,\n",
       " 1,\n",
       " 411,\n",
       " 59,\n",
       " 94,\n",
       " 2278,\n",
       " 303,\n",
       " 772,\n",
       " 5,\n",
       " 3,\n",
       " 837,\n",
       " 20,\n",
       " 3,\n",
       " 1755,\n",
       " 646,\n",
       " 42,\n",
       " 125,\n",
       " 71,\n",
       " 22,\n",
       " 235,\n",
       " 101,\n",
       " 16,\n",
       " 46,\n",
       " 49,\n",
       " 624,\n",
       " 31,\n",
       " 702,\n",
       " 84,\n",
       " 702,\n",
       " 378,\n",
       " 3493,\n",
       " 2,\n",
       " 8422,\n",
       " 67,\n",
       " 27,\n",
       " 107,\n",
       " 3348]"
      ]
     },
     "execution_count": 27,
     "metadata": {},
     "output_type": "execute_result"
    }
   ],
   "source": [
    "sequences[0]"
   ]
  },
  {
   "cell_type": "code",
   "execution_count": 28,
   "metadata": {},
   "outputs": [
    {
     "name": "stdout",
     "output_type": "stream",
     "text": [
      "Shape of data tensor: (25000, 500)\n",
      "Shape of label tensor: (25000,)\n"
     ]
    }
   ],
   "source": [
    "data = pad_sequences(sequences, maxlen=maxlen)\n",
    "\n",
    "labels = np.asarray(labels)\n",
    "print('Shape of data tensor:', data.shape)\n",
    "print('Shape of label tensor:', labels.shape)"
   ]
  },
  {
   "cell_type": "code",
   "execution_count": 29,
   "metadata": {},
   "outputs": [
    {
     "data": {
      "text/plain": [
       "500"
      ]
     },
     "execution_count": 29,
     "metadata": {},
     "output_type": "execute_result"
    }
   ],
   "source": [
    "len(data[0])"
   ]
  },
  {
   "cell_type": "code",
   "execution_count": 30,
   "metadata": {},
   "outputs": [
    {
     "data": {
      "text/plain": [
       "array([   0,    0,    0,    0,    0,    0,    0,    0,    0,    0,    0,\n",
       "          0,    0,    0,    0,    0,    0,    0,    0,    0,    0,    0,\n",
       "          0,    0,    0,    0,    0,    0,    0,    0,    0,    0,    0,\n",
       "          0,    0,    0,    0,    0,    0,    0,    0,    0,    0,    0,\n",
       "          0,    0,    0,    0,    0,    0,    0,    0,    0,    0,    0,\n",
       "          0,    0,    0,    0,    0,    0,    0,    0,    0,    0,    0,\n",
       "          0,    0,    0,    0,    0,    0,    0,    0,    0,    0,    0,\n",
       "          0,    0,    0,    0,    0,    0,    0,    0,    0,    0,    0,\n",
       "          0,    0,    0,    0,    0,    0,    0,    0,    0,    0,    0,\n",
       "          0,    0,    0,    0,    0,    0,    0,    0,    0,    0,    0,\n",
       "          0,    0,    0,    0,    0,    0,    0,    0,    0,    0,    0,\n",
       "          0,    0,    0,    0,    0,    0,    0,    0,    0,    0,    0,\n",
       "          0,    0,    0,    0,    0,    0,    0,    0,    0,    0,    0,\n",
       "          0,    0,    0,    0,    0,    0,    0,    0,    0,    0,    0,\n",
       "          0,    0,    0,    0,    0,    0,    0,    0,    0,    0,    0,\n",
       "          0,    0,    0,    0,    0,    0,    0,    0,    0,    0,    0,\n",
       "          0,    0,    0,    0,    0,    0,    0,    0,    0,    0,    0,\n",
       "          0,    0,    0,    0,    0,    0,    0,    0,    0,    0,    0,\n",
       "          0,    0,    0,    0,    0,    0,    0,    0,    0,    0,    0,\n",
       "          0,    0,    0,    0,    0,    0,    0,    0,    0,    0,    0,\n",
       "          0,    0,    0,    0,    0,    0,    0,    0,    0,    0,    0,\n",
       "          0,    0,    0,    0,    0,    0,    0,    0,    0,    0,    0,\n",
       "          0,    0,    0,    0,    0,    0,    0,    0,    0,    0,    0,\n",
       "          0,    0,    0,    0,    0,    0,    0,    0,    0,    0,    0,\n",
       "          0,    0,    0,    0,    0,    0,    0,    0,    0,    0,    0,\n",
       "          0,    0,    0,    0,    0,    0,    0,    0,    0,    0,    0,\n",
       "          0,    0,    0,    0,    0,    0,    0,    0,    0,    0,    0,\n",
       "          0,    0,    0,    0,    0,    0,    0,    0,    0,    0,    0,\n",
       "          0,    0,    0,    0,    0,    0,    0,    0,    0,    0,    0,\n",
       "          0,    0,    0,    0,    0,    0,    0,    0,    0,    0,    0,\n",
       "          0,    0,    0,    0,    0,    0,    0,    0,    0,    0,    0,\n",
       "          0,    0,    0,    0,    0,    0,    0,    0,    0,    0,    0,\n",
       "          0,    0,    0,    0,    0,    0,    0,    0,    0,    0,    0,\n",
       "          0,    0,    0,    0,    0,    0,    0,    0,    0,    0,    0,\n",
       "          0,    0,    0,    0,    0,    0,    0,    0,    0,    0,    0,\n",
       "          0,    0,    0,    0,    0,    0,    0,    0,    0,    0,    0,\n",
       "         62,    4,    3,  129,   34,   44, 7576, 1414,   15,    3, 4252,\n",
       "        514,   43,   16,    3,  633,  133,   12,    6,    3, 1301,  459,\n",
       "          4, 1751,  209,    3, 7693,  308,    6,  676,   80,   32, 2137,\n",
       "       1110, 3008,   31,    1,  929,    4,   42, 5120,  469,    9, 2665,\n",
       "       1751,    1,  223,   55,   16,   54,  828, 1318,  847,  228,    9,\n",
       "         40,   96,  122, 1484,   57,  145,   36,    1,  996,  141,   27,\n",
       "        676,  122,    1,  411,   59,   94, 2278,  303,  772,    5,    3,\n",
       "        837,   20,    3, 1755,  646,   42,  125,   71,   22,  235,  101,\n",
       "         16,   46,   49,  624,   31,  702,   84,  702,  378, 3493,    2,\n",
       "       8422,   67,   27,  107, 3348])"
      ]
     },
     "execution_count": 30,
     "metadata": {},
     "output_type": "execute_result"
    }
   ],
   "source": [
    "# by convention zero is the empty word\n",
    "data[0]"
   ]
  },
  {
   "cell_type": "markdown",
   "metadata": {},
   "source": [
    "### Split data into training and test sets and make sure to make this balanced"
   ]
  },
  {
   "cell_type": "code",
   "execution_count": 31,
   "metadata": {},
   "outputs": [],
   "source": [
    "from sklearn.model_selection import train_test_split"
   ]
  },
  {
   "cell_type": "code",
   "execution_count": 32,
   "metadata": {},
   "outputs": [],
   "source": [
    "x_train, x_test, y_train, y_test = train_test_split(data, labels, test_size=0.2, random_state=42)"
   ]
  },
  {
   "cell_type": "code",
   "execution_count": 33,
   "metadata": {},
   "outputs": [
    {
     "data": {
      "text/plain": [
       "(20000, 500)"
      ]
     },
     "execution_count": 33,
     "metadata": {},
     "output_type": "execute_result"
    }
   ],
   "source": [
    "x_train.shape"
   ]
  },
  {
   "cell_type": "code",
   "execution_count": 34,
   "metadata": {},
   "outputs": [
    {
     "data": {
      "text/plain": [
       "(20000,)"
      ]
     },
     "execution_count": 34,
     "metadata": {},
     "output_type": "execute_result"
    }
   ],
   "source": [
    "y_train.shape"
   ]
  },
  {
   "cell_type": "code",
   "execution_count": 35,
   "metadata": {},
   "outputs": [
    {
     "data": {
      "text/plain": [
       "(array([0, 1]), array([ 9985, 10015], dtype=int64))"
      ]
     },
     "execution_count": 35,
     "metadata": {},
     "output_type": "execute_result"
    }
   ],
   "source": [
    "np.unique(y_train, return_counts=True)"
   ]
  },
  {
   "cell_type": "code",
   "execution_count": 36,
   "metadata": {},
   "outputs": [
    {
     "data": {
      "text/plain": [
       "(array([0, 1]), array([2515, 2485], dtype=int64))"
      ]
     },
     "execution_count": 36,
     "metadata": {},
     "output_type": "execute_result"
    }
   ],
   "source": [
    "np.unique(y_test, return_counts=True)"
   ]
  },
  {
   "cell_type": "markdown",
   "metadata": {},
   "source": [
    "### Use Stratify to make it balanced"
   ]
  },
  {
   "cell_type": "code",
   "execution_count": 37,
   "metadata": {},
   "outputs": [],
   "source": [
    "x_train, x_test, y_train, y_test = train_test_split(data, labels, test_size=0.2, random_state=42, stratify=labels)"
   ]
  },
  {
   "cell_type": "code",
   "execution_count": 38,
   "metadata": {},
   "outputs": [
    {
     "data": {
      "text/plain": [
       "(array([0, 1]), array([10000, 10000], dtype=int64))"
      ]
     },
     "execution_count": 38,
     "metadata": {},
     "output_type": "execute_result"
    }
   ],
   "source": [
    "np.unique(y_train, return_counts=True)"
   ]
  },
  {
   "cell_type": "code",
   "execution_count": 39,
   "metadata": {},
   "outputs": [
    {
     "data": {
      "text/plain": [
       "(array([0, 1]), array([2500, 2500], dtype=int64))"
      ]
     },
     "execution_count": 39,
     "metadata": {},
     "output_type": "execute_result"
    }
   ],
   "source": [
    "np.unique(y_test, return_counts=True)"
   ]
  },
  {
   "cell_type": "code",
   "execution_count": null,
   "metadata": {},
   "outputs": [],
   "source": []
  }
 ],
 "metadata": {
  "kernelspec": {
   "display_name": "Python 3",
   "language": "python",
   "name": "python3"
  },
  "language_info": {
   "codemirror_mode": {
    "name": "ipython",
    "version": 3
   },
   "file_extension": ".py",
   "mimetype": "text/x-python",
   "name": "python",
   "nbconvert_exporter": "python",
   "pygments_lexer": "ipython3",
   "version": "3.6.4"
  }
 },
 "nbformat": 4,
 "nbformat_minor": 2
}
