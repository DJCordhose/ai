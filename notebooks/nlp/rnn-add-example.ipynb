{
 "cells": [
  {
   "cell_type": "code",
   "execution_count": 1,
   "metadata": {},
   "outputs": [],
   "source": [
    "# Adapted from\n",
    "# https://github.com/keras-team/keras/blob/master/examples/addition_rnn.py"
   ]
  },
  {
   "cell_type": "code",
   "execution_count": 2,
   "metadata": {},
   "outputs": [],
   "source": [
    "import warnings\n",
    "warnings.filterwarnings('ignore')"
   ]
  },
  {
   "cell_type": "code",
   "execution_count": 3,
   "metadata": {},
   "outputs": [
    {
     "name": "stdout",
     "output_type": "stream",
     "text": [
      "Populating the interactive namespace from numpy and matplotlib\n"
     ]
    }
   ],
   "source": [
    "%matplotlib inline\n",
    "%pylab inline"
   ]
  },
  {
   "cell_type": "code",
   "execution_count": 4,
   "metadata": {},
   "outputs": [
    {
     "name": "stdout",
     "output_type": "stream",
     "text": [
      "1.8.0\n"
     ]
    }
   ],
   "source": [
    "import tensorflow as tf\n",
    "tf.logging.set_verbosity(tf.logging.ERROR)\n",
    "print(tf.__version__)"
   ]
  },
  {
   "cell_type": "markdown",
   "metadata": {},
   "source": [
    "### Step 1: Generate sample equations"
   ]
  },
  {
   "cell_type": "code",
   "execution_count": 5,
   "metadata": {},
   "outputs": [],
   "source": [
    "class CharacterTable(object):\n",
    "    \"\"\"Given a set of characters:\n",
    "    + Encode them to a one hot integer representation\n",
    "    + Decode the one hot integer representation to their character output\n",
    "    + Decode a vector of probabilities to their character output\n",
    "    \"\"\"\n",
    "    def __init__(self, chars):\n",
    "        \"\"\"Initialize character table.\n",
    "\n",
    "        # Arguments\n",
    "            chars: Characters that can appear in the input.\n",
    "        \"\"\"\n",
    "        self.chars = sorted(set(chars))\n",
    "        self.char_indices = dict((c, i) for i, c in enumerate(self.chars))\n",
    "        self.indices_char = dict((i, c) for i, c in enumerate(self.chars))\n",
    "\n",
    "    def encode(self, C, num_rows):\n",
    "        \"\"\"One hot encode given string C.\n",
    "\n",
    "        # Arguments\n",
    "            num_rows: Number of rows in the returned one hot encoding. This is\n",
    "                used to keep the # of rows for each data the same.\n",
    "        \"\"\"\n",
    "        x = np.zeros((num_rows, len(self.chars)))\n",
    "        for i, c in enumerate(C):\n",
    "            x[i, self.char_indices[c]] = 1\n",
    "        return x\n",
    "\n",
    "    def decode(self, x, calc_argmax=True):\n",
    "        if calc_argmax:\n",
    "            x = x.argmax(axis=-1)\n",
    "        return ''.join(self.indices_char[x] for x in x)\n"
   ]
  },
  {
   "cell_type": "code",
   "execution_count": 6,
   "metadata": {},
   "outputs": [],
   "source": [
    "class colors:\n",
    "    ok = '\\033[92m'\n",
    "    fail = '\\033[91m'\n",
    "    close = '\\033[0m'"
   ]
  },
  {
   "cell_type": "code",
   "execution_count": 7,
   "metadata": {},
   "outputs": [
    {
     "name": "stdout",
     "output_type": "stream",
     "text": [
      "Generating data...\n",
      "Total addition questions: 50000\n"
     ]
    }
   ],
   "source": [
    "# Parameters for the model and dataset.\n",
    "TRAINING_SIZE = 50000\n",
    "DIGITS = 3\n",
    "# REVERSE = True\n",
    "REVERSE = False\n",
    "\n",
    "# Maximum length of input is 'int + int' (e.g., '345+678'). Maximum length of\n",
    "# int is DIGITS.\n",
    "MAXLEN = DIGITS + 1 + DIGITS\n",
    "\n",
    "# All the numbers, plus sign and space for padding.\n",
    "chars = '0123456789+ '\n",
    "ctable = CharacterTable(chars)\n",
    "\n",
    "questions = []\n",
    "expected = []\n",
    "seen = set()\n",
    "print('Generating data...')\n",
    "while len(questions) < TRAINING_SIZE:\n",
    "    f = lambda: int(''.join(np.random.choice(list('0123456789'))\n",
    "                    for i in range(np.random.randint(1, DIGITS + 1))))\n",
    "    a, b = f(), f()\n",
    "    # Skip any addition questions we've already seen\n",
    "    # Also skip any such that x+Y == Y+x (hence the sorting).\n",
    "    key = tuple(sorted((a, b)))\n",
    "    if key in seen:\n",
    "        continue\n",
    "    seen.add(key)\n",
    "    # Pad the data with spaces such that it is always MAXLEN.\n",
    "    q = '{}+{}'.format(a, b)\n",
    "    query = q + ' ' * (MAXLEN - len(q))\n",
    "    ans = str(a + b)\n",
    "    # Answers can be of maximum size DIGITS + 1.\n",
    "    ans += ' ' * (DIGITS + 1 - len(ans))\n",
    "    if REVERSE:\n",
    "        # Reverse the query, e.g., '12+345  ' becomes '  543+21'. (Note the\n",
    "        # space used for padding.)\n",
    "        query = query[::-1]\n",
    "    questions.append(query)\n",
    "    expected.append(ans)\n",
    "print('Total addition questions:', len(questions))"
   ]
  },
  {
   "cell_type": "code",
   "execution_count": 8,
   "metadata": {},
   "outputs": [
    {
     "data": {
      "text/plain": [
       "'9+0    '"
      ]
     },
     "execution_count": 8,
     "metadata": {},
     "output_type": "execute_result"
    }
   ],
   "source": [
    "questions[0]"
   ]
  },
  {
   "cell_type": "code",
   "execution_count": 9,
   "metadata": {},
   "outputs": [
    {
     "name": "stdout",
     "output_type": "stream",
     "text": [
      "Vectorization...\n"
     ]
    }
   ],
   "source": [
    "print('Vectorization...')\n",
    "x = np.zeros((len(questions), MAXLEN, len(chars)), dtype=np.bool)\n",
    "y = np.zeros((len(questions), DIGITS + 1, len(chars)), dtype=np.bool)\n",
    "for i, sentence in enumerate(questions):\n",
    "    x[i] = ctable.encode(sentence, MAXLEN)\n",
    "for i, sentence in enumerate(expected):\n",
    "    y[i] = ctable.encode(sentence, DIGITS + 1)\n"
   ]
  },
  {
   "cell_type": "code",
   "execution_count": 10,
   "metadata": {},
   "outputs": [
    {
     "data": {
      "text/plain": [
       "7"
      ]
     },
     "execution_count": 10,
     "metadata": {},
     "output_type": "execute_result"
    }
   ],
   "source": [
    "len(x[0])"
   ]
  },
  {
   "cell_type": "code",
   "execution_count": 11,
   "metadata": {},
   "outputs": [
    {
     "data": {
      "text/plain": [
       "7"
      ]
     },
     "execution_count": 11,
     "metadata": {},
     "output_type": "execute_result"
    }
   ],
   "source": [
    "len(questions[0])"
   ]
  },
  {
   "cell_type": "code",
   "execution_count": 12,
   "metadata": {},
   "outputs": [
    {
     "data": {
      "text/plain": [
       "'9+0    '"
      ]
     },
     "execution_count": 12,
     "metadata": {},
     "output_type": "execute_result"
    }
   ],
   "source": [
    "questions[0]"
   ]
  },
  {
   "cell_type": "code",
   "execution_count": 13,
   "metadata": {},
   "outputs": [
    {
     "data": {
      "text/plain": [
       "array([[False, False, False, False, False, False, False, False, False,\n",
       "        False, False,  True],\n",
       "       [False,  True, False, False, False, False, False, False, False,\n",
       "        False, False, False],\n",
       "       [False, False,  True, False, False, False, False, False, False,\n",
       "        False, False, False],\n",
       "       [ True, False, False, False, False, False, False, False, False,\n",
       "        False, False, False],\n",
       "       [ True, False, False, False, False, False, False, False, False,\n",
       "        False, False, False],\n",
       "       [ True, False, False, False, False, False, False, False, False,\n",
       "        False, False, False],\n",
       "       [ True, False, False, False, False, False, False, False, False,\n",
       "        False, False, False]])"
      ]
     },
     "execution_count": 13,
     "metadata": {},
     "output_type": "execute_result"
    }
   ],
   "source": [
    "x[0]"
   ]
  },
  {
   "cell_type": "code",
   "execution_count": 14,
   "metadata": {},
   "outputs": [
    {
     "data": {
      "text/plain": [
       "array([[False, False, False, False, False, False, False, False, False,\n",
       "        False, False,  True],\n",
       "       [ True, False, False, False, False, False, False, False, False,\n",
       "        False, False, False],\n",
       "       [ True, False, False, False, False, False, False, False, False,\n",
       "        False, False, False],\n",
       "       [ True, False, False, False, False, False, False, False, False,\n",
       "        False, False, False]])"
      ]
     },
     "execution_count": 14,
     "metadata": {},
     "output_type": "execute_result"
    }
   ],
   "source": [
    "y[0]"
   ]
  },
  {
   "cell_type": "code",
   "execution_count": 15,
   "metadata": {},
   "outputs": [
    {
     "data": {
      "text/plain": [
       "'9   '"
      ]
     },
     "execution_count": 15,
     "metadata": {},
     "output_type": "execute_result"
    }
   ],
   "source": [
    "expected[0]"
   ]
  },
  {
   "cell_type": "code",
   "execution_count": 16,
   "metadata": {},
   "outputs": [],
   "source": [
    "# Shuffle (x, y) in unison as the later parts of x will almost all be larger\n",
    "# digits.\n",
    "indices = np.arange(len(y))\n",
    "np.random.shuffle(indices)\n",
    "x = x[indices]\n",
    "y = y[indices]"
   ]
  },
  {
   "cell_type": "markdown",
   "metadata": {},
   "source": [
    "### Step 2: Training/Validation Split"
   ]
  },
  {
   "cell_type": "code",
   "execution_count": 17,
   "metadata": {},
   "outputs": [
    {
     "name": "stdout",
     "output_type": "stream",
     "text": [
      "Training Data:\n",
      "(45000, 7, 12)\n",
      "(45000, 4, 12)\n",
      "Validation Data:\n",
      "(5000, 7, 12)\n",
      "(5000, 4, 12)\n"
     ]
    }
   ],
   "source": [
    "# Explicitly set apart 10% for validation data that we never train over.\n",
    "split_at = len(x) - len(x) // 10\n",
    "(x_train, x_val) = x[:split_at], x[split_at:]\n",
    "(y_train, y_val) = y[:split_at], y[split_at:]\n",
    "\n",
    "print('Training Data:')\n",
    "print(x_train.shape)\n",
    "print(y_train.shape)\n",
    "\n",
    "print('Validation Data:')\n",
    "print(x_val.shape)\n",
    "print(y_val.shape)"
   ]
  },
  {
   "cell_type": "markdown",
   "metadata": {},
   "source": [
    "### Step 3: Create Model"
   ]
  },
  {
   "cell_type": "code",
   "execution_count": 18,
   "metadata": {},
   "outputs": [
    {
     "data": {
      "text/plain": [
       "(7, 12)"
      ]
     },
     "execution_count": 18,
     "metadata": {},
     "output_type": "execute_result"
    }
   ],
   "source": [
    "# input shape: 7 digits, each being 0-9, + or space (12 possibilities)\n",
    "MAXLEN, len(chars)"
   ]
  },
  {
   "cell_type": "code",
   "execution_count": 19,
   "metadata": {},
   "outputs": [
    {
     "name": "stdout",
     "output_type": "stream",
     "text": [
      "Build model...\n"
     ]
    },
    {
     "name": "stderr",
     "output_type": "stream",
     "text": [
      "Using TensorFlow backend.\n"
     ]
    },
    {
     "name": "stdout",
     "output_type": "stream",
     "text": [
      "_________________________________________________________________\n",
      "Layer (type)                 Output Shape              Param #   \n",
      "=================================================================\n",
      "simple_rnn_1 (SimpleRNN)     (None, 128)               18048     \n",
      "_________________________________________________________________\n",
      "repeat_vector_1 (RepeatVecto (None, 4, 128)            0         \n",
      "_________________________________________________________________\n",
      "simple_rnn_2 (SimpleRNN)     (None, 4, 128)            32896     \n",
      "_________________________________________________________________\n",
      "classifier (Dense)           (None, 4, 12)             1548      \n",
      "=================================================================\n",
      "Total params: 52,492\n",
      "Trainable params: 52,492\n",
      "Non-trainable params: 0\n",
      "_________________________________________________________________\n"
     ]
    }
   ],
   "source": [
    "from keras.models import Sequential\n",
    "from keras import layers\n",
    "\n",
    "# Try replacing LSTM, GRU, or SimpleRNN.\n",
    "# RNN = layers.LSTM\n",
    "RNN = layers.SimpleRNN\n",
    "# RNN = layers.GRU\n",
    "HIDDEN_SIZE = 128\n",
    "BATCH_SIZE = 128\n",
    "\n",
    "print('Build model...')\n",
    "model = Sequential()\n",
    "# encoder: simply encode the same input 4 times \n",
    "model.add(RNN(units=HIDDEN_SIZE, input_shape=(MAXLEN, len(chars))))\n",
    "model.add(layers.RepeatVector(DIGITS + 1))\n",
    "\n",
    "# decoder: have 4 temporal outputs one for each of the digits of the results\n",
    "# return_sequences=True tells it to keep all 4 temporal outputs, not only the final one (we need all four digits for the results)\n",
    "model.add(RNN(units=HIDDEN_SIZE, return_sequences=True))\n",
    "\n",
    "model.add(layers.Dense(name='classifier', units=len(chars), activation='softmax'))\n",
    "\n",
    "model.compile(loss='categorical_crossentropy',\n",
    "              optimizer='adam',\n",
    "              metrics=['accuracy'])\n",
    "model.summary()"
   ]
  },
  {
   "cell_type": "code",
   "execution_count": 20,
   "metadata": {},
   "outputs": [
    {
     "data": {
      "text/plain": [
       "array([[[0.07100666, 0.04503196, 0.12937425, 0.07050125, 0.08865667,\n",
       "         0.06872862, 0.09661999, 0.10074655, 0.06197888, 0.10655596,\n",
       "         0.10349934, 0.05729985],\n",
       "        [0.05981654, 0.0344699 , 0.19359599, 0.07308389, 0.0546543 ,\n",
       "         0.06734277, 0.11601944, 0.09964471, 0.0401266 , 0.1271986 ,\n",
       "         0.0755403 , 0.05850698],\n",
       "        [0.04279239, 0.03352201, 0.18371007, 0.09934117, 0.05451049,\n",
       "         0.04248012, 0.09836522, 0.05206822, 0.03343712, 0.17121017,\n",
       "         0.08962404, 0.09893899],\n",
       "        [0.05258105, 0.03703752, 0.2068308 , 0.10687649, 0.04278126,\n",
       "         0.02891035, 0.10724873, 0.04250664, 0.02533719, 0.16321443,\n",
       "         0.0946914 , 0.09198418]]], dtype=float32)"
      ]
     },
     "execution_count": 20,
     "metadata": {},
     "output_type": "execute_result"
    }
   ],
   "source": [
    "model.predict(np.array([x_val[0]]))"
   ]
  },
  {
   "cell_type": "code",
   "execution_count": 21,
   "metadata": {},
   "outputs": [
    {
     "data": {
      "text/plain": [
       "array([[2, 2, 2, 2]], dtype=int64)"
      ]
     },
     "execution_count": 21,
     "metadata": {},
     "output_type": "execute_result"
    }
   ],
   "source": [
    "model.predict_classes(np.array([x_val[0]]))"
   ]
  },
  {
   "cell_type": "markdown",
   "metadata": {},
   "source": [
    "### Step 4: Train"
   ]
  },
  {
   "cell_type": "code",
   "execution_count": 22,
   "metadata": {},
   "outputs": [
    {
     "name": "stdout",
     "output_type": "stream",
     "text": [
      "\n",
      "--------------------------------------------------\n",
      "Iteration 1\n",
      "Train on 45000 samples, validate on 5000 samples\n",
      "Epoch 1/1\n",
      "45000/45000 [==============================] - 9s 199us/step - loss: 1.6761 - acc: 0.3893 - val_loss: 1.5398 - val_acc: 0.4301\n",
      "Q 281+855 T 1136 \u001b[91m☒\u001b[0m 1068\n",
      "Q 71+376  T 447  \u001b[91m☒\u001b[0m 313 \n",
      "Q 161+801 T 962  \u001b[91m☒\u001b[0m 100 \n",
      "Q 720+54  T 774  \u001b[91m☒\u001b[0m 803 \n",
      "Q 30+207  T 237  \u001b[91m☒\u001b[0m 300 \n",
      "Q 355+6   T 361  \u001b[91m☒\u001b[0m 410 \n",
      "Q 3+649   T 652  \u001b[91m☒\u001b[0m 441 \n",
      "Q 86+606  T 692  \u001b[91m☒\u001b[0m 774 \n",
      "Q 7+320   T 327  \u001b[91m☒\u001b[0m 333 \n",
      "Q 41+929  T 970  \u001b[91m☒\u001b[0m 900 \n",
      "\n",
      "--------------------------------------------------\n",
      "Iteration 2\n",
      "Train on 45000 samples, validate on 5000 samples\n",
      "Epoch 1/1\n",
      "45000/45000 [==============================] - 6s 124us/step - loss: 1.4452 - acc: 0.4654 - val_loss: 1.3477 - val_acc: 0.4991\n",
      "Q 930+47  T 977  \u001b[91m☒\u001b[0m 902 \n",
      "Q 46+46   T 92   \u001b[91m☒\u001b[0m 11  \n",
      "Q 11+958  T 969  \u001b[91m☒\u001b[0m 990 \n",
      "Q 424+872 T 1296 \u001b[91m☒\u001b[0m 1334\n",
      "Q 200+222 T 422  \u001b[91m☒\u001b[0m 322 \n",
      "Q 55+4    T 59   \u001b[91m☒\u001b[0m 58  \n",
      "Q 165+655 T 820  \u001b[91m☒\u001b[0m 102 \n",
      "Q 3+928   T 931  \u001b[91m☒\u001b[0m 922 \n",
      "Q 513+22  T 535  \u001b[91m☒\u001b[0m 565 \n",
      "Q 35+360  T 395  \u001b[91m☒\u001b[0m 482 \n",
      "\n",
      "--------------------------------------------------\n",
      "Iteration 3\n",
      "Train on 45000 samples, validate on 5000 samples\n",
      "Epoch 1/1\n",
      "45000/45000 [==============================] - 13s 279us/step - loss: 1.2543 - acc: 0.5336 - val_loss: 1.1638 - val_acc: 0.5615\n",
      "Q 536+54  T 590  \u001b[91m☒\u001b[0m 690 \n",
      "Q 522+8   T 530  \u001b[91m☒\u001b[0m 521 \n",
      "Q 889+82  T 971  \u001b[91m☒\u001b[0m 900 \n",
      "Q 407+695 T 1102 \u001b[91m☒\u001b[0m 1006\n",
      "Q 763+478 T 1241 \u001b[91m☒\u001b[0m 1237\n",
      "Q 5+28    T 33   \u001b[91m☒\u001b[0m 20  \n",
      "Q 1+826   T 827  \u001b[91m☒\u001b[0m 828 \n",
      "Q 394+161 T 555  \u001b[91m☒\u001b[0m 540 \n",
      "Q 736+87  T 823  \u001b[91m☒\u001b[0m 722 \n",
      "Q 133+685 T 818  \u001b[91m☒\u001b[0m 801 \n",
      "\n",
      "--------------------------------------------------\n",
      "Iteration 4\n",
      "Train on 45000 samples, validate on 5000 samples\n",
      "Epoch 1/1\n",
      "45000/45000 [==============================] - 6s 144us/step - loss: 1.0711 - acc: 0.5979 - val_loss: 1.0019 - val_acc: 0.6195\n",
      "Q 954+5   T 959  \u001b[91m☒\u001b[0m 961 \n",
      "Q 991+316 T 1307 \u001b[91m☒\u001b[0m 1211\n",
      "Q 786+194 T 980  \u001b[91m☒\u001b[0m 906 \n",
      "Q 86+284  T 370  \u001b[91m☒\u001b[0m 362 \n",
      "Q 12+963  T 975  \u001b[91m☒\u001b[0m 987 \n",
      "Q 519+2   T 521  \u001b[91m☒\u001b[0m 520 \n",
      "Q 35+448  T 483  \u001b[91m☒\u001b[0m 482 \n",
      "Q 414+91  T 505  \u001b[91m☒\u001b[0m 402 \n",
      "Q 845+705 T 1550 \u001b[91m☒\u001b[0m 1566\n",
      "Q 916+23  T 939  \u001b[91m☒\u001b[0m 951 \n",
      "\n",
      "--------------------------------------------------\n",
      "Iteration 5\n",
      "Train on 45000 samples, validate on 5000 samples\n",
      "Epoch 1/1\n",
      "45000/45000 [==============================] - 4s 92us/step - loss: 0.9058 - acc: 0.6551 - val_loss: 0.8256 - val_acc: 0.6824\n",
      "Q 518+12  T 530  \u001b[92m☑\u001b[0m 530 \n",
      "Q 37+242  T 279  \u001b[91m☒\u001b[0m 281 \n",
      "Q 21+47   T 68   \u001b[91m☒\u001b[0m 61  \n",
      "Q 494+62  T 556  \u001b[91m☒\u001b[0m 547 \n",
      "Q 791+51  T 842  \u001b[91m☒\u001b[0m 841 \n",
      "Q 101+383 T 484  \u001b[91m☒\u001b[0m 513 \n",
      "Q 556+581 T 1137 \u001b[91m☒\u001b[0m 1131\n",
      "Q 147+32  T 179  \u001b[92m☑\u001b[0m 179 \n",
      "Q 4+391   T 395  \u001b[91m☒\u001b[0m 385 \n",
      "Q 267+313 T 580  \u001b[91m☒\u001b[0m 599 \n",
      "\n",
      "--------------------------------------------------\n",
      "Iteration 6\n",
      "Train on 45000 samples, validate on 5000 samples\n",
      "Epoch 1/1\n",
      "45000/45000 [==============================] - 3s 78us/step - loss: 0.7490 - acc: 0.7153 - val_loss: 0.7008 - val_acc: 0.7332\n",
      "Q 559+601 T 1160 \u001b[91m☒\u001b[0m 1171\n",
      "Q 624+85  T 709  \u001b[91m☒\u001b[0m 600 \n",
      "Q 44+2    T 46   \u001b[91m☒\u001b[0m 44  \n",
      "Q 987+47  T 1034 \u001b[92m☑\u001b[0m 1034\n",
      "Q 71+153  T 224  \u001b[91m☒\u001b[0m 214 \n",
      "Q 882+73  T 955  \u001b[91m☒\u001b[0m 954 \n",
      "Q 26+405  T 431  \u001b[91m☒\u001b[0m 521 \n",
      "Q 941+12  T 953  \u001b[91m☒\u001b[0m 964 \n",
      "Q 47+95   T 142  \u001b[91m☒\u001b[0m 132 \n",
      "Q 551+29  T 580  \u001b[91m☒\u001b[0m 579 \n",
      "\n",
      "--------------------------------------------------\n",
      "Iteration 7\n",
      "Train on 45000 samples, validate on 5000 samples\n",
      "Epoch 1/1\n",
      "45000/45000 [==============================] - 4s 80us/step - loss: 0.6340 - acc: 0.7640 - val_loss: 0.6011 - val_acc: 0.7753\n",
      "Q 568+25  T 593  \u001b[92m☑\u001b[0m 593 \n",
      "Q 76+419  T 495  \u001b[91m☒\u001b[0m 595 \n",
      "Q 620+972 T 1592 \u001b[91m☒\u001b[0m 1601\n",
      "Q 938+472 T 1410 \u001b[91m☒\u001b[0m 1310\n",
      "Q 988+39  T 1027 \u001b[91m☒\u001b[0m 1006\n",
      "Q 28+711  T 739  \u001b[92m☑\u001b[0m 739 \n",
      "Q 35+53   T 88   \u001b[91m☒\u001b[0m 79  \n",
      "Q 687+734 T 1421 \u001b[91m☒\u001b[0m 1422\n",
      "Q 308+152 T 460  \u001b[91m☒\u001b[0m 461 \n",
      "Q 86+727  T 813  \u001b[92m☑\u001b[0m 813 \n",
      "\n",
      "--------------------------------------------------\n",
      "Iteration 8\n",
      "Train on 45000 samples, validate on 5000 samples\n",
      "Epoch 1/1\n",
      "45000/45000 [==============================] - 4s 80us/step - loss: 0.5504 - acc: 0.7989 - val_loss: 0.5432 - val_acc: 0.7965\n",
      "Q 613+1   T 614  \u001b[91m☒\u001b[0m 613 \n",
      "Q 26+704  T 730  \u001b[91m☒\u001b[0m 720 \n",
      "Q 76+446  T 522  \u001b[91m☒\u001b[0m 521 \n",
      "Q 939+5   T 944  \u001b[91m☒\u001b[0m 934 \n",
      "Q 559+543 T 1102 \u001b[92m☑\u001b[0m 1102\n",
      "Q 229+4   T 233  \u001b[92m☑\u001b[0m 233 \n",
      "Q 383+4   T 387  \u001b[91m☒\u001b[0m 388 \n",
      "Q 26+40   T 66   \u001b[91m☒\u001b[0m 75  \n",
      "Q 14+530  T 544  \u001b[92m☑\u001b[0m 544 \n",
      "Q 25+168  T 193  \u001b[92m☑\u001b[0m 193 \n",
      "\n",
      "--------------------------------------------------\n",
      "Iteration 9\n",
      "Train on 45000 samples, validate on 5000 samples\n",
      "Epoch 1/1\n",
      "45000/45000 [==============================] - 4s 80us/step - loss: 0.4828 - acc: 0.8281 - val_loss: 0.4803 - val_acc: 0.8196\n",
      "Q 9+783   T 792  \u001b[91m☒\u001b[0m 892 \n",
      "Q 53+477  T 530  \u001b[92m☑\u001b[0m 530 \n",
      "Q 484+48  T 532  \u001b[92m☑\u001b[0m 532 \n",
      "Q 89+51   T 140  \u001b[92m☑\u001b[0m 140 \n",
      "Q 570+96  T 666  \u001b[92m☑\u001b[0m 666 \n",
      "Q 24+886  T 910  \u001b[92m☑\u001b[0m 910 \n",
      "Q 45+8    T 53   \u001b[92m☑\u001b[0m 53  \n",
      "Q 323+90  T 413  \u001b[91m☒\u001b[0m 313 \n",
      "Q 430+447 T 877  \u001b[91m☒\u001b[0m 878 \n",
      "Q 60+44   T 104  \u001b[91m☒\u001b[0m 10  \n",
      "\n",
      "--------------------------------------------------\n",
      "Iteration 10\n",
      "Train on 45000 samples, validate on 5000 samples\n",
      "Epoch 1/1\n",
      "45000/45000 [==============================] - 4s 81us/step - loss: 0.4347 - acc: 0.8453 - val_loss: 0.4316 - val_acc: 0.8458\n",
      "Q 6+138   T 144  \u001b[92m☑\u001b[0m 144 \n",
      "Q 52+209  T 261  \u001b[91m☒\u001b[0m 271 \n",
      "Q 86+25   T 111  \u001b[91m☒\u001b[0m 112 \n",
      "Q 230+31  T 261  \u001b[92m☑\u001b[0m 261 \n",
      "Q 713+2   T 715  \u001b[92m☑\u001b[0m 715 \n",
      "Q 359+714 T 1073 \u001b[91m☒\u001b[0m 1003\n",
      "Q 517+73  T 590  \u001b[92m☑\u001b[0m 590 \n",
      "Q 378+741 T 1119 \u001b[91m☒\u001b[0m 1129\n",
      "Q 26+414  T 440  \u001b[91m☒\u001b[0m 430 \n",
      "Q 356+310 T 666  \u001b[92m☑\u001b[0m 666 \n",
      "\n",
      "--------------------------------------------------\n",
      "Iteration 11\n",
      "Train on 45000 samples, validate on 5000 samples\n",
      "Epoch 1/1\n",
      "45000/45000 [==============================] - 4s 79us/step - loss: 0.3914 - acc: 0.8632 - val_loss: 0.4246 - val_acc: 0.8398\n",
      "Q 484+48  T 532  \u001b[91m☒\u001b[0m 533 \n",
      "Q 188+51  T 239  \u001b[91m☒\u001b[0m 229 \n",
      "Q 52+119  T 171  \u001b[92m☑\u001b[0m 171 \n",
      "Q 601+421 T 1022 \u001b[91m☒\u001b[0m 1122\n",
      "Q 98+971  T 1069 \u001b[92m☑\u001b[0m 1069\n",
      "Q 737+72  T 809  \u001b[91m☒\u001b[0m 819 \n",
      "Q 522+8   T 530  \u001b[92m☑\u001b[0m 530 \n",
      "Q 628+80  T 708  \u001b[91m☒\u001b[0m 718 \n",
      "Q 72+294  T 366  \u001b[92m☑\u001b[0m 366 \n",
      "Q 0+344   T 344  \u001b[92m☑\u001b[0m 344 \n",
      "\n",
      "--------------------------------------------------\n",
      "Iteration 12\n",
      "Train on 45000 samples, validate on 5000 samples\n",
      "Epoch 1/1\n",
      "45000/45000 [==============================] - 4s 80us/step - loss: 0.3565 - acc: 0.8768 - val_loss: 0.3656 - val_acc: 0.8704\n",
      "Q 315+31  T 346  \u001b[91m☒\u001b[0m 356 \n",
      "Q 286+2   T 288  \u001b[91m☒\u001b[0m 287 \n",
      "Q 437+9   T 446  \u001b[91m☒\u001b[0m 546 \n",
      "Q 29+557  T 586  \u001b[91m☒\u001b[0m 686 \n",
      "Q 356+333 T 689  \u001b[91m☒\u001b[0m 699 \n",
      "Q 430+47  T 477  \u001b[92m☑\u001b[0m 477 \n",
      "Q 821+45  T 866  \u001b[91m☒\u001b[0m 856 \n",
      "Q 313+70  T 383  \u001b[92m☑\u001b[0m 383 \n",
      "Q 327+57  T 384  \u001b[92m☑\u001b[0m 384 \n",
      "Q 514+206 T 720  \u001b[92m☑\u001b[0m 720 \n",
      "\n",
      "--------------------------------------------------\n",
      "Iteration 13\n",
      "Train on 45000 samples, validate on 5000 samples\n",
      "Epoch 1/1\n",
      "45000/45000 [==============================] - 4s 80us/step - loss: 0.3239 - acc: 0.8897 - val_loss: 0.3393 - val_acc: 0.8780\n",
      "Q 551+29  T 580  \u001b[91m☒\u001b[0m 570 \n",
      "Q 69+416  T 485  \u001b[92m☑\u001b[0m 485 \n",
      "Q 6+760   T 766  \u001b[92m☑\u001b[0m 766 \n",
      "Q 23+49   T 72   \u001b[91m☒\u001b[0m 71  \n",
      "Q 8+81    T 89   \u001b[91m☒\u001b[0m 80  \n",
      "Q 50+266  T 316  \u001b[92m☑\u001b[0m 316 \n",
      "Q 79+913  T 992  \u001b[91m☒\u001b[0m 991 \n",
      "Q 23+921  T 944  \u001b[91m☒\u001b[0m 954 \n",
      "Q 818+11  T 829  \u001b[91m☒\u001b[0m 839 \n",
      "Q 51+377  T 428  \u001b[92m☑\u001b[0m 428 \n",
      "\n",
      "--------------------------------------------------\n",
      "Iteration 14\n",
      "Train on 45000 samples, validate on 5000 samples\n",
      "Epoch 1/1\n",
      "45000/45000 [==============================] - 4s 80us/step - loss: 0.3036 - acc: 0.8960 - val_loss: 0.3117 - val_acc: 0.8918\n",
      "Q 385+41  T 426  \u001b[92m☑\u001b[0m 426 \n",
      "Q 984+83  T 1067 \u001b[92m☑\u001b[0m 1067\n",
      "Q 848+38  T 886  \u001b[92m☑\u001b[0m 886 \n",
      "Q 988+1   T 989  \u001b[92m☑\u001b[0m 989 \n",
      "Q 646+16  T 662  \u001b[92m☑\u001b[0m 662 \n",
      "Q 294+63  T 357  \u001b[92m☑\u001b[0m 357 \n",
      "Q 440+24  T 464  \u001b[91m☒\u001b[0m 465 \n",
      "Q 4+973   T 977  \u001b[92m☑\u001b[0m 977 \n",
      "Q 163+680 T 843  \u001b[92m☑\u001b[0m 843 \n",
      "Q 935+32  T 967  \u001b[92m☑\u001b[0m 967 \n",
      "\n",
      "--------------------------------------------------\n",
      "Iteration 15\n",
      "Train on 45000 samples, validate on 5000 samples\n",
      "Epoch 1/1\n"
     ]
    },
    {
     "name": "stdout",
     "output_type": "stream",
     "text": [
      "45000/45000 [==============================] - 4s 79us/step - loss: 0.2781 - acc: 0.9057 - val_loss: 0.2907 - val_acc: 0.8996\n",
      "Q 2+89    T 91   \u001b[91m☒\u001b[0m 80  \n",
      "Q 86+727  T 813  \u001b[92m☑\u001b[0m 813 \n",
      "Q 33+44   T 77   \u001b[92m☑\u001b[0m 77  \n",
      "Q 865+5   T 870  \u001b[92m☑\u001b[0m 870 \n",
      "Q 646+16  T 662  \u001b[91m☒\u001b[0m 672 \n",
      "Q 176+67  T 243  \u001b[91m☒\u001b[0m 233 \n",
      "Q 746+684 T 1430 \u001b[91m☒\u001b[0m 1530\n",
      "Q 86+25   T 111  \u001b[91m☒\u001b[0m 112 \n",
      "Q 151+44  T 195  \u001b[92m☑\u001b[0m 195 \n",
      "Q 97+16   T 113  \u001b[91m☒\u001b[0m 114 \n",
      "\n",
      "--------------------------------------------------\n",
      "Iteration 16\n",
      "Train on 45000 samples, validate on 5000 samples\n",
      "Epoch 1/1\n",
      "45000/45000 [==============================] - 4s 79us/step - loss: 0.2605 - acc: 0.9116 - val_loss: 0.2798 - val_acc: 0.9019\n",
      "Q 466+495 T 961  \u001b[91m☒\u001b[0m 951 \n",
      "Q 596+479 T 1075 \u001b[91m☒\u001b[0m 1065\n",
      "Q 0+208   T 208  \u001b[92m☑\u001b[0m 208 \n",
      "Q 15+926  T 941  \u001b[91m☒\u001b[0m 930 \n",
      "Q 197+293 T 490  \u001b[92m☑\u001b[0m 490 \n",
      "Q 45+41   T 86   \u001b[92m☑\u001b[0m 86  \n",
      "Q 95+504  T 599  \u001b[91m☒\u001b[0m 609 \n",
      "Q 161+9   T 170  \u001b[91m☒\u001b[0m 160 \n",
      "Q 316+38  T 354  \u001b[92m☑\u001b[0m 354 \n",
      "Q 94+643  T 737  \u001b[92m☑\u001b[0m 737 \n",
      "\n",
      "--------------------------------------------------\n",
      "Iteration 17\n",
      "Train on 45000 samples, validate on 5000 samples\n",
      "Epoch 1/1\n",
      "45000/45000 [==============================] - 4s 78us/step - loss: 0.2478 - acc: 0.9155 - val_loss: 0.2696 - val_acc: 0.9046\n",
      "Q 42+260  T 302  \u001b[91m☒\u001b[0m 202 \n",
      "Q 94+595  T 689  \u001b[91m☒\u001b[0m 699 \n",
      "Q 656+879 T 1535 \u001b[92m☑\u001b[0m 1535\n",
      "Q 39+9    T 48   \u001b[91m☒\u001b[0m 40  \n",
      "Q 645+461 T 1106 \u001b[92m☑\u001b[0m 1106\n",
      "Q 94+51   T 145  \u001b[92m☑\u001b[0m 145 \n",
      "Q 70+784  T 854  \u001b[92m☑\u001b[0m 854 \n",
      "Q 55+34   T 89   \u001b[92m☑\u001b[0m 89  \n",
      "Q 439+45  T 484  \u001b[92m☑\u001b[0m 484 \n",
      "Q 471+13  T 484  \u001b[92m☑\u001b[0m 484 \n",
      "\n",
      "--------------------------------------------------\n",
      "Iteration 18\n",
      "Train on 45000 samples, validate on 5000 samples\n",
      "Epoch 1/1\n",
      "45000/45000 [==============================] - 4s 81us/step - loss: 0.2292 - acc: 0.9229 - val_loss: 0.2757 - val_acc: 0.8988\n",
      "Q 74+656  T 730  \u001b[92m☑\u001b[0m 730 \n",
      "Q 32+25   T 57   \u001b[92m☑\u001b[0m 57  \n",
      "Q 2+244   T 246  \u001b[92m☑\u001b[0m 246 \n",
      "Q 987+282 T 1269 \u001b[91m☒\u001b[0m 1169\n",
      "Q 3+25    T 28   \u001b[92m☑\u001b[0m 28  \n",
      "Q 881+48  T 929  \u001b[91m☒\u001b[0m 920 \n",
      "Q 9+363   T 372  \u001b[92m☑\u001b[0m 372 \n",
      "Q 2+661   T 663  \u001b[92m☑\u001b[0m 663 \n",
      "Q 823+568 T 1391 \u001b[92m☑\u001b[0m 1391\n",
      "Q 367+2   T 369  \u001b[92m☑\u001b[0m 369 \n",
      "\n",
      "--------------------------------------------------\n",
      "Iteration 19\n",
      "Train on 45000 samples, validate on 5000 samples\n",
      "Epoch 1/1\n",
      "45000/45000 [==============================] - 3s 77us/step - loss: 0.2181 - acc: 0.9261 - val_loss: 0.2496 - val_acc: 0.9077\n",
      "Q 73+74   T 147  \u001b[92m☑\u001b[0m 147 \n",
      "Q 610+686 T 1296 \u001b[91m☒\u001b[0m 1206\n",
      "Q 57+8    T 65   \u001b[92m☑\u001b[0m 65  \n",
      "Q 466+495 T 961  \u001b[91m☒\u001b[0m 950 \n",
      "Q 80+385  T 465  \u001b[92m☑\u001b[0m 465 \n",
      "Q 18+319  T 337  \u001b[92m☑\u001b[0m 337 \n",
      "Q 801+756 T 1557 \u001b[92m☑\u001b[0m 1557\n",
      "Q 232+912 T 1144 \u001b[91m☒\u001b[0m 1154\n",
      "Q 948+431 T 1379 \u001b[92m☑\u001b[0m 1379\n",
      "Q 17+70   T 87   \u001b[92m☑\u001b[0m 87  \n"
     ]
    }
   ],
   "source": [
    "# Train the model each generation and show predictions against the validation\n",
    "# dataset.\n",
    "for iteration in range(1, 20):\n",
    "    print()\n",
    "    print('-' * 50)\n",
    "    print('Iteration', iteration)\n",
    "    model.fit(x_train, y_train,\n",
    "              batch_size=BATCH_SIZE,\n",
    "              epochs=1,\n",
    "              validation_data=(x_val, y_val))\n",
    "    # Select 10 samples from the validation set at random so we can visualize\n",
    "    # errors.\n",
    "    for i in range(10):\n",
    "        ind = np.random.randint(0, len(x_val))\n",
    "        rowx, rowy = x_val[np.array([ind])], y_val[np.array([ind])]\n",
    "        preds = model.predict_classes(rowx, verbose=0)\n",
    "        q = ctable.decode(rowx[0])\n",
    "        correct = ctable.decode(rowy[0])\n",
    "        guess = ctable.decode(preds[0], calc_argmax=False)\n",
    "        print('Q', q[::-1] if REVERSE else q, end=' ')\n",
    "        print('T', correct, end=' ')\n",
    "        if correct == guess:\n",
    "            print(colors.ok + '☑' + colors.close, end=' ')\n",
    "        else:\n",
    "            print(colors.fail + '☒' + colors.close, end=' ')\n",
    "        print(guess)"
   ]
  },
  {
   "cell_type": "code",
   "execution_count": 23,
   "metadata": {},
   "outputs": [
    {
     "data": {
      "text/plain": [
       "array([[False, False, False, False, False,  True, False, False, False,\n",
       "        False, False, False],\n",
       "       [False, False, False, False, False,  True, False, False, False,\n",
       "        False, False, False],\n",
       "       [False, False, False, False, False, False,  True, False, False,\n",
       "        False, False, False],\n",
       "       [False,  True, False, False, False, False, False, False, False,\n",
       "        False, False, False],\n",
       "       [False, False, False, False, False,  True, False, False, False,\n",
       "        False, False, False],\n",
       "       [False, False, False, False, False, False, False,  True, False,\n",
       "        False, False, False],\n",
       "       [False, False, False, False, False, False, False, False, False,\n",
       "        False, False,  True]])"
      ]
     },
     "execution_count": 23,
     "metadata": {},
     "output_type": "execute_result"
    }
   ],
   "source": [
    "x_val[0]"
   ]
  },
  {
   "cell_type": "code",
   "execution_count": 24,
   "metadata": {},
   "outputs": [
    {
     "data": {
      "text/plain": [
       "array([[[2.7147005e-06, 1.4477567e-07, 8.4531749e-08, 8.2284708e-07,\n",
       "         2.4795764e-07, 5.3130930e-06, 3.7707055e-03, 3.0721015e-01,\n",
       "         6.0830373e-01, 7.8974240e-02, 1.7248653e-03, 6.9469625e-06],\n",
       "        [3.5350616e-09, 8.8691732e-10, 3.8329381e-02, 7.3532210e-05,\n",
       "         8.7248523e-08, 1.0520136e-09, 5.2830912e-10, 2.4600881e-09,\n",
       "         6.6752028e-07, 3.3753249e-04, 5.6708239e-02, 9.0455061e-01],\n",
       "        [2.1649005e-04, 2.8848893e-10, 5.6022964e-07, 2.7527494e-04,\n",
       "         1.5076913e-01, 8.4345990e-01, 5.2751880e-03, 3.4669583e-06,\n",
       "         4.9487405e-09, 2.8662218e-12, 3.0233506e-13, 7.1515599e-11],\n",
       "        [9.9996626e-01, 1.0162692e-12, 8.5525575e-13, 1.7106087e-10,\n",
       "         4.7913411e-09, 5.6313735e-07, 3.0312738e-05, 2.8597522e-06,\n",
       "         3.6204748e-10, 1.5683542e-14, 9.2559360e-17, 1.3130477e-15]]],\n",
       "      dtype=float32)"
      ]
     },
     "execution_count": 24,
     "metadata": {},
     "output_type": "execute_result"
    }
   ],
   "source": [
    "model.predict(np.array([x_val[0]]))"
   ]
  },
  {
   "cell_type": "code",
   "execution_count": 25,
   "metadata": {},
   "outputs": [
    {
     "data": {
      "text/plain": [
       "array([[ 8, 11,  5,  0]], dtype=int64)"
      ]
     },
     "execution_count": 25,
     "metadata": {},
     "output_type": "execute_result"
    }
   ],
   "source": [
    "model.predict_classes(np.array([x_val[0]]))"
   ]
  },
  {
   "cell_type": "code",
   "execution_count": null,
   "metadata": {},
   "outputs": [],
   "source": []
  }
 ],
 "metadata": {
  "kernelspec": {
   "display_name": "Python 3",
   "language": "python",
   "name": "python3"
  },
  "language_info": {
   "codemirror_mode": {
    "name": "ipython",
    "version": 3
   },
   "file_extension": ".py",
   "mimetype": "text/x-python",
   "name": "python",
   "nbconvert_exporter": "python",
   "pygments_lexer": "ipython3",
   "version": "3.6.4"
  }
 },
 "nbformat": 4,
 "nbformat_minor": 2
}
