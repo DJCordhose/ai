{
  "nbformat": 4,
  "nbformat_minor": 0,
  "metadata": {
    "colab": {
      "name": "rnn-add-example.ipynb",
      "version": "0.3.2",
      "provenance": [],
      "include_colab_link": true
    },
    "kernelspec": {
      "display_name": "Python 3",
      "language": "python",
      "name": "python3"
    },
    "accelerator": "GPU"
  },
  "cells": [
    {
      "cell_type": "markdown",
      "metadata": {
        "id": "view-in-github",
        "colab_type": "text"
      },
      "source": [
        "[View in Colaboratory](https://colab.research.google.com/github/DJCordhose/ai/blob/master/notebooks/nlp/rnn-add-example.ipynb)"
      ]
    },
    {
      "metadata": {
        "id": "Zqi1xb086Gl_",
        "colab_type": "code",
        "colab": {}
      },
      "cell_type": "code",
      "source": [
        "# Adapted from\n",
        "# https://github.com/keras-team/keras/blob/master/examples/addition_rnn.py"
      ],
      "execution_count": 0,
      "outputs": []
    },
    {
      "metadata": {
        "id": "n3ey4zBb6GmE",
        "colab_type": "code",
        "colab": {}
      },
      "cell_type": "code",
      "source": [
        "import warnings\n",
        "warnings.filterwarnings('ignore')"
      ],
      "execution_count": 0,
      "outputs": []
    },
    {
      "metadata": {
        "id": "E8uDkaTi6GmH",
        "colab_type": "code",
        "colab": {
          "base_uri": "https://localhost:8080/",
          "height": 34
        },
        "outputId": "db984a98-cf48-4694-94d6-2fc65322ebb7"
      },
      "cell_type": "code",
      "source": [
        "%matplotlib inline\n",
        "%pylab inline"
      ],
      "execution_count": 22,
      "outputs": [
        {
          "output_type": "stream",
          "text": [
            "Populating the interactive namespace from numpy and matplotlib\n"
          ],
          "name": "stdout"
        }
      ]
    },
    {
      "metadata": {
        "id": "8ZQZTEee6GmM",
        "colab_type": "code",
        "colab": {
          "base_uri": "https://localhost:8080/",
          "height": 34
        },
        "outputId": "da2f7105-85ec-469a-81c6-8de057e37f44"
      },
      "cell_type": "code",
      "source": [
        "import tensorflow as tf\n",
        "tf.logging.set_verbosity(tf.logging.ERROR)\n",
        "print(tf.__version__)"
      ],
      "execution_count": 23,
      "outputs": [
        {
          "output_type": "stream",
          "text": [
            "1.11.0-rc2\n"
          ],
          "name": "stdout"
        }
      ]
    },
    {
      "metadata": {
        "id": "7kBle7aI9O7O",
        "colab_type": "code",
        "colab": {
          "base_uri": "https://localhost:8080/",
          "height": 51
        },
        "outputId": "23a61985-61f0-489d-dc14-61b07db7863b"
      },
      "cell_type": "code",
      "source": [
        "# let's see what compute devices we have available, hopefully a GPU \n",
        "sess = tf.Session()\n",
        "devices = sess.list_devices()\n",
        "for d in devices:\n",
        "    print(d.name)"
      ],
      "execution_count": 24,
      "outputs": [
        {
          "output_type": "stream",
          "text": [
            "/job:localhost/replica:0/task:0/device:CPU:0\n",
            "/job:localhost/replica:0/task:0/device:GPU:0\n"
          ],
          "name": "stdout"
        }
      ]
    },
    {
      "metadata": {
        "id": "k7rxZQym9PcT",
        "colab_type": "code",
        "colab": {
          "base_uri": "https://localhost:8080/",
          "height": 34
        },
        "outputId": "b073482d-43e0-4aae-b13d-8174225ea12d"
      },
      "cell_type": "code",
      "source": [
        "# a small sanity check, does tf seem to work ok?\n",
        "hello = tf.constant('Hello TF!')\n",
        "print(sess.run(hello))"
      ],
      "execution_count": 25,
      "outputs": [
        {
          "output_type": "stream",
          "text": [
            "b'Hello TF!'\n"
          ],
          "name": "stdout"
        }
      ]
    },
    {
      "metadata": {
        "id": "2gCgM1JJ9T2v",
        "colab_type": "code",
        "colab": {
          "base_uri": "https://localhost:8080/",
          "height": 34
        },
        "outputId": "43e553d9-98b9-4d91-ae8f-d178a8baef36"
      },
      "cell_type": "code",
      "source": [
        "from tensorflow import keras\n",
        "print(keras.__version__)"
      ],
      "execution_count": 26,
      "outputs": [
        {
          "output_type": "stream",
          "text": [
            "2.1.6-tf\n"
          ],
          "name": "stdout"
        }
      ]
    },
    {
      "metadata": {
        "id": "SEvTJtaL6GmR",
        "colab_type": "text"
      },
      "cell_type": "markdown",
      "source": [
        "### Step 1: Generate sample equations"
      ]
    },
    {
      "metadata": {
        "id": "IAz9Tnpu6GmR",
        "colab_type": "code",
        "colab": {}
      },
      "cell_type": "code",
      "source": [
        "class CharacterTable(object):\n",
        "    \"\"\"Given a set of characters:\n",
        "    + Encode them to a one hot integer representation\n",
        "    + Decode the one hot integer representation to their character output\n",
        "    + Decode a vector of probabilities to their character output\n",
        "    \"\"\"\n",
        "    def __init__(self, chars):\n",
        "        \"\"\"Initialize character table.\n",
        "\n",
        "        # Arguments\n",
        "            chars: Characters that can appear in the input.\n",
        "        \"\"\"\n",
        "        self.chars = sorted(set(chars))\n",
        "        self.char_indices = dict((c, i) for i, c in enumerate(self.chars))\n",
        "        self.indices_char = dict((i, c) for i, c in enumerate(self.chars))\n",
        "\n",
        "    def encode(self, C, num_rows):\n",
        "        \"\"\"One hot encode given string C.\n",
        "\n",
        "        # Arguments\n",
        "            num_rows: Number of rows in the returned one hot encoding. This is\n",
        "                used to keep the # of rows for each data the same.\n",
        "        \"\"\"\n",
        "        x = np.zeros((num_rows, len(self.chars)))\n",
        "        for i, c in enumerate(C):\n",
        "            x[i, self.char_indices[c]] = 1\n",
        "        return x\n",
        "\n",
        "    def decode(self, x, calc_argmax=True):\n",
        "        if calc_argmax:\n",
        "            x = x.argmax(axis=-1)\n",
        "        return ''.join(self.indices_char[x] for x in x)\n"
      ],
      "execution_count": 0,
      "outputs": []
    },
    {
      "metadata": {
        "id": "DqdzUFGZ6GmV",
        "colab_type": "code",
        "colab": {}
      },
      "cell_type": "code",
      "source": [
        "class colors:\n",
        "    ok = '\\033[92m'\n",
        "    fail = '\\033[91m'\n",
        "    close = '\\033[0m'"
      ],
      "execution_count": 0,
      "outputs": []
    },
    {
      "metadata": {
        "id": "kf7L7DwB6GmY",
        "colab_type": "code",
        "colab": {
          "base_uri": "https://localhost:8080/",
          "height": 51
        },
        "outputId": "112d7200-2d4e-4fb0-c095-ca23cef2e9a0"
      },
      "cell_type": "code",
      "source": [
        "# Parameters for the model and dataset.\n",
        "TRAINING_SIZE = 50000\n",
        "DIGITS = 3\n",
        "# REVERSE = True\n",
        "REVERSE = False\n",
        "\n",
        "# Maximum length of input is 'int + int' (e.g., '345+678'). Maximum length of\n",
        "# int is DIGITS.\n",
        "MAXLEN = DIGITS + 1 + DIGITS\n",
        "\n",
        "# All the numbers, plus sign and space for padding.\n",
        "chars = '0123456789+ '\n",
        "ctable = CharacterTable(chars)\n",
        "\n",
        "questions = []\n",
        "expected = []\n",
        "seen = set()\n",
        "print('Generating data...')\n",
        "while len(questions) < TRAINING_SIZE:\n",
        "    f = lambda: int(''.join(np.random.choice(list('0123456789'))\n",
        "                    for i in range(np.random.randint(1, DIGITS + 1))))\n",
        "    a, b = f(), f()\n",
        "    # Skip any addition questions we've already seen\n",
        "    # Also skip any such that x+Y == Y+x (hence the sorting).\n",
        "    key = tuple(sorted((a, b)))\n",
        "    if key in seen:\n",
        "        continue\n",
        "    seen.add(key)\n",
        "    # Pad the data with spaces such that it is always MAXLEN.\n",
        "    q = '{}+{}'.format(a, b)\n",
        "    query = q + ' ' * (MAXLEN - len(q))\n",
        "    ans = str(a + b)\n",
        "    # Answers can be of maximum size DIGITS + 1.\n",
        "    ans += ' ' * (DIGITS + 1 - len(ans))\n",
        "    if REVERSE:\n",
        "        # Reverse the query, e.g., '12+345  ' becomes '  543+21'. (Note the\n",
        "        # space used for padding.)\n",
        "        query = query[::-1]\n",
        "    questions.append(query)\n",
        "    expected.append(ans)\n",
        "print('Total addition questions:', len(questions))"
      ],
      "execution_count": 29,
      "outputs": [
        {
          "output_type": "stream",
          "text": [
            "Generating data...\n",
            "Total addition questions: 50000\n"
          ],
          "name": "stdout"
        }
      ]
    },
    {
      "metadata": {
        "id": "gTLONdDN6Gmc",
        "colab_type": "code",
        "colab": {
          "base_uri": "https://localhost:8080/",
          "height": 34
        },
        "outputId": "68862e5b-5eb2-4811-81ca-d1881f031f18"
      },
      "cell_type": "code",
      "source": [
        "questions[0]"
      ],
      "execution_count": 30,
      "outputs": [
        {
          "output_type": "execute_result",
          "data": {
            "text/plain": [
              "'6+110  '"
            ]
          },
          "metadata": {
            "tags": []
          },
          "execution_count": 30
        }
      ]
    },
    {
      "metadata": {
        "id": "L6n6X_w26Gmg",
        "colab_type": "code",
        "colab": {
          "base_uri": "https://localhost:8080/",
          "height": 34
        },
        "outputId": "3fd7724f-a0a2-41a4-bc6c-31e9af8cf4c0"
      },
      "cell_type": "code",
      "source": [
        "print('Vectorization...')\n",
        "x = np.zeros((len(questions), MAXLEN, len(chars)), dtype=np.bool)\n",
        "y = np.zeros((len(questions), DIGITS + 1, len(chars)), dtype=np.bool)\n",
        "for i, sentence in enumerate(questions):\n",
        "    x[i] = ctable.encode(sentence, MAXLEN)\n",
        "for i, sentence in enumerate(expected):\n",
        "    y[i] = ctable.encode(sentence, DIGITS + 1)\n"
      ],
      "execution_count": 31,
      "outputs": [
        {
          "output_type": "stream",
          "text": [
            "Vectorization...\n"
          ],
          "name": "stdout"
        }
      ]
    },
    {
      "metadata": {
        "id": "L1rqJg9v6Gmk",
        "colab_type": "code",
        "colab": {
          "base_uri": "https://localhost:8080/",
          "height": 34
        },
        "outputId": "4bdcae4c-b543-4d21-de7b-69e3884a601f"
      },
      "cell_type": "code",
      "source": [
        "len(x[0])"
      ],
      "execution_count": 32,
      "outputs": [
        {
          "output_type": "execute_result",
          "data": {
            "text/plain": [
              "7"
            ]
          },
          "metadata": {
            "tags": []
          },
          "execution_count": 32
        }
      ]
    },
    {
      "metadata": {
        "id": "0lgZ9xs-6Gmo",
        "colab_type": "code",
        "colab": {
          "base_uri": "https://localhost:8080/",
          "height": 34
        },
        "outputId": "30941aee-5220-4a09-9a01-3100945b9b4b"
      },
      "cell_type": "code",
      "source": [
        "len(questions[0])"
      ],
      "execution_count": 33,
      "outputs": [
        {
          "output_type": "execute_result",
          "data": {
            "text/plain": [
              "7"
            ]
          },
          "metadata": {
            "tags": []
          },
          "execution_count": 33
        }
      ]
    },
    {
      "metadata": {
        "id": "5MU2q5Jp6Gmr",
        "colab_type": "code",
        "colab": {
          "base_uri": "https://localhost:8080/",
          "height": 34
        },
        "outputId": "72cfbd4a-8c48-48f2-c94f-057cb63d79f2"
      },
      "cell_type": "code",
      "source": [
        "questions[0]"
      ],
      "execution_count": 34,
      "outputs": [
        {
          "output_type": "execute_result",
          "data": {
            "text/plain": [
              "'6+110  '"
            ]
          },
          "metadata": {
            "tags": []
          },
          "execution_count": 34
        }
      ]
    },
    {
      "metadata": {
        "id": "wZ_g5cHf6Gmw",
        "colab_type": "code",
        "colab": {
          "base_uri": "https://localhost:8080/",
          "height": 255
        },
        "outputId": "5f6b9035-be97-469d-f548-26613fb3a83a"
      },
      "cell_type": "code",
      "source": [
        "x[0]"
      ],
      "execution_count": 35,
      "outputs": [
        {
          "output_type": "execute_result",
          "data": {
            "text/plain": [
              "array([[False, False, False, False, False, False, False, False,  True,\n",
              "        False, False, False],\n",
              "       [False,  True, False, False, False, False, False, False, False,\n",
              "        False, False, False],\n",
              "       [False, False, False,  True, False, False, False, False, False,\n",
              "        False, False, False],\n",
              "       [False, False, False,  True, False, False, False, False, False,\n",
              "        False, False, False],\n",
              "       [False, False,  True, False, False, False, False, False, False,\n",
              "        False, False, False],\n",
              "       [ True, False, False, False, False, False, False, False, False,\n",
              "        False, False, False],\n",
              "       [ True, False, False, False, False, False, False, False, False,\n",
              "        False, False, False]])"
            ]
          },
          "metadata": {
            "tags": []
          },
          "execution_count": 35
        }
      ]
    },
    {
      "metadata": {
        "id": "hWldgEEJ6Gmz",
        "colab_type": "code",
        "colab": {
          "base_uri": "https://localhost:8080/",
          "height": 153
        },
        "outputId": "65cd1ac9-ba22-47cc-e384-5768839f9e9d"
      },
      "cell_type": "code",
      "source": [
        "y[0]"
      ],
      "execution_count": 36,
      "outputs": [
        {
          "output_type": "execute_result",
          "data": {
            "text/plain": [
              "array([[False, False, False,  True, False, False, False, False, False,\n",
              "        False, False, False],\n",
              "       [False, False, False,  True, False, False, False, False, False,\n",
              "        False, False, False],\n",
              "       [False, False, False, False, False, False, False, False,  True,\n",
              "        False, False, False],\n",
              "       [ True, False, False, False, False, False, False, False, False,\n",
              "        False, False, False]])"
            ]
          },
          "metadata": {
            "tags": []
          },
          "execution_count": 36
        }
      ]
    },
    {
      "metadata": {
        "id": "o-r8EDwQ6Gm5",
        "colab_type": "code",
        "colab": {
          "base_uri": "https://localhost:8080/",
          "height": 34
        },
        "outputId": "6c754d73-a7dc-498c-a25f-6a041b4a806f"
      },
      "cell_type": "code",
      "source": [
        "expected[0]"
      ],
      "execution_count": 37,
      "outputs": [
        {
          "output_type": "execute_result",
          "data": {
            "text/plain": [
              "'116 '"
            ]
          },
          "metadata": {
            "tags": []
          },
          "execution_count": 37
        }
      ]
    },
    {
      "metadata": {
        "id": "XPO5c5xe6GnB",
        "colab_type": "code",
        "colab": {}
      },
      "cell_type": "code",
      "source": [
        "# Shuffle (x, y) in unison as the later parts of x will almost all be larger\n",
        "# digits.\n",
        "indices = np.arange(len(y))\n",
        "np.random.shuffle(indices)\n",
        "x = x[indices]\n",
        "y = y[indices]"
      ],
      "execution_count": 0,
      "outputs": []
    },
    {
      "metadata": {
        "id": "envfa2ZT6GnE",
        "colab_type": "text"
      },
      "cell_type": "markdown",
      "source": [
        "### Step 2: Training/Validation Split"
      ]
    },
    {
      "metadata": {
        "id": "bDSoeziy6GnE",
        "colab_type": "code",
        "colab": {
          "base_uri": "https://localhost:8080/",
          "height": 119
        },
        "outputId": "c523dc88-bfa4-414b-c04e-a095ea62c14c"
      },
      "cell_type": "code",
      "source": [
        "# Explicitly set apart 10% for validation data that we never train over.\n",
        "split_at = len(x) - len(x) // 10\n",
        "(x_train, x_val) = x[:split_at], x[split_at:]\n",
        "(y_train, y_val) = y[:split_at], y[split_at:]\n",
        "\n",
        "print('Training Data:')\n",
        "print(x_train.shape)\n",
        "print(y_train.shape)\n",
        "\n",
        "print('Validation Data:')\n",
        "print(x_val.shape)\n",
        "print(y_val.shape)"
      ],
      "execution_count": 39,
      "outputs": [
        {
          "output_type": "stream",
          "text": [
            "Training Data:\n",
            "(45000, 7, 12)\n",
            "(45000, 4, 12)\n",
            "Validation Data:\n",
            "(5000, 7, 12)\n",
            "(5000, 4, 12)\n"
          ],
          "name": "stdout"
        }
      ]
    },
    {
      "metadata": {
        "id": "bPUg9slY6GnK",
        "colab_type": "text"
      },
      "cell_type": "markdown",
      "source": [
        "### Step 3: Create Model"
      ]
    },
    {
      "metadata": {
        "id": "wK_ll_ew6GnL",
        "colab_type": "code",
        "colab": {
          "base_uri": "https://localhost:8080/",
          "height": 34
        },
        "outputId": "1f96a161-3e00-407f-84c7-e8f63f24e81f"
      },
      "cell_type": "code",
      "source": [
        "# input shape: 7 digits, each being 0-9, + or space (12 possibilities)\n",
        "MAXLEN, len(chars)"
      ],
      "execution_count": 40,
      "outputs": [
        {
          "output_type": "execute_result",
          "data": {
            "text/plain": [
              "(7, 12)"
            ]
          },
          "metadata": {
            "tags": []
          },
          "execution_count": 40
        }
      ]
    },
    {
      "metadata": {
        "id": "dksl6o766GnO",
        "colab_type": "code",
        "colab": {
          "base_uri": "https://localhost:8080/",
          "height": 306
        },
        "outputId": "efb0ab98-b0fc-4c4e-f70d-7a51f6f10db6"
      },
      "cell_type": "code",
      "source": [
        "from keras.models import Sequential\n",
        "from keras import layers\n",
        "\n",
        "# Try replacing LSTM, GRU, or SimpleRNN.\n",
        "# RNN = layers.LSTM\n",
        "RNN = layers.SimpleRNN\n",
        "# RNN = layers.GRU\n",
        "HIDDEN_SIZE = 128\n",
        "BATCH_SIZE = 128\n",
        "\n",
        "print('Build model...')\n",
        "model = Sequential()\n",
        "# encoder: simply encode the same input 4 times \n",
        "model.add(RNN(units=HIDDEN_SIZE, input_shape=(MAXLEN, len(chars))))\n",
        "model.add(layers.RepeatVector(DIGITS + 1))\n",
        "\n",
        "# decoder: have 4 temporal outputs one for each of the digits of the results\n",
        "# return_sequences=True tells it to keep all 4 temporal outputs, not only the final one (we need all four digits for the results)\n",
        "model.add(RNN(units=HIDDEN_SIZE, return_sequences=True))\n",
        "\n",
        "model.add(layers.Dense(name='classifier', units=len(chars), activation='softmax'))\n",
        "\n",
        "model.compile(loss='categorical_crossentropy',\n",
        "              optimizer='adam',\n",
        "              metrics=['accuracy'])\n",
        "model.summary()"
      ],
      "execution_count": 41,
      "outputs": [
        {
          "output_type": "stream",
          "text": [
            "Using TensorFlow backend.\n"
          ],
          "name": "stderr"
        },
        {
          "output_type": "stream",
          "text": [
            "Build model...\n",
            "_________________________________________________________________\n",
            "Layer (type)                 Output Shape              Param #   \n",
            "=================================================================\n",
            "simple_rnn_1 (SimpleRNN)     (None, 128)               18048     \n",
            "_________________________________________________________________\n",
            "repeat_vector_1 (RepeatVecto (None, 4, 128)            0         \n",
            "_________________________________________________________________\n",
            "simple_rnn_2 (SimpleRNN)     (None, 4, 128)            32896     \n",
            "_________________________________________________________________\n",
            "classifier (Dense)           (None, 4, 12)             1548      \n",
            "=================================================================\n",
            "Total params: 52,492\n",
            "Trainable params: 52,492\n",
            "Non-trainable params: 0\n",
            "_________________________________________________________________\n"
          ],
          "name": "stdout"
        }
      ]
    },
    {
      "metadata": {
        "id": "c8pEzhmT6GnS",
        "colab_type": "code",
        "colab": {
          "base_uri": "https://localhost:8080/",
          "height": 221
        },
        "outputId": "8a49db8d-8239-4d08-8454-fb7f35320e6c"
      },
      "cell_type": "code",
      "source": [
        "model.predict(np.array([x_val[0]]))"
      ],
      "execution_count": 42,
      "outputs": [
        {
          "output_type": "execute_result",
          "data": {
            "text/plain": [
              "array([[[0.03990376, 0.08339092, 0.10174882, 0.0690695 , 0.11191454,\n",
              "         0.06986454, 0.0719152 , 0.12844141, 0.03216231, 0.08586498,\n",
              "         0.08835057, 0.11737339],\n",
              "        [0.06463561, 0.08647179, 0.10332599, 0.05021508, 0.07692068,\n",
              "         0.08913328, 0.05807737, 0.15744036, 0.04143989, 0.1009753 ,\n",
              "         0.06894982, 0.10241491],\n",
              "        [0.06044635, 0.05534412, 0.08035141, 0.04345266, 0.09017674,\n",
              "         0.11381816, 0.07136583, 0.21808359, 0.04540214, 0.08416803,\n",
              "         0.0657936 , 0.07159729],\n",
              "        [0.05927669, 0.05155819, 0.07752077, 0.0526554 , 0.11733301,\n",
              "         0.10098131, 0.08565692, 0.20166811, 0.05360102, 0.08825838,\n",
              "         0.04696324, 0.06452689]]], dtype=float32)"
            ]
          },
          "metadata": {
            "tags": []
          },
          "execution_count": 42
        }
      ]
    },
    {
      "metadata": {
        "id": "-yXszHzg6GnW",
        "colab_type": "code",
        "colab": {
          "base_uri": "https://localhost:8080/",
          "height": 34
        },
        "outputId": "362af7fe-a389-4b98-8ed0-9c2996dfa4f8"
      },
      "cell_type": "code",
      "source": [
        "model.predict_classes(np.array([x_val[0]]))"
      ],
      "execution_count": 43,
      "outputs": [
        {
          "output_type": "execute_result",
          "data": {
            "text/plain": [
              "array([[7, 7, 7, 7]])"
            ]
          },
          "metadata": {
            "tags": []
          },
          "execution_count": 43
        }
      ]
    },
    {
      "metadata": {
        "id": "cdW2FJVl6GnZ",
        "colab_type": "text"
      },
      "cell_type": "markdown",
      "source": [
        "### Step 4: Train"
      ]
    },
    {
      "metadata": {
        "id": "izY-B-UF6Gna",
        "colab_type": "code",
        "colab": {
          "base_uri": "https://localhost:8080/",
          "height": 5185
        },
        "outputId": "0fec7726-d4bd-4ada-db36-0a6744e12b2b"
      },
      "cell_type": "code",
      "source": [
        "# Train the model each generation and show predictions against the validation\n",
        "# dataset.\n",
        "for iteration in range(1, 20):\n",
        "    print()\n",
        "    print('-' * 50)\n",
        "    print('Iteration', iteration)\n",
        "    model.fit(x_train, y_train,\n",
        "              batch_size=BATCH_SIZE,\n",
        "              epochs=1,\n",
        "              validation_data=(x_val, y_val))\n",
        "    # Select 10 samples from the validation set at random so we can visualize\n",
        "    # errors.\n",
        "    for i in range(10):\n",
        "        ind = np.random.randint(0, len(x_val))\n",
        "        rowx, rowy = x_val[np.array([ind])], y_val[np.array([ind])]\n",
        "        preds = model.predict_classes(rowx, verbose=0)\n",
        "        q = ctable.decode(rowx[0])\n",
        "        correct = ctable.decode(rowy[0])\n",
        "        guess = ctable.decode(preds[0], calc_argmax=False)\n",
        "        print('Q', q[::-1] if REVERSE else q, end=' ')\n",
        "        print('T', correct, end=' ')\n",
        "        if correct == guess:\n",
        "            print(colors.ok + '☑' + colors.close, end=' ')\n",
        "        else:\n",
        "            print(colors.fail + '☒' + colors.close, end=' ')\n",
        "        print(guess)"
      ],
      "execution_count": 44,
      "outputs": [
        {
          "output_type": "stream",
          "text": [
            "\n",
            "--------------------------------------------------\n",
            "Iteration 1\n",
            "Train on 45000 samples, validate on 5000 samples\n",
            "Epoch 1/1\n",
            "45000/45000 [==============================] - 5s 121us/step - loss: 1.6843 - acc: 0.3875 - val_loss: 1.5620 - val_acc: 0.4284\n",
            "Q 343+18  T 361  \u001b[91m☒\u001b[0m 326 \n",
            "Q 53+532  T 585  \u001b[91m☒\u001b[0m 666 \n",
            "Q 957+28  T 985  \u001b[91m☒\u001b[0m 900 \n",
            "Q 72+549  T 621  \u001b[91m☒\u001b[0m 762 \n",
            "Q 19+77   T 96   \u001b[91m☒\u001b[0m 118 \n",
            "Q 94+519  T 613  \u001b[91m☒\u001b[0m 604 \n",
            "Q 788+200 T 988  \u001b[91m☒\u001b[0m 1777\n",
            "Q 54+795  T 849  \u001b[91m☒\u001b[0m 771 \n",
            "Q 826+212 T 1038 \u001b[91m☒\u001b[0m 120 \n",
            "Q 607+433 T 1040 \u001b[91m☒\u001b[0m 717 \n",
            "\n",
            "--------------------------------------------------\n",
            "Iteration 2\n",
            "Train on 45000 samples, validate on 5000 samples\n",
            "Epoch 1/1\n",
            "45000/45000 [==============================] - 5s 111us/step - loss: 1.4533 - acc: 0.4645 - val_loss: 1.3659 - val_acc: 0.4964\n",
            "Q 951+9   T 960  \u001b[91m☒\u001b[0m 989 \n",
            "Q 45+225  T 270  \u001b[91m☒\u001b[0m 389 \n",
            "Q 134+576 T 710  \u001b[91m☒\u001b[0m 177 \n",
            "Q 10+141  T 151  \u001b[91m☒\u001b[0m 211 \n",
            "Q 116+46  T 162  \u001b[91m☒\u001b[0m 253 \n",
            "Q 677+80  T 757  \u001b[91m☒\u001b[0m 779 \n",
            "Q 56+64   T 120  \u001b[91m☒\u001b[0m 111 \n",
            "Q 981+956 T 1937 \u001b[91m☒\u001b[0m 1895\n",
            "Q 82+51   T 133  \u001b[91m☒\u001b[0m 111 \n",
            "Q 28+714  T 742  \u001b[91m☒\u001b[0m 773 \n",
            "\n",
            "--------------------------------------------------\n",
            "Iteration 3\n",
            "Train on 45000 samples, validate on 5000 samples\n",
            "Epoch 1/1\n",
            "45000/45000 [==============================] - 5s 112us/step - loss: 1.2711 - acc: 0.5260 - val_loss: 1.2043 - val_acc: 0.5445\n",
            "Q 91+972  T 1063 \u001b[91m☒\u001b[0m 1053\n",
            "Q 41+544  T 585  \u001b[91m☒\u001b[0m 595 \n",
            "Q 709+105 T 814  \u001b[91m☒\u001b[0m 801 \n",
            "Q 6+379   T 385  \u001b[91m☒\u001b[0m 376 \n",
            "Q 21+78   T 99   \u001b[91m☒\u001b[0m 10  \n",
            "Q 62+539  T 601  \u001b[92m☑\u001b[0m 601 \n",
            "Q 831+2   T 833  \u001b[91m☒\u001b[0m 837 \n",
            "Q 591+344 T 935  \u001b[91m☒\u001b[0m 100 \n",
            "Q 623+545 T 1168 \u001b[91m☒\u001b[0m 1177\n",
            "Q 998+15  T 1013 \u001b[91m☒\u001b[0m 101 \n",
            "\n",
            "--------------------------------------------------\n",
            "Iteration 4\n",
            "Train on 45000 samples, validate on 5000 samples\n",
            "Epoch 1/1\n",
            "45000/45000 [==============================] - 5s 112us/step - loss: 1.0974 - acc: 0.5880 - val_loss: 1.0264 - val_acc: 0.6131\n",
            "Q 698+30  T 728  \u001b[91m☒\u001b[0m 739 \n",
            "Q 95+166  T 261  \u001b[91m☒\u001b[0m 251 \n",
            "Q 631+8   T 639  \u001b[91m☒\u001b[0m 631 \n",
            "Q 55+894  T 949  \u001b[91m☒\u001b[0m 939 \n",
            "Q 4+908   T 912  \u001b[91m☒\u001b[0m 113 \n",
            "Q 30+173  T 203  \u001b[91m☒\u001b[0m 204 \n",
            "Q 85+25   T 110  \u001b[91m☒\u001b[0m 121 \n",
            "Q 33+176  T 209  \u001b[92m☑\u001b[0m 209 \n",
            "Q 70+535  T 605  \u001b[91m☒\u001b[0m 514 \n",
            "Q 6+795   T 801  \u001b[91m☒\u001b[0m 701 \n",
            "\n",
            "--------------------------------------------------\n",
            "Iteration 5\n",
            "Train on 45000 samples, validate on 5000 samples\n",
            "Epoch 1/1\n",
            "45000/45000 [==============================] - 5s 113us/step - loss: 0.9328 - acc: 0.6469 - val_loss: 0.8759 - val_acc: 0.6652\n",
            "Q 287+72  T 359  \u001b[92m☑\u001b[0m 359 \n",
            "Q 879+898 T 1777 \u001b[91m☒\u001b[0m 1774\n",
            "Q 391+93  T 484  \u001b[91m☒\u001b[0m 4734\n",
            "Q 911+610 T 1521 \u001b[91m☒\u001b[0m 1434\n",
            "Q 89+740  T 829  \u001b[91m☒\u001b[0m 839 \n",
            "Q 96+58   T 154  \u001b[91m☒\u001b[0m 164 \n",
            "Q 964+1   T 965  \u001b[91m☒\u001b[0m 967 \n",
            "Q 1+329   T 330  \u001b[91m☒\u001b[0m 329 \n",
            "Q 263+4   T 267  \u001b[91m☒\u001b[0m 276 \n",
            "Q 971+399 T 1370 \u001b[91m☒\u001b[0m 1479\n",
            "\n",
            "--------------------------------------------------\n",
            "Iteration 6\n",
            "Train on 45000 samples, validate on 5000 samples\n",
            "Epoch 1/1\n",
            "45000/45000 [==============================] - 5s 112us/step - loss: 0.7843 - acc: 0.7029 - val_loss: 0.7267 - val_acc: 0.7232\n",
            "Q 491+93  T 584  \u001b[91m☒\u001b[0m 574 \n",
            "Q 112+5   T 117  \u001b[91m☒\u001b[0m 126 \n",
            "Q 758+291 T 1049 \u001b[91m☒\u001b[0m 1060\n",
            "Q 913+9   T 922  \u001b[92m☑\u001b[0m 922 \n",
            "Q 302+3   T 305  \u001b[91m☒\u001b[0m 315 \n",
            "Q 982+810 T 1792 \u001b[91m☒\u001b[0m 1802\n",
            "Q 5+374   T 379  \u001b[91m☒\u001b[0m 388 \n",
            "Q 369+86  T 455  \u001b[91m☒\u001b[0m 445 \n",
            "Q 197+827 T 1024 \u001b[91m☒\u001b[0m 1123\n",
            "Q 743+6   T 749  \u001b[92m☑\u001b[0m 749 \n",
            "\n",
            "--------------------------------------------------\n",
            "Iteration 7\n",
            "Train on 45000 samples, validate on 5000 samples\n",
            "Epoch 1/1\n",
            "45000/45000 [==============================] - 5s 112us/step - loss: 0.6581 - acc: 0.7529 - val_loss: 0.6295 - val_acc: 0.7596\n",
            "Q 663+792 T 1455 \u001b[91m☒\u001b[0m 1435\n",
            "Q 62+34   T 96   \u001b[91m☒\u001b[0m 90  \n",
            "Q 30+999  T 1029 \u001b[91m☒\u001b[0m 1030\n",
            "Q 87+523  T 610  \u001b[91m☒\u001b[0m 600 \n",
            "Q 950+50  T 1000 \u001b[91m☒\u001b[0m 9000\n",
            "Q 72+119  T 191  \u001b[91m☒\u001b[0m 182 \n",
            "Q 298+443 T 741  \u001b[91m☒\u001b[0m 630 \n",
            "Q 47+14   T 61   \u001b[92m☑\u001b[0m 61  \n",
            "Q 25+936  T 961  \u001b[92m☑\u001b[0m 961 \n",
            "Q 162+934 T 1096 \u001b[91m☒\u001b[0m 1187\n",
            "\n",
            "--------------------------------------------------\n",
            "Iteration 8\n",
            "Train on 45000 samples, validate on 5000 samples\n",
            "Epoch 1/1\n",
            "45000/45000 [==============================] - 5s 111us/step - loss: 0.5621 - acc: 0.7937 - val_loss: 0.5369 - val_acc: 0.8014\n",
            "Q 883+86  T 969  \u001b[91m☒\u001b[0m 979 \n",
            "Q 77+81   T 158  \u001b[92m☑\u001b[0m 158 \n",
            "Q 52+509  T 561  \u001b[91m☒\u001b[0m 551 \n",
            "Q 843+514 T 1357 \u001b[91m☒\u001b[0m 1367\n",
            "Q 462+374 T 836  \u001b[91m☒\u001b[0m 847 \n",
            "Q 881+733 T 1614 \u001b[92m☑\u001b[0m 1614\n",
            "Q 285+161 T 446  \u001b[91m☒\u001b[0m 445 \n",
            "Q 630+761 T 1391 \u001b[91m☒\u001b[0m 1392\n",
            "Q 40+56   T 96   \u001b[91m☒\u001b[0m 97  \n",
            "Q 437+732 T 1169 \u001b[91m☒\u001b[0m 1189\n",
            "\n",
            "--------------------------------------------------\n",
            "Iteration 9\n",
            "Train on 45000 samples, validate on 5000 samples\n",
            "Epoch 1/1\n",
            "45000/45000 [==============================] - 5s 111us/step - loss: 0.4905 - acc: 0.8253 - val_loss: 0.4922 - val_acc: 0.8167\n",
            "Q 118+37  T 155  \u001b[91m☒\u001b[0m 154 \n",
            "Q 438+85  T 523  \u001b[91m☒\u001b[0m 513 \n",
            "Q 5+746   T 751  \u001b[91m☒\u001b[0m 761 \n",
            "Q 67+874  T 941  \u001b[92m☑\u001b[0m 941 \n",
            "Q 62+539  T 601  \u001b[91m☒\u001b[0m 501 \n",
            "Q 360+958 T 1318 \u001b[91m☒\u001b[0m 1228\n",
            "Q 80+959  T 1039 \u001b[91m☒\u001b[0m 1049\n",
            "Q 216+14  T 230  \u001b[91m☒\u001b[0m 239 \n",
            "Q 50+555  T 605  \u001b[91m☒\u001b[0m 505 \n",
            "Q 448+582 T 1030 \u001b[91m☒\u001b[0m 1020\n",
            "\n",
            "--------------------------------------------------\n",
            "Iteration 10\n",
            "Train on 45000 samples, validate on 5000 samples\n",
            "Epoch 1/1\n",
            "45000/45000 [==============================] - 5s 112us/step - loss: 0.4426 - acc: 0.8421 - val_loss: 0.4383 - val_acc: 0.8384\n",
            "Q 90+478  T 568  \u001b[91m☒\u001b[0m 567 \n",
            "Q 302+781 T 1083 \u001b[91m☒\u001b[0m 1082\n",
            "Q 93+601  T 694  \u001b[91m☒\u001b[0m 695 \n",
            "Q 6+314   T 320  \u001b[92m☑\u001b[0m 320 \n",
            "Q 326+753 T 1079 \u001b[91m☒\u001b[0m 1080\n",
            "Q 8+218   T 226  \u001b[92m☑\u001b[0m 226 \n",
            "Q 200+586 T 786  \u001b[91m☒\u001b[0m 887 \n",
            "Q 281+414 T 695  \u001b[91m☒\u001b[0m 704 \n",
            "Q 3+389   T 392  \u001b[92m☑\u001b[0m 392 \n",
            "Q 245+870 T 1115 \u001b[91m☒\u001b[0m 1126\n",
            "\n",
            "--------------------------------------------------\n",
            "Iteration 11\n",
            "Train on 45000 samples, validate on 5000 samples\n",
            "Epoch 1/1\n",
            "45000/45000 [==============================] - 5s 112us/step - loss: 0.3912 - acc: 0.8644 - val_loss: 0.3975 - val_acc: 0.8566\n",
            "Q 73+997  T 1070 \u001b[91m☒\u001b[0m 1061\n",
            "Q 621+7   T 628  \u001b[91m☒\u001b[0m 629 \n",
            "Q 675+28  T 703  \u001b[91m☒\u001b[0m 603 \n",
            "Q 141+988 T 1129 \u001b[91m☒\u001b[0m 1120\n",
            "Q 367+40  T 407  \u001b[91m☒\u001b[0m 317 \n",
            "Q 390+21  T 411  \u001b[92m☑\u001b[0m 411 \n",
            "Q 118+90  T 208  \u001b[91m☒\u001b[0m 218 \n",
            "Q 31+759  T 790  \u001b[91m☒\u001b[0m 780 \n",
            "Q 3+738   T 741  \u001b[91m☒\u001b[0m 731 \n",
            "Q 51+917  T 968  \u001b[92m☑\u001b[0m 968 \n",
            "\n",
            "--------------------------------------------------\n",
            "Iteration 12\n",
            "Train on 45000 samples, validate on 5000 samples\n",
            "Epoch 1/1\n",
            "45000/45000 [==============================] - 5s 111us/step - loss: 0.3589 - acc: 0.8762 - val_loss: 0.3482 - val_acc: 0.8789\n",
            "Q 920+46  T 966  \u001b[91m☒\u001b[0m 976 \n",
            "Q 844+6   T 850  \u001b[91m☒\u001b[0m 840 \n",
            "Q 180+1   T 181  \u001b[91m☒\u001b[0m 180 \n",
            "Q 92+649  T 741  \u001b[92m☑\u001b[0m 741 \n",
            "Q 897+558 T 1455 \u001b[92m☑\u001b[0m 1455\n",
            "Q 61+692  T 753  \u001b[92m☑\u001b[0m 753 \n",
            "Q 90+833  T 923  \u001b[92m☑\u001b[0m 923 \n",
            "Q 3+12    T 15   \u001b[92m☑\u001b[0m 15  \n",
            "Q 999+6   T 1005 \u001b[91m☒\u001b[0m 1004\n",
            "Q 207+454 T 661  \u001b[91m☒\u001b[0m 651 \n",
            "\n",
            "--------------------------------------------------\n",
            "Iteration 13\n",
            "Train on 45000 samples, validate on 5000 samples\n",
            "Epoch 1/1\n",
            "45000/45000 [==============================] - 5s 112us/step - loss: 0.3268 - acc: 0.8885 - val_loss: 0.3710 - val_acc: 0.8625\n",
            "Q 98+519  T 617  \u001b[91m☒\u001b[0m 627 \n",
            "Q 289+43  T 332  \u001b[92m☑\u001b[0m 332 \n",
            "Q 181+414 T 595  \u001b[91m☒\u001b[0m 605 \n",
            "Q 98+651  T 749  \u001b[91m☒\u001b[0m 759 \n",
            "Q 30+75   T 105  \u001b[91m☒\u001b[0m 106 \n",
            "Q 10+565  T 575  \u001b[92m☑\u001b[0m 575 \n",
            "Q 269+855 T 1124 \u001b[92m☑\u001b[0m 1124\n",
            "Q 493+377 T 870  \u001b[91m☒\u001b[0m 860 \n",
            "Q 639+60  T 699  \u001b[92m☑\u001b[0m 699 \n",
            "Q 950+739 T 1689 \u001b[91m☒\u001b[0m 1679\n",
            "\n",
            "--------------------------------------------------\n",
            "Iteration 14\n",
            "Train on 45000 samples, validate on 5000 samples\n",
            "Epoch 1/1\n",
            "45000/45000 [==============================] - 5s 112us/step - loss: 0.3035 - acc: 0.8967 - val_loss: 0.3201 - val_acc: 0.8857\n",
            "Q 69+297  T 366  \u001b[92m☑\u001b[0m 366 \n",
            "Q 39+726  T 765  \u001b[92m☑\u001b[0m 765 \n",
            "Q 341+572 T 913  \u001b[91m☒\u001b[0m 803 \n",
            "Q 95+513  T 608  \u001b[92m☑\u001b[0m 608 \n",
            "Q 0+8     T 8    \u001b[92m☑\u001b[0m 8   \n",
            "Q 568+63  T 631  \u001b[92m☑\u001b[0m 631 \n",
            "Q 51+503  T 554  \u001b[92m☑\u001b[0m 554 \n",
            "Q 67+840  T 907  \u001b[91m☒\u001b[0m 807 \n",
            "Q 524+82  T 606  \u001b[92m☑\u001b[0m 606 \n",
            "Q 42+857  T 899  \u001b[91m☒\u001b[0m 809 \n",
            "\n",
            "--------------------------------------------------\n",
            "Iteration 15\n",
            "Train on 45000 samples, validate on 5000 samples\n",
            "Epoch 1/1\n",
            "45000/45000 [==============================] - 5s 111us/step - loss: 0.2766 - acc: 0.9075 - val_loss: 0.2947 - val_acc: 0.8954\n",
            "Q 79+792  T 871  \u001b[92m☑\u001b[0m 871 \n",
            "Q 410+8   T 418  \u001b[92m☑\u001b[0m 418 \n",
            "Q 62+438  T 500  \u001b[92m☑\u001b[0m 500 \n",
            "Q 492+43  T 535  \u001b[92m☑\u001b[0m 535 \n",
            "Q 822+95  T 917  \u001b[91m☒\u001b[0m 918 \n",
            "Q 97+194  T 291  \u001b[92m☑\u001b[0m 291 \n",
            "Q 46+79   T 125  \u001b[92m☑\u001b[0m 125 \n",
            "Q 423+8   T 431  \u001b[92m☑\u001b[0m 431 \n",
            "Q 16+99   T 115  \u001b[92m☑\u001b[0m 115 \n",
            "Q 591+228 T 819  \u001b[92m☑\u001b[0m 819 \n",
            "\n",
            "--------------------------------------------------\n",
            "Iteration 16\n",
            "Train on 45000 samples, validate on 5000 samples\n",
            "Epoch 1/1\n",
            "45000/45000 [==============================] - 5s 111us/step - loss: 0.2658 - acc: 0.9088 - val_loss: 0.2895 - val_acc: 0.8968\n",
            "Q 353+485 T 838  \u001b[92m☑\u001b[0m 838 \n",
            "Q 666+254 T 920  \u001b[91m☒\u001b[0m 9100\n",
            "Q 12+791  T 803  \u001b[92m☑\u001b[0m 803 \n",
            "Q 670+4   T 674  \u001b[92m☑\u001b[0m 674 \n",
            "Q 57+179  T 236  \u001b[92m☑\u001b[0m 236 \n",
            "Q 958+1   T 959  \u001b[92m☑\u001b[0m 959 \n",
            "Q 0+901   T 901  \u001b[92m☑\u001b[0m 901 \n",
            "Q 65+260  T 325  \u001b[92m☑\u001b[0m 325 \n",
            "Q 758+291 T 1049 \u001b[92m☑\u001b[0m 1049\n",
            "Q 863+443 T 1306 \u001b[92m☑\u001b[0m 1306\n",
            "\n",
            "--------------------------------------------------\n",
            "Iteration 17\n",
            "Train on 45000 samples, validate on 5000 samples\n",
            "Epoch 1/1\n",
            "45000/45000 [==============================] - 5s 112us/step - loss: 0.2462 - acc: 0.9169 - val_loss: 0.2699 - val_acc: 0.9026\n",
            "Q 740+962 T 1702 \u001b[92m☑\u001b[0m 1702\n",
            "Q 85+201  T 286  \u001b[92m☑\u001b[0m 286 \n",
            "Q 2+343   T 345  \u001b[92m☑\u001b[0m 345 \n",
            "Q 94+218  T 312  \u001b[92m☑\u001b[0m 312 \n",
            "Q 998+6   T 1004 \u001b[91m☒\u001b[0m 1005\n",
            "Q 35+210  T 245  \u001b[92m☑\u001b[0m 245 \n",
            "Q 0+902   T 902  \u001b[91m☒\u001b[0m 901 \n",
            "Q 77+83   T 160  \u001b[92m☑\u001b[0m 160 \n",
            "Q 97+837  T 934  \u001b[91m☒\u001b[0m 925 \n",
            "Q 18+924  T 942  \u001b[91m☒\u001b[0m 932 \n",
            "\n",
            "--------------------------------------------------\n",
            "Iteration 18\n",
            "Train on 45000 samples, validate on 5000 samples\n",
            "Epoch 1/1\n",
            "45000/45000 [==============================] - 5s 111us/step - loss: 0.2323 - acc: 0.9210 - val_loss: 0.2530 - val_acc: 0.9089\n",
            "Q 551+29  T 580  \u001b[91m☒\u001b[0m 570 \n",
            "Q 5+16    T 21   \u001b[91m☒\u001b[0m 28  \n",
            "Q 823+90  T 913  \u001b[92m☑\u001b[0m 913 \n",
            "Q 11+301  T 312  \u001b[92m☑\u001b[0m 312 \n",
            "Q 71+45   T 116  \u001b[92m☑\u001b[0m 116 \n",
            "Q 85+75   T 160  \u001b[91m☒\u001b[0m 150 \n",
            "Q 23+43   T 66   \u001b[92m☑\u001b[0m 66  \n",
            "Q 380+737 T 1117 \u001b[92m☑\u001b[0m 1117\n",
            "Q 588+7   T 595  \u001b[92m☑\u001b[0m 595 \n",
            "Q 8+488   T 496  \u001b[91m☒\u001b[0m 486 \n",
            "\n",
            "--------------------------------------------------\n",
            "Iteration 19\n",
            "Train on 45000 samples, validate on 5000 samples\n",
            "Epoch 1/1\n",
            "45000/45000 [==============================] - 5s 111us/step - loss: 0.2212 - acc: 0.9253 - val_loss: 0.2318 - val_acc: 0.9176\n",
            "Q 26+89   T 115  \u001b[92m☑\u001b[0m 115 \n",
            "Q 65+414  T 479  \u001b[92m☑\u001b[0m 479 \n",
            "Q 329+852 T 1181 \u001b[92m☑\u001b[0m 1181\n",
            "Q 815+158 T 973  \u001b[92m☑\u001b[0m 973 \n",
            "Q 245+870 T 1115 \u001b[91m☒\u001b[0m 1125\n",
            "Q 60+501  T 561  \u001b[92m☑\u001b[0m 561 \n",
            "Q 1+240   T 241  \u001b[92m☑\u001b[0m 241 \n",
            "Q 58+559  T 617  \u001b[92m☑\u001b[0m 617 \n",
            "Q 94+811  T 905  \u001b[92m☑\u001b[0m 905 \n",
            "Q 28+310  T 338  \u001b[92m☑\u001b[0m 338 \n"
          ],
          "name": "stdout"
        }
      ]
    },
    {
      "metadata": {
        "id": "e01UTx5j6Gnc",
        "colab_type": "code",
        "colab": {
          "base_uri": "https://localhost:8080/",
          "height": 255
        },
        "outputId": "db6bf4d7-f0cf-48f0-9488-8c070885e0e1"
      },
      "cell_type": "code",
      "source": [
        "x_val[0]"
      ],
      "execution_count": 45,
      "outputs": [
        {
          "output_type": "execute_result",
          "data": {
            "text/plain": [
              "array([[False, False, False,  True, False, False, False, False, False,\n",
              "        False, False, False],\n",
              "       [False, False, False, False,  True, False, False, False, False,\n",
              "        False, False, False],\n",
              "       [False, False, False, False, False, False, False, False, False,\n",
              "        False, False,  True],\n",
              "       [False,  True, False, False, False, False, False, False, False,\n",
              "        False, False, False],\n",
              "       [False, False, False, False, False, False, False, False, False,\n",
              "        False, False,  True],\n",
              "       [False, False, False, False, False, False,  True, False, False,\n",
              "        False, False, False],\n",
              "       [ True, False, False, False, False, False, False, False, False,\n",
              "        False, False, False]])"
            ]
          },
          "metadata": {
            "tags": []
          },
          "execution_count": 45
        }
      ]
    },
    {
      "metadata": {
        "id": "reDP4EUk6Gng",
        "colab_type": "code",
        "colab": {
          "base_uri": "https://localhost:8080/",
          "height": 238
        },
        "outputId": "b9955942-7640-48d6-fd21-89af5fc11c28"
      },
      "cell_type": "code",
      "source": [
        "model.predict(np.array([x_val[0]]))"
      ],
      "execution_count": 46,
      "outputs": [
        {
          "output_type": "execute_result",
          "data": {
            "text/plain": [
              "array([[[2.79526109e-08, 8.51895265e-09, 6.70795816e-06, 1.77009236e-02,\n",
              "         9.68226492e-01, 1.40420068e-02, 2.21580922e-05, 1.37661075e-07,\n",
              "         5.23054577e-09, 2.04132999e-09, 1.12506813e-08, 1.60851346e-06],\n",
              "        [4.10865342e-10, 4.51209692e-09, 1.01068029e-02, 3.87964636e-01,\n",
              "         5.59736788e-01, 4.18978445e-02, 2.39486151e-04, 1.12083796e-06,\n",
              "         6.99106195e-08, 7.76496094e-08, 2.84406156e-07, 5.29415593e-05],\n",
              "        [6.73183315e-11, 7.59089413e-15, 2.87622599e-11, 5.65917162e-06,\n",
              "         1.37217447e-01, 8.62411082e-01, 3.65810702e-04, 8.57151239e-10,\n",
              "         3.83236245e-15, 8.39013679e-18, 1.33594549e-18, 2.33289206e-16],\n",
              "        [9.99999404e-01, 5.21824446e-13, 3.79854134e-11, 5.24088728e-09,\n",
              "         5.95357790e-07, 2.15290505e-08, 1.03019586e-10, 7.87527595e-14,\n",
              "         2.56646875e-15, 2.87176763e-14, 1.61396422e-13, 5.31796883e-13]]],\n",
              "      dtype=float32)"
            ]
          },
          "metadata": {
            "tags": []
          },
          "execution_count": 46
        }
      ]
    },
    {
      "metadata": {
        "id": "jmBdHduN6Gnl",
        "colab_type": "code",
        "colab": {
          "base_uri": "https://localhost:8080/",
          "height": 34
        },
        "outputId": "52eb9250-2726-491e-b343-73cea62182bd"
      },
      "cell_type": "code",
      "source": [
        "model.predict_classes(np.array([x_val[0]]))"
      ],
      "execution_count": 47,
      "outputs": [
        {
          "output_type": "execute_result",
          "data": {
            "text/plain": [
              "array([[4, 4, 5, 0]])"
            ]
          },
          "metadata": {
            "tags": []
          },
          "execution_count": 47
        }
      ]
    },
    {
      "metadata": {
        "id": "KkVVnOD76Gno",
        "colab_type": "code",
        "colab": {}
      },
      "cell_type": "code",
      "source": [
        ""
      ],
      "execution_count": 0,
      "outputs": []
    }
  ]
}