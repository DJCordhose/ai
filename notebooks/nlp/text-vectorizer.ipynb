{
  "nbformat": 4,
  "nbformat_minor": 0,
  "metadata": {
    "colab": {
      "name": "text-vectorizer.ipynb",
      "version": "0.3.2",
      "views": {},
      "default_view": {},
      "provenance": []
    },
    "kernelspec": {
      "display_name": "Python 3",
      "language": "python",
      "name": "python3"
    }
  },
  "cells": [
    {
      "metadata": {
        "id": "feNS0mFmqgND",
        "colab_type": "code",
        "colab": {
          "autoexec": {
            "startup": false,
            "wait_interval": 0
          },
          "base_uri": "https://localhost:8080/",
          "height": 17
        },
        "outputId": "edce0dbe-0c57-49a0-8988-f4d308bcfb79",
        "executionInfo": {
          "status": "ok",
          "timestamp": 1527325009621,
          "user_tz": -120,
          "elapsed": 2592,
          "user": {
            "displayName": "",
            "photoUrl": "",
            "userId": ""
          }
        }
      },
      "cell_type": "code",
      "source": [
        "# Based on\n",
        "# https://machinelearningmastery.com/prepare-text-data-machine-learning-scikit-learn/"
      ],
      "execution_count": 1,
      "outputs": []
    },
    {
      "metadata": {
        "id": "W7Jn_-a-qgNG",
        "colab_type": "code",
        "colab": {
          "autoexec": {
            "startup": false,
            "wait_interval": 0
          },
          "base_uri": "https://localhost:8080/",
          "height": 17
        },
        "outputId": "7bb5e4b0-386d-4f67-c2a7-28352369acd0",
        "executionInfo": {
          "status": "ok",
          "timestamp": 1527325010969,
          "user_tz": -120,
          "elapsed": 423,
          "user": {
            "displayName": "",
            "photoUrl": "",
            "userId": ""
          }
        }
      },
      "cell_type": "code",
      "source": [
        "import warnings\n",
        "warnings.filterwarnings('ignore')"
      ],
      "execution_count": 2,
      "outputs": []
    },
    {
      "metadata": {
        "id": "gFwDjyNOqgNJ",
        "colab_type": "code",
        "colab": {
          "autoexec": {
            "startup": false,
            "wait_interval": 0
          },
          "base_uri": "https://localhost:8080/",
          "height": 34
        },
        "outputId": "26205b1e-ce3e-46a4-f26f-e2f89e80e00a",
        "executionInfo": {
          "status": "ok",
          "timestamp": 1527325011710,
          "user_tz": -120,
          "elapsed": 662,
          "user": {
            "displayName": "",
            "photoUrl": "",
            "userId": ""
          }
        }
      },
      "cell_type": "code",
      "source": [
        "%matplotlib inline\n",
        "%pylab inline"
      ],
      "execution_count": 3,
      "outputs": [
        {
          "output_type": "stream",
          "text": [
            "Populating the interactive namespace from numpy and matplotlib\n"
          ],
          "name": "stdout"
        }
      ]
    },
    {
      "metadata": {
        "id": "IMqc-fX7qgNQ",
        "colab_type": "code",
        "colab": {
          "autoexec": {
            "startup": false,
            "wait_interval": 0
          },
          "base_uri": "https://localhost:8080/",
          "height": 17
        },
        "outputId": "5d3e1561-0fc8-4cf5-ada4-b67a73acf03c",
        "executionInfo": {
          "status": "ok",
          "timestamp": 1527328038570,
          "user_tz": -120,
          "elapsed": 563,
          "user": {
            "displayName": "",
            "photoUrl": "",
            "userId": ""
          }
        }
      },
      "cell_type": "code",
      "source": [
        "text = [\"Ronaldo did the free kick, yes Ronaldo\", \n",
        "        \"Messi did the penalty\", \n",
        "        \"A striker did the penalty\"]"
      ],
      "execution_count": 18,
      "outputs": []
    },
    {
      "metadata": {
        "id": "hKgx2w6oqgNR",
        "colab_type": "text"
      },
      "cell_type": "markdown",
      "source": [
        "### Count Vectorizer"
      ]
    },
    {
      "metadata": {
        "id": "fw3suVhrqgNS",
        "colab_type": "code",
        "colab": {
          "autoexec": {
            "startup": false,
            "wait_interval": 0
          },
          "base_uri": "https://localhost:8080/",
          "height": 119
        },
        "outputId": "b613392f-cd29-4551-ec3f-0f15c32167a2",
        "executionInfo": {
          "status": "ok",
          "timestamp": 1527328040377,
          "user_tz": -120,
          "elapsed": 537,
          "user": {
            "displayName": "",
            "photoUrl": "",
            "userId": ""
          }
        }
      },
      "cell_type": "code",
      "source": [
        "from sklearn.feature_extraction.text import CountVectorizer\n",
        "vectorizer = CountVectorizer()\n",
        "vectorizer.fit(text)"
      ],
      "execution_count": 19,
      "outputs": [
        {
          "output_type": "execute_result",
          "data": {
            "text/plain": [
              "CountVectorizer(analyzer='word', binary=False, decode_error='strict',\n",
              "        dtype=<class 'numpy.int64'>, encoding='utf-8', input='content',\n",
              "        lowercase=True, max_df=1.0, max_features=None, min_df=1,\n",
              "        ngram_range=(1, 1), preprocessor=None, stop_words=None,\n",
              "        strip_accents=None, token_pattern='(?u)\\\\b\\\\w\\\\w+\\\\b',\n",
              "        tokenizer=None, vocabulary=None)"
            ]
          },
          "metadata": {
            "tags": []
          },
          "execution_count": 19
        }
      ]
    },
    {
      "metadata": {
        "id": "bpBF0cbNqgNW",
        "colab_type": "code",
        "colab": {
          "autoexec": {
            "startup": false,
            "wait_interval": 0
          },
          "base_uri": "https://localhost:8080/",
          "height": 170
        },
        "outputId": "b9e47569-09a8-4af6-910a-74664568084b",
        "executionInfo": {
          "status": "ok",
          "timestamp": 1527328041327,
          "user_tz": -120,
          "elapsed": 537,
          "user": {
            "displayName": "",
            "photoUrl": "",
            "userId": ""
          }
        }
      },
      "cell_type": "code",
      "source": [
        "vectorizer.vocabulary_"
      ],
      "execution_count": 20,
      "outputs": [
        {
          "output_type": "execute_result",
          "data": {
            "text/plain": [
              "{'did': 0,\n",
              " 'free': 1,\n",
              " 'kick': 2,\n",
              " 'messi': 3,\n",
              " 'penalty': 4,\n",
              " 'ronaldo': 5,\n",
              " 'striker': 6,\n",
              " 'the': 7,\n",
              " 'yes': 8}"
            ]
          },
          "metadata": {
            "tags": []
          },
          "execution_count": 20
        }
      ]
    },
    {
      "metadata": {
        "id": "98SSSrubqgNY",
        "colab_type": "code",
        "colab": {
          "autoexec": {
            "startup": false,
            "wait_interval": 0
          },
          "base_uri": "https://localhost:8080/",
          "height": 17
        },
        "outputId": "a2b5676f-abe8-48b5-cd80-71fcc8692ae7",
        "executionInfo": {
          "status": "ok",
          "timestamp": 1527328043080,
          "user_tz": -120,
          "elapsed": 527,
          "user": {
            "displayName": "",
            "photoUrl": "",
            "userId": ""
          }
        }
      },
      "cell_type": "code",
      "source": [
        "vector = vectorizer.transform(text)"
      ],
      "execution_count": 21,
      "outputs": []
    },
    {
      "metadata": {
        "id": "H0J_hI37qgNb",
        "colab_type": "code",
        "colab": {
          "autoexec": {
            "startup": false,
            "wait_interval": 0
          },
          "base_uri": "https://localhost:8080/",
          "height": 34
        },
        "outputId": "f5d100e5-bb5c-4de6-c0af-8808e86a8bdf",
        "executionInfo": {
          "status": "ok",
          "timestamp": 1527328046299,
          "user_tz": -120,
          "elapsed": 527,
          "user": {
            "displayName": "",
            "photoUrl": "",
            "userId": ""
          }
        }
      },
      "cell_type": "code",
      "source": [
        "vector.shape"
      ],
      "execution_count": 22,
      "outputs": [
        {
          "output_type": "execute_result",
          "data": {
            "text/plain": [
              "(3, 9)"
            ]
          },
          "metadata": {
            "tags": []
          },
          "execution_count": 22
        }
      ]
    },
    {
      "metadata": {
        "id": "sjWtIuMLqgNf",
        "colab_type": "code",
        "colab": {
          "autoexec": {
            "startup": false,
            "wait_interval": 0
          },
          "base_uri": "https://localhost:8080/",
          "height": 34
        },
        "outputId": "4cba935f-864e-4553-a772-7353d63b2a50",
        "executionInfo": {
          "status": "ok",
          "timestamp": 1527328047402,
          "user_tz": -120,
          "elapsed": 613,
          "user": {
            "displayName": "",
            "photoUrl": "",
            "userId": ""
          }
        }
      },
      "cell_type": "code",
      "source": [
        "type(vector)"
      ],
      "execution_count": 23,
      "outputs": [
        {
          "output_type": "execute_result",
          "data": {
            "text/plain": [
              "scipy.sparse.csr.csr_matrix"
            ]
          },
          "metadata": {
            "tags": []
          },
          "execution_count": 23
        }
      ]
    },
    {
      "metadata": {
        "id": "sJHAQkBPqgNl",
        "colab_type": "code",
        "colab": {
          "autoexec": {
            "startup": false,
            "wait_interval": 0
          },
          "base_uri": "https://localhost:8080/",
          "height": 68
        },
        "outputId": "2d5f0c45-132b-49d3-9fae-985d8ca1ca04",
        "executionInfo": {
          "status": "ok",
          "timestamp": 1527328048365,
          "user_tz": -120,
          "elapsed": 548,
          "user": {
            "displayName": "",
            "photoUrl": "",
            "userId": ""
          }
        }
      },
      "cell_type": "code",
      "source": [
        "vector.toarray()"
      ],
      "execution_count": 24,
      "outputs": [
        {
          "output_type": "execute_result",
          "data": {
            "text/plain": [
              "array([[1, 1, 1, 0, 0, 2, 0, 1, 1],\n",
              "       [1, 0, 0, 1, 1, 0, 0, 1, 0],\n",
              "       [1, 0, 0, 0, 1, 0, 1, 1, 0]])"
            ]
          },
          "metadata": {
            "tags": []
          },
          "execution_count": 24
        }
      ]
    },
    {
      "metadata": {
        "id": "psPA_1WDqgNt",
        "colab_type": "text"
      },
      "cell_type": "markdown",
      "source": [
        "### TF-IDF"
      ]
    },
    {
      "metadata": {
        "id": "aAOEifkAqgNu",
        "colab_type": "code",
        "colab": {
          "autoexec": {
            "startup": false,
            "wait_interval": 0
          },
          "base_uri": "https://localhost:8080/",
          "height": 136
        },
        "outputId": "2aade34e-9d62-44a8-a2e1-5005d3b6f26c",
        "executionInfo": {
          "status": "ok",
          "timestamp": 1527328674694,
          "user_tz": -120,
          "elapsed": 522,
          "user": {
            "displayName": "",
            "photoUrl": "",
            "userId": ""
          }
        }
      },
      "cell_type": "code",
      "source": [
        "from sklearn.feature_extraction.text import TfidfVectorizer\n",
        "vectorizer = TfidfVectorizer(norm=None)\n",
        "vectorizer.fit(text)"
      ],
      "execution_count": 29,
      "outputs": [
        {
          "output_type": "execute_result",
          "data": {
            "text/plain": [
              "TfidfVectorizer(analyzer='word', binary=False, decode_error='strict',\n",
              "        dtype=<class 'numpy.int64'>, encoding='utf-8', input='content',\n",
              "        lowercase=True, max_df=1.0, max_features=None, min_df=1,\n",
              "        ngram_range=(1, 1), norm=None, preprocessor=None, smooth_idf=True,\n",
              "        stop_words=None, strip_accents=None, sublinear_tf=False,\n",
              "        token_pattern='(?u)\\\\b\\\\w\\\\w+\\\\b', tokenizer=None, use_idf=True,\n",
              "        vocabulary=None)"
            ]
          },
          "metadata": {
            "tags": []
          },
          "execution_count": 29
        }
      ]
    },
    {
      "metadata": {
        "id": "QudAJatHqgN6",
        "colab_type": "code",
        "colab": {
          "autoexec": {
            "startup": false,
            "wait_interval": 0
          },
          "base_uri": "https://localhost:8080/",
          "height": 119
        },
        "outputId": "17dba103-8968-4d0e-e6b9-73453fa082af",
        "executionInfo": {
          "status": "ok",
          "timestamp": 1527328676353,
          "user_tz": -120,
          "elapsed": 733,
          "user": {
            "displayName": "",
            "photoUrl": "",
            "userId": ""
          }
        }
      },
      "cell_type": "code",
      "source": [
        "vector = vectorizer.transform(text)\n",
        "vector.toarray()"
      ],
      "execution_count": 30,
      "outputs": [
        {
          "output_type": "execute_result",
          "data": {
            "text/plain": [
              "array([[1.        , 1.69314718, 1.69314718, 0.        , 0.        ,\n",
              "        3.38629436, 0.        , 1.        , 1.69314718],\n",
              "       [1.        , 0.        , 0.        , 1.69314718, 1.28768207,\n",
              "        0.        , 0.        , 1.        , 0.        ],\n",
              "       [1.        , 0.        , 0.        , 0.        , 1.28768207,\n",
              "        0.        , 1.69314718, 1.        , 0.        ]])"
            ]
          },
          "metadata": {
            "tags": []
          },
          "execution_count": 30
        }
      ]
    },
    {
      "metadata": {
        "id": "ZwtIbkPHuPV0",
        "colab_type": "code",
        "colab": {
          "autoexec": {
            "startup": false,
            "wait_interval": 0
          }
        }
      },
      "cell_type": "code",
      "source": [
        ""
      ],
      "execution_count": 0,
      "outputs": []
    }
  ]
}