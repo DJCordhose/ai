{
 "cells": [
  {
   "cell_type": "markdown",
   "metadata": {},
   "source": [
    "# Understanding Embeddings on Texts"
   ]
  },
  {
   "cell_type": "code",
   "execution_count": 1,
   "metadata": {},
   "outputs": [],
   "source": [
    "# Based on\n",
    "# https://github.com/fchollet/deep-learning-with-python-notebooks/blob/master/6.2-understanding-recurrent-neural-networks.ipynb"
   ]
  },
  {
   "cell_type": "code",
   "execution_count": 2,
   "metadata": {},
   "outputs": [],
   "source": [
    "import warnings\n",
    "warnings.filterwarnings('ignore')"
   ]
  },
  {
   "cell_type": "code",
   "execution_count": 3,
   "metadata": {},
   "outputs": [
    {
     "name": "stdout",
     "output_type": "stream",
     "text": [
      "Populating the interactive namespace from numpy and matplotlib\n"
     ]
    }
   ],
   "source": [
    "%matplotlib inline\n",
    "%pylab inline"
   ]
  },
  {
   "cell_type": "code",
   "execution_count": 4,
   "metadata": {},
   "outputs": [
    {
     "name": "stdout",
     "output_type": "stream",
     "text": [
      "1.8.0\n"
     ]
    }
   ],
   "source": [
    "import tensorflow as tf\n",
    "tf.logging.set_verbosity(tf.logging.ERROR)\n",
    "print(tf.__version__)"
   ]
  },
  {
   "cell_type": "code",
   "execution_count": 5,
   "metadata": {},
   "outputs": [],
   "source": [
    "# https://keras.io/datasets/#imdb-movie-reviews-sentiment-classification\n",
    "max_features = 1000  # number of words to consider as features\n",
    "maxlen = 20  # cut texts after this number of words (among top max_features most common words)\n",
    "\n",
    "# each review is encoded as a sequence of word indexes\n",
    "# indexed by overall frequency in the dataset\n",
    "# output is 0 (negative) or 1 (positive) \n",
    "imdb = tf.keras.datasets.imdb.load_data(num_words=max_features)\n",
    "(raw_input_train, y_train), (raw_input_test, y_test) = imdb"
   ]
  },
  {
   "cell_type": "code",
   "execution_count": 6,
   "metadata": {},
   "outputs": [],
   "source": [
    "# tf.keras.datasets.imdb.load_data?"
   ]
  },
  {
   "cell_type": "code",
   "execution_count": 7,
   "metadata": {},
   "outputs": [
    {
     "data": {
      "text/plain": [
       "0"
      ]
     },
     "execution_count": 7,
     "metadata": {},
     "output_type": "execute_result"
    }
   ],
   "source": [
    "y_train.min()"
   ]
  },
  {
   "cell_type": "code",
   "execution_count": 8,
   "metadata": {},
   "outputs": [
    {
     "data": {
      "text/plain": [
       "1"
      ]
     },
     "execution_count": 8,
     "metadata": {},
     "output_type": "execute_result"
    }
   ],
   "source": [
    "y_train.max()"
   ]
  },
  {
   "cell_type": "code",
   "execution_count": 9,
   "metadata": {},
   "outputs": [
    {
     "data": {
      "text/plain": [
       "25000"
      ]
     },
     "execution_count": 9,
     "metadata": {},
     "output_type": "execute_result"
    }
   ],
   "source": [
    "# 25000 texts\n",
    "len(raw_input_train)"
   ]
  },
  {
   "cell_type": "code",
   "execution_count": 10,
   "metadata": {},
   "outputs": [
    {
     "data": {
      "text/plain": [
       "218"
      ]
     },
     "execution_count": 10,
     "metadata": {},
     "output_type": "execute_result"
    }
   ],
   "source": [
    "# first text has 218 words\n",
    "len(raw_input_train[0])"
   ]
  },
  {
   "cell_type": "code",
   "execution_count": 11,
   "metadata": {},
   "outputs": [
    {
     "data": {
      "text/plain": [
       "[1,\n",
       " 14,\n",
       " 22,\n",
       " 16,\n",
       " 43,\n",
       " 530,\n",
       " 973,\n",
       " 2,\n",
       " 2,\n",
       " 65,\n",
       " 458,\n",
       " 2,\n",
       " 66,\n",
       " 2,\n",
       " 4,\n",
       " 173,\n",
       " 36,\n",
       " 256,\n",
       " 5,\n",
       " 25,\n",
       " 100,\n",
       " 43,\n",
       " 838,\n",
       " 112,\n",
       " 50,\n",
       " 670,\n",
       " 2,\n",
       " 9,\n",
       " 35,\n",
       " 480,\n",
       " 284,\n",
       " 5,\n",
       " 150,\n",
       " 4,\n",
       " 172,\n",
       " 112,\n",
       " 167,\n",
       " 2,\n",
       " 336,\n",
       " 385,\n",
       " 39,\n",
       " 4,\n",
       " 172,\n",
       " 2,\n",
       " 2,\n",
       " 17,\n",
       " 546,\n",
       " 38,\n",
       " 13,\n",
       " 447,\n",
       " 4,\n",
       " 192,\n",
       " 50,\n",
       " 16,\n",
       " 6,\n",
       " 147,\n",
       " 2,\n",
       " 19,\n",
       " 14,\n",
       " 22,\n",
       " 4,\n",
       " 2,\n",
       " 2,\n",
       " 469,\n",
       " 4,\n",
       " 22,\n",
       " 71,\n",
       " 87,\n",
       " 12,\n",
       " 16,\n",
       " 43,\n",
       " 530,\n",
       " 38,\n",
       " 76,\n",
       " 15,\n",
       " 13,\n",
       " 2,\n",
       " 4,\n",
       " 22,\n",
       " 17,\n",
       " 515,\n",
       " 17,\n",
       " 12,\n",
       " 16,\n",
       " 626,\n",
       " 18,\n",
       " 2,\n",
       " 5,\n",
       " 62,\n",
       " 386,\n",
       " 12,\n",
       " 8,\n",
       " 316,\n",
       " 8,\n",
       " 106,\n",
       " 5,\n",
       " 4,\n",
       " 2,\n",
       " 2,\n",
       " 16,\n",
       " 480,\n",
       " 66,\n",
       " 2,\n",
       " 33,\n",
       " 4,\n",
       " 130,\n",
       " 12,\n",
       " 16,\n",
       " 38,\n",
       " 619,\n",
       " 5,\n",
       " 25,\n",
       " 124,\n",
       " 51,\n",
       " 36,\n",
       " 135,\n",
       " 48,\n",
       " 25,\n",
       " 2,\n",
       " 33,\n",
       " 6,\n",
       " 22,\n",
       " 12,\n",
       " 215,\n",
       " 28,\n",
       " 77,\n",
       " 52,\n",
       " 5,\n",
       " 14,\n",
       " 407,\n",
       " 16,\n",
       " 82,\n",
       " 2,\n",
       " 8,\n",
       " 4,\n",
       " 107,\n",
       " 117,\n",
       " 2,\n",
       " 15,\n",
       " 256,\n",
       " 4,\n",
       " 2,\n",
       " 7,\n",
       " 2,\n",
       " 5,\n",
       " 723,\n",
       " 36,\n",
       " 71,\n",
       " 43,\n",
       " 530,\n",
       " 476,\n",
       " 26,\n",
       " 400,\n",
       " 317,\n",
       " 46,\n",
       " 7,\n",
       " 4,\n",
       " 2,\n",
       " 2,\n",
       " 13,\n",
       " 104,\n",
       " 88,\n",
       " 4,\n",
       " 381,\n",
       " 15,\n",
       " 297,\n",
       " 98,\n",
       " 32,\n",
       " 2,\n",
       " 56,\n",
       " 26,\n",
       " 141,\n",
       " 6,\n",
       " 194,\n",
       " 2,\n",
       " 18,\n",
       " 4,\n",
       " 226,\n",
       " 22,\n",
       " 21,\n",
       " 134,\n",
       " 476,\n",
       " 26,\n",
       " 480,\n",
       " 5,\n",
       " 144,\n",
       " 30,\n",
       " 2,\n",
       " 18,\n",
       " 51,\n",
       " 36,\n",
       " 28,\n",
       " 224,\n",
       " 92,\n",
       " 25,\n",
       " 104,\n",
       " 4,\n",
       " 226,\n",
       " 65,\n",
       " 16,\n",
       " 38,\n",
       " 2,\n",
       " 88,\n",
       " 12,\n",
       " 16,\n",
       " 283,\n",
       " 5,\n",
       " 16,\n",
       " 2,\n",
       " 113,\n",
       " 103,\n",
       " 32,\n",
       " 15,\n",
       " 16,\n",
       " 2,\n",
       " 19,\n",
       " 178,\n",
       " 32]"
      ]
     },
     "execution_count": 11,
     "metadata": {},
     "output_type": "execute_result"
    }
   ],
   "source": [
    "raw_input_train[0]"
   ]
  },
  {
   "cell_type": "code",
   "execution_count": 12,
   "metadata": {},
   "outputs": [],
   "source": [
    "# tf.keras.preprocessing.sequence.pad_sequences?"
   ]
  },
  {
   "cell_type": "code",
   "execution_count": 13,
   "metadata": {},
   "outputs": [],
   "source": [
    "# https://www.tensorflow.org/api_docs/python/tf/keras/preprocessing/sequence/pad_sequences\n",
    "\n",
    "input_train = tf.keras.preprocessing.sequence.pad_sequences(raw_input_train, maxlen=maxlen)\n",
    "input_test = tf.keras.preprocessing.sequence.pad_sequences(raw_input_test, maxlen=maxlen)"
   ]
  },
  {
   "cell_type": "code",
   "execution_count": 14,
   "metadata": {},
   "outputs": [
    {
     "data": {
      "text/plain": [
       "((25000, 20), (25000, 20), (25000,), (25000,))"
      ]
     },
     "execution_count": 14,
     "metadata": {},
     "output_type": "execute_result"
    }
   ],
   "source": [
    "input_train.shape, input_test.shape, y_train.shape, y_test.shape"
   ]
  },
  {
   "cell_type": "code",
   "execution_count": 15,
   "metadata": {},
   "outputs": [
    {
     "data": {
      "text/plain": [
       "array([ 65,  16,  38,   2,  88,  12,  16, 283,   5,  16,   2, 113, 103,\n",
       "        32,  15,  16,   2,  19, 178,  32])"
      ]
     },
     "execution_count": 15,
     "metadata": {},
     "output_type": "execute_result"
    }
   ],
   "source": [
    "# left padded with zeros\n",
    "# As a convention, \"0\" does not stand for a specific word, but instead is used to encode any unknown word.\n",
    "input_train[0]"
   ]
  },
  {
   "cell_type": "markdown",
   "metadata": {},
   "source": [
    "## We can use a randomly initialized embedding without any training"
   ]
  },
  {
   "cell_type": "code",
   "execution_count": 16,
   "metadata": {},
   "outputs": [],
   "source": [
    "# tf.keras.layers.Embedding?"
   ]
  },
  {
   "cell_type": "code",
   "execution_count": 17,
   "metadata": {},
   "outputs": [
    {
     "name": "stdout",
     "output_type": "stream",
     "text": [
      "_________________________________________________________________\n",
      "Layer (type)                 Output Shape              Param #   \n",
      "=================================================================\n",
      "embedding (Embedding)        (None, 20, 3)             3000      \n",
      "=================================================================\n",
      "Total params: 3,000\n",
      "Trainable params: 3,000\n",
      "Non-trainable params: 0\n",
      "_________________________________________________________________\n"
     ]
    }
   ],
   "source": [
    "embedding_dim = 3\n",
    "\n",
    "random_model = tf.keras.Sequential()\n",
    "# Parameters: max_features * embedding_dim \n",
    "random_model.add(tf.keras.layers.Embedding(name='embedding',input_dim=max_features, output_dim=embedding_dim, input_length=maxlen))\n",
    "\n",
    "random_model.summary()"
   ]
  },
  {
   "cell_type": "code",
   "execution_count": 18,
   "metadata": {},
   "outputs": [
    {
     "data": {
      "text/plain": [
       "array([[[0.07384551, 0.29555106, 0.3009336 ],\n",
       "        [0.45920503, 0.16309488, 0.46034312],\n",
       "        [0.39517987, 0.81220245, 0.6899681 ],\n",
       "        [0.13280201, 0.5241946 , 0.01194322],\n",
       "        [0.8166592 , 0.38502324, 0.5417099 ],\n",
       "        [0.7756258 , 0.04511654, 0.13022017],\n",
       "        [0.45920503, 0.16309488, 0.46034312],\n",
       "        [0.64187396, 0.67822623, 0.95672846],\n",
       "        [0.10987711, 0.07286727, 0.07477903],\n",
       "        [0.45920503, 0.16309488, 0.46034312],\n",
       "        [0.13280201, 0.5241946 , 0.01194322],\n",
       "        [0.32317853, 0.99291134, 0.70348394],\n",
       "        [0.71620905, 0.57316947, 0.35613513],\n",
       "        [0.14302993, 0.59799194, 0.8499563 ],\n",
       "        [0.00432396, 0.6946956 , 0.00477517],\n",
       "        [0.45920503, 0.16309488, 0.46034312],\n",
       "        [0.13280201, 0.5241946 , 0.01194322],\n",
       "        [0.5677427 , 0.4795617 , 0.4080261 ],\n",
       "        [0.16597784, 0.17524338, 0.966107  ],\n",
       "        [0.14302993, 0.59799194, 0.8499563 ]]], dtype=float32)"
      ]
     },
     "execution_count": 18,
     "metadata": {},
     "output_type": "execute_result"
    }
   ],
   "source": [
    "random_model.predict(input_train[:1])"
   ]
  },
  {
   "cell_type": "markdown",
   "metadata": {},
   "source": [
    "### Training the embedding together with the whole model is more reasonable\n",
    "Alternative: use a pre-trained model, probably trained using skip-gram"
   ]
  },
  {
   "cell_type": "code",
   "execution_count": 19,
   "metadata": {},
   "outputs": [
    {
     "name": "stdout",
     "output_type": "stream",
     "text": [
      "_________________________________________________________________\n",
      "Layer (type)                 Output Shape              Param #   \n",
      "=================================================================\n",
      "embedding (Embedding)        (None, 20, 3)             3000      \n",
      "_________________________________________________________________\n",
      "flatten (Flatten)            (None, 60)                0         \n",
      "_________________________________________________________________\n",
      "fc (Dense)                   (None, 32)                1952      \n",
      "_________________________________________________________________\n",
      "classifier (Dense)           (None, 1)                 33        \n",
      "=================================================================\n",
      "Total params: 4,985\n",
      "Trainable params: 4,985\n",
      "Non-trainable params: 0\n",
      "_________________________________________________________________\n"
     ]
    }
   ],
   "source": [
    "embedding_dim = 3\n",
    "\n",
    "model = tf.keras.Sequential()\n",
    "# Parameters: max_features * embedding_dim \n",
    "model.add(tf.keras.layers.Embedding(name='embedding', input_dim=max_features, output_dim=embedding_dim, input_length=maxlen))\n",
    "\n",
    "# Output: maxlen * embedding_dim (8)\n",
    "model.add(tf.keras.layers.Flatten(name='flatten'))\n",
    "\n",
    "# binary classifier\n",
    "model.add(tf.keras.layers.Dense(name='fc', units=32, activation='relu'))\n",
    "model.add(tf.keras.layers.Dense(name='classifier', units=1, activation='sigmoid'))\n",
    "\n",
    "model.compile(optimizer='adam', loss='binary_crossentropy', metrics=['accuracy'])\n",
    "\n",
    "model.summary()"
   ]
  },
  {
   "cell_type": "code",
   "execution_count": 20,
   "metadata": {},
   "outputs": [
    {
     "name": "stdout",
     "output_type": "stream",
     "text": [
      "Train on 20000 samples, validate on 5000 samples\n",
      "Epoch 1/10\n",
      "20000/20000 [==============================] - 2s 98us/step - loss: 0.6993 - acc: 0.5020 - val_loss: 0.6973 - val_acc: 0.4950\n",
      "Epoch 2/10\n",
      "20000/20000 [==============================] - 1s 34us/step - loss: 0.6925 - acc: 0.5262 - val_loss: 0.6930 - val_acc: 0.5206\n",
      "Epoch 3/10\n",
      "20000/20000 [==============================] - 1s 33us/step - loss: 0.6866 - acc: 0.5475 - val_loss: 0.6878 - val_acc: 0.5436\n",
      "Epoch 4/10\n",
      "20000/20000 [==============================] - 1s 33us/step - loss: 0.6748 - acc: 0.5829 - val_loss: 0.6739 - val_acc: 0.5782\n",
      "Epoch 5/10\n",
      "20000/20000 [==============================] - 1s 31us/step - loss: 0.6462 - acc: 0.6243 - val_loss: 0.6393 - val_acc: 0.6334\n",
      "Epoch 6/10\n",
      "20000/20000 [==============================] - 1s 32us/step - loss: 0.5993 - acc: 0.6727 - val_loss: 0.6052 - val_acc: 0.6646\n",
      "Epoch 7/10\n",
      "20000/20000 [==============================] - 1s 31us/step - loss: 0.5596 - acc: 0.7081 - val_loss: 0.5940 - val_acc: 0.6816\n",
      "Epoch 8/10\n",
      "20000/20000 [==============================] - 1s 30us/step - loss: 0.5357 - acc: 0.7265 - val_loss: 0.5652 - val_acc: 0.7074\n",
      "Epoch 9/10\n",
      "20000/20000 [==============================] - 1s 32us/step - loss: 0.5202 - acc: 0.7380 - val_loss: 0.5561 - val_acc: 0.7122\n",
      "Epoch 10/10\n",
      "20000/20000 [==============================] - 1s 32us/step - loss: 0.5099 - acc: 0.7437 - val_loss: 0.5533 - val_acc: 0.7142\n",
      "Wall time: 7.95 s\n"
     ]
    }
   ],
   "source": [
    "batch_size = 128\n",
    "\n",
    "%time history = model.fit(input_train, y_train, epochs=10, batch_size=batch_size, validation_split=0.2)"
   ]
  },
  {
   "cell_type": "code",
   "execution_count": 21,
   "metadata": {},
   "outputs": [
    {
     "name": "stdout",
     "output_type": "stream",
     "text": [
      "25000/25000 [==============================] - 0s 10us/step\n"
     ]
    },
    {
     "data": {
      "text/plain": [
       "0.745319999961853"
      ]
     },
     "execution_count": 21,
     "metadata": {},
     "output_type": "execute_result"
    }
   ],
   "source": [
    "train_loss, train_accuracy = model.evaluate(input_train, y_train, batch_size=batch_size)\n",
    "train_accuracy"
   ]
  },
  {
   "cell_type": "code",
   "execution_count": 22,
   "metadata": {},
   "outputs": [
    {
     "name": "stdout",
     "output_type": "stream",
     "text": [
      "25000/25000 [==============================] - 0s 9us/step\n"
     ]
    },
    {
     "data": {
      "text/plain": [
       "0.722879999961853"
      ]
     },
     "execution_count": 22,
     "metadata": {},
     "output_type": "execute_result"
    }
   ],
   "source": [
    "test_loss, test_accuracy = model.evaluate(input_test, y_test, batch_size=batch_size)\n",
    "test_accuracy"
   ]
  },
  {
   "cell_type": "code",
   "execution_count": 23,
   "metadata": {},
   "outputs": [
    {
     "data": {
      "text/plain": [
       "array([[0.7059556 ],\n",
       "       [0.8062973 ],\n",
       "       [0.45886868],\n",
       "       [0.64379567],\n",
       "       [0.96133244]], dtype=float32)"
      ]
     },
     "execution_count": 23,
     "metadata": {},
     "output_type": "execute_result"
    }
   ],
   "source": [
    "# precition\n",
    "model.predict(input_test[0:5])"
   ]
  },
  {
   "cell_type": "code",
   "execution_count": 24,
   "metadata": {},
   "outputs": [
    {
     "data": {
      "text/plain": [
       "array([0, 1, 1, 0, 1], dtype=int64)"
      ]
     },
     "execution_count": 24,
     "metadata": {},
     "output_type": "execute_result"
    }
   ],
   "source": [
    "# ground truth\n",
    "y_test[0:5]"
   ]
  },
  {
   "cell_type": "markdown",
   "metadata": {},
   "source": [
    "### How does the output of the trained embedding look like? "
   ]
  },
  {
   "cell_type": "code",
   "execution_count": 25,
   "metadata": {},
   "outputs": [],
   "source": [
    "embedding_layer = model.get_layer('embedding')"
   ]
  },
  {
   "cell_type": "code",
   "execution_count": 26,
   "metadata": {},
   "outputs": [],
   "source": [
    "model_stub= tf.keras.Model(inputs=model.input, outputs=embedding_layer.output)"
   ]
  },
  {
   "cell_type": "code",
   "execution_count": 27,
   "metadata": {},
   "outputs": [],
   "source": [
    "embedding_prediction = model_stub.predict(input_test[0:5])"
   ]
  },
  {
   "cell_type": "code",
   "execution_count": 28,
   "metadata": {},
   "outputs": [
    {
     "data": {
      "text/plain": [
       "(5, 20, 3)"
      ]
     },
     "execution_count": 28,
     "metadata": {},
     "output_type": "execute_result"
    }
   ],
   "source": [
    "# 5 sample reviews, 500 words per review, 8 dimensions per word\n",
    "embedding_prediction.shape"
   ]
  },
  {
   "cell_type": "code",
   "execution_count": 29,
   "metadata": {},
   "outputs": [
    {
     "data": {
      "text/plain": [
       "array([0.46506825, 0.18255262, 0.5230578 ], dtype=float32)"
      ]
     },
     "execution_count": 29,
     "metadata": {},
     "output_type": "execute_result"
    }
   ],
   "source": [
    "# 8 embedding dimensions of first word of first sample review\n",
    "embedding_prediction[0][0]"
   ]
  },
  {
   "cell_type": "markdown",
   "metadata": {},
   "source": [
    "### Comparing trained to untrained model"
   ]
  },
  {
   "cell_type": "code",
   "execution_count": 30,
   "metadata": {},
   "outputs": [
    {
     "data": {
      "text/plain": [
       "array([ 65,  16,  38,   2,  88,  12,  16, 283,   5,  16,   2, 113, 103,\n",
       "        32,  15,  16,   2,  19, 178,  32])"
      ]
     },
     "execution_count": 30,
     "metadata": {},
     "output_type": "execute_result"
    }
   ],
   "source": [
    "input_train[0]"
   ]
  },
  {
   "cell_type": "code",
   "execution_count": 31,
   "metadata": {},
   "outputs": [
    {
     "data": {
      "text/plain": [
       "array([[[ 0.43953612,  0.7414288 ,  0.37631312],\n",
       "        [ 0.54084265,  0.2680084 ,  0.7580117 ],\n",
       "        [ 0.4474395 ,  0.50141734,  0.5125725 ],\n",
       "        [ 0.76818293,  0.63989884,  0.7294859 ],\n",
       "        [-0.01756167,  0.33895952,  0.47610214],\n",
       "        [ 0.6234705 ,  0.6071456 ,  0.41210645],\n",
       "        [ 0.54084265,  0.2680084 ,  0.7580117 ],\n",
       "        [ 1.1229801 ,  0.3734608 ,  0.3536867 ],\n",
       "        [ 0.7051124 ,  0.707146  ,  0.3594228 ],\n",
       "        [ 0.54084265,  0.2680084 ,  0.7580117 ],\n",
       "        [ 0.76818293,  0.63989884,  0.7294859 ],\n",
       "        [ 0.94658554,  0.69197726,  0.5638408 ],\n",
       "        [ 0.7194364 ,  0.68996537,  0.4780143 ],\n",
       "        [ 0.72959805,  0.66114867,  0.5501039 ],\n",
       "        [ 0.17081198,  0.1380256 ,  0.1959505 ],\n",
       "        [ 0.54084265,  0.2680084 ,  0.7580117 ],\n",
       "        [ 0.76818293,  0.63989884,  0.7294859 ],\n",
       "        [ 0.795604  ,  0.80453324,  0.628472  ],\n",
       "        [ 0.3977472 ,  0.95927393,  0.50550807],\n",
       "        [ 0.72959805,  0.66114867,  0.5501039 ]]], dtype=float32)"
      ]
     },
     "execution_count": 31,
     "metadata": {},
     "output_type": "execute_result"
    }
   ],
   "source": [
    "model_stub.predict(input_train[:1])"
   ]
  },
  {
   "cell_type": "code",
   "execution_count": 32,
   "metadata": {},
   "outputs": [
    {
     "data": {
      "text/plain": [
       "array([[[0.07384551, 0.29555106, 0.3009336 ],\n",
       "        [0.45920503, 0.16309488, 0.46034312],\n",
       "        [0.39517987, 0.81220245, 0.6899681 ],\n",
       "        [0.13280201, 0.5241946 , 0.01194322],\n",
       "        [0.8166592 , 0.38502324, 0.5417099 ],\n",
       "        [0.7756258 , 0.04511654, 0.13022017],\n",
       "        [0.45920503, 0.16309488, 0.46034312],\n",
       "        [0.64187396, 0.67822623, 0.95672846],\n",
       "        [0.10987711, 0.07286727, 0.07477903],\n",
       "        [0.45920503, 0.16309488, 0.46034312],\n",
       "        [0.13280201, 0.5241946 , 0.01194322],\n",
       "        [0.32317853, 0.99291134, 0.70348394],\n",
       "        [0.71620905, 0.57316947, 0.35613513],\n",
       "        [0.14302993, 0.59799194, 0.8499563 ],\n",
       "        [0.00432396, 0.6946956 , 0.00477517],\n",
       "        [0.45920503, 0.16309488, 0.46034312],\n",
       "        [0.13280201, 0.5241946 , 0.01194322],\n",
       "        [0.5677427 , 0.4795617 , 0.4080261 ],\n",
       "        [0.16597784, 0.17524338, 0.966107  ],\n",
       "        [0.14302993, 0.59799194, 0.8499563 ]]], dtype=float32)"
      ]
     },
     "execution_count": 32,
     "metadata": {},
     "output_type": "execute_result"
    }
   ],
   "source": [
    "random_model.predict(input_train[:1])"
   ]
  },
  {
   "cell_type": "code",
   "execution_count": null,
   "metadata": {},
   "outputs": [],
   "source": []
  }
 ],
 "metadata": {
  "kernelspec": {
   "display_name": "Python 3",
   "language": "python",
   "name": "python3"
  },
  "language_info": {
   "codemirror_mode": {
    "name": "ipython",
    "version": 3
   },
   "file_extension": ".py",
   "mimetype": "text/x-python",
   "name": "python",
   "nbconvert_exporter": "python",
   "pygments_lexer": "ipython3",
   "version": "3.6.4"
  }
 },
 "nbformat": 4,
 "nbformat_minor": 2
}
