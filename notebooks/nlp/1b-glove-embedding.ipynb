{
 "cells": [
  {
   "cell_type": "markdown",
   "metadata": {},
   "source": [
    "# Using pretrained GloVe Embedding"
   ]
  },
  {
   "cell_type": "code",
   "execution_count": 1,
   "metadata": {},
   "outputs": [],
   "source": [
    "# Based on\n",
    "# https://github.com/fchollet/deep-learning-with-python-notebooks/blob/master/6.1-using-word-embeddings.ipynb\n",
    "# https://machinelearningmastery.com/develop-word-embeddings-python-gensim/"
   ]
  },
  {
   "cell_type": "code",
   "execution_count": 2,
   "metadata": {},
   "outputs": [],
   "source": [
    "import warnings\n",
    "warnings.filterwarnings('ignore')"
   ]
  },
  {
   "cell_type": "code",
   "execution_count": 3,
   "metadata": {},
   "outputs": [
    {
     "name": "stdout",
     "output_type": "stream",
     "text": [
      "Populating the interactive namespace from numpy and matplotlib\n"
     ]
    }
   ],
   "source": [
    "%matplotlib inline\n",
    "%pylab inline"
   ]
  },
  {
   "cell_type": "code",
   "execution_count": 4,
   "metadata": {},
   "outputs": [
    {
     "name": "stdout",
     "output_type": "stream",
     "text": [
      "1.8.0\n"
     ]
    }
   ],
   "source": [
    "import tensorflow as tf\n",
    "tf.logging.set_verbosity(tf.logging.ERROR)\n",
    "print(tf.__version__)"
   ]
  },
  {
   "cell_type": "markdown",
   "metadata": {},
   "source": [
    "### Download data:\n",
    "* original imdb database from http://ai.stanford.edu/~amaas/data/sentiment/\n",
    "* pre-computed GloVe embeddings from on Wikipedia data (6B) https://nlp.stanford.edu/projects/glove/"
   ]
  },
  {
   "cell_type": "code",
   "execution_count": 5,
   "metadata": {},
   "outputs": [],
   "source": [
    "import os\n",
    "\n",
    "imdb_dir = 'C:/Users/olive/Development/data/aclImdb'\n",
    "train_dir = os.path.join(imdb_dir, 'train')\n",
    "\n",
    "labels = []\n",
    "texts = []\n",
    "\n",
    "for label_type in ['neg', 'pos']:\n",
    "    dir_name = os.path.join(train_dir, label_type)\n",
    "    for fname in os.listdir(dir_name):\n",
    "        if fname[-4:] == '.txt':\n",
    "            f = open(os.path.join(dir_name, fname), encoding='UTF-8')\n",
    "            texts.append(f.read())\n",
    "            f.close()\n",
    "            if label_type == 'neg':\n",
    "                labels.append(0)\n",
    "            else:\n",
    "                labels.append(1)"
   ]
  },
  {
   "cell_type": "code",
   "execution_count": 6,
   "metadata": {},
   "outputs": [
    {
     "data": {
      "text/plain": [
       "25000"
      ]
     },
     "execution_count": 6,
     "metadata": {},
     "output_type": "execute_result"
    }
   ],
   "source": [
    "len(texts)"
   ]
  },
  {
   "cell_type": "code",
   "execution_count": 7,
   "metadata": {},
   "outputs": [
    {
     "name": "stderr",
     "output_type": "stream",
     "text": [
      "Using TensorFlow backend.\n"
     ]
    },
    {
     "name": "stdout",
     "output_type": "stream",
     "text": [
      "Found 88582 unique tokens.\n",
      "Shape of data tensor: (25000, 500)\n",
      "Shape of label tensor: (25000,)\n"
     ]
    }
   ],
   "source": [
    "from keras.preprocessing.text import Tokenizer\n",
    "from keras.preprocessing.sequence import pad_sequences\n",
    "import numpy as np\n",
    "\n",
    "maxlen = 500  # We will cut reviews after 100 words\n",
    "training_samples = 15000  # We will be training on 200 samples\n",
    "validation_samples = 10000  # We will be validating on 10000 samples\n",
    "max_words = 10000  # We will only consider the top 10,000 words in the dataset\n",
    "\n",
    "tokenizer = Tokenizer(num_words=max_words)\n",
    "tokenizer.fit_on_texts(texts)\n",
    "sequences = tokenizer.texts_to_sequences(texts)\n",
    "\n",
    "word_index = tokenizer.word_index\n",
    "print('Found %s unique tokens.' % len(word_index))\n",
    "\n",
    "data = pad_sequences(sequences, maxlen=maxlen)\n",
    "\n",
    "labels = np.asarray(labels)\n",
    "print('Shape of data tensor:', data.shape)\n",
    "print('Shape of label tensor:', labels.shape)\n",
    "\n",
    "# But first, shuffle the data, since we started from data\n",
    "# where sample are ordered (all negative first, then all positive).\n",
    "indices = np.arange(data.shape[0])\n",
    "np.random.shuffle(indices)\n",
    "data = data[indices]\n",
    "labels = labels[indices]"
   ]
  },
  {
   "cell_type": "code",
   "execution_count": 8,
   "metadata": {},
   "outputs": [],
   "source": [
    "from sklearn.model_selection import train_test_split"
   ]
  },
  {
   "cell_type": "code",
   "execution_count": 9,
   "metadata": {},
   "outputs": [],
   "source": [
    "x_train, x_test, y_train, y_test = train_test_split(data, labels, test_size=0.2, random_state=42, stratify=labels)"
   ]
  },
  {
   "cell_type": "code",
   "execution_count": 10,
   "metadata": {},
   "outputs": [
    {
     "data": {
      "text/plain": [
       "(20000, 500)"
      ]
     },
     "execution_count": 10,
     "metadata": {},
     "output_type": "execute_result"
    }
   ],
   "source": [
    "x_train.shape"
   ]
  },
  {
   "cell_type": "markdown",
   "metadata": {},
   "source": [
    "## With pre-defined and fixed embeddings, we can not be better than just guessing "
   ]
  },
  {
   "cell_type": "code",
   "execution_count": 11,
   "metadata": {},
   "outputs": [
    {
     "name": "stdout",
     "output_type": "stream",
     "text": [
      "Found 400000 word vectors.\n"
     ]
    }
   ],
   "source": [
    "glove_dir = 'C:/Users/olive/Development/data/glove.6B'\n",
    "\n",
    "embeddings_index = {}\n",
    "f = open(os.path.join(glove_dir, 'glove.6B.100d.txt'), encoding='UTF-8')\n",
    "for line in f:\n",
    "    values = line.split()\n",
    "    word = values[0]\n",
    "    coefs = np.asarray(values[1:], dtype='float32')\n",
    "    embeddings_index[word] = coefs\n",
    "f.close()\n",
    "\n",
    "print('Found %s word vectors.' % len(embeddings_index))"
   ]
  },
  {
   "cell_type": "code",
   "execution_count": 12,
   "metadata": {},
   "outputs": [],
   "source": [
    "embedding_dim = 100\n",
    "\n",
    "embedding_matrix = np.zeros((max_words, embedding_dim))\n",
    "for word, i in word_index.items():\n",
    "    embedding_vector = embeddings_index.get(word)\n",
    "    if i < max_words:\n",
    "        if embedding_vector is not None:\n",
    "            # Words not found in embedding index will be all-zeros.\n",
    "            embedding_matrix[i] = embedding_vector"
   ]
  },
  {
   "cell_type": "code",
   "execution_count": 13,
   "metadata": {},
   "outputs": [],
   "source": [
    "from keras.models import Sequential\n",
    "from keras.layers import Embedding, Flatten, Dense\n",
    "\n",
    "model = Sequential()\n",
    "model.add(Embedding(max_words, embedding_dim, input_length=maxlen))\n",
    "model.add(Flatten())\n",
    "model.add(Dense(32, activation='relu'))\n",
    "model.add(Dense(1, activation='sigmoid'))"
   ]
  },
  {
   "cell_type": "code",
   "execution_count": 14,
   "metadata": {},
   "outputs": [],
   "source": [
    "model.layers[0].set_weights([embedding_matrix])\n",
    "model.layers[0].trainable = False"
   ]
  },
  {
   "cell_type": "code",
   "execution_count": 15,
   "metadata": {},
   "outputs": [
    {
     "name": "stdout",
     "output_type": "stream",
     "text": [
      "_________________________________________________________________\n",
      "Layer (type)                 Output Shape              Param #   \n",
      "=================================================================\n",
      "embedding_1 (Embedding)      (None, 500, 100)          1000000   \n",
      "_________________________________________________________________\n",
      "flatten_1 (Flatten)          (None, 50000)             0         \n",
      "_________________________________________________________________\n",
      "dense_1 (Dense)              (None, 32)                1600032   \n",
      "_________________________________________________________________\n",
      "dense_2 (Dense)              (None, 1)                 33        \n",
      "=================================================================\n",
      "Total params: 2,600,065\n",
      "Trainable params: 1,600,065\n",
      "Non-trainable params: 1,000,000\n",
      "_________________________________________________________________\n"
     ]
    }
   ],
   "source": [
    "model.compile(optimizer='adam',\n",
    "              loss='binary_crossentropy',\n",
    "              metrics=['acc'])\n",
    "model.summary()"
   ]
  },
  {
   "cell_type": "code",
   "execution_count": 18,
   "metadata": {},
   "outputs": [
    {
     "name": "stdout",
     "output_type": "stream",
     "text": [
      "Train on 16000 samples, validate on 4000 samples\n",
      "Epoch 1/10\n",
      "16000/16000 [==============================] - 1s 48us/step - loss: 0.9644 - acc: 0.5029 - val_loss: 0.6932 - val_acc: 0.4945\n",
      "Epoch 2/10\n",
      "16000/16000 [==============================] - 0s 24us/step - loss: 0.6931 - acc: 0.5014 - val_loss: 0.6932 - val_acc: 0.4945\n",
      "Epoch 3/10\n",
      "16000/16000 [==============================] - 0s 23us/step - loss: 0.6931 - acc: 0.5014 - val_loss: 0.6932 - val_acc: 0.4945\n",
      "Epoch 4/10\n",
      "16000/16000 [==============================] - 0s 23us/step - loss: 0.6931 - acc: 0.5014 - val_loss: 0.6932 - val_acc: 0.4945\n",
      "Epoch 5/10\n",
      "16000/16000 [==============================] - 0s 23us/step - loss: 0.6931 - acc: 0.5014 - val_loss: 0.6932 - val_acc: 0.4945\n",
      "Epoch 6/10\n",
      "16000/16000 [==============================] - 0s 22us/step - loss: 0.6931 - acc: 0.5014 - val_loss: 0.6932 - val_acc: 0.4945\n",
      "Epoch 7/10\n",
      "16000/16000 [==============================] - 0s 23us/step - loss: 0.6931 - acc: 0.5014 - val_loss: 0.6932 - val_acc: 0.4945\n",
      "Epoch 8/10\n",
      "16000/16000 [==============================] - 0s 25us/step - loss: 0.6931 - acc: 0.5014 - val_loss: 0.6932 - val_acc: 0.4945\n",
      "Epoch 9/10\n",
      "16000/16000 [==============================] - 0s 23us/step - loss: 0.6931 - acc: 0.5014 - val_loss: 0.6932 - val_acc: 0.4945\n",
      "Epoch 10/10\n",
      "16000/16000 [==============================] - 0s 23us/step - loss: 0.6931 - acc: 0.5014 - val_loss: 0.6932 - val_acc: 0.4945\n"
     ]
    },
    {
     "data": {
      "text/plain": [
       "<keras.callbacks.History at 0x21de3d3db00>"
      ]
     },
     "execution_count": 18,
     "metadata": {},
     "output_type": "execute_result"
    }
   ],
   "source": [
    "batch_size=1000\n",
    "model.fit(x_train, y_train,\n",
    "                    epochs=10,\n",
    "                    batch_size=batch_size,\n",
    "                    validation_split=0.2)"
   ]
  },
  {
   "cell_type": "markdown",
   "metadata": {},
   "source": [
    "## Embedding trainable, but still pre-set"
   ]
  },
  {
   "cell_type": "code",
   "execution_count": 16,
   "metadata": {},
   "outputs": [],
   "source": [
    "model.layers[0].trainable = True"
   ]
  },
  {
   "cell_type": "code",
   "execution_count": 17,
   "metadata": {},
   "outputs": [
    {
     "name": "stdout",
     "output_type": "stream",
     "text": [
      "_________________________________________________________________\n",
      "Layer (type)                 Output Shape              Param #   \n",
      "=================================================================\n",
      "embedding_1 (Embedding)      (None, 500, 100)          1000000   \n",
      "_________________________________________________________________\n",
      "flatten_1 (Flatten)          (None, 50000)             0         \n",
      "_________________________________________________________________\n",
      "dense_1 (Dense)              (None, 32)                1600032   \n",
      "_________________________________________________________________\n",
      "dense_2 (Dense)              (None, 1)                 33        \n",
      "=================================================================\n",
      "Total params: 2,600,065\n",
      "Trainable params: 2,600,065\n",
      "Non-trainable params: 0\n",
      "_________________________________________________________________\n"
     ]
    }
   ],
   "source": [
    "model.compile(optimizer='adam',\n",
    "              loss='binary_crossentropy',\n",
    "              metrics=['acc'])\n",
    "model.summary()"
   ]
  },
  {
   "cell_type": "code",
   "execution_count": 19,
   "metadata": {},
   "outputs": [
    {
     "name": "stdout",
     "output_type": "stream",
     "text": [
      "Train on 16000 samples, validate on 4000 samples\n",
      "Epoch 1/100\n",
      "16000/16000 [==============================] - 1s 42us/step - loss: 0.6872 - acc: 0.5368 - val_loss: 0.6789 - val_acc: 0.5817\n",
      "Epoch 2/100\n",
      "16000/16000 [==============================] - 1s 38us/step - loss: 0.6610 - acc: 0.6124 - val_loss: 0.6483 - val_acc: 0.6625\n",
      "Epoch 3/100\n",
      "16000/16000 [==============================] - 1s 38us/step - loss: 0.6072 - acc: 0.7096 - val_loss: 0.6066 - val_acc: 0.7432\n",
      "Epoch 4/100\n",
      "16000/16000 [==============================] - 1s 39us/step - loss: 0.5435 - acc: 0.7864 - val_loss: 0.5704 - val_acc: 0.7510\n",
      "Epoch 5/100\n",
      "16000/16000 [==============================] - 1s 39us/step - loss: 0.4832 - acc: 0.8464 - val_loss: 0.5604 - val_acc: 0.7502\n",
      "Epoch 6/100\n",
      "16000/16000 [==============================] - 1s 38us/step - loss: 0.4364 - acc: 0.8869 - val_loss: 0.5564 - val_acc: 0.7625\n",
      "Epoch 7/100\n",
      "16000/16000 [==============================] - 1s 39us/step - loss: 0.4021 - acc: 0.9178 - val_loss: 0.5374 - val_acc: 0.7835\n",
      "Epoch 8/100\n",
      "16000/16000 [==============================] - 1s 39us/step - loss: 0.3759 - acc: 0.9381 - val_loss: 0.5360 - val_acc: 0.7850\n",
      "Epoch 9/100\n",
      "16000/16000 [==============================] - 1s 39us/step - loss: 0.3545 - acc: 0.9542 - val_loss: 0.5692 - val_acc: 0.7705\n",
      "Epoch 10/100\n",
      "16000/16000 [==============================] - 1s 38us/step - loss: 0.3373 - acc: 0.9657 - val_loss: 0.5695 - val_acc: 0.7745\n",
      "Epoch 11/100\n",
      "16000/16000 [==============================] - 1s 38us/step - loss: 0.3234 - acc: 0.9744 - val_loss: 0.5434 - val_acc: 0.7932\n",
      "Epoch 12/100\n",
      "16000/16000 [==============================] - 1s 38us/step - loss: 0.3124 - acc: 0.9794 - val_loss: 0.5617 - val_acc: 0.7863\n",
      "Epoch 13/100\n",
      "16000/16000 [==============================] - 1s 48us/step - loss: 0.3028 - acc: 0.9818 - val_loss: 0.5695 - val_acc: 0.7833\n",
      "Epoch 14/100\n",
      "16000/16000 [==============================] - 1s 39us/step - loss: 0.2945 - acc: 0.9855 - val_loss: 0.5963 - val_acc: 0.7738\n",
      "Epoch 15/100\n",
      "16000/16000 [==============================] - 1s 44us/step - loss: 0.2868 - acc: 0.9869 - val_loss: 0.6084 - val_acc: 0.7740\n",
      "Epoch 16/100\n",
      "16000/16000 [==============================] - 1s 38us/step - loss: 0.2801 - acc: 0.9880 - val_loss: 0.5977 - val_acc: 0.7805\n",
      "Epoch 17/100\n",
      "16000/16000 [==============================] - 1s 44us/step - loss: 0.2743 - acc: 0.9888 - val_loss: 0.6044 - val_acc: 0.7792\n",
      "Epoch 18/100\n",
      "16000/16000 [==============================] - 1s 43us/step - loss: 0.2689 - acc: 0.9893 - val_loss: 0.5978 - val_acc: 0.7815\n",
      "Epoch 19/100\n",
      "16000/16000 [==============================] - 1s 47us/step - loss: 0.2638 - acc: 0.9896 - val_loss: 0.6237 - val_acc: 0.7785\n",
      "Epoch 20/100\n",
      "16000/16000 [==============================] - 1s 39us/step - loss: 0.2592 - acc: 0.9897 - val_loss: 0.6219 - val_acc: 0.7778\n",
      "Epoch 21/100\n",
      "16000/16000 [==============================] - 1s 39us/step - loss: 0.2547 - acc: 0.9900 - val_loss: 0.6111 - val_acc: 0.7802\n",
      "Epoch 22/100\n",
      "16000/16000 [==============================] - 1s 39us/step - loss: 0.2507 - acc: 0.9902 - val_loss: 0.6323 - val_acc: 0.7755\n",
      "Epoch 23/100\n",
      "16000/16000 [==============================] - 1s 39us/step - loss: 0.2469 - acc: 0.9904 - val_loss: 0.6173 - val_acc: 0.7848\n",
      "Epoch 24/100\n",
      "16000/16000 [==============================] - 1s 39us/step - loss: 0.2432 - acc: 0.9903 - val_loss: 0.6383 - val_acc: 0.7770\n",
      "Epoch 25/100\n",
      "16000/16000 [==============================] - 1s 46us/step - loss: 0.2394 - acc: 0.9905 - val_loss: 0.6247 - val_acc: 0.7840\n",
      "Epoch 26/100\n",
      "16000/16000 [==============================] - 1s 41us/step - loss: 0.2358 - acc: 0.9907 - val_loss: 0.6301 - val_acc: 0.7830\n",
      "Epoch 27/100\n",
      "16000/16000 [==============================] - 1s 38us/step - loss: 0.2326 - acc: 0.9908 - val_loss: 0.6488 - val_acc: 0.7775\n",
      "Epoch 28/100\n",
      "16000/16000 [==============================] - 1s 38us/step - loss: 0.2293 - acc: 0.9909 - val_loss: 0.6674 - val_acc: 0.7778\n",
      "Epoch 29/100\n",
      "16000/16000 [==============================] - 1s 38us/step - loss: 0.2260 - acc: 0.9911 - val_loss: 0.6431 - val_acc: 0.7813\n",
      "Epoch 30/100\n",
      "16000/16000 [==============================] - 1s 38us/step - loss: 0.2228 - acc: 0.9912 - val_loss: 0.6520 - val_acc: 0.7793\n",
      "Epoch 31/100\n",
      "16000/16000 [==============================] - 1s 39us/step - loss: 0.2198 - acc: 0.9913 - val_loss: 0.6335 - val_acc: 0.7862\n",
      "Epoch 32/100\n",
      "16000/16000 [==============================] - 1s 38us/step - loss: 0.2170 - acc: 0.9913 - val_loss: 0.6423 - val_acc: 0.7847\n",
      "Epoch 33/100\n",
      "16000/16000 [==============================] - 1s 39us/step - loss: 0.2141 - acc: 0.9914 - val_loss: 0.6426 - val_acc: 0.7850\n",
      "Epoch 34/100\n",
      "16000/16000 [==============================] - 1s 40us/step - loss: 0.2114 - acc: 0.9914 - val_loss: 0.6552 - val_acc: 0.7815\n",
      "Epoch 35/100\n",
      "16000/16000 [==============================] - 1s 46us/step - loss: 0.2087 - acc: 0.9914 - val_loss: 0.6610 - val_acc: 0.7810\n",
      "Epoch 36/100\n",
      "16000/16000 [==============================] - 1s 40us/step - loss: 0.2061 - acc: 0.9914 - val_loss: 0.6650 - val_acc: 0.7807\n",
      "Epoch 37/100\n",
      "16000/16000 [==============================] - 1s 43us/step - loss: 0.2036 - acc: 0.9915 - val_loss: 0.6651 - val_acc: 0.7815\n",
      "Epoch 38/100\n",
      "16000/16000 [==============================] - 1s 48us/step - loss: 0.2012 - acc: 0.9915 - val_loss: 0.6144 - val_acc: 0.7950\n",
      "Epoch 39/100\n",
      "16000/16000 [==============================] - 1s 39us/step - loss: 0.1989 - acc: 0.9916 - val_loss: 0.6226 - val_acc: 0.7898\n",
      "Epoch 40/100\n",
      "16000/16000 [==============================] - 1s 39us/step - loss: 0.1963 - acc: 0.9917 - val_loss: 0.6475 - val_acc: 0.7880\n",
      "Epoch 41/100\n",
      "16000/16000 [==============================] - 1s 38us/step - loss: 0.1939 - acc: 0.9918 - val_loss: 0.6582 - val_acc: 0.7853\n",
      "Epoch 42/100\n",
      "16000/16000 [==============================] - 1s 39us/step - loss: 0.1916 - acc: 0.9918 - val_loss: 0.6269 - val_acc: 0.7923\n",
      "Epoch 43/100\n",
      "16000/16000 [==============================] - 1s 40us/step - loss: 0.1894 - acc: 0.9918 - val_loss: 0.6391 - val_acc: 0.7890\n",
      "Epoch 44/100\n",
      "16000/16000 [==============================] - 1s 39us/step - loss: 0.1872 - acc: 0.9918 - val_loss: 0.6819 - val_acc: 0.7823\n",
      "Epoch 45/100\n",
      "16000/16000 [==============================] - 1s 40us/step - loss: 0.1849 - acc: 0.9919 - val_loss: 0.6640 - val_acc: 0.7847\n",
      "Epoch 46/100\n",
      "16000/16000 [==============================] - 1s 39us/step - loss: 0.1828 - acc: 0.9919 - val_loss: 0.6694 - val_acc: 0.7850\n",
      "Epoch 47/100\n",
      "16000/16000 [==============================] - 1s 39us/step - loss: 0.1807 - acc: 0.9919 - val_loss: 0.6695 - val_acc: 0.7858\n",
      "Epoch 48/100\n",
      "16000/16000 [==============================] - 1s 40us/step - loss: 0.1787 - acc: 0.9919 - val_loss: 0.6683 - val_acc: 0.7855\n",
      "Epoch 49/100\n",
      "16000/16000 [==============================] - 1s 39us/step - loss: 0.1768 - acc: 0.9919 - val_loss: 0.6715 - val_acc: 0.7862\n",
      "Epoch 50/100\n",
      "16000/16000 [==============================] - 1s 40us/step - loss: 0.1748 - acc: 0.9919 - val_loss: 0.6796 - val_acc: 0.7843\n",
      "Epoch 51/100\n",
      "16000/16000 [==============================] - 1s 45us/step - loss: 0.1729 - acc: 0.9920 - val_loss: 0.6785 - val_acc: 0.7870\n",
      "Epoch 52/100\n",
      "16000/16000 [==============================] - 1s 46us/step - loss: 0.1710 - acc: 0.9921 - val_loss: 0.6753 - val_acc: 0.7863\n",
      "Epoch 53/100\n",
      "16000/16000 [==============================] - 1s 47us/step - loss: 0.1692 - acc: 0.9921 - val_loss: 0.6741 - val_acc: 0.7870\n",
      "Epoch 54/100\n",
      "16000/16000 [==============================] - 1s 43us/step - loss: 0.1674 - acc: 0.9921 - val_loss: 0.6638 - val_acc: 0.7885\n",
      "Epoch 55/100\n",
      "16000/16000 [==============================] - 1s 38us/step - loss: 0.1656 - acc: 0.9921 - val_loss: 0.6882 - val_acc: 0.7842\n",
      "Epoch 56/100\n",
      "16000/16000 [==============================] - 1s 39us/step - loss: 0.1639 - acc: 0.9921 - val_loss: 0.6967 - val_acc: 0.7845\n",
      "Epoch 57/100\n",
      "16000/16000 [==============================] - 1s 45us/step - loss: 0.1622 - acc: 0.9921 - val_loss: 0.6450 - val_acc: 0.7937\n",
      "Epoch 58/100\n",
      "16000/16000 [==============================] - 1s 40us/step - loss: 0.1606 - acc: 0.9921 - val_loss: 0.6689 - val_acc: 0.7903\n",
      "Epoch 59/100\n"
     ]
    },
    {
     "name": "stdout",
     "output_type": "stream",
     "text": [
      "16000/16000 [==============================] - 1s 51us/step - loss: 0.1589 - acc: 0.9921 - val_loss: 0.6605 - val_acc: 0.7913\n",
      "Epoch 60/100\n",
      "16000/16000 [==============================] - 1s 44us/step - loss: 0.1573 - acc: 0.9921 - val_loss: 0.6617 - val_acc: 0.7925\n",
      "Epoch 61/100\n",
      "16000/16000 [==============================] - 1s 38us/step - loss: 0.1556 - acc: 0.9921 - val_loss: 0.6859 - val_acc: 0.7860\n",
      "Epoch 62/100\n",
      "16000/16000 [==============================] - 1s 39us/step - loss: 0.1541 - acc: 0.9921 - val_loss: 0.6506 - val_acc: 0.7943\n",
      "Epoch 63/100\n",
      "16000/16000 [==============================] - 1s 39us/step - loss: 0.1525 - acc: 0.9921 - val_loss: 0.6791 - val_acc: 0.7890\n",
      "Epoch 64/100\n",
      "16000/16000 [==============================] - 1s 38us/step - loss: 0.1510 - acc: 0.9921 - val_loss: 0.6697 - val_acc: 0.7910\n",
      "Epoch 65/100\n",
      "16000/16000 [==============================] - 1s 39us/step - loss: 0.1496 - acc: 0.9921 - val_loss: 0.6740 - val_acc: 0.7903\n",
      "Epoch 66/100\n",
      "16000/16000 [==============================] - 1s 38us/step - loss: 0.1481 - acc: 0.9921 - val_loss: 0.6063 - val_acc: 0.8025\n",
      "Epoch 67/100\n",
      "16000/16000 [==============================] - 1s 40us/step - loss: 0.1466 - acc: 0.9923 - val_loss: 0.6194 - val_acc: 0.8043\n",
      "Epoch 68/100\n",
      "16000/16000 [==============================] - 1s 39us/step - loss: 0.1451 - acc: 0.9923 - val_loss: 0.6505 - val_acc: 0.7955\n",
      "Epoch 69/100\n",
      "16000/16000 [==============================] - 1s 43us/step - loss: 0.1436 - acc: 0.9923 - val_loss: 0.6921 - val_acc: 0.7888\n",
      "Epoch 70/100\n",
      "16000/16000 [==============================] - 1s 52us/step - loss: 0.1422 - acc: 0.9923 - val_loss: 0.6612 - val_acc: 0.7955\n",
      "Epoch 71/100\n",
      "16000/16000 [==============================] - 1s 44us/step - loss: 0.1409 - acc: 0.9923 - val_loss: 0.6552 - val_acc: 0.7955\n",
      "Epoch 72/100\n",
      "16000/16000 [==============================] - 1s 39us/step - loss: 0.1395 - acc: 0.9923 - val_loss: 0.6596 - val_acc: 0.7930\n",
      "Epoch 73/100\n",
      "16000/16000 [==============================] - 1s 39us/step - loss: 0.1380 - acc: 0.9923 - val_loss: 0.6735 - val_acc: 0.7933\n",
      "Epoch 74/100\n",
      "16000/16000 [==============================] - 1s 40us/step - loss: 0.1347 - acc: 0.9923 - val_loss: 0.6492 - val_acc: 0.7998\n",
      "Epoch 75/100\n",
      "16000/16000 [==============================] - 1s 38us/step - loss: 0.0960 - acc: 0.9917 - val_loss: 0.5333 - val_acc: 0.8188\n",
      "Epoch 76/100\n",
      "16000/16000 [==============================] - 1s 44us/step - loss: 0.0613 - acc: 0.9923 - val_loss: 0.5085 - val_acc: 0.8255\n",
      "Epoch 77/100\n",
      "16000/16000 [==============================] - 1s 45us/step - loss: 0.0388 - acc: 0.9951 - val_loss: 0.5118 - val_acc: 0.8268\n",
      "Epoch 78/100\n",
      "16000/16000 [==============================] - 1s 46us/step - loss: 0.0271 - acc: 0.9976 - val_loss: 0.5027 - val_acc: 0.8375\n",
      "Epoch 79/100\n",
      "16000/16000 [==============================] - 1s 45us/step - loss: 0.0213 - acc: 0.9979 - val_loss: 0.5071 - val_acc: 0.8413\n",
      "Epoch 80/100\n",
      "16000/16000 [==============================] - 1s 44us/step - loss: 0.0177 - acc: 0.9983 - val_loss: 0.4935 - val_acc: 0.8400\n",
      "Epoch 81/100\n",
      "16000/16000 [==============================] - 1s 38us/step - loss: 0.0122 - acc: 0.9983 - val_loss: 0.5265 - val_acc: 0.8390\n",
      "Epoch 82/100\n",
      "16000/16000 [==============================] - 1s 38us/step - loss: 0.0075 - acc: 0.9988 - val_loss: 0.5365 - val_acc: 0.8403\n",
      "Epoch 83/100\n",
      "16000/16000 [==============================] - 1s 39us/step - loss: 0.0038 - acc: 0.9995 - val_loss: 0.5224 - val_acc: 0.8410\n",
      "Epoch 84/100\n",
      "16000/16000 [==============================] - 1s 38us/step - loss: 0.0027 - acc: 0.9995 - val_loss: 0.5318 - val_acc: 0.8425\n",
      "Epoch 85/100\n",
      "16000/16000 [==============================] - 1s 40us/step - loss: 0.0024 - acc: 0.9995 - val_loss: 0.5392 - val_acc: 0.8427\n",
      "Epoch 86/100\n",
      "16000/16000 [==============================] - 1s 52us/step - loss: 0.0022 - acc: 0.9995 - val_loss: 0.5504 - val_acc: 0.8413\n",
      "Epoch 87/100\n",
      "16000/16000 [==============================] - 1s 43us/step - loss: 0.0020 - acc: 0.9995 - val_loss: 0.5602 - val_acc: 0.8433\n",
      "Epoch 88/100\n",
      "16000/16000 [==============================] - 1s 44us/step - loss: 0.0018 - acc: 0.9995 - val_loss: 0.5617 - val_acc: 0.8430\n",
      "Epoch 89/100\n",
      "16000/16000 [==============================] - 1s 42us/step - loss: 0.0016 - acc: 0.9995 - val_loss: 0.5696 - val_acc: 0.8457\n",
      "Epoch 90/100\n",
      "16000/16000 [==============================] - 1s 45us/step - loss: 0.0015 - acc: 0.9995 - val_loss: 0.5790 - val_acc: 0.8458\n",
      "Epoch 91/100\n",
      "16000/16000 [==============================] - 1s 45us/step - loss: 0.0014 - acc: 0.9995 - val_loss: 0.5847 - val_acc: 0.8462\n",
      "Epoch 92/100\n",
      "16000/16000 [==============================] - 1s 44us/step - loss: 0.0014 - acc: 0.9995 - val_loss: 0.5987 - val_acc: 0.8452\n",
      "Epoch 93/100\n",
      "16000/16000 [==============================] - 1s 41us/step - loss: 0.0013 - acc: 0.9995 - val_loss: 0.6000 - val_acc: 0.8448\n",
      "Epoch 94/100\n",
      "16000/16000 [==============================] - 1s 45us/step - loss: 0.0013 - acc: 0.9995 - val_loss: 0.6159 - val_acc: 0.8443\n",
      "Epoch 95/100\n",
      "16000/16000 [==============================] - 1s 42us/step - loss: 0.0012 - acc: 0.9995 - val_loss: 0.6180 - val_acc: 0.8452\n",
      "Epoch 96/100\n",
      "16000/16000 [==============================] - 1s 43us/step - loss: 0.0012 - acc: 0.9995 - val_loss: 0.6153 - val_acc: 0.8462\n",
      "Epoch 97/100\n",
      "16000/16000 [==============================] - 1s 40us/step - loss: 0.0012 - acc: 0.9995 - val_loss: 0.6228 - val_acc: 0.8450\n",
      "Epoch 98/100\n",
      "16000/16000 [==============================] - 1s 39us/step - loss: 0.0011 - acc: 0.9995 - val_loss: 0.6329 - val_acc: 0.8442\n",
      "Epoch 99/100\n",
      "16000/16000 [==============================] - 1s 40us/step - loss: 0.0011 - acc: 0.9995 - val_loss: 0.6409 - val_acc: 0.8428\n",
      "Epoch 100/100\n",
      "16000/16000 [==============================] - 1s 40us/step - loss: 0.0011 - acc: 0.9995 - val_loss: 0.6398 - val_acc: 0.8438\n"
     ]
    },
    {
     "data": {
      "text/plain": [
       "<keras.callbacks.History at 0x23800b68cc0>"
      ]
     },
     "execution_count": 19,
     "metadata": {},
     "output_type": "execute_result"
    }
   ],
   "source": [
    "batch_size=1000\n",
    "model.fit(x_train, y_train,\n",
    "                    epochs=20,\n",
    "                    batch_size=batch_size,\n",
    "                    validation_split=0.2)"
   ]
  },
  {
   "cell_type": "markdown",
   "metadata": {},
   "source": [
    "## Embeddings trained from scratch"
   ]
  },
  {
   "cell_type": "code",
   "execution_count": 20,
   "metadata": {},
   "outputs": [
    {
     "name": "stdout",
     "output_type": "stream",
     "text": [
      "_________________________________________________________________\n",
      "Layer (type)                 Output Shape              Param #   \n",
      "=================================================================\n",
      "embedding_2 (Embedding)      (None, 500, 100)          1000000   \n",
      "_________________________________________________________________\n",
      "flatten_2 (Flatten)          (None, 50000)             0         \n",
      "_________________________________________________________________\n",
      "dense_3 (Dense)              (None, 32)                1600032   \n",
      "_________________________________________________________________\n",
      "dense_4 (Dense)              (None, 1)                 33        \n",
      "=================================================================\n",
      "Total params: 2,600,065\n",
      "Trainable params: 2,600,065\n",
      "Non-trainable params: 0\n",
      "_________________________________________________________________\n"
     ]
    }
   ],
   "source": [
    "from keras.models import Sequential\n",
    "from keras.layers import Embedding, Flatten, Dense\n",
    "\n",
    "model = Sequential()\n",
    "model.add(Embedding(max_words, embedding_dim, input_length=maxlen))\n",
    "model.add(Flatten())\n",
    "model.add(Dense(32, activation='relu'))\n",
    "model.add(Dense(1, activation='sigmoid'))\n",
    "\n",
    "model.compile(optimizer='adam',\n",
    "              loss='binary_crossentropy',\n",
    "              metrics=['acc'])\n",
    "model.summary()"
   ]
  },
  {
   "cell_type": "code",
   "execution_count": 21,
   "metadata": {},
   "outputs": [
    {
     "name": "stdout",
     "output_type": "stream",
     "text": [
      "Train on 16000 samples, validate on 4000 samples\n",
      "Epoch 1/10\n",
      "16000/16000 [==============================] - 1s 60us/step - loss: 0.7110 - acc: 0.5105 - val_loss: 0.6878 - val_acc: 0.5138\n",
      "Epoch 2/10\n",
      "16000/16000 [==============================] - 1s 38us/step - loss: 0.6634 - acc: 0.5683 - val_loss: 0.6735 - val_acc: 0.5337\n",
      "Epoch 3/10\n",
      "16000/16000 [==============================] - 1s 39us/step - loss: 0.6034 - acc: 0.6673 - val_loss: 0.5625 - val_acc: 0.7602\n",
      "Epoch 4/10\n",
      "16000/16000 [==============================] - 1s 41us/step - loss: 0.4082 - acc: 0.8406 - val_loss: 0.3716 - val_acc: 0.8425\n",
      "Epoch 5/10\n",
      "16000/16000 [==============================] - 1s 46us/step - loss: 0.2298 - acc: 0.9159 - val_loss: 0.2989 - val_acc: 0.8720\n",
      "Epoch 6/10\n",
      "16000/16000 [==============================] - 1s 38us/step - loss: 0.1364 - acc: 0.9556 - val_loss: 0.2882 - val_acc: 0.8760\n",
      "Epoch 7/10\n",
      "16000/16000 [==============================] - 1s 37us/step - loss: 0.0784 - acc: 0.9809 - val_loss: 0.2911 - val_acc: 0.8812\n",
      "Epoch 8/10\n",
      "16000/16000 [==============================] - 1s 41us/step - loss: 0.0419 - acc: 0.9928 - val_loss: 0.3028 - val_acc: 0.8802\n",
      "Epoch 9/10\n",
      "16000/16000 [==============================] - 1s 38us/step - loss: 0.0197 - acc: 0.9984 - val_loss: 0.3207 - val_acc: 0.8788\n",
      "Epoch 10/10\n",
      "16000/16000 [==============================] - 1s 39us/step - loss: 0.0100 - acc: 0.9996 - val_loss: 0.3380 - val_acc: 0.8787\n"
     ]
    },
    {
     "data": {
      "text/plain": [
       "<keras.callbacks.History at 0x238232c1898>"
      ]
     },
     "execution_count": 21,
     "metadata": {},
     "output_type": "execute_result"
    }
   ],
   "source": [
    "batch_size=1000\n",
    "model.fit(x_train, y_train,\n",
    "                    epochs=10,\n",
    "                    batch_size=batch_size,\n",
    "                    validation_split=0.2)"
   ]
  },
  {
   "cell_type": "code",
   "execution_count": 23,
   "metadata": {},
   "outputs": [
    {
     "name": "stdout",
     "output_type": "stream",
     "text": [
      "20000/20000 [==============================] - 0s 17us/step\n"
     ]
    },
    {
     "data": {
      "text/plain": [
       "0.9756000012159347"
      ]
     },
     "execution_count": 23,
     "metadata": {},
     "output_type": "execute_result"
    }
   ],
   "source": [
    "train_loss, train_accuracy = model.evaluate(x_train, y_train, batch_size=batch_size)\n",
    "train_accuracy"
   ]
  },
  {
   "cell_type": "code",
   "execution_count": 24,
   "metadata": {},
   "outputs": [
    {
     "name": "stdout",
     "output_type": "stream",
     "text": [
      "5000/5000 [==============================] - 0s 16us/step\n"
     ]
    },
    {
     "data": {
      "text/plain": [
       "0.8834000110626221"
      ]
     },
     "execution_count": 24,
     "metadata": {},
     "output_type": "execute_result"
    }
   ],
   "source": [
    "test_loss, test_accuracy = model.evaluate(x_test, y_test, batch_size=batch_size)\n",
    "test_accuracy"
   ]
  },
  {
   "cell_type": "code",
   "execution_count": null,
   "metadata": {},
   "outputs": [],
   "source": []
  }
 ],
 "metadata": {
  "kernelspec": {
   "display_name": "Python 3",
   "language": "python",
   "name": "python3"
  },
  "language_info": {
   "codemirror_mode": {
    "name": "ipython",
    "version": 3
   },
   "file_extension": ".py",
   "mimetype": "text/x-python",
   "name": "python",
   "nbconvert_exporter": "python",
   "pygments_lexer": "ipython3",
   "version": "3.6.4"
  }
 },
 "nbformat": 4,
 "nbformat_minor": 2
}
