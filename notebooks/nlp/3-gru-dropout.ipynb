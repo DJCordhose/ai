{
  "nbformat": 4,
  "nbformat_minor": 0,
  "metadata": {
    "colab": {
      "name": "3-gru-dropout.ipynb",
      "version": "0.3.2",
      "provenance": [],
      "include_colab_link": true
    },
    "kernelspec": {
      "display_name": "Python 3",
      "language": "python",
      "name": "python3"
    },
    "accelerator": "GPU"
  },
  "cells": [
    {
      "cell_type": "markdown",
      "metadata": {
        "id": "view-in-github",
        "colab_type": "text"
      },
      "source": [
        "[View in Colaboratory](https://colab.research.google.com/github/DJCordhose/ai/blob/master/notebooks/nlp/3-gru-dropout.ipynb)"
      ]
    },
    {
      "metadata": {
        "id": "T75AEjf5E4T9",
        "colab_type": "code",
        "colab": {}
      },
      "cell_type": "code",
      "source": [
        "# Based on\n",
        "# https://github.com/fchollet/deep-learning-with-python-notebooks/blob/master/6.2-understanding-recurrent-neural-networks.ipynb"
      ],
      "execution_count": 0,
      "outputs": []
    },
    {
      "metadata": {
        "id": "CmMl2WLBE4UD",
        "colab_type": "code",
        "colab": {}
      },
      "cell_type": "code",
      "source": [
        "import warnings\n",
        "warnings.filterwarnings('ignore')"
      ],
      "execution_count": 0,
      "outputs": []
    },
    {
      "metadata": {
        "id": "DRj8LUQVE4UG",
        "colab_type": "code",
        "colab": {
          "base_uri": "https://localhost:8080/",
          "height": 34
        },
        "outputId": "026e69f3-b0d7-41f6-f6a6-dca50d25b01f"
      },
      "cell_type": "code",
      "source": [
        "%matplotlib inline\n",
        "%pylab inline"
      ],
      "execution_count": 3,
      "outputs": [
        {
          "output_type": "stream",
          "text": [
            "Populating the interactive namespace from numpy and matplotlib\n"
          ],
          "name": "stdout"
        }
      ]
    },
    {
      "metadata": {
        "id": "g4WHkdRZLRk_",
        "colab_type": "code",
        "colab": {
          "base_uri": "https://localhost:8080/",
          "height": 34
        },
        "outputId": "d54692e1-e0d0-4705-ce8f-ce764027c6b9"
      },
      "cell_type": "code",
      "source": [
        "import pandas as pd\n",
        "print(pd.__version__)"
      ],
      "execution_count": 22,
      "outputs": [
        {
          "output_type": "stream",
          "text": [
            "0.22.0\n"
          ],
          "name": "stdout"
        }
      ]
    },
    {
      "metadata": {
        "id": "8tTI5etaE4UM",
        "colab_type": "code",
        "colab": {
          "base_uri": "https://localhost:8080/",
          "height": 34
        },
        "outputId": "b34d1ac2-2500-4b69-fddc-a4c0696b7117"
      },
      "cell_type": "code",
      "source": [
        "import tensorflow as tf\n",
        "tf.logging.set_verbosity(tf.logging.ERROR)\n",
        "print(tf.__version__)"
      ],
      "execution_count": 4,
      "outputs": [
        {
          "output_type": "stream",
          "text": [
            "1.11.0-rc2\n"
          ],
          "name": "stdout"
        }
      ]
    },
    {
      "metadata": {
        "id": "Gq7zl4ChHDW2",
        "colab_type": "code",
        "colab": {
          "base_uri": "https://localhost:8080/",
          "height": 51
        },
        "outputId": "9cdb0247-1605-42fb-b036-9014ef8f73e8"
      },
      "cell_type": "code",
      "source": [
        "# let's see what compute devices we have available, hopefully a GPU \n",
        "sess = tf.Session()\n",
        "devices = sess.list_devices()\n",
        "for d in devices:\n",
        "    print(d.name)"
      ],
      "execution_count": 5,
      "outputs": [
        {
          "output_type": "stream",
          "text": [
            "/job:localhost/replica:0/task:0/device:CPU:0\n",
            "/job:localhost/replica:0/task:0/device:GPU:0\n"
          ],
          "name": "stdout"
        }
      ]
    },
    {
      "metadata": {
        "id": "kekeUvFvHD2Q",
        "colab_type": "code",
        "colab": {
          "base_uri": "https://localhost:8080/",
          "height": 34
        },
        "outputId": "be22d1ed-b695-4619-a7d9-01be98dd04bf"
      },
      "cell_type": "code",
      "source": [
        "# a small sanity check, does tf seem to work ok?\n",
        "hello = tf.constant('Hello TF!')\n",
        "print(sess.run(hello))"
      ],
      "execution_count": 6,
      "outputs": [
        {
          "output_type": "stream",
          "text": [
            "b'Hello TF!'\n"
          ],
          "name": "stdout"
        }
      ]
    },
    {
      "metadata": {
        "id": "aeEboZW5HFem",
        "colab_type": "code",
        "colab": {
          "base_uri": "https://localhost:8080/",
          "height": 34
        },
        "outputId": "28ee7d89-1af8-427b-e2df-c86130184244"
      },
      "cell_type": "code",
      "source": [
        "from tensorflow import keras\n",
        "print(keras.__version__)"
      ],
      "execution_count": 7,
      "outputs": [
        {
          "output_type": "stream",
          "text": [
            "2.1.6-tf\n"
          ],
          "name": "stdout"
        }
      ]
    },
    {
      "metadata": {
        "id": "sfRL4VqPE4UQ",
        "colab_type": "code",
        "colab": {}
      },
      "cell_type": "code",
      "source": [
        "# https://keras.io/datasets/#imdb-movie-reviews-sentiment-classification\n",
        "max_features = 10000  # number of words to consider as features\n",
        "maxlen = 500  # cut texts after this number of words (among top max_features most common words)\n",
        "\n",
        "# each review is encoded as a sequence of word indexes\n",
        "# indexed by overall frequency in the dataset\n",
        "# output is 0 (negative) or 1 (positive) \n",
        "imdb = tf.keras.datasets.imdb.load_data(num_words=max_features)\n",
        "(raw_input_train, y_train), (raw_input_test, y_test) = imdb"
      ],
      "execution_count": 0,
      "outputs": []
    },
    {
      "metadata": {
        "id": "25wWeNi3E4US",
        "colab_type": "code",
        "colab": {}
      },
      "cell_type": "code",
      "source": [
        "# https://www.tensorflow.org/api_docs/python/tf/keras/preprocessing/sequence/pad_sequences\n",
        "\n",
        "input_train = tf.keras.preprocessing.sequence.pad_sequences(raw_input_train, maxlen=maxlen)\n",
        "input_test = tf.keras.preprocessing.sequence.pad_sequences(raw_input_test, maxlen=maxlen)"
      ],
      "execution_count": 0,
      "outputs": []
    },
    {
      "metadata": {
        "id": "DCFbJC5-E4UV",
        "colab_type": "code",
        "colab": {
          "base_uri": "https://localhost:8080/",
          "height": 34
        },
        "outputId": "881082d8-02e2-4906-d22d-997b1c0a6157"
      },
      "cell_type": "code",
      "source": [
        "input_train.shape, input_test.shape, y_train.shape, y_test.shape"
      ],
      "execution_count": 10,
      "outputs": [
        {
          "output_type": "execute_result",
          "data": {
            "text/plain": [
              "((25000, 500), (25000, 500), (25000,), (25000,))"
            ]
          },
          "metadata": {
            "tags": []
          },
          "execution_count": 10
        }
      ]
    },
    {
      "metadata": {
        "id": "UlOcxpZdE4UZ",
        "colab_type": "text"
      },
      "cell_type": "markdown",
      "source": [
        "## GRU"
      ]
    },
    {
      "metadata": {
        "id": "xkT4nJaTE4Ua",
        "colab_type": "code",
        "colab": {}
      },
      "cell_type": "code",
      "source": [
        "# tf.keras.layers.GRU?"
      ],
      "execution_count": 0,
      "outputs": []
    },
    {
      "metadata": {
        "id": "IPPF9sA8E4Uc",
        "colab_type": "code",
        "colab": {
          "base_uri": "https://localhost:8080/",
          "height": 442
        },
        "outputId": "604f950f-890f-4634-f377-d52082242000"
      },
      "cell_type": "code",
      "source": [
        "# Batch Normalization:\n",
        "# https://towardsdatascience.com/batch-normalization-in-neural-networks-1ac91516821c\n",
        "# https://www.quora.com/Why-does-batch-normalization-help\n",
        "\n",
        "embedding_dim = 32\n",
        "dropout = 0.15\n",
        "recurrent_dropout = 0.2\n",
        "\n",
        "model = tf.keras.Sequential()\n",
        "model.add(tf.keras.layers.Embedding(name='embedding', input_dim=max_features, output_dim=embedding_dim, input_length=maxlen))\n",
        "\n",
        "\n",
        "# https://arxiv.org/ftp/arxiv/papers/1701/1701.05923.pdf\n",
        "# n = output dimension\n",
        "# m = input dimension\n",
        "# Total number of parameters for \n",
        "# RNN = n**2 + nm + n\n",
        "# GRU = 3 × (n**2 + nm + n)\n",
        "# LSTM = 4 × (n**2 + nm + n)\n",
        "\n",
        "\n",
        "model.add(tf.keras.layers.GRU(name='gru1', units=32, dropout=dropout, recurrent_dropout=recurrent_dropout, return_sequences=True))\n",
        "\n",
        "# for embedding: 32*2 (“standard deviation” parameter (gamma), “mean” parameter (beta)) trainable parameters\n",
        "# and 32*2 (moving_mean and moving_variance) non-trainable parameters\n",
        "model.add(tf.keras.layers.BatchNormalization())  \n",
        "model.add(tf.keras.layers.Dropout(dropout))\n",
        "\n",
        "# stack recurrent layers like with fc\n",
        "model.add(tf.keras.layers.GRU(name='gru2', units=32))\n",
        "\n",
        "model.add(tf.keras.layers.BatchNormalization())\n",
        "model.add(tf.keras.layers.Dropout(dropout))\n",
        "\n",
        "\n",
        "# binary classifier\n",
        "model.add(tf.keras.layers.Dense(name='fc', units=32, activation='relu'))\n",
        "model.add(tf.keras.layers.Dense(name='classifier', units=1, activation='sigmoid'))\n",
        "\n",
        "model.compile(optimizer='adam', loss='binary_crossentropy', metrics=['accuracy'])\n",
        "# model.compile(optimizer='rmsprop', loss='binary_crossentropy', metrics=['accuracy'])\n",
        "\n",
        "model.summary()"
      ],
      "execution_count": 12,
      "outputs": [
        {
          "output_type": "stream",
          "text": [
            "_________________________________________________________________\n",
            "Layer (type)                 Output Shape              Param #   \n",
            "=================================================================\n",
            "embedding (Embedding)        (None, 500, 32)           320000    \n",
            "_________________________________________________________________\n",
            "gru1 (GRU)                   (None, 500, 32)           6240      \n",
            "_________________________________________________________________\n",
            "batch_normalization (BatchNo (None, 500, 32)           128       \n",
            "_________________________________________________________________\n",
            "dropout (Dropout)            (None, 500, 32)           0         \n",
            "_________________________________________________________________\n",
            "gru2 (GRU)                   (None, 32)                6240      \n",
            "_________________________________________________________________\n",
            "batch_normalization_1 (Batch (None, 32)                128       \n",
            "_________________________________________________________________\n",
            "dropout_1 (Dropout)          (None, 32)                0         \n",
            "_________________________________________________________________\n",
            "fc (Dense)                   (None, 32)                1056      \n",
            "_________________________________________________________________\n",
            "classifier (Dense)           (None, 1)                 33        \n",
            "=================================================================\n",
            "Total params: 333,825\n",
            "Trainable params: 333,697\n",
            "Non-trainable params: 128\n",
            "_________________________________________________________________\n"
          ],
          "name": "stdout"
        }
      ]
    },
    {
      "metadata": {
        "id": "HWkNDuKqE4Ug",
        "colab_type": "code",
        "colab": {
          "base_uri": "https://localhost:8080/",
          "height": 408
        },
        "outputId": "a35f7d74-baaa-4bdc-9ea3-eea9a8cc9286"
      },
      "cell_type": "code",
      "source": [
        "batch_size = 1000\n",
        "\n",
        "%time history = model.fit(input_train, y_train, epochs=10, batch_size=batch_size, validation_split=0.2)"
      ],
      "execution_count": 13,
      "outputs": [
        {
          "output_type": "stream",
          "text": [
            "Train on 20000 samples, validate on 5000 samples\n",
            "Epoch 1/10\n",
            "20000/20000 [==============================] - 59s 3ms/step - loss: 0.7206 - acc: 0.5463 - val_loss: 0.6929 - val_acc: 0.5062\n",
            "Epoch 2/10\n",
            "20000/20000 [==============================] - 57s 3ms/step - loss: 0.6004 - acc: 0.6681 - val_loss: 0.6910 - val_acc: 0.5076\n",
            "Epoch 3/10\n",
            "20000/20000 [==============================] - 57s 3ms/step - loss: 0.5121 - acc: 0.7428 - val_loss: 0.6868 - val_acc: 0.5124\n",
            "Epoch 4/10\n",
            "20000/20000 [==============================] - 57s 3ms/step - loss: 0.4248 - acc: 0.8026 - val_loss: 0.6808 - val_acc: 0.5134\n",
            "Epoch 5/10\n",
            "20000/20000 [==============================] - 57s 3ms/step - loss: 0.3186 - acc: 0.8671 - val_loss: 0.6657 - val_acc: 0.5256\n",
            "Epoch 6/10\n",
            "20000/20000 [==============================] - 57s 3ms/step - loss: 0.2276 - acc: 0.9079 - val_loss: 0.6579 - val_acc: 0.5308\n",
            "Epoch 7/10\n",
            "20000/20000 [==============================] - 57s 3ms/step - loss: 0.1698 - acc: 0.9340 - val_loss: 0.6485 - val_acc: 0.5392\n",
            "Epoch 8/10\n",
            "20000/20000 [==============================] - 57s 3ms/step - loss: 0.1196 - acc: 0.9583 - val_loss: 0.6334 - val_acc: 0.5798\n",
            "Epoch 9/10\n",
            "20000/20000 [==============================] - 57s 3ms/step - loss: 0.0951 - acc: 0.9671 - val_loss: 0.6192 - val_acc: 0.6066\n",
            "Epoch 10/10\n",
            "20000/20000 [==============================] - 56s 3ms/step - loss: 0.0743 - acc: 0.9745 - val_loss: 0.6327 - val_acc: 0.5722\n",
            "CPU times: user 12min 37s, sys: 1min 28s, total: 14min 6s\n",
            "Wall time: 9min 33s\n"
          ],
          "name": "stdout"
        }
      ]
    },
    {
      "metadata": {
        "id": "okHWbOPjE4Ul",
        "colab_type": "code",
        "colab": {
          "base_uri": "https://localhost:8080/",
          "height": 51
        },
        "outputId": "7752f679-992a-4d41-8c8f-b452cc795f3b"
      },
      "cell_type": "code",
      "source": [
        "train_loss, train_accuracy = model.evaluate(input_train, y_train, batch_size=batch_size)\n",
        "train_accuracy"
      ],
      "execution_count": 14,
      "outputs": [
        {
          "output_type": "stream",
          "text": [
            "25000/25000 [==============================] - 25s 1ms/step\n"
          ],
          "name": "stdout"
        },
        {
          "output_type": "execute_result",
          "data": {
            "text/plain": [
              "0.574720003604889"
            ]
          },
          "metadata": {
            "tags": []
          },
          "execution_count": 14
        }
      ]
    },
    {
      "metadata": {
        "id": "9ZmZY8h7E4Up",
        "colab_type": "code",
        "colab": {
          "base_uri": "https://localhost:8080/",
          "height": 51
        },
        "outputId": "c3d52d06-d7dd-420c-f903-14959f5dd4ea"
      },
      "cell_type": "code",
      "source": [
        "test_loss, test_accuracy = model.evaluate(input_test, y_test, batch_size=batch_size)\n",
        "test_accuracy"
      ],
      "execution_count": 15,
      "outputs": [
        {
          "output_type": "stream",
          "text": [
            "25000/25000 [==============================] - 25s 1ms/step\n"
          ],
          "name": "stdout"
        },
        {
          "output_type": "execute_result",
          "data": {
            "text/plain": [
              "0.5605600023269653"
            ]
          },
          "metadata": {
            "tags": []
          },
          "execution_count": 15
        }
      ]
    },
    {
      "metadata": {
        "id": "8leY5PBpE4Us",
        "colab_type": "code",
        "colab": {
          "base_uri": "https://localhost:8080/",
          "height": 102
        },
        "outputId": "d4b2212e-cf65-43f1-c2c5-1aa9fadda3c2"
      },
      "cell_type": "code",
      "source": [
        "# precition\n",
        "model.predict(input_test[0:5])"
      ],
      "execution_count": 16,
      "outputs": [
        {
          "output_type": "execute_result",
          "data": {
            "text/plain": [
              "array([[0.41644868],\n",
              "       [0.45154917],\n",
              "       [0.37384027],\n",
              "       [0.36045653],\n",
              "       [0.52029175]], dtype=float32)"
            ]
          },
          "metadata": {
            "tags": []
          },
          "execution_count": 16
        }
      ]
    },
    {
      "metadata": {
        "id": "5w85FM6cE4Uv",
        "colab_type": "code",
        "colab": {
          "base_uri": "https://localhost:8080/",
          "height": 34
        },
        "outputId": "4c6d449c-36f5-4db9-a007-efefb34d8168"
      },
      "cell_type": "code",
      "source": [
        "# ground truth\n",
        "y_test[0:5]"
      ],
      "execution_count": 17,
      "outputs": [
        {
          "output_type": "execute_result",
          "data": {
            "text/plain": [
              "array([0, 1, 1, 0, 1])"
            ]
          },
          "metadata": {
            "tags": []
          },
          "execution_count": 17
        }
      ]
    },
    {
      "metadata": {
        "id": "-MGnL7RtE4U0",
        "colab_type": "code",
        "colab": {}
      },
      "cell_type": "code",
      "source": [
        "# ignore this, it is just technical code to plot decision boundaries\n",
        "# Adapted from:\n",
        "# http://scikit-learn.org/stable/auto_examples/neighbors/plot_classification.html\n",
        "# http://jponttuset.cat/xkcd-deep-learning/\n",
        "\n",
        "def plot_history(history, samples=100, init_phase_samples=None, plot_line=False):\n",
        "    epochs = history.params['epochs']\n",
        "    \n",
        "    acc = history.history['acc']\n",
        "    val_acc = history.history['val_acc']\n",
        "    loss = history.history['loss']\n",
        "    val_loss = history.history['val_loss']\n",
        "\n",
        "    every_sample =  int(epochs / samples)\n",
        "    acc = pd.DataFrame(acc).iloc[::every_sample, :]\n",
        "    val_acc = pd.DataFrame(val_acc).iloc[::every_sample, :]\n",
        "    loss = pd.DataFrame(loss).iloc[::every_sample, :]\n",
        "    val_loss = pd.DataFrame(val_loss).iloc[::every_sample, :]\n",
        "\n",
        "    if init_phase_samples:\n",
        "        acc = acc.loc[init_phase_samples:]\n",
        "        val_acc = val_acc.loc[init_phase_samples:]\n",
        "        loss = loss.loc[init_phase_samples:]\n",
        "        val_loss = val_loss.loc[init_phase_samples:]\n",
        "    \n",
        "    fig, ax = plt.subplots(nrows=2, figsize=(20,10))\n",
        "\n",
        "    ax[0].plot(acc, 'bo', label='Training acc')\n",
        "    ax[0].plot(val_acc, 'b', label='Validation acc')\n",
        "    ax[0].set_title('Training and validation accuracy')\n",
        "    ax[0].legend()\n",
        "    \n",
        "    if plot_line:\n",
        "        x, y, _ = linear_regression(acc)\n",
        "        ax[0].plot(x, y, 'bo', color='red')\n",
        "        x, y, _ = linear_regression(val_acc)\n",
        "        ax[0].plot(x, y, 'b', color='red')\n",
        "    \n",
        "    ax[1].plot(loss, 'bo', label='Training loss')\n",
        "    ax[1].plot(val_loss, 'b', label='Validation loss')\n",
        "    ax[1].set_title('Training and validation loss')\n",
        "    ax[1].legend()\n",
        "    \n",
        "    if plot_line:\n",
        "        x, y, _ = linear_regression(loss)\n",
        "        ax[1].plot(x, y, 'bo', color='red')\n",
        "        x, y, _ = linear_regression(val_loss)\n",
        "        ax[1].plot(x, y, 'b', color='red')\n",
        "    \n",
        "from sklearn import linear_model\n",
        "\n",
        "def linear_regression(data):\n",
        "    x = np.array(data.index).reshape(-1, 1)\n",
        "    y = data.values.reshape(-1, 1)\n",
        "\n",
        "    regr = linear_model.LinearRegression()\n",
        "    regr.fit(x, y)\n",
        "    y_pred = regr.predict(x)\n",
        "    return x, y_pred, regr.coef_"
      ],
      "execution_count": 0,
      "outputs": []
    },
    {
      "metadata": {
        "id": "3jCRIy9TK6mC",
        "colab_type": "code",
        "colab": {
          "base_uri": "https://localhost:8080/",
          "height": 606
        },
        "outputId": "a1dc0ef4-424c-4f57-a0a9-d34e1598c0d6"
      },
      "cell_type": "code",
      "source": [
        "plot_history(history, samples=10)"
      ],
      "execution_count": 24,
      "outputs": [
        {
          "output_type": "display_data",
          "data": {
            "image/png": "[encoded data removed]",
            "text/plain": [
              "<matplotlib.figure.Figure at 0x7f5f47131ef0>"
            ]
          },
          "metadata": {
            "tags": []
          }
        }
      ]
    },
    {
      "metadata": {
        "id": "zWB5sugYLF4K",
        "colab_type": "code",
        "colab": {
          "base_uri": "https://localhost:8080/",
          "height": 606
        },
        "outputId": "6d123fd1-0f3a-482d-b63a-7d076d0ebf75"
      },
      "cell_type": "code",
      "source": [
        "plot_history(history, samples=10, init_phase_samples=2, plot_line=True)"
      ],
      "execution_count": 26,
      "outputs": [
        {
          "output_type": "display_data",
          "data": {
            "image/png": "[encoded data removed]",
            "text/plain": [
              "<matplotlib.figure.Figure at 0x7f5f46ade240>"
            ]
          },
          "metadata": {
            "tags": []
          }
        }
      ]
    },
    {
      "metadata": {
        "id": "nFwsczlgLwhv",
        "colab_type": "code",
        "colab": {}
      },
      "cell_type": "code",
      "source": [
        ""
      ],
      "execution_count": 0,
      "outputs": []
    }
  ]
}