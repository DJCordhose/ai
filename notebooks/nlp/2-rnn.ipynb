{
  "nbformat": 4,
  "nbformat_minor": 0,
  "metadata": {
    "colab": {
      "name": "2-rnn.ipynb",
      "version": "0.3.2",
      "provenance": [],
      "include_colab_link": true
    },
    "kernelspec": {
      "display_name": "Python 3",
      "language": "python",
      "name": "python3"
    },
    "accelerator": "GPU"
  },
  "cells": [
    {
      "cell_type": "markdown",
      "metadata": {
        "id": "view-in-github",
        "colab_type": "text"
      },
      "source": [
        "[View in Colaboratory](https://colab.research.google.com/github/DJCordhose/ai/blob/master/notebooks/nlp/2-rnn.ipynb)"
      ]
    },
    {
      "metadata": {
        "id": "tVSZjQlTBo3O",
        "colab_type": "code",
        "colab": {}
      },
      "cell_type": "code",
      "source": [
        "# Based on\n",
        "# https://github.com/fchollet/deep-learning-with-python-notebooks/blob/master/6.2-understanding-recurrent-neural-networks.ipynb"
      ],
      "execution_count": 0,
      "outputs": []
    },
    {
      "metadata": {
        "id": "nLiZFrWhBo3S",
        "colab_type": "code",
        "colab": {}
      },
      "cell_type": "code",
      "source": [
        "import warnings\n",
        "warnings.filterwarnings('ignore')"
      ],
      "execution_count": 0,
      "outputs": []
    },
    {
      "metadata": {
        "id": "L3ribo_QBo3X",
        "colab_type": "code",
        "colab": {
          "base_uri": "https://localhost:8080/",
          "height": 34
        },
        "outputId": "f9628950-c012-4587-fba6-a1d38b9ee7fc"
      },
      "cell_type": "code",
      "source": [
        "%matplotlib inline\n",
        "%pylab inline"
      ],
      "execution_count": 3,
      "outputs": [
        {
          "output_type": "stream",
          "text": [
            "Populating the interactive namespace from numpy and matplotlib\n"
          ],
          "name": "stdout"
        }
      ]
    },
    {
      "metadata": {
        "id": "aeBLlIG5Bo3e",
        "colab_type": "code",
        "colab": {
          "base_uri": "https://localhost:8080/",
          "height": 34
        },
        "outputId": "f8712cb7-5e7f-445c-f332-799c929e6056"
      },
      "cell_type": "code",
      "source": [
        "import tensorflow as tf\n",
        "tf.logging.set_verbosity(tf.logging.ERROR)\n",
        "print(tf.__version__)"
      ],
      "execution_count": 5,
      "outputs": [
        {
          "output_type": "stream",
          "text": [
            "1.11.0-rc2\n"
          ],
          "name": "stdout"
        }
      ]
    },
    {
      "metadata": {
        "id": "-CWrC3V4CBPr",
        "colab_type": "code",
        "colab": {
          "base_uri": "https://localhost:8080/",
          "height": 51
        },
        "outputId": "cb6cafc1-b39d-4f0a-977c-b3a99da0b61a"
      },
      "cell_type": "code",
      "source": [
        "# let's see what compute devices we have available, hopefully a GPU \n",
        "sess = tf.Session()\n",
        "devices = sess.list_devices()\n",
        "for d in devices:\n",
        "    print(d.name)"
      ],
      "execution_count": 6,
      "outputs": [
        {
          "output_type": "stream",
          "text": [
            "/job:localhost/replica:0/task:0/device:CPU:0\n",
            "/job:localhost/replica:0/task:0/device:GPU:0\n"
          ],
          "name": "stdout"
        }
      ]
    },
    {
      "metadata": {
        "id": "Rz-qxmsKCBrT",
        "colab_type": "code",
        "colab": {
          "base_uri": "https://localhost:8080/",
          "height": 34
        },
        "outputId": "68a18049-80eb-4d52-f680-d219b24bf085"
      },
      "cell_type": "code",
      "source": [
        "# a small sanity check, does tf seem to work ok?\n",
        "hello = tf.constant('Hello TF!')\n",
        "print(sess.run(hello))"
      ],
      "execution_count": 7,
      "outputs": [
        {
          "output_type": "stream",
          "text": [
            "b'Hello TF!'\n"
          ],
          "name": "stdout"
        }
      ]
    },
    {
      "metadata": {
        "id": "F6Kn5tF6CDUY",
        "colab_type": "code",
        "colab": {
          "base_uri": "https://localhost:8080/",
          "height": 34
        },
        "outputId": "1685c9b9-f2c5-4970-aedc-d407583bb93e"
      },
      "cell_type": "code",
      "source": [
        "from tensorflow import keras\n",
        "print(keras.__version__)"
      ],
      "execution_count": 8,
      "outputs": [
        {
          "output_type": "stream",
          "text": [
            "2.1.6-tf\n"
          ],
          "name": "stdout"
        }
      ]
    },
    {
      "metadata": {
        "id": "lMmicavbBo3h",
        "colab_type": "code",
        "colab": {
          "base_uri": "https://localhost:8080/",
          "height": 51
        },
        "outputId": "e83a72fe-fdc9-4672-af1f-3ba27080f9a9"
      },
      "cell_type": "code",
      "source": [
        "# https://keras.io/datasets/#imdb-movie-reviews-sentiment-classification\n",
        "max_features = 10000  # number of words to consider as features\n",
        "maxlen = 500  # cut texts after this number of words (among top max_features most common words)\n",
        "\n",
        "# each review is encoded as a sequence of word indexes\n",
        "# indexed by overall frequency in the dataset\n",
        "# output is 0 (negative) or 1 (positive) \n",
        "imdb = tf.keras.datasets.imdb.load_data(num_words=max_features)\n",
        "(raw_input_train, y_train), (raw_input_test, y_test) = imdb"
      ],
      "execution_count": 9,
      "outputs": [
        {
          "output_type": "stream",
          "text": [
            "Downloading data from https://storage.googleapis.com/tensorflow/tf-keras-datasets/imdb.npz\n",
            "17465344/17464789 [==============================] - 0s 0us/step\n"
          ],
          "name": "stdout"
        }
      ]
    },
    {
      "metadata": {
        "id": "3YQCaKW1Bo3k",
        "colab_type": "code",
        "colab": {}
      },
      "cell_type": "code",
      "source": [
        "# https://www.tensorflow.org/api_docs/python/tf/keras/preprocessing/sequence/pad_sequences\n",
        "\n",
        "input_train = tf.keras.preprocessing.sequence.pad_sequences(raw_input_train, maxlen=maxlen)\n",
        "input_test = tf.keras.preprocessing.sequence.pad_sequences(raw_input_test, maxlen=maxlen)"
      ],
      "execution_count": 0,
      "outputs": []
    },
    {
      "metadata": {
        "id": "C1_Tme15Bo3o",
        "colab_type": "code",
        "colab": {
          "base_uri": "https://localhost:8080/",
          "height": 34
        },
        "outputId": "e35ef2db-11cc-4b62-fd24-0452f5a1a7b7"
      },
      "cell_type": "code",
      "source": [
        "input_train.shape, input_test.shape, y_train.shape, y_test.shape"
      ],
      "execution_count": 11,
      "outputs": [
        {
          "output_type": "execute_result",
          "data": {
            "text/plain": [
              "((25000, 500), (25000, 500), (25000,), (25000,))"
            ]
          },
          "metadata": {
            "tags": []
          },
          "execution_count": 11
        }
      ]
    },
    {
      "metadata": {
        "id": "jDmOwRItBo3s",
        "colab_type": "code",
        "colab": {}
      },
      "cell_type": "code",
      "source": [
        "# tf.keras.layers.SimpleRNN?\n",
        "# tf.keras.layers.Embedding?"
      ],
      "execution_count": 0,
      "outputs": []
    },
    {
      "metadata": {
        "id": "lMl8mDzvBo3v",
        "colab_type": "code",
        "colab": {
          "base_uri": "https://localhost:8080/",
          "height": 306
        },
        "outputId": "f1381c68-20e6-4b6e-8622-ac108f132b7a"
      },
      "cell_type": "code",
      "source": [
        "embedding_dim = 32\n",
        "\n",
        "model = tf.keras.Sequential()\n",
        "# Parameters: max_features (10000) * 8 = 80000 \n",
        "model.add(tf.keras.layers.Embedding(name='embedding', input_dim=max_features, output_dim=embedding_dim, input_length=maxlen))\n",
        "\n",
        "# model.add(tf.keras.layers.Embedding(max_features, 32, input_length=maxlen))\n",
        "# model.add(tf.keras.layers.SimpleRNN(32, return_sequences=True))\n",
        "# model.add(tf.keras.layers.SimpleRNN(32, return_sequences=True))\n",
        "\n",
        "# https://arxiv.org/ftp/arxiv/papers/1701/1701.05923.pdf\n",
        "# n = output dimension\n",
        "# m = input dimension\n",
        "# Total number of parameters for \n",
        "# RNN = n**2 + nm (like fc) + n (bias)\n",
        "\n",
        "# n = 1, m =32: 1 + 32 + 1 = 34\n",
        "# model.add(tf.keras.layers.SimpleRNN(name='rnn', units=1))\n",
        "\n",
        "# n = 32, m =32: 1024 + 1024 + 32 = 2080\n",
        "model.add(tf.keras.layers.SimpleRNN(name='rnn1', units=32, return_sequences=True))\n",
        "model.add(tf.keras.layers.SimpleRNN(name='rnn2', units=32))\n",
        "\n",
        "# Input format: maxlen (500) * dimension of embedding (8)\n",
        "# Output: 4000\n",
        "# model.add(tf.keras.layers.Flatten())\n",
        "\n",
        "# binary classifier\n",
        "model.add(tf.keras.layers.Dense(name='fc', units=32, activation='relu'))\n",
        "model.add(tf.keras.layers.Dense(name='classifier', units=1, activation='sigmoid'))\n",
        "\n",
        "model.compile(optimizer='adam', loss='binary_crossentropy', metrics=['accuracy'])\n",
        "\n",
        "model.summary()"
      ],
      "execution_count": 13,
      "outputs": [
        {
          "output_type": "stream",
          "text": [
            "_________________________________________________________________\n",
            "Layer (type)                 Output Shape              Param #   \n",
            "=================================================================\n",
            "embedding (Embedding)        (None, 500, 32)           320000    \n",
            "_________________________________________________________________\n",
            "rnn1 (SimpleRNN)             (None, 500, 32)           2080      \n",
            "_________________________________________________________________\n",
            "rnn2 (SimpleRNN)             (None, 32)                2080      \n",
            "_________________________________________________________________\n",
            "fc (Dense)                   (None, 32)                1056      \n",
            "_________________________________________________________________\n",
            "classifier (Dense)           (None, 1)                 33        \n",
            "=================================================================\n",
            "Total params: 325,249\n",
            "Trainable params: 325,249\n",
            "Non-trainable params: 0\n",
            "_________________________________________________________________\n"
          ],
          "name": "stdout"
        }
      ]
    },
    {
      "metadata": {
        "id": "pw4QIkt5Bo3z",
        "colab_type": "code",
        "colab": {
          "base_uri": "https://localhost:8080/",
          "height": 748
        },
        "outputId": "5cba97a4-0d63-4dca-b22d-6c19c8fa2349"
      },
      "cell_type": "code",
      "source": [
        "batch_size = 1000\n",
        "\n",
        "%time history = model.fit(input_train, y_train, epochs=10, batch_size=batch_size, validation_split=0.2)"
      ],
      "execution_count": 14,
      "outputs": [
        {
          "output_type": "stream",
          "text": [
            "Train on 20000 samples, validate on 5000 samples\n",
            "Epoch 1/20\n",
            "20000/20000 [==============================] - 21s 1ms/step - loss: 0.6722 - acc: 0.5729 - val_loss: 0.6013 - val_acc: 0.6834\n",
            "Epoch 2/20\n",
            "20000/20000 [==============================] - 20s 995us/step - loss: 0.4886 - acc: 0.7735 - val_loss: 0.4873 - val_acc: 0.7816\n",
            "Epoch 3/20\n",
            "20000/20000 [==============================] - 20s 994us/step - loss: 0.3994 - acc: 0.8329 - val_loss: 0.4597 - val_acc: 0.7806\n",
            "Epoch 4/20\n",
            "20000/20000 [==============================] - 20s 992us/step - loss: 0.2939 - acc: 0.8848 - val_loss: 0.3613 - val_acc: 0.8458\n",
            "Epoch 5/20\n",
            "20000/20000 [==============================] - 20s 993us/step - loss: 0.2562 - acc: 0.9037 - val_loss: 0.4195 - val_acc: 0.8382\n",
            "Epoch 6/20\n",
            "20000/20000 [==============================] - 20s 989us/step - loss: 0.2613 - acc: 0.8954 - val_loss: 0.4429 - val_acc: 0.8286\n",
            "Epoch 7/20\n",
            "20000/20000 [==============================] - 20s 986us/step - loss: 0.1527 - acc: 0.9459 - val_loss: 0.4025 - val_acc: 0.8492\n",
            "Epoch 8/20\n",
            "20000/20000 [==============================] - 20s 1ms/step - loss: 0.0946 - acc: 0.9707 - val_loss: 0.4567 - val_acc: 0.8310\n",
            "Epoch 9/20\n",
            "20000/20000 [==============================] - 20s 1ms/step - loss: 0.0539 - acc: 0.9871 - val_loss: 0.5133 - val_acc: 0.8406\n",
            "Epoch 10/20\n",
            "20000/20000 [==============================] - 20s 995us/step - loss: 0.0267 - acc: 0.9957 - val_loss: 0.5861 - val_acc: 0.8304\n",
            "Epoch 11/20\n",
            "20000/20000 [==============================] - 20s 992us/step - loss: 0.0146 - acc: 0.9979 - val_loss: 0.6382 - val_acc: 0.8358\n",
            "Epoch 12/20\n",
            "20000/20000 [==============================] - 20s 989us/step - loss: 0.0090 - acc: 0.9988 - val_loss: 0.6927 - val_acc: 0.8364\n",
            "Epoch 13/20\n",
            "20000/20000 [==============================] - 20s 989us/step - loss: 0.0063 - acc: 0.9993 - val_loss: 0.7212 - val_acc: 0.8274\n",
            "Epoch 14/20\n",
            "20000/20000 [==============================] - 20s 990us/step - loss: 0.0047 - acc: 0.9995 - val_loss: 0.7581 - val_acc: 0.8298\n",
            "Epoch 15/20\n",
            "20000/20000 [==============================] - 20s 986us/step - loss: 0.0037 - acc: 0.9996 - val_loss: 0.7752 - val_acc: 0.8306\n",
            "Epoch 16/20\n",
            "20000/20000 [==============================] - 20s 993us/step - loss: 0.0027 - acc: 0.9998 - val_loss: 0.8037 - val_acc: 0.8324\n",
            "Epoch 17/20\n",
            "20000/20000 [==============================] - 20s 990us/step - loss: 0.0023 - acc: 0.9998 - val_loss: 0.8221 - val_acc: 0.8306\n",
            "Epoch 18/20\n",
            "20000/20000 [==============================] - 20s 986us/step - loss: 0.0020 - acc: 0.9998 - val_loss: 0.8404 - val_acc: 0.8326\n",
            "Epoch 19/20\n",
            "20000/20000 [==============================] - 20s 990us/step - loss: 0.0017 - acc: 0.9999 - val_loss: 0.8492 - val_acc: 0.8312\n",
            "Epoch 20/20\n",
            "20000/20000 [==============================] - 20s 989us/step - loss: 0.0014 - acc: 0.9999 - val_loss: 0.8663 - val_acc: 0.8324\n",
            "CPU times: user 9min 12s, sys: 1min 6s, total: 10min 19s\n",
            "Wall time: 6min 38s\n"
          ],
          "name": "stdout"
        }
      ]
    },
    {
      "metadata": {
        "id": "_GQpD4c-Bo35",
        "colab_type": "code",
        "colab": {
          "base_uri": "https://localhost:8080/",
          "height": 51
        },
        "outputId": "f6632519-d641-426a-f280-2accefd8e0e7"
      },
      "cell_type": "code",
      "source": [
        "train_loss, train_accuracy = model.evaluate(input_train, y_train, batch_size=batch_size)\n",
        "train_accuracy"
      ],
      "execution_count": 15,
      "outputs": [
        {
          "output_type": "stream",
          "text": [
            "25000/25000 [==============================] - 11s 445us/step\n"
          ],
          "name": "stdout"
        },
        {
          "output_type": "execute_result",
          "data": {
            "text/plain": [
              "0.9664000010490418"
            ]
          },
          "metadata": {
            "tags": []
          },
          "execution_count": 15
        }
      ]
    },
    {
      "metadata": {
        "id": "Ds0PYPJNBo3-",
        "colab_type": "code",
        "colab": {
          "base_uri": "https://localhost:8080/",
          "height": 51
        },
        "outputId": "ff180e1b-05e9-406a-a4bf-e78836646591"
      },
      "cell_type": "code",
      "source": [
        "test_loss, test_accuracy = model.evaluate(input_test, y_test, batch_size=batch_size)\n",
        "test_accuracy"
      ],
      "execution_count": 16,
      "outputs": [
        {
          "output_type": "stream",
          "text": [
            "25000/25000 [==============================] - 11s 447us/step\n"
          ],
          "name": "stdout"
        },
        {
          "output_type": "execute_result",
          "data": {
            "text/plain": [
              "0.8283200025558471"
            ]
          },
          "metadata": {
            "tags": []
          },
          "execution_count": 16
        }
      ]
    },
    {
      "metadata": {
        "id": "303UdBnwBo4B",
        "colab_type": "code",
        "colab": {
          "base_uri": "https://localhost:8080/",
          "height": 102
        },
        "outputId": "b13d856f-7b07-4352-f6b3-f185de1fb202"
      },
      "cell_type": "code",
      "source": [
        "# precition\n",
        "model.predict(input_test[0:5])"
      ],
      "execution_count": 17,
      "outputs": [
        {
          "output_type": "execute_result",
          "data": {
            "text/plain": [
              "array([[0.99797887],\n",
              "       [0.9990243 ],\n",
              "       [0.9998246 ],\n",
              "       [0.06395195],\n",
              "       [0.9996427 ]], dtype=float32)"
            ]
          },
          "metadata": {
            "tags": []
          },
          "execution_count": 17
        }
      ]
    },
    {
      "metadata": {
        "id": "XQbSDlbJBo4F",
        "colab_type": "code",
        "colab": {
          "base_uri": "https://localhost:8080/",
          "height": 34
        },
        "outputId": "71f5e711-7363-44b6-fa52-c5769a5cec5a"
      },
      "cell_type": "code",
      "source": [
        "# ground truth\n",
        "y_test[0:5]"
      ],
      "execution_count": 18,
      "outputs": [
        {
          "output_type": "execute_result",
          "data": {
            "text/plain": [
              "array([0, 1, 1, 0, 1])"
            ]
          },
          "metadata": {
            "tags": []
          },
          "execution_count": 18
        }
      ]
    },
    {
      "metadata": {
        "id": "DE3Y7_PoBo4J",
        "colab_type": "code",
        "colab": {}
      },
      "cell_type": "code",
      "source": [
        ""
      ],
      "execution_count": 0,
      "outputs": []
    }
  ]
}