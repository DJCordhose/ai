{
 "cells": [
  {
   "cell_type": "code",
   "execution_count": 1,
   "metadata": {},
   "outputs": [],
   "source": [
    "# Based on\n",
    "# https://github.com/fchollet/deep-learning-with-python-notebooks/blob/master/6.2-understanding-recurrent-neural-networks.ipynb"
   ]
  },
  {
   "cell_type": "code",
   "execution_count": 2,
   "metadata": {},
   "outputs": [],
   "source": [
    "import warnings\n",
    "warnings.filterwarnings('ignore')"
   ]
  },
  {
   "cell_type": "code",
   "execution_count": 3,
   "metadata": {},
   "outputs": [
    {
     "name": "stdout",
     "output_type": "stream",
     "text": [
      "Populating the interactive namespace from numpy and matplotlib\n"
     ]
    }
   ],
   "source": [
    "%matplotlib inline\n",
    "%pylab inline"
   ]
  },
  {
   "cell_type": "code",
   "execution_count": 4,
   "metadata": {},
   "outputs": [
    {
     "name": "stdout",
     "output_type": "stream",
     "text": [
      "1.8.0\n"
     ]
    }
   ],
   "source": [
    "import tensorflow as tf\n",
    "tf.logging.set_verbosity(tf.logging.ERROR)\n",
    "print(tf.__version__)"
   ]
  },
  {
   "cell_type": "code",
   "execution_count": 5,
   "metadata": {},
   "outputs": [],
   "source": [
    "# https://keras.io/datasets/#imdb-movie-reviews-sentiment-classification\n",
    "max_features = 10000  # number of words to consider as features\n",
    "maxlen = 500  # cut texts after this number of words (among top max_features most common words)\n",
    "\n",
    "# each review is encoded as a sequence of word indexes\n",
    "# indexed by overall frequency in the dataset\n",
    "# output is 0 (negative) or 1 (positive) \n",
    "imdb = tf.keras.datasets.imdb.load_data(num_words=max_features)\n",
    "(raw_input_train, y_train), (raw_input_test, y_test) = imdb"
   ]
  },
  {
   "cell_type": "code",
   "execution_count": 6,
   "metadata": {},
   "outputs": [],
   "source": [
    "# https://www.tensorflow.org/api_docs/python/tf/keras/preprocessing/sequence/pad_sequences\n",
    "\n",
    "input_train = tf.keras.preprocessing.sequence.pad_sequences(raw_input_train, maxlen=maxlen)\n",
    "input_test = tf.keras.preprocessing.sequence.pad_sequences(raw_input_test, maxlen=maxlen)"
   ]
  },
  {
   "cell_type": "code",
   "execution_count": 7,
   "metadata": {},
   "outputs": [
    {
     "data": {
      "text/plain": [
       "((25000, 500), (25000, 500), (25000,), (25000,))"
      ]
     },
     "execution_count": 7,
     "metadata": {},
     "output_type": "execute_result"
    }
   ],
   "source": [
    "input_train.shape, input_test.shape, y_train.shape, y_test.shape"
   ]
  },
  {
   "cell_type": "code",
   "execution_count": 8,
   "metadata": {},
   "outputs": [],
   "source": [
    "# tf.keras.layers.SimpleRNN?\n",
    "# tf.keras.layers.Embedding?"
   ]
  },
  {
   "cell_type": "code",
   "execution_count": 9,
   "metadata": {},
   "outputs": [
    {
     "name": "stdout",
     "output_type": "stream",
     "text": [
      "_________________________________________________________________\n",
      "Layer (type)                 Output Shape              Param #   \n",
      "=================================================================\n",
      "embedding (Embedding)        (None, 500, 32)           320000    \n",
      "_________________________________________________________________\n",
      "rnn1 (SimpleRNN)             (None, 500, 32)           2080      \n",
      "_________________________________________________________________\n",
      "rnn2 (SimpleRNN)             (None, 32)                2080      \n",
      "_________________________________________________________________\n",
      "fc (Dense)                   (None, 32)                1056      \n",
      "_________________________________________________________________\n",
      "classifier (Dense)           (None, 1)                 33        \n",
      "=================================================================\n",
      "Total params: 325,249\n",
      "Trainable params: 325,249\n",
      "Non-trainable params: 0\n",
      "_________________________________________________________________\n"
     ]
    }
   ],
   "source": [
    "embedding_dim = 32\n",
    "\n",
    "model = tf.keras.Sequential()\n",
    "# Parameters: max_features (10000) * 8 = 80000 \n",
    "model.add(tf.keras.layers.Embedding(name='embedding', input_dim=max_features, output_dim=embedding_dim, input_length=maxlen))\n",
    "\n",
    "# model.add(tf.keras.layers.Embedding(max_features, 32, input_length=maxlen))\n",
    "# model.add(tf.keras.layers.SimpleRNN(32, return_sequences=True))\n",
    "# model.add(tf.keras.layers.SimpleRNN(32, return_sequences=True))\n",
    "\n",
    "# https://arxiv.org/ftp/arxiv/papers/1701/1701.05923.pdf\n",
    "# n = output dimension\n",
    "# m = input dimension\n",
    "# Total number of parameters for \n",
    "# RNN = n**2 + nm (like fc) + n (bias)\n",
    "\n",
    "# n = 1, m =32: 1 + 32 + 1 = 34\n",
    "# model.add(tf.keras.layers.SimpleRNN(name='rnn', units=1))\n",
    "\n",
    "# n = 32, m =32: 1024 + 1024 + 32 = 2080\n",
    "model.add(tf.keras.layers.SimpleRNN(name='rnn1', units=32, return_sequences=True))\n",
    "model.add(tf.keras.layers.SimpleRNN(name='rnn2', units=32))\n",
    "\n",
    "# Input format: maxlen (500) * dimension of embedding (8)\n",
    "# Output: 4000\n",
    "# model.add(tf.keras.layers.Flatten())\n",
    "\n",
    "# binary classifier\n",
    "model.add(tf.keras.layers.Dense(name='fc', units=32, activation='relu'))\n",
    "model.add(tf.keras.layers.Dense(name='classifier', units=1, activation='sigmoid'))\n",
    "\n",
    "model.compile(optimizer='adam', loss='binary_crossentropy', metrics=['accuracy'])\n",
    "\n",
    "model.summary()"
   ]
  },
  {
   "cell_type": "code",
   "execution_count": 10,
   "metadata": {},
   "outputs": [
    {
     "name": "stdout",
     "output_type": "stream",
     "text": [
      "Train on 20000 samples, validate on 5000 samples\n",
      "Epoch 1/10\n",
      "20000/20000 [==============================] - 10s 507us/step - loss: 0.6947 - acc: 0.5122 - val_loss: 0.6915 - val_acc: 0.5282\n",
      "Epoch 2/10\n",
      "20000/20000 [==============================] - 7s 343us/step - loss: 0.6878 - acc: 0.5428 - val_loss: 0.6894 - val_acc: 0.5304\n",
      "Epoch 3/10\n",
      "20000/20000 [==============================] - 7s 341us/step - loss: 0.6792 - acc: 0.5720 - val_loss: 0.6835 - val_acc: 0.5562\n",
      "Epoch 4/10\n",
      "20000/20000 [==============================] - 7s 353us/step - loss: 0.6641 - acc: 0.5993 - val_loss: 0.6733 - val_acc: 0.5818\n",
      "Epoch 5/10\n",
      "20000/20000 [==============================] - 7s 344us/step - loss: 0.6364 - acc: 0.6427 - val_loss: 0.6474 - val_acc: 0.6256\n",
      "Epoch 6/10\n",
      "20000/20000 [==============================] - 7s 364us/step - loss: 0.5840 - acc: 0.6947 - val_loss: 0.6042 - val_acc: 0.6798\n",
      "Epoch 7/10\n",
      "20000/20000 [==============================] - 8s 379us/step - loss: 0.5364 - acc: 0.7327 - val_loss: 0.5853 - val_acc: 0.7062\n",
      "Epoch 8/10\n",
      "20000/20000 [==============================] - 7s 350us/step - loss: 0.4649 - acc: 0.7883 - val_loss: 0.5507 - val_acc: 0.7336\n",
      "Epoch 9/10\n",
      "20000/20000 [==============================] - 8s 388us/step - loss: 0.4238 - acc: 0.8118 - val_loss: 0.5226 - val_acc: 0.7564\n",
      "Epoch 10/10\n",
      "20000/20000 [==============================] - 8s 391us/step - loss: 0.3744 - acc: 0.8418 - val_loss: 0.5020 - val_acc: 0.7802\n",
      "Wall time: 1min 15s\n"
     ]
    }
   ],
   "source": [
    "batch_size = 1000\n",
    "\n",
    "%time history = model.fit(input_train, y_train, epochs=10, batch_size=batch_size, validation_split=0.2)"
   ]
  },
  {
   "cell_type": "code",
   "execution_count": 11,
   "metadata": {},
   "outputs": [
    {
     "name": "stdout",
     "output_type": "stream",
     "text": [
      "25000/25000 [==============================] - 2s 84us/step\n"
     ]
    },
    {
     "data": {
      "text/plain": [
       "0.8506800007820129"
      ]
     },
     "execution_count": 11,
     "metadata": {},
     "output_type": "execute_result"
    }
   ],
   "source": [
    "train_loss, train_accuracy = model.evaluate(input_train, y_train, batch_size=batch_size)\n",
    "train_accuracy"
   ]
  },
  {
   "cell_type": "code",
   "execution_count": 12,
   "metadata": {},
   "outputs": [
    {
     "name": "stdout",
     "output_type": "stream",
     "text": [
      "25000/25000 [==============================] - 2s 84us/step\n"
     ]
    },
    {
     "data": {
      "text/plain": [
       "0.7861999988555908"
      ]
     },
     "execution_count": 12,
     "metadata": {},
     "output_type": "execute_result"
    }
   ],
   "source": [
    "test_loss, test_accuracy = model.evaluate(input_test, y_test, batch_size=batch_size)\n",
    "test_accuracy"
   ]
  },
  {
   "cell_type": "code",
   "execution_count": 13,
   "metadata": {},
   "outputs": [
    {
     "data": {
      "text/plain": [
       "array([[0.09507405],\n",
       "       [0.9440881 ],\n",
       "       [0.4846489 ],\n",
       "       [0.77605283],\n",
       "       [0.9677393 ]], dtype=float32)"
      ]
     },
     "execution_count": 13,
     "metadata": {},
     "output_type": "execute_result"
    }
   ],
   "source": [
    "# precition\n",
    "model.predict(input_test[0:5])"
   ]
  },
  {
   "cell_type": "code",
   "execution_count": 14,
   "metadata": {},
   "outputs": [
    {
     "data": {
      "text/plain": [
       "array([0, 1, 1, 0, 1], dtype=int64)"
      ]
     },
     "execution_count": 14,
     "metadata": {},
     "output_type": "execute_result"
    }
   ],
   "source": [
    "# ground truth\n",
    "y_test[0:5]"
   ]
  },
  {
   "cell_type": "code",
   "execution_count": null,
   "metadata": {},
   "outputs": [],
   "source": []
  }
 ],
 "metadata": {
  "kernelspec": {
   "display_name": "Python 3",
   "language": "python",
   "name": "python3"
  },
  "language_info": {
   "codemirror_mode": {
    "name": "ipython",
    "version": 3
   },
   "file_extension": ".py",
   "mimetype": "text/x-python",
   "name": "python",
   "nbconvert_exporter": "python",
   "pygments_lexer": "ipython3",
   "version": "3.6.4"
  }
 },
 "nbformat": 4,
 "nbformat_minor": 2
}
