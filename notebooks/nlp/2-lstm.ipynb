{
  "nbformat": 4,
  "nbformat_minor": 0,
  "metadata": {
    "colab": {
      "name": "2-lstm.ipynb",
      "version": "0.3.2",
      "provenance": [],
      "include_colab_link": true
    },
    "kernelspec": {
      "display_name": "Python 3",
      "language": "python",
      "name": "python3"
    },
    "accelerator": "GPU"
  },
  "cells": [
    {
      "cell_type": "markdown",
      "metadata": {
        "id": "view-in-github",
        "colab_type": "text"
      },
      "source": [
        "[View in Colaboratory](https://colab.research.google.com/github/DJCordhose/ai/blob/master/notebooks/nlp/2-lstm.ipynb)"
      ]
    },
    {
      "metadata": {
        "id": "dD2oFWcPDlS7",
        "colab_type": "code",
        "colab": {}
      },
      "cell_type": "code",
      "source": [
        "# Based on\n",
        "# https://github.com/fchollet/deep-learning-with-python-notebooks/blob/master/6.2-understanding-recurrent-neural-networks.ipynb"
      ],
      "execution_count": 0,
      "outputs": []
    },
    {
      "metadata": {
        "id": "5J89_UNNDlTA",
        "colab_type": "code",
        "colab": {}
      },
      "cell_type": "code",
      "source": [
        "import warnings\n",
        "warnings.filterwarnings('ignore')"
      ],
      "execution_count": 0,
      "outputs": []
    },
    {
      "metadata": {
        "id": "xiUV0zkmDlTD",
        "colab_type": "code",
        "colab": {
          "base_uri": "https://localhost:8080/",
          "height": 34
        },
        "outputId": "77ad6a3a-1226-4065-b45b-454f68a150c8"
      },
      "cell_type": "code",
      "source": [
        "%matplotlib inline\n",
        "%pylab inline"
      ],
      "execution_count": 2,
      "outputs": [
        {
          "output_type": "stream",
          "text": [
            "Populating the interactive namespace from numpy and matplotlib\n"
          ],
          "name": "stdout"
        }
      ]
    },
    {
      "metadata": {
        "id": "PEVnFnr5DlTK",
        "colab_type": "code",
        "colab": {
          "base_uri": "https://localhost:8080/",
          "height": 34
        },
        "outputId": "b5da29bf-0de4-412c-b551-edf99e913448"
      },
      "cell_type": "code",
      "source": [
        "import tensorflow as tf\n",
        "tf.logging.set_verbosity(tf.logging.ERROR)\n",
        "print(tf.__version__)"
      ],
      "execution_count": 4,
      "outputs": [
        {
          "output_type": "stream",
          "text": [
            "1.11.0-rc2\n"
          ],
          "name": "stdout"
        }
      ]
    },
    {
      "metadata": {
        "id": "O1w4BW0aEgxc",
        "colab_type": "code",
        "colab": {
          "base_uri": "https://localhost:8080/",
          "height": 51
        },
        "outputId": "f244a2f4-908a-4df5-f85c-b7f774cca689"
      },
      "cell_type": "code",
      "source": [
        "# let's see what compute devices we have available, hopefully a GPU \n",
        "sess = tf.Session()\n",
        "devices = sess.list_devices()\n",
        "for d in devices:\n",
        "    print(d.name)"
      ],
      "execution_count": 5,
      "outputs": [
        {
          "output_type": "stream",
          "text": [
            "/job:localhost/replica:0/task:0/device:CPU:0\n",
            "/job:localhost/replica:0/task:0/device:GPU:0\n"
          ],
          "name": "stdout"
        }
      ]
    },
    {
      "metadata": {
        "id": "CDgQ2curEhOu",
        "colab_type": "code",
        "colab": {
          "base_uri": "https://localhost:8080/",
          "height": 34
        },
        "outputId": "e55f36da-60b7-4f62-d030-7f15992fca13"
      },
      "cell_type": "code",
      "source": [
        "# a small sanity check, does tf seem to work ok?\n",
        "hello = tf.constant('Hello TF!')\n",
        "print(sess.run(hello))"
      ],
      "execution_count": 6,
      "outputs": [
        {
          "output_type": "stream",
          "text": [
            "b'Hello TF!'\n"
          ],
          "name": "stdout"
        }
      ]
    },
    {
      "metadata": {
        "id": "ORaJeTvOEiyO",
        "colab_type": "code",
        "colab": {
          "base_uri": "https://localhost:8080/",
          "height": 34
        },
        "outputId": "69fef4aa-3833-452f-9350-42ecfcc8a03d"
      },
      "cell_type": "code",
      "source": [
        "from tensorflow import keras\n",
        "print(keras.__version__)"
      ],
      "execution_count": 7,
      "outputs": [
        {
          "output_type": "stream",
          "text": [
            "2.1.6-tf\n"
          ],
          "name": "stdout"
        }
      ]
    },
    {
      "metadata": {
        "id": "CaEsC1yJDlTO",
        "colab_type": "code",
        "colab": {}
      },
      "cell_type": "code",
      "source": [
        "# https://keras.io/datasets/#imdb-movie-reviews-sentiment-classification\n",
        "max_features = 10000  # number of words to consider as features\n",
        "maxlen = 500  # cut texts after this number of words (among top max_features most common words)\n",
        "\n",
        "# each review is encoded as a sequence of word indexes\n",
        "# indexed by overall frequency in the dataset\n",
        "# output is 0 (negative) or 1 (positive) \n",
        "imdb = tf.keras.datasets.imdb.load_data(num_words=max_features)\n",
        "(raw_input_train, y_train), (raw_input_test, y_test) = imdb"
      ],
      "execution_count": 0,
      "outputs": []
    },
    {
      "metadata": {
        "id": "U1pnQj2tDlTR",
        "colab_type": "code",
        "colab": {}
      },
      "cell_type": "code",
      "source": [
        "# https://www.tensorflow.org/api_docs/python/tf/keras/preprocessing/sequence/pad_sequences\n",
        "\n",
        "input_train = tf.keras.preprocessing.sequence.pad_sequences(raw_input_train, maxlen=maxlen)\n",
        "input_test = tf.keras.preprocessing.sequence.pad_sequences(raw_input_test, maxlen=maxlen)"
      ],
      "execution_count": 0,
      "outputs": []
    },
    {
      "metadata": {
        "id": "KDSQz2IfDlTV",
        "colab_type": "code",
        "colab": {
          "base_uri": "https://localhost:8080/",
          "height": 34
        },
        "outputId": "3b4643e1-2a36-41e0-ba96-1a31a32879b4"
      },
      "cell_type": "code",
      "source": [
        "input_train.shape, input_test.shape, y_train.shape, y_test.shape"
      ],
      "execution_count": 10,
      "outputs": [
        {
          "output_type": "execute_result",
          "data": {
            "text/plain": [
              "((25000, 500), (25000, 500), (25000,), (25000,))"
            ]
          },
          "metadata": {
            "tags": []
          },
          "execution_count": 10
        }
      ]
    },
    {
      "metadata": {
        "id": "77aA5qukDlTa",
        "colab_type": "text"
      },
      "cell_type": "markdown",
      "source": [
        "## LSTMs"
      ]
    },
    {
      "metadata": {
        "id": "3P5IXssDDlTa",
        "colab_type": "code",
        "colab": {
          "base_uri": "https://localhost:8080/",
          "height": 272
        },
        "outputId": "cdcc4651-2d18-45bb-9676-c8df52aff0cc"
      },
      "cell_type": "code",
      "source": [
        "embedding_dim = 32\n",
        "dropout = 0.15\n",
        "recurrent_dropout = 0.2\n",
        "\n",
        "model = tf.keras.Sequential()\n",
        "model.add(tf.keras.layers.Embedding(name='embedding', input_dim=max_features, output_dim=embedding_dim, input_length=maxlen))\n",
        "\n",
        "model.add(tf.keras.layers.LSTM(name='lstm', units=32))\n",
        "\n",
        "# binary classifier\n",
        "model.add(tf.keras.layers.Dense(name='fc', units=32, activation='relu'))\n",
        "model.add(tf.keras.layers.Dense(name='classifier', units=1, activation='sigmoid'))\n",
        "\n",
        "model.compile(optimizer='adam', loss='binary_crossentropy', metrics=['accuracy'])\n",
        "\n",
        "model.summary()"
      ],
      "execution_count": 11,
      "outputs": [
        {
          "output_type": "stream",
          "text": [
            "_________________________________________________________________\n",
            "Layer (type)                 Output Shape              Param #   \n",
            "=================================================================\n",
            "embedding (Embedding)        (None, 500, 32)           320000    \n",
            "_________________________________________________________________\n",
            "lstm (LSTM)                  (None, 32)                8320      \n",
            "_________________________________________________________________\n",
            "fc (Dense)                   (None, 32)                1056      \n",
            "_________________________________________________________________\n",
            "classifier (Dense)           (None, 1)                 33        \n",
            "=================================================================\n",
            "Total params: 329,409\n",
            "Trainable params: 329,409\n",
            "Non-trainable params: 0\n",
            "_________________________________________________________________\n"
          ],
          "name": "stdout"
        }
      ]
    },
    {
      "metadata": {
        "id": "YnGRCa_NDlTe",
        "colab_type": "code",
        "colab": {
          "base_uri": "https://localhost:8080/",
          "height": 408
        },
        "outputId": "f6838262-863a-491a-8e53-3b5937531186"
      },
      "cell_type": "code",
      "source": [
        "batch_size = 1000\n",
        "\n",
        "%time history = model.fit(input_train, y_train, epochs=10, batch_size=batch_size, validation_split=0.2)"
      ],
      "execution_count": 12,
      "outputs": [
        {
          "output_type": "stream",
          "text": [
            "Train on 20000 samples, validate on 5000 samples\n",
            "Epoch 1/10\n",
            "20000/20000 [==============================] - 34s 2ms/step - loss: 0.6913 - acc: 0.5514 - val_loss: 0.6871 - val_acc: 0.5742\n",
            "Epoch 2/10\n",
            "20000/20000 [==============================] - 33s 2ms/step - loss: 0.6509 - acc: 0.6949 - val_loss: 0.5333 - val_acc: 0.7658\n",
            "Epoch 3/10\n",
            "20000/20000 [==============================] - 33s 2ms/step - loss: 0.5085 - acc: 0.7817 - val_loss: 0.4583 - val_acc: 0.7912\n",
            "Epoch 4/10\n",
            "20000/20000 [==============================] - 33s 2ms/step - loss: 0.3579 - acc: 0.8669 - val_loss: 0.3470 - val_acc: 0.8536\n",
            "Epoch 5/10\n",
            "20000/20000 [==============================] - 33s 2ms/step - loss: 0.2510 - acc: 0.9040 - val_loss: 0.3053 - val_acc: 0.8748\n",
            "Epoch 6/10\n",
            "20000/20000 [==============================] - 33s 2ms/step - loss: 0.1916 - acc: 0.9325 - val_loss: 0.2956 - val_acc: 0.8812\n",
            "Epoch 7/10\n",
            "20000/20000 [==============================] - 33s 2ms/step - loss: 0.1552 - acc: 0.9483 - val_loss: 0.2969 - val_acc: 0.8810\n",
            "Epoch 8/10\n",
            "20000/20000 [==============================] - 33s 2ms/step - loss: 0.1246 - acc: 0.9619 - val_loss: 0.3108 - val_acc: 0.8852\n",
            "Epoch 9/10\n",
            "20000/20000 [==============================] - 33s 2ms/step - loss: 0.0995 - acc: 0.9720 - val_loss: 0.3389 - val_acc: 0.8840\n",
            "Epoch 10/10\n",
            "20000/20000 [==============================] - 33s 2ms/step - loss: 0.0894 - acc: 0.9750 - val_loss: 0.3380 - val_acc: 0.8730\n",
            "CPU times: user 7min 8s, sys: 54.5 s, total: 8min 3s\n",
            "Wall time: 5min 30s\n"
          ],
          "name": "stdout"
        }
      ]
    },
    {
      "metadata": {
        "id": "jL_GisrYDlTj",
        "colab_type": "code",
        "colab": {
          "base_uri": "https://localhost:8080/",
          "height": 51
        },
        "outputId": "62be0aa7-877a-4b4c-c3e5-47178fedc471"
      },
      "cell_type": "code",
      "source": [
        "train_loss, train_accuracy = model.evaluate(input_train, y_train, batch_size=batch_size)\n",
        "train_accuracy"
      ],
      "execution_count": 13,
      "outputs": [
        {
          "output_type": "stream",
          "text": [
            "25000/25000 [==============================] - 14s 568us/step\n"
          ],
          "name": "stdout"
        },
        {
          "output_type": "execute_result",
          "data": {
            "text/plain": [
              "0.948560004234314"
            ]
          },
          "metadata": {
            "tags": []
          },
          "execution_count": 13
        }
      ]
    },
    {
      "metadata": {
        "id": "WPdu2AZ9DlTo",
        "colab_type": "code",
        "colab": {
          "base_uri": "https://localhost:8080/",
          "height": 51
        },
        "outputId": "44aece1b-c121-4c30-c7e1-6671f40aac8f"
      },
      "cell_type": "code",
      "source": [
        "test_loss, test_accuracy = model.evaluate(input_test, y_test, batch_size=batch_size)\n",
        "test_accuracy"
      ],
      "execution_count": 14,
      "outputs": [
        {
          "output_type": "stream",
          "text": [
            "25000/25000 [==============================] - 14s 570us/step\n"
          ],
          "name": "stdout"
        },
        {
          "output_type": "execute_result",
          "data": {
            "text/plain": [
              "0.8644800066947937"
            ]
          },
          "metadata": {
            "tags": []
          },
          "execution_count": 14
        }
      ]
    },
    {
      "metadata": {
        "id": "ncybHXhYDlTr",
        "colab_type": "code",
        "colab": {
          "base_uri": "https://localhost:8080/",
          "height": 102
        },
        "outputId": "da86e6e6-9fc5-4594-a9a6-efcc53e5393c"
      },
      "cell_type": "code",
      "source": [
        "# precition\n",
        "model.predict(input_test[0:5])"
      ],
      "execution_count": 15,
      "outputs": [
        {
          "output_type": "execute_result",
          "data": {
            "text/plain": [
              "array([[0.1685272 ],\n",
              "       [0.9979431 ],\n",
              "       [0.8867608 ],\n",
              "       [0.32337418],\n",
              "       [0.9989875 ]], dtype=float32)"
            ]
          },
          "metadata": {
            "tags": []
          },
          "execution_count": 15
        }
      ]
    },
    {
      "metadata": {
        "id": "odwgxZ1SDlTv",
        "colab_type": "code",
        "colab": {
          "base_uri": "https://localhost:8080/",
          "height": 34
        },
        "outputId": "47f94b8c-3088-426e-f828-b009b6beb428"
      },
      "cell_type": "code",
      "source": [
        "# ground truth\n",
        "y_test[0:5]"
      ],
      "execution_count": 16,
      "outputs": [
        {
          "output_type": "execute_result",
          "data": {
            "text/plain": [
              "array([0, 1, 1, 0, 1])"
            ]
          },
          "metadata": {
            "tags": []
          },
          "execution_count": 16
        }
      ]
    },
    {
      "metadata": {
        "id": "PA4i7E-mGiLi",
        "colab_type": "code",
        "colab": {}
      },
      "cell_type": "code",
      "source": [
        ""
      ],
      "execution_count": 0,
      "outputs": []
    }
  ]
}