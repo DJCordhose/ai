{
  "nbformat": 4,
  "nbformat_minor": 0,
  "metadata": {
    "colab": {
      "name": "rnn-add-example.ipynb",
      "version": "0.3.2",
      "provenance": [],
      "include_colab_link": true
    },
    "kernelspec": {
      "display_name": "Python 3",
      "language": "python",
      "name": "python3"
    },
    "accelerator": "GPU"
  },
  "cells": [
    {
      "cell_type": "markdown",
      "metadata": {
        "id": "view-in-github",
        "colab_type": "text"
      },
      "source": [
        "<a href=\"https://colab.research.google.com/github/DJCordhose/ai/blob/master/notebooks/2019_tf/rnn-add-example.ipynb\" target=\"_parent\"><img src=\"https://colab.research.google.com/assets/colab-badge.svg\" alt=\"Open In Colab\"/></a>"
      ]
    },
    {
      "metadata": {
        "id": "Zqi1xb086Gl_",
        "colab_type": "code",
        "colab": {}
      },
      "cell_type": "code",
      "source": [
        "# Adapted from\n",
        "# https://github.com/keras-team/keras/blob/master/examples/addition_rnn.py"
      ],
      "execution_count": 0,
      "outputs": []
    },
    {
      "metadata": {
        "id": "n3ey4zBb6GmE",
        "colab_type": "code",
        "colab": {}
      },
      "cell_type": "code",
      "source": [
        "import warnings\n",
        "warnings.filterwarnings('ignore')"
      ],
      "execution_count": 0,
      "outputs": []
    },
    {
      "metadata": {
        "id": "E8uDkaTi6GmH",
        "colab_type": "code",
        "outputId": "effade27-3793-4880-d672-458e52271e49",
        "colab": {
          "base_uri": "https://localhost:8080/",
          "height": 34
        }
      },
      "cell_type": "code",
      "source": [
        "%matplotlib inline\n",
        "%pylab inline"
      ],
      "execution_count": 3,
      "outputs": [
        {
          "output_type": "stream",
          "text": [
            "Populating the interactive namespace from numpy and matplotlib\n"
          ],
          "name": "stdout"
        }
      ]
    },
    {
      "metadata": {
        "id": "8ZQZTEee6GmM",
        "colab_type": "code",
        "outputId": "3026dfa7-f6d0-4851-e904-87a1ffaee079",
        "colab": {
          "base_uri": "https://localhost:8080/",
          "height": 34
        }
      },
      "cell_type": "code",
      "source": [
        "import tensorflow as tf\n",
        "tf.logging.set_verbosity(tf.logging.ERROR)\n",
        "print(tf.__version__)"
      ],
      "execution_count": 4,
      "outputs": [
        {
          "output_type": "stream",
          "text": [
            "1.12.0\n"
          ],
          "name": "stdout"
        }
      ]
    },
    {
      "metadata": {
        "id": "7kBle7aI9O7O",
        "colab_type": "code",
        "outputId": "60268cdb-5a3e-4623-c387-9d6a7fbfff1a",
        "colab": {
          "base_uri": "https://localhost:8080/",
          "height": 86
        }
      },
      "cell_type": "code",
      "source": [
        "# let's see what compute devices we have available, hopefully a GPU \n",
        "sess = tf.Session()\n",
        "devices = sess.list_devices()\n",
        "for d in devices:\n",
        "    print(d.name)"
      ],
      "execution_count": 5,
      "outputs": [
        {
          "output_type": "stream",
          "text": [
            "/job:localhost/replica:0/task:0/device:CPU:0\n",
            "/job:localhost/replica:0/task:0/device:XLA_CPU:0\n",
            "/job:localhost/replica:0/task:0/device:XLA_GPU:0\n",
            "/job:localhost/replica:0/task:0/device:GPU:0\n"
          ],
          "name": "stdout"
        }
      ]
    },
    {
      "metadata": {
        "id": "k7rxZQym9PcT",
        "colab_type": "code",
        "outputId": "ad628e26-36db-4f4f-cfee-b54c7380a381",
        "colab": {
          "base_uri": "https://localhost:8080/",
          "height": 34
        }
      },
      "cell_type": "code",
      "source": [
        "# a small sanity check, does tf seem to work ok?\n",
        "hello = tf.constant('Hello TF!')\n",
        "print(sess.run(hello))"
      ],
      "execution_count": 6,
      "outputs": [
        {
          "output_type": "stream",
          "text": [
            "b'Hello TF!'\n"
          ],
          "name": "stdout"
        }
      ]
    },
    {
      "metadata": {
        "id": "2gCgM1JJ9T2v",
        "colab_type": "code",
        "outputId": "3ec5caaa-91b8-4682-8442-2cde24ac3f60",
        "colab": {
          "base_uri": "https://localhost:8080/",
          "height": 34
        }
      },
      "cell_type": "code",
      "source": [
        "from tensorflow import keras\n",
        "print(keras.__version__)"
      ],
      "execution_count": 7,
      "outputs": [
        {
          "output_type": "stream",
          "text": [
            "2.1.6-tf\n"
          ],
          "name": "stdout"
        }
      ]
    },
    {
      "metadata": {
        "id": "SEvTJtaL6GmR",
        "colab_type": "text"
      },
      "cell_type": "markdown",
      "source": [
        "### Step 1: Generate sample equations"
      ]
    },
    {
      "metadata": {
        "id": "IAz9Tnpu6GmR",
        "colab_type": "code",
        "colab": {}
      },
      "cell_type": "code",
      "source": [
        "class CharacterTable(object):\n",
        "    \"\"\"Given a set of characters:\n",
        "    + Encode them to a one hot integer representation\n",
        "    + Decode the one hot integer representation to their character output\n",
        "    + Decode a vector of probabilities to their character output\n",
        "    \"\"\"\n",
        "    def __init__(self, chars):\n",
        "        \"\"\"Initialize character table.\n",
        "\n",
        "        # Arguments\n",
        "            chars: Characters that can appear in the input.\n",
        "        \"\"\"\n",
        "        self.chars = sorted(set(chars))\n",
        "        self.char_indices = dict((c, i) for i, c in enumerate(self.chars))\n",
        "        self.indices_char = dict((i, c) for i, c in enumerate(self.chars))\n",
        "\n",
        "    def encode(self, C, num_rows):\n",
        "        \"\"\"One hot encode given string C.\n",
        "\n",
        "        # Arguments\n",
        "            num_rows: Number of rows in the returned one hot encoding. This is\n",
        "                used to keep the # of rows for each data the same.\n",
        "        \"\"\"\n",
        "        x = np.zeros((num_rows, len(self.chars)))\n",
        "        for i, c in enumerate(C):\n",
        "            x[i, self.char_indices[c]] = 1\n",
        "        return x\n",
        "\n",
        "    def decode(self, x, calc_argmax=True):\n",
        "        if calc_argmax:\n",
        "            x = x.argmax(axis=-1)\n",
        "        return ''.join(self.indices_char[x] for x in x)\n"
      ],
      "execution_count": 0,
      "outputs": []
    },
    {
      "metadata": {
        "id": "DqdzUFGZ6GmV",
        "colab_type": "code",
        "colab": {}
      },
      "cell_type": "code",
      "source": [
        "class colors:\n",
        "    ok = '\\033[92m'\n",
        "    fail = '\\033[91m'\n",
        "    close = '\\033[0m'"
      ],
      "execution_count": 0,
      "outputs": []
    },
    {
      "metadata": {
        "id": "kf7L7DwB6GmY",
        "colab_type": "code",
        "outputId": "ba77105b-5de7-4486-cf5b-8fd4de8add9b",
        "colab": {
          "base_uri": "https://localhost:8080/",
          "height": 51
        }
      },
      "cell_type": "code",
      "source": [
        "# Parameters for the model and dataset.\n",
        "TRAINING_SIZE = 50000\n",
        "DIGITS = 3\n",
        "# REVERSE = True\n",
        "REVERSE = False\n",
        "\n",
        "# Maximum length of input is 'int + int' (e.g., '345+678'). Maximum length of\n",
        "# int is DIGITS.\n",
        "MAXLEN = DIGITS + 1 + DIGITS\n",
        "\n",
        "# All the numbers, plus sign and space for padding.\n",
        "chars = '0123456789+ '\n",
        "ctable = CharacterTable(chars)\n",
        "\n",
        "questions = []\n",
        "expected = []\n",
        "seen = set()\n",
        "print('Generating data...')\n",
        "while len(questions) < TRAINING_SIZE:\n",
        "    f = lambda: int(''.join(np.random.choice(list('0123456789'))\n",
        "                    for i in range(np.random.randint(1, DIGITS + 1))))\n",
        "    a, b = f(), f()\n",
        "    # Skip any addition questions we've already seen\n",
        "    # Also skip any such that x+Y == Y+x (hence the sorting).\n",
        "    key = tuple(sorted((a, b)))\n",
        "    if key in seen:\n",
        "        continue\n",
        "    seen.add(key)\n",
        "    # Pad the data with spaces such that it is always MAXLEN.\n",
        "    q = '{}+{}'.format(a, b)\n",
        "    query = q + ' ' * (MAXLEN - len(q))\n",
        "    ans = str(a + b)\n",
        "    # Answers can be of maximum size DIGITS + 1.\n",
        "    ans += ' ' * (DIGITS + 1 - len(ans))\n",
        "    if REVERSE:\n",
        "        # Reverse the query, e.g., '12+345  ' becomes '  543+21'. (Note the\n",
        "        # space used for padding.)\n",
        "        query = query[::-1]\n",
        "    questions.append(query)\n",
        "    expected.append(ans)\n",
        "print('Total addition questions:', len(questions))"
      ],
      "execution_count": 10,
      "outputs": [
        {
          "output_type": "stream",
          "text": [
            "Generating data...\n",
            "Total addition questions: 50000\n"
          ],
          "name": "stdout"
        }
      ]
    },
    {
      "metadata": {
        "id": "gTLONdDN6Gmc",
        "colab_type": "code",
        "outputId": "9e15f956-8b73-4db8-e6d5-a91297f837ca",
        "colab": {
          "base_uri": "https://localhost:8080/",
          "height": 34
        }
      },
      "cell_type": "code",
      "source": [
        "questions[0]"
      ],
      "execution_count": 11,
      "outputs": [
        {
          "output_type": "execute_result",
          "data": {
            "text/plain": [
              "'83+335 '"
            ]
          },
          "metadata": {
            "tags": []
          },
          "execution_count": 11
        }
      ]
    },
    {
      "metadata": {
        "id": "L6n6X_w26Gmg",
        "colab_type": "code",
        "outputId": "377ee977-4bfb-42db-bcf9-13c972e3e2bb",
        "colab": {
          "base_uri": "https://localhost:8080/",
          "height": 34
        }
      },
      "cell_type": "code",
      "source": [
        "print('Vectorization...')\n",
        "x = np.zeros((len(questions), MAXLEN, len(chars)), dtype=np.bool)\n",
        "y = np.zeros((len(questions), DIGITS + 1, len(chars)), dtype=np.bool)\n",
        "for i, sentence in enumerate(questions):\n",
        "    x[i] = ctable.encode(sentence, MAXLEN)\n",
        "for i, sentence in enumerate(expected):\n",
        "    y[i] = ctable.encode(sentence, DIGITS + 1)\n"
      ],
      "execution_count": 12,
      "outputs": [
        {
          "output_type": "stream",
          "text": [
            "Vectorization...\n"
          ],
          "name": "stdout"
        }
      ]
    },
    {
      "metadata": {
        "id": "L1rqJg9v6Gmk",
        "colab_type": "code",
        "outputId": "56af22f2-171d-4211-938a-6e20f737e530",
        "colab": {
          "base_uri": "https://localhost:8080/",
          "height": 34
        }
      },
      "cell_type": "code",
      "source": [
        "len(x[0])"
      ],
      "execution_count": 13,
      "outputs": [
        {
          "output_type": "execute_result",
          "data": {
            "text/plain": [
              "7"
            ]
          },
          "metadata": {
            "tags": []
          },
          "execution_count": 13
        }
      ]
    },
    {
      "metadata": {
        "id": "0lgZ9xs-6Gmo",
        "colab_type": "code",
        "outputId": "47bd1e79-9a84-42fb-f5b0-54aaba106a0e",
        "colab": {
          "base_uri": "https://localhost:8080/",
          "height": 34
        }
      },
      "cell_type": "code",
      "source": [
        "len(questions[0])"
      ],
      "execution_count": 14,
      "outputs": [
        {
          "output_type": "execute_result",
          "data": {
            "text/plain": [
              "7"
            ]
          },
          "metadata": {
            "tags": []
          },
          "execution_count": 14
        }
      ]
    },
    {
      "metadata": {
        "id": "5MU2q5Jp6Gmr",
        "colab_type": "code",
        "outputId": "f0f18692-17a2-48c3-b257-2f89cc80b273",
        "colab": {
          "base_uri": "https://localhost:8080/",
          "height": 34
        }
      },
      "cell_type": "code",
      "source": [
        "questions[0]"
      ],
      "execution_count": 15,
      "outputs": [
        {
          "output_type": "execute_result",
          "data": {
            "text/plain": [
              "'83+335 '"
            ]
          },
          "metadata": {
            "tags": []
          },
          "execution_count": 15
        }
      ]
    },
    {
      "metadata": {
        "id": "NLtol2BUW1tk",
        "colab_type": "text"
      },
      "cell_type": "markdown",
      "source": [
        "### Input is encoded as one-hot, 7 digits times 12 possibilities"
      ]
    },
    {
      "metadata": {
        "id": "wZ_g5cHf6Gmw",
        "colab_type": "code",
        "outputId": "8f5a8b74-be00-4a50-8a28-2448a0138580",
        "colab": {
          "base_uri": "https://localhost:8080/",
          "height": 258
        }
      },
      "cell_type": "code",
      "source": [
        "x[0]"
      ],
      "execution_count": 16,
      "outputs": [
        {
          "output_type": "execute_result",
          "data": {
            "text/plain": [
              "array([[False, False, False, False, False, False, False, False, False,\n",
              "        False,  True, False],\n",
              "       [False, False, False, False, False,  True, False, False, False,\n",
              "        False, False, False],\n",
              "       [False,  True, False, False, False, False, False, False, False,\n",
              "        False, False, False],\n",
              "       [False, False, False, False, False,  True, False, False, False,\n",
              "        False, False, False],\n",
              "       [False, False, False, False, False,  True, False, False, False,\n",
              "        False, False, False],\n",
              "       [False, False, False, False, False, False, False,  True, False,\n",
              "        False, False, False],\n",
              "       [ True, False, False, False, False, False, False, False, False,\n",
              "        False, False, False]])"
            ]
          },
          "metadata": {
            "tags": []
          },
          "execution_count": 16
        }
      ]
    },
    {
      "metadata": {
        "id": "mbX2RzJVW-dN",
        "colab_type": "text"
      },
      "cell_type": "markdown",
      "source": [
        "### Same for output, but at most 4 digits"
      ]
    },
    {
      "metadata": {
        "id": "hWldgEEJ6Gmz",
        "colab_type": "code",
        "outputId": "a97a1d8c-a5f3-4100-f5ad-19fa1b998feb",
        "colab": {
          "base_uri": "https://localhost:8080/",
          "height": 155
        }
      },
      "cell_type": "code",
      "source": [
        "y[0]"
      ],
      "execution_count": 17,
      "outputs": [
        {
          "output_type": "execute_result",
          "data": {
            "text/plain": [
              "array([[False, False, False, False, False, False,  True, False, False,\n",
              "        False, False, False],\n",
              "       [False, False, False,  True, False, False, False, False, False,\n",
              "        False, False, False],\n",
              "       [False, False, False, False, False, False, False, False, False,\n",
              "        False,  True, False],\n",
              "       [ True, False, False, False, False, False, False, False, False,\n",
              "        False, False, False]])"
            ]
          },
          "metadata": {
            "tags": []
          },
          "execution_count": 17
        }
      ]
    },
    {
      "metadata": {
        "id": "o-r8EDwQ6Gm5",
        "colab_type": "code",
        "outputId": "828f849a-d663-4e49-b9ed-388e80e984ce",
        "colab": {
          "base_uri": "https://localhost:8080/",
          "height": 34
        }
      },
      "cell_type": "code",
      "source": [
        "expected[0]"
      ],
      "execution_count": 18,
      "outputs": [
        {
          "output_type": "execute_result",
          "data": {
            "text/plain": [
              "'418 '"
            ]
          },
          "metadata": {
            "tags": []
          },
          "execution_count": 18
        }
      ]
    },
    {
      "metadata": {
        "id": "XPO5c5xe6GnB",
        "colab_type": "code",
        "colab": {}
      },
      "cell_type": "code",
      "source": [
        "# Shuffle (x, y) in unison as the later parts of x will almost all be larger\n",
        "# digits.\n",
        "indices = np.arange(len(y))\n",
        "np.random.shuffle(indices)\n",
        "x = x[indices]\n",
        "y = y[indices]"
      ],
      "execution_count": 0,
      "outputs": []
    },
    {
      "metadata": {
        "id": "envfa2ZT6GnE",
        "colab_type": "text"
      },
      "cell_type": "markdown",
      "source": [
        "### Step 2: Training/Validation Split"
      ]
    },
    {
      "metadata": {
        "id": "bDSoeziy6GnE",
        "colab_type": "code",
        "outputId": "5a1b55be-0a76-4fe9-dac0-69ba7207ff23",
        "colab": {
          "base_uri": "https://localhost:8080/",
          "height": 120
        }
      },
      "cell_type": "code",
      "source": [
        "# Explicitly set apart 10% for validation data that we never train over.\n",
        "split_at = len(x) - len(x) // 10\n",
        "(x_train, x_val) = x[:split_at], x[split_at:]\n",
        "(y_train, y_val) = y[:split_at], y[split_at:]\n",
        "\n",
        "print('Training Data:')\n",
        "print(x_train.shape)\n",
        "print(y_train.shape)\n",
        "\n",
        "print('Validation Data:')\n",
        "print(x_val.shape)\n",
        "print(y_val.shape)"
      ],
      "execution_count": 20,
      "outputs": [
        {
          "output_type": "stream",
          "text": [
            "Training Data:\n",
            "(45000, 7, 12)\n",
            "(45000, 4, 12)\n",
            "Validation Data:\n",
            "(5000, 7, 12)\n",
            "(5000, 4, 12)\n"
          ],
          "name": "stdout"
        }
      ]
    },
    {
      "metadata": {
        "id": "bPUg9slY6GnK",
        "colab_type": "text"
      },
      "cell_type": "markdown",
      "source": [
        "### Step 3: Create Model"
      ]
    },
    {
      "metadata": {
        "id": "wK_ll_ew6GnL",
        "colab_type": "code",
        "outputId": "f52de4af-560d-4099-e18e-4cee79eb7b0c",
        "colab": {
          "base_uri": "https://localhost:8080/",
          "height": 34
        }
      },
      "cell_type": "code",
      "source": [
        "# input shape: 7 digits, each being 0-9, + or space (12 possibilities)\n",
        "MAXLEN, len(chars)"
      ],
      "execution_count": 21,
      "outputs": [
        {
          "output_type": "execute_result",
          "data": {
            "text/plain": [
              "(7, 12)"
            ]
          },
          "metadata": {
            "tags": []
          },
          "execution_count": 21
        }
      ]
    },
    {
      "metadata": {
        "id": "dksl6o766GnO",
        "colab_type": "code",
        "outputId": "0a7fc55c-f441-4094-ed77-ae69763b9792",
        "colab": {
          "base_uri": "https://localhost:8080/",
          "height": 310
        }
      },
      "cell_type": "code",
      "source": [
        "from tensorflow.keras.models import Sequential\n",
        "from tensorflow.keras.layers import  LSTM, GRU, SimpleRNN, Dense, RepeatVector\n",
        "\n",
        "# Try replacing LSTM, GRU, or SimpleRNN.\n",
        "# RNN = LSTM\n",
        "RNN = SimpleRNN # should be enough since we do not have long sequences and only local dependencies\n",
        "# RNN = GRU\n",
        "HIDDEN_SIZE = 128\n",
        "BATCH_SIZE = 128\n",
        "\n",
        "model = Sequential()\n",
        "# encoder \n",
        "model.add(RNN(units=HIDDEN_SIZE, input_shape=(MAXLEN, len(chars))))\n",
        "\n",
        "# latent space\n",
        "encoding_dim = 32\n",
        "model.add(Dense(units=encoding_dim, activation='relu', name=\"encoder\"))\n",
        "\n",
        "# decoder: have 4 temporal outputs one for each of the digits of the results\n",
        "model.add(RepeatVector(DIGITS + 1))\n",
        "\n",
        "# return_sequences=True tells it to keep all 4 temporal outputs, not only the final one (we need all four digits for the results)\n",
        "model.add(RNN(units=HIDDEN_SIZE, return_sequences=True))\n",
        "\n",
        "model.add(Dense(name='classifier', units=len(chars), activation='softmax'))\n",
        "\n",
        "model.compile(loss='categorical_crossentropy',\n",
        "              optimizer='adam',\n",
        "              metrics=['accuracy'])\n",
        "model.summary()"
      ],
      "execution_count": 22,
      "outputs": [
        {
          "output_type": "stream",
          "text": [
            "_________________________________________________________________\n",
            "Layer (type)                 Output Shape              Param #   \n",
            "=================================================================\n",
            "simple_rnn (SimpleRNN)       (None, 128)               18048     \n",
            "_________________________________________________________________\n",
            "encoder (Dense)              (None, 32)                4128      \n",
            "_________________________________________________________________\n",
            "repeat_vector (RepeatVector) (None, 4, 32)             0         \n",
            "_________________________________________________________________\n",
            "simple_rnn_1 (SimpleRNN)     (None, 4, 128)            20608     \n",
            "_________________________________________________________________\n",
            "classifier (Dense)           (None, 4, 12)             1548      \n",
            "=================================================================\n",
            "Total params: 44,332\n",
            "Trainable params: 44,332\n",
            "Non-trainable params: 0\n",
            "_________________________________________________________________\n"
          ],
          "name": "stdout"
        }
      ]
    },
    {
      "metadata": {
        "id": "FBCYGAqBXWlY",
        "colab_type": "text"
      },
      "cell_type": "markdown",
      "source": [
        "### Before training lets look at sample input and output"
      ]
    },
    {
      "metadata": {
        "id": "tTb9qwNcXfBF",
        "colab_type": "code",
        "colab": {
          "base_uri": "https://localhost:8080/",
          "height": 258
        },
        "outputId": "d0563eb5-d068-4b2a-fbc4-6efb34ff1efe"
      },
      "cell_type": "code",
      "source": [
        "# input one-hot\n",
        "x_val[0]"
      ],
      "execution_count": 23,
      "outputs": [
        {
          "output_type": "execute_result",
          "data": {
            "text/plain": [
              "array([[False, False, False, False, False, False, False, False, False,\n",
              "        False,  True, False],\n",
              "       [False, False,  True, False, False, False, False, False, False,\n",
              "        False, False, False],\n",
              "       [False, False, False, False, False, False, False, False, False,\n",
              "        False,  True, False],\n",
              "       [False,  True, False, False, False, False, False, False, False,\n",
              "        False, False, False],\n",
              "       [False, False, False, False, False, False, False, False, False,\n",
              "        False,  True, False],\n",
              "       [False, False, False,  True, False, False, False, False, False,\n",
              "        False, False, False],\n",
              "       [False, False, False, False, False, False, False, False, False,\n",
              "        False, False,  True]])"
            ]
          },
          "metadata": {
            "tags": []
          },
          "execution_count": 23
        }
      ]
    },
    {
      "metadata": {
        "id": "c8pEzhmT6GnS",
        "colab_type": "code",
        "outputId": "5298f3cb-e35d-4b88-9dd4-2dcbdac52413",
        "colab": {
          "base_uri": "https://localhost:8080/",
          "height": 224
        }
      },
      "cell_type": "code",
      "source": [
        "# output \"one-hot\" scores\n",
        "model.predict(np.array([x_val[0]]))"
      ],
      "execution_count": 24,
      "outputs": [
        {
          "output_type": "execute_result",
          "data": {
            "text/plain": [
              "array([[[0.11194286, 0.08703223, 0.04466162, 0.09614258, 0.07991789,\n",
              "         0.10015881, 0.08792052, 0.0613222 , 0.07658774, 0.07327285,\n",
              "         0.09509439, 0.08594634],\n",
              "        [0.0828578 , 0.09545451, 0.04661759, 0.08456481, 0.06100081,\n",
              "         0.12409856, 0.10386992, 0.05089214, 0.10278594, 0.06949714,\n",
              "         0.08618999, 0.09217083],\n",
              "        [0.06040806, 0.0901994 , 0.03527799, 0.09478931, 0.04698731,\n",
              "         0.16602011, 0.1034363 , 0.04319282, 0.11064598, 0.07751279,\n",
              "         0.08932592, 0.08220395],\n",
              "        [0.05838025, 0.0976936 , 0.04050993, 0.11656898, 0.05230108,\n",
              "         0.15842348, 0.10815699, 0.0403192 , 0.10056987, 0.09268498,\n",
              "         0.06567447, 0.06871716]]], dtype=float32)"
            ]
          },
          "metadata": {
            "tags": []
          },
          "execution_count": 24
        }
      ]
    },
    {
      "metadata": {
        "id": "-yXszHzg6GnW",
        "colab_type": "code",
        "outputId": "8c11d4f8-f309-4734-df43-9c09f7f902e4",
        "colab": {
          "base_uri": "https://localhost:8080/",
          "height": 34
        }
      },
      "cell_type": "code",
      "source": [
        "# output decoded by only showing highest score for digit\n",
        "model.predict_classes(np.array([x_val[0]]))"
      ],
      "execution_count": 25,
      "outputs": [
        {
          "output_type": "execute_result",
          "data": {
            "text/plain": [
              "array([[0, 5, 5, 5]])"
            ]
          },
          "metadata": {
            "tags": []
          },
          "execution_count": 25
        }
      ]
    },
    {
      "metadata": {
        "id": "cdW2FJVl6GnZ",
        "colab_type": "text"
      },
      "cell_type": "markdown",
      "source": [
        "### Step 4: Train"
      ]
    },
    {
      "metadata": {
        "id": "izY-B-UF6Gna",
        "colab_type": "code",
        "outputId": "0e6f5431-2d61-43d4-cda6-cbde985bca19",
        "colab": {
          "base_uri": "https://localhost:8080/",
          "height": 13593
        }
      },
      "cell_type": "code",
      "source": [
        "%%time\n",
        "\n",
        "# Train the model each generation and show predictions against the validation\n",
        "# dataset.\n",
        "\n",
        "merged_losses = {\n",
        "    \"loss\": [],\n",
        "    \"val_loss\": []\n",
        "}\n",
        "\n",
        "for iteration in range(1, 50):\n",
        "    print()\n",
        "    print('-' * 50)\n",
        "    print('Iteration', iteration)\n",
        "    iteration_history = model.fit(x_train, y_train,\n",
        "              batch_size=BATCH_SIZE,\n",
        "              epochs=1,\n",
        "              validation_data=(x_val, y_val))\n",
        "    \n",
        "    merged_losses[\"loss\"].append(iteration_history.history[\"loss\"])\n",
        "    merged_losses[\"val_loss\"].append(iteration_history.history[\"val_loss\"])\n",
        "\n",
        "    # Select 10 samples from the validation set at random so we can visualize\n",
        "    # errors.\n",
        "    for i in range(10):\n",
        "        ind = np.random.randint(0, len(x_val))\n",
        "        rowx, rowy = x_val[np.array([ind])], y_val[np.array([ind])]\n",
        "        preds = model.predict_classes(rowx, verbose=0)\n",
        "        q = ctable.decode(rowx[0])\n",
        "        correct = ctable.decode(rowy[0])\n",
        "        guess = ctable.decode(preds[0], calc_argmax=False)\n",
        "        print('Q', q[::-1] if REVERSE else q, end=' ')\n",
        "        print('T', correct, end=' ')\n",
        "        if correct == guess:\n",
        "            print(colors.ok + '☑' + colors.close, end=' ')\n",
        "        else:\n",
        "            print(colors.fail + '☒' + colors.close, end=' ')\n",
        "        print(guess)"
      ],
      "execution_count": 35,
      "outputs": [
        {
          "output_type": "stream",
          "text": [
            "\n",
            "--------------------------------------------------\n",
            "Iteration 1\n",
            "Train on 45000 samples, validate on 5000 samples\n",
            "Epoch 1/1\n",
            "45000/45000 [==============================] - 6s 124us/step - loss: 1.1818 - acc: 0.5528 - val_loss: 1.1146 - val_acc: 0.5736\n",
            "Q 203+184 T 387  \u001b[91m☒\u001b[0m 414 \n",
            "Q 964+71  T 1035 \u001b[91m☒\u001b[0m 1044\n",
            "Q 50+985  T 1035 \u001b[91m☒\u001b[0m 1044\n",
            "Q 844+486 T 1330 \u001b[91m☒\u001b[0m 1312\n",
            "Q 584+764 T 1348 \u001b[91m☒\u001b[0m 1446\n",
            "Q 224+14  T 238  \u001b[91m☒\u001b[0m 237 \n",
            "Q 81+0    T 81   \u001b[91m☒\u001b[0m 88  \n",
            "Q 68+194  T 262  \u001b[91m☒\u001b[0m 259 \n",
            "Q 306+562 T 868  \u001b[91m☒\u001b[0m 774 \n",
            "Q 652+931 T 1583 \u001b[91m☒\u001b[0m 1406\n",
            "\n",
            "--------------------------------------------------\n",
            "Iteration 2\n",
            "Train on 45000 samples, validate on 5000 samples\n",
            "Epoch 1/1\n",
            "45000/45000 [==============================] - 6s 130us/step - loss: 1.0473 - acc: 0.6013 - val_loss: 1.0548 - val_acc: 0.6030\n",
            "Q 34+303  T 337  \u001b[91m☒\u001b[0m 339 \n",
            "Q 17+732  T 749  \u001b[91m☒\u001b[0m 740 \n",
            "Q 3+533   T 536  \u001b[92m☑\u001b[0m 536 \n",
            "Q 83+446  T 529  \u001b[91m☒\u001b[0m 520 \n",
            "Q 16+905  T 921  \u001b[91m☒\u001b[0m 901 \n",
            "Q 90+259  T 349  \u001b[91m☒\u001b[0m 341 \n",
            "Q 68+299  T 367  \u001b[91m☒\u001b[0m 376 \n",
            "Q 482+494 T 976  \u001b[91m☒\u001b[0m 1075\n",
            "Q 371+56  T 427  \u001b[91m☒\u001b[0m 420 \n",
            "Q 1+653   T 654  \u001b[92m☑\u001b[0m 654 \n",
            "\n",
            "--------------------------------------------------\n",
            "Iteration 3\n",
            "Train on 45000 samples, validate on 5000 samples\n",
            "Epoch 1/1\n",
            "45000/45000 [==============================] - 6s 129us/step - loss: 0.9535 - acc: 0.6367 - val_loss: 0.9425 - val_acc: 0.6354\n",
            "Q 17+732  T 749  \u001b[91m☒\u001b[0m 740 \n",
            "Q 33+395  T 428  \u001b[91m☒\u001b[0m 420 \n",
            "Q 62+294  T 356  \u001b[91m☒\u001b[0m 353 \n",
            "Q 689+9   T 698  \u001b[91m☒\u001b[0m 690 \n",
            "Q 926+55  T 981  \u001b[91m☒\u001b[0m 983 \n",
            "Q 685+813 T 1498 \u001b[91m☒\u001b[0m 1595\n",
            "Q 577+462 T 1039 \u001b[91m☒\u001b[0m 1049\n",
            "Q 350+949 T 1299 \u001b[91m☒\u001b[0m 1393\n",
            "Q 762+472 T 1234 \u001b[91m☒\u001b[0m 1238\n",
            "Q 17+62   T 79   \u001b[91m☒\u001b[0m 88  \n",
            "\n",
            "--------------------------------------------------\n",
            "Iteration 4\n",
            "Train on 45000 samples, validate on 5000 samples\n",
            "Epoch 1/1\n",
            "45000/45000 [==============================] - 6s 128us/step - loss: 0.8691 - acc: 0.6678 - val_loss: 0.8321 - val_acc: 0.6811\n",
            "Q 535+22  T 557  \u001b[91m☒\u001b[0m 555 \n",
            "Q 887+9   T 896  \u001b[91m☒\u001b[0m 895 \n",
            "Q 65+66   T 131  \u001b[91m☒\u001b[0m 136 \n",
            "Q 8+473   T 481  \u001b[92m☑\u001b[0m 481 \n",
            "Q 901+4   T 905  \u001b[91m☒\u001b[0m 911 \n",
            "Q 31+939  T 970  \u001b[91m☒\u001b[0m 971 \n",
            "Q 182+0   T 182  \u001b[91m☒\u001b[0m 181 \n",
            "Q 154+21  T 175  \u001b[91m☒\u001b[0m 165 \n",
            "Q 78+825  T 903  \u001b[91m☒\u001b[0m 814 \n",
            "Q 72+686  T 758  \u001b[91m☒\u001b[0m 757 \n",
            "\n",
            "--------------------------------------------------\n",
            "Iteration 5\n",
            "Train on 45000 samples, validate on 5000 samples\n",
            "Epoch 1/1\n",
            "45000/45000 [==============================] - 6s 131us/step - loss: 0.7958 - acc: 0.6945 - val_loss: 0.7789 - val_acc: 0.6985\n",
            "Q 3+262   T 265  \u001b[92m☑\u001b[0m 265 \n",
            "Q 8+578   T 586  \u001b[91m☒\u001b[0m 686 \n",
            "Q 84+482  T 566  \u001b[91m☒\u001b[0m 567 \n",
            "Q 73+862  T 935  \u001b[91m☒\u001b[0m 936 \n",
            "Q 93+265  T 358  \u001b[91m☒\u001b[0m 359 \n",
            "Q 551+729 T 1280 \u001b[91m☒\u001b[0m 1277\n",
            "Q 38+916  T 954  \u001b[92m☑\u001b[0m 954 \n",
            "Q 95+992  T 1087 \u001b[92m☑\u001b[0m 1087\n",
            "Q 37+99   T 136  \u001b[91m☒\u001b[0m 134 \n",
            "Q 682+7   T 689  \u001b[91m☒\u001b[0m 685 \n",
            "\n",
            "--------------------------------------------------\n",
            "Iteration 6\n",
            "Train on 45000 samples, validate on 5000 samples\n",
            "Epoch 1/1\n",
            "45000/45000 [==============================] - 6s 130us/step - loss: 0.7290 - acc: 0.7204 - val_loss: 0.7124 - val_acc: 0.7223\n",
            "Q 775+59  T 834  \u001b[92m☑\u001b[0m 834 \n",
            "Q 59+739  T 798  \u001b[91m☒\u001b[0m 887 \n",
            "Q 34+750  T 784  \u001b[91m☒\u001b[0m 774 \n",
            "Q 14+900  T 914  \u001b[91m☒\u001b[0m 915 \n",
            "Q 978+259 T 1237 \u001b[91m☒\u001b[0m 1232\n",
            "Q 644+685 T 1329 \u001b[91m☒\u001b[0m 1324\n",
            "Q 972+97  T 1069 \u001b[91m☒\u001b[0m 1079\n",
            "Q 74+872  T 946  \u001b[91m☒\u001b[0m 956 \n",
            "Q 2+829   T 831  \u001b[91m☒\u001b[0m 830 \n",
            "Q 140+99  T 239  \u001b[91m☒\u001b[0m 241 \n",
            "\n",
            "--------------------------------------------------\n",
            "Iteration 7\n",
            "Train on 45000 samples, validate on 5000 samples\n",
            "Epoch 1/1\n",
            "45000/45000 [==============================] - 6s 135us/step - loss: 0.6665 - acc: 0.7434 - val_loss: 0.6511 - val_acc: 0.7456\n",
            "Q 6+503   T 509  \u001b[91m☒\u001b[0m 508 \n",
            "Q 637+812 T 1449 \u001b[91m☒\u001b[0m 1441\n",
            "Q 533+57  T 590  \u001b[91m☒\u001b[0m 599 \n",
            "Q 17+533  T 550  \u001b[91m☒\u001b[0m 540 \n",
            "Q 6+466   T 472  \u001b[92m☑\u001b[0m 472 \n",
            "Q 341+21  T 362  \u001b[91m☒\u001b[0m 364 \n",
            "Q 44+871  T 915  \u001b[92m☑\u001b[0m 915 \n",
            "Q 82+100  T 182  \u001b[91m☒\u001b[0m 183 \n",
            "Q 523+605 T 1128 \u001b[91m☒\u001b[0m 1126\n",
            "Q 593+78  T 671  \u001b[91m☒\u001b[0m 672 \n",
            "\n",
            "--------------------------------------------------\n",
            "Iteration 8\n",
            "Train on 45000 samples, validate on 5000 samples\n",
            "Epoch 1/1\n",
            "45000/45000 [==============================] - 6s 135us/step - loss: 0.6176 - acc: 0.7619 - val_loss: 0.6083 - val_acc: 0.7672\n",
            "Q 47+183  T 230  \u001b[91m☒\u001b[0m 229 \n",
            "Q 817+99  T 916  \u001b[91m☒\u001b[0m 909 \n",
            "Q 925+490 T 1415 \u001b[92m☑\u001b[0m 1415\n",
            "Q 702+9   T 711  \u001b[92m☑\u001b[0m 711 \n",
            "Q 48+74   T 122  \u001b[91m☒\u001b[0m 123 \n",
            "Q 859+34  T 893  \u001b[91m☒\u001b[0m 895 \n",
            "Q 313+3   T 316  \u001b[91m☒\u001b[0m 313 \n",
            "Q 84+688  T 772  \u001b[92m☑\u001b[0m 772 \n",
            "Q 71+993  T 1064 \u001b[91m☒\u001b[0m 1055\n",
            "Q 7+856   T 863  \u001b[92m☑\u001b[0m 863 \n",
            "\n",
            "--------------------------------------------------\n",
            "Iteration 9\n",
            "Train on 45000 samples, validate on 5000 samples\n",
            "Epoch 1/1\n",
            "45000/45000 [==============================] - 6s 134us/step - loss: 0.5656 - acc: 0.7820 - val_loss: 0.5540 - val_acc: 0.7871\n",
            "Q 64+196  T 260  \u001b[91m☒\u001b[0m 250 \n",
            "Q 579+3   T 582  \u001b[92m☑\u001b[0m 582 \n",
            "Q 614+60  T 674  \u001b[91m☒\u001b[0m 673 \n",
            "Q 599+70  T 669  \u001b[92m☑\u001b[0m 669 \n",
            "Q 14+192  T 206  \u001b[92m☑\u001b[0m 206 \n",
            "Q 57+676  T 733  \u001b[91m☒\u001b[0m 732 \n",
            "Q 6+223   T 229  \u001b[92m☑\u001b[0m 229 \n",
            "Q 85+868  T 953  \u001b[92m☑\u001b[0m 953 \n",
            "Q 33+310  T 343  \u001b[91m☒\u001b[0m 353 \n",
            "Q 944+68  T 1012 \u001b[91m☒\u001b[0m 1010\n",
            "\n",
            "--------------------------------------------------\n",
            "Iteration 10\n",
            "Train on 45000 samples, validate on 5000 samples\n",
            "Epoch 1/1\n",
            "45000/45000 [==============================] - 6s 133us/step - loss: 0.5196 - acc: 0.7995 - val_loss: 0.5263 - val_acc: 0.7921\n",
            "Q 14+14   T 28   \u001b[92m☑\u001b[0m 28  \n",
            "Q 75+10   T 85   \u001b[92m☑\u001b[0m 85  \n",
            "Q 4+190   T 194  \u001b[92m☑\u001b[0m 194 \n",
            "Q 3+948   T 951  \u001b[92m☑\u001b[0m 951 \n",
            "Q 445+92  T 537  \u001b[92m☑\u001b[0m 537 \n",
            "Q 60+853  T 913  \u001b[92m☑\u001b[0m 913 \n",
            "Q 59+413  T 472  \u001b[92m☑\u001b[0m 472 \n",
            "Q 93+88   T 181  \u001b[91m☒\u001b[0m 172 \n",
            "Q 885+41  T 926  \u001b[91m☒\u001b[0m 927 \n",
            "Q 52+155  T 207  \u001b[91m☒\u001b[0m 108 \n",
            "\n",
            "--------------------------------------------------\n",
            "Iteration 11\n",
            "Train on 45000 samples, validate on 5000 samples\n",
            "Epoch 1/1\n",
            "45000/45000 [==============================] - 6s 132us/step - loss: 0.4793 - acc: 0.8160 - val_loss: 0.4953 - val_acc: 0.8056\n",
            "Q 80+258  T 338  \u001b[92m☑\u001b[0m 338 \n",
            "Q 8+693   T 701  \u001b[92m☑\u001b[0m 701 \n",
            "Q 14+14   T 28   \u001b[91m☒\u001b[0m 27  \n",
            "Q 131+86  T 217  \u001b[92m☑\u001b[0m 217 \n",
            "Q 28+445  T 473  \u001b[92m☑\u001b[0m 473 \n",
            "Q 896+6   T 902  \u001b[91m☒\u001b[0m 905 \n",
            "Q 587+53  T 640  \u001b[91m☒\u001b[0m 740 \n",
            "Q 57+37   T 94   \u001b[92m☑\u001b[0m 94  \n",
            "Q 22+274  T 296  \u001b[91m☒\u001b[0m 286 \n",
            "Q 45+598  T 643  \u001b[92m☑\u001b[0m 643 \n",
            "\n",
            "--------------------------------------------------\n",
            "Iteration 12\n",
            "Train on 45000 samples, validate on 5000 samples\n",
            "Epoch 1/1\n",
            "45000/45000 [==============================] - 6s 133us/step - loss: 0.4482 - acc: 0.8281 - val_loss: 0.4521 - val_acc: 0.8255\n",
            "Q 51+604  T 655  \u001b[92m☑\u001b[0m 655 \n",
            "Q 764+224 T 988  \u001b[91m☒\u001b[0m 997 \n",
            "Q 460+5   T 465  \u001b[91m☒\u001b[0m 466 \n",
            "Q 80+886  T 966  \u001b[92m☑\u001b[0m 966 \n",
            "Q 189+512 T 701  \u001b[91m☒\u001b[0m 709 \n",
            "Q 327+69  T 396  \u001b[91m☒\u001b[0m 306 \n",
            "Q 887+9   T 896  \u001b[91m☒\u001b[0m 897 \n",
            "Q 3+366   T 369  \u001b[92m☑\u001b[0m 369 \n",
            "Q 76+76   T 152  \u001b[91m☒\u001b[0m 153 \n",
            "Q 295+98  T 393  \u001b[92m☑\u001b[0m 393 \n",
            "\n",
            "--------------------------------------------------\n",
            "Iteration 13\n",
            "Train on 45000 samples, validate on 5000 samples\n",
            "Epoch 1/1\n",
            "45000/45000 [==============================] - 6s 130us/step - loss: 0.4175 - acc: 0.8414 - val_loss: 0.4283 - val_acc: 0.8350\n",
            "Q 44+170  T 214  \u001b[92m☑\u001b[0m 214 \n",
            "Q 352+7   T 359  \u001b[91m☒\u001b[0m 350 \n",
            "Q 907+93  T 1000 \u001b[91m☒\u001b[0m 1001\n",
            "Q 66+203  T 269  \u001b[92m☑\u001b[0m 269 \n",
            "Q 9+848   T 857  \u001b[92m☑\u001b[0m 857 \n",
            "Q 942+4   T 946  \u001b[92m☑\u001b[0m 946 \n",
            "Q 631+485 T 1116 \u001b[91m☒\u001b[0m 1110\n",
            "Q 53+23   T 76   \u001b[91m☒\u001b[0m 78  \n",
            "Q 644+58  T 702  \u001b[92m☑\u001b[0m 702 \n",
            "Q 76+717  T 793  \u001b[92m☑\u001b[0m 793 \n",
            "\n",
            "--------------------------------------------------\n",
            "Iteration 14\n",
            "Train on 45000 samples, validate on 5000 samples\n",
            "Epoch 1/1\n",
            "45000/45000 [==============================] - 6s 132us/step - loss: 0.3876 - acc: 0.8526 - val_loss: 0.4027 - val_acc: 0.8426\n",
            "Q 724+73  T 797  \u001b[92m☑\u001b[0m 797 \n",
            "Q 38+912  T 950  \u001b[91m☒\u001b[0m 959 \n",
            "Q 695+792 T 1487 \u001b[91m☒\u001b[0m 1483\n",
            "Q 489+32  T 521  \u001b[92m☑\u001b[0m 521 \n",
            "Q 1+704   T 705  \u001b[92m☑\u001b[0m 705 \n",
            "Q 47+395  T 442  \u001b[92m☑\u001b[0m 442 \n",
            "Q 55+929  T 984  \u001b[92m☑\u001b[0m 984 \n",
            "Q 974+8   T 982  \u001b[91m☒\u001b[0m 981 \n",
            "Q 667+379 T 1046 \u001b[91m☒\u001b[0m 1044\n",
            "Q 841+344 T 1185 \u001b[91m☒\u001b[0m 1182\n",
            "\n",
            "--------------------------------------------------\n",
            "Iteration 15\n",
            "Train on 45000 samples, validate on 5000 samples\n",
            "Epoch 1/1\n",
            "45000/45000 [==============================] - 6s 134us/step - loss: 0.3643 - acc: 0.8607 - val_loss: 0.3892 - val_acc: 0.8457\n",
            "Q 26+98   T 124  \u001b[92m☑\u001b[0m 124 \n",
            "Q 446+86  T 532  \u001b[92m☑\u001b[0m 532 \n",
            "Q 781+475 T 1256 \u001b[92m☑\u001b[0m 1256\n",
            "Q 93+404  T 497  \u001b[91m☒\u001b[0m 597 \n",
            "Q 2+238   T 240  \u001b[92m☑\u001b[0m 240 \n",
            "Q 966+2   T 968  \u001b[91m☒\u001b[0m 967 \n",
            "Q 55+738  T 793  \u001b[91m☒\u001b[0m 892 \n",
            "Q 906+532 T 1438 \u001b[91m☒\u001b[0m 1437\n",
            "Q 19+589  T 608  \u001b[92m☑\u001b[0m 608 \n",
            "Q 954+13  T 967  \u001b[92m☑\u001b[0m 967 \n",
            "\n",
            "--------------------------------------------------\n",
            "Iteration 16\n",
            "Train on 45000 samples, validate on 5000 samples\n",
            "Epoch 1/1\n",
            "45000/45000 [==============================] - 6s 131us/step - loss: 0.3441 - acc: 0.8671 - val_loss: 0.3614 - val_acc: 0.8617\n",
            "Q 849+59  T 908  \u001b[91m☒\u001b[0m 808 \n",
            "Q 5+208   T 213  \u001b[92m☑\u001b[0m 213 \n",
            "Q 676+5   T 681  \u001b[92m☑\u001b[0m 681 \n",
            "Q 716+96  T 812  \u001b[91m☒\u001b[0m 811 \n",
            "Q 188+4   T 192  \u001b[92m☑\u001b[0m 192 \n",
            "Q 38+734  T 772  \u001b[92m☑\u001b[0m 772 \n",
            "Q 69+159  T 228  \u001b[92m☑\u001b[0m 228 \n",
            "Q 89+589  T 678  \u001b[92m☑\u001b[0m 678 \n",
            "Q 15+688  T 703  \u001b[91m☒\u001b[0m 603 \n",
            "Q 973+214 T 1187 \u001b[91m☒\u001b[0m 1196\n",
            "\n",
            "--------------------------------------------------\n",
            "Iteration 17\n",
            "Train on 45000 samples, validate on 5000 samples\n",
            "Epoch 1/1\n",
            "45000/45000 [==============================] - 6s 133us/step - loss: 0.3186 - acc: 0.8772 - val_loss: 0.3380 - val_acc: 0.8664\n",
            "Q 381+4   T 385  \u001b[91m☒\u001b[0m 386 \n",
            "Q 30+550  T 580  \u001b[92m☑\u001b[0m 580 \n",
            "Q 44+57   T 101  \u001b[91m☒\u001b[0m 102 \n",
            "Q 12+546  T 558  \u001b[92m☑\u001b[0m 558 \n",
            "Q 256+217 T 473  \u001b[92m☑\u001b[0m 473 \n",
            "Q 741+474 T 1215 \u001b[92m☑\u001b[0m 1215\n",
            "Q 843+244 T 1087 \u001b[92m☑\u001b[0m 1087\n",
            "Q 33+634  T 667  \u001b[92m☑\u001b[0m 667 \n",
            "Q 685+372 T 1057 \u001b[91m☒\u001b[0m 106 \n",
            "Q 876+90  T 966  \u001b[92m☑\u001b[0m 966 \n",
            "\n",
            "--------------------------------------------------\n",
            "Iteration 18\n",
            "Train on 45000 samples, validate on 5000 samples\n",
            "Epoch 1/1\n",
            "45000/45000 [==============================] - 6s 131us/step - loss: 0.3009 - acc: 0.8840 - val_loss: 0.3164 - val_acc: 0.8743\n",
            "Q 109+62  T 171  \u001b[92m☑\u001b[0m 171 \n",
            "Q 178+235 T 413  \u001b[91m☒\u001b[0m 402 \n",
            "Q 385+84  T 469  \u001b[92m☑\u001b[0m 469 \n",
            "Q 187+1   T 188  \u001b[92m☑\u001b[0m 188 \n",
            "Q 0+245   T 245  \u001b[92m☑\u001b[0m 245 \n",
            "Q 882+807 T 1689 \u001b[91m☒\u001b[0m 1678\n",
            "Q 57+517  T 574  \u001b[92m☑\u001b[0m 574 \n",
            "Q 66+62   T 128  \u001b[92m☑\u001b[0m 128 \n",
            "Q 802+163 T 965  \u001b[91m☒\u001b[0m 954 \n",
            "Q 83+638  T 721  \u001b[92m☑\u001b[0m 721 \n",
            "\n",
            "--------------------------------------------------\n",
            "Iteration 19\n",
            "Train on 45000 samples, validate on 5000 samples\n",
            "Epoch 1/1\n",
            "45000/45000 [==============================] - 6s 130us/step - loss: 0.2800 - acc: 0.8935 - val_loss: 0.2959 - val_acc: 0.8868\n",
            "Q 89+685  T 774  \u001b[92m☑\u001b[0m 774 \n",
            "Q 661+69  T 730  \u001b[92m☑\u001b[0m 730 \n",
            "Q 517+99  T 616  \u001b[91m☒\u001b[0m 615 \n",
            "Q 53+902  T 955  \u001b[92m☑\u001b[0m 955 \n",
            "Q 588+569 T 1157 \u001b[92m☑\u001b[0m 1157\n",
            "Q 5+256   T 261  \u001b[92m☑\u001b[0m 261 \n",
            "Q 264+27  T 291  \u001b[91m☒\u001b[0m 201 \n",
            "Q 42+603  T 645  \u001b[92m☑\u001b[0m 645 \n",
            "Q 627+794 T 1421 \u001b[91m☒\u001b[0m 1422\n",
            "Q 886+53  T 939  \u001b[91m☒\u001b[0m 930 \n",
            "\n",
            "--------------------------------------------------\n",
            "Iteration 20\n",
            "Train on 45000 samples, validate on 5000 samples\n",
            "Epoch 1/1\n",
            "45000/45000 [==============================] - 6s 133us/step - loss: 0.2530 - acc: 0.9035 - val_loss: 0.2812 - val_acc: 0.8897\n",
            "Q 649+0   T 649  \u001b[92m☑\u001b[0m 649 \n",
            "Q 172+34  T 206  \u001b[91m☒\u001b[0m 207 \n",
            "Q 76+741  T 817  \u001b[92m☑\u001b[0m 817 \n",
            "Q 172+504 T 676  \u001b[92m☑\u001b[0m 676 \n",
            "Q 505+64  T 569  \u001b[91m☒\u001b[0m 560 \n",
            "Q 541+37  T 578  \u001b[91m☒\u001b[0m 568 \n",
            "Q 272+324 T 596  \u001b[92m☑\u001b[0m 596 \n",
            "Q 584+764 T 1348 \u001b[91m☒\u001b[0m 1448\n",
            "Q 81+211  T 292  \u001b[92m☑\u001b[0m 292 \n",
            "Q 417+196 T 613  \u001b[91m☒\u001b[0m 615 \n",
            "\n",
            "--------------------------------------------------\n",
            "Iteration 21\n",
            "Train on 45000 samples, validate on 5000 samples\n",
            "Epoch 1/1\n",
            "45000/45000 [==============================] - 6s 134us/step - loss: 0.2447 - acc: 0.9063 - val_loss: 0.2768 - val_acc: 0.8944\n",
            "Q 604+65  T 669  \u001b[92m☑\u001b[0m 669 \n",
            "Q 68+96   T 164  \u001b[91m☒\u001b[0m 165 \n",
            "Q 703+95  T 798  \u001b[92m☑\u001b[0m 798 \n",
            "Q 927+448 T 1375 \u001b[92m☑\u001b[0m 1375\n",
            "Q 301+776 T 1077 \u001b[91m☒\u001b[0m 997 \n",
            "Q 86+132  T 218  \u001b[92m☑\u001b[0m 218 \n",
            "Q 64+14   T 78   \u001b[92m☑\u001b[0m 78  \n",
            "Q 528+39  T 567  \u001b[92m☑\u001b[0m 567 \n",
            "Q 951+90  T 1041 \u001b[91m☒\u001b[0m 1022\n",
            "Q 41+154  T 195  \u001b[92m☑\u001b[0m 195 \n",
            "\n",
            "--------------------------------------------------\n",
            "Iteration 22\n",
            "Train on 45000 samples, validate on 5000 samples\n",
            "Epoch 1/1\n",
            "45000/45000 [==============================] - 6s 131us/step - loss: 0.2320 - acc: 0.9122 - val_loss: 0.2362 - val_acc: 0.9100\n",
            "Q 79+939  T 1018 \u001b[92m☑\u001b[0m 1018\n",
            "Q 208+848 T 1056 \u001b[91m☒\u001b[0m 1057\n",
            "Q 53+23   T 76   \u001b[92m☑\u001b[0m 76  \n",
            "Q 84+82   T 166  \u001b[92m☑\u001b[0m 166 \n",
            "Q 754+36  T 790  \u001b[92m☑\u001b[0m 790 \n",
            "Q 7+184   T 191  \u001b[92m☑\u001b[0m 191 \n",
            "Q 821+5   T 826  \u001b[92m☑\u001b[0m 826 \n",
            "Q 512+850 T 1362 \u001b[92m☑\u001b[0m 1362\n",
            "Q 890+599 T 1489 \u001b[91m☒\u001b[0m 1588\n",
            "Q 59+510  T 569  \u001b[92m☑\u001b[0m 569 \n",
            "\n",
            "--------------------------------------------------\n",
            "Iteration 23\n",
            "Train on 45000 samples, validate on 5000 samples\n",
            "Epoch 1/1\n",
            "45000/45000 [==============================] - 6s 133us/step - loss: 0.2160 - acc: 0.9189 - val_loss: 0.2234 - val_acc: 0.9140\n",
            "Q 137+455 T 592  \u001b[92m☑\u001b[0m 592 \n",
            "Q 659+830 T 1489 \u001b[92m☑\u001b[0m 1489\n",
            "Q 172+90  T 262  \u001b[91m☒\u001b[0m 252 \n",
            "Q 823+207 T 1030 \u001b[91m☒\u001b[0m 1020\n",
            "Q 928+71  T 999  \u001b[91m☒\u001b[0m 1000\n",
            "Q 656+915 T 1571 \u001b[91m☒\u001b[0m 1570\n",
            "Q 612+47  T 659  \u001b[92m☑\u001b[0m 659 \n",
            "Q 870+82  T 952  \u001b[92m☑\u001b[0m 952 \n",
            "Q 204+5   T 209  \u001b[92m☑\u001b[0m 209 \n",
            "Q 75+104  T 179  \u001b[92m☑\u001b[0m 179 \n",
            "\n",
            "--------------------------------------------------\n",
            "Iteration 24\n",
            "Train on 45000 samples, validate on 5000 samples\n",
            "Epoch 1/1\n",
            "45000/45000 [==============================] - 6s 134us/step - loss: 0.2179 - acc: 0.9175 - val_loss: 0.2103 - val_acc: 0.9218\n",
            "Q 594+46  T 640  \u001b[92m☑\u001b[0m 640 \n",
            "Q 31+57   T 88   \u001b[92m☑\u001b[0m 88  \n",
            "Q 468+136 T 604  \u001b[91m☒\u001b[0m 505 \n",
            "Q 458+52  T 510  \u001b[91m☒\u001b[0m 509 \n",
            "Q 247+84  T 331  \u001b[92m☑\u001b[0m 331 \n",
            "Q 224+27  T 251  \u001b[92m☑\u001b[0m 251 \n",
            "Q 49+507  T 556  \u001b[92m☑\u001b[0m 556 \n",
            "Q 948+4   T 952  \u001b[91m☒\u001b[0m 951 \n",
            "Q 601+479 T 1080 \u001b[92m☑\u001b[0m 1080\n",
            "Q 539+50  T 589  \u001b[92m☑\u001b[0m 589 \n",
            "\n",
            "--------------------------------------------------\n",
            "Iteration 25\n",
            "Train on 45000 samples, validate on 5000 samples\n",
            "Epoch 1/1\n",
            "45000/45000 [==============================] - 6s 132us/step - loss: 0.1945 - acc: 0.9276 - val_loss: 0.2258 - val_acc: 0.9120\n",
            "Q 41+571  T 612  \u001b[92m☑\u001b[0m 612 \n",
            "Q 483+527 T 1010 \u001b[92m☑\u001b[0m 1010\n",
            "Q 505+64  T 569  \u001b[92m☑\u001b[0m 569 \n",
            "Q 150+284 T 434  \u001b[92m☑\u001b[0m 434 \n",
            "Q 4+190   T 194  \u001b[92m☑\u001b[0m 194 \n",
            "Q 270+72  T 342  \u001b[91m☒\u001b[0m 332 \n",
            "Q 895+29  T 924  \u001b[92m☑\u001b[0m 924 \n",
            "Q 513+329 T 842  \u001b[91m☒\u001b[0m 841 \n",
            "Q 794+29  T 823  \u001b[92m☑\u001b[0m 823 \n",
            "Q 18+23   T 41   \u001b[91m☒\u001b[0m 40  \n",
            "\n",
            "--------------------------------------------------\n",
            "Iteration 26\n",
            "Train on 45000 samples, validate on 5000 samples\n",
            "Epoch 1/1\n",
            "45000/45000 [==============================] - 6s 133us/step - loss: 0.1880 - acc: 0.9302 - val_loss: 0.2084 - val_acc: 0.9199\n",
            "Q 807+6   T 813  \u001b[92m☑\u001b[0m 813 \n",
            "Q 3+741   T 744  \u001b[92m☑\u001b[0m 744 \n",
            "Q 794+40  T 834  \u001b[92m☑\u001b[0m 834 \n",
            "Q 68+962  T 1030 \u001b[92m☑\u001b[0m 1030\n",
            "Q 0+662   T 662  \u001b[92m☑\u001b[0m 662 \n",
            "Q 573+30  T 603  \u001b[92m☑\u001b[0m 603 \n",
            "Q 219+223 T 442  \u001b[92m☑\u001b[0m 442 \n",
            "Q 951+25  T 976  \u001b[92m☑\u001b[0m 976 \n",
            "Q 204+5   T 209  \u001b[92m☑\u001b[0m 209 \n",
            "Q 450+22  T 472  \u001b[92m☑\u001b[0m 472 \n",
            "\n",
            "--------------------------------------------------\n",
            "Iteration 27\n",
            "Train on 45000 samples, validate on 5000 samples\n",
            "Epoch 1/1\n",
            "45000/45000 [==============================] - 6s 131us/step - loss: 0.1834 - acc: 0.9320 - val_loss: 0.2449 - val_acc: 0.9032\n",
            "Q 9+782   T 791  \u001b[92m☑\u001b[0m 791 \n",
            "Q 33+679  T 712  \u001b[92m☑\u001b[0m 712 \n",
            "Q 539+347 T 886  \u001b[91m☒\u001b[0m 876 \n",
            "Q 16+374  T 390  \u001b[91m☒\u001b[0m 490 \n",
            "Q 8+701   T 709  \u001b[92m☑\u001b[0m 709 \n",
            "Q 76+76   T 152  \u001b[92m☑\u001b[0m 152 \n",
            "Q 332+71  T 403  \u001b[92m☑\u001b[0m 403 \n",
            "Q 17+211  T 228  \u001b[92m☑\u001b[0m 228 \n",
            "Q 42+528  T 570  \u001b[91m☒\u001b[0m 560 \n",
            "Q 62+294  T 356  \u001b[92m☑\u001b[0m 356 \n",
            "\n",
            "--------------------------------------------------\n",
            "Iteration 28\n",
            "Train on 45000 samples, validate on 5000 samples\n",
            "Epoch 1/1\n",
            "45000/45000 [==============================] - 6s 131us/step - loss: 0.1707 - acc: 0.9373 - val_loss: 0.1949 - val_acc: 0.9262\n",
            "Q 90+76   T 166  \u001b[92m☑\u001b[0m 166 \n",
            "Q 517+385 T 902  \u001b[92m☑\u001b[0m 902 \n",
            "Q 977+920 T 1897 \u001b[92m☑\u001b[0m 1897\n",
            "Q 556+19  T 575  \u001b[92m☑\u001b[0m 575 \n",
            "Q 71+463  T 534  \u001b[92m☑\u001b[0m 534 \n",
            "Q 888+5   T 893  \u001b[92m☑\u001b[0m 893 \n",
            "Q 373+163 T 536  \u001b[92m☑\u001b[0m 536 \n",
            "Q 698+33  T 731  \u001b[92m☑\u001b[0m 731 \n",
            "Q 55+627  T 682  \u001b[91m☒\u001b[0m 692 \n",
            "Q 27+656  T 683  \u001b[92m☑\u001b[0m 683 \n",
            "\n",
            "--------------------------------------------------\n",
            "Iteration 29\n",
            "Train on 45000 samples, validate on 5000 samples\n",
            "Epoch 1/1\n",
            "45000/45000 [==============================] - 6s 131us/step - loss: 0.1655 - acc: 0.9391 - val_loss: 0.1836 - val_acc: 0.9320\n",
            "Q 614+36  T 650  \u001b[92m☑\u001b[0m 650 \n",
            "Q 681+71  T 752  \u001b[92m☑\u001b[0m 752 \n",
            "Q 0+175   T 175  \u001b[92m☑\u001b[0m 175 \n",
            "Q 450+22  T 472  \u001b[92m☑\u001b[0m 472 \n",
            "Q 623+417 T 1040 \u001b[92m☑\u001b[0m 1040\n",
            "Q 95+35   T 130  \u001b[92m☑\u001b[0m 130 \n",
            "Q 820+38  T 858  \u001b[92m☑\u001b[0m 858 \n",
            "Q 39+705  T 744  \u001b[92m☑\u001b[0m 744 \n",
            "Q 973+214 T 1187 \u001b[92m☑\u001b[0m 1187\n",
            "Q 364+18  T 382  \u001b[92m☑\u001b[0m 382 \n",
            "\n",
            "--------------------------------------------------\n",
            "Iteration 30\n",
            "Train on 45000 samples, validate on 5000 samples\n",
            "Epoch 1/1\n",
            "45000/45000 [==============================] - 6s 131us/step - loss: 0.1575 - acc: 0.9422 - val_loss: 0.1827 - val_acc: 0.9318\n",
            "Q 506+6   T 512  \u001b[91m☒\u001b[0m 511 \n",
            "Q 13+99   T 112  \u001b[92m☑\u001b[0m 112 \n",
            "Q 28+223  T 251  \u001b[92m☑\u001b[0m 251 \n",
            "Q 41+589  T 630  \u001b[92m☑\u001b[0m 630 \n",
            "Q 278+34  T 312  \u001b[92m☑\u001b[0m 312 \n",
            "Q 734+448 T 1182 \u001b[92m☑\u001b[0m 1182\n",
            "Q 555+786 T 1341 \u001b[92m☑\u001b[0m 1341\n",
            "Q 691+5   T 696  \u001b[92m☑\u001b[0m 696 \n",
            "Q 209+9   T 218  \u001b[92m☑\u001b[0m 218 \n",
            "Q 33+20   T 53   \u001b[92m☑\u001b[0m 53  \n",
            "\n",
            "--------------------------------------------------\n",
            "Iteration 31\n",
            "Train on 45000 samples, validate on 5000 samples\n",
            "Epoch 1/1\n",
            "45000/45000 [==============================] - 6s 134us/step - loss: 0.1532 - acc: 0.9435 - val_loss: 0.2160 - val_acc: 0.9189\n",
            "Q 505+769 T 1274 \u001b[92m☑\u001b[0m 1274\n",
            "Q 68+679  T 747  \u001b[92m☑\u001b[0m 747 \n",
            "Q 86+516  T 602  \u001b[92m☑\u001b[0m 602 \n",
            "Q 847+450 T 1297 \u001b[92m☑\u001b[0m 1297\n",
            "Q 659+830 T 1489 \u001b[91m☒\u001b[0m 1589\n",
            "Q 35+70   T 105  \u001b[91m☒\u001b[0m 106 \n",
            "Q 84+482  T 566  \u001b[92m☑\u001b[0m 566 \n",
            "Q 261+66  T 327  \u001b[92m☑\u001b[0m 327 \n",
            "Q 57+92   T 149  \u001b[92m☑\u001b[0m 149 \n",
            "Q 713+618 T 1331 \u001b[92m☑\u001b[0m 1331\n",
            "\n",
            "--------------------------------------------------\n",
            "Iteration 32\n",
            "Train on 45000 samples, validate on 5000 samples\n",
            "Epoch 1/1\n",
            "45000/45000 [==============================] - 6s 133us/step - loss: 0.1612 - acc: 0.9404 - val_loss: 0.2402 - val_acc: 0.9095\n",
            "Q 33+80   T 113  \u001b[92m☑\u001b[0m 113 \n",
            "Q 83+191  T 274  \u001b[92m☑\u001b[0m 274 \n",
            "Q 49+98   T 147  \u001b[91m☒\u001b[0m 137 \n",
            "Q 462+29  T 491  \u001b[91m☒\u001b[0m 481 \n",
            "Q 24+412  T 436  \u001b[92m☑\u001b[0m 436 \n",
            "Q 4+624   T 628  \u001b[92m☑\u001b[0m 628 \n",
            "Q 982+943 T 1925 \u001b[92m☑\u001b[0m 1925\n",
            "Q 861+477 T 1338 \u001b[92m☑\u001b[0m 1338\n",
            "Q 22+730  T 752  \u001b[92m☑\u001b[0m 752 \n",
            "Q 250+31  T 281  \u001b[91m☒\u001b[0m 271 \n",
            "\n",
            "--------------------------------------------------\n",
            "Iteration 33\n",
            "Train on 45000 samples, validate on 5000 samples\n",
            "Epoch 1/1\n",
            "45000/45000 [==============================] - 6s 130us/step - loss: 0.1486 - acc: 0.9454 - val_loss: 0.1670 - val_acc: 0.9377\n",
            "Q 5+424   T 429  \u001b[92m☑\u001b[0m 429 \n",
            "Q 797+99  T 896  \u001b[91m☒\u001b[0m 897 \n",
            "Q 80+79   T 159  \u001b[92m☑\u001b[0m 159 \n",
            "Q 90+76   T 166  \u001b[92m☑\u001b[0m 166 \n",
            "Q 82+865  T 947  \u001b[92m☑\u001b[0m 947 \n",
            "Q 80+387  T 467  \u001b[92m☑\u001b[0m 467 \n",
            "Q 815+3   T 818  \u001b[92m☑\u001b[0m 818 \n",
            "Q 0+443   T 443  \u001b[92m☑\u001b[0m 443 \n",
            "Q 821+471 T 1292 \u001b[92m☑\u001b[0m 1292\n",
            "Q 104+287 T 391  \u001b[91m☒\u001b[0m 491 \n",
            "\n",
            "--------------------------------------------------\n",
            "Iteration 34\n",
            "Train on 45000 samples, validate on 5000 samples\n",
            "Epoch 1/1\n",
            "45000/45000 [==============================] - 6s 130us/step - loss: 0.1414 - acc: 0.9487 - val_loss: 0.1657 - val_acc: 0.9366\n",
            "Q 523+25  T 548  \u001b[92m☑\u001b[0m 548 \n",
            "Q 718+35  T 753  \u001b[91m☒\u001b[0m 752 \n",
            "Q 12+247  T 259  \u001b[91m☒\u001b[0m 269 \n",
            "Q 11+310  T 321  \u001b[92m☑\u001b[0m 321 \n",
            "Q 90+318  T 408  \u001b[92m☑\u001b[0m 408 \n",
            "Q 775+907 T 1682 \u001b[92m☑\u001b[0m 1682\n",
            "Q 460+5   T 465  \u001b[92m☑\u001b[0m 465 \n",
            "Q 44+170  T 214  \u001b[92m☑\u001b[0m 214 \n",
            "Q 8+286   T 294  \u001b[92m☑\u001b[0m 294 \n",
            "Q 111+37  T 148  \u001b[92m☑\u001b[0m 148 \n",
            "\n",
            "--------------------------------------------------\n",
            "Iteration 35\n",
            "Train on 45000 samples, validate on 5000 samples\n",
            "Epoch 1/1\n",
            "45000/45000 [==============================] - 6s 129us/step - loss: 0.1426 - acc: 0.9483 - val_loss: 0.1698 - val_acc: 0.9354\n",
            "Q 879+829 T 1708 \u001b[92m☑\u001b[0m 1708\n",
            "Q 219+893 T 1112 \u001b[91m☒\u001b[0m 1111\n",
            "Q 644+58  T 702  \u001b[92m☑\u001b[0m 702 \n",
            "Q 24+2    T 26   \u001b[92m☑\u001b[0m 26  \n",
            "Q 13+436  T 449  \u001b[92m☑\u001b[0m 449 \n",
            "Q 301+558 T 859  \u001b[92m☑\u001b[0m 859 \n",
            "Q 965+680 T 1645 \u001b[92m☑\u001b[0m 1645\n",
            "Q 12+266  T 278  \u001b[92m☑\u001b[0m 278 \n",
            "Q 80+43   T 123  \u001b[92m☑\u001b[0m 123 \n",
            "Q 696+55  T 751  \u001b[92m☑\u001b[0m 751 \n",
            "\n",
            "--------------------------------------------------\n",
            "Iteration 36\n",
            "Train on 45000 samples, validate on 5000 samples\n",
            "Epoch 1/1\n",
            "45000/45000 [==============================] - 6s 130us/step - loss: 0.1274 - acc: 0.9536 - val_loss: 0.1474 - val_acc: 0.9440\n",
            "Q 79+262  T 341  \u001b[92m☑\u001b[0m 341 \n",
            "Q 736+47  T 783  \u001b[92m☑\u001b[0m 783 \n",
            "Q 73+862  T 935  \u001b[92m☑\u001b[0m 935 \n",
            "Q 890+599 T 1489 \u001b[91m☒\u001b[0m 1589\n",
            "Q 883+626 T 1509 \u001b[91m☒\u001b[0m 1519\n",
            "Q 3+83    T 86   \u001b[91m☒\u001b[0m 85  \n",
            "Q 85+101  T 186  \u001b[92m☑\u001b[0m 186 \n",
            "Q 329+825 T 1154 \u001b[92m☑\u001b[0m 1154\n",
            "Q 5+254   T 259  \u001b[92m☑\u001b[0m 259 \n",
            "Q 692+68  T 760  \u001b[91m☒\u001b[0m 750 \n",
            "\n",
            "--------------------------------------------------\n",
            "Iteration 37\n",
            "Train on 45000 samples, validate on 5000 samples\n",
            "Epoch 1/1\n",
            "45000/45000 [==============================] - 6s 130us/step - loss: 0.1273 - acc: 0.9546 - val_loss: 0.1848 - val_acc: 0.9289\n",
            "Q 55+537  T 592  \u001b[92m☑\u001b[0m 592 \n",
            "Q 93+265  T 358  \u001b[92m☑\u001b[0m 358 \n",
            "Q 19+753  T 772  \u001b[92m☑\u001b[0m 772 \n",
            "Q 1+395   T 396  \u001b[92m☑\u001b[0m 396 \n",
            "Q 4+614   T 618  \u001b[91m☒\u001b[0m 619 \n",
            "Q 1+412   T 413  \u001b[92m☑\u001b[0m 413 \n",
            "Q 437+4   T 441  \u001b[92m☑\u001b[0m 441 \n",
            "Q 594+9   T 603  \u001b[92m☑\u001b[0m 603 \n",
            "Q 61+83   T 144  \u001b[92m☑\u001b[0m 144 \n",
            "Q 352+84  T 436  \u001b[91m☒\u001b[0m 426 \n",
            "\n",
            "--------------------------------------------------\n",
            "Iteration 38\n",
            "Train on 45000 samples, validate on 5000 samples\n",
            "Epoch 1/1\n",
            "45000/45000 [==============================] - 6s 134us/step - loss: 0.1154 - acc: 0.9588 - val_loss: 0.1933 - val_acc: 0.9258\n",
            "Q 326+423 T 749  \u001b[92m☑\u001b[0m 749 \n",
            "Q 89+335  T 424  \u001b[92m☑\u001b[0m 424 \n",
            "Q 11+592  T 603  \u001b[92m☑\u001b[0m 603 \n",
            "Q 45+327  T 372  \u001b[92m☑\u001b[0m 372 \n",
            "Q 137+52  T 189  \u001b[91m☒\u001b[0m 190 \n",
            "Q 996+14  T 1010 \u001b[92m☑\u001b[0m 1010\n",
            "Q 788+679 T 1467 \u001b[92m☑\u001b[0m 1467\n",
            "Q 631+64  T 695  \u001b[92m☑\u001b[0m 695 \n",
            "Q 338+440 T 778  \u001b[91m☒\u001b[0m 788 \n",
            "Q 84+120  T 204  \u001b[91m☒\u001b[0m 205 \n",
            "\n",
            "--------------------------------------------------\n",
            "Iteration 39\n",
            "Train on 45000 samples, validate on 5000 samples\n",
            "Epoch 1/1\n",
            "45000/45000 [==============================] - 6s 131us/step - loss: 0.1304 - acc: 0.9522 - val_loss: 0.1654 - val_acc: 0.9384\n",
            "Q 117+839 T 956  \u001b[91m☒\u001b[0m 955 \n",
            "Q 309+344 T 653  \u001b[92m☑\u001b[0m 653 \n",
            "Q 644+68  T 712  \u001b[92m☑\u001b[0m 712 \n",
            "Q 314+2   T 316  \u001b[92m☑\u001b[0m 316 \n",
            "Q 421+53  T 474  \u001b[92m☑\u001b[0m 474 \n",
            "Q 23+40   T 63   \u001b[92m☑\u001b[0m 63  \n",
            "Q 0+668   T 668  \u001b[91m☒\u001b[0m 669 \n",
            "Q 846+82  T 928  \u001b[91m☒\u001b[0m 929 \n",
            "Q 51+995  T 1046 \u001b[92m☑\u001b[0m 1046\n",
            "Q 0+170   T 170  \u001b[92m☑\u001b[0m 170 \n",
            "\n",
            "--------------------------------------------------\n",
            "Iteration 40\n",
            "Train on 45000 samples, validate on 5000 samples\n",
            "Epoch 1/1\n",
            "45000/45000 [==============================] - 6s 129us/step - loss: 0.1403 - acc: 0.9489 - val_loss: 0.1792 - val_acc: 0.9315\n",
            "Q 572+14  T 586  \u001b[92m☑\u001b[0m 586 \n",
            "Q 34+303  T 337  \u001b[92m☑\u001b[0m 337 \n",
            "Q 405+89  T 494  \u001b[92m☑\u001b[0m 494 \n",
            "Q 207+3   T 210  \u001b[91m☒\u001b[0m 209 \n",
            "Q 166+0   T 166  \u001b[92m☑\u001b[0m 166 \n",
            "Q 46+432  T 478  \u001b[92m☑\u001b[0m 478 \n",
            "Q 64+196  T 260  \u001b[91m☒\u001b[0m 250 \n",
            "Q 779+55  T 834  \u001b[92m☑\u001b[0m 834 \n",
            "Q 3+510   T 513  \u001b[92m☑\u001b[0m 513 \n",
            "Q 5+238   T 243  \u001b[92m☑\u001b[0m 243 \n",
            "\n",
            "--------------------------------------------------\n",
            "Iteration 41\n",
            "Train on 45000 samples, validate on 5000 samples\n",
            "Epoch 1/1\n",
            "45000/45000 [==============================] - 6s 128us/step - loss: 0.1174 - acc: 0.9582 - val_loss: 0.1440 - val_acc: 0.9469\n",
            "Q 644+685 T 1329 \u001b[92m☑\u001b[0m 1329\n",
            "Q 106+48  T 154  \u001b[91m☒\u001b[0m 164 \n",
            "Q 815+622 T 1437 \u001b[92m☑\u001b[0m 1437\n",
            "Q 599+70  T 669  \u001b[92m☑\u001b[0m 669 \n",
            "Q 518+13  T 531  \u001b[91m☒\u001b[0m 541 \n",
            "Q 2+876   T 878  \u001b[92m☑\u001b[0m 878 \n",
            "Q 228+74  T 302  \u001b[91m☒\u001b[0m 312 \n",
            "Q 45+311  T 356  \u001b[92m☑\u001b[0m 356 \n",
            "Q 486+96  T 582  \u001b[92m☑\u001b[0m 582 \n",
            "Q 33+720  T 753  \u001b[92m☑\u001b[0m 753 \n",
            "\n",
            "--------------------------------------------------\n",
            "Iteration 42\n",
            "Train on 45000 samples, validate on 5000 samples\n",
            "Epoch 1/1\n",
            "45000/45000 [==============================] - 6s 129us/step - loss: 0.1096 - acc: 0.9601 - val_loss: 0.1370 - val_acc: 0.9485\n",
            "Q 679+20  T 699  \u001b[91m☒\u001b[0m 609 \n",
            "Q 966+920 T 1886 \u001b[92m☑\u001b[0m 1886\n",
            "Q 526+8   T 534  \u001b[92m☑\u001b[0m 534 \n",
            "Q 10+95   T 105  \u001b[92m☑\u001b[0m 105 \n",
            "Q 47+629  T 676  \u001b[92m☑\u001b[0m 676 \n",
            "Q 48+53   T 101  \u001b[92m☑\u001b[0m 101 \n",
            "Q 870+88  T 958  \u001b[92m☑\u001b[0m 958 \n",
            "Q 29+886  T 915  \u001b[92m☑\u001b[0m 915 \n",
            "Q 125+655 T 780  \u001b[92m☑\u001b[0m 780 \n",
            "Q 5+215   T 220  \u001b[92m☑\u001b[0m 220 \n",
            "\n",
            "--------------------------------------------------\n",
            "Iteration 43\n",
            "Train on 45000 samples, validate on 5000 samples\n",
            "Epoch 1/1\n",
            "45000/45000 [==============================] - 6s 130us/step - loss: 0.1066 - acc: 0.9614 - val_loss: 0.1416 - val_acc: 0.9483\n",
            "Q 95+986  T 1081 \u001b[92m☑\u001b[0m 1081\n",
            "Q 559+6   T 565  \u001b[92m☑\u001b[0m 565 \n",
            "Q 178+235 T 413  \u001b[92m☑\u001b[0m 413 \n",
            "Q 966+2   T 968  \u001b[91m☒\u001b[0m 969 \n",
            "Q 290+218 T 508  \u001b[92m☑\u001b[0m 508 \n",
            "Q 21+24   T 45   \u001b[92m☑\u001b[0m 45  \n",
            "Q 830+94  T 924  \u001b[92m☑\u001b[0m 924 \n",
            "Q 99+805  T 904  \u001b[91m☒\u001b[0m 804 \n",
            "Q 30+10   T 40   \u001b[92m☑\u001b[0m 40  \n",
            "Q 90+818  T 908  \u001b[92m☑\u001b[0m 908 \n",
            "\n",
            "--------------------------------------------------\n",
            "Iteration 44\n",
            "Train on 45000 samples, validate on 5000 samples\n",
            "Epoch 1/1\n",
            "45000/45000 [==============================] - 6s 128us/step - loss: 0.1111 - acc: 0.9600 - val_loss: 0.1428 - val_acc: 0.9473\n",
            "Q 469+97  T 566  \u001b[92m☑\u001b[0m 566 \n",
            "Q 4+598   T 602  \u001b[92m☑\u001b[0m 602 \n",
            "Q 2+401   T 403  \u001b[92m☑\u001b[0m 403 \n",
            "Q 10+685  T 695  \u001b[92m☑\u001b[0m 695 \n",
            "Q 589+1   T 590  \u001b[91m☒\u001b[0m 580 \n",
            "Q 551+61  T 612  \u001b[92m☑\u001b[0m 612 \n",
            "Q 219+893 T 1112 \u001b[92m☑\u001b[0m 1112\n",
            "Q 305+67  T 372  \u001b[92m☑\u001b[0m 372 \n",
            "Q 962+80  T 1042 \u001b[92m☑\u001b[0m 1042\n",
            "Q 921+9   T 930  \u001b[91m☒\u001b[0m 920 \n",
            "\n",
            "--------------------------------------------------\n",
            "Iteration 45\n",
            "Train on 45000 samples, validate on 5000 samples\n",
            "Epoch 1/1\n",
            "45000/45000 [==============================] - 6s 128us/step - loss: 0.1107 - acc: 0.9597 - val_loss: 0.2269 - val_acc: 0.9200\n",
            "Q 151+577 T 728  \u001b[92m☑\u001b[0m 728 \n",
            "Q 203+76  T 279  \u001b[92m☑\u001b[0m 279 \n",
            "Q 749+9   T 758  \u001b[92m☑\u001b[0m 758 \n",
            "Q 239+112 T 351  \u001b[91m☒\u001b[0m 341 \n",
            "Q 844+13  T 857  \u001b[92m☑\u001b[0m 857 \n",
            "Q 352+4   T 356  \u001b[92m☑\u001b[0m 356 \n",
            "Q 555+690 T 1245 \u001b[92m☑\u001b[0m 1245\n",
            "Q 453+44  T 497  \u001b[92m☑\u001b[0m 497 \n",
            "Q 976+45  T 1021 \u001b[91m☒\u001b[0m 1010\n",
            "Q 348+25  T 373  \u001b[92m☑\u001b[0m 373 \n",
            "\n",
            "--------------------------------------------------\n",
            "Iteration 46\n",
            "Train on 45000 samples, validate on 5000 samples\n",
            "Epoch 1/1\n",
            "45000/45000 [==============================] - 6s 132us/step - loss: 0.1046 - acc: 0.9628 - val_loss: 0.1339 - val_acc: 0.9486\n",
            "Q 511+967 T 1478 \u001b[92m☑\u001b[0m 1478\n",
            "Q 788+679 T 1467 \u001b[91m☒\u001b[0m 1457\n",
            "Q 732+35  T 767  \u001b[92m☑\u001b[0m 767 \n",
            "Q 5+916   T 921  \u001b[92m☑\u001b[0m 921 \n",
            "Q 882+8   T 890  \u001b[92m☑\u001b[0m 890 \n",
            "Q 650+51  T 701  \u001b[92m☑\u001b[0m 701 \n",
            "Q 10+540  T 550  \u001b[92m☑\u001b[0m 550 \n",
            "Q 29+13   T 42   \u001b[91m☒\u001b[0m 52  \n",
            "Q 36+999  T 1035 \u001b[91m☒\u001b[0m 1045\n",
            "Q 561+87  T 648  \u001b[91m☒\u001b[0m 649 \n",
            "\n",
            "--------------------------------------------------\n",
            "Iteration 47\n",
            "Train on 45000 samples, validate on 5000 samples\n",
            "Epoch 1/1\n",
            "45000/45000 [==============================] - 6s 129us/step - loss: 0.1135 - acc: 0.9592 - val_loss: 0.1424 - val_acc: 0.9461\n",
            "Q 109+490 T 599  \u001b[91m☒\u001b[0m 609 \n",
            "Q 761+12  T 773  \u001b[92m☑\u001b[0m 773 \n",
            "Q 462+29  T 491  \u001b[92m☑\u001b[0m 491 \n",
            "Q 519+75  T 594  \u001b[92m☑\u001b[0m 594 \n",
            "Q 282+585 T 867  \u001b[91m☒\u001b[0m 857 \n",
            "Q 839+86  T 925  \u001b[92m☑\u001b[0m 925 \n",
            "Q 948+134 T 1082 \u001b[92m☑\u001b[0m 1082\n",
            "Q 20+221  T 241  \u001b[92m☑\u001b[0m 241 \n",
            "Q 666+71  T 737  \u001b[92m☑\u001b[0m 737 \n",
            "Q 50+6    T 56   \u001b[91m☒\u001b[0m 57  \n",
            "\n",
            "--------------------------------------------------\n",
            "Iteration 48\n",
            "Train on 45000 samples, validate on 5000 samples\n",
            "Epoch 1/1\n",
            "45000/45000 [==============================] - 6s 132us/step - loss: 0.1084 - acc: 0.9607 - val_loss: 0.1481 - val_acc: 0.9453\n",
            "Q 23+27   T 50   \u001b[92m☑\u001b[0m 50  \n",
            "Q 447+84  T 531  \u001b[92m☑\u001b[0m 531 \n",
            "Q 8+753   T 761  \u001b[92m☑\u001b[0m 761 \n",
            "Q 482+769 T 1251 \u001b[92m☑\u001b[0m 1251\n",
            "Q 7+399   T 406  \u001b[92m☑\u001b[0m 406 \n",
            "Q 33+36   T 69   \u001b[92m☑\u001b[0m 69  \n",
            "Q 59+480  T 539  \u001b[91m☒\u001b[0m 549 \n",
            "Q 355+118 T 473  \u001b[91m☒\u001b[0m 474 \n",
            "Q 352+84  T 436  \u001b[92m☑\u001b[0m 436 \n",
            "Q 749+399 T 1148 \u001b[92m☑\u001b[0m 1148\n",
            "\n",
            "--------------------------------------------------\n",
            "Iteration 49\n",
            "Train on 45000 samples, validate on 5000 samples\n",
            "Epoch 1/1\n",
            "45000/45000 [==============================] - 6s 132us/step - loss: 0.0883 - acc: 0.9692 - val_loss: 0.1109 - val_acc: 0.9580\n",
            "Q 163+94  T 257  \u001b[92m☑\u001b[0m 257 \n",
            "Q 13+166  T 179  \u001b[92m☑\u001b[0m 179 \n",
            "Q 46+554  T 600  \u001b[91m☒\u001b[0m 500 \n",
            "Q 905+444 T 1349 \u001b[92m☑\u001b[0m 1349\n",
            "Q 90+818  T 908  \u001b[92m☑\u001b[0m 908 \n",
            "Q 76+344  T 420  \u001b[92m☑\u001b[0m 420 \n",
            "Q 90+797  T 887  \u001b[92m☑\u001b[0m 887 \n",
            "Q 853+4   T 857  \u001b[92m☑\u001b[0m 857 \n",
            "Q 722+6   T 728  \u001b[92m☑\u001b[0m 728 \n",
            "Q 667+34  T 701  \u001b[91m☒\u001b[0m 601 \n",
            "CPU times: user 6min 6s, sys: 50.1 s, total: 6min 57s\n",
            "Wall time: 4min 53s\n"
          ],
          "name": "stdout"
        }
      ]
    },
    {
      "metadata": {
        "id": "7apd-uAFjVHY",
        "colab_type": "code",
        "colab": {
          "base_uri": "https://localhost:8080/",
          "height": 296
        },
        "outputId": "3928e528-1a09-465e-90d0-5b0e535c26a4"
      },
      "cell_type": "code",
      "source": [
        "import matplotlib.pyplot as plt\n",
        "\n",
        "plt.ylabel('loss')\n",
        "plt.xlabel('epoch')\n",
        "plt.yscale('log')\n",
        "\n",
        "plt.plot(merged_losses['loss'], 'b')\n",
        "plt.plot(merged_losses['val_loss'], 'r')\n",
        "\n",
        "plt.legend(['loss', 'validation loss'])\n",
        "plt.plot()"
      ],
      "execution_count": 41,
      "outputs": [
        {
          "output_type": "execute_result",
          "data": {
            "text/plain": [
              "[]"
            ]
          },
          "metadata": {
            "tags": []
          },
          "execution_count": 41
        },
        {
          "output_type": "display_data",
          "data": {
            "image/png": "[encoded data removed]",
            "text/plain": [
              "<Figure size 432x288 with 1 Axes>"
            ]
          },
          "metadata": {
            "tags": []
          }
        }
      ]
    },
    {
      "metadata": {
        "id": "bxojIpIhngkT",
        "colab_type": "code",
        "colab": {}
      },
      "cell_type": "code",
      "source": [
        ""
      ],
      "execution_count": 0,
      "outputs": []
    }
  ]
}