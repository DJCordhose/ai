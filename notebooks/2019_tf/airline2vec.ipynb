{
  "nbformat": 4,
  "nbformat_minor": 0,
  "metadata": {
    "colab": {
      "name": "airline2vec.ipynb",
      "version": "0.3.2",
      "provenance": [],
      "collapsed_sections": [],
      "include_colab_link": true
    },
    "kernelspec": {
      "name": "python3",
      "display_name": "Python 3"
    },
    "accelerator": "GPU"
  },
  "cells": [
    {
      "cell_type": "markdown",
      "metadata": {
        "id": "view-in-github",
        "colab_type": "text"
      },
      "source": [
        "<a href=\"https://colab.research.google.com/github/DJCordhose/ai/blob/master/notebooks/2019_tf/airline2vec.ipynb\" target=\"_parent\"><img src=\"https://colab.research.google.com/assets/colab-badge.svg\" alt=\"Open In Colab\"/></a>"
      ]
    },
    {
      "cell_type": "markdown",
      "metadata": {
        "id": "t0SNZ3gZDa36",
        "colab_type": "text"
      },
      "source": [
        "# Airline Embeddings\n",
        "\n",
        "_Basic assumption: airlines fliying similar routes are similar_\n",
        "\n",
        "## Data Sets\n",
        "* Single Flights: http://stat-computing.org/dataexpo/2009/the-data.html\n",
        "* Routes between airports: https://openflights.org/data.html#route\n",
        "\n",
        "## Advanced examples\n",
        "* autoencoders on tabular data: https://colab.research.google.com/github/DJCordhose/ai/blob/master/notebooks/2019_tf/autoencoders_tabular.ipynb\n",
        "* robust training on additional data: https://colab.research.google.com/github/DJCordhose/ai/blob/master/notebooks/2019_tf/autoencoders_stabilize.ipynb"
      ]
    },
    {
      "cell_type": "code",
      "metadata": {
        "id": "74_7Xj83pNyk",
        "colab_type": "code",
        "outputId": "9636efd6-00c5-40d6-9810-e11185365739",
        "colab": {
          "base_uri": "https://localhost:8080/",
          "height": 69
        }
      },
      "source": [
        "!curl -O https://raw.githubusercontent.com/jpatokal/openflights/master/data/routes.dat"
      ],
      "execution_count": 1,
      "outputs": [
        {
          "output_type": "stream",
          "text": [
            "  % Total    % Received % Xferd  Average Speed   Time    Time     Time  Current\n",
            "                                 Dload  Upload   Total   Spent    Left  Speed\n",
            "\r  0     0    0     0    0     0      0      0 --:--:-- --:--:-- --:--:--     0\r100 2321k  100 2321k    0     0  8060k      0 --:--:-- --:--:-- --:--:-- 8060k\n"
          ],
          "name": "stdout"
        }
      ]
    },
    {
      "cell_type": "code",
      "metadata": {
        "id": "9CUgJvsutUuV",
        "colab_type": "code",
        "colab": {}
      },
      "source": [
        "# pd.read_csv?"
      ],
      "execution_count": 0,
      "outputs": []
    },
    {
      "cell_type": "code",
      "metadata": {
        "id": "7Q64fxjyqmyU",
        "colab_type": "code",
        "outputId": "82b5abbf-10ad-4439-ed95-19c638fd85e0",
        "colab": {
          "base_uri": "https://localhost:8080/",
          "height": 34
        }
      },
      "source": [
        "import pandas as pd\n",
        "\n",
        "df = pd.read_csv('routes.dat', quotechar=\"'\", sep=',', encoding='utf-8', header=None, na_values='\\\\N',\n",
        "                names=['Airline', 'Airline ID', 'Source airport', 'Source airport ID', 'Destination airport', 'Destination airport ID', 'Codeshare', 'Stops', 'Equipment'])\n",
        "\n",
        "# https://openflights.org/data.html#route\n",
        "  \n",
        "# Airline\t2-letter (IATA) or 3-letter (ICAO) code of the airline.\n",
        "# Airline ID\tUnique OpenFlights identifier for airline (see Airline).\n",
        "# Source airport\t3-letter (IATA) or 4-letter (ICAO) code of the source airport.\n",
        "# Source airport ID\tUnique OpenFlights identifier for source airport (see Airport)\n",
        "# Destination airport\t3-letter (IATA) or 4-letter (ICAO) code of the destination airport.\n",
        "# Destination airport ID\tUnique OpenFlights identifier for destination airport (see Airport)\n",
        "# Codeshare\t\"Y\" if this flight is a codeshare (that is, not operated by Airline, but another carrier), empty otherwise.\n",
        "# Stops\tNumber of stops on this flight (\"0\" for direct)\n",
        "# Equipment\t3-letter codes for plane type(s) generally used on this flight, separated by spaces\n",
        "\n",
        "# df[df['Stops'] == 1] gives only a dozen or so routes, so also drop it\n",
        "df.drop(['Airline ID',\t'Source airport ID', 'Destination airport ID', 'Codeshare', 'Equipment', 'Stops'], axis='columns', inplace=True)\n",
        "len(df)"
      ],
      "execution_count": 3,
      "outputs": [
        {
          "output_type": "execute_result",
          "data": {
            "text/plain": [
              "67663"
            ]
          },
          "metadata": {
            "tags": []
          },
          "execution_count": 3
        }
      ]
    },
    {
      "cell_type": "code",
      "metadata": {
        "id": "RpZAQeL8rJUH",
        "colab_type": "code",
        "outputId": "5424f834-83e2-41fb-805b-12bc2489f6b6",
        "colab": {
          "base_uri": "https://localhost:8080/",
          "height": 204
        }
      },
      "source": [
        "df.head()"
      ],
      "execution_count": 4,
      "outputs": [
        {
          "output_type": "execute_result",
          "data": {
            "text/html": [
              "<div>\n",
              "<style scoped>\n",
              "    .dataframe tbody tr th:only-of-type {\n",
              "        vertical-align: middle;\n",
              "    }\n",
              "\n",
              "    .dataframe tbody tr th {\n",
              "        vertical-align: top;\n",
              "    }\n",
              "\n",
              "    .dataframe thead th {\n",
              "        text-align: right;\n",
              "    }\n",
              "</style>\n",
              "<table border=\"1\" class=\"dataframe\">\n",
              "  <thead>\n",
              "    <tr style=\"text-align: right;\">\n",
              "      <th></th>\n",
              "      <th>Airline</th>\n",
              "      <th>Source airport</th>\n",
              "      <th>Destination airport</th>\n",
              "    </tr>\n",
              "  </thead>\n",
              "  <tbody>\n",
              "    <tr>\n",
              "      <th>0</th>\n",
              "      <td>2B</td>\n",
              "      <td>AER</td>\n",
              "      <td>KZN</td>\n",
              "    </tr>\n",
              "    <tr>\n",
              "      <th>1</th>\n",
              "      <td>2B</td>\n",
              "      <td>ASF</td>\n",
              "      <td>KZN</td>\n",
              "    </tr>\n",
              "    <tr>\n",
              "      <th>2</th>\n",
              "      <td>2B</td>\n",
              "      <td>ASF</td>\n",
              "      <td>MRV</td>\n",
              "    </tr>\n",
              "    <tr>\n",
              "      <th>3</th>\n",
              "      <td>2B</td>\n",
              "      <td>CEK</td>\n",
              "      <td>KZN</td>\n",
              "    </tr>\n",
              "    <tr>\n",
              "      <th>4</th>\n",
              "      <td>2B</td>\n",
              "      <td>CEK</td>\n",
              "      <td>OVB</td>\n",
              "    </tr>\n",
              "  </tbody>\n",
              "</table>\n",
              "</div>"
            ],
            "text/plain": [
              "  Airline Source airport Destination airport\n",
              "0      2B            AER                 KZN\n",
              "1      2B            ASF                 KZN\n",
              "2      2B            ASF                 MRV\n",
              "3      2B            CEK                 KZN\n",
              "4      2B            CEK                 OVB"
            ]
          },
          "metadata": {
            "tags": []
          },
          "execution_count": 4
        }
      ]
    },
    {
      "cell_type": "code",
      "metadata": {
        "id": "EehcSpqtvYwu",
        "colab_type": "code",
        "outputId": "b44dfc51-2877-43ce-ee61-c467f9a0d6d6",
        "colab": {
          "base_uri": "https://localhost:8080/",
          "height": 34
        }
      },
      "source": [
        "sources = df['Source airport'].unique()\n",
        "len(sources)"
      ],
      "execution_count": 5,
      "outputs": [
        {
          "output_type": "execute_result",
          "data": {
            "text/plain": [
              "3409"
            ]
          },
          "metadata": {
            "tags": []
          },
          "execution_count": 5
        }
      ]
    },
    {
      "cell_type": "code",
      "metadata": {
        "id": "Ub5pJVxhvmJ7",
        "colab_type": "code",
        "outputId": "b3f4caba-ab21-4428-8176-6056179d4b00",
        "colab": {
          "base_uri": "https://localhost:8080/",
          "height": 34
        }
      },
      "source": [
        "destinations = df['Destination airport'].unique()\n",
        "len(destinations)"
      ],
      "execution_count": 6,
      "outputs": [
        {
          "output_type": "execute_result",
          "data": {
            "text/plain": [
              "3418"
            ]
          },
          "metadata": {
            "tags": []
          },
          "execution_count": 6
        }
      ]
    },
    {
      "cell_type": "code",
      "metadata": {
        "id": "v1dOL_9-v0oT",
        "colab_type": "code",
        "outputId": "3f83e1cd-2898-4b6d-a4f4-278ee93397ed",
        "colab": {
          "base_uri": "https://localhost:8080/",
          "height": 34
        }
      },
      "source": [
        "airlines = df['Airline'].unique()\n",
        "len(airlines)"
      ],
      "execution_count": 7,
      "outputs": [
        {
          "output_type": "execute_result",
          "data": {
            "text/plain": [
              "568"
            ]
          },
          "metadata": {
            "tags": []
          },
          "execution_count": 7
        }
      ]
    },
    {
      "cell_type": "code",
      "metadata": {
        "id": "Dtz68G6gitV3",
        "colab_type": "code",
        "outputId": "5a4ec803-0533-44e7-f154-c182f6b1609e",
        "colab": {
          "base_uri": "https://localhost:8080/",
          "height": 34
        }
      },
      "source": [
        "import tensorflow as tf\n",
        "tf.logging.set_verbosity(tf.logging.ERROR)\n",
        "print(tf.__version__)"
      ],
      "execution_count": 8,
      "outputs": [
        {
          "output_type": "stream",
          "text": [
            "1.13.1\n"
          ],
          "name": "stdout"
        }
      ]
    },
    {
      "cell_type": "code",
      "metadata": {
        "id": "N4YhKffPzMAc",
        "colab_type": "code",
        "outputId": "18ff4a3f-f979-47cc-f76b-c97344cbcc13",
        "colab": {
          "base_uri": "https://localhost:8080/",
          "height": 34
        }
      },
      "source": [
        "from tensorflow.keras.preprocessing.text import Tokenizer\n",
        "\n",
        "airline_tokenizer = Tokenizer()\n",
        "airline_tokenizer.fit_on_texts(df['Airline'])\n",
        "\n",
        "import numpy as np\n",
        "\n",
        "encoded_airlines = np.array(airline_tokenizer.texts_to_sequences(df['Airline'])).reshape(-1)\n",
        "encoded_airlines"
      ],
      "execution_count": 9,
      "outputs": [
        {
          "output_type": "execute_result",
          "data": {
            "text/plain": [
              "array([241, 241, 241, ..., 543, 543, 543])"
            ]
          },
          "metadata": {
            "tags": []
          },
          "execution_count": 9
        }
      ]
    },
    {
      "cell_type": "code",
      "metadata": {
        "id": "6IBnf4t5zW-q",
        "colab_type": "code",
        "outputId": "8ed1faed-5c84-4181-ed2f-11f5a5743bb8",
        "colab": {
          "base_uri": "https://localhost:8080/",
          "height": 34
        }
      },
      "source": [
        "len(encoded_airlines) "
      ],
      "execution_count": 10,
      "outputs": [
        {
          "output_type": "execute_result",
          "data": {
            "text/plain": [
              "67663"
            ]
          },
          "metadata": {
            "tags": []
          },
          "execution_count": 10
        }
      ]
    },
    {
      "cell_type": "code",
      "metadata": {
        "id": "U7n-Vq0m2Hu4",
        "colab_type": "code",
        "outputId": "6d4b6ea8-5e59-4019-db67-bde2390557f1",
        "colab": {
          "base_uri": "https://localhost:8080/",
          "height": 122
        }
      },
      "source": [
        "routes = df[['Source airport', 'Destination airport']].apply(lambda x: ' '.join(x), axis=1)\n",
        "routes.head()"
      ],
      "execution_count": 11,
      "outputs": [
        {
          "output_type": "execute_result",
          "data": {
            "text/plain": [
              "0    AER KZN\n",
              "1    ASF KZN\n",
              "2    ASF MRV\n",
              "3    CEK KZN\n",
              "4    CEK OVB\n",
              "dtype: object"
            ]
          },
          "metadata": {
            "tags": []
          },
          "execution_count": 11
        }
      ]
    },
    {
      "cell_type": "code",
      "metadata": {
        "id": "nYV0rPJC0c4G",
        "colab_type": "code",
        "colab": {}
      },
      "source": [
        "routes_tokenizer = Tokenizer()\n",
        "routes_tokenizer.fit_on_texts(routes)\n",
        "encoded_routes = np.array(routes_tokenizer.texts_to_sequences(routes))"
      ],
      "execution_count": 0,
      "outputs": []
    },
    {
      "cell_type": "code",
      "metadata": {
        "id": "hDFKV1Cz8WvF",
        "colab_type": "code",
        "outputId": "cc75de93-c13b-4704-f200-aeedac14a12d",
        "colab": {
          "base_uri": "https://localhost:8080/",
          "height": 34
        }
      },
      "source": [
        "# should be a bit more 3400 as source and destination are from the same set\n",
        "output_dim = len(routes_tokenizer.word_index) + 1\n",
        "output_dim"
      ],
      "execution_count": 13,
      "outputs": [
        {
          "output_type": "execute_result",
          "data": {
            "text/plain": [
              "3426"
            ]
          },
          "metadata": {
            "tags": []
          },
          "execution_count": 13
        }
      ]
    },
    {
      "cell_type": "code",
      "metadata": {
        "id": "K5jz1ykV8Oen",
        "colab_type": "code",
        "outputId": "1e558755-7cff-4650-e0fb-2a370142923b",
        "colab": {
          "base_uri": "https://localhost:8080/",
          "height": 34
        }
      },
      "source": [
        "encoded_routes[0]"
      ],
      "execution_count": 14,
      "outputs": [
        {
          "output_type": "execute_result",
          "data": {
            "text/plain": [
              "array([511, 491])"
            ]
          },
          "metadata": {
            "tags": []
          },
          "execution_count": 14
        }
      ]
    },
    {
      "cell_type": "code",
      "metadata": {
        "id": "yKB85wjg7y3Z",
        "colab_type": "code",
        "outputId": "37300dc8-f6ab-4a60-b32f-8f569d325160",
        "colab": {
          "base_uri": "https://localhost:8080/",
          "height": 34
        }
      },
      "source": [
        "len(encoded_routes)"
      ],
      "execution_count": 15,
      "outputs": [
        {
          "output_type": "execute_result",
          "data": {
            "text/plain": [
              "67663"
            ]
          },
          "metadata": {
            "tags": []
          },
          "execution_count": 15
        }
      ]
    },
    {
      "cell_type": "code",
      "metadata": {
        "id": "hSm686Cv77Vj",
        "colab_type": "code",
        "colab": {}
      },
      "source": [
        "from tensorflow.keras.utils import to_categorical\n",
        "\n",
        "# sequence of airlines encoded as a unique number\n",
        "x = encoded_airlines\n",
        "# sequence of pair, src, dest encoded as a unique numbers\n",
        "Y = to_categorical(encoded_routes)\n",
        "# for now just the source\n",
        "# Y = to_categorical(encoded_routes[:, 0])"
      ],
      "execution_count": 0,
      "outputs": []
    },
    {
      "cell_type": "code",
      "metadata": {
        "id": "cSi258PHZAf9",
        "colab_type": "code",
        "outputId": "b2ea6c3a-2f5e-4235-a509-83d5c212dd48",
        "colab": {
          "base_uri": "https://localhost:8080/",
          "height": 52
        }
      },
      "source": [
        "Y[0]"
      ],
      "execution_count": 17,
      "outputs": [
        {
          "output_type": "execute_result",
          "data": {
            "text/plain": [
              "array([[0., 0., 0., ..., 0., 0., 0.],\n",
              "       [0., 0., 0., ..., 0., 0., 0.]], dtype=float32)"
            ]
          },
          "metadata": {
            "tags": []
          },
          "execution_count": 17
        }
      ]
    },
    {
      "cell_type": "markdown",
      "metadata": {
        "id": "BzKAyEvmraN-",
        "colab_type": "text"
      },
      "source": [
        "## 2d embeddings"
      ]
    },
    {
      "cell_type": "code",
      "metadata": {
        "id": "brvMGP0koGBu",
        "colab_type": "code",
        "outputId": "d49e8565-6ad4-4e0e-a443-5840dc80e16a",
        "colab": {
          "base_uri": "https://localhost:8080/",
          "height": 384
        }
      },
      "source": [
        "%%time\n",
        "\n",
        "import matplotlib.pyplot as plt\n",
        "\n",
        "\n",
        "import tensorflow as tf\n",
        "from tensorflow import keras\n",
        "from tensorflow.keras.layers import Flatten, GlobalAveragePooling1D, Dense, LSTM, GRU, SimpleRNN, Bidirectional, Embedding, RepeatVector\n",
        "from tensorflow.keras.models import Sequential, Model\n",
        "\n",
        "from tensorflow.keras.initializers import glorot_normal\n",
        "seed = 3\n",
        "\n",
        "input_dim = len(airlines) + 1\n",
        "embedding_dim = 2\n",
        "\n",
        "model = Sequential()\n",
        "\n",
        "model.add(Embedding(name='embedding',\n",
        "                    input_dim=input_dim, \n",
        "                    output_dim=embedding_dim, \n",
        "                    input_length=1,\n",
        "                    embeddings_initializer=glorot_normal(seed=seed)))\n",
        "\n",
        "# https://stackoverflow.com/questions/49295311/what-is-the-difference-between-flatten-and-globalaveragepooling2d-in-keras\n",
        "# averages over all (global) embedding values \n",
        "# model.add(GlobalAveragePooling1D())\n",
        "model.add(Flatten())\n",
        "\n",
        "model.add(Dense(units=50, activation='relu', bias_initializer='zeros', kernel_initializer=glorot_normal(seed=seed)))\n",
        "\n",
        "model.add(RepeatVector(2))\n",
        "\n",
        "model.add(SimpleRNN(units=50, return_sequences=True, bias_initializer='zeros', kernel_initializer=glorot_normal(seed=seed)))\n",
        "\n",
        "model.add(Dense(units=output_dim, name='output', activation='softmax', bias_initializer='zeros', kernel_initializer=glorot_normal(seed=seed)))\n",
        "model.compile(optimizer='adam', loss='categorical_crossentropy', metrics=['accuracy'])\n",
        "\n",
        "model.summary()"
      ],
      "execution_count": 18,
      "outputs": [
        {
          "output_type": "stream",
          "text": [
            "_________________________________________________________________\n",
            "Layer (type)                 Output Shape              Param #   \n",
            "=================================================================\n",
            "embedding (Embedding)        (None, 1, 2)              1138      \n",
            "_________________________________________________________________\n",
            "flatten (Flatten)            (None, 2)                 0         \n",
            "_________________________________________________________________\n",
            "dense (Dense)                (None, 50)                150       \n",
            "_________________________________________________________________\n",
            "repeat_vector (RepeatVector) (None, 2, 50)             0         \n",
            "_________________________________________________________________\n",
            "simple_rnn (SimpleRNN)       (None, 2, 50)             5050      \n",
            "_________________________________________________________________\n",
            "output (Dense)               (None, 2, 3426)           174726    \n",
            "=================================================================\n",
            "Total params: 181,064\n",
            "Trainable params: 181,064\n",
            "Non-trainable params: 0\n",
            "_________________________________________________________________\n",
            "CPU times: user 317 ms, sys: 8.2 ms, total: 325 ms\n",
            "Wall time: 351 ms\n"
          ],
          "name": "stdout"
        }
      ]
    },
    {
      "cell_type": "code",
      "metadata": {
        "id": "twAODgEoDjpN",
        "colab_type": "code",
        "outputId": "abbe87aa-f67b-44ca-a591-81c862c6e291",
        "colab": {
          "base_uri": "https://localhost:8080/",
          "height": 87
        }
      },
      "source": [
        "model.predict(np.array([x[0]]))"
      ],
      "execution_count": 19,
      "outputs": [
        {
          "output_type": "execute_result",
          "data": {
            "text/plain": [
              "array([[[0.00029187, 0.00029189, 0.00029188, ..., 0.00029186,\n",
              "         0.00029188, 0.00029189],\n",
              "        [0.00029186, 0.00029187, 0.00029185, ..., 0.00029188,\n",
              "         0.00029187, 0.00029189]]], dtype=float32)"
            ]
          },
          "metadata": {
            "tags": []
          },
          "execution_count": 19
        }
      ]
    },
    {
      "cell_type": "code",
      "metadata": {
        "id": "Ti2efJAYXkqs",
        "colab_type": "code",
        "outputId": "b46f530e-0145-4b20-ede7-bdb6ccf9d266",
        "colab": {
          "base_uri": "https://localhost:8080/",
          "height": 52
        }
      },
      "source": [
        "Y[0]"
      ],
      "execution_count": 20,
      "outputs": [
        {
          "output_type": "execute_result",
          "data": {
            "text/plain": [
              "array([[0., 0., 0., ..., 0., 0., 0.],\n",
              "       [0., 0., 0., ..., 0., 0., 0.]], dtype=float32)"
            ]
          },
          "metadata": {
            "tags": []
          },
          "execution_count": 20
        }
      ]
    },
    {
      "cell_type": "code",
      "metadata": {
        "id": "-VE_4hb9DYrR",
        "colab_type": "code",
        "outputId": "9acd4514-3d58-4b11-8e5b-7c4a7566d456",
        "colab": {
          "base_uri": "https://localhost:8080/",
          "height": 927
        }
      },
      "source": [
        "%%time\n",
        "\n",
        "EPOCHS=25\n",
        "BATCH_SIZE=10\n",
        "\n",
        "history = model.fit(x, Y, epochs=EPOCHS, batch_size=BATCH_SIZE, verbose=1)"
      ],
      "execution_count": 21,
      "outputs": [
        {
          "output_type": "stream",
          "text": [
            "Epoch 1/25\n",
            "67663/67663 [==============================] - 43s 634us/sample - loss: 6.1470 - acc: 0.0392\n",
            "Epoch 2/25\n",
            "67663/67663 [==============================] - 45s 662us/sample - loss: 5.2131 - acc: 0.0895\n",
            "Epoch 3/25\n",
            "67663/67663 [==============================] - 42s 626us/sample - loss: 4.8773 - acc: 0.1150\n",
            "Epoch 4/25\n",
            "67663/67663 [==============================] - 43s 635us/sample - loss: 4.7051 - acc: 0.1286\n",
            "Epoch 5/25\n",
            "67663/67663 [==============================] - 42s 627us/sample - loss: 4.5976 - acc: 0.1376\n",
            "Epoch 6/25\n",
            "67663/67663 [==============================] - 41s 611us/sample - loss: 4.5243 - acc: 0.1438\n",
            "Epoch 7/25\n",
            "67663/67663 [==============================] - 43s 635us/sample - loss: 4.4705 - acc: 0.1467\n",
            "Epoch 8/25\n",
            "67663/67663 [==============================] - 42s 619us/sample - loss: 4.4298 - acc: 0.1484\n",
            "Epoch 9/25\n",
            "67663/67663 [==============================] - 43s 634us/sample - loss: 4.3994 - acc: 0.1496\n",
            "Epoch 10/25\n",
            "67663/67663 [==============================] - 43s 634us/sample - loss: 4.3709 - acc: 0.1516\n",
            "Epoch 11/25\n",
            "67663/67663 [==============================] - 44s 644us/sample - loss: 4.3482 - acc: 0.1530\n",
            "Epoch 12/25\n",
            "67663/67663 [==============================] - 45s 669us/sample - loss: 4.3294 - acc: 0.1530\n",
            "Epoch 13/25\n",
            "67663/67663 [==============================] - 45s 672us/sample - loss: 4.3129 - acc: 0.1543\n",
            "Epoch 14/25\n",
            "67663/67663 [==============================] - 49s 727us/sample - loss: 4.2979 - acc: 0.1551\n",
            "Epoch 15/25\n",
            "67663/67663 [==============================] - 44s 652us/sample - loss: 4.2850 - acc: 0.1555\n",
            "Epoch 16/25\n",
            "67663/67663 [==============================] - 43s 642us/sample - loss: 4.2763 - acc: 0.1569\n",
            "Epoch 17/25\n",
            "67663/67663 [==============================] - 42s 615us/sample - loss: 4.2642 - acc: 0.1566\n",
            "Epoch 18/25\n",
            "67663/67663 [==============================] - 43s 630us/sample - loss: 4.2567 - acc: 0.1572\n",
            "Epoch 19/25\n",
            "67663/67663 [==============================] - 41s 600us/sample - loss: 4.2484 - acc: 0.1577\n",
            "Epoch 20/25\n",
            "67663/67663 [==============================] - 42s 618us/sample - loss: 4.2375 - acc: 0.1582\n",
            "Epoch 21/25\n",
            "67663/67663 [==============================] - 40s 598us/sample - loss: 4.2318 - acc: 0.1584\n",
            "Epoch 22/25\n",
            "67663/67663 [==============================] - 42s 620us/sample - loss: 4.2265 - acc: 0.1583\n",
            "Epoch 23/25\n",
            "67663/67663 [==============================] - 43s 633us/sample - loss: 4.2187 - acc: 0.1579\n",
            "Epoch 24/25\n",
            "67663/67663 [==============================] - 46s 685us/sample - loss: 4.2149 - acc: 0.1583\n",
            "Epoch 25/25\n",
            "67663/67663 [==============================] - 42s 618us/sample - loss: 4.2096 - acc: 0.1590\n",
            "CPU times: user 23min 1s, sys: 1min 56s, total: 24min 58s\n",
            "Wall time: 17min 59s\n"
          ],
          "name": "stdout"
        }
      ]
    },
    {
      "cell_type": "code",
      "metadata": {
        "id": "V9ItdCvWISKr",
        "colab_type": "code",
        "outputId": "a273a6e4-7621-4fe1-984c-f97dceb2d366",
        "colab": {
          "base_uri": "https://localhost:8080/",
          "height": 52
        }
      },
      "source": [
        "loss, accuracy = model.evaluate(x, Y, batch_size=BATCH_SIZE)\n",
        "loss, accuracy"
      ],
      "execution_count": 22,
      "outputs": [
        {
          "output_type": "stream",
          "text": [
            "67663/67663 [==============================] - 24s 353us/sample - loss: 4.1585 - acc: 0.1613\n"
          ],
          "name": "stdout"
        },
        {
          "output_type": "execute_result",
          "data": {
            "text/plain": [
              "(4.158455274742248, 0.16129199)"
            ]
          },
          "metadata": {
            "tags": []
          },
          "execution_count": 22
        }
      ]
    },
    {
      "cell_type": "code",
      "metadata": {
        "id": "61TP5fb03Oeh",
        "colab_type": "code",
        "colab": {}
      },
      "source": [
        "# plt.yscale('log')\n",
        "plt.plot(history.history['loss'])"
      ],
      "execution_count": 0,
      "outputs": []
    },
    {
      "cell_type": "code",
      "metadata": {
        "id": "AFV8mg583Rtz",
        "colab_type": "code",
        "colab": {}
      },
      "source": [
        "# plt.yscale('log')\n",
        "plt.plot(history.history['acc'])"
      ],
      "execution_count": 0,
      "outputs": []
    },
    {
      "cell_type": "code",
      "metadata": {
        "id": "6DyEK_CODsZy",
        "colab_type": "code",
        "colab": {}
      },
      "source": [
        "samples = pd.DataFrame(encoded_airlines).sample(n=200).values.reshape(-1)"
      ],
      "execution_count": 0,
      "outputs": []
    },
    {
      "cell_type": "code",
      "metadata": {
        "id": "zvNZOg1itp_s",
        "colab_type": "code",
        "colab": {}
      },
      "source": [
        "# https://en.wikipedia.org/wiki/List_of_airline_codes\n",
        "# https://en.wikipedia.org/wiki/List_of_largest_airlines_in_North_America\n",
        "# https://en.wikipedia.org/wiki/List_of_largest_airlines_in_Europe\n",
        "\n",
        "europe_airlines = ['LH', 'BA', 'SK', 'KL', 'AF', 'FR', 'SU', 'EW', 'TP', 'BT', 'U2']\n",
        "us_airlines = ['AA', 'US', 'UA', 'WN', 'DL', 'AS', 'HA']"
      ],
      "execution_count": 0,
      "outputs": []
    },
    {
      "cell_type": "code",
      "metadata": {
        "id": "oXnMYvAg5m3y",
        "colab_type": "code",
        "colab": {}
      },
      "source": [
        "samples = [airline_tokenizer.word_index[airline_code.lower()] for airline_code in europe_airlines + us_airlines]"
      ],
      "execution_count": 0,
      "outputs": []
    },
    {
      "cell_type": "code",
      "metadata": {
        "id": "yBuKaNNxExs2",
        "colab_type": "code",
        "colab": {}
      },
      "source": [
        "embedding_layer = model.get_layer('embedding')\n",
        "embedding_model = Model(inputs=model.input, outputs=embedding_layer.output)\n",
        "embeddings_2d = embedding_model.predict(samples).reshape(-1, 2)"
      ],
      "execution_count": 0,
      "outputs": []
    },
    {
      "cell_type": "code",
      "metadata": {
        "id": "-gC6uRgMDXTl",
        "colab_type": "code",
        "outputId": "d170769e-b6eb-477a-ee39-0935b573e31d",
        "colab": {
          "base_uri": "https://localhost:8080/",
          "height": 347
        }
      },
      "source": [
        "# for printing only\n",
        "# plt.figure(dpi=600)\n",
        "plt.axis('off')\n",
        "\n",
        "plt.scatter(embeddings_2d[:, 0], embeddings_2d[:, 1])\n",
        "for index, x_pos, y_pos in zip(samples, embeddings_2d[:, 0], embeddings_2d[:, 1]):\n",
        "  name = airline_tokenizer.index_word[index].upper()\n",
        "#   print(name, (x_pos, y_pos))\n",
        "  plt.annotate(name, (x_pos, y_pos))"
      ],
      "execution_count": 0,
      "outputs": [
        {
          "output_type": "display_data",
          "data": {
            "image/png": "[encoded data removed]",
            "text/plain": [
              "<Figure size 576x396 with 1 Axes>"
            ]
          },
          "metadata": {
            "tags": []
          }
        }
      ]
    },
    {
      "cell_type": "markdown",
      "metadata": {
        "id": "YTOc5V0UDDca",
        "colab_type": "text"
      },
      "source": [
        "## 1d embeddings"
      ]
    },
    {
      "cell_type": "code",
      "metadata": {
        "id": "yZdK4FMtEsAS",
        "colab_type": "code",
        "outputId": "4fcb738c-b829-4f6e-eb0e-ba5d31998604",
        "colab": {
          "base_uri": "https://localhost:8080/",
          "height": 374
        }
      },
      "source": [
        "%%time\n",
        "\n",
        "import matplotlib.pyplot as plt\n",
        "\n",
        "\n",
        "import tensorflow as tf\n",
        "from tensorflow import keras\n",
        "from tensorflow.keras.layers import Flatten, GlobalAveragePooling1D, Dense, LSTM, GRU, SimpleRNN, Bidirectional, Embedding, RepeatVector\n",
        "from tensorflow.keras.models import Sequential, Model\n",
        "\n",
        "from tensorflow.keras.initializers import glorot_normal\n",
        "seed = 7\n",
        "\n",
        "input_dim = len(airlines) + 1\n",
        "embedding_dim = 1\n",
        "\n",
        "model = Sequential()\n",
        "\n",
        "model.add(Embedding(name='embedding',\n",
        "                    input_dim=input_dim, \n",
        "                    output_dim=embedding_dim, \n",
        "                    input_length=1,\n",
        "                   embeddings_initializer=glorot_normal(seed=seed)))\n",
        "\n",
        "# model.add(GlobalAveragePooling1D())\n",
        "model.add(Flatten())\n",
        "\n",
        "model.add(Dense(units=50, activation='relu', bias_initializer='zeros', kernel_initializer=glorot_normal(seed=seed)))\n",
        "\n",
        "model.add(RepeatVector(2))\n",
        "\n",
        "model.add(SimpleRNN(units=50, return_sequences=True, bias_initializer='zeros', kernel_initializer=glorot_normal(seed=seed)))\n",
        "\n",
        "model.add(Dense(units=output_dim, name='output', activation='softmax', bias_initializer='zeros', kernel_initializer=glorot_normal(seed=seed)))\n",
        "model.compile(optimizer='adam', loss='categorical_crossentropy', metrics=['accuracy'])\n",
        "\n",
        "model.summary()"
      ],
      "execution_count": 0,
      "outputs": [
        {
          "output_type": "stream",
          "text": [
            "_________________________________________________________________\n",
            "Layer (type)                 Output Shape              Param #   \n",
            "=================================================================\n",
            "embedding (Embedding)        (None, 1, 1)              569       \n",
            "_________________________________________________________________\n",
            "flatten_1 (Flatten)          (None, 1)                 0         \n",
            "_________________________________________________________________\n",
            "dense_1 (Dense)              (None, 50)                100       \n",
            "_________________________________________________________________\n",
            "repeat_vector_1 (RepeatVecto (None, 2, 50)             0         \n",
            "_________________________________________________________________\n",
            "simple_rnn_1 (SimpleRNN)     (None, 2, 50)             5050      \n",
            "_________________________________________________________________\n",
            "output (Dense)               (None, 2, 3426)           174726    \n",
            "=================================================================\n",
            "Total params: 180,445\n",
            "Trainable params: 180,445\n",
            "Non-trainable params: 0\n",
            "_________________________________________________________________\n",
            "CPU times: user 346 ms, sys: 2.7 ms, total: 349 ms\n",
            "Wall time: 347 ms\n"
          ],
          "name": "stdout"
        }
      ]
    },
    {
      "cell_type": "code",
      "metadata": {
        "id": "_y0ScvHBEbzQ",
        "colab_type": "code",
        "outputId": "d235520e-ed29-4e16-80f6-f9678d7385ee",
        "colab": {
          "base_uri": "https://localhost:8080/",
          "height": 1061
        }
      },
      "source": [
        "%%time\n",
        "\n",
        "EPOCHS=20\n",
        "BATCH_SIZE=10\n",
        "\n",
        "history = model.fit(x, Y, epochs=EPOCHS, batch_size=BATCH_SIZE, verbose=1)\n",
        "\n",
        "plt.yscale('log')\n",
        "plt.plot(history.history['loss'])\n",
        "plt.plot(history.history['acc'])"
      ],
      "execution_count": 0,
      "outputs": [
        {
          "output_type": "stream",
          "text": [
            "Epoch 1/20\n",
            "67663/67663 [==============================] - 68s 1ms/sample - loss: 6.3561 - acc: 0.0231\n",
            "Epoch 2/20\n",
            "67663/67663 [==============================] - 67s 997us/sample - loss: 5.6996 - acc: 0.0449\n",
            "Epoch 3/20\n",
            "67663/67663 [==============================] - 68s 998us/sample - loss: 5.4424 - acc: 0.0599\n",
            "Epoch 4/20\n",
            "67663/67663 [==============================] - 68s 999us/sample - loss: 5.2960 - acc: 0.0662\n",
            "Epoch 5/20\n",
            "67663/67663 [==============================] - 67s 996us/sample - loss: 5.1944 - acc: 0.0712\n",
            "Epoch 6/20\n",
            "67663/67663 [==============================] - 67s 996us/sample - loss: 5.1216 - acc: 0.0748\n",
            "Epoch 7/20\n",
            "67663/67663 [==============================] - 67s 993us/sample - loss: 5.0701 - acc: 0.0774\n",
            "Epoch 8/20\n",
            "67663/67663 [==============================] - 67s 996us/sample - loss: 5.0274 - acc: 0.0794\n",
            "Epoch 9/20\n",
            "67663/67663 [==============================] - 67s 994us/sample - loss: 4.9936 - acc: 0.0806\n",
            "Epoch 10/20\n",
            "67663/67663 [==============================] - 67s 992us/sample - loss: 4.9650 - acc: 0.0819\n",
            "Epoch 11/20\n",
            "67663/67663 [==============================] - 67s 995us/sample - loss: 4.9429 - acc: 0.0831\n",
            "Epoch 12/20\n",
            "67663/67663 [==============================] - 67s 993us/sample - loss: 4.9237 - acc: 0.0847\n",
            "Epoch 13/20\n",
            "67663/67663 [==============================] - 67s 990us/sample - loss: 4.9145 - acc: 0.0860\n",
            "Epoch 14/20\n",
            "67663/67663 [==============================] - 67s 993us/sample - loss: 4.9046 - acc: 0.0865\n",
            "Epoch 15/20\n",
            "67663/67663 [==============================] - 67s 991us/sample - loss: 4.8979 - acc: 0.0861\n",
            "Epoch 16/20\n",
            "67663/67663 [==============================] - 67s 991us/sample - loss: 4.8790 - acc: 0.0865\n",
            "Epoch 17/20\n",
            "67663/67663 [==============================] - 67s 996us/sample - loss: 4.8649 - acc: 0.0895\n",
            "Epoch 18/20\n",
            "67663/67663 [==============================] - 67s 995us/sample - loss: 4.8568 - acc: 0.0895\n",
            "Epoch 19/20\n",
            "67663/67663 [==============================] - 67s 991us/sample - loss: 4.8374 - acc: 0.0903\n",
            "Epoch 20/20\n",
            "67663/67663 [==============================] - 67s 991us/sample - loss: 4.8249 - acc: 0.0915\n",
            "CPU times: user 26min 56s, sys: 2min 57s, total: 29min 54s\n",
            "Wall time: 22min 27s\n"
          ],
          "name": "stdout"
        },
        {
          "output_type": "display_data",
          "data": {
            "image/png": "[encoded data removed]",
            "text/plain": [
              "<Figure size 576x396 with 1 Axes>"
            ]
          },
          "metadata": {
            "tags": []
          }
        }
      ]
    },
    {
      "cell_type": "code",
      "metadata": {
        "id": "9Fv_XbOyFGxH",
        "colab_type": "code",
        "outputId": "3cca64a5-b21c-400b-dd3d-dcdb4cffafda",
        "colab": {
          "base_uri": "https://localhost:8080/",
          "height": 51
        }
      },
      "source": [
        "# we expect this to be substantially worse than the 2d version as the bottle neck now is much more narrow\n",
        "loss, accuracy = model.evaluate(x, Y, batch_size=BATCH_SIZE)\n",
        "loss, accuracy"
      ],
      "execution_count": 0,
      "outputs": [
        {
          "output_type": "stream",
          "text": [
            "67663/67663 [==============================] - 38s 555us/sample - loss: 4.7625 - acc: 0.0909\n"
          ],
          "name": "stdout"
        },
        {
          "output_type": "execute_result",
          "data": {
            "text/plain": [
              "(4.762505492797888, 0.090906404)"
            ]
          },
          "metadata": {
            "tags": []
          },
          "execution_count": 30
        }
      ]
    },
    {
      "cell_type": "code",
      "metadata": {
        "id": "2oaM-ovJLisy",
        "colab_type": "code",
        "outputId": "9d5a4da1-a2b8-4caf-b87f-ac3af67f4b1d",
        "colab": {
          "base_uri": "https://localhost:8080/",
          "height": 347
        }
      },
      "source": [
        "import numpy as np\n",
        "\n",
        "embedding_layer = model.get_layer('embedding')\n",
        "embedding_model = Model(inputs=model.input, outputs=embedding_layer.output)\n",
        "embeddings_1d = embedding_model.predict(samples).reshape(-1)\n",
        "\n",
        "# for printing only\n",
        "# plt.figure(figsize=(20,5))\n",
        "# plt.figure(dpi=600)\n",
        "plt.axis('off')\n",
        "\n",
        "plt.scatter(embeddings_1d, np.zeros(len(embeddings_1d)))\n",
        "for index, x_pos in zip(samples, embeddings_1d):\n",
        "  name = airline_tokenizer.index_word[index].upper()\n",
        "#   print(name, (x_pos, y_pos))\n",
        "  plt.annotate(name, (x_pos, 0), rotation=80)"
      ],
      "execution_count": 0,
      "outputs": [
        {
          "output_type": "display_data",
          "data": {
            "image/png": "[encoded data removed]",
            "text/plain": [
              "<Figure size 576x396 with 1 Axes>"
            ]
          },
          "metadata": {
            "tags": []
          }
        }
      ]
    },
    {
      "cell_type": "markdown",
      "metadata": {
        "id": "3gWJ3zQtP0VC",
        "colab_type": "text"
      },
      "source": [
        "## 2d embedding reduced via PCA \n",
        "\n",
        "much worse, as semantics are getting lost\n",
        "\n"
      ]
    },
    {
      "cell_type": "code",
      "metadata": {
        "id": "MZJVjpPMQQYf",
        "colab_type": "code",
        "outputId": "a970d49b-0440-480e-8e89-cc7375ad6ce4",
        "colab": {
          "base_uri": "https://localhost:8080/",
          "height": 51
        }
      },
      "source": [
        "from sklearn.decomposition import PCA\n",
        "\n",
        "X = embeddings_2d\n",
        "\n",
        "pca = PCA(n_components=2)\n",
        "pca.fit(X)"
      ],
      "execution_count": 0,
      "outputs": [
        {
          "output_type": "execute_result",
          "data": {
            "text/plain": [
              "PCA(copy=True, iterated_power='auto', n_components=2, random_state=None,\n",
              "  svd_solver='auto', tol=0.0, whiten=False)"
            ]
          },
          "metadata": {
            "tags": []
          },
          "execution_count": 32
        }
      ]
    },
    {
      "cell_type": "code",
      "metadata": {
        "id": "6ONLkTVOSCw8",
        "colab_type": "code",
        "outputId": "462b61ef-46a3-4303-a73d-2b8fdb2a9866",
        "colab": {
          "base_uri": "https://localhost:8080/",
          "height": 34
        }
      },
      "source": [
        "pca.explained_variance_ratio_"
      ],
      "execution_count": 0,
      "outputs": [
        {
          "output_type": "execute_result",
          "data": {
            "text/plain": [
              "array([0.5469235 , 0.45307645], dtype=float32)"
            ]
          },
          "metadata": {
            "tags": []
          },
          "execution_count": 33
        }
      ]
    },
    {
      "cell_type": "code",
      "metadata": {
        "id": "1lFAkRWISXNY",
        "colab_type": "code",
        "outputId": "1a275698-35ba-40d9-8fc0-689f35187a6d",
        "colab": {
          "base_uri": "https://localhost:8080/",
          "height": 347
        }
      },
      "source": [
        "X_transformed = pca.transform(X)\n",
        "# for printing only\n",
        "# plt.figure(dpi=600)\n",
        "plt.axis('off')\n",
        "\n",
        "plt.scatter(X_transformed[:, 0], X_transformed[:, 1])\n",
        "for index, x_pos, y_pos in zip(samples, X_transformed[:, 0], X_transformed[:, 1]):\n",
        "  name = airline_tokenizer.index_word[index].upper()\n",
        "#   print(name, (x_pos, y_pos))\n",
        "  plt.annotate(name, (x_pos, y_pos))"
      ],
      "execution_count": 0,
      "outputs": [
        {
          "output_type": "display_data",
          "data": {
            "image/png": "[encoded data removed]",
            "text/plain": [
              "<Figure size 576x396 with 1 Axes>"
            ]
          },
          "metadata": {
            "tags": []
          }
        }
      ]
    },
    {
      "cell_type": "code",
      "metadata": {
        "id": "ti2bSM0fStz-",
        "colab_type": "code",
        "outputId": "49654b1f-f883-4f6d-8a56-4ea143a22b37",
        "colab": {
          "base_uri": "https://localhost:8080/",
          "height": 347
        }
      },
      "source": [
        "pca = PCA(n_components=1)\n",
        "pca.fit(X)\n",
        "X_transformed = pca.transform(X)\n",
        "# for printing only\n",
        "# plt.figure(figsize=(20,5))\n",
        "# plt.figure(dpi=600)\n",
        "plt.axis('off')\n",
        "\n",
        "plt.scatter(X_transformed, np.zeros(len(X_transformed)))\n",
        "for index, x_pos in zip(samples, X_transformed):\n",
        "  name = airline_tokenizer.index_word[index].upper()\n",
        "#   print(name, (x_pos, y_pos))\n",
        "  plt.annotate(name, (x_pos, 0), rotation=80)"
      ],
      "execution_count": 0,
      "outputs": [
        {
          "output_type": "display_data",
          "data": {
            "image/png": "[encoded data removed]",
            "text/plain": [
              "<Figure size 576x396 with 1 Axes>"
            ]
          },
          "metadata": {
            "tags": []
          }
        }
      ]
    },
    {
      "cell_type": "markdown",
      "metadata": {
        "id": "7OigqkWUN6t3",
        "colab_type": "text"
      },
      "source": [
        "## Clustering in 2d\n",
        "\n",
        "1d embedding vs size of airline\n",
        "* find what is similar\n",
        "* what is an outlier"
      ]
    },
    {
      "cell_type": "code",
      "metadata": {
        "id": "WyyRsXWdN6YI",
        "colab_type": "code",
        "colab": {}
      },
      "source": [
        "# https://en.wikipedia.org/wiki/List_of_airline_codes\n",
        "# https://en.wikipedia.org/wiki/List_of_largest_airlines_in_North_America\n",
        "# https://www.tvlon.com/resources/airlinecodes.htm\n",
        "# https://en.wikipedia.org/wiki/List_of_largest_airlines_in_Europe\n",
        "\n",
        "airline_size = {\n",
        "    'LH': 130, 'BA': 105, 'SK': 30, 'KL': 101, 'AF': 101, 'FR': 129, 'SU': 56, 'EW': 24, 'TP': 16, 'BT': 4, 'U2': 88, 'AA': 204, 'US': 204, 'UA': 158, 'WN': 164, 'DL': 192, 'AS': 46, 'HA': 12\n",
        "}\n",
        "sample_names = [airline_tokenizer.index_word[sample].upper() for sample in samples]\n",
        "sample_sizes = [airline_size[name] * 1e6 for name in sample_names]"
      ],
      "execution_count": 0,
      "outputs": []
    },
    {
      "cell_type": "code",
      "metadata": {
        "id": "CksSH1wHLzSu",
        "colab_type": "code",
        "outputId": "8463bbe5-f86f-4950-e804-f0dff745cc10",
        "colab": {
          "base_uri": "https://localhost:8080/",
          "height": 358
        }
      },
      "source": [
        "# for printing only\n",
        "# plt.figure(figsize=(20,5))\n",
        "# plt.figure(dpi=600)\n",
        "# plt.axis('off')\n",
        "\n",
        "plt.scatter(embeddings_1d, sample_sizes)\n",
        "for name, x_pos, y_pos in zip(sample_names, embeddings_1d, sample_sizes):\n",
        "  plt.annotate(name, (x_pos,  y_pos))"
      ],
      "execution_count": 0,
      "outputs": [
        {
          "output_type": "display_data",
          "data": {
            "image/png": "[encoded data removed]",
            "text/plain": [
              "<Figure size 576x396 with 1 Axes>"
            ]
          },
          "metadata": {
            "tags": []
          }
        }
      ]
    },
    {
      "cell_type": "code",
      "metadata": {
        "id": "2ZMqtkZze5fS",
        "colab_type": "code",
        "outputId": "c564fe32-3c9c-415e-e329-3c2f898426d1",
        "colab": {
          "base_uri": "https://localhost:8080/",
          "height": 323
        }
      },
      "source": [
        "from sklearn.preprocessing import StandardScaler\n",
        "\n",
        "embeddings_1d_scaled = StandardScaler().fit_transform(embeddings_1d.reshape(-1, 1))\n",
        "sizes_for_samples_scaled = StandardScaler().fit_transform(np.array(sample_sizes).reshape(-1, 1))\n",
        "X = np.dstack((embeddings_1d_scaled.reshape(-1), sizes_for_samples_scaled.reshape(-1)))[0]\n",
        "X_scaled = StandardScaler().fit_transform(X)\n",
        "X_scaled"
      ],
      "execution_count": 0,
      "outputs": [
        {
          "output_type": "execute_result",
          "data": {
            "text/plain": [
              "array([[ 0.40075008,  0.48321195],\n",
              "       [ 0.14787165,  0.10570261],\n",
              "       [ 0.99537998, -1.0268254 ],\n",
              "       [-0.29804232,  0.04530112],\n",
              "       [-0.16714975,  0.04530112],\n",
              "       [ 1.1516618 ,  0.46811158],\n",
              "       [ 1.78620711, -0.63421569],\n",
              "       [ 0.56405324, -1.11742764],\n",
              "       [ 0.81762773, -1.23823063],\n",
              "       [ 1.30737667, -1.41943512],\n",
              "       [ 0.85509389, -0.15100374],\n",
              "       [-0.87697501,  1.6006396 ],\n",
              "       [-0.87733413,  1.6006396 ],\n",
              "       [-1.06170595,  0.90602241],\n",
              "       [-1.39185666,  0.99662466],\n",
              "       [-0.65849842,  1.41943512],\n",
              "       [-1.12466478, -0.78521943],\n",
              "       [-1.56979512, -1.29863213]])"
            ]
          },
          "metadata": {
            "tags": []
          },
          "execution_count": 38
        }
      ]
    },
    {
      "cell_type": "code",
      "metadata": {
        "id": "q74T57XPbwZC",
        "colab_type": "code",
        "outputId": "98472a67-b9a0-414a-d7a6-579683293afb",
        "colab": {
          "base_uri": "https://localhost:8080/",
          "height": 51
        }
      },
      "source": [
        "from sklearn.cluster import DBSCAN\n",
        "\n",
        "clf = DBSCAN(eps=0.75, min_samples=2)\n",
        "clf.fit(X_scaled)\n",
        "clusters = clf.labels_.astype(np.int)\n",
        "clusters"
      ],
      "execution_count": 0,
      "outputs": [
        {
          "output_type": "execute_result",
          "data": {
            "text/plain": [
              "array([ 0,  0,  1,  0,  0,  2, -1,  1,  1,  1,  2,  3,  3,  3,  3,  3,  4,\n",
              "        4])"
            ]
          },
          "metadata": {
            "tags": []
          },
          "execution_count": 39
        }
      ]
    },
    {
      "cell_type": "code",
      "metadata": {
        "id": "yaRY5XAygF7q",
        "colab_type": "code",
        "outputId": "5e4c8497-b024-45d8-a2f7-494ae111eaa7",
        "colab": {
          "base_uri": "https://localhost:8080/",
          "height": 374
        }
      },
      "source": [
        "import matplotlib.pyplot as plt\n",
        "\n",
        "from itertools import cycle, islice\n",
        "\n",
        "# last color is black to properly display label -1 as noise (black)\n",
        "colors = np.append(np.array(list(islice(cycle(['#AAAAFF', '#ff7f00', '#4daf4a',\n",
        "                                 '#f781bf', '#a65628', '#984ea3',\n",
        "                                 '#999999', '#e41a1c', '#dede00']),\n",
        "                          int(max(clusters) + 1)))), ['#000000'])\n",
        "\n",
        "# plt.figure(dpi=600)\n",
        "\n",
        "plt.xlabel('Similarity by typical routes')\n",
        "plt.ylabel('Passengers')\n",
        "\n",
        "plt.scatter(embeddings_1d, sample_sizes, color=colors[clusters], s=400)\n",
        "for name, x_pos, y_pos in zip(sample_names, embeddings_1d, sample_sizes):\n",
        "  plt.annotate(name, (x_pos,  y_pos), fontsize=36)\n"
      ],
      "execution_count": 0,
      "outputs": [
        {
          "output_type": "display_data",
          "data": {
            "image/png": "[encoded data removed]",
            "text/plain": [
              "<Figure size 576x396 with 1 Axes>"
            ]
          },
          "metadata": {
            "tags": []
          }
        }
      ]
    },
    {
      "cell_type": "code",
      "metadata": {
        "id": "A3glFQyCu_A0",
        "colab_type": "code",
        "outputId": "1d86225f-0c4d-4edb-ebd5-12031ec265ff",
        "colab": {
          "base_uri": "https://localhost:8080/",
          "height": 51
        }
      },
      "source": [
        "X = StandardScaler().fit_transform(embeddings_2d)\n",
        "\n",
        "clf = DBSCAN(eps=0.75, min_samples=2)\n",
        "clf.fit(X)\n",
        "clusters = clf.labels_.astype(np.int)\n",
        "clusters"
      ],
      "execution_count": 0,
      "outputs": [
        {
          "output_type": "execute_result",
          "data": {
            "text/plain": [
              "array([ 0,  0,  0,  0,  0, -1,  0,  0,  0,  0,  0,  0,  0,  0, -1, -1,  0,\n",
              "       -1])"
            ]
          },
          "metadata": {
            "tags": []
          },
          "execution_count": 47
        }
      ]
    },
    {
      "cell_type": "code",
      "metadata": {
        "id": "0uXQ5YkMiUS0",
        "colab_type": "code",
        "outputId": "3f5d91ff-c246-4789-b321-7f71fe28ef88",
        "colab": {
          "base_uri": "https://localhost:8080/",
          "height": 357
        }
      },
      "source": [
        "# for printing only\n",
        "# plt.figure(dpi=600)\n",
        "# plt.axis('off')\n",
        "\n",
        "plt.scatter(embeddings_2d[:, 0], embeddings_2d[:, 1], color=colors[clusters], s=400)\n",
        "# plt.scatter(embeddings_2d[:, 0], embeddings_2d[:, 1], s=400)\n",
        "for index, x_pos, y_pos in zip(samples, embeddings_2d[:, 0], embeddings_2d[:, 1]):\n",
        "  name = airline_tokenizer.index_word[index].upper()\n",
        "#   print(name, (x_pos, y_pos))\n",
        "  plt.annotate(name, (x_pos, y_pos), fontsize=36)"
      ],
      "execution_count": 0,
      "outputs": [
        {
          "output_type": "display_data",
          "data": {
            "image/png": "[encoded data removed]",
            "text/plain": [
              "<Figure size 576x396 with 1 Axes>"
            ]
          },
          "metadata": {
            "tags": []
          }
        }
      ]
    },
    {
      "cell_type": "code",
      "metadata": {
        "id": "opkBNEQOvRpW",
        "colab_type": "code",
        "colab": {}
      },
      "source": [
        ""
      ],
      "execution_count": 0,
      "outputs": []
    }
  ]
}