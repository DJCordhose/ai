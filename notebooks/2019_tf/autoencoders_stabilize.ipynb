{
  "nbformat": 4,
  "nbformat_minor": 0,
  "metadata": {
    "colab": {
      "name": "autoencoders_stabilize.ipynb",
      "version": "0.3.2",
      "provenance": [],
      "collapsed_sections": [],
      "include_colab_link": true
    },
    "kernelspec": {
      "name": "python3",
      "display_name": "Python 3"
    },
    "accelerator": "GPU"
  },
  "cells": [
    {
      "cell_type": "markdown",
      "metadata": {
        "id": "view-in-github",
        "colab_type": "text"
      },
      "source": [
        "<a href=\"https://colab.research.google.com/github/DJCordhose/ai/blob/master/notebooks/2019_tf/autoencoders_stabilize.ipynb\" target=\"_parent\"><img src=\"https://colab.research.google.com/assets/colab-badge.svg\" alt=\"Open In Colab\"/></a>"
      ]
    },
    {
      "metadata": {
        "id": "t0SNZ3gZDa36",
        "colab_type": "text"
      },
      "cell_type": "markdown",
      "source": [
        "# Autoencoders: Stabilitzing results\n",
        "\n",
        "* Losses\n",
        "   * https://keras.io/losses/\n",
        "   * Predefined loss functions: https://github.com/keras-team/keras/blob/master/keras/losses.py\n",
        "   * Example custom loss function: https://stackoverflow.com/questions/43818584/custom-loss-function-in-keras\n",
        "   * Loss function that is not f(y_true, y_pred): https://github.com/keras-team/keras/issues/2662\n",
        "* Having more than one input/output, combined losses: https://keras.io/getting-started/functional-api-guide/\n",
        "* Normalizaing data: https://www.tensorflow.org/api_docs/python/tf/keras/utils/normalize\n",
        "* Initializers: https://keras.io/initializers/"
      ]
    },
    {
      "metadata": {
        "id": "Dtz68G6gitV3",
        "colab_type": "code",
        "outputId": "2783ed28-dda2-434a-b43e-ceed75893269",
        "colab": {
          "base_uri": "https://localhost:8080/",
          "height": 34
        }
      },
      "cell_type": "code",
      "source": [
        "import tensorflow as tf\n",
        "tf.logging.set_verbosity(tf.logging.ERROR)\n",
        "print(tf.__version__)"
      ],
      "execution_count": 1,
      "outputs": [
        {
          "output_type": "stream",
          "text": [
            "1.12.0\n"
          ],
          "name": "stdout"
        }
      ]
    },
    {
      "metadata": {
        "id": "kORyj46n5zZj",
        "colab_type": "code",
        "outputId": "d240831c-8b1a-425f-b071-c748cf798d36",
        "colab": {
          "base_uri": "https://localhost:8080/",
          "height": 68
        }
      },
      "cell_type": "code",
      "source": [
        "!curl -O https://raw.githubusercontent.com/DJCordhose/deep-learning-crash-course-notebooks/master/data/insurance-customers-1500.csv"
      ],
      "execution_count": 2,
      "outputs": [
        {
          "output_type": "stream",
          "text": [
            "  % Total    % Received % Xferd  Average Speed   Time    Time     Time  Current\n",
            "                                 Dload  Upload   Total   Spent    Left  Speed\n",
            "\r  0     0    0     0    0     0      0      0 --:--:-- --:--:-- --:--:--     0\r100 26783  100 26783    0     0   138k      0 --:--:-- --:--:-- --:--:--  138k\n"
          ],
          "name": "stdout"
        }
      ]
    },
    {
      "metadata": {
        "colab_type": "code",
        "id": "Q9_NZUevpZJU",
        "colab": {}
      },
      "cell_type": "code",
      "source": [
        "from tensorflow import keras\n",
        "from tensorflow.keras.layers import Input, Flatten, GlobalAveragePooling1D, Dense\n",
        "from tensorflow.keras.models import Sequential, Model\n",
        "from tensorflow.keras.utils import to_categorical\n"
      ],
      "execution_count": 0,
      "outputs": []
    },
    {
      "metadata": {
        "id": "-ZAL5CrMMcFH",
        "colab_type": "code",
        "colab": {}
      },
      "cell_type": "code",
      "source": [
        "import pandas as pd\n",
        "df = pd.read_csv('./insurance-customers-1500.csv', sep=';')\n",
        "one_hot_groups = pd.DataFrame(to_categorical(df['group']), columns={'red', 'green', 'yellow'})\n",
        "main = df.drop('group', axis='columns')"
      ],
      "execution_count": 0,
      "outputs": []
    },
    {
      "metadata": {
        "id": "rO5kYRn8Mgto",
        "colab_type": "code",
        "outputId": "13d64473-16db-48c9-feb0-4c47699ccade",
        "colab": {
          "base_uri": "https://localhost:8080/",
          "height": 203
        }
      },
      "cell_type": "code",
      "source": [
        "main.head()"
      ],
      "execution_count": 5,
      "outputs": [
        {
          "output_type": "execute_result",
          "data": {
            "text/html": [
              "<div>\n",
              "<style scoped>\n",
              "    .dataframe tbody tr th:only-of-type {\n",
              "        vertical-align: middle;\n",
              "    }\n",
              "\n",
              "    .dataframe tbody tr th {\n",
              "        vertical-align: top;\n",
              "    }\n",
              "\n",
              "    .dataframe thead th {\n",
              "        text-align: right;\n",
              "    }\n",
              "</style>\n",
              "<table border=\"1\" class=\"dataframe\">\n",
              "  <thead>\n",
              "    <tr style=\"text-align: right;\">\n",
              "      <th></th>\n",
              "      <th>speed</th>\n",
              "      <th>age</th>\n",
              "      <th>miles</th>\n",
              "    </tr>\n",
              "  </thead>\n",
              "  <tbody>\n",
              "    <tr>\n",
              "      <th>0</th>\n",
              "      <td>98.0</td>\n",
              "      <td>44.0</td>\n",
              "      <td>25.0</td>\n",
              "    </tr>\n",
              "    <tr>\n",
              "      <th>1</th>\n",
              "      <td>118.0</td>\n",
              "      <td>54.0</td>\n",
              "      <td>24.0</td>\n",
              "    </tr>\n",
              "    <tr>\n",
              "      <th>2</th>\n",
              "      <td>111.0</td>\n",
              "      <td>26.0</td>\n",
              "      <td>34.0</td>\n",
              "    </tr>\n",
              "    <tr>\n",
              "      <th>3</th>\n",
              "      <td>97.0</td>\n",
              "      <td>25.0</td>\n",
              "      <td>10.0</td>\n",
              "    </tr>\n",
              "    <tr>\n",
              "      <th>4</th>\n",
              "      <td>114.0</td>\n",
              "      <td>38.0</td>\n",
              "      <td>22.0</td>\n",
              "    </tr>\n",
              "  </tbody>\n",
              "</table>\n",
              "</div>"
            ],
            "text/plain": [
              "   speed   age  miles\n",
              "0   98.0  44.0   25.0\n",
              "1  118.0  54.0   24.0\n",
              "2  111.0  26.0   34.0\n",
              "3   97.0  25.0   10.0\n",
              "4  114.0  38.0   22.0"
            ]
          },
          "metadata": {
            "tags": []
          },
          "execution_count": 5
        }
      ]
    },
    {
      "metadata": {
        "id": "NH_vSxb9iRsP",
        "colab_type": "code",
        "outputId": "a2a055e2-400c-43c5-8d0e-24de9a3718ee",
        "colab": {
          "base_uri": "https://localhost:8080/",
          "height": 203
        }
      },
      "cell_type": "code",
      "source": [
        "one_hot_groups.head()"
      ],
      "execution_count": 6,
      "outputs": [
        {
          "output_type": "execute_result",
          "data": {
            "text/html": [
              "<div>\n",
              "<style scoped>\n",
              "    .dataframe tbody tr th:only-of-type {\n",
              "        vertical-align: middle;\n",
              "    }\n",
              "\n",
              "    .dataframe tbody tr th {\n",
              "        vertical-align: top;\n",
              "    }\n",
              "\n",
              "    .dataframe thead th {\n",
              "        text-align: right;\n",
              "    }\n",
              "</style>\n",
              "<table border=\"1\" class=\"dataframe\">\n",
              "  <thead>\n",
              "    <tr style=\"text-align: right;\">\n",
              "      <th></th>\n",
              "      <th>green</th>\n",
              "      <th>red</th>\n",
              "      <th>yellow</th>\n",
              "    </tr>\n",
              "  </thead>\n",
              "  <tbody>\n",
              "    <tr>\n",
              "      <th>0</th>\n",
              "      <td>0.0</td>\n",
              "      <td>1.0</td>\n",
              "      <td>0.0</td>\n",
              "    </tr>\n",
              "    <tr>\n",
              "      <th>1</th>\n",
              "      <td>0.0</td>\n",
              "      <td>1.0</td>\n",
              "      <td>0.0</td>\n",
              "    </tr>\n",
              "    <tr>\n",
              "      <th>2</th>\n",
              "      <td>1.0</td>\n",
              "      <td>0.0</td>\n",
              "      <td>0.0</td>\n",
              "    </tr>\n",
              "    <tr>\n",
              "      <th>3</th>\n",
              "      <td>0.0</td>\n",
              "      <td>0.0</td>\n",
              "      <td>1.0</td>\n",
              "    </tr>\n",
              "    <tr>\n",
              "      <th>4</th>\n",
              "      <td>0.0</td>\n",
              "      <td>1.0</td>\n",
              "      <td>0.0</td>\n",
              "    </tr>\n",
              "  </tbody>\n",
              "</table>\n",
              "</div>"
            ],
            "text/plain": [
              "   green  red  yellow\n",
              "0    0.0  1.0     0.0\n",
              "1    0.0  1.0     0.0\n",
              "2    1.0  0.0     0.0\n",
              "3    0.0  0.0     1.0\n",
              "4    0.0  1.0     0.0"
            ]
          },
          "metadata": {
            "tags": []
          },
          "execution_count": 6
        }
      ]
    },
    {
      "metadata": {
        "id": "OK4_Z2DakNRe",
        "colab_type": "text"
      },
      "cell_type": "markdown",
      "source": [
        "### Challenge: we could feed in both parts in a united way, but they need different loss functions\n",
        "\n",
        "options:\n",
        "* write a custom loss function that does this and balances the value: https://keras.io/losses/\n",
        "* create multi-in/out model that makes this a little bit more transparent: https://keras.io/getting-started/functional-api-guide/#multi-input-and-multi-output-models"
      ]
    },
    {
      "metadata": {
        "id": "6_Ljs5_zj4yO",
        "colab_type": "code",
        "outputId": "3edf8109-890a-4995-dfb0-2b0117ffe91e",
        "colab": {
          "base_uri": "https://localhost:8080/",
          "height": 431
        }
      },
      "cell_type": "code",
      "source": [
        "# often does not even train, so choose a seed known to be good\n",
        "from tensorflow.keras.initializers import glorot_normal\n",
        "seed= 17\n",
        "\n",
        "from tensorflow.keras.layers import concatenate, average, add\n",
        "\n",
        "# first multi in\n",
        "main_input = Input(shape=(3,), name='main_input')\n",
        "group_input = Input(shape=(3,), name='group_input')\n",
        "\n",
        "# hopefully this balances out inputs to same scale\n",
        "encoded_main = Dense(units=2, activation='relu', name=\"main_encoder\", bias_initializer='zeros', kernel_initializer=glorot_normal(seed=seed))(main_input)\n",
        "encoded_group = Dense(units=2, activation='relu', name=\"group_encoder\", bias_initializer='zeros', kernel_initializer=glorot_normal(seed=seed))(group_input)\n",
        "\n",
        "# latent representation\n",
        "\n",
        "merged = concatenate([encoded_main, encoded_group])\n",
        "# this might work as well\n",
        "# merged = average([encoded_main, encoded_group])\n",
        "\n",
        "# the effective latent encoding\n",
        "encoding_dim = 2\n",
        "encoded = Dense(units=encoding_dim, activation='relu', name=\"encoder\", bias_initializer='zeros', kernel_initializer=glorot_normal(seed=seed))(merged)\n",
        "\n",
        "# then multi out\n",
        "main_output = Dense(units=3, activation='linear', name=\"main_output\", bias_initializer='zeros', kernel_initializer=glorot_normal(seed=seed))(encoded)\n",
        "group_output = Dense(units=3, activation='softmax', name=\"group_output\", bias_initializer='zeros', kernel_initializer=glorot_normal(seed=seed))(encoded)\n",
        "\n",
        "autoencoder = Model(inputs=[main_input, group_input], outputs=[main_output, group_output])\n",
        "\n",
        "adam = keras.optimizers.Adam(lr=0.01)\n",
        "# adam = keras.optimizers.Adam()\n",
        "\n",
        "autoencoder.compile(optimizer=adam,\n",
        "              loss={'main_output': 'mae', 'group_output': 'categorical_crossentropy'},\n",
        "              loss_weights={'main_output': 1., 'group_output': 50.})\n",
        "\n",
        "autoencoder.summary()"
      ],
      "execution_count": 7,
      "outputs": [
        {
          "output_type": "stream",
          "text": [
            "__________________________________________________________________________________________________\n",
            "Layer (type)                    Output Shape         Param #     Connected to                     \n",
            "==================================================================================================\n",
            "main_input (InputLayer)         (None, 3)            0                                            \n",
            "__________________________________________________________________________________________________\n",
            "group_input (InputLayer)        (None, 3)            0                                            \n",
            "__________________________________________________________________________________________________\n",
            "main_encoder (Dense)            (None, 2)            8           main_input[0][0]                 \n",
            "__________________________________________________________________________________________________\n",
            "group_encoder (Dense)           (None, 2)            8           group_input[0][0]                \n",
            "__________________________________________________________________________________________________\n",
            "concatenate (Concatenate)       (None, 4)            0           main_encoder[0][0]               \n",
            "                                                                 group_encoder[0][0]              \n",
            "__________________________________________________________________________________________________\n",
            "encoder (Dense)                 (None, 2)            10          concatenate[0][0]                \n",
            "__________________________________________________________________________________________________\n",
            "main_output (Dense)             (None, 3)            9           encoder[0][0]                    \n",
            "__________________________________________________________________________________________________\n",
            "group_output (Dense)            (None, 3)            9           encoder[0][0]                    \n",
            "==================================================================================================\n",
            "Total params: 44\n",
            "Trainable params: 44\n",
            "Non-trainable params: 0\n",
            "__________________________________________________________________________________________________\n"
          ],
          "name": "stdout"
        }
      ]
    },
    {
      "metadata": {
        "id": "RyM46xtQuvmw",
        "colab_type": "code",
        "outputId": "d3bbf141-0247-40e3-b66c-c6abb7916bc3",
        "colab": {
          "base_uri": "https://localhost:8080/",
          "height": 397
        }
      },
      "cell_type": "code",
      "source": [
        "BATCH_SIZE = 1\n",
        "EPOCHS=10\n",
        "\n",
        "%time history = autoencoder.fit(\\\n",
        "    x={'main_input': main, 'group_input': one_hot_groups},\\\n",
        "    y={'main_output': main, 'group_output': one_hot_groups},\\\n",
        "    epochs=EPOCHS, batch_size=BATCH_SIZE, verbose=1)"
      ],
      "execution_count": 8,
      "outputs": [
        {
          "output_type": "stream",
          "text": [
            "Epoch 1/10\n",
            "1500/1500 [==============================] - 11s 7ms/step - loss: 61.6617 - main_output_loss: 47.4692 - group_output_loss: 0.2839\n",
            "Epoch 2/10\n",
            "1500/1500 [==============================] - 10s 7ms/step - loss: 36.5731 - main_output_loss: 33.4707 - group_output_loss: 0.0620\n",
            "Epoch 3/10\n",
            "1500/1500 [==============================] - 10s 7ms/step - loss: 31.5952 - main_output_loss: 29.7206 - group_output_loss: 0.0375\n",
            "Epoch 4/10\n",
            "1500/1500 [==============================] - 10s 7ms/step - loss: 28.3729 - main_output_loss: 27.0126 - group_output_loss: 0.0272\n",
            "Epoch 5/10\n",
            "1500/1500 [==============================] - 10s 7ms/step - loss: 25.8566 - main_output_loss: 24.8839 - group_output_loss: 0.0195\n",
            "Epoch 6/10\n",
            "1500/1500 [==============================] - 10s 7ms/step - loss: 23.8403 - main_output_loss: 23.0631 - group_output_loss: 0.0155\n",
            "Epoch 7/10\n",
            "1500/1500 [==============================] - 10s 7ms/step - loss: 22.2121 - main_output_loss: 21.6489 - group_output_loss: 0.0113\n",
            "Epoch 8/10\n",
            "1500/1500 [==============================] - 10s 7ms/step - loss: 20.8655 - main_output_loss: 20.4257 - group_output_loss: 0.0088\n",
            "Epoch 9/10\n",
            "1500/1500 [==============================] - 10s 7ms/step - loss: 19.8176 - main_output_loss: 19.4876 - group_output_loss: 0.0066\n",
            "Epoch 10/10\n",
            "1500/1500 [==============================] - 10s 7ms/step - loss: 18.8502 - main_output_loss: 18.6064 - group_output_loss: 0.0049\n",
            "CPU times: user 2min 11s, sys: 18.1 s, total: 2min 29s\n",
            "Wall time: 1min 45s\n"
          ],
          "name": "stdout"
        }
      ]
    },
    {
      "metadata": {
        "id": "OyWsH4OKPrth",
        "colab_type": "code",
        "outputId": "17adf0cf-adab-4fd7-e7be-c1debaf39b6c",
        "colab": {
          "base_uri": "https://localhost:8080/",
          "height": 384
        }
      },
      "cell_type": "code",
      "source": [
        "import matplotlib.pyplot as plt\n",
        "\n",
        "plt.ylabel('loss')\n",
        "plt.xlabel('epoch')\n",
        "plt.yscale('log')\n",
        "\n",
        "plt.plot(history.history['loss'], 'b')\n",
        "plt.plot(history.history['main_output_loss'], 'r')\n",
        "plt.plot(history.history['group_output_loss'], 'g')\n",
        "\n",
        "plt.legend(['combined loss', 'main loss', 'group loss'], loc='upper right')"
      ],
      "execution_count": 9,
      "outputs": [
        {
          "output_type": "execute_result",
          "data": {
            "text/plain": [
              "<matplotlib.legend.Legend at 0x7f6140562080>"
            ]
          },
          "metadata": {
            "tags": []
          },
          "execution_count": 9
        },
        {
          "output_type": "display_data",
          "data": {
            "image/png": "[encoded data removed]",
            "text/plain": [
              "<Figure size 576x396 with 1 Axes>"
            ]
          },
          "metadata": {
            "tags": []
          }
        }
      ]
    },
    {
      "metadata": {
        "id": "eS9g8LMp2vYZ",
        "colab_type": "code",
        "colab": {}
      },
      "cell_type": "code",
      "source": [
        "samples = df.sample(10).reset_index(drop=True)\n",
        "main_samples = samples.drop('group', axis='columns')\n",
        "group_samples = pd.DataFrame(to_categorical(samples['group']), columns={'red', 'green', 'yellow'})"
      ],
      "execution_count": 0,
      "outputs": []
    },
    {
      "metadata": {
        "id": "HcE-2Zjy3ulb",
        "colab_type": "code",
        "outputId": "920ab74b-8693-4c8b-86c9-9b3f1f7329ed",
        "colab": {
          "base_uri": "https://localhost:8080/",
          "height": 357
        }
      },
      "cell_type": "code",
      "source": [
        "merged_samples = pd.concat([main_samples, group_samples], axis=1)\n",
        "merged_samples"
      ],
      "execution_count": 11,
      "outputs": [
        {
          "output_type": "execute_result",
          "data": {
            "text/html": [
              "<div>\n",
              "<style scoped>\n",
              "    .dataframe tbody tr th:only-of-type {\n",
              "        vertical-align: middle;\n",
              "    }\n",
              "\n",
              "    .dataframe tbody tr th {\n",
              "        vertical-align: top;\n",
              "    }\n",
              "\n",
              "    .dataframe thead th {\n",
              "        text-align: right;\n",
              "    }\n",
              "</style>\n",
              "<table border=\"1\" class=\"dataframe\">\n",
              "  <thead>\n",
              "    <tr style=\"text-align: right;\">\n",
              "      <th></th>\n",
              "      <th>speed</th>\n",
              "      <th>age</th>\n",
              "      <th>miles</th>\n",
              "      <th>green</th>\n",
              "      <th>red</th>\n",
              "      <th>yellow</th>\n",
              "    </tr>\n",
              "  </thead>\n",
              "  <tbody>\n",
              "    <tr>\n",
              "      <th>0</th>\n",
              "      <td>151.0</td>\n",
              "      <td>36.0</td>\n",
              "      <td>50.0</td>\n",
              "      <td>1.0</td>\n",
              "      <td>0.0</td>\n",
              "      <td>0.0</td>\n",
              "    </tr>\n",
              "    <tr>\n",
              "      <th>1</th>\n",
              "      <td>139.0</td>\n",
              "      <td>46.0</td>\n",
              "      <td>40.0</td>\n",
              "      <td>0.0</td>\n",
              "      <td>1.0</td>\n",
              "      <td>0.0</td>\n",
              "    </tr>\n",
              "    <tr>\n",
              "      <th>2</th>\n",
              "      <td>105.0</td>\n",
              "      <td>37.0</td>\n",
              "      <td>1.0</td>\n",
              "      <td>0.0</td>\n",
              "      <td>0.0</td>\n",
              "      <td>1.0</td>\n",
              "    </tr>\n",
              "    <tr>\n",
              "      <th>3</th>\n",
              "      <td>136.0</td>\n",
              "      <td>63.0</td>\n",
              "      <td>31.0</td>\n",
              "      <td>0.0</td>\n",
              "      <td>0.0</td>\n",
              "      <td>1.0</td>\n",
              "    </tr>\n",
              "    <tr>\n",
              "      <th>4</th>\n",
              "      <td>107.0</td>\n",
              "      <td>43.0</td>\n",
              "      <td>5.0</td>\n",
              "      <td>0.0</td>\n",
              "      <td>0.0</td>\n",
              "      <td>1.0</td>\n",
              "    </tr>\n",
              "    <tr>\n",
              "      <th>5</th>\n",
              "      <td>97.0</td>\n",
              "      <td>18.0</td>\n",
              "      <td>16.0</td>\n",
              "      <td>0.0</td>\n",
              "      <td>0.0</td>\n",
              "      <td>1.0</td>\n",
              "    </tr>\n",
              "    <tr>\n",
              "      <th>6</th>\n",
              "      <td>100.0</td>\n",
              "      <td>41.0</td>\n",
              "      <td>23.0</td>\n",
              "      <td>0.0</td>\n",
              "      <td>1.0</td>\n",
              "      <td>0.0</td>\n",
              "    </tr>\n",
              "    <tr>\n",
              "      <th>7</th>\n",
              "      <td>120.0</td>\n",
              "      <td>45.0</td>\n",
              "      <td>38.0</td>\n",
              "      <td>0.0</td>\n",
              "      <td>1.0</td>\n",
              "      <td>0.0</td>\n",
              "    </tr>\n",
              "    <tr>\n",
              "      <th>8</th>\n",
              "      <td>124.0</td>\n",
              "      <td>45.0</td>\n",
              "      <td>30.0</td>\n",
              "      <td>1.0</td>\n",
              "      <td>0.0</td>\n",
              "      <td>0.0</td>\n",
              "    </tr>\n",
              "    <tr>\n",
              "      <th>9</th>\n",
              "      <td>129.0</td>\n",
              "      <td>56.0</td>\n",
              "      <td>7.0</td>\n",
              "      <td>0.0</td>\n",
              "      <td>0.0</td>\n",
              "      <td>1.0</td>\n",
              "    </tr>\n",
              "  </tbody>\n",
              "</table>\n",
              "</div>"
            ],
            "text/plain": [
              "   speed   age  miles  green  red  yellow\n",
              "0  151.0  36.0   50.0    1.0  0.0     0.0\n",
              "1  139.0  46.0   40.0    0.0  1.0     0.0\n",
              "2  105.0  37.0    1.0    0.0  0.0     1.0\n",
              "3  136.0  63.0   31.0    0.0  0.0     1.0\n",
              "4  107.0  43.0    5.0    0.0  0.0     1.0\n",
              "5   97.0  18.0   16.0    0.0  0.0     1.0\n",
              "6  100.0  41.0   23.0    0.0  1.0     0.0\n",
              "7  120.0  45.0   38.0    0.0  1.0     0.0\n",
              "8  124.0  45.0   30.0    1.0  0.0     0.0\n",
              "9  129.0  56.0    7.0    0.0  0.0     1.0"
            ]
          },
          "metadata": {
            "tags": []
          },
          "execution_count": 11
        }
      ]
    },
    {
      "metadata": {
        "id": "aPNanIcRQ6s2",
        "colab_type": "code",
        "outputId": "08bc3e19-4466-4f7a-bcbd-724ef720a71d",
        "colab": {
          "base_uri": "https://localhost:8080/",
          "height": 362
        }
      },
      "cell_type": "code",
      "source": [
        "autoencoder.predict([main_samples, group_samples])"
      ],
      "execution_count": 12,
      "outputs": [
        {
          "output_type": "execute_result",
          "data": {
            "text/plain": [
              "[array([[117.63666 ,  40.05116 ,  30.855614],\n",
              "        [ 71.85322 ,  42.353855,  26.083645],\n",
              "        [134.22884 ,  39.216652,  32.585   ],\n",
              "        [134.22884 ,  39.216652,  32.585   ],\n",
              "        [134.22884 ,  39.216652,  32.585   ],\n",
              "        [134.22884 ,  39.216652,  32.585   ],\n",
              "        [ 71.85322 ,  42.353855,  26.083645],\n",
              "        [ 71.85322 ,  42.353855,  26.083645],\n",
              "        [117.63666 ,  40.05116 ,  30.855614],\n",
              "        [134.22884 ,  39.216652,  32.585   ]], dtype=float32),\n",
              " array([[9.86562431e-01, 5.59623174e-08, 1.34376325e-02],\n",
              "        [9.63175553e-05, 9.99903679e-01, 5.94358097e-18],\n",
              "        [5.65276947e-03, 2.65732531e-14, 9.94347274e-01],\n",
              "        [5.65276947e-03, 2.65732531e-14, 9.94347274e-01],\n",
              "        [5.65276947e-03, 2.65732531e-14, 9.94347274e-01],\n",
              "        [5.65276947e-03, 2.65732531e-14, 9.94347274e-01],\n",
              "        [9.63175553e-05, 9.99903679e-01, 5.94358097e-18],\n",
              "        [9.63175553e-05, 9.99903679e-01, 5.94358097e-18],\n",
              "        [9.86562431e-01, 5.59623174e-08, 1.34376325e-02],\n",
              "        [5.65276947e-03, 2.65732531e-14, 9.94347274e-01]], dtype=float32)]"
            ]
          },
          "metadata": {
            "tags": []
          },
          "execution_count": 12
        }
      ]
    },
    {
      "metadata": {
        "id": "RmCJjYBDQ7IO",
        "colab_type": "code",
        "colab": {}
      },
      "cell_type": "code",
      "source": [
        "encoder = Model(inputs=[main_input, group_input], outputs=encoded)\n",
        "latent_representation = encoder.predict(x={'main_input': main, 'group_input': one_hot_groups})"
      ],
      "execution_count": 0,
      "outputs": []
    },
    {
      "metadata": {
        "id": "XKvu_R2Q5mH7",
        "colab_type": "code",
        "outputId": "5c635bb0-d2a9-4388-b66d-c920a855f662",
        "colab": {
          "base_uri": "https://localhost:8080/",
          "height": 34
        }
      },
      "cell_type": "code",
      "source": [
        "latent_representation.shape"
      ],
      "execution_count": 14,
      "outputs": [
        {
          "output_type": "execute_result",
          "data": {
            "text/plain": [
              "(1500, 2)"
            ]
          },
          "metadata": {
            "tags": []
          },
          "execution_count": 14
        }
      ]
    },
    {
      "metadata": {
        "id": "BZ5JG_B65plH",
        "colab_type": "code",
        "outputId": "5f077caf-dc30-413a-86c1-6de5fd5e8ec9",
        "colab": {
          "base_uri": "https://localhost:8080/",
          "height": 364
        }
      },
      "cell_type": "code",
      "source": [
        "from matplotlib.colors import ListedColormap\n",
        "\n",
        "# * 0 - red: many accidents\n",
        "# * 1 - green: few or no accidents\n",
        "# * 2 - yellow: in the middle\n",
        "colors = df['group']\n",
        "color_map = ListedColormap(['#AA4444', '#006000', '#EEEE44'])\n",
        "\n",
        "latent_x = latent_representation[:, 0]\n",
        "latent_y = latent_representation[:, 1]\n",
        "\n",
        "plt.scatter(latent_x, latent_y, alpha=0.5, s=100, marker='o', edgecolors='w', cmap=color_map, c=colors)"
      ],
      "execution_count": 15,
      "outputs": [
        {
          "output_type": "execute_result",
          "data": {
            "text/plain": [
              "<matplotlib.collections.PathCollection at 0x7f61403b1358>"
            ]
          },
          "metadata": {
            "tags": []
          },
          "execution_count": 15
        },
        {
          "output_type": "display_data",
          "data": {
            "image/png": "[encoded data removed]",
            "text/plain": [
              "<Figure size 576x396 with 1 Axes>"
            ]
          },
          "metadata": {
            "tags": []
          }
        }
      ]
    },
    {
      "metadata": {
        "id": "vzag69Ab7sDo",
        "colab_type": "text"
      },
      "cell_type": "markdown",
      "source": [
        "### What a funny result: trained to (sometims almost) perfectly reproduce the groups, but not much of anything else\n",
        "\n",
        "quite obviously we ware emphasizing the group loss way too much"
      ]
    },
    {
      "metadata": {
        "id": "we2ONI5pBR8R",
        "colab_type": "text"
      },
      "cell_type": "markdown",
      "source": [
        "## Making results more stable\n",
        "\n",
        "* when you visualize latent spaces they should not change much when re-training or fitting additional data points\n",
        "* when working with autoencoders or embeddings there are two ways to make that happen\n",
        "  1. save model, do not retrain from scratch and only fit new data points with low learning rate\n",
        "  1. save output from embedding and keep new latent space similar by adding to the loss function"
      ]
    },
    {
      "metadata": {
        "id": "zcZJrb9DrpxU",
        "colab_type": "code",
        "colab": {}
      },
      "cell_type": "code",
      "source": [
        "# save complete model\n",
        "autoencoder.save('autoencoder-v1.h5')\n",
        "del autoencoder"
      ],
      "execution_count": 0,
      "outputs": []
    },
    {
      "metadata": {
        "id": "D0r202JoHa-K",
        "colab_type": "text"
      },
      "cell_type": "markdown",
      "source": [
        "### Option I: Saving and reloading model, retrain\n",
        "* https://keras.io/getting-started/faq/#how-can-i-save-a-keras-model"
      ]
    },
    {
      "metadata": {
        "id": "zNdZeHxtEh_k",
        "colab_type": "code",
        "colab": {}
      },
      "cell_type": "code",
      "source": [
        "# later...\n",
        "from tensorflow.keras.models import load_model\n",
        "autoencoder = load_model('autoencoder-v1.h5')"
      ],
      "execution_count": 0,
      "outputs": []
    },
    {
      "metadata": {
        "id": "PjZwKc7NFDRO",
        "colab_type": "code",
        "colab": {}
      },
      "cell_type": "code",
      "source": [
        "main_input = autoencoder.get_layer('main_input').input\n",
        "group_input = autoencoder.get_layer('group_input').input\n",
        "encode = autoencoder.get_layer('encoder').output\n",
        "encoder = Model(inputs=[main_input, group_input], outputs=encode)"
      ],
      "execution_count": 0,
      "outputs": []
    },
    {
      "metadata": {
        "id": "J1o3QDDZExNV",
        "colab_type": "code",
        "outputId": "4b7b2f4f-137b-4d7f-a85b-9b431c97b496",
        "colab": {
          "base_uri": "https://localhost:8080/",
          "height": 379
        }
      },
      "cell_type": "code",
      "source": [
        "latent_representation = encoder.predict(x={'main_input': main, 'group_input': one_hot_groups})\n",
        "colors = df['group']\n",
        "color_map = ListedColormap(['#AA4444', '#006000', '#EEEE44'])\n",
        "\n",
        "latent_x = latent_representation[:, 0]\n",
        "latent_y = latent_representation[:, 1]\n",
        "\n",
        "plt.title('original data, old model')\n",
        "\n",
        "plt.scatter(latent_x, latent_y, alpha=0.5, s=100, marker='o', edgecolors='w', cmap=color_map, c=colors)"
      ],
      "execution_count": 19,
      "outputs": [
        {
          "output_type": "execute_result",
          "data": {
            "text/plain": [
              "<matplotlib.collections.PathCollection at 0x7f6129b0e860>"
            ]
          },
          "metadata": {
            "tags": []
          },
          "execution_count": 19
        },
        {
          "output_type": "display_data",
          "data": {
            "image/png": "[encoded data removed]",
            "text/plain": [
              "<Figure size 576x396 with 1 Axes>"
            ]
          },
          "metadata": {
            "tags": []
          }
        }
      ]
    },
    {
      "metadata": {
        "id": "F_2V7ucrQxs_",
        "colab_type": "text"
      },
      "cell_type": "markdown",
      "source": [
        "### Using new dataset"
      ]
    },
    {
      "metadata": {
        "id": "okdb0cOxFlQT",
        "colab_type": "code",
        "outputId": "5ad948e7-bcd2-43b5-d434-2e5187750c8e",
        "colab": {
          "base_uri": "https://localhost:8080/",
          "height": 68
        }
      },
      "cell_type": "code",
      "source": [
        "!curl -O https://raw.githubusercontent.com/DJCordhose/deep-learning-crash-course-notebooks/master/data/insurance-customers-300.csv"
      ],
      "execution_count": 20,
      "outputs": [
        {
          "output_type": "stream",
          "text": [
            "  % Total    % Received % Xferd  Average Speed   Time    Time     Time  Current\n",
            "                                 Dload  Upload   Total   Spent    Left  Speed\n",
            "\r  0     0    0     0    0     0      0      0 --:--:-- --:--:-- --:--:--     0\r100  5376  100  5376    0     0  27015      0 --:--:-- --:--:-- --:--:-- 27015\n"
          ],
          "name": "stdout"
        }
      ]
    },
    {
      "metadata": {
        "id": "ci9wYJ2jL9WP",
        "colab_type": "code",
        "colab": {}
      },
      "cell_type": "code",
      "source": [
        "import pandas as pd\n",
        "\n",
        "new_df = pd.read_csv('./insurance-customers-300.csv', sep=';')\n",
        "new_one_hot_groups = pd.DataFrame(to_categorical(new_df['group']), columns={'red', 'green', 'yellow'})\n",
        "new_main = new_df.drop('group', axis='columns')"
      ],
      "execution_count": 0,
      "outputs": []
    },
    {
      "metadata": {
        "id": "qMhG7zWVyAxi",
        "colab_type": "code",
        "outputId": "ac29c834-460d-4d5c-b171-4459290bed6d",
        "colab": {
          "base_uri": "https://localhost:8080/",
          "height": 296
        }
      },
      "cell_type": "code",
      "source": [
        "new_df.describe()"
      ],
      "execution_count": 22,
      "outputs": [
        {
          "output_type": "execute_result",
          "data": {
            "text/html": [
              "<div>\n",
              "<style scoped>\n",
              "    .dataframe tbody tr th:only-of-type {\n",
              "        vertical-align: middle;\n",
              "    }\n",
              "\n",
              "    .dataframe tbody tr th {\n",
              "        vertical-align: top;\n",
              "    }\n",
              "\n",
              "    .dataframe thead th {\n",
              "        text-align: right;\n",
              "    }\n",
              "</style>\n",
              "<table border=\"1\" class=\"dataframe\">\n",
              "  <thead>\n",
              "    <tr style=\"text-align: right;\">\n",
              "      <th></th>\n",
              "      <th>speed</th>\n",
              "      <th>age</th>\n",
              "      <th>miles</th>\n",
              "      <th>group</th>\n",
              "    </tr>\n",
              "  </thead>\n",
              "  <tbody>\n",
              "    <tr>\n",
              "      <th>count</th>\n",
              "      <td>300.000000</td>\n",
              "      <td>300.000000</td>\n",
              "      <td>300.000000</td>\n",
              "      <td>300.000000</td>\n",
              "    </tr>\n",
              "    <tr>\n",
              "      <th>mean</th>\n",
              "      <td>122.963333</td>\n",
              "      <td>44.000000</td>\n",
              "      <td>31.133333</td>\n",
              "      <td>1.000000</td>\n",
              "    </tr>\n",
              "    <tr>\n",
              "      <th>std</th>\n",
              "      <td>17.135170</td>\n",
              "      <td>16.312992</td>\n",
              "      <td>15.568885</td>\n",
              "      <td>0.817861</td>\n",
              "    </tr>\n",
              "    <tr>\n",
              "      <th>min</th>\n",
              "      <td>85.000000</td>\n",
              "      <td>16.000000</td>\n",
              "      <td>1.000000</td>\n",
              "      <td>0.000000</td>\n",
              "    </tr>\n",
              "    <tr>\n",
              "      <th>25%</th>\n",
              "      <td>109.750000</td>\n",
              "      <td>33.000000</td>\n",
              "      <td>18.000000</td>\n",
              "      <td>0.000000</td>\n",
              "    </tr>\n",
              "    <tr>\n",
              "      <th>50%</th>\n",
              "      <td>121.000000</td>\n",
              "      <td>42.000000</td>\n",
              "      <td>30.000000</td>\n",
              "      <td>1.000000</td>\n",
              "    </tr>\n",
              "    <tr>\n",
              "      <th>75%</th>\n",
              "      <td>137.000000</td>\n",
              "      <td>52.000000</td>\n",
              "      <td>43.000000</td>\n",
              "      <td>2.000000</td>\n",
              "    </tr>\n",
              "    <tr>\n",
              "      <th>max</th>\n",
              "      <td>161.000000</td>\n",
              "      <td>97.000000</td>\n",
              "      <td>99.000000</td>\n",
              "      <td>2.000000</td>\n",
              "    </tr>\n",
              "  </tbody>\n",
              "</table>\n",
              "</div>"
            ],
            "text/plain": [
              "            speed         age       miles       group\n",
              "count  300.000000  300.000000  300.000000  300.000000\n",
              "mean   122.963333   44.000000   31.133333    1.000000\n",
              "std     17.135170   16.312992   15.568885    0.817861\n",
              "min     85.000000   16.000000    1.000000    0.000000\n",
              "25%    109.750000   33.000000   18.000000    0.000000\n",
              "50%    121.000000   42.000000   30.000000    1.000000\n",
              "75%    137.000000   52.000000   43.000000    2.000000\n",
              "max    161.000000   97.000000   99.000000    2.000000"
            ]
          },
          "metadata": {
            "tags": []
          },
          "execution_count": 22
        }
      ]
    },
    {
      "metadata": {
        "id": "4LgAGzsDuCXu",
        "colab_type": "code",
        "outputId": "727b20bb-47f8-4532-8c8e-cd9cc4898761",
        "colab": {
          "base_uri": "https://localhost:8080/",
          "height": 379
        }
      },
      "cell_type": "code",
      "source": [
        "latent_representation = encoder.predict(x={'main_input': new_main, 'group_input': new_one_hot_groups})\n",
        "colors = new_df['group']\n",
        "color_map = ListedColormap(['#AA4444', '#006000', '#EEEE44'])\n",
        "\n",
        "latent_x = latent_representation[:, 0]\n",
        "latent_y = latent_representation[:, 1]\n",
        "\n",
        "plt.title('new data, old model')\n",
        "\n",
        "plt.scatter(latent_x, latent_y, alpha=0.5, s=100, marker='o', edgecolors='w', cmap=color_map, c=colors)"
      ],
      "execution_count": 23,
      "outputs": [
        {
          "output_type": "execute_result",
          "data": {
            "text/plain": [
              "<matplotlib.collections.PathCollection at 0x7f61299dcc88>"
            ]
          },
          "metadata": {
            "tags": []
          },
          "execution_count": 23
        },
        {
          "output_type": "display_data",
          "data": {
            "image/png": "[encoded data removed]",
            "text/plain": [
              "<Figure size 576x396 with 1 Axes>"
            ]
          },
          "metadata": {
            "tags": []
          }
        }
      ]
    },
    {
      "metadata": {
        "id": "7HdhJN2fMH6-",
        "colab_type": "code",
        "outputId": "f284164c-75fe-496c-92e0-2ed424228b52",
        "colab": {
          "base_uri": "https://localhost:8080/",
          "height": 397
        }
      },
      "cell_type": "code",
      "source": [
        "#default lr\n",
        "# adam = keras.optimizers.Adam(lr=0.001)\n",
        "# we use just half of that\n",
        "adam = keras.optimizers.Adam(lr=0.0005)\n",
        "# even this high learning rate can not break it (moves it quite a bit, but still same overall shape)\n",
        "# adam = keras.optimizers.Adam(lr=0.1)\n",
        "\n",
        "autoencoder.compile(optimizer=adam,\n",
        "              loss={'main_output': 'mae', 'group_output': 'categorical_crossentropy'},\n",
        "              loss_weights={'main_output': 1., 'group_output': 50.})\n",
        "\n",
        "BATCH_SIZE = 1\n",
        "EPOCHS=10\n",
        "\n",
        "%time history = autoencoder.fit(\\\n",
        "    x={'main_input': new_main, 'group_input': new_one_hot_groups},\\\n",
        "    y={'main_output': new_main, 'group_output': new_one_hot_groups},\\\n",
        "    epochs=EPOCHS, batch_size=BATCH_SIZE, shuffle=True, verbose=1)\n"
      ],
      "execution_count": 24,
      "outputs": [
        {
          "output_type": "stream",
          "text": [
            "Epoch 1/10\n",
            "300/300 [==============================] - 3s 9ms/step - loss: 18.0994 - main_output_loss: 17.8307 - group_output_loss: 0.0054\n",
            "Epoch 2/10\n",
            "300/300 [==============================] - 2s 7ms/step - loss: 18.0753 - main_output_loss: 17.8171 - group_output_loss: 0.0052\n",
            "Epoch 3/10\n",
            "300/300 [==============================] - 2s 7ms/step - loss: 18.0563 - main_output_loss: 17.8227 - group_output_loss: 0.0047\n",
            "Epoch 4/10\n",
            "300/300 [==============================] - 2s 7ms/step - loss: 18.0384 - main_output_loss: 17.8176 - group_output_loss: 0.0044\n",
            "Epoch 5/10\n",
            "300/300 [==============================] - 2s 7ms/step - loss: 18.0227 - main_output_loss: 17.8034 - group_output_loss: 0.0044\n",
            "Epoch 6/10\n",
            "300/300 [==============================] - 2s 7ms/step - loss: 18.0082 - main_output_loss: 17.7958 - group_output_loss: 0.0042\n",
            "Epoch 7/10\n",
            "300/300 [==============================] - 2s 7ms/step - loss: 17.9956 - main_output_loss: 17.7859 - group_output_loss: 0.0042\n",
            "Epoch 8/10\n",
            "300/300 [==============================] - 2s 7ms/step - loss: 17.9855 - main_output_loss: 17.7800 - group_output_loss: 0.0041\n",
            "Epoch 9/10\n",
            "300/300 [==============================] - 2s 7ms/step - loss: 17.9784 - main_output_loss: 17.7683 - group_output_loss: 0.0042\n",
            "Epoch 10/10\n",
            "300/300 [==============================] - 2s 7ms/step - loss: 17.9662 - main_output_loss: 17.7616 - group_output_loss: 0.0041\n",
            "CPU times: user 27.4 s, sys: 3.57 s, total: 31 s\n",
            "Wall time: 22.2 s\n"
          ],
          "name": "stdout"
        }
      ]
    },
    {
      "metadata": {
        "id": "dv1NKD2lMSzP",
        "colab_type": "code",
        "outputId": "af82c1d0-cca1-4ded-81bf-83b113c8524e",
        "colab": {
          "base_uri": "https://localhost:8080/",
          "height": 378
        }
      },
      "cell_type": "code",
      "source": [
        "plt.ylabel('loss')\n",
        "plt.xlabel('epoch')\n",
        "plt.yscale('log')\n",
        "\n",
        "plt.plot(history.history['loss'], 'b')\n",
        "plt.plot(history.history['main_output_loss'], 'r')\n",
        "plt.plot(history.history['group_output_loss'], 'g')\n",
        "\n",
        "plt.legend(['combined loss', 'main loss', 'group loss'], loc='upper right')\n"
      ],
      "execution_count": 25,
      "outputs": [
        {
          "output_type": "execute_result",
          "data": {
            "text/plain": [
              "<matplotlib.legend.Legend at 0x7f61290fd6d8>"
            ]
          },
          "metadata": {
            "tags": []
          },
          "execution_count": 25
        },
        {
          "output_type": "display_data",
          "data": {
            "image/png": "[encoded data removed]",
            "text/plain": [
              "<Figure size 576x396 with 1 Axes>"
            ]
          },
          "metadata": {
            "tags": []
          }
        }
      ]
    },
    {
      "metadata": {
        "id": "8m5HqPOXSmr7",
        "colab_type": "code",
        "outputId": "fe187a8b-20b7-4499-c9ce-e8910c9c67a7",
        "colab": {
          "base_uri": "https://localhost:8080/",
          "height": 379
        }
      },
      "cell_type": "code",
      "source": [
        "latent_representation = encoder.predict(x={'main_input': new_main, 'group_input': new_one_hot_groups})\n",
        "colors = new_df['group']\n",
        "color_map = ListedColormap(['#AA4444', '#006000', '#EEEE44'])\n",
        "\n",
        "latent_x = latent_representation[:, 0]\n",
        "latent_y = latent_representation[:, 1]\n",
        "\n",
        "plt.title('updated model, new data')\n",
        "\n",
        "plt.scatter(latent_x, latent_y, alpha=0.5, s=100, marker='o', edgecolors='w', cmap=color_map, c=colors)"
      ],
      "execution_count": 26,
      "outputs": [
        {
          "output_type": "execute_result",
          "data": {
            "text/plain": [
              "<matplotlib.collections.PathCollection at 0x7f6129031b38>"
            ]
          },
          "metadata": {
            "tags": []
          },
          "execution_count": 26
        },
        {
          "output_type": "display_data",
          "data": {
            "image/png": "[encoded data removed]",
            "text/plain": [
              "<Figure size 576x396 with 1 Axes>"
            ]
          },
          "metadata": {
            "tags": []
          }
        }
      ]
    },
    {
      "metadata": {
        "id": "ivC9ALVsOnoF",
        "colab_type": "code",
        "outputId": "e70fd23c-d9d3-4bf8-e075-c0f0116dfd13",
        "colab": {
          "base_uri": "https://localhost:8080/",
          "height": 379
        }
      },
      "cell_type": "code",
      "source": [
        "latent_representation = encoder.predict(x={'main_input': main, 'group_input': one_hot_groups})\n",
        "colors = df['group']\n",
        "color_map = ListedColormap(['#AA4444', '#006000', '#EEEE44'])\n",
        "\n",
        "latent_x = latent_representation[:, 0]\n",
        "latent_y = latent_representation[:, 1]\n",
        "\n",
        "plt.title('updated model, original data')\n",
        "\n",
        "plt.scatter(latent_x, latent_y, alpha=0.5, s=100, marker='o', edgecolors='w', cmap=color_map, c=colors)"
      ],
      "execution_count": 27,
      "outputs": [
        {
          "output_type": "execute_result",
          "data": {
            "text/plain": [
              "<matplotlib.collections.PathCollection at 0x7f6128f9dc50>"
            ]
          },
          "metadata": {
            "tags": []
          },
          "execution_count": 27
        },
        {
          "output_type": "display_data",
          "data": {
            "image/png": "[encoded data removed]",
            "text/plain": [
              "<Figure size 576x396 with 1 Axes>"
            ]
          },
          "metadata": {
            "tags": []
          }
        }
      ]
    },
    {
      "metadata": {
        "id": "FZFOViomQGfA",
        "colab_type": "text"
      },
      "cell_type": "markdown",
      "source": [
        "### Option II: Train from scratch, but use difference to original latent representation as part of loss function\n"
      ]
    },
    {
      "metadata": {
        "id": "dNlZmzQQPBqK",
        "colab_type": "code",
        "colab": {}
      },
      "cell_type": "code",
      "source": [
        "# start over from scratch\n",
        "from tensorflow.keras.models import load_model\n",
        "autoencoder = load_model('autoencoder-v1.h5')"
      ],
      "execution_count": 0,
      "outputs": []
    },
    {
      "metadata": {
        "id": "_MKBHF-KR4O-",
        "colab_type": "code",
        "colab": {}
      },
      "cell_type": "code",
      "source": [
        "main_input = autoencoder.get_layer('main_input').input\n",
        "group_input = autoencoder.get_layer('group_input').input\n",
        "encode = autoencoder.get_layer('encoder').output\n",
        "encoder = Model(inputs=[main_input, group_input], outputs=encode)"
      ],
      "execution_count": 0,
      "outputs": []
    },
    {
      "metadata": {
        "id": "p3NJg2FpR03G",
        "colab_type": "code",
        "colab": {}
      },
      "cell_type": "code",
      "source": [
        "new_original_latent_representation = encoder.predict(x={'main_input': new_main, 'group_input': new_one_hot_groups})\n",
        "old_original_latent_representation = encoder.predict(x={'main_input': main, 'group_input': one_hot_groups})"
      ],
      "execution_count": 0,
      "outputs": []
    },
    {
      "metadata": {
        "id": "usnjfvJxS_sB",
        "colab_type": "code",
        "outputId": "9be220b8-53fd-4307-c6bd-9666a6f02688",
        "colab": {
          "base_uri": "https://localhost:8080/",
          "height": 379
        }
      },
      "cell_type": "code",
      "source": [
        "latent_representation = encoder.predict(x={'main_input': main, 'group_input': one_hot_groups})\n",
        "colors = df['group']\n",
        "color_map = ListedColormap(['#AA4444', '#006000', '#EEEE44'])\n",
        "\n",
        "latent_x = latent_representation[:, 0]\n",
        "latent_y = latent_representation[:, 1]\n",
        "\n",
        "plt.title('original data, original model')\n",
        "\n",
        "plt.scatter(latent_x, latent_y, alpha=0.5, s=100, marker='o', edgecolors='w', cmap=color_map, c=colors)"
      ],
      "execution_count": 31,
      "outputs": [
        {
          "output_type": "execute_result",
          "data": {
            "text/plain": [
              "<matplotlib.collections.PathCollection at 0x7f612869bc18>"
            ]
          },
          "metadata": {
            "tags": []
          },
          "execution_count": 31
        },
        {
          "output_type": "display_data",
          "data": {
            "image/png": "[encoded data removed]",
            "text/plain": [
              "<Figure size 576x396 with 1 Axes>"
            ]
          },
          "metadata": {
            "tags": []
          }
        }
      ]
    },
    {
      "metadata": {
        "id": "ShOhYlgkh6tN",
        "colab_type": "code",
        "outputId": "7d7eaaa2-79a2-4a04-d1a0-aefe94b1b724",
        "colab": {
          "base_uri": "https://localhost:8080/",
          "height": 379
        }
      },
      "cell_type": "code",
      "source": [
        "latent_representation = encoder.predict(x={'main_input': new_main, 'group_input': new_one_hot_groups})\n",
        "colors = new_df['group']\n",
        "color_map = ListedColormap(['#AA4444', '#006000', '#EEEE44'])\n",
        "\n",
        "latent_x = latent_representation[:, 0]\n",
        "latent_y = latent_representation[:, 1]\n",
        "\n",
        "plt.title('new data, original model')\n",
        "\n",
        "plt.scatter(latent_x, latent_y, alpha=0.5, s=100, marker='o', edgecolors='w', cmap=color_map, c=colors)"
      ],
      "execution_count": 32,
      "outputs": [
        {
          "output_type": "execute_result",
          "data": {
            "text/plain": [
              "<matplotlib.collections.PathCollection at 0x7f6128607710>"
            ]
          },
          "metadata": {
            "tags": []
          },
          "execution_count": 32
        },
        {
          "output_type": "display_data",
          "data": {
            "image/png": "[encoded data removed]",
            "text/plain": [
              "<Figure size 576x396 with 1 Axes>"
            ]
          },
          "metadata": {
            "tags": []
          }
        }
      ]
    },
    {
      "metadata": {
        "id": "_kQbWB5FTQ4Q",
        "colab_type": "code",
        "outputId": "ef7e6de0-92c9-46bc-92e8-5279e0388492",
        "colab": {
          "base_uri": "https://localhost:8080/",
          "height": 742
        }
      },
      "cell_type": "code",
      "source": [
        "# often does not even train, so choose a seed known to be good\n",
        "from tensorflow.keras.initializers import glorot_normal\n",
        "seed= 13\n",
        "\n",
        "# first multi in\n",
        "main_input = Input(shape=(3,), name='main_input')\n",
        "group_input = Input(shape=(3,), name='group_input')\n",
        "\n",
        "# hopefully this balances out inputs to same scale\n",
        "encoded_main = Dense(units=2, activation='relu', name=\"main_encoder\", bias_initializer='zeros', kernel_initializer=glorot_normal(seed=seed))(main_input)\n",
        "encoded_group = Dense(units=2, activation='relu', name=\"group_encoder\", bias_initializer='zeros', kernel_initializer=glorot_normal(seed=seed))(group_input)\n",
        "\n",
        "# latent representation\n",
        "\n",
        "merged = concatenate([encoded_main, encoded_group])\n",
        "# this might work as well\n",
        "# merged = average([encoded_main, encoded_group])\n",
        "\n",
        "# the effective latent encoding\n",
        "encoding_dim = 2\n",
        "encoded = Dense(units=encoding_dim, activation='relu', name=\"encoder\", bias_initializer='zeros', kernel_initializer=glorot_normal(seed=seed))(merged)\n",
        "\n",
        "# then multi out\n",
        "\n",
        "main_output = Dense(units=3, activation='linear', name=\"main_output\", bias_initializer='zeros', kernel_initializer=glorot_normal(seed=seed))(encoded)\n",
        "group_output = Dense(units=3, activation='softmax', name=\"group_output\", bias_initializer='zeros', kernel_initializer=glorot_normal(seed=seed))(encoded)\n",
        "stability_output = encoded # just the latent space as output\n",
        "\n",
        "# autoencoder = Model(inputs=[main_input, group_input], outputs=[main_output, group_output, stability_output])\n",
        "autoencoder = Model(inputs=[main_input, group_input], outputs=[main_output, group_output])\n",
        "\n",
        "# adam = keras.optimizers.Adam(lr=0.001)\n",
        "adam = keras.optimizers.Adam(lr=0.01)\n",
        "\n",
        "# autoencoder.compile(optimizer=adam,\n",
        "#               loss={'main_output': 'mae', 'group_output': 'categorical_crossentropy', 'encoder': 'mae' },\n",
        "#               loss_weights={'main_output': 1., 'group_output': 50., 'encoder': 10.})\n",
        "\n",
        "autoencoder.compile(optimizer=adam,\n",
        "              loss={'main_output': 'mae', 'group_output': 'categorical_crossentropy'},\n",
        "              loss_weights={'main_output': 1., 'group_output': 1000.})\n",
        "\n",
        "BATCH_SIZE = 1\n",
        "EPOCHS=20\n",
        "\n",
        "# %time history = autoencoder.fit(\\\n",
        "#     x={'main_input': new_main, 'group_input': new_one_hot_groups},\\\n",
        "#     y={'main_output': new_main, 'group_output': new_one_hot_groups, 'encoder': new_original_latent_representation},\\\n",
        "#     epochs=EPOCHS, batch_size=BATCH_SIZE, shuffle=True, verbose=1)\n",
        "\n",
        "%time history = autoencoder.fit(\\\n",
        "    x={'main_input': new_main, 'group_input': new_one_hot_groups},\\\n",
        "    y={'main_output': new_main, 'group_output': new_one_hot_groups},\\\n",
        "    epochs=EPOCHS, batch_size=BATCH_SIZE, verbose=1)"
      ],
      "execution_count": 33,
      "outputs": [
        {
          "output_type": "stream",
          "text": [
            "Epoch 1/20\n",
            "300/300 [==============================] - 3s 9ms/step - loss: 1113.7896 - main_output_loss: 64.0727 - group_output_loss: 1.0497\n",
            "Epoch 2/20\n",
            "300/300 [==============================] - 2s 7ms/step - loss: 759.8672 - main_output_loss: 57.7043 - group_output_loss: 0.7022\n",
            "Epoch 3/20\n",
            "300/300 [==============================] - 2s 7ms/step - loss: 609.1736 - main_output_loss: 50.1857 - group_output_loss: 0.5590\n",
            "Epoch 4/20\n",
            "300/300 [==============================] - 2s 7ms/step - loss: 564.2294 - main_output_loss: 44.8930 - group_output_loss: 0.5193\n",
            "Epoch 5/20\n",
            "300/300 [==============================] - 2s 7ms/step - loss: 545.1656 - main_output_loss: 41.0447 - group_output_loss: 0.5041\n",
            "Epoch 6/20\n",
            "300/300 [==============================] - 2s 7ms/step - loss: 526.2991 - main_output_loss: 37.7498 - group_output_loss: 0.4885\n",
            "Epoch 7/20\n",
            "300/300 [==============================] - 2s 7ms/step - loss: 520.0490 - main_output_loss: 34.3416 - group_output_loss: 0.4857\n",
            "Epoch 8/20\n",
            "300/300 [==============================] - 2s 7ms/step - loss: 511.0741 - main_output_loss: 31.0153 - group_output_loss: 0.4801\n",
            "Epoch 9/20\n",
            "300/300 [==============================] - 2s 7ms/step - loss: 505.2549 - main_output_loss: 27.8453 - group_output_loss: 0.4774\n",
            "Epoch 10/20\n",
            "300/300 [==============================] - 2s 7ms/step - loss: 512.4288 - main_output_loss: 26.3003 - group_output_loss: 0.4861\n",
            "Epoch 11/20\n",
            "300/300 [==============================] - 2s 7ms/step - loss: 499.2340 - main_output_loss: 25.4253 - group_output_loss: 0.4738\n",
            "Epoch 12/20\n",
            "300/300 [==============================] - 2s 7ms/step - loss: 506.1020 - main_output_loss: 24.9102 - group_output_loss: 0.4812\n",
            "Epoch 13/20\n",
            "300/300 [==============================] - 2s 7ms/step - loss: 500.3039 - main_output_loss: 24.3554 - group_output_loss: 0.4759\n",
            "Epoch 14/20\n",
            "300/300 [==============================] - 2s 7ms/step - loss: 495.0908 - main_output_loss: 24.0149 - group_output_loss: 0.4711\n",
            "Epoch 15/20\n",
            "300/300 [==============================] - 2s 7ms/step - loss: 498.6207 - main_output_loss: 23.7325 - group_output_loss: 0.4749\n",
            "Epoch 16/20\n",
            "300/300 [==============================] - 2s 7ms/step - loss: 502.8185 - main_output_loss: 23.5568 - group_output_loss: 0.4793\n",
            "Epoch 17/20\n",
            "300/300 [==============================] - 2s 7ms/step - loss: 496.3739 - main_output_loss: 23.2007 - group_output_loss: 0.4732\n",
            "Epoch 18/20\n",
            "300/300 [==============================] - 2s 7ms/step - loss: 498.2794 - main_output_loss: 22.8270 - group_output_loss: 0.4755\n",
            "Epoch 19/20\n",
            "300/300 [==============================] - 2s 7ms/step - loss: 496.4002 - main_output_loss: 22.7899 - group_output_loss: 0.4736\n",
            "Epoch 20/20\n",
            "300/300 [==============================] - 2s 7ms/step - loss: 493.3310 - main_output_loss: 22.3431 - group_output_loss: 0.4710\n",
            "CPU times: user 54.1 s, sys: 7.12 s, total: 1min 1s\n",
            "Wall time: 43.7 s\n"
          ],
          "name": "stdout"
        }
      ]
    },
    {
      "metadata": {
        "id": "RdzwwTF1oVKZ",
        "colab_type": "code",
        "colab": {}
      },
      "cell_type": "code",
      "source": [
        "main_input = autoencoder.get_layer('main_input').input\n",
        "group_input = autoencoder.get_layer('group_input').input\n",
        "encode = autoencoder.get_layer('encoder').output\n",
        "encoder = Model(inputs=[main_input, group_input], outputs=encode)"
      ],
      "execution_count": 0,
      "outputs": []
    },
    {
      "metadata": {
        "id": "Gi_ekqgZgIVb",
        "colab_type": "code",
        "outputId": "af3125b2-52c2-4691-d5c3-495804c0440f",
        "colab": {
          "base_uri": "https://localhost:8080/",
          "height": 379
        }
      },
      "cell_type": "code",
      "source": [
        "latent_representation = encoder.predict(x={'main_input': new_main, 'group_input': new_one_hot_groups})\n",
        "colors = new_df['group']\n",
        "color_map = ListedColormap(['#AA4444', '#006000', '#EEEE44'])\n",
        "\n",
        "latent_x = latent_representation[:, 0]\n",
        "latent_y = latent_representation[:, 1]\n",
        "\n",
        "plt.title('new data, new model without forcing')\n",
        "\n",
        "plt.scatter(latent_x, latent_y, alpha=0.5, s=100, marker='o', edgecolors='w', cmap=color_map, c=colors)"
      ],
      "execution_count": 35,
      "outputs": [
        {
          "output_type": "execute_result",
          "data": {
            "text/plain": [
              "<matplotlib.collections.PathCollection at 0x7f6127cec3c8>"
            ]
          },
          "metadata": {
            "tags": []
          },
          "execution_count": 35
        },
        {
          "output_type": "display_data",
          "data": {
            "image/png": "[encoded data removed]",
            "text/plain": [
              "<Figure size 576x396 with 1 Axes>"
            ]
          },
          "metadata": {
            "tags": []
          }
        }
      ]
    },
    {
      "metadata": {
        "id": "zvNpWV8n2pr5",
        "colab_type": "code",
        "outputId": "bd0853f1-f6a5-4bbe-e47e-ec37f8f6dad8",
        "colab": {
          "base_uri": "https://localhost:8080/",
          "height": 742
        }
      },
      "cell_type": "code",
      "source": [
        "# often does not even train, so choose a seed known to be good\n",
        "from tensorflow.keras.initializers import glorot_normal\n",
        "seed= 13\n",
        "\n",
        "# first multi in\n",
        "main_input = Input(shape=(3,), name='main_input')\n",
        "group_input = Input(shape=(3,), name='group_input')\n",
        "\n",
        "# hopefully this balances out inputs to same scale\n",
        "encoded_main = Dense(units=2, activation='relu', name=\"main_encoder\", bias_initializer='zeros', kernel_initializer=glorot_normal(seed=seed))(main_input)\n",
        "encoded_group = Dense(units=2, activation='relu', name=\"group_encoder\", bias_initializer='zeros', kernel_initializer=glorot_normal(seed=seed))(group_input)\n",
        "\n",
        "# latent representation\n",
        "\n",
        "merged = concatenate([encoded_main, encoded_group])\n",
        "# this might work as well\n",
        "# merged = average([encoded_main, encoded_group])\n",
        "\n",
        "# the effective latent encoding\n",
        "encoding_dim = 2\n",
        "encoded = Dense(units=encoding_dim, activation='relu', name=\"encoder\", bias_initializer='zeros', kernel_initializer=glorot_normal(seed=seed))(merged)\n",
        "\n",
        "# then multi out\n",
        "\n",
        "main_output = Dense(units=3, activation='linear', name=\"main_output\", bias_initializer='zeros', kernel_initializer=glorot_normal(seed=seed))(encoded)\n",
        "group_output = Dense(units=3, activation='softmax', name=\"group_output\", bias_initializer='zeros', kernel_initializer=glorot_normal(seed=seed))(encoded)\n",
        "stability_output = encoded # just the latent space as output\n",
        "\n",
        "autoencoder = Model(inputs=[main_input, group_input], outputs=[main_output, group_output, stability_output])\n",
        "\n",
        "# adam = keras.optimizers.Adam(lr=0.001)\n",
        "adam = keras.optimizers.Adam(lr=0.01)\n",
        "\n",
        "autoencoder.compile(optimizer=adam,\n",
        "              loss={'main_output': 'mae', 'group_output': 'categorical_crossentropy', 'encoder': 'mae' },\n",
        "              loss_weights={'main_output': 1., 'group_output': 100., 'encoder': 100.})\n",
        "\n",
        "\n",
        "BATCH_SIZE = 1\n",
        "EPOCHS=20\n",
        "\n",
        "%time history = autoencoder.fit(\\\n",
        "    x={'main_input': new_main, 'group_input': new_one_hot_groups},\\\n",
        "    y={'main_output': new_main, 'group_output': new_one_hot_groups, 'encoder': new_original_latent_representation},\\\n",
        "    epochs=EPOCHS, batch_size=BATCH_SIZE, verbose=1)"
      ],
      "execution_count": 36,
      "outputs": [
        {
          "output_type": "stream",
          "text": [
            "Epoch 1/20\n",
            "300/300 [==============================] - 3s 11ms/step - loss: 359.0142 - main_output_loss: 57.9943 - group_output_loss: 1.1204 - encoder_loss: 1.8898\n",
            "Epoch 2/20\n",
            "300/300 [==============================] - 2s 8ms/step - loss: 139.8898 - main_output_loss: 44.7942 - group_output_loss: 0.7537 - encoder_loss: 0.1972\n",
            "Epoch 3/20\n",
            "300/300 [==============================] - 2s 8ms/step - loss: 94.7738 - main_output_loss: 38.8588 - group_output_loss: 0.5449 - encoder_loss: 0.0143\n",
            "Epoch 4/20\n",
            "300/300 [==============================] - 2s 8ms/step - loss: 83.5354 - main_output_loss: 33.9211 - group_output_loss: 0.4820 - encoder_loss: 0.0141\n",
            "Epoch 5/20\n",
            "300/300 [==============================] - 2s 8ms/step - loss: 76.6547 - main_output_loss: 31.6733 - group_output_loss: 0.4362 - encoder_loss: 0.0136\n",
            "Epoch 6/20\n",
            "300/300 [==============================] - 2s 8ms/step - loss: 73.3537 - main_output_loss: 30.4277 - group_output_loss: 0.4116 - encoder_loss: 0.0177\n",
            "Epoch 7/20\n",
            "300/300 [==============================] - 2s 8ms/step - loss: 69.4638 - main_output_loss: 29.7551 - group_output_loss: 0.3848 - encoder_loss: 0.0123\n",
            "Epoch 8/20\n",
            "300/300 [==============================] - 2s 8ms/step - loss: 65.5596 - main_output_loss: 29.2934 - group_output_loss: 0.3510 - encoder_loss: 0.0117\n",
            "Epoch 9/20\n",
            "300/300 [==============================] - 2s 8ms/step - loss: 63.3000 - main_output_loss: 28.9237 - group_output_loss: 0.3364 - encoder_loss: 0.0074\n",
            "Epoch 10/20\n",
            "300/300 [==============================] - 2s 8ms/step - loss: 61.9612 - main_output_loss: 28.6323 - group_output_loss: 0.3174 - encoder_loss: 0.0159\n",
            "Epoch 11/20\n",
            "300/300 [==============================] - 2s 8ms/step - loss: 58.5541 - main_output_loss: 28.2746 - group_output_loss: 0.2883 - encoder_loss: 0.0145\n",
            "Epoch 12/20\n",
            "300/300 [==============================] - 2s 8ms/step - loss: 57.0897 - main_output_loss: 27.9404 - group_output_loss: 0.2771 - encoder_loss: 0.0144\n",
            "Epoch 13/20\n",
            "300/300 [==============================] - 2s 8ms/step - loss: 54.0290 - main_output_loss: 27.6013 - group_output_loss: 0.2514 - encoder_loss: 0.0129\n",
            "Epoch 14/20\n",
            "300/300 [==============================] - 2s 8ms/step - loss: 52.5104 - main_output_loss: 27.2802 - group_output_loss: 0.2397 - encoder_loss: 0.0126\n",
            "Epoch 15/20\n",
            "300/300 [==============================] - 2s 8ms/step - loss: 50.7044 - main_output_loss: 26.9363 - group_output_loss: 0.2243 - encoder_loss: 0.0134\n",
            "Epoch 16/20\n",
            "300/300 [==============================] - 2s 8ms/step - loss: 48.3359 - main_output_loss: 26.6366 - group_output_loss: 0.2052 - encoder_loss: 0.0118\n",
            "Epoch 17/20\n",
            "300/300 [==============================] - 2s 8ms/step - loss: 47.4239 - main_output_loss: 26.3338 - group_output_loss: 0.1923 - encoder_loss: 0.0186\n",
            "Epoch 18/20\n",
            "300/300 [==============================] - 2s 8ms/step - loss: 45.8321 - main_output_loss: 26.0685 - group_output_loss: 0.1791 - encoder_loss: 0.0186\n",
            "Epoch 19/20\n",
            "300/300 [==============================] - 2s 8ms/step - loss: 43.7928 - main_output_loss: 25.7362 - group_output_loss: 0.1681 - encoder_loss: 0.0125\n",
            "Epoch 20/20\n",
            "300/300 [==============================] - 2s 8ms/step - loss: 42.6328 - main_output_loss: 25.4749 - group_output_loss: 0.1557 - encoder_loss: 0.0158\n",
            "CPU times: user 1min 1s, sys: 8.41 s, total: 1min 10s\n",
            "Wall time: 48.5 s\n"
          ],
          "name": "stdout"
        }
      ]
    },
    {
      "metadata": {
        "id": "vxGtAcxe7RX6",
        "colab_type": "code",
        "outputId": "f38867b9-78e9-41a5-f7d0-8fdab9d3590e",
        "colab": {
          "base_uri": "https://localhost:8080/",
          "height": 379
        }
      },
      "cell_type": "code",
      "source": [
        "main_input = autoencoder.get_layer('main_input').input\n",
        "group_input = autoencoder.get_layer('group_input').input\n",
        "encode = autoencoder.get_layer('encoder').output\n",
        "encoder = Model(inputs=[main_input, group_input], outputs=encode)\n",
        "\n",
        "latent_representation = encoder.predict(x={'main_input': new_main, 'group_input': new_one_hot_groups})\n",
        "colors = new_df['group']\n",
        "color_map = ListedColormap(['#AA4444', '#006000', '#EEEE44'])\n",
        "\n",
        "latent_x = latent_representation[:, 0]\n",
        "latent_y = latent_representation[:, 1]\n",
        "\n",
        "plt.title('new data, new model with forcing')\n",
        "\n",
        "plt.scatter(latent_x, latent_y, alpha=0.5, s=100, marker='o', edgecolors='w', cmap=color_map, c=colors)"
      ],
      "execution_count": 37,
      "outputs": [
        {
          "output_type": "execute_result",
          "data": {
            "text/plain": [
              "<matplotlib.collections.PathCollection at 0x7f6127229d68>"
            ]
          },
          "metadata": {
            "tags": []
          },
          "execution_count": 37
        },
        {
          "output_type": "display_data",
          "data": {
            "image/png": "[encoded data removed]",
            "text/plain": [
              "<Figure size 576x396 with 1 Axes>"
            ]
          },
          "metadata": {
            "tags": []
          }
        }
      ]
    },
    {
      "metadata": {
        "id": "5A0oheNu7lmB",
        "colab_type": "code",
        "colab": {}
      },
      "cell_type": "code",
      "source": [
        ""
      ],
      "execution_count": 0,
      "outputs": []
    }
  ]
}