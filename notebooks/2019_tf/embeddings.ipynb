{
  "nbformat": 4,
  "nbformat_minor": 0,
  "metadata": {
    "colab": {
      "name": "embeddings.ipynb",
      "version": "0.3.2",
      "provenance": [],
      "collapsed_sections": [],
      "include_colab_link": true
    },
    "kernelspec": {
      "name": "python3",
      "display_name": "Python 3"
    }
  },
  "cells": [
    {
      "cell_type": "markdown",
      "metadata": {
        "id": "view-in-github",
        "colab_type": "text"
      },
      "source": [
        "<a href=\"https://colab.research.google.com/github/DJCordhose/ai/blob/master/notebooks/2019_tf/embeddings.ipynb\" target=\"_parent\"><img src=\"https://colab.research.google.com/assets/colab-badge.svg\" alt=\"Open In Colab\"/></a>"
      ]
    },
    {
      "metadata": {
        "id": "t0SNZ3gZDa36",
        "colab_type": "text"
      },
      "cell_type": "markdown",
      "source": [
        "# Embeddings\n",
        "\n",
        "Links\n",
        "* https://machinelearningmastery.com/use-word-embedding-layers-deep-learning-keras/"
      ]
    },
    {
      "metadata": {
        "id": "Dtz68G6gitV3",
        "colab_type": "code",
        "outputId": "e08865e9-1db8-4976-ff1f-a5dd8363ee69",
        "colab": {
          "base_uri": "https://localhost:8080/",
          "height": 34
        }
      },
      "cell_type": "code",
      "source": [
        "import tensorflow as tf\n",
        "tf.logging.set_verbosity(tf.logging.ERROR)\n",
        "print(tf.__version__)"
      ],
      "execution_count": 0,
      "outputs": [
        {
          "output_type": "stream",
          "text": [
            "1.12.0\n"
          ],
          "name": "stdout"
        }
      ]
    },
    {
      "metadata": {
        "id": "9jr-oxYnfaCI",
        "colab_type": "text"
      },
      "cell_type": "markdown",
      "source": [
        "### Challenge: You have a couple of airports and want to bring them into a numerical representation to enable processing with neural networks. How do you do that?"
      ]
    },
    {
      "metadata": {
        "id": "sI478dzhxSFQ",
        "colab_type": "code",
        "colab": {}
      },
      "cell_type": "code",
      "source": [
        "dictionary_size = 1000\n",
        "\n",
        "airports = {\n",
        "    # https://en.wikipedia.org/wiki/Hamburg_Airport\n",
        "    \"HAM\": \"\"\"\n",
        "Hamburg Airport (IATA: HAM, ICAO: EDDH), known in German as Flughafen Hamburg, is the international airport of Hamburg,\n",
        "the second-largest city in Germany. It is located 8.5 km (5.3 mi) north of the city center in the Fuhlsbüttel\n",
        "quarter and serves as a base for Eurowings, Condor and easyJet. Hamburg Airport is the fifth-busiest of Germany's\n",
        "commercial airports measured by the number of passengers and counted 17,622,997 passengers and 159,780 aircraft\n",
        "movements in 2017. It is named after former senator of Hamburg and chancellor of Germany, Helmut Schmidt. As of\n",
        "July 2017, it featured flights to more than 130 mostly European metropolitan and leisure destinations as well as\n",
        "three are long-haul routes to Dubai, Tabriz and Tehran. The airport is equipped to handle wide-bodied aircraft\n",
        "including the Airbus A380.    \n",
        "    \"\"\",\n",
        "    \n",
        "    \"FRA\": \"\"\"\n",
        "Frankfurt am Main Airport (IATA: FRA, ICAO: EDDF) (German: Flughafen Frankfurt am Main, also known as Rhein-Main-Flughafen) is a major international airport located in Frankfurt, the fifth-largest city of Germany and one of the world's leading financial centres. It is operated by Fraport and serves as the main hub for Lufthansa including Lufthansa CityLine and Lufthansa Cargo as well as Condor and AeroLogic. The airport covers an area of 2,300 hectares (5,683 acres) of land and features two passenger terminals with a capacity of approximately 65 million passengers per year, four runways and extensive logistics and maintenance facilities.\n",
        "\n",
        "Frankfurt Airport is the busiest airport by passenger traffic in Germany as well as the 4th busiest in Europe after London Heathrow Airport, Paris–Charles de Gaulle Airport and Amsterdam Airport Schiphol. The airport is also the 13th busiest worldwide by total number of passengers in 2016, with 60.786 million passengers using the airport in 2016. In 2017 Frankfurt Airport handled 64.500 million passengers. It also had a freight throughput of 2.076 million metric tonnes in 2015 and is the busiest airport in Europe by cargo traffic. As of summer 2017, Frankfurt Airport serves more than 300 destinations in 5 continents, making it the airport with the most direct routes in the world.\n",
        "\n",
        "The southern side of the airport ground was home to the Rhein-Main Air Base, which was a major air base for the United States from 1947 until 2005, when the air base was closed and the property was acquired by Fraport. In 2017, passengers at the airport increased by 6.1% to 64,500,386 compared to 2016. The airport celebrated its 80th anniversary in July 2016    \n",
        "    \"\"\",\n",
        "    \n",
        "    \"CPH\": \"\"\"\n",
        "Copenhagen Airport, Kastrup (Danish: Københavns Lufthavn, Kastrup; IATA: CPH, ICAO: EKCH) is the main international airport serving Copenhagen, Denmark, the entire Zealand, the Øresund Region, and a large part of southern Sweden including Scania. It is the largest airport in the Nordic countries with 29 million passengers in 2016 and one of the oldest international airports in Europe. It is the third-busiest airport in Northern Europe, and the busiest for international travel in Scandinavia.\n",
        "\n",
        "The airport is located on the island of Amager, 8 kilometres (5.0 mi) south of Copenhagen city centre, and 24 kilometres (15 mi) west of Malmö city centre via the Øresund Bridge. The airport covers an area of 11.8 square kilometres (4.6 sq mi). Most of the airport is situated in the municipality of Tårnby, with a small portion in the city of Dragør.\n",
        "\n",
        "The airport is the main hub out of three used by Scandinavian Airlines and is also an operating base for Thomas Cook Airlines Scandinavia and Norwegian Air Shuttle. Copenhagen Airport handles around 60 scheduled airlines, and has a maximum operation capability of 83 operations/hour, and a total of 108 jet bridge and remote parking stands. Unlike other Scandinavian airports, most of the airport's passengers are international. In 2015, 6.1% of passengers travelled to and from other Danish airports, 83.5% to/from other European airports, and 10.4% were intercontinental passengers. The airport is owned by Københavns Lufthavne, which also operates Roskilde Airport. The airport employs 1,700 people (not including employees in shops, restaurants, etc.).\n",
        "\n",
        "Copenhagen Airport was originally called Kastrup Airport, since it is located in the small town of Kastrup, now a part of the Tårnby municipality. The formal name of the airport is still Copenhagen Airport, Kastrup, to distinguish it from Roskilde Airport, whose formal name is Copenhagen Airport, Roskilde.\n",
        "    \"\"\",\n",
        "    \n",
        "    \"ARN\": \"\"\"\n",
        "Stockholm Arlanda Airport (IATA: ARN, ICAO: ESSA), is an international airport located in the Sigtuna Municipality of Sweden, near the town of Märsta, 37 kilometres (23 mi) north of Stockholm and nearly 40 kilometres (25 mi) south-east of Uppsala. The airport is located within Stockholm County and the province of Uppland. It is the largest airport in Sweden and the third-largest airport in the Nordic countries. The airport is the major gateway to international air travel for large parts of Sweden. Arlanda Airport was used by close to 27 million passengers in 2017, with 21.2 million international passengers and 5.5 million domestic.\n",
        "\n",
        "Stockholm Arlanda Airport is the larger of Stockholm's two airports. The other, Stockholm–Bromma, is located north-west of the city's centre, but can only be used by a small number of smaller aircraft. The smaller airports in Nyköping and Västerås are both located around 100 kilometres (60 mi) away from the Swedish capital. Stockholm Arlanda serves as a major hub for Scandinavian Airlines and Norwegian Air Shuttle.    \n",
        "    \"\"\",\n",
        "    \n",
        "    \"BGO\": \"\"\"\n",
        "Bergen Airport, Flesland (Norwegian: Bergen lufthavn, Flesland; IATA: BGO, ICAO: ENBR) is an international airport located at Flesland in Bergen, a city and municipality in Hordaland county, Norway. Opened in 1955, it is the second-busiest airport in Norway, with 6,306,623 passengers in 2018. Flesland is operated by the state-owned Avinor. Until 1999 Flesland Air Station of the Norwegian Air Force was co-located at the airport.\n",
        "\n",
        "Scandinavian Airlines (SAS), Norwegian Air Shuttle and Widerøe are the largest airlines operating at the airport. The route to Oslo Airport, Gardermoen is among the busiest in Europe. A substantial traffic is generated by CHC Helikopter Service and Bristow Norway to offshore oil platforms in the North Sea.\n",
        "\n",
        "Originally Bergen was served by water aerodromes at Flatøy, Sandviken and Herdla. Financing of Flesland was largely secured through NATO funds and the airport opened on 2 October 1955. Until the 1980s, Bergen was the Norwegian airport used for SAS' intercontinental flights to New York. New terminals were opened in 1988 and in August 2017. The Bergen Light Rail was extended to the airport and opened in April 2017.    \n",
        "    \"\"\",\n",
        "    \n",
        "    \"OSL\": \"\"\"\n",
        "Oslo Airport (Norwegian: Oslo Lufthavn; IATA: OSL, ICAO: ENGM) is the main international airport serving Oslo, Norway, the capital and most populous city in the country. A hub for Scandinavian Airlines and Widerøe, and an operating base for Norwegian Air Shuttle, it connects to 26 domestic and 151 international destinations. 28,5 million passengers traveled through the airport in 2018, making it the second-busiest commercial airport in the Nordic countries, and the nineteenth-busiest in Europe.\n",
        "\n",
        "The airport is located 19 nautical miles (35 km; 22 mi) northeast of Oslo, at Gardermoen in the municipality of Ullensaker, in Akershus county. It has two parallel roughly north–south runways measuring 3,600 metres (11,811 ft) and 2,950 metres (9,678 ft) and 71 aircraft stands, of which 50 have jet bridges. The airport is connected to the city center by the high-speed railway Gardermoen Line served by mainline trains and Flytoget. The percentage of passengers using public transport to get to and from the airport is one of the highest in the world at nearly 70%. The ground facilities are owned by Oslo Lufthavn AS, a subsidiary of the state-owned Avinor. Also at the premises is Gardermoen Air Station, operated by the Royal Norwegian Air Force. An expansion with a new terminal building and a third pier opened in late April 2017. Oslo is also served by the low-fare airport Torp in Sandefjord, situated 119 km to the south of downtown Oslo.\n",
        "\n",
        "The airport location was first used by the Norwegian Army from 1940, with the first military airport facilities being built during the 1940s. The airport remained a secondary reserve and airport for chartered flights to Oslo Airport, Fornebu until 8 October 1998, when the latter was closed and an all-new Oslo Airport opened at Gardermoen, costing 11.4 billion Norwegian kroner (NOK).    \n",
        "    \"\"\",\n",
        "    \n",
        "    \"LHR\": \"\"\"\n",
        "Heathrow Airport (also known as London Heathrow) (IATA: LHR, ICAO: EGLL) is a major international airport near London, United Kingdom. Heathrow is the second busiest airport in the world by international passenger traffic, as well as the busiest airport in Europe by passenger traffic, and the seventh busiest airport in the world by total passenger traffic. It is one of six international airports serving Greater London. In 2017, it handled a record 78.0 million passengers, a 3.1% increase from 2016.\n",
        "\n",
        "Heathrow lies 14 miles (23 km) west of Central London, and has two parallel east–west runways along with four operational terminals on a site that covers 12.27 square kilometres (4.74 sq mi). The airport is owned and operated by Heathrow Airport Holdings, which itself is owned by FGP TopCo Limited, an international consortium led by Ferrovial that also includes Qatar Holding LLC, Caisse de dépôt et placement du Québec, GIC Private Limited, Alinda Capital Partners, China Investment Corporation and Universities Superannuation Scheme (USS). London Heathrow is the primary hub for British Airways and the primary operating base for Virgin Atlantic.\n",
        "\n",
        "In September 2012, the UK government established the Airports Commission, an independent commission chaired by Sir Howard Davies to examine various options for increasing capacity at UK airports. In July 2015, the commission backed a third runway at Heathrow, which the government approved in October 2016.    \n",
        "    \"\"\",\n",
        "    \n",
        "    \"CDG\": \"\"\"\n",
        "Paris Charles de Gaulle Airport (French: Aéroport de Paris-Charles-de-Gaulle, IATA: CDG, ICAO: LFPG), also known as Roissy Airport (name of the local district), is the largest international airport in France and the second largest in Europe. It is named after Charles de Gaulle (1890–1970), leader of the Free French Forces during the Second World War, founder of the French Fifth Republic and President of France from 1959 to 1969. Charles de Gaulle Airport is located within portions of several communes 25 km (16 mi) to the northeast of Paris. Charles de Gaulle Airport serves as the principal hub for Air France and other legacy carriers (from Star Alliance, Oneworld and SkyTeam), as well as a focus city for low-cost carriers easyJet, Vueling, and Norwegian Air Shuttle. The Airport is operated by Groupe ADP under the brand Paris Aéroport.\n",
        "\n",
        "In 2017, the airport handled 69,471,442 passengers and 475,654 aircraft movements, thus making it the world's tenth-busiest airport, and Europe's second-busiest airport (after London Heathrow) in terms of passenger numbers. In terms of cargo traffic, the airport is the twelfth-busiest in the world and the second-busiest in Europe (after Frankfurt Airport), handling 2,150,950 metric tonnes of cargo in 2012. Marc Houalla has been the director of the airport since 12 February 2018.    \n",
        "    \"\"\",\n",
        "    \n",
        "    \"SFO\": \"\"\"\n",
        "San Francisco International Airport (IATA: SFO, ICAO: KSFO, FAA LID: SFO) is an international airport 13 miles (21 km) south of downtown San Francisco, California, United States, near Millbrae and San Bruno in unincorporated San Mateo County. It has flights to points throughout North America and is a major gateway to Europe and Asia.\n",
        "\n",
        "SFO is the largest airport in Northern California and the second-busiest in California and on the Western Coast of North America, after Los Angeles International Airport. In 2017, it was the seventh-busiest airport in the United States and the 24th-busiest in the world by passenger count. It is the fifth-largest hub for United Airlines and functions as United's primary transpacific gateway. It also serves as a secondary hub for Alaska Airlines. It is a major maintenance hub for United Airlines, and houses the Louis A. Turpen Aviation Museum and Library.\n",
        "\n",
        "SFO is owned and policed by the City and County of San Francisco, but is in San Mateo County. Between 1999 and 2004 the San Francisco Airport Commission operated city-owned SFO Enterprises, Inc., to oversee its business purchases and operations of ventures.    \n",
        "    \"\"\",\n",
        "    \n",
        "    \"AUS\": \"\"\"\n",
        "Austin–Bergstrom International Airport or ABIA (IATA: AUS, ICAO: KAUS, FAA LID: AUS, formerly BSM) is a Class C international airport located in Austin, Texas, United States (the capital of Texas), and serving the Greater Austin metropolitan area, the 31st-largest metropolitan area in the United States. Located about 5 miles (8 km) southeast of Downtown Austin, it covers 4,242 acres (1,717 ha) and has two runways and three helipads. It is on the site of what was Bergstrom Air Force Base. The airport and Air Force base were named after Captain John August Earl Bergstrom, an officer who served with the 19th Bombardment Group. The airport replaced Robert Mueller Municipal Airport as Austin's main airport.\n",
        "\n",
        "A total of 13,889,305 passengers traveled through the Austin–Bergstrom International Airport in 2017. The airport is now the 34th busiest airport for total passengers in the United States, and is the busiest airport in Texas outside of Dallas–Fort Worth or Houston. Annual passenger total in 2017 increased by 11.5% from the previous record year of 2016.\n",
        "\n",
        "Scheduled passenger service began at the airport on Sunday, May 23, 1999. Currently, there are over 250 daily arrivals and 260 daily departures on the typical weekday to 76 destinations in the U.S., Canada, Mexico, the Caribbean, and Europe.    \n",
        "    \"\"\",\n",
        "    \n",
        "    \"EWR\": \"\"\"\n",
        "Newark Liberty International Airport (IATA: EWR, ICAO: KEWR, FAA LID: EWR), originally Newark Metropolitan Airport and later Newark International Airport, is the primary airport serving the U.S. state of New Jersey. The airport straddles the boundary between the cities of Newark and Elizabeth, the former of which is the most populous city in the state. The airport is owned jointly by the cities of Elizabeth and Newark and leased to and operated by the Port Authority of New York and New Jersey.\n",
        "\n",
        "Newark Airport is located 3 miles (4.8 km) south of Downtown Newark, and in between the cities of Philadelphia (to the southwest) and New York (to the northeast). It is one of four major airports serving the New York - Philadelphia Urban Area, the others being Philadelphia International Airport, John F. Kennedy International Airport and La Guardia Airport.\n",
        "\n",
        "In 2017, EWR was the fifteenth busiest airport in the United States, and the forty-third busiest airport in the world by passenger traffic, serving 43,393,499 passengers.\n",
        "\n",
        "Newark serves 50 carriers and is the third-largest hub (after Chicago–O'Hare and Houston–Intercontinental) for United Airlines, which is the airport's largest tenant (operating in all three of Newark's terminals). Newark's second-largest tenant is FedEx Express, whose third-largest cargo hub uses three buildings on two million square feet of airport property. During the 12-month period ending in July 2014, over 68% of all passengers at the airport were carried by United Airlines.    \n",
        "    \"\"\",\n",
        "    \n",
        "    \"JFK\": \"\"\"\n",
        "John F. Kennedy International Airport (IATA: JFK, ICAO: KJFK, FAA LID: JFK) (colloquially referred to as Kennedy Airport, JFK Airport, New York-JFK, or simply JFK or Kennedy) is the primary international airport serving New York City. It is the busiest international air passenger gateway into North America, the 22nd-busiest airport in the world, the sixth-busiest airport in the United States, and the busiest airport in the New York airport system; it handled just over 59 million passengers in 2017. Over ninety airlines operate from the airport, with nonstop or direct flights to destinations in all six inhabited continents.\n",
        "\n",
        "JFK is located in the neighborhood of Jamaica in the New York City borough of Queens, 16 miles (30 km) southeast of Midtown Manhattan. The airport features six passenger terminals and four runways. It serves as a hub for both American Airlines and Delta Air Lines, and it is the primary operating base for JetBlue Airways. JFK was also formerly a hub for Pan Am, TWA, Eastern, National, and Tower Air.\n",
        "\n",
        "Opened as New York International Airport in 1948, it was commonly known as Idlewild Airport before being renamed in 1963 as a tribute to John F. Kennedy, the 35th President of the United States, following his assassination.    \n",
        "    \"\"\"\n",
        "\n",
        "}"
      ],
      "execution_count": 0,
      "outputs": []
    },
    {
      "metadata": {
        "id": "fhV0LCuNgBOV",
        "colab_type": "code",
        "colab": {}
      },
      "cell_type": "code",
      "source": [
        "# alternative\n",
        "\n",
        "# dictionary_size = 20\n",
        "\n",
        "# airports = {'HAM': \"germany europe regional\",\n",
        "#  'FRA': \"germany europe hub\",\n",
        "#  'CPH': \"denmark capital scandinavia europe hub\",\n",
        "#  'ARN': \"sweden capital scandinavia europe regional\",\n",
        "#  'BGO': \"norway scandinavia europe regional\",\n",
        "#  'OSL': \"norway capital scandinavia europe regional\",\n",
        "#  'LHR': \"gb capital europe hub\",\n",
        "#  'CDG': \"france capital europe hub\",\n",
        "#  'SFO': \"usa california regional\",\n",
        "#  'AUS': \"usa texas regional\",\n",
        "#  'EWR': \"usa new_jersey hub\",\n",
        "#  'JFK': \"usa new_york hub\"\n",
        "# }"
      ],
      "execution_count": 0,
      "outputs": []
    },
    {
      "metadata": {
        "id": "3x9uHq-Ci2IU",
        "colab_type": "text"
      },
      "cell_type": "markdown",
      "source": [
        "### Encode airport to number (simple)"
      ]
    },
    {
      "metadata": {
        "id": "y_fkvROci6B_",
        "colab_type": "code",
        "colab": {}
      },
      "cell_type": "code",
      "source": [
        "airport_names = list(airports.keys())\n",
        "airport_numbers = list(range(0, 12))\n",
        "airport_to_number = dict(zip(airport_names, airport_numbers))\n",
        "number_to_airport = dict(zip(airport_numbers, airport_names))"
      ],
      "execution_count": 0,
      "outputs": []
    },
    {
      "metadata": {
        "id": "T3lVgbVDiyBF",
        "colab_type": "text"
      },
      "cell_type": "markdown",
      "source": [
        "### Encode Texts in multi-hot / tfidf"
      ]
    },
    {
      "metadata": {
        "id": "sc6-dRw6Wndz",
        "colab_type": "code",
        "colab": {}
      },
      "cell_type": "code",
      "source": [
        "tokenizer = tf.keras.preprocessing.text.Tokenizer(num_words=dictionary_size, \n",
        "                                                  filters='!\"#$%&()*+,-./:;<=>?@[\\\\]^_`{|}~\\t\\n0123456789',\n",
        "                                                  oov_token='<NONE>')"
      ],
      "execution_count": 0,
      "outputs": []
    },
    {
      "metadata": {
        "id": "q0KtPW7Bfwrl",
        "colab_type": "code",
        "colab": {}
      },
      "cell_type": "code",
      "source": [
        "texts = list(airports.values())\n",
        "tokenizer.fit_on_texts(texts)"
      ],
      "execution_count": 0,
      "outputs": []
    },
    {
      "metadata": {
        "id": "K2k59h8_tERJ",
        "colab_type": "code",
        "colab": {}
      },
      "cell_type": "code",
      "source": [
        "# tokenizer.texts_to_matrix?"
      ],
      "execution_count": 0,
      "outputs": []
    },
    {
      "metadata": {
        "id": "xbC1DYhHgMB6",
        "colab_type": "code",
        "colab": {}
      },
      "cell_type": "code",
      "source": [
        "# mode: one of \"binary\", \"count\", \"tfidf\", \"freq\".\n",
        "# description_matrix = tokenizer.texts_to_matrix(texts, mode='tfidf')\n",
        "description_matrix = tokenizer.texts_to_matrix(texts, mode='freq')"
      ],
      "execution_count": 0,
      "outputs": []
    },
    {
      "metadata": {
        "id": "K94z_MnwgRkA",
        "colab_type": "code",
        "outputId": "efceae9b-c09a-40a1-84c0-84d6c5f6b212",
        "colab": {
          "base_uri": "https://localhost:8080/",
          "height": 34
        }
      },
      "cell_type": "code",
      "source": [
        "len(description_matrix)"
      ],
      "execution_count": 0,
      "outputs": [
        {
          "output_type": "execute_result",
          "data": {
            "text/plain": [
              "12"
            ]
          },
          "metadata": {
            "tags": []
          },
          "execution_count": 9
        }
      ]
    },
    {
      "metadata": {
        "id": "wYecpxprgX_3",
        "colab_type": "code",
        "outputId": "456e9ccc-9786-4508-e700-e025d131cc6d",
        "colab": {
          "base_uri": "https://localhost:8080/",
          "height": 34
        }
      },
      "cell_type": "code",
      "source": [
        "len(description_matrix[0])"
      ],
      "execution_count": 0,
      "outputs": [
        {
          "output_type": "execute_result",
          "data": {
            "text/plain": [
              "1000"
            ]
          },
          "metadata": {
            "tags": []
          },
          "execution_count": 10
        }
      ]
    },
    {
      "metadata": {
        "id": "D1hO3n8-ge2S",
        "colab_type": "code",
        "outputId": "72243067-14fa-473a-905c-9c946704b9ad",
        "colab": {
          "base_uri": "https://localhost:8080/",
          "height": 3417
        }
      },
      "cell_type": "code",
      "source": [
        "description_matrix[0]"
      ],
      "execution_count": 0,
      "outputs": [
        {
          "output_type": "execute_result",
          "data": {
            "text/plain": [
              "array([0.        , 0.        , 0.06349206, 0.03174603, 0.05555556,\n",
              "       0.03174603, 0.05555556, 0.03968254, 0.01587302, 0.00793651,\n",
              "       0.02380952, 0.02380952, 0.00793651, 0.03968254, 0.00793651,\n",
              "       0.00793651, 0.01587302, 0.        , 0.        , 0.00793651,\n",
              "       0.00793651, 0.01587302, 0.        , 0.        , 0.        ,\n",
              "       0.        , 0.        , 0.00793651, 0.00793651, 0.        ,\n",
              "       0.        , 0.        , 0.        , 0.        , 0.        ,\n",
              "       0.        , 0.00793651, 0.        , 0.00793651, 0.00793651,\n",
              "       0.00793651, 0.        , 0.00793651, 0.        , 0.        ,\n",
              "       0.        , 0.        , 0.        , 0.        , 0.00793651,\n",
              "       0.00793651, 0.        , 0.        , 0.        , 0.        ,\n",
              "       0.        , 0.        , 0.00793651, 0.        , 0.        ,\n",
              "       0.        , 0.        , 0.        , 0.        , 0.        ,\n",
              "       0.        , 0.        , 0.        , 0.        , 0.00793651,\n",
              "       0.        , 0.        , 0.        , 0.        , 0.        ,\n",
              "       0.        , 0.        , 0.        , 0.        , 0.        ,\n",
              "       0.03968254, 0.00793651, 0.01587302, 0.00793651, 0.00793651,\n",
              "       0.00793651, 0.00793651, 0.        , 0.        , 0.        ,\n",
              "       0.        , 0.        , 0.        , 0.        , 0.        ,\n",
              "       0.        , 0.        , 0.        , 0.        , 0.        ,\n",
              "       0.        , 0.        , 0.        , 0.        , 0.        ,\n",
              "       0.        , 0.01587302, 0.00793651, 0.00793651, 0.00793651,\n",
              "       0.00793651, 0.        , 0.        , 0.        , 0.        ,\n",
              "       0.        , 0.        , 0.        , 0.        , 0.        ,\n",
              "       0.        , 0.        , 0.        , 0.        , 0.        ,\n",
              "       0.        , 0.        , 0.        , 0.        , 0.        ,\n",
              "       0.        , 0.        , 0.        , 0.        , 0.        ,\n",
              "       0.00793651, 0.00793651, 0.00793651, 0.        , 0.        ,\n",
              "       0.        , 0.        , 0.        , 0.        , 0.        ,\n",
              "       0.        , 0.        , 0.        , 0.        , 0.        ,\n",
              "       0.        , 0.        , 0.        , 0.        , 0.        ,\n",
              "       0.        , 0.        , 0.        , 0.        , 0.        ,\n",
              "       0.        , 0.        , 0.        , 0.        , 0.        ,\n",
              "       0.        , 0.        , 0.        , 0.        , 0.        ,\n",
              "       0.00793651, 0.00793651, 0.00793651, 0.00793651, 0.00793651,\n",
              "       0.00793651, 0.00793651, 0.00793651, 0.00793651, 0.00793651,\n",
              "       0.00793651, 0.        , 0.        , 0.        , 0.        ,\n",
              "       0.        , 0.        , 0.        , 0.        , 0.        ,\n",
              "       0.        , 0.        , 0.        , 0.        , 0.        ,\n",
              "       0.        , 0.        , 0.        , 0.        , 0.        ,\n",
              "       0.        , 0.        , 0.        , 0.        , 0.        ,\n",
              "       0.        , 0.        , 0.        , 0.        , 0.        ,\n",
              "       0.        , 0.        , 0.        , 0.        , 0.        ,\n",
              "       0.        , 0.        , 0.        , 0.        , 0.        ,\n",
              "       0.        , 0.        , 0.        , 0.        , 0.        ,\n",
              "       0.        , 0.        , 0.        , 0.        , 0.        ,\n",
              "       0.        , 0.        , 0.        , 0.        , 0.        ,\n",
              "       0.        , 0.        , 0.        , 0.        , 0.        ,\n",
              "       0.        , 0.        , 0.        , 0.        , 0.        ,\n",
              "       0.        , 0.        , 0.        , 0.        , 0.        ,\n",
              "       0.        , 0.        , 0.        , 0.        , 0.        ,\n",
              "       0.        , 0.        , 0.        , 0.        , 0.        ,\n",
              "       0.        , 0.        , 0.        , 0.        , 0.        ,\n",
              "       0.        , 0.        , 0.        , 0.        , 0.00793651,\n",
              "       0.00793651, 0.00793651, 0.00793651, 0.00793651, 0.00793651,\n",
              "       0.00793651, 0.00793651, 0.00793651, 0.00793651, 0.00793651,\n",
              "       0.00793651, 0.00793651, 0.00793651, 0.00793651, 0.00793651,\n",
              "       0.00793651, 0.00793651, 0.00793651, 0.00793651, 0.00793651,\n",
              "       0.00793651, 0.00793651, 0.00793651, 0.00793651, 0.        ,\n",
              "       0.        , 0.        , 0.        , 0.        , 0.        ,\n",
              "       0.        , 0.        , 0.        , 0.        , 0.        ,\n",
              "       0.        , 0.        , 0.        , 0.        , 0.        ,\n",
              "       0.        , 0.        , 0.        , 0.        , 0.        ,\n",
              "       0.        , 0.        , 0.        , 0.        , 0.        ,\n",
              "       0.        , 0.        , 0.        , 0.        , 0.        ,\n",
              "       0.        , 0.        , 0.        , 0.        , 0.        ,\n",
              "       0.        , 0.        , 0.        , 0.        , 0.        ,\n",
              "       0.        , 0.        , 0.        , 0.        , 0.        ,\n",
              "       0.        , 0.        , 0.        , 0.        , 0.        ,\n",
              "       0.        , 0.        , 0.        , 0.        , 0.        ,\n",
              "       0.        , 0.        , 0.        , 0.        , 0.        ,\n",
              "       0.        , 0.        , 0.        , 0.        , 0.        ,\n",
              "       0.        , 0.        , 0.        , 0.        , 0.        ,\n",
              "       0.        , 0.        , 0.        , 0.        , 0.        ,\n",
              "       0.        , 0.        , 0.        , 0.        , 0.        ,\n",
              "       0.        , 0.        , 0.        , 0.        , 0.        ,\n",
              "       0.        , 0.        , 0.        , 0.        , 0.        ,\n",
              "       0.        , 0.        , 0.        , 0.        , 0.        ,\n",
              "       0.        , 0.        , 0.        , 0.        , 0.        ,\n",
              "       0.        , 0.        , 0.        , 0.        , 0.        ,\n",
              "       0.        , 0.        , 0.        , 0.        , 0.        ,\n",
              "       0.        , 0.        , 0.        , 0.        , 0.        ,\n",
              "       0.        , 0.        , 0.        , 0.        , 0.        ,\n",
              "       0.        , 0.        , 0.        , 0.        , 0.        ,\n",
              "       0.        , 0.        , 0.        , 0.        , 0.        ,\n",
              "       0.        , 0.        , 0.        , 0.        , 0.        ,\n",
              "       0.        , 0.        , 0.        , 0.        , 0.        ,\n",
              "       0.        , 0.        , 0.        , 0.        , 0.        ,\n",
              "       0.        , 0.        , 0.        , 0.        , 0.        ,\n",
              "       0.        , 0.        , 0.        , 0.        , 0.        ,\n",
              "       0.        , 0.        , 0.        , 0.        , 0.        ,\n",
              "       0.        , 0.        , 0.        , 0.        , 0.        ,\n",
              "       0.        , 0.        , 0.        , 0.        , 0.        ,\n",
              "       0.        , 0.        , 0.        , 0.        , 0.        ,\n",
              "       0.        , 0.        , 0.        , 0.        , 0.        ,\n",
              "       0.        , 0.        , 0.        , 0.        , 0.        ,\n",
              "       0.        , 0.        , 0.        , 0.        , 0.        ,\n",
              "       0.        , 0.        , 0.        , 0.        , 0.        ,\n",
              "       0.        , 0.        , 0.        , 0.        , 0.        ,\n",
              "       0.        , 0.        , 0.        , 0.        , 0.        ,\n",
              "       0.        , 0.        , 0.        , 0.        , 0.        ,\n",
              "       0.        , 0.        , 0.        , 0.        , 0.        ,\n",
              "       0.        , 0.        , 0.        , 0.        , 0.        ,\n",
              "       0.        , 0.        , 0.        , 0.        , 0.        ,\n",
              "       0.        , 0.        , 0.        , 0.        , 0.        ,\n",
              "       0.        , 0.        , 0.        , 0.        , 0.        ,\n",
              "       0.        , 0.        , 0.        , 0.        , 0.        ,\n",
              "       0.        , 0.        , 0.        , 0.        , 0.        ,\n",
              "       0.        , 0.        , 0.        , 0.        , 0.        ,\n",
              "       0.        , 0.        , 0.        , 0.        , 0.        ,\n",
              "       0.        , 0.        , 0.        , 0.        , 0.        ,\n",
              "       0.        , 0.        , 0.        , 0.        , 0.        ,\n",
              "       0.        , 0.        , 0.        , 0.        , 0.        ,\n",
              "       0.        , 0.        , 0.        , 0.        , 0.        ,\n",
              "       0.        , 0.        , 0.        , 0.        , 0.        ,\n",
              "       0.        , 0.        , 0.        , 0.        , 0.        ,\n",
              "       0.        , 0.        , 0.        , 0.        , 0.        ,\n",
              "       0.        , 0.        , 0.        , 0.        , 0.        ,\n",
              "       0.        , 0.        , 0.        , 0.        , 0.        ,\n",
              "       0.        , 0.        , 0.        , 0.        , 0.        ,\n",
              "       0.        , 0.        , 0.        , 0.        , 0.        ,\n",
              "       0.        , 0.        , 0.        , 0.        , 0.        ,\n",
              "       0.        , 0.        , 0.        , 0.        , 0.        ,\n",
              "       0.        , 0.        , 0.        , 0.        , 0.        ,\n",
              "       0.        , 0.        , 0.        , 0.        , 0.        ,\n",
              "       0.        , 0.        , 0.        , 0.        , 0.        ,\n",
              "       0.        , 0.        , 0.        , 0.        , 0.        ,\n",
              "       0.        , 0.        , 0.        , 0.        , 0.        ,\n",
              "       0.        , 0.        , 0.        , 0.        , 0.        ,\n",
              "       0.        , 0.        , 0.        , 0.        , 0.        ,\n",
              "       0.        , 0.        , 0.        , 0.        , 0.        ,\n",
              "       0.        , 0.        , 0.        , 0.        , 0.        ,\n",
              "       0.        , 0.        , 0.        , 0.        , 0.        ,\n",
              "       0.        , 0.        , 0.        , 0.        , 0.        ,\n",
              "       0.        , 0.        , 0.        , 0.        , 0.        ,\n",
              "       0.        , 0.        , 0.        , 0.        , 0.        ,\n",
              "       0.        , 0.        , 0.        , 0.        , 0.        ,\n",
              "       0.        , 0.        , 0.        , 0.        , 0.        ,\n",
              "       0.        , 0.        , 0.        , 0.        , 0.        ,\n",
              "       0.        , 0.        , 0.        , 0.        , 0.        ,\n",
              "       0.        , 0.        , 0.        , 0.        , 0.        ,\n",
              "       0.        , 0.        , 0.        , 0.        , 0.        ,\n",
              "       0.        , 0.        , 0.        , 0.        , 0.        ,\n",
              "       0.        , 0.        , 0.        , 0.        , 0.        ,\n",
              "       0.        , 0.        , 0.        , 0.        , 0.        ,\n",
              "       0.        , 0.        , 0.        , 0.        , 0.        ,\n",
              "       0.        , 0.        , 0.        , 0.        , 0.        ,\n",
              "       0.        , 0.        , 0.        , 0.        , 0.        ,\n",
              "       0.        , 0.        , 0.        , 0.        , 0.        ,\n",
              "       0.        , 0.        , 0.        , 0.        , 0.        ,\n",
              "       0.        , 0.        , 0.        , 0.        , 0.        ,\n",
              "       0.        , 0.        , 0.        , 0.        , 0.        ,\n",
              "       0.        , 0.        , 0.        , 0.        , 0.        ,\n",
              "       0.        , 0.        , 0.        , 0.        , 0.        ,\n",
              "       0.        , 0.        , 0.        , 0.        , 0.        ,\n",
              "       0.        , 0.        , 0.        , 0.        , 0.        ,\n",
              "       0.        , 0.        , 0.        , 0.        , 0.        ,\n",
              "       0.        , 0.        , 0.        , 0.        , 0.        ,\n",
              "       0.        , 0.        , 0.        , 0.        , 0.        ,\n",
              "       0.        , 0.        , 0.        , 0.        , 0.        ,\n",
              "       0.        , 0.        , 0.        , 0.        , 0.        ,\n",
              "       0.        , 0.        , 0.        , 0.        , 0.        ,\n",
              "       0.        , 0.        , 0.        , 0.        , 0.        ,\n",
              "       0.        , 0.        , 0.        , 0.        , 0.        ,\n",
              "       0.        , 0.        , 0.        , 0.        , 0.        ,\n",
              "       0.        , 0.        , 0.        , 0.        , 0.        ,\n",
              "       0.        , 0.        , 0.        , 0.        , 0.        ,\n",
              "       0.        , 0.        , 0.        , 0.        , 0.        ,\n",
              "       0.        , 0.        , 0.        , 0.        , 0.        ,\n",
              "       0.        , 0.        , 0.        , 0.        , 0.        ,\n",
              "       0.        , 0.        , 0.        , 0.        , 0.        ,\n",
              "       0.        , 0.        , 0.        , 0.        , 0.        ,\n",
              "       0.        , 0.        , 0.        , 0.        , 0.        ,\n",
              "       0.        , 0.        , 0.        , 0.        , 0.        ,\n",
              "       0.        , 0.        , 0.        , 0.        , 0.        ,\n",
              "       0.        , 0.        , 0.        , 0.        , 0.        ,\n",
              "       0.        , 0.        , 0.        , 0.        , 0.        ,\n",
              "       0.        , 0.        , 0.        , 0.        , 0.        ,\n",
              "       0.        , 0.        , 0.        , 0.        , 0.        ,\n",
              "       0.        , 0.        , 0.        , 0.        , 0.        ,\n",
              "       0.        , 0.        , 0.        , 0.        , 0.        ,\n",
              "       0.        , 0.        , 0.        , 0.        , 0.        ,\n",
              "       0.        , 0.        , 0.        , 0.        , 0.        ,\n",
              "       0.        , 0.        , 0.        , 0.        , 0.        ,\n",
              "       0.        , 0.        , 0.        , 0.        , 0.        ,\n",
              "       0.        , 0.        , 0.        , 0.        , 0.        ,\n",
              "       0.        , 0.        , 0.        , 0.        , 0.        ,\n",
              "       0.        , 0.        , 0.        , 0.        , 0.        ,\n",
              "       0.        , 0.        , 0.        , 0.        , 0.        ,\n",
              "       0.        , 0.        , 0.        , 0.        , 0.        ,\n",
              "       0.        , 0.        , 0.        , 0.        , 0.        ,\n",
              "       0.        , 0.        , 0.        , 0.        , 0.        ,\n",
              "       0.        , 0.        , 0.        , 0.        , 0.        ,\n",
              "       0.        , 0.        , 0.        , 0.        , 0.        ,\n",
              "       0.        , 0.        , 0.        , 0.        , 0.        ,\n",
              "       0.        , 0.        , 0.        , 0.        , 0.        ,\n",
              "       0.        , 0.        , 0.        , 0.        , 0.        ,\n",
              "       0.        , 0.        , 0.        , 0.        , 0.        ,\n",
              "       0.        , 0.        , 0.        , 0.        , 0.        ,\n",
              "       0.        , 0.        , 0.        , 0.        , 0.        ])"
            ]
          },
          "metadata": {
            "tags": []
          },
          "execution_count": 11
        }
      ]
    },
    {
      "metadata": {
        "id": "ZH0BvMdjgg7M",
        "colab_type": "code",
        "outputId": "356c57ab-5570-430b-d745-2dcead72d743",
        "colab": {
          "base_uri": "https://localhost:8080/",
          "height": 306
        }
      },
      "cell_type": "code",
      "source": [
        "import tensorflow as tf\n",
        "from tensorflow import keras\n",
        "from tensorflow.keras.layers import Flatten, GlobalAveragePooling1D, Dense, LSTM, GRU, SimpleRNN, Bidirectional, Embedding\n",
        "from tensorflow.keras.models import Sequential, Model\n",
        "\n",
        "input_dim = len(airports)\n",
        "embedding_dim = 1\n",
        "\n",
        "model = Sequential()\n",
        "\n",
        "model.add(Embedding(name='embedding',\n",
        "                    input_dim=input_dim, \n",
        "                    output_dim=embedding_dim, \n",
        "                    input_length=1))\n",
        "\n",
        "# alternative\n",
        "#     model.add(GlobalAveragePooling1D())\n",
        "model.add(Flatten())\n",
        "\n",
        "model.add(Dense(units=50, activation='relu'))\n",
        "model.add(Dense(units=50, activation='relu'))\n",
        "\n",
        "# for tfidf\n",
        "# model.add(Dense(units=dictionary_size, name='output', activation='linear'))\n",
        "# model.compile(optimizer='adam', loss='mean_absolute_error')\n",
        "\n",
        "# for freq\n",
        "model.add(Dense(units=dictionary_size, name='output', activation='sigmoid'))\n",
        "model.compile(optimizer='adam', loss='binary_crossentropy')\n",
        "\n",
        "model.summary()"
      ],
      "execution_count": 0,
      "outputs": [
        {
          "output_type": "stream",
          "text": [
            "_________________________________________________________________\n",
            "Layer (type)                 Output Shape              Param #   \n",
            "=================================================================\n",
            "embedding (Embedding)        (None, 1, 1)              12        \n",
            "_________________________________________________________________\n",
            "flatten (Flatten)            (None, 1)                 0         \n",
            "_________________________________________________________________\n",
            "dense (Dense)                (None, 50)                100       \n",
            "_________________________________________________________________\n",
            "dense_1 (Dense)              (None, 50)                2550      \n",
            "_________________________________________________________________\n",
            "output (Dense)               (None, 1000)              51000     \n",
            "=================================================================\n",
            "Total params: 53,662\n",
            "Trainable params: 53,662\n",
            "Non-trainable params: 0\n",
            "_________________________________________________________________\n"
          ],
          "name": "stdout"
        }
      ]
    },
    {
      "metadata": {
        "id": "dB12B-MVlcw4",
        "colab_type": "code",
        "colab": {}
      },
      "cell_type": "code",
      "source": [
        "x = airport_numbers\n",
        "Y = description_matrix"
      ],
      "execution_count": 0,
      "outputs": []
    },
    {
      "metadata": {
        "id": "YPz6E0G2lheA",
        "colab_type": "code",
        "outputId": "e9a529ad-2651-4211-aaff-cf91c96cd739",
        "colab": {
          "base_uri": "https://localhost:8080/",
          "height": 238
        }
      },
      "cell_type": "code",
      "source": [
        "Y"
      ],
      "execution_count": 0,
      "outputs": [
        {
          "output_type": "execute_result",
          "data": {
            "text/plain": [
              "array([[0.        , 0.        , 0.06349206, ..., 0.        , 0.        ,\n",
              "        0.        ],\n",
              "       [0.        , 0.        , 0.08139535, ..., 0.        , 0.        ,\n",
              "        0.        ],\n",
              "       [0.        , 0.        , 0.08421053, ..., 0.        , 0.        ,\n",
              "        0.        ],\n",
              "       ...,\n",
              "       [0.        , 0.        , 0.09137056, ..., 0.        , 0.        ,\n",
              "        0.        ],\n",
              "       [0.        , 0.        , 0.1025641 , ..., 0.        , 0.        ,\n",
              "        0.        ],\n",
              "       [0.        , 0.        , 0.07389163, ..., 0.        , 0.        ,\n",
              "        0.        ]])"
            ]
          },
          "metadata": {
            "tags": []
          },
          "execution_count": 14
        }
      ]
    },
    {
      "metadata": {
        "id": "jZgZDz-Qhc8Z",
        "colab_type": "code",
        "outputId": "48b49639-b244-47de-c7d2-5b0e63fe7077",
        "colab": {
          "base_uri": "https://localhost:8080/",
          "height": 105
        }
      },
      "cell_type": "code",
      "source": [
        "%time history = model.fit(x, Y, epochs=2000, verbose=0)"
      ],
      "execution_count": 0,
      "outputs": [
        {
          "output_type": "stream",
          "text": [
            "/usr/local/lib/python3.6/dist-packages/tensorflow/python/ops/gradients_impl.py:112: UserWarning: Converting sparse IndexedSlices to a dense Tensor of unknown shape. This may consume a large amount of memory.\n",
            "  \"Converting sparse IndexedSlices to a dense Tensor of unknown shape. \"\n"
          ],
          "name": "stderr"
        },
        {
          "output_type": "stream",
          "text": [
            "CPU times: user 7.77 s, sys: 247 ms, total: 8.02 s\n",
            "Wall time: 5.1 s\n"
          ],
          "name": "stdout"
        }
      ]
    },
    {
      "metadata": {
        "id": "QKreo-IslR4E",
        "colab_type": "code",
        "outputId": "208a7dd9-9693-4abe-d7bb-1a3ba2ab4ac4",
        "colab": {
          "base_uri": "https://localhost:8080/",
          "height": 364
        }
      },
      "cell_type": "code",
      "source": [
        "import matplotlib.pyplot as plt\n",
        "\n",
        "plt.yscale('log')\n",
        "plt.plot(history.history['loss'])"
      ],
      "execution_count": 0,
      "outputs": [
        {
          "output_type": "execute_result",
          "data": {
            "text/plain": [
              "[<matplotlib.lines.Line2D at 0x7fbc651f73c8>]"
            ]
          },
          "metadata": {
            "tags": []
          },
          "execution_count": 16
        },
        {
          "output_type": "display_data",
          "data": {
            "image/png": "[encoded data removed]",
            "text/plain": [
              "<Figure size 576x396 with 1 Axes>"
            ]
          },
          "metadata": {
            "tags": []
          }
        }
      ]
    },
    {
      "metadata": {
        "id": "ypWQKpcclyq3",
        "colab_type": "code",
        "outputId": "aa7a8c56-9ec2-4b71-a757-312114d532a6",
        "colab": {
          "base_uri": "https://localhost:8080/",
          "height": 51
        }
      },
      "cell_type": "code",
      "source": [
        "model.evaluate(x, Y)"
      ],
      "execution_count": 0,
      "outputs": [
        {
          "output_type": "stream",
          "text": [
            "\r12/12 [==============================] - 0s 5ms/step\n"
          ],
          "name": "stdout"
        },
        {
          "output_type": "execute_result",
          "data": {
            "text/plain": [
              "0.006362229585647583"
            ]
          },
          "metadata": {
            "tags": []
          },
          "execution_count": 17
        }
      ]
    },
    {
      "metadata": {
        "id": "Rn-idlEnl2np",
        "colab_type": "code",
        "outputId": "3fd2815b-fa35-4ab6-f417-90a878d54389",
        "colab": {
          "base_uri": "https://localhost:8080/",
          "height": 204
        }
      },
      "cell_type": "code",
      "source": [
        "embedding_layer = model.get_layer('embedding')\n",
        "embedding_model = Model(inputs=model.input, outputs=embedding_layer.output)\n",
        "embedding_model.summary()"
      ],
      "execution_count": 0,
      "outputs": [
        {
          "output_type": "stream",
          "text": [
            "_________________________________________________________________\n",
            "Layer (type)                 Output Shape              Param #   \n",
            "=================================================================\n",
            "embedding_input (InputLayer) (None, 1)                 0         \n",
            "_________________________________________________________________\n",
            "embedding (Embedding)        (None, 1, 1)              12        \n",
            "=================================================================\n",
            "Total params: 12\n",
            "Trainable params: 12\n",
            "Non-trainable params: 0\n",
            "_________________________________________________________________\n"
          ],
          "name": "stdout"
        }
      ]
    },
    {
      "metadata": {
        "id": "yMS92Gt_mq1U",
        "colab_type": "code",
        "outputId": "fcaf5186-06e0-4219-b681-f2da02ed12b4",
        "colab": {
          "base_uri": "https://localhost:8080/",
          "height": 34
        }
      },
      "cell_type": "code",
      "source": [
        "hamburg_label = airport_to_number['HAM']\n",
        "embedding = embedding_model.predict([hamburg_label])\n",
        "embedding"
      ],
      "execution_count": 0,
      "outputs": [
        {
          "output_type": "execute_result",
          "data": {
            "text/plain": [
              "array([[[-0.20559646]]], dtype=float32)"
            ]
          },
          "metadata": {
            "tags": []
          },
          "execution_count": 19
        }
      ]
    },
    {
      "metadata": {
        "id": "2RPsQ14qm2Qo",
        "colab_type": "code",
        "colab": {}
      },
      "cell_type": "code",
      "source": [
        "all_embeddings = embedding_model.predict(airport_numbers).reshape(-1)"
      ],
      "execution_count": 0,
      "outputs": []
    },
    {
      "metadata": {
        "id": "KLWQupwUoIe-",
        "colab_type": "code",
        "outputId": "f659af8f-d438-4186-a77d-13a6e46b63fa",
        "colab": {
          "base_uri": "https://localhost:8080/",
          "height": 68
        }
      },
      "cell_type": "code",
      "source": [
        "all_embeddings"
      ],
      "execution_count": 0,
      "outputs": [
        {
          "output_type": "execute_result",
          "data": {
            "text/plain": [
              "array([-0.20559646, -0.21008943, -0.20561667, -0.20658226, -0.19348672,\n",
              "       -0.200398  , -0.19091618, -0.1921604 , -0.20499343, -0.19699997,\n",
              "       -0.19560127, -0.19063371], dtype=float32)"
            ]
          },
          "metadata": {
            "tags": []
          },
          "execution_count": 21
        }
      ]
    },
    {
      "metadata": {
        "id": "OCDEffdUn9SF",
        "colab_type": "code",
        "outputId": "fb9d84aa-45fd-4ad4-f816-88b0f5765f71",
        "colab": {
          "base_uri": "https://localhost:8080/",
          "height": 320
        }
      },
      "cell_type": "code",
      "source": [
        "import numpy as np\n",
        "\n",
        "plt.figure(figsize=(20,5))\n",
        "plt.scatter(all_embeddings, np.zeros(len(all_embeddings)))\n",
        "for name, x_pos in zip(airport_names, all_embeddings):\n",
        "  plt.annotate(name, (x_pos, 0.003), rotation=80)"
      ],
      "execution_count": 0,
      "outputs": [
        {
          "output_type": "display_data",
          "data": {
            "image/png": "[encoded data removed]",
            "text/plain": [
              "<Figure size 1440x360 with 1 Axes>"
            ]
          },
          "metadata": {
            "tags": []
          }
        }
      ]
    },
    {
      "metadata": {
        "id": "BzKAyEvmraN-",
        "colab_type": "text"
      },
      "cell_type": "markdown",
      "source": [
        "## Let's try 2d embeddings"
      ]
    },
    {
      "metadata": {
        "id": "brvMGP0koGBu",
        "colab_type": "code",
        "colab": {}
      },
      "cell_type": "code",
      "source": [
        "input_dim = len(airports)\n",
        "embedding_dim = 2\n",
        "\n",
        "model = Sequential()\n",
        "\n",
        "model.add(Embedding(name='embedding',\n",
        "                    input_dim=input_dim, \n",
        "                    output_dim=embedding_dim, \n",
        "                    input_length=1))\n",
        "\n",
        "model.add(Flatten())\n",
        "\n",
        "model.add(Dense(units=50, activation='relu'))\n",
        "model.add(Dense(units=50, activation='relu'))\n",
        "\n",
        "model.add(Dense(units=dictionary_size, name='output', activation='softmax'))\n",
        "\n",
        "model.compile(optimizer='adam', loss='binary_crossentropy', metrics=['acc'])"
      ],
      "execution_count": 0,
      "outputs": []
    },
    {
      "metadata": {
        "id": "We_-4Gt7rZOu",
        "colab_type": "code",
        "outputId": "c390461c-49c4-4720-c5cb-c2373a834559",
        "colab": {
          "base_uri": "https://localhost:8080/",
          "height": 452
        }
      },
      "cell_type": "code",
      "source": [
        "%time history = model.fit(x, Y, epochs=2000, verbose=0)\n",
        "plt.plot(history.history['loss'])"
      ],
      "execution_count": 0,
      "outputs": [
        {
          "output_type": "stream",
          "text": [
            "/usr/local/lib/python3.6/dist-packages/tensorflow/python/ops/gradients_impl.py:112: UserWarning: Converting sparse IndexedSlices to a dense Tensor of unknown shape. This may consume a large amount of memory.\n",
            "  \"Converting sparse IndexedSlices to a dense Tensor of unknown shape. \"\n"
          ],
          "name": "stderr"
        },
        {
          "output_type": "stream",
          "text": [
            "CPU times: user 8.05 s, sys: 223 ms, total: 8.27 s\n",
            "Wall time: 5.31 s\n"
          ],
          "name": "stdout"
        },
        {
          "output_type": "execute_result",
          "data": {
            "text/plain": [
              "[<matplotlib.lines.Line2D at 0x7fbc621aa390>]"
            ]
          },
          "metadata": {
            "tags": []
          },
          "execution_count": 24
        },
        {
          "output_type": "display_data",
          "data": {
            "image/png": "[encoded data removed]",
            "text/plain": [
              "<Figure size 576x396 with 1 Axes>"
            ]
          },
          "metadata": {
            "tags": []
          }
        }
      ]
    },
    {
      "metadata": {
        "id": "AV0Zhti1rdCo",
        "colab_type": "code",
        "outputId": "3fd2533c-a173-4a4b-abaf-526c2c9c2a0e",
        "colab": {
          "base_uri": "https://localhost:8080/",
          "height": 51
        }
      },
      "cell_type": "code",
      "source": [
        "model.evaluate(x, Y)"
      ],
      "execution_count": 0,
      "outputs": [
        {
          "output_type": "stream",
          "text": [
            "\r12/12 [==============================] - 0s 8ms/step\n"
          ],
          "name": "stdout"
        },
        {
          "output_type": "execute_result",
          "data": {
            "text/plain": [
              "[4.309469699859619, 1.0]"
            ]
          },
          "metadata": {
            "tags": []
          },
          "execution_count": 25
        }
      ]
    },
    {
      "metadata": {
        "id": "Cdwtud3isAFU",
        "colab_type": "code",
        "outputId": "d7cbd44c-7600-4bf4-ca01-6ae651ac9bb5",
        "colab": {
          "base_uri": "https://localhost:8080/",
          "height": 221
        }
      },
      "cell_type": "code",
      "source": [
        "embedding_layer = model.get_layer('embedding')\n",
        "embedding_model = Model(inputs=model.input, outputs=embedding_layer.output)\n",
        "embeddings_2d = embedding_model.predict(airport_numbers).reshape(-1, 2)\n",
        "embeddings_2d"
      ],
      "execution_count": 0,
      "outputs": [
        {
          "output_type": "execute_result",
          "data": {
            "text/plain": [
              "array([[ 0.6588234 ,  0.72440135],\n",
              "       [ 0.09820233,  0.18305196],\n",
              "       [-0.21812014,  0.6975881 ],\n",
              "       [ 0.2177169 ,  0.7726665 ],\n",
              "       [ 0.4784104 , -0.65391546],\n",
              "       [ 0.1488204 , -0.15126473],\n",
              "       [-0.6592642 , -0.3380253 ],\n",
              "       [ 0.7643308 ,  0.31586775],\n",
              "       [ 0.7528895 , -0.23486285],\n",
              "       [-0.20792787, -0.6378044 ],\n",
              "       [-0.22200568,  0.18276413],\n",
              "       [-0.80323684,  0.45070872]], dtype=float32)"
            ]
          },
          "metadata": {
            "tags": []
          },
          "execution_count": 26
        }
      ]
    },
    {
      "metadata": {
        "id": "2psrjT69rr30",
        "colab_type": "code",
        "outputId": "166a7f3d-04ba-4fd4-cd6f-737904d155cb",
        "colab": {
          "base_uri": "https://localhost:8080/",
          "height": 551
        }
      },
      "cell_type": "code",
      "source": [
        "plt.scatter(embeddings_2d[:, 0], embeddings_2d[:, 1])\n",
        "for name, x_pos, y_pos in zip(airport_names, embeddings_2d[:, 0], embeddings_2d[:, 1]):\n",
        "  print(name, (x_pos, y_pos))\n",
        "  plt.annotate(name, (x_pos, y_pos))"
      ],
      "execution_count": 0,
      "outputs": [
        {
          "output_type": "stream",
          "text": [
            "HAM (0.6588234, 0.72440135)\n",
            "FRA (0.098202325, 0.18305196)\n",
            "CPH (-0.21812014, 0.6975881)\n",
            "ARN (0.2177169, 0.7726665)\n",
            "BGO (0.4784104, -0.65391546)\n",
            "OSL (0.1488204, -0.15126473)\n",
            "LHR (-0.6592642, -0.3380253)\n",
            "CDG (0.7643308, 0.31586775)\n",
            "SFO (0.7528895, -0.23486285)\n",
            "AUS (-0.20792787, -0.6378044)\n",
            "EWR (-0.22200568, 0.18276413)\n",
            "JFK (-0.80323684, 0.45070872)\n"
          ],
          "name": "stdout"
        },
        {
          "output_type": "display_data",
          "data": {
            "image/png": "[encoded data removed]",
            "text/plain": [
              "<Figure size 576x396 with 1 Axes>"
            ]
          },
          "metadata": {
            "tags": []
          }
        }
      ]
    },
    {
      "metadata": {
        "id": "f-RkchkpzRvh",
        "colab_type": "text"
      },
      "cell_type": "markdown",
      "source": [
        "## Not impressed?\n",
        "\n",
        "* how good embeddings work depends on how you train similarities into them\n",
        "* a dozen random texts typically do not contain enough information\n",
        "* retry with the more refined descriptions you can find directly under the airport description on the top of this notebook. Comment it in an rerun the notebook"
      ]
    },
    {
      "metadata": {
        "id": "tOIXz_KKspwF",
        "colab_type": "code",
        "colab": {}
      },
      "cell_type": "code",
      "source": [
        ""
      ],
      "execution_count": 0,
      "outputs": []
    }
  ]
}