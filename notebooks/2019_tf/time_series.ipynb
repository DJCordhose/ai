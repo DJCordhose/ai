{
  "nbformat": 4,
  "nbformat_minor": 0,
  "metadata": {
    "colab": {
      "name": "time_series.ipynb",
      "version": "0.3.2",
      "provenance": [],
      "collapsed_sections": [],
      "toc_visible": true,
      "include_colab_link": true
    },
    "kernelspec": {
      "name": "python3",
      "display_name": "Python 3"
    }
  },
  "cells": [
    {
      "cell_type": "markdown",
      "metadata": {
        "id": "view-in-github",
        "colab_type": "text"
      },
      "source": [
        "<a href=\"https://colab.research.google.com/github/DJCordhose/ai/blob/master/notebooks/2019_tf/time_series.ipynb\" target=\"_parent\"><img src=\"https://colab.research.google.com/assets/colab-badge.svg\" alt=\"Open In Colab\"/></a>"
      ]
    },
    {
      "metadata": {
        "id": "t0SNZ3gZDa36",
        "colab_type": "text"
      },
      "cell_type": "markdown",
      "source": [
        "# Time Series / Sequences\n",
        "\n",
        "Example, some code and a lot of inspiration taken from: https://machinelearningmastery.com/how-to-develop-lstm-models-for-time-series-forecasting/\n"
      ]
    },
    {
      "metadata": {
        "id": "qg63cDunD4s4",
        "colab_type": "text"
      },
      "cell_type": "markdown",
      "source": [
        "## Univariate Sequences\n",
        "\n",
        "just one variable per time step\n",
        "\n",
        "### Challenge\n",
        "\n",
        "We have a known series of events, possibly in time and you want to know what is the next event. Like this\n",
        "\n",
        "[10, 20, 30, 40, 50, 60, 70, 80, 90]"
      ]
    },
    {
      "metadata": {
        "id": "RB7EfRrWDJE0",
        "colab_type": "code",
        "colab": {}
      },
      "cell_type": "code",
      "source": [
        "# univariate data preparation\n",
        "import numpy as np\n",
        "\n",
        "# split a univariate sequence into samples\n",
        "def split_sequence(sequence, n_steps):\n",
        "\tX, y = list(), list()\n",
        "\tfor i in range(len(sequence)):\n",
        "\t\t# find the end of this pattern\n",
        "\t\tend_ix = i + n_steps\n",
        "\t\t# check if we are beyond the sequence\n",
        "\t\tif end_ix > len(sequence)-1:\n",
        "\t\t\tbreak\n",
        "\t\t# gather input and output parts of the pattern\n",
        "\t\tseq_x, seq_y = sequence[i:end_ix], sequence[end_ix]\n",
        "\t\tX.append(seq_x)\n",
        "\t\ty.append(seq_y)\n",
        "\treturn np.array(X), np.array(y)"
      ],
      "execution_count": 0,
      "outputs": []
    },
    {
      "metadata": {
        "id": "PSbObY6YEWhh",
        "colab_type": "code",
        "outputId": "d214ac33-07c1-4ec9-c05f-c4f61dd23f51",
        "colab": {
          "base_uri": "https://localhost:8080/",
          "height": 120
        }
      },
      "cell_type": "code",
      "source": [
        "# define input sequence\n",
        "raw_seq = [10, 20, 30, 40, 50, 60, 70, 80, 90]\n",
        "\n",
        "# choose a number of time steps\n",
        "n_steps = 3\n",
        "\n",
        "# split into samples\n",
        "X, y = split_sequence(raw_seq, n_steps)\n",
        "\n",
        "# summarize the data\n",
        "list(zip(X, y))"
      ],
      "execution_count": 2,
      "outputs": [
        {
          "output_type": "execute_result",
          "data": {
            "text/plain": [
              "[(array([10, 20, 30]), 40),\n",
              " (array([20, 30, 40]), 50),\n",
              " (array([30, 40, 50]), 60),\n",
              " (array([40, 50, 60]), 70),\n",
              " (array([50, 60, 70]), 80),\n",
              " (array([60, 70, 80]), 90)]"
            ]
          },
          "metadata": {
            "tags": []
          },
          "execution_count": 2
        }
      ]
    },
    {
      "metadata": {
        "id": "yqgEV0kyF8Q6",
        "colab_type": "code",
        "outputId": "c7b67e42-12e5-4aa1-8617-28f70d93db28",
        "colab": {
          "base_uri": "https://localhost:8080/",
          "height": 120
        }
      },
      "cell_type": "code",
      "source": [
        "X"
      ],
      "execution_count": 3,
      "outputs": [
        {
          "output_type": "execute_result",
          "data": {
            "text/plain": [
              "array([[10, 20, 30],\n",
              "       [20, 30, 40],\n",
              "       [30, 40, 50],\n",
              "       [40, 50, 60],\n",
              "       [50, 60, 70],\n",
              "       [60, 70, 80]])"
            ]
          },
          "metadata": {
            "tags": []
          },
          "execution_count": 3
        }
      ]
    },
    {
      "metadata": {
        "id": "oOLHQ0m8Hld-",
        "colab_type": "text"
      },
      "cell_type": "markdown",
      "source": [
        "### Converting shapes\n",
        "\n",
        "* one of the most frequent, yet most tedious steps\n",
        "* match between what you have and what an interface needs\n",
        "* expected input of RNN: 3D tensor featureswith shape (samples, timesteps, input_dim)\n",
        "* we have: (samples, timesteps)\n",
        "* reshape on np arrays can do all that"
      ]
    },
    {
      "metadata": {
        "id": "HUpCkSRqFzZK",
        "colab_type": "code",
        "outputId": "09fe792f-182b-476c-9888-b88aa66e2981",
        "colab": {
          "base_uri": "https://localhost:8080/",
          "height": 414
        }
      },
      "cell_type": "code",
      "source": [
        "# reshape from [samples, timesteps] into [samples, timesteps, features]\n",
        "n_features = 1\n",
        "X = X.reshape((X.shape[0], X.shape[1], n_features))\n",
        "X"
      ],
      "execution_count": 4,
      "outputs": [
        {
          "output_type": "execute_result",
          "data": {
            "text/plain": [
              "array([[[10],\n",
              "        [20],\n",
              "        [30]],\n",
              "\n",
              "       [[20],\n",
              "        [30],\n",
              "        [40]],\n",
              "\n",
              "       [[30],\n",
              "        [40],\n",
              "        [50]],\n",
              "\n",
              "       [[40],\n",
              "        [50],\n",
              "        [60]],\n",
              "\n",
              "       [[50],\n",
              "        [60],\n",
              "        [70]],\n",
              "\n",
              "       [[60],\n",
              "        [70],\n",
              "        [80]]])"
            ]
          },
          "metadata": {
            "tags": []
          },
          "execution_count": 4
        }
      ]
    },
    {
      "metadata": {
        "id": "UCAbYYgLDmzh",
        "colab_type": "code",
        "colab": {}
      },
      "cell_type": "code",
      "source": [
        "import tensorflow as tf\n",
        "from tensorflow import keras\n",
        "from tensorflow.keras.layers import Dense, LSTM, GRU, SimpleRNN, Bidirectional\n",
        "from tensorflow.keras.models import Sequential, Model\n",
        "\n",
        "model = Sequential()\n",
        "model.add(SimpleRNN(units=50, activation='relu', input_shape=(n_steps, n_features), name=\"RNN_Input\"))\n",
        "model.add(Dense(units=1, name=\"Linear_Output\"))\n",
        "model.compile(optimizer='adam', loss='mse')"
      ],
      "execution_count": 0,
      "outputs": []
    },
    {
      "metadata": {
        "id": "Yo1GD73MFfwW",
        "colab_type": "code",
        "outputId": "65289cc1-e5c7-4472-c367-d6c4c9126bdd",
        "colab": {
          "base_uri": "https://localhost:8080/",
          "height": 51
        }
      },
      "cell_type": "code",
      "source": [
        "%time history = model.fit(X, y, epochs=500, verbose=0)"
      ],
      "execution_count": 6,
      "outputs": [
        {
          "output_type": "stream",
          "text": [
            "CPU times: user 1.58 s, sys: 56.5 ms, total: 1.64 s\n",
            "Wall time: 1.3 s\n"
          ],
          "name": "stdout"
        }
      ]
    },
    {
      "metadata": {
        "id": "raJ0DsbqGZET",
        "colab_type": "code",
        "outputId": "25ff2b73-d927-4f4b-f5c7-0794d91a875c",
        "colab": {
          "base_uri": "https://localhost:8080/",
          "height": 364
        }
      },
      "cell_type": "code",
      "source": [
        "import matplotlib.pyplot as plt\n",
        "\n",
        "plt.plot(history.history['loss'])"
      ],
      "execution_count": 7,
      "outputs": [
        {
          "output_type": "execute_result",
          "data": {
            "text/plain": [
              "[<matplotlib.lines.Line2D at 0x7f2e151bfba8>]"
            ]
          },
          "metadata": {
            "tags": []
          },
          "execution_count": 7
        },
        {
          "output_type": "display_data",
          "data": {
            "image/png": "[encoded data removed]",
            "text/plain": [
              "<Figure size 576x396 with 1 Axes>"
            ]
          },
          "metadata": {
            "tags": []
          }
        }
      ]
    },
    {
      "metadata": {
        "id": "2ryB1sVmGwok",
        "colab_type": "code",
        "outputId": "84a28a65-80c1-44d2-99ce-3417aabf4cca",
        "colab": {
          "base_uri": "https://localhost:8080/",
          "height": 137
        }
      },
      "cell_type": "code",
      "source": [
        "# this does not look too bad\n",
        "X_sample = np.array([[10, 20, 30], [70, 80, 90]])\n",
        "X_sample = X_sample.reshape((X_sample.shape[0], X_sample.shape[1], n_features))\n",
        "X_sample"
      ],
      "execution_count": 8,
      "outputs": [
        {
          "output_type": "execute_result",
          "data": {
            "text/plain": [
              "array([[[10],\n",
              "        [20],\n",
              "        [30]],\n",
              "\n",
              "       [[70],\n",
              "        [80],\n",
              "        [90]]])"
            ]
          },
          "metadata": {
            "tags": []
          },
          "execution_count": 8
        }
      ]
    },
    {
      "metadata": {
        "id": "5mzPZ_OzIXR0",
        "colab_type": "code",
        "outputId": "65d49cb9-a4f9-4a25-bf79-9c63d86b714c",
        "colab": {
          "base_uri": "https://localhost:8080/",
          "height": 51
        }
      },
      "cell_type": "code",
      "source": [
        "y_pred = model.predict(X_sample)\n",
        "y_pred"
      ],
      "execution_count": 9,
      "outputs": [
        {
          "output_type": "execute_result",
          "data": {
            "text/plain": [
              "array([[ 38.85929],\n",
              "       [100.90913]], dtype=float32)"
            ]
          },
          "metadata": {
            "tags": []
          },
          "execution_count": 9
        }
      ]
    },
    {
      "metadata": {
        "id": "EXBe7ud3PLS-",
        "colab_type": "code",
        "colab": {}
      },
      "cell_type": "code",
      "source": [
        "def predict(model, samples, n_features=1):\n",
        "  input = np.array(samples)\n",
        "  input = input.reshape((input.shape[0], input.shape[1], n_features))\n",
        "  y_pred = model.predict(input)\n",
        "  return y_pred"
      ],
      "execution_count": 0,
      "outputs": []
    },
    {
      "metadata": {
        "id": "V4kWLPaNLMf0",
        "colab_type": "code",
        "outputId": "09c12631-9a02-45f7-bfdb-dab458dc3ef8",
        "colab": {
          "base_uri": "https://localhost:8080/",
          "height": 68
        }
      },
      "cell_type": "code",
      "source": [
        "# do not look too close, though\n",
        "predict(model, [[100, 110, 120], [200, 210, 220], [200, 300, 400]])"
      ],
      "execution_count": 11,
      "outputs": [
        {
          "output_type": "execute_result",
          "data": {
            "text/plain": [
              "array([[133.06836],\n",
              "       [240.18936],\n",
              "       [482.26587]], dtype=float32)"
            ]
          },
          "metadata": {
            "tags": []
          },
          "execution_count": 11
        }
      ]
    },
    {
      "metadata": {
        "id": "bRq8b8KjJbDH",
        "colab_type": "text"
      },
      "cell_type": "markdown",
      "source": [
        "### Input and output of an RNN layer"
      ]
    },
    {
      "metadata": {
        "id": "OKsUslnrJg-N",
        "colab_type": "code",
        "colab": {
          "base_uri": "https://localhost:8080/",
          "height": 207
        },
        "outputId": "74bb4a06-e4b9-4984-82a2-573eb4722d2c"
      },
      "cell_type": "code",
      "source": [
        "# https://keras.io/layers/recurrent/\n",
        "# input: (samples, timesteps, input_dim)\n",
        "# output: (samples, units)\n",
        "\n",
        "# let's have a look at the actual output for an example\n",
        "rnn_layer = model.get_layer(\"RNN_Input\")\n",
        "model_stub = Model(inputs = model.input, outputs = rnn_layer.output)\n",
        "hidden = predict(model_stub, [[10, 20, 30]])\n",
        "hidden"
      ],
      "execution_count": 12,
      "outputs": [
        {
          "output_type": "execute_result",
          "data": {
            "text/plain": [
              "array([[ 6.312214  ,  0.        ,  0.        ,  7.8945413 ,  0.        ,\n",
              "         0.        ,  8.674644  , 10.3216095 ,  0.        ,  0.        ,\n",
              "        10.498358  , 11.888763  ,  8.759704  ,  0.        , 12.425329  ,\n",
              "         0.        ,  0.        ,  0.        ,  0.        ,  0.        ,\n",
              "         0.        , 13.695377  ,  0.        ,  0.        ,  0.71732473,\n",
              "         0.        ,  0.        ,  0.        ,  9.951456  ,  0.        ,\n",
              "        12.402657  , 10.01326   , 10.412435  ,  2.1506536 ,  0.        ,\n",
              "         0.        ,  0.        ,  0.        , 23.847918  ,  0.        ,\n",
              "         0.        ,  0.        ,  8.327042  ,  0.        ,  0.        ,\n",
              "        13.307503  ,  0.        ,  6.722261  ,  0.40568876, 13.559036  ]],\n",
              "      dtype=float32)"
            ]
          },
          "metadata": {
            "tags": []
          },
          "execution_count": 12
        }
      ]
    },
    {
      "metadata": {
        "id": "M8LfywO1JyRF",
        "colab_type": "text"
      },
      "cell_type": "markdown",
      "source": [
        "#### What do we see?\n",
        "* each unit (50) has a single output\n",
        "* as a sidenote you nicely see the RELU nature of the output\n",
        "* so the timesteps are lost\n",
        "* we are only looking at the final output\n",
        "* still with each timestep, the layer does produce a unique output we can use"
      ]
    },
    {
      "metadata": {
        "id": "OenC414DbKGh",
        "colab_type": "text"
      },
      "cell_type": "markdown",
      "source": [
        "### We need to look into RNNs a bit more deeply now\n",
        "\n",
        "#### RNNs - Networks with Loops\n",
        "<img src='https://djcordhose.github.io/ai/img/nlp/colah/RNN-rolled.png' height=200>\n",
        "\n",
        "http://colah.github.io/posts/2015-08-Understanding-LSTMs/\n",
        "#### Unrolling the loop\n",
        "<img src='https://djcordhose.github.io/ai/img/nlp/colah/RNN-unrolled.png'>\n",
        "\n",
        "http://colah.github.io/posts/2015-08-Understanding-LSTMs/\n",
        "#### Simple RNN internals\n",
        "\n",
        "<img src='https://djcordhose.github.io/ai/img/nlp/fchollet_rnn.png'>\n",
        "\n",
        "##  $output_t = \\tanh(W input_t + U output_{t-1} + b)$\n",
        "\n",
        "From Deep Learning with Python, Chapter 6, François Chollet, Manning: https://livebook.manning.com/#!/book/deep-learning-with-python/chapter-6/129\n",
        "\n",
        "#### Activation functions\n",
        "\n",
        "<img src='https://djcordhose.github.io/ai/img/sigmoid-activation.png' height=200>\n",
        "\n",
        "Sigmoid compressing between 0 and 1\n",
        "\n",
        "<img src='https://djcordhose.github.io/ai/img/tanh-activation.png' height=200>\n",
        "\n",
        "Hyperbolic tangent, like sigmoind, but compressing between -1 and 1, thus allowing for negative values as well"
      ]
    },
    {
      "metadata": {
        "id": "IWl0BJUJMJ_x",
        "colab_type": "text"
      },
      "cell_type": "markdown",
      "source": [
        "## Advanced part follows"
      ]
    },
    {
      "metadata": {
        "id": "3PBtxVF7Np1B",
        "colab_type": "code",
        "outputId": "2eb3dddf-579f-4241-81e7-5797bd6b8832",
        "colab": {
          "base_uri": "https://localhost:8080/",
          "height": 172
        }
      },
      "cell_type": "code",
      "source": [
        "# https://arxiv.org/ftp/arxiv/papers/1701/1701.05923.pdf\n",
        "# n = output dimension\n",
        "# m = input dimension\n",
        "# Total number of parameters for \n",
        "# Simple RNN = n**2 + nm + n\n",
        "# GRU = 3 × (n**2 + nm + n)\n",
        "# LSTM = 4 × (n**2 + nm + n)\n",
        "\n",
        "rnn_units = 1\n",
        "\n",
        "model = Sequential()\n",
        "model.add(SimpleRNN(units=rnn_units, activation='relu', input_shape=(n_steps, n_features), name=\"RNN_Input\"))\n",
        "# model.add(GRU(units=rnn_units, activation='relu', input_shape=(n_steps, n_features), name=\"RNN_Input\"))\n",
        "model.summary()"
      ],
      "execution_count": 13,
      "outputs": [
        {
          "output_type": "stream",
          "text": [
            "_________________________________________________________________\n",
            "Layer (type)                 Output Shape              Param #   \n",
            "=================================================================\n",
            "RNN_Input (SimpleRNN)        (None, 1)                 3         \n",
            "=================================================================\n",
            "Total params: 3\n",
            "Trainable params: 3\n",
            "Non-trainable params: 0\n",
            "_________________________________________________________________\n"
          ],
          "name": "stdout"
        }
      ]
    },
    {
      "metadata": {
        "id": "2ncdn2LHRS5_",
        "colab_type": "code",
        "outputId": "cc5d5f0a-d845-4a06-a3e2-d8be51627bdd",
        "colab": {
          "base_uri": "https://localhost:8080/",
          "height": 34
        }
      },
      "cell_type": "code",
      "source": [
        "output_dimension = rnn_units\n",
        "input_dimension = n_features\n",
        "parameters = 1 * (output_dimension ** 2 +  output_dimension * input_dimension + output_dimension) \n",
        "parameters"
      ],
      "execution_count": 14,
      "outputs": [
        {
          "output_type": "execute_result",
          "data": {
            "text/plain": [
              "3"
            ]
          },
          "metadata": {
            "tags": []
          },
          "execution_count": 14
        }
      ]
    },
    {
      "metadata": {
        "id": "edALlkf0Vhdj",
        "colab_type": "code",
        "outputId": "76e518b5-83ca-49dd-ac69-cab0233ac799",
        "colab": {
          "base_uri": "https://localhost:8080/",
          "height": 34
        }
      },
      "cell_type": "code",
      "source": [
        "# from only a single output for the final timestep\n",
        "# ideal for feeding into something that *does not* handle timesteps\n",
        "rnn_units = 1\n",
        "model = Sequential([\n",
        "    SimpleRNN(units=rnn_units, activation='relu', input_shape=(n_steps, n_features))\n",
        "])\n",
        "predict(model, [[10, 20, 30]])"
      ],
      "execution_count": 15,
      "outputs": [
        {
          "output_type": "execute_result",
          "data": {
            "text/plain": [
              "array([[58.223083]], dtype=float32)"
            ]
          },
          "metadata": {
            "tags": []
          },
          "execution_count": 15
        }
      ]
    },
    {
      "metadata": {
        "id": "JaW6YtGrJkIa",
        "colab_type": "text"
      },
      "cell_type": "markdown",
      "source": [
        "### Multi Layer RNNs"
      ]
    },
    {
      "metadata": {
        "id": "Fyy6tY6iS9aG",
        "colab_type": "code",
        "outputId": "f876dc85-e5ca-401b-eb10-f288575d30c9",
        "colab": {
          "base_uri": "https://localhost:8080/",
          "height": 68
        }
      },
      "cell_type": "code",
      "source": [
        "# to one output for each timestep\n",
        "# ideal for feeding into something that *expects* timesteps\n",
        "rnn_units = 1\n",
        "model = Sequential([\n",
        "    SimpleRNN(units=rnn_units, activation='relu', input_shape=(n_steps, n_features), return_sequences=True)\n",
        "])\n",
        "\n",
        "# https://keras.io/layers/recurrent/\n",
        "# input: (samples, timesteps, input_dim)\n",
        "# output with return_sequences: (samples, timesteps, units)\n",
        "\n",
        "predict(model, [[10, 20, 30]])"
      ],
      "execution_count": 16,
      "outputs": [
        {
          "output_type": "execute_result",
          "data": {
            "text/plain": [
              "array([[[ 7.988285],\n",
              "        [23.964855],\n",
              "        [47.92971 ]]], dtype=float32)"
            ]
          },
          "metadata": {
            "tags": []
          },
          "execution_count": 16
        }
      ]
    },
    {
      "metadata": {
        "id": "2F2BARiZVKcZ",
        "colab_type": "code",
        "outputId": "c1e3f782-5cf7-46f0-b255-8e757a22b204",
        "colab": {
          "base_uri": "https://localhost:8080/",
          "height": 241
        }
      },
      "cell_type": "code",
      "source": [
        "rnn_units = 50\n",
        "\n",
        "model = Sequential([\n",
        "    SimpleRNN(units=rnn_units, activation='relu', input_shape=(n_steps, n_features), return_sequences=True, name=\"RNN_Input\"),\n",
        "    SimpleRNN(units=rnn_units, activation='relu', name=\"RNN_Latent\"),\n",
        "    Dense(units=1, name=\"Linear_Output\")\n",
        "])\n",
        "model.compile(optimizer='adam', loss='mse')\n",
        "model.summary()"
      ],
      "execution_count": 17,
      "outputs": [
        {
          "output_type": "stream",
          "text": [
            "_________________________________________________________________\n",
            "Layer (type)                 Output Shape              Param #   \n",
            "=================================================================\n",
            "RNN_Input (SimpleRNN)        (None, 3, 50)             2600      \n",
            "_________________________________________________________________\n",
            "RNN_Latent (SimpleRNN)       (None, 50)                5050      \n",
            "_________________________________________________________________\n",
            "Linear_Output (Dense)        (None, 1)                 51        \n",
            "=================================================================\n",
            "Total params: 7,701\n",
            "Trainable params: 7,701\n",
            "Non-trainable params: 0\n",
            "_________________________________________________________________\n"
          ],
          "name": "stdout"
        }
      ]
    },
    {
      "metadata": {
        "id": "CeeF8jd2nerI",
        "colab_type": "code",
        "outputId": "f6d28f40-a5f3-4bdd-b2fe-1157518c3c84",
        "colab": {
          "base_uri": "https://localhost:8080/",
          "height": 398
        }
      },
      "cell_type": "code",
      "source": [
        "%time history = model.fit(X, y, epochs=500, verbose=0)\n",
        "plt.plot(history.history['loss'])"
      ],
      "execution_count": 18,
      "outputs": [
        {
          "output_type": "stream",
          "text": [
            "CPU times: user 2.51 s, sys: 58.4 ms, total: 2.57 s\n",
            "Wall time: 2.01 s\n"
          ],
          "name": "stdout"
        },
        {
          "output_type": "execute_result",
          "data": {
            "text/plain": [
              "[<matplotlib.lines.Line2D at 0x7f2e11aa7048>]"
            ]
          },
          "metadata": {
            "tags": []
          },
          "execution_count": 18
        },
        {
          "output_type": "display_data",
          "data": {
            "image/png": "[encoded data removed]",
            "text/plain": [
              "<Figure size 576x396 with 1 Axes>"
            ]
          },
          "metadata": {
            "tags": []
          }
        }
      ]
    },
    {
      "metadata": {
        "id": "VB2ZXbCRntl4",
        "colab_type": "code",
        "outputId": "014429f7-9b0e-4968-99bb-8f8e14a528d2",
        "colab": {
          "base_uri": "https://localhost:8080/",
          "height": 103
        }
      },
      "cell_type": "code",
      "source": [
        "predict(model, [[10, 20, 30], [70, 80, 90], [100, 110, 120], [200, 210, 220], [200, 300, 400]])"
      ],
      "execution_count": 19,
      "outputs": [
        {
          "output_type": "execute_result",
          "data": {
            "text/plain": [
              "array([[ 40.016705],\n",
              "       [101.12904 ],\n",
              "       [134.53055 ],\n",
              "       [246.12546 ],\n",
              "       [490.72736 ]], dtype=float32)"
            ]
          },
          "metadata": {
            "tags": []
          },
          "execution_count": 19
        }
      ]
    },
    {
      "metadata": {
        "id": "oWGy12tnr-mC",
        "colab_type": "text"
      },
      "cell_type": "markdown",
      "source": [
        "### Bidirectional RNNs"
      ]
    },
    {
      "metadata": {
        "id": "-XEfPiSoq880",
        "colab_type": "code",
        "colab": {}
      },
      "cell_type": "code",
      "source": [
        "rnn_units = 50\n",
        "\n",
        "model = Sequential([\n",
        "    Bidirectional(SimpleRNN(units=rnn_units, activation='relu', input_shape=(n_steps, n_features), name=\"RNN_Input\")),\n",
        "    Dense(units=1, name=\"Linear_Output\")\n",
        "])\n",
        "model.compile(optimizer='adam', loss='mse')"
      ],
      "execution_count": 0,
      "outputs": []
    },
    {
      "metadata": {
        "id": "C9Qb6GfYslm4",
        "colab_type": "code",
        "outputId": "178b68d0-0ee7-4071-d722-5c3b2279739c",
        "colab": {
          "base_uri": "https://localhost:8080/",
          "height": 398
        }
      },
      "cell_type": "code",
      "source": [
        "%time history = model.fit(X, y, epochs=500, verbose=0)\n",
        "plt.plot(history.history['loss'])"
      ],
      "execution_count": 21,
      "outputs": [
        {
          "output_type": "stream",
          "text": [
            "CPU times: user 2.92 s, sys: 76.3 ms, total: 3 s\n",
            "Wall time: 2.5 s\n"
          ],
          "name": "stdout"
        },
        {
          "output_type": "execute_result",
          "data": {
            "text/plain": [
              "[<matplotlib.lines.Line2D at 0x7f2e10f6f940>]"
            ]
          },
          "metadata": {
            "tags": []
          },
          "execution_count": 21
        },
        {
          "output_type": "display_data",
          "data": {
            "image/png": "[encoded data removed]",
            "text/plain": [
              "<Figure size 576x396 with 1 Axes>"
            ]
          },
          "metadata": {
            "tags": []
          }
        }
      ]
    },
    {
      "metadata": {
        "id": "wHFpYY9hsQ5y",
        "colab_type": "code",
        "outputId": "a030c86e-6c1f-4a11-c293-a32c88c62455",
        "colab": {
          "base_uri": "https://localhost:8080/",
          "height": 103
        }
      },
      "cell_type": "code",
      "source": [
        "predict(model, [[10, 20, 30], [70, 80, 90], [100, 110, 120], [200, 210, 220], [200, 300, 400]])"
      ],
      "execution_count": 22,
      "outputs": [
        {
          "output_type": "execute_result",
          "data": {
            "text/plain": [
              "array([[ 39.936214],\n",
              "       [100.38759 ],\n",
              "       [131.34027 ],\n",
              "       [234.24709 ],\n",
              "       [491.69153 ]], dtype=float32)"
            ]
          },
          "metadata": {
            "tags": []
          },
          "execution_count": 22
        }
      ]
    },
    {
      "metadata": {
        "id": "xJwXPkE5vEIZ",
        "colab_type": "text"
      },
      "cell_type": "markdown",
      "source": [
        "### LSMTs / GRUs\n",
        "\n",
        "* mainly beneficial for long sequences\n",
        "* but also 3-4 times more expensive\n",
        "* might not have better results for short sequences like these"
      ]
    },
    {
      "metadata": {
        "id": "xISS3v8Zu-C-",
        "colab_type": "code",
        "outputId": "700c6bd3-0d4d-4401-f881-4dbfa42bd7c0",
        "colab": {
          "base_uri": "https://localhost:8080/",
          "height": 207
        }
      },
      "cell_type": "code",
      "source": [
        "rnn_units = 50\n",
        "\n",
        "model = Sequential([\n",
        "    LSTM(units=rnn_units, activation='relu', input_shape=(n_steps, n_features), name=\"RNN_Input\"),\n",
        "    Dense(units=1, name=\"Linear_Output\")\n",
        "])\n",
        "model.compile(optimizer='adam', loss='mse')\n",
        "model.summary()"
      ],
      "execution_count": 23,
      "outputs": [
        {
          "output_type": "stream",
          "text": [
            "_________________________________________________________________\n",
            "Layer (type)                 Output Shape              Param #   \n",
            "=================================================================\n",
            "RNN_Input (LSTM)             (None, 50)                10400     \n",
            "_________________________________________________________________\n",
            "Linear_Output (Dense)        (None, 1)                 51        \n",
            "=================================================================\n",
            "Total params: 10,451\n",
            "Trainable params: 10,451\n",
            "Non-trainable params: 0\n",
            "_________________________________________________________________\n"
          ],
          "name": "stdout"
        }
      ]
    },
    {
      "metadata": {
        "id": "teTa0X7txFf2",
        "colab_type": "code",
        "outputId": "976e3c6b-0db8-47d4-d441-1dac5584e887",
        "colab": {
          "base_uri": "https://localhost:8080/",
          "height": 34
        }
      },
      "cell_type": "code",
      "source": [
        "output_dimension = rnn_units\n",
        "input_dimension = n_features\n",
        "parameters = 4 * (output_dimension ** 2 +  output_dimension * input_dimension + output_dimension) \n",
        "parameters"
      ],
      "execution_count": 24,
      "outputs": [
        {
          "output_type": "execute_result",
          "data": {
            "text/plain": [
              "10400"
            ]
          },
          "metadata": {
            "tags": []
          },
          "execution_count": 24
        }
      ]
    },
    {
      "metadata": {
        "id": "f9WIk3lgsvu-",
        "colab_type": "code",
        "outputId": "eb824538-35a4-4635-ada4-5800fdab43a1",
        "colab": {
          "base_uri": "https://localhost:8080/",
          "height": 398
        }
      },
      "cell_type": "code",
      "source": [
        "%time history = model.fit(X, y, epochs=500, verbose=0)\n",
        "plt.plot(history.history['loss'])"
      ],
      "execution_count": 25,
      "outputs": [
        {
          "output_type": "stream",
          "text": [
            "CPU times: user 4.78 s, sys: 154 ms, total: 4.93 s\n",
            "Wall time: 3.74 s\n"
          ],
          "name": "stdout"
        },
        {
          "output_type": "execute_result",
          "data": {
            "text/plain": [
              "[<matplotlib.lines.Line2D at 0x7f2e100e14a8>]"
            ]
          },
          "metadata": {
            "tags": []
          },
          "execution_count": 25
        },
        {
          "output_type": "display_data",
          "data": {
            "image/png": "[encoded data removed]",
            "text/plain": [
              "<Figure size 576x396 with 1 Axes>"
            ]
          },
          "metadata": {
            "tags": []
          }
        }
      ]
    },
    {
      "metadata": {
        "id": "PrChIAKivga_",
        "colab_type": "code",
        "outputId": "d8ac96bd-e533-4b76-ad9e-06315d439281",
        "colab": {
          "base_uri": "https://localhost:8080/",
          "height": 103
        }
      },
      "cell_type": "code",
      "source": [
        "predict(model, [[10, 20, 30], [70, 80, 90], [100, 110, 120], [200, 210, 220], [200, 300, 400]])"
      ],
      "execution_count": 26,
      "outputs": [
        {
          "output_type": "execute_result",
          "data": {
            "text/plain": [
              "array([[ 40.0106 ],\n",
              "       [103.86981],\n",
              "       [144.77574],\n",
              "       [285.70535],\n",
              "       [359.83347]], dtype=float32)"
            ]
          },
          "metadata": {
            "tags": []
          },
          "execution_count": 26
        }
      ]
    },
    {
      "metadata": {
        "id": "0-6-qw2Uw-kG",
        "colab_type": "code",
        "outputId": "2e821193-ac96-434c-93b7-7e9cc93c1aa7",
        "colab": {
          "base_uri": "https://localhost:8080/",
          "height": 207
        }
      },
      "cell_type": "code",
      "source": [
        "rnn_units = 50\n",
        "\n",
        "model = Sequential([\n",
        "    GRU(units=rnn_units, activation='relu', input_shape=(n_steps, n_features), name=\"RNN_Input\"),\n",
        "    Dense(units=1, name=\"Linear_Output\")\n",
        "])\n",
        "model.compile(optimizer='adam', loss='mse')\n",
        "model.summary()"
      ],
      "execution_count": 27,
      "outputs": [
        {
          "output_type": "stream",
          "text": [
            "_________________________________________________________________\n",
            "Layer (type)                 Output Shape              Param #   \n",
            "=================================================================\n",
            "RNN_Input (GRU)              (None, 50)                7800      \n",
            "_________________________________________________________________\n",
            "Linear_Output (Dense)        (None, 1)                 51        \n",
            "=================================================================\n",
            "Total params: 7,851\n",
            "Trainable params: 7,851\n",
            "Non-trainable params: 0\n",
            "_________________________________________________________________\n"
          ],
          "name": "stdout"
        }
      ]
    },
    {
      "metadata": {
        "id": "V96JbGbWxJYl",
        "colab_type": "code",
        "outputId": "1a71ad05-ad5b-49b1-ecd9-a671dd00370e",
        "colab": {
          "base_uri": "https://localhost:8080/",
          "height": 34
        }
      },
      "cell_type": "code",
      "source": [
        "output_dimension = rnn_units\n",
        "input_dimension = n_features\n",
        "parameters = 3 * (output_dimension ** 2 +  output_dimension * input_dimension + output_dimension) \n",
        "parameters"
      ],
      "execution_count": 28,
      "outputs": [
        {
          "output_type": "execute_result",
          "data": {
            "text/plain": [
              "7800"
            ]
          },
          "metadata": {
            "tags": []
          },
          "execution_count": 28
        }
      ]
    },
    {
      "metadata": {
        "id": "ZItEwNiBxKCn",
        "colab_type": "code",
        "outputId": "985909e7-7db8-42d5-cc62-e1b8333f5d70",
        "colab": {
          "base_uri": "https://localhost:8080/",
          "height": 402
        }
      },
      "cell_type": "code",
      "source": [
        "%time history = model.fit(X, y, epochs=500, verbose=0)\n",
        "plt.plot(history.history['loss'])"
      ],
      "execution_count": 29,
      "outputs": [
        {
          "output_type": "stream",
          "text": [
            "CPU times: user 4.49 s, sys: 108 ms, total: 4.6 s\n",
            "Wall time: 3.6 s\n"
          ],
          "name": "stdout"
        },
        {
          "output_type": "execute_result",
          "data": {
            "text/plain": [
              "[<matplotlib.lines.Line2D at 0x7f2e0f4ca668>]"
            ]
          },
          "metadata": {
            "tags": []
          },
          "execution_count": 29
        },
        {
          "output_type": "display_data",
          "data": {
            "image/png": "[encoded data removed]",
            "text/plain": [
              "<Figure size 576x396 with 1 Axes>"
            ]
          },
          "metadata": {
            "tags": []
          }
        }
      ]
    },
    {
      "metadata": {
        "id": "Qz7hU9x2xOCP",
        "colab_type": "code",
        "outputId": "f5fabe84-ba5d-4e0e-f8f3-0429e1f432ef",
        "colab": {
          "base_uri": "https://localhost:8080/",
          "height": 103
        }
      },
      "cell_type": "code",
      "source": [
        "predict(model, [[10, 20, 30], [70, 80, 90], [100, 110, 120], [200, 210, 220], [200, 300, 400]])"
      ],
      "execution_count": 30,
      "outputs": [
        {
          "output_type": "execute_result",
          "data": {
            "text/plain": [
              "array([[ 39.999657],\n",
              "       [102.85135 ],\n",
              "       [141.43193 ],\n",
              "       [267.96152 ],\n",
              "       [420.1227  ]], dtype=float32)"
            ]
          },
          "metadata": {
            "tags": []
          },
          "execution_count": 30
        }
      ]
    },
    {
      "metadata": {
        "id": "6O1p-MKsZoPx",
        "colab_type": "text"
      },
      "cell_type": "markdown",
      "source": [
        "## Multivariate LSTM Models"
      ]
    },
    {
      "metadata": {
        "id": "ogVauet4kvha",
        "colab_type": "text"
      },
      "cell_type": "markdown",
      "source": [
        "### Multiple Input Series"
      ]
    },
    {
      "metadata": {
        "id": "sI478dzhxSFQ",
        "colab_type": "code",
        "outputId": "6410b242-97a3-4444-866e-c514d1423b5e",
        "colab": {
          "base_uri": "https://localhost:8080/",
          "height": 34
        }
      },
      "cell_type": "code",
      "source": [
        "in_seq1 = [10, 20, 30, 40, 50, 60, 70, 80, 90]\n",
        "in_seq2 = [15, 25, 35, 45, 55, 65, 75, 85, 95]\n",
        "out_seq = [in1 + in2 for in1, in2 in zip(in_seq1, in_seq2)]\n",
        "out_seq"
      ],
      "execution_count": 31,
      "outputs": [
        {
          "output_type": "execute_result",
          "data": {
            "text/plain": [
              "[25, 45, 65, 85, 105, 125, 145, 165, 185]"
            ]
          },
          "metadata": {
            "tags": []
          },
          "execution_count": 31
        }
      ]
    },
    {
      "metadata": {
        "id": "Z3j4mZI1acf7",
        "colab_type": "code",
        "outputId": "a7932946-89df-4030-dc91-cf3d7579f9d9",
        "colab": {
          "base_uri": "https://localhost:8080/",
          "height": 172
        }
      },
      "cell_type": "code",
      "source": [
        "# convert to [rows, columns] structure\n",
        "in_seq1 = np.array(in_seq1).reshape((len(in_seq1), 1))\n",
        "in_seq2 = np.array(in_seq2).reshape((len(in_seq2), 1))\n",
        "out_seq = np.array(out_seq).reshape((len(out_seq), 1))\n",
        "out_seq"
      ],
      "execution_count": 32,
      "outputs": [
        {
          "output_type": "execute_result",
          "data": {
            "text/plain": [
              "array([[ 25],\n",
              "       [ 45],\n",
              "       [ 65],\n",
              "       [ 85],\n",
              "       [105],\n",
              "       [125],\n",
              "       [145],\n",
              "       [165],\n",
              "       [185]])"
            ]
          },
          "metadata": {
            "tags": []
          },
          "execution_count": 32
        }
      ]
    },
    {
      "metadata": {
        "id": "gWno1RcVaivS",
        "colab_type": "code",
        "outputId": "37013aeb-acb1-4058-ae60-9024ebd15446",
        "colab": {
          "base_uri": "https://localhost:8080/",
          "height": 172
        }
      },
      "cell_type": "code",
      "source": [
        "# horizontally stack columns\n",
        "dataset = np.hstack((in_seq1, in_seq2, out_seq))\n",
        "dataset"
      ],
      "execution_count": 33,
      "outputs": [
        {
          "output_type": "execute_result",
          "data": {
            "text/plain": [
              "array([[ 10,  15,  25],\n",
              "       [ 20,  25,  45],\n",
              "       [ 30,  35,  65],\n",
              "       [ 40,  45,  85],\n",
              "       [ 50,  55, 105],\n",
              "       [ 60,  65, 125],\n",
              "       [ 70,  75, 145],\n",
              "       [ 80,  85, 165],\n",
              "       [ 90,  95, 185]])"
            ]
          },
          "metadata": {
            "tags": []
          },
          "execution_count": 33
        }
      ]
    },
    {
      "metadata": {
        "id": "wODT6DFGcYCi",
        "colab_type": "code",
        "colab": {}
      },
      "cell_type": "code",
      "source": [
        "# split a multivariate sequence into samples\n",
        "def split_sequences(sequences, n_steps):\n",
        "\tX, y = list(), list()\n",
        "\tfor i in range(len(sequences)):\n",
        "\t\t# find the end of this pattern\n",
        "\t\tend_ix = i + n_steps\n",
        "\t\t# check if we are beyond the dataset\n",
        "\t\tif end_ix > len(sequences):\n",
        "\t\t\tbreak\n",
        "\t\t# gather input and output parts of the pattern\n",
        "\t\tseq_x, seq_y = sequences[i:end_ix, :-1], sequences[end_ix-1, -1]\n",
        "\t\tX.append(seq_x)\n",
        "\t\ty.append(seq_y)\n",
        "\treturn np.array(X), np.array(y)"
      ],
      "execution_count": 0,
      "outputs": []
    },
    {
      "metadata": {
        "id": "YfTgkdcFc8Iu",
        "colab_type": "code",
        "outputId": "4406fa81-0497-4600-a3e0-8fbf0462f1f3",
        "colab": {
          "base_uri": "https://localhost:8080/",
          "height": 276
        }
      },
      "cell_type": "code",
      "source": [
        "# choose a number of time steps\n",
        "n_steps = 3\n",
        "\n",
        "# convert into input/output\n",
        "X, y = split_sequences(dataset, n_steps)\n",
        "\n",
        "# summarize the data\n",
        "list(zip(X, y))"
      ],
      "execution_count": 35,
      "outputs": [
        {
          "output_type": "execute_result",
          "data": {
            "text/plain": [
              "[(array([[10, 15],\n",
              "         [20, 25],\n",
              "         [30, 35]]), 65), (array([[20, 25],\n",
              "         [30, 35],\n",
              "         [40, 45]]), 85), (array([[30, 35],\n",
              "         [40, 45],\n",
              "         [50, 55]]), 105), (array([[40, 45],\n",
              "         [50, 55],\n",
              "         [60, 65]]), 125), (array([[50, 55],\n",
              "         [60, 65],\n",
              "         [70, 75]]), 145), (array([[60, 65],\n",
              "         [70, 75],\n",
              "         [80, 85]]), 165), (array([[70, 75],\n",
              "         [80, 85],\n",
              "         [90, 95]]), 185)]"
            ]
          },
          "metadata": {
            "tags": []
          },
          "execution_count": 35
        }
      ]
    },
    {
      "metadata": {
        "id": "XYhnq4Hzc_tu",
        "colab_type": "code",
        "colab": {}
      },
      "cell_type": "code",
      "source": [
        "# the dataset knows the number of features, e.g. 2\n",
        "n_features = X.shape[2]\n",
        "\n",
        "# define model\n",
        "model = Sequential()\n",
        "model.add(GRU(units=50, activation='relu', input_shape=(n_steps, n_features), name=\"RNN_Input\"))\n",
        "model.add(Dense(units=1, name=\"Linear_Output\"))\n",
        "model.compile(optimizer='adam', loss='mse')"
      ],
      "execution_count": 0,
      "outputs": []
    },
    {
      "metadata": {
        "id": "5DKcnuvGegj5",
        "colab_type": "code",
        "outputId": "f4923f19-3f7a-4536-8c46-8d046ed65cb7",
        "colab": {
          "base_uri": "https://localhost:8080/",
          "height": 398
        }
      },
      "cell_type": "code",
      "source": [
        "# fit model\n",
        "%time history = model.fit(X, y, epochs=500, verbose=0)\n",
        "import matplotlib.pyplot as plt\n",
        "\n",
        "plt.yscale('log')\n",
        "plt.plot(history.history['loss'])"
      ],
      "execution_count": 37,
      "outputs": [
        {
          "output_type": "stream",
          "text": [
            "CPU times: user 4.18 s, sys: 122 ms, total: 4.3 s\n",
            "Wall time: 3.35 s\n"
          ],
          "name": "stdout"
        },
        {
          "output_type": "execute_result",
          "data": {
            "text/plain": [
              "[<matplotlib.lines.Line2D at 0x7f2e0e8200f0>]"
            ]
          },
          "metadata": {
            "tags": []
          },
          "execution_count": 37
        },
        {
          "output_type": "display_data",
          "data": {
            "image/png": "[encoded data removed]",
            "text/plain": [
              "<Figure size 576x396 with 1 Axes>"
            ]
          },
          "metadata": {
            "tags": []
          }
        }
      ]
    },
    {
      "metadata": {
        "id": "tAYti6Fae3GA",
        "colab_type": "code",
        "colab": {}
      },
      "cell_type": "code",
      "source": [
        "def predict_multi(model, samples):\n",
        "  input = np.array(samples)\n",
        "  input = input.reshape(1, input.shape[0], input.shape[1])\n",
        "  y_pred = model.predict(input)\n",
        "  return y_pred"
      ],
      "execution_count": 0,
      "outputs": []
    },
    {
      "metadata": {
        "id": "To1M1jeLhKFT",
        "colab_type": "code",
        "outputId": "9e0b3ece-3e9a-49b0-e4d3-21970a127df6",
        "colab": {
          "base_uri": "https://localhost:8080/",
          "height": 34
        }
      },
      "cell_type": "code",
      "source": [
        "predict_multi(model, [[80, 85], [90, 95], [100, 105]])"
      ],
      "execution_count": 39,
      "outputs": [
        {
          "output_type": "execute_result",
          "data": {
            "text/plain": [
              "array([[206.78265]], dtype=float32)"
            ]
          },
          "metadata": {
            "tags": []
          },
          "execution_count": 39
        }
      ]
    },
    {
      "metadata": {
        "id": "pwYcgfEbfdJp",
        "colab_type": "code",
        "outputId": "7dea0f93-7972-482e-a64f-4d1d25dab9e6",
        "colab": {
          "base_uri": "https://localhost:8080/",
          "height": 34
        }
      },
      "cell_type": "code",
      "source": [
        "predict_multi(model, [[10, 15], [20, 25], [30, 35]])"
      ],
      "execution_count": 40,
      "outputs": [
        {
          "output_type": "execute_result",
          "data": {
            "text/plain": [
              "array([[64.88253]], dtype=float32)"
            ]
          },
          "metadata": {
            "tags": []
          },
          "execution_count": 40
        }
      ]
    },
    {
      "metadata": {
        "id": "yN3tDmkRhboU",
        "colab_type": "code",
        "outputId": "db122330-43cc-4b5d-bd30-e3009dad83db",
        "colab": {
          "base_uri": "https://localhost:8080/",
          "height": 34
        }
      },
      "cell_type": "code",
      "source": [
        "predict_multi(model, [[180, 185], [190, 195], [200, 205]])"
      ],
      "execution_count": 41,
      "outputs": [
        {
          "output_type": "execute_result",
          "data": {
            "text/plain": [
              "array([[423.78033]], dtype=float32)"
            ]
          },
          "metadata": {
            "tags": []
          },
          "execution_count": 41
        }
      ]
    },
    {
      "metadata": {
        "id": "ttmXnBPtjVPG",
        "colab_type": "text"
      },
      "cell_type": "markdown",
      "source": [
        "#### Let's make this a little bit harder\n",
        "\n",
        "* output y can be inferred from final timestep\n",
        "* now we try to infer following ouput"
      ]
    },
    {
      "metadata": {
        "id": "p_L-_VVUhh5z",
        "colab_type": "code",
        "outputId": "11e5ae30-643d-4f18-da0e-fa6c40155228",
        "colab": {
          "base_uri": "https://localhost:8080/",
          "height": 276
        }
      },
      "cell_type": "code",
      "source": [
        "y += 20\n",
        "list(zip(X, y))"
      ],
      "execution_count": 42,
      "outputs": [
        {
          "output_type": "execute_result",
          "data": {
            "text/plain": [
              "[(array([[10, 15],\n",
              "         [20, 25],\n",
              "         [30, 35]]), 85), (array([[20, 25],\n",
              "         [30, 35],\n",
              "         [40, 45]]), 105), (array([[30, 35],\n",
              "         [40, 45],\n",
              "         [50, 55]]), 125), (array([[40, 45],\n",
              "         [50, 55],\n",
              "         [60, 65]]), 145), (array([[50, 55],\n",
              "         [60, 65],\n",
              "         [70, 75]]), 165), (array([[60, 65],\n",
              "         [70, 75],\n",
              "         [80, 85]]), 185), (array([[70, 75],\n",
              "         [80, 85],\n",
              "         [90, 95]]), 205)]"
            ]
          },
          "metadata": {
            "tags": []
          },
          "execution_count": 42
        }
      ]
    },
    {
      "metadata": {
        "id": "0heNGKIljMx_",
        "colab_type": "code",
        "outputId": "4bc3f458-32bf-456e-8366-76535e576c80",
        "colab": {
          "base_uri": "https://localhost:8080/",
          "height": 398
        }
      },
      "cell_type": "code",
      "source": [
        "model = Sequential()\n",
        "model.add(GRU(units=50, activation='relu', input_shape=(n_steps, n_features), name=\"RNN_Input\"))\n",
        "model.add(Dense(units=1, name=\"Linear_Output\"))\n",
        "model.compile(optimizer='adam', loss='mse')\n",
        "\n",
        "# train a little bit longer, as this should be harder now\n",
        "%time history = model.fit(X, y, epochs=2000, verbose=0)\n",
        "import matplotlib.pyplot as plt\n",
        "\n",
        "plt.yscale('log')\n",
        "plt.plot(history.history['loss'])"
      ],
      "execution_count": 43,
      "outputs": [
        {
          "output_type": "stream",
          "text": [
            "CPU times: user 11.2 s, sys: 365 ms, total: 11.5 s\n",
            "Wall time: 7.74 s\n"
          ],
          "name": "stdout"
        },
        {
          "output_type": "execute_result",
          "data": {
            "text/plain": [
              "[<matplotlib.lines.Line2D at 0x7f2e0daf2748>]"
            ]
          },
          "metadata": {
            "tags": []
          },
          "execution_count": 43
        },
        {
          "output_type": "display_data",
          "data": {
            "image/png": "[encoded data removed]",
            "text/plain": [
              "<Figure size 576x396 with 1 Axes>"
            ]
          },
          "metadata": {
            "tags": []
          }
        }
      ]
    },
    {
      "metadata": {
        "id": "sNT0WDvZjsa6",
        "colab_type": "code",
        "outputId": "768207c3-21c6-4491-a9d1-197b9961a047",
        "colab": {
          "base_uri": "https://localhost:8080/",
          "height": 34
        }
      },
      "cell_type": "code",
      "source": [
        "predict_multi(model, [[80, 85], [90, 95], [100, 105]])"
      ],
      "execution_count": 44,
      "outputs": [
        {
          "output_type": "execute_result",
          "data": {
            "text/plain": [
              "array([[228.60007]], dtype=float32)"
            ]
          },
          "metadata": {
            "tags": []
          },
          "execution_count": 44
        }
      ]
    },
    {
      "metadata": {
        "id": "nrQlR38ajtYA",
        "colab_type": "code",
        "outputId": "f4f4bbff-a7ad-4c10-83b1-fd13d5a9e1c1",
        "colab": {
          "base_uri": "https://localhost:8080/",
          "height": 34
        }
      },
      "cell_type": "code",
      "source": [
        "predict_multi(model, [[10, 15], [20, 25], [30, 35]])"
      ],
      "execution_count": 45,
      "outputs": [
        {
          "output_type": "execute_result",
          "data": {
            "text/plain": [
              "array([[84.943115]], dtype=float32)"
            ]
          },
          "metadata": {
            "tags": []
          },
          "execution_count": 45
        }
      ]
    },
    {
      "metadata": {
        "id": "UbO7DDTjkFsh",
        "colab_type": "code",
        "outputId": "36971b2a-2bd3-4a54-b223-a45bdcff8249",
        "colab": {
          "base_uri": "https://localhost:8080/",
          "height": 34
        }
      },
      "cell_type": "code",
      "source": [
        "predict_multi(model, [[180, 185], [190, 195], [200, 205]])"
      ],
      "execution_count": 46,
      "outputs": [
        {
          "output_type": "execute_result",
          "data": {
            "text/plain": [
              "array([[461.72055]], dtype=float32)"
            ]
          },
          "metadata": {
            "tags": []
          },
          "execution_count": 46
        }
      ]
    },
    {
      "metadata": {
        "id": "X8TsV-MdkmEy",
        "colab_type": "text"
      },
      "cell_type": "markdown",
      "source": [
        "## Multi-Step LSTM Models\n",
        "* this might just as well be an encoder / decoder approach"
      ]
    },
    {
      "metadata": {
        "id": "4veJ7_fxkSow",
        "colab_type": "code",
        "outputId": "95b64160-8520-4882-8426-0f589cf0426a",
        "colab": {
          "base_uri": "https://localhost:8080/",
          "height": 103
        }
      },
      "cell_type": "code",
      "source": [
        "# split a univariate sequence into samples\n",
        "def split_sequence(sequence, n_steps_in, n_steps_out):\n",
        "\tX, y = list(), list()\n",
        "\tfor i in range(len(sequence)):\n",
        "\t\t# find the end of this pattern\n",
        "\t\tend_ix = i + n_steps_in\n",
        "\t\tout_end_ix = end_ix + n_steps_out\n",
        "\t\t# check if we are beyond the sequence\n",
        "\t\tif out_end_ix > len(sequence):\n",
        "\t\t\tbreak\n",
        "\t\t# gather input and output parts of the pattern\n",
        "\t\tseq_x, seq_y = sequence[i:end_ix], sequence[end_ix:out_end_ix]\n",
        "\t\tX.append(seq_x)\n",
        "\t\ty.append(seq_y)\n",
        "\treturn np.array(X), np.array(y)\n",
        " \n",
        "# define input sequence\n",
        "raw_seq = [10, 20, 30, 40, 50, 60, 70, 80, 90]\n",
        "# choose a number of time steps\n",
        "n_steps_in, n_steps_out = 3, 2\n",
        "# split into samples\n",
        "X, y = split_sequence(raw_seq, n_steps_in, n_steps_out)\n",
        "# summarize the data\n",
        "for input, output in zip(X, y):\n",
        "  print (input, output)"
      ],
      "execution_count": 47,
      "outputs": [
        {
          "output_type": "stream",
          "text": [
            "[10 20 30] [40 50]\n",
            "[20 30 40] [50 60]\n",
            "[30 40 50] [60 70]\n",
            "[40 50 60] [70 80]\n",
            "[50 60 70] [80 90]\n"
          ],
          "name": "stdout"
        }
      ]
    },
    {
      "metadata": {
        "id": "geX0EgYx3xaR",
        "colab_type": "code",
        "colab": {}
      },
      "cell_type": "code",
      "source": [
        "# reshape from [samples, timesteps] into [samples, timesteps, features]\n",
        "n_features = 1\n",
        "X = X.reshape((X.shape[0], X.shape[1], n_features))\n",
        "# define model\n",
        "model = Sequential()\n",
        "model.add(GRU(100, activation='relu', input_shape=(n_steps_in, n_features)))\n",
        "# model.add(GRU(100, activation='relu', return_sequences=True, input_shape=(n_steps_in, n_features)))\n",
        "# model.add(GRU(100, activation='relu'))\n",
        "model.add(Dense(n_steps_out))\n",
        "model.compile(optimizer='adam', loss='mse')"
      ],
      "execution_count": 0,
      "outputs": []
    },
    {
      "metadata": {
        "id": "_9bw2H-w_9Fk",
        "colab_type": "code",
        "outputId": "fe207958-e9f8-4173-ed9d-b6c52f0e7b47",
        "colab": {
          "base_uri": "https://localhost:8080/",
          "height": 398
        }
      },
      "cell_type": "code",
      "source": [
        "# fit model\n",
        "%time history = model.fit(X, y, epochs=500, verbose=0)\n",
        "import matplotlib.pyplot as plt\n",
        "\n",
        "plt.yscale('log')\n",
        "plt.plot(history.history['loss'])"
      ],
      "execution_count": 49,
      "outputs": [
        {
          "output_type": "stream",
          "text": [
            "CPU times: user 5.59 s, sys: 143 ms, total: 5.73 s\n",
            "Wall time: 4.23 s\n"
          ],
          "name": "stdout"
        },
        {
          "output_type": "execute_result",
          "data": {
            "text/plain": [
              "[<matplotlib.lines.Line2D at 0x7f2e0cd740f0>]"
            ]
          },
          "metadata": {
            "tags": []
          },
          "execution_count": 49
        },
        {
          "output_type": "display_data",
          "data": {
            "image/png": "[encoded data removed]",
            "text/plain": [
              "<Figure size 576x396 with 1 Axes>"
            ]
          },
          "metadata": {
            "tags": []
          }
        }
      ]
    },
    {
      "metadata": {
        "id": "BvVhFBcpAHCt",
        "colab_type": "code",
        "outputId": "363267fe-b46f-4bbe-9fd7-b4be8ecf139d",
        "colab": {
          "base_uri": "https://localhost:8080/",
          "height": 34
        }
      },
      "cell_type": "code",
      "source": [
        "X_sample = np.array([70, 80, 90]).reshape((1, n_steps_in, n_features))\n",
        "y_pred = model.predict(X_sample)\n",
        "print(y_pred)"
      ],
      "execution_count": 50,
      "outputs": [
        {
          "output_type": "stream",
          "text": [
            "[[104.24542 116.23607]]\n"
          ],
          "name": "stdout"
        }
      ]
    },
    {
      "metadata": {
        "id": "TU98-CwHAYor",
        "colab_type": "code",
        "outputId": "53d41c59-341a-4f5c-9417-7d757c9febf8",
        "colab": {
          "base_uri": "https://localhost:8080/",
          "height": 34
        }
      },
      "cell_type": "code",
      "source": [
        "X_sample = np.array([10, 20, 30]).reshape((1, n_steps_in, n_features))\n",
        "y_pred = model.predict(X_sample)\n",
        "print(y_pred)"
      ],
      "execution_count": 51,
      "outputs": [
        {
          "output_type": "stream",
          "text": [
            "[[39.993275 50.004936]]\n"
          ],
          "name": "stdout"
        }
      ]
    },
    {
      "metadata": {
        "id": "FRl9xzr9Af8u",
        "colab_type": "code",
        "colab": {}
      },
      "cell_type": "code",
      "source": [
        ""
      ],
      "execution_count": 0,
      "outputs": []
    }
  ]
}