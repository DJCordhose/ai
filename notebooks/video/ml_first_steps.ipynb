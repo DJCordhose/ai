{
 "cells": [
  {
   "cell_type": "markdown",
   "metadata": {
    "colab_type": "text",
    "id": "5hBDJrqDAOTW"
   },
   "source": [
    "# Core Ideas of Supervised Learning"
   ]
  },
  {
   "cell_type": "code",
   "execution_count": 1,
   "metadata": {
    "colab": {
     "autoexec": {
      "startup": false,
      "wait_interval": 0
     }
    },
    "colab_type": "code",
    "id": "o7aEBZR2AOTX"
   },
   "outputs": [],
   "source": [
    "import warnings\n",
    "warnings.filterwarnings('ignore')"
   ]
  },
  {
   "cell_type": "code",
   "execution_count": 2,
   "metadata": {
    "colab": {
     "autoexec": {
      "startup": false,
      "wait_interval": 0
     },
     "base_uri": "https://localhost:8080/",
     "height": 34
    },
    "colab_type": "code",
    "executionInfo": {
     "elapsed": 397,
     "status": "ok",
     "timestamp": 1528267833513,
     "user": {
      "displayName": "Oliver Zeigermann",
      "photoUrl": "//lh6.googleusercontent.com/-F15P3pPoAx0/AAAAAAAAAAI/AAAAAAAAC9g/O_yx4QV1v8I/s50-c-k-no/photo.jpg",
      "userId": "107316807994895176615"
     },
     "user_tz": -120
    },
    "id": "RQxlKL1zAOTd",
    "outputId": "8493056a-aec7-401e-e33b-bf5701aa2c03"
   },
   "outputs": [
    {
     "name": "stdout",
     "output_type": "stream",
     "text": [
      "0.22.0\n"
     ]
    }
   ],
   "source": [
    "import pandas as pd\n",
    "print(pd.__version__)"
   ]
  },
  {
   "cell_type": "code",
   "execution_count": 3,
   "metadata": {
    "colab": {
     "autoexec": {
      "startup": false,
      "wait_interval": 0
     },
     "base_uri": "https://localhost:8080/",
     "height": 34
    },
    "colab_type": "code",
    "executionInfo": {
     "elapsed": 827,
     "status": "ok",
     "timestamp": 1528267834761,
     "user": {
      "displayName": "Oliver Zeigermann",
      "photoUrl": "//lh6.googleusercontent.com/-F15P3pPoAx0/AAAAAAAAAAI/AAAAAAAAC9g/O_yx4QV1v8I/s50-c-k-no/photo.jpg",
      "userId": "107316807994895176615"
     },
     "user_tz": -120
    },
    "id": "G4XWogm7PvLF",
    "outputId": "78e7bebe-5e79-4b9a-a833-150fa2ec2a8e"
   },
   "outputs": [
    {
     "name": "stdout",
     "output_type": "stream",
     "text": [
      "1.14.3\n"
     ]
    }
   ],
   "source": [
    "import numpy as np\n",
    "print(np.__version__)"
   ]
  },
  {
   "cell_type": "markdown",
   "metadata": {
    "colab_type": "text",
    "id": "sCR6SQQZAOTf"
   },
   "source": [
    "## First Load our Data and get an intuition for it"
   ]
  },
  {
   "cell_type": "code",
   "execution_count": 4,
   "metadata": {
    "colab": {
     "autoexec": {
      "startup": false,
      "wait_interval": 0
     },
     "base_uri": "https://localhost:8080/",
     "height": 204
    },
    "colab_type": "code",
    "executionInfo": {
     "elapsed": 1609,
     "status": "ok",
     "timestamp": 1528267847556,
     "user": {
      "displayName": "Oliver Zeigermann",
      "photoUrl": "//lh6.googleusercontent.com/-F15P3pPoAx0/AAAAAAAAAAI/AAAAAAAAC9g/O_yx4QV1v8I/s50-c-k-no/photo.jpg",
      "userId": "107316807994895176615"
     },
     "user_tz": -120
    },
    "id": "3vRMCp_4CODu",
    "outputId": "1c135613-31e5-44cd-a133-c48f5da9c0a4"
   },
   "outputs": [
    {
     "name": "stderr",
     "output_type": "stream",
     "text": [
      "  % Total    % Received % Xferd  Average Speed   Time    Time     Time  Current\n",
      "                                 Dload  Upload   Total   Spent    Left  Speed\n",
      "\n",
      "  0     0    0     0    0     0      0      0 --:--:-- --:--:-- --:--:--     0\n",
      "100  5421  100  5421    0     0  21684      0 --:--:-- --:--:-- --:--:-- 21684\n"
     ]
    }
   ],
   "source": [
    "# !curl -O https://raw.githubusercontent.com/DJCordhose/ai/master/notebooks/video/data/insurance-customers-1500.csv\n",
    "!curl -O https://raw.githubusercontent.com/DJCordhose/ai/master/notebooks/video/data/insurance-customers-300.csv"
   ]
  },
  {
   "cell_type": "code",
   "execution_count": 5,
   "metadata": {
    "colab": {
     "autoexec": {
      "startup": false,
      "wait_interval": 0
     }
    },
    "colab_type": "code",
    "id": "zZrvQwmLAOTg"
   },
   "outputs": [],
   "source": [
    "df = pd.read_csv('./insurance-customers-300.csv', sep=';')"
   ]
  },
  {
   "cell_type": "code",
   "execution_count": 6,
   "metadata": {
    "colab": {
     "autoexec": {
      "startup": false,
      "wait_interval": 0
     },
     "base_uri": "https://localhost:8080/",
     "height": 204
    },
    "colab_type": "code",
    "executionInfo": {
     "elapsed": 761,
     "status": "ok",
     "timestamp": 1528267857309,
     "user": {
      "displayName": "Oliver Zeigermann",
      "photoUrl": "//lh6.googleusercontent.com/-F15P3pPoAx0/AAAAAAAAAAI/AAAAAAAAC9g/O_yx4QV1v8I/s50-c-k-no/photo.jpg",
      "userId": "107316807994895176615"
     },
     "user_tz": -120
    },
    "id": "kzr738RwNKQ9",
    "outputId": "338455a6-48ca-4d25-a510-cee2445188a7"
   },
   "outputs": [
    {
     "data": {
      "text/html": [
       "<div>\n",
       "<style scoped>\n",
       "    .dataframe tbody tr th:only-of-type {\n",
       "        vertical-align: middle;\n",
       "    }\n",
       "\n",
       "    .dataframe tbody tr th {\n",
       "        vertical-align: top;\n",
       "    }\n",
       "\n",
       "    .dataframe thead th {\n",
       "        text-align: right;\n",
       "    }\n",
       "</style>\n",
       "<table border=\"1\" class=\"dataframe\">\n",
       "  <thead>\n",
       "    <tr style=\"text-align: right;\">\n",
       "      <th></th>\n",
       "      <th>max speed</th>\n",
       "      <th>age</th>\n",
       "      <th>thousand km per year</th>\n",
       "      <th>group</th>\n",
       "    </tr>\n",
       "  </thead>\n",
       "  <tbody>\n",
       "    <tr>\n",
       "      <th>0</th>\n",
       "      <td>167.0</td>\n",
       "      <td>41.0</td>\n",
       "      <td>5.0</td>\n",
       "      <td>1</td>\n",
       "    </tr>\n",
       "    <tr>\n",
       "      <th>1</th>\n",
       "      <td>158.0</td>\n",
       "      <td>18.0</td>\n",
       "      <td>15.0</td>\n",
       "      <td>1</td>\n",
       "    </tr>\n",
       "    <tr>\n",
       "      <th>2</th>\n",
       "      <td>147.0</td>\n",
       "      <td>28.0</td>\n",
       "      <td>14.0</td>\n",
       "      <td>2</td>\n",
       "    </tr>\n",
       "    <tr>\n",
       "      <th>3</th>\n",
       "      <td>161.0</td>\n",
       "      <td>43.0</td>\n",
       "      <td>62.0</td>\n",
       "      <td>2</td>\n",
       "    </tr>\n",
       "    <tr>\n",
       "      <th>4</th>\n",
       "      <td>179.0</td>\n",
       "      <td>36.0</td>\n",
       "      <td>42.0</td>\n",
       "      <td>0</td>\n",
       "    </tr>\n",
       "  </tbody>\n",
       "</table>\n",
       "</div>"
      ],
      "text/plain": [
       "   max speed   age  thousand km per year  group\n",
       "0      167.0  41.0                   5.0      1\n",
       "1      158.0  18.0                  15.0      1\n",
       "2      147.0  28.0                  14.0      2\n",
       "3      161.0  43.0                  62.0      2\n",
       "4      179.0  36.0                  42.0      0"
      ]
     },
     "execution_count": 6,
     "metadata": {},
     "output_type": "execute_result"
    }
   ],
   "source": [
    "df.head()"
   ]
  },
  {
   "cell_type": "code",
   "execution_count": 7,
   "metadata": {
    "colab": {
     "autoexec": {
      "startup": false,
      "wait_interval": 0
     },
     "base_uri": "https://localhost:8080/",
     "height": 297
    },
    "colab_type": "code",
    "executionInfo": {
     "elapsed": 667,
     "status": "ok",
     "timestamp": 1528267858500,
     "user": {
      "displayName": "Oliver Zeigermann",
      "photoUrl": "//lh6.googleusercontent.com/-F15P3pPoAx0/AAAAAAAAAAI/AAAAAAAAC9g/O_yx4QV1v8I/s50-c-k-no/photo.jpg",
      "userId": "107316807994895176615"
     },
     "user_tz": -120
    },
    "id": "lCCADc-ZHB1_",
    "outputId": "e94a537d-b747-4158-9494-2211fcd5ca2f"
   },
   "outputs": [
    {
     "data": {
      "text/html": [
       "<div>\n",
       "<style scoped>\n",
       "    .dataframe tbody tr th:only-of-type {\n",
       "        vertical-align: middle;\n",
       "    }\n",
       "\n",
       "    .dataframe tbody tr th {\n",
       "        vertical-align: top;\n",
       "    }\n",
       "\n",
       "    .dataframe thead th {\n",
       "        text-align: right;\n",
       "    }\n",
       "</style>\n",
       "<table border=\"1\" class=\"dataframe\">\n",
       "  <thead>\n",
       "    <tr style=\"text-align: right;\">\n",
       "      <th></th>\n",
       "      <th>max speed</th>\n",
       "      <th>age</th>\n",
       "      <th>thousand km per year</th>\n",
       "      <th>group</th>\n",
       "    </tr>\n",
       "  </thead>\n",
       "  <tbody>\n",
       "    <tr>\n",
       "      <th>count</th>\n",
       "      <td>300.000000</td>\n",
       "      <td>300.000000</td>\n",
       "      <td>300.000000</td>\n",
       "      <td>300.000000</td>\n",
       "    </tr>\n",
       "    <tr>\n",
       "      <th>mean</th>\n",
       "      <td>171.863333</td>\n",
       "      <td>44.006667</td>\n",
       "      <td>31.220000</td>\n",
       "      <td>1.000000</td>\n",
       "    </tr>\n",
       "    <tr>\n",
       "      <th>std</th>\n",
       "      <td>18.807545</td>\n",
       "      <td>16.191784</td>\n",
       "      <td>15.411792</td>\n",
       "      <td>0.817861</td>\n",
       "    </tr>\n",
       "    <tr>\n",
       "      <th>min</th>\n",
       "      <td>132.000000</td>\n",
       "      <td>18.000000</td>\n",
       "      <td>5.000000</td>\n",
       "      <td>0.000000</td>\n",
       "    </tr>\n",
       "    <tr>\n",
       "      <th>25%</th>\n",
       "      <td>159.000000</td>\n",
       "      <td>33.000000</td>\n",
       "      <td>18.000000</td>\n",
       "      <td>0.000000</td>\n",
       "    </tr>\n",
       "    <tr>\n",
       "      <th>50%</th>\n",
       "      <td>171.000000</td>\n",
       "      <td>42.000000</td>\n",
       "      <td>30.000000</td>\n",
       "      <td>1.000000</td>\n",
       "    </tr>\n",
       "    <tr>\n",
       "      <th>75%</th>\n",
       "      <td>187.000000</td>\n",
       "      <td>52.000000</td>\n",
       "      <td>43.000000</td>\n",
       "      <td>2.000000</td>\n",
       "    </tr>\n",
       "    <tr>\n",
       "      <th>max</th>\n",
       "      <td>211.000000</td>\n",
       "      <td>90.000000</td>\n",
       "      <td>99.000000</td>\n",
       "      <td>2.000000</td>\n",
       "    </tr>\n",
       "  </tbody>\n",
       "</table>\n",
       "</div>"
      ],
      "text/plain": [
       "        max speed         age  thousand km per year       group\n",
       "count  300.000000  300.000000            300.000000  300.000000\n",
       "mean   171.863333   44.006667             31.220000    1.000000\n",
       "std     18.807545   16.191784             15.411792    0.817861\n",
       "min    132.000000   18.000000              5.000000    0.000000\n",
       "25%    159.000000   33.000000             18.000000    0.000000\n",
       "50%    171.000000   42.000000             30.000000    1.000000\n",
       "75%    187.000000   52.000000             43.000000    2.000000\n",
       "max    211.000000   90.000000             99.000000    2.000000"
      ]
     },
     "execution_count": 7,
     "metadata": {},
     "output_type": "execute_result"
    }
   ],
   "source": [
    "df.describe()"
   ]
  },
  {
   "cell_type": "code",
   "execution_count": 10,
   "metadata": {
    "colab": {
     "autoexec": {
      "startup": false,
      "wait_interval": 0
     },
     "base_uri": "https://localhost:8080/",
     "height": 742
    },
    "colab_type": "code",
    "executionInfo": {
     "elapsed": 3502,
     "status": "ok",
     "timestamp": 1528267870836,
     "user": {
      "displayName": "Oliver Zeigermann",
      "photoUrl": "//lh6.googleusercontent.com/-F15P3pPoAx0/AAAAAAAAAAI/AAAAAAAAC9g/O_yx4QV1v8I/s50-c-k-no/photo.jpg",
      "userId": "107316807994895176615"
     },
     "user_tz": -120
    },
    "id": "d7XYz_hJCFQw",
    "outputId": "e3fd03a5-8be1-4717-fabf-2fafa7369a5e"
   },
   "outputs": [
    {
     "data": {
      "text/plain": [
       "<seaborn.axisgrid.PairGrid at 0x2aeea59fd68>"
      ]
     },
     "execution_count": 10,
     "metadata": {},
     "output_type": "execute_result"
    },
    {
     "data": {
      "image/png": "[encoded data removed]",
      "text/plain": [
       "<matplotlib.figure.Figure at 0x2aeea4c7978>"
      ]
     },
     "metadata": {},
     "output_type": "display_data"
    }
   ],
   "source": [
    "import seaborn as sns\n",
    "sns.set(style=\"ticks\")\n",
    "\n",
    "sample_df = df.sample(n=120, random_state=42)\n",
    "\n",
    "colors_light = {0: '#FFAAAA', 1: '#AAFFAA', 2: '#FFFFDD'}\n",
    "colors_bold = {0: '#AA4444', 1: '#006000', 2: '#AAAA00'}\n",
    "\n",
    "sns.pairplot(sample_df, hue=\"group\", palette=colors_bold)"
   ]
  },
  {
   "cell_type": "markdown",
   "metadata": {
    "colab_type": "text",
    "id": "zR_Lz5vQ5m2H"
   },
   "source": [
    "## First important concept: You train a machine with your data to make it learn the relationship between some input data and a certain lable - this is called supervised learning"
   ]
  },
  {
   "cell_type": "code",
   "execution_count": null,
   "metadata": {
    "colab": {
     "autoexec": {
      "startup": false,
      "wait_interval": 0
     }
    },
    "colab_type": "code",
    "id": "IrencvYMAOTi"
   },
   "outputs": [],
   "source": [
    "y=df['group']"
   ]
  },
  {
   "cell_type": "code",
   "execution_count": null,
   "metadata": {
    "colab": {
     "autoexec": {
      "startup": false,
      "wait_interval": 0
     }
    },
    "colab_type": "code",
    "id": "0XV3G8RtAOTk"
   },
   "outputs": [],
   "source": [
    "df.drop('group', axis='columns', inplace=True)"
   ]
  },
  {
   "cell_type": "code",
   "execution_count": null,
   "metadata": {
    "colab": {
     "autoexec": {
      "startup": false,
      "wait_interval": 0
     }
    },
    "colab_type": "code",
    "id": "_duQLNiHAOTl"
   },
   "outputs": [],
   "source": [
    "X = df.as_matrix()"
   ]
  },
  {
   "cell_type": "code",
   "execution_count": null,
   "metadata": {
    "colab": {
     "autoexec": {
      "startup": false,
      "wait_interval": 0
     }
    },
    "colab_type": "code",
    "id": "yJSGKAZlBpFN"
   },
   "outputs": [],
   "source": [
    "corrmat = df.corr()"
   ]
  },
  {
   "cell_type": "code",
   "execution_count": null,
   "metadata": {
    "colab": {
     "autoexec": {
      "startup": false,
      "wait_interval": 0
     },
     "base_uri": "https://localhost:8080/",
     "height": 395
    },
    "colab_type": "code",
    "executionInfo": {
     "elapsed": 924,
     "status": "ok",
     "timestamp": 1528268357345,
     "user": {
      "displayName": "Oliver Zeigermann",
      "photoUrl": "//lh6.googleusercontent.com/-F15P3pPoAx0/AAAAAAAAAAI/AAAAAAAAC9g/O_yx4QV1v8I/s50-c-k-no/photo.jpg",
      "userId": "107316807994895176615"
     },
     "user_tz": -120
    },
    "id": "pRhjuwpAG7Q7",
    "outputId": "5882e720-74f4-44f2-9786-0fbdfd496165"
   },
   "outputs": [],
   "source": [
    "sns.heatmap(corrmat, annot=True)"
   ]
  },
  {
   "cell_type": "markdown",
   "metadata": {},
   "source": [
    "## We restrict ourselves to two dimensions for now"
   ]
  },
  {
   "cell_type": "code",
   "execution_count": null,
   "metadata": {
    "colab": {
     "autoexec": {
      "startup": false,
      "wait_interval": 0
     }
    },
    "colab_type": "code",
    "id": "rQc_fjtiAOTq"
   },
   "outputs": [],
   "source": [
    "# ignore this, it is just technical code to plot decision boundaries\n",
    "# Adapted from:\n",
    "# http://scikit-learn.org/stable/auto_examples/neighbors/plot_classification.html\n",
    "\n",
    "import matplotlib.pyplot as plt\n",
    "from matplotlib.colors import ListedColormap\n",
    "\n",
    "cmap_print = ListedColormap(['#AA8888', '#004000', '#FFFFDD'])\n",
    "cmap_bold = ListedColormap(['#AA4444', '#006000', '#AAAA00'])\n",
    "cmap_light = ListedColormap(['#FFAAAA', '#AAFFAA', '#FFFFDD'])\n",
    "font_size=25\n",
    "\n",
    "def meshGrid(x_data, y_data):\n",
    "    h = 1  # step size in the mesh\n",
    "    x_min, x_max = x_data.min() - 1, x_data.max() + 1\n",
    "    y_min, y_max = y_data.min() - 1, y_data.max() + 1\n",
    "    xx, yy = np.meshgrid(np.arange(x_min, x_max, h),\n",
    "                         np.arange(y_min, y_max, h))\n",
    "    return (xx,yy)\n",
    "    \n",
    "def plotPrediction(clf, x_data, y_data, x_label, y_label, ground_truth, title=\"\", \n",
    "                   mesh=True, fname=None, print=False):\n",
    "    xx,yy = meshGrid(x_data, y_data)\n",
    "    plt.figure(figsize=(20,10))\n",
    "\n",
    "    if clf and mesh:\n",
    "        Z = clf.predict(np.c_[yy.ravel(), xx.ravel()])\n",
    "        # Put the result into a color plot\n",
    "        Z = Z.reshape(xx.shape)\n",
    "        plt.pcolormesh(xx, yy, Z, cmap=cmap_light)\n",
    "    \n",
    "    plt.xlim(xx.min(), xx.max())\n",
    "    plt.ylim(yy.min(), yy.max())\n",
    "    if print:\n",
    "        plt.scatter(x_data, y_data, c=ground_truth, cmap=cmap_print, s=200, marker='o', edgecolors='k')\n",
    "    else:\n",
    "        plt.scatter(x_data, y_data, c=ground_truth, cmap=cmap_bold, s=80, marker='o', edgecolors='k')\n",
    "    plt.xlabel(x_label, fontsize=font_size)\n",
    "    plt.ylabel(y_label, fontsize=font_size)\n",
    "    plt.title(title, fontsize=font_size)\n",
    "    if fname:\n",
    "        plt.savefig(fname)"
   ]
  },
  {
   "cell_type": "code",
   "execution_count": null,
   "metadata": {
    "colab": {
     "autoexec": {
      "startup": false,
      "wait_interval": 0
     },
     "base_uri": "https://localhost:8080/",
     "height": 317
    },
    "colab_type": "code",
    "executionInfo": {
     "elapsed": 585,
     "status": "error",
     "timestamp": 1528269490640,
     "user": {
      "displayName": "Oliver Zeigermann",
      "photoUrl": "//lh6.googleusercontent.com/-F15P3pPoAx0/AAAAAAAAAAI/AAAAAAAAC9g/O_yx4QV1v8I/s50-c-k-no/photo.jpg",
      "userId": "107316807994895176615"
     },
     "user_tz": -120
    },
    "id": "33Dh_Q35RqR_",
    "outputId": "82deaa49-cc4b-4755-87f1-68fb7e8eda6d"
   },
   "outputs": [],
   "source": [
    "X_kmh_age = X[:, :2] \n",
    "plotPrediction(None, X_kmh_age[:, 1], X_kmh_age[:, 0], \n",
    "               'Age', 'Max Speed', y, mesh=False,\n",
    "                title=\"All Data Max Speed vs Age\")"
   ]
  },
  {
   "cell_type": "markdown",
   "metadata": {
    "colab_type": "text",
    "id": "5uEIz7985-SW"
   },
   "source": [
    "## Second important concept: To have an idea how well the training worked, we save same data to try our model on previously unseen data. How well it performs on this test data as opposed to the training data tells us quite a bit."
   ]
  },
  {
   "cell_type": "code",
   "execution_count": null,
   "metadata": {
    "colab": {
     "autoexec": {
      "startup": false,
      "wait_interval": 0
     }
    },
    "colab_type": "code",
    "id": "GV08Sr9FAOTs"
   },
   "outputs": [],
   "source": [
    "from sklearn.model_selection import train_test_split"
   ]
  },
  {
   "cell_type": "code",
   "execution_count": null,
   "metadata": {
    "colab": {
     "autoexec": {
      "startup": false,
      "wait_interval": 0
     }
    },
    "colab_type": "code",
    "id": "Uzj7AuQWAOTv"
   },
   "outputs": [],
   "source": [
    "X_train, X_test, y_train, y_test = train_test_split(X, y, test_size=0.4, random_state=42, stratify=y)"
   ]
  },
  {
   "cell_type": "code",
   "execution_count": null,
   "metadata": {
    "colab": {
     "autoexec": {
      "startup": false,
      "wait_interval": 0
     },
     "base_uri": "https://localhost:8080/",
     "height": 34
    },
    "colab_type": "code",
    "executionInfo": {
     "elapsed": 575,
     "status": "ok",
     "timestamp": 1528268462124,
     "user": {
      "displayName": "Oliver Zeigermann",
      "photoUrl": "//lh6.googleusercontent.com/-F15P3pPoAx0/AAAAAAAAAAI/AAAAAAAAC9g/O_yx4QV1v8I/s50-c-k-no/photo.jpg",
      "userId": "107316807994895176615"
     },
     "user_tz": -120
    },
    "id": "kt2ugR-XAOTw",
    "outputId": "be0fea52-f7ad-48b2-b526-d099b3dd187f"
   },
   "outputs": [],
   "source": [
    "X_train.shape, y_train.shape, X_test.shape, y_test.shape"
   ]
  },
  {
   "cell_type": "code",
   "execution_count": null,
   "metadata": {
    "colab": {
     "autoexec": {
      "startup": false,
      "wait_interval": 0
     }
    },
    "colab_type": "code",
    "id": "5s57zsN6AOTz"
   },
   "outputs": [],
   "source": [
    "X_train_2_dim = X_train[:, :2]\n",
    "X_test_2_dim = X_test[:, :2]"
   ]
  },
  {
   "cell_type": "code",
   "execution_count": null,
   "metadata": {},
   "outputs": [],
   "source": [
    "plotPrediction(None, X_train_2_dim[:, 1], X_train_2_dim[:, 0], \n",
    "               'Age', 'Max Speed', y_train, mesh=False,\n",
    "                title=\"Train Data Max Speed vs Age\")"
   ]
  },
  {
   "cell_type": "code",
   "execution_count": null,
   "metadata": {},
   "outputs": [],
   "source": [
    "plotPrediction(None, X_test_2_dim[:, 1], X_test_2_dim[:, 0], \n",
    "               'Age', 'Max Speed', y_test, mesh=False,\n",
    "                title=\"Test Data Max Speed vs Age\")"
   ]
  },
  {
   "cell_type": "markdown",
   "metadata": {},
   "source": [
    "## Most basic learning strategy: Look at the neighbors to make a prediction for a sample yet unknown"
   ]
  },
  {
   "cell_type": "code",
   "execution_count": null,
   "metadata": {
    "colab": {
     "autoexec": {
      "startup": false,
      "wait_interval": 0
     }
    },
    "colab_type": "code",
    "id": "kLvdCUuFPbE5"
   },
   "outputs": [],
   "source": [
    "from sklearn import neighbors\n",
    "clf = neighbors.KNeighborsClassifier(1)"
   ]
  },
  {
   "cell_type": "code",
   "execution_count": null,
   "metadata": {
    "colab": {
     "autoexec": {
      "startup": false,
      "wait_interval": 0
     }
    },
    "colab_type": "code",
    "id": "ElJZINIIPfq2"
   },
   "outputs": [],
   "source": [
    "%time clf.fit(X_train_2_dim, y_train)"
   ]
  },
  {
   "cell_type": "code",
   "execution_count": null,
   "metadata": {
    "colab": {
     "autoexec": {
      "startup": false,
      "wait_interval": 0
     }
    },
    "colab_type": "code",
    "id": "7uUSUOVTPgZz"
   },
   "outputs": [],
   "source": [
    "plotPrediction(clf, X_train_2_dim[:, 1], X_train_2_dim[:, 0], \n",
    "               'Age', 'Max Speed', y_train,\n",
    "                title=\"Train Data Max Speed vs Age with Classification\")"
   ]
  },
  {
   "cell_type": "code",
   "execution_count": null,
   "metadata": {
    "colab": {
     "autoexec": {
      "startup": false,
      "wait_interval": 0
     }
    },
    "colab_type": "code",
    "id": "z6VKcQHhPml9"
   },
   "outputs": [],
   "source": [
    "clf.score(X_train_2_dim, y_train)"
   ]
  },
  {
   "cell_type": "code",
   "execution_count": null,
   "metadata": {
    "colab": {
     "autoexec": {
      "startup": false,
      "wait_interval": 0
     }
    },
    "colab_type": "code",
    "id": "OzZG9BZjQvum"
   },
   "outputs": [],
   "source": [
    "plotPrediction(clf, X_test_2_dim[:, 1], X_test_2_dim[:, 0], \n",
    "               'Age', 'Max Speed', y_test,\n",
    "                title=\"Test Data Max Speed vs Age with Prediction\")"
   ]
  },
  {
   "cell_type": "code",
   "execution_count": null,
   "metadata": {
    "colab": {
     "autoexec": {
      "startup": false,
      "wait_interval": 0
     }
    },
    "colab_type": "code",
    "id": "VyM_t_whQ5av"
   },
   "outputs": [],
   "source": [
    "clf.score(X_test_2_dim, y_test)"
   ]
  },
  {
   "cell_type": "markdown",
   "metadata": {
    "colab_type": "text",
    "id": "_px_mArrS4Um"
   },
   "source": [
    "## Third important concept: Our objective is to make the best prediction for unknown samples. This is called generalization. If we perform well on knwon data, but less good on unknown data this is called overfitting. This is to be avoided."
   ]
  },
  {
   "cell_type": "markdown",
   "metadata": {},
   "source": [
    "### In KNN we reduce overfitting by taking more neighbors into account"
   ]
  },
  {
   "cell_type": "code",
   "execution_count": null,
   "metadata": {
    "colab": {
     "autoexec": {
      "startup": false,
      "wait_interval": 0
     }
    },
    "colab_type": "code",
    "id": "bCiW2yOCSTqj"
   },
   "outputs": [],
   "source": [
    "clf = neighbors.KNeighborsClassifier(5)\n",
    "%time clf.fit(X_train_2_dim, y_train)"
   ]
  },
  {
   "cell_type": "code",
   "execution_count": null,
   "metadata": {
    "colab": {
     "autoexec": {
      "startup": false,
      "wait_interval": 0
     }
    },
    "colab_type": "code",
    "id": "lqGYnfnJTGyq"
   },
   "outputs": [],
   "source": [
    "plotPrediction(clf, X_train_2_dim[:, 1], X_train_2_dim[:, 0], \n",
    "               'Age', 'Max Speed', y_train,\n",
    "                title=\"Train Data Max Speed vs Age with Classification\")"
   ]
  },
  {
   "cell_type": "markdown",
   "metadata": {},
   "source": [
    "### A rule of thumb: Smoother decision boundaries imply less overfitting"
   ]
  },
  {
   "cell_type": "code",
   "execution_count": null,
   "metadata": {
    "colab": {
     "autoexec": {
      "startup": false,
      "wait_interval": 0
     }
    },
    "colab_type": "code",
    "id": "GIkGMNSRTKio"
   },
   "outputs": [],
   "source": [
    "clf.score(X_train_2_dim, y_train)"
   ]
  },
  {
   "cell_type": "code",
   "execution_count": null,
   "metadata": {
    "colab": {
     "autoexec": {
      "startup": false,
      "wait_interval": 0
     }
    },
    "colab_type": "code",
    "id": "G3ABe6weTPvf"
   },
   "outputs": [],
   "source": [
    "plotPrediction(clf, X_test_2_dim[:, 1], X_test_2_dim[:, 0], \n",
    "               'Age', 'Max Speed', y_test,\n",
    "                title=\"Test Data Max Speed vs Age with Prediction\")"
   ]
  },
  {
   "cell_type": "code",
   "execution_count": null,
   "metadata": {
    "colab": {
     "autoexec": {
      "startup": false,
      "wait_interval": 0
     }
    },
    "colab_type": "code",
    "id": "jhFMHiyRTSbu"
   },
   "outputs": [],
   "source": [
    "clf.score(X_test_2_dim, y_test)"
   ]
  },
  {
   "cell_type": "markdown",
   "metadata": {
    "colab_type": "text",
    "id": "ls7X_oTmUC5q"
   },
   "source": [
    "## Fourth Step: Sample Usage and Confusion Matrix"
   ]
  },
  {
   "cell_type": "code",
   "execution_count": null,
   "metadata": {
    "colab": {
     "autoexec": {
      "startup": false,
      "wait_interval": 0
     }
    },
    "colab_type": "code",
    "id": "4eoPYpxDTcFA"
   },
   "outputs": [],
   "source": [
    "clf = neighbors.KNeighborsClassifier(5)\n",
    "%time clf.fit(X_train, y_train)"
   ]
  },
  {
   "cell_type": "code",
   "execution_count": null,
   "metadata": {
    "colab": {
     "autoexec": {
      "startup": false,
      "wait_interval": 0
     }
    },
    "colab_type": "code",
    "id": "Valj87tcUINq"
   },
   "outputs": [],
   "source": [
    "sample_X = X[:1]\n",
    "sample_X"
   ]
  },
  {
   "cell_type": "code",
   "execution_count": null,
   "metadata": {
    "colab": {
     "autoexec": {
      "startup": false,
      "wait_interval": 0
     }
    },
    "colab_type": "code",
    "id": "UVsNIxKfUXXp"
   },
   "outputs": [],
   "source": [
    "y[:1]"
   ]
  },
  {
   "cell_type": "code",
   "execution_count": null,
   "metadata": {
    "colab": {
     "autoexec": {
      "startup": false,
      "wait_interval": 0
     }
    },
    "colab_type": "code",
    "id": "R1NpbLrgUYQg"
   },
   "outputs": [],
   "source": [
    "clf.predict(sample_X)"
   ]
  },
  {
   "cell_type": "code",
   "execution_count": null,
   "metadata": {
    "colab": {
     "autoexec": {
      "startup": false,
      "wait_interval": 0
     }
    },
    "colab_type": "code",
    "id": "CX30YLGeUmMx"
   },
   "outputs": [],
   "source": [
    "clf.predict_proba(sample_X)"
   ]
  },
  {
   "cell_type": "code",
   "execution_count": null,
   "metadata": {
    "colab": {
     "autoexec": {
      "startup": false,
      "wait_interval": 0
     }
    },
    "colab_type": "code",
    "id": "InhrkvKGUp07"
   },
   "outputs": [],
   "source": [
    "from sklearn.metrics import confusion_matrix\n",
    "\n",
    "y_pred = clf.predict(X)\n",
    "y_true = np.array(y)\n",
    "cm = confusion_matrix(y_true, y_pred)\n",
    "cm"
   ]
  },
  {
   "cell_type": "code",
   "execution_count": null,
   "metadata": {
    "colab": {
     "autoexec": {
      "startup": false,
      "wait_interval": 0
     }
    },
    "colab_type": "code",
    "id": "o7zXiCn3VL0-"
   },
   "outputs": [],
   "source": [
    "# 0: red\n",
    "# 1: green\n",
    "# 2: yellow\n",
    "\n",
    "import seaborn as sns\n",
    "sns.heatmap(cm, annot=True, cmap=\"YlGnBu\")\n",
    "figure = plt.gcf()\n",
    "ax = figure.add_subplot(111)\n",
    "ax.set_xlabel('Prediction', fontsize=20)\n",
    "ax.set_ylabel('Ground Truth', fontsize=20)"
   ]
  }
 ],
 "metadata": {
  "colab": {
   "collapsed_sections": [
    "FASceuwQAOTp",
    "_px_mArrS4Um",
    "ls7X_oTmUC5q"
   ],
   "default_view": {},
   "name": "ml-first-steps.ipynb",
   "provenance": [
    {
     "file_id": "https://github.com/djcordhose/haw/blob/master/notebooks/ml/3-sklearn-decision-trees.ipynb",
     "timestamp": 1527164770517
    }
   ],
   "version": "0.3.2",
   "views": {}
  },
  "kernelspec": {
   "display_name": "Python 3",
   "language": "python",
   "name": "python3"
  },
  "language_info": {
   "codemirror_mode": {
    "name": "ipython",
    "version": 3
   },
   "file_extension": ".py",
   "mimetype": "text/x-python",
   "name": "python",
   "nbconvert_exporter": "python",
   "pygments_lexer": "ipython3",
   "version": "3.6.4"
  }
 },
 "nbformat": 4,
 "nbformat_minor": 1
}
