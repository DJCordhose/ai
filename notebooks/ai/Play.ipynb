{
  "nbformat": 4,
  "nbformat_minor": 0,
  "metadata": {
    "colab": {
      "name": "Play.ipynb",
      "version": "0.3.2",
      "provenance": []
    },
    "kernelspec": {
      "display_name": "Python 3",
      "language": "python",
      "name": "python3"
    }
  },
  "cells": [
    {
      "metadata": {
        "id": "Br30lkbXmcC2",
        "colab_type": "text"
      },
      "cell_type": "markdown",
      "source": [
        "# Robot Run"
      ]
    },
    {
      "metadata": {
        "id": "ouwPZ2aImcC5",
        "colab_type": "text"
      },
      "cell_type": "markdown",
      "source": [
        "## The Game\n",
        "In a certain terrain a Robot (R) plays against a Human player (H)\n",
        "* Both Human and Robot try to reach a goal which is at the same distance from both of them\n",
        "* Blocks (B) and both players block each other"
      ]
    },
    {
      "metadata": {
        "id": "0cz6Y5SqmcC6",
        "colab_type": "code",
        "colab": {}
      },
      "cell_type": "code",
      "source": [
        "terrain = [\n",
        "    [\"_\", \"R\", \"_\", \"_\"],\n",
        "    [\"H\", \"_\", \"B\", \"_\"],\n",
        "    [\"_\", \"_\", \"B\", \"_\"],\n",
        "    [\"B\", \"_\", \"G\", \"_\"]\n",
        "]"
      ],
      "execution_count": 0,
      "outputs": []
    },
    {
      "metadata": {
        "id": "q6371iyLmcC_",
        "colab_type": "text"
      },
      "cell_type": "markdown",
      "source": [
        "## Basic Game Playing Code"
      ]
    },
    {
      "metadata": {
        "id": "eT6bBHQpmcDA",
        "colab_type": "code",
        "colab": {}
      },
      "cell_type": "code",
      "source": [
        "from copy import deepcopy\n",
        "from math import sqrt, pow\n",
        "\n",
        "robot_symbol = 'R'\n",
        "robot_win_symbol = '*'\n",
        "goal_symbol = 'G'\n",
        "human_symbol = 'H'\n",
        "human_win_symbol = '#'\n",
        "blank_symbol = '_'\n",
        "\n",
        "def field_contains(state, symbol):\n",
        "    for row in state:\n",
        "        for field in row:\n",
        "            if field == symbol:\n",
        "                return True\n",
        "    return False   \n",
        "\n",
        "def is_robot_win(state):\n",
        "    return field_contains(state, robot_win_symbol)  \n",
        "\n",
        "def is_human_win(state):\n",
        "    return field_contains(state, human_win_symbol)  \n",
        "\n",
        "def as_string(state):\n",
        "    s = ''\n",
        "    for row in state:\n",
        "        row_string = ''\n",
        "        for field in row:\n",
        "            row_string += field + ' '\n",
        "        s += row_string + '\\n'\n",
        "    return s\n",
        "\n",
        "def locate(state, what):\n",
        "    for row_index, row in enumerate(state):\n",
        "        for column_index, field in enumerate(row):\n",
        "            if field == what:\n",
        "                return (row_index, column_index)\n",
        "\n",
        "def check_position(state, position):\n",
        "    max_row = len(state) - 1\n",
        "    max_column = len(state[0]) - 1\n",
        "    if position[0] < 0 or position[0] > max_row or position[1] < 0 or position[1] > max_column:\n",
        "        return False\n",
        "    symbol = state[position[0]][position[1]]\n",
        "    if symbol != blank_symbol and symbol != goal_symbol:\n",
        "        return False\n",
        "    return True\n",
        "            \n",
        "def player_moves(state, player_symbol):\n",
        "    player = locate(state, player_symbol)\n",
        "    left = (player[0], player[1] - 1)\n",
        "    right = (player[0], player[1] + 1)\n",
        "    up = (player[0] - 1, player[1])\n",
        "    down = (player[0] + 1, player[1])\n",
        "    valid_moves = [move for move in (left, right, down, up) if check_position(state, move)]\n",
        "    return valid_moves\n",
        "            \n",
        "def place_player(state, player, player_symbol, player_win_symbol):\n",
        "    old_player = locate(state, player_symbol)\n",
        "    new_state = deepcopy(state)\n",
        "    new_state[old_player[0]][old_player[1]] = blank_symbol\n",
        "    if new_state[player[0]][player[1]] == goal_symbol:\n",
        "        new_state[player[0]][player[1]] = player_win_symbol\n",
        "    else:\n",
        "        new_state[player[0]][player[1]] = player_symbol\n",
        "    return new_state\n",
        "\n",
        "def expand(state, player_symbol, player_win_symbol):\n",
        "    valid_moves = player_moves(state, player_symbol)\n",
        "    new_states = [(position, place_player(state, position, player_symbol, player_win_symbol)) for position in valid_moves]\n",
        "    return new_states\n",
        "\n",
        "def expand_robot(state):\n",
        "    return expand(state, robot_symbol, robot_win_symbol)\n",
        "\n",
        "def expand_human(state):\n",
        "    return expand(state, human_symbol, human_win_symbol)\n",
        "\n",
        "def distance(pos1, pos2):\n",
        "    if pos1 and pos2:\n",
        "        return sqrt(pow(pos1[0] - pos2[0], 2) + pow(pos1[1] - pos2[1], 2))\n",
        "    else:\n",
        "        return 0\n",
        "    \n",
        "def estimate_state(state):\n",
        "    goal_position = locate(state, goal_symbol)\n",
        "\n",
        "    robot_position = locate(state, robot_symbol)\n",
        "    human_position = locate(state, human_symbol)\n",
        "    \n",
        "    robot_distance = distance(robot_position, goal_position)\n",
        "    human_distance = distance(human_position, goal_position)\n",
        "\n",
        "    estimated_value = human_distance - robot_distance \n",
        "    return estimated_value"
      ],
      "execution_count": 0,
      "outputs": []
    },
    {
      "metadata": {
        "id": "aE-mnMBxmcDD",
        "colab_type": "text"
      },
      "cell_type": "markdown",
      "source": [
        "## Depth first search as a recursive solution"
      ]
    },
    {
      "metadata": {
        "id": "IyT5aPBRmcDD",
        "colab_type": "code",
        "colab": {}
      },
      "cell_type": "code",
      "source": [
        "# https://en.wikipedia.org/wiki/Depth-first_search\n",
        "# 1  procedure DFS(G,v):\n",
        "# 2      label v as discovered\n",
        "# 3      for all edges from v to w in G.adjacentEdges(v) do\n",
        "# 4          if vertex w is not labeled as discovered then\n",
        "# 5              recursively call DFS(G,w)\n",
        "\n",
        "def depth_first_search(state, max_depth=10, debug=False, closed_list=[], depth = 0, path=[]):\n",
        "    if as_string(state) in closed_list or depth > max_depth:\n",
        "        return None\n",
        "    \n",
        "    if debug:\n",
        "        print('depth', depth)\n",
        "        print('closed_list', closed_list)\n",
        "        print('path', path)\n",
        "        print('state', as_string(state))\n",
        "        \n",
        "    if is_robot_win(state):\n",
        "        return path\n",
        "    \n",
        "    closed_list = closed_list + [as_string(state)]\n",
        "    \n",
        "    for move, next_state in expand_robot(state):\n",
        "        new_path = path + [move]\n",
        "        res = depth_first_search(next_state, max_depth, debug, closed_list, depth + 1, new_path)\n",
        "        if res:\n",
        "            return res"
      ],
      "execution_count": 0,
      "outputs": []
    },
    {
      "metadata": {
        "id": "ar9P9NR9mcDG",
        "colab_type": "text"
      },
      "cell_type": "markdown",
      "source": [
        "### This quite obviously is not the shortest path, but who cares, as long as your robot wins"
      ]
    },
    {
      "metadata": {
        "id": "DxfQVyREmcDH",
        "colab_type": "code",
        "colab": {
          "base_uri": "https://localhost:8080/",
          "height": 85
        },
        "outputId": "0a164021-c9a6-4b5e-f82a-f0b98c524a33"
      },
      "cell_type": "code",
      "source": [
        "terrain"
      ],
      "execution_count": 4,
      "outputs": [
        {
          "output_type": "execute_result",
          "data": {
            "text/plain": [
              "[['_', 'R', '_', '_'],\n",
              " ['H', '_', 'B', '_'],\n",
              " ['_', '_', 'B', '_'],\n",
              " ['B', '_', 'G', '_']]"
            ]
          },
          "metadata": {
            "tags": []
          },
          "execution_count": 4
        }
      ]
    },
    {
      "metadata": {
        "id": "ri6B27NamcDO",
        "colab_type": "code",
        "colab": {
          "base_uri": "https://localhost:8080/",
          "height": 34
        },
        "outputId": "5fb19236-cb2f-465f-ba28-48492af20fbd"
      },
      "cell_type": "code",
      "source": [
        "depth_first_search(terrain)"
      ],
      "execution_count": 5,
      "outputs": [
        {
          "output_type": "execute_result",
          "data": {
            "text/plain": [
              "[(0, 2), (0, 3), (1, 3), (2, 3), (3, 3), (3, 2)]"
            ]
          },
          "metadata": {
            "tags": []
          },
          "execution_count": 5
        }
      ]
    },
    {
      "metadata": {
        "id": "_ttqMPwwmcDS",
        "colab_type": "text"
      },
      "cell_type": "markdown",
      "source": [
        "## Minimax\n",
        "### This is not good enough, because now we have an adversary"
      ]
    },
    {
      "metadata": {
        "id": "1QZGilwhmcDS",
        "colab_type": "code",
        "colab": {}
      },
      "cell_type": "code",
      "source": [
        "# https://en.wikipedia.org/wiki/Minimax\n",
        "# robot is maximizer, human is minimizer\n",
        "\n",
        "min = float('-inf')\n",
        "max = float('inf')\n",
        "\n",
        "def mini_max(state, is_robot_move=True, max_depth=10, debug=False, verbose=False, depth = 0):\n",
        "    if debug:\n",
        "        print('-----')\n",
        "        print('is_robot_move', is_robot_move)\n",
        "        print('depth', depth)\n",
        "        print('inspecting state')\n",
        "        print(as_string(state))\n",
        "        \n",
        "    if is_robot_win(state):\n",
        "        if verbose:\n",
        "            print('-----')\n",
        "            print('robot win detected')\n",
        "            print('depth', depth)\n",
        "            print('state', state)\n",
        "            print('-----')\n",
        "        return (max, None)\n",
        "    \n",
        "    if is_human_win(state):\n",
        "        if verbose:\n",
        "            print('-----')\n",
        "            print('human win detected')\n",
        "            print('depth', depth)\n",
        "            print('state', state)\n",
        "            print('-----')\n",
        "        return (min, None)\n",
        "    \n",
        "    if depth == max_depth:\n",
        "        estimated_value = estimate_state(state)\n",
        "        if verbose:\n",
        "            print('max depth reached, estimation at edge {}'.format(estimated_value))\n",
        "        return (estimated_value, None)\n",
        "    \n",
        "    if is_robot_move:\n",
        "        best_value = min\n",
        "        best_move = None\n",
        "        for move, next_state in expand_robot(state):\n",
        "            value_for_move, _ =\\\n",
        "                mini_max(next_state, is_robot_move=False, max_depth=max_depth, debug=debug, verbose=verbose, depth = depth + 1)\n",
        "            if value_for_move > best_value:\n",
        "                best_value = value_for_move\n",
        "                best_move = next_state\n",
        "        return (best_value, best_move)\n",
        "    else:\n",
        "        best_value = max\n",
        "        best_move = None\n",
        "        for move, next_state in expand_human(state):\n",
        "            value_for_move, _, =\\\n",
        "                mini_max(next_state, is_robot_move=True, max_depth=max_depth, debug=debug, verbose=verbose, depth = depth + 1)\n",
        "            if value_for_move < best_value:\n",
        "                best_value = value_for_move\n",
        "                best_move = next_state\n",
        "        return (best_value, best_move)"
      ],
      "execution_count": 0,
      "outputs": []
    },
    {
      "metadata": {
        "id": "XZw-UaWjmcDV",
        "colab_type": "code",
        "colab": {
          "base_uri": "https://localhost:8080/",
          "height": 85
        },
        "outputId": "158e855d-6a50-4f93-b44d-b6c3373973ee"
      },
      "cell_type": "code",
      "source": [
        "terrain"
      ],
      "execution_count": 7,
      "outputs": [
        {
          "output_type": "execute_result",
          "data": {
            "text/plain": [
              "[['_', 'R', '_', '_'],\n",
              " ['H', '_', 'B', '_'],\n",
              " ['_', '_', 'B', '_'],\n",
              " ['B', '_', 'G', '_']]"
            ]
          },
          "metadata": {
            "tags": []
          },
          "execution_count": 7
        }
      ]
    },
    {
      "metadata": {
        "id": "5eo8rtnymcDb",
        "colab_type": "text"
      },
      "cell_type": "markdown",
      "source": [
        "### It seems like who ever starts wins"
      ]
    },
    {
      "metadata": {
        "id": "Oz6fIn5nmcDc",
        "colab_type": "code",
        "colab": {
          "base_uri": "https://localhost:8080/",
          "height": 102
        },
        "outputId": "392ab17f-d96c-48c0-fb1a-8d47c4cede0a"
      },
      "cell_type": "code",
      "source": [
        "mini_max(terrain)"
      ],
      "execution_count": 8,
      "outputs": [
        {
          "output_type": "execute_result",
          "data": {
            "text/plain": [
              "(inf,\n",
              " [['_', '_', '_', '_'],\n",
              "  ['H', 'R', 'B', '_'],\n",
              "  ['_', '_', 'B', '_'],\n",
              "  ['B', '_', 'G', '_']])"
            ]
          },
          "metadata": {
            "tags": []
          },
          "execution_count": 8
        }
      ]
    },
    {
      "metadata": {
        "id": "TIvGZRoBmcDl",
        "colab_type": "code",
        "colab": {
          "base_uri": "https://localhost:8080/",
          "height": 102
        },
        "outputId": "2234b604-ba80-43d8-d034-247dc2d24269"
      },
      "cell_type": "code",
      "source": [
        "mini_max(terrain, is_robot_move=False)"
      ],
      "execution_count": 9,
      "outputs": [
        {
          "output_type": "execute_result",
          "data": {
            "text/plain": [
              "(-inf,\n",
              " [['_', 'R', '_', '_'],\n",
              "  ['_', 'H', 'B', '_'],\n",
              "  ['_', '_', 'B', '_'],\n",
              "  ['B', '_', 'G', '_']])"
            ]
          },
          "metadata": {
            "tags": []
          },
          "execution_count": 9
        }
      ]
    },
    {
      "metadata": {
        "id": "DLFQmNIJmcDp",
        "colab_type": "code",
        "colab": {}
      },
      "cell_type": "code",
      "source": [
        "simple_terrain = [\n",
        "    [\"R\", \"_\" ],\n",
        "    [\"_\", \"G\"],\n",
        "    [\"H\", \"_\"]\n",
        "]"
      ],
      "execution_count": 0,
      "outputs": []
    },
    {
      "metadata": {
        "id": "KLhM8x2TmcDw",
        "colab_type": "code",
        "colab": {
          "base_uri": "https://localhost:8080/",
          "height": 357
        },
        "outputId": "754ecf8e-db41-4d0e-858e-f498ea1b80db"
      },
      "cell_type": "code",
      "source": [
        "# after 3 moves in total (2 robot, 1 human) we have a win for robot\n",
        "# mini_max(simple_terrain, max_depth = 1)\n",
        "# mini_max(simple_terrain, max_depth = 2)\n",
        "mini_max(simple_terrain, max_depth = 3, verbose=True)"
      ],
      "execution_count": 11,
      "outputs": [
        {
          "output_type": "stream",
          "text": [
            "max depth reached, estimation at edge -0.41421356237309515\n",
            "-----\n",
            "robot win detected\n",
            "depth 3\n",
            "state [['_', '_'], ['_', '*'], ['_', 'H']]\n",
            "-----\n",
            "max depth reached, estimation at edge -0.41421356237309515\n",
            "-----\n",
            "robot win detected\n",
            "depth 3\n",
            "state [['_', '_'], ['H', '*'], ['_', '_']]\n",
            "-----\n",
            "-----\n",
            "robot win detected\n",
            "depth 3\n",
            "state [['_', '_'], ['_', '*'], ['_', 'H']]\n",
            "-----\n",
            "max depth reached, estimation at edge -0.41421356237309515\n",
            "max depth reached, estimation at edge -0.41421356237309515\n"
          ],
          "name": "stdout"
        },
        {
          "output_type": "execute_result",
          "data": {
            "text/plain": [
              "(inf, [['_', 'R'], ['_', 'G'], ['H', '_']])"
            ]
          },
          "metadata": {
            "tags": []
          },
          "execution_count": 11
        }
      ]
    },
    {
      "metadata": {
        "id": "YGoDW6E-mcD0",
        "colab_type": "text"
      },
      "cell_type": "markdown",
      "source": [
        "## Alpha Beta Pruning\n",
        "### We are checking on a lot of obviously stupid moves\n",
        "* we repeatedly check for robot win, even though we could know we already won\n",
        "* if we did not we could look at more promising moves instead\n",
        "* this of course would only pay off in larger mazes"
      ]
    },
    {
      "metadata": {
        "id": "ztozbLuBmcD1",
        "colab_type": "code",
        "colab": {}
      },
      "cell_type": "code",
      "source": [
        "# https://en.wikipedia.org/wiki/Alpha%E2%80%93beta_pruning\n",
        "def alpha_beta(state, alpha = min, beta = max, is_robot_move=True, max_depth=10, depth = 0, verbose=True, debug=False):\n",
        "    if debug:\n",
        "        print('-----')\n",
        "        print('is_robot_move', is_robot_move)\n",
        "        print('depth', depth)\n",
        "        print('inspecting state')\n",
        "        print(as_string(state))\n",
        "\n",
        "    if is_robot_win(state):\n",
        "        if verbose:\n",
        "            print('-----')\n",
        "            print('robot win detected')\n",
        "            print('depth', depth)\n",
        "            print('state', state)\n",
        "            print('-----')\n",
        "        return (max, None)\n",
        "    \n",
        "    if is_human_win(state):\n",
        "        if verbose:\n",
        "            print('-----')\n",
        "            print('human win detected')\n",
        "            print('depth', depth)\n",
        "            print('state', state)\n",
        "            print('-----')\n",
        "        return (min, None)\n",
        "    \n",
        "    if depth == max_depth:\n",
        "        estimated_value = estimate_state(state)\n",
        "        if verbose:\n",
        "            print('max depth reached, estimation at edge {}'.format(estimated_value))\n",
        "\n",
        "        return (estimated_value, None)\n",
        "    \n",
        "    if is_robot_move:\n",
        "        best_value = min\n",
        "        best_move = None\n",
        "        for move, next_state in expand_robot(state):\n",
        "            value_for_move, _ =\\\n",
        "                alpha_beta(next_state, is_robot_move=False, alpha = alpha, beta = beta, max_depth=max_depth, verbose=verbose, debug=debug, depth = depth + 1)\n",
        "            if value_for_move > best_value:\n",
        "                best_value = value_for_move\n",
        "                best_move = next_state\n",
        "            if best_value > alpha:\n",
        "                if debug:\n",
        "                    print('adjusting alpha from {} to {}'.format(alpha, best_value))\n",
        "                alpha = best_value\n",
        "            if beta <= alpha:\n",
        "                if debug:\n",
        "                    print('breaking, beta {} <= alpha {}'.format(beta, alpha))\n",
        "                break\n",
        "        return (best_value, best_move)\n",
        "    else:\n",
        "        best_value = max\n",
        "        best_move = None\n",
        "        for move, next_state in expand_human(state):\n",
        "            value_for_move, _, =\\\n",
        "                alpha_beta(next_state, is_robot_move=True, alpha = alpha, beta = beta, max_depth=max_depth, verbose=verbose, debug=debug, depth = depth + 1)\n",
        "            if value_for_move < best_value:\n",
        "                best_value = value_for_move\n",
        "                best_move = next_state\n",
        "            if best_value < beta:\n",
        "                if debug:\n",
        "                    print('adjusting beta from {} to {}'.format(beta, best_value))\n",
        "                beta = best_value\n",
        "            if beta <= alpha:\n",
        "                if debug:\n",
        "                    print('breaking, beta {} <= alpha {}'.format(beta, alpha))\n",
        "                break\n",
        "        return (best_value, best_move)"
      ],
      "execution_count": 0,
      "outputs": []
    },
    {
      "metadata": {
        "id": "G4iHPBjhmcD5",
        "colab_type": "code",
        "colab": {
          "base_uri": "https://localhost:8080/",
          "height": 680
        },
        "outputId": "e08992e4-7ea8-4552-ecff-d36a336148e2"
      },
      "cell_type": "code",
      "source": [
        "mini_max(simple_terrain, max_depth = 4, verbose=True)"
      ],
      "execution_count": 13,
      "outputs": [
        {
          "output_type": "stream",
          "text": [
            "max depth reached, estimation at edge 0.0\n",
            "-----\n",
            "human win detected\n",
            "depth 4\n",
            "state [['R', '_'], ['_', '#'], ['_', '_']]\n",
            "-----\n",
            "-----\n",
            "robot win detected\n",
            "depth 3\n",
            "state [['_', '_'], ['_', '*'], ['_', 'H']]\n",
            "-----\n",
            "-----\n",
            "human win detected\n",
            "depth 4\n",
            "state [['R', '_'], ['_', '#'], ['_', '_']]\n",
            "-----\n",
            "max depth reached, estimation at edge 0.0\n",
            "-----\n",
            "robot win detected\n",
            "depth 3\n",
            "state [['_', '_'], ['H', '*'], ['_', '_']]\n",
            "-----\n",
            "-----\n",
            "robot win detected\n",
            "depth 3\n",
            "state [['_', '_'], ['_', '*'], ['_', 'H']]\n",
            "-----\n",
            "-----\n",
            "human win detected\n",
            "depth 4\n",
            "state [['_', '_'], ['_', '#'], ['R', '_']]\n",
            "-----\n",
            "max depth reached, estimation at edge 0.0\n",
            "-----\n",
            "human win detected\n",
            "depth 4\n",
            "state [['R', '_'], ['_', '#'], ['_', '_']]\n",
            "-----\n"
          ],
          "name": "stdout"
        },
        {
          "output_type": "execute_result",
          "data": {
            "text/plain": [
              "(inf, [['_', 'R'], ['_', 'G'], ['H', '_']])"
            ]
          },
          "metadata": {
            "tags": []
          },
          "execution_count": 13
        }
      ]
    },
    {
      "metadata": {
        "id": "JzhDiShwmcEA",
        "colab_type": "code",
        "colab": {
          "base_uri": "https://localhost:8080/",
          "height": 391
        },
        "outputId": "8fb0888a-5753-4cb6-9998-e3712585a384"
      },
      "cell_type": "code",
      "source": [
        "alpha_beta(simple_terrain, max_depth = 4, verbose=True)"
      ],
      "execution_count": 14,
      "outputs": [
        {
          "output_type": "stream",
          "text": [
            "max depth reached, estimation at edge 0.0\n",
            "-----\n",
            "human win detected\n",
            "depth 4\n",
            "state [['R', '_'], ['_', '#'], ['_', '_']]\n",
            "-----\n",
            "-----\n",
            "robot win detected\n",
            "depth 3\n",
            "state [['_', '_'], ['_', '*'], ['_', 'H']]\n",
            "-----\n",
            "-----\n",
            "human win detected\n",
            "depth 4\n",
            "state [['R', '_'], ['_', '#'], ['_', '_']]\n",
            "-----\n",
            "-----\n",
            "robot win detected\n",
            "depth 3\n",
            "state [['_', '_'], ['H', '*'], ['_', '_']]\n",
            "-----\n"
          ],
          "name": "stdout"
        },
        {
          "output_type": "execute_result",
          "data": {
            "text/plain": [
              "(inf, [['_', 'R'], ['_', 'G'], ['H', '_']])"
            ]
          },
          "metadata": {
            "tags": []
          },
          "execution_count": 14
        }
      ]
    },
    {
      "metadata": {
        "id": "nXcvhGWVmcEF",
        "colab_type": "code",
        "colab": {
          "base_uri": "https://localhost:8080/",
          "height": 136
        },
        "outputId": "d4f9acec-0a85-4d75-c74e-27e7a79f3a72"
      },
      "cell_type": "code",
      "source": [
        "%time mini_max(terrain, max_depth = 15, verbose=False)"
      ],
      "execution_count": 15,
      "outputs": [
        {
          "output_type": "stream",
          "text": [
            "CPU times: user 11.2 s, sys: 433 µs, total: 11.2 s\n",
            "Wall time: 11.2 s\n"
          ],
          "name": "stdout"
        },
        {
          "output_type": "execute_result",
          "data": {
            "text/plain": [
              "(inf,\n",
              " [['_', '_', '_', '_'],\n",
              "  ['H', 'R', 'B', '_'],\n",
              "  ['_', '_', 'B', '_'],\n",
              "  ['B', '_', 'G', '_']])"
            ]
          },
          "metadata": {
            "tags": []
          },
          "execution_count": 15
        }
      ]
    },
    {
      "metadata": {
        "id": "iaksqTCKmcEJ",
        "colab_type": "code",
        "colab": {
          "base_uri": "https://localhost:8080/",
          "height": 136
        },
        "outputId": "563af0b5-593c-4802-da40-f9a9977c58ed"
      },
      "cell_type": "code",
      "source": [
        "%time alpha_beta(terrain, max_depth = 15, verbose=False)"
      ],
      "execution_count": 16,
      "outputs": [
        {
          "output_type": "stream",
          "text": [
            "CPU times: user 249 ms, sys: 2 ms, total: 251 ms\n",
            "Wall time: 252 ms\n"
          ],
          "name": "stdout"
        },
        {
          "output_type": "execute_result",
          "data": {
            "text/plain": [
              "(inf,\n",
              " [['_', '_', '_', '_'],\n",
              "  ['H', 'R', 'B', '_'],\n",
              "  ['_', '_', 'B', '_'],\n",
              "  ['B', '_', 'G', '_']])"
            ]
          },
          "metadata": {
            "tags": []
          },
          "execution_count": 16
        }
      ]
    },
    {
      "metadata": {
        "id": "kfB0pRpfmcEN",
        "colab_type": "code",
        "colab": {
          "base_uri": "https://localhost:8080/",
          "height": 136
        },
        "outputId": "557ac3fa-969d-4703-a385-51302060f5fc"
      },
      "cell_type": "code",
      "source": [
        "%time alpha_beta(terrain, max_depth = 20, verbose=False)"
      ],
      "execution_count": 17,
      "outputs": [
        {
          "output_type": "stream",
          "text": [
            "CPU times: user 1.36 s, sys: 0 ns, total: 1.36 s\n",
            "Wall time: 1.36 s\n"
          ],
          "name": "stdout"
        },
        {
          "output_type": "execute_result",
          "data": {
            "text/plain": [
              "(inf,\n",
              " [['_', '_', '_', '_'],\n",
              "  ['H', 'R', 'B', '_'],\n",
              "  ['_', '_', 'B', '_'],\n",
              "  ['B', '_', 'G', '_']])"
            ]
          },
          "metadata": {
            "tags": []
          },
          "execution_count": 17
        }
      ]
    },
    {
      "metadata": {
        "id": "fBf0AoNUmcER",
        "colab_type": "code",
        "colab": {
          "base_uri": "https://localhost:8080/",
          "height": 136
        },
        "outputId": "f1fdac25-98eb-443b-9b18-64713f45b31f"
      },
      "cell_type": "code",
      "source": [
        "%time alpha_beta(terrain, max_depth = 25, verbose=False)"
      ],
      "execution_count": 18,
      "outputs": [
        {
          "output_type": "stream",
          "text": [
            "CPU times: user 8.68 s, sys: 2.98 ms, total: 8.68 s\n",
            "Wall time: 8.68 s\n"
          ],
          "name": "stdout"
        },
        {
          "output_type": "execute_result",
          "data": {
            "text/plain": [
              "(inf,\n",
              " [['_', '_', '_', '_'],\n",
              "  ['H', 'R', 'B', '_'],\n",
              "  ['_', '_', 'B', '_'],\n",
              "  ['B', '_', 'G', '_']])"
            ]
          },
          "metadata": {
            "tags": []
          },
          "execution_count": 18
        }
      ]
    },
    {
      "metadata": {
        "id": "qIdTFqNTmcEV",
        "colab_type": "code",
        "colab": {}
      },
      "cell_type": "code",
      "source": [
        "%time alpha_beta(terrain, max_depth = 30, verbose=False)"
      ],
      "execution_count": 0,
      "outputs": []
    },
    {
      "metadata": {
        "id": "sUWhcT0dmcEX",
        "colab_type": "code",
        "colab": {},
        "outputId": "e15c8da7-80cc-4c7d-f32e-777ebca96aad"
      },
      "cell_type": "code",
      "source": [
        "simple_terrain"
      ],
      "execution_count": 0,
      "outputs": [
        {
          "output_type": "execute_result",
          "data": {
            "text/plain": [
              "[['R', '_'], ['_', 'G'], ['H', '_']]"
            ]
          },
          "metadata": {
            "tags": []
          },
          "execution_count": 19
        }
      ]
    },
    {
      "metadata": {
        "id": "kAEZ2JhJmcEa",
        "colab_type": "code",
        "colab": {},
        "outputId": "6e67c89d-0cef-4175-a774-077e5eb521c7"
      },
      "cell_type": "code",
      "source": [
        "# booth mini max and alpha beta expand the same left side, but alpha beta prunes complete right side (see mini-max-tree.jpg)\n",
        "mini_max(simple_terrain, max_depth = 3, verbose=True, debug=True)"
      ],
      "execution_count": 0,
      "outputs": [
        {
          "output_type": "stream",
          "text": [
            "-----\n",
            "is_robot_move True\n",
            "depth 0\n",
            "inspecting state\n",
            "R _ \n",
            "_ G \n",
            "H _ \n",
            "\n",
            "-----\n",
            "is_robot_move False\n",
            "depth 1\n",
            "inspecting state\n",
            "_ R \n",
            "_ G \n",
            "H _ \n",
            "\n",
            "-----\n",
            "is_robot_move True\n",
            "depth 2\n",
            "inspecting state\n",
            "_ R \n",
            "_ G \n",
            "_ H \n",
            "\n",
            "-----\n",
            "is_robot_move False\n",
            "depth 3\n",
            "inspecting state\n",
            "R _ \n",
            "_ G \n",
            "_ H \n",
            "\n",
            "max depth reached, estimation at edge -0.41421356237309515\n",
            "-----\n",
            "is_robot_move False\n",
            "depth 3\n",
            "inspecting state\n",
            "_ _ \n",
            "_ * \n",
            "_ H \n",
            "\n",
            "-----\n",
            "robot win detected\n",
            "depth 3\n",
            "state [['_', '_'], ['_', '*'], ['_', 'H']]\n",
            "-----\n",
            "-----\n",
            "is_robot_move True\n",
            "depth 2\n",
            "inspecting state\n",
            "_ R \n",
            "H G \n",
            "_ _ \n",
            "\n",
            "-----\n",
            "is_robot_move False\n",
            "depth 3\n",
            "inspecting state\n",
            "R _ \n",
            "H G \n",
            "_ _ \n",
            "\n",
            "max depth reached, estimation at edge -0.41421356237309515\n",
            "-----\n",
            "is_robot_move False\n",
            "depth 3\n",
            "inspecting state\n",
            "_ _ \n",
            "H * \n",
            "_ _ \n",
            "\n",
            "-----\n",
            "robot win detected\n",
            "depth 3\n",
            "state [['_', '_'], ['H', '*'], ['_', '_']]\n",
            "-----\n",
            "-----\n",
            "is_robot_move False\n",
            "depth 1\n",
            "inspecting state\n",
            "_ _ \n",
            "R G \n",
            "H _ \n",
            "\n",
            "-----\n",
            "is_robot_move True\n",
            "depth 2\n",
            "inspecting state\n",
            "_ _ \n",
            "R G \n",
            "_ H \n",
            "\n",
            "-----\n",
            "is_robot_move False\n",
            "depth 3\n",
            "inspecting state\n",
            "_ _ \n",
            "_ * \n",
            "_ H \n",
            "\n",
            "-----\n",
            "robot win detected\n",
            "depth 3\n",
            "state [['_', '_'], ['_', '*'], ['_', 'H']]\n",
            "-----\n",
            "-----\n",
            "is_robot_move False\n",
            "depth 3\n",
            "inspecting state\n",
            "_ _ \n",
            "_ G \n",
            "R H \n",
            "\n",
            "max depth reached, estimation at edge -0.41421356237309515\n",
            "-----\n",
            "is_robot_move False\n",
            "depth 3\n",
            "inspecting state\n",
            "R _ \n",
            "_ G \n",
            "_ H \n",
            "\n",
            "max depth reached, estimation at edge -0.41421356237309515\n"
          ],
          "name": "stdout"
        },
        {
          "output_type": "execute_result",
          "data": {
            "text/plain": [
              "(inf, [['_', 'R'], ['_', 'G'], ['H', '_']])"
            ]
          },
          "metadata": {
            "tags": []
          },
          "execution_count": 20
        }
      ]
    },
    {
      "metadata": {
        "id": "o5WNQam5mcEh",
        "colab_type": "code",
        "colab": {},
        "outputId": "c802edba-a316-4bf5-a0cc-421841eae894"
      },
      "cell_type": "code",
      "source": [
        "alpha_beta(simple_terrain, max_depth = 3, verbose=True, debug=True)"
      ],
      "execution_count": 0,
      "outputs": [
        {
          "output_type": "stream",
          "text": [
            "-----\n",
            "is_robot_move True\n",
            "depth 0\n",
            "inspecting state\n",
            "R _ \n",
            "_ G \n",
            "H _ \n",
            "\n",
            "-----\n",
            "is_robot_move False\n",
            "depth 1\n",
            "inspecting state\n",
            "_ R \n",
            "_ G \n",
            "H _ \n",
            "\n",
            "-----\n",
            "is_robot_move True\n",
            "depth 2\n",
            "inspecting state\n",
            "_ R \n",
            "_ G \n",
            "_ H \n",
            "\n",
            "-----\n",
            "is_robot_move False\n",
            "depth 3\n",
            "inspecting state\n",
            "R _ \n",
            "_ G \n",
            "_ H \n",
            "\n",
            "max depth reached, estimation at edge -0.41421356237309515\n",
            "adjusting alpha from -inf to -0.41421356237309515\n",
            "-----\n",
            "is_robot_move False\n",
            "depth 3\n",
            "inspecting state\n",
            "_ _ \n",
            "_ * \n",
            "_ H \n",
            "\n",
            "-----\n",
            "robot win detected\n",
            "depth 3\n",
            "state [['_', '_'], ['_', '*'], ['_', 'H']]\n",
            "-----\n",
            "adjusting alpha from -0.41421356237309515 to inf\n",
            "breaking, beta inf <= alpha inf\n",
            "-----\n",
            "is_robot_move True\n",
            "depth 2\n",
            "inspecting state\n",
            "_ R \n",
            "H G \n",
            "_ _ \n",
            "\n",
            "-----\n",
            "is_robot_move False\n",
            "depth 3\n",
            "inspecting state\n",
            "R _ \n",
            "H G \n",
            "_ _ \n",
            "\n",
            "max depth reached, estimation at edge -0.41421356237309515\n",
            "adjusting alpha from -inf to -0.41421356237309515\n",
            "-----\n",
            "is_robot_move False\n",
            "depth 3\n",
            "inspecting state\n",
            "_ _ \n",
            "H * \n",
            "_ _ \n",
            "\n",
            "-----\n",
            "robot win detected\n",
            "depth 3\n",
            "state [['_', '_'], ['H', '*'], ['_', '_']]\n",
            "-----\n",
            "adjusting alpha from -0.41421356237309515 to inf\n",
            "breaking, beta inf <= alpha inf\n",
            "adjusting alpha from -inf to inf\n",
            "breaking, beta inf <= alpha inf\n"
          ],
          "name": "stdout"
        },
        {
          "output_type": "execute_result",
          "data": {
            "text/plain": [
              "(inf, [['_', 'R'], ['_', 'G'], ['H', '_']])"
            ]
          },
          "metadata": {
            "tags": []
          },
          "execution_count": 21
        }
      ]
    },
    {
      "metadata": {
        "id": "O56XkBv6mcEm",
        "colab_type": "code",
        "colab": {}
      },
      "cell_type": "code",
      "source": [
        ""
      ],
      "execution_count": 0,
      "outputs": []
    }
  ]
}