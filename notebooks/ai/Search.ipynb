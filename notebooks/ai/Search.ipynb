{
 "cells": [
  {
   "cell_type": "markdown",
   "metadata": {},
   "source": [
    "# Robot Run\n",
    "Illustrating search on a graph for __route planning__ for\n",
    "* depth first\n",
    "* breadth first\n",
    "* A*\n",
    "\n",
    "**This needs a closed list as we are searching on graphs, not trees**\n",
    "\n",
    "<!---\n",
    "![Types of Search](search.jpg \"Types of Search\")\n",
    "-->"
   ]
  },
  {
   "cell_type": "markdown",
   "metadata": {},
   "source": [
    "## Possible Challenge\n",
    "* Find yourself a problem that can be transformed to a search problem\n",
    "* Experiment with different search strategies and see how they do on your problem\n",
    "* Port this to your favorite language\n",
    "* How does this apply to route planing @Google? https://www.quora.com/How-does-the-algorithm-of-Google-Maps-work"
   ]
  },
  {
   "cell_type": "markdown",
   "metadata": {},
   "source": [
    "Local Installation:\n",
    "* https://www.anaconda.com/download/\n",
    "* git clone git@github.com:DJCordhose/haw.git\n",
    "* cd haw/notebooks\n",
    "* jupyter notebook\n",
    "\n",
    "Or clone on Azure Notebooks\n",
    "* https://notebooks.azure.com/djcordhose/libraries/ai-haw"
   ]
  },
  {
   "cell_type": "markdown",
   "metadata": {},
   "source": [
    "## The Game\n",
    "\n",
    "In a certain terrain a Robot (R) has to navigate to a Goal (G) avoiding Blocks (B)\n",
    "\n",
    "If you do not find the graphics too appealing, just draw yourself some better robot / monster and envisen better graphics."
   ]
  },
  {
   "cell_type": "code",
   "execution_count": 1,
   "metadata": {},
   "outputs": [],
   "source": [
    "terrain = [\n",
    "    [\"_\", \"R\", \"_\", \"_\"],\n",
    "    [\"B\", \"_\", \"B\", \"_\"],\n",
    "    [\"_\", \"_\", \"B\", \"_\"],\n",
    "    [\"B\", \"_\", \"G\", \"_\"]\n",
    "]"
   ]
  },
  {
   "cell_type": "markdown",
   "metadata": {},
   "source": [
    "## Basic Game Playing Code"
   ]
  },
  {
   "cell_type": "code",
   "execution_count": 2,
   "metadata": {},
   "outputs": [],
   "source": [
    "from copy import deepcopy\n",
    "\n",
    "robot_symbol = 'R'\n",
    "robot_win_symbol = '*'\n",
    "goal_symbol = 'G'\n",
    "human_symbol = 'H'\n",
    "blank_symbol = '_'\n",
    "\n",
    "def is_robot_win(state):\n",
    "    for row in state:\n",
    "        for field in row:\n",
    "            if field == robot_win_symbol:\n",
    "                return True\n",
    "    return False   \n",
    "\n",
    "def as_string(state):\n",
    "    s = ''\n",
    "    for row in state:\n",
    "        row_string = ''\n",
    "        for field in row:\n",
    "            row_string += field + ' '\n",
    "        s += row_string + '\\n'\n",
    "    return s\n",
    "\n",
    "def locate(state, what):\n",
    "    for row_index, row in enumerate(state):\n",
    "        for column_index, field in enumerate(row):\n",
    "            if field == what:\n",
    "                return (row_index, column_index)\n",
    "\n",
    "def check_robot(state, robot):\n",
    "    max_row = len(state) - 1\n",
    "    max_column = len(state[0]) - 1\n",
    "    if robot[0] < 0 or robot[0] > max_row or robot[1] < 0 or robot[1] > max_column:\n",
    "        return False\n",
    "    symbol = state[robot[0]][robot[1]]\n",
    "    if symbol != blank_symbol and symbol != goal_symbol:\n",
    "        return False\n",
    "    return True\n",
    "            \n",
    "def robot_moves(state):\n",
    "    robot = locate(state, robot_symbol)\n",
    "    left = (robot[0], robot[1] - 1)\n",
    "    right = (robot[0], robot[1] + 1)\n",
    "    up = (robot[0] - 1, robot[1])\n",
    "    down = (robot[0] + 1, robot[1])\n",
    "    valid_moves = [move for move in (left, right, down, up) if check_robot(state, move)]\n",
    "    return valid_moves\n",
    "            \n",
    "def place_robot(state, robot):\n",
    "    old_robot = locate(state, robot_symbol)\n",
    "    new_state = deepcopy(state)\n",
    "    new_state[old_robot[0]][old_robot[1]] = blank_symbol\n",
    "    if new_state[robot[0]][robot[1]] == goal_symbol:\n",
    "        new_state[robot[0]][robot[1]] = robot_win_symbol\n",
    "    else:\n",
    "        new_state[robot[0]][robot[1]] = robot_symbol\n",
    "    return new_state\n",
    "\n",
    "def expand(state):\n",
    "    valid_moves = robot_moves(state)\n",
    "    new_states = [(robot, place_robot(state, robot)) for robot in valid_moves]\n",
    "    return new_states"
   ]
  },
  {
   "cell_type": "markdown",
   "metadata": {},
   "source": [
    "## Generic Search Code"
   ]
  },
  {
   "cell_type": "code",
   "execution_count": 3,
   "metadata": {},
   "outputs": [],
   "source": [
    "def search(root, generate_open_list, debug=False, verbose=True):\n",
    "    closed_list = set()\n",
    "    open_list = []\n",
    "    meta={}\n",
    "    \n",
    "    meta[as_string(root)] = (None, None, 0, 0)\n",
    "    open_list.append(root)\n",
    "    \n",
    "    while open_list:\n",
    "        if debug:\n",
    "            print('closed_list', closed_list)\n",
    "            print('open_list', open_list)\n",
    "\n",
    "        state = open_list.pop(0)\n",
    "        \n",
    "        if is_robot_win(state):\n",
    "            path = construct_path(as_string(state), meta)\n",
    "            if debug:\n",
    "                print('*** goal found ***')\n",
    "                print(as_string(state))\n",
    "            if verbose:\n",
    "                print('nodes visited', len(closed_list))\n",
    "            return path\n",
    "\n",
    "        expanded = expand(state)\n",
    "#         if debug:\n",
    "#             print('expanded', expanded)\n",
    "        to_visit = [x for x in expanded if as_string(x[1]) not in closed_list]\n",
    "#         if debug:\n",
    "#             print('to visit', to_visit)\n",
    "        open_list = generate_open_list(state, to_visit, open_list, meta, debug=debug)\n",
    "        closed_list.add(as_string(state))\n",
    "        \n",
    "def construct_path(state, meta):\n",
    "  path = []\n",
    "  \n",
    "  while True:\n",
    "    row = meta[state]\n",
    "    if row[0]:\n",
    "      state = row[0]\n",
    "      action = row[1]\n",
    "      path.insert(0, action)\n",
    "    else:\n",
    "      break\n",
    "  \n",
    "  return path"
   ]
  },
  {
   "cell_type": "markdown",
   "metadata": {},
   "source": [
    "## Depth First\n",
    "* not guarenteed to find the best route\n",
    "* probably not very efficient"
   ]
  },
  {
   "cell_type": "code",
   "execution_count": 4,
   "metadata": {},
   "outputs": [],
   "source": [
    "# https://en.wikipedia.org/wiki/Depth-first_search\n",
    "\n",
    "def depth_first_kernel(parent, children, open_list, meta, max_depth = 10, debug=False):\n",
    "    new_open_list = list(open_list)\n",
    "    \n",
    "    depth = meta[as_string(parent)][2]\n",
    "    if depth < max_depth:\n",
    "        if debug:\n",
    "            print('visiting level', depth)\n",
    "            print(as_string(parent))\n",
    "            \n",
    "        for action, child in children:\n",
    "            if child not in open_list:\n",
    "                meta[as_string(child)] = (as_string(parent), action, depth + 1)\n",
    "                new_open_list.insert(0, child)\n",
    "    return new_open_list"
   ]
  },
  {
   "cell_type": "code",
   "execution_count": 5,
   "metadata": {},
   "outputs": [],
   "source": [
    "micro_terrain = [\n",
    "    [\"R\", \"_\"],\n",
    "    [\"_\", \"G\"]\n",
    "];  "
   ]
  },
  {
   "cell_type": "code",
   "execution_count": 6,
   "metadata": {},
   "outputs": [
    {
     "name": "stdout",
     "output_type": "stream",
     "text": [
      "nodes visited 2\n"
     ]
    },
    {
     "data": {
      "text/plain": [
       "[(1, 0), (1, 1)]"
      ]
     },
     "execution_count": 6,
     "metadata": {},
     "output_type": "execute_result"
    }
   ],
   "source": [
    "search(micro_terrain, depth_first_kernel)"
   ]
  },
  {
   "cell_type": "code",
   "execution_count": 7,
   "metadata": {},
   "outputs": [
    {
     "name": "stdout",
     "output_type": "stream",
     "text": [
      "closed_list set()\n",
      "open_list [[['R', '_'], ['_', 'G']]]\n",
      "visiting level 0\n",
      "R _ \n",
      "_ G \n",
      "\n",
      "closed_list {'R _ \\n_ G \\n'}\n",
      "open_list [[['_', '_'], ['R', 'G']], [['_', 'R'], ['_', 'G']]]\n",
      "visiting level 1\n",
      "_ _ \n",
      "R G \n",
      "\n",
      "closed_list {'_ _ \\nR G \\n', 'R _ \\n_ G \\n'}\n",
      "open_list [[['_', '_'], ['_', '*']], [['_', 'R'], ['_', 'G']]]\n",
      "*** goal found ***\n",
      "_ _ \n",
      "_ * \n",
      "\n",
      "nodes visited 2\n"
     ]
    },
    {
     "data": {
      "text/plain": [
       "[(1, 0), (1, 1)]"
      ]
     },
     "execution_count": 7,
     "metadata": {},
     "output_type": "execute_result"
    }
   ],
   "source": [
    "search(micro_terrain, depth_first_kernel, debug=True)"
   ]
  },
  {
   "cell_type": "code",
   "execution_count": 8,
   "metadata": {},
   "outputs": [],
   "source": [
    "# will find best path, but many nodes visited\n",
    "simple_terrain = [\n",
    "    [\"R\", \"_\", \"G\"],\n",
    "    [\"_\", \"_\", \"B\"],\n",
    "    [\"_\", \"_\", \"_\"]\n",
    "]"
   ]
  },
  {
   "cell_type": "code",
   "execution_count": 9,
   "metadata": {},
   "outputs": [
    {
     "name": "stdout",
     "output_type": "stream",
     "text": [
      "nodes visited 7\n"
     ]
    },
    {
     "data": {
      "text/plain": [
       "[(0, 1), (0, 2)]"
      ]
     },
     "execution_count": 9,
     "metadata": {},
     "output_type": "execute_result"
    }
   ],
   "source": [
    "# this finds the best path, but it is not guaranteed at all\n",
    "search(simple_terrain, depth_first_kernel)"
   ]
  },
  {
   "cell_type": "code",
   "execution_count": 10,
   "metadata": {},
   "outputs": [],
   "source": [
    "# search(simple_terrain, depth_first_kernel, debug=True)"
   ]
  },
  {
   "cell_type": "code",
   "execution_count": 11,
   "metadata": {},
   "outputs": [],
   "source": [
    "# will not find best path in depth first\n",
    "simple_terrain2 = [\n",
    "    [\"R\", \"B\", \"G\"],\n",
    "    [\"_\", \"_\", \"_\"],\n",
    "    [\"_\", \"_\", \"_\"]\n",
    "]"
   ]
  },
  {
   "cell_type": "code",
   "execution_count": 12,
   "metadata": {},
   "outputs": [
    {
     "name": "stdout",
     "output_type": "stream",
     "text": [
      "nodes visited 6\n"
     ]
    },
    {
     "data": {
      "text/plain": [
       "[(1, 0), (2, 0), (2, 1), (2, 2), (1, 2), (0, 2)]"
      ]
     },
     "execution_count": 12,
     "metadata": {},
     "output_type": "execute_result"
    }
   ],
   "source": [
    "search(simple_terrain2, depth_first_kernel)"
   ]
  },
  {
   "cell_type": "code",
   "execution_count": 13,
   "metadata": {},
   "outputs": [],
   "source": [
    "# search(simple_terrain2, depth_first_kernel, debug=True)"
   ]
  },
  {
   "cell_type": "markdown",
   "metadata": {},
   "source": [
    "## Breadth First\n",
    "* Guranteed to find the best path\n",
    "* Might still expand too many nodes"
   ]
  },
  {
   "cell_type": "code",
   "execution_count": 14,
   "metadata": {},
   "outputs": [],
   "source": [
    "# https://en.wikipedia.org/wiki/Breadth-first_search\n",
    "\n",
    "def breadth_first_kernel(parent, children, open_list, meta, max_depth = 10, debug=False):\n",
    "    new_open_list = list(open_list)\n",
    "\n",
    "    depth = meta[as_string(parent)][2]\n",
    "    if depth < max_depth:\n",
    "        if debug:\n",
    "            print('expanding level', depth)\n",
    "            print(as_string(parent))\n",
    "            \n",
    "        for action, child in children:\n",
    "            if child not in open_list:\n",
    "                meta[as_string(child)] = (as_string(parent), action, depth + 1)\n",
    "                new_open_list.append(child)\n",
    "    return new_open_list"
   ]
  },
  {
   "cell_type": "code",
   "execution_count": 15,
   "metadata": {},
   "outputs": [
    {
     "name": "stdout",
     "output_type": "stream",
     "text": [
      "R _ G \n",
      "_ _ B \n",
      "_ _ _ \n",
      "\n"
     ]
    }
   ],
   "source": [
    "print(as_string(simple_terrain))"
   ]
  },
  {
   "cell_type": "code",
   "execution_count": 16,
   "metadata": {},
   "outputs": [
    {
     "name": "stdout",
     "output_type": "stream",
     "text": [
      "nodes visited 3\n"
     ]
    },
    {
     "data": {
      "text/plain": [
       "[(0, 1), (0, 2)]"
      ]
     },
     "execution_count": 16,
     "metadata": {},
     "output_type": "execute_result"
    }
   ],
   "source": [
    "search(simple_terrain, breadth_first_kernel)"
   ]
  },
  {
   "cell_type": "code",
   "execution_count": 17,
   "metadata": {},
   "outputs": [],
   "source": [
    "# search(simple_terrain, breadth_first_kernel, debug=True)"
   ]
  },
  {
   "cell_type": "code",
   "execution_count": 18,
   "metadata": {},
   "outputs": [
    {
     "name": "stdout",
     "output_type": "stream",
     "text": [
      "R B G \n",
      "_ _ _ \n",
      "_ _ _ \n",
      "\n"
     ]
    }
   ],
   "source": [
    "print(as_string(simple_terrain2))"
   ]
  },
  {
   "cell_type": "code",
   "execution_count": 19,
   "metadata": {},
   "outputs": [
    {
     "name": "stdout",
     "output_type": "stream",
     "text": [
      "nodes visited 7\n"
     ]
    },
    {
     "data": {
      "text/plain": [
       "[(1, 0), (1, 1), (1, 2), (0, 2)]"
      ]
     },
     "execution_count": 19,
     "metadata": {},
     "output_type": "execute_result"
    }
   ],
   "source": [
    "# will find best path\n",
    "search(simple_terrain2, breadth_first_kernel)"
   ]
  },
  {
   "cell_type": "code",
   "execution_count": 20,
   "metadata": {},
   "outputs": [],
   "source": [
    "# search(simple_terrain2, breadth_first_kernel, debug=True)"
   ]
  },
  {
   "cell_type": "markdown",
   "metadata": {},
   "source": [
    "## A*\n",
    "### Why do we blindly wander around, don't we know in which direction to walk?"
   ]
  },
  {
   "cell_type": "code",
   "execution_count": 21,
   "metadata": {},
   "outputs": [],
   "source": [
    "# https://en.wikipedia.org/wiki/Admissible_heuristic\n",
    "# we must not overestimate, which is called \"admissible\"\n",
    "# strangely enough, this is admissible, but obviously not perfect\n",
    "def baseline_estimate_rest_cost(child):\n",
    "    return 1\n",
    "\n",
    "# https://en.wikipedia.org/wiki/A*_search_algorithm\n",
    "def a_star_kernel(parent, children, open_list, meta, estimate_rest_cost = baseline_estimate_rest_cost, max_depth = 10, debug=False):\n",
    "    new_open_list = list(open_list)\n",
    "\n",
    "    depth = meta[as_string(parent)][2]\n",
    "    previous_cost = depth\n",
    "    if depth < max_depth:\n",
    "        if debug:\n",
    "            print('expanding level', depth)\n",
    "            print(as_string(parent))\n",
    "            \n",
    "        for action, child in children:\n",
    "            if child not in open_list:\n",
    "                estimated_rest_cost = estimate_rest_cost(child)\n",
    "                estimated_total_cost = estimated_rest_cost + previous_cost\n",
    "                meta[as_string(child)] = (as_string(parent), action, depth + 1, estimated_total_cost)\n",
    "                new_open_list.append(child)\n",
    "    \n",
    "        # sort using total cost, expand least total cost first\n",
    "        new_open_list.sort(key=lambda x: meta[as_string(x)][3])\n",
    "    return new_open_list"
   ]
  },
  {
   "cell_type": "code",
   "execution_count": 22,
   "metadata": {},
   "outputs": [
    {
     "name": "stdout",
     "output_type": "stream",
     "text": [
      "R _ G \n",
      "_ _ B \n",
      "_ _ _ \n",
      "\n"
     ]
    }
   ],
   "source": [
    "print(as_string(simple_terrain))"
   ]
  },
  {
   "cell_type": "code",
   "execution_count": 23,
   "metadata": {},
   "outputs": [
    {
     "name": "stdout",
     "output_type": "stream",
     "text": [
      "nodes visited 3\n"
     ]
    },
    {
     "data": {
      "text/plain": [
       "[(0, 1), (0, 2)]"
      ]
     },
     "execution_count": 23,
     "metadata": {},
     "output_type": "execute_result"
    }
   ],
   "source": [
    "search(simple_terrain, a_star_kernel)"
   ]
  },
  {
   "cell_type": "markdown",
   "metadata": {},
   "source": [
    "## A better heuristic\n",
    "Best of both worlds: always findes best solution, but visited nodes are minimal for this problem"
   ]
  },
  {
   "cell_type": "code",
   "execution_count": 24,
   "metadata": {},
   "outputs": [],
   "source": [
    "from math import sqrt, pow\n",
    "\n",
    "def distance(pos1, pos2):\n",
    "    if pos1 and pos2:\n",
    "        return sqrt(pow(pos1[0] - pos2[0], 2) + pow(pos1[1] - pos2[1], 2))\n",
    "    else:\n",
    "        return 0\n",
    "\n",
    "def distance_based_estimate_rest_cost(child, debug=False):\n",
    "    robot = locate(child, robot_symbol)\n",
    "    goal = locate(child, goal_symbol)\n",
    "    if debug:\n",
    "        print('robot', robot)\n",
    "        print('goal', goal)\n",
    "        print('distance', distance(robot, goal))\n",
    "    return distance(robot, goal)"
   ]
  },
  {
   "cell_type": "code",
   "execution_count": 25,
   "metadata": {},
   "outputs": [
    {
     "name": "stdout",
     "output_type": "stream",
     "text": [
      "nodes visited 2\n"
     ]
    },
    {
     "data": {
      "text/plain": [
       "[(0, 1), (0, 2)]"
      ]
     },
     "execution_count": 25,
     "metadata": {},
     "output_type": "execute_result"
    }
   ],
   "source": [
    "search(simple_terrain, lambda *args, **kwargs: a_star_kernel(*args, **kwargs, estimate_rest_cost=distance_based_estimate_rest_cost))"
   ]
  },
  {
   "cell_type": "code",
   "execution_count": 26,
   "metadata": {},
   "outputs": [],
   "source": [
    "# search(simple_terrain, lambda *args, **kwargs: a_star_kernel(*args, **kwargs, estimate_rest_cost=distance_based_estimate_rest_cost), debug=True)"
   ]
  },
  {
   "cell_type": "code",
   "execution_count": null,
   "metadata": {},
   "outputs": [],
   "source": []
  }
 ],
 "metadata": {
  "kernelspec": {
   "display_name": "Python 3",
   "language": "python",
   "name": "python3"
  },
  "language_info": {
   "codemirror_mode": {
    "name": "ipython",
    "version": 3
   },
   "file_extension": ".py",
   "mimetype": "text/x-python",
   "name": "python",
   "nbconvert_exporter": "python",
   "pygments_lexer": "ipython3",
   "version": "3.6.4"
  }
 },
 "nbformat": 4,
 "nbformat_minor": 2
}
