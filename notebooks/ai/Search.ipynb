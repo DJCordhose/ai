{
 "cells": [
  {
   "cell_type": "markdown",
   "metadata": {},
   "source": [
    "## Robot Run"
   ]
  },
  {
   "cell_type": "markdown",
   "metadata": {},
   "source": [
    "Installation:\n",
    "* https://www.anaconda.com/download/\n",
    "* git clone git@github.com:DJCordhose/haw.git\n",
    "* cd haw/notebooks\n",
    "* jupyter notebook\n",
    "\n",
    "Or clone on Azure Notebooks\n",
    "* https://notebooks.azure.com/djcordhose/libraries/ai-haw"
   ]
  },
  {
   "cell_type": "markdown",
   "metadata": {},
   "source": [
    "In a certain terrain a Robot (R) has to navigate to a Goal (G) avoiding Blocks (B) and human player (H)"
   ]
  },
  {
   "cell_type": "code",
   "execution_count": 1,
   "metadata": {},
   "outputs": [],
   "source": [
    "terrain = [\n",
    "    [\"R\", \"_\", \"_\", \"_\"],\n",
    "    [\"_\", \"_\", \"B\", \"_\"],\n",
    "    [\"H\", \"_\", \"B\", \"_\"],\n",
    "    [\"B\", \"_\", \"G\", \"_\"]   \n",
    "]"
   ]
  },
  {
   "cell_type": "code",
   "execution_count": 2,
   "metadata": {},
   "outputs": [],
   "source": [
    "from copy import deepcopy\n",
    "\n",
    "robot_symbol = 'R'\n",
    "robot_win_symbol = '*'\n",
    "goal_symbol = 'G'\n",
    "human_symbol = 'H'\n",
    "blank_symbol = '_'\n",
    "\n",
    "def is_robot_win(state):\n",
    "    for row in state:\n",
    "        for field in row:\n",
    "            if field == robot_win_symbol:\n",
    "                return True\n",
    "    return False   \n",
    "\n",
    "def as_string(state):\n",
    "    s = ''\n",
    "    for row in state:\n",
    "        row_string = ''\n",
    "        for field in row:\n",
    "            row_string += field + ' '\n",
    "        s += row_string + '\\n'\n",
    "    return s\n",
    "\n",
    "def locate(state, what):\n",
    "    for row_index, row in enumerate(state):\n",
    "        for column_index, field in enumerate(row):\n",
    "            if field == what:\n",
    "                return (row_index, column_index)\n",
    "\n",
    "def check_robot(state, robot):\n",
    "    max_row = len(state) - 1\n",
    "    max_column = len(state[0]) - 1\n",
    "    if robot[0] < 0 or robot[0] > max_row or robot[1] < 0 or robot[1] > max_column:\n",
    "        return False\n",
    "    symbol = state[robot[0]][robot[1]]\n",
    "    if symbol != blank_symbol and symbol != goal_symbol:\n",
    "        return False\n",
    "    return True\n",
    "            \n",
    "def robot_moves(state):\n",
    "    robot = locate(state, robot_symbol)\n",
    "    left = (robot[0], robot[1] - 1)\n",
    "    right = (robot[0], robot[1] + 1)\n",
    "    up = (robot[0] - 1, robot[1])\n",
    "    down = (robot[0] + 1, robot[1])\n",
    "    valid_moves = [move for move in (left, right, down, up) if check_robot(state, move)]\n",
    "    return valid_moves\n",
    "            \n",
    "def place_robot(state, robot):\n",
    "    old_robot = locate(state, robot_symbol)\n",
    "    new_state = deepcopy(state)\n",
    "    new_state[old_robot[0]][old_robot[1]] = blank_symbol\n",
    "    if new_state[robot[0]][robot[1]] == goal_symbol:\n",
    "        new_state[robot[0]][robot[1]] = robot_win_symbol\n",
    "    else:\n",
    "        new_state[robot[0]][robot[1]] = robot_symbol\n",
    "    return new_state\n",
    "\n",
    "def expand(state):\n",
    "    valid_moves = robot_moves(state)\n",
    "    new_states = [(robot, place_robot(state, robot)) for robot in valid_moves]\n",
    "    return new_states"
   ]
  },
  {
   "cell_type": "code",
   "execution_count": 3,
   "metadata": {},
   "outputs": [],
   "source": [
    "# https://en.wikipedia.org/wiki/Depth-first_search\n",
    "# 1  procedure DFS(G,v):\n",
    "# 2      label v as discovered\n",
    "# 3      for all edges from v to w in G.adjacentEdges(v) do\n",
    "# 4          if vertex w is not labeled as discovered then\n",
    "# 5              recursively call DFS(G,w)\n",
    "\n",
    "def depth_first_search(state, max_depth=10, debug=False, closed_list=[], depth = 0, path=[]):\n",
    "    if as_string(state) in closed_list or depth > max_depth:\n",
    "        return None\n",
    "    \n",
    "    if debug:\n",
    "        print('depth', depth)\n",
    "        print('closed_list', closed_list)\n",
    "        print('path', path)\n",
    "        print('state', as_string(state))\n",
    "        \n",
    "    if is_robot_win(state):\n",
    "        return path\n",
    "    \n",
    "    closed_list = closed_list + [as_string(state)]\n",
    "    \n",
    "    for move, next_state in expand(state):\n",
    "        new_path = path + [move]\n",
    "        res = depth_first_search(next_state, max_depth, debug, closed_list, depth + 1, new_path)\n",
    "        if res:\n",
    "            return res"
   ]
  },
  {
   "cell_type": "code",
   "execution_count": 4,
   "metadata": {},
   "outputs": [
    {
     "data": {
      "text/plain": [
       "[(0, 1), (0, 2), (0, 3), (1, 3), (2, 3), (3, 3), (3, 2)]"
      ]
     },
     "execution_count": 4,
     "metadata": {},
     "output_type": "execute_result"
    }
   ],
   "source": [
    "# this does not find the best path\n",
    "depth_first_search(terrain, 7)"
   ]
  },
  {
   "cell_type": "code",
   "execution_count": 5,
   "metadata": {},
   "outputs": [
    {
     "data": {
      "text/plain": [
       "[(0, 1), (1, 1), (2, 1), (3, 1), (3, 2)]"
      ]
     },
     "execution_count": 5,
     "metadata": {},
     "output_type": "execute_result"
    }
   ],
   "source": [
    "# if we restrict ourselves to only five levels we find the best\n",
    "depth_first_search(terrain, 5)"
   ]
  },
  {
   "cell_type": "markdown",
   "metadata": {},
   "source": [
    "## Understanding the search in a simplified terrain"
   ]
  },
  {
   "cell_type": "code",
   "execution_count": 6,
   "metadata": {},
   "outputs": [],
   "source": [
    "simple_terrain = [\n",
    "    [\"R\", \"_\", \"_\", \"_\"],\n",
    "    [\"B\", \"_\", \"G\", \"_\"] \n",
    "]"
   ]
  },
  {
   "cell_type": "code",
   "execution_count": 7,
   "metadata": {},
   "outputs": [
    {
     "name": "stdout",
     "output_type": "stream",
     "text": [
      "depth 0\n",
      "closed_list []\n",
      "path []\n",
      "state R _ _ _ \n",
      "B _ G _ \n",
      "\n",
      "depth 1\n",
      "closed_list ['R _ _ _ \\nB _ G _ \\n']\n",
      "path [(0, 1)]\n",
      "state _ R _ _ \n",
      "B _ G _ \n",
      "\n",
      "depth 2\n",
      "closed_list ['R _ _ _ \\nB _ G _ \\n', '_ R _ _ \\nB _ G _ \\n']\n",
      "path [(0, 1), (0, 2)]\n",
      "state _ _ R _ \n",
      "B _ G _ \n",
      "\n",
      "depth 3\n",
      "closed_list ['R _ _ _ \\nB _ G _ \\n', '_ R _ _ \\nB _ G _ \\n', '_ _ R _ \\nB _ G _ \\n']\n",
      "path [(0, 1), (0, 2), (0, 3)]\n",
      "state _ _ _ R \n",
      "B _ G _ \n",
      "\n",
      "depth 4\n",
      "closed_list ['R _ _ _ \\nB _ G _ \\n', '_ R _ _ \\nB _ G _ \\n', '_ _ R _ \\nB _ G _ \\n', '_ _ _ R \\nB _ G _ \\n']\n",
      "path [(0, 1), (0, 2), (0, 3), (1, 3)]\n",
      "state _ _ _ _ \n",
      "B _ G R \n",
      "\n",
      "depth 5\n",
      "closed_list ['R _ _ _ \\nB _ G _ \\n', '_ R _ _ \\nB _ G _ \\n', '_ _ R _ \\nB _ G _ \\n', '_ _ _ R \\nB _ G _ \\n', '_ _ _ _ \\nB _ G R \\n']\n",
      "path [(0, 1), (0, 2), (0, 3), (1, 3), (1, 2)]\n",
      "state _ _ _ _ \n",
      "B _ * _ \n",
      "\n"
     ]
    },
    {
     "data": {
      "text/plain": [
       "[(0, 1), (0, 2), (0, 3), (1, 3), (1, 2)]"
      ]
     },
     "execution_count": 7,
     "metadata": {},
     "output_type": "execute_result"
    }
   ],
   "source": [
    "depth_first_search(simple_terrain, debug=True)"
   ]
  },
  {
   "cell_type": "code",
   "execution_count": 8,
   "metadata": {},
   "outputs": [
    {
     "name": "stdout",
     "output_type": "stream",
     "text": [
      "depth 0\n",
      "closed_list []\n",
      "path []\n",
      "state R _ _ _ \n",
      "B _ G _ \n",
      "\n",
      "depth 1\n",
      "closed_list ['R _ _ _ \\nB _ G _ \\n']\n",
      "path [(0, 1)]\n",
      "state _ R _ _ \n",
      "B _ G _ \n",
      "\n",
      "depth 2\n",
      "closed_list ['R _ _ _ \\nB _ G _ \\n', '_ R _ _ \\nB _ G _ \\n']\n",
      "path [(0, 1), (0, 2)]\n",
      "state _ _ R _ \n",
      "B _ G _ \n",
      "\n",
      "depth 3\n",
      "closed_list ['R _ _ _ \\nB _ G _ \\n', '_ R _ _ \\nB _ G _ \\n', '_ _ R _ \\nB _ G _ \\n']\n",
      "path [(0, 1), (0, 2), (0, 3)]\n",
      "state _ _ _ R \n",
      "B _ G _ \n",
      "\n",
      "depth 3\n",
      "closed_list ['R _ _ _ \\nB _ G _ \\n', '_ R _ _ \\nB _ G _ \\n', '_ _ R _ \\nB _ G _ \\n']\n",
      "path [(0, 1), (0, 2), (1, 2)]\n",
      "state _ _ _ _ \n",
      "B _ * _ \n",
      "\n"
     ]
    },
    {
     "data": {
      "text/plain": [
       "[(0, 1), (0, 2), (1, 2)]"
      ]
     },
     "execution_count": 8,
     "metadata": {},
     "output_type": "execute_result"
    }
   ],
   "source": [
    "depth_first_search(simple_terrain, max_depth=3, debug=True)"
   ]
  },
  {
   "cell_type": "markdown",
   "metadata": {},
   "source": [
    "## Can we find the best path without manually restricting the depth?"
   ]
  },
  {
   "cell_type": "code",
   "execution_count": 9,
   "metadata": {},
   "outputs": [],
   "source": [
    "# https://en.wikipedia.org/wiki/Breadth-first_search\n",
    "def breadth_first_search(root, max_depth=10, debug=False):\n",
    "    closed_list = set()\n",
    "    open_list = []\n",
    "    meta={}\n",
    "    \n",
    "    meta[as_string(root)] = (None, None, 0)\n",
    "    open_list.append(root)\n",
    "    \n",
    "    while open_list:\n",
    "        if debug:\n",
    "            print('open_list', open_list)\n",
    "            print('closed_list', closed_list)\n",
    "            \n",
    "        state = open_list.pop()\n",
    "        depth = meta[as_string(state)][2]\n",
    "        \n",
    "        if debug:\n",
    "            print('expanding level', depth)\n",
    "            print(as_string(state))\n",
    "\n",
    "        if is_robot_win(state):\n",
    "            path = construct_path(as_string(state), meta)\n",
    "            return path\n",
    "\n",
    "        if depth >= max_depth:\n",
    "            continue\n",
    "        \n",
    "        for action, child in expand(state):\n",
    "            if as_string(child) in closed_list:\n",
    "                continue\n",
    "                \n",
    "            if child not in open_list:\n",
    "                meta[as_string(child)] = (as_string(state), action, depth + 1)\n",
    "                if debug:\n",
    "                    print('adding to open list', (child, depth + 1))\n",
    "                open_list.insert(0, child)\n",
    "\n",
    "        closed_list.add(as_string(state))\n",
    "        \n",
    "def construct_path(state, meta):\n",
    "  path = []\n",
    "  \n",
    "  while True:\n",
    "    row = meta[state]\n",
    "    if row[0]:\n",
    "      state = row[0]\n",
    "      action = row[1]\n",
    "      path.insert(0, action)\n",
    "    else:\n",
    "      break\n",
    "  \n",
    "  return path"
   ]
  },
  {
   "cell_type": "code",
   "execution_count": 10,
   "metadata": {},
   "outputs": [
    {
     "name": "stdout",
     "output_type": "stream",
     "text": [
      "open_list [[['R', '_', '_', '_'], ['B', '_', 'G', '_']]]\n",
      "closed_list set()\n",
      "expanding level 0\n",
      "R _ _ _ \n",
      "B _ G _ \n",
      "\n",
      "adding to open list ([['_', 'R', '_', '_'], ['B', '_', 'G', '_']], 1)\n",
      "open_list [[['_', 'R', '_', '_'], ['B', '_', 'G', '_']]]\n",
      "closed_list {'R _ _ _ \\nB _ G _ \\n'}\n",
      "expanding level 1\n",
      "_ R _ _ \n",
      "B _ G _ \n",
      "\n",
      "adding to open list ([['_', '_', 'R', '_'], ['B', '_', 'G', '_']], 2)\n",
      "adding to open list ([['_', '_', '_', '_'], ['B', 'R', 'G', '_']], 2)\n",
      "open_list [[['_', '_', '_', '_'], ['B', 'R', 'G', '_']], [['_', '_', 'R', '_'], ['B', '_', 'G', '_']]]\n",
      "closed_list {'_ R _ _ \\nB _ G _ \\n', 'R _ _ _ \\nB _ G _ \\n'}\n",
      "expanding level 2\n",
      "_ _ R _ \n",
      "B _ G _ \n",
      "\n",
      "adding to open list ([['_', '_', '_', 'R'], ['B', '_', 'G', '_']], 3)\n",
      "adding to open list ([['_', '_', '_', '_'], ['B', '_', '*', '_']], 3)\n",
      "open_list [[['_', '_', '_', '_'], ['B', '_', '*', '_']], [['_', '_', '_', 'R'], ['B', '_', 'G', '_']], [['_', '_', '_', '_'], ['B', 'R', 'G', '_']]]\n",
      "closed_list {'_ R _ _ \\nB _ G _ \\n', 'R _ _ _ \\nB _ G _ \\n', '_ _ R _ \\nB _ G _ \\n'}\n",
      "expanding level 2\n",
      "_ _ _ _ \n",
      "B R G _ \n",
      "\n",
      "open_list [[['_', '_', '_', '_'], ['B', '_', '*', '_']], [['_', '_', '_', 'R'], ['B', '_', 'G', '_']]]\n",
      "closed_list {'_ R _ _ \\nB _ G _ \\n', 'R _ _ _ \\nB _ G _ \\n', '_ _ _ _ \\nB R G _ \\n', '_ _ R _ \\nB _ G _ \\n'}\n",
      "expanding level 3\n",
      "_ _ _ R \n",
      "B _ G _ \n",
      "\n",
      "open_list [[['_', '_', '_', '_'], ['B', '_', '*', '_']]]\n",
      "closed_list {'_ R _ _ \\nB _ G _ \\n', 'R _ _ _ \\nB _ G _ \\n', '_ _ _ _ \\nB R G _ \\n', '_ _ R _ \\nB _ G _ \\n'}\n",
      "expanding level 3\n",
      "_ _ _ _ \n",
      "B _ * _ \n",
      "\n"
     ]
    },
    {
     "data": {
      "text/plain": [
       "[(0, 1), (0, 2), (1, 2)]"
      ]
     },
     "execution_count": 10,
     "metadata": {},
     "output_type": "execute_result"
    }
   ],
   "source": [
    "breadth_first_search(simple_terrain, max_depth = 3, debug=True)"
   ]
  },
  {
   "cell_type": "code",
   "execution_count": 11,
   "metadata": {},
   "outputs": [
    {
     "data": {
      "text/plain": [
       "[(0, 1), (1, 1), (2, 1), (3, 1), (3, 2)]"
      ]
     },
     "execution_count": 11,
     "metadata": {},
     "output_type": "execute_result"
    }
   ],
   "source": [
    "breadth_first_search(terrain)"
   ]
  },
  {
   "cell_type": "code",
   "execution_count": 12,
   "metadata": {},
   "outputs": [
    {
     "data": {
      "text/plain": [
       "[(0, 1), (1, 1), (2, 1), (3, 1), (3, 2)]"
      ]
     },
     "execution_count": 12,
     "metadata": {},
     "output_type": "execute_result"
    }
   ],
   "source": [
    "depth_first_search(terrain, 5)"
   ]
  },
  {
   "cell_type": "markdown",
   "metadata": {},
   "source": [
    "## Is there a more general version?"
   ]
  },
  {
   "cell_type": "code",
   "execution_count": 13,
   "metadata": {},
   "outputs": [],
   "source": [
    "def search(root, generate_open_list):\n",
    "    closed_list = set()\n",
    "    open_list = []\n",
    "    meta={}\n",
    "    \n",
    "    meta[as_string(root)] = (None, None, 0, 0)\n",
    "    open_list.append(root)\n",
    "    \n",
    "    while open_list:\n",
    "        state = open_list.pop()\n",
    "        \n",
    "        if is_robot_win(state):\n",
    "            path = construct_path(as_string(state), meta)\n",
    "            print('nodes visited', len(closed_list))\n",
    "            return path\n",
    "\n",
    "        expanded = expand(state)\n",
    "        open_list = generate_open_list(state, expanded, open_list, closed_list, meta)\n",
    "        closed_list.add(as_string(state))"
   ]
  },
  {
   "cell_type": "code",
   "execution_count": 14,
   "metadata": {},
   "outputs": [],
   "source": [
    "max_depth=10\n",
    "def depth_first_generator(parent, children, open_list, closed_list, meta):\n",
    "    if debug:\n",
    "        print('open_list', open_list)\n",
    "        print('closed_list', closed_list)\n",
    "            \n",
    "    new_open_list = list(open_list)\n",
    "\n",
    "    depth = meta[as_string(parent)][2]\n",
    "    \n",
    "    if depth < max_depth:\n",
    "        if debug:\n",
    "            print('expanding level', depth)\n",
    "            print(as_string(parent))\n",
    "            \n",
    "        for action, child in children:\n",
    "            if as_string(child) in closed_list:\n",
    "                continue\n",
    "\n",
    "            if child not in open_list:\n",
    "                meta[as_string(child)] = (as_string(parent), action, depth + 1)\n",
    "                new_open_list.append(child)\n",
    "    return new_open_list"
   ]
  },
  {
   "cell_type": "code",
   "execution_count": 15,
   "metadata": {},
   "outputs": [
    {
     "name": "stdout",
     "output_type": "stream",
     "text": [
      "nodes visited 3\n"
     ]
    },
    {
     "data": {
      "text/plain": [
       "[(0, 1), (1, 1), (1, 2)]"
      ]
     },
     "execution_count": 15,
     "metadata": {},
     "output_type": "execute_result"
    }
   ],
   "source": [
    "# this might already find the best path, but it is not guaranteed at all\n",
    "debug=False\n",
    "search(simple_terrain, depth_first_generator)"
   ]
  },
  {
   "cell_type": "code",
   "execution_count": 16,
   "metadata": {},
   "outputs": [
    {
     "name": "stdout",
     "output_type": "stream",
     "text": [
      "nodes visited 5\n"
     ]
    },
    {
     "data": {
      "text/plain": [
       "[(1, 0), (1, 1), (2, 1), (3, 1), (3, 2)]"
      ]
     },
     "execution_count": 16,
     "metadata": {},
     "output_type": "execute_result"
    }
   ],
   "source": [
    "debug=False\n",
    "search(terrain, depth_first_generator)"
   ]
  },
  {
   "cell_type": "code",
   "execution_count": 17,
   "metadata": {},
   "outputs": [],
   "source": [
    "max_depth=10\n",
    "def breadth_first_generator(parent, children, open_list, closed_list, meta):\n",
    "    if debug:\n",
    "        print('open_list', open_list)\n",
    "        print('closed_list', closed_list)\n",
    "            \n",
    "    new_open_list = list(open_list)\n",
    "\n",
    "    depth = meta[as_string(parent)][2]\n",
    "    \n",
    "    if depth < max_depth:\n",
    "        if debug:\n",
    "            print('expanding level', depth)\n",
    "            print(as_string(parent))\n",
    "            \n",
    "        for action, child in children:\n",
    "            if as_string(child) in closed_list:\n",
    "                continue\n",
    "\n",
    "            if child not in open_list:\n",
    "                meta[as_string(child)] = (as_string(parent), action, depth + 1)\n",
    "                new_open_list.insert(0, child)\n",
    "    return new_open_list"
   ]
  },
  {
   "cell_type": "code",
   "execution_count": 18,
   "metadata": {},
   "outputs": [
    {
     "name": "stdout",
     "output_type": "stream",
     "text": [
      "nodes visited 5\n"
     ]
    },
    {
     "data": {
      "text/plain": [
       "[(0, 1), (0, 2), (1, 2)]"
      ]
     },
     "execution_count": 18,
     "metadata": {},
     "output_type": "execute_result"
    }
   ],
   "source": [
    "debug=False\n",
    "search(simple_terrain, breadth_first_generator)"
   ]
  },
  {
   "cell_type": "code",
   "execution_count": 19,
   "metadata": {},
   "outputs": [
    {
     "name": "stdout",
     "output_type": "stream",
     "text": [
      "nodes visited 10\n"
     ]
    },
    {
     "data": {
      "text/plain": [
       "[(0, 1), (1, 1), (2, 1), (3, 1), (3, 2)]"
      ]
     },
     "execution_count": 19,
     "metadata": {},
     "output_type": "execute_result"
    }
   ],
   "source": [
    "debug=False\n",
    "search(terrain, breadth_first_generator)"
   ]
  },
  {
   "cell_type": "markdown",
   "metadata": {},
   "source": [
    "## Why do we blindly wander around, don't we know in which direction to walk?\n",
    "The closed list shows the number of traversed nodes, and there are quite a few"
   ]
  },
  {
   "cell_type": "code",
   "execution_count": 20,
   "metadata": {},
   "outputs": [],
   "source": [
    "# https://en.wikipedia.org/wiki/A*_search_algorithm\n",
    "\n",
    "max_depth=10\n",
    "def a_star_generator(parent, children, open_list, closed_list, meta):\n",
    "    if debug:\n",
    "        print('open_list', open_list)\n",
    "        print('closed_list', closed_list)\n",
    "            \n",
    "    new_open_list = list(open_list)\n",
    "\n",
    "    depth = meta[as_string(parent)][2]\n",
    "    previous_cost = depth\n",
    "    \n",
    "    if depth < max_depth:\n",
    "        if debug:\n",
    "            print('expanding level', depth)\n",
    "            print(as_string(parent))\n",
    "            \n",
    "        for action, child in children:\n",
    "            if as_string(child) in closed_list:\n",
    "                continue\n",
    "\n",
    "            if child not in open_list:\n",
    "                estimated_rest_cost = estimate_rest_cost(child)\n",
    "                estimated_total_cost = estimated_rest_cost + previous_cost\n",
    "                meta[as_string(child)] = (as_string(parent), action, depth + 1, estimated_total_cost)\n",
    "                new_open_list.append(child)\n",
    "    \n",
    "        # sort using total cost, expand least total cost first\n",
    "        new_open_list.sort(key=lambda x: meta[as_string(child)][3])\n",
    "    return new_open_list"
   ]
  },
  {
   "cell_type": "code",
   "execution_count": 21,
   "metadata": {},
   "outputs": [
    {
     "name": "stdout",
     "output_type": "stream",
     "text": [
      "nodes visited 3\n"
     ]
    },
    {
     "data": {
      "text/plain": [
       "[(0, 1), (1, 1), (1, 2)]"
      ]
     },
     "execution_count": 21,
     "metadata": {},
     "output_type": "execute_result"
    }
   ],
   "source": [
    "# https://en.wikipedia.org/wiki/Admissible_heuristic\n",
    "# we must not overestimate, which is called \"admissible\"\n",
    "# strangely enough, this is admissible, but obviously not perfect\n",
    "def estimate_rest_cost(child):\n",
    "    return 1\n",
    "\n",
    "debug=False\n",
    "search(simple_terrain, a_star_generator)"
   ]
  },
  {
   "cell_type": "code",
   "execution_count": 22,
   "metadata": {},
   "outputs": [
    {
     "name": "stdout",
     "output_type": "stream",
     "text": [
      "nodes visited 5\n"
     ]
    },
    {
     "data": {
      "text/plain": [
       "[(1, 0), (1, 1), (2, 1), (3, 1), (3, 2)]"
      ]
     },
     "execution_count": 22,
     "metadata": {},
     "output_type": "execute_result"
    }
   ],
   "source": [
    "search(terrain, a_star_generator)"
   ]
  },
  {
   "cell_type": "markdown",
   "metadata": {},
   "source": [
    "## A better heuristic\n",
    "Best of both worlds: always findes best solution, but visited nodes are minimal"
   ]
  },
  {
   "cell_type": "code",
   "execution_count": 23,
   "metadata": {},
   "outputs": [
    {
     "name": "stdout",
     "output_type": "stream",
     "text": [
      "nodes visited 3\n"
     ]
    },
    {
     "data": {
      "text/plain": [
       "[(0, 1), (1, 1), (1, 2)]"
      ]
     },
     "execution_count": 23,
     "metadata": {},
     "output_type": "execute_result"
    }
   ],
   "source": [
    "from math import sqrt, pow\n",
    "\n",
    "def distance(pos1, pos2):\n",
    "    if pos1 and pos2:\n",
    "        return sqrt(pow(pos1[0] - pos2[0], 2) + pow(pos1[1] - pos2[1], 2))\n",
    "    else:\n",
    "        return 0\n",
    "\n",
    "def estimate_rest_cost(child):\n",
    "    robot = locate(child, robot_symbol)\n",
    "    goal = locate(child, goal_symbol)\n",
    "    if debug:\n",
    "        print('robot', robot)\n",
    "        print('goal', goal)\n",
    "        print('distance', distance(robot, goal))\n",
    "    return distance(robot, goal)\n",
    "\n",
    "debug=False\n",
    "search(simple_terrain, a_star_generator)"
   ]
  },
  {
   "cell_type": "code",
   "execution_count": 24,
   "metadata": {},
   "outputs": [
    {
     "data": {
      "text/plain": [
       "[['R', '_', '_', '_'], ['B', '_', 'G', '_']]"
      ]
     },
     "execution_count": 24,
     "metadata": {},
     "output_type": "execute_result"
    }
   ],
   "source": [
    "simple_terrain"
   ]
  },
  {
   "cell_type": "code",
   "execution_count": 25,
   "metadata": {},
   "outputs": [
    {
     "name": "stdout",
     "output_type": "stream",
     "text": [
      "open_list []\n",
      "closed_list set()\n",
      "expanding level 0\n",
      "R _ _ _ \n",
      "B _ G _ \n",
      "\n",
      "robot (0, 1)\n",
      "goal (1, 2)\n",
      "distance 1.4142135623730951\n",
      "open_list []\n",
      "closed_list {'R _ _ _ \\nB _ G _ \\n'}\n",
      "expanding level 1\n",
      "_ R _ _ \n",
      "B _ G _ \n",
      "\n",
      "robot (0, 2)\n",
      "goal (1, 2)\n",
      "distance 1.0\n",
      "robot (1, 1)\n",
      "goal (1, 2)\n",
      "distance 1.0\n",
      "open_list [[['_', '_', 'R', '_'], ['B', '_', 'G', '_']]]\n",
      "closed_list {'_ R _ _ \\nB _ G _ \\n', 'R _ _ _ \\nB _ G _ \\n'}\n",
      "expanding level 2\n",
      "_ _ _ _ \n",
      "B R G _ \n",
      "\n",
      "robot None\n",
      "goal None\n",
      "distance 0\n",
      "nodes visited 3\n"
     ]
    },
    {
     "data": {
      "text/plain": [
       "[(0, 1), (1, 1), (1, 2)]"
      ]
     },
     "execution_count": 25,
     "metadata": {},
     "output_type": "execute_result"
    }
   ],
   "source": [
    "debug=True\n",
    "search(simple_terrain, a_star_generator)"
   ]
  },
  {
   "cell_type": "code",
   "execution_count": 26,
   "metadata": {},
   "outputs": [
    {
     "name": "stdout",
     "output_type": "stream",
     "text": [
      "nodes visited 5\n"
     ]
    },
    {
     "data": {
      "text/plain": [
       "[(1, 0), (1, 1), (2, 1), (3, 1), (3, 2)]"
      ]
     },
     "execution_count": 26,
     "metadata": {},
     "output_type": "execute_result"
    }
   ],
   "source": [
    "debug=False\n",
    "search(terrain, a_star_generator)"
   ]
  },
  {
   "cell_type": "code",
   "execution_count": null,
   "metadata": {},
   "outputs": [],
   "source": []
  }
 ],
 "metadata": {
  "kernelspec": {
   "display_name": "Python 3",
   "language": "python",
   "name": "python3"
  },
  "language_info": {
   "codemirror_mode": {
    "name": "ipython",
    "version": 3
   },
   "file_extension": ".py",
   "mimetype": "text/x-python",
   "name": "python",
   "nbconvert_exporter": "python",
   "pygments_lexer": "ipython3",
   "version": "3.6.4"
  }
 },
 "nbformat": 4,
 "nbformat_minor": 2
}
