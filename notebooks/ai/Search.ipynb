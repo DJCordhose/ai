{
  "nbformat": 4,
  "nbformat_minor": 0,
  "metadata": {
    "colab": {
      "name": "Search.ipynb",
      "version": "0.3.2",
      "provenance": [],
      "include_colab_link": true
    },
    "kernelspec": {
      "display_name": "Python 3",
      "language": "python",
      "name": "python3"
    }
  },
  "cells": [
    {
      "cell_type": "markdown",
      "metadata": {
        "id": "view-in-github",
        "colab_type": "text"
      },
      "source": [
        "[View in Colaboratory](https://colab.research.google.com/github/DJCordhose/ai/blob/master/notebooks/ai/Search.ipynb)"
      ]
    },
    {
      "metadata": {
        "id": "m2_lOlroE_N7",
        "colab_type": "text"
      },
      "cell_type": "markdown",
      "source": [
        "# Robot Run\n",
        "Illustrating search on a graph for __route planning__ for\n",
        "* depth first\n",
        "* breadth first\n",
        "* A*\n",
        "\n",
        "**This needs a closed list as we are searching on graphs, not trees**\n",
        "\n",
        "<!---\n",
        "![Types of Search](search.jpg \"Types of Search\")\n",
        "-->"
      ]
    },
    {
      "metadata": {
        "id": "H1QDUOsUE_OF",
        "colab_type": "text"
      },
      "cell_type": "markdown",
      "source": [
        "## The Game Encoding\n",
        "\n",
        "In a certain terrain a Robot (R) has to navigate to a Goal (G) avoiding Blocks (B)"
      ]
    },
    {
      "metadata": {
        "id": "UEczEcT5E_OI",
        "colab_type": "code",
        "colab": {}
      },
      "cell_type": "code",
      "source": [
        "terrain = [\n",
        "    [\"_\", \"R\", \"_\", \"_\"],\n",
        "    [\"B\", \"_\", \"B\", \"_\"],\n",
        "    [\"_\", \"_\", \"B\", \"_\"],\n",
        "    [\"B\", \"_\", \"G\", \"_\"]\n",
        "]"
      ],
      "execution_count": 0,
      "outputs": []
    },
    {
      "metadata": {
        "id": "Av-f0xJ5E_ON",
        "colab_type": "text"
      },
      "cell_type": "markdown",
      "source": [
        "## Basic Game Playing Code"
      ]
    },
    {
      "metadata": {
        "id": "9zqx1facE_OP",
        "colab_type": "code",
        "colab": {}
      },
      "cell_type": "code",
      "source": [
        "from copy import deepcopy\n",
        "\n",
        "robot_symbol = 'R'\n",
        "robot_win_symbol = '*'\n",
        "goal_symbol = 'G'\n",
        "human_symbol = 'H'\n",
        "blank_symbol = '_'\n",
        "\n",
        "def is_robot_win(state):\n",
        "    for row in state:\n",
        "        for field in row:\n",
        "            if field == robot_win_symbol:\n",
        "                return True\n",
        "    return False   \n",
        "\n",
        "def as_string(state):\n",
        "    s = ''\n",
        "    for row in state:\n",
        "        row_string = ''\n",
        "        for field in row:\n",
        "            row_string += field + ' '\n",
        "        s += row_string + '\\n'\n",
        "    return s\n",
        "\n",
        "def locate(state, what):\n",
        "    for row_index, row in enumerate(state):\n",
        "        for column_index, field in enumerate(row):\n",
        "            if field == what:\n",
        "                return (row_index, column_index)\n",
        "\n",
        "def check_robot(state, robot):\n",
        "    max_row = len(state) - 1\n",
        "    max_column = len(state[0]) - 1\n",
        "    if robot[0] < 0 or robot[0] > max_row or robot[1] < 0 or robot[1] > max_column:\n",
        "        return False\n",
        "    symbol = state[robot[0]][robot[1]]\n",
        "    if symbol != blank_symbol and symbol != goal_symbol:\n",
        "        return False\n",
        "    return True\n",
        "            \n",
        "def robot_moves(state):\n",
        "    robot = locate(state, robot_symbol)\n",
        "    left = (robot[0], robot[1] - 1)\n",
        "    right = (robot[0], robot[1] + 1)\n",
        "    up = (robot[0] - 1, robot[1])\n",
        "    down = (robot[0] + 1, robot[1])\n",
        "    valid_moves = [move for move in (left, right, down, up) if check_robot(state, move)]\n",
        "    return valid_moves\n",
        "            \n",
        "def place_robot(state, robot):\n",
        "    old_robot = locate(state, robot_symbol)\n",
        "    new_state = deepcopy(state)\n",
        "    new_state[old_robot[0]][old_robot[1]] = blank_symbol\n",
        "    if new_state[robot[0]][robot[1]] == goal_symbol:\n",
        "        new_state[robot[0]][robot[1]] = robot_win_symbol\n",
        "    else:\n",
        "        new_state[robot[0]][robot[1]] = robot_symbol\n",
        "    return new_state\n",
        "\n",
        "def expand(state):\n",
        "    valid_moves = robot_moves(state)\n",
        "    new_states = [(robot, place_robot(state, robot)) for robot in valid_moves]\n",
        "    return new_states"
      ],
      "execution_count": 0,
      "outputs": []
    },
    {
      "metadata": {
        "id": "myjZnZkoE_OT",
        "colab_type": "text"
      },
      "cell_type": "markdown",
      "source": [
        "## Generic Search Code"
      ]
    },
    {
      "metadata": {
        "id": "joqP-VFyE_OU",
        "colab_type": "code",
        "colab": {}
      },
      "cell_type": "code",
      "source": [
        "def search(root, generate_open_list, debug=False, verbose=True):\n",
        "    closed_list = set()\n",
        "    open_list = []\n",
        "    meta={}\n",
        "    \n",
        "    meta[as_string(root)] = (None, None, 0, 0)\n",
        "    open_list.append(root)\n",
        "    \n",
        "    while open_list:\n",
        "        if debug:\n",
        "            print('closed_list', closed_list)\n",
        "            print('open_list', open_list)\n",
        "\n",
        "        state = open_list.pop(0)\n",
        "        \n",
        "        if is_robot_win(state):\n",
        "            path = construct_path(as_string(state), meta)\n",
        "            if debug:\n",
        "                print('*** goal found ***')\n",
        "                print(as_string(state))\n",
        "            if verbose:\n",
        "                print('nodes visited', len(closed_list))\n",
        "            return path\n",
        "\n",
        "        expanded = expand(state)\n",
        "#         if debug:\n",
        "#             print('expanded', expanded)\n",
        "        to_visit = [x for x in expanded if as_string(x[1]) not in closed_list]\n",
        "#         if debug:\n",
        "#             print('to visit', to_visit)\n",
        "        open_list = generate_open_list(state, to_visit, open_list, meta, debug=debug)\n",
        "        closed_list.add(as_string(state))\n",
        "        \n",
        "def construct_path(state, meta):\n",
        "  path = []\n",
        "  \n",
        "  while True:\n",
        "    row = meta[state]\n",
        "    if row[0]:\n",
        "      state = row[0]\n",
        "      action = row[1]\n",
        "      path.insert(0, action)\n",
        "    else:\n",
        "      break\n",
        "  \n",
        "  return path"
      ],
      "execution_count": 0,
      "outputs": []
    },
    {
      "metadata": {
        "id": "QIjBKNJ7E_OX",
        "colab_type": "text"
      },
      "cell_type": "markdown",
      "source": [
        "## Depth First\n",
        "* not guarenteed to find the best route\n",
        "* probably not very efficient"
      ]
    },
    {
      "metadata": {
        "id": "A-UQCJnGE_OZ",
        "colab_type": "code",
        "colab": {}
      },
      "cell_type": "code",
      "source": [
        "# https://en.wikipedia.org/wiki/Depth-first_search\n",
        "\n",
        "def depth_first_kernel(parent, children, open_list, meta, max_depth = 10, debug=False):\n",
        "    new_open_list = list(open_list)\n",
        "    \n",
        "    depth = meta[as_string(parent)][2]\n",
        "    if depth < max_depth:\n",
        "        if debug:\n",
        "            print('visiting level', depth)\n",
        "            print(as_string(parent))\n",
        "            \n",
        "        for action, child in children:\n",
        "            if child not in open_list:\n",
        "                meta[as_string(child)] = (as_string(parent), action, depth + 1)\n",
        "                new_open_list.insert(0, child)\n",
        "    return new_open_list"
      ],
      "execution_count": 0,
      "outputs": []
    },
    {
      "metadata": {
        "id": "VjeW8wlZE_Oc",
        "colab_type": "code",
        "colab": {}
      },
      "cell_type": "code",
      "source": [
        "micro_terrain = [\n",
        "    [\"R\", \"_\"],\n",
        "    [\"_\", \"G\"]\n",
        "];  "
      ],
      "execution_count": 0,
      "outputs": []
    },
    {
      "metadata": {
        "id": "QeH_tg9XE_Og",
        "colab_type": "code",
        "colab": {
          "base_uri": "https://localhost:8080/",
          "height": 51
        },
        "outputId": "f45bea8e-9dea-458f-8390-293498f36d59"
      },
      "cell_type": "code",
      "source": [
        "search(micro_terrain, depth_first_kernel)"
      ],
      "execution_count": 6,
      "outputs": [
        {
          "output_type": "stream",
          "text": [
            "nodes visited 2\n"
          ],
          "name": "stdout"
        },
        {
          "output_type": "execute_result",
          "data": {
            "text/plain": [
              "[(1, 0), (1, 1)]"
            ]
          },
          "metadata": {
            "tags": []
          },
          "execution_count": 6
        }
      ]
    },
    {
      "metadata": {
        "id": "hH-8HQ39E_Om",
        "colab_type": "code",
        "colab": {
          "base_uri": "https://localhost:8080/",
          "height": 357
        },
        "outputId": "249c4827-4660-4619-8039-557e92b96f40"
      },
      "cell_type": "code",
      "source": [
        "search(micro_terrain, depth_first_kernel, debug=True)"
      ],
      "execution_count": 7,
      "outputs": [
        {
          "output_type": "stream",
          "text": [
            "closed_list set()\n",
            "open_list [[['R', '_'], ['_', 'G']]]\n",
            "visiting level 0\n",
            "R _ \n",
            "_ G \n",
            "\n",
            "closed_list {'R _ \\n_ G \\n'}\n",
            "open_list [[['_', '_'], ['R', 'G']], [['_', 'R'], ['_', 'G']]]\n",
            "visiting level 1\n",
            "_ _ \n",
            "R G \n",
            "\n",
            "closed_list {'_ _ \\nR G \\n', 'R _ \\n_ G \\n'}\n",
            "open_list [[['_', '_'], ['_', '*']], [['_', 'R'], ['_', 'G']]]\n",
            "*** goal found ***\n",
            "_ _ \n",
            "_ * \n",
            "\n",
            "nodes visited 2\n"
          ],
          "name": "stdout"
        },
        {
          "output_type": "execute_result",
          "data": {
            "text/plain": [
              "[(1, 0), (1, 1)]"
            ]
          },
          "metadata": {
            "tags": []
          },
          "execution_count": 7
        }
      ]
    },
    {
      "metadata": {
        "id": "Jm0iMZjKE_Or",
        "colab_type": "code",
        "colab": {}
      },
      "cell_type": "code",
      "source": [
        "# will find best path, but many nodes visited\n",
        "simple_terrain = [\n",
        "    [\"R\", \"_\", \"G\"],\n",
        "    [\"_\", \"_\", \"B\"],\n",
        "    [\"_\", \"_\", \"_\"]\n",
        "]"
      ],
      "execution_count": 0,
      "outputs": []
    },
    {
      "metadata": {
        "id": "tWb36_npE_Ov",
        "colab_type": "code",
        "colab": {
          "base_uri": "https://localhost:8080/",
          "height": 51
        },
        "outputId": "9225a1e1-6bcf-4cdf-954e-405c8cc52b01"
      },
      "cell_type": "code",
      "source": [
        "# this finds the best path, but it is not guaranteed at all\n",
        "search(simple_terrain, depth_first_kernel)"
      ],
      "execution_count": 9,
      "outputs": [
        {
          "output_type": "stream",
          "text": [
            "nodes visited 7\n"
          ],
          "name": "stdout"
        },
        {
          "output_type": "execute_result",
          "data": {
            "text/plain": [
              "[(0, 1), (0, 2)]"
            ]
          },
          "metadata": {
            "tags": []
          },
          "execution_count": 9
        }
      ]
    },
    {
      "metadata": {
        "id": "RDAQBUCiE_Oz",
        "colab_type": "code",
        "colab": {}
      },
      "cell_type": "code",
      "source": [
        "# search(simple_terrain, depth_first_kernel, debug=True)"
      ],
      "execution_count": 0,
      "outputs": []
    },
    {
      "metadata": {
        "id": "1BiMGb6QE_O2",
        "colab_type": "code",
        "colab": {}
      },
      "cell_type": "code",
      "source": [
        "# will not find best path in depth first\n",
        "simple_terrain2 = [\n",
        "    [\"R\", \"B\", \"G\"],\n",
        "    [\"_\", \"_\", \"_\"],\n",
        "    [\"_\", \"_\", \"_\"]\n",
        "]"
      ],
      "execution_count": 0,
      "outputs": []
    },
    {
      "metadata": {
        "id": "QJY1kSFDE_O6",
        "colab_type": "code",
        "colab": {
          "base_uri": "https://localhost:8080/",
          "height": 51
        },
        "outputId": "83701d6e-8cd0-436e-befe-5f6c40b96e16"
      },
      "cell_type": "code",
      "source": [
        "search(simple_terrain2, depth_first_kernel)"
      ],
      "execution_count": 12,
      "outputs": [
        {
          "output_type": "stream",
          "text": [
            "nodes visited 6\n"
          ],
          "name": "stdout"
        },
        {
          "output_type": "execute_result",
          "data": {
            "text/plain": [
              "[(1, 0), (2, 0), (2, 1), (2, 2), (1, 2), (0, 2)]"
            ]
          },
          "metadata": {
            "tags": []
          },
          "execution_count": 12
        }
      ]
    },
    {
      "metadata": {
        "id": "eO7Mu4jzE_O-",
        "colab_type": "code",
        "colab": {}
      },
      "cell_type": "code",
      "source": [
        "# search(simple_terrain2, depth_first_kernel, debug=True)"
      ],
      "execution_count": 0,
      "outputs": []
    },
    {
      "metadata": {
        "id": "zge-I3nDE_PB",
        "colab_type": "text"
      },
      "cell_type": "markdown",
      "source": [
        "## Breadth First\n",
        "* Guranteed to find the best path\n",
        "* Might still expand too many nodes"
      ]
    },
    {
      "metadata": {
        "id": "rGWk8__rE_PE",
        "colab_type": "code",
        "colab": {}
      },
      "cell_type": "code",
      "source": [
        "# https://en.wikipedia.org/wiki/Breadth-first_search\n",
        "\n",
        "def breadth_first_kernel(parent, children, open_list, meta, max_depth = 10, debug=False):\n",
        "    new_open_list = list(open_list)\n",
        "\n",
        "    depth = meta[as_string(parent)][2]\n",
        "    if depth < max_depth:\n",
        "        if debug:\n",
        "            print('expanding level', depth)\n",
        "            print(as_string(parent))\n",
        "            \n",
        "        for action, child in children:\n",
        "            if child not in open_list:\n",
        "                meta[as_string(child)] = (as_string(parent), action, depth + 1)\n",
        "                new_open_list.append(child)\n",
        "    return new_open_list"
      ],
      "execution_count": 0,
      "outputs": []
    },
    {
      "metadata": {
        "id": "8FFSYmH3E_PK",
        "colab_type": "code",
        "colab": {
          "base_uri": "https://localhost:8080/",
          "height": 85
        },
        "outputId": "ea0072ce-5c75-44af-9377-d7b9c2d62e22"
      },
      "cell_type": "code",
      "source": [
        "print(as_string(simple_terrain))"
      ],
      "execution_count": 15,
      "outputs": [
        {
          "output_type": "stream",
          "text": [
            "R _ G \n",
            "_ _ B \n",
            "_ _ _ \n",
            "\n"
          ],
          "name": "stdout"
        }
      ]
    },
    {
      "metadata": {
        "id": "d5HC4z03E_PV",
        "colab_type": "code",
        "colab": {
          "base_uri": "https://localhost:8080/",
          "height": 51
        },
        "outputId": "3003b31f-82ef-4ba6-c2c1-1f507623495b"
      },
      "cell_type": "code",
      "source": [
        "search(simple_terrain, breadth_first_kernel)"
      ],
      "execution_count": 16,
      "outputs": [
        {
          "output_type": "stream",
          "text": [
            "nodes visited 3\n"
          ],
          "name": "stdout"
        },
        {
          "output_type": "execute_result",
          "data": {
            "text/plain": [
              "[(0, 1), (0, 2)]"
            ]
          },
          "metadata": {
            "tags": []
          },
          "execution_count": 16
        }
      ]
    },
    {
      "metadata": {
        "id": "I1B7iIqXE_PY",
        "colab_type": "code",
        "colab": {}
      },
      "cell_type": "code",
      "source": [
        "# search(simple_terrain, breadth_first_kernel, debug=True)"
      ],
      "execution_count": 0,
      "outputs": []
    },
    {
      "metadata": {
        "id": "9-kgD1puE_Pa",
        "colab_type": "code",
        "colab": {
          "base_uri": "https://localhost:8080/",
          "height": 85
        },
        "outputId": "acadccfe-1a1e-4398-81ef-87a67b00708c"
      },
      "cell_type": "code",
      "source": [
        "print(as_string(simple_terrain2))"
      ],
      "execution_count": 18,
      "outputs": [
        {
          "output_type": "stream",
          "text": [
            "R B G \n",
            "_ _ _ \n",
            "_ _ _ \n",
            "\n"
          ],
          "name": "stdout"
        }
      ]
    },
    {
      "metadata": {
        "id": "i7ArcYo2E_Pd",
        "colab_type": "code",
        "colab": {
          "base_uri": "https://localhost:8080/",
          "height": 51
        },
        "outputId": "a5ec4344-f424-4e4e-932c-acebf33b3d67"
      },
      "cell_type": "code",
      "source": [
        "# will find best path\n",
        "search(simple_terrain2, breadth_first_kernel)"
      ],
      "execution_count": 19,
      "outputs": [
        {
          "output_type": "stream",
          "text": [
            "nodes visited 7\n"
          ],
          "name": "stdout"
        },
        {
          "output_type": "execute_result",
          "data": {
            "text/plain": [
              "[(1, 0), (1, 1), (1, 2), (0, 2)]"
            ]
          },
          "metadata": {
            "tags": []
          },
          "execution_count": 19
        }
      ]
    },
    {
      "metadata": {
        "id": "yHSl6D6mE_Pk",
        "colab_type": "code",
        "colab": {}
      },
      "cell_type": "code",
      "source": [
        "# search(simple_terrain2, breadth_first_kernel, debug=True)"
      ],
      "execution_count": 0,
      "outputs": []
    },
    {
      "metadata": {
        "id": "VP7JvwVdE_Pn",
        "colab_type": "text"
      },
      "cell_type": "markdown",
      "source": [
        "## A*\n",
        "### Why do we blindly wander around, don't we know in which direction to walk?"
      ]
    },
    {
      "metadata": {
        "id": "3dVVXEdGE_Po",
        "colab_type": "code",
        "colab": {}
      },
      "cell_type": "code",
      "source": [
        "# https://en.wikipedia.org/wiki/Admissible_heuristic\n",
        "# we must not overestimate, which is called \"admissible\"\n",
        "# strangely enough, this is admissible, but obviously not perfect\n",
        "def baseline_estimate_rest_cost(child):\n",
        "    return 1\n",
        "\n",
        "# https://en.wikipedia.org/wiki/A*_search_algorithm\n",
        "def a_star_kernel(parent, children, open_list, meta, estimate_rest_cost = baseline_estimate_rest_cost, max_depth = 10, debug=False):\n",
        "    new_open_list = list(open_list)\n",
        "\n",
        "    depth = meta[as_string(parent)][2]\n",
        "    previous_cost = depth\n",
        "    if depth < max_depth:\n",
        "        if debug:\n",
        "            print('expanding level', depth)\n",
        "            print(as_string(parent))\n",
        "            \n",
        "        for action, child in children:\n",
        "            if child not in open_list:\n",
        "                estimated_rest_cost = estimate_rest_cost(child)\n",
        "                estimated_total_cost = estimated_rest_cost + previous_cost\n",
        "                meta[as_string(child)] = (as_string(parent), action, depth + 1, estimated_total_cost)\n",
        "                new_open_list.append(child)\n",
        "    \n",
        "        # sort using total cost, expand least total cost first\n",
        "        new_open_list.sort(key=lambda x: meta[as_string(x)][3])\n",
        "    return new_open_list"
      ],
      "execution_count": 0,
      "outputs": []
    },
    {
      "metadata": {
        "id": "AVmk1BMyE_Pq",
        "colab_type": "code",
        "colab": {
          "base_uri": "https://localhost:8080/",
          "height": 85
        },
        "outputId": "24b088b9-2343-46da-d1cc-45e977622384"
      },
      "cell_type": "code",
      "source": [
        "print(as_string(simple_terrain))"
      ],
      "execution_count": 22,
      "outputs": [
        {
          "output_type": "stream",
          "text": [
            "R _ G \n",
            "_ _ B \n",
            "_ _ _ \n",
            "\n"
          ],
          "name": "stdout"
        }
      ]
    },
    {
      "metadata": {
        "id": "2iTi-5ENE_Pt",
        "colab_type": "code",
        "colab": {
          "base_uri": "https://localhost:8080/",
          "height": 51
        },
        "outputId": "a156c262-f6ba-49b4-9a84-cc5bb4bed828"
      },
      "cell_type": "code",
      "source": [
        "search(simple_terrain, a_star_kernel)"
      ],
      "execution_count": 23,
      "outputs": [
        {
          "output_type": "stream",
          "text": [
            "nodes visited 3\n"
          ],
          "name": "stdout"
        },
        {
          "output_type": "execute_result",
          "data": {
            "text/plain": [
              "[(0, 1), (0, 2)]"
            ]
          },
          "metadata": {
            "tags": []
          },
          "execution_count": 23
        }
      ]
    },
    {
      "metadata": {
        "id": "a4mo0DPKE_Px",
        "colab_type": "text"
      },
      "cell_type": "markdown",
      "source": [
        "## A better heuristic\n",
        "Best of both worlds: always finds best solution, but visited nodes are minimal for this problem"
      ]
    },
    {
      "metadata": {
        "id": "tFbWoa8cE_Pz",
        "colab_type": "code",
        "colab": {}
      },
      "cell_type": "code",
      "source": [
        "from math import sqrt, pow\n",
        "\n",
        "def distance(pos1, pos2):\n",
        "    if pos1 and pos2:\n",
        "        return sqrt(pow(pos1[0] - pos2[0], 2) + pow(pos1[1] - pos2[1], 2))\n",
        "    else:\n",
        "        return 0\n",
        "\n",
        "def distance_based_estimate_rest_cost(child, debug=False):\n",
        "    robot = locate(child, robot_symbol)\n",
        "    goal = locate(child, goal_symbol)\n",
        "    if debug:\n",
        "        print('robot', robot)\n",
        "        print('goal', goal)\n",
        "        print('distance', distance(robot, goal))\n",
        "    return distance(robot, goal)"
      ],
      "execution_count": 0,
      "outputs": []
    },
    {
      "metadata": {
        "id": "iFazSRYyE_P2",
        "colab_type": "code",
        "colab": {
          "base_uri": "https://localhost:8080/",
          "height": 51
        },
        "outputId": "44860b7e-a188-441c-ae2f-6b558545df16"
      },
      "cell_type": "code",
      "source": [
        "search(simple_terrain, lambda *args, **kwargs: a_star_kernel(*args, **kwargs, estimate_rest_cost=distance_based_estimate_rest_cost))"
      ],
      "execution_count": 25,
      "outputs": [
        {
          "output_type": "stream",
          "text": [
            "nodes visited 2\n"
          ],
          "name": "stdout"
        },
        {
          "output_type": "execute_result",
          "data": {
            "text/plain": [
              "[(0, 1), (0, 2)]"
            ]
          },
          "metadata": {
            "tags": []
          },
          "execution_count": 25
        }
      ]
    },
    {
      "metadata": {
        "id": "cICmB6gHE_P4",
        "colab_type": "code",
        "colab": {}
      },
      "cell_type": "code",
      "source": [
        "# search(simple_terrain, lambda *args, **kwargs: a_star_kernel(*args, **kwargs, estimate_rest_cost=distance_based_estimate_rest_cost), debug=True)"
      ],
      "execution_count": 0,
      "outputs": []
    },
    {
      "metadata": {
        "id": "9jOh3gyIE_P8",
        "colab_type": "code",
        "colab": {}
      },
      "cell_type": "code",
      "source": [
        ""
      ],
      "execution_count": 0,
      "outputs": []
    }
  ]
}