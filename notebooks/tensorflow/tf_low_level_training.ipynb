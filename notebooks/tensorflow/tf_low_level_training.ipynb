{
  "nbformat": 4,
  "nbformat_minor": 0,
  "metadata": {
    "colab": {
      "name": "tf_low_level_training.ipynb",
      "version": "0.3.2",
      "provenance": [],
      "include_colab_link": true
    },
    "kernelspec": {
      "name": "python3",
      "display_name": "Python 3"
    },
    "accelerator": "GPU"
  },
  "cells": [
    {
      "cell_type": "markdown",
      "metadata": {
        "id": "view-in-github",
        "colab_type": "text"
      },
      "source": [
        "<a href=\"https://colab.research.google.com/github/DJCordhose/ai/blob/master/notebooks/tensorflow/tf_low_level_training.ipynb\" target=\"_parent\"><img src=\"https://colab.research.google.com/assets/colab-badge.svg\" alt=\"Open In Colab\"/></a>"
      ]
    },
    {
      "metadata": {
        "id": "cPPSaNy-gP69",
        "colab_type": "text"
      },
      "cell_type": "markdown",
      "source": [
        "# Low Level TensorFlow, Part III: Layers and Training\n",
        "\n",
        "* https://www.tensorflow.org/guide/low_level_intro#training\n",
        "* https://developers.google.com/machine-learning/glossary/#gradient_descent\n",
        "* https://developers.google.com/machine-learning/glossary/#optimizer"
      ]
    },
    {
      "metadata": {
        "id": "iTAja3gRgTL5",
        "colab_type": "code",
        "outputId": "6be4c0da-554e-4407-ad1a-f0a3b927bda7",
        "colab": {
          "base_uri": "https://localhost:8080/",
          "height": 34
        }
      },
      "cell_type": "code",
      "source": [
        "# import and check version\n",
        "import tensorflow as tf\n",
        "# tf can be really verbose\n",
        "tf.logging.set_verbosity(tf.logging.ERROR)\n",
        "print(tf.__version__)"
      ],
      "execution_count": 1,
      "outputs": [
        {
          "output_type": "stream",
          "text": [
            "1.13.0-rc0\n"
          ],
          "name": "stdout"
        }
      ]
    },
    {
      "metadata": {
        "id": "c64ihdObg50w",
        "colab_type": "code",
        "outputId": "1dfc14de-f73c-492b-d4e6-15bca1306fc6",
        "colab": {
          "base_uri": "https://localhost:8080/",
          "height": 34
        }
      },
      "cell_type": "code",
      "source": [
        "# a small sanity check, does tf seem to work ok? \n",
        "sess = tf.Session()\n",
        "hello = tf.constant('Hello TF!')\n",
        "print(sess.run(hello))\n",
        "sess.close()"
      ],
      "execution_count": 2,
      "outputs": [
        {
          "output_type": "stream",
          "text": [
            "b'Hello TF!'\n"
          ],
          "name": "stdout"
        }
      ]
    },
    {
      "metadata": {
        "id": "-PfYL1utj2cV",
        "colab_type": "text"
      },
      "cell_type": "markdown",
      "source": [
        "## Transforming an input to a known output"
      ]
    },
    {
      "metadata": {
        "id": "qgrvJUt_xgAN",
        "colab_type": "code",
        "colab": {}
      },
      "cell_type": "code",
      "source": [
        "input = [[-1], [0], [1], [2], [3], [4]]\n",
        "output = [[2], [1], [0], [-1], [-2], [-3]]"
      ],
      "execution_count": 0,
      "outputs": []
    },
    {
      "metadata": {
        "id": "14z93XxftiDf",
        "colab_type": "code",
        "outputId": "5906c3e0-768e-4748-9381-c2339d4396a0",
        "colab": {
          "base_uri": "https://localhost:8080/",
          "height": 378
        }
      },
      "cell_type": "code",
      "source": [
        "import matplotlib.pyplot as plt\n",
        "\n",
        "plt.xlabel('input')\n",
        "plt.ylabel('output')\n",
        "\n",
        "plt.plot(input, output, 'kX')"
      ],
      "execution_count": 10,
      "outputs": [
        {
          "output_type": "execute_result",
          "data": {
            "text/plain": [
              "[<matplotlib.lines.Line2D at 0x7f5f4030e358>]"
            ]
          },
          "metadata": {
            "tags": []
          },
          "execution_count": 10
        },
        {
          "output_type": "display_data",
          "data": {
            "image/png": "[encoded data removed]",
            "text/plain": [
              "<Figure size 576x396 with 1 Axes>"
            ]
          },
          "metadata": {
            "tags": []
          }
        }
      ]
    },
    {
      "metadata": {
        "id": "Sf1NEln3Vp91",
        "colab_type": "text"
      },
      "cell_type": "markdown",
      "source": [
        "### relation between input and output is linear"
      ]
    },
    {
      "metadata": {
        "id": "9JylnPRWxq6U",
        "colab_type": "code",
        "outputId": "dbaf618f-1eda-4e61-b593-f4d0950675d1",
        "colab": {
          "base_uri": "https://localhost:8080/",
          "height": 364
        }
      },
      "cell_type": "code",
      "source": [
        "plt.plot(input, output)\n",
        "plt.plot(input, output, 'ro')"
      ],
      "execution_count": 13,
      "outputs": [
        {
          "output_type": "execute_result",
          "data": {
            "text/plain": [
              "[<matplotlib.lines.Line2D at 0x7f5f40241da0>]"
            ]
          },
          "metadata": {
            "tags": []
          },
          "execution_count": 13
        },
        {
          "output_type": "display_data",
          "data": {
            "image/png": "[encoded data removed]",
            "text/plain": [
              "<Figure size 576x396 with 1 Axes>"
            ]
          },
          "metadata": {
            "tags": []
          }
        }
      ]
    },
    {
      "metadata": {
        "id": "VkTKGeziaOyo",
        "colab_type": "code",
        "outputId": "77f1881b-1dda-4cc7-f7d0-c43b176b8546",
        "colab": {
          "base_uri": "https://localhost:8080/",
          "height": 34
        }
      },
      "cell_type": "code",
      "source": [
        "x = tf.constant(input, dtype=tf.float32)\n",
        "y_true = tf.constant(output, dtype=tf.float32)\n",
        "y_true"
      ],
      "execution_count": 14,
      "outputs": [
        {
          "output_type": "execute_result",
          "data": {
            "text/plain": [
              "<tf.Tensor 'Const_2:0' shape=(6, 1) dtype=float32>"
            ]
          },
          "metadata": {
            "tags": []
          },
          "execution_count": 14
        }
      ]
    },
    {
      "metadata": {
        "id": "oqRIjIUg02c1",
        "colab_type": "text"
      },
      "cell_type": "markdown",
      "source": [
        "## Defining the model to train\n",
        "\n",
        "untrained single unit (neuron) also outputs a line from same input, although another one \n",
        "\n",
        "### The Artificial Neuron: Foundation of Deep Neural Networks (simplified, more later)\n",
        "\n",
        "* a neuron takes a number of numerical inputs\n",
        "* multiplies each with a weight, sums up all weighted input and  \n",
        "* adds bias (constant) to that sum\n",
        "* from this it creates a single numerical output\n",
        "* for one input (one dimension) this would be a description of a line\n",
        "* for more dimensions this describes a hyper plane that can serve as a decision boundary\n",
        "* this is typically expressed as a matrix multplication plus an addition\n",
        "\n",
        "\n",
        "<img src='https://djcordhose.github.io/ai/img/insurance/neuron211.jpg'>\n",
        "\n",
        "### From single neuron to network in the TensorFlow Playground\n",
        "\n",
        "<img src='https://djcordhose.github.io/ai/img/tf-plaground.png'>\n",
        "\n",
        "https://playground.tensorflow.org/#activation=linear&batchSize=10&dataset=circle&regDataset=reg-plane&learningRate=0.01&regularizationRate=0&noise=0&networkShape=1&seed=0.98437&showTestData=false&discretize=false&percTrainData=50&x=true&y=true&xTimesY=false&xSquared=false&ySquared=false&cosX=false&sinX=false&cosY=false&sinY=false&collectStats=false&problem=classification&initZero=false&hideText=false"
      ]
    },
    {
      "metadata": {
        "id": "QjGrZUDYwTKt",
        "colab_type": "code",
        "outputId": "8c4de1c8-726a-47c3-ca92-39f4e9d7949b",
        "colab": {
          "base_uri": "https://localhost:8080/",
          "height": 34
        }
      },
      "cell_type": "code",
      "source": [
        "# short version, though harder to inspect\n",
        "# y_pred = tf.layers.dense(inputs=x, units=1)\n",
        "\n",
        "# matrix multiplication under the hood\n",
        "# tf.matmul(x, w) + b\n",
        "linear_model = tf.layers.Dense(units=1)\n",
        "y_pred = linear_model(x)\n",
        "y_pred"
      ],
      "execution_count": 15,
      "outputs": [
        {
          "output_type": "execute_result",
          "data": {
            "text/plain": [
              "<tf.Tensor 'dense/BiasAdd:0' shape=(6, 1) dtype=float32>"
            ]
          },
          "metadata": {
            "tags": []
          },
          "execution_count": 15
        }
      ]
    },
    {
      "metadata": {
        "id": "y6bH4n2FeJZb",
        "colab_type": "code",
        "outputId": "ef5003fc-78a4-482d-8b8e-156e528be381",
        "colab": {
          "base_uri": "https://localhost:8080/",
          "height": 34
        }
      },
      "cell_type": "code",
      "source": [
        "# single neuron and single input: one weight and one bias\n",
        "# weights and biases are represented as variables\n",
        "# https://www.tensorflow.org/guide/variables\n",
        "with tf.Session() as sess:\n",
        "  sess.run(tf.global_variables_initializer())\n",
        "  weights = sess.run(linear_model.trainable_weights)\n",
        "  print(weights)"
      ],
      "execution_count": 16,
      "outputs": [
        {
          "output_type": "stream",
          "text": [
            "[array([[-0.30356097]], dtype=float32), array([0.], dtype=float32)]\n"
          ],
          "name": "stdout"
        }
      ]
    },
    {
      "metadata": {
        "id": "xGbyRvoDVwY8",
        "colab_type": "text"
      },
      "cell_type": "markdown",
      "source": [
        "### Output of a single untrained neuron"
      ]
    },
    {
      "metadata": {
        "id": "X4wttgGUwqCp",
        "colab_type": "code",
        "outputId": "b4c8df70-078d-4945-d458-f112000779ef",
        "colab": {
          "base_uri": "https://localhost:8080/",
          "height": 469
        }
      },
      "cell_type": "code",
      "source": [
        "# when you execute this cell, you should see a different line, as the initialization is random\n",
        "with tf.Session() as sess:\n",
        "  sess.run(tf.global_variables_initializer())\n",
        "  output_pred = sess.run(y_pred)\n",
        "  print(output_pred)\n",
        "  weights = sess.run(linear_model.trainable_weights)\n",
        "  print(weights)\n",
        "  plt.plot(input, output_pred)\n",
        "  plt.plot(input, output, 'ro')"
      ],
      "execution_count": 19,
      "outputs": [
        {
          "output_type": "stream",
          "text": [
            "[[-1.3577541]\n",
            " [ 0.       ]\n",
            " [ 1.3577541]\n",
            " [ 2.7155082]\n",
            " [ 4.073262 ]\n",
            " [ 5.4310164]]\n",
            "[array([[1.3577541]], dtype=float32), array([0.], dtype=float32)]\n"
          ],
          "name": "stdout"
        },
        {
          "output_type": "display_data",
          "data": {
            "image/png": "[encoded data removed]",
            "text/plain": [
              "<Figure size 576x396 with 1 Axes>"
            ]
          },
          "metadata": {
            "tags": []
          }
        }
      ]
    },
    {
      "metadata": {
        "id": "0Takiz-Z4O79",
        "colab_type": "text"
      },
      "cell_type": "markdown",
      "source": [
        "## Loss - Mean Squared Error\n",
        "\n",
        "Loss function is the prerequisite to training. We need an objective to optimize for. We calculate the difference between what we get as output and what we would like to get.\n",
        "\n",
        "### Mean Squared Error\n",
        "\n",
        "$MSE = {\\frac {1}{n}}\\sum _{i=1}^{n}(Y_{i}-{\\hat {Y_{i}}})^{2}$\n",
        "\n",
        "\n",
        "https://en.wikipedia.org/wiki/Mean_squared_error\n"
      ]
    },
    {
      "metadata": {
        "id": "nyDos86LxIFv",
        "colab_type": "code",
        "outputId": "d6ebff18-aadb-4473-b14d-3b75351f38ee",
        "colab": {
          "base_uri": "https://localhost:8080/",
          "height": 34
        }
      },
      "cell_type": "code",
      "source": [
        "loss = tf.losses.mean_squared_error(labels=y_true, predictions=y_pred)\n",
        "loss"
      ],
      "execution_count": 21,
      "outputs": [
        {
          "output_type": "execute_result",
          "data": {
            "text/plain": [
              "<tf.Tensor 'mean_squared_error/value:0' shape=() dtype=float32>"
            ]
          },
          "metadata": {
            "tags": []
          },
          "execution_count": 21
        }
      ]
    },
    {
      "metadata": {
        "id": "fuMSM6wj4RWR",
        "colab_type": "code",
        "outputId": "a145c9a0-c21f-4e4b-8450-bf35e8e7b30e",
        "colab": {
          "base_uri": "https://localhost:8080/",
          "height": 34
        }
      },
      "cell_type": "code",
      "source": [
        "# when this loss is zero (which it is not right now) we get the desired output\n",
        "with tf.Session() as sess:\n",
        "  sess.run(tf.global_variables_initializer())\n",
        "  print(sess.run(loss))"
      ],
      "execution_count": 22,
      "outputs": [
        {
          "output_type": "stream",
          "text": [
            "0.69367313\n"
          ],
          "name": "stdout"
        }
      ]
    },
    {
      "metadata": {
        "id": "nqi668TWV7Ly",
        "colab_type": "text"
      },
      "cell_type": "markdown",
      "source": [
        "### Minimize Loss by changing parameters of neuron\n",
        "\n",
        "Move in parameter space in the direction of a descent\n",
        "\n",
        "<img src='https://djcordhose.github.io/ai/img/gradients.jpg'>\n",
        "\n",
        "https://twitter.com/colindcarroll/status/1090266016259534848\n",
        "\n",
        "### Job of the optimizer\n",
        "\n",
        "<img src='https://djcordhose.github.io/ai/img/manning/optimizer.png' height=500>\n",
        "\n"
      ]
    },
    {
      "metadata": {
        "id": "d_hI06V-Lu2d",
        "colab_type": "code",
        "outputId": "bf318591-9dbc-4f24-ef21-2506025d014a",
        "colab": {
          "base_uri": "https://localhost:8080/",
          "height": 34
        }
      },
      "cell_type": "code",
      "source": [
        "# move the parameters of our single neuron in the right direction with a pretty high intensity (learning rate)\n",
        "optimizer = tf.train.GradientDescentOptimizer(learning_rate=0.01)\n",
        "train = optimizer.minimize(loss)\n",
        "train"
      ],
      "execution_count": 23,
      "outputs": [
        {
          "output_type": "execute_result",
          "data": {
            "text/plain": [
              "<tf.Operation 'GradientDescent' type=NoOp>"
            ]
          },
          "metadata": {
            "tags": []
          },
          "execution_count": 23
        }
      ]
    },
    {
      "metadata": {
        "id": "PkTdAWrF5xj1",
        "colab_type": "code",
        "colab": {}
      },
      "cell_type": "code",
      "source": [
        "losses = []\n",
        "\n",
        "sess = tf.Session()\n",
        "sess.run(tf.global_variables_initializer())\n",
        "\n",
        "# iterations aka epochs, optimizing the parameters of the neuron\n",
        "for i in range(500):\n",
        "  \n",
        "  # executing optimizer and current loss, but only displaying current loss\n",
        "  _, loss_value = sess.run((train, loss))\n",
        "  losses.append(loss_value)"
      ],
      "execution_count": 0,
      "outputs": []
    },
    {
      "metadata": {
        "id": "yz25bavobjYj",
        "colab_type": "code",
        "outputId": "a9b363ee-1cfa-4081-d678-8c25506f8522",
        "colab": {
          "base_uri": "https://localhost:8080/",
          "height": 34
        }
      },
      "cell_type": "code",
      "source": [
        "print(sess.run(loss))"
      ],
      "execution_count": 25,
      "outputs": [
        {
          "output_type": "stream",
          "text": [
            "4.09069e-05\n"
          ],
          "name": "stdout"
        }
      ]
    },
    {
      "metadata": {
        "id": "rluSkxEsV2CF",
        "colab_type": "text"
      },
      "cell_type": "markdown",
      "source": [
        "### Learning Curve after training"
      ]
    },
    {
      "metadata": {
        "id": "C16uj8jI6-EF",
        "colab_type": "code",
        "outputId": "b38a6718-a777-49ba-9071-db6e97e640b7",
        "colab": {
          "base_uri": "https://localhost:8080/",
          "height": 378
        }
      },
      "cell_type": "code",
      "source": [
        "# wet dream of every machine learning person (typically you see a noisy curve only sort of going down)\n",
        "\n",
        "plt.yscale('log')\n",
        "plt.ylabel(\"loss\")\n",
        "plt.xlabel(\"epochs\")\n",
        "\n",
        "plt.plot(losses)"
      ],
      "execution_count": 29,
      "outputs": [
        {
          "output_type": "execute_result",
          "data": {
            "text/plain": [
              "[<matplotlib.lines.Line2D at 0x7f5f828f3e48>]"
            ]
          },
          "metadata": {
            "tags": []
          },
          "execution_count": 29
        },
        {
          "output_type": "display_data",
          "data": {
            "image/png": "[encoded data removed]",
            "text/plain": [
              "<Figure size 576x396 with 1 Axes>"
            ]
          },
          "metadata": {
            "tags": []
          }
        }
      ]
    },
    {
      "metadata": {
        "id": "PgoK3PqLWEMs",
        "colab_type": "text"
      },
      "cell_type": "markdown",
      "source": [
        "### Line drawn by neuron after training\n",
        "\n",
        "* result after training is not perfect, but almost looks like the same line\n",
        "* https://en.wikipedia.org/wiki/Linear_equation#Slope%E2%80%93intercept_form\n"
      ]
    },
    {
      "metadata": {
        "id": "-GolZcpK9FMK",
        "colab_type": "code",
        "outputId": "e9c5500f-ee46-4a3e-f200-b17d72f73013",
        "colab": {
          "base_uri": "https://localhost:8080/",
          "height": 468
        }
      },
      "cell_type": "code",
      "source": [
        "output_pred = sess.run(y_pred)\n",
        "print(output_pred)\n",
        "plt.plot(input, output_pred)\n",
        "plt.plot(input, output, 'ro')"
      ],
      "execution_count": 30,
      "outputs": [
        {
          "output_type": "stream",
          "text": [
            "[[ 1.9887948 ]\n",
            " [ 0.9915276 ]\n",
            " [-0.00573957]\n",
            " [-1.0030067 ]\n",
            " [-2.000274  ]\n",
            " [-2.9975412 ]]\n"
          ],
          "name": "stdout"
        },
        {
          "output_type": "execute_result",
          "data": {
            "text/plain": [
              "[<matplotlib.lines.Line2D at 0x7f5f2c5ecba8>]"
            ]
          },
          "metadata": {
            "tags": []
          },
          "execution_count": 30
        },
        {
          "output_type": "display_data",
          "data": {
            "image/png": "[encoded data removed]",
            "text/plain": [
              "<Figure size 576x396 with 1 Axes>"
            ]
          },
          "metadata": {
            "tags": []
          }
        }
      ]
    },
    {
      "metadata": {
        "id": "twEiOVUzX4h6",
        "colab_type": "code",
        "outputId": "2152153a-352d-4984-f68c-f33c9695e4b5",
        "colab": {
          "base_uri": "https://localhost:8080/",
          "height": 34
        }
      },
      "cell_type": "code",
      "source": [
        "# single neuron and single input: one weight and one bias\n",
        "# slope m ~ -1\n",
        "# y-axis offset y0 ~ 1\n",
        "# https://en.wikipedia.org/wiki/Linear_equation#Slope%E2%80%93intercept_form\n",
        "\n",
        "weights = sess.run(linear_model.trainable_weights)\n",
        "print(weights)"
      ],
      "execution_count": 31,
      "outputs": [
        {
          "output_type": "stream",
          "text": [
            "[array([[-0.9972672]], dtype=float32), array([0.9915276], dtype=float32)]\n"
          ],
          "name": "stdout"
        }
      ]
    },
    {
      "metadata": {
        "id": "DwENGC55URVt",
        "colab_type": "code",
        "colab": {}
      },
      "cell_type": "code",
      "source": [
        ""
      ],
      "execution_count": 0,
      "outputs": []
    }
  ]
}