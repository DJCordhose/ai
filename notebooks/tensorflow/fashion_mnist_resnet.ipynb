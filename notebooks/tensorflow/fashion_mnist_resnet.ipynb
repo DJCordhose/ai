{
  "nbformat": 4,
  "nbformat_minor": 0,
  "metadata": {
    "colab": {
      "name": "Keras Fashion MNIST",
      "version": "0.3.2",
      "provenance": [],
      "collapsed_sections": [],
      "include_colab_link": true
    },
    "kernelspec": {
      "name": "python3",
      "display_name": "Python 3"
    },
    "accelerator": "GPU"
  },
  "cells": [
    {
      "cell_type": "markdown",
      "metadata": {
        "id": "view-in-github",
        "colab_type": "text"
      },
      "source": [
        "[View in Colaboratory](https://colab.research.google.com/github/DJCordhose/ai/blob/master/notebooks/tensorflow/fashion_mnist_resnet.ipynb)"
      ]
    },
    {
      "metadata": {
        "colab_type": "text",
        "id": "Ot79jiI7GiHR"
      },
      "cell_type": "markdown",
      "source": [
        "# Fashion MNIST with Keras and Resnet\n",
        "\n",
        "Adapted from \n",
        "* https://colab.research.google.com/github/tensorflow/tpu/blob/master/tools/colab/fashion_mnist.ipynb\n",
        "* https://github.com/margaretmz/deep-learning/blob/master/fashion_mnist_keras.ipynb"
      ]
    },
    {
      "metadata": {
        "id": "BgKgnUbT0Hl1",
        "colab_type": "code",
        "colab": {}
      },
      "cell_type": "code",
      "source": [
        "import warnings\n",
        "warnings.filterwarnings('ignore')"
      ],
      "execution_count": 0,
      "outputs": []
    },
    {
      "metadata": {
        "colab": {
          "base_uri": "https://localhost:8080/",
          "height": 153
        },
        "colab_type": "code",
        "id": "Zo-Yk6LFGfSf",
        "outputId": "69e04f23-0b60-4432-fc06-e0907ce03439"
      },
      "cell_type": "code",
      "source": [
        "import tensorflow as tf\n",
        "tf.logging.set_verbosity(tf.logging.ERROR)\n",
        "\n",
        "import numpy as np\n",
        "\n",
        "(x_train, y_train), (x_test, y_test) = tf.keras.datasets.fashion_mnist.load_data()"
      ],
      "execution_count": 2,
      "outputs": [
        {
          "output_type": "stream",
          "text": [
            "Downloading data from https://storage.googleapis.com/tensorflow/tf-keras-datasets/train-labels-idx1-ubyte.gz\n",
            "32768/29515 [=================================] - 0s 0us/step\n",
            "Downloading data from https://storage.googleapis.com/tensorflow/tf-keras-datasets/train-images-idx3-ubyte.gz\n",
            "26427392/26421880 [==============================] - 1s 0us/step\n",
            "Downloading data from https://storage.googleapis.com/tensorflow/tf-keras-datasets/t10k-labels-idx1-ubyte.gz\n",
            "8192/5148 [===============================================] - 0s 0us/step\n",
            "Downloading data from https://storage.googleapis.com/tensorflow/tf-keras-datasets/t10k-images-idx3-ubyte.gz\n",
            "4423680/4422102 [==============================] - 0s 0us/step\n"
          ],
          "name": "stdout"
        }
      ]
    },
    {
      "metadata": {
        "id": "SA86lMsm0Hl8",
        "colab_type": "code",
        "colab": {
          "base_uri": "https://localhost:8080/",
          "height": 34
        },
        "outputId": "4f2b0e75-1476-4a93-b8dd-108b5d5bf182"
      },
      "cell_type": "code",
      "source": [
        "x_train.shape"
      ],
      "execution_count": 3,
      "outputs": [
        {
          "output_type": "execute_result",
          "data": {
            "text/plain": [
              "(60000, 28, 28)"
            ]
          },
          "metadata": {
            "tags": []
          },
          "execution_count": 3
        }
      ]
    },
    {
      "metadata": {
        "id": "ho696hjZ0HmC",
        "colab_type": "code",
        "colab": {}
      },
      "cell_type": "code",
      "source": [
        "# add empty color dimension\n",
        "x_train = np.expand_dims(x_train, -1)\n",
        "x_test = np.expand_dims(x_test, -1)"
      ],
      "execution_count": 0,
      "outputs": []
    },
    {
      "metadata": {
        "id": "leTQvij40HmF",
        "colab_type": "code",
        "colab": {
          "base_uri": "https://localhost:8080/",
          "height": 34
        },
        "outputId": "f8e33ebf-19b5-43c6-c9b0-cc64a2ac4fc8"
      },
      "cell_type": "code",
      "source": [
        "x_train.shape"
      ],
      "execution_count": 5,
      "outputs": [
        {
          "output_type": "execute_result",
          "data": {
            "text/plain": [
              "(60000, 28, 28, 1)"
            ]
          },
          "metadata": {
            "tags": []
          },
          "execution_count": 5
        }
      ]
    },
    {
      "metadata": {
        "id": "vJY957q80HmJ",
        "colab_type": "code",
        "colab": {}
      },
      "cell_type": "code",
      "source": [
        "# recude memory and compute\n",
        "NUMBER_OF_SAMPLES = 10000"
      ],
      "execution_count": 0,
      "outputs": []
    },
    {
      "metadata": {
        "id": "IbAOWanA0HmL",
        "colab_type": "code",
        "colab": {}
      },
      "cell_type": "code",
      "source": [
        "x_train_samples = x_train[:NUMBER_OF_SAMPLES]"
      ],
      "execution_count": 0,
      "outputs": []
    },
    {
      "metadata": {
        "id": "eirhmhRd0HmP",
        "colab_type": "code",
        "colab": {}
      },
      "cell_type": "code",
      "source": [
        "y_train_samples = y_train[:NUMBER_OF_SAMPLES]"
      ],
      "execution_count": 0,
      "outputs": []
    },
    {
      "metadata": {
        "id": "gJZVXUtD0HmY",
        "colab_type": "code",
        "colab": {}
      },
      "cell_type": "code",
      "source": [
        "import skimage.data\n",
        "import skimage.transform\n",
        "\n",
        "x_train_224 = np.array([skimage.transform.resize(image, (32, 32)) for image in x_train_samples])"
      ],
      "execution_count": 0,
      "outputs": []
    },
    {
      "metadata": {
        "id": "AUdq27Bd0Hmb",
        "colab_type": "code",
        "colab": {
          "base_uri": "https://localhost:8080/",
          "height": 34
        },
        "outputId": "3323ce32-6168-4cdf-88c2-1725f9dc4525"
      },
      "cell_type": "code",
      "source": [
        "x_train_224.shape"
      ],
      "execution_count": 10,
      "outputs": [
        {
          "output_type": "execute_result",
          "data": {
            "text/plain": [
              "(10000, 32, 32, 1)"
            ]
          },
          "metadata": {
            "tags": []
          },
          "execution_count": 10
        }
      ]
    },
    {
      "metadata": {
        "colab_type": "text",
        "id": "Hgc2FZKVMx15"
      },
      "cell_type": "markdown",
      "source": [
        "## Alternative: ResNet\n",
        "* basic ideas\n",
        "  * depth does matter\n",
        "  * 8x deeper than VGG\n",
        "  * possible by using shortcuts and skipping final fc layer\n",
        "  * prevents vanishing gradient problem\n",
        "* https://keras.io/applications/#resnet50\n",
        "* https://medium.com/towards-data-science/neural-network-architectures-156e5bad51ba\n",
        "\n",
        "http://arxiv.org/abs/1512.03385\n",
        "![Deep Learning](https://raw.githubusercontent.com/DJCordhose/ai/master/docs/img/residual.png)"
      ]
    },
    {
      "metadata": {
        "colab": {
          "base_uri": "https://localhost:8080/",
          "height": 3298
        },
        "colab_type": "code",
        "id": "W7gMbs70GxA7",
        "outputId": "3e5b6ee3-7077-4805-889c-275dfafab376"
      },
      "cell_type": "code",
      "source": [
        "from tensorflow.keras.applications.resnet50 import ResNet50\n",
        "\n",
        "# https://keras.io/applications/#mobilenet\n",
        "# https://arxiv.org/pdf/1704.04861.pdf\n",
        "from tensorflow.keras.applications.mobilenet import MobileNet\n",
        "\n",
        "# model = ResNet50(classes=10, weights=None, input_shape=(32, 32, 1))\n",
        "model = MobileNet(classes=10, weights=None, input_shape=(32, 32, 1))\n",
        "\n",
        "model.summary()"
      ],
      "execution_count": 11,
      "outputs": [
        {
          "output_type": "stream",
          "text": [
            "_________________________________________________________________\n",
            "Layer (type)                 Output Shape              Param #   \n",
            "=================================================================\n",
            "input_1 (InputLayer)         (None, 32, 32, 1)         0         \n",
            "_________________________________________________________________\n",
            "conv1_pad (ZeroPadding2D)    (None, 33, 33, 1)         0         \n",
            "_________________________________________________________________\n",
            "conv1 (Conv2D)               (None, 16, 16, 32)        288       \n",
            "_________________________________________________________________\n",
            "conv1_bn (BatchNormalization (None, 16, 16, 32)        128       \n",
            "_________________________________________________________________\n",
            "conv1_relu (ReLU)            (None, 16, 16, 32)        0         \n",
            "_________________________________________________________________\n",
            "conv_dw_1 (DepthwiseConv2D)  (None, 16, 16, 32)        288       \n",
            "_________________________________________________________________\n",
            "conv_dw_1_bn (BatchNormaliza (None, 16, 16, 32)        128       \n",
            "_________________________________________________________________\n",
            "conv_dw_1_relu (ReLU)        (None, 16, 16, 32)        0         \n",
            "_________________________________________________________________\n",
            "conv_pw_1 (Conv2D)           (None, 16, 16, 64)        2048      \n",
            "_________________________________________________________________\n",
            "conv_pw_1_bn (BatchNormaliza (None, 16, 16, 64)        256       \n",
            "_________________________________________________________________\n",
            "conv_pw_1_relu (ReLU)        (None, 16, 16, 64)        0         \n",
            "_________________________________________________________________\n",
            "conv_pad_2 (ZeroPadding2D)   (None, 17, 17, 64)        0         \n",
            "_________________________________________________________________\n",
            "conv_dw_2 (DepthwiseConv2D)  (None, 8, 8, 64)          576       \n",
            "_________________________________________________________________\n",
            "conv_dw_2_bn (BatchNormaliza (None, 8, 8, 64)          256       \n",
            "_________________________________________________________________\n",
            "conv_dw_2_relu (ReLU)        (None, 8, 8, 64)          0         \n",
            "_________________________________________________________________\n",
            "conv_pw_2 (Conv2D)           (None, 8, 8, 128)         8192      \n",
            "_________________________________________________________________\n",
            "conv_pw_2_bn (BatchNormaliza (None, 8, 8, 128)         512       \n",
            "_________________________________________________________________\n",
            "conv_pw_2_relu (ReLU)        (None, 8, 8, 128)         0         \n",
            "_________________________________________________________________\n",
            "conv_dw_3 (DepthwiseConv2D)  (None, 8, 8, 128)         1152      \n",
            "_________________________________________________________________\n",
            "conv_dw_3_bn (BatchNormaliza (None, 8, 8, 128)         512       \n",
            "_________________________________________________________________\n",
            "conv_dw_3_relu (ReLU)        (None, 8, 8, 128)         0         \n",
            "_________________________________________________________________\n",
            "conv_pw_3 (Conv2D)           (None, 8, 8, 128)         16384     \n",
            "_________________________________________________________________\n",
            "conv_pw_3_bn (BatchNormaliza (None, 8, 8, 128)         512       \n",
            "_________________________________________________________________\n",
            "conv_pw_3_relu (ReLU)        (None, 8, 8, 128)         0         \n",
            "_________________________________________________________________\n",
            "conv_pad_4 (ZeroPadding2D)   (None, 9, 9, 128)         0         \n",
            "_________________________________________________________________\n",
            "conv_dw_4 (DepthwiseConv2D)  (None, 4, 4, 128)         1152      \n",
            "_________________________________________________________________\n",
            "conv_dw_4_bn (BatchNormaliza (None, 4, 4, 128)         512       \n",
            "_________________________________________________________________\n",
            "conv_dw_4_relu (ReLU)        (None, 4, 4, 128)         0         \n",
            "_________________________________________________________________\n",
            "conv_pw_4 (Conv2D)           (None, 4, 4, 256)         32768     \n",
            "_________________________________________________________________\n",
            "conv_pw_4_bn (BatchNormaliza (None, 4, 4, 256)         1024      \n",
            "_________________________________________________________________\n",
            "conv_pw_4_relu (ReLU)        (None, 4, 4, 256)         0         \n",
            "_________________________________________________________________\n",
            "conv_dw_5 (DepthwiseConv2D)  (None, 4, 4, 256)         2304      \n",
            "_________________________________________________________________\n",
            "conv_dw_5_bn (BatchNormaliza (None, 4, 4, 256)         1024      \n",
            "_________________________________________________________________\n",
            "conv_dw_5_relu (ReLU)        (None, 4, 4, 256)         0         \n",
            "_________________________________________________________________\n",
            "conv_pw_5 (Conv2D)           (None, 4, 4, 256)         65536     \n",
            "_________________________________________________________________\n",
            "conv_pw_5_bn (BatchNormaliza (None, 4, 4, 256)         1024      \n",
            "_________________________________________________________________\n",
            "conv_pw_5_relu (ReLU)        (None, 4, 4, 256)         0         \n",
            "_________________________________________________________________\n",
            "conv_pad_6 (ZeroPadding2D)   (None, 5, 5, 256)         0         \n",
            "_________________________________________________________________\n",
            "conv_dw_6 (DepthwiseConv2D)  (None, 2, 2, 256)         2304      \n",
            "_________________________________________________________________\n",
            "conv_dw_6_bn (BatchNormaliza (None, 2, 2, 256)         1024      \n",
            "_________________________________________________________________\n",
            "conv_dw_6_relu (ReLU)        (None, 2, 2, 256)         0         \n",
            "_________________________________________________________________\n",
            "conv_pw_6 (Conv2D)           (None, 2, 2, 512)         131072    \n",
            "_________________________________________________________________\n",
            "conv_pw_6_bn (BatchNormaliza (None, 2, 2, 512)         2048      \n",
            "_________________________________________________________________\n",
            "conv_pw_6_relu (ReLU)        (None, 2, 2, 512)         0         \n",
            "_________________________________________________________________\n",
            "conv_dw_7 (DepthwiseConv2D)  (None, 2, 2, 512)         4608      \n",
            "_________________________________________________________________\n",
            "conv_dw_7_bn (BatchNormaliza (None, 2, 2, 512)         2048      \n",
            "_________________________________________________________________\n",
            "conv_dw_7_relu (ReLU)        (None, 2, 2, 512)         0         \n",
            "_________________________________________________________________\n",
            "conv_pw_7 (Conv2D)           (None, 2, 2, 512)         262144    \n",
            "_________________________________________________________________\n",
            "conv_pw_7_bn (BatchNormaliza (None, 2, 2, 512)         2048      \n",
            "_________________________________________________________________\n",
            "conv_pw_7_relu (ReLU)        (None, 2, 2, 512)         0         \n",
            "_________________________________________________________________\n",
            "conv_dw_8 (DepthwiseConv2D)  (None, 2, 2, 512)         4608      \n",
            "_________________________________________________________________\n",
            "conv_dw_8_bn (BatchNormaliza (None, 2, 2, 512)         2048      \n",
            "_________________________________________________________________\n",
            "conv_dw_8_relu (ReLU)        (None, 2, 2, 512)         0         \n",
            "_________________________________________________________________\n",
            "conv_pw_8 (Conv2D)           (None, 2, 2, 512)         262144    \n",
            "_________________________________________________________________\n",
            "conv_pw_8_bn (BatchNormaliza (None, 2, 2, 512)         2048      \n",
            "_________________________________________________________________\n",
            "conv_pw_8_relu (ReLU)        (None, 2, 2, 512)         0         \n",
            "_________________________________________________________________\n",
            "conv_dw_9 (DepthwiseConv2D)  (None, 2, 2, 512)         4608      \n",
            "_________________________________________________________________\n",
            "conv_dw_9_bn (BatchNormaliza (None, 2, 2, 512)         2048      \n",
            "_________________________________________________________________\n",
            "conv_dw_9_relu (ReLU)        (None, 2, 2, 512)         0         \n",
            "_________________________________________________________________\n",
            "conv_pw_9 (Conv2D)           (None, 2, 2, 512)         262144    \n",
            "_________________________________________________________________\n",
            "conv_pw_9_bn (BatchNormaliza (None, 2, 2, 512)         2048      \n",
            "_________________________________________________________________\n",
            "conv_pw_9_relu (ReLU)        (None, 2, 2, 512)         0         \n",
            "_________________________________________________________________\n",
            "conv_dw_10 (DepthwiseConv2D) (None, 2, 2, 512)         4608      \n",
            "_________________________________________________________________\n",
            "conv_dw_10_bn (BatchNormaliz (None, 2, 2, 512)         2048      \n",
            "_________________________________________________________________\n",
            "conv_dw_10_relu (ReLU)       (None, 2, 2, 512)         0         \n",
            "_________________________________________________________________\n",
            "conv_pw_10 (Conv2D)          (None, 2, 2, 512)         262144    \n",
            "_________________________________________________________________\n",
            "conv_pw_10_bn (BatchNormaliz (None, 2, 2, 512)         2048      \n",
            "_________________________________________________________________\n",
            "conv_pw_10_relu (ReLU)       (None, 2, 2, 512)         0         \n",
            "_________________________________________________________________\n",
            "conv_dw_11 (DepthwiseConv2D) (None, 2, 2, 512)         4608      \n",
            "_________________________________________________________________\n",
            "conv_dw_11_bn (BatchNormaliz (None, 2, 2, 512)         2048      \n",
            "_________________________________________________________________\n",
            "conv_dw_11_relu (ReLU)       (None, 2, 2, 512)         0         \n",
            "_________________________________________________________________\n",
            "conv_pw_11 (Conv2D)          (None, 2, 2, 512)         262144    \n",
            "_________________________________________________________________\n",
            "conv_pw_11_bn (BatchNormaliz (None, 2, 2, 512)         2048      \n",
            "_________________________________________________________________\n",
            "conv_pw_11_relu (ReLU)       (None, 2, 2, 512)         0         \n",
            "_________________________________________________________________\n",
            "conv_pad_12 (ZeroPadding2D)  (None, 3, 3, 512)         0         \n",
            "_________________________________________________________________\n",
            "conv_dw_12 (DepthwiseConv2D) (None, 1, 1, 512)         4608      \n",
            "_________________________________________________________________\n",
            "conv_dw_12_bn (BatchNormaliz (None, 1, 1, 512)         2048      \n",
            "_________________________________________________________________\n",
            "conv_dw_12_relu (ReLU)       (None, 1, 1, 512)         0         \n",
            "_________________________________________________________________\n",
            "conv_pw_12 (Conv2D)          (None, 1, 1, 1024)        524288    \n",
            "_________________________________________________________________\n",
            "conv_pw_12_bn (BatchNormaliz (None, 1, 1, 1024)        4096      \n",
            "_________________________________________________________________\n",
            "conv_pw_12_relu (ReLU)       (None, 1, 1, 1024)        0         \n",
            "_________________________________________________________________\n",
            "conv_dw_13 (DepthwiseConv2D) (None, 1, 1, 1024)        9216      \n",
            "_________________________________________________________________\n",
            "conv_dw_13_bn (BatchNormaliz (None, 1, 1, 1024)        4096      \n",
            "_________________________________________________________________\n",
            "conv_dw_13_relu (ReLU)       (None, 1, 1, 1024)        0         \n",
            "_________________________________________________________________\n",
            "conv_pw_13 (Conv2D)          (None, 1, 1, 1024)        1048576   \n",
            "_________________________________________________________________\n",
            "conv_pw_13_bn (BatchNormaliz (None, 1, 1, 1024)        4096      \n",
            "_________________________________________________________________\n",
            "conv_pw_13_relu (ReLU)       (None, 1, 1, 1024)        0         \n",
            "_________________________________________________________________\n",
            "global_average_pooling2d (Gl (None, 1024)              0         \n",
            "_________________________________________________________________\n",
            "reshape_1 (Reshape)          (None, 1, 1, 1024)        0         \n",
            "_________________________________________________________________\n",
            "dropout (Dropout)            (None, 1, 1, 1024)        0         \n",
            "_________________________________________________________________\n",
            "conv_preds (Conv2D)          (None, 1, 1, 10)          10250     \n",
            "_________________________________________________________________\n",
            "act_softmax (Activation)     (None, 1, 1, 10)          0         \n",
            "_________________________________________________________________\n",
            "reshape_2 (Reshape)          (None, 10)                0         \n",
            "=================================================================\n",
            "Total params: 3,238,538\n",
            "Trainable params: 3,216,650\n",
            "Non-trainable params: 21,888\n",
            "_________________________________________________________________\n"
          ],
          "name": "stdout"
        }
      ]
    },
    {
      "metadata": {
        "id": "GlCmC3jk0Hml",
        "colab_type": "code",
        "colab": {
          "base_uri": "https://localhost:8080/",
          "height": 408
        },
        "outputId": "1c60ce0b-e277-4518-b68a-ab6a45a022f6"
      },
      "cell_type": "code",
      "source": [
        "BATCH_SIZE=10\n",
        "EPOCHS = 10\n",
        "\n",
        "model.compile(loss='sparse_categorical_crossentropy',\n",
        "             optimizer='adam',\n",
        "             metrics=['accuracy'])\n",
        "\n",
        "%time history = model.fit(x_train_224, y_train_samples, epochs=EPOCHS, batch_size=BATCH_SIZE, validation_split=0.2, verbose=1)"
      ],
      "execution_count": 12,
      "outputs": [
        {
          "output_type": "stream",
          "text": [
            "Train on 8000 samples, validate on 2000 samples\n",
            "Epoch 1/10\n",
            "8000/8000 [==============================] - 44s 6ms/step - loss: 1.3856 - acc: 0.5304 - val_loss: 0.9853 - val_acc: 0.6425\n",
            "Epoch 2/10\n",
            "8000/8000 [==============================] - 38s 5ms/step - loss: 0.9146 - acc: 0.6830 - val_loss: 0.7081 - val_acc: 0.7420\n",
            "Epoch 3/10\n",
            "8000/8000 [==============================] - 38s 5ms/step - loss: 0.7607 - acc: 0.7385 - val_loss: 0.7772 - val_acc: 0.7435\n",
            "Epoch 4/10\n",
            "8000/8000 [==============================] - 38s 5ms/step - loss: 0.7327 - acc: 0.7474 - val_loss: 0.6328 - val_acc: 0.7810\n",
            "Epoch 5/10\n",
            "8000/8000 [==============================] - 38s 5ms/step - loss: 0.6102 - acc: 0.7945 - val_loss: 0.6777 - val_acc: 0.7510\n",
            "Epoch 6/10\n",
            "8000/8000 [==============================] - 38s 5ms/step - loss: 0.6208 - acc: 0.7872 - val_loss: 0.5776 - val_acc: 0.7955\n",
            "Epoch 7/10\n",
            "8000/8000 [==============================] - 37s 5ms/step - loss: 0.5812 - acc: 0.7977 - val_loss: 0.6411 - val_acc: 0.7855\n",
            "Epoch 8/10\n",
            "8000/8000 [==============================] - 37s 5ms/step - loss: 0.5719 - acc: 0.8057 - val_loss: 0.5432 - val_acc: 0.8065\n",
            "Epoch 9/10\n",
            "8000/8000 [==============================] - 38s 5ms/step - loss: 0.5227 - acc: 0.8241 - val_loss: 0.6006 - val_acc: 0.7865\n",
            "Epoch 10/10\n",
            "8000/8000 [==============================] - 38s 5ms/step - loss: 0.4947 - acc: 0.8316 - val_loss: 0.4524 - val_acc: 0.8450\n",
            "CPU times: user 6min 34s, sys: 1min 3s, total: 7min 37s\n",
            "Wall time: 6min 28s\n"
          ],
          "name": "stdout"
        }
      ]
    },
    {
      "metadata": {
        "id": "8BTaeQittcgn",
        "colab_type": "code",
        "colab": {}
      },
      "cell_type": "code",
      "source": [
        "import pandas as pd\n",
        "from matplotlib import pyplot as plt\n",
        "%matplotlib inline"
      ],
      "execution_count": 0,
      "outputs": []
    },
    {
      "metadata": {
        "id": "WUAucIc-8N9X",
        "colab_type": "code",
        "colab": {
          "base_uri": "https://localhost:8080/",
          "height": 335
        },
        "outputId": "4d26a176-9587-4ee0-96f2-191ea5012d4d"
      },
      "cell_type": "code",
      "source": [
        "def plot_history(history, samples=10, init_phase_samples=None):\n",
        "    epochs = history.params['epochs']\n",
        "    \n",
        "    acc = history.history['acc']\n",
        "    val_acc = history.history['val_acc']\n",
        "\n",
        "    every_sample =  int(epochs / samples)\n",
        "    acc = pd.DataFrame(acc).iloc[::every_sample, :]\n",
        "    val_acc = pd.DataFrame(val_acc).iloc[::every_sample, :]\n",
        "\n",
        "    fig, ax = plt.subplots(figsize=(20,5))\n",
        "\n",
        "    ax.plot(acc, 'bo', label='Training acc')\n",
        "    ax.plot(val_acc, 'b', label='Validation acc')\n",
        "    ax.set_title('Training and validation accuracy')\n",
        "    ax.legend()\n",
        "\n",
        "plot_history(history)"
      ],
      "execution_count": 18,
      "outputs": [
        {
          "output_type": "display_data",
          "data": {
            "image/png": "[encoded data removed]",
            "text/plain": [
              "<matplotlib.figure.Figure at 0x7fd6a6693080>"
            ]
          },
          "metadata": {
            "tags": []
          }
        }
      ]
    },
    {
      "metadata": {
        "colab_type": "text",
        "id": "ESL6ltQTMm05"
      },
      "cell_type": "markdown",
      "source": [
        "# Checking our results (inference)"
      ]
    },
    {
      "metadata": {
        "id": "AKGkFxCE4CfF",
        "colab_type": "code",
        "colab": {}
      },
      "cell_type": "code",
      "source": [
        "x_test_224 = np.array([skimage.transform.resize(image, (32, 32)) for image in x_test])"
      ],
      "execution_count": 0,
      "outputs": []
    },
    {
      "metadata": {
        "colab": {
          "base_uri": "https://localhost:8080/",
          "height": 507
        },
        "colab_type": "code",
        "id": "SaYPv_aKId2d",
        "outputId": "203b5327-6171-4524-b508-709a1f5e8453"
      },
      "cell_type": "code",
      "source": [
        "LABEL_NAMES = ['t_shirt', 'trouser', 'pullover', 'dress', 'coat', 'sandal', 'shirt', 'sneaker', 'bag', 'ankle_boots']\n",
        "\n",
        "\n",
        "def plot_predictions(images, predictions):\n",
        "  n = images.shape[0]\n",
        "  nc = int(np.ceil(n / 4))\n",
        "  f, axes = plt.subplots(nc, 4)\n",
        "  for i in range(nc * 4):\n",
        "    y = i // 4\n",
        "    x = i % 4\n",
        "    axes[x, y].axis('off')\n",
        "    \n",
        "    label = LABEL_NAMES[np.argmax(predictions[i])]\n",
        "    confidence = np.max(predictions[i])\n",
        "    if i > n:\n",
        "      continue\n",
        "    axes[x, y].imshow(images[i])\n",
        "    axes[x, y].text(0.5, 0.5, label + '\\n%.3f' % confidence, fontsize=14)\n",
        "\n",
        "  pyplot.gcf().set_size_inches(8, 8)  \n",
        "\n",
        "plot_predictions(np.squeeze(x_test_224[:16]), \n",
        "                 model.predict(x_test_224[:16]))"
      ],
      "execution_count": 21,
      "outputs": [
        {
          "output_type": "display_data",
          "data": {
            "image/png": "[encoded data removed]",
            "text/plain": [
              "<matplotlib.figure.Figure at 0x7fd643fd6ef0>"
            ]
          },
          "metadata": {
            "tags": []
          }
        }
      ]
    },
    {
      "metadata": {
        "colab_type": "text",
        "id": "GJAaFlQYNhoW"
      },
      "cell_type": "markdown",
      "source": [
        "# Not bad!"
      ]
    },
    {
      "metadata": {
        "id": "VJlzeWxJ8TQ_",
        "colab_type": "code",
        "colab": {
          "base_uri": "https://localhost:8080/",
          "height": 51
        },
        "outputId": "282f8267-efca-4109-ead7-553e0add15ce"
      },
      "cell_type": "code",
      "source": [
        "train_loss, train_accuracy = model.evaluate(x_train_224, y_train_samples, batch_size=BATCH_SIZE)\n",
        "train_accuracy"
      ],
      "execution_count": 22,
      "outputs": [
        {
          "output_type": "stream",
          "text": [
            "10000/10000 [==============================] - 7s 740us/step\n"
          ],
          "name": "stdout"
        },
        {
          "output_type": "execute_result",
          "data": {
            "text/plain": [
              "0.8709999936521053"
            ]
          },
          "metadata": {
            "tags": []
          },
          "execution_count": 22
        }
      ]
    },
    {
      "metadata": {
        "id": "wOUNObau8YKx",
        "colab_type": "code",
        "colab": {}
      },
      "cell_type": "code",
      "source": [
        ""
      ],
      "execution_count": 0,
      "outputs": []
    }
  ]
}