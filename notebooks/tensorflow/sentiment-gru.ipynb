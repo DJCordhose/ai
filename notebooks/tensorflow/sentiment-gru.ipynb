{
  "nbformat": 4,
  "nbformat_minor": 0,
  "metadata": {
    "colab": {
      "name": "Sentiment Analysis with GRUs",
      "version": "0.3.2",
      "provenance": [],
      "include_colab_link": true
    },
    "kernelspec": {
      "display_name": "Python 3",
      "language": "python",
      "name": "python3"
    },
    "accelerator": "GPU"
  },
  "cells": [
    {
      "cell_type": "markdown",
      "metadata": {
        "id": "view-in-github",
        "colab_type": "text"
      },
      "source": [
        "<a href=\"https://colab.research.google.com/github/DJCordhose/ai/blob/master/notebooks/tensorflow/sentiment-gru.ipynb\" target=\"_parent\"><img src=\"https://colab.research.google.com/assets/colab-badge.svg\" alt=\"Open In Colab\"/></a>"
      ]
    },
    {
      "metadata": {
        "colab_type": "code",
        "id": "dD2oFWcPDlS7",
        "colab": {}
      },
      "cell_type": "code",
      "source": [
        "# Based on\n",
        "# https://github.com/fchollet/deep-learning-with-python-notebooks/blob/master/6.2-understanding-recurrent-neural-networks.ipynb"
      ],
      "execution_count": 0,
      "outputs": []
    },
    {
      "metadata": {
        "colab_type": "code",
        "id": "5J89_UNNDlTA",
        "colab": {},
        "outputId": "83c14d2e-a6d9-49c3-826c-5ec866b4612e"
      },
      "cell_type": "code",
      "source": [
        "import warnings\n",
        "warnings.filterwarnings('ignore')\n",
        "%matplotlib inline\n",
        "%pylab inline\n",
        "import matplotlib.pyplot as plt\n",
        "import pandas as pd\n",
        "import tensorflow as tf\n",
        "from tensorflow import keras"
      ],
      "execution_count": 0,
      "outputs": [
        {
          "output_type": "stream",
          "text": [
            "Populating the interactive namespace from numpy and matplotlib\n"
          ],
          "name": "stdout"
        }
      ]
    },
    {
      "metadata": {
        "colab_type": "code",
        "id": "CaEsC1yJDlTO",
        "colab": {}
      },
      "cell_type": "code",
      "source": [
        "# https://keras.io/datasets/#imdb-movie-reviews-sentiment-classification\n",
        "max_features = 10000  # number of words to consider as features\n",
        "maxlen = 500  # cut texts after this number of words (among top max_features most common words)\n",
        "\n",
        "# each review is encoded as a sequence of word indexes\n",
        "# indexed by overall frequency in the dataset\n",
        "# output is 0 (negative) or 1 (positive) \n",
        "imdb = tf.keras.datasets.imdb.load_data(num_words=max_features)\n",
        "(raw_input_train, y_train), (raw_input_test, y_test) = imdb\n",
        "\n",
        "# https://www.tensorflow.org/api_docs/python/tf/keras/preprocessing/sequence/pad_sequences\n",
        "\n",
        "input_train = tf.keras.preprocessing.sequence.pad_sequences(raw_input_train, maxlen=maxlen)\n",
        "input_test = tf.keras.preprocessing.sequence.pad_sequences(raw_input_test, maxlen=maxlen)"
      ],
      "execution_count": 0,
      "outputs": []
    },
    {
      "metadata": {
        "colab_type": "text",
        "id": "77aA5qukDlTa"
      },
      "cell_type": "markdown",
      "source": [
        "## GRU RNNs"
      ]
    },
    {
      "metadata": {
        "colab_type": "code",
        "id": "3P5IXssDDlTa",
        "outputId": "cdcc4651-2d18-45bb-9676-c8df52aff0cc",
        "colab": {
          "base_uri": "https://localhost:8080/",
          "height": 272
        }
      },
      "cell_type": "code",
      "source": [
        "from tensorflow.keras.layers import GRU, Embedding, Bidirectional\n",
        "\n",
        "embedding_dim = 32\n",
        "\n",
        "model = keras.Sequential()\n",
        "\n",
        "# encoder\n",
        "model.add(Embedding(input_dim=max_features, output_dim=embedding_dim, input_length=maxlen))\n",
        "model.add(GRU(units=32))\n",
        "\n",
        "# latent space\n",
        "model.add(tf.keras.layers.Dense(name='fc', units=32, activation='relu'))\n",
        "\n",
        "# binary classifier as decoder\n",
        "model.add(tf.keras.layers.Dense(name='classifier', units=1, activation='sigmoid'))\n",
        "\n",
        "model.compile(optimizer='adam', loss='binary_crossentropy', metrics=['accuracy'])\n",
        "\n",
        "model.summary()"
      ],
      "execution_count": 0,
      "outputs": [
        {
          "output_type": "stream",
          "text": [
            "_________________________________________________________________\n",
            "Layer (type)                 Output Shape              Param #   \n",
            "=================================================================\n",
            "embedding_1 (Embedding)      (None, 500, 32)           320000    \n",
            "_________________________________________________________________\n",
            "gru_1 (GRU)                  (None, 32)                6240      \n",
            "_________________________________________________________________\n",
            "fc (Dense)                   (None, 32)                1056      \n",
            "_________________________________________________________________\n",
            "classifier (Dense)           (None, 1)                 33        \n",
            "=================================================================\n",
            "Total params: 327,329\n",
            "Trainable params: 327,329\n",
            "Non-trainable params: 0\n",
            "_________________________________________________________________\n"
          ],
          "name": "stdout"
        }
      ]
    },
    {
      "metadata": {
        "colab_type": "code",
        "id": "YnGRCa_NDlTe",
        "outputId": "f6838262-863a-491a-8e53-3b5937531186",
        "colab": {
          "base_uri": "https://localhost:8080/",
          "height": 408
        }
      },
      "cell_type": "code",
      "source": [
        "batch_size = 1000\n",
        "\n",
        "%time history = model.fit(input_train, y_train, epochs=10, batch_size=batch_size, validation_split=0.2)"
      ],
      "execution_count": 0,
      "outputs": [
        {
          "output_type": "stream",
          "text": [
            "Train on 20000 samples, validate on 5000 samples\n",
            "Epoch 1/10\n",
            "20000/20000 [==============================] - 35s 2ms/step - loss: 0.6936 - acc: 0.5054 - val_loss: 0.6927 - val_acc: 0.5114\n",
            "Epoch 2/10\n",
            "20000/20000 [==============================] - 31s 2ms/step - loss: 0.6898 - acc: 0.5465 - val_loss: 0.6895 - val_acc: 0.5600\n",
            "Epoch 3/10\n",
            "20000/20000 [==============================] - 33s 2ms/step - loss: 0.6838 - acc: 0.5763 - val_loss: 0.6821 - val_acc: 0.5818\n",
            "Epoch 4/10\n",
            "20000/20000 [==============================] - 31s 2ms/step - loss: 0.6662 - acc: 0.6260 - val_loss: 0.6553 - val_acc: 0.6288\n",
            "Epoch 5/10\n",
            "20000/20000 [==============================] - 30s 2ms/step - loss: 0.5882 - acc: 0.6984 - val_loss: 0.5339 - val_acc: 0.7404\n",
            "Epoch 6/10\n",
            "20000/20000 [==============================] - 30s 1ms/step - loss: 0.4680 - acc: 0.7814 - val_loss: 0.4744 - val_acc: 0.7790\n",
            "Epoch 7/10\n",
            "20000/20000 [==============================] - 29s 1ms/step - loss: 0.3905 - acc: 0.8300 - val_loss: 0.4482 - val_acc: 0.7944\n",
            "Epoch 8/10\n",
            "20000/20000 [==============================] - 30s 1ms/step - loss: 0.3284 - acc: 0.8645 - val_loss: 0.3700 - val_acc: 0.8432\n",
            "Epoch 9/10\n",
            "20000/20000 [==============================] - 30s 1ms/step - loss: 0.2792 - acc: 0.8893 - val_loss: 0.3684 - val_acc: 0.8416\n",
            "Epoch 10/10\n",
            "20000/20000 [==============================] - 30s 2ms/step - loss: 0.2530 - acc: 0.9008 - val_loss: 0.3401 - val_acc: 0.8636\n",
            "Wall time: 5min 9s\n"
          ],
          "name": "stdout"
        }
      ]
    },
    {
      "metadata": {
        "colab_type": "code",
        "id": "jL_GisrYDlTj",
        "outputId": "62be0aa7-877a-4b4c-c3e5-47178fedc471",
        "colab": {
          "base_uri": "https://localhost:8080/",
          "height": 51
        }
      },
      "cell_type": "code",
      "source": [
        "train_loss, train_accuracy = model.evaluate(input_train, y_train, batch_size=batch_size)\n",
        "train_accuracy"
      ],
      "execution_count": 0,
      "outputs": [
        {
          "output_type": "stream",
          "text": [
            "25000/25000 [==============================] - 12s 472us/step\n"
          ],
          "name": "stdout"
        },
        {
          "output_type": "execute_result",
          "data": {
            "text/plain": [
              "0.9065600013732911"
            ]
          },
          "metadata": {
            "tags": []
          },
          "execution_count": 6
        }
      ]
    },
    {
      "metadata": {
        "colab_type": "code",
        "id": "WPdu2AZ9DlTo",
        "outputId": "44aece1b-c121-4c30-c7e1-6671f40aac8f",
        "colab": {
          "base_uri": "https://localhost:8080/",
          "height": 51
        }
      },
      "cell_type": "code",
      "source": [
        "test_loss, test_accuracy = model.evaluate(input_test, y_test, batch_size=batch_size)\n",
        "test_accuracy"
      ],
      "execution_count": 0,
      "outputs": [
        {
          "output_type": "stream",
          "text": [
            "25000/25000 [==============================] - 12s 473us/step\n"
          ],
          "name": "stdout"
        },
        {
          "output_type": "execute_result",
          "data": {
            "text/plain": [
              "0.8569200038909912"
            ]
          },
          "metadata": {
            "tags": []
          },
          "execution_count": 7
        }
      ]
    },
    {
      "metadata": {
        "id": "G_m1TT0kyN-7",
        "colab_type": "code",
        "colab": {},
        "outputId": "ffffb607-afa2-4b56-ca15-16dc65c6684d"
      },
      "cell_type": "code",
      "source": [
        "def plot_history(history, samples=10, init_phase_samples=None):\n",
        "    epochs = history.params['epochs']\n",
        "    \n",
        "    acc = history.history['acc']\n",
        "    val_acc = history.history['val_acc']\n",
        "\n",
        "    every_sample =  int(epochs / samples)\n",
        "    acc = pd.DataFrame(acc).iloc[::every_sample, :]\n",
        "    val_acc = pd.DataFrame(val_acc).iloc[::every_sample, :]\n",
        "\n",
        "    fig, ax = plt.subplots(figsize=(20,5))\n",
        "\n",
        "    ax.plot(acc, 'bo', label='Training acc')\n",
        "    ax.plot(val_acc, 'b', label='Validation acc')\n",
        "    ax.set_title('Training and validation accuracy')\n",
        "    ax.legend()\n",
        "\n",
        "plot_history(history)"
      ],
      "execution_count": 0,
      "outputs": [
        {
          "output_type": "display_data",
          "data": {
            "image/png": "[encoded data removed]",
            "text/plain": [
              "<Figure size 1440x360 with 1 Axes>"
            ]
          },
          "metadata": {
            "tags": []
          }
        }
      ]
    },
    {
      "metadata": {
        "colab_type": "code",
        "id": "ncybHXhYDlTr",
        "outputId": "da86e6e6-9fc5-4594-a9a6-efcc53e5393c",
        "colab": {
          "base_uri": "https://localhost:8080/",
          "height": 102
        }
      },
      "cell_type": "code",
      "source": [
        "# precition\n",
        "model.predict(input_test[0:5])"
      ],
      "execution_count": 0,
      "outputs": [
        {
          "output_type": "execute_result",
          "data": {
            "text/plain": [
              "array([[0.37747672],\n",
              "       [0.9867359 ],\n",
              "       [0.04856211],\n",
              "       [0.7904883 ],\n",
              "       [0.9863673 ]], dtype=float32)"
            ]
          },
          "metadata": {
            "tags": []
          },
          "execution_count": 9
        }
      ]
    },
    {
      "metadata": {
        "colab_type": "code",
        "id": "odwgxZ1SDlTv",
        "outputId": "47f94b8c-3088-426e-f828-b009b6beb428",
        "colab": {
          "base_uri": "https://localhost:8080/",
          "height": 34
        }
      },
      "cell_type": "code",
      "source": [
        "# ground truth\n",
        "y_test[0:5]"
      ],
      "execution_count": 0,
      "outputs": [
        {
          "output_type": "execute_result",
          "data": {
            "text/plain": [
              "array([0, 1, 1, 0, 1], dtype=int64)"
            ]
          },
          "metadata": {
            "tags": []
          },
          "execution_count": 10
        }
      ]
    },
    {
      "metadata": {
        "colab_type": "code",
        "id": "PA4i7E-mGiLi",
        "colab": {}
      },
      "cell_type": "code",
      "source": [
        ""
      ],
      "execution_count": 0,
      "outputs": []
    }
  ]
}