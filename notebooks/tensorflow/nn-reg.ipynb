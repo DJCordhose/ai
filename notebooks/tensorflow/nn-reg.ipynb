{
  "nbformat": 4,
  "nbformat_minor": 0,
  "metadata": {
    "colab": {
      "name": "NN Regularization",
      "version": "0.3.2",
      "provenance": [],
      "include_colab_link": true
    },
    "kernelspec": {
      "display_name": "Python 3",
      "language": "python",
      "name": "python3"
    },
    "accelerator": "GPU"
  },
  "cells": [
    {
      "cell_type": "markdown",
      "metadata": {
        "id": "view-in-github",
        "colab_type": "text"
      },
      "source": [
        "[![Open In Colab](https://colab.research.google.com/assets/colab-badge.svg)](https://colab.research.google.com/github/DJCordhose/ai/blob/master/notebooks/tensorflow/nn-reg.ipynb)"
      ]
    },
    {
      "metadata": {
        "colab_type": "code",
        "id": "XMQp66kq-X9Z",
        "outputId": "8d1e32a0-4f5e-477c-9e71-6b8de1998998",
        "colab": {
          "base_uri": "https://localhost:8080/",
          "height": 34
        }
      },
      "cell_type": "code",
      "source": [
        "import warnings\n",
        "warnings.filterwarnings('ignore')\n",
        "%matplotlib inline\n",
        "%pylab inline\n",
        "import matplotlib.pyplot as plt\n",
        "import pandas as pd\n",
        "import tensorflow as tf\n",
        "from tensorflow import keras"
      ],
      "execution_count": 1,
      "outputs": [
        {
          "output_type": "stream",
          "text": [
            "Populating the interactive namespace from numpy and matplotlib\n"
          ],
          "name": "stdout"
        }
      ]
    },
    {
      "metadata": {
        "colab_type": "code",
        "id": "hNS5gA2I-X92",
        "colab": {
          "base_uri": "https://localhost:8080/",
          "height": 68
        },
        "outputId": "cff08b3e-5f1c-495f-b0d6-65b897a9dfb9"
      },
      "cell_type": "code",
      "source": [
        "!curl -O https://raw.githubusercontent.com/DJCordhose/deep-learning-crash-course-notebooks/master/data/insurance-customers-1500.csv"
      ],
      "execution_count": 2,
      "outputs": [
        {
          "output_type": "stream",
          "text": [
            "  % Total    % Received % Xferd  Average Speed   Time    Time     Time  Current\n",
            "                                 Dload  Upload   Total   Spent    Left  Speed\n",
            "100 26783  100 26783    0     0  30025      0 --:--:-- --:--:-- --:--:-- 29992\n"
          ],
          "name": "stdout"
        }
      ]
    },
    {
      "metadata": {
        "colab_type": "code",
        "id": "xpX9iD2c-X94",
        "colab": {}
      },
      "cell_type": "code",
      "source": [
        "df = pd.read_csv('./insurance-customers-1500.csv', sep=';')\n",
        "y = df['group']\n",
        "df.drop('group', axis='columns', inplace=True)\n",
        "X = df.as_matrix()"
      ],
      "execution_count": 0,
      "outputs": []
    },
    {
      "metadata": {
        "colab_type": "code",
        "id": "ivu4Ex_C-X-E",
        "colab": {}
      },
      "cell_type": "code",
      "source": [
        "from sklearn.model_selection import train_test_split\n",
        "X_train, X_test, y_train, y_test = train_test_split(X, y, test_size=0.2, random_state=42, stratify=y)"
      ],
      "execution_count": 0,
      "outputs": []
    },
    {
      "metadata": {
        "id": "14qOwFEovIzw",
        "colab_type": "text"
      },
      "cell_type": "markdown",
      "source": [
        "### We have several means of regularization\n",
        "\n",
        " _We use a combination of them:_\n",
        "- reduce capacity of model\n",
        "- dropout\n",
        "- batch normalization\n",
        "- change activation to relu for faster training\n",
        "- reduce amount of training cycles"
      ]
    },
    {
      "metadata": {
        "id": "h3KaE8S9vKc-",
        "colab_type": "text"
      },
      "cell_type": "markdown",
      "source": [
        "## Dropout explained in a funny way\n",
        "\n",
        "<img src='https://raw.githubusercontent.com/DJCordhose/deep-learning-crash-course-notebooks/master/img/dropout-smerty.jpg'>\n",
        "\n",
        "https://twitter.com/Smerity/status/980175898119778304"
      ]
    },
    {
      "metadata": {
        "id": "upyLOX_3vQRx",
        "colab_type": "text"
      },
      "cell_type": "markdown",
      "source": [
        "### An experimental approach:\n",
        "- keep adding regularization to make validation and train scores come closer to each other\n",
        "- this will come at the cost of train scores going down\n",
        "- if both values start going down you have gone too far\n",
        "- each experiment takes some time\n",
        "- for larger datasets and more complex models some people start by overfitting on a subsample of the data (because it trains much faster)\n",
        "  - then you can be sure you have an architecture that at least has the capacity to solve the problem\n",
        "  - then keep adding regularizations\n",
        "  - eventually try using the complete data\n",
        "- if you want to use batch normalization place it between raw output of neuron and activation function    "
      ]
    },
    {
      "metadata": {
        "colab_type": "code",
        "id": "ODSrdLfF-X-g",
        "outputId": "7e4d7a8a-fa71-4cb0-dcf4-d31c5d0e57da",
        "colab": {
          "base_uri": "https://localhost:8080/",
          "height": 306
        }
      },
      "cell_type": "code",
      "source": [
        "from tensorflow.keras.layers import Dense, Dropout, \\\n",
        "                                    BatchNormalization, Activation\n",
        "\n",
        "dropout = 0.6\n",
        "model = keras.Sequential()\n",
        "\n",
        "# reduce capacity by decreasing number of neurons\n",
        "model.add(Dense(500, name='hidden1', input_dim=3))\n",
        "# model.add(BatchNormalization())\n",
        "model.add(Activation('relu'))\n",
        "# model.add(Dropout(dropout))\n",
        "\n",
        "model.add(Dense(500, name='hidden2'))\n",
        "# model.add(BatchNormalization())\n",
        "model.add(Activation('relu'))\n",
        "# model.add(Dropout(dropout))\n",
        "\n",
        "model.add(Dense(3, name='softmax', activation='softmax'))\n",
        "\n",
        "model.compile(loss='sparse_categorical_crossentropy',\n",
        "             optimizer='adam',\n",
        "             metrics=['accuracy'])\n",
        "model.summary()"
      ],
      "execution_count": 6,
      "outputs": [
        {
          "output_type": "stream",
          "text": [
            "_________________________________________________________________\n",
            "Layer (type)                 Output Shape              Param #   \n",
            "=================================================================\n",
            "hidden1 (Dense)              (None, 500)               2000      \n",
            "_________________________________________________________________\n",
            "activation_2 (Activation)    (None, 500)               0         \n",
            "_________________________________________________________________\n",
            "hidden2 (Dense)              (None, 500)               250500    \n",
            "_________________________________________________________________\n",
            "activation_3 (Activation)    (None, 500)               0         \n",
            "_________________________________________________________________\n",
            "softmax (Dense)              (None, 3)                 1503      \n",
            "=================================================================\n",
            "Total params: 254,003\n",
            "Trainable params: 254,003\n",
            "Non-trainable params: 0\n",
            "_________________________________________________________________\n"
          ],
          "name": "stdout"
        }
      ]
    },
    {
      "metadata": {
        "colab_type": "code",
        "id": "A-JeNgyv-X-z",
        "outputId": "15468c6a-3df3-44d4-f3ee-6ab9b67e704d",
        "colab": {
          "base_uri": "https://localhost:8080/",
          "height": 51
        }
      },
      "cell_type": "code",
      "source": [
        "# reducing batch size might increase overfitting, \n",
        "# but might be necessary to reduce memory requirements \n",
        "BATCH_SIZE=1000\n",
        "\n",
        "# reduce this based on what you see in the training history\n",
        "EPOCHS = 10000\n",
        "\n",
        "model.compile(loss='sparse_categorical_crossentropy',\n",
        "             optimizer='adam',\n",
        "             metrics=['accuracy'])\n",
        "\n",
        "%time history = model.fit(X_train, y_train, epochs=EPOCHS, batch_size=BATCH_SIZE, validation_split=0.2, verbose=0)"
      ],
      "execution_count": 7,
      "outputs": [
        {
          "output_type": "stream",
          "text": [
            "CPU times: user 1min 31s, sys: 15 s, total: 1min 45s\n",
            "Wall time: 1min 18s\n"
          ],
          "name": "stdout"
        }
      ]
    },
    {
      "metadata": {
        "colab_type": "code",
        "id": "ekAIERy_-X-5",
        "outputId": "fa86e412-16ac-4e8f-e8d0-4b80e5c74c4e",
        "colab": {
          "base_uri": "https://localhost:8080/",
          "height": 51
        }
      },
      "cell_type": "code",
      "source": [
        "train_loss, train_accuracy = model.evaluate(X_train, y_train, batch_size=BATCH_SIZE)\n",
        "train_accuracy"
      ],
      "execution_count": 8,
      "outputs": [
        {
          "output_type": "stream",
          "text": [
            "1200/1200 [==============================] - 0s 11us/step\n"
          ],
          "name": "stdout"
        },
        {
          "output_type": "execute_result",
          "data": {
            "text/plain": [
              "0.8558333118756613"
            ]
          },
          "metadata": {
            "tags": []
          },
          "execution_count": 8
        }
      ]
    },
    {
      "metadata": {
        "colab_type": "code",
        "id": "ZV-LZZGd-X--",
        "outputId": "95bce690-f68e-477d-beb9-c08da569153a",
        "colab": {
          "base_uri": "https://localhost:8080/",
          "height": 335
        }
      },
      "cell_type": "code",
      "source": [
        "def plot_history(history, samples=100, init_phase_samples=None):\n",
        "    epochs = history.params['epochs']\n",
        "    \n",
        "    acc = history.history['acc']\n",
        "    val_acc = history.history['val_acc']\n",
        "\n",
        "    every_sample =  int(epochs / samples)\n",
        "    acc = pd.DataFrame(acc).iloc[::every_sample, :]\n",
        "    val_acc = pd.DataFrame(val_acc).iloc[::every_sample, :]\n",
        "\n",
        "    fig, ax = plt.subplots(figsize=(20,5))\n",
        "\n",
        "    ax.plot(acc, 'bo', label='Training acc')\n",
        "    ax.plot(val_acc, 'b', label='Validation acc')\n",
        "    ax.set_title('Training and validation accuracy')\n",
        "    ax.legend()\n",
        "\n",
        "plot_history(history)"
      ],
      "execution_count": 9,
      "outputs": [
        {
          "output_type": "display_data",
          "data": {
            "image/png": "[encoded data removed]",
            "text/plain": [
              "<matplotlib.figure.Figure at 0x7f28b7feba90>"
            ]
          },
          "metadata": {
            "tags": []
          }
        }
      ]
    },
    {
      "metadata": {
        "id": "RpJPY6rV8l53",
        "colab_type": "code",
        "outputId": "831a2f5a-34ff-4d8a-a37c-ca005644c726",
        "colab": {
          "base_uri": "https://localhost:8080/",
          "height": 34
        }
      },
      "cell_type": "code",
      "source": [
        "model.predict(np.array([[100, 47, 10]]))"
      ],
      "execution_count": 10,
      "outputs": [
        {
          "output_type": "execute_result",
          "data": {
            "text/plain": [
              "array([[0.01183631, 0.9730243 , 0.01513934]], dtype=float32)"
            ]
          },
          "metadata": {
            "tags": []
          },
          "execution_count": 10
        }
      ]
    },
    {
      "metadata": {
        "id": "NAdBi_a18l5_",
        "colab_type": "code",
        "colab": {
          "base_uri": "https://localhost:8080/",
          "height": 51
        },
        "outputId": "9876d56a-4e05-4817-a31a-088ec8232c12"
      },
      "cell_type": "code",
      "source": [
        "test_loss, test_accuracy = model.evaluate(X_test, y_test, batch_size=BATCH_SIZE)\n",
        "test_accuracy"
      ],
      "execution_count": 11,
      "outputs": [
        {
          "output_type": "stream",
          "text": [
            "\r300/300 [==============================] - 0s 16us/step\n"
          ],
          "name": "stdout"
        },
        {
          "output_type": "execute_result",
          "data": {
            "text/plain": [
              "0.6933333277702332"
            ]
          },
          "metadata": {
            "tags": []
          },
          "execution_count": 11
        }
      ]
    },
    {
      "metadata": {
        "id": "exbDxJ5xwe-u",
        "colab_type": "code",
        "colab": {}
      },
      "cell_type": "code",
      "source": [
        ""
      ],
      "execution_count": 0,
      "outputs": []
    }
  ]
}