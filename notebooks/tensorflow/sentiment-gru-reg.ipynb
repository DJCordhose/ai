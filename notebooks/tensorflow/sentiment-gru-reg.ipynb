{
  "nbformat": 4,
  "nbformat_minor": 0,
  "metadata": {
    "colab": {
      "name": "Sentiment Analysis with GRUs",
      "version": "0.3.2",
      "provenance": [],
      "include_colab_link": true
    },
    "kernelspec": {
      "name": "python3",
      "display_name": "Python 3"
    },
    "accelerator": "GPU"
  },
  "cells": [
    {
      "cell_type": "markdown",
      "metadata": {
        "id": "view-in-github",
        "colab_type": "text"
      },
      "source": [
        "<a href=\"https://colab.research.google.com/github/DJCordhose/ai/blob/master/notebooks/tensorflow/sentiment-gru-reg.ipynb\" target=\"_parent\"><img src=\"https://colab.research.google.com/assets/colab-badge.svg\" alt=\"Open In Colab\"/></a>"
      ]
    },
    {
      "metadata": {
        "colab_type": "code",
        "id": "dD2oFWcPDlS7",
        "colab": {}
      },
      "cell_type": "code",
      "source": [
        "# Based on\n",
        "# https://github.com/fchollet/deep-learning-with-python-notebooks/blob/master/6.2-understanding-recurrent-neural-networks.ipynb"
      ],
      "execution_count": 0,
      "outputs": []
    },
    {
      "metadata": {
        "colab_type": "code",
        "id": "5J89_UNNDlTA",
        "outputId": "2a835b18-f257-4903-ff05-9b35c0ac7d02",
        "colab": {
          "base_uri": "https://localhost:8080/",
          "height": 34
        }
      },
      "cell_type": "code",
      "source": [
        "import warnings\n",
        "warnings.filterwarnings('ignore')\n",
        "%matplotlib inline\n",
        "%pylab inline\n",
        "import matplotlib.pyplot as plt\n",
        "import pandas as pd\n",
        "import tensorflow as tf\n",
        "from tensorflow import keras"
      ],
      "execution_count": 0,
      "outputs": [
        {
          "output_type": "stream",
          "text": [
            "Populating the interactive namespace from numpy and matplotlib\n"
          ],
          "name": "stdout"
        }
      ]
    },
    {
      "metadata": {
        "colab_type": "code",
        "id": "CaEsC1yJDlTO",
        "colab": {}
      },
      "cell_type": "code",
      "source": [
        "# https://keras.io/datasets/#imdb-movie-reviews-sentiment-classification\n",
        "max_features = 10000  # number of words to consider as features\n",
        "maxlen = 500  # cut texts after this number of words (among top max_features most common words)\n",
        "\n",
        "# each review is encoded as a sequence of word indexes\n",
        "# indexed by overall frequency in the dataset\n",
        "# output is 0 (negative) or 1 (positive) \n",
        "imdb = tf.keras.datasets.imdb.load_data(num_words=max_features)\n",
        "(raw_input_train, y_train), (raw_input_test, y_test) = imdb\n",
        "\n",
        "# https://www.tensorflow.org/api_docs/python/tf/keras/preprocessing/sequence/pad_sequences\n",
        "\n",
        "input_train = tf.keras.preprocessing.sequence.pad_sequences(raw_input_train, maxlen=maxlen)\n",
        "input_test = tf.keras.preprocessing.sequence.pad_sequences(raw_input_test, maxlen=maxlen)"
      ],
      "execution_count": 0,
      "outputs": []
    },
    {
      "metadata": {
        "colab_type": "text",
        "id": "77aA5qukDlTa"
      },
      "cell_type": "markdown",
      "source": [
        "## GRU RNNs"
      ]
    },
    {
      "metadata": {
        "colab_type": "code",
        "id": "3P5IXssDDlTa",
        "outputId": "28a08536-3791-4de8-91e6-a84fa5bbb0ab",
        "colab": {
          "base_uri": "https://localhost:8080/",
          "height": 442
        }
      },
      "cell_type": "code",
      "source": [
        "# Batch Normalization:\n",
        "# https://towardsdatascience.com/batch-normalization-in-neural-networks-1ac91516821c\n",
        "# https://www.quora.com/Why-does-batch-normalization-help\n",
        "\n",
        "from tensorflow.keras.layers import GRU, Embedding, Bidirectional, BatchNormalization, Dropout\n",
        "\n",
        "embedding_dim = 32\n",
        "\n",
        "dropout = 0.6\n",
        "recurrent_dropout = 0.4\n",
        "\n",
        "model = keras.Sequential()\n",
        "\n",
        "# encoder\n",
        "model.add(Embedding(input_dim=max_features, output_dim=embedding_dim, input_length=maxlen))\n",
        "\n",
        "# https://arxiv.org/ftp/arxiv/papers/1701/1701.05923.pdf\n",
        "# n = output dimension\n",
        "# m = input dimension\n",
        "# Total number of parameters for \n",
        "# RNN = n**2 + nm + n\n",
        "# GRU = 3 × (n**2 + nm + n)\n",
        "# LSTM = 4 × (n**2 + nm + n)\n",
        "\n",
        "# return_sequences passes all outputs of all timesteps (not only the last one) to the next layer\n",
        "model.add(GRU(name='gru1', units=32, dropout=dropout, recurrent_dropout=recurrent_dropout, return_sequences=True))\n",
        "\n",
        "# for embedding: 32*2 (“standard deviation” parameter (gamma), “mean” parameter (beta)) trainable parameters\n",
        "# and 32*2 (moving_mean and moving_variance) non-trainable parameters\n",
        "model.add(BatchNormalization())  \n",
        "model.add(Dropout(dropout))\n",
        "\n",
        "# stack recurrent layers like with fc\n",
        "model.add(GRU(name='gru2', units=32))\n",
        "model.add(BatchNormalization())\n",
        "model.add(Dropout(dropout))\n",
        "\n",
        "# latent space\n",
        "model.add(tf.keras.layers.Dense(name='fc', units=32, activation='relu'))\n",
        "\n",
        "# binary classifier as decoder\n",
        "model.add(tf.keras.layers.Dense(name='classifier', units=1, activation='sigmoid'))\n",
        "\n",
        "model.compile(optimizer='adam', loss='binary_crossentropy', metrics=['accuracy'])\n",
        "\n",
        "model.summary()"
      ],
      "execution_count": 0,
      "outputs": [
        {
          "output_type": "stream",
          "text": [
            "_________________________________________________________________\n",
            "Layer (type)                 Output Shape              Param #   \n",
            "=================================================================\n",
            "embedding (Embedding)        (None, 500, 32)           320000    \n",
            "_________________________________________________________________\n",
            "gru1 (GRU)                   (None, 500, 32)           6240      \n",
            "_________________________________________________________________\n",
            "batch_normalization (BatchNo (None, 500, 32)           128       \n",
            "_________________________________________________________________\n",
            "dropout (Dropout)            (None, 500, 32)           0         \n",
            "_________________________________________________________________\n",
            "gru2 (GRU)                   (None, 32)                6240      \n",
            "_________________________________________________________________\n",
            "batch_normalization_1 (Batch (None, 32)                128       \n",
            "_________________________________________________________________\n",
            "dropout_1 (Dropout)          (None, 32)                0         \n",
            "_________________________________________________________________\n",
            "fc (Dense)                   (None, 32)                1056      \n",
            "_________________________________________________________________\n",
            "classifier (Dense)           (None, 1)                 33        \n",
            "=================================================================\n",
            "Total params: 333,825\n",
            "Trainable params: 333,697\n",
            "Non-trainable params: 128\n",
            "_________________________________________________________________\n"
          ],
          "name": "stdout"
        }
      ]
    },
    {
      "metadata": {
        "colab_type": "code",
        "id": "YnGRCa_NDlTe",
        "outputId": "ef7b9f1d-db81-4baa-f026-8438d4af34ba",
        "colab": {
          "base_uri": "https://localhost:8080/",
          "height": 408
        }
      },
      "cell_type": "code",
      "source": [
        "batch_size = 1000\n",
        "\n",
        "%time history = model.fit(input_train, y_train, epochs=15, batch_size=batch_size, validation_split=0.2)"
      ],
      "execution_count": 0,
      "outputs": [
        {
          "output_type": "stream",
          "text": [
            "Train on 20000 samples, validate on 5000 samples\n",
            "Epoch 1/10\n",
            "20000/20000 [==============================] - 57s 3ms/step - loss: 0.4443 - acc: 0.8048 - val_loss: 0.5092 - val_acc: 0.7696\n",
            "Epoch 2/10\n",
            "20000/20000 [==============================] - 58s 3ms/step - loss: 0.3962 - acc: 0.8308 - val_loss: 0.4648 - val_acc: 0.7920\n",
            "Epoch 3/10\n",
            "20000/20000 [==============================] - 58s 3ms/step - loss: 0.3513 - acc: 0.8560 - val_loss: 0.3721 - val_acc: 0.8462\n",
            "Epoch 4/10\n",
            "20000/20000 [==============================] - 58s 3ms/step - loss: 0.3166 - acc: 0.8725 - val_loss: 0.3817 - val_acc: 0.8326\n",
            "Epoch 5/10\n",
            "20000/20000 [==============================] - 58s 3ms/step - loss: 0.2923 - acc: 0.8846 - val_loss: 0.3642 - val_acc: 0.8456\n",
            "Epoch 6/10\n",
            "20000/20000 [==============================] - 58s 3ms/step - loss: 0.2558 - acc: 0.9008 - val_loss: 0.4262 - val_acc: 0.8128\n",
            "Epoch 7/10\n",
            "20000/20000 [==============================] - 57s 3ms/step - loss: 0.2364 - acc: 0.9083 - val_loss: 0.3648 - val_acc: 0.8496\n",
            "Epoch 8/10\n",
            "20000/20000 [==============================] - 58s 3ms/step - loss: 0.2287 - acc: 0.9134 - val_loss: 0.4112 - val_acc: 0.8312\n",
            "Epoch 9/10\n",
            "20000/20000 [==============================] - 57s 3ms/step - loss: 0.2107 - acc: 0.9214 - val_loss: 0.4497 - val_acc: 0.8238\n",
            "Epoch 10/10\n",
            "20000/20000 [==============================] - 57s 3ms/step - loss: 0.1925 - acc: 0.9274 - val_loss: 0.5470 - val_acc: 0.8026\n",
            "CPU times: user 12min 19s, sys: 1min 34s, total: 13min 54s\n",
            "Wall time: 9min 34s\n"
          ],
          "name": "stdout"
        }
      ]
    },
    {
      "metadata": {
        "colab_type": "code",
        "id": "jL_GisrYDlTj",
        "outputId": "ea139dfd-49e1-4f80-b80a-d8ab3f62ad75",
        "colab": {
          "base_uri": "https://localhost:8080/",
          "height": 51
        }
      },
      "cell_type": "code",
      "source": [
        "train_loss, train_accuracy = model.evaluate(input_train, y_train, batch_size=batch_size)\n",
        "train_accuracy"
      ],
      "execution_count": 0,
      "outputs": [
        {
          "output_type": "stream",
          "text": [
            "25000/25000 [==============================] - 25s 1ms/step\n"
          ],
          "name": "stdout"
        },
        {
          "output_type": "execute_result",
          "data": {
            "text/plain": [
              "0.7904000020027161"
            ]
          },
          "metadata": {
            "tags": []
          },
          "execution_count": 6
        }
      ]
    },
    {
      "metadata": {
        "colab_type": "code",
        "id": "WPdu2AZ9DlTo",
        "outputId": "b3ea692c-3329-442b-9498-eb4f17fa0a40",
        "colab": {
          "base_uri": "https://localhost:8080/",
          "height": 51
        }
      },
      "cell_type": "code",
      "source": [
        "test_loss, test_accuracy = model.evaluate(input_test, y_test, batch_size=batch_size)\n",
        "test_accuracy"
      ],
      "execution_count": 0,
      "outputs": [
        {
          "output_type": "stream",
          "text": [
            "25000/25000 [==============================] - 26s 1ms/step\n"
          ],
          "name": "stdout"
        },
        {
          "output_type": "execute_result",
          "data": {
            "text/plain": [
              "0.7442799997329712"
            ]
          },
          "metadata": {
            "tags": []
          },
          "execution_count": 7
        }
      ]
    },
    {
      "metadata": {
        "id": "ldisJ2MIcDmL",
        "colab_type": "code",
        "outputId": "537d0cc8-d66f-4dda-f456-2e71f7a8ae29",
        "colab": {
          "base_uri": "https://localhost:8080/",
          "height": 335
        }
      },
      "cell_type": "code",
      "source": [
        "def plot_history(history, samples=10, init_phase_samples=None):\n",
        "    epochs = history.params['epochs']\n",
        "    \n",
        "    acc = history.history['acc']\n",
        "    val_acc = history.history['val_acc']\n",
        "\n",
        "    every_sample =  int(epochs / samples)\n",
        "    acc = pd.DataFrame(acc).iloc[::every_sample, :]\n",
        "    val_acc = pd.DataFrame(val_acc).iloc[::every_sample, :]\n",
        "\n",
        "    fig, ax = plt.subplots(figsize=(20,5))\n",
        "\n",
        "    ax.plot(acc, 'bo', label='Training acc')\n",
        "    ax.plot(val_acc, 'b', label='Validation acc')\n",
        "    ax.set_title('Training and validation accuracy')\n",
        "    ax.legend()\n",
        "\n",
        "plot_history(history)"
      ],
      "execution_count": 0,
      "outputs": [
        {
          "output_type": "display_data",
          "data": {
            "image/png": "[encoded data removed]",
            "text/plain": [
              "<matplotlib.figure.Figure at 0x7fe869a580b8>"
            ]
          },
          "metadata": {
            "tags": []
          }
        }
      ]
    },
    {
      "metadata": {
        "colab_type": "code",
        "id": "ncybHXhYDlTr",
        "outputId": "d5c7072f-6381-46f8-eb5c-48be2e5afae9",
        "colab": {
          "base_uri": "https://localhost:8080/",
          "height": 102
        }
      },
      "cell_type": "code",
      "source": [
        "# precition\n",
        "model.predict(input_test[0:5])"
      ],
      "execution_count": 0,
      "outputs": [
        {
          "output_type": "execute_result",
          "data": {
            "text/plain": [
              "array([[0.5241935],\n",
              "       [0.5922162],\n",
              "       [0.5541962],\n",
              "       [0.4392001],\n",
              "       [0.6804852]], dtype=float32)"
            ]
          },
          "metadata": {
            "tags": []
          },
          "execution_count": 9
        }
      ]
    },
    {
      "metadata": {
        "colab_type": "code",
        "id": "odwgxZ1SDlTv",
        "outputId": "39ae7aac-75a1-4827-ec9c-e955224bd471",
        "colab": {
          "base_uri": "https://localhost:8080/",
          "height": 34
        }
      },
      "cell_type": "code",
      "source": [
        "# ground truth\n",
        "y_test[0:5]"
      ],
      "execution_count": 0,
      "outputs": [
        {
          "output_type": "execute_result",
          "data": {
            "text/plain": [
              "array([0, 1, 1, 0, 1])"
            ]
          },
          "metadata": {
            "tags": []
          },
          "execution_count": 10
        }
      ]
    },
    {
      "metadata": {
        "id": "OXwFgNuonLFW",
        "colab_type": "text"
      },
      "cell_type": "markdown",
      "source": [
        "## How does this work on anything that is not a real movie review?"
      ]
    },
    {
      "metadata": {
        "colab_type": "code",
        "id": "PA4i7E-mGiLi",
        "colab": {}
      },
      "cell_type": "code",
      "source": [
        "word_to_id = keras.datasets.imdb.get_word_index()\n",
        "\n",
        "def encode_text(text):\n",
        "    input_words = text.lower().split()\n",
        "    input_tokens = np.array([word_to_id[word] for word in input_words])\n",
        "    padded_input_tokens = keras.preprocessing.sequence.pad_sequences([input_tokens], maxlen=maxlen)\n",
        "    return padded_input_tokens\n",
        "\n",
        "def predict_text(model, text):\n",
        "    input_sequence = encode_text(text)\n",
        "    embeddings = model.predict(input_sequence)\n",
        "    return embeddings"
      ],
      "execution_count": 0,
      "outputs": []
    },
    {
      "metadata": {
        "id": "4mSbI63GmeEO",
        "colab_type": "code",
        "outputId": "62397891-c370-49bb-cf6a-9cc0e6e84b52",
        "colab": {
          "base_uri": "https://localhost:8080/",
          "height": 34
        }
      },
      "cell_type": "code",
      "source": [
        "predict_text(model, \"don't watch this movie\")"
      ],
      "execution_count": 0,
      "outputs": [
        {
          "output_type": "execute_result",
          "data": {
            "text/plain": [
              "array([[0.5275438]], dtype=float32)"
            ]
          },
          "metadata": {
            "tags": []
          },
          "execution_count": 20
        }
      ]
    },
    {
      "metadata": {
        "id": "digSGgkjmZzu",
        "colab_type": "code",
        "outputId": "02a65bcf-4bd9-49db-d135-6066788ea973",
        "colab": {
          "base_uri": "https://localhost:8080/",
          "height": 34
        }
      },
      "cell_type": "code",
      "source": [
        "predict_text(model, \"lovely\")"
      ],
      "execution_count": 0,
      "outputs": [
        {
          "output_type": "execute_result",
          "data": {
            "text/plain": [
              "array([[0.68455935]], dtype=float32)"
            ]
          },
          "metadata": {
            "tags": []
          },
          "execution_count": 21
        }
      ]
    },
    {
      "metadata": {
        "id": "YH6QNBDFnq7D",
        "colab_type": "code",
        "outputId": "24d02243-9903-4dee-bbdb-59433c86e4ed",
        "colab": {
          "base_uri": "https://localhost:8080/",
          "height": 34
        }
      },
      "cell_type": "code",
      "source": [
        "predict_text(model, \"pathetic shit\")"
      ],
      "execution_count": 0,
      "outputs": [
        {
          "output_type": "execute_result",
          "data": {
            "text/plain": [
              "array([[0.7576071]], dtype=float32)"
            ]
          },
          "metadata": {
            "tags": []
          },
          "execution_count": 26
        }
      ]
    },
    {
      "metadata": {
        "id": "_OEnRhshnT7q",
        "colab_type": "code",
        "outputId": "ecfbe146-2999-466d-dd52-cae2e2d8d815",
        "colab": {
          "base_uri": "https://localhost:8080/",
          "height": 34
        }
      },
      "cell_type": "code",
      "source": [
        "predict_text(model, \"this is not a shit movie\")"
      ],
      "execution_count": 0,
      "outputs": [
        {
          "output_type": "execute_result",
          "data": {
            "text/plain": [
              "array([[0.5005187]], dtype=float32)"
            ]
          },
          "metadata": {
            "tags": []
          },
          "execution_count": 23
        }
      ]
    },
    {
      "metadata": {
        "id": "o4_TrS9ona0K",
        "colab_type": "code",
        "outputId": "3e5135ec-9269-4eef-98ca-c9291c055bab",
        "colab": {
          "base_uri": "https://localhost:8080/",
          "height": 34
        }
      },
      "cell_type": "code",
      "source": [
        "predict_text(model, \"such a bad movie\")"
      ],
      "execution_count": 0,
      "outputs": [
        {
          "output_type": "execute_result",
          "data": {
            "text/plain": [
              "array([[0.32621145]], dtype=float32)"
            ]
          },
          "metadata": {
            "tags": []
          },
          "execution_count": 27
        }
      ]
    },
    {
      "metadata": {
        "id": "Q_EoIPftn4Zl",
        "colab_type": "code",
        "colab": {}
      },
      "cell_type": "code",
      "source": [
        ""
      ],
      "execution_count": 0,
      "outputs": []
    }
  ]
}