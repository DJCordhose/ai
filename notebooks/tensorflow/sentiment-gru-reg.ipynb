{
 "cells": [
  {
   "cell_type": "markdown",
   "metadata": {
    "colab_type": "text",
    "id": "view-in-github"
   },
   "source": [
    "[View in Colaboratory](https://colab.research.google.com/github/djcordhose/ai/blob/master/notebooks/tensorflow/sentiment-gru.ipynb)"
   ]
  },
  {
   "cell_type": "code",
   "execution_count": 3,
   "metadata": {
    "colab": {},
    "colab_type": "code",
    "id": "dD2oFWcPDlS7"
   },
   "outputs": [],
   "source": [
    "# Based on\n",
    "# https://github.com/fchollet/deep-learning-with-python-notebooks/blob/master/6.2-understanding-recurrent-neural-networks.ipynb"
   ]
  },
  {
   "cell_type": "code",
   "execution_count": 4,
   "metadata": {
    "colab": {},
    "colab_type": "code",
    "id": "5J89_UNNDlTA"
   },
   "outputs": [
    {
     "name": "stdout",
     "output_type": "stream",
     "text": [
      "Populating the interactive namespace from numpy and matplotlib\n"
     ]
    }
   ],
   "source": [
    "import warnings\n",
    "warnings.filterwarnings('ignore')\n",
    "%matplotlib inline\n",
    "%pylab inline\n",
    "import matplotlib.pyplot as plt\n",
    "import pandas as pd\n",
    "import tensorflow as tf\n",
    "from tensorflow import keras"
   ]
  },
  {
   "cell_type": "code",
   "execution_count": 5,
   "metadata": {
    "colab": {},
    "colab_type": "code",
    "id": "CaEsC1yJDlTO"
   },
   "outputs": [],
   "source": [
    "# https://keras.io/datasets/#imdb-movie-reviews-sentiment-classification\n",
    "max_features = 10000  # number of words to consider as features\n",
    "maxlen = 500  # cut texts after this number of words (among top max_features most common words)\n",
    "\n",
    "# each review is encoded as a sequence of word indexes\n",
    "# indexed by overall frequency in the dataset\n",
    "# output is 0 (negative) or 1 (positive) \n",
    "imdb = tf.keras.datasets.imdb.load_data(num_words=max_features)\n",
    "(raw_input_train, y_train), (raw_input_test, y_test) = imdb\n",
    "\n",
    "# https://www.tensorflow.org/api_docs/python/tf/keras/preprocessing/sequence/pad_sequences\n",
    "\n",
    "input_train = tf.keras.preprocessing.sequence.pad_sequences(raw_input_train, maxlen=maxlen)\n",
    "input_test = tf.keras.preprocessing.sequence.pad_sequences(raw_input_test, maxlen=maxlen)"
   ]
  },
  {
   "cell_type": "markdown",
   "metadata": {
    "colab_type": "text",
    "id": "77aA5qukDlTa"
   },
   "source": [
    "## GRU RNNs"
   ]
  },
  {
   "cell_type": "code",
   "execution_count": 6,
   "metadata": {
    "colab": {
     "base_uri": "https://localhost:8080/",
     "height": 272
    },
    "colab_type": "code",
    "id": "3P5IXssDDlTa",
    "outputId": "cdcc4651-2d18-45bb-9676-c8df52aff0cc"
   },
   "outputs": [
    {
     "name": "stdout",
     "output_type": "stream",
     "text": [
      "_________________________________________________________________\n",
      "Layer (type)                 Output Shape              Param #   \n",
      "=================================================================\n",
      "embedding (Embedding)        (None, 500, 32)           320000    \n",
      "_________________________________________________________________\n",
      "gru1 (GRU)                   (None, 500, 32)           6240      \n",
      "_________________________________________________________________\n",
      "batch_normalization (BatchNo (None, 500, 32)           128       \n",
      "_________________________________________________________________\n",
      "dropout (Dropout)            (None, 500, 32)           0         \n",
      "_________________________________________________________________\n",
      "gru2 (GRU)                   (None, 32)                6240      \n",
      "_________________________________________________________________\n",
      "batch_normalization_1 (Batch (None, 32)                128       \n",
      "_________________________________________________________________\n",
      "dropout_1 (Dropout)          (None, 32)                0         \n",
      "_________________________________________________________________\n",
      "fc (Dense)                   (None, 32)                1056      \n",
      "_________________________________________________________________\n",
      "classifier (Dense)           (None, 1)                 33        \n",
      "=================================================================\n",
      "Total params: 333,825\n",
      "Trainable params: 333,697\n",
      "Non-trainable params: 128\n",
      "_________________________________________________________________\n"
     ]
    }
   ],
   "source": [
    "# Batch Normalization:\n",
    "# https://towardsdatascience.com/batch-normalization-in-neural-networks-1ac91516821c\n",
    "# https://www.quora.com/Why-does-batch-normalization-help\n",
    "\n",
    "from tensorflow.keras.layers import GRU, Embedding, Bidirectional, BatchNormalization, Dropout\n",
    "\n",
    "embedding_dim = 32\n",
    "\n",
    "dropout = 0.15\n",
    "recurrent_dropout = 0.2\n",
    "\n",
    "model = keras.Sequential()\n",
    "model.add(Embedding(input_dim=max_features, output_dim=embedding_dim, input_length=maxlen))\n",
    "\n",
    "# https://arxiv.org/ftp/arxiv/papers/1701/1701.05923.pdf\n",
    "# n = output dimension\n",
    "# m = input dimension\n",
    "# Total number of parameters for \n",
    "# RNN = n**2 + nm + n\n",
    "# GRU = 3 × (n**2 + nm + n)\n",
    "# LSTM = 4 × (n**2 + nm + n)\n",
    "\n",
    "# return_sequences passes all outputs of all timesteps (not only the last one) to the next layer\n",
    "model.add(GRU(name='gru1', units=32, dropout=dropout, recurrent_dropout=recurrent_dropout, return_sequences=True))\n",
    "\n",
    "# for embedding: 32*2 (“standard deviation” parameter (gamma), “mean” parameter (beta)) trainable parameters\n",
    "# and 32*2 (moving_mean and moving_variance) non-trainable parameters\n",
    "model.add(BatchNormalization())  \n",
    "model.add(Dropout(dropout))\n",
    "\n",
    "# stack recurrent layers like with fc\n",
    "model.add(GRU(name='gru2', units=32))\n",
    "model.add(BatchNormalization())\n",
    "model.add(Dropout(dropout))\n",
    "\n",
    "# binary classifier\n",
    "model.add(tf.keras.layers.Dense(name='fc', units=32, activation='relu'))\n",
    "model.add(tf.keras.layers.Dense(name='classifier', units=1, activation='sigmoid'))\n",
    "\n",
    "model.compile(optimizer='adam', loss='binary_crossentropy', metrics=['accuracy'])\n",
    "\n",
    "model.summary()"
   ]
  },
  {
   "cell_type": "code",
   "execution_count": 7,
   "metadata": {
    "colab": {
     "base_uri": "https://localhost:8080/",
     "height": 408
    },
    "colab_type": "code",
    "id": "YnGRCa_NDlTe",
    "outputId": "f6838262-863a-491a-8e53-3b5937531186"
   },
   "outputs": [
    {
     "name": "stdout",
     "output_type": "stream",
     "text": [
      "Train on 20000 samples, validate on 5000 samples\n",
      "Epoch 1/10\n",
      "20000/20000 [==============================] - 114s 6ms/step - loss: 0.7405 - acc: 0.5067 - val_loss: 0.6929 - val_acc: 0.5110\n",
      "Epoch 2/10\n",
      "20000/20000 [==============================] - 95s 5ms/step - loss: 0.7096 - acc: 0.5123 - val_loss: 0.6925 - val_acc: 0.5022\n",
      "Epoch 3/10\n",
      "20000/20000 [==============================] - 95s 5ms/step - loss: 0.7011 - acc: 0.5192 - val_loss: 0.6910 - val_acc: 0.5198\n",
      "Epoch 4/10\n",
      "20000/20000 [==============================] - 105s 5ms/step - loss: 0.6958 - acc: 0.5262 - val_loss: 0.6903 - val_acc: 0.5196\n",
      "Epoch 5/10\n",
      "20000/20000 [==============================] - 119s 6ms/step - loss: 0.6912 - acc: 0.5373 - val_loss: 0.6881 - val_acc: 0.5520\n",
      "Epoch 6/10\n",
      "20000/20000 [==============================] - 98s 5ms/step - loss: 0.6897 - acc: 0.5420 - val_loss: 0.6864 - val_acc: 0.5506\n",
      "Epoch 7/10\n",
      "20000/20000 [==============================] - 106s 5ms/step - loss: 0.6825 - acc: 0.5526 - val_loss: 0.6832 - val_acc: 0.5546\n",
      "Epoch 8/10\n",
      "20000/20000 [==============================] - 122s 6ms/step - loss: 0.6789 - acc: 0.5596 - val_loss: 0.6790 - val_acc: 0.5558\n",
      "Epoch 9/10\n",
      "20000/20000 [==============================] - 110s 6ms/step - loss: 0.6753 - acc: 0.5710 - val_loss: 0.6737 - val_acc: 0.5706\n",
      "Epoch 10/10\n",
      "20000/20000 [==============================] - 107s 5ms/step - loss: 0.6648 - acc: 0.5899 - val_loss: 0.6647 - val_acc: 0.6028\n",
      "Wall time: 17min 54s\n"
     ]
    }
   ],
   "source": [
    "batch_size = 1000\n",
    "\n",
    "%time history = model.fit(input_train, y_train, epochs=10, batch_size=batch_size, validation_split=0.2)"
   ]
  },
  {
   "cell_type": "code",
   "execution_count": 8,
   "metadata": {
    "colab": {
     "base_uri": "https://localhost:8080/",
     "height": 51
    },
    "colab_type": "code",
    "id": "jL_GisrYDlTj",
    "outputId": "62be0aa7-877a-4b4c-c3e5-47178fedc471"
   },
   "outputs": [
    {
     "name": "stdout",
     "output_type": "stream",
     "text": [
      "25000/25000 [==============================] - 37s 1ms/step\n"
     ]
    },
    {
     "data": {
      "text/plain": [
       "0.6222799968719482"
      ]
     },
     "execution_count": 8,
     "metadata": {},
     "output_type": "execute_result"
    }
   ],
   "source": [
    "train_loss, train_accuracy = model.evaluate(input_train, y_train, batch_size=batch_size)\n",
    "train_accuracy"
   ]
  },
  {
   "cell_type": "code",
   "execution_count": 9,
   "metadata": {
    "colab": {
     "base_uri": "https://localhost:8080/",
     "height": 51
    },
    "colab_type": "code",
    "id": "WPdu2AZ9DlTo",
    "outputId": "44aece1b-c121-4c30-c7e1-6671f40aac8f"
   },
   "outputs": [
    {
     "name": "stdout",
     "output_type": "stream",
     "text": [
      "25000/25000 [==============================] - 34s 1ms/step\n"
     ]
    },
    {
     "data": {
      "text/plain": [
       "0.6059199953079224"
      ]
     },
     "execution_count": 9,
     "metadata": {},
     "output_type": "execute_result"
    }
   ],
   "source": [
    "test_loss, test_accuracy = model.evaluate(input_test, y_test, batch_size=batch_size)\n",
    "test_accuracy"
   ]
  },
  {
   "cell_type": "code",
   "execution_count": 10,
   "metadata": {},
   "outputs": [
    {
     "data": {
      "image/png": "[encoded data removed]",
      "text/plain": [
       "<Figure size 1440x360 with 1 Axes>"
      ]
     },
     "metadata": {
      "needs_background": "light"
     },
     "output_type": "display_data"
    }
   ],
   "source": [
    "def plot_history(history, samples=10, init_phase_samples=None):\n",
    "    epochs = history.params['epochs']\n",
    "    \n",
    "    acc = history.history['acc']\n",
    "    val_acc = history.history['val_acc']\n",
    "\n",
    "    every_sample =  int(epochs / samples)\n",
    "    acc = pd.DataFrame(acc).iloc[::every_sample, :]\n",
    "    val_acc = pd.DataFrame(val_acc).iloc[::every_sample, :]\n",
    "\n",
    "    fig, ax = plt.subplots(figsize=(20,5))\n",
    "\n",
    "    ax.plot(acc, 'bo', label='Training acc')\n",
    "    ax.plot(val_acc, 'b', label='Validation acc')\n",
    "    ax.set_title('Training and validation accuracy')\n",
    "    ax.legend()\n",
    "\n",
    "plot_history(history)"
   ]
  },
  {
   "cell_type": "code",
   "execution_count": 12,
   "metadata": {
    "colab": {
     "base_uri": "https://localhost:8080/",
     "height": 102
    },
    "colab_type": "code",
    "id": "ncybHXhYDlTr",
    "outputId": "da86e6e6-9fc5-4594-a9a6-efcc53e5393c"
   },
   "outputs": [
    {
     "data": {
      "text/plain": [
       "array([[0.486188  ],\n",
       "       [0.49295387],\n",
       "       [0.47836104],\n",
       "       [0.49150866],\n",
       "       [0.6266455 ]], dtype=float32)"
      ]
     },
     "execution_count": 12,
     "metadata": {},
     "output_type": "execute_result"
    }
   ],
   "source": [
    "# precition\n",
    "model.predict(input_test[0:5])"
   ]
  },
  {
   "cell_type": "code",
   "execution_count": 13,
   "metadata": {
    "colab": {
     "base_uri": "https://localhost:8080/",
     "height": 34
    },
    "colab_type": "code",
    "id": "odwgxZ1SDlTv",
    "outputId": "47f94b8c-3088-426e-f828-b009b6beb428"
   },
   "outputs": [
    {
     "data": {
      "text/plain": [
       "array([0, 1, 1, 0, 1], dtype=int64)"
      ]
     },
     "execution_count": 13,
     "metadata": {},
     "output_type": "execute_result"
    }
   ],
   "source": [
    "# ground truth\n",
    "y_test[0:5]"
   ]
  },
  {
   "cell_type": "code",
   "execution_count": null,
   "metadata": {
    "colab": {},
    "colab_type": "code",
    "id": "PA4i7E-mGiLi"
   },
   "outputs": [],
   "source": []
  }
 ],
 "metadata": {
  "accelerator": "GPU",
  "colab": {
   "include_colab_link": true,
   "name": "Sentiment Analysis with GRUs",
   "provenance": [],
   "version": "0.3.2"
  },
  "kernelspec": {
   "display_name": "Python 3",
   "language": "python",
   "name": "python3"
  },
  "language_info": {
   "codemirror_mode": {
    "name": "ipython",
    "version": 3
   },
   "file_extension": ".py",
   "mimetype": "text/x-python",
   "name": "python",
   "nbconvert_exporter": "python",
   "pygments_lexer": "ipython3",
   "version": "3.6.7"
  }
 },
 "nbformat": 4,
 "nbformat_minor": 1
}
