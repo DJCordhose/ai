{
 "cells": [
  {
   "cell_type": "markdown",
   "metadata": {},
   "source": [
    "# Understanding Embeddings on Texts"
   ]
  },
  {
   "cell_type": "code",
   "execution_count": 1,
   "metadata": {},
   "outputs": [],
   "source": [
    "# Based on\n",
    "# https://github.com/fchollet/deep-learning-with-python-notebooks/blob/master/6.2-understanding-recurrent-neural-networks.ipynb"
   ]
  },
  {
   "cell_type": "code",
   "execution_count": 2,
   "metadata": {},
   "outputs": [],
   "source": [
    "import warnings\n",
    "warnings.filterwarnings('ignore')"
   ]
  },
  {
   "cell_type": "code",
   "execution_count": 3,
   "metadata": {},
   "outputs": [
    {
     "name": "stdout",
     "output_type": "stream",
     "text": [
      "Populating the interactive namespace from numpy and matplotlib\n"
     ]
    }
   ],
   "source": [
    "%matplotlib inline\n",
    "%pylab inline"
   ]
  },
  {
   "cell_type": "code",
   "execution_count": 4,
   "metadata": {},
   "outputs": [
    {
     "name": "stdout",
     "output_type": "stream",
     "text": [
      "1.10.0\n"
     ]
    }
   ],
   "source": [
    "import tensorflow as tf\n",
    "tf.logging.set_verbosity(tf.logging.ERROR)\n",
    "print(tf.__version__)"
   ]
  },
  {
   "cell_type": "code",
   "execution_count": 31,
   "metadata": {},
   "outputs": [],
   "source": [
    "from tensorflow import keras\n",
    "\n",
    "# https://keras.io/datasets/#imdb-movie-reviews-sentiment-classification\n",
    "max_features = 10000  # number of words to consider as features\n",
    "maxlen = 50  # cut texts after this number of words (among top max_features most common words)\n",
    "\n",
    "# each review is encoded as a sequence of word indexes\n",
    "# indexed by overall frequency in the dataset\n",
    "# output is 0 (negative) or 1 (positive) \n",
    "imdb = keras.datasets.imdb.load_data(num_words=max_features)\n",
    "(raw_input_train, y_train), (raw_input_test, y_test) = imdb"
   ]
  },
  {
   "cell_type": "code",
   "execution_count": 32,
   "metadata": {},
   "outputs": [],
   "source": [
    "# tf.keras.datasets.imdb.load_data?"
   ]
  },
  {
   "cell_type": "code",
   "execution_count": 33,
   "metadata": {},
   "outputs": [
    {
     "data": {
      "text/plain": [
       "0"
      ]
     },
     "execution_count": 33,
     "metadata": {},
     "output_type": "execute_result"
    }
   ],
   "source": [
    "y_train.min()"
   ]
  },
  {
   "cell_type": "code",
   "execution_count": 34,
   "metadata": {},
   "outputs": [
    {
     "data": {
      "text/plain": [
       "1"
      ]
     },
     "execution_count": 34,
     "metadata": {},
     "output_type": "execute_result"
    }
   ],
   "source": [
    "y_train.max()"
   ]
  },
  {
   "cell_type": "code",
   "execution_count": 35,
   "metadata": {},
   "outputs": [
    {
     "data": {
      "text/plain": [
       "25000"
      ]
     },
     "execution_count": 35,
     "metadata": {},
     "output_type": "execute_result"
    }
   ],
   "source": [
    "# 25000 texts\n",
    "len(raw_input_train)"
   ]
  },
  {
   "cell_type": "code",
   "execution_count": 36,
   "metadata": {},
   "outputs": [
    {
     "data": {
      "text/plain": [
       "218"
      ]
     },
     "execution_count": 36,
     "metadata": {},
     "output_type": "execute_result"
    }
   ],
   "source": [
    "# first text has 218 words\n",
    "len(raw_input_train[0])"
   ]
  },
  {
   "cell_type": "code",
   "execution_count": 37,
   "metadata": {},
   "outputs": [
    {
     "data": {
      "text/plain": [
       "[1,\n",
       " 14,\n",
       " 22,\n",
       " 16,\n",
       " 43,\n",
       " 530,\n",
       " 973,\n",
       " 1622,\n",
       " 1385,\n",
       " 65,\n",
       " 458,\n",
       " 4468,\n",
       " 66,\n",
       " 3941,\n",
       " 4,\n",
       " 173,\n",
       " 36,\n",
       " 256,\n",
       " 5,\n",
       " 25,\n",
       " 100,\n",
       " 43,\n",
       " 838,\n",
       " 112,\n",
       " 50,\n",
       " 670,\n",
       " 2,\n",
       " 9,\n",
       " 35,\n",
       " 480,\n",
       " 284,\n",
       " 5,\n",
       " 150,\n",
       " 4,\n",
       " 172,\n",
       " 112,\n",
       " 167,\n",
       " 2,\n",
       " 336,\n",
       " 385,\n",
       " 39,\n",
       " 4,\n",
       " 172,\n",
       " 4536,\n",
       " 1111,\n",
       " 17,\n",
       " 546,\n",
       " 38,\n",
       " 13,\n",
       " 447,\n",
       " 4,\n",
       " 192,\n",
       " 50,\n",
       " 16,\n",
       " 6,\n",
       " 147,\n",
       " 2025,\n",
       " 19,\n",
       " 14,\n",
       " 22,\n",
       " 4,\n",
       " 1920,\n",
       " 4613,\n",
       " 469,\n",
       " 4,\n",
       " 22,\n",
       " 71,\n",
       " 87,\n",
       " 12,\n",
       " 16,\n",
       " 43,\n",
       " 530,\n",
       " 38,\n",
       " 76,\n",
       " 15,\n",
       " 13,\n",
       " 1247,\n",
       " 4,\n",
       " 22,\n",
       " 17,\n",
       " 515,\n",
       " 17,\n",
       " 12,\n",
       " 16,\n",
       " 626,\n",
       " 18,\n",
       " 2,\n",
       " 5,\n",
       " 62,\n",
       " 386,\n",
       " 12,\n",
       " 8,\n",
       " 316,\n",
       " 8,\n",
       " 106,\n",
       " 5,\n",
       " 4,\n",
       " 2223,\n",
       " 5244,\n",
       " 16,\n",
       " 480,\n",
       " 66,\n",
       " 3785,\n",
       " 33,\n",
       " 4,\n",
       " 130,\n",
       " 12,\n",
       " 16,\n",
       " 38,\n",
       " 619,\n",
       " 5,\n",
       " 25,\n",
       " 124,\n",
       " 51,\n",
       " 36,\n",
       " 135,\n",
       " 48,\n",
       " 25,\n",
       " 1415,\n",
       " 33,\n",
       " 6,\n",
       " 22,\n",
       " 12,\n",
       " 215,\n",
       " 28,\n",
       " 77,\n",
       " 52,\n",
       " 5,\n",
       " 14,\n",
       " 407,\n",
       " 16,\n",
       " 82,\n",
       " 2,\n",
       " 8,\n",
       " 4,\n",
       " 107,\n",
       " 117,\n",
       " 5952,\n",
       " 15,\n",
       " 256,\n",
       " 4,\n",
       " 2,\n",
       " 7,\n",
       " 3766,\n",
       " 5,\n",
       " 723,\n",
       " 36,\n",
       " 71,\n",
       " 43,\n",
       " 530,\n",
       " 476,\n",
       " 26,\n",
       " 400,\n",
       " 317,\n",
       " 46,\n",
       " 7,\n",
       " 4,\n",
       " 2,\n",
       " 1029,\n",
       " 13,\n",
       " 104,\n",
       " 88,\n",
       " 4,\n",
       " 381,\n",
       " 15,\n",
       " 297,\n",
       " 98,\n",
       " 32,\n",
       " 2071,\n",
       " 56,\n",
       " 26,\n",
       " 141,\n",
       " 6,\n",
       " 194,\n",
       " 7486,\n",
       " 18,\n",
       " 4,\n",
       " 226,\n",
       " 22,\n",
       " 21,\n",
       " 134,\n",
       " 476,\n",
       " 26,\n",
       " 480,\n",
       " 5,\n",
       " 144,\n",
       " 30,\n",
       " 5535,\n",
       " 18,\n",
       " 51,\n",
       " 36,\n",
       " 28,\n",
       " 224,\n",
       " 92,\n",
       " 25,\n",
       " 104,\n",
       " 4,\n",
       " 226,\n",
       " 65,\n",
       " 16,\n",
       " 38,\n",
       " 1334,\n",
       " 88,\n",
       " 12,\n",
       " 16,\n",
       " 283,\n",
       " 5,\n",
       " 16,\n",
       " 4472,\n",
       " 113,\n",
       " 103,\n",
       " 32,\n",
       " 15,\n",
       " 16,\n",
       " 5345,\n",
       " 19,\n",
       " 178,\n",
       " 32]"
      ]
     },
     "execution_count": 37,
     "metadata": {},
     "output_type": "execute_result"
    }
   ],
   "source": [
    "raw_input_train[0]"
   ]
  },
  {
   "cell_type": "code",
   "execution_count": 38,
   "metadata": {},
   "outputs": [],
   "source": [
    "# tf.keras.preprocessing.sequence.pad_sequences?"
   ]
  },
  {
   "cell_type": "code",
   "execution_count": 39,
   "metadata": {},
   "outputs": [],
   "source": [
    "# https://www.tensorflow.org/api_docs/python/tf/keras/preprocessing/sequence/pad_sequences\n",
    "\n",
    "input_train = keras.preprocessing.sequence.pad_sequences(raw_input_train, maxlen=maxlen)\n",
    "input_test = keras.preprocessing.sequence.pad_sequences(raw_input_test, maxlen=maxlen)"
   ]
  },
  {
   "cell_type": "code",
   "execution_count": 40,
   "metadata": {},
   "outputs": [
    {
     "data": {
      "text/plain": [
       "((25000, 50), (25000, 50), (25000,), (25000,))"
      ]
     },
     "execution_count": 40,
     "metadata": {},
     "output_type": "execute_result"
    }
   ],
   "source": [
    "input_train.shape, input_test.shape, y_train.shape, y_test.shape"
   ]
  },
  {
   "cell_type": "code",
   "execution_count": 41,
   "metadata": {},
   "outputs": [
    {
     "data": {
      "text/plain": [
       "array([2071,   56,   26,  141,    6,  194, 7486,   18,    4,  226,   22,\n",
       "         21,  134,  476,   26,  480,    5,  144,   30, 5535,   18,   51,\n",
       "         36,   28,  224,   92,   25,  104,    4,  226,   65,   16,   38,\n",
       "       1334,   88,   12,   16,  283,    5,   16, 4472,  113,  103,   32,\n",
       "         15,   16, 5345,   19,  178,   32])"
      ]
     },
     "execution_count": 41,
     "metadata": {},
     "output_type": "execute_result"
    }
   ],
   "source": [
    "# left padded with zeros\n",
    "# As a convention, \"0\" does not stand for a specific word, but instead is used to encode any unknown word.\n",
    "input_train[0]"
   ]
  },
  {
   "cell_type": "markdown",
   "metadata": {},
   "source": [
    "### Training the embedding together with the whole model is more reasonable\n",
    "Alternative: use a pre-trained model, probably trained using skip-gram"
   ]
  },
  {
   "cell_type": "code",
   "execution_count": 42,
   "metadata": {},
   "outputs": [],
   "source": [
    "# tf.keras.layers.Embedding?"
   ]
  },
  {
   "cell_type": "code",
   "execution_count": 58,
   "metadata": {},
   "outputs": [
    {
     "name": "stdout",
     "output_type": "stream",
     "text": [
      "_________________________________________________________________\n",
      "Layer (type)                 Output Shape              Param #   \n",
      "=================================================================\n",
      "embedding (Embedding)        (None, 50, 2)             20000     \n",
      "_________________________________________________________________\n",
      "flatten (Flatten)            (None, 100)               0         \n",
      "_________________________________________________________________\n",
      "classifier (Dense)           (None, 1)                 101       \n",
      "=================================================================\n",
      "Total params: 20,101\n",
      "Trainable params: 20,101\n",
      "Non-trainable params: 0\n",
      "_________________________________________________________________\n"
     ]
    }
   ],
   "source": [
    "from tensorflow.keras.layers import Embedding, Flatten, GlobalAveragePooling1D, Dense, Dropout\n",
    "\n",
    "embedding_dim = 2\n",
    "\n",
    "model = keras.Sequential()\n",
    "# Parameters: max_features * embedding_dim \n",
    "model.add(Embedding(name='embedding', input_dim=max_features, output_dim=embedding_dim, input_length=maxlen))\n",
    "\n",
    "# Output: maxlen * embedding_dim (8)\n",
    "model.add(Flatten(name='flatten'))\n",
    "\n",
    "# ALTERNATIVE\n",
    "# average of all embeddings (does not preserve sequence)\n",
    "# model.add(GlobalAveragePooling1D(name='average_pooling'))\n",
    "\n",
    "# binary classifier\n",
    "# model.add(Dense(name='fc', units=32, activation='relu'))\n",
    "# model.add(Dropout(0.4))\n",
    "model.add(Dense(name='classifier', units=1, activation='sigmoid'))\n",
    "\n",
    "model.compile(optimizer='adam', loss='binary_crossentropy', metrics=['accuracy'])\n",
    "\n",
    "model.summary()"
   ]
  },
  {
   "cell_type": "code",
   "execution_count": 59,
   "metadata": {},
   "outputs": [
    {
     "name": "stdout",
     "output_type": "stream",
     "text": [
      "Train on 25000 samples, validate on 25000 samples\n",
      "Epoch 1/40\n",
      "25000/25000 [==============================] - 2s 77us/step - loss: 0.7127 - acc: 0.4951 - val_loss: 0.7096 - val_acc: 0.5019\n",
      "Epoch 2/40\n",
      "25000/25000 [==============================] - 2s 63us/step - loss: 0.6996 - acc: 0.5162 - val_loss: 0.7027 - val_acc: 0.5048\n",
      "Epoch 3/40\n",
      "25000/25000 [==============================] - 1s 56us/step - loss: 0.6906 - acc: 0.5352 - val_loss: 0.6980 - val_acc: 0.5147\n",
      "Epoch 4/40\n",
      "25000/25000 [==============================] - 1s 54us/step - loss: 0.6816 - acc: 0.5581 - val_loss: 0.6903 - val_acc: 0.5337\n",
      "Epoch 5/40\n",
      "25000/25000 [==============================] - 1s 54us/step - loss: 0.6669 - acc: 0.5958 - val_loss: 0.6760 - val_acc: 0.5698\n",
      "Epoch 6/40\n",
      "25000/25000 [==============================] - 1s 55us/step - loss: 0.6384 - acc: 0.6517 - val_loss: 0.6435 - val_acc: 0.6320\n",
      "Epoch 7/40\n",
      "25000/25000 [==============================] - 1s 58us/step - loss: 0.5894 - acc: 0.7117 - val_loss: 0.5928 - val_acc: 0.6894\n",
      "Epoch 8/40\n",
      "25000/25000 [==============================] - 1s 55us/step - loss: 0.5294 - acc: 0.7573 - val_loss: 0.5397 - val_acc: 0.7333\n",
      "Epoch 9/40\n",
      "25000/25000 [==============================] - 1s 57us/step - loss: 0.4757 - acc: 0.7880 - val_loss: 0.4995 - val_acc: 0.7595\n",
      "Epoch 10/40\n",
      "25000/25000 [==============================] - 2s 60us/step - loss: 0.4342 - acc: 0.8096 - val_loss: 0.4708 - val_acc: 0.7760\n",
      "Epoch 11/40\n",
      "25000/25000 [==============================] - 1s 56us/step - loss: 0.4018 - acc: 0.8251 - val_loss: 0.4511 - val_acc: 0.7854\n",
      "Epoch 12/40\n",
      "25000/25000 [==============================] - 1s 53us/step - loss: 0.3764 - acc: 0.8382 - val_loss: 0.4378 - val_acc: 0.7949\n",
      "Epoch 13/40\n",
      "25000/25000 [==============================] - 1s 55us/step - loss: 0.3554 - acc: 0.8476 - val_loss: 0.4282 - val_acc: 0.7996\n",
      "Epoch 14/40\n",
      "25000/25000 [==============================] - 1s 54us/step - loss: 0.3385 - acc: 0.8566 - val_loss: 0.4219 - val_acc: 0.8030\n",
      "Epoch 15/40\n",
      "25000/25000 [==============================] - 1s 56us/step - loss: 0.3232 - acc: 0.8656 - val_loss: 0.4179 - val_acc: 0.8057\n",
      "Epoch 16/40\n",
      "25000/25000 [==============================] - 1s 56us/step - loss: 0.3098 - acc: 0.8710 - val_loss: 0.4157 - val_acc: 0.8066\n",
      "Epoch 17/40\n",
      "25000/25000 [==============================] - 1s 56us/step - loss: 0.2979 - acc: 0.8780 - val_loss: 0.4144 - val_acc: 0.8066\n",
      "Epoch 18/40\n",
      "25000/25000 [==============================] - 1s 58us/step - loss: 0.2868 - acc: 0.8829 - val_loss: 0.4149 - val_acc: 0.8073\n",
      "Epoch 19/40\n",
      "25000/25000 [==============================] - 1s 56us/step - loss: 0.2767 - acc: 0.8869 - val_loss: 0.4150 - val_acc: 0.8074\n",
      "Epoch 20/40\n",
      "25000/25000 [==============================] - 1s 54us/step - loss: 0.2676 - acc: 0.8924 - val_loss: 0.4170 - val_acc: 0.8086\n",
      "Epoch 21/40\n",
      "25000/25000 [==============================] - 1s 56us/step - loss: 0.2589 - acc: 0.8966 - val_loss: 0.4187 - val_acc: 0.8084\n",
      "Epoch 22/40\n",
      "25000/25000 [==============================] - 1s 55us/step - loss: 0.2507 - acc: 0.9002 - val_loss: 0.4213 - val_acc: 0.8083\n",
      "Epoch 23/40\n",
      "25000/25000 [==============================] - 1s 55us/step - loss: 0.2427 - acc: 0.9044 - val_loss: 0.4255 - val_acc: 0.8070\n",
      "Epoch 24/40\n",
      "25000/25000 [==============================] - 1s 55us/step - loss: 0.2354 - acc: 0.9080 - val_loss: 0.4287 - val_acc: 0.8084\n",
      "Epoch 25/40\n",
      "25000/25000 [==============================] - 1s 55us/step - loss: 0.2279 - acc: 0.9117 - val_loss: 0.4322 - val_acc: 0.8073\n",
      "Epoch 26/40\n",
      "25000/25000 [==============================] - 1s 55us/step - loss: 0.2211 - acc: 0.9156 - val_loss: 0.4369 - val_acc: 0.8068\n",
      "Epoch 27/40\n",
      "25000/25000 [==============================] - 1s 55us/step - loss: 0.2147 - acc: 0.9187 - val_loss: 0.4418 - val_acc: 0.8069\n",
      "Epoch 28/40\n",
      "25000/25000 [==============================] - 1s 53us/step - loss: 0.2085 - acc: 0.9221 - val_loss: 0.4468 - val_acc: 0.8049\n",
      "Epoch 29/40\n",
      "25000/25000 [==============================] - 1s 54us/step - loss: 0.2021 - acc: 0.9256 - val_loss: 0.4526 - val_acc: 0.8052\n",
      "Epoch 30/40\n",
      "25000/25000 [==============================] - 1s 55us/step - loss: 0.1961 - acc: 0.9284 - val_loss: 0.4588 - val_acc: 0.8025\n",
      "Epoch 31/40\n",
      "25000/25000 [==============================] - 1s 56us/step - loss: 0.1905 - acc: 0.9311 - val_loss: 0.4639 - val_acc: 0.8040\n",
      "Epoch 32/40\n",
      "25000/25000 [==============================] - 1s 58us/step - loss: 0.1848 - acc: 0.9342 - val_loss: 0.4702 - val_acc: 0.8022\n",
      "Epoch 33/40\n",
      "25000/25000 [==============================] - 1s 55us/step - loss: 0.1796 - acc: 0.9357 - val_loss: 0.4788 - val_acc: 0.7988\n",
      "Epoch 34/40\n",
      "25000/25000 [==============================] - 1s 55us/step - loss: 0.1743 - acc: 0.9393 - val_loss: 0.4838 - val_acc: 0.7995\n",
      "Epoch 35/40\n",
      "25000/25000 [==============================] - 1s 54us/step - loss: 0.1688 - acc: 0.9418 - val_loss: 0.4906 - val_acc: 0.8006\n",
      "Epoch 36/40\n",
      "25000/25000 [==============================] - 1s 55us/step - loss: 0.1642 - acc: 0.9433 - val_loss: 0.4979 - val_acc: 0.7989\n",
      "Epoch 37/40\n",
      "25000/25000 [==============================] - 1s 56us/step - loss: 0.1591 - acc: 0.9457 - val_loss: 0.5053 - val_acc: 0.7974\n",
      "Epoch 38/40\n",
      "25000/25000 [==============================] - 1s 55us/step - loss: 0.1545 - acc: 0.9483 - val_loss: 0.5129 - val_acc: 0.7967\n",
      "Epoch 39/40\n",
      "25000/25000 [==============================] - 1s 57us/step - loss: 0.1496 - acc: 0.9506 - val_loss: 0.5211 - val_acc: 0.7953\n",
      "Epoch 40/40\n",
      "25000/25000 [==============================] - 1s 56us/step - loss: 0.1454 - acc: 0.9528 - val_loss: 0.5288 - val_acc: 0.7947\n",
      "Wall time: 56.5 s\n"
     ]
    }
   ],
   "source": [
    "batch_size = 96\n",
    "\n",
    "%time history = model.fit(input_train, y_train, epochs=40, batch_size=batch_size, validation_data=(input_test, y_test))"
   ]
  },
  {
   "cell_type": "code",
   "execution_count": 60,
   "metadata": {},
   "outputs": [
    {
     "data": {
      "image/png": "[encoded data removed]",
      "text/plain": [
       "<Figure size 1440x360 with 1 Axes>"
      ]
     },
     "metadata": {
      "needs_background": "light"
     },
     "output_type": "display_data"
    }
   ],
   "source": [
    "import pandas as pd\n",
    "\n",
    "def plot_history(history, samples=10, init_phase_samples=None):\n",
    "    epochs = history.params['epochs']\n",
    "    \n",
    "    acc = history.history['acc']\n",
    "    val_acc = history.history['val_acc']\n",
    "\n",
    "    every_sample =  int(epochs / samples)\n",
    "    acc = pd.DataFrame(acc).iloc[::every_sample, :]\n",
    "    val_acc = pd.DataFrame(val_acc).iloc[::every_sample, :]\n",
    "\n",
    "    fig, ax = plt.subplots(figsize=(20,5))\n",
    "\n",
    "    ax.plot(acc, 'bo', label='Training acc')\n",
    "    ax.plot(val_acc, 'b', label='Validation acc')\n",
    "    ax.set_title('Training and validation accuracy')\n",
    "    ax.legend()\n",
    "\n",
    "plot_history(history)"
   ]
  },
  {
   "cell_type": "code",
   "execution_count": 61,
   "metadata": {},
   "outputs": [
    {
     "name": "stdout",
     "output_type": "stream",
     "text": [
      "25000/25000 [==============================] - 1s 24us/step\n"
     ]
    },
    {
     "data": {
      "text/plain": [
       "0.9566400010681152"
      ]
     },
     "execution_count": 61,
     "metadata": {},
     "output_type": "execute_result"
    }
   ],
   "source": [
    "train_loss, train_accuracy = model.evaluate(input_train, y_train, batch_size=batch_size)\n",
    "train_accuracy"
   ]
  },
  {
   "cell_type": "code",
   "execution_count": 62,
   "metadata": {},
   "outputs": [
    {
     "name": "stdout",
     "output_type": "stream",
     "text": [
      "25000/25000 [==============================] - 0s 15us/step\n"
     ]
    },
    {
     "data": {
      "text/plain": [
       "0.7947199992370605"
      ]
     },
     "execution_count": 62,
     "metadata": {},
     "output_type": "execute_result"
    }
   ],
   "source": [
    "test_loss, test_accuracy = model.evaluate(input_test, y_test, batch_size=batch_size)\n",
    "test_accuracy"
   ]
  },
  {
   "cell_type": "code",
   "execution_count": 63,
   "metadata": {},
   "outputs": [
    {
     "data": {
      "text/plain": [
       "array([[0.6279232 ],\n",
       "       [0.9540596 ],\n",
       "       [0.9310511 ],\n",
       "       [0.4714239 ],\n",
       "       [0.99945086]], dtype=float32)"
      ]
     },
     "execution_count": 63,
     "metadata": {},
     "output_type": "execute_result"
    }
   ],
   "source": [
    "# precition\n",
    "model.predict(input_test[0:5])"
   ]
  },
  {
   "cell_type": "code",
   "execution_count": 64,
   "metadata": {},
   "outputs": [
    {
     "data": {
      "text/plain": [
       "array([0, 1, 1, 0, 1], dtype=int64)"
      ]
     },
     "execution_count": 64,
     "metadata": {},
     "output_type": "execute_result"
    }
   ],
   "source": [
    "# ground truth\n",
    "y_test[0:5]"
   ]
  },
  {
   "cell_type": "markdown",
   "metadata": {},
   "source": [
    "### How does the output of the trained embedding look like? "
   ]
  },
  {
   "cell_type": "code",
   "execution_count": 65,
   "metadata": {},
   "outputs": [],
   "source": [
    "embedding_layer = model.get_layer('embedding')"
   ]
  },
  {
   "cell_type": "code",
   "execution_count": 66,
   "metadata": {},
   "outputs": [],
   "source": [
    "model_stub= keras.Model(inputs=model.input, outputs=embedding_layer.output)"
   ]
  },
  {
   "cell_type": "code",
   "execution_count": 67,
   "metadata": {},
   "outputs": [],
   "source": [
    "word_to_id = keras.datasets.imdb.get_word_index()\n",
    "\n",
    "def encode_text(text):\n",
    "    input_words = text.split()\n",
    "    input_tokens = np.array([word_to_id[word] for word in input_words])\n",
    "    padded_input_tokens = keras.preprocessing.sequence.pad_sequences([input_tokens], maxlen=maxlen)\n",
    "    return padded_input_tokens\n",
    "\n",
    "def plot_text_embedding(model, text):\n",
    "    input_words = text.split()\n",
    "    input_sequence = encode_text(text)\n",
    "    \n",
    "    embeddings = model.predict(input_sequence)[0][-len(input_words):, :]\n",
    "    x_coords = embeddings[:, 0] # First latent dim\n",
    "    y_coords = embeddings[:, 1] # Second latent dim\n",
    "    plt.figure(figsize=(20, 20))\n",
    "    plt.scatter(x_coords, y_coords)\n",
    "    for i, txt in enumerate(input_words):\n",
    "        plt.annotate(txt, (x_coords[i], y_coords[i]))\n",
    "    plt.show()"
   ]
  },
  {
   "cell_type": "code",
   "execution_count": 68,
   "metadata": {},
   "outputs": [
    {
     "data": {
      "image/png": "[encoded data removed]",
      "text/plain": [
       "<Figure size 1440x1440 with 1 Axes>"
      ]
     },
     "metadata": {
      "needs_background": "light"
     },
     "output_type": "display_data"
    }
   ],
   "source": [
    "text = \"\"\"good best brilliant amazing great lovely awesome \n",
    "          bad worst awful \n",
    "          art\n",
    "          garbage gross horrible\n",
    "          sad funny \n",
    "          beautiful ugly\n",
    "               movie actor male female love\"\"\"\n",
    "plot_text_embedding(model_stub, text)"
   ]
  },
  {
   "cell_type": "code",
   "execution_count": 90,
   "metadata": {},
   "outputs": [
    {
     "name": "stdout",
     "output_type": "stream",
     "text": [
      "Train on 25000 samples, validate on 25000 samples\n",
      "Epoch 1/40\n",
      "25000/25000 [==============================] - 2s 90us/step - loss: 0.7015 - acc: 0.5063 - val_loss: 0.6943 - val_acc: 0.5191\n",
      "Epoch 2/40\n",
      "25000/25000 [==============================] - 2s 62us/step - loss: 0.6896 - acc: 0.5353 - val_loss: 0.6893 - val_acc: 0.5359\n",
      "Epoch 3/40\n",
      "25000/25000 [==============================] - 2s 61us/step - loss: 0.6816 - acc: 0.5613 - val_loss: 0.6867 - val_acc: 0.5418\n",
      "Epoch 4/40\n",
      "25000/25000 [==============================] - 2s 63us/step - loss: 0.6676 - acc: 0.5905 - val_loss: 0.6679 - val_acc: 0.5918\n",
      "Epoch 5/40\n",
      "25000/25000 [==============================] - 2s 63us/step - loss: 0.6446 - acc: 0.6296 - val_loss: 0.6485 - val_acc: 0.6208\n",
      "Epoch 6/40\n",
      "25000/25000 [==============================] - 2s 63us/step - loss: 0.6165 - acc: 0.6651 - val_loss: 0.6254 - val_acc: 0.6495\n",
      "Epoch 7/40\n",
      "25000/25000 [==============================] - 2s 62us/step - loss: 0.5852 - acc: 0.6961 - val_loss: 0.6156 - val_acc: 0.6526\n",
      "Epoch 8/40\n",
      "25000/25000 [==============================] - 2s 62us/step - loss: 0.5536 - acc: 0.7254 - val_loss: 0.5880 - val_acc: 0.6861\n",
      "Epoch 9/40\n",
      "25000/25000 [==============================] - 2s 63us/step - loss: 0.5255 - acc: 0.7476 - val_loss: 0.5654 - val_acc: 0.7066\n",
      "Epoch 10/40\n",
      "25000/25000 [==============================] - 2s 61us/step - loss: 0.4994 - acc: 0.7632 - val_loss: 0.5529 - val_acc: 0.7177\n",
      "Epoch 11/40\n",
      "25000/25000 [==============================] - 2s 65us/step - loss: 0.4769 - acc: 0.7812 - val_loss: 0.5433 - val_acc: 0.7224\n",
      "Epoch 12/40\n",
      "25000/25000 [==============================] - 2s 72us/step - loss: 0.4551 - acc: 0.7962 - val_loss: 0.5383 - val_acc: 0.7282\n",
      "Epoch 13/40\n",
      "25000/25000 [==============================] - 2s 65us/step - loss: 0.4383 - acc: 0.8042 - val_loss: 0.5271 - val_acc: 0.7369\n",
      "Epoch 14/40\n",
      "25000/25000 [==============================] - 2s 70us/step - loss: 0.4223 - acc: 0.8128 - val_loss: 0.5305 - val_acc: 0.7376\n",
      "Epoch 15/40\n",
      "25000/25000 [==============================] - 2s 67us/step - loss: 0.4085 - acc: 0.8210 - val_loss: 0.5220 - val_acc: 0.7418\n",
      "Epoch 16/40\n",
      "25000/25000 [==============================] - 2s 72us/step - loss: 0.3944 - acc: 0.8303 - val_loss: 0.5179 - val_acc: 0.7469\n",
      "Epoch 17/40\n",
      "25000/25000 [==============================] - 2s 61us/step - loss: 0.3837 - acc: 0.8352 - val_loss: 0.5217 - val_acc: 0.7466\n",
      "Epoch 18/40\n",
      "25000/25000 [==============================] - 2s 61us/step - loss: 0.3725 - acc: 0.8406 - val_loss: 0.5176 - val_acc: 0.7511\n",
      "Epoch 19/40\n",
      "25000/25000 [==============================] - 2s 68us/step - loss: 0.3626 - acc: 0.8463 - val_loss: 0.5249 - val_acc: 0.7481\n",
      "Epoch 20/40\n",
      "25000/25000 [==============================] - 2s 64us/step - loss: 0.3534 - acc: 0.8514 - val_loss: 0.5217 - val_acc: 0.7517\n",
      "Epoch 21/40\n",
      "25000/25000 [==============================] - 2s 66us/step - loss: 0.3455 - acc: 0.8563 - val_loss: 0.5260 - val_acc: 0.7534\n",
      "Epoch 22/40\n",
      "25000/25000 [==============================] - 2s 63us/step - loss: 0.3376 - acc: 0.8600 - val_loss: 0.5358 - val_acc: 0.7476\n",
      "Epoch 23/40\n",
      "25000/25000 [==============================] - 2s 61us/step - loss: 0.3298 - acc: 0.8628 - val_loss: 0.5305 - val_acc: 0.7529\n",
      "Epoch 24/40\n",
      "25000/25000 [==============================] - 2s 63us/step - loss: 0.3219 - acc: 0.8663 - val_loss: 0.5416 - val_acc: 0.7513\n",
      "Epoch 25/40\n",
      "25000/25000 [==============================] - 2s 61us/step - loss: 0.3140 - acc: 0.8719 - val_loss: 0.5390 - val_acc: 0.7543\n",
      "Epoch 26/40\n",
      "25000/25000 [==============================] - 2s 60us/step - loss: 0.3076 - acc: 0.8733 - val_loss: 0.5434 - val_acc: 0.7546\n",
      "Epoch 27/40\n",
      "25000/25000 [==============================] - 2s 61us/step - loss: 0.3013 - acc: 0.8778 - val_loss: 0.5492 - val_acc: 0.7534\n",
      "Epoch 28/40\n",
      "25000/25000 [==============================] - 2s 61us/step - loss: 0.2947 - acc: 0.8806 - val_loss: 0.5543 - val_acc: 0.7519\n",
      "Epoch 29/40\n",
      "25000/25000 [==============================] - 2s 61us/step - loss: 0.2892 - acc: 0.8836 - val_loss: 0.5583 - val_acc: 0.7524\n",
      "Epoch 30/40\n",
      "25000/25000 [==============================] - 2s 63us/step - loss: 0.2827 - acc: 0.8855 - val_loss: 0.5643 - val_acc: 0.7528\n",
      "Epoch 31/40\n",
      "25000/25000 [==============================] - 2s 77us/step - loss: 0.2769 - acc: 0.8900 - val_loss: 0.5722 - val_acc: 0.7520\n",
      "Epoch 32/40\n",
      "25000/25000 [==============================] - 2s 72us/step - loss: 0.2722 - acc: 0.8913 - val_loss: 0.5775 - val_acc: 0.7517\n",
      "Epoch 33/40\n",
      "25000/25000 [==============================] - 2s 64us/step - loss: 0.2660 - acc: 0.8950 - val_loss: 0.5849 - val_acc: 0.7530\n",
      "Epoch 34/40\n",
      "25000/25000 [==============================] - 2s 61us/step - loss: 0.2615 - acc: 0.8970 - val_loss: 0.5890 - val_acc: 0.7524\n",
      "Epoch 35/40\n",
      "25000/25000 [==============================] - 2s 62us/step - loss: 0.2569 - acc: 0.8980 - val_loss: 0.5975 - val_acc: 0.7514\n",
      "Epoch 36/40\n",
      "25000/25000 [==============================] - 2s 65us/step - loss: 0.2528 - acc: 0.9010 - val_loss: 0.6033 - val_acc: 0.7509\n",
      "Epoch 37/40\n",
      "25000/25000 [==============================] - 2s 78us/step - loss: 0.2468 - acc: 0.9044 - val_loss: 0.6098 - val_acc: 0.7511\n",
      "Epoch 38/40\n",
      "25000/25000 [==============================] - 2s 73us/step - loss: 0.2431 - acc: 0.9044 - val_loss: 0.6180 - val_acc: 0.7501\n",
      "Epoch 39/40\n",
      "25000/25000 [==============================] - 2s 65us/step - loss: 0.2380 - acc: 0.9081 - val_loss: 0.6241 - val_acc: 0.7496\n",
      "Epoch 40/40\n",
      "25000/25000 [==============================] - 2s 64us/step - loss: 0.2347 - acc: 0.9094 - val_loss: 0.6359 - val_acc: 0.7497\n",
      "Wall time: 1min 5s\n"
     ]
    }
   ],
   "source": [
    "from tensorflow.keras.layers import Embedding, Flatten, GlobalAveragePooling1D, Dense, Dropout\n",
    "\n",
    "embedding_dim = 1\n",
    "\n",
    "model = keras.Sequential()\n",
    "# Parameters: max_features * embedding_dim \n",
    "model.add(Embedding(name='embedding', input_dim=max_features, output_dim=embedding_dim, input_length=maxlen))\n",
    "\n",
    "# Output: maxlen * embedding_dim (8)\n",
    "model.add(Flatten(name='flatten'))\n",
    "\n",
    "# ALTERNATIVE\n",
    "# average of all embeddings (does not preserve sequence)\n",
    "# model.add(GlobalAveragePooling1D(name='average_pooling'))\n",
    "\n",
    "# binary classifier\n",
    "model.add(Dense(name='fc', units=32, activation='relu'))\n",
    "# model.add(Dropout(0.4))\n",
    "model.add(Dense(name='classifier', units=1, activation='sigmoid'))\n",
    "\n",
    "model.compile(optimizer='adam', loss='binary_crossentropy', metrics=['accuracy'])\n",
    "\n",
    "# model.summary()\n",
    "batch_size = 96\n",
    "\n",
    "%time history = model.fit(input_train, y_train, epochs=40, batch_size=batch_size, validation_data=(input_test, y_test))"
   ]
  },
  {
   "cell_type": "code",
   "execution_count": 92,
   "metadata": {},
   "outputs": [
    {
     "data": {
      "image/png": "[encoded data removed]",
      "text/plain": [
       "<Figure size 1440x360 with 1 Axes>"
      ]
     },
     "metadata": {
      "needs_background": "light"
     },
     "output_type": "display_data"
    }
   ],
   "source": [
    "embedding_layer = model.get_layer('embedding')\n",
    "model_stub= keras.Model(inputs=model.input, outputs=embedding_layer.output)\n",
    "\n",
    "def plot_1d_text_embedding(model, text):\n",
    "    input_words = text.split()\n",
    "    input_sequence = encode_text(text)\n",
    "    \n",
    "    embeddings = model.predict(input_sequence)[0][-len(input_words):, :]\n",
    "    plt.figure(figsize=(20, 5))\n",
    "    plt.scatter(embeddings, np.zeros(len(embeddings)))\n",
    "    for i, txt in enumerate(input_words):\n",
    "        plt.annotate(txt, (embeddings[i], 0.004), rotation=80)\n",
    "    plt.show()\n",
    "\n",
    "text = \"\"\"good best brilliant amazing great lovely awesome \n",
    "          bad worst awful \n",
    "          garbage gross horrible\n",
    "          sad funny \n",
    "          beautiful ugly\"\"\"\n",
    "plot_1d_text_embedding(model_stub, text)    "
   ]
  },
  {
   "cell_type": "code",
   "execution_count": null,
   "metadata": {},
   "outputs": [],
   "source": []
  }
 ],
 "metadata": {
  "kernelspec": {
   "display_name": "Python 3",
   "language": "python",
   "name": "python3"
  },
  "language_info": {
   "codemirror_mode": {
    "name": "ipython",
    "version": 3
   },
   "file_extension": ".py",
   "mimetype": "text/x-python",
   "name": "python",
   "nbconvert_exporter": "python",
   "pygments_lexer": "ipython3",
   "version": "3.6.7"
  }
 },
 "nbformat": 4,
 "nbformat_minor": 2
}
