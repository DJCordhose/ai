{
 "cells": [
  {
   "cell_type": "markdown",
   "metadata": {},
   "source": [
    "# Understanding Embeddings on Texts"
   ]
  },
  {
   "cell_type": "code",
   "execution_count": 1,
   "metadata": {},
   "outputs": [],
   "source": [
    "# Based on\n",
    "# https://github.com/fchollet/deep-learning-with-python-notebooks/blob/master/6.2-understanding-recurrent-neural-networks.ipynb"
   ]
  },
  {
   "cell_type": "code",
   "execution_count": 2,
   "metadata": {},
   "outputs": [],
   "source": [
    "import warnings\n",
    "warnings.filterwarnings('ignore')"
   ]
  },
  {
   "cell_type": "code",
   "execution_count": 3,
   "metadata": {},
   "outputs": [
    {
     "name": "stdout",
     "output_type": "stream",
     "text": [
      "Populating the interactive namespace from numpy and matplotlib\n"
     ]
    }
   ],
   "source": [
    "%matplotlib inline\n",
    "%pylab inline"
   ]
  },
  {
   "cell_type": "code",
   "execution_count": 4,
   "metadata": {},
   "outputs": [
    {
     "name": "stdout",
     "output_type": "stream",
     "text": [
      "1.10.0\n"
     ]
    }
   ],
   "source": [
    "import tensorflow as tf\n",
    "tf.logging.set_verbosity(tf.logging.ERROR)\n",
    "print(tf.__version__)"
   ]
  },
  {
   "cell_type": "code",
   "execution_count": 5,
   "metadata": {},
   "outputs": [],
   "source": [
    "# https://keras.io/datasets/#imdb-movie-reviews-sentiment-classification\n",
    "max_features = 1000  # number of words to consider as features\n",
    "maxlen = 20  # cut texts after this number of words (among top max_features most common words)\n",
    "\n",
    "# each review is encoded as a sequence of word indexes\n",
    "# indexed by overall frequency in the dataset\n",
    "# output is 0 (negative) or 1 (positive) \n",
    "imdb = tf.keras.datasets.imdb.load_data(num_words=max_features)\n",
    "(raw_input_train, y_train), (raw_input_test, y_test) = imdb"
   ]
  },
  {
   "cell_type": "code",
   "execution_count": 6,
   "metadata": {},
   "outputs": [],
   "source": [
    "# tf.keras.datasets.imdb.load_data?"
   ]
  },
  {
   "cell_type": "code",
   "execution_count": 7,
   "metadata": {},
   "outputs": [
    {
     "data": {
      "text/plain": [
       "0"
      ]
     },
     "execution_count": 7,
     "metadata": {},
     "output_type": "execute_result"
    }
   ],
   "source": [
    "y_train.min()"
   ]
  },
  {
   "cell_type": "code",
   "execution_count": 8,
   "metadata": {},
   "outputs": [
    {
     "data": {
      "text/plain": [
       "1"
      ]
     },
     "execution_count": 8,
     "metadata": {},
     "output_type": "execute_result"
    }
   ],
   "source": [
    "y_train.max()"
   ]
  },
  {
   "cell_type": "code",
   "execution_count": 9,
   "metadata": {},
   "outputs": [
    {
     "data": {
      "text/plain": [
       "25000"
      ]
     },
     "execution_count": 9,
     "metadata": {},
     "output_type": "execute_result"
    }
   ],
   "source": [
    "# 25000 texts\n",
    "len(raw_input_train)"
   ]
  },
  {
   "cell_type": "code",
   "execution_count": 10,
   "metadata": {},
   "outputs": [
    {
     "data": {
      "text/plain": [
       "218"
      ]
     },
     "execution_count": 10,
     "metadata": {},
     "output_type": "execute_result"
    }
   ],
   "source": [
    "# first text has 218 words\n",
    "len(raw_input_train[0])"
   ]
  },
  {
   "cell_type": "code",
   "execution_count": 11,
   "metadata": {},
   "outputs": [
    {
     "data": {
      "text/plain": [
       "[1,\n",
       " 14,\n",
       " 22,\n",
       " 16,\n",
       " 43,\n",
       " 530,\n",
       " 973,\n",
       " 2,\n",
       " 2,\n",
       " 65,\n",
       " 458,\n",
       " 2,\n",
       " 66,\n",
       " 2,\n",
       " 4,\n",
       " 173,\n",
       " 36,\n",
       " 256,\n",
       " 5,\n",
       " 25,\n",
       " 100,\n",
       " 43,\n",
       " 838,\n",
       " 112,\n",
       " 50,\n",
       " 670,\n",
       " 2,\n",
       " 9,\n",
       " 35,\n",
       " 480,\n",
       " 284,\n",
       " 5,\n",
       " 150,\n",
       " 4,\n",
       " 172,\n",
       " 112,\n",
       " 167,\n",
       " 2,\n",
       " 336,\n",
       " 385,\n",
       " 39,\n",
       " 4,\n",
       " 172,\n",
       " 2,\n",
       " 2,\n",
       " 17,\n",
       " 546,\n",
       " 38,\n",
       " 13,\n",
       " 447,\n",
       " 4,\n",
       " 192,\n",
       " 50,\n",
       " 16,\n",
       " 6,\n",
       " 147,\n",
       " 2,\n",
       " 19,\n",
       " 14,\n",
       " 22,\n",
       " 4,\n",
       " 2,\n",
       " 2,\n",
       " 469,\n",
       " 4,\n",
       " 22,\n",
       " 71,\n",
       " 87,\n",
       " 12,\n",
       " 16,\n",
       " 43,\n",
       " 530,\n",
       " 38,\n",
       " 76,\n",
       " 15,\n",
       " 13,\n",
       " 2,\n",
       " 4,\n",
       " 22,\n",
       " 17,\n",
       " 515,\n",
       " 17,\n",
       " 12,\n",
       " 16,\n",
       " 626,\n",
       " 18,\n",
       " 2,\n",
       " 5,\n",
       " 62,\n",
       " 386,\n",
       " 12,\n",
       " 8,\n",
       " 316,\n",
       " 8,\n",
       " 106,\n",
       " 5,\n",
       " 4,\n",
       " 2,\n",
       " 2,\n",
       " 16,\n",
       " 480,\n",
       " 66,\n",
       " 2,\n",
       " 33,\n",
       " 4,\n",
       " 130,\n",
       " 12,\n",
       " 16,\n",
       " 38,\n",
       " 619,\n",
       " 5,\n",
       " 25,\n",
       " 124,\n",
       " 51,\n",
       " 36,\n",
       " 135,\n",
       " 48,\n",
       " 25,\n",
       " 2,\n",
       " 33,\n",
       " 6,\n",
       " 22,\n",
       " 12,\n",
       " 215,\n",
       " 28,\n",
       " 77,\n",
       " 52,\n",
       " 5,\n",
       " 14,\n",
       " 407,\n",
       " 16,\n",
       " 82,\n",
       " 2,\n",
       " 8,\n",
       " 4,\n",
       " 107,\n",
       " 117,\n",
       " 2,\n",
       " 15,\n",
       " 256,\n",
       " 4,\n",
       " 2,\n",
       " 7,\n",
       " 2,\n",
       " 5,\n",
       " 723,\n",
       " 36,\n",
       " 71,\n",
       " 43,\n",
       " 530,\n",
       " 476,\n",
       " 26,\n",
       " 400,\n",
       " 317,\n",
       " 46,\n",
       " 7,\n",
       " 4,\n",
       " 2,\n",
       " 2,\n",
       " 13,\n",
       " 104,\n",
       " 88,\n",
       " 4,\n",
       " 381,\n",
       " 15,\n",
       " 297,\n",
       " 98,\n",
       " 32,\n",
       " 2,\n",
       " 56,\n",
       " 26,\n",
       " 141,\n",
       " 6,\n",
       " 194,\n",
       " 2,\n",
       " 18,\n",
       " 4,\n",
       " 226,\n",
       " 22,\n",
       " 21,\n",
       " 134,\n",
       " 476,\n",
       " 26,\n",
       " 480,\n",
       " 5,\n",
       " 144,\n",
       " 30,\n",
       " 2,\n",
       " 18,\n",
       " 51,\n",
       " 36,\n",
       " 28,\n",
       " 224,\n",
       " 92,\n",
       " 25,\n",
       " 104,\n",
       " 4,\n",
       " 226,\n",
       " 65,\n",
       " 16,\n",
       " 38,\n",
       " 2,\n",
       " 88,\n",
       " 12,\n",
       " 16,\n",
       " 283,\n",
       " 5,\n",
       " 16,\n",
       " 2,\n",
       " 113,\n",
       " 103,\n",
       " 32,\n",
       " 15,\n",
       " 16,\n",
       " 2,\n",
       " 19,\n",
       " 178,\n",
       " 32]"
      ]
     },
     "execution_count": 11,
     "metadata": {},
     "output_type": "execute_result"
    }
   ],
   "source": [
    "raw_input_train[0]"
   ]
  },
  {
   "cell_type": "code",
   "execution_count": 12,
   "metadata": {},
   "outputs": [],
   "source": [
    "# tf.keras.preprocessing.sequence.pad_sequences?"
   ]
  },
  {
   "cell_type": "code",
   "execution_count": 12,
   "metadata": {},
   "outputs": [],
   "source": [
    "# https://www.tensorflow.org/api_docs/python/tf/keras/preprocessing/sequence/pad_sequences\n",
    "\n",
    "input_train = tf.keras.preprocessing.sequence.pad_sequences(raw_input_train, maxlen=maxlen)\n",
    "input_test = tf.keras.preprocessing.sequence.pad_sequences(raw_input_test, maxlen=maxlen)"
   ]
  },
  {
   "cell_type": "code",
   "execution_count": 13,
   "metadata": {},
   "outputs": [
    {
     "data": {
      "text/plain": [
       "((25000, 20), (25000, 20), (25000,), (25000,))"
      ]
     },
     "execution_count": 13,
     "metadata": {},
     "output_type": "execute_result"
    }
   ],
   "source": [
    "input_train.shape, input_test.shape, y_train.shape, y_test.shape"
   ]
  },
  {
   "cell_type": "code",
   "execution_count": 14,
   "metadata": {},
   "outputs": [
    {
     "data": {
      "text/plain": [
       "array([ 65,  16,  38,   2,  88,  12,  16, 283,   5,  16,   2, 113, 103,\n",
       "        32,  15,  16,   2,  19, 178,  32])"
      ]
     },
     "execution_count": 14,
     "metadata": {},
     "output_type": "execute_result"
    }
   ],
   "source": [
    "# left padded with zeros\n",
    "# As a convention, \"0\" does not stand for a specific word, but instead is used to encode any unknown word.\n",
    "input_train[0]"
   ]
  },
  {
   "cell_type": "markdown",
   "metadata": {},
   "source": [
    "## We can use a randomly initialized embedding without any training"
   ]
  },
  {
   "cell_type": "code",
   "execution_count": 15,
   "metadata": {},
   "outputs": [],
   "source": [
    "# tf.keras.layers.Embedding?"
   ]
  },
  {
   "cell_type": "code",
   "execution_count": 16,
   "metadata": {},
   "outputs": [
    {
     "name": "stdout",
     "output_type": "stream",
     "text": [
      "_________________________________________________________________\n",
      "Layer (type)                 Output Shape              Param #   \n",
      "=================================================================\n",
      "embedding (Embedding)        (None, 20, 3)             3000      \n",
      "=================================================================\n",
      "Total params: 3,000\n",
      "Trainable params: 3,000\n",
      "Non-trainable params: 0\n",
      "_________________________________________________________________\n"
     ]
    }
   ],
   "source": [
    "embedding_dim = 2\n",
    "\n",
    "random_model = tf.keras.Sequential()\n",
    "# Parameters: max_features * embedding_dim \n",
    "random_model.add(tf.keras.layers.Embedding(name='embedding',input_dim=max_features, output_dim=embedding_dim, input_length=maxlen))\n",
    "\n",
    "random_model.summary()"
   ]
  },
  {
   "cell_type": "code",
   "execution_count": 17,
   "metadata": {},
   "outputs": [
    {
     "data": {
      "text/plain": [
       "array([[[0.5936861 , 0.77287316, 0.02072346],\n",
       "        [0.6062163 , 0.07699966, 0.47093225],\n",
       "        [0.9561682 , 0.4152248 , 0.49542224],\n",
       "        [0.30127788, 0.5647658 , 0.26295507],\n",
       "        [0.05658948, 0.9963356 , 0.6097648 ],\n",
       "        [0.65952754, 0.34018636, 0.39102137],\n",
       "        [0.6062163 , 0.07699966, 0.47093225],\n",
       "        [0.9267534 , 0.8859894 , 0.85122645],\n",
       "        [0.4188727 , 0.59827256, 0.46787512],\n",
       "        [0.6062163 , 0.07699966, 0.47093225],\n",
       "        [0.30127788, 0.5647658 , 0.26295507],\n",
       "        [0.5868968 , 0.73676896, 0.7879758 ],\n",
       "        [0.6847576 , 0.721261  , 0.529927  ],\n",
       "        [0.14753532, 0.04975915, 0.31954753],\n",
       "        [0.9042752 , 0.6088532 , 0.4106363 ],\n",
       "        [0.6062163 , 0.07699966, 0.47093225],\n",
       "        [0.30127788, 0.5647658 , 0.26295507],\n",
       "        [0.8785337 , 0.4494549 , 0.9322605 ],\n",
       "        [0.20418513, 0.8619759 , 0.3101083 ],\n",
       "        [0.14753532, 0.04975915, 0.31954753]]], dtype=float32)"
      ]
     },
     "execution_count": 17,
     "metadata": {},
     "output_type": "execute_result"
    }
   ],
   "source": [
    "random_model.predict(input_train[:1])"
   ]
  },
  {
   "cell_type": "markdown",
   "metadata": {},
   "source": [
    "### Training the embedding together with the whole model is more reasonable\n",
    "Alternative: use a pre-trained model, probably trained using skip-gram"
   ]
  },
  {
   "cell_type": "code",
   "execution_count": 19,
   "metadata": {},
   "outputs": [
    {
     "name": "stdout",
     "output_type": "stream",
     "text": [
      "_________________________________________________________________\n",
      "Layer (type)                 Output Shape              Param #   \n",
      "=================================================================\n",
      "embedding (Embedding)        (None, 20, 2)             2000      \n",
      "_________________________________________________________________\n",
      "flatten (Flatten)            (None, 40)                0         \n",
      "_________________________________________________________________\n",
      "fc (Dense)                   (None, 32)                1312      \n",
      "_________________________________________________________________\n",
      "classifier (Dense)           (None, 1)                 33        \n",
      "=================================================================\n",
      "Total params: 3,345\n",
      "Trainable params: 3,345\n",
      "Non-trainable params: 0\n",
      "_________________________________________________________________\n"
     ]
    }
   ],
   "source": [
    "embedding_dim = 2\n",
    "\n",
    "model = tf.keras.Sequential()\n",
    "# Parameters: max_features * embedding_dim \n",
    "model.add(tf.keras.layers.Embedding(name='embedding', input_dim=max_features, output_dim=embedding_dim, input_length=maxlen))\n",
    "\n",
    "# Output: maxlen * embedding_dim (8)\n",
    "model.add(tf.keras.layers.Flatten(name='flatten'))\n",
    "\n",
    "# binary classifier\n",
    "model.add(tf.keras.layers.Dense(name='fc', units=32, activation='relu'))\n",
    "model.add(tf.keras.layers.Dense(name='classifier', units=1, activation='sigmoid'))\n",
    "\n",
    "model.compile(optimizer='adam', loss='binary_crossentropy', metrics=['accuracy'])\n",
    "\n",
    "model.summary()"
   ]
  },
  {
   "cell_type": "code",
   "execution_count": 22,
   "metadata": {},
   "outputs": [
    {
     "name": "stdout",
     "output_type": "stream",
     "text": [
      "Train on 20000 samples, validate on 5000 samples\n",
      "Epoch 1/50\n",
      "20000/20000 [==============================] - 2s 82us/step - loss: 0.4736 - acc: 0.7704 - val_loss: 0.5400 - val_acc: 0.7228\n",
      "Epoch 2/50\n",
      "20000/20000 [==============================] - 2s 76us/step - loss: 0.4731 - acc: 0.7695 - val_loss: 0.5384 - val_acc: 0.7246\n",
      "Epoch 3/50\n",
      "20000/20000 [==============================] - 1s 71us/step - loss: 0.4712 - acc: 0.7715 - val_loss: 0.5399 - val_acc: 0.7228\n",
      "Epoch 4/50\n",
      "20000/20000 [==============================] - 1s 75us/step - loss: 0.4695 - acc: 0.7729 - val_loss: 0.5411 - val_acc: 0.7202\n",
      "Epoch 5/50\n",
      "20000/20000 [==============================] - 2s 87us/step - loss: 0.4689 - acc: 0.7752 - val_loss: 0.5442 - val_acc: 0.7228\n",
      "Epoch 6/50\n",
      "20000/20000 [==============================] - 2s 95us/step - loss: 0.4677 - acc: 0.7733 - val_loss: 0.5438 - val_acc: 0.7228\n",
      "Epoch 7/50\n",
      "20000/20000 [==============================] - 1s 70us/step - loss: 0.4668 - acc: 0.7736 - val_loss: 0.5424 - val_acc: 0.7222\n",
      "Epoch 8/50\n",
      "20000/20000 [==============================] - 2s 93us/step - loss: 0.4661 - acc: 0.7751 - val_loss: 0.5423 - val_acc: 0.7238\n",
      "Epoch 9/50\n",
      "20000/20000 [==============================] - 2s 88us/step - loss: 0.4651 - acc: 0.7764 - val_loss: 0.5409 - val_acc: 0.7224\n",
      "Epoch 10/50\n",
      "20000/20000 [==============================] - 2s 96us/step - loss: 0.4641 - acc: 0.7765 - val_loss: 0.5407 - val_acc: 0.7236\n",
      "Epoch 11/50\n",
      "20000/20000 [==============================] - 2s 85us/step - loss: 0.4630 - acc: 0.7790 - val_loss: 0.5495 - val_acc: 0.7208\n",
      "Epoch 12/50\n",
      "20000/20000 [==============================] - 2s 82us/step - loss: 0.4618 - acc: 0.7779 - val_loss: 0.5424 - val_acc: 0.7246\n",
      "Epoch 13/50\n",
      "20000/20000 [==============================] - 1s 73us/step - loss: 0.4612 - acc: 0.7766 - val_loss: 0.5424 - val_acc: 0.7258\n",
      "Epoch 14/50\n",
      "20000/20000 [==============================] - 1s 65us/step - loss: 0.4598 - acc: 0.7788 - val_loss: 0.5433 - val_acc: 0.7248\n",
      "Epoch 15/50\n",
      "20000/20000 [==============================] - 1s 63us/step - loss: 0.4594 - acc: 0.7802 - val_loss: 0.5432 - val_acc: 0.7248\n",
      "Epoch 16/50\n",
      "20000/20000 [==============================] - 1s 62us/step - loss: 0.4588 - acc: 0.7782 - val_loss: 0.5435 - val_acc: 0.7242\n",
      "Epoch 17/50\n",
      "20000/20000 [==============================] - 1s 68us/step - loss: 0.4583 - acc: 0.7793 - val_loss: 0.5449 - val_acc: 0.7244\n",
      "Epoch 18/50\n",
      "20000/20000 [==============================] - 1s 68us/step - loss: 0.4573 - acc: 0.7800 - val_loss: 0.5460 - val_acc: 0.7240\n",
      "Epoch 19/50\n",
      "20000/20000 [==============================] - 1s 70us/step - loss: 0.4558 - acc: 0.7808 - val_loss: 0.5463 - val_acc: 0.7244\n",
      "Epoch 20/50\n",
      "20000/20000 [==============================] - 1s 70us/step - loss: 0.4549 - acc: 0.7828 - val_loss: 0.5477 - val_acc: 0.7240\n",
      "Epoch 21/50\n",
      "20000/20000 [==============================] - 1s 66us/step - loss: 0.4552 - acc: 0.7819 - val_loss: 0.5481 - val_acc: 0.7222\n",
      "Epoch 22/50\n",
      "20000/20000 [==============================] - 1s 66us/step - loss: 0.4538 - acc: 0.7826 - val_loss: 0.5522 - val_acc: 0.7190\n",
      "Epoch 23/50\n",
      "20000/20000 [==============================] - 1s 72us/step - loss: 0.4525 - acc: 0.7815 - val_loss: 0.5491 - val_acc: 0.7214\n",
      "Epoch 24/50\n",
      "20000/20000 [==============================] - 1s 66us/step - loss: 0.4511 - acc: 0.7832 - val_loss: 0.5528 - val_acc: 0.7200\n",
      "Epoch 25/50\n",
      "20000/20000 [==============================] - 2s 79us/step - loss: 0.4503 - acc: 0.7826 - val_loss: 0.5502 - val_acc: 0.7246\n",
      "Epoch 26/50\n",
      "20000/20000 [==============================] - 1s 68us/step - loss: 0.4508 - acc: 0.7818 - val_loss: 0.5510 - val_acc: 0.7234\n",
      "Epoch 27/50\n",
      "20000/20000 [==============================] - 1s 66us/step - loss: 0.4492 - acc: 0.7843 - val_loss: 0.5516 - val_acc: 0.7238\n",
      "Epoch 28/50\n",
      "20000/20000 [==============================] - 1s 70us/step - loss: 0.4487 - acc: 0.7844 - val_loss: 0.5522 - val_acc: 0.7256\n",
      "Epoch 29/50\n",
      "20000/20000 [==============================] - 1s 69us/step - loss: 0.4478 - acc: 0.7856 - val_loss: 0.5570 - val_acc: 0.7206\n",
      "Epoch 30/50\n",
      "20000/20000 [==============================] - 1s 74us/step - loss: 0.4469 - acc: 0.7859 - val_loss: 0.5578 - val_acc: 0.7218\n",
      "Epoch 31/50\n",
      "20000/20000 [==============================] - 1s 66us/step - loss: 0.4462 - acc: 0.7854 - val_loss: 0.5553 - val_acc: 0.7228\n",
      "Epoch 32/50\n",
      "20000/20000 [==============================] - 1s 66us/step - loss: 0.4456 - acc: 0.7852 - val_loss: 0.5564 - val_acc: 0.7240\n",
      "Epoch 33/50\n",
      "20000/20000 [==============================] - 1s 69us/step - loss: 0.4458 - acc: 0.7861 - val_loss: 0.5569 - val_acc: 0.7212\n",
      "Epoch 34/50\n",
      "20000/20000 [==============================] - 1s 68us/step - loss: 0.4441 - acc: 0.7863 - val_loss: 0.5557 - val_acc: 0.7226\n",
      "Epoch 35/50\n",
      "20000/20000 [==============================] - 1s 71us/step - loss: 0.4448 - acc: 0.7854 - val_loss: 0.5596 - val_acc: 0.7220\n",
      "Epoch 36/50\n",
      "20000/20000 [==============================] - 1s 71us/step - loss: 0.4425 - acc: 0.7866 - val_loss: 0.5585 - val_acc: 0.7230\n",
      "Epoch 37/50\n",
      "20000/20000 [==============================] - 1s 60us/step - loss: 0.4416 - acc: 0.7871 - val_loss: 0.5599 - val_acc: 0.7218\n",
      "Epoch 38/50\n",
      "20000/20000 [==============================] - 1s 66us/step - loss: 0.4414 - acc: 0.7872 - val_loss: 0.5618 - val_acc: 0.7222\n",
      "Epoch 39/50\n",
      "20000/20000 [==============================] - 1s 61us/step - loss: 0.4402 - acc: 0.7887 - val_loss: 0.5628 - val_acc: 0.7224\n",
      "Epoch 40/50\n",
      "20000/20000 [==============================] - 1s 74us/step - loss: 0.4400 - acc: 0.7892 - val_loss: 0.5628 - val_acc: 0.7218\n",
      "Epoch 41/50\n",
      "20000/20000 [==============================] - 1s 64us/step - loss: 0.4391 - acc: 0.7904 - val_loss: 0.5685 - val_acc: 0.7214\n",
      "Epoch 42/50\n",
      "20000/20000 [==============================] - 1s 71us/step - loss: 0.4374 - acc: 0.7910 - val_loss: 0.5627 - val_acc: 0.7232\n",
      "Epoch 43/50\n",
      "20000/20000 [==============================] - 1s 75us/step - loss: 0.4381 - acc: 0.7908 - val_loss: 0.5669 - val_acc: 0.7222\n",
      "Epoch 44/50\n",
      "20000/20000 [==============================] - 1s 62us/step - loss: 0.4377 - acc: 0.7878 - val_loss: 0.5765 - val_acc: 0.7218\n",
      "Epoch 45/50\n",
      "20000/20000 [==============================] - 1s 63us/step - loss: 0.4360 - acc: 0.7903 - val_loss: 0.5643 - val_acc: 0.7234\n",
      "Epoch 46/50\n",
      "20000/20000 [==============================] - 1s 72us/step - loss: 0.4361 - acc: 0.7907 - val_loss: 0.5705 - val_acc: 0.7204\n",
      "Epoch 47/50\n",
      "20000/20000 [==============================] - 1s 55us/step - loss: 0.4343 - acc: 0.7913 - val_loss: 0.5716 - val_acc: 0.7226\n",
      "Epoch 48/50\n",
      "20000/20000 [==============================] - 1s 73us/step - loss: 0.4336 - acc: 0.7919 - val_loss: 0.5787 - val_acc: 0.7194\n",
      "Epoch 49/50\n",
      "20000/20000 [==============================] - 1s 57us/step - loss: 0.4337 - acc: 0.7928 - val_loss: 0.5707 - val_acc: 0.7194\n",
      "Epoch 50/50\n",
      "20000/20000 [==============================] - 1s 57us/step - loss: 0.4333 - acc: 0.7915 - val_loss: 0.5718 - val_acc: 0.7238\n",
      "Wall time: 1min 11s\n"
     ]
    }
   ],
   "source": [
    "batch_size = 128\n",
    "\n",
    "%time history = model.fit(input_train, y_train, epochs=50, batch_size=batch_size, validation_split=0.2)"
   ]
  },
  {
   "cell_type": "code",
   "execution_count": 36,
   "metadata": {},
   "outputs": [
    {
     "data": {
      "image/png": "[encoded data removed]",
      "text/plain": [
       "<Figure size 1440x360 with 1 Axes>"
      ]
     },
     "metadata": {
      "needs_background": "light"
     },
     "output_type": "display_data"
    }
   ],
   "source": [
    "import pandas as pd\n",
    "\n",
    "def plot_history(history, samples=10, init_phase_samples=None):\n",
    "    epochs = history.params['epochs']\n",
    "    \n",
    "    acc = history.history['acc']\n",
    "    val_acc = history.history['val_acc']\n",
    "\n",
    "    every_sample =  int(epochs / samples)\n",
    "    acc = pd.DataFrame(acc).iloc[::every_sample, :]\n",
    "    val_acc = pd.DataFrame(val_acc).iloc[::every_sample, :]\n",
    "\n",
    "    fig, ax = plt.subplots(figsize=(20,5))\n",
    "\n",
    "    ax.plot(acc, 'bo', label='Training acc')\n",
    "    ax.plot(val_acc, 'b', label='Validation acc')\n",
    "    ax.set_title('Training and validation accuracy')\n",
    "    ax.legend()\n",
    "\n",
    "plot_history(history)"
   ]
  },
  {
   "cell_type": "code",
   "execution_count": 23,
   "metadata": {},
   "outputs": [
    {
     "name": "stdout",
     "output_type": "stream",
     "text": [
      "25000/25000 [==============================] - 1s 28us/step\n"
     ]
    },
    {
     "data": {
      "text/plain": [
       "0.780119999961853"
      ]
     },
     "execution_count": 23,
     "metadata": {},
     "output_type": "execute_result"
    }
   ],
   "source": [
    "train_loss, train_accuracy = model.evaluate(input_train, y_train, batch_size=batch_size)\n",
    "train_accuracy"
   ]
  },
  {
   "cell_type": "code",
   "execution_count": 24,
   "metadata": {},
   "outputs": [
    {
     "name": "stdout",
     "output_type": "stream",
     "text": [
      "25000/25000 [==============================] - 1s 21us/step\n"
     ]
    },
    {
     "data": {
      "text/plain": [
       "0.7199200000190735"
      ]
     },
     "execution_count": 24,
     "metadata": {},
     "output_type": "execute_result"
    }
   ],
   "source": [
    "test_loss, test_accuracy = model.evaluate(input_test, y_test, batch_size=batch_size)\n",
    "test_accuracy"
   ]
  },
  {
   "cell_type": "code",
   "execution_count": 25,
   "metadata": {},
   "outputs": [
    {
     "data": {
      "text/plain": [
       "array([[0.4178122 ],\n",
       "       [0.7546584 ],\n",
       "       [0.08093119],\n",
       "       [0.6011621 ],\n",
       "       [0.99955887]], dtype=float32)"
      ]
     },
     "execution_count": 25,
     "metadata": {},
     "output_type": "execute_result"
    }
   ],
   "source": [
    "# precition\n",
    "model.predict(input_test[0:5])"
   ]
  },
  {
   "cell_type": "code",
   "execution_count": 26,
   "metadata": {},
   "outputs": [
    {
     "data": {
      "text/plain": [
       "array([0, 1, 1, 0, 1], dtype=int64)"
      ]
     },
     "execution_count": 26,
     "metadata": {},
     "output_type": "execute_result"
    }
   ],
   "source": [
    "# ground truth\n",
    "y_test[0:5]"
   ]
  },
  {
   "cell_type": "markdown",
   "metadata": {},
   "source": [
    "### How does the output of the trained embedding look like? "
   ]
  },
  {
   "cell_type": "code",
   "execution_count": 27,
   "metadata": {},
   "outputs": [],
   "source": [
    "embedding_layer = model.get_layer('embedding')"
   ]
  },
  {
   "cell_type": "code",
   "execution_count": 28,
   "metadata": {},
   "outputs": [],
   "source": [
    "model_stub= tf.keras.Model(inputs=model.input, outputs=embedding_layer.output)"
   ]
  },
  {
   "cell_type": "code",
   "execution_count": 29,
   "metadata": {},
   "outputs": [],
   "source": [
    "embedding_prediction = model_stub.predict(input_test[0:5])"
   ]
  },
  {
   "cell_type": "code",
   "execution_count": 30,
   "metadata": {},
   "outputs": [
    {
     "data": {
      "text/plain": [
       "(5, 20, 2)"
      ]
     },
     "execution_count": 30,
     "metadata": {},
     "output_type": "execute_result"
    }
   ],
   "source": [
    "# 5 sample reviews, 500 words per review, 8 dimensions per word\n",
    "embedding_prediction.shape"
   ]
  },
  {
   "cell_type": "code",
   "execution_count": 31,
   "metadata": {},
   "outputs": [
    {
     "data": {
      "text/plain": [
       "array([0.34398577, 1.2706754 ], dtype=float32)"
      ]
     },
     "execution_count": 31,
     "metadata": {},
     "output_type": "execute_result"
    }
   ],
   "source": [
    "# 8 embedding dimensions of first word of first sample review\n",
    "embedding_prediction[0][0]"
   ]
  },
  {
   "cell_type": "markdown",
   "metadata": {},
   "source": [
    "### Comparing trained to untrained model"
   ]
  },
  {
   "cell_type": "code",
   "execution_count": 32,
   "metadata": {},
   "outputs": [
    {
     "data": {
      "text/plain": [
       "array([ 65,  16,  38,   2,  88,  12,  16, 283,   5,  16,   2, 113, 103,\n",
       "        32,  15,  16,   2,  19, 178,  32])"
      ]
     },
     "execution_count": 32,
     "metadata": {},
     "output_type": "execute_result"
    }
   ],
   "source": [
    "input_train[0]"
   ]
  },
  {
   "cell_type": "code",
   "execution_count": 33,
   "metadata": {},
   "outputs": [
    {
     "data": {
      "text/plain": [
       "array([[[0.46705735, 0.27016178],\n",
       "        [0.2602645 , 0.37189814],\n",
       "        [0.4597462 , 0.4190455 ],\n",
       "        [0.4966503 , 0.4869977 ],\n",
       "        [0.2184457 , 0.47358653],\n",
       "        [0.6243387 , 0.41245297],\n",
       "        [0.2602645 , 0.37189814],\n",
       "        [0.5351182 , 0.04236972],\n",
       "        [0.485593  , 0.19996975],\n",
       "        [0.2602645 , 0.37189814],\n",
       "        [0.4966503 , 0.4869977 ],\n",
       "        [0.6562382 , 0.41497004],\n",
       "        [0.69112915, 0.5127459 ],\n",
       "        [0.70034343, 0.52249765],\n",
       "        [0.67163855, 0.7169122 ],\n",
       "        [0.2602645 , 0.37189814],\n",
       "        [0.4966503 , 0.4869977 ],\n",
       "        [0.6260364 , 0.5533504 ],\n",
       "        [0.57491267, 0.28364214],\n",
       "        [0.70034343, 0.52249765]]], dtype=float32)"
      ]
     },
     "execution_count": 33,
     "metadata": {},
     "output_type": "execute_result"
    }
   ],
   "source": [
    "model_stub.predict(input_train[:1])"
   ]
  },
  {
   "cell_type": "code",
   "execution_count": 34,
   "metadata": {},
   "outputs": [
    {
     "data": {
      "text/plain": [
       "array([[[0.5936861 , 0.77287316, 0.02072346],\n",
       "        [0.6062163 , 0.07699966, 0.47093225],\n",
       "        [0.9561682 , 0.4152248 , 0.49542224],\n",
       "        [0.30127788, 0.5647658 , 0.26295507],\n",
       "        [0.05658948, 0.9963356 , 0.6097648 ],\n",
       "        [0.65952754, 0.34018636, 0.39102137],\n",
       "        [0.6062163 , 0.07699966, 0.47093225],\n",
       "        [0.9267534 , 0.8859894 , 0.85122645],\n",
       "        [0.4188727 , 0.59827256, 0.46787512],\n",
       "        [0.6062163 , 0.07699966, 0.47093225],\n",
       "        [0.30127788, 0.5647658 , 0.26295507],\n",
       "        [0.5868968 , 0.73676896, 0.7879758 ],\n",
       "        [0.6847576 , 0.721261  , 0.529927  ],\n",
       "        [0.14753532, 0.04975915, 0.31954753],\n",
       "        [0.9042752 , 0.6088532 , 0.4106363 ],\n",
       "        [0.6062163 , 0.07699966, 0.47093225],\n",
       "        [0.30127788, 0.5647658 , 0.26295507],\n",
       "        [0.8785337 , 0.4494549 , 0.9322605 ],\n",
       "        [0.20418513, 0.8619759 , 0.3101083 ],\n",
       "        [0.14753532, 0.04975915, 0.31954753]]], dtype=float32)"
      ]
     },
     "execution_count": 34,
     "metadata": {},
     "output_type": "execute_result"
    }
   ],
   "source": [
    "random_model.predict(input_train[:1])"
   ]
  },
  {
   "cell_type": "code",
   "execution_count": null,
   "metadata": {},
   "outputs": [],
   "source": []
  },
  {
   "cell_type": "code",
   "execution_count": null,
   "metadata": {},
   "outputs": [],
   "source": []
  }
 ],
 "metadata": {
  "kernelspec": {
   "display_name": "Python 3",
   "language": "python",
   "name": "python3"
  },
  "language_info": {
   "codemirror_mode": {
    "name": "ipython",
    "version": 3
   },
   "file_extension": ".py",
   "mimetype": "text/x-python",
   "name": "python",
   "nbconvert_exporter": "python",
   "pygments_lexer": "ipython3",
   "version": "3.6.7"
  }
 },
 "nbformat": 4,
 "nbformat_minor": 2
}
