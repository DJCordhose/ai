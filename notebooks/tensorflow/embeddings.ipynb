{
  "nbformat": 4,
  "nbformat_minor": 0,
  "metadata": {
    "colab": {
      "name": "embeddings.ipynb",
      "version": "0.3.2",
      "provenance": [],
      "include_colab_link": true
    },
    "kernelspec": {
      "name": "python3",
      "display_name": "Python 3"
    }
  },
  "cells": [
    {
      "cell_type": "markdown",
      "metadata": {
        "id": "view-in-github",
        "colab_type": "text"
      },
      "source": [
        "<a href=\"https://colab.research.google.com/github/DJCordhose/ai/blob/master/notebooks/tensorflow/embeddings.ipynb\" target=\"_parent\"><img src=\"https://colab.research.google.com/assets/colab-badge.svg\" alt=\"Open In Colab\"/></a>"
      ]
    },
    {
      "metadata": {
        "id": "SkAiuN3hajER",
        "colab_type": "text"
      },
      "cell_type": "markdown",
      "source": [
        "# Understanding Embeddings on Texts"
      ]
    },
    {
      "metadata": {
        "id": "4OxpuR3pajET",
        "colab_type": "code",
        "colab": {}
      },
      "cell_type": "code",
      "source": [
        "# Based on\n",
        "# https://github.com/fchollet/deep-learning-with-python-notebooks/blob/master/6.2-understanding-recurrent-neural-networks.ipynb"
      ],
      "execution_count": 0,
      "outputs": []
    },
    {
      "metadata": {
        "id": "6ZSuL5-GajEX",
        "colab_type": "code",
        "colab": {}
      },
      "cell_type": "code",
      "source": [
        "import warnings\n",
        "warnings.filterwarnings('ignore')"
      ],
      "execution_count": 0,
      "outputs": []
    },
    {
      "metadata": {
        "id": "czsV0U0kajEa",
        "colab_type": "code",
        "colab": {
          "base_uri": "https://localhost:8080/",
          "height": 34
        },
        "outputId": "48ce79db-9176-4ada-b517-0ec64f2d73ab"
      },
      "cell_type": "code",
      "source": [
        "%matplotlib inline\n",
        "%pylab inline"
      ],
      "execution_count": 32,
      "outputs": [
        {
          "output_type": "stream",
          "text": [
            "Populating the interactive namespace from numpy and matplotlib\n"
          ],
          "name": "stdout"
        }
      ]
    },
    {
      "metadata": {
        "id": "nIIBO3n0ajEf",
        "colab_type": "code",
        "colab": {
          "base_uri": "https://localhost:8080/",
          "height": 34
        },
        "outputId": "00a5cd6d-57e0-43ac-dab7-c52852bc564e"
      },
      "cell_type": "code",
      "source": [
        "import tensorflow as tf\n",
        "tf.logging.set_verbosity(tf.logging.ERROR)\n",
        "print(tf.__version__)"
      ],
      "execution_count": 33,
      "outputs": [
        {
          "output_type": "stream",
          "text": [
            "1.12.0\n"
          ],
          "name": "stdout"
        }
      ]
    },
    {
      "metadata": {
        "id": "-9wwAk7OajEl",
        "colab_type": "code",
        "colab": {}
      },
      "cell_type": "code",
      "source": [
        "from tensorflow import keras\n",
        "\n",
        "# https://keras.io/datasets/#imdb-movie-reviews-sentiment-classification\n",
        "max_features = 10000  # number of words to consider as features\n",
        "maxlen = 50  # cut texts after this number of words (among top max_features most common words)\n",
        "\n",
        "# each review is encoded as a sequence of word indexes\n",
        "# indexed by overall frequency in the dataset\n",
        "# output is 0 (negative) or 1 (positive) \n",
        "imdb = keras.datasets.imdb.load_data(num_words=max_features)\n",
        "(raw_input_train, y_train), (raw_input_test, y_test) = imdb"
      ],
      "execution_count": 0,
      "outputs": []
    },
    {
      "metadata": {
        "id": "Jm7fxQX7ajEn",
        "colab_type": "code",
        "colab": {}
      },
      "cell_type": "code",
      "source": [
        "# tf.keras.datasets.imdb.load_data?"
      ],
      "execution_count": 0,
      "outputs": []
    },
    {
      "metadata": {
        "id": "Kh_KCJkYajEq",
        "colab_type": "code",
        "colab": {
          "base_uri": "https://localhost:8080/",
          "height": 34
        },
        "outputId": "55bfdd8b-e909-48b5-c90a-f569190e3756"
      },
      "cell_type": "code",
      "source": [
        "y_train.min()"
      ],
      "execution_count": 36,
      "outputs": [
        {
          "output_type": "execute_result",
          "data": {
            "text/plain": [
              "0"
            ]
          },
          "metadata": {
            "tags": []
          },
          "execution_count": 36
        }
      ]
    },
    {
      "metadata": {
        "id": "tp1pCD2XajEu",
        "colab_type": "code",
        "colab": {
          "base_uri": "https://localhost:8080/",
          "height": 34
        },
        "outputId": "9c332bd4-6cc5-4a62-e373-0fe4baa6fd08"
      },
      "cell_type": "code",
      "source": [
        "y_train.max()"
      ],
      "execution_count": 37,
      "outputs": [
        {
          "output_type": "execute_result",
          "data": {
            "text/plain": [
              "1"
            ]
          },
          "metadata": {
            "tags": []
          },
          "execution_count": 37
        }
      ]
    },
    {
      "metadata": {
        "id": "5LDbe2kdajEy",
        "colab_type": "code",
        "colab": {
          "base_uri": "https://localhost:8080/",
          "height": 34
        },
        "outputId": "6f09d1ef-914d-4ac0-9bd4-b770cb7dae95"
      },
      "cell_type": "code",
      "source": [
        "# 25000 texts\n",
        "len(raw_input_train)"
      ],
      "execution_count": 38,
      "outputs": [
        {
          "output_type": "execute_result",
          "data": {
            "text/plain": [
              "25000"
            ]
          },
          "metadata": {
            "tags": []
          },
          "execution_count": 38
        }
      ]
    },
    {
      "metadata": {
        "id": "quDsr-nMajE5",
        "colab_type": "code",
        "colab": {
          "base_uri": "https://localhost:8080/",
          "height": 34
        },
        "outputId": "2083d714-68a9-4d88-e955-2d8cc56894f9"
      },
      "cell_type": "code",
      "source": [
        "# first text has 218 words\n",
        "len(raw_input_train[0])"
      ],
      "execution_count": 39,
      "outputs": [
        {
          "output_type": "execute_result",
          "data": {
            "text/plain": [
              "218"
            ]
          },
          "metadata": {
            "tags": []
          },
          "execution_count": 39
        }
      ]
    },
    {
      "metadata": {
        "id": "ytIcrfhzajFB",
        "colab_type": "code",
        "colab": {
          "base_uri": "https://localhost:8080/",
          "height": 3723
        },
        "outputId": "4a3a32b3-fbd2-4932-8d77-d40c9aa3f98f"
      },
      "cell_type": "code",
      "source": [
        "raw_input_train[0]"
      ],
      "execution_count": 40,
      "outputs": [
        {
          "output_type": "execute_result",
          "data": {
            "text/plain": [
              "[1,\n",
              " 14,\n",
              " 22,\n",
              " 16,\n",
              " 43,\n",
              " 530,\n",
              " 973,\n",
              " 1622,\n",
              " 1385,\n",
              " 65,\n",
              " 458,\n",
              " 4468,\n",
              " 66,\n",
              " 3941,\n",
              " 4,\n",
              " 173,\n",
              " 36,\n",
              " 256,\n",
              " 5,\n",
              " 25,\n",
              " 100,\n",
              " 43,\n",
              " 838,\n",
              " 112,\n",
              " 50,\n",
              " 670,\n",
              " 2,\n",
              " 9,\n",
              " 35,\n",
              " 480,\n",
              " 284,\n",
              " 5,\n",
              " 150,\n",
              " 4,\n",
              " 172,\n",
              " 112,\n",
              " 167,\n",
              " 2,\n",
              " 336,\n",
              " 385,\n",
              " 39,\n",
              " 4,\n",
              " 172,\n",
              " 4536,\n",
              " 1111,\n",
              " 17,\n",
              " 546,\n",
              " 38,\n",
              " 13,\n",
              " 447,\n",
              " 4,\n",
              " 192,\n",
              " 50,\n",
              " 16,\n",
              " 6,\n",
              " 147,\n",
              " 2025,\n",
              " 19,\n",
              " 14,\n",
              " 22,\n",
              " 4,\n",
              " 1920,\n",
              " 4613,\n",
              " 469,\n",
              " 4,\n",
              " 22,\n",
              " 71,\n",
              " 87,\n",
              " 12,\n",
              " 16,\n",
              " 43,\n",
              " 530,\n",
              " 38,\n",
              " 76,\n",
              " 15,\n",
              " 13,\n",
              " 1247,\n",
              " 4,\n",
              " 22,\n",
              " 17,\n",
              " 515,\n",
              " 17,\n",
              " 12,\n",
              " 16,\n",
              " 626,\n",
              " 18,\n",
              " 2,\n",
              " 5,\n",
              " 62,\n",
              " 386,\n",
              " 12,\n",
              " 8,\n",
              " 316,\n",
              " 8,\n",
              " 106,\n",
              " 5,\n",
              " 4,\n",
              " 2223,\n",
              " 5244,\n",
              " 16,\n",
              " 480,\n",
              " 66,\n",
              " 3785,\n",
              " 33,\n",
              " 4,\n",
              " 130,\n",
              " 12,\n",
              " 16,\n",
              " 38,\n",
              " 619,\n",
              " 5,\n",
              " 25,\n",
              " 124,\n",
              " 51,\n",
              " 36,\n",
              " 135,\n",
              " 48,\n",
              " 25,\n",
              " 1415,\n",
              " 33,\n",
              " 6,\n",
              " 22,\n",
              " 12,\n",
              " 215,\n",
              " 28,\n",
              " 77,\n",
              " 52,\n",
              " 5,\n",
              " 14,\n",
              " 407,\n",
              " 16,\n",
              " 82,\n",
              " 2,\n",
              " 8,\n",
              " 4,\n",
              " 107,\n",
              " 117,\n",
              " 5952,\n",
              " 15,\n",
              " 256,\n",
              " 4,\n",
              " 2,\n",
              " 7,\n",
              " 3766,\n",
              " 5,\n",
              " 723,\n",
              " 36,\n",
              " 71,\n",
              " 43,\n",
              " 530,\n",
              " 476,\n",
              " 26,\n",
              " 400,\n",
              " 317,\n",
              " 46,\n",
              " 7,\n",
              " 4,\n",
              " 2,\n",
              " 1029,\n",
              " 13,\n",
              " 104,\n",
              " 88,\n",
              " 4,\n",
              " 381,\n",
              " 15,\n",
              " 297,\n",
              " 98,\n",
              " 32,\n",
              " 2071,\n",
              " 56,\n",
              " 26,\n",
              " 141,\n",
              " 6,\n",
              " 194,\n",
              " 7486,\n",
              " 18,\n",
              " 4,\n",
              " 226,\n",
              " 22,\n",
              " 21,\n",
              " 134,\n",
              " 476,\n",
              " 26,\n",
              " 480,\n",
              " 5,\n",
              " 144,\n",
              " 30,\n",
              " 5535,\n",
              " 18,\n",
              " 51,\n",
              " 36,\n",
              " 28,\n",
              " 224,\n",
              " 92,\n",
              " 25,\n",
              " 104,\n",
              " 4,\n",
              " 226,\n",
              " 65,\n",
              " 16,\n",
              " 38,\n",
              " 1334,\n",
              " 88,\n",
              " 12,\n",
              " 16,\n",
              " 283,\n",
              " 5,\n",
              " 16,\n",
              " 4472,\n",
              " 113,\n",
              " 103,\n",
              " 32,\n",
              " 15,\n",
              " 16,\n",
              " 5345,\n",
              " 19,\n",
              " 178,\n",
              " 32]"
            ]
          },
          "metadata": {
            "tags": []
          },
          "execution_count": 40
        }
      ]
    },
    {
      "metadata": {
        "id": "gfubTi3bajFK",
        "colab_type": "code",
        "colab": {}
      },
      "cell_type": "code",
      "source": [
        "# tf.keras.preprocessing.sequence.pad_sequences?"
      ],
      "execution_count": 0,
      "outputs": []
    },
    {
      "metadata": {
        "id": "ieHN18tiajFN",
        "colab_type": "code",
        "colab": {}
      },
      "cell_type": "code",
      "source": [
        "# https://www.tensorflow.org/api_docs/python/tf/keras/preprocessing/sequence/pad_sequences\n",
        "\n",
        "input_train = keras.preprocessing.sequence.pad_sequences(raw_input_train, maxlen=maxlen)\n",
        "input_test = keras.preprocessing.sequence.pad_sequences(raw_input_test, maxlen=maxlen)"
      ],
      "execution_count": 0,
      "outputs": []
    },
    {
      "metadata": {
        "id": "XRzdo18DajFR",
        "colab_type": "code",
        "colab": {
          "base_uri": "https://localhost:8080/",
          "height": 34
        },
        "outputId": "4047a09a-90d2-499f-e037-9493802a348f"
      },
      "cell_type": "code",
      "source": [
        "input_train.shape, input_test.shape, y_train.shape, y_test.shape"
      ],
      "execution_count": 43,
      "outputs": [
        {
          "output_type": "execute_result",
          "data": {
            "text/plain": [
              "((25000, 50), (25000, 50), (25000,), (25000,))"
            ]
          },
          "metadata": {
            "tags": []
          },
          "execution_count": 43
        }
      ]
    },
    {
      "metadata": {
        "id": "H7ONbMCZajFZ",
        "colab_type": "code",
        "colab": {
          "base_uri": "https://localhost:8080/",
          "height": 102
        },
        "outputId": "b46ca183-64af-4191-87e7-570e97ed3531"
      },
      "cell_type": "code",
      "source": [
        "# left padded with zeros\n",
        "# As a convention, \"0\" does not stand for a specific word, but instead is used to encode any unknown word.\n",
        "input_train[0]"
      ],
      "execution_count": 44,
      "outputs": [
        {
          "output_type": "execute_result",
          "data": {
            "text/plain": [
              "array([2071,   56,   26,  141,    6,  194, 7486,   18,    4,  226,   22,\n",
              "         21,  134,  476,   26,  480,    5,  144,   30, 5535,   18,   51,\n",
              "         36,   28,  224,   92,   25,  104,    4,  226,   65,   16,   38,\n",
              "       1334,   88,   12,   16,  283,    5,   16, 4472,  113,  103,   32,\n",
              "         15,   16, 5345,   19,  178,   32], dtype=int32)"
            ]
          },
          "metadata": {
            "tags": []
          },
          "execution_count": 44
        }
      ]
    },
    {
      "metadata": {
        "id": "WLp3ByceajFe",
        "colab_type": "text"
      },
      "cell_type": "markdown",
      "source": [
        "### Training the embedding together with the whole model is more reasonable\n",
        "Alternative: use a pre-trained model, probably trained using skip-gram"
      ]
    },
    {
      "metadata": {
        "id": "6PJ4VLyFajFf",
        "colab_type": "code",
        "colab": {}
      },
      "cell_type": "code",
      "source": [
        "# tf.keras.layers.Embedding?"
      ],
      "execution_count": 0,
      "outputs": []
    },
    {
      "metadata": {
        "id": "d1P55QUyajFk",
        "colab_type": "code",
        "colab": {
          "base_uri": "https://localhost:8080/",
          "height": 238
        },
        "outputId": "d85d905c-c61f-4755-daf7-bec34efd7d11"
      },
      "cell_type": "code",
      "source": [
        "from tensorflow.keras.layers import Embedding, Flatten, GlobalAveragePooling1D, Dense, Dropout\n",
        "\n",
        "embedding_dim = 2\n",
        "\n",
        "model = keras.Sequential()\n",
        "# Parameters: max_features * embedding_dim \n",
        "model.add(Embedding(name='embedding', input_dim=max_features, output_dim=embedding_dim, input_length=maxlen))\n",
        "\n",
        "# Output: maxlen * embedding_dim (8)\n",
        "model.add(Flatten(name='flatten'))\n",
        "\n",
        "# ALTERNATIVE\n",
        "# average of all embeddings (does not preserve sequence)\n",
        "# model.add(GlobalAveragePooling1D(name='average_pooling'))\n",
        "\n",
        "# binary classifier\n",
        "# model.add(Dense(name='fc', units=32, activation='relu'))\n",
        "# model.add(Dropout(0.4))\n",
        "model.add(Dense(name='classifier', units=1, activation='sigmoid'))\n",
        "\n",
        "model.compile(optimizer='adam', loss='binary_crossentropy', metrics=['accuracy'])\n",
        "\n",
        "model.summary()"
      ],
      "execution_count": 46,
      "outputs": [
        {
          "output_type": "stream",
          "text": [
            "_________________________________________________________________\n",
            "Layer (type)                 Output Shape              Param #   \n",
            "=================================================================\n",
            "embedding (Embedding)        (None, 50, 2)             20000     \n",
            "_________________________________________________________________\n",
            "flatten (Flatten)            (None, 100)               0         \n",
            "_________________________________________________________________\n",
            "classifier (Dense)           (None, 1)                 101       \n",
            "=================================================================\n",
            "Total params: 20,101\n",
            "Trainable params: 20,101\n",
            "Non-trainable params: 0\n",
            "_________________________________________________________________\n"
          ],
          "name": "stdout"
        }
      ]
    },
    {
      "metadata": {
        "id": "g0_GMjHFajFu",
        "colab_type": "code",
        "colab": {
          "base_uri": "https://localhost:8080/",
          "height": 1428
        },
        "outputId": "3bc80cb4-4005-4f6f-dc53-4f04ef934854"
      },
      "cell_type": "code",
      "source": [
        "batch_size = 96\n",
        "\n",
        "%time history = model.fit(input_train, y_train, epochs=40, batch_size=batch_size, validation_data=(input_test, y_test))"
      ],
      "execution_count": 47,
      "outputs": [
        {
          "output_type": "stream",
          "text": [
            "Train on 25000 samples, validate on 25000 samples\n",
            "Epoch 1/40\n",
            "25000/25000 [==============================] - 1s 36us/step - loss: 0.6879 - acc: 0.5650 - val_loss: 0.6706 - val_acc: 0.6829\n",
            "Epoch 2/40\n",
            "25000/25000 [==============================] - 1s 20us/step - loss: 0.5941 - acc: 0.7602 - val_loss: 0.5229 - val_acc: 0.7744\n",
            "Epoch 3/40\n",
            "25000/25000 [==============================] - 1s 21us/step - loss: 0.4554 - acc: 0.8132 - val_loss: 0.4410 - val_acc: 0.8046\n",
            "Epoch 4/40\n",
            "25000/25000 [==============================] - 1s 20us/step - loss: 0.3862 - acc: 0.8384 - val_loss: 0.4101 - val_acc: 0.8161\n",
            "Epoch 5/40\n",
            "25000/25000 [==============================] - 1s 21us/step - loss: 0.3471 - acc: 0.8569 - val_loss: 0.3966 - val_acc: 0.8208\n",
            "Epoch 6/40\n",
            "25000/25000 [==============================] - 1s 20us/step - loss: 0.3198 - acc: 0.8701 - val_loss: 0.3909 - val_acc: 0.8218\n",
            "Epoch 7/40\n",
            "25000/25000 [==============================] - 1s 20us/step - loss: 0.2987 - acc: 0.8788 - val_loss: 0.3906 - val_acc: 0.8223\n",
            "Epoch 8/40\n",
            "25000/25000 [==============================] - 1s 20us/step - loss: 0.2815 - acc: 0.8875 - val_loss: 0.3911 - val_acc: 0.8226\n",
            "Epoch 9/40\n",
            "25000/25000 [==============================] - 1s 21us/step - loss: 0.2664 - acc: 0.8957 - val_loss: 0.3949 - val_acc: 0.8216\n",
            "Epoch 10/40\n",
            "25000/25000 [==============================] - 1s 20us/step - loss: 0.2531 - acc: 0.9026 - val_loss: 0.3993 - val_acc: 0.8209\n",
            "Epoch 11/40\n",
            "25000/25000 [==============================] - 1s 21us/step - loss: 0.2411 - acc: 0.9096 - val_loss: 0.4053 - val_acc: 0.8194\n",
            "Epoch 12/40\n",
            "25000/25000 [==============================] - 1s 21us/step - loss: 0.2298 - acc: 0.9141 - val_loss: 0.4116 - val_acc: 0.8167\n",
            "Epoch 13/40\n",
            "25000/25000 [==============================] - 1s 20us/step - loss: 0.2192 - acc: 0.9201 - val_loss: 0.4189 - val_acc: 0.8150\n",
            "Epoch 14/40\n",
            "25000/25000 [==============================] - 1s 21us/step - loss: 0.2092 - acc: 0.9254 - val_loss: 0.4276 - val_acc: 0.8131\n",
            "Epoch 15/40\n",
            "25000/25000 [==============================] - 1s 20us/step - loss: 0.1997 - acc: 0.9297 - val_loss: 0.4360 - val_acc: 0.8107\n",
            "Epoch 16/40\n",
            "25000/25000 [==============================] - 1s 20us/step - loss: 0.1905 - acc: 0.9338 - val_loss: 0.4448 - val_acc: 0.8090\n",
            "Epoch 17/40\n",
            "25000/25000 [==============================] - 1s 20us/step - loss: 0.1820 - acc: 0.9379 - val_loss: 0.4541 - val_acc: 0.8084\n",
            "Epoch 18/40\n",
            "25000/25000 [==============================] - 1s 20us/step - loss: 0.1736 - acc: 0.9418 - val_loss: 0.4653 - val_acc: 0.8060\n",
            "Epoch 19/40\n",
            "25000/25000 [==============================] - 1s 20us/step - loss: 0.1653 - acc: 0.9458 - val_loss: 0.4751 - val_acc: 0.8043\n",
            "Epoch 20/40\n",
            "25000/25000 [==============================] - 1s 21us/step - loss: 0.1576 - acc: 0.9504 - val_loss: 0.4867 - val_acc: 0.8028\n",
            "Epoch 21/40\n",
            "25000/25000 [==============================] - 1s 21us/step - loss: 0.1502 - acc: 0.9527 - val_loss: 0.4975 - val_acc: 0.8011\n",
            "Epoch 22/40\n",
            "25000/25000 [==============================] - 1s 20us/step - loss: 0.1429 - acc: 0.9558 - val_loss: 0.5102 - val_acc: 0.7982\n",
            "Epoch 23/40\n",
            "25000/25000 [==============================] - 1s 20us/step - loss: 0.1360 - acc: 0.9591 - val_loss: 0.5232 - val_acc: 0.7970\n",
            "Epoch 24/40\n",
            "25000/25000 [==============================] - 1s 21us/step - loss: 0.1295 - acc: 0.9630 - val_loss: 0.5353 - val_acc: 0.7949\n",
            "Epoch 25/40\n",
            "25000/25000 [==============================] - 1s 20us/step - loss: 0.1233 - acc: 0.9650 - val_loss: 0.5488 - val_acc: 0.7941\n",
            "Epoch 26/40\n",
            "25000/25000 [==============================] - 1s 21us/step - loss: 0.1171 - acc: 0.9689 - val_loss: 0.5629 - val_acc: 0.7919\n",
            "Epoch 27/40\n",
            "25000/25000 [==============================] - 1s 20us/step - loss: 0.1114 - acc: 0.9707 - val_loss: 0.5773 - val_acc: 0.7910\n",
            "Epoch 28/40\n",
            "25000/25000 [==============================] - 1s 20us/step - loss: 0.1059 - acc: 0.9729 - val_loss: 0.5918 - val_acc: 0.7894\n",
            "Epoch 29/40\n",
            "25000/25000 [==============================] - 1s 21us/step - loss: 0.1003 - acc: 0.9757 - val_loss: 0.6078 - val_acc: 0.7866\n",
            "Epoch 30/40\n",
            "25000/25000 [==============================] - 1s 20us/step - loss: 0.0953 - acc: 0.9781 - val_loss: 0.6230 - val_acc: 0.7856\n",
            "Epoch 31/40\n",
            "25000/25000 [==============================] - 1s 20us/step - loss: 0.0903 - acc: 0.9799 - val_loss: 0.6382 - val_acc: 0.7847\n",
            "Epoch 32/40\n",
            "25000/25000 [==============================] - 1s 21us/step - loss: 0.0855 - acc: 0.9815 - val_loss: 0.6559 - val_acc: 0.7828\n",
            "Epoch 33/40\n",
            "25000/25000 [==============================] - 1s 20us/step - loss: 0.0811 - acc: 0.9836 - val_loss: 0.6714 - val_acc: 0.7816\n",
            "Epoch 34/40\n",
            "25000/25000 [==============================] - 1s 20us/step - loss: 0.0766 - acc: 0.9851 - val_loss: 0.6886 - val_acc: 0.7806\n",
            "Epoch 35/40\n",
            "25000/25000 [==============================] - 0s 20us/step - loss: 0.0724 - acc: 0.9869 - val_loss: 0.7069 - val_acc: 0.7789\n",
            "Epoch 36/40\n",
            "25000/25000 [==============================] - 1s 21us/step - loss: 0.0685 - acc: 0.9878 - val_loss: 0.7243 - val_acc: 0.7773\n",
            "Epoch 37/40\n",
            "25000/25000 [==============================] - 1s 20us/step - loss: 0.0646 - acc: 0.9888 - val_loss: 0.7435 - val_acc: 0.7753\n",
            "Epoch 38/40\n",
            "25000/25000 [==============================] - 1s 21us/step - loss: 0.0609 - acc: 0.9902 - val_loss: 0.7614 - val_acc: 0.7752\n",
            "Epoch 39/40\n",
            "25000/25000 [==============================] - 1s 20us/step - loss: 0.0575 - acc: 0.9911 - val_loss: 0.7800 - val_acc: 0.7743\n",
            "Epoch 40/40\n",
            "25000/25000 [==============================] - 1s 21us/step - loss: 0.0542 - acc: 0.9923 - val_loss: 0.7999 - val_acc: 0.7733\n",
            "CPU times: user 27.6 s, sys: 1.28 s, total: 28.9 s\n",
            "Wall time: 21.2 s\n"
          ],
          "name": "stdout"
        }
      ]
    },
    {
      "metadata": {
        "id": "RrafF_XNajFx",
        "colab_type": "code",
        "colab": {
          "base_uri": "https://localhost:8080/",
          "height": 335
        },
        "outputId": "793eccd3-e3b4-4264-c195-a696bbd36203"
      },
      "cell_type": "code",
      "source": [
        "import pandas as pd\n",
        "\n",
        "def plot_history(history, samples=10, init_phase_samples=None):\n",
        "    epochs = history.params['epochs']\n",
        "    \n",
        "    acc = history.history['acc']\n",
        "    val_acc = history.history['val_acc']\n",
        "\n",
        "    every_sample =  int(epochs / samples)\n",
        "    acc = pd.DataFrame(acc).iloc[::every_sample, :]\n",
        "    val_acc = pd.DataFrame(val_acc).iloc[::every_sample, :]\n",
        "\n",
        "    fig, ax = plt.subplots(figsize=(20,5))\n",
        "\n",
        "    ax.plot(acc, 'bo', label='Training acc')\n",
        "    ax.plot(val_acc, 'b', label='Validation acc')\n",
        "    ax.set_title('Training and validation accuracy')\n",
        "    ax.legend()\n",
        "\n",
        "plot_history(history)"
      ],
      "execution_count": 48,
      "outputs": [
        {
          "output_type": "display_data",
          "data": {
            "image/png": "[encoded data removed]",
            "text/plain": [
              "<matplotlib.figure.Figure at 0x7f25c714bb70>"
            ]
          },
          "metadata": {
            "tags": []
          }
        }
      ]
    },
    {
      "metadata": {
        "id": "icaQD_qvajF0",
        "colab_type": "code",
        "colab": {
          "base_uri": "https://localhost:8080/",
          "height": 51
        },
        "outputId": "f5746c0d-701e-4bb8-f38a-25ac5c0800ac"
      },
      "cell_type": "code",
      "source": [
        "train_loss, train_accuracy = model.evaluate(input_train, y_train, batch_size=batch_size)\n",
        "train_accuracy"
      ],
      "execution_count": 49,
      "outputs": [
        {
          "output_type": "stream",
          "text": [
            "25000/25000 [==============================] - 0s 8us/step\n"
          ],
          "name": "stdout"
        },
        {
          "output_type": "execute_result",
          "data": {
            "text/plain": [
              "0.9943199937438965"
            ]
          },
          "metadata": {
            "tags": []
          },
          "execution_count": 49
        }
      ]
    },
    {
      "metadata": {
        "id": "8kTWKJaUajF3",
        "colab_type": "code",
        "colab": {
          "base_uri": "https://localhost:8080/",
          "height": 51
        },
        "outputId": "51bf781c-0af5-4aab-e3b9-fbe25e2120a1"
      },
      "cell_type": "code",
      "source": [
        "test_loss, test_accuracy = model.evaluate(input_test, y_test, batch_size=batch_size)\n",
        "test_accuracy"
      ],
      "execution_count": 50,
      "outputs": [
        {
          "output_type": "stream",
          "text": [
            "25000/25000 [==============================] - 0s 8us/step\n"
          ],
          "name": "stdout"
        },
        {
          "output_type": "execute_result",
          "data": {
            "text/plain": [
              "0.7732800003242493"
            ]
          },
          "metadata": {
            "tags": []
          },
          "execution_count": 50
        }
      ]
    },
    {
      "metadata": {
        "id": "9jqXlWzuajF7",
        "colab_type": "code",
        "colab": {
          "base_uri": "https://localhost:8080/",
          "height": 102
        },
        "outputId": "79ecff27-05c0-4418-fd33-8006f6475d69"
      },
      "cell_type": "code",
      "source": [
        "# precition\n",
        "model.predict(input_test[0:5])"
      ],
      "execution_count": 51,
      "outputs": [
        {
          "output_type": "execute_result",
          "data": {
            "text/plain": [
              "array([[0.80683035],\n",
              "       [0.9945182 ],\n",
              "       [0.4653315 ],\n",
              "       [0.68047816],\n",
              "       [0.99997866]], dtype=float32)"
            ]
          },
          "metadata": {
            "tags": []
          },
          "execution_count": 51
        }
      ]
    },
    {
      "metadata": {
        "id": "gmXrQBAOajF-",
        "colab_type": "code",
        "colab": {
          "base_uri": "https://localhost:8080/",
          "height": 34
        },
        "outputId": "3107cfe6-7516-4919-cc2e-5371a03d848a"
      },
      "cell_type": "code",
      "source": [
        "# ground truth\n",
        "y_test[0:5]"
      ],
      "execution_count": 52,
      "outputs": [
        {
          "output_type": "execute_result",
          "data": {
            "text/plain": [
              "array([0, 1, 1, 0, 1])"
            ]
          },
          "metadata": {
            "tags": []
          },
          "execution_count": 52
        }
      ]
    },
    {
      "metadata": {
        "id": "4W_hccOMajGA",
        "colab_type": "text"
      },
      "cell_type": "markdown",
      "source": [
        "### How does the output of the trained embedding look like? "
      ]
    },
    {
      "metadata": {
        "id": "L8kSJR8wajGC",
        "colab_type": "code",
        "colab": {}
      },
      "cell_type": "code",
      "source": [
        "embedding_layer = model.get_layer('embedding')"
      ],
      "execution_count": 0,
      "outputs": []
    },
    {
      "metadata": {
        "id": "Q4q2p_xnajGE",
        "colab_type": "code",
        "colab": {}
      },
      "cell_type": "code",
      "source": [
        "model_stub= keras.Model(inputs=model.input, outputs=embedding_layer.output)"
      ],
      "execution_count": 0,
      "outputs": []
    },
    {
      "metadata": {
        "id": "vk6xVqKsajGH",
        "colab_type": "code",
        "colab": {}
      },
      "cell_type": "code",
      "source": [
        "word_to_id = keras.datasets.imdb.get_word_index()\n",
        "\n",
        "def encode_text(text):\n",
        "    input_words = text.split()\n",
        "    input_tokens = np.array([word_to_id[word] for word in input_words])\n",
        "    padded_input_tokens = keras.preprocessing.sequence.pad_sequences([input_tokens], maxlen=maxlen)\n",
        "    return padded_input_tokens\n",
        "\n",
        "def plot_text_embedding(model, text):\n",
        "    input_words = text.split()\n",
        "    input_sequence = encode_text(text)\n",
        "    \n",
        "    embeddings = model.predict(input_sequence)[0][-len(input_words):, :]\n",
        "    x_coords = embeddings[:, 0] # First latent dim\n",
        "    y_coords = embeddings[:, 1] # Second latent dim\n",
        "    plt.figure(figsize=(20, 20))\n",
        "    plt.scatter(x_coords, y_coords)\n",
        "    for i, txt in enumerate(input_words):\n",
        "        plt.annotate(txt, (x_coords[i], y_coords[i]))\n",
        "    plt.show()"
      ],
      "execution_count": 0,
      "outputs": []
    },
    {
      "metadata": {
        "id": "5t_vSq1RajGK",
        "colab_type": "code",
        "colab": {
          "base_uri": "https://localhost:8080/",
          "height": 1135
        },
        "outputId": "a84cc960-8b4b-4628-a0cb-cdd258b01c5e"
      },
      "cell_type": "code",
      "source": [
        "text = \"\"\"good best brilliant amazing great lovely awesome \n",
        "          bad worst awful \n",
        "          art\n",
        "          garbage gross horrible\n",
        "          sad funny \n",
        "          beautiful ugly\n",
        "               movie actor male female love\"\"\"\n",
        "plot_text_embedding(model_stub, text)"
      ],
      "execution_count": 56,
      "outputs": [
        {
          "output_type": "display_data",
          "data": {
            "image/png": "[encoded data removed]",
            "text/plain": [
              "<matplotlib.figure.Figure at 0x7f25dffc5160>"
            ]
          },
          "metadata": {
            "tags": []
          }
        }
      ]
    },
    {
      "metadata": {
        "id": "1CEliERbajGM",
        "colab_type": "code",
        "colab": {
          "base_uri": "https://localhost:8080/",
          "height": 1428
        },
        "outputId": "977e4a44-ebc9-47fc-f131-0fd7874b8bf9"
      },
      "cell_type": "code",
      "source": [
        "from tensorflow.keras.layers import Embedding, Flatten, GlobalAveragePooling1D, Dense, Dropout\n",
        "\n",
        "embedding_dim = 1\n",
        "\n",
        "model = keras.Sequential()\n",
        "# Parameters: max_features * embedding_dim \n",
        "model.add(Embedding(name='embedding', input_dim=max_features, output_dim=embedding_dim, input_length=maxlen))\n",
        "\n",
        "# Output: maxlen * embedding_dim (8)\n",
        "model.add(Flatten(name='flatten'))\n",
        "\n",
        "# ALTERNATIVE\n",
        "# average of all embeddings (does not preserve sequence)\n",
        "# model.add(GlobalAveragePooling1D(name='average_pooling'))\n",
        "\n",
        "# binary classifier\n",
        "model.add(Dense(name='fc', units=32, activation='relu'))\n",
        "# model.add(Dropout(0.4))\n",
        "model.add(Dense(name='classifier', units=1, activation='sigmoid'))\n",
        "\n",
        "model.compile(optimizer='adam', loss='binary_crossentropy', metrics=['accuracy'])\n",
        "\n",
        "# model.summary()\n",
        "batch_size = 96\n",
        "\n",
        "%time history = model.fit(input_train, y_train, epochs=40, batch_size=batch_size, validation_data=(input_test, y_test))"
      ],
      "execution_count": 57,
      "outputs": [
        {
          "output_type": "stream",
          "text": [
            "Train on 25000 samples, validate on 25000 samples\n",
            "Epoch 1/40\n",
            "25000/25000 [==============================] - 1s 40us/step - loss: 0.6897 - acc: 0.5386 - val_loss: 0.6646 - val_acc: 0.6654\n",
            "Epoch 2/40\n",
            "25000/25000 [==============================] - 1s 22us/step - loss: 0.4884 - acc: 0.7833 - val_loss: 0.4087 - val_acc: 0.8124\n",
            "Epoch 3/40\n",
            "25000/25000 [==============================] - 1s 22us/step - loss: 0.3422 - acc: 0.8529 - val_loss: 0.3987 - val_acc: 0.8188\n",
            "Epoch 4/40\n",
            "25000/25000 [==============================] - 1s 22us/step - loss: 0.2953 - acc: 0.8766 - val_loss: 0.4096 - val_acc: 0.8180\n",
            "Epoch 5/40\n",
            "25000/25000 [==============================] - 1s 22us/step - loss: 0.2651 - acc: 0.8928 - val_loss: 0.4291 - val_acc: 0.8135\n",
            "Epoch 6/40\n",
            "25000/25000 [==============================] - 1s 22us/step - loss: 0.2430 - acc: 0.9044 - val_loss: 0.4544 - val_acc: 0.8089\n",
            "Epoch 7/40\n",
            "25000/25000 [==============================] - 1s 22us/step - loss: 0.2248 - acc: 0.9122 - val_loss: 0.4799 - val_acc: 0.8054\n",
            "Epoch 8/40\n",
            "25000/25000 [==============================] - 1s 22us/step - loss: 0.2090 - acc: 0.9212 - val_loss: 0.5114 - val_acc: 0.7996\n",
            "Epoch 9/40\n",
            "25000/25000 [==============================] - 1s 22us/step - loss: 0.1966 - acc: 0.9263 - val_loss: 0.5413 - val_acc: 0.7978\n",
            "Epoch 10/40\n",
            "25000/25000 [==============================] - 1s 22us/step - loss: 0.1855 - acc: 0.9321 - val_loss: 0.5776 - val_acc: 0.7950\n",
            "Epoch 11/40\n",
            "25000/25000 [==============================] - 1s 22us/step - loss: 0.1747 - acc: 0.9383 - val_loss: 0.6090 - val_acc: 0.7905\n",
            "Epoch 12/40\n",
            "25000/25000 [==============================] - 1s 22us/step - loss: 0.1664 - acc: 0.9408 - val_loss: 0.6452 - val_acc: 0.7862\n",
            "Epoch 13/40\n",
            "25000/25000 [==============================] - 1s 22us/step - loss: 0.1565 - acc: 0.9452 - val_loss: 0.6852 - val_acc: 0.7846\n",
            "Epoch 14/40\n",
            "25000/25000 [==============================] - 1s 22us/step - loss: 0.1498 - acc: 0.9488 - val_loss: 0.7192 - val_acc: 0.7802\n",
            "Epoch 15/40\n",
            "25000/25000 [==============================] - 1s 22us/step - loss: 0.1422 - acc: 0.9526 - val_loss: 0.7573 - val_acc: 0.7787\n",
            "Epoch 16/40\n",
            "25000/25000 [==============================] - 1s 22us/step - loss: 0.1356 - acc: 0.9553 - val_loss: 0.7975 - val_acc: 0.7774\n",
            "Epoch 17/40\n",
            "25000/25000 [==============================] - 1s 22us/step - loss: 0.1297 - acc: 0.9579 - val_loss: 0.8419 - val_acc: 0.7740\n",
            "Epoch 18/40\n",
            "25000/25000 [==============================] - 1s 22us/step - loss: 0.1227 - acc: 0.9614 - val_loss: 0.8872 - val_acc: 0.7739\n",
            "Epoch 19/40\n",
            "25000/25000 [==============================] - 1s 22us/step - loss: 0.1183 - acc: 0.9624 - val_loss: 0.9255 - val_acc: 0.7701\n",
            "Epoch 20/40\n",
            "25000/25000 [==============================] - 1s 22us/step - loss: 0.1126 - acc: 0.9658 - val_loss: 0.9649 - val_acc: 0.7665\n",
            "Epoch 21/40\n",
            "25000/25000 [==============================] - 1s 22us/step - loss: 0.1069 - acc: 0.9689 - val_loss: 1.0222 - val_acc: 0.7674\n",
            "Epoch 22/40\n",
            "25000/25000 [==============================] - 1s 22us/step - loss: 0.1026 - acc: 0.9703 - val_loss: 1.0784 - val_acc: 0.7676\n",
            "Epoch 23/40\n",
            "25000/25000 [==============================] - 1s 22us/step - loss: 0.0982 - acc: 0.9706 - val_loss: 1.1093 - val_acc: 0.7646\n",
            "Epoch 24/40\n",
            "25000/25000 [==============================] - 1s 23us/step - loss: 0.0926 - acc: 0.9741 - val_loss: 1.1541 - val_acc: 0.7634\n",
            "Epoch 25/40\n",
            "25000/25000 [==============================] - 1s 22us/step - loss: 0.0890 - acc: 0.9759 - val_loss: 1.2094 - val_acc: 0.7613\n",
            "Epoch 26/40\n",
            "25000/25000 [==============================] - 1s 22us/step - loss: 0.0852 - acc: 0.9754 - val_loss: 1.2589 - val_acc: 0.7612\n",
            "Epoch 27/40\n",
            "25000/25000 [==============================] - 1s 22us/step - loss: 0.0810 - acc: 0.9782 - val_loss: 1.2962 - val_acc: 0.7583\n",
            "Epoch 28/40\n",
            "25000/25000 [==============================] - 1s 22us/step - loss: 0.0773 - acc: 0.9788 - val_loss: 1.3492 - val_acc: 0.7584\n",
            "Epoch 29/40\n",
            "25000/25000 [==============================] - 1s 22us/step - loss: 0.0724 - acc: 0.9824 - val_loss: 1.4034 - val_acc: 0.7568\n",
            "Epoch 30/40\n",
            "25000/25000 [==============================] - 1s 22us/step - loss: 0.0706 - acc: 0.9814 - val_loss: 1.4516 - val_acc: 0.7562\n",
            "Epoch 31/40\n",
            "25000/25000 [==============================] - 1s 22us/step - loss: 0.0678 - acc: 0.9819 - val_loss: 1.4972 - val_acc: 0.7563\n",
            "Epoch 32/40\n",
            "25000/25000 [==============================] - 1s 22us/step - loss: 0.0639 - acc: 0.9838 - val_loss: 1.5725 - val_acc: 0.7552\n",
            "Epoch 33/40\n",
            "25000/25000 [==============================] - 1s 22us/step - loss: 0.0616 - acc: 0.9834 - val_loss: 1.6270 - val_acc: 0.7552\n",
            "Epoch 34/40\n",
            "25000/25000 [==============================] - 1s 22us/step - loss: 0.0581 - acc: 0.9850 - val_loss: 1.6406 - val_acc: 0.7522\n",
            "Epoch 35/40\n",
            "25000/25000 [==============================] - 1s 22us/step - loss: 0.0559 - acc: 0.9863 - val_loss: 1.6812 - val_acc: 0.7514\n",
            "Epoch 36/40\n",
            "25000/25000 [==============================] - 1s 22us/step - loss: 0.0526 - acc: 0.9876 - val_loss: 1.7367 - val_acc: 0.7511\n",
            "Epoch 37/40\n",
            "25000/25000 [==============================] - 1s 22us/step - loss: 0.0487 - acc: 0.9889 - val_loss: 1.7682 - val_acc: 0.7480\n",
            "Epoch 38/40\n",
            "25000/25000 [==============================] - 1s 22us/step - loss: 0.0472 - acc: 0.9891 - val_loss: 1.8227 - val_acc: 0.7497\n",
            "Epoch 39/40\n",
            "25000/25000 [==============================] - 1s 22us/step - loss: 0.0474 - acc: 0.9883 - val_loss: 1.8272 - val_acc: 0.7467\n",
            "Epoch 40/40\n",
            "25000/25000 [==============================] - 1s 22us/step - loss: 0.0444 - acc: 0.9891 - val_loss: 1.8871 - val_acc: 0.7501\n",
            "CPU times: user 29.8 s, sys: 1.46 s, total: 31.3 s\n",
            "Wall time: 22.9 s\n"
          ],
          "name": "stdout"
        }
      ]
    },
    {
      "metadata": {
        "id": "1GEXN3_saqCP",
        "colab_type": "text"
      },
      "cell_type": "markdown",
      "source": [
        "## What about 1d?"
      ]
    },
    {
      "metadata": {
        "id": "argCHr8BajGQ",
        "colab_type": "code",
        "colab": {
          "base_uri": "https://localhost:8080/",
          "height": 320
        },
        "outputId": "a24abe54-74c5-4eb4-9f61-b71e7e44b009"
      },
      "cell_type": "code",
      "source": [
        "embedding_layer = model.get_layer('embedding')\n",
        "model_stub= keras.Model(inputs=model.input, outputs=embedding_layer.output)\n",
        "\n",
        "def plot_1d_text_embedding(model, text):\n",
        "    input_words = text.split()\n",
        "    input_sequence = encode_text(text)\n",
        "    \n",
        "    embeddings = model.predict(input_sequence)[0][-len(input_words):, :]\n",
        "    plt.figure(figsize=(20, 5))\n",
        "    plt.scatter(embeddings, np.zeros(len(embeddings)))\n",
        "    for i, txt in enumerate(input_words):\n",
        "        plt.annotate(txt, (embeddings[i], 0.004), rotation=80)\n",
        "    plt.show()\n",
        "\n",
        "text = \"\"\"good best brilliant amazing great lovely awesome \n",
        "          bad worst awful \n",
        "          garbage gross horrible\n",
        "          sad funny \n",
        "          beautiful ugly\"\"\"\n",
        "plot_1d_text_embedding(model_stub, text)    "
      ],
      "execution_count": 58,
      "outputs": [
        {
          "output_type": "display_data",
          "data": {
            "image/png": "[encoded data removed]",
            "text/plain": [
              "<matplotlib.figure.Figure at 0x7f25d3181f28>"
            ]
          },
          "metadata": {
            "tags": []
          }
        }
      ]
    },
    {
      "metadata": {
        "id": "2hxfi3QOajGW",
        "colab_type": "code",
        "colab": {}
      },
      "cell_type": "code",
      "source": [
        ""
      ],
      "execution_count": 0,
      "outputs": []
    }
  ]
}