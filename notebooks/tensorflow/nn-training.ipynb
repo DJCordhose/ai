{
  "nbformat": 4,
  "nbformat_minor": 0,
  "metadata": {
    "colab": {
      "name": "NN Training",
      "version": "0.3.2",
      "provenance": [],
      "include_colab_link": true
    },
    "kernelspec": {
      "display_name": "Python 3",
      "language": "python",
      "name": "python3"
    },
    "accelerator": "GPU"
  },
  "cells": [
    {
      "cell_type": "markdown",
      "metadata": {
        "id": "view-in-github",
        "colab_type": "text"
      },
      "source": [
        "[View in Colaboratory](https://colab.research.google.com/github/DJCordhose/ai/blob/master/notebooks/tensorflow/nn-training.ipynb)"
      ]
    },
    {
      "metadata": {
        "colab": {},
        "colab_type": "code",
        "id": "XMQp66kq-X9Z",
        "outputId": "3c81bcd0-98d8-49b4-a7d5-c6d951a0e3a1"
      },
      "cell_type": "code",
      "source": [
        "import warnings\n",
        "warnings.filterwarnings('ignore')\n",
        "%matplotlib inline\n",
        "%pylab inline\n",
        "import matplotlib.pyplot as plt\n",
        "import pandas as pd\n",
        "import tensorflow as tf\n",
        "from tensorflow import keras"
      ],
      "execution_count": 0,
      "outputs": [
        {
          "output_type": "stream",
          "text": [
            "Populating the interactive namespace from numpy and matplotlib\n"
          ],
          "name": "stdout"
        }
      ]
    },
    {
      "metadata": {
        "colab": {},
        "colab_type": "code",
        "id": "hNS5gA2I-X92"
      },
      "cell_type": "code",
      "source": [
        "!curl -O https://raw.githubusercontent.com/DJCordhose/deep-learning-crash-course-notebooks/master/data/insurance-customers-1500.csv"
      ],
      "execution_count": 0,
      "outputs": []
    },
    {
      "metadata": {
        "colab": {},
        "colab_type": "code",
        "id": "xpX9iD2c-X94"
      },
      "cell_type": "code",
      "source": [
        "df = pd.read_csv('./insurance-customers-1500.csv', sep=';')\n",
        "y = df['group']\n",
        "df.drop('group', axis='columns', inplace=True)\n",
        "X = df.as_matrix()"
      ],
      "execution_count": 0,
      "outputs": []
    },
    {
      "metadata": {
        "colab": {},
        "colab_type": "code",
        "id": "ivu4Ex_C-X-E"
      },
      "cell_type": "code",
      "source": [
        "from sklearn.model_selection import train_test_split\n",
        "X_train, X_test, y_train, y_test = train_test_split(X, y, test_size=0.2, random_state=42, stratify=y)"
      ],
      "execution_count": 0,
      "outputs": []
    },
    {
      "metadata": {
        "colab": {},
        "colab_type": "code",
        "id": "ODSrdLfF-X-g",
        "outputId": "4ce224e7-60df-444f-88ad-389e7bb8da8c"
      },
      "cell_type": "code",
      "source": [
        "from tensorflow.keras.layers import Dense\n",
        "\n",
        "model = keras.Sequential()\n",
        "\n",
        "model.add(Dense(units=50, activation='relu', input_dim=3))\n",
        "model.add(Dense(units=3, activation='softmax'))\n",
        "\n",
        "model.summary()"
      ],
      "execution_count": 0,
      "outputs": [
        {
          "output_type": "stream",
          "text": [
            "_________________________________________________________________\n",
            "Layer (type)                 Output Shape              Param #   \n",
            "=================================================================\n",
            "dense (Dense)                (None, 50)                200       \n",
            "_________________________________________________________________\n",
            "dense_1 (Dense)              (None, 3)                 153       \n",
            "=================================================================\n",
            "Total params: 353\n",
            "Trainable params: 353\n",
            "Non-trainable params: 0\n",
            "_________________________________________________________________\n"
          ],
          "name": "stdout"
        }
      ]
    },
    {
      "metadata": {
        "colab": {
          "base_uri": "https://localhost:8080/",
          "height": 51
        },
        "colab_type": "code",
        "id": "A-JeNgyv-X-z",
        "outputId": "6716ea64-751e-4e82-b07d-3b7aa720e81c"
      },
      "cell_type": "code",
      "source": [
        "BATCH_SIZE=1000\n",
        "EPOCHS = 2000\n",
        "\n",
        "model.compile(loss='sparse_categorical_crossentropy',\n",
        "             optimizer='adam',\n",
        "             metrics=['accuracy'])\n",
        "\n",
        "%time history = model.fit(X_train, y_train, epochs=EPOCHS, batch_size=BATCH_SIZE, validation_split=0.2, verbose=0)"
      ],
      "execution_count": 0,
      "outputs": [
        {
          "output_type": "stream",
          "text": [
            "Wall time: 12.8 s\n"
          ],
          "name": "stdout"
        }
      ]
    },
    {
      "metadata": {
        "colab": {
          "base_uri": "https://localhost:8080/",
          "height": 51
        },
        "colab_type": "code",
        "id": "ekAIERy_-X-5",
        "outputId": "06c25aad-0844-4e41-ef69-bc55a4ddf130"
      },
      "cell_type": "code",
      "source": [
        "train_loss, train_accuracy = model.evaluate(X_train, y_train, batch_size=BATCH_SIZE)\n",
        "train_accuracy"
      ],
      "execution_count": 0,
      "outputs": [
        {
          "output_type": "stream",
          "text": [
            "1200/1200 [==============================] - 0s 4us/step\n"
          ],
          "name": "stdout"
        },
        {
          "output_type": "execute_result",
          "data": {
            "text/plain": [
              "0.7083333233992258"
            ]
          },
          "metadata": {
            "tags": []
          },
          "execution_count": 7
        }
      ]
    },
    {
      "metadata": {
        "colab": {
          "base_uri": "https://localhost:8080/",
          "height": 606
        },
        "colab_type": "code",
        "id": "ZV-LZZGd-X--",
        "outputId": "8e1197b1-b7d5-45bf-d04d-c6e3422834d1"
      },
      "cell_type": "code",
      "source": [
        "def plot_history(history, samples=100, init_phase_samples=None):\n",
        "    epochs = history.params['epochs']\n",
        "    \n",
        "    acc = history.history['acc']\n",
        "    val_acc = history.history['val_acc']\n",
        "\n",
        "    every_sample =  int(epochs / samples)\n",
        "    acc = pd.DataFrame(acc).iloc[::every_sample, :]\n",
        "    val_acc = pd.DataFrame(val_acc).iloc[::every_sample, :]\n",
        "\n",
        "    fig, ax = plt.subplots(figsize=(20,5))\n",
        "\n",
        "    ax.plot(acc, 'bo', label='Training acc')\n",
        "    ax.plot(val_acc, 'b', label='Validation acc')\n",
        "    ax.set_title('Training and validation accuracy')\n",
        "    ax.legend()\n",
        "\n",
        "plot_history(history)"
      ],
      "execution_count": 0,
      "outputs": [
        {
          "output_type": "display_data",
          "data": {
            "image/png": "[encoded data removed]",
            "text/plain": [
              "<Figure size 1440x360 with 1 Axes>"
            ]
          },
          "metadata": {
            "tags": []
          }
        }
      ]
    },
    {
      "metadata": {
        "id": "RpJPY6rV8l53",
        "colab_type": "code",
        "colab": {},
        "outputId": "3693e228-9adb-482d-cbaf-0d9770712dc2"
      },
      "cell_type": "code",
      "source": [
        "model.predict(np.array([[100, 47, 10]]))"
      ],
      "execution_count": 0,
      "outputs": [
        {
          "output_type": "execute_result",
          "data": {
            "text/plain": [
              "array([[0.15674245, 0.6605879 , 0.18266964]], dtype=float32)"
            ]
          },
          "metadata": {
            "tags": []
          },
          "execution_count": 10
        }
      ]
    },
    {
      "metadata": {
        "id": "NAdBi_a18l5_",
        "colab_type": "code",
        "colab": {}
      },
      "cell_type": "code",
      "source": [
        "test_loss, test_accuracy = model.evaluate(X_test, y_test, batch_size=BATCH_SIZE)\n",
        "test_accuracy"
      ],
      "execution_count": 0,
      "outputs": []
    }
  ]
}