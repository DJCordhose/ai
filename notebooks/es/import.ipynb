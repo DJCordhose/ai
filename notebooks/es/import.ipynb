{
 "cells": [
  {
   "cell_type": "code",
   "execution_count": 1,
   "metadata": {},
   "outputs": [
    {
     "name": "stdout",
     "output_type": "stream",
     "text": [
      "Populating the interactive namespace from numpy and matplotlib\n"
     ]
    }
   ],
   "source": [
    "%matplotlib inline\n",
    "%pylab inline"
   ]
  },
  {
   "cell_type": "code",
   "execution_count": 2,
   "metadata": {
    "collapsed": true
   },
   "outputs": [],
   "source": [
    "import warnings\n",
    "warnings.filterwarnings('ignore')"
   ]
  },
  {
   "cell_type": "code",
   "execution_count": 3,
   "metadata": {
    "collapsed": true
   },
   "outputs": [],
   "source": [
    "import numpy as np\n",
    "import matplotlib.pyplot as plt\n",
    "from sklearn import preprocessing\n",
    "import seaborn as sns\n",
    "import pandas as pd\n",
    "import dask.dataframe as dd\n",
    "from dask.diagnostics import ProgressBar\n",
    "progress = ProgressBar().register()"
   ]
  },
  {
   "cell_type": "code",
   "execution_count": 4,
   "metadata": {
    "collapsed": true
   },
   "outputs": [],
   "source": [
    "IMG_DIR = '../../analysis'\n",
    "DPI=120"
   ]
  },
  {
   "cell_type": "markdown",
   "metadata": {},
   "source": [
    "## Loading data using Dask (loads lazily)\n",
    "* https://www.youtube.com/watch?v=RA_2qdipVng&t=1s\n",
    "* http://matthewrocklin.com/slides/scipy-2017.html"
   ]
  },
  {
   "cell_type": "code",
   "execution_count": 20,
   "metadata": {},
   "outputs": [],
   "source": [
    "mkdir data\n",
    "cd data"
   ]
  },
  {
   "cell_type": "code",
   "execution_count": null,
   "metadata": {
    "collapsed": true
   },
   "outputs": [],
   "source": [
    "# http://stat-computing.org/dataexpo/2009/the-data.html\n",
    "# !curl -O http://stat-computing.org/dataexpo/2009/2000.csv.bz2\n",
    "# !curl -O http://stat-computing.org/dataexpo/2009/2001.csv.bz2\n",
    "# !curl -O http://stat-computing.org/dataexpo/2009/2002.csv.bz2\n",
    "# !ls -lh"
   ]
  },
  {
   "cell_type": "code",
   "execution_count": 26,
   "metadata": {},
   "outputs": [],
   "source": [
    "# !bzip2 -d 2000.csv.bz2\n",
    "# !bzip2 -d 2001.csv.bz2\n",
    "# !bzip2 -d 2002.csv.bz2\n",
    "# !ls -lh"
   ]
  },
  {
   "cell_type": "code",
   "execution_count": 31,
   "metadata": {},
   "outputs": [
    {
     "name": "stdout",
     "output_type": "stream",
     "text": [
      "CPU times: user 132 ms, sys: 8 ms, total: 140 ms\n",
      "Wall time: 223 ms\n"
     ]
    }
   ],
   "source": [
    "# data_types = {'CRSElapsedTime': int, 'CRSDepTime': int, 'Year': int, 'Month': int, 'DayOfWeek': int, 'DayofMonth': int}\n",
    "data_types = {'CRSDepTime': int, 'Year': int, 'Month': int, 'DayOfWeek': int, 'DayofMonth': int}\n",
    "\n",
    "\n",
    "# http://dask.pydata.org/en/latest/dataframe-overview.html\n",
    "%time df = dd.read_csv('./*.csv', encoding='iso-8859-1', dtype=data_types, assume_missing=True)"
   ]
  },
  {
   "cell_type": "code",
   "execution_count": 32,
   "metadata": {},
   "outputs": [
    {
     "name": "stdout",
     "output_type": "stream",
     "text": [
      "[########################################] | 100% Completed |  1.6s\n",
      "CPU times: user 1.45 s, sys: 144 ms, total: 1.6 s\n",
      "Wall time: 1.65 s\n"
     ]
    },
    {
     "data": {
      "text/html": [
       "<div>\n",
       "<style>\n",
       "    .dataframe thead tr:only-child th {\n",
       "        text-align: right;\n",
       "    }\n",
       "\n",
       "    .dataframe thead th {\n",
       "        text-align: left;\n",
       "    }\n",
       "\n",
       "    .dataframe tbody tr th {\n",
       "        vertical-align: top;\n",
       "    }\n",
       "</style>\n",
       "<table border=\"1\" class=\"dataframe\">\n",
       "  <thead>\n",
       "    <tr style=\"text-align: right;\">\n",
       "      <th></th>\n",
       "      <th>Year</th>\n",
       "      <th>Month</th>\n",
       "      <th>DayofMonth</th>\n",
       "      <th>DayOfWeek</th>\n",
       "      <th>DepTime</th>\n",
       "      <th>CRSDepTime</th>\n",
       "      <th>ArrTime</th>\n",
       "      <th>CRSArrTime</th>\n",
       "      <th>UniqueCarrier</th>\n",
       "      <th>FlightNum</th>\n",
       "      <th>...</th>\n",
       "      <th>TaxiIn</th>\n",
       "      <th>TaxiOut</th>\n",
       "      <th>Cancelled</th>\n",
       "      <th>CancellationCode</th>\n",
       "      <th>Diverted</th>\n",
       "      <th>CarrierDelay</th>\n",
       "      <th>WeatherDelay</th>\n",
       "      <th>NASDelay</th>\n",
       "      <th>SecurityDelay</th>\n",
       "      <th>LateAircraftDelay</th>\n",
       "    </tr>\n",
       "  </thead>\n",
       "  <tbody>\n",
       "    <tr>\n",
       "      <th>0</th>\n",
       "      <td>2000</td>\n",
       "      <td>1</td>\n",
       "      <td>28</td>\n",
       "      <td>5</td>\n",
       "      <td>1647.0</td>\n",
       "      <td>1647</td>\n",
       "      <td>1906.0</td>\n",
       "      <td>1859.0</td>\n",
       "      <td>HP</td>\n",
       "      <td>154.0</td>\n",
       "      <td>...</td>\n",
       "      <td>15.0</td>\n",
       "      <td>11.0</td>\n",
       "      <td>0.0</td>\n",
       "      <td>NaN</td>\n",
       "      <td>0.0</td>\n",
       "      <td>NaN</td>\n",
       "      <td>NaN</td>\n",
       "      <td>NaN</td>\n",
       "      <td>NaN</td>\n",
       "      <td>NaN</td>\n",
       "    </tr>\n",
       "    <tr>\n",
       "      <th>1</th>\n",
       "      <td>2000</td>\n",
       "      <td>1</td>\n",
       "      <td>29</td>\n",
       "      <td>6</td>\n",
       "      <td>1648.0</td>\n",
       "      <td>1647</td>\n",
       "      <td>1939.0</td>\n",
       "      <td>1859.0</td>\n",
       "      <td>HP</td>\n",
       "      <td>154.0</td>\n",
       "      <td>...</td>\n",
       "      <td>5.0</td>\n",
       "      <td>47.0</td>\n",
       "      <td>0.0</td>\n",
       "      <td>NaN</td>\n",
       "      <td>0.0</td>\n",
       "      <td>NaN</td>\n",
       "      <td>NaN</td>\n",
       "      <td>NaN</td>\n",
       "      <td>NaN</td>\n",
       "      <td>NaN</td>\n",
       "    </tr>\n",
       "    <tr>\n",
       "      <th>2</th>\n",
       "      <td>2000</td>\n",
       "      <td>1</td>\n",
       "      <td>30</td>\n",
       "      <td>7</td>\n",
       "      <td>NaN</td>\n",
       "      <td>1647</td>\n",
       "      <td>NaN</td>\n",
       "      <td>1859.0</td>\n",
       "      <td>HP</td>\n",
       "      <td>154.0</td>\n",
       "      <td>...</td>\n",
       "      <td>0.0</td>\n",
       "      <td>0.0</td>\n",
       "      <td>1.0</td>\n",
       "      <td>NaN</td>\n",
       "      <td>0.0</td>\n",
       "      <td>NaN</td>\n",
       "      <td>NaN</td>\n",
       "      <td>NaN</td>\n",
       "      <td>NaN</td>\n",
       "      <td>NaN</td>\n",
       "    </tr>\n",
       "    <tr>\n",
       "      <th>3</th>\n",
       "      <td>2000</td>\n",
       "      <td>1</td>\n",
       "      <td>31</td>\n",
       "      <td>1</td>\n",
       "      <td>1645.0</td>\n",
       "      <td>1647</td>\n",
       "      <td>1852.0</td>\n",
       "      <td>1859.0</td>\n",
       "      <td>HP</td>\n",
       "      <td>154.0</td>\n",
       "      <td>...</td>\n",
       "      <td>7.0</td>\n",
       "      <td>14.0</td>\n",
       "      <td>0.0</td>\n",
       "      <td>NaN</td>\n",
       "      <td>0.0</td>\n",
       "      <td>NaN</td>\n",
       "      <td>NaN</td>\n",
       "      <td>NaN</td>\n",
       "      <td>NaN</td>\n",
       "      <td>NaN</td>\n",
       "    </tr>\n",
       "    <tr>\n",
       "      <th>4</th>\n",
       "      <td>2000</td>\n",
       "      <td>1</td>\n",
       "      <td>1</td>\n",
       "      <td>6</td>\n",
       "      <td>842.0</td>\n",
       "      <td>846</td>\n",
       "      <td>1057.0</td>\n",
       "      <td>1101.0</td>\n",
       "      <td>HP</td>\n",
       "      <td>609.0</td>\n",
       "      <td>...</td>\n",
       "      <td>3.0</td>\n",
       "      <td>8.0</td>\n",
       "      <td>0.0</td>\n",
       "      <td>NaN</td>\n",
       "      <td>0.0</td>\n",
       "      <td>NaN</td>\n",
       "      <td>NaN</td>\n",
       "      <td>NaN</td>\n",
       "      <td>NaN</td>\n",
       "      <td>NaN</td>\n",
       "    </tr>\n",
       "  </tbody>\n",
       "</table>\n",
       "<p>5 rows × 29 columns</p>\n",
       "</div>"
      ],
      "text/plain": [
       "   Year  Month  DayofMonth  DayOfWeek  DepTime  CRSDepTime  ArrTime  \\\n",
       "0  2000      1          28          5   1647.0        1647   1906.0   \n",
       "1  2000      1          29          6   1648.0        1647   1939.0   \n",
       "2  2000      1          30          7      NaN        1647      NaN   \n",
       "3  2000      1          31          1   1645.0        1647   1852.0   \n",
       "4  2000      1           1          6    842.0         846   1057.0   \n",
       "\n",
       "   CRSArrTime UniqueCarrier  FlightNum        ...         TaxiIn  TaxiOut  \\\n",
       "0      1859.0            HP      154.0        ...           15.0     11.0   \n",
       "1      1859.0            HP      154.0        ...            5.0     47.0   \n",
       "2      1859.0            HP      154.0        ...            0.0      0.0   \n",
       "3      1859.0            HP      154.0        ...            7.0     14.0   \n",
       "4      1101.0            HP      609.0        ...            3.0      8.0   \n",
       "\n",
       "   Cancelled  CancellationCode  Diverted  CarrierDelay WeatherDelay NASDelay  \\\n",
       "0        0.0               NaN       0.0           NaN          NaN      NaN   \n",
       "1        0.0               NaN       0.0           NaN          NaN      NaN   \n",
       "2        1.0               NaN       0.0           NaN          NaN      NaN   \n",
       "3        0.0               NaN       0.0           NaN          NaN      NaN   \n",
       "4        0.0               NaN       0.0           NaN          NaN      NaN   \n",
       "\n",
       "   SecurityDelay  LateAircraftDelay  \n",
       "0            NaN                NaN  \n",
       "1            NaN                NaN  \n",
       "2            NaN                NaN  \n",
       "3            NaN                NaN  \n",
       "4            NaN                NaN  \n",
       "\n",
       "[5 rows x 29 columns]"
      ]
     },
     "execution_count": 32,
     "metadata": {},
     "output_type": "execute_result"
    }
   ],
   "source": [
    "# %time df.head()"
   ]
  },
  {
   "cell_type": "code",
   "execution_count": 33,
   "metadata": {},
   "outputs": [
    {
     "name": "stdout",
     "output_type": "stream",
     "text": [
      "CPU times: user 8 ms, sys: 0 ns, total: 8 ms\n",
      "Wall time: 8.85 ms\n"
     ]
    }
   ],
   "source": [
    "%time df = df.fillna(-1)"
   ]
  },
  {
   "cell_type": "code",
   "execution_count": 8,
   "metadata": {
    "collapsed": true
   },
   "outputs": [],
   "source": [
    "# Takes a while\n",
    "# %time df.count().compute()"
   ]
  },
  {
   "cell_type": "code",
   "execution_count": 9,
   "metadata": {
    "collapsed": true
   },
   "outputs": [],
   "source": [
    "# Takes a while, but should be doable\n",
    "# %time unique_origins = df['Origin'].unique().compute()"
   ]
  },
  {
   "cell_type": "code",
   "execution_count": 10,
   "metadata": {
    "collapsed": true
   },
   "outputs": [],
   "source": [
    "# once you compute you get a real pandas series\n",
    "# type(unique_origins)"
   ]
  },
  {
   "cell_type": "code",
   "execution_count": 11,
   "metadata": {
    "collapsed": true
   },
   "outputs": [],
   "source": [
    "# unique_origins"
   ]
  },
  {
   "cell_type": "code",
   "execution_count": 34,
   "metadata": {
    "collapsed": true
   },
   "outputs": [],
   "source": [
    "# 2400 is not a valid time\n",
    "df['CRSDepTime'] = df.apply(lambda row: 2359 if row['CRSDepTime'] == 2400 else row['CRSDepTime'], axis='columns')"
   ]
  },
  {
   "cell_type": "code",
   "execution_count": 13,
   "metadata": {
    "collapsed": true
   },
   "outputs": [],
   "source": [
    "# df.apply?"
   ]
  },
  {
   "cell_type": "code",
   "execution_count": 35,
   "metadata": {},
   "outputs": [
    {
     "name": "stdout",
     "output_type": "stream",
     "text": [
      "[########################################] | 100% Completed | 19.5s\n"
     ]
    }
   ],
   "source": [
    "head = df.head()"
   ]
  },
  {
   "cell_type": "code",
   "execution_count": 36,
   "metadata": {
    "collapsed": true
   },
   "outputs": [],
   "source": [
    "def create_timestamp (row):\n",
    "    return pd.Timestamp('%s-%s-%s;%04d'%(row['Year'], row['Month'], row['DayofMonth'], row['CRSDepTime']))"
   ]
  },
  {
   "cell_type": "code",
   "execution_count": 16,
   "metadata": {
    "collapsed": true
   },
   "outputs": [],
   "source": [
    "# type(head)"
   ]
  },
  {
   "cell_type": "code",
   "execution_count": 17,
   "metadata": {
    "collapsed": true
   },
   "outputs": [],
   "source": [
    "# head"
   ]
  },
  {
   "cell_type": "code",
   "execution_count": 37,
   "metadata": {
    "collapsed": true
   },
   "outputs": [],
   "source": [
    "# create a sample for dask to figure out the data types\n",
    "transformation_sample = head.apply(create_timestamp, axis='columns')"
   ]
  },
  {
   "cell_type": "code",
   "execution_count": 38,
   "metadata": {},
   "outputs": [
    {
     "data": {
      "text/plain": [
       "pandas.core.series.Series"
      ]
     },
     "execution_count": 38,
     "metadata": {},
     "output_type": "execute_result"
    }
   ],
   "source": [
    "type(transformation_sample)"
   ]
  },
  {
   "cell_type": "code",
   "execution_count": 39,
   "metadata": {},
   "outputs": [
    {
     "data": {
      "text/plain": [
       "Timestamp('2000-01-28 16:47:00')"
      ]
     },
     "execution_count": 39,
     "metadata": {},
     "output_type": "execute_result"
    }
   ],
   "source": [
    "transformation_sample[0]"
   ]
  },
  {
   "cell_type": "code",
   "execution_count": 40,
   "metadata": {
    "collapsed": true
   },
   "outputs": [],
   "source": [
    "# meta_information = {'@timestamp': pd.Timestamp}\n",
    "meta_information = transformation_sample\n",
    "\n",
    "df['@timestamp'] = df.apply(lambda row: pd.Timestamp('%s-%s-%s;%04d'%(row['Year'], row['Month'], row['DayofMonth'], row['CRSDepTime'])),\n",
    "                            axis='columns',\n",
    "                           meta=meta_information)"
   ]
  },
  {
   "cell_type": "code",
   "execution_count": 22,
   "metadata": {
    "collapsed": true
   },
   "outputs": [],
   "source": [
    "# df.head()"
   ]
  },
  {
   "cell_type": "code",
   "execution_count": 41,
   "metadata": {
    "collapsed": true
   },
   "outputs": [],
   "source": [
    "from pyelasticsearch import ElasticSearch, bulk_chunks"
   ]
  },
  {
   "cell_type": "code",
   "execution_count": 42,
   "metadata": {
    "collapsed": true
   },
   "outputs": [],
   "source": [
    "ES_HOST = 'http://localhost:9200/'\n",
    "INDEX_NAME = \"expo2009\"\n",
    "DOC_TYPE = \"flight\"\n",
    "es = ElasticSearch(ES_HOST)"
   ]
  },
  {
   "cell_type": "code",
   "execution_count": 43,
   "metadata": {
    "collapsed": true
   },
   "outputs": [],
   "source": [
    "# https://pyelasticsearch.readthedocs.io/en/latest/api/#pyelasticsearch.ElasticSearch.bulk\n",
    "def documents(records):\n",
    "    for flight in records:\n",
    "        yield es.index_op(flight)\n",
    "        \n",
    "def chunk_import(records):        \n",
    "    # bulk_chunks() breaks your documents into smaller requests for speed:\n",
    "    for chunk in bulk_chunks(documents(records=records),\n",
    "                             docs_per_chunk=50000,\n",
    "                             bytes_per_chunk=10000000):\n",
    "        # We specify a default index and doc type here so we don't\n",
    "        # have to repeat them in every operation:\n",
    "        es.bulk(chunk, doc_type=DOC_TYPE, index=INDEX_NAME)"
   ]
  },
  {
   "cell_type": "code",
   "execution_count": 44,
   "metadata": {},
   "outputs": [
    {
     "data": {
      "text/plain": [
       "2"
      ]
     },
     "execution_count": 44,
     "metadata": {},
     "output_type": "execute_result"
    }
   ],
   "source": [
    "# should be 2 initially or 0, depending on if kibana hasrun already\n",
    "es.count('*')['count']"
   ]
  },
  {
   "cell_type": "code",
   "execution_count": 45,
   "metadata": {},
   "outputs": [
    {
     "data": {
      "text/plain": [
       "28"
      ]
     },
     "execution_count": 45,
     "metadata": {},
     "output_type": "execute_result"
    }
   ],
   "source": [
    "df.npartitions"
   ]
  },
  {
   "cell_type": "code",
   "execution_count": 46,
   "metadata": {
    "collapsed": true
   },
   "outputs": [],
   "source": [
    "begin_partition = 0\n",
    "end_partition = df.npartitions\n",
    "\n",
    "# begin_partition = 23\n",
    "# end_partition = 25"
   ]
  },
  {
   "cell_type": "code",
   "execution_count": 48,
   "metadata": {},
   "outputs": [
    {
     "name": "stdout",
     "output_type": "stream",
     "text": [
      "Importing partition 0\n",
      "[########################################] | 100% Completed |  2min 32.5s\n",
      "Importing into ES: 640243\n",
      "Datasets in ES: 638527\n",
      "[                                        ] | 0% Completed |  0.0s\n",
      "Importing partition 1\n",
      "[########################################] | 100% Completed |  2min 34.6s\n",
      "Importing into ES: 638869\n",
      "Datasets in ES: 1276900\n",
      "Time loading: 296.285\n",
      "[                                        ] | 0% Completed |  0.0s\n",
      "[########################################] | 100% Completed |  2min 34.0s\n",
      "Importing into ES: 640046\n",
      "Datasets in ES: 1913166\n",
      "Time loading: 296.251\n",
      "Importing partition 3\n",
      "[########################################] | 100% Completed |  2min 34.4s\n",
      "Importing into ES: 639869\n",
      "Datasets in ES: 2552252\n",
      "Time loading: 293.102\n",
      "Importing partition 4\n",
      "[########################################] | 100% Completed |  2min 34.2s\n",
      "Importing into ES: 639036\n",
      "Datasets in ES: 3197627\n",
      "Time loading: 293.786\n",
      "Importing partition 5\n",
      "[########################################] | 100% Completed |  2min 33.8s\n",
      "Importing into ES: 640025\n",
      "Datasets in ES: 3834986\n",
      "Time loading: 291.583\n",
      "Importing partition 6\n",
      "[########################################] | 100% Completed |  2min 33.2s\n",
      "Importing into ES: 636846\n",
      "Datasets in ES: 4474316\n",
      "Time loading: 295.032\n",
      "[                                        ] | 0% Completed |  0.0s\n",
      "[########################################] | 100% Completed |  2min 34.3s\n",
      "Importing into ES: 632203\n",
      "Datasets in ES: 5106777\n",
      "Time loading: 290.135\n",
      "[                                        ] | 0% Completed |  0.0s\n",
      "[########################################] | 100% Completed |  2min 18.0s\n",
      "Importing into ES: 575910\n",
      "Datasets in ES: 5674693\n",
      "Time loading: 264.255\n",
      "[                                        ] | 0% Completed |  0.0s\n",
      "[########################################] | 100% Completed |  2min 33.3s\n",
      "Importing into ES: 638537\n",
      "Datasets in ES: 6317258\n",
      "Time loading: 299.287\n",
      "[                                        ] | 0% Completed |  0.0s\n",
      "[########################################] | 100% Completed |  2min 33.7s\n",
      "Importing into ES: 637248\n",
      "Datasets in ES: 6953708\n",
      "Time loading: 292.632\n",
      "Importing partition 11\n",
      "[########################################] | 100% Completed |  2min 33.7s\n",
      "Importing into ES: 637486\n",
      "Datasets in ES: 7595588\n",
      "Time loading: 302.707\n",
      "Importing partition 12\n",
      "[########################################] | 100% Completed |  2min 32.0s\n",
      "Importing into ES: 635846\n",
      "Datasets in ES: 8224987\n",
      "Time loading: 304.526\n",
      "Importing partition 13\n",
      "[########################################] | 100% Completed |  2min 34.8s\n",
      "Importing into ES: 637924\n",
      "[                                        ] | 0% Completed |  0.0s\n",
      "Time loading: 299.23\n",
      "Importing partition 14\n",
      "[########################################] | 100% Completed |  2min 34.1s\n",
      "Importing into ES: 637525\n",
      "Datasets in ES: 9500049\n",
      "Time loading: 293.462\n",
      "Importing partition 15\n",
      "[########################################] | 100% Completed |  2min 33.8s\n",
      "Importing into ES: 638640\n",
      "Datasets in ES: 10141252\n",
      "Time loading: 293.068\n",
      "[                                        ] | 0% Completed |  0.0s\n",
      "[########################################] | 100% Completed |  2min 31.6s\n",
      "Importing into ES: 634279\n",
      "Datasets in ES: 10775622\n",
      "Time loading: 295.776\n",
      "[                                        ] | 0% Completed |  0.0sImporting partition 17\n",
      "[########################################] | 100% Completed |  2min 33.0s\n",
      "Importing into ES: 631040\n",
      "Datasets in ES: 11405139\n",
      "Time loading: 287.142\n",
      "Importing partition 18\n",
      "[########################################] | 100% Completed | 58.1s\n",
      "Importing into ES: 239255\n",
      "Datasets in ES: 11644532\n",
      "Time loading: 108.715\n",
      "Importing partition 19\n",
      "[########################################] | 100% Completed |  2min 34.3s\n",
      "Importing into ES: 637003\n",
      "Datasets in ES: 12286630\n",
      "Time loading: 296.332\n",
      "Importing partition 20\n",
      "[########################################] | 100% Completed |  2min 33.4s\n",
      "Importing into ES: 636510\n",
      "Datasets in ES: 12920678\n",
      "Time loading: 289.82\n",
      "[                                        ] | 0% Completed |  0.0s\n",
      "[########################################] | 100% Completed |  2min 33.5s\n",
      "Importing into ES: 640252\n",
      "Datasets in ES: 13558116\n",
      "Time loading: 290.438\n",
      "Importing partition 22\n",
      "[########################################] | 100% Completed |  2min 32.7s\n",
      "Importing into ES: 636826\n",
      "Datasets in ES: 14194797\n",
      "Time loading: 291.416\n",
      "Importing partition 23\n",
      "[########################################] | 100% Completed |  2min 34.2s\n",
      "Importing into ES: 639237\n",
      "Datasets in ES: 14833744\n",
      "Time loading: 292.034\n",
      "Importing partition 24\n",
      "[########################################] | 100% Completed |  2min 32.3s\n",
      "Importing into ES: 636553\n",
      "Datasets in ES: 15476423\n",
      "Time loading: 290.598\n",
      "Importing partition 25\n",
      "[########################################] | 100% Completed |  2min 31.5s\n",
      "Importing into ES: 631200\n",
      "Datasets in ES: 16106349\n",
      "Time loading: 288.524\n",
      "Importing partition 26\n",
      "[########################################] | 100% Completed |  2min 33.0s\n",
      "Importing into ES: 632999\n",
      "Datasets in ES: 16735659\n",
      "Time loading: 291.432\n",
      "Importing partition 27\n",
      "[########################################] | 100% Completed | 43.3s\n",
      "Importing into ES: 180779\n",
      "Datasets in ES: 16919303\n",
      "Time loading: 85.216\n"
     ]
    }
   ],
   "source": [
    "for partition_nr in range(df.npartitions):\n",
    "    if partition_nr >= end_partition:\n",
    "        break\n",
    "    if partition_nr < begin_partition:\n",
    "        continue\n",
    "    print (\"Importing partition %d\"%(partition_nr))\n",
    "    partition = df.get_partition(partition_nr)\n",
    "    records = partition.compute().to_dict(orient='records')\n",
    "    print (\"Importing into ES: %d\"%(len(records)))    \n",
    "    chunk_import(records)\n",
    "    cnt = es.count('*')['count']\n",
    "    print (\"Datasets in ES: %d\"%(cnt))"
   ]
  },
  {
   "cell_type": "code",
   "execution_count": null,
   "metadata": {
    "collapsed": true
   },
   "outputs": [],
   "source": [
    "# for live reload of data during demo\n",
    "# execute this and repeat steps from dd.read_csv in Cell 8\n",
    "cd ..\n",
    "mkdir feed\n",
    "cd feed\n",
    "!curl -O http://stat-computing.org/dataexpo/2009/2003.csv.bz2\n",
    "!bzip2 -d 2003.csv.bz2"
   ]
  }
 ],
 "metadata": {
  "kernelspec": {
   "display_name": "Python 3",
   "language": "python",
   "name": "python3"
  },
  "language_info": {
   "codemirror_mode": {
    "name": "ipython",
    "version": 3
   },
   "file_extension": ".py",
   "mimetype": "text/x-python",
   "name": "python",
   "nbconvert_exporter": "python",
   "pygments_lexer": "ipython3",
   "version": "3.6.1"
  }
 },
 "nbformat": 4,
 "nbformat_minor": 2
}
