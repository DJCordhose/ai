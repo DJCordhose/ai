{
 "cells": [
  {
   "cell_type": "code",
   "execution_count": 1,
   "metadata": {},
   "outputs": [
    {
     "name": "stdout",
     "output_type": "stream",
     "text": [
      "Populating the interactive namespace from numpy and matplotlib\n"
     ]
    }
   ],
   "source": [
    "%matplotlib inline\n",
    "%pylab inline"
   ]
  },
  {
   "cell_type": "code",
   "execution_count": 2,
   "metadata": {
    "collapsed": true
   },
   "outputs": [],
   "source": [
    "import warnings\n",
    "warnings.filterwarnings('ignore')"
   ]
  },
  {
   "cell_type": "code",
   "execution_count": 3,
   "metadata": {
    "collapsed": true
   },
   "outputs": [],
   "source": [
    "import numpy as np\n",
    "import matplotlib.pyplot as plt\n",
    "from sklearn import preprocessing\n",
    "import seaborn as sns\n",
    "import pandas as pd\n",
    "import dask.dataframe as dd\n",
    "from dask.diagnostics import ProgressBar\n",
    "progress = ProgressBar().register()"
   ]
  },
  {
   "cell_type": "code",
   "execution_count": 4,
   "metadata": {
    "collapsed": true
   },
   "outputs": [],
   "source": [
    "IMG_DIR = '../../analysis'\n",
    "DPI=120"
   ]
  },
  {
   "cell_type": "markdown",
   "metadata": {},
   "source": [
    "## Loading data using Dask (loads lazily)\n",
    "* https://www.youtube.com/watch?v=RA_2qdipVng&t=1s\n",
    "* http://matthewrocklin.com/slides/scipy-2017.html"
   ]
  },
  {
   "cell_type": "code",
   "execution_count": 20,
   "metadata": {
    "collapsed": true
   },
   "outputs": [],
   "source": [
    "mkdir data\n",
    "cd data"
   ]
  },
  {
   "cell_type": "code",
   "execution_count": null,
   "metadata": {
    "collapsed": true
   },
   "outputs": [],
   "source": [
    "# http://stat-computing.org/dataexpo/2009/the-data.html\n",
    "# !curl -O http://stat-computing.org/dataexpo/2009/2000.csv.bz2\n",
    "# !curl -O http://stat-computing.org/dataexpo/2009/2001.csv.bz2\n",
    "# !curl -O http://stat-computing.org/dataexpo/2009/2002.csv.bz2\n",
    "# !ls -lh"
   ]
  },
  {
   "cell_type": "code",
   "execution_count": 26,
   "metadata": {
    "collapsed": true
   },
   "outputs": [],
   "source": [
    "# !bzip2 -d 2000.csv.bz2\n",
    "# !bzip2 -d 2001.csv.bz2\n",
    "# !bzip2 -d 2002.csv.bz2\n",
    "# !ls -lh"
   ]
  },
  {
   "cell_type": "code",
   "execution_count": 14,
   "metadata": {},
   "outputs": [
    {
     "name": "stdout",
     "output_type": "stream",
     "text": [
      "CPU times: user 78.1 ms, sys: 46.9 ms, total: 125 ms\n",
      "Wall time: 181 ms\n"
     ]
    }
   ],
   "source": [
    "# data_types = {'CRSElapsedTime': int, 'CRSDepTime': int, 'Year': int, 'Month': int, 'DayOfWeek': int, 'DayofMonth': int}\n",
    "data_types = {'CRSDepTime': int, 'Year': int, 'Month': int, 'DayOfWeek': int, 'DayofMonth': int}\n",
    "\n",
    "\n",
    "# http://dask.pydata.org/en/latest/dataframe-overview.html\n",
    "%time df = dd.read_csv('./data/200*.csv', encoding='iso-8859-1', dtype=data_types, assume_missing=True)\n",
    "\n",
    "# for live feed\n",
    "# %time df = dd.read_csv('./data/2003.csv', encoding='iso-8859-1', dtype=data_types, assume_missing=True)"
   ]
  },
  {
   "cell_type": "code",
   "execution_count": 10,
   "metadata": {},
   "outputs": [
    {
     "name": "stdout",
     "output_type": "stream",
     "text": [
      "[########################################] | 100% Completed | 49.6s\n",
      "CPU times: user 1min 18s, sys: 32.9 s, total: 1min 51s\n",
      "Wall time: 49.6 s\n"
     ]
    },
    {
     "data": {
      "text/plain": [
       "16922186"
      ]
     },
     "execution_count": 10,
     "metadata": {},
     "output_type": "execute_result"
    }
   ],
   "source": [
    "%time len(df)"
   ]
  },
  {
   "cell_type": "code",
   "execution_count": 15,
   "metadata": {
    "collapsed": true
   },
   "outputs": [],
   "source": [
    "# just 1% of data\n",
    "df = df.sample(.01)"
   ]
  },
  {
   "cell_type": "code",
   "execution_count": 16,
   "metadata": {},
   "outputs": [
    {
     "name": "stdout",
     "output_type": "stream",
     "text": [
      "[########################################] | 100% Completed | 46.3s\n",
      "CPU times: user 1min 22s, sys: 38.5 s, total: 2min\n",
      "Wall time: 46.3 s\n"
     ]
    },
    {
     "data": {
      "text/plain": [
       "169219"
      ]
     },
     "execution_count": 16,
     "metadata": {},
     "output_type": "execute_result"
    }
   ],
   "source": [
    "%time len(df)"
   ]
  },
  {
   "cell_type": "code",
   "execution_count": 17,
   "metadata": {},
   "outputs": [
    {
     "name": "stdout",
     "output_type": "stream",
     "text": [
      "[########################################] | 100% Completed |  3.0s\n",
      "CPU times: user 2.28 s, sys: 656 ms, total: 2.94 s\n",
      "Wall time: 2.99 s\n"
     ]
    },
    {
     "data": {
      "text/html": [
       "<div>\n",
       "<style>\n",
       "    .dataframe thead tr:only-child th {\n",
       "        text-align: right;\n",
       "    }\n",
       "\n",
       "    .dataframe thead th {\n",
       "        text-align: left;\n",
       "    }\n",
       "\n",
       "    .dataframe tbody tr th {\n",
       "        vertical-align: top;\n",
       "    }\n",
       "</style>\n",
       "<table border=\"1\" class=\"dataframe\">\n",
       "  <thead>\n",
       "    <tr style=\"text-align: right;\">\n",
       "      <th></th>\n",
       "      <th>Year</th>\n",
       "      <th>Month</th>\n",
       "      <th>DayofMonth</th>\n",
       "      <th>DayOfWeek</th>\n",
       "      <th>DepTime</th>\n",
       "      <th>CRSDepTime</th>\n",
       "      <th>ArrTime</th>\n",
       "      <th>CRSArrTime</th>\n",
       "      <th>UniqueCarrier</th>\n",
       "      <th>FlightNum</th>\n",
       "      <th>...</th>\n",
       "      <th>TaxiIn</th>\n",
       "      <th>TaxiOut</th>\n",
       "      <th>Cancelled</th>\n",
       "      <th>CancellationCode</th>\n",
       "      <th>Diverted</th>\n",
       "      <th>CarrierDelay</th>\n",
       "      <th>WeatherDelay</th>\n",
       "      <th>NASDelay</th>\n",
       "      <th>SecurityDelay</th>\n",
       "      <th>LateAircraftDelay</th>\n",
       "    </tr>\n",
       "  </thead>\n",
       "  <tbody>\n",
       "    <tr>\n",
       "      <th>167644</th>\n",
       "      <td>2000</td>\n",
       "      <td>1</td>\n",
       "      <td>23</td>\n",
       "      <td>7</td>\n",
       "      <td>1029.0</td>\n",
       "      <td>1035</td>\n",
       "      <td>1144.0</td>\n",
       "      <td>1137.0</td>\n",
       "      <td>NW</td>\n",
       "      <td>743.0</td>\n",
       "      <td>...</td>\n",
       "      <td>9.0</td>\n",
       "      <td>42.0</td>\n",
       "      <td>0.0</td>\n",
       "      <td>NaN</td>\n",
       "      <td>0.0</td>\n",
       "      <td>NaN</td>\n",
       "      <td>NaN</td>\n",
       "      <td>NaN</td>\n",
       "      <td>NaN</td>\n",
       "      <td>NaN</td>\n",
       "    </tr>\n",
       "    <tr>\n",
       "      <th>229822</th>\n",
       "      <td>2000</td>\n",
       "      <td>1</td>\n",
       "      <td>11</td>\n",
       "      <td>2</td>\n",
       "      <td>1810.0</td>\n",
       "      <td>1815</td>\n",
       "      <td>2037.0</td>\n",
       "      <td>2039.0</td>\n",
       "      <td>US</td>\n",
       "      <td>1484.0</td>\n",
       "      <td>...</td>\n",
       "      <td>8.0</td>\n",
       "      <td>16.0</td>\n",
       "      <td>0.0</td>\n",
       "      <td>NaN</td>\n",
       "      <td>0.0</td>\n",
       "      <td>NaN</td>\n",
       "      <td>NaN</td>\n",
       "      <td>NaN</td>\n",
       "      <td>NaN</td>\n",
       "      <td>NaN</td>\n",
       "    </tr>\n",
       "    <tr>\n",
       "      <th>477385</th>\n",
       "      <td>2000</td>\n",
       "      <td>2</td>\n",
       "      <td>14</td>\n",
       "      <td>1</td>\n",
       "      <td>600.0</td>\n",
       "      <td>600</td>\n",
       "      <td>757.0</td>\n",
       "      <td>754.0</td>\n",
       "      <td>HP</td>\n",
       "      <td>2470.0</td>\n",
       "      <td>...</td>\n",
       "      <td>4.0</td>\n",
       "      <td>20.0</td>\n",
       "      <td>0.0</td>\n",
       "      <td>NaN</td>\n",
       "      <td>0.0</td>\n",
       "      <td>NaN</td>\n",
       "      <td>NaN</td>\n",
       "      <td>NaN</td>\n",
       "      <td>NaN</td>\n",
       "      <td>NaN</td>\n",
       "    </tr>\n",
       "    <tr>\n",
       "      <th>84887</th>\n",
       "      <td>2000</td>\n",
       "      <td>1</td>\n",
       "      <td>4</td>\n",
       "      <td>2</td>\n",
       "      <td>952.0</td>\n",
       "      <td>952</td>\n",
       "      <td>1117.0</td>\n",
       "      <td>1114.0</td>\n",
       "      <td>UA</td>\n",
       "      <td>2504.0</td>\n",
       "      <td>...</td>\n",
       "      <td>3.0</td>\n",
       "      <td>18.0</td>\n",
       "      <td>0.0</td>\n",
       "      <td>NaN</td>\n",
       "      <td>0.0</td>\n",
       "      <td>NaN</td>\n",
       "      <td>NaN</td>\n",
       "      <td>NaN</td>\n",
       "      <td>NaN</td>\n",
       "      <td>NaN</td>\n",
       "    </tr>\n",
       "    <tr>\n",
       "      <th>528202</th>\n",
       "      <td>2000</td>\n",
       "      <td>2</td>\n",
       "      <td>20</td>\n",
       "      <td>7</td>\n",
       "      <td>1755.0</td>\n",
       "      <td>1715</td>\n",
       "      <td>2224.0</td>\n",
       "      <td>2032.0</td>\n",
       "      <td>CO</td>\n",
       "      <td>157.0</td>\n",
       "      <td>...</td>\n",
       "      <td>5.0</td>\n",
       "      <td>81.0</td>\n",
       "      <td>0.0</td>\n",
       "      <td>NaN</td>\n",
       "      <td>0.0</td>\n",
       "      <td>NaN</td>\n",
       "      <td>NaN</td>\n",
       "      <td>NaN</td>\n",
       "      <td>NaN</td>\n",
       "      <td>NaN</td>\n",
       "    </tr>\n",
       "  </tbody>\n",
       "</table>\n",
       "<p>5 rows × 29 columns</p>\n",
       "</div>"
      ],
      "text/plain": [
       "        Year  Month  DayofMonth  DayOfWeek  DepTime  CRSDepTime  ArrTime  \\\n",
       "167644  2000      1          23          7   1029.0        1035   1144.0   \n",
       "229822  2000      1          11          2   1810.0        1815   2037.0   \n",
       "477385  2000      2          14          1    600.0         600    757.0   \n",
       "84887   2000      1           4          2    952.0         952   1117.0   \n",
       "528202  2000      2          20          7   1755.0        1715   2224.0   \n",
       "\n",
       "        CRSArrTime UniqueCarrier  FlightNum        ...         TaxiIn  \\\n",
       "167644      1137.0            NW      743.0        ...            9.0   \n",
       "229822      2039.0            US     1484.0        ...            8.0   \n",
       "477385       754.0            HP     2470.0        ...            4.0   \n",
       "84887       1114.0            UA     2504.0        ...            3.0   \n",
       "528202      2032.0            CO      157.0        ...            5.0   \n",
       "\n",
       "        TaxiOut  Cancelled  CancellationCode  Diverted  CarrierDelay  \\\n",
       "167644     42.0        0.0               NaN       0.0           NaN   \n",
       "229822     16.0        0.0               NaN       0.0           NaN   \n",
       "477385     20.0        0.0               NaN       0.0           NaN   \n",
       "84887      18.0        0.0               NaN       0.0           NaN   \n",
       "528202     81.0        0.0               NaN       0.0           NaN   \n",
       "\n",
       "       WeatherDelay NASDelay  SecurityDelay  LateAircraftDelay  \n",
       "167644          NaN      NaN            NaN                NaN  \n",
       "229822          NaN      NaN            NaN                NaN  \n",
       "477385          NaN      NaN            NaN                NaN  \n",
       "84887           NaN      NaN            NaN                NaN  \n",
       "528202          NaN      NaN            NaN                NaN  \n",
       "\n",
       "[5 rows x 29 columns]"
      ]
     },
     "execution_count": 17,
     "metadata": {},
     "output_type": "execute_result"
    }
   ],
   "source": [
    "%time df.head()"
   ]
  },
  {
   "cell_type": "markdown",
   "metadata": {},
   "source": [
    "## Cleaning and fixing data"
   ]
  },
  {
   "cell_type": "code",
   "execution_count": 18,
   "metadata": {},
   "outputs": [
    {
     "name": "stdout",
     "output_type": "stream",
     "text": [
      "CPU times: user 0 ns, sys: 0 ns, total: 0 ns\n",
      "Wall time: 29.7 ms\n"
     ]
    }
   ],
   "source": [
    "%time df = df.fillna(-1)"
   ]
  },
  {
   "cell_type": "code",
   "execution_count": 19,
   "metadata": {
    "collapsed": true
   },
   "outputs": [],
   "source": [
    "# Takes a while\n",
    "# %time df.count().compute()"
   ]
  },
  {
   "cell_type": "code",
   "execution_count": 20,
   "metadata": {
    "collapsed": true
   },
   "outputs": [],
   "source": [
    "# Takes a while, but should be doable\n",
    "# %time unique_origins = df['Origin'].unique().compute()"
   ]
  },
  {
   "cell_type": "code",
   "execution_count": 21,
   "metadata": {
    "collapsed": true
   },
   "outputs": [],
   "source": [
    "# once you compute you get a real pandas series\n",
    "# type(unique_origins)"
   ]
  },
  {
   "cell_type": "code",
   "execution_count": 22,
   "metadata": {
    "collapsed": true
   },
   "outputs": [],
   "source": [
    "# unique_origins"
   ]
  },
  {
   "cell_type": "code",
   "execution_count": 23,
   "metadata": {
    "collapsed": true
   },
   "outputs": [],
   "source": [
    "# 2400 is not a valid time\n",
    "df['CRSDepTime'] = df.apply(lambda row: 2359 if row['CRSDepTime'] == 2400 else row['CRSDepTime'], axis='columns')"
   ]
  },
  {
   "cell_type": "code",
   "execution_count": 24,
   "metadata": {
    "collapsed": true
   },
   "outputs": [],
   "source": [
    "# df.apply?"
   ]
  },
  {
   "cell_type": "code",
   "execution_count": 25,
   "metadata": {},
   "outputs": [
    {
     "name": "stdout",
     "output_type": "stream",
     "text": [
      "[########################################] | 100% Completed |  4.1s\n"
     ]
    }
   ],
   "source": [
    "head = df.head()"
   ]
  },
  {
   "cell_type": "code",
   "execution_count": 26,
   "metadata": {
    "collapsed": true
   },
   "outputs": [],
   "source": [
    "def create_timestamp (row):\n",
    "    return pd.Timestamp('%s-%s-%s;%04d'%(row['Year'], row['Month'], row['DayofMonth'], row['CRSDepTime']))"
   ]
  },
  {
   "cell_type": "code",
   "execution_count": 27,
   "metadata": {
    "collapsed": true
   },
   "outputs": [],
   "source": [
    "# type(head)"
   ]
  },
  {
   "cell_type": "code",
   "execution_count": 28,
   "metadata": {
    "collapsed": true
   },
   "outputs": [],
   "source": [
    "# head"
   ]
  },
  {
   "cell_type": "code",
   "execution_count": 29,
   "metadata": {
    "collapsed": true
   },
   "outputs": [],
   "source": [
    "# create a sample for dask to figure out the data types\n",
    "transformation_sample = head.apply(create_timestamp, axis='columns')"
   ]
  },
  {
   "cell_type": "code",
   "execution_count": 32,
   "metadata": {},
   "outputs": [
    {
     "data": {
      "text/plain": [
       "pandas.core.series.Series"
      ]
     },
     "execution_count": 32,
     "metadata": {},
     "output_type": "execute_result"
    }
   ],
   "source": [
    "type(transformation_sample)"
   ]
  },
  {
   "cell_type": "code",
   "execution_count": 33,
   "metadata": {},
   "outputs": [
    {
     "data": {
      "text/plain": [
       "167644   2000-01-23 10:35:00\n",
       "229822   2000-01-11 18:15:00\n",
       "477385   2000-02-14 06:00:00\n",
       "84887    2000-01-04 09:52:00\n",
       "528202   2000-02-20 17:15:00\n",
       "dtype: datetime64[ns]"
      ]
     },
     "execution_count": 33,
     "metadata": {},
     "output_type": "execute_result"
    }
   ],
   "source": [
    "transformation_sample"
   ]
  },
  {
   "cell_type": "code",
   "execution_count": 34,
   "metadata": {
    "collapsed": true
   },
   "outputs": [],
   "source": [
    "# meta_information = {'@timestamp': pd.Timestamp}\n",
    "meta_information = transformation_sample\n",
    "\n",
    "df['@timestamp'] = df.apply(lambda row: pd.Timestamp('%s-%s-%s;%04d'%(row['Year'], row['Month'], row['DayofMonth'], row['CRSDepTime'])),\n",
    "                            axis='columns',\n",
    "                           meta=meta_information)"
   ]
  },
  {
   "cell_type": "code",
   "execution_count": 35,
   "metadata": {
    "collapsed": true
   },
   "outputs": [],
   "source": [
    "# df.head()"
   ]
  },
  {
   "cell_type": "code",
   "execution_count": 36,
   "metadata": {
    "collapsed": true
   },
   "outputs": [],
   "source": [
    "from pyelasticsearch import ElasticSearch, bulk_chunks"
   ]
  },
  {
   "cell_type": "code",
   "execution_count": 37,
   "metadata": {
    "collapsed": true
   },
   "outputs": [],
   "source": [
    "ES_HOST = 'http://localhost:9200/'\n",
    "INDEX_NAME = \"expo2009\"\n",
    "DOC_TYPE = \"flight\"\n",
    "es = ElasticSearch(ES_HOST)"
   ]
  },
  {
   "cell_type": "code",
   "execution_count": 38,
   "metadata": {
    "collapsed": true
   },
   "outputs": [],
   "source": [
    "# https://pyelasticsearch.readthedocs.io/en/latest/api/#pyelasticsearch.ElasticSearch.bulk\n",
    "def documents(records):\n",
    "    for flight in records:\n",
    "        yield es.index_op(flight)\n",
    "        \n",
    "def chunk_import(records):        \n",
    "    # bulk_chunks() breaks your documents into smaller requests for speed:\n",
    "    for chunk in bulk_chunks(documents(records=records),\n",
    "                             docs_per_chunk=50000,\n",
    "                             bytes_per_chunk=10000000):\n",
    "        # We specify a default index and doc type here so we don't\n",
    "        # have to repeat them in every operation:\n",
    "        es.bulk(chunk, doc_type=DOC_TYPE, index=INDEX_NAME)"
   ]
  },
  {
   "cell_type": "code",
   "execution_count": 39,
   "metadata": {},
   "outputs": [
    {
     "data": {
      "text/plain": [
       "2"
      ]
     },
     "execution_count": 39,
     "metadata": {},
     "output_type": "execute_result"
    }
   ],
   "source": [
    "# should be 2 initially or 0, depending on if kibana hasrun already\n",
    "es.count('*')['count']"
   ]
  },
  {
   "cell_type": "code",
   "execution_count": 40,
   "metadata": {},
   "outputs": [
    {
     "data": {
      "text/plain": [
       "28"
      ]
     },
     "execution_count": 40,
     "metadata": {},
     "output_type": "execute_result"
    }
   ],
   "source": [
    "df.npartitions"
   ]
  },
  {
   "cell_type": "code",
   "execution_count": 41,
   "metadata": {
    "collapsed": true
   },
   "outputs": [],
   "source": [
    "begin_partition = 0\n",
    "end_partition = df.npartitions\n",
    "\n",
    "# begin_partition = 23\n",
    "# end_partition = 25"
   ]
  },
  {
   "cell_type": "code",
   "execution_count": 42,
   "metadata": {},
   "outputs": [
    {
     "name": "stdout",
     "output_type": "stream",
     "text": [
      "Importing partition 0\n",
      "[########################################] | 100% Completed |  5.8s\n",
      "Importing into ES: 6402\n",
      "[                                        ] | 0% Completed |  0.0s\n",
      "Importing partition 1\n",
      "[########################################] | 100% Completed |  5.7s\n",
      "Importing into ES: 6389\n",
      "Datasets in ES: 11931\n",
      "Importing partition 2\n",
      "[########################################] | 100% Completed |  4.7s\n",
      "Importing into ES: 6400\n",
      "Datasets in ES: 15856\n",
      "[                                        ] | 0% Completed |  0.0sImporting partition 3\n",
      "[########################################] | 100% Completed |  4.9s\n",
      "Importing into ES: 6399\n",
      "Datasets in ES: 24466\n",
      "Importing partition 4\n",
      "[########################################] | 100% Completed |  6.4s\n",
      "Importing into ES: 6390\n",
      "Datasets in ES: 27716\n",
      "Importing partition 5\n",
      "[########################################] | 100% Completed |  7.4s\n",
      "Importing into ES: 6400\n",
      "Datasets in ES: 34758\n",
      "[                                        ] | 0% Completed |  0.0sImporting partition 6\n",
      "[########################################] | 100% Completed |  5.0s\n",
      "Importing into ES: 6368\n",
      "Datasets in ES: 41542\n",
      "[                                        ] | 0% Completed |  0.0sImporting partition 7\n",
      "[########################################] | 100% Completed |  5.1s\n",
      "Importing into ES: 6322\n",
      "Datasets in ES: 48952\n",
      "Importing partition 8\n",
      "[########################################] | 100% Completed |  5.0s\n",
      "Importing into ES: 5759\n",
      "Datasets in ES: 54822\n",
      "Importing partition 9\n",
      "[########################################] | 100% Completed |  4.9s\n",
      "Importing into ES: 6385\n",
      "Datasets in ES: 61849\n",
      "[                                        ] | 0% Completed |  0.0sImporting partition 10\n",
      "[########################################] | 100% Completed |  4.8s\n",
      "Importing into ES: 6372\n",
      "Datasets in ES: 64273\n",
      "Importing partition 11\n",
      "[########################################] | 100% Completed |  5.1s\n",
      "Importing into ES: 6375\n",
      "Datasets in ES: 71291\n",
      "[                                        ] | 0% Completed |  0.0s\n",
      "[########################################] | 100% Completed |  6.3s\n",
      "Importing into ES: 6358\n",
      "Datasets in ES: 77252\n",
      "[                                        ] | 0% Completed |  0.0sImporting partition 13\n",
      "[########################################] | 100% Completed |  4.9s\n",
      "Importing into ES: 6379\n",
      "Datasets in ES: 87819\n",
      "Importing partition 14\n",
      "[########################################] | 100% Completed |  4.5s\n",
      "Importing into ES: 6375\n",
      "Datasets in ES: 94465\n",
      "Importing partition 15\n",
      "[########################################] | 100% Completed |  5.2s\n",
      "Importing into ES: 6386\n",
      "Datasets in ES: 97385\n",
      "[                                        ] | 0% Completed |  0.0s\n",
      "[########################################] | 100% Completed |  4.4s\n",
      "Importing into ES: 6343\n",
      "Datasets in ES: 105156\n",
      "Importing partition 17\n",
      "[########################################] | 100% Completed |  6.3s\n",
      "Importing into ES: 6310\n",
      "Datasets in ES: 109966\n",
      "Importing partition 18\n",
      "[########################################] | 100% Completed |  2.0s\n",
      "Importing into ES: 2393\n",
      "Datasets in ES: 114114\n",
      "Importing partition 19\n",
      "[########################################] | 100% Completed |  5.1s\n",
      "Importing into ES: 6370\n",
      "Datasets in ES: 119475\n",
      "[                                        ] | 0% Completed |  0.0s\n",
      "[########################################] | 100% Completed |  4.5s\n",
      "Importing into ES: 6365\n",
      "Datasets in ES: 128372\n",
      "[                                        ] | 0% Completed |  0.0s\n",
      "[########################################] | 100% Completed |  5.4s\n",
      "Importing into ES: 6403\n",
      "Datasets in ES: 131099\n",
      "Importing partition 22\n",
      "[########################################] | 100% Completed |  4.5s\n",
      "Importing into ES: 6368\n",
      "Datasets in ES: 138170\n",
      "Importing partition 23\n",
      "[########################################] | 100% Completed |  4.1s\n",
      "Importing into ES: 6392\n",
      "Datasets in ES: 147700\n",
      "Importing partition 24\n",
      "[########################################] | 100% Completed |  4.4s\n",
      "Importing into ES: 6366\n",
      "Datasets in ES: 152583\n",
      "[                                        ] | 0% Completed |  0.0sImporting partition 25\n",
      "[########################################] | 100% Completed |  5.7s\n",
      "Importing into ES: 6312\n",
      "Datasets in ES: 160501\n",
      "[                                        ] | 0% Completed |  0.0sImporting partition 26\n",
      "[########################################] | 100% Completed |  6.1s\n",
      "Importing into ES: 6330\n",
      "Datasets in ES: 166212\n",
      "Importing partition 27\n",
      "[########################################] | 100% Completed |  1.4s\n",
      "Importing into ES: 1808\n",
      "Datasets in ES: 167414\n"
     ]
    }
   ],
   "source": [
    "for partition_nr in range(df.npartitions):\n",
    "    if partition_nr >= end_partition:\n",
    "        break\n",
    "    if partition_nr < begin_partition:\n",
    "        continue\n",
    "    print (\"Importing partition %d\"%(partition_nr))\n",
    "    partition = df.get_partition(partition_nr)\n",
    "    records = partition.compute().to_dict(orient='records')\n",
    "    print (\"Importing into ES: %d\"%(len(records)))    \n",
    "    chunk_import(records)\n",
    "    cnt = es.count('*')['count']\n",
    "    print (\"Datasets in ES: %d\"%(cnt))"
   ]
  },
  {
   "cell_type": "code",
   "execution_count": 43,
   "metadata": {
    "collapsed": true
   },
   "outputs": [],
   "source": [
    "!mkdir feed"
   ]
  },
  {
   "cell_type": "code",
   "execution_count": 45,
   "metadata": {},
   "outputs": [
    {
     "name": "stdout",
     "output_type": "stream",
     "text": [
      "  % Total    % Received % Xferd  Average Speed   Time    Time     Time  Current\n",
      "                                 Dload  Upload   Total   Spent    Left  Speed\n",
      "100 90.9M  100 90.9M    0     0  4432k      0  0:00:21  0:00:21 --:--:-- 5598k\n"
     ]
    }
   ],
   "source": [
    "!curl -O http://stat-computing.org/dataexpo/2009/2003.csv.bz2"
   ]
  },
  {
   "cell_type": "code",
   "execution_count": 46,
   "metadata": {
    "collapsed": true
   },
   "outputs": [],
   "source": [
    "!bzip2 -d 2003.csv.bz2"
   ]
  },
  {
   "cell_type": "code",
   "execution_count": 49,
   "metadata": {},
   "outputs": [],
   "source": [
    "!mv 2003.csv feed"
   ]
  },
  {
   "cell_type": "code",
   "execution_count": 50,
   "metadata": {},
   "outputs": [
    {
     "name": "stdout",
     "output_type": "stream",
     "text": [
      "total 612056\r\n",
      "-rwxrwxrwx 1 root root 626745242 Feb 10 17:07 2003.csv\r\n"
     ]
    }
   ],
   "source": [
    "!ls -l feed"
   ]
  },
  {
   "cell_type": "code",
   "execution_count": null,
   "metadata": {
    "collapsed": true
   },
   "outputs": [],
   "source": []
  },
  {
   "cell_type": "code",
   "execution_count": null,
   "metadata": {
    "collapsed": true
   },
   "outputs": [],
   "source": [
    "# for live reload of data during demo\n",
    "# execute this and repeat steps from dd.read_csv in Cell 8\n",
    "cd ..\n",
    "mkdir feed\n",
    "cd feed\n",
    "!curl -O http://stat-computing.org/dataexpo/2009/2003.csv.bz2\n",
    "!bzip2 -d 2003.csv.bz2"
   ]
  }
 ],
 "metadata": {
  "kernelspec": {
   "display_name": "Python 3",
   "language": "python",
   "name": "python3"
  },
  "language_info": {
   "codemirror_mode": {
    "name": "ipython",
    "version": 3
   },
   "file_extension": ".py",
   "mimetype": "text/x-python",
   "name": "python",
   "nbconvert_exporter": "python",
   "pygments_lexer": "ipython3",
   "version": "3.6.3"
  }
 },
 "nbformat": 4,
 "nbformat_minor": 2
}
