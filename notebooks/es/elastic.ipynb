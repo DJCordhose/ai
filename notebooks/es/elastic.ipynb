{
 "cells": [
  {
   "cell_type": "code",
   "execution_count": 14,
   "metadata": {},
   "outputs": [
    {
     "name": "stdout",
     "output_type": "stream",
     "text": [
      "Populating the interactive namespace from numpy and matplotlib\n"
     ]
    }
   ],
   "source": [
    "%matplotlib inline\n",
    "%pylab inline"
   ]
  },
  {
   "cell_type": "code",
   "execution_count": 15,
   "metadata": {
    "collapsed": true
   },
   "outputs": [],
   "source": [
    "import warnings\n",
    "warnings.filterwarnings('ignore')"
   ]
  },
  {
   "cell_type": "code",
   "execution_count": 5,
   "metadata": {},
   "outputs": [
    {
     "name": "stdout",
     "output_type": "stream",
     "text": [
      "Collecting pyelasticsearch\n",
      "  Downloading pyelasticsearch-1.4.tar.gz (53kB)\n",
      "\u001b[K    100% |████████████████████████████████| 61kB 931kB/s ta 0:00:01\n",
      "\u001b[?25hRequirement already satisfied: certifi in /home/olli/anaconda3/lib/python3.6/site-packages (from pyelasticsearch)\n",
      "Collecting elasticsearch<2.0.0,>=1.3.0 (from pyelasticsearch)\n",
      "  Downloading elasticsearch-1.9.0-py2.py3-none-any.whl (59kB)\n",
      "\u001b[K    100% |████████████████████████████████| 61kB 2.4MB/s eta 0:00:01\n",
      "\u001b[?25hRequirement already satisfied: urllib3<2.0,>=1.8 in /home/olli/anaconda3/lib/python3.6/site-packages (from pyelasticsearch)\n",
      "Collecting simplejson>=3.0 (from pyelasticsearch)\n",
      "  Downloading simplejson-3.13.2.tar.gz (79kB)\n",
      "\u001b[K    100% |████████████████████████████████| 81kB 1.7MB/s ta 0:00:011\n",
      "\u001b[?25hRequirement already satisfied: six<2.0,>=1.4.0 in /home/olli/anaconda3/lib/python3.6/site-packages (from pyelasticsearch)\n",
      "Building wheels for collected packages: pyelasticsearch, simplejson\n",
      "  Running setup.py bdist_wheel for pyelasticsearch ... \u001b[?25ldone\n",
      "\u001b[?25h  Stored in directory: /home/olli/.cache/pip/wheels/1b/0c/0e/65b564e99a54d8db71e27f3997e55a27a2ab74960f001dac01\n",
      "  Running setup.py bdist_wheel for simplejson ... \u001b[?25ldone\n",
      "\u001b[?25h  Stored in directory: /home/olli/.cache/pip/wheels/c2/d0/42/5d1d1290c19d999277582c585f80426c61987aff01eb104ed6\n",
      "Successfully built pyelasticsearch simplejson\n",
      "Installing collected packages: elasticsearch, simplejson, pyelasticsearch\n",
      "Successfully installed elasticsearch-1.9.0 pyelasticsearch-1.4 simplejson-3.13.2\n"
     ]
    }
   ],
   "source": [
    "# !pip install pyelasticsearch"
   ]
  },
  {
   "cell_type": "code",
   "execution_count": 16,
   "metadata": {},
   "outputs": [],
   "source": [
    "from pyelasticsearch import ElasticSearch, bulk_chunks\n",
    "import pandas as pd"
   ]
  },
  {
   "cell_type": "code",
   "execution_count": 17,
   "metadata": {
    "collapsed": true
   },
   "outputs": [],
   "source": [
    "ES_HOST = 'http://localhost:9200/'\n",
    "INDEX_NAME = \"expo2009\"\n",
    "DOC_TYPE = \"flight\""
   ]
  },
  {
   "cell_type": "code",
   "execution_count": 18,
   "metadata": {
    "collapsed": true
   },
   "outputs": [],
   "source": [
    "# ElasticSearch?"
   ]
  },
  {
   "cell_type": "code",
   "execution_count": 19,
   "metadata": {
    "collapsed": true
   },
   "outputs": [],
   "source": [
    "es = ElasticSearch(ES_HOST)"
   ]
  },
  {
   "cell_type": "code",
   "execution_count": 20,
   "metadata": {},
   "outputs": [
    {
     "data": {
      "text/plain": [
       "1"
      ]
     },
     "execution_count": 20,
     "metadata": {},
     "output_type": "execute_result"
    }
   ],
   "source": [
    "es.count('*')['count']"
   ]
  },
  {
   "cell_type": "code",
   "execution_count": 21,
   "metadata": {},
   "outputs": [
    {
     "name": "stderr",
     "output_type": "stream",
     "text": [
      "DELETE /expo2009 [status:404 request:0.007s]\n"
     ]
    },
    {
     "name": "stdout",
     "output_type": "stream",
     "text": [
      "ERROR: Deleting expo2009 failed!\n"
     ]
    }
   ],
   "source": [
    "# init index\n",
    "try :\n",
    "    es.delete_index(INDEX_NAME)\n",
    "    print('Deleting %s'%(INDEX_NAME))\n",
    "except :\n",
    "    print('ERROR: Deleting %s failed!'%(INDEX_NAME))\n",
    "    pass"
   ]
  },
  {
   "cell_type": "code",
   "execution_count": 22,
   "metadata": {},
   "outputs": [
    {
     "data": {
      "text/plain": [
       "{'acknowledged': True, 'index': 'expo2009', 'shards_acknowledged': True}"
      ]
     },
     "execution_count": 22,
     "metadata": {},
     "output_type": "execute_result"
    }
   ],
   "source": [
    "es.create_index(index=INDEX_NAME)"
   ]
  },
  {
   "cell_type": "code",
   "execution_count": 23,
   "metadata": {},
   "outputs": [
    {
     "data": {
      "text/plain": [
       "{'acknowledged': True}"
      ]
     },
     "execution_count": 23,
     "metadata": {},
     "output_type": "execute_result"
    }
   ],
   "source": [
    "# https://pyelasticsearch.readthedocs.io/en/latest/api/#pyelasticsearch.ElasticSearch.put_mapping\n",
    "# https://www.elastic.co/guide/en/elasticsearch/reference/current/null-value.html\n",
    "mapping = {\n",
    "    'flight': {\n",
    "        'properties': {\n",
    "            'SecurityDelay': {\n",
    "                'type': 'integer',\n",
    "                'null_value': -1\n",
    "            },\n",
    "            'FlightNum': {\n",
    "                'type': 'text'\n",
    "            },\n",
    "            'Origin': {\n",
    "                'type': 'keyword'\n",
    "            },\n",
    "            'LateAircraftDelay': {\n",
    "                'type': 'integer',\n",
    "                'null_value': -1\n",
    "            },\n",
    "            'NASDelay': {\n",
    "                'type': 'integer',\n",
    "                'null_value': -1\n",
    "            },\n",
    "            'ArrTime': {\n",
    "                'type': 'integer'\n",
    "            },\n",
    "            'AirTime': {\n",
    "                'type': 'integer'\n",
    "            },\n",
    "            'DepTime': {\n",
    "                'type': 'integer'\n",
    "            },\n",
    "            'Month': {\n",
    "                'type': 'string'\n",
    "            },\n",
    "            'CRSElapsedTime': {\n",
    "                'type': 'integer'\n",
    "            },\n",
    "            'DayofMonth': {\n",
    "                'type': 'string'\n",
    "            },\n",
    "            'Distance': {\n",
    "                'type': 'integer'\n",
    "            },\n",
    "            'CRSDepTime': {\n",
    "                'type': 'integer',\n",
    "            },\n",
    "            'DayOfWeek': {\n",
    "                'type': 'keyword'\n",
    "            },\n",
    "            'CancellationCode': {\n",
    "                'type': 'keyword'\n",
    "            },\n",
    "            'Dest': {\n",
    "                'type': 'keyword'\n",
    "            },\n",
    "            'DepDelay': {\n",
    "                'type': 'integer'\n",
    "            },\n",
    "            'TaxiIn': {\n",
    "                'type': 'integer'\n",
    "            },\n",
    "            'UniqueCarrier': {\n",
    "                'type': 'keyword'\n",
    "            },\n",
    "            'ArrDelay': {\n",
    "                'type': 'integer'\n",
    "            },\n",
    "            'Cancelled': {\n",
    "                'type': 'boolean'\n",
    "            },\n",
    "            'Diverted': {\n",
    "                'type': 'boolean'\n",
    "            },\n",
    "            'message': {\n",
    "                'type': 'text'\n",
    "            },\n",
    "            'TaxiOut': {\n",
    "                'type': 'integer'\n",
    "            },\n",
    "            'ActualElapsedTime': {\n",
    "                'type': 'integer'\n",
    "            },\n",
    "            'CarrierDelay': {\n",
    "                'type': 'integer',\n",
    "                'null_value': -1\n",
    "            },\n",
    "            '@timestamp': {\n",
    "                'format': 'strict_date_optional_time||epoch_millis',\n",
    "                'type': 'date'\n",
    "            },\n",
    "            'Year': {\n",
    "                'type': 'keyword'\n",
    "            },\n",
    "            'WeatherDelay': {\n",
    "                'type': 'integer',\n",
    "                'null_value': -1\n",
    "            },\n",
    "            'CRSArrTime': {\n",
    "                'type': 'integer'\n",
    "            },\n",
    "            'TailNum': {\n",
    "                'type': 'text'\n",
    "            }\n",
    "        }\n",
    "    }\n",
    "\n",
    "}\n",
    "es.put_mapping(index=INDEX_NAME, doc_type=DOC_TYPE,mapping=mapping )"
   ]
  },
  {
   "cell_type": "code",
   "execution_count": 24,
   "metadata": {},
   "outputs": [
    {
     "data": {
      "text/plain": [
       "1"
      ]
     },
     "execution_count": 24,
     "metadata": {},
     "output_type": "execute_result"
    }
   ],
   "source": [
    "es.count('*')['count']"
   ]
  },
  {
   "cell_type": "code",
   "execution_count": 26,
   "metadata": {
    "collapsed": true
   },
   "outputs": [],
   "source": [
    "# if import fails, we can selectivly remove entries\n",
    "\n",
    "# GET expo2009/_search\n",
    "# {\n",
    "#   \"query\": {\n",
    "#     \"range\": {\n",
    "#         \"@timestamp\" : { \"gte\" : \"2002-01-01T00:00:00\" }\n",
    "#     }\n",
    "#   }\n",
    "# }\n",
    "\n",
    "# # https://www.elastic.co/guide/en/elasticsearch/reference/current/docs-delete-by-query.html\n",
    "\n",
    "# POST expo2009/_delete_by_query\n",
    "# {\n",
    "#   \"query\": { \n",
    "#     \"range\": {\n",
    "#         \"@timestamp\" : { \"gte\" : \"2002-01-01T00:00:00\" }\n",
    "#     }\n",
    "#   }\n",
    "# }"
   ]
  },
  {
   "cell_type": "code",
   "execution_count": null,
   "metadata": {
    "collapsed": true
   },
   "outputs": [],
   "source": [
    "# curl -XPOST \"http://localhost:9200/expo2009/_delete_by_query\" -H 'Content-Type: application/json' -d'\n",
    "# {\n",
    "#   \"query\": { \n",
    "#     \"range\": {\n",
    "#         \"@timestamp\" : { \"gte\" : \"2002-01-01T00:00:00\" }\n",
    "#     }\n",
    "#   }\n",
    "# }'"
   ]
  },
  {
   "cell_type": "markdown",
   "metadata": {},
   "source": [
    "### Link to Kibana having query to exclude cancelled data\n",
    "\n",
    "http://localhost:5601/app/kibana#/discover/54473450-6cc1-11e7-9fcb-d7f604317213?_g=(refreshInterval:(display:Off,pause:!f,value:0),time:(from:'1999-12-31T23:00:00.000Z',mode:absolute,to:'2002-12-31T23:00:00.000Z'))&_a=(columns:!(_source),filters:!(),index:expo2009,interval:M,query:(query_string:(analyze_wildcard:!t,query:'Cancelled:%20false')),sort:!('@timestamp',desc))"
   ]
  },
  {
   "cell_type": "code",
   "execution_count": null,
   "metadata": {
    "collapsed": true
   },
   "outputs": [],
   "source": []
  }
 ],
 "metadata": {
  "kernelspec": {
   "display_name": "Python 3",
   "language": "python",
   "name": "python3"
  },
  "language_info": {
   "codemirror_mode": {
    "name": "ipython",
    "version": 3
   },
   "file_extension": ".py",
   "mimetype": "text/x-python",
   "name": "python",
   "nbconvert_exporter": "python",
   "pygments_lexer": "ipython3",
   "version": "3.6.3"
  }
 },
 "nbformat": 4,
 "nbformat_minor": 2
}
