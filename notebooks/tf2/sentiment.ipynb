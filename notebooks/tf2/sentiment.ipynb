{
  "nbformat": 4,
  "nbformat_minor": 0,
  "metadata": {
    "colab": {
      "name": "Sentiment Analysis with GRUs",
      "version": "0.3.2",
      "provenance": [],
      "include_colab_link": true
    },
    "kernelspec": {
      "name": "python3",
      "display_name": "Python 3"
    },
    "accelerator": "GPU"
  },
  "cells": [
    {
      "cell_type": "markdown",
      "metadata": {
        "id": "view-in-github",
        "colab_type": "text"
      },
      "source": [
        "<a href=\"https://colab.research.google.com/github/DJCordhose/ai/blob/master/notebooks/tf2/sentiment.ipynb\" target=\"_parent\"><img src=\"https://colab.research.google.com/assets/colab-badge.svg\" alt=\"Open In Colab\"/></a>"
      ]
    },
    {
      "cell_type": "markdown",
      "metadata": {
        "id": "s2frfCoIVCJu",
        "colab_type": "text"
      },
      "source": [
        "# Sentiment Analysis on Movie Revies\n",
        "\n",
        "Based on https://github.com/fchollet/deep-learning-with-python-notebooks/blob/master/6.2-understanding-recurrent-neural-networks.ipynb"
      ]
    },
    {
      "cell_type": "code",
      "metadata": {
        "colab_type": "code",
        "id": "dD2oFWcPDlS7",
        "colab": {}
      },
      "source": [
        "!pip install -q tf-nightly-gpu-2.0-preview"
      ],
      "execution_count": 0,
      "outputs": []
    },
    {
      "cell_type": "code",
      "metadata": {
        "id": "SWU_dJucVK-Q",
        "colab_type": "code",
        "colab": {
          "base_uri": "https://localhost:8080/",
          "height": 34
        },
        "outputId": "bb40010f-86de-4d94-94e4-e1928a6db39c"
      },
      "source": [
        "import tensorflow as tf\n",
        "print(tf.__version__)"
      ],
      "execution_count": 2,
      "outputs": [
        {
          "output_type": "stream",
          "text": [
            "2.0.0-dev20190502\n"
          ],
          "name": "stdout"
        }
      ]
    },
    {
      "cell_type": "code",
      "metadata": {
        "colab_type": "code",
        "id": "5J89_UNNDlTA",
        "colab": {}
      },
      "source": [
        "import matplotlib.pyplot as plt\n",
        "import pandas as pd\n",
        "import tensorflow as tf"
      ],
      "execution_count": 0,
      "outputs": []
    },
    {
      "cell_type": "code",
      "metadata": {
        "colab_type": "code",
        "id": "CaEsC1yJDlTO",
        "colab": {}
      },
      "source": [
        "# https://keras.io/datasets/#imdb-movie-reviews-sentiment-classification\n",
        "max_features = 10000  # number of words to consider as features\n",
        "maxlen = 500  # cut texts after this number of words (among top max_features most common words)\n",
        "\n",
        "# each review is encoded as a sequence of word indexes\n",
        "# indexed by overall frequency in the dataset\n",
        "# output is 0 (negative) or 1 (positive) \n",
        "imdb = tf.keras.datasets.imdb.load_data(num_words=max_features)\n",
        "(raw_input_train, y_train), (raw_input_test, y_test) = imdb\n",
        "\n",
        "# https://www.tensorflow.org/api_docs/python/tf/keras/preprocessing/sequence/pad_sequences\n",
        "\n",
        "input_train = tf.keras.preprocessing.sequence.pad_sequences(raw_input_train, maxlen=maxlen)\n",
        "input_test = tf.keras.preprocessing.sequence.pad_sequences(raw_input_test, maxlen=maxlen)"
      ],
      "execution_count": 0,
      "outputs": []
    },
    {
      "cell_type": "markdown",
      "metadata": {
        "colab_type": "text",
        "id": "77aA5qukDlTa"
      },
      "source": [
        "## GRU RNNs"
      ]
    },
    {
      "cell_type": "code",
      "metadata": {
        "colab_type": "code",
        "id": "3P5IXssDDlTa",
        "outputId": "b0ba3c65-a866-4f22-989a-0d976377f5fc",
        "colab": {
          "base_uri": "https://localhost:8080/",
          "height": 510
        }
      },
      "source": [
        "from tensorflow.keras.layers import GRU, Embedding, BatchNormalization, Dropout\n",
        "from tensorflow.keras.models import Sequential, Model\n",
        "\n",
        "embedding_dim = 32\n",
        "\n",
        "dropout = 0.7\n",
        "\n",
        "model = Sequential()\n",
        "\n",
        "# encoder\n",
        "model.add(Embedding(input_dim=max_features, output_dim=embedding_dim, input_length=maxlen))\n",
        "\n",
        "# return_sequences passes all outputs of all timesteps (not only the last one) to the next layer\n",
        "model.add(GRU(name='gru1', units=32, return_sequences=True))\n",
        "\n",
        "# for embedding: 32*2 (“standard deviation” parameter (gamma), “mean” parameter (beta)) trainable parameters\n",
        "# and 32*2 (moving_mean and moving_variance) non-trainable parameters\n",
        "model.add(BatchNormalization())  \n",
        "model.add(Dropout(dropout))\n",
        "\n",
        "# stack recurrent layers like with fc\n",
        "model.add(GRU(name='gru2', units=32))\n",
        "model.add(BatchNormalization())\n",
        "model.add(Dropout(dropout))\n",
        "\n",
        "# latent space\n",
        "model.add(tf.keras.layers.Dense(name='fc', units=32, activation='relu'))\n",
        "\n",
        "# binary classifier as decoder\n",
        "model.add(tf.keras.layers.Dense(name='classifier', units=1, activation='sigmoid'))\n",
        "\n",
        "model.compile(optimizer='adam', loss='binary_crossentropy', metrics=['accuracy'])\n",
        "\n",
        "model.summary()"
      ],
      "execution_count": 5,
      "outputs": [
        {
          "output_type": "stream",
          "text": [
            "WARNING: Logging before flag parsing goes to stderr.\n",
            "W0502 19:06:56.682862 140566851819392 nn_ops.py:4202] Large dropout rate: 0.7 (>0.5). In TensorFlow 2.x, dropout() uses dropout rate instead of keep_prob. Please ensure that this is intended.\n",
            "W0502 19:06:57.382216 140566851819392 nn_ops.py:4202] Large dropout rate: 0.7 (>0.5). In TensorFlow 2.x, dropout() uses dropout rate instead of keep_prob. Please ensure that this is intended.\n"
          ],
          "name": "stderr"
        },
        {
          "output_type": "stream",
          "text": [
            "Model: \"sequential\"\n",
            "_________________________________________________________________\n",
            "Layer (type)                 Output Shape              Param #   \n",
            "=================================================================\n",
            "embedding (Embedding)        (None, 500, 32)           320000    \n",
            "_________________________________________________________________\n",
            "gru1 (GRU)                   (None, 500, 32)           6336      \n",
            "_________________________________________________________________\n",
            "batch_normalization (BatchNo (None, 500, 32)           128       \n",
            "_________________________________________________________________\n",
            "dropout (Dropout)            (None, 500, 32)           0         \n",
            "_________________________________________________________________\n",
            "gru2 (GRU)                   (None, 32)                6336      \n",
            "_________________________________________________________________\n",
            "batch_normalization_1 (Batch (None, 32)                128       \n",
            "_________________________________________________________________\n",
            "dropout_1 (Dropout)          (None, 32)                0         \n",
            "_________________________________________________________________\n",
            "fc (Dense)                   (None, 32)                1056      \n",
            "_________________________________________________________________\n",
            "classifier (Dense)           (None, 1)                 33        \n",
            "=================================================================\n",
            "Total params: 334,017\n",
            "Trainable params: 333,889\n",
            "Non-trainable params: 128\n",
            "_________________________________________________________________\n"
          ],
          "name": "stdout"
        }
      ]
    },
    {
      "cell_type": "code",
      "metadata": {
        "colab_type": "code",
        "id": "YnGRCa_NDlTe",
        "outputId": "50e28beb-c5df-4f90-c3e6-8eacb730c910",
        "colab": {
          "base_uri": "https://localhost:8080/",
          "height": 578
        }
      },
      "source": [
        "batch_size = 1000\n",
        "\n",
        "%time history = model.fit(input_train, y_train, epochs=15, batch_size=batch_size, validation_split=0.4)"
      ],
      "execution_count": 6,
      "outputs": [
        {
          "output_type": "stream",
          "text": [
            "Train on 15000 samples, validate on 10000 samples\n",
            "Epoch 1/15\n",
            "15000/15000 [==============================] - 128s 9ms/sample - loss: 0.9416 - accuracy: 0.5109 - val_loss: 0.6932 - val_accuracy: 0.5033\n",
            "Epoch 2/15\n",
            "15000/15000 [==============================] - 128s 9ms/sample - loss: 0.7826 - accuracy: 0.5363 - val_loss: 0.6939 - val_accuracy: 0.5033\n",
            "Epoch 3/15\n",
            "15000/15000 [==============================] - 125s 8ms/sample - loss: 0.7103 - accuracy: 0.5753 - val_loss: 0.6936 - val_accuracy: 0.5033\n",
            "Epoch 4/15\n",
            "15000/15000 [==============================] - 126s 8ms/sample - loss: 0.6470 - accuracy: 0.6333 - val_loss: 0.6900 - val_accuracy: 0.5033\n",
            "Epoch 5/15\n",
            "15000/15000 [==============================] - 127s 8ms/sample - loss: 0.5690 - accuracy: 0.7126 - val_loss: 0.6802 - val_accuracy: 0.5043\n",
            "Epoch 6/15\n",
            "15000/15000 [==============================] - 126s 8ms/sample - loss: 0.4706 - accuracy: 0.7894 - val_loss: 0.6349 - val_accuracy: 0.5998\n",
            "Epoch 7/15\n",
            "15000/15000 [==============================] - 128s 9ms/sample - loss: 0.3616 - accuracy: 0.8592 - val_loss: 0.6244 - val_accuracy: 0.5795\n",
            "Epoch 8/15\n",
            "15000/15000 [==============================] - 125s 8ms/sample - loss: 0.2638 - accuracy: 0.9113 - val_loss: 0.6234 - val_accuracy: 0.5834\n",
            "Epoch 9/15\n",
            "15000/15000 [==============================] - 126s 8ms/sample - loss: 0.2033 - accuracy: 0.9351 - val_loss: 0.5449 - val_accuracy: 0.6892\n",
            "Epoch 10/15\n",
            "15000/15000 [==============================] - 126s 8ms/sample - loss: 0.1588 - accuracy: 0.9541 - val_loss: 0.4279 - val_accuracy: 0.8317\n",
            "Epoch 11/15\n",
            "15000/15000 [==============================] - 125s 8ms/sample - loss: 0.1298 - accuracy: 0.9638 - val_loss: 0.4055 - val_accuracy: 0.8367\n",
            "Epoch 12/15\n",
            "15000/15000 [==============================] - 126s 8ms/sample - loss: 0.1189 - accuracy: 0.9661 - val_loss: 0.4855 - val_accuracy: 0.7584\n",
            "Epoch 13/15\n",
            "15000/15000 [==============================] - 124s 8ms/sample - loss: 0.0826 - accuracy: 0.9811 - val_loss: 0.3884 - val_accuracy: 0.8323\n",
            "Epoch 14/15\n",
            "15000/15000 [==============================] - 124s 8ms/sample - loss: 0.0658 - accuracy: 0.9870 - val_loss: 0.4308 - val_accuracy: 0.8081\n",
            "Epoch 15/15\n",
            "15000/15000 [==============================] - 125s 8ms/sample - loss: 0.0621 - accuracy: 0.9858 - val_loss: 0.3984 - val_accuracy: 0.8308\n",
            "CPU times: user 55min 14s, sys: 3min 28s, total: 58min 43s\n",
            "Wall time: 31min 29s\n"
          ],
          "name": "stdout"
        }
      ]
    },
    {
      "cell_type": "code",
      "metadata": {
        "id": "0064tWF4XOpn",
        "colab_type": "code",
        "colab": {
          "base_uri": "https://localhost:8080/",
          "height": 300
        },
        "outputId": "cb865faf-f95d-4166-e776-ae5a25135334"
      },
      "source": [
        "import matplotlib.pyplot as plt\n",
        "\n",
        "plt.ylabel(\"accuracy\")\n",
        "plt.xlabel(\"epochs\")\n",
        "\n",
        "plt.plot(history.history['accuracy'])\n",
        "plt.plot(history.history['val_accuracy'])\n",
        "\n",
        "plt.legend([\"Accuracy\", \"Valdation Accuracy\"])"
      ],
      "execution_count": 7,
      "outputs": [
        {
          "output_type": "execute_result",
          "data": {
            "text/plain": [
              "<matplotlib.legend.Legend at 0x7fd7d9375c88>"
            ]
          },
          "metadata": {
            "tags": []
          },
          "execution_count": 7
        },
        {
          "output_type": "display_data",
          "data": {
            "image/png": "[encoded data removed]",
            "text/plain": [
              "<Figure size 432x288 with 1 Axes>"
            ]
          },
          "metadata": {
            "tags": []
          }
        }
      ]
    },
    {
      "cell_type": "code",
      "metadata": {
        "colab_type": "code",
        "id": "jL_GisrYDlTj",
        "outputId": "297d22b9-fc1c-460e-d4f9-32a30e24fb23",
        "colab": {
          "base_uri": "https://localhost:8080/",
          "height": 51
        }
      },
      "source": [
        "train_loss, train_accuracy = model.evaluate(input_train, y_train, batch_size=batch_size)\n",
        "train_accuracy"
      ],
      "execution_count": 8,
      "outputs": [
        {
          "output_type": "stream",
          "text": [
            "25000/25000 [==============================] - 16s 659us/sample - loss: 0.2308 - accuracy: 0.9284\n"
          ],
          "name": "stdout"
        },
        {
          "output_type": "execute_result",
          "data": {
            "text/plain": [
              "0.92836"
            ]
          },
          "metadata": {
            "tags": []
          },
          "execution_count": 8
        }
      ]
    },
    {
      "cell_type": "code",
      "metadata": {
        "colab_type": "code",
        "id": "WPdu2AZ9DlTo",
        "outputId": "630342e4-04a4-460f-c39d-dc9ce4e5667c",
        "colab": {
          "base_uri": "https://localhost:8080/",
          "height": 51
        }
      },
      "source": [
        "test_loss, test_accuracy = model.evaluate(input_test, y_test, batch_size=batch_size)\n",
        "test_accuracy"
      ],
      "execution_count": 9,
      "outputs": [
        {
          "output_type": "stream",
          "text": [
            "25000/25000 [==============================] - 18s 703us/sample - loss: 0.4162 - accuracy: 0.8174\n"
          ],
          "name": "stdout"
        },
        {
          "output_type": "execute_result",
          "data": {
            "text/plain": [
              "0.81736"
            ]
          },
          "metadata": {
            "tags": []
          },
          "execution_count": 9
        }
      ]
    },
    {
      "cell_type": "code",
      "metadata": {
        "colab_type": "code",
        "id": "ncybHXhYDlTr",
        "outputId": "3b6caef4-d7a7-4805-ea80-dfd511f61349",
        "colab": {
          "base_uri": "https://localhost:8080/",
          "height": 102
        }
      },
      "source": [
        "# precition\n",
        "model.predict(input_test[0:5])"
      ],
      "execution_count": 20,
      "outputs": [
        {
          "output_type": "execute_result",
          "data": {
            "text/plain": [
              "array([[0.26075655],\n",
              "       [0.97113156],\n",
              "       [0.8640883 ],\n",
              "       [0.24265748],\n",
              "       [0.9815538 ]], dtype=float32)"
            ]
          },
          "metadata": {
            "tags": []
          },
          "execution_count": 20
        }
      ]
    },
    {
      "cell_type": "code",
      "metadata": {
        "colab_type": "code",
        "id": "odwgxZ1SDlTv",
        "outputId": "971ff674-788e-4bd4-f670-c1db88674b63",
        "colab": {
          "base_uri": "https://localhost:8080/",
          "height": 34
        }
      },
      "source": [
        "# ground truth\n",
        "y_test[0:5]"
      ],
      "execution_count": 11,
      "outputs": [
        {
          "output_type": "execute_result",
          "data": {
            "text/plain": [
              "array([0, 1, 1, 0, 1])"
            ]
          },
          "metadata": {
            "tags": []
          },
          "execution_count": 11
        }
      ]
    }
  ]
}