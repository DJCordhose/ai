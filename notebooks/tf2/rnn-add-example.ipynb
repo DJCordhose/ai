{
  "nbformat": 4,
  "nbformat_minor": 0,
  "metadata": {
    "colab": {
      "name": "rnn-add-example.ipynb",
      "version": "0.3.2",
      "provenance": [],
      "include_colab_link": true
    },
    "kernelspec": {
      "display_name": "Python 3",
      "language": "python",
      "name": "python3"
    },
    "accelerator": "GPU"
  },
  "cells": [
    {
      "cell_type": "markdown",
      "metadata": {
        "id": "view-in-github",
        "colab_type": "text"
      },
      "source": [
        "<a href=\"https://colab.research.google.com/github/DJCordhose/ai/blob/master/notebooks/tf2/rnn-add-example.ipynb\" target=\"_parent\"><img src=\"https://colab.research.google.com/assets/colab-badge.svg\" alt=\"Open In Colab\"/></a>"
      ]
    },
    {
      "metadata": {
        "id": "28hWKJQtK1oJ",
        "colab_type": "text"
      },
      "cell_type": "markdown",
      "source": [
        "# Addition as a Sequence to Sequence Translation\n",
        "Adapted from https://github.com/keras-team/keras/blob/master/examples/addition_rnn.py"
      ]
    },
    {
      "metadata": {
        "id": "Zqi1xb086Gl_",
        "colab_type": "code",
        "colab": {
          "base_uri": "https://localhost:8080/",
          "height": 119
        },
        "outputId": "8a55645a-fc1d-46e2-d84c-4026be8bf7db"
      },
      "cell_type": "code",
      "source": [
        "!pip install -q tf-nightly-gpu-2.0-preview"
      ],
      "execution_count": 1,
      "outputs": [
        {
          "output_type": "stream",
          "text": [
            "\u001b[K     |████████████████████████████████| 346.4MB 59kB/s \n",
            "\u001b[K     |████████████████████████████████| 430kB 51.3MB/s \n",
            "\u001b[K     |████████████████████████████████| 61kB 29.5MB/s \n",
            "\u001b[K     |████████████████████████████████| 3.1MB 44.4MB/s \n",
            "\u001b[?25h  Building wheel for wrapt (setup.py) ... \u001b[?25l\u001b[?25hdone\n",
            "\u001b[31mERROR: thinc 6.12.1 has requirement wrapt<1.11.0,>=1.10.0, but you'll have wrapt 1.11.1 which is incompatible.\u001b[0m\n"
          ],
          "name": "stdout"
        }
      ]
    },
    {
      "metadata": {
        "id": "Wabs7qeWK7la",
        "colab_type": "code",
        "colab": {
          "base_uri": "https://localhost:8080/",
          "height": 34
        },
        "outputId": "fffc4193-fcb6-423a-a653-0d3924870411"
      },
      "cell_type": "code",
      "source": [
        "import tensorflow as tf\n",
        "print(tf.__version__)"
      ],
      "execution_count": 2,
      "outputs": [
        {
          "output_type": "stream",
          "text": [
            "2.0.0-dev20190502\n"
          ],
          "name": "stdout"
        }
      ]
    },
    {
      "metadata": {
        "id": "SEvTJtaL6GmR",
        "colab_type": "text"
      },
      "cell_type": "markdown",
      "source": [
        "### Step 1: Generate sample equations"
      ]
    },
    {
      "metadata": {
        "id": "IAz9Tnpu6GmR",
        "colab_type": "code",
        "colab": {}
      },
      "cell_type": "code",
      "source": [
        "class CharacterTable(object):\n",
        "    \"\"\"Given a set of characters:\n",
        "    + Encode them to a one hot integer representation\n",
        "    + Decode the one hot integer representation to their character output\n",
        "    + Decode a vector of probabilities to their character output\n",
        "    \"\"\"\n",
        "    def __init__(self, chars):\n",
        "        \"\"\"Initialize character table.\n",
        "\n",
        "        # Arguments\n",
        "            chars: Characters that can appear in the input.\n",
        "        \"\"\"\n",
        "        self.chars = sorted(set(chars))\n",
        "        self.char_indices = dict((c, i) for i, c in enumerate(self.chars))\n",
        "        self.indices_char = dict((i, c) for i, c in enumerate(self.chars))\n",
        "\n",
        "    def encode(self, C, num_rows):\n",
        "        \"\"\"One hot encode given string C.\n",
        "\n",
        "        # Arguments\n",
        "            num_rows: Number of rows in the returned one hot encoding. This is\n",
        "                used to keep the # of rows for each data the same.\n",
        "        \"\"\"\n",
        "        x = np.zeros((num_rows, len(self.chars)))\n",
        "        for i, c in enumerate(C):\n",
        "            x[i, self.char_indices[c]] = 1\n",
        "        return x\n",
        "\n",
        "    def decode(self, x, calc_argmax=True):\n",
        "        if calc_argmax:\n",
        "            x = x.argmax(axis=-1)\n",
        "        return ''.join(self.indices_char[x] for x in x)\n"
      ],
      "execution_count": 0,
      "outputs": []
    },
    {
      "metadata": {
        "id": "DqdzUFGZ6GmV",
        "colab_type": "code",
        "colab": {}
      },
      "cell_type": "code",
      "source": [
        "class colors:\n",
        "    ok = '\\033[92m'\n",
        "    fail = '\\033[91m'\n",
        "    close = '\\033[0m'"
      ],
      "execution_count": 0,
      "outputs": []
    },
    {
      "metadata": {
        "id": "kf7L7DwB6GmY",
        "colab_type": "code",
        "outputId": "80854972-9aa5-4cbd-fa39-8f6cf60aa19d",
        "colab": {
          "base_uri": "https://localhost:8080/",
          "height": 51
        }
      },
      "cell_type": "code",
      "source": [
        "import numpy as np\n",
        "\n",
        "# Parameters for the model and dataset.\n",
        "TRAINING_SIZE = 50000\n",
        "DIGITS = 3\n",
        "# REVERSE = True\n",
        "REVERSE = False\n",
        "\n",
        "# Maximum length of input is 'int + int' (e.g., '345+678'). Maximum length of\n",
        "# int is DIGITS.\n",
        "MAXLEN = DIGITS + 1 + DIGITS\n",
        "\n",
        "# All the numbers, plus sign and space for padding.\n",
        "chars = '0123456789+ '\n",
        "ctable = CharacterTable(chars)\n",
        "\n",
        "questions = []\n",
        "expected = []\n",
        "seen = set()\n",
        "print('Generating data...')\n",
        "while len(questions) < TRAINING_SIZE:\n",
        "    f = lambda: int(''.join(np.random.choice(list('0123456789'))\n",
        "                    for i in range(np.random.randint(1, DIGITS + 1))))\n",
        "    a, b = f(), f()\n",
        "    # Skip any addition questions we've already seen\n",
        "    # Also skip any such that x+Y == Y+x (hence the sorting).\n",
        "    key = tuple(sorted((a, b)))\n",
        "    if key in seen:\n",
        "        continue\n",
        "    seen.add(key)\n",
        "    # Pad the data with spaces such that it is always MAXLEN.\n",
        "    q = '{}+{}'.format(a, b)\n",
        "    query = q + ' ' * (MAXLEN - len(q))\n",
        "    ans = str(a + b)\n",
        "    # Answers can be of maximum size DIGITS + 1.\n",
        "    ans += ' ' * (DIGITS + 1 - len(ans))\n",
        "    if REVERSE:\n",
        "        # Reverse the query, e.g., '12+345  ' becomes '  543+21'. (Note the\n",
        "        # space used for padding.)\n",
        "        query = query[::-1]\n",
        "    questions.append(query)\n",
        "    expected.append(ans)\n",
        "print('Total addition questions:', len(questions))"
      ],
      "execution_count": 6,
      "outputs": [
        {
          "output_type": "stream",
          "text": [
            "Generating data...\n",
            "Total addition questions: 50000\n"
          ],
          "name": "stdout"
        }
      ]
    },
    {
      "metadata": {
        "id": "gTLONdDN6Gmc",
        "colab_type": "code",
        "outputId": "2e360795-846c-4099-ab62-3561fec54033",
        "colab": {
          "base_uri": "https://localhost:8080/",
          "height": 34
        }
      },
      "cell_type": "code",
      "source": [
        "questions[0]"
      ],
      "execution_count": 13,
      "outputs": [
        {
          "output_type": "execute_result",
          "data": {
            "text/plain": [
              "'506+0  '"
            ]
          },
          "metadata": {
            "tags": []
          },
          "execution_count": 13
        }
      ]
    },
    {
      "metadata": {
        "id": "YwcSV3ieNBI_",
        "colab_type": "code",
        "colab": {
          "base_uri": "https://localhost:8080/",
          "height": 34
        },
        "outputId": "e9ade81e-754d-4c5e-ec06-bb31bb68b57d"
      },
      "cell_type": "code",
      "source": [
        "expected[0]"
      ],
      "execution_count": 14,
      "outputs": [
        {
          "output_type": "execute_result",
          "data": {
            "text/plain": [
              "'506 '"
            ]
          },
          "metadata": {
            "tags": []
          },
          "execution_count": 14
        }
      ]
    },
    {
      "metadata": {
        "id": "L6n6X_w26Gmg",
        "colab_type": "code",
        "outputId": "a99fb837-06ae-4866-c83d-cca0a536f8f3",
        "colab": {
          "base_uri": "https://localhost:8080/",
          "height": 34
        }
      },
      "cell_type": "code",
      "source": [
        "print('Vectorization...')\n",
        "x = np.zeros((len(questions), MAXLEN, len(chars)), dtype=np.bool)\n",
        "y = np.zeros((len(questions), DIGITS + 1, len(chars)), dtype=np.bool)\n",
        "for i, sentence in enumerate(questions):\n",
        "    x[i] = ctable.encode(sentence, MAXLEN)\n",
        "for i, sentence in enumerate(expected):\n",
        "    y[i] = ctable.encode(sentence, DIGITS + 1)\n"
      ],
      "execution_count": 8,
      "outputs": [
        {
          "output_type": "stream",
          "text": [
            "Vectorization...\n"
          ],
          "name": "stdout"
        }
      ]
    },
    {
      "metadata": {
        "id": "L1rqJg9v6Gmk",
        "colab_type": "code",
        "outputId": "cab39d40-56f9-4e16-b9a9-deb956b1cefe",
        "colab": {
          "base_uri": "https://localhost:8080/",
          "height": 34
        }
      },
      "cell_type": "code",
      "source": [
        "len(x[0])"
      ],
      "execution_count": 9,
      "outputs": [
        {
          "output_type": "execute_result",
          "data": {
            "text/plain": [
              "7"
            ]
          },
          "metadata": {
            "tags": []
          },
          "execution_count": 9
        }
      ]
    },
    {
      "metadata": {
        "id": "0lgZ9xs-6Gmo",
        "colab_type": "code",
        "outputId": "02d4879d-de1d-4218-c977-efe33906b722",
        "colab": {
          "base_uri": "https://localhost:8080/",
          "height": 34
        }
      },
      "cell_type": "code",
      "source": [
        "len(questions[0])"
      ],
      "execution_count": 10,
      "outputs": [
        {
          "output_type": "execute_result",
          "data": {
            "text/plain": [
              "7"
            ]
          },
          "metadata": {
            "tags": []
          },
          "execution_count": 10
        }
      ]
    },
    {
      "metadata": {
        "id": "NLtol2BUW1tk",
        "colab_type": "text"
      },
      "cell_type": "markdown",
      "source": [
        "### Input is encoded as one-hot, 7 digits times 12 possibilities"
      ]
    },
    {
      "metadata": {
        "id": "wZ_g5cHf6Gmw",
        "colab_type": "code",
        "outputId": "ab303c9d-865e-4c53-ab5b-f21490167a20",
        "colab": {
          "base_uri": "https://localhost:8080/",
          "height": 255
        }
      },
      "cell_type": "code",
      "source": [
        "x[0]"
      ],
      "execution_count": 12,
      "outputs": [
        {
          "output_type": "execute_result",
          "data": {
            "text/plain": [
              "array([[False, False, False, False, False, False, False,  True, False,\n",
              "        False, False, False],\n",
              "       [False, False,  True, False, False, False, False, False, False,\n",
              "        False, False, False],\n",
              "       [False, False, False, False, False, False, False, False,  True,\n",
              "        False, False, False],\n",
              "       [False,  True, False, False, False, False, False, False, False,\n",
              "        False, False, False],\n",
              "       [False, False,  True, False, False, False, False, False, False,\n",
              "        False, False, False],\n",
              "       [ True, False, False, False, False, False, False, False, False,\n",
              "        False, False, False],\n",
              "       [ True, False, False, False, False, False, False, False, False,\n",
              "        False, False, False]])"
            ]
          },
          "metadata": {
            "tags": []
          },
          "execution_count": 12
        }
      ]
    },
    {
      "metadata": {
        "id": "mbX2RzJVW-dN",
        "colab_type": "text"
      },
      "cell_type": "markdown",
      "source": [
        "### Same for output, but at most 4 digits"
      ]
    },
    {
      "metadata": {
        "id": "hWldgEEJ6Gmz",
        "colab_type": "code",
        "outputId": "8af2264b-6c00-41e3-bdda-d4592585271a",
        "colab": {
          "base_uri": "https://localhost:8080/",
          "height": 153
        }
      },
      "cell_type": "code",
      "source": [
        "y[0]"
      ],
      "execution_count": 15,
      "outputs": [
        {
          "output_type": "execute_result",
          "data": {
            "text/plain": [
              "array([[False, False, False, False, False, False, False,  True, False,\n",
              "        False, False, False],\n",
              "       [False, False,  True, False, False, False, False, False, False,\n",
              "        False, False, False],\n",
              "       [False, False, False, False, False, False, False, False,  True,\n",
              "        False, False, False],\n",
              "       [ True, False, False, False, False, False, False, False, False,\n",
              "        False, False, False]])"
            ]
          },
          "metadata": {
            "tags": []
          },
          "execution_count": 15
        }
      ]
    },
    {
      "metadata": {
        "id": "XPO5c5xe6GnB",
        "colab_type": "code",
        "colab": {}
      },
      "cell_type": "code",
      "source": [
        "# Shuffle (x, y) in unison as the later parts of x will almost all be larger\n",
        "# digits.\n",
        "indices = np.arange(len(y))\n",
        "np.random.shuffle(indices)\n",
        "x = x[indices]\n",
        "y = y[indices]"
      ],
      "execution_count": 0,
      "outputs": []
    },
    {
      "metadata": {
        "id": "envfa2ZT6GnE",
        "colab_type": "text"
      },
      "cell_type": "markdown",
      "source": [
        "### Step 2: Training/Validation Split"
      ]
    },
    {
      "metadata": {
        "id": "bDSoeziy6GnE",
        "colab_type": "code",
        "outputId": "459c9e3f-30a1-4c82-d575-9c1cdf854746",
        "colab": {
          "base_uri": "https://localhost:8080/",
          "height": 119
        }
      },
      "cell_type": "code",
      "source": [
        "# Explicitly set apart 10% for validation data that we never train over.\n",
        "split_at = len(x) - len(x) // 10\n",
        "(x_train, x_val) = x[:split_at], x[split_at:]\n",
        "(y_train, y_val) = y[:split_at], y[split_at:]\n",
        "\n",
        "print('Training Data:')\n",
        "print(x_train.shape)\n",
        "print(y_train.shape)\n",
        "\n",
        "print('Validation Data:')\n",
        "print(x_val.shape)\n",
        "print(y_val.shape)"
      ],
      "execution_count": 17,
      "outputs": [
        {
          "output_type": "stream",
          "text": [
            "Training Data:\n",
            "(45000, 7, 12)\n",
            "(45000, 4, 12)\n",
            "Validation Data:\n",
            "(5000, 7, 12)\n",
            "(5000, 4, 12)\n"
          ],
          "name": "stdout"
        }
      ]
    },
    {
      "metadata": {
        "id": "bPUg9slY6GnK",
        "colab_type": "text"
      },
      "cell_type": "markdown",
      "source": [
        "### Step 3: Create Model"
      ]
    },
    {
      "metadata": {
        "id": "wK_ll_ew6GnL",
        "colab_type": "code",
        "outputId": "e18d9a77-35a1-4860-885c-44192bb20886",
        "colab": {
          "base_uri": "https://localhost:8080/",
          "height": 34
        }
      },
      "cell_type": "code",
      "source": [
        "# input shape: 7 digits, each being 0-9, + or space (12 possibilities)\n",
        "MAXLEN, len(chars)"
      ],
      "execution_count": 18,
      "outputs": [
        {
          "output_type": "execute_result",
          "data": {
            "text/plain": [
              "(7, 12)"
            ]
          },
          "metadata": {
            "tags": []
          },
          "execution_count": 18
        }
      ]
    },
    {
      "metadata": {
        "id": "dksl6o766GnO",
        "colab_type": "code",
        "outputId": "01e4f859-1458-47e6-89e6-adbcf6a25ec1",
        "colab": {
          "base_uri": "https://localhost:8080/",
          "height": 323
        }
      },
      "cell_type": "code",
      "source": [
        "from tensorflow.keras.models import Sequential\n",
        "from tensorflow.keras.layers import  LSTM, GRU, SimpleRNN, Dense, RepeatVector\n",
        "\n",
        "# Try replacing LSTM, GRU, or SimpleRNN.\n",
        "# RNN = LSTM\n",
        "RNN = SimpleRNN # should be enough since we do not have long sequences and only local dependencies\n",
        "# RNN = GRU\n",
        "HIDDEN_SIZE = 128\n",
        "BATCH_SIZE = 128\n",
        "\n",
        "model = Sequential()\n",
        "# encoder \n",
        "model.add(RNN(units=HIDDEN_SIZE, input_shape=(MAXLEN, len(chars))))\n",
        "\n",
        "# latent space\n",
        "encoding_dim = 32\n",
        "model.add(Dense(units=encoding_dim, activation='relu', name=\"encoder\"))\n",
        "\n",
        "# decoder: have 4 temporal outputs one for each of the digits of the results\n",
        "model.add(RepeatVector(DIGITS + 1))\n",
        "\n",
        "# return_sequences=True tells it to keep all 4 temporal outputs, not only the final one (we need all four digits for the results)\n",
        "model.add(RNN(units=HIDDEN_SIZE, return_sequences=True))\n",
        "\n",
        "model.add(Dense(name='classifier', units=len(chars), activation='softmax'))\n",
        "\n",
        "model.compile(loss='categorical_crossentropy',\n",
        "              optimizer='adam',\n",
        "              metrics=['accuracy'])\n",
        "model.summary()"
      ],
      "execution_count": 23,
      "outputs": [
        {
          "output_type": "stream",
          "text": [
            "Model: \"sequential_2\"\n",
            "_________________________________________________________________\n",
            "Layer (type)                 Output Shape              Param #   \n",
            "=================================================================\n",
            "simple_rnn_4 (SimpleRNN)     (None, 128)               18048     \n",
            "_________________________________________________________________\n",
            "encoder (Dense)              (None, 32)                4128      \n",
            "_________________________________________________________________\n",
            "repeat_vector_2 (RepeatVecto (None, 4, 32)             0         \n",
            "_________________________________________________________________\n",
            "simple_rnn_5 (SimpleRNN)     (None, 4, 128)            20608     \n",
            "_________________________________________________________________\n",
            "classifier (Dense)           (None, 4, 12)             1548      \n",
            "=================================================================\n",
            "Total params: 44,332\n",
            "Trainable params: 44,332\n",
            "Non-trainable params: 0\n",
            "_________________________________________________________________\n"
          ],
          "name": "stdout"
        }
      ]
    },
    {
      "metadata": {
        "id": "cdW2FJVl6GnZ",
        "colab_type": "text"
      },
      "cell_type": "markdown",
      "source": [
        "### Step 4: Train"
      ]
    },
    {
      "metadata": {
        "id": "izY-B-UF6Gna",
        "colab_type": "code",
        "outputId": "c13cccaf-c06f-497f-c6b9-0fc929f70bc5",
        "colab": {
          "base_uri": "https://localhost:8080/",
          "height": 12546
        }
      },
      "cell_type": "code",
      "source": [
        "%%time\n",
        "\n",
        "# Train the model each generation and show predictions against the validation\n",
        "# dataset.\n",
        "\n",
        "merged_losses = {\n",
        "    \"loss\": [],\n",
        "    \"val_loss\": [],\n",
        "    \"accuracy\": [],\n",
        "    \"val_accuracy\": [],\n",
        "    \n",
        "}\n",
        "\n",
        "for iteration in range(1, 50):\n",
        "    print()\n",
        "    print('-' * 50)\n",
        "    print('Iteration', iteration)\n",
        "    iteration_history = model.fit(x_train, y_train,\n",
        "              batch_size=BATCH_SIZE,\n",
        "              epochs=1,\n",
        "              validation_data=(x_val, y_val))\n",
        "    \n",
        "    merged_losses[\"loss\"].append(iteration_history.history[\"loss\"])\n",
        "    merged_losses[\"val_loss\"].append(iteration_history.history[\"val_loss\"])\n",
        "    merged_losses[\"accuracy\"].append(iteration_history.history[\"accuracy\"])\n",
        "    merged_losses[\"val_accuracy\"].append(iteration_history.history[\"val_accuracy\"])\n",
        "\n",
        "    # Select 10 samples from the validation set at random so we can visualize\n",
        "    # errors.\n",
        "    for i in range(10):\n",
        "        ind = np.random.randint(0, len(x_val))\n",
        "        rowx, rowy = x_val[np.array([ind])], y_val[np.array([ind])]\n",
        "        preds = model.predict_classes(rowx, verbose=0)\n",
        "        q = ctable.decode(rowx[0])\n",
        "        correct = ctable.decode(rowy[0])\n",
        "        guess = ctable.decode(preds[0], calc_argmax=False)\n",
        "        print('Q', q[::-1] if REVERSE else q, end=' ')\n",
        "        print('T', correct, end=' ')\n",
        "        if correct == guess:\n",
        "            print(colors.ok + '☑' + colors.close, end=' ')\n",
        "        else:\n",
        "            print(colors.fail + '☒' + colors.close, end=' ')\n",
        "        print(guess)"
      ],
      "execution_count": 24,
      "outputs": [
        {
          "output_type": "stream",
          "text": [
            "\n",
            "--------------------------------------------------\n",
            "Iteration 1\n",
            "Train on 45000 samples, validate on 5000 samples\n",
            "45000/45000 [==============================] - 6s 123us/sample - loss: 1.6689 - accuracy: 0.3896 - val_loss: 1.5134 - val_accuracy: 0.4410\n",
            "Q 658+775 T 1433 \u001b[91m☒\u001b[0m 1407\n",
            "Q 557+41  T 598  \u001b[91m☒\u001b[0m 666 \n",
            "Q 660+44  T 704  \u001b[91m☒\u001b[0m 666 \n",
            "Q 79+411  T 490  \u001b[91m☒\u001b[0m 444 \n",
            "Q 684+760 T 1444 \u001b[91m☒\u001b[0m 1406\n",
            "Q 4+844   T 848  \u001b[91m☒\u001b[0m 548 \n",
            "Q 816+42  T 858  \u001b[91m☒\u001b[0m 891 \n",
            "Q 644+68  T 712  \u001b[91m☒\u001b[0m 623 \n",
            "Q 500+83  T 583  \u001b[91m☒\u001b[0m 603 \n",
            "Q 9+667   T 676  \u001b[91m☒\u001b[0m 666 \n",
            "\n",
            "--------------------------------------------------\n",
            "Iteration 2\n",
            "Train on 45000 samples, validate on 5000 samples\n",
            "45000/45000 [==============================] - 5s 102us/sample - loss: 1.3752 - accuracy: 0.4873 - val_loss: 1.2841 - val_accuracy: 0.5138\n",
            "Q 97+760  T 857  \u001b[91m☒\u001b[0m 882 \n",
            "Q 914+5   T 919  \u001b[91m☒\u001b[0m 912 \n",
            "Q 72+60   T 132  \u001b[91m☒\u001b[0m 146 \n",
            "Q 915+21  T 936  \u001b[91m☒\u001b[0m 991 \n",
            "Q 734+101 T 835  \u001b[91m☒\u001b[0m 851 \n",
            "Q 3+39    T 42   \u001b[91m☒\u001b[0m 39  \n",
            "Q 175+17  T 192  \u001b[91m☒\u001b[0m 261 \n",
            "Q 411+66  T 477  \u001b[91m☒\u001b[0m 591 \n",
            "Q 82+50   T 132  \u001b[91m☒\u001b[0m 146 \n",
            "Q 663+7   T 670  \u001b[91m☒\u001b[0m 664 \n",
            "\n",
            "--------------------------------------------------\n",
            "Iteration 3\n",
            "Train on 45000 samples, validate on 5000 samples\n",
            "45000/45000 [==============================] - 5s 101us/sample - loss: 1.2055 - accuracy: 0.5461 - val_loss: 1.1436 - val_accuracy: 0.5627\n",
            "Q 862+89  T 951  \u001b[91m☒\u001b[0m 958 \n",
            "Q 41+764  T 805  \u001b[91m☒\u001b[0m 819 \n",
            "Q 985+908 T 1893 \u001b[91m☒\u001b[0m 1864\n",
            "Q 126+6   T 132  \u001b[91m☒\u001b[0m 102 \n",
            "Q 82+308  T 390  \u001b[91m☒\u001b[0m 399 \n",
            "Q 714+225 T 939  \u001b[91m☒\u001b[0m 902 \n",
            "Q 363+84  T 447  \u001b[91m☒\u001b[0m 441 \n",
            "Q 29+428  T 457  \u001b[91m☒\u001b[0m 458 \n",
            "Q 690+7   T 697  \u001b[91m☒\u001b[0m 795 \n",
            "Q 630+603 T 1233 \u001b[91m☒\u001b[0m 1237\n",
            "\n",
            "--------------------------------------------------\n",
            "Iteration 4\n",
            "Train on 45000 samples, validate on 5000 samples\n",
            "45000/45000 [==============================] - 5s 102us/sample - loss: 1.0847 - accuracy: 0.5892 - val_loss: 1.0366 - val_accuracy: 0.6080\n",
            "Q 22+69   T 91   \u001b[91m☒\u001b[0m 70  \n",
            "Q 374+22  T 396  \u001b[91m☒\u001b[0m 390 \n",
            "Q 7+944   T 951  \u001b[91m☒\u001b[0m 941 \n",
            "Q 5+194   T 199  \u001b[91m☒\u001b[0m 190 \n",
            "Q 16+907  T 923  \u001b[91m☒\u001b[0m 901 \n",
            "Q 46+312  T 358  \u001b[91m☒\u001b[0m 360 \n",
            "Q 48+179  T 227  \u001b[91m☒\u001b[0m 223 \n",
            "Q 443+53  T 496  \u001b[91m☒\u001b[0m 490 \n",
            "Q 482+3   T 485  \u001b[91m☒\u001b[0m 490 \n",
            "Q 566+921 T 1487 \u001b[91m☒\u001b[0m 1467\n",
            "\n",
            "--------------------------------------------------\n",
            "Iteration 5\n",
            "Train on 45000 samples, validate on 5000 samples\n",
            "45000/45000 [==============================] - 5s 101us/sample - loss: 0.9985 - accuracy: 0.6217 - val_loss: 0.9810 - val_accuracy: 0.6253\n",
            "Q 508+94  T 602  \u001b[91m☒\u001b[0m 591 \n",
            "Q 5+518   T 523  \u001b[92m☑\u001b[0m 523 \n",
            "Q 251+280 T 531  \u001b[91m☒\u001b[0m 541 \n",
            "Q 31+962  T 993  \u001b[91m☒\u001b[0m 986 \n",
            "Q 503+318 T 821  \u001b[91m☒\u001b[0m 832 \n",
            "Q 908+27  T 935  \u001b[91m☒\u001b[0m 939 \n",
            "Q 55+507  T 562  \u001b[91m☒\u001b[0m 564 \n",
            "Q 98+592  T 690  \u001b[91m☒\u001b[0m 689 \n",
            "Q 738+893 T 1631 \u001b[91m☒\u001b[0m 1661\n",
            "Q 21+939  T 960  \u001b[91m☒\u001b[0m 963 \n",
            "\n",
            "--------------------------------------------------\n",
            "Iteration 6\n",
            "Train on 45000 samples, validate on 5000 samples\n",
            "45000/45000 [==============================] - 5s 101us/sample - loss: 0.9376 - accuracy: 0.6464 - val_loss: 0.9181 - val_accuracy: 0.6517\n",
            "Q 420+0   T 420  \u001b[91m☒\u001b[0m 424 \n",
            "Q 708+54  T 762  \u001b[91m☒\u001b[0m 765 \n",
            "Q 85+205  T 290  \u001b[91m☒\u001b[0m 380 \n",
            "Q 38+654  T 692  \u001b[91m☒\u001b[0m 694 \n",
            "Q 569+825 T 1394 \u001b[91m☒\u001b[0m 1385\n",
            "Q 540+11  T 551  \u001b[91m☒\u001b[0m 540 \n",
            "Q 32+146  T 178  \u001b[91m☒\u001b[0m 171 \n",
            "Q 29+214  T 243  \u001b[91m☒\u001b[0m 239 \n",
            "Q 72+550  T 622  \u001b[91m☒\u001b[0m 628 \n",
            "Q 446+71  T 517  \u001b[91m☒\u001b[0m 525 \n",
            "\n",
            "--------------------------------------------------\n",
            "Iteration 7\n",
            "Train on 45000 samples, validate on 5000 samples\n",
            "45000/45000 [==============================] - 5s 102us/sample - loss: 0.8887 - accuracy: 0.6643 - val_loss: 0.8859 - val_accuracy: 0.6597\n",
            "Q 20+71   T 91   \u001b[91m☒\u001b[0m 82  \n",
            "Q 940+45  T 985  \u001b[91m☒\u001b[0m 986 \n",
            "Q 363+84  T 447  \u001b[91m☒\u001b[0m 440 \n",
            "Q 499+8   T 507  \u001b[91m☒\u001b[0m 500 \n",
            "Q 48+788  T 836  \u001b[91m☒\u001b[0m 831 \n",
            "Q 507+724 T 1231 \u001b[91m☒\u001b[0m 1237\n",
            "Q 996+315 T 1311 \u001b[91m☒\u001b[0m 1364\n",
            "Q 2+108   T 110  \u001b[91m☒\u001b[0m 111 \n",
            "Q 781+8   T 789  \u001b[91m☒\u001b[0m 788 \n",
            "Q 27+836  T 863  \u001b[91m☒\u001b[0m 861 \n",
            "\n",
            "--------------------------------------------------\n",
            "Iteration 8\n",
            "Train on 45000 samples, validate on 5000 samples\n",
            "45000/45000 [==============================] - 5s 101us/sample - loss: 0.8458 - accuracy: 0.6792 - val_loss: 0.8466 - val_accuracy: 0.6753\n",
            "Q 769+78  T 847  \u001b[91m☒\u001b[0m 845 \n",
            "Q 537+34  T 571  \u001b[92m☑\u001b[0m 571 \n",
            "Q 761+799 T 1560 \u001b[91m☒\u001b[0m 1566\n",
            "Q 296+11  T 307  \u001b[91m☒\u001b[0m 303 \n",
            "Q 55+595  T 650  \u001b[91m☒\u001b[0m 643 \n",
            "Q 77+54   T 131  \u001b[91m☒\u001b[0m 130 \n",
            "Q 199+751 T 950  \u001b[91m☒\u001b[0m 943 \n",
            "Q 368+51  T 419  \u001b[91m☒\u001b[0m 415 \n",
            "Q 977+997 T 1974 \u001b[91m☒\u001b[0m 1953\n",
            "Q 947+42  T 989  \u001b[91m☒\u001b[0m 997 \n",
            "\n",
            "--------------------------------------------------\n",
            "Iteration 9\n",
            "Train on 45000 samples, validate on 5000 samples\n",
            "45000/45000 [==============================] - 5s 101us/sample - loss: 0.7997 - accuracy: 0.6957 - val_loss: 0.7910 - val_accuracy: 0.6970\n",
            "Q 595+67  T 662  \u001b[91m☒\u001b[0m 666 \n",
            "Q 632+69  T 701  \u001b[91m☒\u001b[0m 704 \n",
            "Q 756+70  T 826  \u001b[91m☒\u001b[0m 824 \n",
            "Q 97+564  T 661  \u001b[91m☒\u001b[0m 657 \n",
            "Q 29+144  T 173  \u001b[91m☒\u001b[0m 176 \n",
            "Q 78+306  T 384  \u001b[91m☒\u001b[0m 387 \n",
            "Q 696+181 T 877  \u001b[91m☒\u001b[0m 870 \n",
            "Q 161+851 T 1012 \u001b[91m☒\u001b[0m 1001\n",
            "Q 770+69  T 839  \u001b[91m☒\u001b[0m 847 \n",
            "Q 96+723  T 819  \u001b[91m☒\u001b[0m 817 \n",
            "\n",
            "--------------------------------------------------\n",
            "Iteration 10\n",
            "Train on 45000 samples, validate on 5000 samples\n",
            "45000/45000 [==============================] - 5s 113us/sample - loss: 0.7469 - accuracy: 0.7143 - val_loss: 0.7541 - val_accuracy: 0.7044\n",
            "Q 437+4   T 441  \u001b[91m☒\u001b[0m 449 \n",
            "Q 54+849  T 903  \u001b[92m☑\u001b[0m 903 \n",
            "Q 776+644 T 1420 \u001b[91m☒\u001b[0m 1424\n",
            "Q 42+812  T 854  \u001b[91m☒\u001b[0m 864 \n",
            "Q 929+34  T 963  \u001b[91m☒\u001b[0m 969 \n",
            "Q 444+664 T 1108 \u001b[91m☒\u001b[0m 1117\n",
            "Q 646+257 T 903  \u001b[91m☒\u001b[0m 990 \n",
            "Q 837+677 T 1514 \u001b[91m☒\u001b[0m 1532\n",
            "Q 142+111 T 253  \u001b[91m☒\u001b[0m 276 \n",
            "Q 28+95   T 123  \u001b[91m☒\u001b[0m 125 \n",
            "\n",
            "--------------------------------------------------\n",
            "Iteration 11\n",
            "Train on 45000 samples, validate on 5000 samples\n",
            "45000/45000 [==============================] - 5s 119us/sample - loss: 0.6938 - accuracy: 0.7321 - val_loss: 0.6920 - val_accuracy: 0.7304\n",
            "Q 66+877  T 943  \u001b[92m☑\u001b[0m 943 \n",
            "Q 891+349 T 1240 \u001b[91m☒\u001b[0m 1244\n",
            "Q 883+86  T 969  \u001b[91m☒\u001b[0m 979 \n",
            "Q 74+416  T 490  \u001b[92m☑\u001b[0m 490 \n",
            "Q 84+554  T 638  \u001b[91m☒\u001b[0m 639 \n",
            "Q 726+849 T 1575 \u001b[91m☒\u001b[0m 1577\n",
            "Q 20+103  T 123  \u001b[91m☒\u001b[0m 122 \n",
            "Q 33+16   T 49   \u001b[92m☑\u001b[0m 49  \n",
            "Q 226+58  T 284  \u001b[91m☒\u001b[0m 279 \n",
            "Q 19+836  T 855  \u001b[91m☒\u001b[0m 852 \n",
            "\n",
            "--------------------------------------------------\n",
            "Iteration 12\n",
            "Train on 45000 samples, validate on 5000 samples\n",
            "45000/45000 [==============================] - 5s 111us/sample - loss: 0.6440 - accuracy: 0.7518 - val_loss: 0.6505 - val_accuracy: 0.7487\n",
            "Q 843+644 T 1487 \u001b[91m☒\u001b[0m 1480\n",
            "Q 903+656 T 1559 \u001b[91m☒\u001b[0m 1565\n",
            "Q 58+501  T 559  \u001b[91m☒\u001b[0m 569 \n",
            "Q 229+99  T 328  \u001b[91m☒\u001b[0m 314 \n",
            "Q 290+951 T 1241 \u001b[91m☒\u001b[0m 1235\n",
            "Q 642+645 T 1287 \u001b[91m☒\u001b[0m 1280\n",
            "Q 613+446 T 1059 \u001b[91m☒\u001b[0m 1054\n",
            "Q 49+159  T 208  \u001b[92m☑\u001b[0m 208 \n",
            "Q 106+8   T 114  \u001b[91m☒\u001b[0m 118 \n",
            "Q 57+788  T 845  \u001b[92m☑\u001b[0m 845 \n",
            "\n",
            "--------------------------------------------------\n",
            "Iteration 13\n",
            "Train on 45000 samples, validate on 5000 samples\n",
            "45000/45000 [==============================] - 5s 102us/sample - loss: 0.6014 - accuracy: 0.7696 - val_loss: 0.6059 - val_accuracy: 0.7653\n",
            "Q 0+686   T 686  \u001b[91m☒\u001b[0m 676 \n",
            "Q 9+655   T 664  \u001b[92m☑\u001b[0m 664 \n",
            "Q 838+3   T 841  \u001b[91m☒\u001b[0m 847 \n",
            "Q 368+54  T 422  \u001b[91m☒\u001b[0m 420 \n",
            "Q 78+849  T 927  \u001b[92m☑\u001b[0m 927 \n",
            "Q 855+90  T 945  \u001b[92m☑\u001b[0m 945 \n",
            "Q 83+987  T 1070 \u001b[92m☑\u001b[0m 1070\n",
            "Q 8+650   T 658  \u001b[92m☑\u001b[0m 658 \n",
            "Q 732+9   T 741  \u001b[91m☒\u001b[0m 730 \n",
            "Q 49+72   T 121  \u001b[91m☒\u001b[0m 122 \n",
            "\n",
            "--------------------------------------------------\n",
            "Iteration 14\n",
            "Train on 45000 samples, validate on 5000 samples\n",
            "45000/45000 [==============================] - 5s 101us/sample - loss: 0.5643 - accuracy: 0.7828 - val_loss: 0.5742 - val_accuracy: 0.7739\n",
            "Q 632+69  T 701  \u001b[91m☒\u001b[0m 791 \n",
            "Q 92+462  T 554  \u001b[91m☒\u001b[0m 564 \n",
            "Q 81+64   T 145  \u001b[91m☒\u001b[0m 146 \n",
            "Q 568+53  T 621  \u001b[91m☒\u001b[0m 620 \n",
            "Q 134+175 T 309  \u001b[91m☒\u001b[0m 211 \n",
            "Q 126+6   T 132  \u001b[91m☒\u001b[0m 138 \n",
            "Q 731+936 T 1667 \u001b[91m☒\u001b[0m 1670\n",
            "Q 854+47  T 901  \u001b[91m☒\u001b[0m 891 \n",
            "Q 47+152  T 199  \u001b[92m☑\u001b[0m 199 \n",
            "Q 243+504 T 747  \u001b[91m☒\u001b[0m 746 \n",
            "\n",
            "--------------------------------------------------\n",
            "Iteration 15\n",
            "Train on 45000 samples, validate on 5000 samples\n",
            "45000/45000 [==============================] - 5s 102us/sample - loss: 0.5265 - accuracy: 0.7962 - val_loss: 0.5248 - val_accuracy: 0.7945\n",
            "Q 866+0   T 866  \u001b[92m☑\u001b[0m 866 \n",
            "Q 930+314 T 1244 \u001b[92m☑\u001b[0m 1244\n",
            "Q 448+5   T 453  \u001b[92m☑\u001b[0m 453 \n",
            "Q 809+357 T 1166 \u001b[91m☒\u001b[0m 1153\n",
            "Q 971+901 T 1872 \u001b[91m☒\u001b[0m 1857\n",
            "Q 71+510  T 581  \u001b[92m☑\u001b[0m 581 \n",
            "Q 165+3   T 168  \u001b[91m☒\u001b[0m 161 \n",
            "Q 621+423 T 1044 \u001b[91m☒\u001b[0m 1049\n",
            "Q 926+632 T 1558 \u001b[92m☑\u001b[0m 1558\n",
            "Q 229+35  T 264  \u001b[91m☒\u001b[0m 269 \n",
            "\n",
            "--------------------------------------------------\n",
            "Iteration 16\n",
            "Train on 45000 samples, validate on 5000 samples\n",
            "45000/45000 [==============================] - 5s 101us/sample - loss: 0.4846 - accuracy: 0.8140 - val_loss: 0.4778 - val_accuracy: 0.8141\n",
            "Q 776+834 T 1610 \u001b[91m☒\u001b[0m 1516\n",
            "Q 455+77  T 532  \u001b[92m☑\u001b[0m 532 \n",
            "Q 33+856  T 889  \u001b[92m☑\u001b[0m 889 \n",
            "Q 200+59  T 259  \u001b[92m☑\u001b[0m 259 \n",
            "Q 331+221 T 552  \u001b[91m☒\u001b[0m 544 \n",
            "Q 79+426  T 505  \u001b[92m☑\u001b[0m 505 \n",
            "Q 444+61  T 505  \u001b[91m☒\u001b[0m 504 \n",
            "Q 454+9   T 463  \u001b[91m☒\u001b[0m 462 \n",
            "Q 767+28  T 795  \u001b[92m☑\u001b[0m 795 \n",
            "Q 400+976 T 1376 \u001b[91m☒\u001b[0m 1367\n",
            "\n",
            "--------------------------------------------------\n",
            "Iteration 17\n",
            "Train on 45000 samples, validate on 5000 samples\n",
            "45000/45000 [==============================] - 5s 101us/sample - loss: 0.4558 - accuracy: 0.8247 - val_loss: 0.4723 - val_accuracy: 0.8170\n",
            "Q 28+220  T 248  \u001b[92m☑\u001b[0m 248 \n",
            "Q 346+46  T 392  \u001b[92m☑\u001b[0m 392 \n",
            "Q 831+681 T 1512 \u001b[91m☒\u001b[0m 1510\n",
            "Q 24+817  T 841  \u001b[92m☑\u001b[0m 841 \n",
            "Q 11+924  T 935  \u001b[92m☑\u001b[0m 935 \n",
            "Q 7+311   T 318  \u001b[91m☒\u001b[0m 327 \n",
            "Q 0+699   T 699  \u001b[92m☑\u001b[0m 699 \n",
            "Q 421+46  T 467  \u001b[92m☑\u001b[0m 467 \n",
            "Q 996+382 T 1378 \u001b[91m☒\u001b[0m 1364\n",
            "Q 29+327  T 356  \u001b[92m☑\u001b[0m 356 \n",
            "\n",
            "--------------------------------------------------\n",
            "Iteration 18\n",
            "Train on 45000 samples, validate on 5000 samples\n",
            "45000/45000 [==============================] - 5s 101us/sample - loss: 0.4177 - accuracy: 0.8411 - val_loss: 0.4305 - val_accuracy: 0.8309\n",
            "Q 2+228   T 230  \u001b[92m☑\u001b[0m 230 \n",
            "Q 22+186  T 208  \u001b[92m☑\u001b[0m 208 \n",
            "Q 632+77  T 709  \u001b[92m☑\u001b[0m 709 \n",
            "Q 11+268  T 279  \u001b[92m☑\u001b[0m 279 \n",
            "Q 51+148  T 199  \u001b[92m☑\u001b[0m 199 \n",
            "Q 96+573  T 669  \u001b[91m☒\u001b[0m 679 \n",
            "Q 97+349  T 446  \u001b[91m☒\u001b[0m 447 \n",
            "Q 17+656  T 673  \u001b[92m☑\u001b[0m 673 \n",
            "Q 25+755  T 780  \u001b[92m☑\u001b[0m 780 \n",
            "Q 1+758   T 759  \u001b[92m☑\u001b[0m 759 \n",
            "\n",
            "--------------------------------------------------\n",
            "Iteration 19\n",
            "Train on 45000 samples, validate on 5000 samples\n",
            "45000/45000 [==============================] - 5s 100us/sample - loss: 0.3974 - accuracy: 0.8490 - val_loss: 0.4203 - val_accuracy: 0.8382\n",
            "Q 974+6   T 980  \u001b[92m☑\u001b[0m 980 \n",
            "Q 977+1   T 978  \u001b[92m☑\u001b[0m 978 \n",
            "Q 94+953  T 1047 \u001b[91m☒\u001b[0m 1046\n",
            "Q 22+467  T 489  \u001b[92m☑\u001b[0m 489 \n",
            "Q 698+905 T 1603 \u001b[91m☒\u001b[0m 1697\n",
            "Q 6+390   T 396  \u001b[92m☑\u001b[0m 396 \n",
            "Q 959+0   T 959  \u001b[91m☒\u001b[0m 969 \n",
            "Q 41+836  T 877  \u001b[92m☑\u001b[0m 877 \n",
            "Q 282+33  T 315  \u001b[92m☑\u001b[0m 315 \n",
            "Q 88+766  T 854  \u001b[92m☑\u001b[0m 854 \n",
            "\n",
            "--------------------------------------------------\n",
            "Iteration 20\n",
            "Train on 45000 samples, validate on 5000 samples\n",
            "45000/45000 [==============================] - 5s 101us/sample - loss: 0.3690 - accuracy: 0.8605 - val_loss: 0.4144 - val_accuracy: 0.8386\n",
            "Q 964+942 T 1906 \u001b[91m☒\u001b[0m 1805\n",
            "Q 31+329  T 360  \u001b[91m☒\u001b[0m 350 \n",
            "Q 736+98  T 834  \u001b[91m☒\u001b[0m 935 \n",
            "Q 4+923   T 927  \u001b[92m☑\u001b[0m 927 \n",
            "Q 242+18  T 260  \u001b[91m☒\u001b[0m 250 \n",
            "Q 77+31   T 108  \u001b[92m☑\u001b[0m 108 \n",
            "Q 85+802  T 887  \u001b[91m☒\u001b[0m 888 \n",
            "Q 550+84  T 634  \u001b[91m☒\u001b[0m 635 \n",
            "Q 26+517  T 543  \u001b[92m☑\u001b[0m 543 \n",
            "Q 46+420  T 466  \u001b[92m☑\u001b[0m 466 \n",
            "\n",
            "--------------------------------------------------\n",
            "Iteration 21\n",
            "Train on 45000 samples, validate on 5000 samples\n",
            "45000/45000 [==============================] - 5s 101us/sample - loss: 0.3525 - accuracy: 0.8654 - val_loss: 0.3803 - val_accuracy: 0.8492\n",
            "Q 12+953  T 965  \u001b[92m☑\u001b[0m 965 \n",
            "Q 3+514   T 517  \u001b[92m☑\u001b[0m 517 \n",
            "Q 3+389   T 392  \u001b[92m☑\u001b[0m 392 \n",
            "Q 54+223  T 277  \u001b[92m☑\u001b[0m 277 \n",
            "Q 57+322  T 379  \u001b[91m☒\u001b[0m 389 \n",
            "Q 274+74  T 348  \u001b[92m☑\u001b[0m 348 \n",
            "Q 716+931 T 1647 \u001b[91m☒\u001b[0m 1657\n",
            "Q 580+3   T 583  \u001b[91m☒\u001b[0m 582 \n",
            "Q 791+0   T 791  \u001b[92m☑\u001b[0m 791 \n",
            "Q 665+735 T 1400 \u001b[91m☒\u001b[0m 1490\n",
            "\n",
            "--------------------------------------------------\n",
            "Iteration 22\n",
            "Train on 45000 samples, validate on 5000 samples\n",
            "45000/45000 [==============================] - 4s 99us/sample - loss: 0.3335 - accuracy: 0.8710 - val_loss: 0.3734 - val_accuracy: 0.8537\n",
            "Q 181+935 T 1116 \u001b[91m☒\u001b[0m 1218\n",
            "Q 6+835   T 841  \u001b[92m☑\u001b[0m 841 \n",
            "Q 218+2   T 220  \u001b[92m☑\u001b[0m 220 \n",
            "Q 756+24  T 780  \u001b[92m☑\u001b[0m 780 \n",
            "Q 121+958 T 1079 \u001b[91m☒\u001b[0m 1089\n",
            "Q 45+160  T 205  \u001b[91m☒\u001b[0m 204 \n",
            "Q 646+70  T 716  \u001b[92m☑\u001b[0m 716 \n",
            "Q 25+591  T 616  \u001b[92m☑\u001b[0m 616 \n",
            "Q 31+653  T 684  \u001b[92m☑\u001b[0m 684 \n",
            "Q 598+35  T 633  \u001b[91m☒\u001b[0m 632 \n",
            "\n",
            "--------------------------------------------------\n",
            "Iteration 23\n",
            "Train on 45000 samples, validate on 5000 samples\n",
            "45000/45000 [==============================] - 4s 100us/sample - loss: 0.3027 - accuracy: 0.8842 - val_loss: 0.3326 - val_accuracy: 0.8688\n",
            "Q 537+34  T 571  \u001b[92m☑\u001b[0m 571 \n",
            "Q 9+627   T 636  \u001b[92m☑\u001b[0m 636 \n",
            "Q 31+922  T 953  \u001b[91m☒\u001b[0m 954 \n",
            "Q 29+144  T 173  \u001b[91m☒\u001b[0m 183 \n",
            "Q 220+77  T 297  \u001b[92m☑\u001b[0m 297 \n",
            "Q 461+77  T 538  \u001b[92m☑\u001b[0m 538 \n",
            "Q 18+16   T 34   \u001b[91m☒\u001b[0m 35  \n",
            "Q 32+146  T 178  \u001b[92m☑\u001b[0m 178 \n",
            "Q 342+82  T 424  \u001b[92m☑\u001b[0m 424 \n",
            "Q 16+904  T 920  \u001b[92m☑\u001b[0m 920 \n",
            "\n",
            "--------------------------------------------------\n",
            "Iteration 24\n",
            "Train on 45000 samples, validate on 5000 samples\n",
            "45000/45000 [==============================] - 4s 100us/sample - loss: 0.2873 - accuracy: 0.8889 - val_loss: 0.3101 - val_accuracy: 0.8758\n",
            "Q 6+534   T 540  \u001b[92m☑\u001b[0m 540 \n",
            "Q 186+389 T 575  \u001b[92m☑\u001b[0m 575 \n",
            "Q 22+571  T 593  \u001b[91m☒\u001b[0m 693 \n",
            "Q 54+671  T 725  \u001b[92m☑\u001b[0m 725 \n",
            "Q 302+372 T 674  \u001b[91m☒\u001b[0m 679 \n",
            "Q 507+62  T 569  \u001b[91m☒\u001b[0m 579 \n",
            "Q 956+828 T 1784 \u001b[91m☒\u001b[0m 1785\n",
            "Q 538+19  T 557  \u001b[92m☑\u001b[0m 557 \n",
            "Q 81+490  T 571  \u001b[92m☑\u001b[0m 571 \n",
            "Q 995+93  T 1088 \u001b[91m☒\u001b[0m 1089\n",
            "\n",
            "--------------------------------------------------\n",
            "Iteration 25\n",
            "Train on 45000 samples, validate on 5000 samples\n",
            "45000/45000 [==============================] - 5s 101us/sample - loss: 0.2698 - accuracy: 0.8966 - val_loss: 0.2871 - val_accuracy: 0.8850\n",
            "Q 110+949 T 1059 \u001b[91m☒\u001b[0m 1070\n",
            "Q 530+861 T 1391 \u001b[91m☒\u001b[0m 1390\n",
            "Q 539+938 T 1477 \u001b[92m☑\u001b[0m 1477\n",
            "Q 512+487 T 999  \u001b[91m☒\u001b[0m 904 \n",
            "Q 3+39    T 42   \u001b[92m☑\u001b[0m 42  \n",
            "Q 951+583 T 1534 \u001b[91m☒\u001b[0m 1539\n",
            "Q 732+0   T 732  \u001b[92m☑\u001b[0m 732 \n",
            "Q 183+6   T 189  \u001b[91m☒\u001b[0m 188 \n",
            "Q 272+68  T 340  \u001b[91m☒\u001b[0m 330 \n",
            "Q 63+790  T 853  \u001b[92m☑\u001b[0m 853 \n",
            "\n",
            "--------------------------------------------------\n",
            "Iteration 26\n",
            "Train on 45000 samples, validate on 5000 samples\n",
            "45000/45000 [==============================] - 5s 100us/sample - loss: 0.2541 - accuracy: 0.9022 - val_loss: 0.2847 - val_accuracy: 0.8892\n",
            "Q 0+461   T 461  \u001b[92m☑\u001b[0m 461 \n",
            "Q 834+87  T 921  \u001b[92m☑\u001b[0m 921 \n",
            "Q 936+3   T 939  \u001b[92m☑\u001b[0m 939 \n",
            "Q 579+423 T 1002 \u001b[91m☒\u001b[0m 901 \n",
            "Q 38+987  T 1025 \u001b[92m☑\u001b[0m 1025\n",
            "Q 118+88  T 206  \u001b[91m☒\u001b[0m 205 \n",
            "Q 98+228  T 326  \u001b[92m☑\u001b[0m 326 \n",
            "Q 680+54  T 734  \u001b[92m☑\u001b[0m 734 \n",
            "Q 97+206  T 303  \u001b[92m☑\u001b[0m 303 \n",
            "Q 696+69  T 765  \u001b[92m☑\u001b[0m 765 \n",
            "\n",
            "--------------------------------------------------\n",
            "Iteration 27\n",
            "Train on 45000 samples, validate on 5000 samples\n",
            "45000/45000 [==============================] - 5s 104us/sample - loss: 0.2359 - accuracy: 0.9098 - val_loss: 0.2687 - val_accuracy: 0.8934\n",
            "Q 593+91  T 684  \u001b[92m☑\u001b[0m 684 \n",
            "Q 36+36   T 72   \u001b[92m☑\u001b[0m 72  \n",
            "Q 960+395 T 1355 \u001b[91m☒\u001b[0m 1365\n",
            "Q 98+922  T 1020 \u001b[91m☒\u001b[0m 1010\n",
            "Q 622+98  T 720  \u001b[91m☒\u001b[0m 710 \n",
            "Q 685+19  T 704  \u001b[91m☒\u001b[0m 604 \n",
            "Q 454+346 T 800  \u001b[91m☒\u001b[0m 890 \n",
            "Q 188+95  T 283  \u001b[92m☑\u001b[0m 283 \n",
            "Q 824+248 T 1072 \u001b[91m☒\u001b[0m 1071\n",
            "Q 591+869 T 1460 \u001b[92m☑\u001b[0m 1460\n",
            "\n",
            "--------------------------------------------------\n",
            "Iteration 28\n",
            "Train on 45000 samples, validate on 5000 samples\n",
            "45000/45000 [==============================] - 5s 118us/sample - loss: 0.2206 - accuracy: 0.9170 - val_loss: 0.2558 - val_accuracy: 0.9000\n",
            "Q 13+12   T 25   \u001b[92m☑\u001b[0m 25  \n",
            "Q 73+41   T 114  \u001b[91m☒\u001b[0m 124 \n",
            "Q 3+624   T 627  \u001b[92m☑\u001b[0m 627 \n",
            "Q 542+8   T 550  \u001b[92m☑\u001b[0m 550 \n",
            "Q 22+72   T 94   \u001b[92m☑\u001b[0m 94  \n",
            "Q 74+790  T 864  \u001b[92m☑\u001b[0m 864 \n",
            "Q 0+525   T 525  \u001b[92m☑\u001b[0m 525 \n",
            "Q 33+778  T 811  \u001b[92m☑\u001b[0m 811 \n",
            "Q 663+541 T 1204 \u001b[92m☑\u001b[0m 1204\n",
            "Q 85+642  T 727  \u001b[92m☑\u001b[0m 727 \n",
            "\n",
            "--------------------------------------------------\n",
            "Iteration 29\n",
            "Train on 45000 samples, validate on 5000 samples\n",
            "45000/45000 [==============================] - 5s 112us/sample - loss: 0.2189 - accuracy: 0.9174 - val_loss: 0.2123 - val_accuracy: 0.9194\n",
            "Q 5+689   T 694  \u001b[92m☑\u001b[0m 694 \n",
            "Q 74+219  T 293  \u001b[92m☑\u001b[0m 293 \n",
            "Q 88+355  T 443  \u001b[92m☑\u001b[0m 443 \n",
            "Q 998+7   T 1005 \u001b[92m☑\u001b[0m 1005\n",
            "Q 78+8    T 86   \u001b[91m☒\u001b[0m 85  \n",
            "Q 86+875  T 961  \u001b[91m☒\u001b[0m 971 \n",
            "Q 426+41  T 467  \u001b[92m☑\u001b[0m 467 \n",
            "Q 701+7   T 708  \u001b[92m☑\u001b[0m 708 \n",
            "Q 5+232   T 237  \u001b[92m☑\u001b[0m 237 \n",
            "Q 907+569 T 1476 \u001b[91m☒\u001b[0m 1475\n",
            "\n",
            "--------------------------------------------------\n",
            "Iteration 30\n",
            "Train on 45000 samples, validate on 5000 samples\n",
            "45000/45000 [==============================] - 5s 122us/sample - loss: 0.1883 - accuracy: 0.9302 - val_loss: 0.2169 - val_accuracy: 0.9171\n",
            "Q 77+32   T 109  \u001b[91m☒\u001b[0m 119 \n",
            "Q 59+5    T 64   \u001b[91m☒\u001b[0m 55  \n",
            "Q 3+544   T 547  \u001b[92m☑\u001b[0m 547 \n",
            "Q 0+181   T 181  \u001b[92m☑\u001b[0m 181 \n",
            "Q 97+526  T 623  \u001b[92m☑\u001b[0m 623 \n",
            "Q 612+2   T 614  \u001b[91m☒\u001b[0m 615 \n",
            "Q 22+69   T 91   \u001b[91m☒\u001b[0m 90  \n",
            "Q 464+62  T 526  \u001b[92m☑\u001b[0m 526 \n",
            "Q 2+606   T 608  \u001b[92m☑\u001b[0m 608 \n",
            "Q 92+31   T 123  \u001b[92m☑\u001b[0m 123 \n",
            "\n",
            "--------------------------------------------------\n",
            "Iteration 31\n",
            "Train on 45000 samples, validate on 5000 samples\n",
            "45000/45000 [==============================] - 5s 118us/sample - loss: 0.1889 - accuracy: 0.9294 - val_loss: 0.2154 - val_accuracy: 0.9152\n",
            "Q 45+109  T 154  \u001b[92m☑\u001b[0m 154 \n",
            "Q 8+160   T 168  \u001b[92m☑\u001b[0m 168 \n",
            "Q 198+258 T 456  \u001b[91m☒\u001b[0m 455 \n",
            "Q 369+362 T 731  \u001b[91m☒\u001b[0m 730 \n",
            "Q 880+87  T 967  \u001b[91m☒\u001b[0m 977 \n",
            "Q 164+110 T 274  \u001b[91m☒\u001b[0m 375 \n",
            "Q 230+561 T 791  \u001b[92m☑\u001b[0m 791 \n",
            "Q 704+32  T 736  \u001b[92m☑\u001b[0m 736 \n",
            "Q 100+384 T 484  \u001b[91m☒\u001b[0m 584 \n",
            "Q 5+855   T 860  \u001b[91m☒\u001b[0m 869 \n",
            "\n",
            "--------------------------------------------------\n",
            "Iteration 32\n",
            "Train on 45000 samples, validate on 5000 samples\n",
            "45000/45000 [==============================] - 4s 99us/sample - loss: 0.1755 - accuracy: 0.9346 - val_loss: 0.1961 - val_accuracy: 0.9248\n",
            "Q 30+94   T 124  \u001b[92m☑\u001b[0m 124 \n",
            "Q 96+581  T 677  \u001b[92m☑\u001b[0m 677 \n",
            "Q 6+729   T 735  \u001b[92m☑\u001b[0m 735 \n",
            "Q 29+327  T 356  \u001b[92m☑\u001b[0m 356 \n",
            "Q 510+602 T 1112 \u001b[91m☒\u001b[0m 1113\n",
            "Q 881+16  T 897  \u001b[92m☑\u001b[0m 897 \n",
            "Q 358+6   T 364  \u001b[92m☑\u001b[0m 364 \n",
            "Q 251+93  T 344  \u001b[92m☑\u001b[0m 344 \n",
            "Q 98+473  T 571  \u001b[92m☑\u001b[0m 571 \n",
            "Q 837+34  T 871  \u001b[92m☑\u001b[0m 871 \n",
            "\n",
            "--------------------------------------------------\n",
            "Iteration 33\n",
            "Train on 45000 samples, validate on 5000 samples\n",
            "45000/45000 [==============================] - 4s 100us/sample - loss: 0.1597 - accuracy: 0.9411 - val_loss: 0.2021 - val_accuracy: 0.9237\n",
            "Q 3+186   T 189  \u001b[92m☑\u001b[0m 189 \n",
            "Q 842+234 T 1076 \u001b[91m☒\u001b[0m 986 \n",
            "Q 169+32  T 201  \u001b[92m☑\u001b[0m 201 \n",
            "Q 199+751 T 950  \u001b[91m☒\u001b[0m 940 \n",
            "Q 4+820   T 824  \u001b[92m☑\u001b[0m 824 \n",
            "Q 173+78  T 251  \u001b[91m☒\u001b[0m 252 \n",
            "Q 992+95  T 1087 \u001b[92m☑\u001b[0m 1087\n",
            "Q 38+20   T 58   \u001b[92m☑\u001b[0m 58  \n",
            "Q 117+102 T 219  \u001b[91m☒\u001b[0m 229 \n",
            "Q 23+44   T 67   \u001b[92m☑\u001b[0m 67  \n",
            "\n",
            "--------------------------------------------------\n",
            "Iteration 34\n",
            "Train on 45000 samples, validate on 5000 samples\n",
            "45000/45000 [==============================] - 4s 100us/sample - loss: 0.1622 - accuracy: 0.9409 - val_loss: 0.1928 - val_accuracy: 0.9276\n",
            "Q 627+1   T 628  \u001b[92m☑\u001b[0m 628 \n",
            "Q 36+22   T 58   \u001b[92m☑\u001b[0m 58  \n",
            "Q 307+2   T 309  \u001b[92m☑\u001b[0m 309 \n",
            "Q 566+93  T 659  \u001b[92m☑\u001b[0m 659 \n",
            "Q 53+208  T 261  \u001b[92m☑\u001b[0m 261 \n",
            "Q 1+69    T 70   \u001b[91m☒\u001b[0m 60  \n",
            "Q 1+485   T 486  \u001b[92m☑\u001b[0m 486 \n",
            "Q 425+200 T 625  \u001b[91m☒\u001b[0m 626 \n",
            "Q 5+212   T 217  \u001b[92m☑\u001b[0m 217 \n",
            "Q 785+254 T 1039 \u001b[92m☑\u001b[0m 1039\n",
            "\n",
            "--------------------------------------------------\n",
            "Iteration 35\n",
            "Train on 45000 samples, validate on 5000 samples\n",
            "45000/45000 [==============================] - 5s 101us/sample - loss: 0.1604 - accuracy: 0.9407 - val_loss: 0.1869 - val_accuracy: 0.9306\n",
            "Q 31+358  T 389  \u001b[92m☑\u001b[0m 389 \n",
            "Q 423+57  T 480  \u001b[91m☒\u001b[0m 470 \n",
            "Q 417+31  T 448  \u001b[92m☑\u001b[0m 448 \n",
            "Q 946+28  T 974  \u001b[92m☑\u001b[0m 974 \n",
            "Q 22+261  T 283  \u001b[92m☑\u001b[0m 283 \n",
            "Q 787+254 T 1041 \u001b[91m☒\u001b[0m 1042\n",
            "Q 233+57  T 290  \u001b[92m☑\u001b[0m 290 \n",
            "Q 93+20   T 113  \u001b[92m☑\u001b[0m 113 \n",
            "Q 75+406  T 481  \u001b[92m☑\u001b[0m 481 \n",
            "Q 88+54   T 142  \u001b[92m☑\u001b[0m 142 \n",
            "\n",
            "--------------------------------------------------\n",
            "Iteration 36\n",
            "Train on 45000 samples, validate on 5000 samples\n",
            "45000/45000 [==============================] - 5s 100us/sample - loss: 0.1406 - accuracy: 0.9494 - val_loss: 0.1691 - val_accuracy: 0.9341\n",
            "Q 695+900 T 1595 \u001b[92m☑\u001b[0m 1595\n",
            "Q 202+144 T 346  \u001b[91m☒\u001b[0m 345 \n",
            "Q 140+69  T 209  \u001b[92m☑\u001b[0m 209 \n",
            "Q 673+57  T 730  \u001b[92m☑\u001b[0m 730 \n",
            "Q 503+32  T 535  \u001b[92m☑\u001b[0m 535 \n",
            "Q 48+943  T 991  \u001b[92m☑\u001b[0m 991 \n",
            "Q 78+43   T 121  \u001b[91m☒\u001b[0m 122 \n",
            "Q 479+58  T 537  \u001b[92m☑\u001b[0m 537 \n",
            "Q 860+406 T 1266 \u001b[92m☑\u001b[0m 1266\n",
            "Q 857+673 T 1530 \u001b[92m☑\u001b[0m 1530\n",
            "\n",
            "--------------------------------------------------\n",
            "Iteration 37\n",
            "Train on 45000 samples, validate on 5000 samples\n",
            "45000/45000 [==============================] - 4s 100us/sample - loss: 0.1454 - accuracy: 0.9466 - val_loss: 0.1708 - val_accuracy: 0.9360\n",
            "Q 62+585  T 647  \u001b[92m☑\u001b[0m 647 \n",
            "Q 17+118  T 135  \u001b[92m☑\u001b[0m 135 \n",
            "Q 178+71  T 249  \u001b[92m☑\u001b[0m 249 \n",
            "Q 88+615  T 703  \u001b[92m☑\u001b[0m 703 \n",
            "Q 380+2   T 382  \u001b[92m☑\u001b[0m 382 \n",
            "Q 1+586   T 587  \u001b[92m☑\u001b[0m 587 \n",
            "Q 8+897   T 905  \u001b[92m☑\u001b[0m 905 \n",
            "Q 775+68  T 843  \u001b[92m☑\u001b[0m 843 \n",
            "Q 4+923   T 927  \u001b[92m☑\u001b[0m 927 \n",
            "Q 421+502 T 923  \u001b[92m☑\u001b[0m 923 \n",
            "\n",
            "--------------------------------------------------\n",
            "Iteration 38\n",
            "Train on 45000 samples, validate on 5000 samples\n",
            "45000/45000 [==============================] - 5s 101us/sample - loss: 0.1379 - accuracy: 0.9497 - val_loss: 0.1815 - val_accuracy: 0.9316\n",
            "Q 964+301 T 1265 \u001b[91m☒\u001b[0m 1264\n",
            "Q 9+465   T 474  \u001b[92m☑\u001b[0m 474 \n",
            "Q 843+43  T 886  \u001b[91m☒\u001b[0m 887 \n",
            "Q 375+55  T 430  \u001b[92m☑\u001b[0m 430 \n",
            "Q 92+828  T 920  \u001b[92m☑\u001b[0m 920 \n",
            "Q 13+0    T 13   \u001b[91m☒\u001b[0m 12  \n",
            "Q 99+181  T 280  \u001b[92m☑\u001b[0m 280 \n",
            "Q 341+449 T 790  \u001b[92m☑\u001b[0m 790 \n",
            "Q 812+35  T 847  \u001b[92m☑\u001b[0m 847 \n",
            "Q 501+20  T 521  \u001b[91m☒\u001b[0m 511 \n",
            "\n",
            "--------------------------------------------------\n",
            "Iteration 39\n",
            "Train on 45000 samples, validate on 5000 samples\n",
            "45000/45000 [==============================] - 5s 101us/sample - loss: 0.1360 - accuracy: 0.9506 - val_loss: 0.1662 - val_accuracy: 0.9395\n",
            "Q 58+78   T 136  \u001b[92m☑\u001b[0m 136 \n",
            "Q 78+707  T 785  \u001b[92m☑\u001b[0m 785 \n",
            "Q 369+4   T 373  \u001b[92m☑\u001b[0m 373 \n",
            "Q 317+3   T 320  \u001b[92m☑\u001b[0m 320 \n",
            "Q 398+18  T 416  \u001b[92m☑\u001b[0m 416 \n",
            "Q 369+362 T 731  \u001b[92m☑\u001b[0m 731 \n",
            "Q 687+226 T 913  \u001b[92m☑\u001b[0m 913 \n",
            "Q 747+784 T 1531 \u001b[92m☑\u001b[0m 1531\n",
            "Q 819+60  T 879  \u001b[92m☑\u001b[0m 879 \n",
            "Q 25+572  T 597  \u001b[91m☒\u001b[0m 697 \n",
            "\n",
            "--------------------------------------------------\n",
            "Iteration 40\n",
            "Train on 45000 samples, validate on 5000 samples\n",
            "45000/45000 [==============================] - 5s 100us/sample - loss: 0.1312 - accuracy: 0.9534 - val_loss: 0.1454 - val_accuracy: 0.9470\n",
            "Q 118+53  T 171  \u001b[92m☑\u001b[0m 171 \n",
            "Q 73+71   T 144  \u001b[91m☒\u001b[0m 154 \n",
            "Q 624+339 T 963  \u001b[92m☑\u001b[0m 963 \n",
            "Q 109+33  T 142  \u001b[92m☑\u001b[0m 142 \n",
            "Q 15+955  T 970  \u001b[92m☑\u001b[0m 970 \n",
            "Q 31+665  T 696  \u001b[92m☑\u001b[0m 696 \n",
            "Q 985+43  T 1028 \u001b[92m☑\u001b[0m 1028\n",
            "Q 708+991 T 1699 \u001b[91m☒\u001b[0m 1799\n",
            "Q 90+187  T 277  \u001b[92m☑\u001b[0m 277 \n",
            "Q 955+9   T 964  \u001b[91m☒\u001b[0m 974 \n",
            "\n",
            "--------------------------------------------------\n",
            "Iteration 41\n",
            "Train on 45000 samples, validate on 5000 samples\n",
            "45000/45000 [==============================] - 5s 100us/sample - loss: 0.1244 - accuracy: 0.9556 - val_loss: 0.1295 - val_accuracy: 0.9516\n",
            "Q 72+550  T 622  \u001b[92m☑\u001b[0m 622 \n",
            "Q 977+997 T 1974 \u001b[91m☒\u001b[0m 1874\n",
            "Q 372+3   T 375  \u001b[92m☑\u001b[0m 375 \n",
            "Q 701+415 T 1116 \u001b[92m☑\u001b[0m 1116\n",
            "Q 837+677 T 1514 \u001b[92m☑\u001b[0m 1514\n",
            "Q 916+68  T 984  \u001b[92m☑\u001b[0m 984 \n",
            "Q 288+778 T 1066 \u001b[91m☒\u001b[0m 1065\n",
            "Q 274+73  T 347  \u001b[92m☑\u001b[0m 347 \n",
            "Q 869+9   T 878  \u001b[92m☑\u001b[0m 878 \n",
            "Q 21+888  T 909  \u001b[92m☑\u001b[0m 909 \n",
            "\n",
            "--------------------------------------------------\n",
            "Iteration 42\n",
            "Train on 45000 samples, validate on 5000 samples\n",
            "45000/45000 [==============================] - 5s 100us/sample - loss: 0.1161 - accuracy: 0.9588 - val_loss: 0.1546 - val_accuracy: 0.9433\n",
            "Q 96+564  T 660  \u001b[92m☑\u001b[0m 660 \n",
            "Q 701+7   T 708  \u001b[91m☒\u001b[0m 707 \n",
            "Q 68+570  T 638  \u001b[92m☑\u001b[0m 638 \n",
            "Q 835+953 T 1788 \u001b[92m☑\u001b[0m 1788\n",
            "Q 3+389   T 392  \u001b[92m☑\u001b[0m 392 \n",
            "Q 90+111  T 201  \u001b[92m☑\u001b[0m 201 \n",
            "Q 957+728 T 1685 \u001b[92m☑\u001b[0m 1685\n",
            "Q 428+41  T 469  \u001b[92m☑\u001b[0m 469 \n",
            "Q 670+539 T 1209 \u001b[92m☑\u001b[0m 1209\n",
            "Q 15+101  T 116  \u001b[92m☑\u001b[0m 116 \n",
            "\n",
            "--------------------------------------------------\n",
            "Iteration 43\n",
            "Train on 45000 samples, validate on 5000 samples\n",
            "45000/45000 [==============================] - 4s 100us/sample - loss: 0.1304 - accuracy: 0.9525 - val_loss: 0.1577 - val_accuracy: 0.9416\n",
            "Q 168+744 T 912  \u001b[92m☑\u001b[0m 912 \n",
            "Q 93+31   T 124  \u001b[92m☑\u001b[0m 124 \n",
            "Q 893+46  T 939  \u001b[92m☑\u001b[0m 939 \n",
            "Q 416+51  T 467  \u001b[92m☑\u001b[0m 467 \n",
            "Q 3+944   T 947  \u001b[92m☑\u001b[0m 947 \n",
            "Q 696+24  T 720  \u001b[92m☑\u001b[0m 720 \n",
            "Q 250+24  T 274  \u001b[92m☑\u001b[0m 274 \n",
            "Q 532+610 T 1142 \u001b[92m☑\u001b[0m 1142\n",
            "Q 38+329  T 367  \u001b[92m☑\u001b[0m 367 \n",
            "Q 18+502  T 520  \u001b[92m☑\u001b[0m 520 \n",
            "\n",
            "--------------------------------------------------\n",
            "Iteration 44\n",
            "Train on 45000 samples, validate on 5000 samples\n",
            "45000/45000 [==============================] - 5s 107us/sample - loss: 0.1017 - accuracy: 0.9647 - val_loss: 0.1239 - val_accuracy: 0.9543\n",
            "Q 184+89  T 273  \u001b[92m☑\u001b[0m 273 \n",
            "Q 415+850 T 1265 \u001b[91m☒\u001b[0m 1255\n",
            "Q 258+920 T 1178 \u001b[92m☑\u001b[0m 1178\n",
            "Q 352+52  T 404  \u001b[92m☑\u001b[0m 404 \n",
            "Q 912+2   T 914  \u001b[92m☑\u001b[0m 914 \n",
            "Q 684+760 T 1444 \u001b[92m☑\u001b[0m 1444\n",
            "Q 108+487 T 595  \u001b[91m☒\u001b[0m 695 \n",
            "Q 12+652  T 664  \u001b[92m☑\u001b[0m 664 \n",
            "Q 387+88  T 475  \u001b[92m☑\u001b[0m 475 \n",
            "Q 910+57  T 967  \u001b[92m☑\u001b[0m 967 \n",
            "\n",
            "--------------------------------------------------\n",
            "Iteration 45\n",
            "Train on 45000 samples, validate on 5000 samples\n",
            "45000/45000 [==============================] - 5s 118us/sample - loss: 0.1101 - accuracy: 0.9606 - val_loss: 0.1779 - val_accuracy: 0.9352\n",
            "Q 80+871  T 951  \u001b[92m☑\u001b[0m 951 \n",
            "Q 25+44   T 69   \u001b[92m☑\u001b[0m 69  \n",
            "Q 1+535   T 536  \u001b[92m☑\u001b[0m 536 \n",
            "Q 22+69   T 91   \u001b[92m☑\u001b[0m 91  \n",
            "Q 205+93  T 298  \u001b[92m☑\u001b[0m 298 \n",
            "Q 16+35   T 51   \u001b[91m☒\u001b[0m 52  \n",
            "Q 8+756   T 764  \u001b[92m☑\u001b[0m 764 \n",
            "Q 19+469  T 488  \u001b[92m☑\u001b[0m 488 \n",
            "Q 482+318 T 800  \u001b[92m☑\u001b[0m 800 \n",
            "Q 316+24  T 340  \u001b[92m☑\u001b[0m 340 \n",
            "\n",
            "--------------------------------------------------\n",
            "Iteration 46\n",
            "Train on 45000 samples, validate on 5000 samples\n",
            "45000/45000 [==============================] - 5s 110us/sample - loss: 0.1004 - accuracy: 0.9646 - val_loss: 0.1983 - val_accuracy: 0.9311\n",
            "Q 559+82  T 641  \u001b[91m☒\u001b[0m 651 \n",
            "Q 776+80  T 856  \u001b[92m☑\u001b[0m 856 \n",
            "Q 341+52  T 393  \u001b[92m☑\u001b[0m 393 \n",
            "Q 273+57  T 330  \u001b[92m☑\u001b[0m 330 \n",
            "Q 2+366   T 368  \u001b[92m☑\u001b[0m 368 \n",
            "Q 960+395 T 1355 \u001b[92m☑\u001b[0m 1355\n",
            "Q 365+13  T 378  \u001b[92m☑\u001b[0m 378 \n",
            "Q 2+734   T 736  \u001b[91m☒\u001b[0m 746 \n",
            "Q 9+932   T 941  \u001b[92m☑\u001b[0m 941 \n",
            "Q 951+583 T 1534 \u001b[92m☑\u001b[0m 1534\n",
            "\n",
            "--------------------------------------------------\n",
            "Iteration 47\n",
            "Train on 45000 samples, validate on 5000 samples\n",
            "45000/45000 [==============================] - 4s 99us/sample - loss: 0.1153 - accuracy: 0.9586 - val_loss: 0.1560 - val_accuracy: 0.9417\n",
            "Q 9+119   T 128  \u001b[92m☑\u001b[0m 128 \n",
            "Q 91+201  T 292  \u001b[92m☑\u001b[0m 292 \n",
            "Q 402+88  T 490  \u001b[91m☒\u001b[0m 491 \n",
            "Q 603+88  T 691  \u001b[92m☑\u001b[0m 691 \n",
            "Q 24+78   T 102  \u001b[92m☑\u001b[0m 102 \n",
            "Q 980+59  T 1039 \u001b[92m☑\u001b[0m 1039\n",
            "Q 67+476  T 543  \u001b[92m☑\u001b[0m 543 \n",
            "Q 297+402 T 699  \u001b[92m☑\u001b[0m 699 \n",
            "Q 22+748  T 770  \u001b[92m☑\u001b[0m 770 \n",
            "Q 698+0   T 698  \u001b[92m☑\u001b[0m 698 \n",
            "\n",
            "--------------------------------------------------\n",
            "Iteration 48\n",
            "Train on 45000 samples, validate on 5000 samples\n",
            "45000/45000 [==============================] - 4s 99us/sample - loss: 0.0984 - accuracy: 0.9653 - val_loss: 0.1244 - val_accuracy: 0.9545\n",
            "Q 501+589 T 1090 \u001b[91m☒\u001b[0m 1080\n",
            "Q 10+638  T 648  \u001b[92m☑\u001b[0m 648 \n",
            "Q 435+154 T 589  \u001b[91m☒\u001b[0m 599 \n",
            "Q 75+66   T 141  \u001b[92m☑\u001b[0m 141 \n",
            "Q 109+84  T 193  \u001b[92m☑\u001b[0m 193 \n",
            "Q 90+111  T 201  \u001b[92m☑\u001b[0m 201 \n",
            "Q 2+108   T 110  \u001b[92m☑\u001b[0m 110 \n",
            "Q 774+76  T 850  \u001b[92m☑\u001b[0m 850 \n",
            "Q 498+884 T 1382 \u001b[91m☒\u001b[0m 1283\n",
            "Q 641+986 T 1627 \u001b[92m☑\u001b[0m 1627\n",
            "\n",
            "--------------------------------------------------\n",
            "Iteration 49\n",
            "Train on 45000 samples, validate on 5000 samples\n",
            "45000/45000 [==============================] - 4s 99us/sample - loss: 0.1059 - accuracy: 0.9632 - val_loss: 0.1153 - val_accuracy: 0.9582\n",
            "Q 7+61    T 68   \u001b[92m☑\u001b[0m 68  \n",
            "Q 1+134   T 135  \u001b[92m☑\u001b[0m 135 \n",
            "Q 92+584  T 676  \u001b[92m☑\u001b[0m 676 \n",
            "Q 57+58   T 115  \u001b[92m☑\u001b[0m 115 \n",
            "Q 2+658   T 660  \u001b[92m☑\u001b[0m 660 \n",
            "Q 268+830 T 1098 \u001b[92m☑\u001b[0m 1098\n",
            "Q 840+94  T 934  \u001b[92m☑\u001b[0m 934 \n",
            "Q 69+160  T 229  \u001b[92m☑\u001b[0m 229 \n",
            "Q 62+6    T 68   \u001b[92m☑\u001b[0m 68  \n",
            "Q 618+8   T 626  \u001b[91m☒\u001b[0m 625 \n",
            "CPU times: user 5min 37s, sys: 30.6 s, total: 6min 8s\n",
            "Wall time: 3min 54s\n"
          ],
          "name": "stdout"
        }
      ]
    },
    {
      "metadata": {
        "id": "7apd-uAFjVHY",
        "colab_type": "code",
        "outputId": "598d5c59-f42b-4a8f-8461-57ab3743924b",
        "colab": {
          "base_uri": "https://localhost:8080/",
          "height": 300
        }
      },
      "cell_type": "code",
      "source": [
        "import matplotlib.pyplot as plt\n",
        "\n",
        "plt.ylabel('loss')\n",
        "plt.xlabel('epoch')\n",
        "plt.yscale('log')\n",
        "\n",
        "plt.plot(merged_losses['loss'])\n",
        "plt.plot(merged_losses['val_loss'])\n",
        "\n",
        "plt.legend(['loss', 'validation loss'])"
      ],
      "execution_count": 25,
      "outputs": [
        {
          "output_type": "execute_result",
          "data": {
            "text/plain": [
              "<matplotlib.legend.Legend at 0x7f2c5d49d780>"
            ]
          },
          "metadata": {
            "tags": []
          },
          "execution_count": 25
        },
        {
          "output_type": "display_data",
          "data": {
            "image/png": "[encoded data removed]",
            "text/plain": [
              "<Figure size 432x288 with 1 Axes>"
            ]
          },
          "metadata": {
            "tags": []
          }
        }
      ]
    },
    {
      "metadata": {
        "id": "bxojIpIhngkT",
        "colab_type": "code",
        "colab": {
          "base_uri": "https://localhost:8080/",
          "height": 300
        },
        "outputId": "93b4bbe4-a286-45fe-ade3-e08d54fa1fbe"
      },
      "cell_type": "code",
      "source": [
        "plt.ylabel('accuracy')\n",
        "plt.xlabel('epoch')\n",
        "# plt.yscale('log')\n",
        "\n",
        "plt.plot(merged_losses['accuracy'])\n",
        "plt.plot(merged_losses['val_accuracy'])\n",
        "\n",
        "plt.legend(['accuracy', 'validation accuracy'])"
      ],
      "execution_count": 27,
      "outputs": [
        {
          "output_type": "execute_result",
          "data": {
            "text/plain": [
              "<matplotlib.legend.Legend at 0x7f2c5d2759e8>"
            ]
          },
          "metadata": {
            "tags": []
          },
          "execution_count": 27
        },
        {
          "output_type": "display_data",
          "data": {
            "image/png": "[encoded data removed]",
            "text/plain": [
              "<Figure size 432x288 with 1 Axes>"
            ]
          },
          "metadata": {
            "tags": []
          }
        }
      ]
    },
    {
      "metadata": {
        "id": "b2_zvW8OTX9h",
        "colab_type": "code",
        "colab": {}
      },
      "cell_type": "code",
      "source": [
        ""
      ],
      "execution_count": 0,
      "outputs": []
    }
  ]
}