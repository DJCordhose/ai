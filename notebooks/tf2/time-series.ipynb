{
  "nbformat": 4,
  "nbformat_minor": 0,
  "metadata": {
    "colab": {
      "name": "time-series.ipynb",
      "version": "0.3.2",
      "provenance": [],
      "collapsed_sections": [],
      "toc_visible": true,
      "include_colab_link": true
    },
    "kernelspec": {
      "name": "python3",
      "display_name": "Python 3"
    }
  },
  "cells": [
    {
      "cell_type": "markdown",
      "metadata": {
        "id": "view-in-github",
        "colab_type": "text"
      },
      "source": [
        "<a href=\"https://colab.research.google.com/github/DJCordhose/ai/blob/master/notebooks/tf2/time-series.ipynb\" target=\"_parent\"><img src=\"https://colab.research.google.com/assets/colab-badge.svg\" alt=\"Open In Colab\"/></a>"
      ]
    },
    {
      "metadata": {
        "id": "t0SNZ3gZDa36",
        "colab_type": "text"
      },
      "cell_type": "markdown",
      "source": [
        "# Time Series / Sequences\n",
        "\n",
        "Example, some code and a lot of inspiration taken from: https://machinelearningmastery.com/how-to-develop-lstm-models-for-time-series-forecasting/\n"
      ]
    },
    {
      "metadata": {
        "id": "NLf1M-3w7G7W",
        "colab_type": "code",
        "colab": {
          "base_uri": "https://localhost:8080/",
          "height": 119
        },
        "outputId": "43946703-77f8-440b-8ec2-c90d744fdb96"
      },
      "cell_type": "code",
      "source": [
        "!pip install -q tf-nightly-gpu-2.0-preview"
      ],
      "execution_count": 1,
      "outputs": [
        {
          "output_type": "stream",
          "text": [
            "\u001b[K     |████████████████████████████████| 346.4MB 56kB/s \n",
            "\u001b[K     |████████████████████████████████| 430kB 43.9MB/s \n",
            "\u001b[K     |████████████████████████████████| 3.1MB 35.8MB/s \n",
            "\u001b[K     |████████████████████████████████| 61kB 24.1MB/s \n",
            "\u001b[?25h  Building wheel for wrapt (setup.py) ... \u001b[?25l\u001b[?25hdone\n",
            "\u001b[31mERROR: thinc 6.12.1 has requirement wrapt<1.11.0,>=1.10.0, but you'll have wrapt 1.11.1 which is incompatible.\u001b[0m\n"
          ],
          "name": "stdout"
        }
      ]
    },
    {
      "metadata": {
        "id": "3wt0_gCS7HkM",
        "colab_type": "code",
        "colab": {
          "base_uri": "https://localhost:8080/",
          "height": 34
        },
        "outputId": "ed99b780-9c43-455d-bbea-0c7e5cd4ee42"
      },
      "cell_type": "code",
      "source": [
        "import tensorflow as tf\n",
        "print(tf.__version__)"
      ],
      "execution_count": 2,
      "outputs": [
        {
          "output_type": "stream",
          "text": [
            "2.0.0-dev20190502\n"
          ],
          "name": "stdout"
        }
      ]
    },
    {
      "metadata": {
        "id": "qg63cDunD4s4",
        "colab_type": "text"
      },
      "cell_type": "markdown",
      "source": [
        "## Univariate Sequences\n",
        "\n",
        "just one variable per time step\n",
        "\n",
        "### Challenge\n",
        "\n",
        "We have a known series of events, possibly in time and you want to know what is the next event. Like this\n",
        "\n",
        "[10, 20, 30, 40, 50, 60, 70, 80, 90]"
      ]
    },
    {
      "metadata": {
        "id": "RB7EfRrWDJE0",
        "colab_type": "code",
        "colab": {}
      },
      "cell_type": "code",
      "source": [
        "# univariate data preparation\n",
        "import numpy as np\n",
        "\n",
        "# split a univariate sequence into samples\n",
        "def split_sequence(sequence, n_steps):\n",
        "\tX, y = list(), list()\n",
        "\tfor i in range(len(sequence)):\n",
        "\t\t# find the end of this pattern\n",
        "\t\tend_ix = i + n_steps\n",
        "\t\t# check if we are beyond the sequence\n",
        "\t\tif end_ix > len(sequence)-1:\n",
        "\t\t\tbreak\n",
        "\t\t# gather input and output parts of the pattern\n",
        "\t\tseq_x, seq_y = sequence[i:end_ix], sequence[end_ix]\n",
        "\t\tX.append(seq_x)\n",
        "\t\ty.append(seq_y)\n",
        "\treturn np.array(X), np.array(y)"
      ],
      "execution_count": 0,
      "outputs": []
    },
    {
      "metadata": {
        "id": "PSbObY6YEWhh",
        "colab_type": "code",
        "outputId": "c2cc2663-95a7-468b-ddfd-b5a5120dd67d",
        "colab": {
          "base_uri": "https://localhost:8080/",
          "height": 119
        }
      },
      "cell_type": "code",
      "source": [
        "# define input sequence\n",
        "raw_seq = [10, 20, 30, 40, 50, 60, 70, 80, 90]\n",
        "\n",
        "# choose a number of time steps\n",
        "n_steps = 3\n",
        "\n",
        "# split into samples\n",
        "X, y = split_sequence(raw_seq, n_steps)\n",
        "\n",
        "# summarize the data\n",
        "list(zip(X, y))"
      ],
      "execution_count": 4,
      "outputs": [
        {
          "output_type": "execute_result",
          "data": {
            "text/plain": [
              "[(array([10, 20, 30]), 40),\n",
              " (array([20, 30, 40]), 50),\n",
              " (array([30, 40, 50]), 60),\n",
              " (array([40, 50, 60]), 70),\n",
              " (array([50, 60, 70]), 80),\n",
              " (array([60, 70, 80]), 90)]"
            ]
          },
          "metadata": {
            "tags": []
          },
          "execution_count": 4
        }
      ]
    },
    {
      "metadata": {
        "id": "yqgEV0kyF8Q6",
        "colab_type": "code",
        "outputId": "5cb1e5e9-4f43-4df1-c619-1244425f0480",
        "colab": {
          "base_uri": "https://localhost:8080/",
          "height": 119
        }
      },
      "cell_type": "code",
      "source": [
        "X"
      ],
      "execution_count": 5,
      "outputs": [
        {
          "output_type": "execute_result",
          "data": {
            "text/plain": [
              "array([[10, 20, 30],\n",
              "       [20, 30, 40],\n",
              "       [30, 40, 50],\n",
              "       [40, 50, 60],\n",
              "       [50, 60, 70],\n",
              "       [60, 70, 80]])"
            ]
          },
          "metadata": {
            "tags": []
          },
          "execution_count": 5
        }
      ]
    },
    {
      "metadata": {
        "id": "oOLHQ0m8Hld-",
        "colab_type": "text"
      },
      "cell_type": "markdown",
      "source": [
        "### Converting shapes\n",
        "\n",
        "* one of the most frequent, yet most tedious steps\n",
        "* match between what you have and what an interface needs\n",
        "* expected input of RNN: 3D tensor featureswith shape (samples, timesteps, input_dim)\n",
        "* we have: (samples, timesteps)\n",
        "* reshape on np arrays can do all that"
      ]
    },
    {
      "metadata": {
        "id": "HUpCkSRqFzZK",
        "colab_type": "code",
        "outputId": "eb2e25c7-208d-48a9-d4c6-83b8ae8f027a",
        "colab": {
          "base_uri": "https://localhost:8080/",
          "height": 408
        }
      },
      "cell_type": "code",
      "source": [
        "# reshape from [samples, timesteps] into [samples, timesteps, features]\n",
        "n_features = 1\n",
        "X = X.reshape((X.shape[0], X.shape[1], n_features))\n",
        "X"
      ],
      "execution_count": 6,
      "outputs": [
        {
          "output_type": "execute_result",
          "data": {
            "text/plain": [
              "array([[[10],\n",
              "        [20],\n",
              "        [30]],\n",
              "\n",
              "       [[20],\n",
              "        [30],\n",
              "        [40]],\n",
              "\n",
              "       [[30],\n",
              "        [40],\n",
              "        [50]],\n",
              "\n",
              "       [[40],\n",
              "        [50],\n",
              "        [60]],\n",
              "\n",
              "       [[50],\n",
              "        [60],\n",
              "        [70]],\n",
              "\n",
              "       [[60],\n",
              "        [70],\n",
              "        [80]]])"
            ]
          },
          "metadata": {
            "tags": []
          },
          "execution_count": 6
        }
      ]
    },
    {
      "metadata": {
        "id": "UCAbYYgLDmzh",
        "colab_type": "code",
        "colab": {}
      },
      "cell_type": "code",
      "source": [
        "import tensorflow as tf\n",
        "from tensorflow import keras\n",
        "from tensorflow.keras.layers import Dense, LSTM, GRU, SimpleRNN, Bidirectional\n",
        "from tensorflow.keras.models import Sequential, Model\n",
        "\n",
        "model = Sequential()\n",
        "model.add(SimpleRNN(units=50, activation='relu', input_shape=(n_steps, n_features), name=\"RNN_Input\"))\n",
        "model.add(Dense(units=1, name=\"Linear_Output\"))\n",
        "model.compile(optimizer='adam', loss='mse')"
      ],
      "execution_count": 0,
      "outputs": []
    },
    {
      "metadata": {
        "id": "Yo1GD73MFfwW",
        "colab_type": "code",
        "outputId": "ecabe733-5b88-4577-a8b4-a8d978655a2c",
        "colab": {
          "base_uri": "https://localhost:8080/",
          "height": 51
        }
      },
      "cell_type": "code",
      "source": [
        "EPOCHS = 500\n",
        "\n",
        "%time history = model.fit(X, y, epochs=EPOCHS, verbose=0)"
      ],
      "execution_count": 15,
      "outputs": [
        {
          "output_type": "stream",
          "text": [
            "CPU times: user 2.22 s, sys: 189 ms, total: 2.41 s\n",
            "Wall time: 1.93 s\n"
          ],
          "name": "stdout"
        }
      ]
    },
    {
      "metadata": {
        "id": "PVbZtfFo78Ml",
        "colab_type": "code",
        "colab": {
          "base_uri": "https://localhost:8080/",
          "height": 51
        },
        "outputId": "38cce0f0-33ad-4abc-ea41-a55bd45086e4"
      },
      "cell_type": "code",
      "source": [
        "loss = model.evaluate(X, y)\n",
        "loss"
      ],
      "execution_count": 16,
      "outputs": [
        {
          "output_type": "stream",
          "text": [
            "\r6/6 [==============================] - 0s 8ms/sample - loss: 0.0013\n"
          ],
          "name": "stdout"
        },
        {
          "output_type": "execute_result",
          "data": {
            "text/plain": [
              "0.0013315972173586488"
            ]
          },
          "metadata": {
            "tags": []
          },
          "execution_count": 16
        }
      ]
    },
    {
      "metadata": {
        "id": "raJ0DsbqGZET",
        "colab_type": "code",
        "outputId": "7262b02c-6f56-493a-8e4c-3b2cf2732220",
        "colab": {
          "base_uri": "https://localhost:8080/",
          "height": 300
        }
      },
      "cell_type": "code",
      "source": [
        "import matplotlib.pyplot as plt\n",
        "\n",
        "plt.yscale('log')\n",
        "plt.ylabel(\"loss\")\n",
        "plt.xlabel(\"epochs\")\n",
        "\n",
        "plt.plot(history.history['loss'])"
      ],
      "execution_count": 17,
      "outputs": [
        {
          "output_type": "execute_result",
          "data": {
            "text/plain": [
              "[<matplotlib.lines.Line2D at 0x7fbddb453ac8>]"
            ]
          },
          "metadata": {
            "tags": []
          },
          "execution_count": 17
        },
        {
          "output_type": "display_data",
          "data": {
            "image/png": "[encoded data removed]",
            "text/plain": [
              "<Figure size 432x288 with 1 Axes>"
            ]
          },
          "metadata": {
            "tags": []
          }
        }
      ]
    },
    {
      "metadata": {
        "id": "2ryB1sVmGwok",
        "colab_type": "code",
        "outputId": "5f1efc2b-2a53-4a98-c766-bc25ddc1b1dd",
        "colab": {
          "base_uri": "https://localhost:8080/",
          "height": 136
        }
      },
      "cell_type": "code",
      "source": [
        "# this does not look too bad\n",
        "X_sample = np.array([[10, 20, 30], [70, 80, 90]])\n",
        "X_sample = X_sample.reshape((X_sample.shape[0], X_sample.shape[1], n_features))\n",
        "X_sample"
      ],
      "execution_count": 18,
      "outputs": [
        {
          "output_type": "execute_result",
          "data": {
            "text/plain": [
              "array([[[10],\n",
              "        [20],\n",
              "        [30]],\n",
              "\n",
              "       [[70],\n",
              "        [80],\n",
              "        [90]]])"
            ]
          },
          "metadata": {
            "tags": []
          },
          "execution_count": 18
        }
      ]
    },
    {
      "metadata": {
        "id": "5mzPZ_OzIXR0",
        "colab_type": "code",
        "outputId": "297d7176-1da8-4a36-f49b-acf186d7d264",
        "colab": {
          "base_uri": "https://localhost:8080/",
          "height": 51
        }
      },
      "cell_type": "code",
      "source": [
        "y_pred = model.predict(X_sample)\n",
        "y_pred"
      ],
      "execution_count": 19,
      "outputs": [
        {
          "output_type": "execute_result",
          "data": {
            "text/plain": [
              "array([[ 39.92145],\n",
              "       [100.26933]], dtype=float32)"
            ]
          },
          "metadata": {
            "tags": []
          },
          "execution_count": 19
        }
      ]
    },
    {
      "metadata": {
        "id": "EXBe7ud3PLS-",
        "colab_type": "code",
        "colab": {}
      },
      "cell_type": "code",
      "source": [
        "def predict(model, samples, n_features=1):\n",
        "  input = np.array(samples)\n",
        "  input = input.reshape((input.shape[0], input.shape[1], n_features))\n",
        "  y_pred = model.predict(input)\n",
        "  return y_pred"
      ],
      "execution_count": 0,
      "outputs": []
    },
    {
      "metadata": {
        "id": "V4kWLPaNLMf0",
        "colab_type": "code",
        "outputId": "74dec45a-3822-42fd-dc8a-762328cb9597",
        "colab": {
          "base_uri": "https://localhost:8080/",
          "height": 68
        }
      },
      "cell_type": "code",
      "source": [
        "# do not look too close, though\n",
        "predict(model, [[100, 110, 120], [200, 210, 220], [200, 300, 400]])"
      ],
      "execution_count": 21,
      "outputs": [
        {
          "output_type": "execute_result",
          "data": {
            "text/plain": [
              "array([[131.38614],\n",
              "       [235.33505],\n",
              "       [478.7933 ]], dtype=float32)"
            ]
          },
          "metadata": {
            "tags": []
          },
          "execution_count": 21
        }
      ]
    },
    {
      "metadata": {
        "id": "bRq8b8KjJbDH",
        "colab_type": "text"
      },
      "cell_type": "markdown",
      "source": [
        "### Input and output of an RNN layer"
      ]
    },
    {
      "metadata": {
        "id": "OKsUslnrJg-N",
        "colab_type": "code",
        "outputId": "56d26853-a458-48b4-8881-5488f16fbffc",
        "colab": {
          "base_uri": "https://localhost:8080/",
          "height": 204
        }
      },
      "cell_type": "code",
      "source": [
        "# https://keras.io/layers/recurrent/\n",
        "# input: (samples, timesteps, input_dim)\n",
        "# output: (samples, units)\n",
        "\n",
        "# let's have a look at the actual output for an example\n",
        "rnn_layer = model.get_layer(\"RNN_Input\")\n",
        "model_stub = Model(inputs = model.input, outputs = rnn_layer.output)\n",
        "hidden = predict(model_stub, [[10, 20, 30]])\n",
        "hidden"
      ],
      "execution_count": 22,
      "outputs": [
        {
          "output_type": "execute_result",
          "data": {
            "text/plain": [
              "array([[ 0.        ,  8.914725  ,  0.        ,  6.6223903 ,  0.        ,\n",
              "         0.        , 13.717172  ,  0.        ,  0.        ,  3.6797295 ,\n",
              "         7.718167  ,  0.        , 12.330741  , 14.235772  ,  0.        ,\n",
              "         0.        , 10.540234  ,  0.        ,  4.2248764 ,  0.        ,\n",
              "         0.        , 18.461843  , 12.176587  ,  0.        ,  0.        ,\n",
              "         8.216896  ,  0.        ,  0.        ,  0.        , 18.876797  ,\n",
              "         0.        , 13.914774  , 11.406943  ,  0.        ,  0.        ,\n",
              "         0.        , 15.846443  ,  7.6130967 ,  9.40387   ,  0.        ,\n",
              "        19.461048  ,  0.02111149,  9.895727  , 10.7871475 ,  3.546275  ,\n",
              "         0.        ,  0.        , 12.707142  ,  0.        ,  0.        ]],\n",
              "      dtype=float32)"
            ]
          },
          "metadata": {
            "tags": []
          },
          "execution_count": 22
        }
      ]
    },
    {
      "metadata": {
        "id": "M8LfywO1JyRF",
        "colab_type": "text"
      },
      "cell_type": "markdown",
      "source": [
        "#### What do we see?\n",
        "* each unit (50) has a single output\n",
        "* as a sidenote you nicely see the RELU nature of the output\n",
        "* so the timesteps are lost\n",
        "* we are only looking at the final output\n",
        "* still with each timestep, the layer does produce a unique output we can use"
      ]
    },
    {
      "metadata": {
        "id": "OenC414DbKGh",
        "colab_type": "text"
      },
      "cell_type": "markdown",
      "source": [
        "### We need to look into RNNs a bit more deeply now\n",
        "\n",
        "#### RNNs - Networks with Loops\n",
        "<img src='https://djcordhose.github.io/ai/img/nlp/colah/RNN-rolled.png' height=200>\n",
        "\n",
        "http://colah.github.io/posts/2015-08-Understanding-LSTMs/\n",
        "#### Unrolling the loop\n",
        "<img src='https://djcordhose.github.io/ai/img/nlp/colah/RNN-unrolled.png'>\n",
        "\n",
        "http://colah.github.io/posts/2015-08-Understanding-LSTMs/\n",
        "#### Simple RNN internals\n",
        "\n",
        "<img src='https://djcordhose.github.io/ai/img/nlp/fchollet_rnn.png'>\n",
        "\n",
        "##  $output_t = \\tanh(W input_t + U output_{t-1} + b)$\n",
        "\n",
        "From Deep Learning with Python, Chapter 6, François Chollet, Manning: https://livebook.manning.com/#!/book/deep-learning-with-python/chapter-6/129\n",
        "\n",
        "#### Activation functions\n",
        "\n",
        "<img src='https://djcordhose.github.io/ai/img/sigmoid-activation.png' height=200>\n",
        "\n",
        "Sigmoid compressing between 0 and 1\n",
        "\n",
        "<img src='https://djcordhose.github.io/ai/img/tanh-activation.png' height=200>\n",
        "\n",
        "Hyperbolic tangent, like sigmoind, but compressing between -1 and 1, thus allowing for negative values as well"
      ]
    }
  ]
}